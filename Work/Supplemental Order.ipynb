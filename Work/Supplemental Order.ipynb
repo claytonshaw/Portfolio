{
 "cells": [
  {
   "cell_type": "code",
   "execution_count": 57,
   "metadata": {},
   "outputs": [],
   "source": [
    "import pandas as pd\n",
    "import numpy as np"
   ]
  },
  {
   "cell_type": "code",
   "execution_count": 58,
   "metadata": {},
   "outputs": [],
   "source": [
    "store_inventory = pd.read_csv('Supplemental Order Store Data.csv')\n",
    "forecast = pd.read_csv('Supplemental Order Forecast Data.csv')\n",
    "available_inventory = pd.read_csv('Available Inventory.csv')"
   ]
  },
  {
   "cell_type": "markdown",
   "metadata": {},
   "source": [
    "## Calculating Total Pipeline"
   ]
  },
  {
   "cell_type": "code",
   "execution_count": 59,
   "metadata": {},
   "outputs": [],
   "source": [
    "store_inventory['store_in_transit_quantity_this_year'] = pd.to_numeric(store_inventory['store_in_transit_quantity_this_year'], errors='coerce').fillna(0)\n",
    "store_inventory['store_in_warehouse_quantity_this_year'] = pd.to_numeric(store_inventory['store_in_warehouse_quantity_this_year'], errors='coerce').fillna(0)\n",
    "store_inventory['store_on_hand_quantity_this_year'] = pd.to_numeric(store_inventory['store_on_hand_quantity_this_year'], errors='coerce').fillna(0)\n",
    "store_inventory['store_on_order_quantity_this_year'] = pd.to_numeric(store_inventory['store_on_order_quantity_this_year'], errors='coerce').fillna(0)\n",
    "\n",
    "# Now create the 'total_pipeline' column\n",
    "store_inventory['total_pipeline'] = (\n",
    "    store_inventory['store_in_transit_quantity_this_year'] + \n",
    "    store_inventory['store_in_warehouse_quantity_this_year'] + \n",
    "    store_inventory['store_on_hand_quantity_this_year'] + \n",
    "    store_inventory['store_on_order_quantity_this_year']\n",
    ")"
   ]
  },
  {
   "cell_type": "markdown",
   "metadata": {},
   "source": [
    "## Calculating Needed Quantity"
   ]
  },
  {
   "cell_type": "code",
   "execution_count": 61,
   "metadata": {},
   "outputs": [],
   "source": [
    "# Initialize an empty list to store the data\n",
    "data = []\n",
    "\n",
    "# getting unique list of items\n",
    "items = store_inventory['vendor_stock_id'].unique()\n",
    "\n",
    "for item in items:\n",
    "    all_links_item_number = store_inventory[store_inventory['vendor_stock_id'] == item]['all_links_item_number'].values[0]\n",
    "\n",
    "    # filtering the list of stores once we select the item\n",
    "    inventory_filtered_item = store_inventory[store_inventory['vendor_stock_id'] == item]\n",
    "\n",
    "    # sorting the stores based on the total pipeline ascending\n",
    "    inventory_filtered_item = inventory_filtered_item.sort_values(by='total_pipeline', ascending=True)\n",
    "\n",
    "    # getting the unique list of stores\n",
    "    stores = inventory_filtered_item['store_number'].unique()\n",
    "\n",
    "    total_shipped = 0\n",
    "    for store in stores:\n",
    "        # getting the total pipeline and vendor pack quantity for the selected variables\n",
    "        inventory_filtered = inventory_filtered_item[inventory_filtered_item['store_number'] == store]\n",
    "        total_pipeline = inventory_filtered['total_pipeline'].values[0]\n",
    "        vendor_pack_quantity = inventory_filtered['vendor_pack_quantity'].values[0]\n",
    "        max_shelf_quantity = inventory_filtered['max_shelf_quantity_this_year'].values[0]\n",
    "        store_on_hand_quantity = inventory_filtered['store_on_hand_quantity_this_year'].values[0]\n",
    "\n",
    "        # getting the forecasted quantity for the selected variables\n",
    "        forecast_filtered = forecast[(forecast['vendor_stock_id'] == item) & (forecast['store_nbr'] == store)]\n",
    "        if not forecast_filtered.empty:\n",
    "            forecasted_quantity = forecast_filtered['final_fcst_each_qty'].values[0]\n",
    "        else:\n",
    "            forecasted_quantity = 0  # Handle the case when no forecast is available\n",
    "\n",
    "        # calculating the needed quantity for the item and store\n",
    "        needed_quantity = total_pipeline - forecasted_quantity\n",
    "        #max_shelf_minus_pipeline = max_shelf_quantity - total_pipeline\n",
    "        if needed_quantity > 0:\n",
    "            needed_quantity = 0\n",
    "        else:\n",
    "            needed_quantity = abs(needed_quantity)\n",
    "            whse_packs_needed = np.ceil(needed_quantity / vendor_pack_quantity)\n",
    "            needed_quantity = whse_packs_needed * vendor_pack_quantity\n",
    "            #needed_quantity = needed_quantity - max_shelf_quantity\n",
    "            if needed_quantity > max_shelf_quantity:\n",
    "                needed_quantity = np.ceil(max_shelf_quantity / vendor_pack_quantity)\n",
    "            else:\n",
    "                #needed_quantity = needed_quantity\n",
    "                needed_quantity = np.ceil(needed_quantity / vendor_pack_quantity)\n",
    "\n",
    "        # Append the result to the list, including all_links_item_number\n",
    "        data.append({\n",
    "            'Item': item,\n",
    "            'Store': store,\n",
    "            'Needed Quantity': needed_quantity,\n",
    "            'All Links Item Number': all_links_item_number\n",
    "        })\n",
    "# Convert the list of dictionaries into a DataFrame\n",
    "needed_quantity_df = pd.DataFrame(data)\n",
    "\n",
    "# remove zeros\n",
    "needed_quantity_df = needed_quantity_df[needed_quantity_df['Needed Quantity'] > 0]"
   ]
  },
  {
   "cell_type": "markdown",
   "metadata": {},
   "source": [
    "## Sorting by Item and then Needed Quantity\n",
    "\n",
    "This ensures that we send to the stores that need it most first."
   ]
  },
  {
   "cell_type": "code",
   "execution_count": 62,
   "metadata": {},
   "outputs": [
    {
     "data": {
      "text/html": [
       "<div>\n",
       "<style scoped>\n",
       "    .dataframe tbody tr th:only-of-type {\n",
       "        vertical-align: middle;\n",
       "    }\n",
       "\n",
       "    .dataframe tbody tr th {\n",
       "        vertical-align: top;\n",
       "    }\n",
       "\n",
       "    .dataframe thead th {\n",
       "        text-align: right;\n",
       "    }\n",
       "</style>\n",
       "<table border=\"1\" class=\"dataframe\">\n",
       "  <thead>\n",
       "    <tr style=\"text-align: right;\">\n",
       "      <th></th>\n",
       "      <th>Item</th>\n",
       "      <th>Store</th>\n",
       "      <th>Needed Quantity</th>\n",
       "    </tr>\n",
       "    <tr>\n",
       "      <th>All Links Item Number</th>\n",
       "      <th></th>\n",
       "      <th></th>\n",
       "      <th></th>\n",
       "    </tr>\n",
       "  </thead>\n",
       "  <tbody>\n",
       "    <tr>\n",
       "      <th>585320691</th>\n",
       "      <td>646503</td>\n",
       "      <td>280809</td>\n",
       "      <td>122.0</td>\n",
       "    </tr>\n",
       "    <tr>\n",
       "      <th>597319350</th>\n",
       "      <td>343525</td>\n",
       "      <td>157238</td>\n",
       "      <td>65.0</td>\n",
       "    </tr>\n",
       "    <tr>\n",
       "      <th>659879048</th>\n",
       "      <td>1352448</td>\n",
       "      <td>1381140</td>\n",
       "      <td>903.0</td>\n",
       "    </tr>\n",
       "    <tr>\n",
       "      <th>663269028</th>\n",
       "      <td>1605786</td>\n",
       "      <td>1565045</td>\n",
       "      <td>836.0</td>\n",
       "    </tr>\n",
       "    <tr>\n",
       "      <th>663269050</th>\n",
       "      <td>1467075</td>\n",
       "      <td>1494468</td>\n",
       "      <td>952.0</td>\n",
       "    </tr>\n",
       "    <tr>\n",
       "      <th>663398046</th>\n",
       "      <td>3261013</td>\n",
       "      <td>3366958</td>\n",
       "      <td>2060.0</td>\n",
       "    </tr>\n",
       "  </tbody>\n",
       "</table>\n",
       "</div>"
      ],
      "text/plain": [
       "                          Item    Store  Needed Quantity\n",
       "All Links Item Number                                   \n",
       "585320691               646503   280809            122.0\n",
       "597319350               343525   157238             65.0\n",
       "659879048              1352448  1381140            903.0\n",
       "663269028              1605786  1565045            836.0\n",
       "663269050              1467075  1494468            952.0\n",
       "663398046              3261013  3366958           2060.0"
      ]
     },
     "execution_count": 62,
     "metadata": {},
     "output_type": "execute_result"
    }
   ],
   "source": [
    "# sort the dataframe based on item then needed quantity\n",
    "needed_quantity_df = needed_quantity_df.sort_values(by=['All Links Item Number', 'Needed Quantity'], ascending=[True, False])\n",
    "\n",
    "# SUM THE NEEDED QUANTITY FOR EACH ITEM\n",
    "total_quantity_needed = needed_quantity_df.groupby(['All Links Item Number']).sum()\n",
    "total_quantity_needed"
   ]
  },
  {
   "cell_type": "markdown",
   "metadata": {},
   "source": [
    "## Calculating the Fullfilled Amount"
   ]
  },
  {
   "cell_type": "code",
   "execution_count": 64,
   "metadata": {},
   "outputs": [
    {
     "name": "stdout",
     "output_type": "stream",
     "text": [
      "5343:[0.]\n",
      "5285:[1292.]\n",
      "2304:[-1.]\n",
      "2249:[-1.]\n",
      "2325:[17.]\n",
      "2341:[0.]\n"
     ]
    }
   ],
   "source": [
    "# Function to handle the row-by-row subtraction\n",
    "def subtract_needed_quantity_by_item(needed_quantity_df, available_inventory):\n",
    "    # Loop through each unique item in the needed_quantity_df\n",
    "    for item in needed_quantity_df['Item'].unique():\n",
    "        # Get the total available value for the item from available_inventory\n",
    "        available_quantity = available_inventory.loc[available_inventory['Item'] == str(item), 'Available - split '].values\n",
    "        print(f\"{item}:{available_quantity}\")\n",
    "        # If the item is in available_inventory\n",
    "        if available_quantity.size > 0:\n",
    "            available_quantity = available_quantity[0]  # Get the available quantity for the item\n",
    "        else:\n",
    "            available_quantity = 0  # If the item is not found, set available quantity to 0\n",
    "        # Loop through the rows of needed_quantity_df for this item\n",
    "        for idx, row in needed_quantity_df[needed_quantity_df['Item'] == item].iterrows():\n",
    "            needed_qty = row['Needed Quantity']\n",
    "            \n",
    "            # Check if we have enough in the total available quantity to subtract the needed quantity\n",
    "            if available_quantity >= needed_qty:\n",
    "                # If enough, subtract the needed quantity from available_quantity\n",
    "                available_quantity -= needed_qty\n",
    "                needed_quantity_df.at[idx, 'Fulfilled Quantity'] = needed_qty  # Mark fully fulfilled\n",
    "            else:\n",
    "                # If not enough, fulfill what is available and set available_quantity to 0\n",
    "                needed_quantity_df.at[idx, 'Fulfilled Quantity'] = available_quantity  # Fulfill partially\n",
    "                available_quantity = 0  # Set available_quantity to 0 after using it up\n",
    "            \n",
    "            # If available_quantity is exhausted, break the loop\n",
    "            if available_quantity == 0:\n",
    "                break\n",
    "    \n",
    "    return needed_quantity_df\n",
    "\n",
    "# Apply the function to subtract from available inventory based on needed quantity\n",
    "fulfilled_df = subtract_needed_quantity_by_item(needed_quantity_df, available_inventory)\n",
    "\n",
    "# Add Remaining Quantity column\n",
    "fulfilled_df['Remaining Quantity'] = fulfilled_df['Needed Quantity'] - fulfilled_df['Fulfilled Quantity']"
   ]
  },
  {
   "cell_type": "markdown",
   "metadata": {},
   "source": [
    "## Finalizing the Dataset"
   ]
  },
  {
   "cell_type": "code",
   "execution_count": 65,
   "metadata": {},
   "outputs": [],
   "source": [
    "# drop the rows with greater than 0 remaining quantity\n",
    "fulfilled_df = fulfilled_df[fulfilled_df['Fulfilled Quantity'] > 0]"
   ]
  },
  {
   "cell_type": "markdown",
   "metadata": {},
   "source": [
    "## Overview of the Need and Fulfilled Quantity"
   ]
  },
  {
   "cell_type": "code",
   "execution_count": 67,
   "metadata": {},
   "outputs": [
    {
     "data": {
      "text/html": [
       "<div>\n",
       "<style scoped>\n",
       "    .dataframe tbody tr th:only-of-type {\n",
       "        vertical-align: middle;\n",
       "    }\n",
       "\n",
       "    .dataframe tbody tr th {\n",
       "        vertical-align: top;\n",
       "    }\n",
       "\n",
       "    .dataframe thead th {\n",
       "        text-align: right;\n",
       "    }\n",
       "</style>\n",
       "<table border=\"1\" class=\"dataframe\">\n",
       "  <thead>\n",
       "    <tr style=\"text-align: right;\">\n",
       "      <th></th>\n",
       "      <th>Needed Quantity</th>\n",
       "      <th>Fulfilled Quantity</th>\n",
       "    </tr>\n",
       "    <tr>\n",
       "      <th>Item</th>\n",
       "      <th></th>\n",
       "      <th></th>\n",
       "    </tr>\n",
       "  </thead>\n",
       "  <tbody>\n",
       "    <tr>\n",
       "      <th>2325</th>\n",
       "      <td>19.0</td>\n",
       "      <td>17.0</td>\n",
       "    </tr>\n",
       "    <tr>\n",
       "      <th>5285</th>\n",
       "      <td>65.0</td>\n",
       "      <td>65.0</td>\n",
       "    </tr>\n",
       "  </tbody>\n",
       "</table>\n",
       "</div>"
      ],
      "text/plain": [
       "      Needed Quantity  Fulfilled Quantity\n",
       "Item                                     \n",
       "2325             19.0                17.0\n",
       "5285             65.0                65.0"
      ]
     },
     "execution_count": 67,
     "metadata": {},
     "output_type": "execute_result"
    }
   ],
   "source": [
    "total_fulfilled_quantity = fulfilled_df.groupby(['Item']).sum()\n",
    "total_fulfilled_quantity = total_fulfilled_quantity.drop(columns=['Store','All Links Item Number','Remaining Quantity'])\n",
    "total_fulfilled_quantity"
   ]
  },
  {
   "cell_type": "markdown",
   "metadata": {},
   "source": [
    "## Exporting the Data as a CSV"
   ]
  },
  {
   "cell_type": "code",
   "execution_count": 68,
   "metadata": {},
   "outputs": [],
   "source": [
    "# drop the columns that are not needed\n",
    "fulfilled_df = fulfilled_df.drop(columns=['Needed Quantity','Remaining Quantity'])\n",
    "fulfilled_df\n",
    "\n",
    "fulfilled_df.to_csv('suppy.csv', index=False)"
   ]
  }
 ],
 "metadata": {
  "kernelspec": {
   "display_name": "Python 3",
   "language": "python",
   "name": "python3"
  },
  "language_info": {
   "codemirror_mode": {
    "name": "ipython",
    "version": 3
   },
   "file_extension": ".py",
   "mimetype": "text/x-python",
   "name": "python",
   "nbconvert_exporter": "python",
   "pygments_lexer": "ipython3",
   "version": "3.11.9"
  }
 },
 "nbformat": 4,
 "nbformat_minor": 2
}
