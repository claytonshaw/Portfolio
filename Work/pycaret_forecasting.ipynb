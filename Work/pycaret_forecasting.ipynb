{
 "cells": [
  {
   "cell_type": "markdown",
   "metadata": {},
   "source": [
    "## Variable Selection"
   ]
  },
  {
   "cell_type": "code",
   "execution_count": 137,
   "metadata": {},
   "outputs": [
    {
     "name": "stdout",
     "output_type": "stream",
     "text": [
      "Growth Rate: 1.0\n"
     ]
    }
   ],
   "source": [
    "import pandas as pd\n",
    "import numpy as np\n",
    "import matplotlib.pyplot as plt\n",
    "\n",
    "# select item (use item 2 if it switched model numbers but is same item)\n",
    "item = '4100'\n",
    "item2 = None\n",
    "\n",
    "store_count_change = 0 # percentage increase in store count\n",
    "growth_rate = 1 + (store_count_change / 100) # converts to a percentage\n",
    "\n",
    "# this changes the length dropped off for the benchmarks\n",
    "forecast_length = 4\n",
    "\n",
    "# this changes the array in the pycaret if you do the arange it will do a point forecast at the future time\n",
    "#forecast_lenth_array = np.arange(forecast_length, forecast_length+1)\n",
    "forecast_lenth_array = forecast_length\n",
    "print(\"Growth Rate:\", growth_rate)"
   ]
  },
  {
   "cell_type": "markdown",
   "metadata": {},
   "source": [
    "## Data"
   ]
  },
  {
   "cell_type": "code",
   "execution_count": 138,
   "metadata": {},
   "outputs": [],
   "source": [
    "df = pd.read_csv('Items Shipped by Item by Month.csv')"
   ]
  },
  {
   "cell_type": "code",
   "execution_count": 139,
   "metadata": {},
   "outputs": [
    {
     "data": {
      "text/html": [
       "<div>\n",
       "<style scoped>\n",
       "    .dataframe tbody tr th:only-of-type {\n",
       "        vertical-align: middle;\n",
       "    }\n",
       "\n",
       "    .dataframe tbody tr th {\n",
       "        vertical-align: top;\n",
       "    }\n",
       "\n",
       "    .dataframe thead th {\n",
       "        text-align: right;\n",
       "    }\n",
       "</style>\n",
       "<table border=\"1\" class=\"dataframe\">\n",
       "  <thead>\n",
       "    <tr style=\"text-align: right;\">\n",
       "      <th></th>\n",
       "      <th>Date</th>\n",
       "      <th>Item</th>\n",
       "      <th>Item Description</th>\n",
       "      <th>Product Group</th>\n",
       "      <th>Parent Product Group</th>\n",
       "      <th>Quantity</th>\n",
       "      <th>Amount</th>\n",
       "    </tr>\n",
       "  </thead>\n",
       "  <tbody>\n",
       "    <tr>\n",
       "      <th>0</th>\n",
       "      <td>2024-Oct</td>\n",
       "      <td>8003</td>\n",
       "      <td>E-Series 22in Electric Tabletop Griddle w/Cart...</td>\n",
       "      <td>E-Griddles</td>\n",
       "      <td>Cooking Unit</td>\n",
       "      <td>120.0</td>\n",
       "      <td>17404.80</td>\n",
       "    </tr>\n",
       "    <tr>\n",
       "      <th>1</th>\n",
       "      <td>2024-Oct</td>\n",
       "      <td>1868</td>\n",
       "      <td>36\" Griddle AirFryer</td>\n",
       "      <td>Griddles</td>\n",
       "      <td>Cooking Unit</td>\n",
       "      <td>72.0</td>\n",
       "      <td>21793.16</td>\n",
       "    </tr>\n",
       "    <tr>\n",
       "      <th>2</th>\n",
       "      <td>2024-Oct</td>\n",
       "      <td>1785</td>\n",
       "      <td>28\" AirFryer Combo</td>\n",
       "      <td>Griddles</td>\n",
       "      <td>Cooking Unit</td>\n",
       "      <td>42.0</td>\n",
       "      <td>9032.56</td>\n",
       "    </tr>\n",
       "    <tr>\n",
       "      <th>3</th>\n",
       "      <td>2024-Oct</td>\n",
       "      <td>2379</td>\n",
       "      <td>Tabletop Pizza Oven-Walmart 2024</td>\n",
       "      <td>Pizza Oven</td>\n",
       "      <td>Cooking Unit</td>\n",
       "      <td>1404.0</td>\n",
       "      <td>122360.56</td>\n",
       "    </tr>\n",
       "    <tr>\n",
       "      <th>4</th>\n",
       "      <td>2024-Oct</td>\n",
       "      <td>2379</td>\n",
       "      <td>Tabletop Pizza Oven-Walmart 2024</td>\n",
       "      <td>Pizza Oven</td>\n",
       "      <td>Cooking Unit</td>\n",
       "      <td>3544.0</td>\n",
       "      <td>308864.56</td>\n",
       "    </tr>\n",
       "  </tbody>\n",
       "</table>\n",
       "</div>"
      ],
      "text/plain": [
       "       Date  Item                                   Item Description  \\\n",
       "0  2024-Oct  8003  E-Series 22in Electric Tabletop Griddle w/Cart...   \n",
       "1  2024-Oct  1868                               36\" Griddle AirFryer   \n",
       "2  2024-Oct  1785                                 28\" AirFryer Combo   \n",
       "3  2024-Oct  2379                   Tabletop Pizza Oven-Walmart 2024   \n",
       "4  2024-Oct  2379                   Tabletop Pizza Oven-Walmart 2024   \n",
       "\n",
       "  Product Group Parent Product Group  Quantity     Amount  \n",
       "0    E-Griddles         Cooking Unit     120.0   17404.80  \n",
       "1      Griddles         Cooking Unit      72.0   21793.16  \n",
       "2      Griddles         Cooking Unit      42.0    9032.56  \n",
       "3    Pizza Oven         Cooking Unit    1404.0  122360.56  \n",
       "4    Pizza Oven         Cooking Unit    3544.0  308864.56  "
      ]
     },
     "execution_count": 139,
     "metadata": {},
     "output_type": "execute_result"
    }
   ],
   "source": [
    "df.head()"
   ]
  },
  {
   "cell_type": "markdown",
   "metadata": {},
   "source": [
    "## Data Formatting"
   ]
  },
  {
   "cell_type": "code",
   "execution_count": 140,
   "metadata": {},
   "outputs": [
    {
     "name": "stdout",
     "output_type": "stream",
     "text": [
      "<class 'pandas.core.frame.DataFrame'>\n",
      "RangeIndex: 33926 entries, 0 to 33925\n",
      "Data columns (total 7 columns):\n",
      " #   Column                Non-Null Count  Dtype  \n",
      "---  ------                --------------  -----  \n",
      " 0   Date                  33926 non-null  object \n",
      " 1   Item                  33926 non-null  object \n",
      " 2   Item Description      33775 non-null  object \n",
      " 3   Product Group         33667 non-null  object \n",
      " 4   Parent Product Group  33926 non-null  object \n",
      " 5   Quantity              33910 non-null  float64\n",
      " 6   Amount                33926 non-null  float64\n",
      "dtypes: float64(2), object(5)\n",
      "memory usage: 1.8+ MB\n"
     ]
    }
   ],
   "source": [
    "df.info()"
   ]
  },
  {
   "cell_type": "code",
   "execution_count": 141,
   "metadata": {},
   "outputs": [
    {
     "data": {
      "text/html": [
       "<div>\n",
       "<style scoped>\n",
       "    .dataframe tbody tr th:only-of-type {\n",
       "        vertical-align: middle;\n",
       "    }\n",
       "\n",
       "    .dataframe tbody tr th {\n",
       "        vertical-align: top;\n",
       "    }\n",
       "\n",
       "    .dataframe thead th {\n",
       "        text-align: right;\n",
       "    }\n",
       "</style>\n",
       "<table border=\"1\" class=\"dataframe\">\n",
       "  <thead>\n",
       "    <tr style=\"text-align: right;\">\n",
       "      <th></th>\n",
       "      <th>Date</th>\n",
       "      <th>Quantity</th>\n",
       "    </tr>\n",
       "  </thead>\n",
       "  <tbody>\n",
       "    <tr>\n",
       "      <th>55</th>\n",
       "      <td>2024-08-31</td>\n",
       "      <td>7980.0</td>\n",
       "    </tr>\n",
       "  </tbody>\n",
       "</table>\n",
       "</div>"
      ],
      "text/plain": [
       "         Date  Quantity\n",
       "55 2024-08-31    7980.0"
      ]
     },
     "execution_count": 141,
     "metadata": {},
     "output_type": "execute_result"
    }
   ],
   "source": [
    "df['Date'] = pd.to_datetime(df['Date'])\n",
    "\n",
    "if item2:\n",
    "    df_item = df[(df['Item'] == item) | (df['Item'] == item2)]\n",
    "else:\n",
    "    df_item = df[df['Item'] == item]\n",
    "\n",
    "df_item = df_item.groupby(['Date'])['Quantity'].sum().reset_index().sort_values(by=['Date'], ascending=True)\n",
    "\n",
    "df_item = df_item.resample('M', on='Date').sum().reset_index()\n",
    "df_item = df_item[:-1] # drop the last month if in start or middle of month\n",
    "\n",
    "df_item.tail(1)"
   ]
  },
  {
   "cell_type": "code",
   "execution_count": 142,
   "metadata": {},
   "outputs": [
    {
     "data": {
      "image/png": "[encoded data removed]",
      "text/plain": [
       "<Figure size 1400x400 with 1 Axes>"
      ]
     },
     "metadata": {},
     "output_type": "display_data"
    }
   ],
   "source": [
    "# Plot the time series data\n",
    "df_item.plot(x='Date', y='Quantity', figsize=(14,4))\n",
    "unchanged_df = df_item.copy() # saving a copy of the data set to then plot forecasts with original data"
   ]
  },
  {
   "cell_type": "markdown",
   "metadata": {},
   "source": [
    "## Data Transformation"
   ]
  },
  {
   "cell_type": "markdown",
   "metadata": {},
   "source": [
    "### Box Cox Transformation"
   ]
  },
  {
   "cell_type": "code",
   "execution_count": 85,
   "metadata": {},
   "outputs": [],
   "source": [
    "from scipy.stats import boxcox"
   ]
  },
  {
   "cell_type": "code",
   "execution_count": 86,
   "metadata": {},
   "outputs": [
    {
     "name": "stdout",
     "output_type": "stream",
     "text": [
      "        Date                                               Item  Quantity  \\\n",
      "0 2020-01-31  1528154316901820183218331845185618581859186318...  261018.0   \n",
      "1 2020-02-29  1528152915421543169018191820183218331845185618...  561684.0   \n",
      "2 2020-03-31  1528152915421543181918201832183318361845185618...  343213.0   \n",
      "3 2020-04-30  1528152915421543182018321833184518561858185918...  431748.0   \n",
      "4 2020-05-31  1528152915421543182018321833184518561858185918...  605313.0   \n",
      "\n",
      "   boxcox_units  \n",
      "0     98.205102  \n",
      "1    121.079709  \n",
      "2    105.850673  \n",
      "3    112.699702  \n",
      "4    123.570629  \n",
      "The optimal lambda for Box-Cox transformation is: 0.264045191243468\n"
     ]
    },
    {
     "data": {
      "image/png": "[encoded data removed]",
      "text/plain": [
       "<Figure size 1400x400 with 1 Axes>"
      ]
     },
     "metadata": {},
     "output_type": "display_data"
    }
   ],
   "source": [
    "# Apply Box-Cox transformation to find the optimal lambda\n",
    "try:\n",
    "    df_item['boxcox_units'] , optimal_lambda = boxcox(df_item.Quantity)\n",
    "except ValueError: \n",
    "    df_item['Quantity'] = df_item['Quantity'] + 1\n",
    "    df_item['boxcox_units'] , optimal_lambda = boxcox(df_item.Quantity)\n",
    "\n",
    "print(df_item.head())\n",
    "box_cox_df = df_item.copy()\n",
    "\n",
    "# Plot the transformed data with optimal lambda\n",
    "df_item.plot(x='Date', y='boxcox_units', figsize=(14,4))\n",
    "\n",
    "# Print the optimal lambda\n",
    "print(f'The optimal lambda for Box-Cox transformation is: {optimal_lambda}')"
   ]
  },
  {
   "cell_type": "markdown",
   "metadata": {},
   "source": [
    "### ACF and PACF"
   ]
  },
  {
   "cell_type": "code",
   "execution_count": 87,
   "metadata": {},
   "outputs": [],
   "source": [
    "from statsmodels.graphics.tsaplots import plot_acf, plot_pacf"
   ]
  },
  {
   "cell_type": "code",
   "execution_count": 88,
   "metadata": {},
   "outputs": [
    {
     "data": {
      "image/png": "[encoded data removed]",
      "text/plain": [
       "<Figure size 800x550 with 2 Axes>"
      ]
     },
     "metadata": {},
     "output_type": "display_data"
    }
   ],
   "source": [
    "# Plot ACF and PACF for the original airline passenger data\n",
    "plt.figure()\n",
    "plt.subplot(211)\n",
    "plot_acf(df_item['Quantity'], ax=plt.gca(), zero=False)\n",
    "plt.subplot(212)\n",
    "plot_pacf(df_item['Quantity'], ax=plt.gca(), zero=False)\n",
    "plt.tight_layout()\n",
    "plt.show()"
   ]
  },
  {
   "cell_type": "markdown",
   "metadata": {},
   "source": [
    "### Stationarity"
   ]
  },
  {
   "cell_type": "code",
   "execution_count": 89,
   "metadata": {},
   "outputs": [],
   "source": [
    "from statsmodels.tsa.stattools import adfuller"
   ]
  },
  {
   "cell_type": "code",
   "execution_count": 90,
   "metadata": {},
   "outputs": [
    {
     "name": "stdout",
     "output_type": "stream",
     "text": [
      "Augmented Dickey-Fuller Test: Box-Cox Data\n",
      "ADF Test Statistic             -3.895937\n",
      "p-value                         0.002065\n",
      "# Lags Used                     0.000000\n",
      "Number of Observations Used    56.000000\n",
      "Critical Value (1%)            -3.552928\n",
      "Critical Value (5%)            -2.914731\n",
      "Critical Value (10%)           -2.595137\n",
      "=> The series is stationary.\n"
     ]
    },
    {
     "data": {
      "text/plain": [
       "<Axes: xlabel='Date'>"
      ]
     },
     "execution_count": 90,
     "metadata": {},
     "output_type": "execute_result"
    },
    {
     "data": {
      "image/png": "[encoded data removed]",
      "text/plain": [
       "<Figure size 1400x400 with 1 Axes>"
      ]
     },
     "metadata": {},
     "output_type": "display_data"
    }
   ],
   "source": [
    "# Function to perform ADF test\n",
    "def adf_test(series, title=''):\n",
    "    \"\"\"\n",
    "    Pass in a time series and an optional title, returns an ADF report\n",
    "    \"\"\"\n",
    "    print(f'Augmented Dickey-Fuller Test: {title}')\n",
    "    result = adfuller(series.dropna(), autolag='AIC')\n",
    "    labels = ['ADF Test Statistic', 'p-value', '# Lags Used', 'Number of Observations Used']\n",
    "    out = pd.Series(result[0:4], index=labels)\n",
    "    for key, value in result[4].items():\n",
    "        out[f'Critical Value ({key})'] = value\n",
    "    print(out.to_string())\n",
    "    if result[1] <= 0.05:\n",
    "        print(\"=> The series is stationary.\")\n",
    "    else:\n",
    "        print(\"=> The series is non-stationary.\")\n",
    "    return result[1]\n",
    "\n",
    "# Apply the ADF test to the transformed data\n",
    "p_value = adf_test(df_item['boxcox_units'], title='Box-Cox Data')\n",
    "\n",
    "df_item.plot(x='Date',y='boxcox_units', figsize=(14,4))"
   ]
  },
  {
   "cell_type": "markdown",
   "metadata": {},
   "source": [
    "#### Differencing Data"
   ]
  },
  {
   "cell_type": "code",
   "execution_count": 91,
   "metadata": {},
   "outputs": [
    {
     "name": "stdout",
     "output_type": "stream",
     "text": [
      "Augmented Dickey-Fuller Test: boxcox quantity- Differenced\n",
      "ADF Test Statistic             -4.731965\n",
      "p-value                         0.000073\n",
      "# Lags Used                     8.000000\n",
      "Number of Observations Used    47.000000\n",
      "Critical Value (1%)            -3.577848\n",
      "Critical Value (5%)            -2.925338\n",
      "Critical Value (10%)           -2.600774\n",
      "=> The series is stationary.\n"
     ]
    },
    {
     "data": {
      "text/plain": [
       "<Axes: xlabel='Date'>"
      ]
     },
     "execution_count": 91,
     "metadata": {},
     "output_type": "execute_result"
    },
    {
     "data": {
      "image/png": "[encoded data removed]",
      "text/plain": [
       "<Figure size 1400x400 with 1 Axes>"
      ]
     },
     "metadata": {},
     "output_type": "display_data"
    }
   ],
   "source": [
    "# differencing the data\n",
    "df_item['boxcox_quantity_diff'] = df_item['boxcox_units'].diff()\n",
    "\n",
    "# Perform ADF test on differenced data\n",
    "adf_test(df_item['boxcox_quantity_diff'].dropna(), title='boxcox quantity- Differenced')\n",
    "\n",
    "# Plot the differenced data\n",
    "df_item.plot(x='Date', y='boxcox_quantity_diff', figsize=(14,4))"
   ]
  },
  {
   "cell_type": "code",
   "execution_count": 92,
   "metadata": {},
   "outputs": [
    {
     "data": {
      "text/html": [
       "<div>\n",
       "<style scoped>\n",
       "    .dataframe tbody tr th:only-of-type {\n",
       "        vertical-align: middle;\n",
       "    }\n",
       "\n",
       "    .dataframe tbody tr th {\n",
       "        vertical-align: top;\n",
       "    }\n",
       "\n",
       "    .dataframe thead th {\n",
       "        text-align: right;\n",
       "    }\n",
       "</style>\n",
       "<table border=\"1\" class=\"dataframe\">\n",
       "  <thead>\n",
       "    <tr style=\"text-align: right;\">\n",
       "      <th></th>\n",
       "      <th>Item</th>\n",
       "      <th>boxcox_units</th>\n",
       "    </tr>\n",
       "    <tr>\n",
       "      <th>Date</th>\n",
       "      <th></th>\n",
       "      <th></th>\n",
       "    </tr>\n",
       "  </thead>\n",
       "  <tbody>\n",
       "    <tr>\n",
       "      <th>2024-05-31</th>\n",
       "      <td>1528152917851868202021272137217722492295230423...</td>\n",
       "      <td>145.654767</td>\n",
       "    </tr>\n",
       "    <tr>\n",
       "      <th>2024-06-30</th>\n",
       "      <td>1528152917851868202021272137217722492295230423...</td>\n",
       "      <td>123.295359</td>\n",
       "    </tr>\n",
       "    <tr>\n",
       "      <th>2024-07-31</th>\n",
       "      <td>1528152917851868224923252370237941004104410641...</td>\n",
       "      <td>123.905343</td>\n",
       "    </tr>\n",
       "    <tr>\n",
       "      <th>2024-08-31</th>\n",
       "      <td>1529178518682249230423252341237023794100410441...</td>\n",
       "      <td>108.273226</td>\n",
       "    </tr>\n",
       "    <tr>\n",
       "      <th>2024-09-30</th>\n",
       "      <td>1529178518682020217722492304232523412370237941...</td>\n",
       "      <td>103.853070</td>\n",
       "    </tr>\n",
       "  </tbody>\n",
       "</table>\n",
       "</div>"
      ],
      "text/plain": [
       "                                                         Item  boxcox_units\n",
       "Date                                                                       \n",
       "2024-05-31  1528152917851868202021272137217722492295230423...    145.654767\n",
       "2024-06-30  1528152917851868202021272137217722492295230423...    123.295359\n",
       "2024-07-31  1528152917851868224923252370237941004104410641...    123.905343\n",
       "2024-08-31  1529178518682249230423252341237023794100410441...    108.273226\n",
       "2024-09-30  1529178518682020217722492304232523412370237941...    103.853070"
      ]
     },
     "execution_count": 92,
     "metadata": {},
     "output_type": "execute_result"
    }
   ],
   "source": [
    "df_item = df_item.set_index('Date')\n",
    "\n",
    "# if stationary use boxcox_units if not stationary use boxcox_quantity_diff\n",
    "if p_value < 0.05:\n",
    "    target = 'boxcox_units'\n",
    "    drop_column = 'boxcox_quantity_diff'\n",
    "else:\n",
    "    target = 'boxcox_quantity_diff'\n",
    "    drop_column = 'boxcox_units'\n",
    "\n",
    "df_item = df_item.drop(columns=[drop_column,'Quantity'])\n",
    "\n",
    "df_item.tail()"
   ]
  },
  {
   "cell_type": "markdown",
   "metadata": {},
   "source": [
    "## Benchmarking"
   ]
  },
  {
   "cell_type": "markdown",
   "metadata": {},
   "source": [
    "#### Train and Test Data"
   ]
  },
  {
   "cell_type": "code",
   "execution_count": 48,
   "metadata": {},
   "outputs": [
    {
     "data": {
      "image/png": "[encoded data removed]",
      "text/plain": [
       "<Figure size 1400x400 with 1 Axes>"
      ]
     },
     "metadata": {},
     "output_type": "display_data"
    }
   ],
   "source": [
    "# Split the data\n",
    "train = df_item[[target]][:-forecast_length]\n",
    "test = df_item[[target]][-forecast_length:]\n",
    "\n",
    "# Visualize the train and test data\n",
    "plt.figure(figsize=(14, 4))\n",
    "plt.plot(train.index, train, label='Train')\n",
    "plt.plot(test.index, test, label='Test')\n",
    "plt.title(f'Train-Test Split: {item}')\n",
    "plt.xlabel('Date')\n",
    "plt.ylabel('Number of Passengers')\n",
    "plt.legend()\n",
    "plt.show()"
   ]
  },
  {
   "cell_type": "markdown",
   "metadata": {},
   "source": [
    "### Function to generate benchmarks"
   ]
  },
  {
   "cell_type": "code",
   "execution_count": 49,
   "metadata": {},
   "outputs": [],
   "source": [
    "from sklearn.metrics import mean_squared_error, mean_absolute_error, r2_score\n",
    "\n",
    "# Create forecasts using different methods\n",
    "def forecast_methods(train, test, season_length=12):\n",
    "    y_hat = test.copy()\n",
    "    \n",
    "    # Naive Forecast\n",
    "    y_hat['naive'] = train.iloc[-1][target]\n",
    "    \n",
    "    # Seasonal Naive Forecast\n",
    "    y_hat['snaive'] = np.tile(train[target].values[-season_length:], len(test) // season_length + 1)[:len(test)]\n",
    "    \n",
    "    # Mean Forecast\n",
    "    y_hat['mean'] = train[target].mean()\n",
    "    \n",
    "    # Drift Forecast\n",
    "    drift = (train[target].iloc[-1] - train[target].iloc[0]) / (len(train) - 1)\n",
    "    y_hat['drift'] = train[target].iloc[-1] + (np.arange(1, len(test) + 1) * drift)\n",
    "    \n",
    "    # One Step Ahead Naive Forecast\n",
    "    y_hat['naive_one_step'] = test[target].shift(1)\n",
    "    \n",
    "    return y_hat"
   ]
  },
  {
   "cell_type": "markdown",
   "metadata": {},
   "source": [
    "### Functions to Calculate Forecast Accuracy Metrics"
   ]
  },
  {
   "cell_type": "code",
   "execution_count": 50,
   "metadata": {},
   "outputs": [],
   "source": [
    "# RMSE, sMAPE, MASE, RMSSE, MAE, MAPE, R2 calculation functions\n",
    "def smape(y_true, y_pred):\n",
    "    return 100 / len(y_true) * np.sum(2 * np.abs(y_pred - y_true) / (np.abs(y_true) + np.abs(y_pred)))\n",
    "\n",
    "def mase(y_true, y_pred, train):\n",
    "    mae_naive = np.mean(np.abs(train[target].diff().dropna()))\n",
    "    return np.mean(np.abs(y_true - y_pred)) / mae_naive\n",
    "\n",
    "def rmsse(y_true, y_pred, train):\n",
    "    mse_naive = np.mean(train[target].diff().dropna() ** 2)\n",
    "    return np.sqrt(mean_squared_error(y_true, y_pred) / mse_naive)\n",
    "\n",
    "def mape(y_true, y_pred):\n",
    "    return 100 * np.mean(np.abs((y_true - y_pred) / y_true))"
   ]
  },
  {
   "cell_type": "code",
   "execution_count": 51,
   "metadata": {},
   "outputs": [
    {
     "name": "stdout",
     "output_type": "stream",
     "text": [
      "Naive Forecast - MASE: 3.39, RMSSE: 3.28, MAE: 19.44, RMSE: 23.72, MAPE: 69.36%, sMAPE: 43.83%, R2: -1.34\n",
      "Snaive Forecast - MASE: 1.80, RMSSE: 1.64, MAE: 10.33, RMSE: 11.88, MAPE: 32.60%, sMAPE: 26.72%, R2: 0.41\n",
      "Mean Forecast - MASE: 2.54, RMSSE: 2.24, MAE: 14.60, RMSE: 16.20, MAPE: 46.24%, sMAPE: 36.26%, R2: -0.09\n",
      "Drift Forecast - MASE: 3.56, RMSSE: 3.46, MAE: 20.41, RMSE: 24.98, MAPE: 72.95%, sMAPE: 45.21%, R2: -1.60\n",
      "Best Benchmark Method: Snaive with RMSE: 11.88\n"
     ]
    },
    {
     "data": {
      "image/png": "[encoded data removed]",
      "text/plain": [
       "<Figure size 1400x400 with 1 Axes>"
      ]
     },
     "metadata": {},
     "output_type": "display_data"
    }
   ],
   "source": [
    "# Generate forecasts\n",
    "y_hat = forecast_methods(train, test)\n",
    "\n",
    "# Calculate and display forecasting scores\n",
    "actual = test[target]\n",
    "\n",
    "# Drop NaN values in 'naive_one_step'\n",
    "y_hat['naive_one_step'] = y_hat['naive_one_step'].fillna(method='bfill')\n",
    "\n",
    "forecast_scores = {}\n",
    "for method in ['naive', 'snaive', 'mean', 'drift']:\n",
    "    mase_value = mase(actual, y_hat[method], train)\n",
    "    rmsse_value = rmsse(actual, y_hat[method], train)\n",
    "    mae = mean_absolute_error(actual, y_hat[method])\n",
    "    rmse = np.sqrt(mean_squared_error(actual, y_hat[method]))\n",
    "    mape_value = mape(actual, y_hat[method])\n",
    "    smape_value = smape(actual, y_hat[method])\n",
    "    r2 = r2_score(actual, y_hat[method])\n",
    "    \n",
    "    forecast_scores[method] = {\n",
    "        'MASE': mase_value,\n",
    "        'RMSSE': rmsse_value,\n",
    "        'MAE': mae,\n",
    "        'RMSE': rmse,\n",
    "        'MAPE': mape_value,\n",
    "        'sMAPE': smape_value,\n",
    "        'R2': r2\n",
    "    }\n",
    "    print(f\"{method.capitalize()} Forecast - MASE: {mase_value:.2f}, RMSSE: {rmsse_value:.2f}, MAE: {mae:.2f}, RMSE: {rmse:.2f}, MAPE: {mape_value:.2f}%, sMAPE: {smape_value:.2f}%, R2: {r2:.2f}\")\n",
    "\n",
    "# Find the best forecast method based on RMSE (can change to other metrics if needed)\n",
    "best_method = min(forecast_scores, key=lambda x: forecast_scores[x]['RMSE'])\n",
    "best_benchmark = y_hat[best_method]\n",
    "print(f\"Best Benchmark Method: {best_method.capitalize()} with RMSE: {forecast_scores[best_method]['RMSE']:.2f}\")\n",
    "\n",
    "# Predict into the future using the best benchmark\n",
    "future_periods = forecast_length  # Define how many future periods to predict\n",
    "future_index = pd.date_range(start=test.index[-1] + pd.DateOffset(months=1), periods=future_periods, freq='M')\n",
    "future_forecast = pd.Series(index=future_index, dtype=float)\n",
    "\n",
    "if best_method == 'naive':\n",
    "    future_forecast[:] = train.iloc[-1][target]\n",
    "elif best_method == 'snaive':\n",
    "    future_forecast[:] = np.tile(train[target].values[-forecast_length:], len(future_forecast) // forecast_length + 1)[:len(future_forecast)]\n",
    "elif best_method == 'mean':\n",
    "    future_forecast[:] = train[target].mean()\n",
    "elif best_method == 'drift':\n",
    "    drift = (train[target].iloc[-1] - train[target].iloc[0]) / (len(train) - 1)\n",
    "    future_forecast[:] = train[target].iloc[-1] + (np.arange(1, len(future_forecast) + 1) * drift)\n",
    "# elif best_method == 'naive_one_step':\n",
    "#     future_forecast[:] = test[target].iloc[-1]\n",
    "\n",
    "# Visualization\n",
    "plt.figure(figsize=(14, 4))\n",
    "plt.plot(train.index, train[target], label='Train')\n",
    "plt.plot(test.index, test[target], label='Test', color='grey')\n",
    "plt.plot(y_hat.index, y_hat['naive'], label='Naive Forecast', color='red', linestyle='--')\n",
    "plt.plot(y_hat.index, y_hat['snaive'], label='Seasonal Naive Forecast', color='green', linestyle='--')\n",
    "plt.plot(y_hat.index, y_hat['mean'], label='Mean Forecast', color='orange', linestyle='--')\n",
    "plt.plot(y_hat.index, y_hat['drift'], label='Drift Forecast', color='purple', linestyle='--')\n",
    "plt.plot(y_hat.index, y_hat['naive_one_step'], label='One Step Ahead Naive Forecast', color='blue', linestyle='--')\n",
    "\n",
    "plt.title('Forecasting Benchmarks: Naive, Seasonal-Naive, Mean, Drift, One Step Ahead')\n",
    "plt.xlabel('Month')\n",
    "plt.ylabel('Quantity')\n",
    "plt.legend(loc='upper left')\n",
    "plt.show()"
   ]
  },
  {
   "cell_type": "markdown",
   "metadata": {},
   "source": [
    "I've plotted the one step ahead forecast but it isn't in the comparison of the best benchmark because i'm not doing a one step ahead forecast in pycaret. "
   ]
  },
  {
   "cell_type": "code",
   "execution_count": null,
   "metadata": {},
   "outputs": [],
   "source": []
  },
  {
   "cell_type": "code",
   "execution_count": 52,
   "metadata": {},
   "outputs": [
    {
     "data": {
      "text/plain": [
       "2024-11-30    52.823353\n",
       "2024-12-31    58.266663\n",
       "2025-01-31    61.384078\n",
       "2025-02-28    59.239525\n",
       "Freq: M, dtype: float64"
      ]
     },
     "execution_count": 52,
     "metadata": {},
     "output_type": "execute_result"
    }
   ],
   "source": [
    "future_forecast"
   ]
  },
  {
   "cell_type": "markdown",
   "metadata": {},
   "source": [
    "## Pycaret Forecast"
   ]
  },
  {
   "cell_type": "code",
   "execution_count": 53,
   "metadata": {},
   "outputs": [],
   "source": [
    "from pycaret.time_series import *"
   ]
  },
  {
   "cell_type": "code",
   "execution_count": 54,
   "metadata": {},
   "outputs": [
    {
     "name": "stdout",
     "output_type": "stream",
     "text": [
      "<class 'pandas.core.frame.DataFrame'>\n",
      "DatetimeIndex: 58 entries, 2020-01-31 to 2024-10-31\n",
      "Data columns (total 1 columns):\n",
      " #   Column        Non-Null Count  Dtype  \n",
      "---  ------        --------------  -----  \n",
      " 0   boxcox_units  58 non-null     float64\n",
      "dtypes: float64(1)\n",
      "memory usage: 928.0 bytes\n"
     ]
    }
   ],
   "source": [
    "df_item.info()"
   ]
  },
  {
   "cell_type": "markdown",
   "metadata": {},
   "source": [
    "#### Setting up experiment"
   ]
  },
  {
   "cell_type": "code",
   "execution_count": 55,
   "metadata": {},
   "outputs": [
    {
     "data": {
      "text/html": [
       "<style type=\"text/css\">\n",
       "#T_18234_row31_col1 {\n",
       "  background-color: lightgreen;\n",
       "}\n",
       "</style>\n",
       "<table id=\"T_18234\">\n",
       "  <thead>\n",
       "    <tr>\n",
       "      <th class=\"blank level0\" >&nbsp;</th>\n",
       "      <th id=\"T_18234_level0_col0\" class=\"col_heading level0 col0\" >Description</th>\n",
       "      <th id=\"T_18234_level0_col1\" class=\"col_heading level0 col1\" >Value</th>\n",
       "    </tr>\n",
       "  </thead>\n",
       "  <tbody>\n",
       "    <tr>\n",
       "      <th id=\"T_18234_level0_row0\" class=\"row_heading level0 row0\" >0</th>\n",
       "      <td id=\"T_18234_row0_col0\" class=\"data row0 col0\" >session_id</td>\n",
       "      <td id=\"T_18234_row0_col1\" class=\"data row0 col1\" >799</td>\n",
       "    </tr>\n",
       "    <tr>\n",
       "      <th id=\"T_18234_level0_row1\" class=\"row_heading level0 row1\" >1</th>\n",
       "      <td id=\"T_18234_row1_col0\" class=\"data row1 col0\" >Target</td>\n",
       "      <td id=\"T_18234_row1_col1\" class=\"data row1 col1\" >boxcox_units</td>\n",
       "    </tr>\n",
       "    <tr>\n",
       "      <th id=\"T_18234_level0_row2\" class=\"row_heading level0 row2\" >2</th>\n",
       "      <td id=\"T_18234_row2_col0\" class=\"data row2 col0\" >Approach</td>\n",
       "      <td id=\"T_18234_row2_col1\" class=\"data row2 col1\" >Univariate</td>\n",
       "    </tr>\n",
       "    <tr>\n",
       "      <th id=\"T_18234_level0_row3\" class=\"row_heading level0 row3\" >3</th>\n",
       "      <td id=\"T_18234_row3_col0\" class=\"data row3 col0\" >Exogenous Variables</td>\n",
       "      <td id=\"T_18234_row3_col1\" class=\"data row3 col1\" >Not Present</td>\n",
       "    </tr>\n",
       "    <tr>\n",
       "      <th id=\"T_18234_level0_row4\" class=\"row_heading level0 row4\" >4</th>\n",
       "      <td id=\"T_18234_row4_col0\" class=\"data row4 col0\" >Original data shape</td>\n",
       "      <td id=\"T_18234_row4_col1\" class=\"data row4 col1\" >(58, 1)</td>\n",
       "    </tr>\n",
       "    <tr>\n",
       "      <th id=\"T_18234_level0_row5\" class=\"row_heading level0 row5\" >5</th>\n",
       "      <td id=\"T_18234_row5_col0\" class=\"data row5 col0\" >Transformed data shape</td>\n",
       "      <td id=\"T_18234_row5_col1\" class=\"data row5 col1\" >(58, 1)</td>\n",
       "    </tr>\n",
       "    <tr>\n",
       "      <th id=\"T_18234_level0_row6\" class=\"row_heading level0 row6\" >6</th>\n",
       "      <td id=\"T_18234_row6_col0\" class=\"data row6 col0\" >Transformed train set shape</td>\n",
       "      <td id=\"T_18234_row6_col1\" class=\"data row6 col1\" >(54, 1)</td>\n",
       "    </tr>\n",
       "    <tr>\n",
       "      <th id=\"T_18234_level0_row7\" class=\"row_heading level0 row7\" >7</th>\n",
       "      <td id=\"T_18234_row7_col0\" class=\"data row7 col0\" >Transformed test set shape</td>\n",
       "      <td id=\"T_18234_row7_col1\" class=\"data row7 col1\" >(4, 1)</td>\n",
       "    </tr>\n",
       "    <tr>\n",
       "      <th id=\"T_18234_level0_row8\" class=\"row_heading level0 row8\" >8</th>\n",
       "      <td id=\"T_18234_row8_col0\" class=\"data row8 col0\" >Rows with missing values</td>\n",
       "      <td id=\"T_18234_row8_col1\" class=\"data row8 col1\" >0.0%</td>\n",
       "    </tr>\n",
       "    <tr>\n",
       "      <th id=\"T_18234_level0_row9\" class=\"row_heading level0 row9\" >9</th>\n",
       "      <td id=\"T_18234_row9_col0\" class=\"data row9 col0\" >Fold Generator</td>\n",
       "      <td id=\"T_18234_row9_col1\" class=\"data row9 col1\" >ExpandingWindowSplitter</td>\n",
       "    </tr>\n",
       "    <tr>\n",
       "      <th id=\"T_18234_level0_row10\" class=\"row_heading level0 row10\" >10</th>\n",
       "      <td id=\"T_18234_row10_col0\" class=\"data row10 col0\" >Fold Number</td>\n",
       "      <td id=\"T_18234_row10_col1\" class=\"data row10 col1\" >3</td>\n",
       "    </tr>\n",
       "    <tr>\n",
       "      <th id=\"T_18234_level0_row11\" class=\"row_heading level0 row11\" >11</th>\n",
       "      <td id=\"T_18234_row11_col0\" class=\"data row11 col0\" >Enforce Prediction Interval</td>\n",
       "      <td id=\"T_18234_row11_col1\" class=\"data row11 col1\" >False</td>\n",
       "    </tr>\n",
       "    <tr>\n",
       "      <th id=\"T_18234_level0_row12\" class=\"row_heading level0 row12\" >12</th>\n",
       "      <td id=\"T_18234_row12_col0\" class=\"data row12 col0\" >Splits used for hyperparameters</td>\n",
       "      <td id=\"T_18234_row12_col1\" class=\"data row12 col1\" >all</td>\n",
       "    </tr>\n",
       "    <tr>\n",
       "      <th id=\"T_18234_level0_row13\" class=\"row_heading level0 row13\" >13</th>\n",
       "      <td id=\"T_18234_row13_col0\" class=\"data row13 col0\" >User Defined Seasonal Period(s)</td>\n",
       "      <td id=\"T_18234_row13_col1\" class=\"data row13 col1\" >None</td>\n",
       "    </tr>\n",
       "    <tr>\n",
       "      <th id=\"T_18234_level0_row14\" class=\"row_heading level0 row14\" >14</th>\n",
       "      <td id=\"T_18234_row14_col0\" class=\"data row14 col0\" >Ignore Seasonality Test</td>\n",
       "      <td id=\"T_18234_row14_col1\" class=\"data row14 col1\" >False</td>\n",
       "    </tr>\n",
       "    <tr>\n",
       "      <th id=\"T_18234_level0_row15\" class=\"row_heading level0 row15\" >15</th>\n",
       "      <td id=\"T_18234_row15_col0\" class=\"data row15 col0\" >Seasonality Detection Algo</td>\n",
       "      <td id=\"T_18234_row15_col1\" class=\"data row15 col1\" >auto</td>\n",
       "    </tr>\n",
       "    <tr>\n",
       "      <th id=\"T_18234_level0_row16\" class=\"row_heading level0 row16\" >16</th>\n",
       "      <td id=\"T_18234_row16_col0\" class=\"data row16 col0\" >Max Period to Consider</td>\n",
       "      <td id=\"T_18234_row16_col1\" class=\"data row16 col1\" >60</td>\n",
       "    </tr>\n",
       "    <tr>\n",
       "      <th id=\"T_18234_level0_row17\" class=\"row_heading level0 row17\" >17</th>\n",
       "      <td id=\"T_18234_row17_col0\" class=\"data row17 col0\" >Seasonal Period(s) Tested</td>\n",
       "      <td id=\"T_18234_row17_col1\" class=\"data row17 col1\" >[]</td>\n",
       "    </tr>\n",
       "    <tr>\n",
       "      <th id=\"T_18234_level0_row18\" class=\"row_heading level0 row18\" >18</th>\n",
       "      <td id=\"T_18234_row18_col0\" class=\"data row18 col0\" >Significant Seasonal Period(s)</td>\n",
       "      <td id=\"T_18234_row18_col1\" class=\"data row18 col1\" >[1]</td>\n",
       "    </tr>\n",
       "    <tr>\n",
       "      <th id=\"T_18234_level0_row19\" class=\"row_heading level0 row19\" >19</th>\n",
       "      <td id=\"T_18234_row19_col0\" class=\"data row19 col0\" >Significant Seasonal Period(s) without Harmonics</td>\n",
       "      <td id=\"T_18234_row19_col1\" class=\"data row19 col1\" >[1]</td>\n",
       "    </tr>\n",
       "    <tr>\n",
       "      <th id=\"T_18234_level0_row20\" class=\"row_heading level0 row20\" >20</th>\n",
       "      <td id=\"T_18234_row20_col0\" class=\"data row20 col0\" >Remove Harmonics</td>\n",
       "      <td id=\"T_18234_row20_col1\" class=\"data row20 col1\" >False</td>\n",
       "    </tr>\n",
       "    <tr>\n",
       "      <th id=\"T_18234_level0_row21\" class=\"row_heading level0 row21\" >21</th>\n",
       "      <td id=\"T_18234_row21_col0\" class=\"data row21 col0\" >Harmonics Order Method</td>\n",
       "      <td id=\"T_18234_row21_col1\" class=\"data row21 col1\" >harmonic_max</td>\n",
       "    </tr>\n",
       "    <tr>\n",
       "      <th id=\"T_18234_level0_row22\" class=\"row_heading level0 row22\" >22</th>\n",
       "      <td id=\"T_18234_row22_col0\" class=\"data row22 col0\" >Num Seasonalities to Use</td>\n",
       "      <td id=\"T_18234_row22_col1\" class=\"data row22 col1\" >1</td>\n",
       "    </tr>\n",
       "    <tr>\n",
       "      <th id=\"T_18234_level0_row23\" class=\"row_heading level0 row23\" >23</th>\n",
       "      <td id=\"T_18234_row23_col0\" class=\"data row23 col0\" >All Seasonalities to Use</td>\n",
       "      <td id=\"T_18234_row23_col1\" class=\"data row23 col1\" >[1]</td>\n",
       "    </tr>\n",
       "    <tr>\n",
       "      <th id=\"T_18234_level0_row24\" class=\"row_heading level0 row24\" >24</th>\n",
       "      <td id=\"T_18234_row24_col0\" class=\"data row24 col0\" >Primary Seasonality</td>\n",
       "      <td id=\"T_18234_row24_col1\" class=\"data row24 col1\" >1</td>\n",
       "    </tr>\n",
       "    <tr>\n",
       "      <th id=\"T_18234_level0_row25\" class=\"row_heading level0 row25\" >25</th>\n",
       "      <td id=\"T_18234_row25_col0\" class=\"data row25 col0\" >Seasonality Present</td>\n",
       "      <td id=\"T_18234_row25_col1\" class=\"data row25 col1\" >False</td>\n",
       "    </tr>\n",
       "    <tr>\n",
       "      <th id=\"T_18234_level0_row26\" class=\"row_heading level0 row26\" >26</th>\n",
       "      <td id=\"T_18234_row26_col0\" class=\"data row26 col0\" >Seasonality Type</td>\n",
       "      <td id=\"T_18234_row26_col1\" class=\"data row26 col1\" >None</td>\n",
       "    </tr>\n",
       "    <tr>\n",
       "      <th id=\"T_18234_level0_row27\" class=\"row_heading level0 row27\" >27</th>\n",
       "      <td id=\"T_18234_row27_col0\" class=\"data row27 col0\" >Target Strictly Positive</td>\n",
       "      <td id=\"T_18234_row27_col1\" class=\"data row27 col1\" >True</td>\n",
       "    </tr>\n",
       "    <tr>\n",
       "      <th id=\"T_18234_level0_row28\" class=\"row_heading level0 row28\" >28</th>\n",
       "      <td id=\"T_18234_row28_col0\" class=\"data row28 col0\" >Target White Noise</td>\n",
       "      <td id=\"T_18234_row28_col1\" class=\"data row28 col1\" >No</td>\n",
       "    </tr>\n",
       "    <tr>\n",
       "      <th id=\"T_18234_level0_row29\" class=\"row_heading level0 row29\" >29</th>\n",
       "      <td id=\"T_18234_row29_col0\" class=\"data row29 col0\" >Recommended d</td>\n",
       "      <td id=\"T_18234_row29_col1\" class=\"data row29 col1\" >0</td>\n",
       "    </tr>\n",
       "    <tr>\n",
       "      <th id=\"T_18234_level0_row30\" class=\"row_heading level0 row30\" >30</th>\n",
       "      <td id=\"T_18234_row30_col0\" class=\"data row30 col0\" >Recommended Seasonal D</td>\n",
       "      <td id=\"T_18234_row30_col1\" class=\"data row30 col1\" >0</td>\n",
       "    </tr>\n",
       "    <tr>\n",
       "      <th id=\"T_18234_level0_row31\" class=\"row_heading level0 row31\" >31</th>\n",
       "      <td id=\"T_18234_row31_col0\" class=\"data row31 col0\" >Preprocess</td>\n",
       "      <td id=\"T_18234_row31_col1\" class=\"data row31 col1\" >True</td>\n",
       "    </tr>\n",
       "    <tr>\n",
       "      <th id=\"T_18234_level0_row32\" class=\"row_heading level0 row32\" >32</th>\n",
       "      <td id=\"T_18234_row32_col0\" class=\"data row32 col0\" >Numerical Imputation (Target)</td>\n",
       "      <td id=\"T_18234_row32_col1\" class=\"data row32 col1\" >ffill</td>\n",
       "    </tr>\n",
       "    <tr>\n",
       "      <th id=\"T_18234_level0_row33\" class=\"row_heading level0 row33\" >33</th>\n",
       "      <td id=\"T_18234_row33_col0\" class=\"data row33 col0\" >Transformation (Target)</td>\n",
       "      <td id=\"T_18234_row33_col1\" class=\"data row33 col1\" >None</td>\n",
       "    </tr>\n",
       "    <tr>\n",
       "      <th id=\"T_18234_level0_row34\" class=\"row_heading level0 row34\" >34</th>\n",
       "      <td id=\"T_18234_row34_col0\" class=\"data row34 col0\" >Scaling (Target)</td>\n",
       "      <td id=\"T_18234_row34_col1\" class=\"data row34 col1\" >None</td>\n",
       "    </tr>\n",
       "    <tr>\n",
       "      <th id=\"T_18234_level0_row35\" class=\"row_heading level0 row35\" >35</th>\n",
       "      <td id=\"T_18234_row35_col0\" class=\"data row35 col0\" >Feature Engineering (Target) - Reduced Regression</td>\n",
       "      <td id=\"T_18234_row35_col1\" class=\"data row35 col1\" >False</td>\n",
       "    </tr>\n",
       "    <tr>\n",
       "      <th id=\"T_18234_level0_row36\" class=\"row_heading level0 row36\" >36</th>\n",
       "      <td id=\"T_18234_row36_col0\" class=\"data row36 col0\" >CPU Jobs</td>\n",
       "      <td id=\"T_18234_row36_col1\" class=\"data row36 col1\" >-1</td>\n",
       "    </tr>\n",
       "    <tr>\n",
       "      <th id=\"T_18234_level0_row37\" class=\"row_heading level0 row37\" >37</th>\n",
       "      <td id=\"T_18234_row37_col0\" class=\"data row37 col0\" >Use GPU</td>\n",
       "      <td id=\"T_18234_row37_col1\" class=\"data row37 col1\" >False</td>\n",
       "    </tr>\n",
       "    <tr>\n",
       "      <th id=\"T_18234_level0_row38\" class=\"row_heading level0 row38\" >38</th>\n",
       "      <td id=\"T_18234_row38_col0\" class=\"data row38 col0\" >Log Experiment</td>\n",
       "      <td id=\"T_18234_row38_col1\" class=\"data row38 col1\" >False</td>\n",
       "    </tr>\n",
       "    <tr>\n",
       "      <th id=\"T_18234_level0_row39\" class=\"row_heading level0 row39\" >39</th>\n",
       "      <td id=\"T_18234_row39_col0\" class=\"data row39 col0\" >Experiment Name</td>\n",
       "      <td id=\"T_18234_row39_col1\" class=\"data row39 col1\" >ts-default-name</td>\n",
       "    </tr>\n",
       "    <tr>\n",
       "      <th id=\"T_18234_level0_row40\" class=\"row_heading level0 row40\" >40</th>\n",
       "      <td id=\"T_18234_row40_col0\" class=\"data row40 col0\" >USI</td>\n",
       "      <td id=\"T_18234_row40_col1\" class=\"data row40 col1\" >45bc</td>\n",
       "    </tr>\n",
       "  </tbody>\n",
       "</table>\n"
      ],
      "text/plain": [
       "<pandas.io.formats.style.Styler at 0x1c862339b50>"
      ]
     },
     "metadata": {},
     "output_type": "display_data"
    },
    {
     "data": {
      "text/plain": [
       "<pycaret.time_series.forecasting.oop.TSForecastingExperiment at 0x1c833bfee10>"
      ]
     },
     "execution_count": 55,
     "metadata": {},
     "output_type": "execute_result"
    }
   ],
   "source": [
    "exp = TSForecastingExperiment()\n",
    "exp.setup(data=df_item, \n",
    "          target=target,\n",
    "          numeric_imputation_target='ffill',\n",
    "          fh=forecast_lenth_array)"
   ]
  },
  {
   "cell_type": "markdown",
   "metadata": {},
   "source": [
    "### Checking Set Up"
   ]
  },
  {
   "cell_type": "code",
   "execution_count": 56,
   "metadata": {},
   "outputs": [
    {
     "data": {
      "application/vnd.plotly.v1+json": {
       "config": {
        "plotlyServerURL": "https://plot.ly"
       },
       "data": [
        {
         "line": {
          "color": "rgb(31, 119, 180)",
          "width": 2
         },
         "marker": {
          "color": "rgb(31, 119, 180)",
          "size": 5
         },
         "mode": "lines+markers",
         "name": "Train (original)",
         "type": "scattergl",
         "x": [
          "2020-01-01T00:00:00",
          "2020-02-01T00:00:00",
          "2020-03-01T00:00:00",
          "2020-04-01T00:00:00",
          "2020-05-01T00:00:00",
          "2020-06-01T00:00:00",
          "2020-07-01T00:00:00",
          "2020-08-01T00:00:00",
          "2020-09-01T00:00:00",
          "2020-10-01T00:00:00",
          "2020-11-01T00:00:00",
          "2020-12-01T00:00:00",
          "2021-01-01T00:00:00",
          "2021-02-01T00:00:00",
          "2021-03-01T00:00:00",
          "2021-04-01T00:00:00",
          "2021-05-01T00:00:00",
          "2021-06-01T00:00:00",
          "2021-07-01T00:00:00",
          "2021-08-01T00:00:00",
          "2021-09-01T00:00:00",
          "2021-10-01T00:00:00",
          "2021-11-01T00:00:00",
          "2021-12-01T00:00:00",
          "2022-01-01T00:00:00",
          "2022-02-01T00:00:00",
          "2022-03-01T00:00:00",
          "2022-04-01T00:00:00",
          "2022-05-01T00:00:00",
          "2022-06-01T00:00:00",
          "2022-07-01T00:00:00",
          "2022-08-01T00:00:00",
          "2022-09-01T00:00:00",
          "2022-10-01T00:00:00",
          "2022-11-01T00:00:00",
          "2022-12-01T00:00:00",
          "2023-01-01T00:00:00",
          "2023-02-01T00:00:00",
          "2023-03-01T00:00:00",
          "2023-04-01T00:00:00",
          "2023-05-01T00:00:00",
          "2023-06-01T00:00:00",
          "2023-07-01T00:00:00",
          "2023-08-01T00:00:00",
          "2023-09-01T00:00:00",
          "2023-10-01T00:00:00",
          "2023-11-01T00:00:00",
          "2023-12-01T00:00:00",
          "2024-01-01T00:00:00",
          "2024-02-01T00:00:00",
          "2024-03-01T00:00:00",
          "2024-04-01T00:00:00",
          "2024-05-01T00:00:00",
          "2024-06-01T00:00:00",
          "2024-07-01T00:00:00",
          "2024-08-01T00:00:00",
          "2024-09-01T00:00:00",
          "2024-10-01T00:00:00"
         ],
         "xaxis": "x",
         "y": [
          33.70093581179301,
          40.097501245230355,
          35.094671544226294,
          32.91706587533452,
          42.78727629708735,
          44.18178119670531,
          33.68047731483411,
          41.491391944060545,
          39.6944315238721,
          32.77698218616264,
          41.797808140311645,
          41.11915380665249,
          37.08308588698089,
          36.46967919713072,
          47.3535520693677,
          61.67530062309889,
          56.99302256859361,
          46.95449869357742,
          47.055276577270895,
          43.30751505561535,
          45.01543776761415,
          40.480536322544914,
          34.6969982557282,
          51.93788161837621,
          48.43162971876396,
          51.12807903263428,
          47.024156938634846,
          45.54776703917591,
          53.89723581950358,
          54.65961016021328,
          49.703309030678454,
          49.09317932804738,
          35.367895667210156,
          42.018778033637105,
          42.018778033637105,
          46.82633467604414,
          47.54218194715972,
          44.143748910154066,
          38.008971012672305,
          52.82335267233074,
          64.68759222565045,
          55.380637730972225,
          53.50421914395414,
          51.96923213828622,
          49.24075182764014,
          34.336286275039605,
          40.16871846898528,
          52.37984878102597,
          43.94904174124287,
          49.09317932804738,
          52.82335267233074,
          58.266663494431185,
          61.38407759545939,
          59.239525045951964,
          null,
          null,
          null,
          null
         ],
         "yaxis": "y"
        },
        {
         "line": {
          "color": "rgb(255, 127, 14)",
          "width": 2
         },
         "marker": {
          "color": "rgb(255, 127, 14)",
          "size": 5
         },
         "mode": "lines+markers",
         "name": "Test (original)",
         "type": "scattergl",
         "x": [
          "2020-01-01T00:00:00",
          "2020-02-01T00:00:00",
          "2020-03-01T00:00:00",
          "2020-04-01T00:00:00",
          "2020-05-01T00:00:00",
          "2020-06-01T00:00:00",
          "2020-07-01T00:00:00",
          "2020-08-01T00:00:00",
          "2020-09-01T00:00:00",
          "2020-10-01T00:00:00",
          "2020-11-01T00:00:00",
          "2020-12-01T00:00:00",
          "2021-01-01T00:00:00",
          "2021-02-01T00:00:00",
          "2021-03-01T00:00:00",
          "2021-04-01T00:00:00",
          "2021-05-01T00:00:00",
          "2021-06-01T00:00:00",
          "2021-07-01T00:00:00",
          "2021-08-01T00:00:00",
          "2021-09-01T00:00:00",
          "2021-10-01T00:00:00",
          "2021-11-01T00:00:00",
          "2021-12-01T00:00:00",
          "2022-01-01T00:00:00",
          "2022-02-01T00:00:00",
          "2022-03-01T00:00:00",
          "2022-04-01T00:00:00",
          "2022-05-01T00:00:00",
          "2022-06-01T00:00:00",
          "2022-07-01T00:00:00",
          "2022-08-01T00:00:00",
          "2022-09-01T00:00:00",
          "2022-10-01T00:00:00",
          "2022-11-01T00:00:00",
          "2022-12-01T00:00:00",
          "2023-01-01T00:00:00",
          "2023-02-01T00:00:00",
          "2023-03-01T00:00:00",
          "2023-04-01T00:00:00",
          "2023-05-01T00:00:00",
          "2023-06-01T00:00:00",
          "2023-07-01T00:00:00",
          "2023-08-01T00:00:00",
          "2023-09-01T00:00:00",
          "2023-10-01T00:00:00",
          "2023-11-01T00:00:00",
          "2023-12-01T00:00:00",
          "2024-01-01T00:00:00",
          "2024-02-01T00:00:00",
          "2024-03-01T00:00:00",
          "2024-04-01T00:00:00",
          "2024-05-01T00:00:00",
          "2024-06-01T00:00:00",
          "2024-07-01T00:00:00",
          "2024-08-01T00:00:00",
          "2024-09-01T00:00:00",
          "2024-10-01T00:00:00"
         ],
         "xaxis": "x",
         "y": [
          null,
          null,
          null,
          null,
          null,
          null,
          null,
          null,
          null,
          null,
          null,
          null,
          null,
          null,
          null,
          null,
          null,
          null,
          null,
          null,
          null,
          null,
          null,
          null,
          null,
          null,
          null,
          null,
          null,
          null,
          null,
          null,
          null,
          null,
          null,
          null,
          null,
          null,
          null,
          null,
          null,
          null,
          null,
          null,
          null,
          null,
          null,
          null,
          null,
          null,
          null,
          null,
          null,
          null,
          62.21845049368221,
          49.543896137785964,
          30.488067656442006,
          22.891292903162135
         ],
         "yaxis": "y"
        }
       ],
       "layout": {
        "annotations": [
         {
          "font": {
           "size": 16
          },
          "showarrow": false,
          "text": "boxcox_units",
          "x": 0.5,
          "xanchor": "center",
          "xref": "paper",
          "y": 1,
          "yanchor": "bottom",
          "yref": "paper"
         }
        ],
        "showlegend": true,
        "template": {
         "data": {
          "bar": [
           {
            "error_x": {
             "color": "rgb(51,51,51)"
            },
            "error_y": {
             "color": "rgb(51,51,51)"
            },
            "marker": {
             "line": {
              "color": "rgb(237,237,237)",
              "width": 0.5
             },
             "pattern": {
              "fillmode": "overlay",
              "size": 10,
              "solidity": 0.2
             }
            },
            "type": "bar"
           }
          ],
          "barpolar": [
           {
            "marker": {
             "line": {
              "color": "rgb(237,237,237)",
              "width": 0.5
             },
             "pattern": {
              "fillmode": "overlay",
              "size": 10,
              "solidity": 0.2
             }
            },
            "type": "barpolar"
           }
          ],
          "carpet": [
           {
            "aaxis": {
             "endlinecolor": "rgb(51,51,51)",
             "gridcolor": "white",
             "linecolor": "white",
             "minorgridcolor": "white",
             "startlinecolor": "rgb(51,51,51)"
            },
            "baxis": {
             "endlinecolor": "rgb(51,51,51)",
             "gridcolor": "white",
             "linecolor": "white",
             "minorgridcolor": "white",
             "startlinecolor": "rgb(51,51,51)"
            },
            "type": "carpet"
           }
          ],
          "choropleth": [
           {
            "colorbar": {
             "outlinewidth": 0,
             "tickcolor": "rgb(237,237,237)",
             "ticklen": 6,
             "ticks": "inside"
            },
            "type": "choropleth"
           }
          ],
          "contour": [
           {
            "colorbar": {
             "outlinewidth": 0,
             "tickcolor": "rgb(237,237,237)",
             "ticklen": 6,
             "ticks": "inside"
            },
            "colorscale": [
             [
              0,
              "rgb(20,44,66)"
             ],
             [
              1,
              "rgb(90,179,244)"
             ]
            ],
            "type": "contour"
           }
          ],
          "contourcarpet": [
           {
            "colorbar": {
             "outlinewidth": 0,
             "tickcolor": "rgb(237,237,237)",
             "ticklen": 6,
             "ticks": "inside"
            },
            "type": "contourcarpet"
           }
          ],
          "heatmap": [
           {
            "colorbar": {
             "outlinewidth": 0,
             "tickcolor": "rgb(237,237,237)",
             "ticklen": 6,
             "ticks": "inside"
            },
            "colorscale": [
             [
              0,
              "rgb(20,44,66)"
             ],
             [
              1,
              "rgb(90,179,244)"
             ]
            ],
            "type": "heatmap"
           }
          ],
          "heatmapgl": [
           {
            "colorbar": {
             "outlinewidth": 0,
             "tickcolor": "rgb(237,237,237)",
             "ticklen": 6,
             "ticks": "inside"
            },
            "colorscale": [
             [
              0,
              "rgb(20,44,66)"
             ],
             [
              1,
              "rgb(90,179,244)"
             ]
            ],
            "type": "heatmapgl"
           }
          ],
          "histogram": [
           {
            "marker": {
             "pattern": {
              "fillmode": "overlay",
              "size": 10,
              "solidity": 0.2
             }
            },
            "type": "histogram"
           }
          ],
          "histogram2d": [
           {
            "colorbar": {
             "outlinewidth": 0,
             "tickcolor": "rgb(237,237,237)",
             "ticklen": 6,
             "ticks": "inside"
            },
            "colorscale": [
             [
              0,
              "rgb(20,44,66)"
             ],
             [
              1,
              "rgb(90,179,244)"
             ]
            ],
            "type": "histogram2d"
           }
          ],
          "histogram2dcontour": [
           {
            "colorbar": {
             "outlinewidth": 0,
             "tickcolor": "rgb(237,237,237)",
             "ticklen": 6,
             "ticks": "inside"
            },
            "colorscale": [
             [
              0,
              "rgb(20,44,66)"
             ],
             [
              1,
              "rgb(90,179,244)"
             ]
            ],
            "type": "histogram2dcontour"
           }
          ],
          "mesh3d": [
           {
            "colorbar": {
             "outlinewidth": 0,
             "tickcolor": "rgb(237,237,237)",
             "ticklen": 6,
             "ticks": "inside"
            },
            "type": "mesh3d"
           }
          ],
          "parcoords": [
           {
            "line": {
             "colorbar": {
              "outlinewidth": 0,
              "tickcolor": "rgb(237,237,237)",
              "ticklen": 6,
              "ticks": "inside"
             }
            },
            "type": "parcoords"
           }
          ],
          "pie": [
           {
            "automargin": true,
            "type": "pie"
           }
          ],
          "scatter": [
           {
            "fillpattern": {
             "fillmode": "overlay",
             "size": 10,
             "solidity": 0.2
            },
            "type": "scatter"
           }
          ],
          "scatter3d": [
           {
            "line": {
             "colorbar": {
              "outlinewidth": 0,
              "tickcolor": "rgb(237,237,237)",
              "ticklen": 6,
              "ticks": "inside"
             }
            },
            "marker": {
             "colorbar": {
              "outlinewidth": 0,
              "tickcolor": "rgb(237,237,237)",
              "ticklen": 6,
              "ticks": "inside"
             }
            },
            "type": "scatter3d"
           }
          ],
          "scattercarpet": [
           {
            "marker": {
             "colorbar": {
              "outlinewidth": 0,
              "tickcolor": "rgb(237,237,237)",
              "ticklen": 6,
              "ticks": "inside"
             }
            },
            "type": "scattercarpet"
           }
          ],
          "scattergeo": [
           {
            "marker": {
             "colorbar": {
              "outlinewidth": 0,
              "tickcolor": "rgb(237,237,237)",
              "ticklen": 6,
              "ticks": "inside"
             }
            },
            "type": "scattergeo"
           }
          ],
          "scattergl": [
           {
            "marker": {
             "colorbar": {
              "outlinewidth": 0,
              "tickcolor": "rgb(237,237,237)",
              "ticklen": 6,
              "ticks": "inside"
             }
            },
            "type": "scattergl"
           }
          ],
          "scattermapbox": [
           {
            "marker": {
             "colorbar": {
              "outlinewidth": 0,
              "tickcolor": "rgb(237,237,237)",
              "ticklen": 6,
              "ticks": "inside"
             }
            },
            "type": "scattermapbox"
           }
          ],
          "scatterpolar": [
           {
            "marker": {
             "colorbar": {
              "outlinewidth": 0,
              "tickcolor": "rgb(237,237,237)",
              "ticklen": 6,
              "ticks": "inside"
             }
            },
            "type": "scatterpolar"
           }
          ],
          "scatterpolargl": [
           {
            "marker": {
             "colorbar": {
              "outlinewidth": 0,
              "tickcolor": "rgb(237,237,237)",
              "ticklen": 6,
              "ticks": "inside"
             }
            },
            "type": "scatterpolargl"
           }
          ],
          "scatterternary": [
           {
            "marker": {
             "colorbar": {
              "outlinewidth": 0,
              "tickcolor": "rgb(237,237,237)",
              "ticklen": 6,
              "ticks": "inside"
             }
            },
            "type": "scatterternary"
           }
          ],
          "surface": [
           {
            "colorbar": {
             "outlinewidth": 0,
             "tickcolor": "rgb(237,237,237)",
             "ticklen": 6,
             "ticks": "inside"
            },
            "colorscale": [
             [
              0,
              "rgb(20,44,66)"
             ],
             [
              1,
              "rgb(90,179,244)"
             ]
            ],
            "type": "surface"
           }
          ],
          "table": [
           {
            "cells": {
             "fill": {
              "color": "rgb(237,237,237)"
             },
             "line": {
              "color": "white"
             }
            },
            "header": {
             "fill": {
              "color": "rgb(217,217,217)"
             },
             "line": {
              "color": "white"
             }
            },
            "type": "table"
           }
          ]
         },
         "layout": {
          "annotationdefaults": {
           "arrowhead": 0,
           "arrowwidth": 1
          },
          "autotypenumbers": "strict",
          "coloraxis": {
           "colorbar": {
            "outlinewidth": 0,
            "tickcolor": "rgb(237,237,237)",
            "ticklen": 6,
            "ticks": "inside"
           }
          },
          "colorscale": {
           "sequential": [
            [
             0,
             "rgb(20,44,66)"
            ],
            [
             1,
             "rgb(90,179,244)"
            ]
           ],
           "sequentialminus": [
            [
             0,
             "rgb(20,44,66)"
            ],
            [
             1,
             "rgb(90,179,244)"
            ]
           ]
          },
          "colorway": [
           "#F8766D",
           "#A3A500",
           "#00BF7D",
           "#00B0F6",
           "#E76BF3"
          ],
          "font": {
           "color": "rgb(51,51,51)"
          },
          "geo": {
           "bgcolor": "white",
           "lakecolor": "white",
           "landcolor": "rgb(237,237,237)",
           "showlakes": true,
           "showland": true,
           "subunitcolor": "white"
          },
          "hoverlabel": {
           "align": "left"
          },
          "hovermode": "closest",
          "paper_bgcolor": "white",
          "plot_bgcolor": "rgb(237,237,237)",
          "polar": {
           "angularaxis": {
            "gridcolor": "white",
            "linecolor": "white",
            "showgrid": true,
            "tickcolor": "rgb(51,51,51)",
            "ticks": "outside"
           },
           "bgcolor": "rgb(237,237,237)",
           "radialaxis": {
            "gridcolor": "white",
            "linecolor": "white",
            "showgrid": true,
            "tickcolor": "rgb(51,51,51)",
            "ticks": "outside"
           }
          },
          "scene": {
           "xaxis": {
            "backgroundcolor": "rgb(237,237,237)",
            "gridcolor": "white",
            "gridwidth": 2,
            "linecolor": "white",
            "showbackground": true,
            "showgrid": true,
            "tickcolor": "rgb(51,51,51)",
            "ticks": "outside",
            "zerolinecolor": "white"
           },
           "yaxis": {
            "backgroundcolor": "rgb(237,237,237)",
            "gridcolor": "white",
            "gridwidth": 2,
            "linecolor": "white",
            "showbackground": true,
            "showgrid": true,
            "tickcolor": "rgb(51,51,51)",
            "ticks": "outside",
            "zerolinecolor": "white"
           },
           "zaxis": {
            "backgroundcolor": "rgb(237,237,237)",
            "gridcolor": "white",
            "gridwidth": 2,
            "linecolor": "white",
            "showbackground": true,
            "showgrid": true,
            "tickcolor": "rgb(51,51,51)",
            "ticks": "outside",
            "zerolinecolor": "white"
           }
          },
          "shapedefaults": {
           "fillcolor": "black",
           "line": {
            "width": 0
           },
           "opacity": 0.3
          },
          "ternary": {
           "aaxis": {
            "gridcolor": "white",
            "linecolor": "white",
            "showgrid": true,
            "tickcolor": "rgb(51,51,51)",
            "ticks": "outside"
           },
           "baxis": {
            "gridcolor": "white",
            "linecolor": "white",
            "showgrid": true,
            "tickcolor": "rgb(51,51,51)",
            "ticks": "outside"
           },
           "bgcolor": "rgb(237,237,237)",
           "caxis": {
            "gridcolor": "white",
            "linecolor": "white",
            "showgrid": true,
            "tickcolor": "rgb(51,51,51)",
            "ticks": "outside"
           }
          },
          "xaxis": {
           "automargin": true,
           "gridcolor": "white",
           "linecolor": "white",
           "showgrid": true,
           "tickcolor": "rgb(51,51,51)",
           "ticks": "outside",
           "title": {
            "standoff": 15
           },
           "zerolinecolor": "white"
          },
          "yaxis": {
           "automargin": true,
           "gridcolor": "white",
           "linecolor": "white",
           "showgrid": true,
           "tickcolor": "rgb(51,51,51)",
           "ticks": "outside",
           "title": {
            "standoff": 15
           },
           "zerolinecolor": "white"
          }
         }
        },
        "title": {
         "text": "Time Series | Target = boxcox_units"
        },
        "xaxis": {
         "anchor": "y",
         "domain": [
          0,
          1
         ]
        },
        "yaxis": {
         "anchor": "x",
         "domain": [
          0,
          1
         ]
        }
       }
      }
     },
     "metadata": {},
     "output_type": "display_data"
    }
   ],
   "source": [
    "exp.plot_model(plot='train_test_split')"
   ]
  },
  {
   "cell_type": "code",
   "execution_count": 57,
   "metadata": {},
   "outputs": [
    {
     "data": {
      "application/vnd.plotly.v1+json": {
       "config": {
        "plotlyServerURL": "https://plot.ly"
       },
       "data": [
        {
         "hoverinfo": "skip",
         "line": {
          "color": "#C0C0C0"
         },
         "mode": "lines+markers",
         "name": "Unchanged",
         "showlegend": false,
         "type": "scattergl",
         "x": [
          "2020-01-01T00:00:00",
          "2020-02-01T00:00:00"
         ],
         "y": [
          "2",
          "2"
         ]
        },
        {
         "hoverinfo": "skip",
         "line": {
          "color": "#C0C0C0"
         },
         "mode": "lines+markers",
         "name": "Unchanged",
         "showlegend": false,
         "type": "scattergl",
         "x": [
          "2020-02-01T00:00:00",
          "2020-03-01T00:00:00"
         ],
         "y": [
          "2",
          "2"
         ]
        },
        {
         "hoverinfo": "skip",
         "line": {
          "color": "#C0C0C0"
         },
         "mode": "lines+markers",
         "name": "Unchanged",
         "showlegend": false,
         "type": "scattergl",
         "x": [
          "2020-03-01T00:00:00",
          "2020-04-01T00:00:00"
         ],
         "y": [
          "2",
          "2"
         ]
        },
        {
         "hoverinfo": "skip",
         "line": {
          "color": "#C0C0C0"
         },
         "mode": "lines+markers",
         "name": "Unchanged",
         "showlegend": false,
         "type": "scattergl",
         "x": [
          "2020-04-01T00:00:00",
          "2020-05-01T00:00:00"
         ],
         "y": [
          "2",
          "2"
         ]
        },
        {
         "hoverinfo": "skip",
         "line": {
          "color": "#C0C0C0"
         },
         "mode": "lines+markers",
         "name": "Unchanged",
         "showlegend": false,
         "type": "scattergl",
         "x": [
          "2020-05-01T00:00:00",
          "2020-06-01T00:00:00"
         ],
         "y": [
          "2",
          "2"
         ]
        },
        {
         "hoverinfo": "skip",
         "line": {
          "color": "#C0C0C0"
         },
         "mode": "lines+markers",
         "name": "Unchanged",
         "showlegend": false,
         "type": "scattergl",
         "x": [
          "2020-06-01T00:00:00",
          "2020-07-01T00:00:00"
         ],
         "y": [
          "2",
          "2"
         ]
        },
        {
         "hoverinfo": "skip",
         "line": {
          "color": "#C0C0C0"
         },
         "mode": "lines+markers",
         "name": "Unchanged",
         "showlegend": false,
         "type": "scattergl",
         "x": [
          "2020-07-01T00:00:00",
          "2020-08-01T00:00:00"
         ],
         "y": [
          "2",
          "2"
         ]
        },
        {
         "hoverinfo": "skip",
         "line": {
          "color": "#C0C0C0"
         },
         "mode": "lines+markers",
         "name": "Unchanged",
         "showlegend": false,
         "type": "scattergl",
         "x": [
          "2020-08-01T00:00:00",
          "2020-09-01T00:00:00"
         ],
         "y": [
          "2",
          "2"
         ]
        },
        {
         "hoverinfo": "skip",
         "line": {
          "color": "#C0C0C0"
         },
         "mode": "lines+markers",
         "name": "Unchanged",
         "showlegend": false,
         "type": "scattergl",
         "x": [
          "2020-09-01T00:00:00",
          "2020-10-01T00:00:00"
         ],
         "y": [
          "2",
          "2"
         ]
        },
        {
         "hoverinfo": "skip",
         "line": {
          "color": "#C0C0C0"
         },
         "mode": "lines+markers",
         "name": "Unchanged",
         "showlegend": false,
         "type": "scattergl",
         "x": [
          "2020-10-01T00:00:00",
          "2020-11-01T00:00:00"
         ],
         "y": [
          "2",
          "2"
         ]
        },
        {
         "hoverinfo": "skip",
         "line": {
          "color": "#C0C0C0"
         },
         "mode": "lines+markers",
         "name": "Unchanged",
         "showlegend": false,
         "type": "scattergl",
         "x": [
          "2020-11-01T00:00:00",
          "2020-12-01T00:00:00"
         ],
         "y": [
          "2",
          "2"
         ]
        },
        {
         "hoverinfo": "skip",
         "line": {
          "color": "#C0C0C0"
         },
         "mode": "lines+markers",
         "name": "Unchanged",
         "showlegend": false,
         "type": "scattergl",
         "x": [
          "2020-12-01T00:00:00",
          "2021-01-01T00:00:00"
         ],
         "y": [
          "2",
          "2"
         ]
        },
        {
         "hoverinfo": "skip",
         "line": {
          "color": "#C0C0C0"
         },
         "mode": "lines+markers",
         "name": "Unchanged",
         "showlegend": false,
         "type": "scattergl",
         "x": [
          "2021-01-01T00:00:00",
          "2021-02-01T00:00:00"
         ],
         "y": [
          "2",
          "2"
         ]
        },
        {
         "hoverinfo": "skip",
         "line": {
          "color": "#C0C0C0"
         },
         "mode": "lines+markers",
         "name": "Unchanged",
         "showlegend": false,
         "type": "scattergl",
         "x": [
          "2021-02-01T00:00:00",
          "2021-03-01T00:00:00"
         ],
         "y": [
          "2",
          "2"
         ]
        },
        {
         "hoverinfo": "skip",
         "line": {
          "color": "#C0C0C0"
         },
         "mode": "lines+markers",
         "name": "Unchanged",
         "showlegend": false,
         "type": "scattergl",
         "x": [
          "2021-03-01T00:00:00",
          "2021-04-01T00:00:00"
         ],
         "y": [
          "2",
          "2"
         ]
        },
        {
         "hoverinfo": "skip",
         "line": {
          "color": "#C0C0C0"
         },
         "mode": "lines+markers",
         "name": "Unchanged",
         "showlegend": false,
         "type": "scattergl",
         "x": [
          "2021-04-01T00:00:00",
          "2021-05-01T00:00:00"
         ],
         "y": [
          "2",
          "2"
         ]
        },
        {
         "hoverinfo": "skip",
         "line": {
          "color": "#C0C0C0"
         },
         "mode": "lines+markers",
         "name": "Unchanged",
         "showlegend": false,
         "type": "scattergl",
         "x": [
          "2021-05-01T00:00:00",
          "2021-06-01T00:00:00"
         ],
         "y": [
          "2",
          "2"
         ]
        },
        {
         "hoverinfo": "skip",
         "line": {
          "color": "#C0C0C0"
         },
         "mode": "lines+markers",
         "name": "Unchanged",
         "showlegend": false,
         "type": "scattergl",
         "x": [
          "2021-06-01T00:00:00",
          "2021-07-01T00:00:00"
         ],
         "y": [
          "2",
          "2"
         ]
        },
        {
         "hoverinfo": "skip",
         "line": {
          "color": "#C0C0C0"
         },
         "mode": "lines+markers",
         "name": "Unchanged",
         "showlegend": false,
         "type": "scattergl",
         "x": [
          "2021-07-01T00:00:00",
          "2021-08-01T00:00:00"
         ],
         "y": [
          "2",
          "2"
         ]
        },
        {
         "hoverinfo": "skip",
         "line": {
          "color": "#C0C0C0"
         },
         "mode": "lines+markers",
         "name": "Unchanged",
         "showlegend": false,
         "type": "scattergl",
         "x": [
          "2021-08-01T00:00:00",
          "2021-09-01T00:00:00"
         ],
         "y": [
          "2",
          "2"
         ]
        },
        {
         "hoverinfo": "skip",
         "line": {
          "color": "#C0C0C0"
         },
         "mode": "lines+markers",
         "name": "Unchanged",
         "showlegend": false,
         "type": "scattergl",
         "x": [
          "2021-09-01T00:00:00",
          "2021-10-01T00:00:00"
         ],
         "y": [
          "2",
          "2"
         ]
        },
        {
         "hoverinfo": "skip",
         "line": {
          "color": "#C0C0C0"
         },
         "mode": "lines+markers",
         "name": "Unchanged",
         "showlegend": false,
         "type": "scattergl",
         "x": [
          "2021-10-01T00:00:00",
          "2021-11-01T00:00:00"
         ],
         "y": [
          "2",
          "2"
         ]
        },
        {
         "hoverinfo": "skip",
         "line": {
          "color": "#C0C0C0"
         },
         "mode": "lines+markers",
         "name": "Unchanged",
         "showlegend": false,
         "type": "scattergl",
         "x": [
          "2021-11-01T00:00:00",
          "2021-12-01T00:00:00"
         ],
         "y": [
          "2",
          "2"
         ]
        },
        {
         "hoverinfo": "skip",
         "line": {
          "color": "#C0C0C0"
         },
         "mode": "lines+markers",
         "name": "Unchanged",
         "showlegend": false,
         "type": "scattergl",
         "x": [
          "2021-12-01T00:00:00",
          "2022-01-01T00:00:00"
         ],
         "y": [
          "2",
          "2"
         ]
        },
        {
         "hoverinfo": "skip",
         "line": {
          "color": "#C0C0C0"
         },
         "mode": "lines+markers",
         "name": "Unchanged",
         "showlegend": false,
         "type": "scattergl",
         "x": [
          "2022-01-01T00:00:00",
          "2022-02-01T00:00:00"
         ],
         "y": [
          "2",
          "2"
         ]
        },
        {
         "hoverinfo": "skip",
         "line": {
          "color": "#C0C0C0"
         },
         "mode": "lines+markers",
         "name": "Unchanged",
         "showlegend": false,
         "type": "scattergl",
         "x": [
          "2022-02-01T00:00:00",
          "2022-03-01T00:00:00"
         ],
         "y": [
          "2",
          "2"
         ]
        },
        {
         "hoverinfo": "skip",
         "line": {
          "color": "#C0C0C0"
         },
         "mode": "lines+markers",
         "name": "Unchanged",
         "showlegend": false,
         "type": "scattergl",
         "x": [
          "2022-03-01T00:00:00",
          "2022-04-01T00:00:00"
         ],
         "y": [
          "2",
          "2"
         ]
        },
        {
         "hoverinfo": "skip",
         "line": {
          "color": "#C0C0C0"
         },
         "mode": "lines+markers",
         "name": "Unchanged",
         "showlegend": false,
         "type": "scattergl",
         "x": [
          "2022-04-01T00:00:00",
          "2022-05-01T00:00:00"
         ],
         "y": [
          "2",
          "2"
         ]
        },
        {
         "hoverinfo": "skip",
         "line": {
          "color": "#C0C0C0"
         },
         "mode": "lines+markers",
         "name": "Unchanged",
         "showlegend": false,
         "type": "scattergl",
         "x": [
          "2022-05-01T00:00:00",
          "2022-06-01T00:00:00"
         ],
         "y": [
          "2",
          "2"
         ]
        },
        {
         "hoverinfo": "skip",
         "line": {
          "color": "#C0C0C0"
         },
         "mode": "lines+markers",
         "name": "Unchanged",
         "showlegend": false,
         "type": "scattergl",
         "x": [
          "2022-06-01T00:00:00",
          "2022-07-01T00:00:00"
         ],
         "y": [
          "2",
          "2"
         ]
        },
        {
         "hoverinfo": "skip",
         "line": {
          "color": "#C0C0C0"
         },
         "mode": "lines+markers",
         "name": "Unchanged",
         "showlegend": false,
         "type": "scattergl",
         "x": [
          "2022-07-01T00:00:00",
          "2022-08-01T00:00:00"
         ],
         "y": [
          "2",
          "2"
         ]
        },
        {
         "hoverinfo": "skip",
         "line": {
          "color": "#C0C0C0"
         },
         "mode": "lines+markers",
         "name": "Unchanged",
         "showlegend": false,
         "type": "scattergl",
         "x": [
          "2022-08-01T00:00:00",
          "2022-09-01T00:00:00"
         ],
         "y": [
          "2",
          "2"
         ]
        },
        {
         "hoverinfo": "skip",
         "line": {
          "color": "#C0C0C0"
         },
         "mode": "lines+markers",
         "name": "Unchanged",
         "showlegend": false,
         "type": "scattergl",
         "x": [
          "2022-09-01T00:00:00",
          "2022-10-01T00:00:00"
         ],
         "y": [
          "2",
          "2"
         ]
        },
        {
         "hoverinfo": "skip",
         "line": {
          "color": "#C0C0C0"
         },
         "mode": "lines+markers",
         "name": "Unchanged",
         "showlegend": false,
         "type": "scattergl",
         "x": [
          "2022-10-01T00:00:00",
          "2022-11-01T00:00:00"
         ],
         "y": [
          "2",
          "2"
         ]
        },
        {
         "hoverinfo": "skip",
         "line": {
          "color": "#C0C0C0"
         },
         "mode": "lines+markers",
         "name": "Unchanged",
         "showlegend": false,
         "type": "scattergl",
         "x": [
          "2022-11-01T00:00:00",
          "2022-12-01T00:00:00"
         ],
         "y": [
          "2",
          "2"
         ]
        },
        {
         "hoverinfo": "skip",
         "line": {
          "color": "#C0C0C0"
         },
         "mode": "lines+markers",
         "name": "Unchanged",
         "showlegend": false,
         "type": "scattergl",
         "x": [
          "2022-12-01T00:00:00",
          "2023-01-01T00:00:00"
         ],
         "y": [
          "2",
          "2"
         ]
        },
        {
         "hoverinfo": "skip",
         "line": {
          "color": "#C0C0C0"
         },
         "mode": "lines+markers",
         "name": "Unchanged",
         "showlegend": false,
         "type": "scattergl",
         "x": [
          "2023-01-01T00:00:00",
          "2023-02-01T00:00:00"
         ],
         "y": [
          "2",
          "2"
         ]
        },
        {
         "hoverinfo": "skip",
         "line": {
          "color": "#C0C0C0"
         },
         "mode": "lines+markers",
         "name": "Unchanged",
         "showlegend": false,
         "type": "scattergl",
         "x": [
          "2023-02-01T00:00:00",
          "2023-03-01T00:00:00"
         ],
         "y": [
          "2",
          "2"
         ]
        },
        {
         "hoverinfo": "skip",
         "line": {
          "color": "#C0C0C0"
         },
         "mode": "lines+markers",
         "name": "Unchanged",
         "showlegend": false,
         "type": "scattergl",
         "x": [
          "2023-03-01T00:00:00",
          "2023-04-01T00:00:00"
         ],
         "y": [
          "2",
          "2"
         ]
        },
        {
         "hoverinfo": "skip",
         "line": {
          "color": "#C0C0C0"
         },
         "mode": "lines+markers",
         "name": "Unchanged",
         "showlegend": false,
         "type": "scattergl",
         "x": [
          "2023-04-01T00:00:00",
          "2023-05-01T00:00:00"
         ],
         "y": [
          "2",
          "2"
         ]
        },
        {
         "hoverinfo": "skip",
         "line": {
          "color": "#C0C0C0"
         },
         "mode": "lines+markers",
         "name": "Unchanged",
         "showlegend": false,
         "type": "scattergl",
         "x": [
          "2023-05-01T00:00:00",
          "2023-06-01T00:00:00"
         ],
         "y": [
          "2",
          "2"
         ]
        },
        {
         "hoverinfo": "skip",
         "line": {
          "color": "#C0C0C0"
         },
         "mode": "lines+markers",
         "name": "Unchanged",
         "showlegend": false,
         "type": "scattergl",
         "x": [
          "2023-06-01T00:00:00",
          "2023-07-01T00:00:00"
         ],
         "y": [
          "2",
          "2"
         ]
        },
        {
         "hoverinfo": "skip",
         "line": {
          "color": "#C0C0C0"
         },
         "mode": "lines+markers",
         "name": "Unchanged",
         "showlegend": false,
         "type": "scattergl",
         "x": [
          "2023-07-01T00:00:00",
          "2023-08-01T00:00:00"
         ],
         "y": [
          "2",
          "2"
         ]
        },
        {
         "hoverinfo": "skip",
         "line": {
          "color": "#C0C0C0"
         },
         "mode": "lines+markers",
         "name": "Unchanged",
         "showlegend": false,
         "type": "scattergl",
         "x": [
          "2023-08-01T00:00:00",
          "2023-09-01T00:00:00"
         ],
         "y": [
          "2",
          "2"
         ]
        },
        {
         "hoverinfo": "skip",
         "line": {
          "color": "#C0C0C0"
         },
         "mode": "lines+markers",
         "name": "Unchanged",
         "showlegend": false,
         "type": "scattergl",
         "x": [
          "2023-09-01T00:00:00",
          "2023-10-01T00:00:00"
         ],
         "y": [
          "2",
          "2"
         ]
        },
        {
         "hoverinfo": "skip",
         "line": {
          "color": "#C0C0C0"
         },
         "mode": "lines+markers",
         "name": "Unchanged",
         "showlegend": false,
         "type": "scattergl",
         "x": [
          "2023-10-01T00:00:00",
          "2023-11-01T00:00:00"
         ],
         "y": [
          "2",
          "2"
         ]
        },
        {
         "hoverinfo": "skip",
         "line": {
          "color": "#C0C0C0"
         },
         "mode": "lines+markers",
         "name": "Unchanged",
         "showlegend": false,
         "type": "scattergl",
         "x": [
          "2023-11-01T00:00:00",
          "2023-12-01T00:00:00"
         ],
         "y": [
          "2",
          "2"
         ]
        },
        {
         "hoverinfo": "skip",
         "line": {
          "color": "#C0C0C0"
         },
         "mode": "lines+markers",
         "name": "Unchanged",
         "showlegend": false,
         "type": "scattergl",
         "x": [
          "2023-12-01T00:00:00",
          "2024-01-01T00:00:00"
         ],
         "y": [
          "2",
          "2"
         ]
        },
        {
         "hoverinfo": "skip",
         "line": {
          "color": "#C0C0C0"
         },
         "mode": "lines+markers",
         "name": "Unchanged",
         "showlegend": false,
         "type": "scattergl",
         "x": [
          "2024-01-01T00:00:00",
          "2024-02-01T00:00:00"
         ],
         "y": [
          "2",
          "2"
         ]
        },
        {
         "hoverinfo": "skip",
         "line": {
          "color": "#C0C0C0"
         },
         "mode": "lines+markers",
         "name": "Unchanged",
         "showlegend": false,
         "type": "scattergl",
         "x": [
          "2024-02-01T00:00:00",
          "2024-03-01T00:00:00"
         ],
         "y": [
          "2",
          "2"
         ]
        },
        {
         "hoverinfo": "skip",
         "line": {
          "color": "#C0C0C0"
         },
         "mode": "lines+markers",
         "name": "Unchanged",
         "showlegend": false,
         "type": "scattergl",
         "x": [
          "2024-03-01T00:00:00",
          "2024-04-01T00:00:00"
         ],
         "y": [
          "2",
          "2"
         ]
        },
        {
         "hoverinfo": "skip",
         "line": {
          "color": "#C0C0C0"
         },
         "mode": "lines+markers",
         "name": "Unchanged",
         "showlegend": false,
         "type": "scattergl",
         "x": [
          "2024-04-01T00:00:00",
          "2024-05-01T00:00:00"
         ],
         "y": [
          "2",
          "2"
         ]
        },
        {
         "hoverinfo": "skip",
         "line": {
          "color": "#C0C0C0"
         },
         "mode": "lines+markers",
         "name": "Unchanged",
         "showlegend": false,
         "type": "scattergl",
         "x": [
          "2024-05-01T00:00:00",
          "2024-06-01T00:00:00"
         ],
         "y": [
          "2",
          "2"
         ]
        },
        {
         "hoverinfo": "skip",
         "line": {
          "color": "#1f77b4"
         },
         "mode": "lines+markers",
         "name": "Train",
         "showlegend": false,
         "type": "scattergl",
         "x": [
          "2020-01-01T00:00:00",
          "2020-02-01T00:00:00"
         ],
         "y": [
          "2",
          "2"
         ]
        },
        {
         "hoverinfo": "skip",
         "line": {
          "color": "#1f77b4"
         },
         "mode": "lines+markers",
         "name": "Train",
         "showlegend": false,
         "type": "scattergl",
         "x": [
          "2020-02-01T00:00:00",
          "2020-03-01T00:00:00"
         ],
         "y": [
          "2",
          "2"
         ]
        },
        {
         "hoverinfo": "skip",
         "line": {
          "color": "#1f77b4"
         },
         "mode": "lines+markers",
         "name": "Train",
         "showlegend": false,
         "type": "scattergl",
         "x": [
          "2020-03-01T00:00:00",
          "2020-04-01T00:00:00"
         ],
         "y": [
          "2",
          "2"
         ]
        },
        {
         "hoverinfo": "skip",
         "line": {
          "color": "#1f77b4"
         },
         "mode": "lines+markers",
         "name": "Train",
         "showlegend": false,
         "type": "scattergl",
         "x": [
          "2020-04-01T00:00:00",
          "2020-05-01T00:00:00"
         ],
         "y": [
          "2",
          "2"
         ]
        },
        {
         "hoverinfo": "skip",
         "line": {
          "color": "#1f77b4"
         },
         "mode": "lines+markers",
         "name": "Train",
         "showlegend": false,
         "type": "scattergl",
         "x": [
          "2020-05-01T00:00:00",
          "2020-06-01T00:00:00"
         ],
         "y": [
          "2",
          "2"
         ]
        },
        {
         "hoverinfo": "skip",
         "line": {
          "color": "#1f77b4"
         },
         "mode": "lines+markers",
         "name": "Train",
         "showlegend": false,
         "type": "scattergl",
         "x": [
          "2020-06-01T00:00:00",
          "2020-07-01T00:00:00"
         ],
         "y": [
          "2",
          "2"
         ]
        },
        {
         "hoverinfo": "skip",
         "line": {
          "color": "#1f77b4"
         },
         "mode": "lines+markers",
         "name": "Train",
         "showlegend": false,
         "type": "scattergl",
         "x": [
          "2020-07-01T00:00:00",
          "2020-08-01T00:00:00"
         ],
         "y": [
          "2",
          "2"
         ]
        },
        {
         "hoverinfo": "skip",
         "line": {
          "color": "#1f77b4"
         },
         "mode": "lines+markers",
         "name": "Train",
         "showlegend": false,
         "type": "scattergl",
         "x": [
          "2020-08-01T00:00:00",
          "2020-09-01T00:00:00"
         ],
         "y": [
          "2",
          "2"
         ]
        },
        {
         "hoverinfo": "skip",
         "line": {
          "color": "#1f77b4"
         },
         "mode": "lines+markers",
         "name": "Train",
         "showlegend": false,
         "type": "scattergl",
         "x": [
          "2020-09-01T00:00:00",
          "2020-10-01T00:00:00"
         ],
         "y": [
          "2",
          "2"
         ]
        },
        {
         "hoverinfo": "skip",
         "line": {
          "color": "#1f77b4"
         },
         "mode": "lines+markers",
         "name": "Train",
         "showlegend": false,
         "type": "scattergl",
         "x": [
          "2020-10-01T00:00:00",
          "2020-11-01T00:00:00"
         ],
         "y": [
          "2",
          "2"
         ]
        },
        {
         "hoverinfo": "skip",
         "line": {
          "color": "#1f77b4"
         },
         "mode": "lines+markers",
         "name": "Train",
         "showlegend": false,
         "type": "scattergl",
         "x": [
          "2020-11-01T00:00:00",
          "2020-12-01T00:00:00"
         ],
         "y": [
          "2",
          "2"
         ]
        },
        {
         "hoverinfo": "skip",
         "line": {
          "color": "#1f77b4"
         },
         "mode": "lines+markers",
         "name": "Train",
         "showlegend": false,
         "type": "scattergl",
         "x": [
          "2020-12-01T00:00:00",
          "2021-01-01T00:00:00"
         ],
         "y": [
          "2",
          "2"
         ]
        },
        {
         "hoverinfo": "skip",
         "line": {
          "color": "#1f77b4"
         },
         "mode": "lines+markers",
         "name": "Train",
         "showlegend": false,
         "type": "scattergl",
         "x": [
          "2021-01-01T00:00:00",
          "2021-02-01T00:00:00"
         ],
         "y": [
          "2",
          "2"
         ]
        },
        {
         "hoverinfo": "skip",
         "line": {
          "color": "#1f77b4"
         },
         "mode": "lines+markers",
         "name": "Train",
         "showlegend": false,
         "type": "scattergl",
         "x": [
          "2021-02-01T00:00:00",
          "2021-03-01T00:00:00"
         ],
         "y": [
          "2",
          "2"
         ]
        },
        {
         "hoverinfo": "skip",
         "line": {
          "color": "#1f77b4"
         },
         "mode": "lines+markers",
         "name": "Train",
         "showlegend": false,
         "type": "scattergl",
         "x": [
          "2021-03-01T00:00:00",
          "2021-04-01T00:00:00"
         ],
         "y": [
          "2",
          "2"
         ]
        },
        {
         "hoverinfo": "skip",
         "line": {
          "color": "#1f77b4"
         },
         "mode": "lines+markers",
         "name": "Train",
         "showlegend": false,
         "type": "scattergl",
         "x": [
          "2021-04-01T00:00:00",
          "2021-05-01T00:00:00"
         ],
         "y": [
          "2",
          "2"
         ]
        },
        {
         "hoverinfo": "skip",
         "line": {
          "color": "#1f77b4"
         },
         "mode": "lines+markers",
         "name": "Train",
         "showlegend": false,
         "type": "scattergl",
         "x": [
          "2021-05-01T00:00:00",
          "2021-06-01T00:00:00"
         ],
         "y": [
          "2",
          "2"
         ]
        },
        {
         "hoverinfo": "skip",
         "line": {
          "color": "#1f77b4"
         },
         "mode": "lines+markers",
         "name": "Train",
         "showlegend": false,
         "type": "scattergl",
         "x": [
          "2021-06-01T00:00:00",
          "2021-07-01T00:00:00"
         ],
         "y": [
          "2",
          "2"
         ]
        },
        {
         "hoverinfo": "skip",
         "line": {
          "color": "#1f77b4"
         },
         "mode": "lines+markers",
         "name": "Train",
         "showlegend": false,
         "type": "scattergl",
         "x": [
          "2021-07-01T00:00:00",
          "2021-08-01T00:00:00"
         ],
         "y": [
          "2",
          "2"
         ]
        },
        {
         "hoverinfo": "skip",
         "line": {
          "color": "#1f77b4"
         },
         "mode": "lines+markers",
         "name": "Train",
         "showlegend": false,
         "type": "scattergl",
         "x": [
          "2021-08-01T00:00:00",
          "2021-09-01T00:00:00"
         ],
         "y": [
          "2",
          "2"
         ]
        },
        {
         "hoverinfo": "skip",
         "line": {
          "color": "#1f77b4"
         },
         "mode": "lines+markers",
         "name": "Train",
         "showlegend": false,
         "type": "scattergl",
         "x": [
          "2021-09-01T00:00:00",
          "2021-10-01T00:00:00"
         ],
         "y": [
          "2",
          "2"
         ]
        },
        {
         "hoverinfo": "skip",
         "line": {
          "color": "#1f77b4"
         },
         "mode": "lines+markers",
         "name": "Train",
         "showlegend": false,
         "type": "scattergl",
         "x": [
          "2021-10-01T00:00:00",
          "2021-11-01T00:00:00"
         ],
         "y": [
          "2",
          "2"
         ]
        },
        {
         "hoverinfo": "skip",
         "line": {
          "color": "#1f77b4"
         },
         "mode": "lines+markers",
         "name": "Train",
         "showlegend": false,
         "type": "scattergl",
         "x": [
          "2021-11-01T00:00:00",
          "2021-12-01T00:00:00"
         ],
         "y": [
          "2",
          "2"
         ]
        },
        {
         "hoverinfo": "skip",
         "line": {
          "color": "#1f77b4"
         },
         "mode": "lines+markers",
         "name": "Train",
         "showlegend": false,
         "type": "scattergl",
         "x": [
          "2021-12-01T00:00:00",
          "2022-01-01T00:00:00"
         ],
         "y": [
          "2",
          "2"
         ]
        },
        {
         "hoverinfo": "skip",
         "line": {
          "color": "#1f77b4"
         },
         "mode": "lines+markers",
         "name": "Train",
         "showlegend": false,
         "type": "scattergl",
         "x": [
          "2022-01-01T00:00:00",
          "2022-02-01T00:00:00"
         ],
         "y": [
          "2",
          "2"
         ]
        },
        {
         "hoverinfo": "skip",
         "line": {
          "color": "#1f77b4"
         },
         "mode": "lines+markers",
         "name": "Train",
         "showlegend": false,
         "type": "scattergl",
         "x": [
          "2022-02-01T00:00:00",
          "2022-03-01T00:00:00"
         ],
         "y": [
          "2",
          "2"
         ]
        },
        {
         "hoverinfo": "skip",
         "line": {
          "color": "#1f77b4"
         },
         "mode": "lines+markers",
         "name": "Train",
         "showlegend": false,
         "type": "scattergl",
         "x": [
          "2022-03-01T00:00:00",
          "2022-04-01T00:00:00"
         ],
         "y": [
          "2",
          "2"
         ]
        },
        {
         "hoverinfo": "skip",
         "line": {
          "color": "#1f77b4"
         },
         "mode": "lines+markers",
         "name": "Train",
         "showlegend": false,
         "type": "scattergl",
         "x": [
          "2022-04-01T00:00:00",
          "2022-05-01T00:00:00"
         ],
         "y": [
          "2",
          "2"
         ]
        },
        {
         "hoverinfo": "skip",
         "line": {
          "color": "#1f77b4"
         },
         "mode": "lines+markers",
         "name": "Train",
         "showlegend": false,
         "type": "scattergl",
         "x": [
          "2022-05-01T00:00:00",
          "2022-06-01T00:00:00"
         ],
         "y": [
          "2",
          "2"
         ]
        },
        {
         "hoverinfo": "skip",
         "line": {
          "color": "#1f77b4"
         },
         "mode": "lines+markers",
         "name": "Train",
         "showlegend": false,
         "type": "scattergl",
         "x": [
          "2022-06-01T00:00:00",
          "2022-07-01T00:00:00"
         ],
         "y": [
          "2",
          "2"
         ]
        },
        {
         "hoverinfo": "skip",
         "line": {
          "color": "#1f77b4"
         },
         "mode": "lines+markers",
         "name": "Train",
         "showlegend": false,
         "type": "scattergl",
         "x": [
          "2022-07-01T00:00:00",
          "2022-08-01T00:00:00"
         ],
         "y": [
          "2",
          "2"
         ]
        },
        {
         "hoverinfo": "skip",
         "line": {
          "color": "#1f77b4"
         },
         "mode": "lines+markers",
         "name": "Train",
         "showlegend": false,
         "type": "scattergl",
         "x": [
          "2022-08-01T00:00:00",
          "2022-09-01T00:00:00"
         ],
         "y": [
          "2",
          "2"
         ]
        },
        {
         "hoverinfo": "skip",
         "line": {
          "color": "#1f77b4"
         },
         "mode": "lines+markers",
         "name": "Train",
         "showlegend": false,
         "type": "scattergl",
         "x": [
          "2022-09-01T00:00:00",
          "2022-10-01T00:00:00"
         ],
         "y": [
          "2",
          "2"
         ]
        },
        {
         "hoverinfo": "skip",
         "line": {
          "color": "#1f77b4"
         },
         "mode": "lines+markers",
         "name": "Train",
         "showlegend": false,
         "type": "scattergl",
         "x": [
          "2022-10-01T00:00:00",
          "2022-11-01T00:00:00"
         ],
         "y": [
          "2",
          "2"
         ]
        },
        {
         "hoverinfo": "skip",
         "line": {
          "color": "#1f77b4"
         },
         "mode": "lines+markers",
         "name": "Train",
         "showlegend": false,
         "type": "scattergl",
         "x": [
          "2022-11-01T00:00:00",
          "2022-12-01T00:00:00"
         ],
         "y": [
          "2",
          "2"
         ]
        },
        {
         "hoverinfo": "skip",
         "line": {
          "color": "#1f77b4"
         },
         "mode": "lines+markers",
         "name": "Train",
         "showlegend": false,
         "type": "scattergl",
         "x": [
          "2022-12-01T00:00:00",
          "2023-01-01T00:00:00"
         ],
         "y": [
          "2",
          "2"
         ]
        },
        {
         "hoverinfo": "skip",
         "line": {
          "color": "#1f77b4"
         },
         "mode": "lines+markers",
         "name": "Train",
         "showlegend": false,
         "type": "scattergl",
         "x": [
          "2023-01-01T00:00:00",
          "2023-02-01T00:00:00"
         ],
         "y": [
          "2",
          "2"
         ]
        },
        {
         "hoverinfo": "skip",
         "line": {
          "color": "#1f77b4"
         },
         "mode": "lines+markers",
         "name": "Train",
         "showlegend": false,
         "type": "scattergl",
         "x": [
          "2023-02-01T00:00:00",
          "2023-03-01T00:00:00"
         ],
         "y": [
          "2",
          "2"
         ]
        },
        {
         "hoverinfo": "skip",
         "line": {
          "color": "#1f77b4"
         },
         "mode": "lines+markers",
         "name": "Train",
         "showlegend": false,
         "type": "scattergl",
         "x": [
          "2023-03-01T00:00:00",
          "2023-04-01T00:00:00"
         ],
         "y": [
          "2",
          "2"
         ]
        },
        {
         "hoverinfo": "skip",
         "line": {
          "color": "#1f77b4"
         },
         "mode": "lines+markers",
         "name": "Train",
         "showlegend": false,
         "type": "scattergl",
         "x": [
          "2023-04-01T00:00:00",
          "2023-05-01T00:00:00"
         ],
         "y": [
          "2",
          "2"
         ]
        },
        {
         "hoverinfo": "skip",
         "line": {
          "color": "#1f77b4"
         },
         "mode": "lines+markers",
         "name": "Train",
         "showlegend": false,
         "type": "scattergl",
         "x": [
          "2023-05-01T00:00:00",
          "2023-06-01T00:00:00"
         ],
         "y": [
          "2",
          "2"
         ]
        },
        {
         "hoverinfo": "skip",
         "line": {
          "color": "#1f77b4"
         },
         "mode": "lines+markers",
         "name": "Train",
         "showlegend": false,
         "type": "scattergl",
         "x": [
          "2023-06-01T00:00:00",
          "2023-07-01T00:00:00"
         ],
         "y": [
          "2",
          "2"
         ]
        },
        {
         "hoverinfo": "skip",
         "line": {
          "color": "#1f77b4"
         },
         "mode": "lines+markers",
         "name": "Train",
         "showlegend": false,
         "type": "scattergl",
         "x": [
          "2023-07-01T00:00:00",
          "2023-08-01T00:00:00"
         ],
         "y": [
          "2",
          "2"
         ]
        },
        {
         "hoverinfo": "skip",
         "line": {
          "color": "#1f77b4"
         },
         "mode": "lines+markers",
         "name": "Train",
         "showlegend": false,
         "type": "scattergl",
         "x": [
          "2023-08-01T00:00:00",
          "2023-09-01T00:00:00"
         ],
         "y": [
          "2",
          "2"
         ]
        },
        {
         "hoverinfo": "skip",
         "line": {
          "color": "#1f77b4"
         },
         "mode": "lines+markers",
         "name": "Train",
         "showlegend": false,
         "type": "scattergl",
         "x": [
          "2023-09-01T00:00:00",
          "2023-10-01T00:00:00"
         ],
         "y": [
          "2",
          "2"
         ]
        },
        {
         "hoverinfo": "skip",
         "line": {
          "color": "#1f77b4"
         },
         "mode": "lines+markers",
         "name": "Train",
         "showlegend": false,
         "type": "scattergl",
         "x": [
          "2023-10-01T00:00:00",
          "2023-11-01T00:00:00"
         ],
         "y": [
          "2",
          "2"
         ]
        },
        {
         "hoverinfo": "skip",
         "line": {
          "color": "#1f77b4"
         },
         "mode": "lines+markers",
         "name": "Train",
         "showlegend": false,
         "type": "scattergl",
         "x": [
          "2023-11-01T00:00:00",
          "2023-12-01T00:00:00"
         ],
         "y": [
          "2",
          "2"
         ]
        },
        {
         "hoverinfo": "skip",
         "line": {
          "color": "#1f77b4"
         },
         "mode": "lines+markers",
         "name": "Train",
         "showlegend": false,
         "type": "scattergl",
         "x": [
          "2023-12-01T00:00:00",
          "2024-01-01T00:00:00"
         ],
         "y": [
          "2",
          "2"
         ]
        },
        {
         "hoverinfo": "skip",
         "line": {
          "color": "#1f77b4"
         },
         "mode": "lines+markers",
         "name": "Train",
         "showlegend": false,
         "type": "scattergl",
         "x": [
          "2024-01-01T00:00:00",
          "2024-02-01T00:00:00"
         ],
         "y": [
          "2",
          "2"
         ]
        },
        {
         "hoverinfo": "skip",
         "line": {
          "color": "#DE970B"
         },
         "mode": "lines+markers",
         "name": "ForecastHorizon",
         "showlegend": false,
         "type": "scattergl",
         "x": [
          "2024-03-01T00:00:00",
          "2024-04-01T00:00:00"
         ],
         "y": [
          "2",
          "2"
         ]
        },
        {
         "hoverinfo": "skip",
         "line": {
          "color": "#DE970B"
         },
         "mode": "lines+markers",
         "name": "ForecastHorizon",
         "showlegend": false,
         "type": "scattergl",
         "x": [
          "2024-04-01T00:00:00",
          "2024-05-01T00:00:00"
         ],
         "y": [
          "2",
          "2"
         ]
        },
        {
         "hoverinfo": "skip",
         "line": {
          "color": "#DE970B"
         },
         "mode": "lines+markers",
         "name": "ForecastHorizon",
         "showlegend": false,
         "type": "scattergl",
         "x": [
          "2024-05-01T00:00:00",
          "2024-06-01T00:00:00"
         ],
         "y": [
          "2",
          "2"
         ]
        },
        {
         "hoverinfo": "skip",
         "line": {
          "color": "#C0C0C0"
         },
         "mode": "lines+markers",
         "name": "Unchanged",
         "showlegend": false,
         "type": "scattergl",
         "x": [
          "2020-01-01T00:00:00",
          "2020-02-01T00:00:00"
         ],
         "y": [
          "1",
          "1"
         ]
        },
        {
         "hoverinfo": "skip",
         "line": {
          "color": "#C0C0C0"
         },
         "mode": "lines+markers",
         "name": "Unchanged",
         "showlegend": false,
         "type": "scattergl",
         "x": [
          "2020-02-01T00:00:00",
          "2020-03-01T00:00:00"
         ],
         "y": [
          "1",
          "1"
         ]
        },
        {
         "hoverinfo": "skip",
         "line": {
          "color": "#C0C0C0"
         },
         "mode": "lines+markers",
         "name": "Unchanged",
         "showlegend": false,
         "type": "scattergl",
         "x": [
          "2020-03-01T00:00:00",
          "2020-04-01T00:00:00"
         ],
         "y": [
          "1",
          "1"
         ]
        },
        {
         "hoverinfo": "skip",
         "line": {
          "color": "#C0C0C0"
         },
         "mode": "lines+markers",
         "name": "Unchanged",
         "showlegend": false,
         "type": "scattergl",
         "x": [
          "2020-04-01T00:00:00",
          "2020-05-01T00:00:00"
         ],
         "y": [
          "1",
          "1"
         ]
        },
        {
         "hoverinfo": "skip",
         "line": {
          "color": "#C0C0C0"
         },
         "mode": "lines+markers",
         "name": "Unchanged",
         "showlegend": false,
         "type": "scattergl",
         "x": [
          "2020-05-01T00:00:00",
          "2020-06-01T00:00:00"
         ],
         "y": [
          "1",
          "1"
         ]
        },
        {
         "hoverinfo": "skip",
         "line": {
          "color": "#C0C0C0"
         },
         "mode": "lines+markers",
         "name": "Unchanged",
         "showlegend": false,
         "type": "scattergl",
         "x": [
          "2020-06-01T00:00:00",
          "2020-07-01T00:00:00"
         ],
         "y": [
          "1",
          "1"
         ]
        },
        {
         "hoverinfo": "skip",
         "line": {
          "color": "#C0C0C0"
         },
         "mode": "lines+markers",
         "name": "Unchanged",
         "showlegend": false,
         "type": "scattergl",
         "x": [
          "2020-07-01T00:00:00",
          "2020-08-01T00:00:00"
         ],
         "y": [
          "1",
          "1"
         ]
        },
        {
         "hoverinfo": "skip",
         "line": {
          "color": "#C0C0C0"
         },
         "mode": "lines+markers",
         "name": "Unchanged",
         "showlegend": false,
         "type": "scattergl",
         "x": [
          "2020-08-01T00:00:00",
          "2020-09-01T00:00:00"
         ],
         "y": [
          "1",
          "1"
         ]
        },
        {
         "hoverinfo": "skip",
         "line": {
          "color": "#C0C0C0"
         },
         "mode": "lines+markers",
         "name": "Unchanged",
         "showlegend": false,
         "type": "scattergl",
         "x": [
          "2020-09-01T00:00:00",
          "2020-10-01T00:00:00"
         ],
         "y": [
          "1",
          "1"
         ]
        },
        {
         "hoverinfo": "skip",
         "line": {
          "color": "#C0C0C0"
         },
         "mode": "lines+markers",
         "name": "Unchanged",
         "showlegend": false,
         "type": "scattergl",
         "x": [
          "2020-10-01T00:00:00",
          "2020-11-01T00:00:00"
         ],
         "y": [
          "1",
          "1"
         ]
        },
        {
         "hoverinfo": "skip",
         "line": {
          "color": "#C0C0C0"
         },
         "mode": "lines+markers",
         "name": "Unchanged",
         "showlegend": false,
         "type": "scattergl",
         "x": [
          "2020-11-01T00:00:00",
          "2020-12-01T00:00:00"
         ],
         "y": [
          "1",
          "1"
         ]
        },
        {
         "hoverinfo": "skip",
         "line": {
          "color": "#C0C0C0"
         },
         "mode": "lines+markers",
         "name": "Unchanged",
         "showlegend": false,
         "type": "scattergl",
         "x": [
          "2020-12-01T00:00:00",
          "2021-01-01T00:00:00"
         ],
         "y": [
          "1",
          "1"
         ]
        },
        {
         "hoverinfo": "skip",
         "line": {
          "color": "#C0C0C0"
         },
         "mode": "lines+markers",
         "name": "Unchanged",
         "showlegend": false,
         "type": "scattergl",
         "x": [
          "2021-01-01T00:00:00",
          "2021-02-01T00:00:00"
         ],
         "y": [
          "1",
          "1"
         ]
        },
        {
         "hoverinfo": "skip",
         "line": {
          "color": "#C0C0C0"
         },
         "mode": "lines+markers",
         "name": "Unchanged",
         "showlegend": false,
         "type": "scattergl",
         "x": [
          "2021-02-01T00:00:00",
          "2021-03-01T00:00:00"
         ],
         "y": [
          "1",
          "1"
         ]
        },
        {
         "hoverinfo": "skip",
         "line": {
          "color": "#C0C0C0"
         },
         "mode": "lines+markers",
         "name": "Unchanged",
         "showlegend": false,
         "type": "scattergl",
         "x": [
          "2021-03-01T00:00:00",
          "2021-04-01T00:00:00"
         ],
         "y": [
          "1",
          "1"
         ]
        },
        {
         "hoverinfo": "skip",
         "line": {
          "color": "#C0C0C0"
         },
         "mode": "lines+markers",
         "name": "Unchanged",
         "showlegend": false,
         "type": "scattergl",
         "x": [
          "2021-04-01T00:00:00",
          "2021-05-01T00:00:00"
         ],
         "y": [
          "1",
          "1"
         ]
        },
        {
         "hoverinfo": "skip",
         "line": {
          "color": "#C0C0C0"
         },
         "mode": "lines+markers",
         "name": "Unchanged",
         "showlegend": false,
         "type": "scattergl",
         "x": [
          "2021-05-01T00:00:00",
          "2021-06-01T00:00:00"
         ],
         "y": [
          "1",
          "1"
         ]
        },
        {
         "hoverinfo": "skip",
         "line": {
          "color": "#C0C0C0"
         },
         "mode": "lines+markers",
         "name": "Unchanged",
         "showlegend": false,
         "type": "scattergl",
         "x": [
          "2021-06-01T00:00:00",
          "2021-07-01T00:00:00"
         ],
         "y": [
          "1",
          "1"
         ]
        },
        {
         "hoverinfo": "skip",
         "line": {
          "color": "#C0C0C0"
         },
         "mode": "lines+markers",
         "name": "Unchanged",
         "showlegend": false,
         "type": "scattergl",
         "x": [
          "2021-07-01T00:00:00",
          "2021-08-01T00:00:00"
         ],
         "y": [
          "1",
          "1"
         ]
        },
        {
         "hoverinfo": "skip",
         "line": {
          "color": "#C0C0C0"
         },
         "mode": "lines+markers",
         "name": "Unchanged",
         "showlegend": false,
         "type": "scattergl",
         "x": [
          "2021-08-01T00:00:00",
          "2021-09-01T00:00:00"
         ],
         "y": [
          "1",
          "1"
         ]
        },
        {
         "hoverinfo": "skip",
         "line": {
          "color": "#C0C0C0"
         },
         "mode": "lines+markers",
         "name": "Unchanged",
         "showlegend": false,
         "type": "scattergl",
         "x": [
          "2021-09-01T00:00:00",
          "2021-10-01T00:00:00"
         ],
         "y": [
          "1",
          "1"
         ]
        },
        {
         "hoverinfo": "skip",
         "line": {
          "color": "#C0C0C0"
         },
         "mode": "lines+markers",
         "name": "Unchanged",
         "showlegend": false,
         "type": "scattergl",
         "x": [
          "2021-10-01T00:00:00",
          "2021-11-01T00:00:00"
         ],
         "y": [
          "1",
          "1"
         ]
        },
        {
         "hoverinfo": "skip",
         "line": {
          "color": "#C0C0C0"
         },
         "mode": "lines+markers",
         "name": "Unchanged",
         "showlegend": false,
         "type": "scattergl",
         "x": [
          "2021-11-01T00:00:00",
          "2021-12-01T00:00:00"
         ],
         "y": [
          "1",
          "1"
         ]
        },
        {
         "hoverinfo": "skip",
         "line": {
          "color": "#C0C0C0"
         },
         "mode": "lines+markers",
         "name": "Unchanged",
         "showlegend": false,
         "type": "scattergl",
         "x": [
          "2021-12-01T00:00:00",
          "2022-01-01T00:00:00"
         ],
         "y": [
          "1",
          "1"
         ]
        },
        {
         "hoverinfo": "skip",
         "line": {
          "color": "#C0C0C0"
         },
         "mode": "lines+markers",
         "name": "Unchanged",
         "showlegend": false,
         "type": "scattergl",
         "x": [
          "2022-01-01T00:00:00",
          "2022-02-01T00:00:00"
         ],
         "y": [
          "1",
          "1"
         ]
        },
        {
         "hoverinfo": "skip",
         "line": {
          "color": "#C0C0C0"
         },
         "mode": "lines+markers",
         "name": "Unchanged",
         "showlegend": false,
         "type": "scattergl",
         "x": [
          "2022-02-01T00:00:00",
          "2022-03-01T00:00:00"
         ],
         "y": [
          "1",
          "1"
         ]
        },
        {
         "hoverinfo": "skip",
         "line": {
          "color": "#C0C0C0"
         },
         "mode": "lines+markers",
         "name": "Unchanged",
         "showlegend": false,
         "type": "scattergl",
         "x": [
          "2022-03-01T00:00:00",
          "2022-04-01T00:00:00"
         ],
         "y": [
          "1",
          "1"
         ]
        },
        {
         "hoverinfo": "skip",
         "line": {
          "color": "#C0C0C0"
         },
         "mode": "lines+markers",
         "name": "Unchanged",
         "showlegend": false,
         "type": "scattergl",
         "x": [
          "2022-04-01T00:00:00",
          "2022-05-01T00:00:00"
         ],
         "y": [
          "1",
          "1"
         ]
        },
        {
         "hoverinfo": "skip",
         "line": {
          "color": "#C0C0C0"
         },
         "mode": "lines+markers",
         "name": "Unchanged",
         "showlegend": false,
         "type": "scattergl",
         "x": [
          "2022-05-01T00:00:00",
          "2022-06-01T00:00:00"
         ],
         "y": [
          "1",
          "1"
         ]
        },
        {
         "hoverinfo": "skip",
         "line": {
          "color": "#C0C0C0"
         },
         "mode": "lines+markers",
         "name": "Unchanged",
         "showlegend": false,
         "type": "scattergl",
         "x": [
          "2022-06-01T00:00:00",
          "2022-07-01T00:00:00"
         ],
         "y": [
          "1",
          "1"
         ]
        },
        {
         "hoverinfo": "skip",
         "line": {
          "color": "#C0C0C0"
         },
         "mode": "lines+markers",
         "name": "Unchanged",
         "showlegend": false,
         "type": "scattergl",
         "x": [
          "2022-07-01T00:00:00",
          "2022-08-01T00:00:00"
         ],
         "y": [
          "1",
          "1"
         ]
        },
        {
         "hoverinfo": "skip",
         "line": {
          "color": "#C0C0C0"
         },
         "mode": "lines+markers",
         "name": "Unchanged",
         "showlegend": false,
         "type": "scattergl",
         "x": [
          "2022-08-01T00:00:00",
          "2022-09-01T00:00:00"
         ],
         "y": [
          "1",
          "1"
         ]
        },
        {
         "hoverinfo": "skip",
         "line": {
          "color": "#C0C0C0"
         },
         "mode": "lines+markers",
         "name": "Unchanged",
         "showlegend": false,
         "type": "scattergl",
         "x": [
          "2022-09-01T00:00:00",
          "2022-10-01T00:00:00"
         ],
         "y": [
          "1",
          "1"
         ]
        },
        {
         "hoverinfo": "skip",
         "line": {
          "color": "#C0C0C0"
         },
         "mode": "lines+markers",
         "name": "Unchanged",
         "showlegend": false,
         "type": "scattergl",
         "x": [
          "2022-10-01T00:00:00",
          "2022-11-01T00:00:00"
         ],
         "y": [
          "1",
          "1"
         ]
        },
        {
         "hoverinfo": "skip",
         "line": {
          "color": "#C0C0C0"
         },
         "mode": "lines+markers",
         "name": "Unchanged",
         "showlegend": false,
         "type": "scattergl",
         "x": [
          "2022-11-01T00:00:00",
          "2022-12-01T00:00:00"
         ],
         "y": [
          "1",
          "1"
         ]
        },
        {
         "hoverinfo": "skip",
         "line": {
          "color": "#C0C0C0"
         },
         "mode": "lines+markers",
         "name": "Unchanged",
         "showlegend": false,
         "type": "scattergl",
         "x": [
          "2022-12-01T00:00:00",
          "2023-01-01T00:00:00"
         ],
         "y": [
          "1",
          "1"
         ]
        },
        {
         "hoverinfo": "skip",
         "line": {
          "color": "#C0C0C0"
         },
         "mode": "lines+markers",
         "name": "Unchanged",
         "showlegend": false,
         "type": "scattergl",
         "x": [
          "2023-01-01T00:00:00",
          "2023-02-01T00:00:00"
         ],
         "y": [
          "1",
          "1"
         ]
        },
        {
         "hoverinfo": "skip",
         "line": {
          "color": "#C0C0C0"
         },
         "mode": "lines+markers",
         "name": "Unchanged",
         "showlegend": false,
         "type": "scattergl",
         "x": [
          "2023-02-01T00:00:00",
          "2023-03-01T00:00:00"
         ],
         "y": [
          "1",
          "1"
         ]
        },
        {
         "hoverinfo": "skip",
         "line": {
          "color": "#C0C0C0"
         },
         "mode": "lines+markers",
         "name": "Unchanged",
         "showlegend": false,
         "type": "scattergl",
         "x": [
          "2023-03-01T00:00:00",
          "2023-04-01T00:00:00"
         ],
         "y": [
          "1",
          "1"
         ]
        },
        {
         "hoverinfo": "skip",
         "line": {
          "color": "#C0C0C0"
         },
         "mode": "lines+markers",
         "name": "Unchanged",
         "showlegend": false,
         "type": "scattergl",
         "x": [
          "2023-04-01T00:00:00",
          "2023-05-01T00:00:00"
         ],
         "y": [
          "1",
          "1"
         ]
        },
        {
         "hoverinfo": "skip",
         "line": {
          "color": "#C0C0C0"
         },
         "mode": "lines+markers",
         "name": "Unchanged",
         "showlegend": false,
         "type": "scattergl",
         "x": [
          "2023-05-01T00:00:00",
          "2023-06-01T00:00:00"
         ],
         "y": [
          "1",
          "1"
         ]
        },
        {
         "hoverinfo": "skip",
         "line": {
          "color": "#C0C0C0"
         },
         "mode": "lines+markers",
         "name": "Unchanged",
         "showlegend": false,
         "type": "scattergl",
         "x": [
          "2023-06-01T00:00:00",
          "2023-07-01T00:00:00"
         ],
         "y": [
          "1",
          "1"
         ]
        },
        {
         "hoverinfo": "skip",
         "line": {
          "color": "#C0C0C0"
         },
         "mode": "lines+markers",
         "name": "Unchanged",
         "showlegend": false,
         "type": "scattergl",
         "x": [
          "2023-07-01T00:00:00",
          "2023-08-01T00:00:00"
         ],
         "y": [
          "1",
          "1"
         ]
        },
        {
         "hoverinfo": "skip",
         "line": {
          "color": "#C0C0C0"
         },
         "mode": "lines+markers",
         "name": "Unchanged",
         "showlegend": false,
         "type": "scattergl",
         "x": [
          "2023-08-01T00:00:00",
          "2023-09-01T00:00:00"
         ],
         "y": [
          "1",
          "1"
         ]
        },
        {
         "hoverinfo": "skip",
         "line": {
          "color": "#C0C0C0"
         },
         "mode": "lines+markers",
         "name": "Unchanged",
         "showlegend": false,
         "type": "scattergl",
         "x": [
          "2023-09-01T00:00:00",
          "2023-10-01T00:00:00"
         ],
         "y": [
          "1",
          "1"
         ]
        },
        {
         "hoverinfo": "skip",
         "line": {
          "color": "#C0C0C0"
         },
         "mode": "lines+markers",
         "name": "Unchanged",
         "showlegend": false,
         "type": "scattergl",
         "x": [
          "2023-10-01T00:00:00",
          "2023-11-01T00:00:00"
         ],
         "y": [
          "1",
          "1"
         ]
        },
        {
         "hoverinfo": "skip",
         "line": {
          "color": "#C0C0C0"
         },
         "mode": "lines+markers",
         "name": "Unchanged",
         "showlegend": false,
         "type": "scattergl",
         "x": [
          "2023-11-01T00:00:00",
          "2023-12-01T00:00:00"
         ],
         "y": [
          "1",
          "1"
         ]
        },
        {
         "hoverinfo": "skip",
         "line": {
          "color": "#C0C0C0"
         },
         "mode": "lines+markers",
         "name": "Unchanged",
         "showlegend": false,
         "type": "scattergl",
         "x": [
          "2023-12-01T00:00:00",
          "2024-01-01T00:00:00"
         ],
         "y": [
          "1",
          "1"
         ]
        },
        {
         "hoverinfo": "skip",
         "line": {
          "color": "#C0C0C0"
         },
         "mode": "lines+markers",
         "name": "Unchanged",
         "showlegend": false,
         "type": "scattergl",
         "x": [
          "2024-01-01T00:00:00",
          "2024-02-01T00:00:00"
         ],
         "y": [
          "1",
          "1"
         ]
        },
        {
         "hoverinfo": "skip",
         "line": {
          "color": "#C0C0C0"
         },
         "mode": "lines+markers",
         "name": "Unchanged",
         "showlegend": false,
         "type": "scattergl",
         "x": [
          "2024-02-01T00:00:00",
          "2024-03-01T00:00:00"
         ],
         "y": [
          "1",
          "1"
         ]
        },
        {
         "hoverinfo": "skip",
         "line": {
          "color": "#C0C0C0"
         },
         "mode": "lines+markers",
         "name": "Unchanged",
         "showlegend": false,
         "type": "scattergl",
         "x": [
          "2024-03-01T00:00:00",
          "2024-04-01T00:00:00"
         ],
         "y": [
          "1",
          "1"
         ]
        },
        {
         "hoverinfo": "skip",
         "line": {
          "color": "#C0C0C0"
         },
         "mode": "lines+markers",
         "name": "Unchanged",
         "showlegend": false,
         "type": "scattergl",
         "x": [
          "2024-04-01T00:00:00",
          "2024-05-01T00:00:00"
         ],
         "y": [
          "1",
          "1"
         ]
        },
        {
         "hoverinfo": "skip",
         "line": {
          "color": "#C0C0C0"
         },
         "mode": "lines+markers",
         "name": "Unchanged",
         "showlegend": false,
         "type": "scattergl",
         "x": [
          "2024-05-01T00:00:00",
          "2024-06-01T00:00:00"
         ],
         "y": [
          "1",
          "1"
         ]
        },
        {
         "hoverinfo": "skip",
         "line": {
          "color": "#1f77b4"
         },
         "mode": "lines+markers",
         "name": "Train",
         "showlegend": false,
         "type": "scattergl",
         "x": [
          "2020-01-01T00:00:00",
          "2020-02-01T00:00:00"
         ],
         "y": [
          "1",
          "1"
         ]
        },
        {
         "hoverinfo": "skip",
         "line": {
          "color": "#1f77b4"
         },
         "mode": "lines+markers",
         "name": "Train",
         "showlegend": false,
         "type": "scattergl",
         "x": [
          "2020-02-01T00:00:00",
          "2020-03-01T00:00:00"
         ],
         "y": [
          "1",
          "1"
         ]
        },
        {
         "hoverinfo": "skip",
         "line": {
          "color": "#1f77b4"
         },
         "mode": "lines+markers",
         "name": "Train",
         "showlegend": false,
         "type": "scattergl",
         "x": [
          "2020-03-01T00:00:00",
          "2020-04-01T00:00:00"
         ],
         "y": [
          "1",
          "1"
         ]
        },
        {
         "hoverinfo": "skip",
         "line": {
          "color": "#1f77b4"
         },
         "mode": "lines+markers",
         "name": "Train",
         "showlegend": false,
         "type": "scattergl",
         "x": [
          "2020-04-01T00:00:00",
          "2020-05-01T00:00:00"
         ],
         "y": [
          "1",
          "1"
         ]
        },
        {
         "hoverinfo": "skip",
         "line": {
          "color": "#1f77b4"
         },
         "mode": "lines+markers",
         "name": "Train",
         "showlegend": false,
         "type": "scattergl",
         "x": [
          "2020-05-01T00:00:00",
          "2020-06-01T00:00:00"
         ],
         "y": [
          "1",
          "1"
         ]
        },
        {
         "hoverinfo": "skip",
         "line": {
          "color": "#1f77b4"
         },
         "mode": "lines+markers",
         "name": "Train",
         "showlegend": false,
         "type": "scattergl",
         "x": [
          "2020-06-01T00:00:00",
          "2020-07-01T00:00:00"
         ],
         "y": [
          "1",
          "1"
         ]
        },
        {
         "hoverinfo": "skip",
         "line": {
          "color": "#1f77b4"
         },
         "mode": "lines+markers",
         "name": "Train",
         "showlegend": false,
         "type": "scattergl",
         "x": [
          "2020-07-01T00:00:00",
          "2020-08-01T00:00:00"
         ],
         "y": [
          "1",
          "1"
         ]
        },
        {
         "hoverinfo": "skip",
         "line": {
          "color": "#1f77b4"
         },
         "mode": "lines+markers",
         "name": "Train",
         "showlegend": false,
         "type": "scattergl",
         "x": [
          "2020-08-01T00:00:00",
          "2020-09-01T00:00:00"
         ],
         "y": [
          "1",
          "1"
         ]
        },
        {
         "hoverinfo": "skip",
         "line": {
          "color": "#1f77b4"
         },
         "mode": "lines+markers",
         "name": "Train",
         "showlegend": false,
         "type": "scattergl",
         "x": [
          "2020-09-01T00:00:00",
          "2020-10-01T00:00:00"
         ],
         "y": [
          "1",
          "1"
         ]
        },
        {
         "hoverinfo": "skip",
         "line": {
          "color": "#1f77b4"
         },
         "mode": "lines+markers",
         "name": "Train",
         "showlegend": false,
         "type": "scattergl",
         "x": [
          "2020-10-01T00:00:00",
          "2020-11-01T00:00:00"
         ],
         "y": [
          "1",
          "1"
         ]
        },
        {
         "hoverinfo": "skip",
         "line": {
          "color": "#1f77b4"
         },
         "mode": "lines+markers",
         "name": "Train",
         "showlegend": false,
         "type": "scattergl",
         "x": [
          "2020-11-01T00:00:00",
          "2020-12-01T00:00:00"
         ],
         "y": [
          "1",
          "1"
         ]
        },
        {
         "hoverinfo": "skip",
         "line": {
          "color": "#1f77b4"
         },
         "mode": "lines+markers",
         "name": "Train",
         "showlegend": false,
         "type": "scattergl",
         "x": [
          "2020-12-01T00:00:00",
          "2021-01-01T00:00:00"
         ],
         "y": [
          "1",
          "1"
         ]
        },
        {
         "hoverinfo": "skip",
         "line": {
          "color": "#1f77b4"
         },
         "mode": "lines+markers",
         "name": "Train",
         "showlegend": false,
         "type": "scattergl",
         "x": [
          "2021-01-01T00:00:00",
          "2021-02-01T00:00:00"
         ],
         "y": [
          "1",
          "1"
         ]
        },
        {
         "hoverinfo": "skip",
         "line": {
          "color": "#1f77b4"
         },
         "mode": "lines+markers",
         "name": "Train",
         "showlegend": false,
         "type": "scattergl",
         "x": [
          "2021-02-01T00:00:00",
          "2021-03-01T00:00:00"
         ],
         "y": [
          "1",
          "1"
         ]
        },
        {
         "hoverinfo": "skip",
         "line": {
          "color": "#1f77b4"
         },
         "mode": "lines+markers",
         "name": "Train",
         "showlegend": false,
         "type": "scattergl",
         "x": [
          "2021-03-01T00:00:00",
          "2021-04-01T00:00:00"
         ],
         "y": [
          "1",
          "1"
         ]
        },
        {
         "hoverinfo": "skip",
         "line": {
          "color": "#1f77b4"
         },
         "mode": "lines+markers",
         "name": "Train",
         "showlegend": false,
         "type": "scattergl",
         "x": [
          "2021-04-01T00:00:00",
          "2021-05-01T00:00:00"
         ],
         "y": [
          "1",
          "1"
         ]
        },
        {
         "hoverinfo": "skip",
         "line": {
          "color": "#1f77b4"
         },
         "mode": "lines+markers",
         "name": "Train",
         "showlegend": false,
         "type": "scattergl",
         "x": [
          "2021-05-01T00:00:00",
          "2021-06-01T00:00:00"
         ],
         "y": [
          "1",
          "1"
         ]
        },
        {
         "hoverinfo": "skip",
         "line": {
          "color": "#1f77b4"
         },
         "mode": "lines+markers",
         "name": "Train",
         "showlegend": false,
         "type": "scattergl",
         "x": [
          "2021-06-01T00:00:00",
          "2021-07-01T00:00:00"
         ],
         "y": [
          "1",
          "1"
         ]
        },
        {
         "hoverinfo": "skip",
         "line": {
          "color": "#1f77b4"
         },
         "mode": "lines+markers",
         "name": "Train",
         "showlegend": false,
         "type": "scattergl",
         "x": [
          "2021-07-01T00:00:00",
          "2021-08-01T00:00:00"
         ],
         "y": [
          "1",
          "1"
         ]
        },
        {
         "hoverinfo": "skip",
         "line": {
          "color": "#1f77b4"
         },
         "mode": "lines+markers",
         "name": "Train",
         "showlegend": false,
         "type": "scattergl",
         "x": [
          "2021-08-01T00:00:00",
          "2021-09-01T00:00:00"
         ],
         "y": [
          "1",
          "1"
         ]
        },
        {
         "hoverinfo": "skip",
         "line": {
          "color": "#1f77b4"
         },
         "mode": "lines+markers",
         "name": "Train",
         "showlegend": false,
         "type": "scattergl",
         "x": [
          "2021-09-01T00:00:00",
          "2021-10-01T00:00:00"
         ],
         "y": [
          "1",
          "1"
         ]
        },
        {
         "hoverinfo": "skip",
         "line": {
          "color": "#1f77b4"
         },
         "mode": "lines+markers",
         "name": "Train",
         "showlegend": false,
         "type": "scattergl",
         "x": [
          "2021-10-01T00:00:00",
          "2021-11-01T00:00:00"
         ],
         "y": [
          "1",
          "1"
         ]
        },
        {
         "hoverinfo": "skip",
         "line": {
          "color": "#1f77b4"
         },
         "mode": "lines+markers",
         "name": "Train",
         "showlegend": false,
         "type": "scattergl",
         "x": [
          "2021-11-01T00:00:00",
          "2021-12-01T00:00:00"
         ],
         "y": [
          "1",
          "1"
         ]
        },
        {
         "hoverinfo": "skip",
         "line": {
          "color": "#1f77b4"
         },
         "mode": "lines+markers",
         "name": "Train",
         "showlegend": false,
         "type": "scattergl",
         "x": [
          "2021-12-01T00:00:00",
          "2022-01-01T00:00:00"
         ],
         "y": [
          "1",
          "1"
         ]
        },
        {
         "hoverinfo": "skip",
         "line": {
          "color": "#1f77b4"
         },
         "mode": "lines+markers",
         "name": "Train",
         "showlegend": false,
         "type": "scattergl",
         "x": [
          "2022-01-01T00:00:00",
          "2022-02-01T00:00:00"
         ],
         "y": [
          "1",
          "1"
         ]
        },
        {
         "hoverinfo": "skip",
         "line": {
          "color": "#1f77b4"
         },
         "mode": "lines+markers",
         "name": "Train",
         "showlegend": false,
         "type": "scattergl",
         "x": [
          "2022-02-01T00:00:00",
          "2022-03-01T00:00:00"
         ],
         "y": [
          "1",
          "1"
         ]
        },
        {
         "hoverinfo": "skip",
         "line": {
          "color": "#1f77b4"
         },
         "mode": "lines+markers",
         "name": "Train",
         "showlegend": false,
         "type": "scattergl",
         "x": [
          "2022-03-01T00:00:00",
          "2022-04-01T00:00:00"
         ],
         "y": [
          "1",
          "1"
         ]
        },
        {
         "hoverinfo": "skip",
         "line": {
          "color": "#1f77b4"
         },
         "mode": "lines+markers",
         "name": "Train",
         "showlegend": false,
         "type": "scattergl",
         "x": [
          "2022-04-01T00:00:00",
          "2022-05-01T00:00:00"
         ],
         "y": [
          "1",
          "1"
         ]
        },
        {
         "hoverinfo": "skip",
         "line": {
          "color": "#1f77b4"
         },
         "mode": "lines+markers",
         "name": "Train",
         "showlegend": false,
         "type": "scattergl",
         "x": [
          "2022-05-01T00:00:00",
          "2022-06-01T00:00:00"
         ],
         "y": [
          "1",
          "1"
         ]
        },
        {
         "hoverinfo": "skip",
         "line": {
          "color": "#1f77b4"
         },
         "mode": "lines+markers",
         "name": "Train",
         "showlegend": false,
         "type": "scattergl",
         "x": [
          "2022-06-01T00:00:00",
          "2022-07-01T00:00:00"
         ],
         "y": [
          "1",
          "1"
         ]
        },
        {
         "hoverinfo": "skip",
         "line": {
          "color": "#1f77b4"
         },
         "mode": "lines+markers",
         "name": "Train",
         "showlegend": false,
         "type": "scattergl",
         "x": [
          "2022-07-01T00:00:00",
          "2022-08-01T00:00:00"
         ],
         "y": [
          "1",
          "1"
         ]
        },
        {
         "hoverinfo": "skip",
         "line": {
          "color": "#1f77b4"
         },
         "mode": "lines+markers",
         "name": "Train",
         "showlegend": false,
         "type": "scattergl",
         "x": [
          "2022-08-01T00:00:00",
          "2022-09-01T00:00:00"
         ],
         "y": [
          "1",
          "1"
         ]
        },
        {
         "hoverinfo": "skip",
         "line": {
          "color": "#1f77b4"
         },
         "mode": "lines+markers",
         "name": "Train",
         "showlegend": false,
         "type": "scattergl",
         "x": [
          "2022-09-01T00:00:00",
          "2022-10-01T00:00:00"
         ],
         "y": [
          "1",
          "1"
         ]
        },
        {
         "hoverinfo": "skip",
         "line": {
          "color": "#1f77b4"
         },
         "mode": "lines+markers",
         "name": "Train",
         "showlegend": false,
         "type": "scattergl",
         "x": [
          "2022-10-01T00:00:00",
          "2022-11-01T00:00:00"
         ],
         "y": [
          "1",
          "1"
         ]
        },
        {
         "hoverinfo": "skip",
         "line": {
          "color": "#1f77b4"
         },
         "mode": "lines+markers",
         "name": "Train",
         "showlegend": false,
         "type": "scattergl",
         "x": [
          "2022-11-01T00:00:00",
          "2022-12-01T00:00:00"
         ],
         "y": [
          "1",
          "1"
         ]
        },
        {
         "hoverinfo": "skip",
         "line": {
          "color": "#1f77b4"
         },
         "mode": "lines+markers",
         "name": "Train",
         "showlegend": false,
         "type": "scattergl",
         "x": [
          "2022-12-01T00:00:00",
          "2023-01-01T00:00:00"
         ],
         "y": [
          "1",
          "1"
         ]
        },
        {
         "hoverinfo": "skip",
         "line": {
          "color": "#1f77b4"
         },
         "mode": "lines+markers",
         "name": "Train",
         "showlegend": false,
         "type": "scattergl",
         "x": [
          "2023-01-01T00:00:00",
          "2023-02-01T00:00:00"
         ],
         "y": [
          "1",
          "1"
         ]
        },
        {
         "hoverinfo": "skip",
         "line": {
          "color": "#1f77b4"
         },
         "mode": "lines+markers",
         "name": "Train",
         "showlegend": false,
         "type": "scattergl",
         "x": [
          "2023-02-01T00:00:00",
          "2023-03-01T00:00:00"
         ],
         "y": [
          "1",
          "1"
         ]
        },
        {
         "hoverinfo": "skip",
         "line": {
          "color": "#1f77b4"
         },
         "mode": "lines+markers",
         "name": "Train",
         "showlegend": false,
         "type": "scattergl",
         "x": [
          "2023-03-01T00:00:00",
          "2023-04-01T00:00:00"
         ],
         "y": [
          "1",
          "1"
         ]
        },
        {
         "hoverinfo": "skip",
         "line": {
          "color": "#1f77b4"
         },
         "mode": "lines+markers",
         "name": "Train",
         "showlegend": false,
         "type": "scattergl",
         "x": [
          "2023-04-01T00:00:00",
          "2023-05-01T00:00:00"
         ],
         "y": [
          "1",
          "1"
         ]
        },
        {
         "hoverinfo": "skip",
         "line": {
          "color": "#1f77b4"
         },
         "mode": "lines+markers",
         "name": "Train",
         "showlegend": false,
         "type": "scattergl",
         "x": [
          "2023-05-01T00:00:00",
          "2023-06-01T00:00:00"
         ],
         "y": [
          "1",
          "1"
         ]
        },
        {
         "hoverinfo": "skip",
         "line": {
          "color": "#1f77b4"
         },
         "mode": "lines+markers",
         "name": "Train",
         "showlegend": false,
         "type": "scattergl",
         "x": [
          "2023-06-01T00:00:00",
          "2023-07-01T00:00:00"
         ],
         "y": [
          "1",
          "1"
         ]
        },
        {
         "hoverinfo": "skip",
         "line": {
          "color": "#1f77b4"
         },
         "mode": "lines+markers",
         "name": "Train",
         "showlegend": false,
         "type": "scattergl",
         "x": [
          "2023-07-01T00:00:00",
          "2023-08-01T00:00:00"
         ],
         "y": [
          "1",
          "1"
         ]
        },
        {
         "hoverinfo": "skip",
         "line": {
          "color": "#1f77b4"
         },
         "mode": "lines+markers",
         "name": "Train",
         "showlegend": false,
         "type": "scattergl",
         "x": [
          "2023-08-01T00:00:00",
          "2023-09-01T00:00:00"
         ],
         "y": [
          "1",
          "1"
         ]
        },
        {
         "hoverinfo": "skip",
         "line": {
          "color": "#1f77b4"
         },
         "mode": "lines+markers",
         "name": "Train",
         "showlegend": false,
         "type": "scattergl",
         "x": [
          "2023-09-01T00:00:00",
          "2023-10-01T00:00:00"
         ],
         "y": [
          "1",
          "1"
         ]
        },
        {
         "hoverinfo": "skip",
         "line": {
          "color": "#DE970B"
         },
         "mode": "lines+markers",
         "name": "ForecastHorizon",
         "showlegend": false,
         "type": "scattergl",
         "x": [
          "2023-11-01T00:00:00",
          "2023-12-01T00:00:00"
         ],
         "y": [
          "1",
          "1"
         ]
        },
        {
         "hoverinfo": "skip",
         "line": {
          "color": "#DE970B"
         },
         "mode": "lines+markers",
         "name": "ForecastHorizon",
         "showlegend": false,
         "type": "scattergl",
         "x": [
          "2023-12-01T00:00:00",
          "2024-01-01T00:00:00"
         ],
         "y": [
          "1",
          "1"
         ]
        },
        {
         "hoverinfo": "skip",
         "line": {
          "color": "#DE970B"
         },
         "mode": "lines+markers",
         "name": "ForecastHorizon",
         "showlegend": false,
         "type": "scattergl",
         "x": [
          "2024-01-01T00:00:00",
          "2024-02-01T00:00:00"
         ],
         "y": [
          "1",
          "1"
         ]
        },
        {
         "hoverinfo": "skip",
         "line": {
          "color": "#C0C0C0"
         },
         "mode": "lines+markers",
         "name": "Unchanged",
         "showlegend": false,
         "type": "scattergl",
         "x": [
          "2020-01-01T00:00:00",
          "2020-02-01T00:00:00"
         ],
         "y": [
          "0",
          "0"
         ]
        },
        {
         "hoverinfo": "skip",
         "line": {
          "color": "#C0C0C0"
         },
         "mode": "lines+markers",
         "name": "Unchanged",
         "showlegend": false,
         "type": "scattergl",
         "x": [
          "2020-02-01T00:00:00",
          "2020-03-01T00:00:00"
         ],
         "y": [
          "0",
          "0"
         ]
        },
        {
         "hoverinfo": "skip",
         "line": {
          "color": "#C0C0C0"
         },
         "mode": "lines+markers",
         "name": "Unchanged",
         "showlegend": false,
         "type": "scattergl",
         "x": [
          "2020-03-01T00:00:00",
          "2020-04-01T00:00:00"
         ],
         "y": [
          "0",
          "0"
         ]
        },
        {
         "hoverinfo": "skip",
         "line": {
          "color": "#C0C0C0"
         },
         "mode": "lines+markers",
         "name": "Unchanged",
         "showlegend": false,
         "type": "scattergl",
         "x": [
          "2020-04-01T00:00:00",
          "2020-05-01T00:00:00"
         ],
         "y": [
          "0",
          "0"
         ]
        },
        {
         "hoverinfo": "skip",
         "line": {
          "color": "#C0C0C0"
         },
         "mode": "lines+markers",
         "name": "Unchanged",
         "showlegend": false,
         "type": "scattergl",
         "x": [
          "2020-05-01T00:00:00",
          "2020-06-01T00:00:00"
         ],
         "y": [
          "0",
          "0"
         ]
        },
        {
         "hoverinfo": "skip",
         "line": {
          "color": "#C0C0C0"
         },
         "mode": "lines+markers",
         "name": "Unchanged",
         "showlegend": false,
         "type": "scattergl",
         "x": [
          "2020-06-01T00:00:00",
          "2020-07-01T00:00:00"
         ],
         "y": [
          "0",
          "0"
         ]
        },
        {
         "hoverinfo": "skip",
         "line": {
          "color": "#C0C0C0"
         },
         "mode": "lines+markers",
         "name": "Unchanged",
         "showlegend": false,
         "type": "scattergl",
         "x": [
          "2020-07-01T00:00:00",
          "2020-08-01T00:00:00"
         ],
         "y": [
          "0",
          "0"
         ]
        },
        {
         "hoverinfo": "skip",
         "line": {
          "color": "#C0C0C0"
         },
         "mode": "lines+markers",
         "name": "Unchanged",
         "showlegend": false,
         "type": "scattergl",
         "x": [
          "2020-08-01T00:00:00",
          "2020-09-01T00:00:00"
         ],
         "y": [
          "0",
          "0"
         ]
        },
        {
         "hoverinfo": "skip",
         "line": {
          "color": "#C0C0C0"
         },
         "mode": "lines+markers",
         "name": "Unchanged",
         "showlegend": false,
         "type": "scattergl",
         "x": [
          "2020-09-01T00:00:00",
          "2020-10-01T00:00:00"
         ],
         "y": [
          "0",
          "0"
         ]
        },
        {
         "hoverinfo": "skip",
         "line": {
          "color": "#C0C0C0"
         },
         "mode": "lines+markers",
         "name": "Unchanged",
         "showlegend": false,
         "type": "scattergl",
         "x": [
          "2020-10-01T00:00:00",
          "2020-11-01T00:00:00"
         ],
         "y": [
          "0",
          "0"
         ]
        },
        {
         "hoverinfo": "skip",
         "line": {
          "color": "#C0C0C0"
         },
         "mode": "lines+markers",
         "name": "Unchanged",
         "showlegend": false,
         "type": "scattergl",
         "x": [
          "2020-11-01T00:00:00",
          "2020-12-01T00:00:00"
         ],
         "y": [
          "0",
          "0"
         ]
        },
        {
         "hoverinfo": "skip",
         "line": {
          "color": "#C0C0C0"
         },
         "mode": "lines+markers",
         "name": "Unchanged",
         "showlegend": false,
         "type": "scattergl",
         "x": [
          "2020-12-01T00:00:00",
          "2021-01-01T00:00:00"
         ],
         "y": [
          "0",
          "0"
         ]
        },
        {
         "hoverinfo": "skip",
         "line": {
          "color": "#C0C0C0"
         },
         "mode": "lines+markers",
         "name": "Unchanged",
         "showlegend": false,
         "type": "scattergl",
         "x": [
          "2021-01-01T00:00:00",
          "2021-02-01T00:00:00"
         ],
         "y": [
          "0",
          "0"
         ]
        },
        {
         "hoverinfo": "skip",
         "line": {
          "color": "#C0C0C0"
         },
         "mode": "lines+markers",
         "name": "Unchanged",
         "showlegend": false,
         "type": "scattergl",
         "x": [
          "2021-02-01T00:00:00",
          "2021-03-01T00:00:00"
         ],
         "y": [
          "0",
          "0"
         ]
        },
        {
         "hoverinfo": "skip",
         "line": {
          "color": "#C0C0C0"
         },
         "mode": "lines+markers",
         "name": "Unchanged",
         "showlegend": false,
         "type": "scattergl",
         "x": [
          "2021-03-01T00:00:00",
          "2021-04-01T00:00:00"
         ],
         "y": [
          "0",
          "0"
         ]
        },
        {
         "hoverinfo": "skip",
         "line": {
          "color": "#C0C0C0"
         },
         "mode": "lines+markers",
         "name": "Unchanged",
         "showlegend": false,
         "type": "scattergl",
         "x": [
          "2021-04-01T00:00:00",
          "2021-05-01T00:00:00"
         ],
         "y": [
          "0",
          "0"
         ]
        },
        {
         "hoverinfo": "skip",
         "line": {
          "color": "#C0C0C0"
         },
         "mode": "lines+markers",
         "name": "Unchanged",
         "showlegend": false,
         "type": "scattergl",
         "x": [
          "2021-05-01T00:00:00",
          "2021-06-01T00:00:00"
         ],
         "y": [
          "0",
          "0"
         ]
        },
        {
         "hoverinfo": "skip",
         "line": {
          "color": "#C0C0C0"
         },
         "mode": "lines+markers",
         "name": "Unchanged",
         "showlegend": false,
         "type": "scattergl",
         "x": [
          "2021-06-01T00:00:00",
          "2021-07-01T00:00:00"
         ],
         "y": [
          "0",
          "0"
         ]
        },
        {
         "hoverinfo": "skip",
         "line": {
          "color": "#C0C0C0"
         },
         "mode": "lines+markers",
         "name": "Unchanged",
         "showlegend": false,
         "type": "scattergl",
         "x": [
          "2021-07-01T00:00:00",
          "2021-08-01T00:00:00"
         ],
         "y": [
          "0",
          "0"
         ]
        },
        {
         "hoverinfo": "skip",
         "line": {
          "color": "#C0C0C0"
         },
         "mode": "lines+markers",
         "name": "Unchanged",
         "showlegend": false,
         "type": "scattergl",
         "x": [
          "2021-08-01T00:00:00",
          "2021-09-01T00:00:00"
         ],
         "y": [
          "0",
          "0"
         ]
        },
        {
         "hoverinfo": "skip",
         "line": {
          "color": "#C0C0C0"
         },
         "mode": "lines+markers",
         "name": "Unchanged",
         "showlegend": false,
         "type": "scattergl",
         "x": [
          "2021-09-01T00:00:00",
          "2021-10-01T00:00:00"
         ],
         "y": [
          "0",
          "0"
         ]
        },
        {
         "hoverinfo": "skip",
         "line": {
          "color": "#C0C0C0"
         },
         "mode": "lines+markers",
         "name": "Unchanged",
         "showlegend": false,
         "type": "scattergl",
         "x": [
          "2021-10-01T00:00:00",
          "2021-11-01T00:00:00"
         ],
         "y": [
          "0",
          "0"
         ]
        },
        {
         "hoverinfo": "skip",
         "line": {
          "color": "#C0C0C0"
         },
         "mode": "lines+markers",
         "name": "Unchanged",
         "showlegend": false,
         "type": "scattergl",
         "x": [
          "2021-11-01T00:00:00",
          "2021-12-01T00:00:00"
         ],
         "y": [
          "0",
          "0"
         ]
        },
        {
         "hoverinfo": "skip",
         "line": {
          "color": "#C0C0C0"
         },
         "mode": "lines+markers",
         "name": "Unchanged",
         "showlegend": false,
         "type": "scattergl",
         "x": [
          "2021-12-01T00:00:00",
          "2022-01-01T00:00:00"
         ],
         "y": [
          "0",
          "0"
         ]
        },
        {
         "hoverinfo": "skip",
         "line": {
          "color": "#C0C0C0"
         },
         "mode": "lines+markers",
         "name": "Unchanged",
         "showlegend": false,
         "type": "scattergl",
         "x": [
          "2022-01-01T00:00:00",
          "2022-02-01T00:00:00"
         ],
         "y": [
          "0",
          "0"
         ]
        },
        {
         "hoverinfo": "skip",
         "line": {
          "color": "#C0C0C0"
         },
         "mode": "lines+markers",
         "name": "Unchanged",
         "showlegend": false,
         "type": "scattergl",
         "x": [
          "2022-02-01T00:00:00",
          "2022-03-01T00:00:00"
         ],
         "y": [
          "0",
          "0"
         ]
        },
        {
         "hoverinfo": "skip",
         "line": {
          "color": "#C0C0C0"
         },
         "mode": "lines+markers",
         "name": "Unchanged",
         "showlegend": false,
         "type": "scattergl",
         "x": [
          "2022-03-01T00:00:00",
          "2022-04-01T00:00:00"
         ],
         "y": [
          "0",
          "0"
         ]
        },
        {
         "hoverinfo": "skip",
         "line": {
          "color": "#C0C0C0"
         },
         "mode": "lines+markers",
         "name": "Unchanged",
         "showlegend": false,
         "type": "scattergl",
         "x": [
          "2022-04-01T00:00:00",
          "2022-05-01T00:00:00"
         ],
         "y": [
          "0",
          "0"
         ]
        },
        {
         "hoverinfo": "skip",
         "line": {
          "color": "#C0C0C0"
         },
         "mode": "lines+markers",
         "name": "Unchanged",
         "showlegend": false,
         "type": "scattergl",
         "x": [
          "2022-05-01T00:00:00",
          "2022-06-01T00:00:00"
         ],
         "y": [
          "0",
          "0"
         ]
        },
        {
         "hoverinfo": "skip",
         "line": {
          "color": "#C0C0C0"
         },
         "mode": "lines+markers",
         "name": "Unchanged",
         "showlegend": false,
         "type": "scattergl",
         "x": [
          "2022-06-01T00:00:00",
          "2022-07-01T00:00:00"
         ],
         "y": [
          "0",
          "0"
         ]
        },
        {
         "hoverinfo": "skip",
         "line": {
          "color": "#C0C0C0"
         },
         "mode": "lines+markers",
         "name": "Unchanged",
         "showlegend": false,
         "type": "scattergl",
         "x": [
          "2022-07-01T00:00:00",
          "2022-08-01T00:00:00"
         ],
         "y": [
          "0",
          "0"
         ]
        },
        {
         "hoverinfo": "skip",
         "line": {
          "color": "#C0C0C0"
         },
         "mode": "lines+markers",
         "name": "Unchanged",
         "showlegend": false,
         "type": "scattergl",
         "x": [
          "2022-08-01T00:00:00",
          "2022-09-01T00:00:00"
         ],
         "y": [
          "0",
          "0"
         ]
        },
        {
         "hoverinfo": "skip",
         "line": {
          "color": "#C0C0C0"
         },
         "mode": "lines+markers",
         "name": "Unchanged",
         "showlegend": false,
         "type": "scattergl",
         "x": [
          "2022-09-01T00:00:00",
          "2022-10-01T00:00:00"
         ],
         "y": [
          "0",
          "0"
         ]
        },
        {
         "hoverinfo": "skip",
         "line": {
          "color": "#C0C0C0"
         },
         "mode": "lines+markers",
         "name": "Unchanged",
         "showlegend": false,
         "type": "scattergl",
         "x": [
          "2022-10-01T00:00:00",
          "2022-11-01T00:00:00"
         ],
         "y": [
          "0",
          "0"
         ]
        },
        {
         "hoverinfo": "skip",
         "line": {
          "color": "#C0C0C0"
         },
         "mode": "lines+markers",
         "name": "Unchanged",
         "showlegend": false,
         "type": "scattergl",
         "x": [
          "2022-11-01T00:00:00",
          "2022-12-01T00:00:00"
         ],
         "y": [
          "0",
          "0"
         ]
        },
        {
         "hoverinfo": "skip",
         "line": {
          "color": "#C0C0C0"
         },
         "mode": "lines+markers",
         "name": "Unchanged",
         "showlegend": false,
         "type": "scattergl",
         "x": [
          "2022-12-01T00:00:00",
          "2023-01-01T00:00:00"
         ],
         "y": [
          "0",
          "0"
         ]
        },
        {
         "hoverinfo": "skip",
         "line": {
          "color": "#C0C0C0"
         },
         "mode": "lines+markers",
         "name": "Unchanged",
         "showlegend": false,
         "type": "scattergl",
         "x": [
          "2023-01-01T00:00:00",
          "2023-02-01T00:00:00"
         ],
         "y": [
          "0",
          "0"
         ]
        },
        {
         "hoverinfo": "skip",
         "line": {
          "color": "#C0C0C0"
         },
         "mode": "lines+markers",
         "name": "Unchanged",
         "showlegend": false,
         "type": "scattergl",
         "x": [
          "2023-02-01T00:00:00",
          "2023-03-01T00:00:00"
         ],
         "y": [
          "0",
          "0"
         ]
        },
        {
         "hoverinfo": "skip",
         "line": {
          "color": "#C0C0C0"
         },
         "mode": "lines+markers",
         "name": "Unchanged",
         "showlegend": false,
         "type": "scattergl",
         "x": [
          "2023-03-01T00:00:00",
          "2023-04-01T00:00:00"
         ],
         "y": [
          "0",
          "0"
         ]
        },
        {
         "hoverinfo": "skip",
         "line": {
          "color": "#C0C0C0"
         },
         "mode": "lines+markers",
         "name": "Unchanged",
         "showlegend": false,
         "type": "scattergl",
         "x": [
          "2023-04-01T00:00:00",
          "2023-05-01T00:00:00"
         ],
         "y": [
          "0",
          "0"
         ]
        },
        {
         "hoverinfo": "skip",
         "line": {
          "color": "#C0C0C0"
         },
         "mode": "lines+markers",
         "name": "Unchanged",
         "showlegend": false,
         "type": "scattergl",
         "x": [
          "2023-05-01T00:00:00",
          "2023-06-01T00:00:00"
         ],
         "y": [
          "0",
          "0"
         ]
        },
        {
         "hoverinfo": "skip",
         "line": {
          "color": "#C0C0C0"
         },
         "mode": "lines+markers",
         "name": "Unchanged",
         "showlegend": false,
         "type": "scattergl",
         "x": [
          "2023-06-01T00:00:00",
          "2023-07-01T00:00:00"
         ],
         "y": [
          "0",
          "0"
         ]
        },
        {
         "hoverinfo": "skip",
         "line": {
          "color": "#C0C0C0"
         },
         "mode": "lines+markers",
         "name": "Unchanged",
         "showlegend": false,
         "type": "scattergl",
         "x": [
          "2023-07-01T00:00:00",
          "2023-08-01T00:00:00"
         ],
         "y": [
          "0",
          "0"
         ]
        },
        {
         "hoverinfo": "skip",
         "line": {
          "color": "#C0C0C0"
         },
         "mode": "lines+markers",
         "name": "Unchanged",
         "showlegend": false,
         "type": "scattergl",
         "x": [
          "2023-08-01T00:00:00",
          "2023-09-01T00:00:00"
         ],
         "y": [
          "0",
          "0"
         ]
        },
        {
         "hoverinfo": "skip",
         "line": {
          "color": "#C0C0C0"
         },
         "mode": "lines+markers",
         "name": "Unchanged",
         "showlegend": false,
         "type": "scattergl",
         "x": [
          "2023-09-01T00:00:00",
          "2023-10-01T00:00:00"
         ],
         "y": [
          "0",
          "0"
         ]
        },
        {
         "hoverinfo": "skip",
         "line": {
          "color": "#C0C0C0"
         },
         "mode": "lines+markers",
         "name": "Unchanged",
         "showlegend": false,
         "type": "scattergl",
         "x": [
          "2023-10-01T00:00:00",
          "2023-11-01T00:00:00"
         ],
         "y": [
          "0",
          "0"
         ]
        },
        {
         "hoverinfo": "skip",
         "line": {
          "color": "#C0C0C0"
         },
         "mode": "lines+markers",
         "name": "Unchanged",
         "showlegend": false,
         "type": "scattergl",
         "x": [
          "2023-11-01T00:00:00",
          "2023-12-01T00:00:00"
         ],
         "y": [
          "0",
          "0"
         ]
        },
        {
         "hoverinfo": "skip",
         "line": {
          "color": "#C0C0C0"
         },
         "mode": "lines+markers",
         "name": "Unchanged",
         "showlegend": false,
         "type": "scattergl",
         "x": [
          "2023-12-01T00:00:00",
          "2024-01-01T00:00:00"
         ],
         "y": [
          "0",
          "0"
         ]
        },
        {
         "hoverinfo": "skip",
         "line": {
          "color": "#C0C0C0"
         },
         "mode": "lines+markers",
         "name": "Unchanged",
         "showlegend": false,
         "type": "scattergl",
         "x": [
          "2024-01-01T00:00:00",
          "2024-02-01T00:00:00"
         ],
         "y": [
          "0",
          "0"
         ]
        },
        {
         "hoverinfo": "skip",
         "line": {
          "color": "#C0C0C0"
         },
         "mode": "lines+markers",
         "name": "Unchanged",
         "showlegend": false,
         "type": "scattergl",
         "x": [
          "2024-02-01T00:00:00",
          "2024-03-01T00:00:00"
         ],
         "y": [
          "0",
          "0"
         ]
        },
        {
         "hoverinfo": "skip",
         "line": {
          "color": "#C0C0C0"
         },
         "mode": "lines+markers",
         "name": "Unchanged",
         "showlegend": false,
         "type": "scattergl",
         "x": [
          "2024-03-01T00:00:00",
          "2024-04-01T00:00:00"
         ],
         "y": [
          "0",
          "0"
         ]
        },
        {
         "hoverinfo": "skip",
         "line": {
          "color": "#C0C0C0"
         },
         "mode": "lines+markers",
         "name": "Unchanged",
         "showlegend": false,
         "type": "scattergl",
         "x": [
          "2024-04-01T00:00:00",
          "2024-05-01T00:00:00"
         ],
         "y": [
          "0",
          "0"
         ]
        },
        {
         "hoverinfo": "skip",
         "line": {
          "color": "#C0C0C0"
         },
         "mode": "lines+markers",
         "name": "Unchanged",
         "showlegend": false,
         "type": "scattergl",
         "x": [
          "2024-05-01T00:00:00",
          "2024-06-01T00:00:00"
         ],
         "y": [
          "0",
          "0"
         ]
        },
        {
         "hoverinfo": "skip",
         "line": {
          "color": "#1f77b4"
         },
         "mode": "lines+markers",
         "name": "Train",
         "showlegend": false,
         "type": "scattergl",
         "x": [
          "2020-01-01T00:00:00",
          "2020-02-01T00:00:00"
         ],
         "y": [
          "0",
          "0"
         ]
        },
        {
         "hoverinfo": "skip",
         "line": {
          "color": "#1f77b4"
         },
         "mode": "lines+markers",
         "name": "Train",
         "showlegend": false,
         "type": "scattergl",
         "x": [
          "2020-02-01T00:00:00",
          "2020-03-01T00:00:00"
         ],
         "y": [
          "0",
          "0"
         ]
        },
        {
         "hoverinfo": "skip",
         "line": {
          "color": "#1f77b4"
         },
         "mode": "lines+markers",
         "name": "Train",
         "showlegend": false,
         "type": "scattergl",
         "x": [
          "2020-03-01T00:00:00",
          "2020-04-01T00:00:00"
         ],
         "y": [
          "0",
          "0"
         ]
        },
        {
         "hoverinfo": "skip",
         "line": {
          "color": "#1f77b4"
         },
         "mode": "lines+markers",
         "name": "Train",
         "showlegend": false,
         "type": "scattergl",
         "x": [
          "2020-04-01T00:00:00",
          "2020-05-01T00:00:00"
         ],
         "y": [
          "0",
          "0"
         ]
        },
        {
         "hoverinfo": "skip",
         "line": {
          "color": "#1f77b4"
         },
         "mode": "lines+markers",
         "name": "Train",
         "showlegend": false,
         "type": "scattergl",
         "x": [
          "2020-05-01T00:00:00",
          "2020-06-01T00:00:00"
         ],
         "y": [
          "0",
          "0"
         ]
        },
        {
         "hoverinfo": "skip",
         "line": {
          "color": "#1f77b4"
         },
         "mode": "lines+markers",
         "name": "Train",
         "showlegend": false,
         "type": "scattergl",
         "x": [
          "2020-06-01T00:00:00",
          "2020-07-01T00:00:00"
         ],
         "y": [
          "0",
          "0"
         ]
        },
        {
         "hoverinfo": "skip",
         "line": {
          "color": "#1f77b4"
         },
         "mode": "lines+markers",
         "name": "Train",
         "showlegend": false,
         "type": "scattergl",
         "x": [
          "2020-07-01T00:00:00",
          "2020-08-01T00:00:00"
         ],
         "y": [
          "0",
          "0"
         ]
        },
        {
         "hoverinfo": "skip",
         "line": {
          "color": "#1f77b4"
         },
         "mode": "lines+markers",
         "name": "Train",
         "showlegend": false,
         "type": "scattergl",
         "x": [
          "2020-08-01T00:00:00",
          "2020-09-01T00:00:00"
         ],
         "y": [
          "0",
          "0"
         ]
        },
        {
         "hoverinfo": "skip",
         "line": {
          "color": "#1f77b4"
         },
         "mode": "lines+markers",
         "name": "Train",
         "showlegend": false,
         "type": "scattergl",
         "x": [
          "2020-09-01T00:00:00",
          "2020-10-01T00:00:00"
         ],
         "y": [
          "0",
          "0"
         ]
        },
        {
         "hoverinfo": "skip",
         "line": {
          "color": "#1f77b4"
         },
         "mode": "lines+markers",
         "name": "Train",
         "showlegend": false,
         "type": "scattergl",
         "x": [
          "2020-10-01T00:00:00",
          "2020-11-01T00:00:00"
         ],
         "y": [
          "0",
          "0"
         ]
        },
        {
         "hoverinfo": "skip",
         "line": {
          "color": "#1f77b4"
         },
         "mode": "lines+markers",
         "name": "Train",
         "showlegend": false,
         "type": "scattergl",
         "x": [
          "2020-11-01T00:00:00",
          "2020-12-01T00:00:00"
         ],
         "y": [
          "0",
          "0"
         ]
        },
        {
         "hoverinfo": "skip",
         "line": {
          "color": "#1f77b4"
         },
         "mode": "lines+markers",
         "name": "Train",
         "showlegend": false,
         "type": "scattergl",
         "x": [
          "2020-12-01T00:00:00",
          "2021-01-01T00:00:00"
         ],
         "y": [
          "0",
          "0"
         ]
        },
        {
         "hoverinfo": "skip",
         "line": {
          "color": "#1f77b4"
         },
         "mode": "lines+markers",
         "name": "Train",
         "showlegend": false,
         "type": "scattergl",
         "x": [
          "2021-01-01T00:00:00",
          "2021-02-01T00:00:00"
         ],
         "y": [
          "0",
          "0"
         ]
        },
        {
         "hoverinfo": "skip",
         "line": {
          "color": "#1f77b4"
         },
         "mode": "lines+markers",
         "name": "Train",
         "showlegend": false,
         "type": "scattergl",
         "x": [
          "2021-02-01T00:00:00",
          "2021-03-01T00:00:00"
         ],
         "y": [
          "0",
          "0"
         ]
        },
        {
         "hoverinfo": "skip",
         "line": {
          "color": "#1f77b4"
         },
         "mode": "lines+markers",
         "name": "Train",
         "showlegend": false,
         "type": "scattergl",
         "x": [
          "2021-03-01T00:00:00",
          "2021-04-01T00:00:00"
         ],
         "y": [
          "0",
          "0"
         ]
        },
        {
         "hoverinfo": "skip",
         "line": {
          "color": "#1f77b4"
         },
         "mode": "lines+markers",
         "name": "Train",
         "showlegend": false,
         "type": "scattergl",
         "x": [
          "2021-04-01T00:00:00",
          "2021-05-01T00:00:00"
         ],
         "y": [
          "0",
          "0"
         ]
        },
        {
         "hoverinfo": "skip",
         "line": {
          "color": "#1f77b4"
         },
         "mode": "lines+markers",
         "name": "Train",
         "showlegend": false,
         "type": "scattergl",
         "x": [
          "2021-05-01T00:00:00",
          "2021-06-01T00:00:00"
         ],
         "y": [
          "0",
          "0"
         ]
        },
        {
         "hoverinfo": "skip",
         "line": {
          "color": "#1f77b4"
         },
         "mode": "lines+markers",
         "name": "Train",
         "showlegend": false,
         "type": "scattergl",
         "x": [
          "2021-06-01T00:00:00",
          "2021-07-01T00:00:00"
         ],
         "y": [
          "0",
          "0"
         ]
        },
        {
         "hoverinfo": "skip",
         "line": {
          "color": "#1f77b4"
         },
         "mode": "lines+markers",
         "name": "Train",
         "showlegend": false,
         "type": "scattergl",
         "x": [
          "2021-07-01T00:00:00",
          "2021-08-01T00:00:00"
         ],
         "y": [
          "0",
          "0"
         ]
        },
        {
         "hoverinfo": "skip",
         "line": {
          "color": "#1f77b4"
         },
         "mode": "lines+markers",
         "name": "Train",
         "showlegend": false,
         "type": "scattergl",
         "x": [
          "2021-08-01T00:00:00",
          "2021-09-01T00:00:00"
         ],
         "y": [
          "0",
          "0"
         ]
        },
        {
         "hoverinfo": "skip",
         "line": {
          "color": "#1f77b4"
         },
         "mode": "lines+markers",
         "name": "Train",
         "showlegend": false,
         "type": "scattergl",
         "x": [
          "2021-09-01T00:00:00",
          "2021-10-01T00:00:00"
         ],
         "y": [
          "0",
          "0"
         ]
        },
        {
         "hoverinfo": "skip",
         "line": {
          "color": "#1f77b4"
         },
         "mode": "lines+markers",
         "name": "Train",
         "showlegend": false,
         "type": "scattergl",
         "x": [
          "2021-10-01T00:00:00",
          "2021-11-01T00:00:00"
         ],
         "y": [
          "0",
          "0"
         ]
        },
        {
         "hoverinfo": "skip",
         "line": {
          "color": "#1f77b4"
         },
         "mode": "lines+markers",
         "name": "Train",
         "showlegend": false,
         "type": "scattergl",
         "x": [
          "2021-11-01T00:00:00",
          "2021-12-01T00:00:00"
         ],
         "y": [
          "0",
          "0"
         ]
        },
        {
         "hoverinfo": "skip",
         "line": {
          "color": "#1f77b4"
         },
         "mode": "lines+markers",
         "name": "Train",
         "showlegend": false,
         "type": "scattergl",
         "x": [
          "2021-12-01T00:00:00",
          "2022-01-01T00:00:00"
         ],
         "y": [
          "0",
          "0"
         ]
        },
        {
         "hoverinfo": "skip",
         "line": {
          "color": "#1f77b4"
         },
         "mode": "lines+markers",
         "name": "Train",
         "showlegend": false,
         "type": "scattergl",
         "x": [
          "2022-01-01T00:00:00",
          "2022-02-01T00:00:00"
         ],
         "y": [
          "0",
          "0"
         ]
        },
        {
         "hoverinfo": "skip",
         "line": {
          "color": "#1f77b4"
         },
         "mode": "lines+markers",
         "name": "Train",
         "showlegend": false,
         "type": "scattergl",
         "x": [
          "2022-02-01T00:00:00",
          "2022-03-01T00:00:00"
         ],
         "y": [
          "0",
          "0"
         ]
        },
        {
         "hoverinfo": "skip",
         "line": {
          "color": "#1f77b4"
         },
         "mode": "lines+markers",
         "name": "Train",
         "showlegend": false,
         "type": "scattergl",
         "x": [
          "2022-03-01T00:00:00",
          "2022-04-01T00:00:00"
         ],
         "y": [
          "0",
          "0"
         ]
        },
        {
         "hoverinfo": "skip",
         "line": {
          "color": "#1f77b4"
         },
         "mode": "lines+markers",
         "name": "Train",
         "showlegend": false,
         "type": "scattergl",
         "x": [
          "2022-04-01T00:00:00",
          "2022-05-01T00:00:00"
         ],
         "y": [
          "0",
          "0"
         ]
        },
        {
         "hoverinfo": "skip",
         "line": {
          "color": "#1f77b4"
         },
         "mode": "lines+markers",
         "name": "Train",
         "showlegend": false,
         "type": "scattergl",
         "x": [
          "2022-05-01T00:00:00",
          "2022-06-01T00:00:00"
         ],
         "y": [
          "0",
          "0"
         ]
        },
        {
         "hoverinfo": "skip",
         "line": {
          "color": "#1f77b4"
         },
         "mode": "lines+markers",
         "name": "Train",
         "showlegend": false,
         "type": "scattergl",
         "x": [
          "2022-06-01T00:00:00",
          "2022-07-01T00:00:00"
         ],
         "y": [
          "0",
          "0"
         ]
        },
        {
         "hoverinfo": "skip",
         "line": {
          "color": "#1f77b4"
         },
         "mode": "lines+markers",
         "name": "Train",
         "showlegend": false,
         "type": "scattergl",
         "x": [
          "2022-07-01T00:00:00",
          "2022-08-01T00:00:00"
         ],
         "y": [
          "0",
          "0"
         ]
        },
        {
         "hoverinfo": "skip",
         "line": {
          "color": "#1f77b4"
         },
         "mode": "lines+markers",
         "name": "Train",
         "showlegend": false,
         "type": "scattergl",
         "x": [
          "2022-08-01T00:00:00",
          "2022-09-01T00:00:00"
         ],
         "y": [
          "0",
          "0"
         ]
        },
        {
         "hoverinfo": "skip",
         "line": {
          "color": "#1f77b4"
         },
         "mode": "lines+markers",
         "name": "Train",
         "showlegend": false,
         "type": "scattergl",
         "x": [
          "2022-09-01T00:00:00",
          "2022-10-01T00:00:00"
         ],
         "y": [
          "0",
          "0"
         ]
        },
        {
         "hoverinfo": "skip",
         "line": {
          "color": "#1f77b4"
         },
         "mode": "lines+markers",
         "name": "Train",
         "showlegend": false,
         "type": "scattergl",
         "x": [
          "2022-10-01T00:00:00",
          "2022-11-01T00:00:00"
         ],
         "y": [
          "0",
          "0"
         ]
        },
        {
         "hoverinfo": "skip",
         "line": {
          "color": "#1f77b4"
         },
         "mode": "lines+markers",
         "name": "Train",
         "showlegend": false,
         "type": "scattergl",
         "x": [
          "2022-11-01T00:00:00",
          "2022-12-01T00:00:00"
         ],
         "y": [
          "0",
          "0"
         ]
        },
        {
         "hoverinfo": "skip",
         "line": {
          "color": "#1f77b4"
         },
         "mode": "lines+markers",
         "name": "Train",
         "showlegend": false,
         "type": "scattergl",
         "x": [
          "2022-12-01T00:00:00",
          "2023-01-01T00:00:00"
         ],
         "y": [
          "0",
          "0"
         ]
        },
        {
         "hoverinfo": "skip",
         "line": {
          "color": "#1f77b4"
         },
         "mode": "lines+markers",
         "name": "Train",
         "showlegend": false,
         "type": "scattergl",
         "x": [
          "2023-01-01T00:00:00",
          "2023-02-01T00:00:00"
         ],
         "y": [
          "0",
          "0"
         ]
        },
        {
         "hoverinfo": "skip",
         "line": {
          "color": "#1f77b4"
         },
         "mode": "lines+markers",
         "name": "Train",
         "showlegend": false,
         "type": "scattergl",
         "x": [
          "2023-02-01T00:00:00",
          "2023-03-01T00:00:00"
         ],
         "y": [
          "0",
          "0"
         ]
        },
        {
         "hoverinfo": "skip",
         "line": {
          "color": "#1f77b4"
         },
         "mode": "lines+markers",
         "name": "Train",
         "showlegend": false,
         "type": "scattergl",
         "x": [
          "2023-03-01T00:00:00",
          "2023-04-01T00:00:00"
         ],
         "y": [
          "0",
          "0"
         ]
        },
        {
         "hoverinfo": "skip",
         "line": {
          "color": "#1f77b4"
         },
         "mode": "lines+markers",
         "name": "Train",
         "showlegend": false,
         "type": "scattergl",
         "x": [
          "2023-04-01T00:00:00",
          "2023-05-01T00:00:00"
         ],
         "y": [
          "0",
          "0"
         ]
        },
        {
         "hoverinfo": "skip",
         "line": {
          "color": "#1f77b4"
         },
         "mode": "lines+markers",
         "name": "Train",
         "showlegend": false,
         "type": "scattergl",
         "x": [
          "2023-05-01T00:00:00",
          "2023-06-01T00:00:00"
         ],
         "y": [
          "0",
          "0"
         ]
        },
        {
         "hoverinfo": "skip",
         "line": {
          "color": "#DE970B"
         },
         "mode": "lines+markers",
         "name": "ForecastHorizon",
         "showlegend": false,
         "type": "scattergl",
         "x": [
          "2023-07-01T00:00:00",
          "2023-08-01T00:00:00"
         ],
         "y": [
          "0",
          "0"
         ]
        },
        {
         "hoverinfo": "skip",
         "line": {
          "color": "#DE970B"
         },
         "mode": "lines+markers",
         "name": "ForecastHorizon",
         "showlegend": false,
         "type": "scattergl",
         "x": [
          "2023-08-01T00:00:00",
          "2023-09-01T00:00:00"
         ],
         "y": [
          "0",
          "0"
         ]
        },
        {
         "hoverinfo": "skip",
         "line": {
          "color": "#DE970B"
         },
         "mode": "lines+markers",
         "name": "ForecastHorizon",
         "showlegend": false,
         "type": "scattergl",
         "x": [
          "2023-09-01T00:00:00",
          "2023-10-01T00:00:00"
         ],
         "y": [
          "0",
          "0"
         ]
        }
       ],
       "layout": {
        "showlegend": true,
        "template": {
         "data": {
          "bar": [
           {
            "error_x": {
             "color": "rgb(51,51,51)"
            },
            "error_y": {
             "color": "rgb(51,51,51)"
            },
            "marker": {
             "line": {
              "color": "rgb(237,237,237)",
              "width": 0.5
             },
             "pattern": {
              "fillmode": "overlay",
              "size": 10,
              "solidity": 0.2
             }
            },
            "type": "bar"
           }
          ],
          "barpolar": [
           {
            "marker": {
             "line": {
              "color": "rgb(237,237,237)",
              "width": 0.5
             },
             "pattern": {
              "fillmode": "overlay",
              "size": 10,
              "solidity": 0.2
             }
            },
            "type": "barpolar"
           }
          ],
          "carpet": [
           {
            "aaxis": {
             "endlinecolor": "rgb(51,51,51)",
             "gridcolor": "white",
             "linecolor": "white",
             "minorgridcolor": "white",
             "startlinecolor": "rgb(51,51,51)"
            },
            "baxis": {
             "endlinecolor": "rgb(51,51,51)",
             "gridcolor": "white",
             "linecolor": "white",
             "minorgridcolor": "white",
             "startlinecolor": "rgb(51,51,51)"
            },
            "type": "carpet"
           }
          ],
          "choropleth": [
           {
            "colorbar": {
             "outlinewidth": 0,
             "tickcolor": "rgb(237,237,237)",
             "ticklen": 6,
             "ticks": "inside"
            },
            "type": "choropleth"
           }
          ],
          "contour": [
           {
            "colorbar": {
             "outlinewidth": 0,
             "tickcolor": "rgb(237,237,237)",
             "ticklen": 6,
             "ticks": "inside"
            },
            "colorscale": [
             [
              0,
              "rgb(20,44,66)"
             ],
             [
              1,
              "rgb(90,179,244)"
             ]
            ],
            "type": "contour"
           }
          ],
          "contourcarpet": [
           {
            "colorbar": {
             "outlinewidth": 0,
             "tickcolor": "rgb(237,237,237)",
             "ticklen": 6,
             "ticks": "inside"
            },
            "type": "contourcarpet"
           }
          ],
          "heatmap": [
           {
            "colorbar": {
             "outlinewidth": 0,
             "tickcolor": "rgb(237,237,237)",
             "ticklen": 6,
             "ticks": "inside"
            },
            "colorscale": [
             [
              0,
              "rgb(20,44,66)"
             ],
             [
              1,
              "rgb(90,179,244)"
             ]
            ],
            "type": "heatmap"
           }
          ],
          "heatmapgl": [
           {
            "colorbar": {
             "outlinewidth": 0,
             "tickcolor": "rgb(237,237,237)",
             "ticklen": 6,
             "ticks": "inside"
            },
            "colorscale": [
             [
              0,
              "rgb(20,44,66)"
             ],
             [
              1,
              "rgb(90,179,244)"
             ]
            ],
            "type": "heatmapgl"
           }
          ],
          "histogram": [
           {
            "marker": {
             "pattern": {
              "fillmode": "overlay",
              "size": 10,
              "solidity": 0.2
             }
            },
            "type": "histogram"
           }
          ],
          "histogram2d": [
           {
            "colorbar": {
             "outlinewidth": 0,
             "tickcolor": "rgb(237,237,237)",
             "ticklen": 6,
             "ticks": "inside"
            },
            "colorscale": [
             [
              0,
              "rgb(20,44,66)"
             ],
             [
              1,
              "rgb(90,179,244)"
             ]
            ],
            "type": "histogram2d"
           }
          ],
          "histogram2dcontour": [
           {
            "colorbar": {
             "outlinewidth": 0,
             "tickcolor": "rgb(237,237,237)",
             "ticklen": 6,
             "ticks": "inside"
            },
            "colorscale": [
             [
              0,
              "rgb(20,44,66)"
             ],
             [
              1,
              "rgb(90,179,244)"
             ]
            ],
            "type": "histogram2dcontour"
           }
          ],
          "mesh3d": [
           {
            "colorbar": {
             "outlinewidth": 0,
             "tickcolor": "rgb(237,237,237)",
             "ticklen": 6,
             "ticks": "inside"
            },
            "type": "mesh3d"
           }
          ],
          "parcoords": [
           {
            "line": {
             "colorbar": {
              "outlinewidth": 0,
              "tickcolor": "rgb(237,237,237)",
              "ticklen": 6,
              "ticks": "inside"
             }
            },
            "type": "parcoords"
           }
          ],
          "pie": [
           {
            "automargin": true,
            "type": "pie"
           }
          ],
          "scatter": [
           {
            "fillpattern": {
             "fillmode": "overlay",
             "size": 10,
             "solidity": 0.2
            },
            "type": "scatter"
           }
          ],
          "scatter3d": [
           {
            "line": {
             "colorbar": {
              "outlinewidth": 0,
              "tickcolor": "rgb(237,237,237)",
              "ticklen": 6,
              "ticks": "inside"
             }
            },
            "marker": {
             "colorbar": {
              "outlinewidth": 0,
              "tickcolor": "rgb(237,237,237)",
              "ticklen": 6,
              "ticks": "inside"
             }
            },
            "type": "scatter3d"
           }
          ],
          "scattercarpet": [
           {
            "marker": {
             "colorbar": {
              "outlinewidth": 0,
              "tickcolor": "rgb(237,237,237)",
              "ticklen": 6,
              "ticks": "inside"
             }
            },
            "type": "scattercarpet"
           }
          ],
          "scattergeo": [
           {
            "marker": {
             "colorbar": {
              "outlinewidth": 0,
              "tickcolor": "rgb(237,237,237)",
              "ticklen": 6,
              "ticks": "inside"
             }
            },
            "type": "scattergeo"
           }
          ],
          "scattergl": [
           {
            "marker": {
             "colorbar": {
              "outlinewidth": 0,
              "tickcolor": "rgb(237,237,237)",
              "ticklen": 6,
              "ticks": "inside"
             }
            },
            "type": "scattergl"
           }
          ],
          "scattermapbox": [
           {
            "marker": {
             "colorbar": {
              "outlinewidth": 0,
              "tickcolor": "rgb(237,237,237)",
              "ticklen": 6,
              "ticks": "inside"
             }
            },
            "type": "scattermapbox"
           }
          ],
          "scatterpolar": [
           {
            "marker": {
             "colorbar": {
              "outlinewidth": 0,
              "tickcolor": "rgb(237,237,237)",
              "ticklen": 6,
              "ticks": "inside"
             }
            },
            "type": "scatterpolar"
           }
          ],
          "scatterpolargl": [
           {
            "marker": {
             "colorbar": {
              "outlinewidth": 0,
              "tickcolor": "rgb(237,237,237)",
              "ticklen": 6,
              "ticks": "inside"
             }
            },
            "type": "scatterpolargl"
           }
          ],
          "scatterternary": [
           {
            "marker": {
             "colorbar": {
              "outlinewidth": 0,
              "tickcolor": "rgb(237,237,237)",
              "ticklen": 6,
              "ticks": "inside"
             }
            },
            "type": "scatterternary"
           }
          ],
          "surface": [
           {
            "colorbar": {
             "outlinewidth": 0,
             "tickcolor": "rgb(237,237,237)",
             "ticklen": 6,
             "ticks": "inside"
            },
            "colorscale": [
             [
              0,
              "rgb(20,44,66)"
             ],
             [
              1,
              "rgb(90,179,244)"
             ]
            ],
            "type": "surface"
           }
          ],
          "table": [
           {
            "cells": {
             "fill": {
              "color": "rgb(237,237,237)"
             },
             "line": {
              "color": "white"
             }
            },
            "header": {
             "fill": {
              "color": "rgb(217,217,217)"
             },
             "line": {
              "color": "white"
             }
            },
            "type": "table"
           }
          ]
         },
         "layout": {
          "annotationdefaults": {
           "arrowhead": 0,
           "arrowwidth": 1
          },
          "autotypenumbers": "strict",
          "coloraxis": {
           "colorbar": {
            "outlinewidth": 0,
            "tickcolor": "rgb(237,237,237)",
            "ticklen": 6,
            "ticks": "inside"
           }
          },
          "colorscale": {
           "sequential": [
            [
             0,
             "rgb(20,44,66)"
            ],
            [
             1,
             "rgb(90,179,244)"
            ]
           ],
           "sequentialminus": [
            [
             0,
             "rgb(20,44,66)"
            ],
            [
             1,
             "rgb(90,179,244)"
            ]
           ]
          },
          "colorway": [
           "#F8766D",
           "#A3A500",
           "#00BF7D",
           "#00B0F6",
           "#E76BF3"
          ],
          "font": {
           "color": "rgb(51,51,51)"
          },
          "geo": {
           "bgcolor": "white",
           "lakecolor": "white",
           "landcolor": "rgb(237,237,237)",
           "showlakes": true,
           "showland": true,
           "subunitcolor": "white"
          },
          "hoverlabel": {
           "align": "left"
          },
          "hovermode": "closest",
          "paper_bgcolor": "white",
          "plot_bgcolor": "rgb(237,237,237)",
          "polar": {
           "angularaxis": {
            "gridcolor": "white",
            "linecolor": "white",
            "showgrid": true,
            "tickcolor": "rgb(51,51,51)",
            "ticks": "outside"
           },
           "bgcolor": "rgb(237,237,237)",
           "radialaxis": {
            "gridcolor": "white",
            "linecolor": "white",
            "showgrid": true,
            "tickcolor": "rgb(51,51,51)",
            "ticks": "outside"
           }
          },
          "scene": {
           "xaxis": {
            "backgroundcolor": "rgb(237,237,237)",
            "gridcolor": "white",
            "gridwidth": 2,
            "linecolor": "white",
            "showbackground": true,
            "showgrid": true,
            "tickcolor": "rgb(51,51,51)",
            "ticks": "outside",
            "zerolinecolor": "white"
           },
           "yaxis": {
            "backgroundcolor": "rgb(237,237,237)",
            "gridcolor": "white",
            "gridwidth": 2,
            "linecolor": "white",
            "showbackground": true,
            "showgrid": true,
            "tickcolor": "rgb(51,51,51)",
            "ticks": "outside",
            "zerolinecolor": "white"
           },
           "zaxis": {
            "backgroundcolor": "rgb(237,237,237)",
            "gridcolor": "white",
            "gridwidth": 2,
            "linecolor": "white",
            "showbackground": true,
            "showgrid": true,
            "tickcolor": "rgb(51,51,51)",
            "ticks": "outside",
            "zerolinecolor": "white"
           }
          },
          "shapedefaults": {
           "fillcolor": "black",
           "line": {
            "width": 0
           },
           "opacity": 0.3
          },
          "ternary": {
           "aaxis": {
            "gridcolor": "white",
            "linecolor": "white",
            "showgrid": true,
            "tickcolor": "rgb(51,51,51)",
            "ticks": "outside"
           },
           "baxis": {
            "gridcolor": "white",
            "linecolor": "white",
            "showgrid": true,
            "tickcolor": "rgb(51,51,51)",
            "ticks": "outside"
           },
           "bgcolor": "rgb(237,237,237)",
           "caxis": {
            "gridcolor": "white",
            "linecolor": "white",
            "showgrid": true,
            "tickcolor": "rgb(51,51,51)",
            "ticks": "outside"
           }
          },
          "xaxis": {
           "automargin": true,
           "gridcolor": "white",
           "linecolor": "white",
           "showgrid": true,
           "tickcolor": "rgb(51,51,51)",
           "ticks": "outside",
           "title": {
            "standoff": 15
           },
           "zerolinecolor": "white"
          },
          "yaxis": {
           "automargin": true,
           "gridcolor": "white",
           "linecolor": "white",
           "showgrid": true,
           "tickcolor": "rgb(51,51,51)",
           "ticks": "outside",
           "title": {
            "standoff": 15
           },
           "zerolinecolor": "white"
          }
         }
        },
        "title": {
         "text": "Train Cross-Validation Splits"
        },
        "xaxis": {
         "title": {
          "text": "Time"
         },
         "zeroline": false
        },
        "yaxis": {
         "title": {
          "text": "Windows"
         }
        }
       }
      }
     },
     "metadata": {},
     "output_type": "display_data"
    }
   ],
   "source": [
    "#### Check cross-validation setup  ----\n",
    "exp.plot_model(plot=\"cv\")"
   ]
  },
  {
   "cell_type": "markdown",
   "metadata": {},
   "source": [
    "### Comparing Models"
   ]
  },
  {
   "cell_type": "code",
   "execution_count": 58,
   "metadata": {},
   "outputs": [
    {
     "data": {
      "text/html": [],
      "text/plain": [
       "<IPython.core.display.HTML object>"
      ]
     },
     "metadata": {},
     "output_type": "display_data"
    },
    {
     "data": {
      "text/html": [
       "<style type=\"text/css\">\n",
       "#T_3d643 th {\n",
       "  text-align: left;\n",
       "}\n",
       "#T_3d643_row0_col0, #T_3d643_row1_col0, #T_3d643_row1_col1, #T_3d643_row1_col2, #T_3d643_row1_col3, #T_3d643_row1_col4, #T_3d643_row1_col5, #T_3d643_row1_col6, #T_3d643_row1_col7, #T_3d643_row2_col0, #T_3d643_row2_col1, #T_3d643_row2_col2, #T_3d643_row2_col3, #T_3d643_row2_col4, #T_3d643_row2_col5, #T_3d643_row2_col6, #T_3d643_row2_col7, #T_3d643_row3_col0, #T_3d643_row3_col1, #T_3d643_row3_col2, #T_3d643_row3_col3, #T_3d643_row3_col4, #T_3d643_row3_col5, #T_3d643_row3_col6, #T_3d643_row3_col7, #T_3d643_row4_col0, #T_3d643_row4_col1, #T_3d643_row4_col2, #T_3d643_row4_col3, #T_3d643_row4_col4, #T_3d643_row4_col5, #T_3d643_row4_col6, #T_3d643_row4_col7, #T_3d643_row5_col0, #T_3d643_row5_col1, #T_3d643_row5_col2, #T_3d643_row5_col3, #T_3d643_row5_col4, #T_3d643_row5_col5, #T_3d643_row5_col6, #T_3d643_row5_col7, #T_3d643_row6_col0, #T_3d643_row6_col1, #T_3d643_row6_col2, #T_3d643_row6_col3, #T_3d643_row6_col4, #T_3d643_row6_col5, #T_3d643_row6_col6, #T_3d643_row6_col7, #T_3d643_row7_col0, #T_3d643_row7_col1, #T_3d643_row7_col2, #T_3d643_row7_col3, #T_3d643_row7_col4, #T_3d643_row7_col5, #T_3d643_row7_col6, #T_3d643_row7_col7, #T_3d643_row8_col0, #T_3d643_row8_col1, #T_3d643_row8_col2, #T_3d643_row8_col3, #T_3d643_row8_col4, #T_3d643_row8_col5, #T_3d643_row8_col6, #T_3d643_row8_col7, #T_3d643_row9_col0, #T_3d643_row9_col1, #T_3d643_row9_col2, #T_3d643_row9_col3, #T_3d643_row9_col4, #T_3d643_row9_col5, #T_3d643_row9_col6, #T_3d643_row9_col7, #T_3d643_row10_col0, #T_3d643_row10_col1, #T_3d643_row10_col2, #T_3d643_row10_col3, #T_3d643_row10_col4, #T_3d643_row10_col5, #T_3d643_row10_col6, #T_3d643_row10_col7, #T_3d643_row11_col0, #T_3d643_row11_col1, #T_3d643_row11_col2, #T_3d643_row11_col3, #T_3d643_row11_col4, #T_3d643_row11_col5, #T_3d643_row11_col6, #T_3d643_row11_col7, #T_3d643_row12_col0, #T_3d643_row12_col1, #T_3d643_row12_col2, #T_3d643_row12_col3, #T_3d643_row12_col4, #T_3d643_row12_col5, #T_3d643_row12_col6, #T_3d643_row12_col7, #T_3d643_row13_col0, #T_3d643_row13_col1, #T_3d643_row13_col2, #T_3d643_row13_col3, #T_3d643_row13_col4, #T_3d643_row13_col5, #T_3d643_row13_col6, #T_3d643_row13_col7, #T_3d643_row14_col0, #T_3d643_row14_col1, #T_3d643_row14_col2, #T_3d643_row14_col3, #T_3d643_row14_col4, #T_3d643_row14_col5, #T_3d643_row14_col6, #T_3d643_row14_col7, #T_3d643_row15_col0, #T_3d643_row15_col1, #T_3d643_row15_col2, #T_3d643_row15_col3, #T_3d643_row15_col4, #T_3d643_row15_col5, #T_3d643_row15_col6, #T_3d643_row15_col7, #T_3d643_row16_col0, #T_3d643_row16_col1, #T_3d643_row16_col2, #T_3d643_row16_col3, #T_3d643_row16_col4, #T_3d643_row16_col5, #T_3d643_row16_col6, #T_3d643_row16_col7, #T_3d643_row17_col0, #T_3d643_row17_col1, #T_3d643_row17_col2, #T_3d643_row17_col3, #T_3d643_row17_col4, #T_3d643_row17_col5, #T_3d643_row17_col6, #T_3d643_row17_col7, #T_3d643_row18_col0, #T_3d643_row18_col1, #T_3d643_row18_col2, #T_3d643_row18_col3, #T_3d643_row18_col4, #T_3d643_row18_col5, #T_3d643_row18_col6, #T_3d643_row18_col7, #T_3d643_row19_col0, #T_3d643_row19_col1, #T_3d643_row19_col2, #T_3d643_row19_col3, #T_3d643_row19_col4, #T_3d643_row19_col5, #T_3d643_row19_col6, #T_3d643_row19_col7, #T_3d643_row20_col0, #T_3d643_row20_col1, #T_3d643_row20_col2, #T_3d643_row20_col3, #T_3d643_row20_col4, #T_3d643_row20_col5, #T_3d643_row20_col6, #T_3d643_row20_col7, #T_3d643_row21_col0, #T_3d643_row21_col1, #T_3d643_row21_col2, #T_3d643_row21_col3, #T_3d643_row21_col4, #T_3d643_row21_col5, #T_3d643_row21_col6, #T_3d643_row21_col7, #T_3d643_row22_col0, #T_3d643_row22_col1, #T_3d643_row22_col2, #T_3d643_row22_col3, #T_3d643_row22_col4, #T_3d643_row22_col5, #T_3d643_row22_col6, #T_3d643_row22_col7, #T_3d643_row23_col0, #T_3d643_row23_col1, #T_3d643_row23_col2, #T_3d643_row23_col3, #T_3d643_row23_col4, #T_3d643_row23_col5, #T_3d643_row23_col6, #T_3d643_row23_col7, #T_3d643_row24_col0, #T_3d643_row24_col1, #T_3d643_row24_col2, #T_3d643_row24_col3, #T_3d643_row24_col4, #T_3d643_row24_col5, #T_3d643_row24_col6, #T_3d643_row24_col7, #T_3d643_row25_col0, #T_3d643_row25_col1, #T_3d643_row25_col2, #T_3d643_row25_col3, #T_3d643_row25_col4, #T_3d643_row25_col5, #T_3d643_row25_col6, #T_3d643_row25_col7, #T_3d643_row26_col0, #T_3d643_row26_col1, #T_3d643_row26_col2, #T_3d643_row26_col3, #T_3d643_row26_col4, #T_3d643_row26_col5, #T_3d643_row26_col6, #T_3d643_row26_col7, #T_3d643_row27_col0, #T_3d643_row27_col1, #T_3d643_row27_col2, #T_3d643_row27_col3, #T_3d643_row27_col4, #T_3d643_row27_col5, #T_3d643_row27_col6, #T_3d643_row27_col7, #T_3d643_row28_col0, #T_3d643_row28_col1, #T_3d643_row28_col2, #T_3d643_row28_col3, #T_3d643_row28_col4, #T_3d643_row28_col5, #T_3d643_row28_col6, #T_3d643_row28_col7 {\n",
       "  text-align: left;\n",
       "}\n",
       "#T_3d643_row0_col1, #T_3d643_row0_col2, #T_3d643_row0_col3, #T_3d643_row0_col4, #T_3d643_row0_col5, #T_3d643_row0_col6, #T_3d643_row0_col7 {\n",
       "  text-align: left;\n",
       "  background-color: yellow;\n",
       "}\n",
       "#T_3d643_row0_col8, #T_3d643_row1_col8, #T_3d643_row2_col8, #T_3d643_row3_col8, #T_3d643_row4_col8, #T_3d643_row5_col8, #T_3d643_row6_col8, #T_3d643_row7_col8, #T_3d643_row8_col8, #T_3d643_row9_col8, #T_3d643_row10_col8, #T_3d643_row11_col8, #T_3d643_row12_col8, #T_3d643_row13_col8, #T_3d643_row15_col8, #T_3d643_row16_col8, #T_3d643_row17_col8, #T_3d643_row18_col8, #T_3d643_row19_col8, #T_3d643_row20_col8, #T_3d643_row21_col8, #T_3d643_row22_col8, #T_3d643_row23_col8, #T_3d643_row24_col8, #T_3d643_row25_col8, #T_3d643_row26_col8, #T_3d643_row27_col8, #T_3d643_row28_col8 {\n",
       "  text-align: left;\n",
       "  background-color: lightgrey;\n",
       "}\n",
       "#T_3d643_row14_col8 {\n",
       "  text-align: left;\n",
       "  background-color: yellow;\n",
       "  background-color: lightgrey;\n",
       "}\n",
       "</style>\n",
       "<table id=\"T_3d643\">\n",
       "  <thead>\n",
       "    <tr>\n",
       "      <th class=\"blank level0\" >&nbsp;</th>\n",
       "      <th id=\"T_3d643_level0_col0\" class=\"col_heading level0 col0\" >Model</th>\n",
       "      <th id=\"T_3d643_level0_col1\" class=\"col_heading level0 col1\" >MASE</th>\n",
       "      <th id=\"T_3d643_level0_col2\" class=\"col_heading level0 col2\" >RMSSE</th>\n",
       "      <th id=\"T_3d643_level0_col3\" class=\"col_heading level0 col3\" >MAE</th>\n",
       "      <th id=\"T_3d643_level0_col4\" class=\"col_heading level0 col4\" >RMSE</th>\n",
       "      <th id=\"T_3d643_level0_col5\" class=\"col_heading level0 col5\" >MAPE</th>\n",
       "      <th id=\"T_3d643_level0_col6\" class=\"col_heading level0 col6\" >SMAPE</th>\n",
       "      <th id=\"T_3d643_level0_col7\" class=\"col_heading level0 col7\" >R2</th>\n",
       "      <th id=\"T_3d643_level0_col8\" class=\"col_heading level0 col8\" >TT (Sec)</th>\n",
       "    </tr>\n",
       "  </thead>\n",
       "  <tbody>\n",
       "    <tr>\n",
       "      <th id=\"T_3d643_level0_row0\" class=\"row_heading level0 row0\" >prophet</th>\n",
       "      <td id=\"T_3d643_row0_col0\" class=\"data row0 col0\" >Prophet</td>\n",
       "      <td id=\"T_3d643_row0_col1\" class=\"data row0 col1\" >0.9140</td>\n",
       "      <td id=\"T_3d643_row0_col2\" class=\"data row0 col2\" >0.8490</td>\n",
       "      <td id=\"T_3d643_row0_col3\" class=\"data row0 col3\" >5.2787</td>\n",
       "      <td id=\"T_3d643_row0_col4\" class=\"data row0 col4\" >6.2258</td>\n",
       "      <td id=\"T_3d643_row0_col5\" class=\"data row0 col5\" >0.1211</td>\n",
       "      <td id=\"T_3d643_row0_col6\" class=\"data row0 col6\" >0.1128</td>\n",
       "      <td id=\"T_3d643_row0_col7\" class=\"data row0 col7\" >-0.3727</td>\n",
       "      <td id=\"T_3d643_row0_col8\" class=\"data row0 col8\" >0.1800</td>\n",
       "    </tr>\n",
       "    <tr>\n",
       "      <th id=\"T_3d643_level0_row1\" class=\"row_heading level0 row1\" >huber_cds_dt</th>\n",
       "      <td id=\"T_3d643_row1_col0\" class=\"data row1 col0\" >Huber w/ Cond. Deseasonalize & Detrending</td>\n",
       "      <td id=\"T_3d643_row1_col1\" class=\"data row1 col1\" >0.9594</td>\n",
       "      <td id=\"T_3d643_row1_col2\" class=\"data row1 col2\" >0.9620</td>\n",
       "      <td id=\"T_3d643_row1_col3\" class=\"data row1 col3\" >5.5904</td>\n",
       "      <td id=\"T_3d643_row1_col4\" class=\"data row1 col4\" >7.0816</td>\n",
       "      <td id=\"T_3d643_row1_col5\" class=\"data row1 col5\" >0.1212</td>\n",
       "      <td id=\"T_3d643_row1_col6\" class=\"data row1 col6\" >0.1138</td>\n",
       "      <td id=\"T_3d643_row1_col7\" class=\"data row1 col7\" >-1.7433</td>\n",
       "      <td id=\"T_3d643_row1_col8\" class=\"data row1 col8\" >0.0500</td>\n",
       "    </tr>\n",
       "    <tr>\n",
       "      <th id=\"T_3d643_level0_row2\" class=\"row_heading level0 row2\" >omp_cds_dt</th>\n",
       "      <td id=\"T_3d643_row2_col0\" class=\"data row2 col0\" >Orthogonal Matching Pursuit w/ Cond. Deseasonalize & Detrending</td>\n",
       "      <td id=\"T_3d643_row2_col1\" class=\"data row2 col1\" >0.9684</td>\n",
       "      <td id=\"T_3d643_row2_col2\" class=\"data row2 col2\" >0.9698</td>\n",
       "      <td id=\"T_3d643_row2_col3\" class=\"data row2 col3\" >5.6407</td>\n",
       "      <td id=\"T_3d643_row2_col4\" class=\"data row2 col4\" >7.1378</td>\n",
       "      <td id=\"T_3d643_row2_col5\" class=\"data row2 col5\" >0.1228</td>\n",
       "      <td id=\"T_3d643_row2_col6\" class=\"data row2 col6\" >0.1147</td>\n",
       "      <td id=\"T_3d643_row2_col7\" class=\"data row2 col7\" >-1.6885</td>\n",
       "      <td id=\"T_3d643_row2_col8\" class=\"data row2 col8\" >0.0500</td>\n",
       "    </tr>\n",
       "    <tr>\n",
       "      <th id=\"T_3d643_level0_row3\" class=\"row_heading level0 row3\" >lr_cds_dt</th>\n",
       "      <td id=\"T_3d643_row3_col0\" class=\"data row3 col0\" >Linear w/ Cond. Deseasonalize & Detrending</td>\n",
       "      <td id=\"T_3d643_row3_col1\" class=\"data row3 col1\" >0.9684</td>\n",
       "      <td id=\"T_3d643_row3_col2\" class=\"data row3 col2\" >0.9698</td>\n",
       "      <td id=\"T_3d643_row3_col3\" class=\"data row3 col3\" >5.6407</td>\n",
       "      <td id=\"T_3d643_row3_col4\" class=\"data row3 col4\" >7.1378</td>\n",
       "      <td id=\"T_3d643_row3_col5\" class=\"data row3 col5\" >0.1228</td>\n",
       "      <td id=\"T_3d643_row3_col6\" class=\"data row3 col6\" >0.1147</td>\n",
       "      <td id=\"T_3d643_row3_col7\" class=\"data row3 col7\" >-1.6885</td>\n",
       "      <td id=\"T_3d643_row3_col8\" class=\"data row3 col8\" >0.0500</td>\n",
       "    </tr>\n",
       "    <tr>\n",
       "      <th id=\"T_3d643_level0_row4\" class=\"row_heading level0 row4\" >ridge_cds_dt</th>\n",
       "      <td id=\"T_3d643_row4_col0\" class=\"data row4 col0\" >Ridge w/ Cond. Deseasonalize & Detrending</td>\n",
       "      <td id=\"T_3d643_row4_col1\" class=\"data row4 col1\" >0.9684</td>\n",
       "      <td id=\"T_3d643_row4_col2\" class=\"data row4 col2\" >0.9698</td>\n",
       "      <td id=\"T_3d643_row4_col3\" class=\"data row4 col3\" >5.6409</td>\n",
       "      <td id=\"T_3d643_row4_col4\" class=\"data row4 col4\" >7.1380</td>\n",
       "      <td id=\"T_3d643_row4_col5\" class=\"data row4 col5\" >0.1228</td>\n",
       "      <td id=\"T_3d643_row4_col6\" class=\"data row4 col6\" >0.1147</td>\n",
       "      <td id=\"T_3d643_row4_col7\" class=\"data row4 col7\" >-1.6886</td>\n",
       "      <td id=\"T_3d643_row4_col8\" class=\"data row4 col8\" >0.0500</td>\n",
       "    </tr>\n",
       "    <tr>\n",
       "      <th id=\"T_3d643_level0_row5\" class=\"row_heading level0 row5\" >en_cds_dt</th>\n",
       "      <td id=\"T_3d643_row5_col0\" class=\"data row5 col0\" >Elastic Net w/ Cond. Deseasonalize & Detrending</td>\n",
       "      <td id=\"T_3d643_row5_col1\" class=\"data row5 col1\" >0.9712</td>\n",
       "      <td id=\"T_3d643_row5_col2\" class=\"data row5 col2\" >0.9725</td>\n",
       "      <td id=\"T_3d643_row5_col3\" class=\"data row5 col3\" >5.6568</td>\n",
       "      <td id=\"T_3d643_row5_col4\" class=\"data row5 col4\" >7.1580</td>\n",
       "      <td id=\"T_3d643_row5_col5\" class=\"data row5 col5\" >0.1233</td>\n",
       "      <td id=\"T_3d643_row5_col6\" class=\"data row5 col6\" >0.1150</td>\n",
       "      <td id=\"T_3d643_row5_col7\" class=\"data row5 col7\" >-1.6940</td>\n",
       "      <td id=\"T_3d643_row5_col8\" class=\"data row5 col8\" >0.0533</td>\n",
       "    </tr>\n",
       "    <tr>\n",
       "      <th id=\"T_3d643_level0_row6\" class=\"row_heading level0 row6\" >llar_cds_dt</th>\n",
       "      <td id=\"T_3d643_row6_col0\" class=\"data row6 col0\" >Lasso Least Angular Regressor w/ Cond. Deseasonalize & Detrending</td>\n",
       "      <td id=\"T_3d643_row6_col1\" class=\"data row6 col1\" >0.9724</td>\n",
       "      <td id=\"T_3d643_row6_col2\" class=\"data row6 col2\" >0.9738</td>\n",
       "      <td id=\"T_3d643_row6_col3\" class=\"data row6 col3\" >5.6636</td>\n",
       "      <td id=\"T_3d643_row6_col4\" class=\"data row6 col4\" >7.1671</td>\n",
       "      <td id=\"T_3d643_row6_col5\" class=\"data row6 col5\" >0.1235</td>\n",
       "      <td id=\"T_3d643_row6_col6\" class=\"data row6 col6\" >0.1152</td>\n",
       "      <td id=\"T_3d643_row6_col7\" class=\"data row6 col7\" >-1.6966</td>\n",
       "      <td id=\"T_3d643_row6_col8\" class=\"data row6 col8\" >0.0567</td>\n",
       "    </tr>\n",
       "    <tr>\n",
       "      <th id=\"T_3d643_level0_row7\" class=\"row_heading level0 row7\" >lasso_cds_dt</th>\n",
       "      <td id=\"T_3d643_row7_col0\" class=\"data row7 col0\" >Lasso w/ Cond. Deseasonalize & Detrending</td>\n",
       "      <td id=\"T_3d643_row7_col1\" class=\"data row7 col1\" >0.9724</td>\n",
       "      <td id=\"T_3d643_row7_col2\" class=\"data row7 col2\" >0.9738</td>\n",
       "      <td id=\"T_3d643_row7_col3\" class=\"data row7 col3\" >5.6636</td>\n",
       "      <td id=\"T_3d643_row7_col4\" class=\"data row7 col4\" >7.1671</td>\n",
       "      <td id=\"T_3d643_row7_col5\" class=\"data row7 col5\" >0.1235</td>\n",
       "      <td id=\"T_3d643_row7_col6\" class=\"data row7 col6\" >0.1152</td>\n",
       "      <td id=\"T_3d643_row7_col7\" class=\"data row7 col7\" >-1.6966</td>\n",
       "      <td id=\"T_3d643_row7_col8\" class=\"data row7 col8\" >0.0500</td>\n",
       "    </tr>\n",
       "    <tr>\n",
       "      <th id=\"T_3d643_level0_row8\" class=\"row_heading level0 row8\" >br_cds_dt</th>\n",
       "      <td id=\"T_3d643_row8_col0\" class=\"data row8 col0\" >Bayesian Ridge w/ Cond. Deseasonalize & Detrending</td>\n",
       "      <td id=\"T_3d643_row8_col1\" class=\"data row8 col1\" >0.9770</td>\n",
       "      <td id=\"T_3d643_row8_col2\" class=\"data row8 col2\" >0.9790</td>\n",
       "      <td id=\"T_3d643_row8_col3\" class=\"data row8 col3\" >5.6900</td>\n",
       "      <td id=\"T_3d643_row8_col4\" class=\"data row8 col4\" >7.2057</td>\n",
       "      <td id=\"T_3d643_row8_col5\" class=\"data row8 col5\" >0.1243</td>\n",
       "      <td id=\"T_3d643_row8_col6\" class=\"data row8 col6\" >0.1158</td>\n",
       "      <td id=\"T_3d643_row8_col7\" class=\"data row8 col7\" >-1.7098</td>\n",
       "      <td id=\"T_3d643_row8_col8\" class=\"data row8 col8\" >0.0500</td>\n",
       "    </tr>\n",
       "    <tr>\n",
       "      <th id=\"T_3d643_level0_row9\" class=\"row_heading level0 row9\" >bats</th>\n",
       "      <td id=\"T_3d643_row9_col0\" class=\"data row9 col0\" >BATS</td>\n",
       "      <td id=\"T_3d643_row9_col1\" class=\"data row9 col1\" >1.0544</td>\n",
       "      <td id=\"T_3d643_row9_col2\" class=\"data row9 col2\" >0.9795</td>\n",
       "      <td id=\"T_3d643_row9_col3\" class=\"data row9 col3\" >6.1634</td>\n",
       "      <td id=\"T_3d643_row9_col4\" class=\"data row9 col4\" >7.2253</td>\n",
       "      <td id=\"T_3d643_row9_col5\" class=\"data row9 col5\" >0.1234</td>\n",
       "      <td id=\"T_3d643_row9_col6\" class=\"data row9 col6\" >0.1247</td>\n",
       "      <td id=\"T_3d643_row9_col7\" class=\"data row9 col7\" >-3.3742</td>\n",
       "      <td id=\"T_3d643_row9_col8\" class=\"data row9 col8\" >2.4300</td>\n",
       "    </tr>\n",
       "    <tr>\n",
       "      <th id=\"T_3d643_level0_row10\" class=\"row_heading level0 row10\" >tbats</th>\n",
       "      <td id=\"T_3d643_row10_col0\" class=\"data row10 col0\" >TBATS</td>\n",
       "      <td id=\"T_3d643_row10_col1\" class=\"data row10 col1\" >1.0544</td>\n",
       "      <td id=\"T_3d643_row10_col2\" class=\"data row10 col2\" >0.9795</td>\n",
       "      <td id=\"T_3d643_row10_col3\" class=\"data row10 col3\" >6.1634</td>\n",
       "      <td id=\"T_3d643_row10_col4\" class=\"data row10 col4\" >7.2253</td>\n",
       "      <td id=\"T_3d643_row10_col5\" class=\"data row10 col5\" >0.1234</td>\n",
       "      <td id=\"T_3d643_row10_col6\" class=\"data row10 col6\" >0.1247</td>\n",
       "      <td id=\"T_3d643_row10_col7\" class=\"data row10 col7\" >-3.3742</td>\n",
       "      <td id=\"T_3d643_row10_col8\" class=\"data row10 col8\" >4.9533</td>\n",
       "    </tr>\n",
       "    <tr>\n",
       "      <th id=\"T_3d643_level0_row11\" class=\"row_heading level0 row11\" >dt_cds_dt</th>\n",
       "      <td id=\"T_3d643_row11_col0\" class=\"data row11 col0\" >Decision Tree w/ Cond. Deseasonalize & Detrending</td>\n",
       "      <td id=\"T_3d643_row11_col1\" class=\"data row11 col1\" >1.2039</td>\n",
       "      <td id=\"T_3d643_row11_col2\" class=\"data row11 col2\" >1.0326</td>\n",
       "      <td id=\"T_3d643_row11_col3\" class=\"data row11 col3\" >7.0270</td>\n",
       "      <td id=\"T_3d643_row11_col4\" class=\"data row11 col4\" >7.6168</td>\n",
       "      <td id=\"T_3d643_row11_col5\" class=\"data row11 col5\" >0.1410</td>\n",
       "      <td id=\"T_3d643_row11_col6\" class=\"data row11 col6\" >0.1444</td>\n",
       "      <td id=\"T_3d643_row11_col7\" class=\"data row11 col7\" >-3.5886</td>\n",
       "      <td id=\"T_3d643_row11_col8\" class=\"data row11 col8\" >0.0500</td>\n",
       "    </tr>\n",
       "    <tr>\n",
       "      <th id=\"T_3d643_level0_row12\" class=\"row_heading level0 row12\" >et_cds_dt</th>\n",
       "      <td id=\"T_3d643_row12_col0\" class=\"data row12 col0\" >Extra Trees w/ Cond. Deseasonalize & Detrending</td>\n",
       "      <td id=\"T_3d643_row12_col1\" class=\"data row12 col1\" >1.1647</td>\n",
       "      <td id=\"T_3d643_row12_col2\" class=\"data row12 col2\" >1.0351</td>\n",
       "      <td id=\"T_3d643_row12_col3\" class=\"data row12 col3\" >6.7982</td>\n",
       "      <td id=\"T_3d643_row12_col4\" class=\"data row12 col4\" >7.6345</td>\n",
       "      <td id=\"T_3d643_row12_col5\" class=\"data row12 col5\" >0.1385</td>\n",
       "      <td id=\"T_3d643_row12_col6\" class=\"data row12 col6\" >0.1398</td>\n",
       "      <td id=\"T_3d643_row12_col7\" class=\"data row12 col7\" >-3.5701</td>\n",
       "      <td id=\"T_3d643_row12_col8\" class=\"data row12 col8\" >0.1033</td>\n",
       "    </tr>\n",
       "    <tr>\n",
       "      <th id=\"T_3d643_level0_row13\" class=\"row_heading level0 row13\" >croston</th>\n",
       "      <td id=\"T_3d643_row13_col0\" class=\"data row13 col0\" >Croston</td>\n",
       "      <td id=\"T_3d643_row13_col1\" class=\"data row13 col1\" >1.1974</td>\n",
       "      <td id=\"T_3d643_row13_col2\" class=\"data row13 col2\" >1.0680</td>\n",
       "      <td id=\"T_3d643_row13_col3\" class=\"data row13 col3\" >6.9922</td>\n",
       "      <td id=\"T_3d643_row13_col4\" class=\"data row13 col4\" >7.8768</td>\n",
       "      <td id=\"T_3d643_row13_col5\" class=\"data row13 col5\" >0.1426</td>\n",
       "      <td id=\"T_3d643_row13_col6\" class=\"data row13 col6\" >0.1429</td>\n",
       "      <td id=\"T_3d643_row13_col7\" class=\"data row13 col7\" >-3.8266</td>\n",
       "      <td id=\"T_3d643_row13_col8\" class=\"data row13 col8\" >0.0267</td>\n",
       "    </tr>\n",
       "    <tr>\n",
       "      <th id=\"T_3d643_level0_row14\" class=\"row_heading level0 row14\" >polytrend</th>\n",
       "      <td id=\"T_3d643_row14_col0\" class=\"data row14 col0\" >Polynomial Trend Forecaster</td>\n",
       "      <td id=\"T_3d643_row14_col1\" class=\"data row14 col1\" >1.0509</td>\n",
       "      <td id=\"T_3d643_row14_col2\" class=\"data row14 col2\" >1.0747</td>\n",
       "      <td id=\"T_3d643_row14_col3\" class=\"data row14 col3\" >6.1136</td>\n",
       "      <td id=\"T_3d643_row14_col4\" class=\"data row14 col4\" >7.9089</td>\n",
       "      <td id=\"T_3d643_row14_col5\" class=\"data row14 col5\" >0.1352</td>\n",
       "      <td id=\"T_3d643_row14_col6\" class=\"data row14 col6\" >0.1245</td>\n",
       "      <td id=\"T_3d643_row14_col7\" class=\"data row14 col7\" >-2.1016</td>\n",
       "      <td id=\"T_3d643_row14_col8\" class=\"data row14 col8\" >0.0233</td>\n",
       "    </tr>\n",
       "    <tr>\n",
       "      <th id=\"T_3d643_level0_row15\" class=\"row_heading level0 row15\" >ets</th>\n",
       "      <td id=\"T_3d643_row15_col0\" class=\"data row15 col0\" >ETS</td>\n",
       "      <td id=\"T_3d643_row15_col1\" class=\"data row15 col1\" >1.0509</td>\n",
       "      <td id=\"T_3d643_row15_col2\" class=\"data row15 col2\" >1.0747</td>\n",
       "      <td id=\"T_3d643_row15_col3\" class=\"data row15 col3\" >6.1136</td>\n",
       "      <td id=\"T_3d643_row15_col4\" class=\"data row15 col4\" >7.9089</td>\n",
       "      <td id=\"T_3d643_row15_col5\" class=\"data row15 col5\" >0.1352</td>\n",
       "      <td id=\"T_3d643_row15_col6\" class=\"data row15 col6\" >0.1245</td>\n",
       "      <td id=\"T_3d643_row15_col7\" class=\"data row15 col7\" >-2.1016</td>\n",
       "      <td id=\"T_3d643_row15_col8\" class=\"data row15 col8\" >0.0333</td>\n",
       "    </tr>\n",
       "    <tr>\n",
       "      <th id=\"T_3d643_level0_row16\" class=\"row_heading level0 row16\" >arima</th>\n",
       "      <td id=\"T_3d643_row16_col0\" class=\"data row16 col0\" >ARIMA</td>\n",
       "      <td id=\"T_3d643_row16_col1\" class=\"data row16 col1\" >1.2620</td>\n",
       "      <td id=\"T_3d643_row16_col2\" class=\"data row16 col2\" >1.1398</td>\n",
       "      <td id=\"T_3d643_row16_col3\" class=\"data row16 col3\" >7.3747</td>\n",
       "      <td id=\"T_3d643_row16_col4\" class=\"data row16 col4\" >8.4119</td>\n",
       "      <td id=\"T_3d643_row16_col5\" class=\"data row16 col5\" >0.1438</td>\n",
       "      <td id=\"T_3d643_row16_col6\" class=\"data row16 col6\" >0.1516</td>\n",
       "      <td id=\"T_3d643_row16_col7\" class=\"data row16 col7\" >-5.1527</td>\n",
       "      <td id=\"T_3d643_row16_col8\" class=\"data row16 col8\" >0.0467</td>\n",
       "    </tr>\n",
       "    <tr>\n",
       "      <th id=\"T_3d643_level0_row17\" class=\"row_heading level0 row17\" >lightgbm_cds_dt</th>\n",
       "      <td id=\"T_3d643_row17_col0\" class=\"data row17 col0\" >Light Gradient Boosting w/ Cond. Deseasonalize & Detrending</td>\n",
       "      <td id=\"T_3d643_row17_col1\" class=\"data row17 col1\" >1.1818</td>\n",
       "      <td id=\"T_3d643_row17_col2\" class=\"data row17 col2\" >1.1570</td>\n",
       "      <td id=\"T_3d643_row17_col3\" class=\"data row17 col3\" >6.8904</td>\n",
       "      <td id=\"T_3d643_row17_col4\" class=\"data row17 col4\" >8.5192</td>\n",
       "      <td id=\"T_3d643_row17_col5\" class=\"data row17 col5\" >0.1487</td>\n",
       "      <td id=\"T_3d643_row17_col6\" class=\"data row17 col6\" >0.1393</td>\n",
       "      <td id=\"T_3d643_row17_col7\" class=\"data row17 col7\" >-3.1531</td>\n",
       "      <td id=\"T_3d643_row17_col8\" class=\"data row17 col8\" >0.1100</td>\n",
       "    </tr>\n",
       "    <tr>\n",
       "      <th id=\"T_3d643_level0_row18\" class=\"row_heading level0 row18\" >grand_means</th>\n",
       "      <td id=\"T_3d643_row18_col0\" class=\"data row18 col0\" >Grand Means Forecaster</td>\n",
       "      <td id=\"T_3d643_row18_col1\" class=\"data row18 col1\" >1.4261</td>\n",
       "      <td id=\"T_3d643_row18_col2\" class=\"data row18 col2\" >1.1855</td>\n",
       "      <td id=\"T_3d643_row18_col3\" class=\"data row18 col3\" >8.3314</td>\n",
       "      <td id=\"T_3d643_row18_col4\" class=\"data row18 col4\" >8.7477</td>\n",
       "      <td id=\"T_3d643_row18_col5\" class=\"data row18 col5\" >0.1623</td>\n",
       "      <td id=\"T_3d643_row18_col6\" class=\"data row18 col6\" >0.1717</td>\n",
       "      <td id=\"T_3d643_row18_col7\" class=\"data row18 col7\" >-5.6437</td>\n",
       "      <td id=\"T_3d643_row18_col8\" class=\"data row18 col8\" >0.0267</td>\n",
       "    </tr>\n",
       "    <tr>\n",
       "      <th id=\"T_3d643_level0_row19\" class=\"row_heading level0 row19\" >exp_smooth</th>\n",
       "      <td id=\"T_3d643_row19_col0\" class=\"data row19 col0\" >Exponential Smoothing</td>\n",
       "      <td id=\"T_3d643_row19_col1\" class=\"data row19 col1\" >1.2564</td>\n",
       "      <td id=\"T_3d643_row19_col2\" class=\"data row19 col2\" >1.2150</td>\n",
       "      <td id=\"T_3d643_row19_col3\" class=\"data row19 col3\" >7.3022</td>\n",
       "      <td id=\"T_3d643_row19_col4\" class=\"data row19 col4\" >8.9344</td>\n",
       "      <td id=\"T_3d643_row19_col5\" class=\"data row19 col5\" >0.1624</td>\n",
       "      <td id=\"T_3d643_row19_col6\" class=\"data row19 col6\" >0.1458</td>\n",
       "      <td id=\"T_3d643_row19_col7\" class=\"data row19 col7\" >-2.4848</td>\n",
       "      <td id=\"T_3d643_row19_col8\" class=\"data row19 col8\" >0.0267</td>\n",
       "    </tr>\n",
       "    <tr>\n",
       "      <th id=\"T_3d643_level0_row20\" class=\"row_heading level0 row20\" >ada_cds_dt</th>\n",
       "      <td id=\"T_3d643_row20_col0\" class=\"data row20 col0\" >AdaBoost w/ Cond. Deseasonalize & Detrending</td>\n",
       "      <td id=\"T_3d643_row20_col1\" class=\"data row20 col1\" >1.4085</td>\n",
       "      <td id=\"T_3d643_row20_col2\" class=\"data row20 col2\" >1.2842</td>\n",
       "      <td id=\"T_3d643_row20_col3\" class=\"data row20 col3\" >8.2087</td>\n",
       "      <td id=\"T_3d643_row20_col4\" class=\"data row20 col4\" >9.4656</td>\n",
       "      <td id=\"T_3d643_row20_col5\" class=\"data row20 col5\" >0.1689</td>\n",
       "      <td id=\"T_3d643_row20_col6\" class=\"data row20 col6\" >0.1687</td>\n",
       "      <td id=\"T_3d643_row20_col7\" class=\"data row20 col7\" >-5.0719</td>\n",
       "      <td id=\"T_3d643_row20_col8\" class=\"data row20 col8\" >0.0733</td>\n",
       "    </tr>\n",
       "    <tr>\n",
       "      <th id=\"T_3d643_level0_row21\" class=\"row_heading level0 row21\" >catboost_cds_dt</th>\n",
       "      <td id=\"T_3d643_row21_col0\" class=\"data row21 col0\" >CatBoost Regressor w/ Cond. Deseasonalize & Detrending</td>\n",
       "      <td id=\"T_3d643_row21_col1\" class=\"data row21 col1\" >1.5205</td>\n",
       "      <td id=\"T_3d643_row21_col2\" class=\"data row21 col2\" >1.2863</td>\n",
       "      <td id=\"T_3d643_row21_col3\" class=\"data row21 col3\" >8.8582</td>\n",
       "      <td id=\"T_3d643_row21_col4\" class=\"data row21 col4\" >9.4805</td>\n",
       "      <td id=\"T_3d643_row21_col5\" class=\"data row21 col5\" >0.1821</td>\n",
       "      <td id=\"T_3d643_row21_col6\" class=\"data row21 col6\" >0.1823</td>\n",
       "      <td id=\"T_3d643_row21_col7\" class=\"data row21 col7\" >-5.0137</td>\n",
       "      <td id=\"T_3d643_row21_col8\" class=\"data row21 col8\" >0.5733</td>\n",
       "    </tr>\n",
       "    <tr>\n",
       "      <th id=\"T_3d643_level0_row22\" class=\"row_heading level0 row22\" >rf_cds_dt</th>\n",
       "      <td id=\"T_3d643_row22_col0\" class=\"data row22 col0\" >Random Forest w/ Cond. Deseasonalize & Detrending</td>\n",
       "      <td id=\"T_3d643_row22_col1\" class=\"data row22 col1\" >1.4953</td>\n",
       "      <td id=\"T_3d643_row22_col2\" class=\"data row22 col2\" >1.2911</td>\n",
       "      <td id=\"T_3d643_row22_col3\" class=\"data row22 col3\" >8.7083</td>\n",
       "      <td id=\"T_3d643_row22_col4\" class=\"data row22 col4\" >9.5204</td>\n",
       "      <td id=\"T_3d643_row22_col5\" class=\"data row22 col5\" >0.1777</td>\n",
       "      <td id=\"T_3d643_row22_col6\" class=\"data row22 col6\" >0.1792</td>\n",
       "      <td id=\"T_3d643_row22_col7\" class=\"data row22 col7\" >-5.6082</td>\n",
       "      <td id=\"T_3d643_row22_col8\" class=\"data row22 col8\" >0.1167</td>\n",
       "    </tr>\n",
       "    <tr>\n",
       "      <th id=\"T_3d643_level0_row23\" class=\"row_heading level0 row23\" >xgboost_cds_dt</th>\n",
       "      <td id=\"T_3d643_row23_col0\" class=\"data row23 col0\" >Extreme Gradient Boosting w/ Cond. Deseasonalize & Detrending</td>\n",
       "      <td id=\"T_3d643_row23_col1\" class=\"data row23 col1\" >1.4837</td>\n",
       "      <td id=\"T_3d643_row23_col2\" class=\"data row23 col2\" >1.3438</td>\n",
       "      <td id=\"T_3d643_row23_col3\" class=\"data row23 col3\" >8.6520</td>\n",
       "      <td id=\"T_3d643_row23_col4\" class=\"data row23 col4\" >9.8986</td>\n",
       "      <td id=\"T_3d643_row23_col5\" class=\"data row23 col5\" >0.1827</td>\n",
       "      <td id=\"T_3d643_row23_col6\" class=\"data row23 col6\" >0.1748</td>\n",
       "      <td id=\"T_3d643_row23_col7\" class=\"data row23 col7\" >-5.1017</td>\n",
       "      <td id=\"T_3d643_row23_col8\" class=\"data row23 col8\" >0.0700</td>\n",
       "    </tr>\n",
       "    <tr>\n",
       "      <th id=\"T_3d643_level0_row24\" class=\"row_heading level0 row24\" >gbr_cds_dt</th>\n",
       "      <td id=\"T_3d643_row24_col0\" class=\"data row24 col0\" >Gradient Boosting w/ Cond. Deseasonalize & Detrending</td>\n",
       "      <td id=\"T_3d643_row24_col1\" class=\"data row24 col1\" >1.5253</td>\n",
       "      <td id=\"T_3d643_row24_col2\" class=\"data row24 col2\" >1.3463</td>\n",
       "      <td id=\"T_3d643_row24_col3\" class=\"data row24 col3\" >8.8907</td>\n",
       "      <td id=\"T_3d643_row24_col4\" class=\"data row24 col4\" >9.9222</td>\n",
       "      <td id=\"T_3d643_row24_col5\" class=\"data row24 col5\" >0.1829</td>\n",
       "      <td id=\"T_3d643_row24_col6\" class=\"data row24 col6\" >0.1817</td>\n",
       "      <td id=\"T_3d643_row24_col7\" class=\"data row24 col7\" >-5.5758</td>\n",
       "      <td id=\"T_3d643_row24_col8\" class=\"data row24 col8\" >0.0633</td>\n",
       "    </tr>\n",
       "    <tr>\n",
       "      <th id=\"T_3d643_level0_row25\" class=\"row_heading level0 row25\" >knn_cds_dt</th>\n",
       "      <td id=\"T_3d643_row25_col0\" class=\"data row25 col0\" >K Neighbors w/ Cond. Deseasonalize & Detrending</td>\n",
       "      <td id=\"T_3d643_row25_col1\" class=\"data row25 col1\" >1.4197</td>\n",
       "      <td id=\"T_3d643_row25_col2\" class=\"data row25 col2\" >1.3553</td>\n",
       "      <td id=\"T_3d643_row25_col3\" class=\"data row25 col3\" >8.2784</td>\n",
       "      <td id=\"T_3d643_row25_col4\" class=\"data row25 col4\" >9.9819</td>\n",
       "      <td id=\"T_3d643_row25_col5\" class=\"data row25 col5\" >0.1764</td>\n",
       "      <td id=\"T_3d643_row25_col6\" class=\"data row25 col6\" >0.1659</td>\n",
       "      <td id=\"T_3d643_row25_col7\" class=\"data row25 col7\" >-4.8901</td>\n",
       "      <td id=\"T_3d643_row25_col8\" class=\"data row25 col8\" >0.0933</td>\n",
       "    </tr>\n",
       "    <tr>\n",
       "      <th id=\"T_3d643_level0_row26\" class=\"row_heading level0 row26\" >theta</th>\n",
       "      <td id=\"T_3d643_row26_col0\" class=\"data row26 col0\" >Theta Forecaster</td>\n",
       "      <td id=\"T_3d643_row26_col1\" class=\"data row26 col1\" >1.4549</td>\n",
       "      <td id=\"T_3d643_row26_col2\" class=\"data row26 col2\" >1.3637</td>\n",
       "      <td id=\"T_3d643_row26_col3\" class=\"data row26 col3\" >8.4750</td>\n",
       "      <td id=\"T_3d643_row26_col4\" class=\"data row26 col4\" >10.0397</td>\n",
       "      <td id=\"T_3d643_row26_col5\" class=\"data row26 col5\" >0.1763</td>\n",
       "      <td id=\"T_3d643_row26_col6\" class=\"data row26 col6\" >0.1712</td>\n",
       "      <td id=\"T_3d643_row26_col7\" class=\"data row26 col7\" >-4.4998</td>\n",
       "      <td id=\"T_3d643_row26_col8\" class=\"data row26 col8\" >0.0267</td>\n",
       "    </tr>\n",
       "    <tr>\n",
       "      <th id=\"T_3d643_level0_row27\" class=\"row_heading level0 row27\" >naive</th>\n",
       "      <td id=\"T_3d643_row27_col0\" class=\"data row27 col0\" >Naive Forecaster</td>\n",
       "      <td id=\"T_3d643_row27_col1\" class=\"data row27 col1\" >1.6666</td>\n",
       "      <td id=\"T_3d643_row27_col2\" class=\"data row27 col2\" >1.5156</td>\n",
       "      <td id=\"T_3d643_row27_col3\" class=\"data row27 col3\" >9.6716</td>\n",
       "      <td id=\"T_3d643_row27_col4\" class=\"data row27 col4\" >11.1514</td>\n",
       "      <td id=\"T_3d643_row27_col5\" class=\"data row27 col5\" >0.2039</td>\n",
       "      <td id=\"T_3d643_row27_col6\" class=\"data row27 col6\" >0.2092</td>\n",
       "      <td id=\"T_3d643_row27_col7\" class=\"data row27 col7\" >-5.1993</td>\n",
       "      <td id=\"T_3d643_row27_col8\" class=\"data row27 col8\" >0.0300</td>\n",
       "    </tr>\n",
       "    <tr>\n",
       "      <th id=\"T_3d643_level0_row28\" class=\"row_heading level0 row28\" >auto_arima</th>\n",
       "      <td id=\"T_3d643_row28_col0\" class=\"data row28 col0\" >Auto ARIMA</td>\n",
       "      <td id=\"T_3d643_row28_col1\" class=\"data row28 col1\" >1.6666</td>\n",
       "      <td id=\"T_3d643_row28_col2\" class=\"data row28 col2\" >1.5156</td>\n",
       "      <td id=\"T_3d643_row28_col3\" class=\"data row28 col3\" >9.6716</td>\n",
       "      <td id=\"T_3d643_row28_col4\" class=\"data row28 col4\" >11.1514</td>\n",
       "      <td id=\"T_3d643_row28_col5\" class=\"data row28 col5\" >0.2039</td>\n",
       "      <td id=\"T_3d643_row28_col6\" class=\"data row28 col6\" >0.2092</td>\n",
       "      <td id=\"T_3d643_row28_col7\" class=\"data row28 col7\" >-5.1993</td>\n",
       "      <td id=\"T_3d643_row28_col8\" class=\"data row28 col8\" >0.1100</td>\n",
       "    </tr>\n",
       "  </tbody>\n",
       "</table>\n"
      ],
      "text/plain": [
       "<pandas.io.formats.style.Styler at 0x1c86244fc90>"
      ]
     },
     "metadata": {},
     "output_type": "display_data"
    },
    {
     "data": {
      "text/html": [],
      "text/plain": [
       "<IPython.core.display.HTML object>"
      ]
     },
     "metadata": {},
     "output_type": "display_data"
    }
   ],
   "source": [
    "best = exp.compare_models(sort='rmse', turbo=False)\n",
    "comparison_results = exp.pull()\n",
    "best_model_name = comparison_results.iloc[0]['Model']\n",
    "mean_rmse_compare = comparison_results.iloc[0]['RMSE']"
   ]
  },
  {
   "cell_type": "markdown",
   "metadata": {},
   "source": [
    "#### Tune Model"
   ]
  },
  {
   "cell_type": "code",
   "execution_count": 59,
   "metadata": {},
   "outputs": [
    {
     "data": {
      "text/html": [],
      "text/plain": [
       "<IPython.core.display.HTML object>"
      ]
     },
     "metadata": {},
     "output_type": "display_data"
    },
    {
     "data": {
      "text/html": [],
      "text/plain": [
       "<IPython.core.display.HTML object>"
      ]
     },
     "metadata": {},
     "output_type": "display_data"
    },
    {
     "data": {
      "text/html": [],
      "text/plain": [
       "<IPython.core.display.HTML object>"
      ]
     },
     "metadata": {},
     "output_type": "display_data"
    },
    {
     "name": "stdout",
     "output_type": "stream",
     "text": [
      "Fitting 3 folds for each of 50 candidates, totalling 150 fits\n"
     ]
    },
    {
     "name": "stderr",
     "output_type": "stream",
     "text": [
      "[Parallel(n_jobs=-1)]: Using backend LokyBackend with 16 concurrent workers.\n",
      "[Parallel(n_jobs=-1)]: Done  18 tasks      | elapsed:    3.2s\n",
      "[Parallel(n_jobs=-1)]: Done 150 out of 150 | elapsed:   14.4s finished\n"
     ]
    }
   ],
   "source": [
    "try:\n",
    "    # Tune the model\n",
    "    tuned = exp.tune_model(best, optimize='RMSE', n_iter=50, choose_better=True)\n",
    "    # Retrieve the tuning results\n",
    "    tuned_results = exp.pull()\n",
    "    # Extract the mean RMSE from the results\n",
    "    mean_rmse = tuned_results.loc['Mean', 'RMSE']\n",
    "except ValueError:\n",
    "    print(\"Could Not Tune\")\n"
   ]
  },
  {
   "cell_type": "markdown",
   "metadata": {},
   "source": [
    "#### Finalizing Model"
   ]
  },
  {
   "cell_type": "code",
   "execution_count": 60,
   "metadata": {},
   "outputs": [],
   "source": [
    "try:\n",
    "    final = exp.finalize_model(tuned)\n",
    "except NameError:\n",
    "    final = exp.finalize_model(best)"
   ]
  },
  {
   "cell_type": "code",
   "execution_count": 61,
   "metadata": {},
   "outputs": [
    {
     "data": {
      "application/vnd.plotly.v1+json": {
       "config": {
        "plotlyServerURL": "https://plot.ly"
       },
       "data": [
        {
         "line": {
          "color": "#1f77b4"
         },
         "marker": {
          "size": 5
         },
         "mode": "lines+markers",
         "name": "Forecast | Prophet",
         "showlegend": true,
         "type": "scatter",
         "x": [
          "2024-11-01T00:00:00",
          "2024-12-01T00:00:00",
          "2025-01-01T00:00:00",
          "2025-02-01T00:00:00"
         ],
         "y": [
          45.0525,
          54.22,
          49.53,
          51.3621
         ]
        },
        {
         "line": {
          "width": 0
         },
         "marker": {
          "color": "#68BBE3"
         },
         "mode": "lines",
         "name": "Lower Interval",
         "showlegend": false,
         "type": "scatter",
         "x": [
          "2024-11-01T00:00:00",
          "2024-12-01T00:00:00",
          "2025-01-01T00:00:00",
          "2025-02-01T00:00:00"
         ],
         "y": [
          36.4041,
          44.7058,
          40.922,
          42.3679
         ]
        },
        {
         "fill": "tonexty",
         "fillcolor": "rgba(104,187,227,0.5)",
         "line": {
          "width": 0
         },
         "marker": {
          "color": "#68BBE3"
         },
         "mode": "lines",
         "name": "Prediction Interval | Prophet",
         "showlegend": true,
         "type": "scatter",
         "x": [
          "2024-11-01T00:00:00",
          "2024-12-01T00:00:00",
          "2025-01-01T00:00:00",
          "2025-02-01T00:00:00"
         ],
         "y": [
          54.503,
          63.1769,
          58.2663,
          59.0867
         ]
        },
        {
         "marker": {
          "color": "#3f3f3f",
          "size": 5
         },
         "mode": "lines+markers",
         "name": "Original",
         "showlegend": true,
         "type": "scatter",
         "x": [
          "2020-01-01T00:00:00",
          "2020-02-01T00:00:00",
          "2020-03-01T00:00:00",
          "2020-04-01T00:00:00",
          "2020-05-01T00:00:00",
          "2020-06-01T00:00:00",
          "2020-07-01T00:00:00",
          "2020-08-01T00:00:00",
          "2020-09-01T00:00:00",
          "2020-10-01T00:00:00",
          "2020-11-01T00:00:00",
          "2020-12-01T00:00:00",
          "2021-01-01T00:00:00",
          "2021-02-01T00:00:00",
          "2021-03-01T00:00:00",
          "2021-04-01T00:00:00",
          "2021-05-01T00:00:00",
          "2021-06-01T00:00:00",
          "2021-07-01T00:00:00",
          "2021-08-01T00:00:00",
          "2021-09-01T00:00:00",
          "2021-10-01T00:00:00",
          "2021-11-01T00:00:00",
          "2021-12-01T00:00:00",
          "2022-01-01T00:00:00",
          "2022-02-01T00:00:00",
          "2022-03-01T00:00:00",
          "2022-04-01T00:00:00",
          "2022-05-01T00:00:00",
          "2022-06-01T00:00:00",
          "2022-07-01T00:00:00",
          "2022-08-01T00:00:00",
          "2022-09-01T00:00:00",
          "2022-10-01T00:00:00",
          "2022-11-01T00:00:00",
          "2022-12-01T00:00:00",
          "2023-01-01T00:00:00",
          "2023-02-01T00:00:00",
          "2023-03-01T00:00:00",
          "2023-04-01T00:00:00",
          "2023-05-01T00:00:00",
          "2023-06-01T00:00:00",
          "2023-07-01T00:00:00",
          "2023-08-01T00:00:00",
          "2023-09-01T00:00:00",
          "2023-10-01T00:00:00",
          "2023-11-01T00:00:00",
          "2023-12-01T00:00:00",
          "2024-01-01T00:00:00",
          "2024-02-01T00:00:00",
          "2024-03-01T00:00:00",
          "2024-04-01T00:00:00",
          "2024-05-01T00:00:00",
          "2024-06-01T00:00:00",
          "2024-07-01T00:00:00",
          "2024-08-01T00:00:00",
          "2024-09-01T00:00:00",
          "2024-10-01T00:00:00"
         ],
         "y": [
          33.70093581179301,
          40.097501245230355,
          35.094671544226294,
          32.91706587533452,
          42.78727629708735,
          44.18178119670531,
          33.68047731483411,
          41.491391944060545,
          39.6944315238721,
          32.77698218616264,
          41.797808140311645,
          41.11915380665249,
          37.08308588698089,
          36.46967919713072,
          47.3535520693677,
          61.67530062309889,
          56.99302256859361,
          46.95449869357742,
          47.055276577270895,
          43.30751505561535,
          45.01543776761415,
          40.480536322544914,
          34.6969982557282,
          51.93788161837621,
          48.43162971876396,
          51.12807903263428,
          47.024156938634846,
          45.54776703917591,
          53.89723581950358,
          54.65961016021328,
          49.703309030678454,
          49.09317932804738,
          35.367895667210156,
          42.018778033637105,
          42.018778033637105,
          46.82633467604414,
          47.54218194715972,
          44.143748910154066,
          38.008971012672305,
          52.82335267233074,
          64.68759222565045,
          55.380637730972225,
          53.50421914395414,
          51.96923213828622,
          49.24075182764014,
          34.336286275039605,
          40.16871846898528,
          52.37984878102597,
          43.94904174124287,
          49.09317932804738,
          52.82335267233074,
          58.266663494431185,
          61.38407759545939,
          59.239525045951964,
          62.21845049368221,
          49.543896137785964,
          30.488067656442006,
          22.891292903162135
         ]
        }
       ],
       "layout": {
        "showlegend": true,
        "template": {
         "data": {
          "bar": [
           {
            "error_x": {
             "color": "rgb(51,51,51)"
            },
            "error_y": {
             "color": "rgb(51,51,51)"
            },
            "marker": {
             "line": {
              "color": "rgb(237,237,237)",
              "width": 0.5
             },
             "pattern": {
              "fillmode": "overlay",
              "size": 10,
              "solidity": 0.2
             }
            },
            "type": "bar"
           }
          ],
          "barpolar": [
           {
            "marker": {
             "line": {
              "color": "rgb(237,237,237)",
              "width": 0.5
             },
             "pattern": {
              "fillmode": "overlay",
              "size": 10,
              "solidity": 0.2
             }
            },
            "type": "barpolar"
           }
          ],
          "carpet": [
           {
            "aaxis": {
             "endlinecolor": "rgb(51,51,51)",
             "gridcolor": "white",
             "linecolor": "white",
             "minorgridcolor": "white",
             "startlinecolor": "rgb(51,51,51)"
            },
            "baxis": {
             "endlinecolor": "rgb(51,51,51)",
             "gridcolor": "white",
             "linecolor": "white",
             "minorgridcolor": "white",
             "startlinecolor": "rgb(51,51,51)"
            },
            "type": "carpet"
           }
          ],
          "choropleth": [
           {
            "colorbar": {
             "outlinewidth": 0,
             "tickcolor": "rgb(237,237,237)",
             "ticklen": 6,
             "ticks": "inside"
            },
            "type": "choropleth"
           }
          ],
          "contour": [
           {
            "colorbar": {
             "outlinewidth": 0,
             "tickcolor": "rgb(237,237,237)",
             "ticklen": 6,
             "ticks": "inside"
            },
            "colorscale": [
             [
              0,
              "rgb(20,44,66)"
             ],
             [
              1,
              "rgb(90,179,244)"
             ]
            ],
            "type": "contour"
           }
          ],
          "contourcarpet": [
           {
            "colorbar": {
             "outlinewidth": 0,
             "tickcolor": "rgb(237,237,237)",
             "ticklen": 6,
             "ticks": "inside"
            },
            "type": "contourcarpet"
           }
          ],
          "heatmap": [
           {
            "colorbar": {
             "outlinewidth": 0,
             "tickcolor": "rgb(237,237,237)",
             "ticklen": 6,
             "ticks": "inside"
            },
            "colorscale": [
             [
              0,
              "rgb(20,44,66)"
             ],
             [
              1,
              "rgb(90,179,244)"
             ]
            ],
            "type": "heatmap"
           }
          ],
          "heatmapgl": [
           {
            "colorbar": {
             "outlinewidth": 0,
             "tickcolor": "rgb(237,237,237)",
             "ticklen": 6,
             "ticks": "inside"
            },
            "colorscale": [
             [
              0,
              "rgb(20,44,66)"
             ],
             [
              1,
              "rgb(90,179,244)"
             ]
            ],
            "type": "heatmapgl"
           }
          ],
          "histogram": [
           {
            "marker": {
             "pattern": {
              "fillmode": "overlay",
              "size": 10,
              "solidity": 0.2
             }
            },
            "type": "histogram"
           }
          ],
          "histogram2d": [
           {
            "colorbar": {
             "outlinewidth": 0,
             "tickcolor": "rgb(237,237,237)",
             "ticklen": 6,
             "ticks": "inside"
            },
            "colorscale": [
             [
              0,
              "rgb(20,44,66)"
             ],
             [
              1,
              "rgb(90,179,244)"
             ]
            ],
            "type": "histogram2d"
           }
          ],
          "histogram2dcontour": [
           {
            "colorbar": {
             "outlinewidth": 0,
             "tickcolor": "rgb(237,237,237)",
             "ticklen": 6,
             "ticks": "inside"
            },
            "colorscale": [
             [
              0,
              "rgb(20,44,66)"
             ],
             [
              1,
              "rgb(90,179,244)"
             ]
            ],
            "type": "histogram2dcontour"
           }
          ],
          "mesh3d": [
           {
            "colorbar": {
             "outlinewidth": 0,
             "tickcolor": "rgb(237,237,237)",
             "ticklen": 6,
             "ticks": "inside"
            },
            "type": "mesh3d"
           }
          ],
          "parcoords": [
           {
            "line": {
             "colorbar": {
              "outlinewidth": 0,
              "tickcolor": "rgb(237,237,237)",
              "ticklen": 6,
              "ticks": "inside"
             }
            },
            "type": "parcoords"
           }
          ],
          "pie": [
           {
            "automargin": true,
            "type": "pie"
           }
          ],
          "scatter": [
           {
            "fillpattern": {
             "fillmode": "overlay",
             "size": 10,
             "solidity": 0.2
            },
            "type": "scatter"
           }
          ],
          "scatter3d": [
           {
            "line": {
             "colorbar": {
              "outlinewidth": 0,
              "tickcolor": "rgb(237,237,237)",
              "ticklen": 6,
              "ticks": "inside"
             }
            },
            "marker": {
             "colorbar": {
              "outlinewidth": 0,
              "tickcolor": "rgb(237,237,237)",
              "ticklen": 6,
              "ticks": "inside"
             }
            },
            "type": "scatter3d"
           }
          ],
          "scattercarpet": [
           {
            "marker": {
             "colorbar": {
              "outlinewidth": 0,
              "tickcolor": "rgb(237,237,237)",
              "ticklen": 6,
              "ticks": "inside"
             }
            },
            "type": "scattercarpet"
           }
          ],
          "scattergeo": [
           {
            "marker": {
             "colorbar": {
              "outlinewidth": 0,
              "tickcolor": "rgb(237,237,237)",
              "ticklen": 6,
              "ticks": "inside"
             }
            },
            "type": "scattergeo"
           }
          ],
          "scattergl": [
           {
            "marker": {
             "colorbar": {
              "outlinewidth": 0,
              "tickcolor": "rgb(237,237,237)",
              "ticklen": 6,
              "ticks": "inside"
             }
            },
            "type": "scattergl"
           }
          ],
          "scattermapbox": [
           {
            "marker": {
             "colorbar": {
              "outlinewidth": 0,
              "tickcolor": "rgb(237,237,237)",
              "ticklen": 6,
              "ticks": "inside"
             }
            },
            "type": "scattermapbox"
           }
          ],
          "scatterpolar": [
           {
            "marker": {
             "colorbar": {
              "outlinewidth": 0,
              "tickcolor": "rgb(237,237,237)",
              "ticklen": 6,
              "ticks": "inside"
             }
            },
            "type": "scatterpolar"
           }
          ],
          "scatterpolargl": [
           {
            "marker": {
             "colorbar": {
              "outlinewidth": 0,
              "tickcolor": "rgb(237,237,237)",
              "ticklen": 6,
              "ticks": "inside"
             }
            },
            "type": "scatterpolargl"
           }
          ],
          "scatterternary": [
           {
            "marker": {
             "colorbar": {
              "outlinewidth": 0,
              "tickcolor": "rgb(237,237,237)",
              "ticklen": 6,
              "ticks": "inside"
             }
            },
            "type": "scatterternary"
           }
          ],
          "surface": [
           {
            "colorbar": {
             "outlinewidth": 0,
             "tickcolor": "rgb(237,237,237)",
             "ticklen": 6,
             "ticks": "inside"
            },
            "colorscale": [
             [
              0,
              "rgb(20,44,66)"
             ],
             [
              1,
              "rgb(90,179,244)"
             ]
            ],
            "type": "surface"
           }
          ],
          "table": [
           {
            "cells": {
             "fill": {
              "color": "rgb(237,237,237)"
             },
             "line": {
              "color": "white"
             }
            },
            "header": {
             "fill": {
              "color": "rgb(217,217,217)"
             },
             "line": {
              "color": "white"
             }
            },
            "type": "table"
           }
          ]
         },
         "layout": {
          "annotationdefaults": {
           "arrowhead": 0,
           "arrowwidth": 1
          },
          "autotypenumbers": "strict",
          "coloraxis": {
           "colorbar": {
            "outlinewidth": 0,
            "tickcolor": "rgb(237,237,237)",
            "ticklen": 6,
            "ticks": "inside"
           }
          },
          "colorscale": {
           "sequential": [
            [
             0,
             "rgb(20,44,66)"
            ],
            [
             1,
             "rgb(90,179,244)"
            ]
           ],
           "sequentialminus": [
            [
             0,
             "rgb(20,44,66)"
            ],
            [
             1,
             "rgb(90,179,244)"
            ]
           ]
          },
          "colorway": [
           "#F8766D",
           "#A3A500",
           "#00BF7D",
           "#00B0F6",
           "#E76BF3"
          ],
          "font": {
           "color": "rgb(51,51,51)"
          },
          "geo": {
           "bgcolor": "white",
           "lakecolor": "white",
           "landcolor": "rgb(237,237,237)",
           "showlakes": true,
           "showland": true,
           "subunitcolor": "white"
          },
          "hoverlabel": {
           "align": "left"
          },
          "hovermode": "closest",
          "paper_bgcolor": "white",
          "plot_bgcolor": "rgb(237,237,237)",
          "polar": {
           "angularaxis": {
            "gridcolor": "white",
            "linecolor": "white",
            "showgrid": true,
            "tickcolor": "rgb(51,51,51)",
            "ticks": "outside"
           },
           "bgcolor": "rgb(237,237,237)",
           "radialaxis": {
            "gridcolor": "white",
            "linecolor": "white",
            "showgrid": true,
            "tickcolor": "rgb(51,51,51)",
            "ticks": "outside"
           }
          },
          "scene": {
           "xaxis": {
            "backgroundcolor": "rgb(237,237,237)",
            "gridcolor": "white",
            "gridwidth": 2,
            "linecolor": "white",
            "showbackground": true,
            "showgrid": true,
            "tickcolor": "rgb(51,51,51)",
            "ticks": "outside",
            "zerolinecolor": "white"
           },
           "yaxis": {
            "backgroundcolor": "rgb(237,237,237)",
            "gridcolor": "white",
            "gridwidth": 2,
            "linecolor": "white",
            "showbackground": true,
            "showgrid": true,
            "tickcolor": "rgb(51,51,51)",
            "ticks": "outside",
            "zerolinecolor": "white"
           },
           "zaxis": {
            "backgroundcolor": "rgb(237,237,237)",
            "gridcolor": "white",
            "gridwidth": 2,
            "linecolor": "white",
            "showbackground": true,
            "showgrid": true,
            "tickcolor": "rgb(51,51,51)",
            "ticks": "outside",
            "zerolinecolor": "white"
           }
          },
          "shapedefaults": {
           "fillcolor": "black",
           "line": {
            "width": 0
           },
           "opacity": 0.3
          },
          "ternary": {
           "aaxis": {
            "gridcolor": "white",
            "linecolor": "white",
            "showgrid": true,
            "tickcolor": "rgb(51,51,51)",
            "ticks": "outside"
           },
           "baxis": {
            "gridcolor": "white",
            "linecolor": "white",
            "showgrid": true,
            "tickcolor": "rgb(51,51,51)",
            "ticks": "outside"
           },
           "bgcolor": "rgb(237,237,237)",
           "caxis": {
            "gridcolor": "white",
            "linecolor": "white",
            "showgrid": true,
            "tickcolor": "rgb(51,51,51)",
            "ticks": "outside"
           }
          },
          "xaxis": {
           "automargin": true,
           "gridcolor": "white",
           "linecolor": "white",
           "showgrid": true,
           "tickcolor": "rgb(51,51,51)",
           "ticks": "outside",
           "title": {
            "standoff": 15
           },
           "zerolinecolor": "white"
          },
          "yaxis": {
           "automargin": true,
           "gridcolor": "white",
           "linecolor": "white",
           "showgrid": true,
           "tickcolor": "rgb(51,51,51)",
           "ticks": "outside",
           "title": {
            "standoff": 15
           },
           "zerolinecolor": "white"
          }
         }
        },
        "title": {
         "text": "Actual vs. 'Out-of-Sample' Forecast | boxcox_units"
        },
        "xaxis": {
         "title": {
          "text": "Time"
         }
        },
        "yaxis": {
         "title": {
          "text": "Values"
         }
        }
       }
      }
     },
     "metadata": {},
     "output_type": "display_data"
    }
   ],
   "source": [
    "exp.plot_model(final)"
   ]
  },
  {
   "cell_type": "code",
   "execution_count": 62,
   "metadata": {},
   "outputs": [
    {
     "data": {
      "text/html": [
       "<div>\n",
       "<style scoped>\n",
       "    .dataframe tbody tr th:only-of-type {\n",
       "        vertical-align: middle;\n",
       "    }\n",
       "\n",
       "    .dataframe tbody tr th {\n",
       "        vertical-align: top;\n",
       "    }\n",
       "\n",
       "    .dataframe thead th {\n",
       "        text-align: right;\n",
       "    }\n",
       "</style>\n",
       "<table border=\"1\" class=\"dataframe\">\n",
       "  <thead>\n",
       "    <tr style=\"text-align: right;\">\n",
       "      <th></th>\n",
       "      <th>y_pred</th>\n",
       "    </tr>\n",
       "  </thead>\n",
       "  <tbody>\n",
       "    <tr>\n",
       "      <th>2024-11</th>\n",
       "      <td>45.0525</td>\n",
       "    </tr>\n",
       "    <tr>\n",
       "      <th>2024-12</th>\n",
       "      <td>54.2200</td>\n",
       "    </tr>\n",
       "    <tr>\n",
       "      <th>2025-01</th>\n",
       "      <td>49.5300</td>\n",
       "    </tr>\n",
       "    <tr>\n",
       "      <th>2025-02</th>\n",
       "      <td>51.3621</td>\n",
       "    </tr>\n",
       "  </tbody>\n",
       "</table>\n",
       "</div>"
      ],
      "text/plain": [
       "          y_pred\n",
       "2024-11  45.0525\n",
       "2024-12  54.2200\n",
       "2025-01  49.5300\n",
       "2025-02  51.3621"
      ]
     },
     "execution_count": 62,
     "metadata": {},
     "output_type": "execute_result"
    }
   ],
   "source": [
    "unseen_predictions = exp.predict_model(final)\n",
    "#unseen_predictions = exp.predict_model(final, fh=forecast_lenth_array, X=prediction_df)\n",
    "unseen_predictions"
   ]
  },
  {
   "cell_type": "markdown",
   "metadata": {},
   "source": [
    "## Reversing Transformation"
   ]
  },
  {
   "cell_type": "code",
   "execution_count": 63,
   "metadata": {},
   "outputs": [],
   "source": [
    "from scipy.special import inv_boxcox\n",
    "\n",
    "last_original_value = box_cox_df['boxcox_units'].iloc[-1]\n",
    "\n",
    "# Reverse differencing (undo stationarity) if we applied it\n",
    "if p_value < 0.05:\n",
    "    reversed_diff_predictions = unseen_predictions\n",
    "    reversed_diff_benchmark = future_forecast\n",
    "else:\n",
    "    reversed_diff_predictions = unseen_predictions.cumsum() + last_original_value\n",
    "    reversed_diff_benchmark = future_forecast.cumsum() + last_original_value\n",
    "\n",
    "# lambda value for Box-Cox transformation\n",
    "boxcox_lambda = optimal_lambda\n",
    "\n",
    "# Reverse Box-Cox transformation\n",
    "original_scale_predictions = inv_boxcox(reversed_diff_predictions, boxcox_lambda)\n",
    "original_scale_benchmark = inv_boxcox(reversed_diff_benchmark, boxcox_lambda)\n",
    "original_scale_predictions['y_pred'] = original_scale_predictions['y_pred'] * growth_rate"
   ]
  },
  {
   "cell_type": "code",
   "execution_count": 64,
   "metadata": {},
   "outputs": [],
   "source": [
    "# making it so we can plot the forecast\n",
    "unchanged_df.index = unchanged_df['Date']\n",
    "unchanged_df = unchanged_df.drop(columns = ['Date'])"
   ]
  },
  {
   "cell_type": "markdown",
   "metadata": {},
   "source": [
    "### Visualizing Prediction"
   ]
  },
  {
   "cell_type": "code",
   "execution_count": 65,
   "metadata": {},
   "outputs": [
    {
     "data": {
      "text/html": [
       "<div>\n",
       "<style scoped>\n",
       "    .dataframe tbody tr th:only-of-type {\n",
       "        vertical-align: middle;\n",
       "    }\n",
       "\n",
       "    .dataframe tbody tr th {\n",
       "        vertical-align: top;\n",
       "    }\n",
       "\n",
       "    .dataframe thead th {\n",
       "        text-align: right;\n",
       "    }\n",
       "</style>\n",
       "<table border=\"1\" class=\"dataframe\">\n",
       "  <thead>\n",
       "    <tr style=\"text-align: right;\">\n",
       "      <th></th>\n",
       "      <th>y_pred</th>\n",
       "      <th>Benchmark Values</th>\n",
       "    </tr>\n",
       "    <tr>\n",
       "      <th>Month</th>\n",
       "      <th></th>\n",
       "      <th></th>\n",
       "    </tr>\n",
       "  </thead>\n",
       "  <tbody>\n",
       "    <tr>\n",
       "      <th>2024-11</th>\n",
       "      <td>48,198</td>\n",
       "      <td>92,736</td>\n",
       "    </tr>\n",
       "    <tr>\n",
       "      <th>2024-12</th>\n",
       "      <td>103,327</td>\n",
       "      <td>139,392</td>\n",
       "    </tr>\n",
       "    <tr>\n",
       "      <th>2025-01</th>\n",
       "      <td>71,090</td>\n",
       "      <td>173,304</td>\n",
       "    </tr>\n",
       "    <tr>\n",
       "      <th>2025-02</th>\n",
       "      <td>82,579</td>\n",
       "      <td>149,364</td>\n",
       "    </tr>\n",
       "  </tbody>\n",
       "</table>\n",
       "</div>"
      ],
      "text/plain": [
       "          y_pred Benchmark Values\n",
       "Month                            \n",
       "2024-11   48,198           92,736\n",
       "2024-12  103,327          139,392\n",
       "2025-01   71,090          173,304\n",
       "2025-02   82,579          149,364"
      ]
     },
     "metadata": {},
     "output_type": "display_data"
    },
    {
     "name": "stdout",
     "output_type": "stream",
     "text": [
      "Snaive with RMSE: 11.88\n",
      "Best Tuned model: Prophet with RMSE 4.20\n"
     ]
    },
    {
     "data": {
      "image/png": "[encoded data removed]",
      "text/plain": [
       "<Figure size 1400x500 with 1 Axes>"
      ]
     },
     "metadata": {},
     "output_type": "display_data"
    }
   ],
   "source": [
    "# Ensure the index is a DatetimeIndex before converting it to PeriodIndex\n",
    "if isinstance(original_scale_predictions.index, pd.PeriodIndex):\n",
    "    original_scale_predictions.index = original_scale_predictions.index.to_timestamp()\n",
    "\n",
    "if isinstance(original_scale_benchmark.index, pd.PeriodIndex):\n",
    "    original_scale_benchmark.index = original_scale_benchmark.index.to_timestamp()\n",
    "\n",
    "# Convert the index to show only \"YYYY-MM\"\n",
    "original_scale_predictions.index = original_scale_predictions.index.to_period('M').strftime('%Y-%m')\n",
    "original_scale_benchmark.index = original_scale_benchmark.index.to_period('M').strftime('%Y-%m')\n",
    "\n",
    "# Rename the Series\n",
    "original_scale_predictions.name = 'Predicted Values'\n",
    "original_scale_benchmark.name = 'Benchmark Values'\n",
    "\n",
    "# Display both side by side, after ensuring indexes match\n",
    "merged_df = pd.concat([original_scale_predictions, original_scale_benchmark], axis=1)\n",
    "merged_df.index.name = 'Month'  # Optionally, rename the index for clarity\n",
    "merged_df = merged_df.round(0).applymap(lambda x: f\"{int(x):,}\" if pd.notnull(x) else '')\n",
    "# Display the formatted DataFrame\n",
    "display(merged_df)\n",
    "\n",
    "\n",
    "# Print RMSE and model information\n",
    "print(f\"{best_method.capitalize()} with RMSE: {forecast_scores[best_method]['RMSE']:.2f}\")\n",
    "try:\n",
    "    print(f\"Best Tuned model: {best_model_name} with RMSE {mean_rmse:.2f}\")\n",
    "except NameError:\n",
    "    print(f\"Best Untuned model: {best_model_name} with Mean RMSE: {mean_rmse_compare:.2f}\")\n",
    "\n",
    "# Plotting forecast with original data\n",
    "plt.figure(figsize=(14, 5))\n",
    "plt.plot(unchanged_df.index, unchanged_df['Quantity'], label='Original Data')\n",
    "plt.scatter(pd.to_datetime(original_scale_predictions.index), original_scale_predictions, color='red', label='Forecast', s=25)\n",
    "plt.plot(pd.to_datetime(original_scale_predictions.index), original_scale_predictions, color='red', label='Forecast')\n",
    "plt.plot(pd.to_datetime(original_scale_benchmark.index), original_scale_benchmark, label=f'Benchmark ({best_method.capitalize()})', color='black', linestyle='-')\n",
    "plt.title(f'{item} Forecasting with PyCaret', fontsize=16)\n",
    "plt.xlabel('Date', fontsize=16)\n",
    "plt.ylabel('Quantity', fontsize=16)\n",
    "plt.legend(loc='upper left')\n",
    "plt.show()"
   ]
  },
  {
   "cell_type": "code",
   "execution_count": null,
   "metadata": {},
   "outputs": [],
   "source": []
  }
 ],
 "metadata": {
  "kernelspec": {
   "display_name": "myenv",
   "language": "python",
   "name": "python3"
  },
  "language_info": {
   "codemirror_mode": {
    "name": "ipython",
    "version": 3
   },
   "file_extension": ".py",
   "mimetype": "text/x-python",
   "name": "python",
   "nbconvert_exporter": "python",
   "pygments_lexer": "ipython3",
   "version": "3.11.9"
  }
 },
 "nbformat": 4,
 "nbformat_minor": 2
}
