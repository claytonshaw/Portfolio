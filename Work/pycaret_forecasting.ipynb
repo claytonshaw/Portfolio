{
 "cells": [
  {
   "cell_type": "markdown",
   "metadata": {},
   "source": [
    "## Variable Selection"
   ]
  },
  {
   "cell_type": "code",
   "execution_count": 198,
   "metadata": {},
   "outputs": [
    {
     "name": "stdout",
     "output_type": "stream",
     "text": [
      "Growth Rate: 1.0\n"
     ]
    }
   ],
   "source": [
    "import pandas as pd\n",
    "import numpy as np\n",
    "import matplotlib.pyplot as plt\n",
    "from datetime import datetime\n",
    "\n",
    "# select item (use item 2 if it switched model numbers but is same item)\n",
    "item = '4100'\n",
    "item2 = None\n",
    "\n",
    "month = 10\n",
    "\n",
    "store_count_change = 0 # percentage increase in store count\n",
    "growth_rate = 1 + (store_count_change / 100) # converts to a percentage\n",
    "\n",
    "# this changes the length dropped off for the benchmarks\n",
    "forecast_length = 4\n",
    "\n",
    "# this changes the array in the pycaret if you do the arange it will do a point forecast at the future time\n",
    "#forecast_lenth_array = np.arange(forecast_length, forecast_length+1)\n",
    "forecast_lenth_array = forecast_length\n",
    "print(\"Growth Rate:\", growth_rate)"
   ]
  },
  {
   "cell_type": "markdown",
   "metadata": {},
   "source": [
    "## Data"
   ]
  },
  {
   "cell_type": "code",
   "execution_count": 199,
   "metadata": {},
   "outputs": [],
   "source": [
    "df = pd.read_csv('Items Shipped by Item by Month.csv')"
   ]
  },
  {
   "cell_type": "code",
   "execution_count": 200,
   "metadata": {},
   "outputs": [
    {
     "data": {
      "text/html": [
       "<div>\n",
       "<style scoped>\n",
       "    .dataframe tbody tr th:only-of-type {\n",
       "        vertical-align: middle;\n",
       "    }\n",
       "\n",
       "    .dataframe tbody tr th {\n",
       "        vertical-align: top;\n",
       "    }\n",
       "\n",
       "    .dataframe thead th {\n",
       "        text-align: right;\n",
       "    }\n",
       "</style>\n",
       "<table border=\"1\" class=\"dataframe\">\n",
       "  <thead>\n",
       "    <tr style=\"text-align: right;\">\n",
       "      <th></th>\n",
       "      <th>Date</th>\n",
       "      <th>Item</th>\n",
       "      <th>Item Description</th>\n",
       "      <th>Product Group</th>\n",
       "      <th>Parent Product Group</th>\n",
       "      <th>Quantity</th>\n",
       "      <th>Amount</th>\n",
       "    </tr>\n",
       "  </thead>\n",
       "  <tbody>\n",
       "    <tr>\n",
       "      <th>0</th>\n",
       "      <td>2024-Oct</td>\n",
       "      <td>8003</td>\n",
       "      <td>E-Series 22in Electric Tabletop Griddle w/Cart...</td>\n",
       "      <td>E-Griddles</td>\n",
       "      <td>Cooking Unit</td>\n",
       "      <td>120.0</td>\n",
       "      <td>17404.80</td>\n",
       "    </tr>\n",
       "    <tr>\n",
       "      <th>1</th>\n",
       "      <td>2024-Oct</td>\n",
       "      <td>1868</td>\n",
       "      <td>36\" Griddle AirFryer</td>\n",
       "      <td>Griddles</td>\n",
       "      <td>Cooking Unit</td>\n",
       "      <td>72.0</td>\n",
       "      <td>21793.16</td>\n",
       "    </tr>\n",
       "    <tr>\n",
       "      <th>2</th>\n",
       "      <td>2024-Oct</td>\n",
       "      <td>1785</td>\n",
       "      <td>28\" AirFryer Combo</td>\n",
       "      <td>Griddles</td>\n",
       "      <td>Cooking Unit</td>\n",
       "      <td>42.0</td>\n",
       "      <td>9032.56</td>\n",
       "    </tr>\n",
       "    <tr>\n",
       "      <th>3</th>\n",
       "      <td>2024-Oct</td>\n",
       "      <td>2379</td>\n",
       "      <td>Tabletop Pizza Oven-Walmart 2024</td>\n",
       "      <td>Pizza Oven</td>\n",
       "      <td>Cooking Unit</td>\n",
       "      <td>1404.0</td>\n",
       "      <td>122360.56</td>\n",
       "    </tr>\n",
       "    <tr>\n",
       "      <th>4</th>\n",
       "      <td>2024-Oct</td>\n",
       "      <td>2379</td>\n",
       "      <td>Tabletop Pizza Oven-Walmart 2024</td>\n",
       "      <td>Pizza Oven</td>\n",
       "      <td>Cooking Unit</td>\n",
       "      <td>3544.0</td>\n",
       "      <td>308864.56</td>\n",
       "    </tr>\n",
       "  </tbody>\n",
       "</table>\n",
       "</div>"
      ],
      "text/plain": [
       "       Date  Item                                   Item Description  \\\n",
       "0  2024-Oct  8003  E-Series 22in Electric Tabletop Griddle w/Cart...   \n",
       "1  2024-Oct  1868                               36\" Griddle AirFryer   \n",
       "2  2024-Oct  1785                                 28\" AirFryer Combo   \n",
       "3  2024-Oct  2379                   Tabletop Pizza Oven-Walmart 2024   \n",
       "4  2024-Oct  2379                   Tabletop Pizza Oven-Walmart 2024   \n",
       "\n",
       "  Product Group Parent Product Group  Quantity     Amount  \n",
       "0    E-Griddles         Cooking Unit     120.0   17404.80  \n",
       "1      Griddles         Cooking Unit      72.0   21793.16  \n",
       "2      Griddles         Cooking Unit      42.0    9032.56  \n",
       "3    Pizza Oven         Cooking Unit    1404.0  122360.56  \n",
       "4    Pizza Oven         Cooking Unit    3544.0  308864.56  "
      ]
     },
     "execution_count": 200,
     "metadata": {},
     "output_type": "execute_result"
    }
   ],
   "source": [
    "df.head()"
   ]
  },
  {
   "cell_type": "markdown",
   "metadata": {},
   "source": [
    "## Data Formatting"
   ]
  },
  {
   "cell_type": "code",
   "execution_count": 201,
   "metadata": {},
   "outputs": [
    {
     "name": "stdout",
     "output_type": "stream",
     "text": [
      "<class 'pandas.core.frame.DataFrame'>\n",
      "RangeIndex: 33926 entries, 0 to 33925\n",
      "Data columns (total 7 columns):\n",
      " #   Column                Non-Null Count  Dtype  \n",
      "---  ------                --------------  -----  \n",
      " 0   Date                  33926 non-null  object \n",
      " 1   Item                  33926 non-null  object \n",
      " 2   Item Description      33775 non-null  object \n",
      " 3   Product Group         33667 non-null  object \n",
      " 4   Parent Product Group  33926 non-null  object \n",
      " 5   Quantity              33910 non-null  float64\n",
      " 6   Amount                33926 non-null  float64\n",
      "dtypes: float64(2), object(5)\n",
      "memory usage: 1.8+ MB\n"
     ]
    }
   ],
   "source": [
    "df.info()"
   ]
  },
  {
   "cell_type": "code",
   "execution_count": 202,
   "metadata": {},
   "outputs": [
    {
     "data": {
      "text/html": [
       "<div>\n",
       "<style scoped>\n",
       "    .dataframe tbody tr th:only-of-type {\n",
       "        vertical-align: middle;\n",
       "    }\n",
       "\n",
       "    .dataframe tbody tr th {\n",
       "        vertical-align: top;\n",
       "    }\n",
       "\n",
       "    .dataframe thead th {\n",
       "        text-align: right;\n",
       "    }\n",
       "</style>\n",
       "<table border=\"1\" class=\"dataframe\">\n",
       "  <thead>\n",
       "    <tr style=\"text-align: right;\">\n",
       "      <th></th>\n",
       "      <th>Date</th>\n",
       "      <th>Quantity</th>\n",
       "    </tr>\n",
       "  </thead>\n",
       "  <tbody>\n",
       "    <tr>\n",
       "      <th>56</th>\n",
       "      <td>2024-09-30</td>\n",
       "      <td>8034.0</td>\n",
       "    </tr>\n",
       "  </tbody>\n",
       "</table>\n",
       "</div>"
      ],
      "text/plain": [
       "         Date  Quantity\n",
       "56 2024-09-30    8034.0"
      ]
     },
     "execution_count": 202,
     "metadata": {},
     "output_type": "execute_result"
    }
   ],
   "source": [
    "df['Date'] = pd.to_datetime(df['Date'])\n",
    "\n",
    "if item2:\n",
    "    df_item = df[(df['Item'] == item) | (df['Item'] == item2)]\n",
    "else:\n",
    "    df_item = df[df['Item'] == item]\n",
    "\n",
    "df_item = df_item.groupby(['Date'])['Quantity'].sum().reset_index().sort_values(by=['Date'], ascending=True)\n",
    "\n",
    "df_item = df_item.resample('M', on='Date').sum().reset_index()\n",
    "\n",
    "last_month = datetime.strptime(df_item['Date'].astype(str).iloc[-1], '%Y-%m-%d')\n",
    "month_number = last_month.month\n",
    "month_number\n",
    "\n",
    "if month_number < month:\n",
    "    df_item = df_item\n",
    "else:\n",
    "    df_item = df_item[:-1] # drop the last month if in start or middle of month\n",
    "\n",
    "df_item.tail(1)"
   ]
  },
  {
   "cell_type": "code",
   "execution_count": 148,
   "metadata": {},
   "outputs": [
    {
     "data": {
      "image/png": "[encoded data removed]",
      "text/plain": [
       "<Figure size 1400x400 with 1 Axes>"
      ]
     },
     "metadata": {},
     "output_type": "display_data"
    }
   ],
   "source": [
    "# Plot the time series data\n",
    "df_item.plot(x='Date', y='Quantity', figsize=(14,4))\n",
    "unchanged_df = df_item.copy() # saving a copy of the data set to then plot forecasts with original data"
   ]
  },
  {
   "cell_type": "markdown",
   "metadata": {},
   "source": [
    "## Data Transformation"
   ]
  },
  {
   "cell_type": "markdown",
   "metadata": {},
   "source": [
    "### Box Cox Transformation"
   ]
  },
  {
   "cell_type": "code",
   "execution_count": 149,
   "metadata": {},
   "outputs": [],
   "source": [
    "from scipy.stats import boxcox"
   ]
  },
  {
   "cell_type": "code",
   "execution_count": 150,
   "metadata": {},
   "outputs": [
    {
     "name": "stdout",
     "output_type": "stream",
     "text": [
      "        Date  Quantity  boxcox_units\n",
      "0 2020-01-31    6030.0     94.484269\n",
      "1 2020-02-29   25806.0    178.000056\n",
      "2 2020-03-31   13776.0    135.532403\n",
      "3 2020-04-30   23736.0    171.663395\n",
      "4 2020-05-31   32946.0    197.864243\n",
      "The optimal lambda for Box-Cox transformation is: 0.42779793141093253\n"
     ]
    },
    {
     "data": {
      "image/png": "[encoded data removed]",
      "text/plain": [
       "<Figure size 1400x400 with 1 Axes>"
      ]
     },
     "metadata": {},
     "output_type": "display_data"
    }
   ],
   "source": [
    "# Apply Box-Cox transformation to find the optimal lambda\n",
    "try:\n",
    "    df_item['boxcox_units'] , optimal_lambda = boxcox(df_item.Quantity)\n",
    "except ValueError: \n",
    "    df_item['Quantity'] = df_item['Quantity'] + 1\n",
    "    df_item['boxcox_units'] , optimal_lambda = boxcox(df_item.Quantity)\n",
    "\n",
    "print(df_item.head())\n",
    "box_cox_df = df_item.copy()\n",
    "\n",
    "# Plot the transformed data with optimal lambda\n",
    "df_item.plot(x='Date', y='boxcox_units', figsize=(14,4))\n",
    "\n",
    "# Print the optimal lambda\n",
    "print(f'The optimal lambda for Box-Cox transformation is: {optimal_lambda}')"
   ]
  },
  {
   "cell_type": "markdown",
   "metadata": {},
   "source": [
    "### ACF and PACF"
   ]
  },
  {
   "cell_type": "code",
   "execution_count": 151,
   "metadata": {},
   "outputs": [],
   "source": [
    "from statsmodels.graphics.tsaplots import plot_acf, plot_pacf"
   ]
  },
  {
   "cell_type": "code",
   "execution_count": 152,
   "metadata": {},
   "outputs": [
    {
     "data": {
      "image/png": "[encoded data removed]",
      "text/plain": [
       "<Figure size 800x550 with 2 Axes>"
      ]
     },
     "metadata": {},
     "output_type": "display_data"
    }
   ],
   "source": [
    "# Plot ACF and PACF for the original airline passenger data\n",
    "plt.figure()\n",
    "plt.subplot(211)\n",
    "plot_acf(df_item['Quantity'], ax=plt.gca(), zero=False)\n",
    "plt.subplot(212)\n",
    "plot_pacf(df_item['Quantity'], ax=plt.gca(), zero=False)\n",
    "plt.tight_layout()\n",
    "plt.show()"
   ]
  },
  {
   "cell_type": "markdown",
   "metadata": {},
   "source": [
    "### Stationarity"
   ]
  },
  {
   "cell_type": "code",
   "execution_count": 153,
   "metadata": {},
   "outputs": [],
   "source": [
    "from statsmodels.tsa.stattools import adfuller"
   ]
  },
  {
   "cell_type": "code",
   "execution_count": 154,
   "metadata": {},
   "outputs": [
    {
     "name": "stdout",
     "output_type": "stream",
     "text": [
      "Augmented Dickey-Fuller Test: Box-Cox Data\n",
      "ADF Test Statistic            -5.945664e+00\n",
      "p-value                        2.207353e-07\n",
      "# Lags Used                    0.000000e+00\n",
      "Number of Observations Used    5.500000e+01\n",
      "Critical Value (1%)           -3.555273e+00\n",
      "Critical Value (5%)           -2.915731e+00\n",
      "Critical Value (10%)          -2.595670e+00\n",
      "=> The series is stationary.\n"
     ]
    },
    {
     "data": {
      "text/plain": [
       "<Axes: xlabel='Date'>"
      ]
     },
     "execution_count": 154,
     "metadata": {},
     "output_type": "execute_result"
    },
    {
     "data": {
      "image/png": "[encoded data removed]",
      "text/plain": [
       "<Figure size 1400x400 with 1 Axes>"
      ]
     },
     "metadata": {},
     "output_type": "display_data"
    }
   ],
   "source": [
    "# Function to perform ADF test\n",
    "def adf_test(series, title=''):\n",
    "    \"\"\"\n",
    "    Pass in a time series and an optional title, returns an ADF report\n",
    "    \"\"\"\n",
    "    print(f'Augmented Dickey-Fuller Test: {title}')\n",
    "    result = adfuller(series.dropna(), autolag='AIC')\n",
    "    labels = ['ADF Test Statistic', 'p-value', '# Lags Used', 'Number of Observations Used']\n",
    "    out = pd.Series(result[0:4], index=labels)\n",
    "    for key, value in result[4].items():\n",
    "        out[f'Critical Value ({key})'] = value\n",
    "    print(out.to_string())\n",
    "    if result[1] <= 0.05:\n",
    "        print(\"=> The series is stationary.\")\n",
    "    else:\n",
    "        print(\"=> The series is non-stationary.\")\n",
    "    return result[1]\n",
    "\n",
    "# Apply the ADF test to the transformed data\n",
    "p_value = adf_test(df_item['boxcox_units'], title='Box-Cox Data')\n",
    "\n",
    "df_item.plot(x='Date',y='boxcox_units', figsize=(14,4))"
   ]
  },
  {
   "cell_type": "markdown",
   "metadata": {},
   "source": [
    "#### Differencing Data"
   ]
  },
  {
   "cell_type": "code",
   "execution_count": 155,
   "metadata": {},
   "outputs": [
    {
     "name": "stdout",
     "output_type": "stream",
     "text": [
      "Augmented Dickey-Fuller Test: boxcox quantity- Differenced\n",
      "ADF Test Statistic            -5.908030e+00\n",
      "p-value                        2.679662e-07\n",
      "# Lags Used                    9.000000e+00\n",
      "Number of Observations Used    4.500000e+01\n",
      "Critical Value (1%)           -3.584829e+00\n",
      "Critical Value (5%)           -2.928299e+00\n",
      "Critical Value (10%)          -2.602344e+00\n",
      "=> The series is stationary.\n"
     ]
    },
    {
     "data": {
      "text/plain": [
       "<Axes: xlabel='Date'>"
      ]
     },
     "execution_count": 155,
     "metadata": {},
     "output_type": "execute_result"
    },
    {
     "data": {
      "image/png": "[encoded data removed]",
      "text/plain": [
       "<Figure size 1400x400 with 1 Axes>"
      ]
     },
     "metadata": {},
     "output_type": "display_data"
    }
   ],
   "source": [
    "# differencing the data\n",
    "df_item['boxcox_quantity_diff'] = df_item['boxcox_units'].diff()\n",
    "\n",
    "# Perform ADF test on differenced data\n",
    "adf_test(df_item['boxcox_quantity_diff'].dropna(), title='boxcox quantity- Differenced')\n",
    "\n",
    "# Plot the differenced data\n",
    "df_item.plot(x='Date', y='boxcox_quantity_diff', figsize=(14,4))"
   ]
  },
  {
   "cell_type": "code",
   "execution_count": 156,
   "metadata": {},
   "outputs": [
    {
     "data": {
      "text/html": [
       "<div>\n",
       "<style scoped>\n",
       "    .dataframe tbody tr th:only-of-type {\n",
       "        vertical-align: middle;\n",
       "    }\n",
       "\n",
       "    .dataframe tbody tr th {\n",
       "        vertical-align: top;\n",
       "    }\n",
       "\n",
       "    .dataframe thead th {\n",
       "        text-align: right;\n",
       "    }\n",
       "</style>\n",
       "<table border=\"1\" class=\"dataframe\">\n",
       "  <thead>\n",
       "    <tr style=\"text-align: right;\">\n",
       "      <th></th>\n",
       "      <th>boxcox_units</th>\n",
       "    </tr>\n",
       "    <tr>\n",
       "      <th>Date</th>\n",
       "      <th></th>\n",
       "    </tr>\n",
       "  </thead>\n",
       "  <tbody>\n",
       "    <tr>\n",
       "      <th>2024-04-30</th>\n",
       "      <td>167.358707</td>\n",
       "    </tr>\n",
       "    <tr>\n",
       "      <th>2024-05-31</th>\n",
       "      <td>172.395171</td>\n",
       "    </tr>\n",
       "    <tr>\n",
       "      <th>2024-06-30</th>\n",
       "      <td>150.601291</td>\n",
       "    </tr>\n",
       "    <tr>\n",
       "      <th>2024-07-31</th>\n",
       "      <td>140.449570</td>\n",
       "    </tr>\n",
       "    <tr>\n",
       "      <th>2024-08-31</th>\n",
       "      <td>106.814042</td>\n",
       "    </tr>\n",
       "  </tbody>\n",
       "</table>\n",
       "</div>"
      ],
      "text/plain": [
       "            boxcox_units\n",
       "Date                    \n",
       "2024-04-30    167.358707\n",
       "2024-05-31    172.395171\n",
       "2024-06-30    150.601291\n",
       "2024-07-31    140.449570\n",
       "2024-08-31    106.814042"
      ]
     },
     "execution_count": 156,
     "metadata": {},
     "output_type": "execute_result"
    }
   ],
   "source": [
    "df_item = df_item.set_index('Date')\n",
    "\n",
    "# if stationary use boxcox_units if not stationary use boxcox_quantity_diff\n",
    "if p_value < 0.05:\n",
    "    target = 'boxcox_units'\n",
    "    drop_column = 'boxcox_quantity_diff'\n",
    "else:\n",
    "    target = 'boxcox_quantity_diff'\n",
    "    drop_column = 'boxcox_units'\n",
    "\n",
    "df_item = df_item.drop(columns=[drop_column,'Quantity'])\n",
    "\n",
    "df_item.tail()"
   ]
  },
  {
   "cell_type": "markdown",
   "metadata": {},
   "source": [
    "## Benchmarking"
   ]
  },
  {
   "cell_type": "markdown",
   "metadata": {},
   "source": [
    "#### Train and Test Data"
   ]
  },
  {
   "cell_type": "code",
   "execution_count": 157,
   "metadata": {},
   "outputs": [
    {
     "data": {
      "image/png": "[encoded data removed]",
      "text/plain": [
       "<Figure size 1400x400 with 1 Axes>"
      ]
     },
     "metadata": {},
     "output_type": "display_data"
    }
   ],
   "source": [
    "# Split the data\n",
    "train = df_item[[target]][:-forecast_length]\n",
    "test = df_item[[target]][-forecast_length:]\n",
    "\n",
    "# Visualize the train and test data\n",
    "plt.figure(figsize=(14, 4))\n",
    "plt.plot(train.index, train, label='Train')\n",
    "plt.plot(test.index, test, label='Test')\n",
    "plt.title(f'Train-Test Split: {item}')\n",
    "plt.xlabel('Date')\n",
    "plt.ylabel('Number of Passengers')\n",
    "plt.legend()\n",
    "plt.show()"
   ]
  },
  {
   "cell_type": "markdown",
   "metadata": {},
   "source": [
    "### Function to generate benchmarks"
   ]
  },
  {
   "cell_type": "code",
   "execution_count": 158,
   "metadata": {},
   "outputs": [],
   "source": [
    "from sklearn.metrics import mean_squared_error, mean_absolute_error, r2_score\n",
    "\n",
    "# Create forecasts using different methods\n",
    "def forecast_methods(train, test, season_length=12):\n",
    "    y_hat = test.copy()\n",
    "    \n",
    "    # Naive Forecast\n",
    "    y_hat['naive'] = train.iloc[-1][target]\n",
    "    \n",
    "    # Seasonal Naive Forecast\n",
    "    y_hat['snaive'] = np.tile(train[target].values[-season_length:], len(test) // season_length + 1)[:len(test)]\n",
    "    \n",
    "    # Mean Forecast\n",
    "    y_hat['mean'] = train[target].mean()\n",
    "    \n",
    "    # Drift Forecast\n",
    "    drift = (train[target].iloc[-1] - train[target].iloc[0]) / (len(train) - 1)\n",
    "    y_hat['drift'] = train[target].iloc[-1] + (np.arange(1, len(test) + 1) * drift)\n",
    "    \n",
    "    # One Step Ahead Naive Forecast\n",
    "    y_hat['naive_one_step'] = test[target].shift(1)\n",
    "    \n",
    "    return y_hat"
   ]
  },
  {
   "cell_type": "markdown",
   "metadata": {},
   "source": [
    "### Functions to Calculate Forecast Accuracy Metrics"
   ]
  },
  {
   "cell_type": "code",
   "execution_count": 159,
   "metadata": {},
   "outputs": [],
   "source": [
    "# RMSE, sMAPE, MASE, RMSSE, MAE, MAPE, R2 calculation functions\n",
    "def smape(y_true, y_pred):\n",
    "    return 100 / len(y_true) * np.sum(2 * np.abs(y_pred - y_true) / (np.abs(y_true) + np.abs(y_pred)))\n",
    "\n",
    "def mase(y_true, y_pred, train):\n",
    "    mae_naive = np.mean(np.abs(train[target].diff().dropna()))\n",
    "    return np.mean(np.abs(y_true - y_pred)) / mae_naive\n",
    "\n",
    "def rmsse(y_true, y_pred, train):\n",
    "    mse_naive = np.mean(train[target].diff().dropna() ** 2)\n",
    "    return np.sqrt(mean_squared_error(y_true, y_pred) / mse_naive)\n",
    "\n",
    "def mape(y_true, y_pred):\n",
    "    return 100 * np.mean(np.abs((y_true - y_pred) / y_true))"
   ]
  },
  {
   "cell_type": "code",
   "execution_count": 160,
   "metadata": {},
   "outputs": [
    {
     "name": "stdout",
     "output_type": "stream",
     "text": [
      "Naive Forecast - MASE: 0.75, RMSSE: 0.69, MAE: 27.31, RMSE: 34.26, MAPE: 22.47%, sMAPE: 18.79%, R2: -1.10\n",
      "Snaive Forecast - MASE: 0.38, RMSSE: 0.39, MAE: 14.03, RMSE: 19.17, MAPE: 8.79%, sMAPE: 9.17%, R2: 0.34\n",
      "Mean Forecast - MASE: 0.56, RMSSE: 0.49, MAE: 20.57, RMSE: 24.26, MAPE: 15.03%, sMAPE: 14.83%, R2: -0.05\n",
      "Drift Forecast - MASE: 0.83, RMSSE: 0.76, MAE: 30.17, RMSE: 37.95, MAPE: 24.84%, sMAPE: 20.42%, R2: -1.58\n",
      "Best Benchmark Method: Snaive with RMSE: 19.17\n"
     ]
    },
    {
     "data": {
      "image/png": "[encoded data removed]",
      "text/plain": [
       "<Figure size 1400x400 with 1 Axes>"
      ]
     },
     "metadata": {},
     "output_type": "display_data"
    }
   ],
   "source": [
    "# Generate forecasts\n",
    "y_hat = forecast_methods(train, test)\n",
    "\n",
    "# Calculate and display forecasting scores\n",
    "actual = test[target]\n",
    "\n",
    "# Drop NaN values in 'naive_one_step'\n",
    "y_hat['naive_one_step'] = y_hat['naive_one_step'].fillna(method='bfill')\n",
    "\n",
    "forecast_scores = {}\n",
    "for method in ['naive', 'snaive', 'mean', 'drift']:\n",
    "    mase_value = mase(actual, y_hat[method], train)\n",
    "    rmsse_value = rmsse(actual, y_hat[method], train)\n",
    "    mae = mean_absolute_error(actual, y_hat[method])\n",
    "    rmse = np.sqrt(mean_squared_error(actual, y_hat[method]))\n",
    "    mape_value = mape(actual, y_hat[method])\n",
    "    smape_value = smape(actual, y_hat[method])\n",
    "    r2 = r2_score(actual, y_hat[method])\n",
    "    \n",
    "    forecast_scores[method] = {\n",
    "        'MASE': mase_value,\n",
    "        'RMSSE': rmsse_value,\n",
    "        'MAE': mae,\n",
    "        'RMSE': rmse,\n",
    "        'MAPE': mape_value,\n",
    "        'sMAPE': smape_value,\n",
    "        'R2': r2\n",
    "    }\n",
    "    print(f\"{method.capitalize()} Forecast - MASE: {mase_value:.2f}, RMSSE: {rmsse_value:.2f}, MAE: {mae:.2f}, RMSE: {rmse:.2f}, MAPE: {mape_value:.2f}%, sMAPE: {smape_value:.2f}%, R2: {r2:.2f}\")\n",
    "\n",
    "# Find the best forecast method based on RMSE (can change to other metrics if needed)\n",
    "best_method = min(forecast_scores, key=lambda x: forecast_scores[x]['RMSE'])\n",
    "best_benchmark = y_hat[best_method]\n",
    "print(f\"Best Benchmark Method: {best_method.capitalize()} with RMSE: {forecast_scores[best_method]['RMSE']:.2f}\")\n",
    "\n",
    "# Predict into the future using the best benchmark\n",
    "future_periods = forecast_length  # Define how many future periods to predict\n",
    "future_index = pd.date_range(start=test.index[-1] + pd.DateOffset(months=1), periods=future_periods, freq='M')\n",
    "future_forecast = pd.Series(index=future_index, dtype=float)\n",
    "\n",
    "if best_method == 'naive':\n",
    "    future_forecast[:] = train.iloc[-1][target]\n",
    "elif best_method == 'snaive':\n",
    "    future_forecast[:] = np.tile(train[target].values[-forecast_length:], len(future_forecast) // forecast_length + 1)[:len(future_forecast)]\n",
    "elif best_method == 'mean':\n",
    "    future_forecast[:] = train[target].mean()\n",
    "elif best_method == 'drift':\n",
    "    drift = (train[target].iloc[-1] - train[target].iloc[0]) / (len(train) - 1)\n",
    "    future_forecast[:] = train[target].iloc[-1] + (np.arange(1, len(future_forecast) + 1) * drift)\n",
    "# elif best_method == 'naive_one_step':\n",
    "#     future_forecast[:] = test[target].iloc[-1]\n",
    "\n",
    "# Visualization\n",
    "plt.figure(figsize=(14, 4))\n",
    "plt.plot(train.index, train[target], label='Train')\n",
    "plt.plot(test.index, test[target], label='Test', color='grey')\n",
    "plt.plot(y_hat.index, y_hat['naive'], label='Naive Forecast', color='red', linestyle='--')\n",
    "plt.plot(y_hat.index, y_hat['snaive'], label='Seasonal Naive Forecast', color='green', linestyle='--')\n",
    "plt.plot(y_hat.index, y_hat['mean'], label='Mean Forecast', color='orange', linestyle='--')\n",
    "plt.plot(y_hat.index, y_hat['drift'], label='Drift Forecast', color='purple', linestyle='--')\n",
    "plt.plot(y_hat.index, y_hat['naive_one_step'], label='One Step Ahead Naive Forecast', color='blue', linestyle='--')\n",
    "\n",
    "plt.title('Forecasting Benchmarks: Naive, Seasonal-Naive, Mean, Drift, One Step Ahead')\n",
    "plt.xlabel('Month')\n",
    "plt.ylabel('Quantity')\n",
    "plt.legend(loc='upper left')\n",
    "plt.show()"
   ]
  },
  {
   "cell_type": "markdown",
   "metadata": {},
   "source": [
    "I've plotted the one step ahead forecast but it isn't in the comparison of the best benchmark because i'm not doing a one step ahead forecast in pycaret. "
   ]
  },
  {
   "cell_type": "code",
   "execution_count": null,
   "metadata": {},
   "outputs": [],
   "source": []
  },
  {
   "cell_type": "code",
   "execution_count": 161,
   "metadata": {},
   "outputs": [
    {
     "data": {
      "text/plain": [
       "2024-09-30     81.611104\n",
       "2024-10-31    138.019790\n",
       "2024-11-30    131.122777\n",
       "2024-12-31    167.358707\n",
       "Freq: M, dtype: float64"
      ]
     },
     "execution_count": 161,
     "metadata": {},
     "output_type": "execute_result"
    }
   ],
   "source": [
    "future_forecast"
   ]
  },
  {
   "cell_type": "markdown",
   "metadata": {},
   "source": [
    "## Pycaret Forecast"
   ]
  },
  {
   "cell_type": "code",
   "execution_count": 162,
   "metadata": {},
   "outputs": [],
   "source": [
    "from pycaret.time_series import *"
   ]
  },
  {
   "cell_type": "code",
   "execution_count": 163,
   "metadata": {},
   "outputs": [
    {
     "name": "stdout",
     "output_type": "stream",
     "text": [
      "<class 'pandas.core.frame.DataFrame'>\n",
      "DatetimeIndex: 56 entries, 2020-01-31 to 2024-08-31\n",
      "Data columns (total 1 columns):\n",
      " #   Column        Non-Null Count  Dtype  \n",
      "---  ------        --------------  -----  \n",
      " 0   boxcox_units  56 non-null     float64\n",
      "dtypes: float64(1)\n",
      "memory usage: 896.0 bytes\n"
     ]
    }
   ],
   "source": [
    "df_item.info()"
   ]
  },
  {
   "cell_type": "markdown",
   "metadata": {},
   "source": [
    "#### Setting up experiment"
   ]
  },
  {
   "cell_type": "code",
   "execution_count": 164,
   "metadata": {},
   "outputs": [
    {
     "data": {
      "text/html": [
       "<style type=\"text/css\">\n",
       "#T_224b1_row25_col1, #T_224b1_row31_col1 {\n",
       "  background-color: lightgreen;\n",
       "}\n",
       "</style>\n",
       "<table id=\"T_224b1\">\n",
       "  <thead>\n",
       "    <tr>\n",
       "      <th class=\"blank level0\" >&nbsp;</th>\n",
       "      <th id=\"T_224b1_level0_col0\" class=\"col_heading level0 col0\" >Description</th>\n",
       "      <th id=\"T_224b1_level0_col1\" class=\"col_heading level0 col1\" >Value</th>\n",
       "    </tr>\n",
       "  </thead>\n",
       "  <tbody>\n",
       "    <tr>\n",
       "      <th id=\"T_224b1_level0_row0\" class=\"row_heading level0 row0\" >0</th>\n",
       "      <td id=\"T_224b1_row0_col0\" class=\"data row0 col0\" >session_id</td>\n",
       "      <td id=\"T_224b1_row0_col1\" class=\"data row0 col1\" >643</td>\n",
       "    </tr>\n",
       "    <tr>\n",
       "      <th id=\"T_224b1_level0_row1\" class=\"row_heading level0 row1\" >1</th>\n",
       "      <td id=\"T_224b1_row1_col0\" class=\"data row1 col0\" >Target</td>\n",
       "      <td id=\"T_224b1_row1_col1\" class=\"data row1 col1\" >boxcox_units</td>\n",
       "    </tr>\n",
       "    <tr>\n",
       "      <th id=\"T_224b1_level0_row2\" class=\"row_heading level0 row2\" >2</th>\n",
       "      <td id=\"T_224b1_row2_col0\" class=\"data row2 col0\" >Approach</td>\n",
       "      <td id=\"T_224b1_row2_col1\" class=\"data row2 col1\" >Univariate</td>\n",
       "    </tr>\n",
       "    <tr>\n",
       "      <th id=\"T_224b1_level0_row3\" class=\"row_heading level0 row3\" >3</th>\n",
       "      <td id=\"T_224b1_row3_col0\" class=\"data row3 col0\" >Exogenous Variables</td>\n",
       "      <td id=\"T_224b1_row3_col1\" class=\"data row3 col1\" >Not Present</td>\n",
       "    </tr>\n",
       "    <tr>\n",
       "      <th id=\"T_224b1_level0_row4\" class=\"row_heading level0 row4\" >4</th>\n",
       "      <td id=\"T_224b1_row4_col0\" class=\"data row4 col0\" >Original data shape</td>\n",
       "      <td id=\"T_224b1_row4_col1\" class=\"data row4 col1\" >(56, 1)</td>\n",
       "    </tr>\n",
       "    <tr>\n",
       "      <th id=\"T_224b1_level0_row5\" class=\"row_heading level0 row5\" >5</th>\n",
       "      <td id=\"T_224b1_row5_col0\" class=\"data row5 col0\" >Transformed data shape</td>\n",
       "      <td id=\"T_224b1_row5_col1\" class=\"data row5 col1\" >(56, 1)</td>\n",
       "    </tr>\n",
       "    <tr>\n",
       "      <th id=\"T_224b1_level0_row6\" class=\"row_heading level0 row6\" >6</th>\n",
       "      <td id=\"T_224b1_row6_col0\" class=\"data row6 col0\" >Transformed train set shape</td>\n",
       "      <td id=\"T_224b1_row6_col1\" class=\"data row6 col1\" >(52, 1)</td>\n",
       "    </tr>\n",
       "    <tr>\n",
       "      <th id=\"T_224b1_level0_row7\" class=\"row_heading level0 row7\" >7</th>\n",
       "      <td id=\"T_224b1_row7_col0\" class=\"data row7 col0\" >Transformed test set shape</td>\n",
       "      <td id=\"T_224b1_row7_col1\" class=\"data row7 col1\" >(4, 1)</td>\n",
       "    </tr>\n",
       "    <tr>\n",
       "      <th id=\"T_224b1_level0_row8\" class=\"row_heading level0 row8\" >8</th>\n",
       "      <td id=\"T_224b1_row8_col0\" class=\"data row8 col0\" >Rows with missing values</td>\n",
       "      <td id=\"T_224b1_row8_col1\" class=\"data row8 col1\" >0.0%</td>\n",
       "    </tr>\n",
       "    <tr>\n",
       "      <th id=\"T_224b1_level0_row9\" class=\"row_heading level0 row9\" >9</th>\n",
       "      <td id=\"T_224b1_row9_col0\" class=\"data row9 col0\" >Fold Generator</td>\n",
       "      <td id=\"T_224b1_row9_col1\" class=\"data row9 col1\" >ExpandingWindowSplitter</td>\n",
       "    </tr>\n",
       "    <tr>\n",
       "      <th id=\"T_224b1_level0_row10\" class=\"row_heading level0 row10\" >10</th>\n",
       "      <td id=\"T_224b1_row10_col0\" class=\"data row10 col0\" >Fold Number</td>\n",
       "      <td id=\"T_224b1_row10_col1\" class=\"data row10 col1\" >3</td>\n",
       "    </tr>\n",
       "    <tr>\n",
       "      <th id=\"T_224b1_level0_row11\" class=\"row_heading level0 row11\" >11</th>\n",
       "      <td id=\"T_224b1_row11_col0\" class=\"data row11 col0\" >Enforce Prediction Interval</td>\n",
       "      <td id=\"T_224b1_row11_col1\" class=\"data row11 col1\" >False</td>\n",
       "    </tr>\n",
       "    <tr>\n",
       "      <th id=\"T_224b1_level0_row12\" class=\"row_heading level0 row12\" >12</th>\n",
       "      <td id=\"T_224b1_row12_col0\" class=\"data row12 col0\" >Splits used for hyperparameters</td>\n",
       "      <td id=\"T_224b1_row12_col1\" class=\"data row12 col1\" >all</td>\n",
       "    </tr>\n",
       "    <tr>\n",
       "      <th id=\"T_224b1_level0_row13\" class=\"row_heading level0 row13\" >13</th>\n",
       "      <td id=\"T_224b1_row13_col0\" class=\"data row13 col0\" >User Defined Seasonal Period(s)</td>\n",
       "      <td id=\"T_224b1_row13_col1\" class=\"data row13 col1\" >None</td>\n",
       "    </tr>\n",
       "    <tr>\n",
       "      <th id=\"T_224b1_level0_row14\" class=\"row_heading level0 row14\" >14</th>\n",
       "      <td id=\"T_224b1_row14_col0\" class=\"data row14 col0\" >Ignore Seasonality Test</td>\n",
       "      <td id=\"T_224b1_row14_col1\" class=\"data row14 col1\" >False</td>\n",
       "    </tr>\n",
       "    <tr>\n",
       "      <th id=\"T_224b1_level0_row15\" class=\"row_heading level0 row15\" >15</th>\n",
       "      <td id=\"T_224b1_row15_col0\" class=\"data row15 col0\" >Seasonality Detection Algo</td>\n",
       "      <td id=\"T_224b1_row15_col1\" class=\"data row15 col1\" >auto</td>\n",
       "    </tr>\n",
       "    <tr>\n",
       "      <th id=\"T_224b1_level0_row16\" class=\"row_heading level0 row16\" >16</th>\n",
       "      <td id=\"T_224b1_row16_col0\" class=\"data row16 col0\" >Max Period to Consider</td>\n",
       "      <td id=\"T_224b1_row16_col1\" class=\"data row16 col1\" >60</td>\n",
       "    </tr>\n",
       "    <tr>\n",
       "      <th id=\"T_224b1_level0_row17\" class=\"row_heading level0 row17\" >17</th>\n",
       "      <td id=\"T_224b1_row17_col0\" class=\"data row17 col0\" >Seasonal Period(s) Tested</td>\n",
       "      <td id=\"T_224b1_row17_col1\" class=\"data row17 col1\" >[11]</td>\n",
       "    </tr>\n",
       "    <tr>\n",
       "      <th id=\"T_224b1_level0_row18\" class=\"row_heading level0 row18\" >18</th>\n",
       "      <td id=\"T_224b1_row18_col0\" class=\"data row18 col0\" >Significant Seasonal Period(s)</td>\n",
       "      <td id=\"T_224b1_row18_col1\" class=\"data row18 col1\" >[11]</td>\n",
       "    </tr>\n",
       "    <tr>\n",
       "      <th id=\"T_224b1_level0_row19\" class=\"row_heading level0 row19\" >19</th>\n",
       "      <td id=\"T_224b1_row19_col0\" class=\"data row19 col0\" >Significant Seasonal Period(s) without Harmonics</td>\n",
       "      <td id=\"T_224b1_row19_col1\" class=\"data row19 col1\" >[11]</td>\n",
       "    </tr>\n",
       "    <tr>\n",
       "      <th id=\"T_224b1_level0_row20\" class=\"row_heading level0 row20\" >20</th>\n",
       "      <td id=\"T_224b1_row20_col0\" class=\"data row20 col0\" >Remove Harmonics</td>\n",
       "      <td id=\"T_224b1_row20_col1\" class=\"data row20 col1\" >False</td>\n",
       "    </tr>\n",
       "    <tr>\n",
       "      <th id=\"T_224b1_level0_row21\" class=\"row_heading level0 row21\" >21</th>\n",
       "      <td id=\"T_224b1_row21_col0\" class=\"data row21 col0\" >Harmonics Order Method</td>\n",
       "      <td id=\"T_224b1_row21_col1\" class=\"data row21 col1\" >harmonic_max</td>\n",
       "    </tr>\n",
       "    <tr>\n",
       "      <th id=\"T_224b1_level0_row22\" class=\"row_heading level0 row22\" >22</th>\n",
       "      <td id=\"T_224b1_row22_col0\" class=\"data row22 col0\" >Num Seasonalities to Use</td>\n",
       "      <td id=\"T_224b1_row22_col1\" class=\"data row22 col1\" >1</td>\n",
       "    </tr>\n",
       "    <tr>\n",
       "      <th id=\"T_224b1_level0_row23\" class=\"row_heading level0 row23\" >23</th>\n",
       "      <td id=\"T_224b1_row23_col0\" class=\"data row23 col0\" >All Seasonalities to Use</td>\n",
       "      <td id=\"T_224b1_row23_col1\" class=\"data row23 col1\" >[11]</td>\n",
       "    </tr>\n",
       "    <tr>\n",
       "      <th id=\"T_224b1_level0_row24\" class=\"row_heading level0 row24\" >24</th>\n",
       "      <td id=\"T_224b1_row24_col0\" class=\"data row24 col0\" >Primary Seasonality</td>\n",
       "      <td id=\"T_224b1_row24_col1\" class=\"data row24 col1\" >11</td>\n",
       "    </tr>\n",
       "    <tr>\n",
       "      <th id=\"T_224b1_level0_row25\" class=\"row_heading level0 row25\" >25</th>\n",
       "      <td id=\"T_224b1_row25_col0\" class=\"data row25 col0\" >Seasonality Present</td>\n",
       "      <td id=\"T_224b1_row25_col1\" class=\"data row25 col1\" >True</td>\n",
       "    </tr>\n",
       "    <tr>\n",
       "      <th id=\"T_224b1_level0_row26\" class=\"row_heading level0 row26\" >26</th>\n",
       "      <td id=\"T_224b1_row26_col0\" class=\"data row26 col0\" >Seasonality Type</td>\n",
       "      <td id=\"T_224b1_row26_col1\" class=\"data row26 col1\" >mul</td>\n",
       "    </tr>\n",
       "    <tr>\n",
       "      <th id=\"T_224b1_level0_row27\" class=\"row_heading level0 row27\" >27</th>\n",
       "      <td id=\"T_224b1_row27_col0\" class=\"data row27 col0\" >Target Strictly Positive</td>\n",
       "      <td id=\"T_224b1_row27_col1\" class=\"data row27 col1\" >True</td>\n",
       "    </tr>\n",
       "    <tr>\n",
       "      <th id=\"T_224b1_level0_row28\" class=\"row_heading level0 row28\" >28</th>\n",
       "      <td id=\"T_224b1_row28_col0\" class=\"data row28 col0\" >Target White Noise</td>\n",
       "      <td id=\"T_224b1_row28_col1\" class=\"data row28 col1\" >No</td>\n",
       "    </tr>\n",
       "    <tr>\n",
       "      <th id=\"T_224b1_level0_row29\" class=\"row_heading level0 row29\" >29</th>\n",
       "      <td id=\"T_224b1_row29_col0\" class=\"data row29 col0\" >Recommended d</td>\n",
       "      <td id=\"T_224b1_row29_col1\" class=\"data row29 col1\" >0</td>\n",
       "    </tr>\n",
       "    <tr>\n",
       "      <th id=\"T_224b1_level0_row30\" class=\"row_heading level0 row30\" >30</th>\n",
       "      <td id=\"T_224b1_row30_col0\" class=\"data row30 col0\" >Recommended Seasonal D</td>\n",
       "      <td id=\"T_224b1_row30_col1\" class=\"data row30 col1\" >0</td>\n",
       "    </tr>\n",
       "    <tr>\n",
       "      <th id=\"T_224b1_level0_row31\" class=\"row_heading level0 row31\" >31</th>\n",
       "      <td id=\"T_224b1_row31_col0\" class=\"data row31 col0\" >Preprocess</td>\n",
       "      <td id=\"T_224b1_row31_col1\" class=\"data row31 col1\" >True</td>\n",
       "    </tr>\n",
       "    <tr>\n",
       "      <th id=\"T_224b1_level0_row32\" class=\"row_heading level0 row32\" >32</th>\n",
       "      <td id=\"T_224b1_row32_col0\" class=\"data row32 col0\" >Numerical Imputation (Target)</td>\n",
       "      <td id=\"T_224b1_row32_col1\" class=\"data row32 col1\" >ffill</td>\n",
       "    </tr>\n",
       "    <tr>\n",
       "      <th id=\"T_224b1_level0_row33\" class=\"row_heading level0 row33\" >33</th>\n",
       "      <td id=\"T_224b1_row33_col0\" class=\"data row33 col0\" >Transformation (Target)</td>\n",
       "      <td id=\"T_224b1_row33_col1\" class=\"data row33 col1\" >None</td>\n",
       "    </tr>\n",
       "    <tr>\n",
       "      <th id=\"T_224b1_level0_row34\" class=\"row_heading level0 row34\" >34</th>\n",
       "      <td id=\"T_224b1_row34_col0\" class=\"data row34 col0\" >Scaling (Target)</td>\n",
       "      <td id=\"T_224b1_row34_col1\" class=\"data row34 col1\" >None</td>\n",
       "    </tr>\n",
       "    <tr>\n",
       "      <th id=\"T_224b1_level0_row35\" class=\"row_heading level0 row35\" >35</th>\n",
       "      <td id=\"T_224b1_row35_col0\" class=\"data row35 col0\" >Feature Engineering (Target) - Reduced Regression</td>\n",
       "      <td id=\"T_224b1_row35_col1\" class=\"data row35 col1\" >False</td>\n",
       "    </tr>\n",
       "    <tr>\n",
       "      <th id=\"T_224b1_level0_row36\" class=\"row_heading level0 row36\" >36</th>\n",
       "      <td id=\"T_224b1_row36_col0\" class=\"data row36 col0\" >CPU Jobs</td>\n",
       "      <td id=\"T_224b1_row36_col1\" class=\"data row36 col1\" >-1</td>\n",
       "    </tr>\n",
       "    <tr>\n",
       "      <th id=\"T_224b1_level0_row37\" class=\"row_heading level0 row37\" >37</th>\n",
       "      <td id=\"T_224b1_row37_col0\" class=\"data row37 col0\" >Use GPU</td>\n",
       "      <td id=\"T_224b1_row37_col1\" class=\"data row37 col1\" >False</td>\n",
       "    </tr>\n",
       "    <tr>\n",
       "      <th id=\"T_224b1_level0_row38\" class=\"row_heading level0 row38\" >38</th>\n",
       "      <td id=\"T_224b1_row38_col0\" class=\"data row38 col0\" >Log Experiment</td>\n",
       "      <td id=\"T_224b1_row38_col1\" class=\"data row38 col1\" >False</td>\n",
       "    </tr>\n",
       "    <tr>\n",
       "      <th id=\"T_224b1_level0_row39\" class=\"row_heading level0 row39\" >39</th>\n",
       "      <td id=\"T_224b1_row39_col0\" class=\"data row39 col0\" >Experiment Name</td>\n",
       "      <td id=\"T_224b1_row39_col1\" class=\"data row39 col1\" >ts-default-name</td>\n",
       "    </tr>\n",
       "    <tr>\n",
       "      <th id=\"T_224b1_level0_row40\" class=\"row_heading level0 row40\" >40</th>\n",
       "      <td id=\"T_224b1_row40_col0\" class=\"data row40 col0\" >USI</td>\n",
       "      <td id=\"T_224b1_row40_col1\" class=\"data row40 col1\" >6088</td>\n",
       "    </tr>\n",
       "  </tbody>\n",
       "</table>\n"
      ],
      "text/plain": [
       "<pandas.io.formats.style.Styler at 0x1c865692c50>"
      ]
     },
     "metadata": {},
     "output_type": "display_data"
    },
    {
     "data": {
      "text/plain": [
       "<pycaret.time_series.forecasting.oop.TSForecastingExperiment at 0x1c85a63b150>"
      ]
     },
     "execution_count": 164,
     "metadata": {},
     "output_type": "execute_result"
    }
   ],
   "source": [
    "exp = TSForecastingExperiment()\n",
    "exp.setup(data=df_item, \n",
    "          target=target,\n",
    "          numeric_imputation_target='ffill',\n",
    "          fh=forecast_lenth_array)"
   ]
  },
  {
   "cell_type": "markdown",
   "metadata": {},
   "source": [
    "### Checking Set Up"
   ]
  },
  {
   "cell_type": "code",
   "execution_count": 165,
   "metadata": {},
   "outputs": [
    {
     "data": {
      "application/vnd.plotly.v1+json": {
       "config": {
        "plotlyServerURL": "https://plot.ly"
       },
       "data": [
        {
         "line": {
          "color": "rgb(31, 119, 180)",
          "width": 2
         },
         "marker": {
          "color": "rgb(31, 119, 180)",
          "size": 5
         },
         "mode": "lines+markers",
         "name": "Train (original)",
         "type": "scattergl",
         "x": [
          "2020-01-01T00:00:00",
          "2020-02-01T00:00:00",
          "2020-03-01T00:00:00",
          "2020-04-01T00:00:00",
          "2020-05-01T00:00:00",
          "2020-06-01T00:00:00",
          "2020-07-01T00:00:00",
          "2020-08-01T00:00:00",
          "2020-09-01T00:00:00",
          "2020-10-01T00:00:00",
          "2020-11-01T00:00:00",
          "2020-12-01T00:00:00",
          "2021-01-01T00:00:00",
          "2021-02-01T00:00:00",
          "2021-03-01T00:00:00",
          "2021-04-01T00:00:00",
          "2021-05-01T00:00:00",
          "2021-06-01T00:00:00",
          "2021-07-01T00:00:00",
          "2021-08-01T00:00:00",
          "2021-09-01T00:00:00",
          "2021-10-01T00:00:00",
          "2021-11-01T00:00:00",
          "2021-12-01T00:00:00",
          "2022-01-01T00:00:00",
          "2022-02-01T00:00:00",
          "2022-03-01T00:00:00",
          "2022-04-01T00:00:00",
          "2022-05-01T00:00:00",
          "2022-06-01T00:00:00",
          "2022-07-01T00:00:00",
          "2022-08-01T00:00:00",
          "2022-09-01T00:00:00",
          "2022-10-01T00:00:00",
          "2022-11-01T00:00:00",
          "2022-12-01T00:00:00",
          "2023-01-01T00:00:00",
          "2023-02-01T00:00:00",
          "2023-03-01T00:00:00",
          "2023-04-01T00:00:00",
          "2023-05-01T00:00:00",
          "2023-06-01T00:00:00",
          "2023-07-01T00:00:00",
          "2023-08-01T00:00:00",
          "2023-09-01T00:00:00",
          "2023-10-01T00:00:00",
          "2023-11-01T00:00:00",
          "2023-12-01T00:00:00",
          "2024-01-01T00:00:00",
          "2024-02-01T00:00:00",
          "2024-03-01T00:00:00",
          "2024-04-01T00:00:00",
          "2024-05-01T00:00:00",
          "2024-06-01T00:00:00",
          "2024-07-01T00:00:00",
          "2024-08-01T00:00:00"
         ],
         "xaxis": "x",
         "y": [
          94.48426867666528,
          178.00005631870533,
          135.53240296500073,
          171.66339465181125,
          197.86424269455665,
          42.36042392223138,
          189.43958982498987,
          139.26644096164927,
          139.0679639595602,
          132.56121124037332,
          77.27214458969318,
          96.31568653811632,
          132.6405238819098,
          129.06246937110325,
          152.22210811211292,
          215.26382368651127,
          201.69879829594723,
          217.50858369662916,
          169.05954770552157,
          134.39585486194036,
          130.12508639980888,
          111.58891199530234,
          82.10792835226451,
          116.98695547953773,
          174.0869026225525,
          141.47415500980503,
          133.40402141070342,
          195.17290935814174,
          171.6445770003439,
          159.19795422041443,
          118.28637221943261,
          140.8410444518556,
          99.15483086571123,
          99.0773970068047,
          99.0773970068047,
          109.23564560150696,
          173.19727848228698,
          118.28637221943261,
          148.0460527805361,
          152.79392640875602,
          138.01978961165082,
          156.40145790347586,
          156.40145790347586,
          106.81404247157242,
          69.11596833675605,
          81.71078288839546,
          96.87627018367225,
          190.09890190631336,
          81.61110355022268,
          138.01978961165082,
          131.12277687091887,
          167.35870664089438,
          null,
          null,
          null,
          null
         ],
         "yaxis": "y"
        },
        {
         "line": {
          "color": "rgb(255, 127, 14)",
          "width": 2
         },
         "marker": {
          "color": "rgb(255, 127, 14)",
          "size": 5
         },
         "mode": "lines+markers",
         "name": "Test (original)",
         "type": "scattergl",
         "x": [
          "2020-01-01T00:00:00",
          "2020-02-01T00:00:00",
          "2020-03-01T00:00:00",
          "2020-04-01T00:00:00",
          "2020-05-01T00:00:00",
          "2020-06-01T00:00:00",
          "2020-07-01T00:00:00",
          "2020-08-01T00:00:00",
          "2020-09-01T00:00:00",
          "2020-10-01T00:00:00",
          "2020-11-01T00:00:00",
          "2020-12-01T00:00:00",
          "2021-01-01T00:00:00",
          "2021-02-01T00:00:00",
          "2021-03-01T00:00:00",
          "2021-04-01T00:00:00",
          "2021-05-01T00:00:00",
          "2021-06-01T00:00:00",
          "2021-07-01T00:00:00",
          "2021-08-01T00:00:00",
          "2021-09-01T00:00:00",
          "2021-10-01T00:00:00",
          "2021-11-01T00:00:00",
          "2021-12-01T00:00:00",
          "2022-01-01T00:00:00",
          "2022-02-01T00:00:00",
          "2022-03-01T00:00:00",
          "2022-04-01T00:00:00",
          "2022-05-01T00:00:00",
          "2022-06-01T00:00:00",
          "2022-07-01T00:00:00",
          "2022-08-01T00:00:00",
          "2022-09-01T00:00:00",
          "2022-10-01T00:00:00",
          "2022-11-01T00:00:00",
          "2022-12-01T00:00:00",
          "2023-01-01T00:00:00",
          "2023-02-01T00:00:00",
          "2023-03-01T00:00:00",
          "2023-04-01T00:00:00",
          "2023-05-01T00:00:00",
          "2023-06-01T00:00:00",
          "2023-07-01T00:00:00",
          "2023-08-01T00:00:00",
          "2023-09-01T00:00:00",
          "2023-10-01T00:00:00",
          "2023-11-01T00:00:00",
          "2023-12-01T00:00:00",
          "2024-01-01T00:00:00",
          "2024-02-01T00:00:00",
          "2024-03-01T00:00:00",
          "2024-04-01T00:00:00",
          "2024-05-01T00:00:00",
          "2024-06-01T00:00:00",
          "2024-07-01T00:00:00",
          "2024-08-01T00:00:00"
         ],
         "xaxis": "x",
         "y": [
          null,
          null,
          null,
          null,
          null,
          null,
          null,
          null,
          null,
          null,
          null,
          null,
          null,
          null,
          null,
          null,
          null,
          null,
          null,
          null,
          null,
          null,
          null,
          null,
          null,
          null,
          null,
          null,
          null,
          null,
          null,
          null,
          null,
          null,
          null,
          null,
          null,
          null,
          null,
          null,
          null,
          null,
          null,
          null,
          null,
          null,
          null,
          null,
          null,
          null,
          null,
          null,
          172.39517081628566,
          150.60129050402884,
          140.44956962311923,
          106.81404247157242
         ],
         "yaxis": "y"
        }
       ],
       "layout": {
        "annotations": [
         {
          "font": {
           "size": 16
          },
          "showarrow": false,
          "text": "boxcox_units",
          "x": 0.5,
          "xanchor": "center",
          "xref": "paper",
          "y": 1,
          "yanchor": "bottom",
          "yref": "paper"
         }
        ],
        "showlegend": true,
        "template": {
         "data": {
          "bar": [
           {
            "error_x": {
             "color": "rgb(51,51,51)"
            },
            "error_y": {
             "color": "rgb(51,51,51)"
            },
            "marker": {
             "line": {
              "color": "rgb(237,237,237)",
              "width": 0.5
             },
             "pattern": {
              "fillmode": "overlay",
              "size": 10,
              "solidity": 0.2
             }
            },
            "type": "bar"
           }
          ],
          "barpolar": [
           {
            "marker": {
             "line": {
              "color": "rgb(237,237,237)",
              "width": 0.5
             },
             "pattern": {
              "fillmode": "overlay",
              "size": 10,
              "solidity": 0.2
             }
            },
            "type": "barpolar"
           }
          ],
          "carpet": [
           {
            "aaxis": {
             "endlinecolor": "rgb(51,51,51)",
             "gridcolor": "white",
             "linecolor": "white",
             "minorgridcolor": "white",
             "startlinecolor": "rgb(51,51,51)"
            },
            "baxis": {
             "endlinecolor": "rgb(51,51,51)",
             "gridcolor": "white",
             "linecolor": "white",
             "minorgridcolor": "white",
             "startlinecolor": "rgb(51,51,51)"
            },
            "type": "carpet"
           }
          ],
          "choropleth": [
           {
            "colorbar": {
             "outlinewidth": 0,
             "tickcolor": "rgb(237,237,237)",
             "ticklen": 6,
             "ticks": "inside"
            },
            "type": "choropleth"
           }
          ],
          "contour": [
           {
            "colorbar": {
             "outlinewidth": 0,
             "tickcolor": "rgb(237,237,237)",
             "ticklen": 6,
             "ticks": "inside"
            },
            "colorscale": [
             [
              0,
              "rgb(20,44,66)"
             ],
             [
              1,
              "rgb(90,179,244)"
             ]
            ],
            "type": "contour"
           }
          ],
          "contourcarpet": [
           {
            "colorbar": {
             "outlinewidth": 0,
             "tickcolor": "rgb(237,237,237)",
             "ticklen": 6,
             "ticks": "inside"
            },
            "type": "contourcarpet"
           }
          ],
          "heatmap": [
           {
            "colorbar": {
             "outlinewidth": 0,
             "tickcolor": "rgb(237,237,237)",
             "ticklen": 6,
             "ticks": "inside"
            },
            "colorscale": [
             [
              0,
              "rgb(20,44,66)"
             ],
             [
              1,
              "rgb(90,179,244)"
             ]
            ],
            "type": "heatmap"
           }
          ],
          "heatmapgl": [
           {
            "colorbar": {
             "outlinewidth": 0,
             "tickcolor": "rgb(237,237,237)",
             "ticklen": 6,
             "ticks": "inside"
            },
            "colorscale": [
             [
              0,
              "rgb(20,44,66)"
             ],
             [
              1,
              "rgb(90,179,244)"
             ]
            ],
            "type": "heatmapgl"
           }
          ],
          "histogram": [
           {
            "marker": {
             "pattern": {
              "fillmode": "overlay",
              "size": 10,
              "solidity": 0.2
             }
            },
            "type": "histogram"
           }
          ],
          "histogram2d": [
           {
            "colorbar": {
             "outlinewidth": 0,
             "tickcolor": "rgb(237,237,237)",
             "ticklen": 6,
             "ticks": "inside"
            },
            "colorscale": [
             [
              0,
              "rgb(20,44,66)"
             ],
             [
              1,
              "rgb(90,179,244)"
             ]
            ],
            "type": "histogram2d"
           }
          ],
          "histogram2dcontour": [
           {
            "colorbar": {
             "outlinewidth": 0,
             "tickcolor": "rgb(237,237,237)",
             "ticklen": 6,
             "ticks": "inside"
            },
            "colorscale": [
             [
              0,
              "rgb(20,44,66)"
             ],
             [
              1,
              "rgb(90,179,244)"
             ]
            ],
            "type": "histogram2dcontour"
           }
          ],
          "mesh3d": [
           {
            "colorbar": {
             "outlinewidth": 0,
             "tickcolor": "rgb(237,237,237)",
             "ticklen": 6,
             "ticks": "inside"
            },
            "type": "mesh3d"
           }
          ],
          "parcoords": [
           {
            "line": {
             "colorbar": {
              "outlinewidth": 0,
              "tickcolor": "rgb(237,237,237)",
              "ticklen": 6,
              "ticks": "inside"
             }
            },
            "type": "parcoords"
           }
          ],
          "pie": [
           {
            "automargin": true,
            "type": "pie"
           }
          ],
          "scatter": [
           {
            "fillpattern": {
             "fillmode": "overlay",
             "size": 10,
             "solidity": 0.2
            },
            "type": "scatter"
           }
          ],
          "scatter3d": [
           {
            "line": {
             "colorbar": {
              "outlinewidth": 0,
              "tickcolor": "rgb(237,237,237)",
              "ticklen": 6,
              "ticks": "inside"
             }
            },
            "marker": {
             "colorbar": {
              "outlinewidth": 0,
              "tickcolor": "rgb(237,237,237)",
              "ticklen": 6,
              "ticks": "inside"
             }
            },
            "type": "scatter3d"
           }
          ],
          "scattercarpet": [
           {
            "marker": {
             "colorbar": {
              "outlinewidth": 0,
              "tickcolor": "rgb(237,237,237)",
              "ticklen": 6,
              "ticks": "inside"
             }
            },
            "type": "scattercarpet"
           }
          ],
          "scattergeo": [
           {
            "marker": {
             "colorbar": {
              "outlinewidth": 0,
              "tickcolor": "rgb(237,237,237)",
              "ticklen": 6,
              "ticks": "inside"
             }
            },
            "type": "scattergeo"
           }
          ],
          "scattergl": [
           {
            "marker": {
             "colorbar": {
              "outlinewidth": 0,
              "tickcolor": "rgb(237,237,237)",
              "ticklen": 6,
              "ticks": "inside"
             }
            },
            "type": "scattergl"
           }
          ],
          "scattermapbox": [
           {
            "marker": {
             "colorbar": {
              "outlinewidth": 0,
              "tickcolor": "rgb(237,237,237)",
              "ticklen": 6,
              "ticks": "inside"
             }
            },
            "type": "scattermapbox"
           }
          ],
          "scatterpolar": [
           {
            "marker": {
             "colorbar": {
              "outlinewidth": 0,
              "tickcolor": "rgb(237,237,237)",
              "ticklen": 6,
              "ticks": "inside"
             }
            },
            "type": "scatterpolar"
           }
          ],
          "scatterpolargl": [
           {
            "marker": {
             "colorbar": {
              "outlinewidth": 0,
              "tickcolor": "rgb(237,237,237)",
              "ticklen": 6,
              "ticks": "inside"
             }
            },
            "type": "scatterpolargl"
           }
          ],
          "scatterternary": [
           {
            "marker": {
             "colorbar": {
              "outlinewidth": 0,
              "tickcolor": "rgb(237,237,237)",
              "ticklen": 6,
              "ticks": "inside"
             }
            },
            "type": "scatterternary"
           }
          ],
          "surface": [
           {
            "colorbar": {
             "outlinewidth": 0,
             "tickcolor": "rgb(237,237,237)",
             "ticklen": 6,
             "ticks": "inside"
            },
            "colorscale": [
             [
              0,
              "rgb(20,44,66)"
             ],
             [
              1,
              "rgb(90,179,244)"
             ]
            ],
            "type": "surface"
           }
          ],
          "table": [
           {
            "cells": {
             "fill": {
              "color": "rgb(237,237,237)"
             },
             "line": {
              "color": "white"
             }
            },
            "header": {
             "fill": {
              "color": "rgb(217,217,217)"
             },
             "line": {
              "color": "white"
             }
            },
            "type": "table"
           }
          ]
         },
         "layout": {
          "annotationdefaults": {
           "arrowhead": 0,
           "arrowwidth": 1
          },
          "autotypenumbers": "strict",
          "coloraxis": {
           "colorbar": {
            "outlinewidth": 0,
            "tickcolor": "rgb(237,237,237)",
            "ticklen": 6,
            "ticks": "inside"
           }
          },
          "colorscale": {
           "sequential": [
            [
             0,
             "rgb(20,44,66)"
            ],
            [
             1,
             "rgb(90,179,244)"
            ]
           ],
           "sequentialminus": [
            [
             0,
             "rgb(20,44,66)"
            ],
            [
             1,
             "rgb(90,179,244)"
            ]
           ]
          },
          "colorway": [
           "#F8766D",
           "#A3A500",
           "#00BF7D",
           "#00B0F6",
           "#E76BF3"
          ],
          "font": {
           "color": "rgb(51,51,51)"
          },
          "geo": {
           "bgcolor": "white",
           "lakecolor": "white",
           "landcolor": "rgb(237,237,237)",
           "showlakes": true,
           "showland": true,
           "subunitcolor": "white"
          },
          "hoverlabel": {
           "align": "left"
          },
          "hovermode": "closest",
          "paper_bgcolor": "white",
          "plot_bgcolor": "rgb(237,237,237)",
          "polar": {
           "angularaxis": {
            "gridcolor": "white",
            "linecolor": "white",
            "showgrid": true,
            "tickcolor": "rgb(51,51,51)",
            "ticks": "outside"
           },
           "bgcolor": "rgb(237,237,237)",
           "radialaxis": {
            "gridcolor": "white",
            "linecolor": "white",
            "showgrid": true,
            "tickcolor": "rgb(51,51,51)",
            "ticks": "outside"
           }
          },
          "scene": {
           "xaxis": {
            "backgroundcolor": "rgb(237,237,237)",
            "gridcolor": "white",
            "gridwidth": 2,
            "linecolor": "white",
            "showbackground": true,
            "showgrid": true,
            "tickcolor": "rgb(51,51,51)",
            "ticks": "outside",
            "zerolinecolor": "white"
           },
           "yaxis": {
            "backgroundcolor": "rgb(237,237,237)",
            "gridcolor": "white",
            "gridwidth": 2,
            "linecolor": "white",
            "showbackground": true,
            "showgrid": true,
            "tickcolor": "rgb(51,51,51)",
            "ticks": "outside",
            "zerolinecolor": "white"
           },
           "zaxis": {
            "backgroundcolor": "rgb(237,237,237)",
            "gridcolor": "white",
            "gridwidth": 2,
            "linecolor": "white",
            "showbackground": true,
            "showgrid": true,
            "tickcolor": "rgb(51,51,51)",
            "ticks": "outside",
            "zerolinecolor": "white"
           }
          },
          "shapedefaults": {
           "fillcolor": "black",
           "line": {
            "width": 0
           },
           "opacity": 0.3
          },
          "ternary": {
           "aaxis": {
            "gridcolor": "white",
            "linecolor": "white",
            "showgrid": true,
            "tickcolor": "rgb(51,51,51)",
            "ticks": "outside"
           },
           "baxis": {
            "gridcolor": "white",
            "linecolor": "white",
            "showgrid": true,
            "tickcolor": "rgb(51,51,51)",
            "ticks": "outside"
           },
           "bgcolor": "rgb(237,237,237)",
           "caxis": {
            "gridcolor": "white",
            "linecolor": "white",
            "showgrid": true,
            "tickcolor": "rgb(51,51,51)",
            "ticks": "outside"
           }
          },
          "xaxis": {
           "automargin": true,
           "gridcolor": "white",
           "linecolor": "white",
           "showgrid": true,
           "tickcolor": "rgb(51,51,51)",
           "ticks": "outside",
           "title": {
            "standoff": 15
           },
           "zerolinecolor": "white"
          },
          "yaxis": {
           "automargin": true,
           "gridcolor": "white",
           "linecolor": "white",
           "showgrid": true,
           "tickcolor": "rgb(51,51,51)",
           "ticks": "outside",
           "title": {
            "standoff": 15
           },
           "zerolinecolor": "white"
          }
         }
        },
        "title": {
         "text": "Time Series | Target = boxcox_units"
        },
        "xaxis": {
         "anchor": "y",
         "domain": [
          0,
          1
         ]
        },
        "yaxis": {
         "anchor": "x",
         "domain": [
          0,
          1
         ]
        }
       }
      }
     },
     "metadata": {},
     "output_type": "display_data"
    }
   ],
   "source": [
    "exp.plot_model(plot='train_test_split')"
   ]
  },
  {
   "cell_type": "code",
   "execution_count": 166,
   "metadata": {},
   "outputs": [
    {
     "data": {
      "application/vnd.plotly.v1+json": {
       "config": {
        "plotlyServerURL": "https://plot.ly"
       },
       "data": [
        {
         "hoverinfo": "skip",
         "line": {
          "color": "#C0C0C0"
         },
         "mode": "lines+markers",
         "name": "Unchanged",
         "showlegend": false,
         "type": "scattergl",
         "x": [
          "2020-01-01T00:00:00",
          "2020-02-01T00:00:00"
         ],
         "y": [
          "2",
          "2"
         ]
        },
        {
         "hoverinfo": "skip",
         "line": {
          "color": "#C0C0C0"
         },
         "mode": "lines+markers",
         "name": "Unchanged",
         "showlegend": false,
         "type": "scattergl",
         "x": [
          "2020-02-01T00:00:00",
          "2020-03-01T00:00:00"
         ],
         "y": [
          "2",
          "2"
         ]
        },
        {
         "hoverinfo": "skip",
         "line": {
          "color": "#C0C0C0"
         },
         "mode": "lines+markers",
         "name": "Unchanged",
         "showlegend": false,
         "type": "scattergl",
         "x": [
          "2020-03-01T00:00:00",
          "2020-04-01T00:00:00"
         ],
         "y": [
          "2",
          "2"
         ]
        },
        {
         "hoverinfo": "skip",
         "line": {
          "color": "#C0C0C0"
         },
         "mode": "lines+markers",
         "name": "Unchanged",
         "showlegend": false,
         "type": "scattergl",
         "x": [
          "2020-04-01T00:00:00",
          "2020-05-01T00:00:00"
         ],
         "y": [
          "2",
          "2"
         ]
        },
        {
         "hoverinfo": "skip",
         "line": {
          "color": "#C0C0C0"
         },
         "mode": "lines+markers",
         "name": "Unchanged",
         "showlegend": false,
         "type": "scattergl",
         "x": [
          "2020-05-01T00:00:00",
          "2020-06-01T00:00:00"
         ],
         "y": [
          "2",
          "2"
         ]
        },
        {
         "hoverinfo": "skip",
         "line": {
          "color": "#C0C0C0"
         },
         "mode": "lines+markers",
         "name": "Unchanged",
         "showlegend": false,
         "type": "scattergl",
         "x": [
          "2020-06-01T00:00:00",
          "2020-07-01T00:00:00"
         ],
         "y": [
          "2",
          "2"
         ]
        },
        {
         "hoverinfo": "skip",
         "line": {
          "color": "#C0C0C0"
         },
         "mode": "lines+markers",
         "name": "Unchanged",
         "showlegend": false,
         "type": "scattergl",
         "x": [
          "2020-07-01T00:00:00",
          "2020-08-01T00:00:00"
         ],
         "y": [
          "2",
          "2"
         ]
        },
        {
         "hoverinfo": "skip",
         "line": {
          "color": "#C0C0C0"
         },
         "mode": "lines+markers",
         "name": "Unchanged",
         "showlegend": false,
         "type": "scattergl",
         "x": [
          "2020-08-01T00:00:00",
          "2020-09-01T00:00:00"
         ],
         "y": [
          "2",
          "2"
         ]
        },
        {
         "hoverinfo": "skip",
         "line": {
          "color": "#C0C0C0"
         },
         "mode": "lines+markers",
         "name": "Unchanged",
         "showlegend": false,
         "type": "scattergl",
         "x": [
          "2020-09-01T00:00:00",
          "2020-10-01T00:00:00"
         ],
         "y": [
          "2",
          "2"
         ]
        },
        {
         "hoverinfo": "skip",
         "line": {
          "color": "#C0C0C0"
         },
         "mode": "lines+markers",
         "name": "Unchanged",
         "showlegend": false,
         "type": "scattergl",
         "x": [
          "2020-10-01T00:00:00",
          "2020-11-01T00:00:00"
         ],
         "y": [
          "2",
          "2"
         ]
        },
        {
         "hoverinfo": "skip",
         "line": {
          "color": "#C0C0C0"
         },
         "mode": "lines+markers",
         "name": "Unchanged",
         "showlegend": false,
         "type": "scattergl",
         "x": [
          "2020-11-01T00:00:00",
          "2020-12-01T00:00:00"
         ],
         "y": [
          "2",
          "2"
         ]
        },
        {
         "hoverinfo": "skip",
         "line": {
          "color": "#C0C0C0"
         },
         "mode": "lines+markers",
         "name": "Unchanged",
         "showlegend": false,
         "type": "scattergl",
         "x": [
          "2020-12-01T00:00:00",
          "2021-01-01T00:00:00"
         ],
         "y": [
          "2",
          "2"
         ]
        },
        {
         "hoverinfo": "skip",
         "line": {
          "color": "#C0C0C0"
         },
         "mode": "lines+markers",
         "name": "Unchanged",
         "showlegend": false,
         "type": "scattergl",
         "x": [
          "2021-01-01T00:00:00",
          "2021-02-01T00:00:00"
         ],
         "y": [
          "2",
          "2"
         ]
        },
        {
         "hoverinfo": "skip",
         "line": {
          "color": "#C0C0C0"
         },
         "mode": "lines+markers",
         "name": "Unchanged",
         "showlegend": false,
         "type": "scattergl",
         "x": [
          "2021-02-01T00:00:00",
          "2021-03-01T00:00:00"
         ],
         "y": [
          "2",
          "2"
         ]
        },
        {
         "hoverinfo": "skip",
         "line": {
          "color": "#C0C0C0"
         },
         "mode": "lines+markers",
         "name": "Unchanged",
         "showlegend": false,
         "type": "scattergl",
         "x": [
          "2021-03-01T00:00:00",
          "2021-04-01T00:00:00"
         ],
         "y": [
          "2",
          "2"
         ]
        },
        {
         "hoverinfo": "skip",
         "line": {
          "color": "#C0C0C0"
         },
         "mode": "lines+markers",
         "name": "Unchanged",
         "showlegend": false,
         "type": "scattergl",
         "x": [
          "2021-04-01T00:00:00",
          "2021-05-01T00:00:00"
         ],
         "y": [
          "2",
          "2"
         ]
        },
        {
         "hoverinfo": "skip",
         "line": {
          "color": "#C0C0C0"
         },
         "mode": "lines+markers",
         "name": "Unchanged",
         "showlegend": false,
         "type": "scattergl",
         "x": [
          "2021-05-01T00:00:00",
          "2021-06-01T00:00:00"
         ],
         "y": [
          "2",
          "2"
         ]
        },
        {
         "hoverinfo": "skip",
         "line": {
          "color": "#C0C0C0"
         },
         "mode": "lines+markers",
         "name": "Unchanged",
         "showlegend": false,
         "type": "scattergl",
         "x": [
          "2021-06-01T00:00:00",
          "2021-07-01T00:00:00"
         ],
         "y": [
          "2",
          "2"
         ]
        },
        {
         "hoverinfo": "skip",
         "line": {
          "color": "#C0C0C0"
         },
         "mode": "lines+markers",
         "name": "Unchanged",
         "showlegend": false,
         "type": "scattergl",
         "x": [
          "2021-07-01T00:00:00",
          "2021-08-01T00:00:00"
         ],
         "y": [
          "2",
          "2"
         ]
        },
        {
         "hoverinfo": "skip",
         "line": {
          "color": "#C0C0C0"
         },
         "mode": "lines+markers",
         "name": "Unchanged",
         "showlegend": false,
         "type": "scattergl",
         "x": [
          "2021-08-01T00:00:00",
          "2021-09-01T00:00:00"
         ],
         "y": [
          "2",
          "2"
         ]
        },
        {
         "hoverinfo": "skip",
         "line": {
          "color": "#C0C0C0"
         },
         "mode": "lines+markers",
         "name": "Unchanged",
         "showlegend": false,
         "type": "scattergl",
         "x": [
          "2021-09-01T00:00:00",
          "2021-10-01T00:00:00"
         ],
         "y": [
          "2",
          "2"
         ]
        },
        {
         "hoverinfo": "skip",
         "line": {
          "color": "#C0C0C0"
         },
         "mode": "lines+markers",
         "name": "Unchanged",
         "showlegend": false,
         "type": "scattergl",
         "x": [
          "2021-10-01T00:00:00",
          "2021-11-01T00:00:00"
         ],
         "y": [
          "2",
          "2"
         ]
        },
        {
         "hoverinfo": "skip",
         "line": {
          "color": "#C0C0C0"
         },
         "mode": "lines+markers",
         "name": "Unchanged",
         "showlegend": false,
         "type": "scattergl",
         "x": [
          "2021-11-01T00:00:00",
          "2021-12-01T00:00:00"
         ],
         "y": [
          "2",
          "2"
         ]
        },
        {
         "hoverinfo": "skip",
         "line": {
          "color": "#C0C0C0"
         },
         "mode": "lines+markers",
         "name": "Unchanged",
         "showlegend": false,
         "type": "scattergl",
         "x": [
          "2021-12-01T00:00:00",
          "2022-01-01T00:00:00"
         ],
         "y": [
          "2",
          "2"
         ]
        },
        {
         "hoverinfo": "skip",
         "line": {
          "color": "#C0C0C0"
         },
         "mode": "lines+markers",
         "name": "Unchanged",
         "showlegend": false,
         "type": "scattergl",
         "x": [
          "2022-01-01T00:00:00",
          "2022-02-01T00:00:00"
         ],
         "y": [
          "2",
          "2"
         ]
        },
        {
         "hoverinfo": "skip",
         "line": {
          "color": "#C0C0C0"
         },
         "mode": "lines+markers",
         "name": "Unchanged",
         "showlegend": false,
         "type": "scattergl",
         "x": [
          "2022-02-01T00:00:00",
          "2022-03-01T00:00:00"
         ],
         "y": [
          "2",
          "2"
         ]
        },
        {
         "hoverinfo": "skip",
         "line": {
          "color": "#C0C0C0"
         },
         "mode": "lines+markers",
         "name": "Unchanged",
         "showlegend": false,
         "type": "scattergl",
         "x": [
          "2022-03-01T00:00:00",
          "2022-04-01T00:00:00"
         ],
         "y": [
          "2",
          "2"
         ]
        },
        {
         "hoverinfo": "skip",
         "line": {
          "color": "#C0C0C0"
         },
         "mode": "lines+markers",
         "name": "Unchanged",
         "showlegend": false,
         "type": "scattergl",
         "x": [
          "2022-04-01T00:00:00",
          "2022-05-01T00:00:00"
         ],
         "y": [
          "2",
          "2"
         ]
        },
        {
         "hoverinfo": "skip",
         "line": {
          "color": "#C0C0C0"
         },
         "mode": "lines+markers",
         "name": "Unchanged",
         "showlegend": false,
         "type": "scattergl",
         "x": [
          "2022-05-01T00:00:00",
          "2022-06-01T00:00:00"
         ],
         "y": [
          "2",
          "2"
         ]
        },
        {
         "hoverinfo": "skip",
         "line": {
          "color": "#C0C0C0"
         },
         "mode": "lines+markers",
         "name": "Unchanged",
         "showlegend": false,
         "type": "scattergl",
         "x": [
          "2022-06-01T00:00:00",
          "2022-07-01T00:00:00"
         ],
         "y": [
          "2",
          "2"
         ]
        },
        {
         "hoverinfo": "skip",
         "line": {
          "color": "#C0C0C0"
         },
         "mode": "lines+markers",
         "name": "Unchanged",
         "showlegend": false,
         "type": "scattergl",
         "x": [
          "2022-07-01T00:00:00",
          "2022-08-01T00:00:00"
         ],
         "y": [
          "2",
          "2"
         ]
        },
        {
         "hoverinfo": "skip",
         "line": {
          "color": "#C0C0C0"
         },
         "mode": "lines+markers",
         "name": "Unchanged",
         "showlegend": false,
         "type": "scattergl",
         "x": [
          "2022-08-01T00:00:00",
          "2022-09-01T00:00:00"
         ],
         "y": [
          "2",
          "2"
         ]
        },
        {
         "hoverinfo": "skip",
         "line": {
          "color": "#C0C0C0"
         },
         "mode": "lines+markers",
         "name": "Unchanged",
         "showlegend": false,
         "type": "scattergl",
         "x": [
          "2022-09-01T00:00:00",
          "2022-10-01T00:00:00"
         ],
         "y": [
          "2",
          "2"
         ]
        },
        {
         "hoverinfo": "skip",
         "line": {
          "color": "#C0C0C0"
         },
         "mode": "lines+markers",
         "name": "Unchanged",
         "showlegend": false,
         "type": "scattergl",
         "x": [
          "2022-10-01T00:00:00",
          "2022-11-01T00:00:00"
         ],
         "y": [
          "2",
          "2"
         ]
        },
        {
         "hoverinfo": "skip",
         "line": {
          "color": "#C0C0C0"
         },
         "mode": "lines+markers",
         "name": "Unchanged",
         "showlegend": false,
         "type": "scattergl",
         "x": [
          "2022-11-01T00:00:00",
          "2022-12-01T00:00:00"
         ],
         "y": [
          "2",
          "2"
         ]
        },
        {
         "hoverinfo": "skip",
         "line": {
          "color": "#C0C0C0"
         },
         "mode": "lines+markers",
         "name": "Unchanged",
         "showlegend": false,
         "type": "scattergl",
         "x": [
          "2022-12-01T00:00:00",
          "2023-01-01T00:00:00"
         ],
         "y": [
          "2",
          "2"
         ]
        },
        {
         "hoverinfo": "skip",
         "line": {
          "color": "#C0C0C0"
         },
         "mode": "lines+markers",
         "name": "Unchanged",
         "showlegend": false,
         "type": "scattergl",
         "x": [
          "2023-01-01T00:00:00",
          "2023-02-01T00:00:00"
         ],
         "y": [
          "2",
          "2"
         ]
        },
        {
         "hoverinfo": "skip",
         "line": {
          "color": "#C0C0C0"
         },
         "mode": "lines+markers",
         "name": "Unchanged",
         "showlegend": false,
         "type": "scattergl",
         "x": [
          "2023-02-01T00:00:00",
          "2023-03-01T00:00:00"
         ],
         "y": [
          "2",
          "2"
         ]
        },
        {
         "hoverinfo": "skip",
         "line": {
          "color": "#C0C0C0"
         },
         "mode": "lines+markers",
         "name": "Unchanged",
         "showlegend": false,
         "type": "scattergl",
         "x": [
          "2023-03-01T00:00:00",
          "2023-04-01T00:00:00"
         ],
         "y": [
          "2",
          "2"
         ]
        },
        {
         "hoverinfo": "skip",
         "line": {
          "color": "#C0C0C0"
         },
         "mode": "lines+markers",
         "name": "Unchanged",
         "showlegend": false,
         "type": "scattergl",
         "x": [
          "2023-04-01T00:00:00",
          "2023-05-01T00:00:00"
         ],
         "y": [
          "2",
          "2"
         ]
        },
        {
         "hoverinfo": "skip",
         "line": {
          "color": "#C0C0C0"
         },
         "mode": "lines+markers",
         "name": "Unchanged",
         "showlegend": false,
         "type": "scattergl",
         "x": [
          "2023-05-01T00:00:00",
          "2023-06-01T00:00:00"
         ],
         "y": [
          "2",
          "2"
         ]
        },
        {
         "hoverinfo": "skip",
         "line": {
          "color": "#C0C0C0"
         },
         "mode": "lines+markers",
         "name": "Unchanged",
         "showlegend": false,
         "type": "scattergl",
         "x": [
          "2023-06-01T00:00:00",
          "2023-07-01T00:00:00"
         ],
         "y": [
          "2",
          "2"
         ]
        },
        {
         "hoverinfo": "skip",
         "line": {
          "color": "#C0C0C0"
         },
         "mode": "lines+markers",
         "name": "Unchanged",
         "showlegend": false,
         "type": "scattergl",
         "x": [
          "2023-07-01T00:00:00",
          "2023-08-01T00:00:00"
         ],
         "y": [
          "2",
          "2"
         ]
        },
        {
         "hoverinfo": "skip",
         "line": {
          "color": "#C0C0C0"
         },
         "mode": "lines+markers",
         "name": "Unchanged",
         "showlegend": false,
         "type": "scattergl",
         "x": [
          "2023-08-01T00:00:00",
          "2023-09-01T00:00:00"
         ],
         "y": [
          "2",
          "2"
         ]
        },
        {
         "hoverinfo": "skip",
         "line": {
          "color": "#C0C0C0"
         },
         "mode": "lines+markers",
         "name": "Unchanged",
         "showlegend": false,
         "type": "scattergl",
         "x": [
          "2023-09-01T00:00:00",
          "2023-10-01T00:00:00"
         ],
         "y": [
          "2",
          "2"
         ]
        },
        {
         "hoverinfo": "skip",
         "line": {
          "color": "#C0C0C0"
         },
         "mode": "lines+markers",
         "name": "Unchanged",
         "showlegend": false,
         "type": "scattergl",
         "x": [
          "2023-10-01T00:00:00",
          "2023-11-01T00:00:00"
         ],
         "y": [
          "2",
          "2"
         ]
        },
        {
         "hoverinfo": "skip",
         "line": {
          "color": "#C0C0C0"
         },
         "mode": "lines+markers",
         "name": "Unchanged",
         "showlegend": false,
         "type": "scattergl",
         "x": [
          "2023-11-01T00:00:00",
          "2023-12-01T00:00:00"
         ],
         "y": [
          "2",
          "2"
         ]
        },
        {
         "hoverinfo": "skip",
         "line": {
          "color": "#C0C0C0"
         },
         "mode": "lines+markers",
         "name": "Unchanged",
         "showlegend": false,
         "type": "scattergl",
         "x": [
          "2023-12-01T00:00:00",
          "2024-01-01T00:00:00"
         ],
         "y": [
          "2",
          "2"
         ]
        },
        {
         "hoverinfo": "skip",
         "line": {
          "color": "#C0C0C0"
         },
         "mode": "lines+markers",
         "name": "Unchanged",
         "showlegend": false,
         "type": "scattergl",
         "x": [
          "2024-01-01T00:00:00",
          "2024-02-01T00:00:00"
         ],
         "y": [
          "2",
          "2"
         ]
        },
        {
         "hoverinfo": "skip",
         "line": {
          "color": "#C0C0C0"
         },
         "mode": "lines+markers",
         "name": "Unchanged",
         "showlegend": false,
         "type": "scattergl",
         "x": [
          "2024-02-01T00:00:00",
          "2024-03-01T00:00:00"
         ],
         "y": [
          "2",
          "2"
         ]
        },
        {
         "hoverinfo": "skip",
         "line": {
          "color": "#C0C0C0"
         },
         "mode": "lines+markers",
         "name": "Unchanged",
         "showlegend": false,
         "type": "scattergl",
         "x": [
          "2024-03-01T00:00:00",
          "2024-04-01T00:00:00"
         ],
         "y": [
          "2",
          "2"
         ]
        },
        {
         "hoverinfo": "skip",
         "line": {
          "color": "#1f77b4"
         },
         "mode": "lines+markers",
         "name": "Train",
         "showlegend": false,
         "type": "scattergl",
         "x": [
          "2020-01-01T00:00:00",
          "2020-02-01T00:00:00"
         ],
         "y": [
          "2",
          "2"
         ]
        },
        {
         "hoverinfo": "skip",
         "line": {
          "color": "#1f77b4"
         },
         "mode": "lines+markers",
         "name": "Train",
         "showlegend": false,
         "type": "scattergl",
         "x": [
          "2020-02-01T00:00:00",
          "2020-03-01T00:00:00"
         ],
         "y": [
          "2",
          "2"
         ]
        },
        {
         "hoverinfo": "skip",
         "line": {
          "color": "#1f77b4"
         },
         "mode": "lines+markers",
         "name": "Train",
         "showlegend": false,
         "type": "scattergl",
         "x": [
          "2020-03-01T00:00:00",
          "2020-04-01T00:00:00"
         ],
         "y": [
          "2",
          "2"
         ]
        },
        {
         "hoverinfo": "skip",
         "line": {
          "color": "#1f77b4"
         },
         "mode": "lines+markers",
         "name": "Train",
         "showlegend": false,
         "type": "scattergl",
         "x": [
          "2020-04-01T00:00:00",
          "2020-05-01T00:00:00"
         ],
         "y": [
          "2",
          "2"
         ]
        },
        {
         "hoverinfo": "skip",
         "line": {
          "color": "#1f77b4"
         },
         "mode": "lines+markers",
         "name": "Train",
         "showlegend": false,
         "type": "scattergl",
         "x": [
          "2020-05-01T00:00:00",
          "2020-06-01T00:00:00"
         ],
         "y": [
          "2",
          "2"
         ]
        },
        {
         "hoverinfo": "skip",
         "line": {
          "color": "#1f77b4"
         },
         "mode": "lines+markers",
         "name": "Train",
         "showlegend": false,
         "type": "scattergl",
         "x": [
          "2020-06-01T00:00:00",
          "2020-07-01T00:00:00"
         ],
         "y": [
          "2",
          "2"
         ]
        },
        {
         "hoverinfo": "skip",
         "line": {
          "color": "#1f77b4"
         },
         "mode": "lines+markers",
         "name": "Train",
         "showlegend": false,
         "type": "scattergl",
         "x": [
          "2020-07-01T00:00:00",
          "2020-08-01T00:00:00"
         ],
         "y": [
          "2",
          "2"
         ]
        },
        {
         "hoverinfo": "skip",
         "line": {
          "color": "#1f77b4"
         },
         "mode": "lines+markers",
         "name": "Train",
         "showlegend": false,
         "type": "scattergl",
         "x": [
          "2020-08-01T00:00:00",
          "2020-09-01T00:00:00"
         ],
         "y": [
          "2",
          "2"
         ]
        },
        {
         "hoverinfo": "skip",
         "line": {
          "color": "#1f77b4"
         },
         "mode": "lines+markers",
         "name": "Train",
         "showlegend": false,
         "type": "scattergl",
         "x": [
          "2020-09-01T00:00:00",
          "2020-10-01T00:00:00"
         ],
         "y": [
          "2",
          "2"
         ]
        },
        {
         "hoverinfo": "skip",
         "line": {
          "color": "#1f77b4"
         },
         "mode": "lines+markers",
         "name": "Train",
         "showlegend": false,
         "type": "scattergl",
         "x": [
          "2020-10-01T00:00:00",
          "2020-11-01T00:00:00"
         ],
         "y": [
          "2",
          "2"
         ]
        },
        {
         "hoverinfo": "skip",
         "line": {
          "color": "#1f77b4"
         },
         "mode": "lines+markers",
         "name": "Train",
         "showlegend": false,
         "type": "scattergl",
         "x": [
          "2020-11-01T00:00:00",
          "2020-12-01T00:00:00"
         ],
         "y": [
          "2",
          "2"
         ]
        },
        {
         "hoverinfo": "skip",
         "line": {
          "color": "#1f77b4"
         },
         "mode": "lines+markers",
         "name": "Train",
         "showlegend": false,
         "type": "scattergl",
         "x": [
          "2020-12-01T00:00:00",
          "2021-01-01T00:00:00"
         ],
         "y": [
          "2",
          "2"
         ]
        },
        {
         "hoverinfo": "skip",
         "line": {
          "color": "#1f77b4"
         },
         "mode": "lines+markers",
         "name": "Train",
         "showlegend": false,
         "type": "scattergl",
         "x": [
          "2021-01-01T00:00:00",
          "2021-02-01T00:00:00"
         ],
         "y": [
          "2",
          "2"
         ]
        },
        {
         "hoverinfo": "skip",
         "line": {
          "color": "#1f77b4"
         },
         "mode": "lines+markers",
         "name": "Train",
         "showlegend": false,
         "type": "scattergl",
         "x": [
          "2021-02-01T00:00:00",
          "2021-03-01T00:00:00"
         ],
         "y": [
          "2",
          "2"
         ]
        },
        {
         "hoverinfo": "skip",
         "line": {
          "color": "#1f77b4"
         },
         "mode": "lines+markers",
         "name": "Train",
         "showlegend": false,
         "type": "scattergl",
         "x": [
          "2021-03-01T00:00:00",
          "2021-04-01T00:00:00"
         ],
         "y": [
          "2",
          "2"
         ]
        },
        {
         "hoverinfo": "skip",
         "line": {
          "color": "#1f77b4"
         },
         "mode": "lines+markers",
         "name": "Train",
         "showlegend": false,
         "type": "scattergl",
         "x": [
          "2021-04-01T00:00:00",
          "2021-05-01T00:00:00"
         ],
         "y": [
          "2",
          "2"
         ]
        },
        {
         "hoverinfo": "skip",
         "line": {
          "color": "#1f77b4"
         },
         "mode": "lines+markers",
         "name": "Train",
         "showlegend": false,
         "type": "scattergl",
         "x": [
          "2021-05-01T00:00:00",
          "2021-06-01T00:00:00"
         ],
         "y": [
          "2",
          "2"
         ]
        },
        {
         "hoverinfo": "skip",
         "line": {
          "color": "#1f77b4"
         },
         "mode": "lines+markers",
         "name": "Train",
         "showlegend": false,
         "type": "scattergl",
         "x": [
          "2021-06-01T00:00:00",
          "2021-07-01T00:00:00"
         ],
         "y": [
          "2",
          "2"
         ]
        },
        {
         "hoverinfo": "skip",
         "line": {
          "color": "#1f77b4"
         },
         "mode": "lines+markers",
         "name": "Train",
         "showlegend": false,
         "type": "scattergl",
         "x": [
          "2021-07-01T00:00:00",
          "2021-08-01T00:00:00"
         ],
         "y": [
          "2",
          "2"
         ]
        },
        {
         "hoverinfo": "skip",
         "line": {
          "color": "#1f77b4"
         },
         "mode": "lines+markers",
         "name": "Train",
         "showlegend": false,
         "type": "scattergl",
         "x": [
          "2021-08-01T00:00:00",
          "2021-09-01T00:00:00"
         ],
         "y": [
          "2",
          "2"
         ]
        },
        {
         "hoverinfo": "skip",
         "line": {
          "color": "#1f77b4"
         },
         "mode": "lines+markers",
         "name": "Train",
         "showlegend": false,
         "type": "scattergl",
         "x": [
          "2021-09-01T00:00:00",
          "2021-10-01T00:00:00"
         ],
         "y": [
          "2",
          "2"
         ]
        },
        {
         "hoverinfo": "skip",
         "line": {
          "color": "#1f77b4"
         },
         "mode": "lines+markers",
         "name": "Train",
         "showlegend": false,
         "type": "scattergl",
         "x": [
          "2021-10-01T00:00:00",
          "2021-11-01T00:00:00"
         ],
         "y": [
          "2",
          "2"
         ]
        },
        {
         "hoverinfo": "skip",
         "line": {
          "color": "#1f77b4"
         },
         "mode": "lines+markers",
         "name": "Train",
         "showlegend": false,
         "type": "scattergl",
         "x": [
          "2021-11-01T00:00:00",
          "2021-12-01T00:00:00"
         ],
         "y": [
          "2",
          "2"
         ]
        },
        {
         "hoverinfo": "skip",
         "line": {
          "color": "#1f77b4"
         },
         "mode": "lines+markers",
         "name": "Train",
         "showlegend": false,
         "type": "scattergl",
         "x": [
          "2021-12-01T00:00:00",
          "2022-01-01T00:00:00"
         ],
         "y": [
          "2",
          "2"
         ]
        },
        {
         "hoverinfo": "skip",
         "line": {
          "color": "#1f77b4"
         },
         "mode": "lines+markers",
         "name": "Train",
         "showlegend": false,
         "type": "scattergl",
         "x": [
          "2022-01-01T00:00:00",
          "2022-02-01T00:00:00"
         ],
         "y": [
          "2",
          "2"
         ]
        },
        {
         "hoverinfo": "skip",
         "line": {
          "color": "#1f77b4"
         },
         "mode": "lines+markers",
         "name": "Train",
         "showlegend": false,
         "type": "scattergl",
         "x": [
          "2022-02-01T00:00:00",
          "2022-03-01T00:00:00"
         ],
         "y": [
          "2",
          "2"
         ]
        },
        {
         "hoverinfo": "skip",
         "line": {
          "color": "#1f77b4"
         },
         "mode": "lines+markers",
         "name": "Train",
         "showlegend": false,
         "type": "scattergl",
         "x": [
          "2022-03-01T00:00:00",
          "2022-04-01T00:00:00"
         ],
         "y": [
          "2",
          "2"
         ]
        },
        {
         "hoverinfo": "skip",
         "line": {
          "color": "#1f77b4"
         },
         "mode": "lines+markers",
         "name": "Train",
         "showlegend": false,
         "type": "scattergl",
         "x": [
          "2022-04-01T00:00:00",
          "2022-05-01T00:00:00"
         ],
         "y": [
          "2",
          "2"
         ]
        },
        {
         "hoverinfo": "skip",
         "line": {
          "color": "#1f77b4"
         },
         "mode": "lines+markers",
         "name": "Train",
         "showlegend": false,
         "type": "scattergl",
         "x": [
          "2022-05-01T00:00:00",
          "2022-06-01T00:00:00"
         ],
         "y": [
          "2",
          "2"
         ]
        },
        {
         "hoverinfo": "skip",
         "line": {
          "color": "#1f77b4"
         },
         "mode": "lines+markers",
         "name": "Train",
         "showlegend": false,
         "type": "scattergl",
         "x": [
          "2022-06-01T00:00:00",
          "2022-07-01T00:00:00"
         ],
         "y": [
          "2",
          "2"
         ]
        },
        {
         "hoverinfo": "skip",
         "line": {
          "color": "#1f77b4"
         },
         "mode": "lines+markers",
         "name": "Train",
         "showlegend": false,
         "type": "scattergl",
         "x": [
          "2022-07-01T00:00:00",
          "2022-08-01T00:00:00"
         ],
         "y": [
          "2",
          "2"
         ]
        },
        {
         "hoverinfo": "skip",
         "line": {
          "color": "#1f77b4"
         },
         "mode": "lines+markers",
         "name": "Train",
         "showlegend": false,
         "type": "scattergl",
         "x": [
          "2022-08-01T00:00:00",
          "2022-09-01T00:00:00"
         ],
         "y": [
          "2",
          "2"
         ]
        },
        {
         "hoverinfo": "skip",
         "line": {
          "color": "#1f77b4"
         },
         "mode": "lines+markers",
         "name": "Train",
         "showlegend": false,
         "type": "scattergl",
         "x": [
          "2022-09-01T00:00:00",
          "2022-10-01T00:00:00"
         ],
         "y": [
          "2",
          "2"
         ]
        },
        {
         "hoverinfo": "skip",
         "line": {
          "color": "#1f77b4"
         },
         "mode": "lines+markers",
         "name": "Train",
         "showlegend": false,
         "type": "scattergl",
         "x": [
          "2022-10-01T00:00:00",
          "2022-11-01T00:00:00"
         ],
         "y": [
          "2",
          "2"
         ]
        },
        {
         "hoverinfo": "skip",
         "line": {
          "color": "#1f77b4"
         },
         "mode": "lines+markers",
         "name": "Train",
         "showlegend": false,
         "type": "scattergl",
         "x": [
          "2022-11-01T00:00:00",
          "2022-12-01T00:00:00"
         ],
         "y": [
          "2",
          "2"
         ]
        },
        {
         "hoverinfo": "skip",
         "line": {
          "color": "#1f77b4"
         },
         "mode": "lines+markers",
         "name": "Train",
         "showlegend": false,
         "type": "scattergl",
         "x": [
          "2022-12-01T00:00:00",
          "2023-01-01T00:00:00"
         ],
         "y": [
          "2",
          "2"
         ]
        },
        {
         "hoverinfo": "skip",
         "line": {
          "color": "#1f77b4"
         },
         "mode": "lines+markers",
         "name": "Train",
         "showlegend": false,
         "type": "scattergl",
         "x": [
          "2023-01-01T00:00:00",
          "2023-02-01T00:00:00"
         ],
         "y": [
          "2",
          "2"
         ]
        },
        {
         "hoverinfo": "skip",
         "line": {
          "color": "#1f77b4"
         },
         "mode": "lines+markers",
         "name": "Train",
         "showlegend": false,
         "type": "scattergl",
         "x": [
          "2023-02-01T00:00:00",
          "2023-03-01T00:00:00"
         ],
         "y": [
          "2",
          "2"
         ]
        },
        {
         "hoverinfo": "skip",
         "line": {
          "color": "#1f77b4"
         },
         "mode": "lines+markers",
         "name": "Train",
         "showlegend": false,
         "type": "scattergl",
         "x": [
          "2023-03-01T00:00:00",
          "2023-04-01T00:00:00"
         ],
         "y": [
          "2",
          "2"
         ]
        },
        {
         "hoverinfo": "skip",
         "line": {
          "color": "#1f77b4"
         },
         "mode": "lines+markers",
         "name": "Train",
         "showlegend": false,
         "type": "scattergl",
         "x": [
          "2023-04-01T00:00:00",
          "2023-05-01T00:00:00"
         ],
         "y": [
          "2",
          "2"
         ]
        },
        {
         "hoverinfo": "skip",
         "line": {
          "color": "#1f77b4"
         },
         "mode": "lines+markers",
         "name": "Train",
         "showlegend": false,
         "type": "scattergl",
         "x": [
          "2023-05-01T00:00:00",
          "2023-06-01T00:00:00"
         ],
         "y": [
          "2",
          "2"
         ]
        },
        {
         "hoverinfo": "skip",
         "line": {
          "color": "#1f77b4"
         },
         "mode": "lines+markers",
         "name": "Train",
         "showlegend": false,
         "type": "scattergl",
         "x": [
          "2023-06-01T00:00:00",
          "2023-07-01T00:00:00"
         ],
         "y": [
          "2",
          "2"
         ]
        },
        {
         "hoverinfo": "skip",
         "line": {
          "color": "#1f77b4"
         },
         "mode": "lines+markers",
         "name": "Train",
         "showlegend": false,
         "type": "scattergl",
         "x": [
          "2023-07-01T00:00:00",
          "2023-08-01T00:00:00"
         ],
         "y": [
          "2",
          "2"
         ]
        },
        {
         "hoverinfo": "skip",
         "line": {
          "color": "#1f77b4"
         },
         "mode": "lines+markers",
         "name": "Train",
         "showlegend": false,
         "type": "scattergl",
         "x": [
          "2023-08-01T00:00:00",
          "2023-09-01T00:00:00"
         ],
         "y": [
          "2",
          "2"
         ]
        },
        {
         "hoverinfo": "skip",
         "line": {
          "color": "#1f77b4"
         },
         "mode": "lines+markers",
         "name": "Train",
         "showlegend": false,
         "type": "scattergl",
         "x": [
          "2023-09-01T00:00:00",
          "2023-10-01T00:00:00"
         ],
         "y": [
          "2",
          "2"
         ]
        },
        {
         "hoverinfo": "skip",
         "line": {
          "color": "#1f77b4"
         },
         "mode": "lines+markers",
         "name": "Train",
         "showlegend": false,
         "type": "scattergl",
         "x": [
          "2023-10-01T00:00:00",
          "2023-11-01T00:00:00"
         ],
         "y": [
          "2",
          "2"
         ]
        },
        {
         "hoverinfo": "skip",
         "line": {
          "color": "#1f77b4"
         },
         "mode": "lines+markers",
         "name": "Train",
         "showlegend": false,
         "type": "scattergl",
         "x": [
          "2023-11-01T00:00:00",
          "2023-12-01T00:00:00"
         ],
         "y": [
          "2",
          "2"
         ]
        },
        {
         "hoverinfo": "skip",
         "line": {
          "color": "#DE970B"
         },
         "mode": "lines+markers",
         "name": "ForecastHorizon",
         "showlegend": false,
         "type": "scattergl",
         "x": [
          "2024-01-01T00:00:00",
          "2024-02-01T00:00:00"
         ],
         "y": [
          "2",
          "2"
         ]
        },
        {
         "hoverinfo": "skip",
         "line": {
          "color": "#DE970B"
         },
         "mode": "lines+markers",
         "name": "ForecastHorizon",
         "showlegend": false,
         "type": "scattergl",
         "x": [
          "2024-02-01T00:00:00",
          "2024-03-01T00:00:00"
         ],
         "y": [
          "2",
          "2"
         ]
        },
        {
         "hoverinfo": "skip",
         "line": {
          "color": "#DE970B"
         },
         "mode": "lines+markers",
         "name": "ForecastHorizon",
         "showlegend": false,
         "type": "scattergl",
         "x": [
          "2024-03-01T00:00:00",
          "2024-04-01T00:00:00"
         ],
         "y": [
          "2",
          "2"
         ]
        },
        {
         "hoverinfo": "skip",
         "line": {
          "color": "#C0C0C0"
         },
         "mode": "lines+markers",
         "name": "Unchanged",
         "showlegend": false,
         "type": "scattergl",
         "x": [
          "2020-01-01T00:00:00",
          "2020-02-01T00:00:00"
         ],
         "y": [
          "1",
          "1"
         ]
        },
        {
         "hoverinfo": "skip",
         "line": {
          "color": "#C0C0C0"
         },
         "mode": "lines+markers",
         "name": "Unchanged",
         "showlegend": false,
         "type": "scattergl",
         "x": [
          "2020-02-01T00:00:00",
          "2020-03-01T00:00:00"
         ],
         "y": [
          "1",
          "1"
         ]
        },
        {
         "hoverinfo": "skip",
         "line": {
          "color": "#C0C0C0"
         },
         "mode": "lines+markers",
         "name": "Unchanged",
         "showlegend": false,
         "type": "scattergl",
         "x": [
          "2020-03-01T00:00:00",
          "2020-04-01T00:00:00"
         ],
         "y": [
          "1",
          "1"
         ]
        },
        {
         "hoverinfo": "skip",
         "line": {
          "color": "#C0C0C0"
         },
         "mode": "lines+markers",
         "name": "Unchanged",
         "showlegend": false,
         "type": "scattergl",
         "x": [
          "2020-04-01T00:00:00",
          "2020-05-01T00:00:00"
         ],
         "y": [
          "1",
          "1"
         ]
        },
        {
         "hoverinfo": "skip",
         "line": {
          "color": "#C0C0C0"
         },
         "mode": "lines+markers",
         "name": "Unchanged",
         "showlegend": false,
         "type": "scattergl",
         "x": [
          "2020-05-01T00:00:00",
          "2020-06-01T00:00:00"
         ],
         "y": [
          "1",
          "1"
         ]
        },
        {
         "hoverinfo": "skip",
         "line": {
          "color": "#C0C0C0"
         },
         "mode": "lines+markers",
         "name": "Unchanged",
         "showlegend": false,
         "type": "scattergl",
         "x": [
          "2020-06-01T00:00:00",
          "2020-07-01T00:00:00"
         ],
         "y": [
          "1",
          "1"
         ]
        },
        {
         "hoverinfo": "skip",
         "line": {
          "color": "#C0C0C0"
         },
         "mode": "lines+markers",
         "name": "Unchanged",
         "showlegend": false,
         "type": "scattergl",
         "x": [
          "2020-07-01T00:00:00",
          "2020-08-01T00:00:00"
         ],
         "y": [
          "1",
          "1"
         ]
        },
        {
         "hoverinfo": "skip",
         "line": {
          "color": "#C0C0C0"
         },
         "mode": "lines+markers",
         "name": "Unchanged",
         "showlegend": false,
         "type": "scattergl",
         "x": [
          "2020-08-01T00:00:00",
          "2020-09-01T00:00:00"
         ],
         "y": [
          "1",
          "1"
         ]
        },
        {
         "hoverinfo": "skip",
         "line": {
          "color": "#C0C0C0"
         },
         "mode": "lines+markers",
         "name": "Unchanged",
         "showlegend": false,
         "type": "scattergl",
         "x": [
          "2020-09-01T00:00:00",
          "2020-10-01T00:00:00"
         ],
         "y": [
          "1",
          "1"
         ]
        },
        {
         "hoverinfo": "skip",
         "line": {
          "color": "#C0C0C0"
         },
         "mode": "lines+markers",
         "name": "Unchanged",
         "showlegend": false,
         "type": "scattergl",
         "x": [
          "2020-10-01T00:00:00",
          "2020-11-01T00:00:00"
         ],
         "y": [
          "1",
          "1"
         ]
        },
        {
         "hoverinfo": "skip",
         "line": {
          "color": "#C0C0C0"
         },
         "mode": "lines+markers",
         "name": "Unchanged",
         "showlegend": false,
         "type": "scattergl",
         "x": [
          "2020-11-01T00:00:00",
          "2020-12-01T00:00:00"
         ],
         "y": [
          "1",
          "1"
         ]
        },
        {
         "hoverinfo": "skip",
         "line": {
          "color": "#C0C0C0"
         },
         "mode": "lines+markers",
         "name": "Unchanged",
         "showlegend": false,
         "type": "scattergl",
         "x": [
          "2020-12-01T00:00:00",
          "2021-01-01T00:00:00"
         ],
         "y": [
          "1",
          "1"
         ]
        },
        {
         "hoverinfo": "skip",
         "line": {
          "color": "#C0C0C0"
         },
         "mode": "lines+markers",
         "name": "Unchanged",
         "showlegend": false,
         "type": "scattergl",
         "x": [
          "2021-01-01T00:00:00",
          "2021-02-01T00:00:00"
         ],
         "y": [
          "1",
          "1"
         ]
        },
        {
         "hoverinfo": "skip",
         "line": {
          "color": "#C0C0C0"
         },
         "mode": "lines+markers",
         "name": "Unchanged",
         "showlegend": false,
         "type": "scattergl",
         "x": [
          "2021-02-01T00:00:00",
          "2021-03-01T00:00:00"
         ],
         "y": [
          "1",
          "1"
         ]
        },
        {
         "hoverinfo": "skip",
         "line": {
          "color": "#C0C0C0"
         },
         "mode": "lines+markers",
         "name": "Unchanged",
         "showlegend": false,
         "type": "scattergl",
         "x": [
          "2021-03-01T00:00:00",
          "2021-04-01T00:00:00"
         ],
         "y": [
          "1",
          "1"
         ]
        },
        {
         "hoverinfo": "skip",
         "line": {
          "color": "#C0C0C0"
         },
         "mode": "lines+markers",
         "name": "Unchanged",
         "showlegend": false,
         "type": "scattergl",
         "x": [
          "2021-04-01T00:00:00",
          "2021-05-01T00:00:00"
         ],
         "y": [
          "1",
          "1"
         ]
        },
        {
         "hoverinfo": "skip",
         "line": {
          "color": "#C0C0C0"
         },
         "mode": "lines+markers",
         "name": "Unchanged",
         "showlegend": false,
         "type": "scattergl",
         "x": [
          "2021-05-01T00:00:00",
          "2021-06-01T00:00:00"
         ],
         "y": [
          "1",
          "1"
         ]
        },
        {
         "hoverinfo": "skip",
         "line": {
          "color": "#C0C0C0"
         },
         "mode": "lines+markers",
         "name": "Unchanged",
         "showlegend": false,
         "type": "scattergl",
         "x": [
          "2021-06-01T00:00:00",
          "2021-07-01T00:00:00"
         ],
         "y": [
          "1",
          "1"
         ]
        },
        {
         "hoverinfo": "skip",
         "line": {
          "color": "#C0C0C0"
         },
         "mode": "lines+markers",
         "name": "Unchanged",
         "showlegend": false,
         "type": "scattergl",
         "x": [
          "2021-07-01T00:00:00",
          "2021-08-01T00:00:00"
         ],
         "y": [
          "1",
          "1"
         ]
        },
        {
         "hoverinfo": "skip",
         "line": {
          "color": "#C0C0C0"
         },
         "mode": "lines+markers",
         "name": "Unchanged",
         "showlegend": false,
         "type": "scattergl",
         "x": [
          "2021-08-01T00:00:00",
          "2021-09-01T00:00:00"
         ],
         "y": [
          "1",
          "1"
         ]
        },
        {
         "hoverinfo": "skip",
         "line": {
          "color": "#C0C0C0"
         },
         "mode": "lines+markers",
         "name": "Unchanged",
         "showlegend": false,
         "type": "scattergl",
         "x": [
          "2021-09-01T00:00:00",
          "2021-10-01T00:00:00"
         ],
         "y": [
          "1",
          "1"
         ]
        },
        {
         "hoverinfo": "skip",
         "line": {
          "color": "#C0C0C0"
         },
         "mode": "lines+markers",
         "name": "Unchanged",
         "showlegend": false,
         "type": "scattergl",
         "x": [
          "2021-10-01T00:00:00",
          "2021-11-01T00:00:00"
         ],
         "y": [
          "1",
          "1"
         ]
        },
        {
         "hoverinfo": "skip",
         "line": {
          "color": "#C0C0C0"
         },
         "mode": "lines+markers",
         "name": "Unchanged",
         "showlegend": false,
         "type": "scattergl",
         "x": [
          "2021-11-01T00:00:00",
          "2021-12-01T00:00:00"
         ],
         "y": [
          "1",
          "1"
         ]
        },
        {
         "hoverinfo": "skip",
         "line": {
          "color": "#C0C0C0"
         },
         "mode": "lines+markers",
         "name": "Unchanged",
         "showlegend": false,
         "type": "scattergl",
         "x": [
          "2021-12-01T00:00:00",
          "2022-01-01T00:00:00"
         ],
         "y": [
          "1",
          "1"
         ]
        },
        {
         "hoverinfo": "skip",
         "line": {
          "color": "#C0C0C0"
         },
         "mode": "lines+markers",
         "name": "Unchanged",
         "showlegend": false,
         "type": "scattergl",
         "x": [
          "2022-01-01T00:00:00",
          "2022-02-01T00:00:00"
         ],
         "y": [
          "1",
          "1"
         ]
        },
        {
         "hoverinfo": "skip",
         "line": {
          "color": "#C0C0C0"
         },
         "mode": "lines+markers",
         "name": "Unchanged",
         "showlegend": false,
         "type": "scattergl",
         "x": [
          "2022-02-01T00:00:00",
          "2022-03-01T00:00:00"
         ],
         "y": [
          "1",
          "1"
         ]
        },
        {
         "hoverinfo": "skip",
         "line": {
          "color": "#C0C0C0"
         },
         "mode": "lines+markers",
         "name": "Unchanged",
         "showlegend": false,
         "type": "scattergl",
         "x": [
          "2022-03-01T00:00:00",
          "2022-04-01T00:00:00"
         ],
         "y": [
          "1",
          "1"
         ]
        },
        {
         "hoverinfo": "skip",
         "line": {
          "color": "#C0C0C0"
         },
         "mode": "lines+markers",
         "name": "Unchanged",
         "showlegend": false,
         "type": "scattergl",
         "x": [
          "2022-04-01T00:00:00",
          "2022-05-01T00:00:00"
         ],
         "y": [
          "1",
          "1"
         ]
        },
        {
         "hoverinfo": "skip",
         "line": {
          "color": "#C0C0C0"
         },
         "mode": "lines+markers",
         "name": "Unchanged",
         "showlegend": false,
         "type": "scattergl",
         "x": [
          "2022-05-01T00:00:00",
          "2022-06-01T00:00:00"
         ],
         "y": [
          "1",
          "1"
         ]
        },
        {
         "hoverinfo": "skip",
         "line": {
          "color": "#C0C0C0"
         },
         "mode": "lines+markers",
         "name": "Unchanged",
         "showlegend": false,
         "type": "scattergl",
         "x": [
          "2022-06-01T00:00:00",
          "2022-07-01T00:00:00"
         ],
         "y": [
          "1",
          "1"
         ]
        },
        {
         "hoverinfo": "skip",
         "line": {
          "color": "#C0C0C0"
         },
         "mode": "lines+markers",
         "name": "Unchanged",
         "showlegend": false,
         "type": "scattergl",
         "x": [
          "2022-07-01T00:00:00",
          "2022-08-01T00:00:00"
         ],
         "y": [
          "1",
          "1"
         ]
        },
        {
         "hoverinfo": "skip",
         "line": {
          "color": "#C0C0C0"
         },
         "mode": "lines+markers",
         "name": "Unchanged",
         "showlegend": false,
         "type": "scattergl",
         "x": [
          "2022-08-01T00:00:00",
          "2022-09-01T00:00:00"
         ],
         "y": [
          "1",
          "1"
         ]
        },
        {
         "hoverinfo": "skip",
         "line": {
          "color": "#C0C0C0"
         },
         "mode": "lines+markers",
         "name": "Unchanged",
         "showlegend": false,
         "type": "scattergl",
         "x": [
          "2022-09-01T00:00:00",
          "2022-10-01T00:00:00"
         ],
         "y": [
          "1",
          "1"
         ]
        },
        {
         "hoverinfo": "skip",
         "line": {
          "color": "#C0C0C0"
         },
         "mode": "lines+markers",
         "name": "Unchanged",
         "showlegend": false,
         "type": "scattergl",
         "x": [
          "2022-10-01T00:00:00",
          "2022-11-01T00:00:00"
         ],
         "y": [
          "1",
          "1"
         ]
        },
        {
         "hoverinfo": "skip",
         "line": {
          "color": "#C0C0C0"
         },
         "mode": "lines+markers",
         "name": "Unchanged",
         "showlegend": false,
         "type": "scattergl",
         "x": [
          "2022-11-01T00:00:00",
          "2022-12-01T00:00:00"
         ],
         "y": [
          "1",
          "1"
         ]
        },
        {
         "hoverinfo": "skip",
         "line": {
          "color": "#C0C0C0"
         },
         "mode": "lines+markers",
         "name": "Unchanged",
         "showlegend": false,
         "type": "scattergl",
         "x": [
          "2022-12-01T00:00:00",
          "2023-01-01T00:00:00"
         ],
         "y": [
          "1",
          "1"
         ]
        },
        {
         "hoverinfo": "skip",
         "line": {
          "color": "#C0C0C0"
         },
         "mode": "lines+markers",
         "name": "Unchanged",
         "showlegend": false,
         "type": "scattergl",
         "x": [
          "2023-01-01T00:00:00",
          "2023-02-01T00:00:00"
         ],
         "y": [
          "1",
          "1"
         ]
        },
        {
         "hoverinfo": "skip",
         "line": {
          "color": "#C0C0C0"
         },
         "mode": "lines+markers",
         "name": "Unchanged",
         "showlegend": false,
         "type": "scattergl",
         "x": [
          "2023-02-01T00:00:00",
          "2023-03-01T00:00:00"
         ],
         "y": [
          "1",
          "1"
         ]
        },
        {
         "hoverinfo": "skip",
         "line": {
          "color": "#C0C0C0"
         },
         "mode": "lines+markers",
         "name": "Unchanged",
         "showlegend": false,
         "type": "scattergl",
         "x": [
          "2023-03-01T00:00:00",
          "2023-04-01T00:00:00"
         ],
         "y": [
          "1",
          "1"
         ]
        },
        {
         "hoverinfo": "skip",
         "line": {
          "color": "#C0C0C0"
         },
         "mode": "lines+markers",
         "name": "Unchanged",
         "showlegend": false,
         "type": "scattergl",
         "x": [
          "2023-04-01T00:00:00",
          "2023-05-01T00:00:00"
         ],
         "y": [
          "1",
          "1"
         ]
        },
        {
         "hoverinfo": "skip",
         "line": {
          "color": "#C0C0C0"
         },
         "mode": "lines+markers",
         "name": "Unchanged",
         "showlegend": false,
         "type": "scattergl",
         "x": [
          "2023-05-01T00:00:00",
          "2023-06-01T00:00:00"
         ],
         "y": [
          "1",
          "1"
         ]
        },
        {
         "hoverinfo": "skip",
         "line": {
          "color": "#C0C0C0"
         },
         "mode": "lines+markers",
         "name": "Unchanged",
         "showlegend": false,
         "type": "scattergl",
         "x": [
          "2023-06-01T00:00:00",
          "2023-07-01T00:00:00"
         ],
         "y": [
          "1",
          "1"
         ]
        },
        {
         "hoverinfo": "skip",
         "line": {
          "color": "#C0C0C0"
         },
         "mode": "lines+markers",
         "name": "Unchanged",
         "showlegend": false,
         "type": "scattergl",
         "x": [
          "2023-07-01T00:00:00",
          "2023-08-01T00:00:00"
         ],
         "y": [
          "1",
          "1"
         ]
        },
        {
         "hoverinfo": "skip",
         "line": {
          "color": "#C0C0C0"
         },
         "mode": "lines+markers",
         "name": "Unchanged",
         "showlegend": false,
         "type": "scattergl",
         "x": [
          "2023-08-01T00:00:00",
          "2023-09-01T00:00:00"
         ],
         "y": [
          "1",
          "1"
         ]
        },
        {
         "hoverinfo": "skip",
         "line": {
          "color": "#C0C0C0"
         },
         "mode": "lines+markers",
         "name": "Unchanged",
         "showlegend": false,
         "type": "scattergl",
         "x": [
          "2023-09-01T00:00:00",
          "2023-10-01T00:00:00"
         ],
         "y": [
          "1",
          "1"
         ]
        },
        {
         "hoverinfo": "skip",
         "line": {
          "color": "#C0C0C0"
         },
         "mode": "lines+markers",
         "name": "Unchanged",
         "showlegend": false,
         "type": "scattergl",
         "x": [
          "2023-10-01T00:00:00",
          "2023-11-01T00:00:00"
         ],
         "y": [
          "1",
          "1"
         ]
        },
        {
         "hoverinfo": "skip",
         "line": {
          "color": "#C0C0C0"
         },
         "mode": "lines+markers",
         "name": "Unchanged",
         "showlegend": false,
         "type": "scattergl",
         "x": [
          "2023-11-01T00:00:00",
          "2023-12-01T00:00:00"
         ],
         "y": [
          "1",
          "1"
         ]
        },
        {
         "hoverinfo": "skip",
         "line": {
          "color": "#C0C0C0"
         },
         "mode": "lines+markers",
         "name": "Unchanged",
         "showlegend": false,
         "type": "scattergl",
         "x": [
          "2023-12-01T00:00:00",
          "2024-01-01T00:00:00"
         ],
         "y": [
          "1",
          "1"
         ]
        },
        {
         "hoverinfo": "skip",
         "line": {
          "color": "#C0C0C0"
         },
         "mode": "lines+markers",
         "name": "Unchanged",
         "showlegend": false,
         "type": "scattergl",
         "x": [
          "2024-01-01T00:00:00",
          "2024-02-01T00:00:00"
         ],
         "y": [
          "1",
          "1"
         ]
        },
        {
         "hoverinfo": "skip",
         "line": {
          "color": "#C0C0C0"
         },
         "mode": "lines+markers",
         "name": "Unchanged",
         "showlegend": false,
         "type": "scattergl",
         "x": [
          "2024-02-01T00:00:00",
          "2024-03-01T00:00:00"
         ],
         "y": [
          "1",
          "1"
         ]
        },
        {
         "hoverinfo": "skip",
         "line": {
          "color": "#C0C0C0"
         },
         "mode": "lines+markers",
         "name": "Unchanged",
         "showlegend": false,
         "type": "scattergl",
         "x": [
          "2024-03-01T00:00:00",
          "2024-04-01T00:00:00"
         ],
         "y": [
          "1",
          "1"
         ]
        },
        {
         "hoverinfo": "skip",
         "line": {
          "color": "#1f77b4"
         },
         "mode": "lines+markers",
         "name": "Train",
         "showlegend": false,
         "type": "scattergl",
         "x": [
          "2020-01-01T00:00:00",
          "2020-02-01T00:00:00"
         ],
         "y": [
          "1",
          "1"
         ]
        },
        {
         "hoverinfo": "skip",
         "line": {
          "color": "#1f77b4"
         },
         "mode": "lines+markers",
         "name": "Train",
         "showlegend": false,
         "type": "scattergl",
         "x": [
          "2020-02-01T00:00:00",
          "2020-03-01T00:00:00"
         ],
         "y": [
          "1",
          "1"
         ]
        },
        {
         "hoverinfo": "skip",
         "line": {
          "color": "#1f77b4"
         },
         "mode": "lines+markers",
         "name": "Train",
         "showlegend": false,
         "type": "scattergl",
         "x": [
          "2020-03-01T00:00:00",
          "2020-04-01T00:00:00"
         ],
         "y": [
          "1",
          "1"
         ]
        },
        {
         "hoverinfo": "skip",
         "line": {
          "color": "#1f77b4"
         },
         "mode": "lines+markers",
         "name": "Train",
         "showlegend": false,
         "type": "scattergl",
         "x": [
          "2020-04-01T00:00:00",
          "2020-05-01T00:00:00"
         ],
         "y": [
          "1",
          "1"
         ]
        },
        {
         "hoverinfo": "skip",
         "line": {
          "color": "#1f77b4"
         },
         "mode": "lines+markers",
         "name": "Train",
         "showlegend": false,
         "type": "scattergl",
         "x": [
          "2020-05-01T00:00:00",
          "2020-06-01T00:00:00"
         ],
         "y": [
          "1",
          "1"
         ]
        },
        {
         "hoverinfo": "skip",
         "line": {
          "color": "#1f77b4"
         },
         "mode": "lines+markers",
         "name": "Train",
         "showlegend": false,
         "type": "scattergl",
         "x": [
          "2020-06-01T00:00:00",
          "2020-07-01T00:00:00"
         ],
         "y": [
          "1",
          "1"
         ]
        },
        {
         "hoverinfo": "skip",
         "line": {
          "color": "#1f77b4"
         },
         "mode": "lines+markers",
         "name": "Train",
         "showlegend": false,
         "type": "scattergl",
         "x": [
          "2020-07-01T00:00:00",
          "2020-08-01T00:00:00"
         ],
         "y": [
          "1",
          "1"
         ]
        },
        {
         "hoverinfo": "skip",
         "line": {
          "color": "#1f77b4"
         },
         "mode": "lines+markers",
         "name": "Train",
         "showlegend": false,
         "type": "scattergl",
         "x": [
          "2020-08-01T00:00:00",
          "2020-09-01T00:00:00"
         ],
         "y": [
          "1",
          "1"
         ]
        },
        {
         "hoverinfo": "skip",
         "line": {
          "color": "#1f77b4"
         },
         "mode": "lines+markers",
         "name": "Train",
         "showlegend": false,
         "type": "scattergl",
         "x": [
          "2020-09-01T00:00:00",
          "2020-10-01T00:00:00"
         ],
         "y": [
          "1",
          "1"
         ]
        },
        {
         "hoverinfo": "skip",
         "line": {
          "color": "#1f77b4"
         },
         "mode": "lines+markers",
         "name": "Train",
         "showlegend": false,
         "type": "scattergl",
         "x": [
          "2020-10-01T00:00:00",
          "2020-11-01T00:00:00"
         ],
         "y": [
          "1",
          "1"
         ]
        },
        {
         "hoverinfo": "skip",
         "line": {
          "color": "#1f77b4"
         },
         "mode": "lines+markers",
         "name": "Train",
         "showlegend": false,
         "type": "scattergl",
         "x": [
          "2020-11-01T00:00:00",
          "2020-12-01T00:00:00"
         ],
         "y": [
          "1",
          "1"
         ]
        },
        {
         "hoverinfo": "skip",
         "line": {
          "color": "#1f77b4"
         },
         "mode": "lines+markers",
         "name": "Train",
         "showlegend": false,
         "type": "scattergl",
         "x": [
          "2020-12-01T00:00:00",
          "2021-01-01T00:00:00"
         ],
         "y": [
          "1",
          "1"
         ]
        },
        {
         "hoverinfo": "skip",
         "line": {
          "color": "#1f77b4"
         },
         "mode": "lines+markers",
         "name": "Train",
         "showlegend": false,
         "type": "scattergl",
         "x": [
          "2021-01-01T00:00:00",
          "2021-02-01T00:00:00"
         ],
         "y": [
          "1",
          "1"
         ]
        },
        {
         "hoverinfo": "skip",
         "line": {
          "color": "#1f77b4"
         },
         "mode": "lines+markers",
         "name": "Train",
         "showlegend": false,
         "type": "scattergl",
         "x": [
          "2021-02-01T00:00:00",
          "2021-03-01T00:00:00"
         ],
         "y": [
          "1",
          "1"
         ]
        },
        {
         "hoverinfo": "skip",
         "line": {
          "color": "#1f77b4"
         },
         "mode": "lines+markers",
         "name": "Train",
         "showlegend": false,
         "type": "scattergl",
         "x": [
          "2021-03-01T00:00:00",
          "2021-04-01T00:00:00"
         ],
         "y": [
          "1",
          "1"
         ]
        },
        {
         "hoverinfo": "skip",
         "line": {
          "color": "#1f77b4"
         },
         "mode": "lines+markers",
         "name": "Train",
         "showlegend": false,
         "type": "scattergl",
         "x": [
          "2021-04-01T00:00:00",
          "2021-05-01T00:00:00"
         ],
         "y": [
          "1",
          "1"
         ]
        },
        {
         "hoverinfo": "skip",
         "line": {
          "color": "#1f77b4"
         },
         "mode": "lines+markers",
         "name": "Train",
         "showlegend": false,
         "type": "scattergl",
         "x": [
          "2021-05-01T00:00:00",
          "2021-06-01T00:00:00"
         ],
         "y": [
          "1",
          "1"
         ]
        },
        {
         "hoverinfo": "skip",
         "line": {
          "color": "#1f77b4"
         },
         "mode": "lines+markers",
         "name": "Train",
         "showlegend": false,
         "type": "scattergl",
         "x": [
          "2021-06-01T00:00:00",
          "2021-07-01T00:00:00"
         ],
         "y": [
          "1",
          "1"
         ]
        },
        {
         "hoverinfo": "skip",
         "line": {
          "color": "#1f77b4"
         },
         "mode": "lines+markers",
         "name": "Train",
         "showlegend": false,
         "type": "scattergl",
         "x": [
          "2021-07-01T00:00:00",
          "2021-08-01T00:00:00"
         ],
         "y": [
          "1",
          "1"
         ]
        },
        {
         "hoverinfo": "skip",
         "line": {
          "color": "#1f77b4"
         },
         "mode": "lines+markers",
         "name": "Train",
         "showlegend": false,
         "type": "scattergl",
         "x": [
          "2021-08-01T00:00:00",
          "2021-09-01T00:00:00"
         ],
         "y": [
          "1",
          "1"
         ]
        },
        {
         "hoverinfo": "skip",
         "line": {
          "color": "#1f77b4"
         },
         "mode": "lines+markers",
         "name": "Train",
         "showlegend": false,
         "type": "scattergl",
         "x": [
          "2021-09-01T00:00:00",
          "2021-10-01T00:00:00"
         ],
         "y": [
          "1",
          "1"
         ]
        },
        {
         "hoverinfo": "skip",
         "line": {
          "color": "#1f77b4"
         },
         "mode": "lines+markers",
         "name": "Train",
         "showlegend": false,
         "type": "scattergl",
         "x": [
          "2021-10-01T00:00:00",
          "2021-11-01T00:00:00"
         ],
         "y": [
          "1",
          "1"
         ]
        },
        {
         "hoverinfo": "skip",
         "line": {
          "color": "#1f77b4"
         },
         "mode": "lines+markers",
         "name": "Train",
         "showlegend": false,
         "type": "scattergl",
         "x": [
          "2021-11-01T00:00:00",
          "2021-12-01T00:00:00"
         ],
         "y": [
          "1",
          "1"
         ]
        },
        {
         "hoverinfo": "skip",
         "line": {
          "color": "#1f77b4"
         },
         "mode": "lines+markers",
         "name": "Train",
         "showlegend": false,
         "type": "scattergl",
         "x": [
          "2021-12-01T00:00:00",
          "2022-01-01T00:00:00"
         ],
         "y": [
          "1",
          "1"
         ]
        },
        {
         "hoverinfo": "skip",
         "line": {
          "color": "#1f77b4"
         },
         "mode": "lines+markers",
         "name": "Train",
         "showlegend": false,
         "type": "scattergl",
         "x": [
          "2022-01-01T00:00:00",
          "2022-02-01T00:00:00"
         ],
         "y": [
          "1",
          "1"
         ]
        },
        {
         "hoverinfo": "skip",
         "line": {
          "color": "#1f77b4"
         },
         "mode": "lines+markers",
         "name": "Train",
         "showlegend": false,
         "type": "scattergl",
         "x": [
          "2022-02-01T00:00:00",
          "2022-03-01T00:00:00"
         ],
         "y": [
          "1",
          "1"
         ]
        },
        {
         "hoverinfo": "skip",
         "line": {
          "color": "#1f77b4"
         },
         "mode": "lines+markers",
         "name": "Train",
         "showlegend": false,
         "type": "scattergl",
         "x": [
          "2022-03-01T00:00:00",
          "2022-04-01T00:00:00"
         ],
         "y": [
          "1",
          "1"
         ]
        },
        {
         "hoverinfo": "skip",
         "line": {
          "color": "#1f77b4"
         },
         "mode": "lines+markers",
         "name": "Train",
         "showlegend": false,
         "type": "scattergl",
         "x": [
          "2022-04-01T00:00:00",
          "2022-05-01T00:00:00"
         ],
         "y": [
          "1",
          "1"
         ]
        },
        {
         "hoverinfo": "skip",
         "line": {
          "color": "#1f77b4"
         },
         "mode": "lines+markers",
         "name": "Train",
         "showlegend": false,
         "type": "scattergl",
         "x": [
          "2022-05-01T00:00:00",
          "2022-06-01T00:00:00"
         ],
         "y": [
          "1",
          "1"
         ]
        },
        {
         "hoverinfo": "skip",
         "line": {
          "color": "#1f77b4"
         },
         "mode": "lines+markers",
         "name": "Train",
         "showlegend": false,
         "type": "scattergl",
         "x": [
          "2022-06-01T00:00:00",
          "2022-07-01T00:00:00"
         ],
         "y": [
          "1",
          "1"
         ]
        },
        {
         "hoverinfo": "skip",
         "line": {
          "color": "#1f77b4"
         },
         "mode": "lines+markers",
         "name": "Train",
         "showlegend": false,
         "type": "scattergl",
         "x": [
          "2022-07-01T00:00:00",
          "2022-08-01T00:00:00"
         ],
         "y": [
          "1",
          "1"
         ]
        },
        {
         "hoverinfo": "skip",
         "line": {
          "color": "#1f77b4"
         },
         "mode": "lines+markers",
         "name": "Train",
         "showlegend": false,
         "type": "scattergl",
         "x": [
          "2022-08-01T00:00:00",
          "2022-09-01T00:00:00"
         ],
         "y": [
          "1",
          "1"
         ]
        },
        {
         "hoverinfo": "skip",
         "line": {
          "color": "#1f77b4"
         },
         "mode": "lines+markers",
         "name": "Train",
         "showlegend": false,
         "type": "scattergl",
         "x": [
          "2022-09-01T00:00:00",
          "2022-10-01T00:00:00"
         ],
         "y": [
          "1",
          "1"
         ]
        },
        {
         "hoverinfo": "skip",
         "line": {
          "color": "#1f77b4"
         },
         "mode": "lines+markers",
         "name": "Train",
         "showlegend": false,
         "type": "scattergl",
         "x": [
          "2022-10-01T00:00:00",
          "2022-11-01T00:00:00"
         ],
         "y": [
          "1",
          "1"
         ]
        },
        {
         "hoverinfo": "skip",
         "line": {
          "color": "#1f77b4"
         },
         "mode": "lines+markers",
         "name": "Train",
         "showlegend": false,
         "type": "scattergl",
         "x": [
          "2022-11-01T00:00:00",
          "2022-12-01T00:00:00"
         ],
         "y": [
          "1",
          "1"
         ]
        },
        {
         "hoverinfo": "skip",
         "line": {
          "color": "#1f77b4"
         },
         "mode": "lines+markers",
         "name": "Train",
         "showlegend": false,
         "type": "scattergl",
         "x": [
          "2022-12-01T00:00:00",
          "2023-01-01T00:00:00"
         ],
         "y": [
          "1",
          "1"
         ]
        },
        {
         "hoverinfo": "skip",
         "line": {
          "color": "#1f77b4"
         },
         "mode": "lines+markers",
         "name": "Train",
         "showlegend": false,
         "type": "scattergl",
         "x": [
          "2023-01-01T00:00:00",
          "2023-02-01T00:00:00"
         ],
         "y": [
          "1",
          "1"
         ]
        },
        {
         "hoverinfo": "skip",
         "line": {
          "color": "#1f77b4"
         },
         "mode": "lines+markers",
         "name": "Train",
         "showlegend": false,
         "type": "scattergl",
         "x": [
          "2023-02-01T00:00:00",
          "2023-03-01T00:00:00"
         ],
         "y": [
          "1",
          "1"
         ]
        },
        {
         "hoverinfo": "skip",
         "line": {
          "color": "#1f77b4"
         },
         "mode": "lines+markers",
         "name": "Train",
         "showlegend": false,
         "type": "scattergl",
         "x": [
          "2023-03-01T00:00:00",
          "2023-04-01T00:00:00"
         ],
         "y": [
          "1",
          "1"
         ]
        },
        {
         "hoverinfo": "skip",
         "line": {
          "color": "#1f77b4"
         },
         "mode": "lines+markers",
         "name": "Train",
         "showlegend": false,
         "type": "scattergl",
         "x": [
          "2023-04-01T00:00:00",
          "2023-05-01T00:00:00"
         ],
         "y": [
          "1",
          "1"
         ]
        },
        {
         "hoverinfo": "skip",
         "line": {
          "color": "#1f77b4"
         },
         "mode": "lines+markers",
         "name": "Train",
         "showlegend": false,
         "type": "scattergl",
         "x": [
          "2023-05-01T00:00:00",
          "2023-06-01T00:00:00"
         ],
         "y": [
          "1",
          "1"
         ]
        },
        {
         "hoverinfo": "skip",
         "line": {
          "color": "#1f77b4"
         },
         "mode": "lines+markers",
         "name": "Train",
         "showlegend": false,
         "type": "scattergl",
         "x": [
          "2023-06-01T00:00:00",
          "2023-07-01T00:00:00"
         ],
         "y": [
          "1",
          "1"
         ]
        },
        {
         "hoverinfo": "skip",
         "line": {
          "color": "#1f77b4"
         },
         "mode": "lines+markers",
         "name": "Train",
         "showlegend": false,
         "type": "scattergl",
         "x": [
          "2023-07-01T00:00:00",
          "2023-08-01T00:00:00"
         ],
         "y": [
          "1",
          "1"
         ]
        },
        {
         "hoverinfo": "skip",
         "line": {
          "color": "#DE970B"
         },
         "mode": "lines+markers",
         "name": "ForecastHorizon",
         "showlegend": false,
         "type": "scattergl",
         "x": [
          "2023-09-01T00:00:00",
          "2023-10-01T00:00:00"
         ],
         "y": [
          "1",
          "1"
         ]
        },
        {
         "hoverinfo": "skip",
         "line": {
          "color": "#DE970B"
         },
         "mode": "lines+markers",
         "name": "ForecastHorizon",
         "showlegend": false,
         "type": "scattergl",
         "x": [
          "2023-10-01T00:00:00",
          "2023-11-01T00:00:00"
         ],
         "y": [
          "1",
          "1"
         ]
        },
        {
         "hoverinfo": "skip",
         "line": {
          "color": "#DE970B"
         },
         "mode": "lines+markers",
         "name": "ForecastHorizon",
         "showlegend": false,
         "type": "scattergl",
         "x": [
          "2023-11-01T00:00:00",
          "2023-12-01T00:00:00"
         ],
         "y": [
          "1",
          "1"
         ]
        },
        {
         "hoverinfo": "skip",
         "line": {
          "color": "#C0C0C0"
         },
         "mode": "lines+markers",
         "name": "Unchanged",
         "showlegend": false,
         "type": "scattergl",
         "x": [
          "2020-01-01T00:00:00",
          "2020-02-01T00:00:00"
         ],
         "y": [
          "0",
          "0"
         ]
        },
        {
         "hoverinfo": "skip",
         "line": {
          "color": "#C0C0C0"
         },
         "mode": "lines+markers",
         "name": "Unchanged",
         "showlegend": false,
         "type": "scattergl",
         "x": [
          "2020-02-01T00:00:00",
          "2020-03-01T00:00:00"
         ],
         "y": [
          "0",
          "0"
         ]
        },
        {
         "hoverinfo": "skip",
         "line": {
          "color": "#C0C0C0"
         },
         "mode": "lines+markers",
         "name": "Unchanged",
         "showlegend": false,
         "type": "scattergl",
         "x": [
          "2020-03-01T00:00:00",
          "2020-04-01T00:00:00"
         ],
         "y": [
          "0",
          "0"
         ]
        },
        {
         "hoverinfo": "skip",
         "line": {
          "color": "#C0C0C0"
         },
         "mode": "lines+markers",
         "name": "Unchanged",
         "showlegend": false,
         "type": "scattergl",
         "x": [
          "2020-04-01T00:00:00",
          "2020-05-01T00:00:00"
         ],
         "y": [
          "0",
          "0"
         ]
        },
        {
         "hoverinfo": "skip",
         "line": {
          "color": "#C0C0C0"
         },
         "mode": "lines+markers",
         "name": "Unchanged",
         "showlegend": false,
         "type": "scattergl",
         "x": [
          "2020-05-01T00:00:00",
          "2020-06-01T00:00:00"
         ],
         "y": [
          "0",
          "0"
         ]
        },
        {
         "hoverinfo": "skip",
         "line": {
          "color": "#C0C0C0"
         },
         "mode": "lines+markers",
         "name": "Unchanged",
         "showlegend": false,
         "type": "scattergl",
         "x": [
          "2020-06-01T00:00:00",
          "2020-07-01T00:00:00"
         ],
         "y": [
          "0",
          "0"
         ]
        },
        {
         "hoverinfo": "skip",
         "line": {
          "color": "#C0C0C0"
         },
         "mode": "lines+markers",
         "name": "Unchanged",
         "showlegend": false,
         "type": "scattergl",
         "x": [
          "2020-07-01T00:00:00",
          "2020-08-01T00:00:00"
         ],
         "y": [
          "0",
          "0"
         ]
        },
        {
         "hoverinfo": "skip",
         "line": {
          "color": "#C0C0C0"
         },
         "mode": "lines+markers",
         "name": "Unchanged",
         "showlegend": false,
         "type": "scattergl",
         "x": [
          "2020-08-01T00:00:00",
          "2020-09-01T00:00:00"
         ],
         "y": [
          "0",
          "0"
         ]
        },
        {
         "hoverinfo": "skip",
         "line": {
          "color": "#C0C0C0"
         },
         "mode": "lines+markers",
         "name": "Unchanged",
         "showlegend": false,
         "type": "scattergl",
         "x": [
          "2020-09-01T00:00:00",
          "2020-10-01T00:00:00"
         ],
         "y": [
          "0",
          "0"
         ]
        },
        {
         "hoverinfo": "skip",
         "line": {
          "color": "#C0C0C0"
         },
         "mode": "lines+markers",
         "name": "Unchanged",
         "showlegend": false,
         "type": "scattergl",
         "x": [
          "2020-10-01T00:00:00",
          "2020-11-01T00:00:00"
         ],
         "y": [
          "0",
          "0"
         ]
        },
        {
         "hoverinfo": "skip",
         "line": {
          "color": "#C0C0C0"
         },
         "mode": "lines+markers",
         "name": "Unchanged",
         "showlegend": false,
         "type": "scattergl",
         "x": [
          "2020-11-01T00:00:00",
          "2020-12-01T00:00:00"
         ],
         "y": [
          "0",
          "0"
         ]
        },
        {
         "hoverinfo": "skip",
         "line": {
          "color": "#C0C0C0"
         },
         "mode": "lines+markers",
         "name": "Unchanged",
         "showlegend": false,
         "type": "scattergl",
         "x": [
          "2020-12-01T00:00:00",
          "2021-01-01T00:00:00"
         ],
         "y": [
          "0",
          "0"
         ]
        },
        {
         "hoverinfo": "skip",
         "line": {
          "color": "#C0C0C0"
         },
         "mode": "lines+markers",
         "name": "Unchanged",
         "showlegend": false,
         "type": "scattergl",
         "x": [
          "2021-01-01T00:00:00",
          "2021-02-01T00:00:00"
         ],
         "y": [
          "0",
          "0"
         ]
        },
        {
         "hoverinfo": "skip",
         "line": {
          "color": "#C0C0C0"
         },
         "mode": "lines+markers",
         "name": "Unchanged",
         "showlegend": false,
         "type": "scattergl",
         "x": [
          "2021-02-01T00:00:00",
          "2021-03-01T00:00:00"
         ],
         "y": [
          "0",
          "0"
         ]
        },
        {
         "hoverinfo": "skip",
         "line": {
          "color": "#C0C0C0"
         },
         "mode": "lines+markers",
         "name": "Unchanged",
         "showlegend": false,
         "type": "scattergl",
         "x": [
          "2021-03-01T00:00:00",
          "2021-04-01T00:00:00"
         ],
         "y": [
          "0",
          "0"
         ]
        },
        {
         "hoverinfo": "skip",
         "line": {
          "color": "#C0C0C0"
         },
         "mode": "lines+markers",
         "name": "Unchanged",
         "showlegend": false,
         "type": "scattergl",
         "x": [
          "2021-04-01T00:00:00",
          "2021-05-01T00:00:00"
         ],
         "y": [
          "0",
          "0"
         ]
        },
        {
         "hoverinfo": "skip",
         "line": {
          "color": "#C0C0C0"
         },
         "mode": "lines+markers",
         "name": "Unchanged",
         "showlegend": false,
         "type": "scattergl",
         "x": [
          "2021-05-01T00:00:00",
          "2021-06-01T00:00:00"
         ],
         "y": [
          "0",
          "0"
         ]
        },
        {
         "hoverinfo": "skip",
         "line": {
          "color": "#C0C0C0"
         },
         "mode": "lines+markers",
         "name": "Unchanged",
         "showlegend": false,
         "type": "scattergl",
         "x": [
          "2021-06-01T00:00:00",
          "2021-07-01T00:00:00"
         ],
         "y": [
          "0",
          "0"
         ]
        },
        {
         "hoverinfo": "skip",
         "line": {
          "color": "#C0C0C0"
         },
         "mode": "lines+markers",
         "name": "Unchanged",
         "showlegend": false,
         "type": "scattergl",
         "x": [
          "2021-07-01T00:00:00",
          "2021-08-01T00:00:00"
         ],
         "y": [
          "0",
          "0"
         ]
        },
        {
         "hoverinfo": "skip",
         "line": {
          "color": "#C0C0C0"
         },
         "mode": "lines+markers",
         "name": "Unchanged",
         "showlegend": false,
         "type": "scattergl",
         "x": [
          "2021-08-01T00:00:00",
          "2021-09-01T00:00:00"
         ],
         "y": [
          "0",
          "0"
         ]
        },
        {
         "hoverinfo": "skip",
         "line": {
          "color": "#C0C0C0"
         },
         "mode": "lines+markers",
         "name": "Unchanged",
         "showlegend": false,
         "type": "scattergl",
         "x": [
          "2021-09-01T00:00:00",
          "2021-10-01T00:00:00"
         ],
         "y": [
          "0",
          "0"
         ]
        },
        {
         "hoverinfo": "skip",
         "line": {
          "color": "#C0C0C0"
         },
         "mode": "lines+markers",
         "name": "Unchanged",
         "showlegend": false,
         "type": "scattergl",
         "x": [
          "2021-10-01T00:00:00",
          "2021-11-01T00:00:00"
         ],
         "y": [
          "0",
          "0"
         ]
        },
        {
         "hoverinfo": "skip",
         "line": {
          "color": "#C0C0C0"
         },
         "mode": "lines+markers",
         "name": "Unchanged",
         "showlegend": false,
         "type": "scattergl",
         "x": [
          "2021-11-01T00:00:00",
          "2021-12-01T00:00:00"
         ],
         "y": [
          "0",
          "0"
         ]
        },
        {
         "hoverinfo": "skip",
         "line": {
          "color": "#C0C0C0"
         },
         "mode": "lines+markers",
         "name": "Unchanged",
         "showlegend": false,
         "type": "scattergl",
         "x": [
          "2021-12-01T00:00:00",
          "2022-01-01T00:00:00"
         ],
         "y": [
          "0",
          "0"
         ]
        },
        {
         "hoverinfo": "skip",
         "line": {
          "color": "#C0C0C0"
         },
         "mode": "lines+markers",
         "name": "Unchanged",
         "showlegend": false,
         "type": "scattergl",
         "x": [
          "2022-01-01T00:00:00",
          "2022-02-01T00:00:00"
         ],
         "y": [
          "0",
          "0"
         ]
        },
        {
         "hoverinfo": "skip",
         "line": {
          "color": "#C0C0C0"
         },
         "mode": "lines+markers",
         "name": "Unchanged",
         "showlegend": false,
         "type": "scattergl",
         "x": [
          "2022-02-01T00:00:00",
          "2022-03-01T00:00:00"
         ],
         "y": [
          "0",
          "0"
         ]
        },
        {
         "hoverinfo": "skip",
         "line": {
          "color": "#C0C0C0"
         },
         "mode": "lines+markers",
         "name": "Unchanged",
         "showlegend": false,
         "type": "scattergl",
         "x": [
          "2022-03-01T00:00:00",
          "2022-04-01T00:00:00"
         ],
         "y": [
          "0",
          "0"
         ]
        },
        {
         "hoverinfo": "skip",
         "line": {
          "color": "#C0C0C0"
         },
         "mode": "lines+markers",
         "name": "Unchanged",
         "showlegend": false,
         "type": "scattergl",
         "x": [
          "2022-04-01T00:00:00",
          "2022-05-01T00:00:00"
         ],
         "y": [
          "0",
          "0"
         ]
        },
        {
         "hoverinfo": "skip",
         "line": {
          "color": "#C0C0C0"
         },
         "mode": "lines+markers",
         "name": "Unchanged",
         "showlegend": false,
         "type": "scattergl",
         "x": [
          "2022-05-01T00:00:00",
          "2022-06-01T00:00:00"
         ],
         "y": [
          "0",
          "0"
         ]
        },
        {
         "hoverinfo": "skip",
         "line": {
          "color": "#C0C0C0"
         },
         "mode": "lines+markers",
         "name": "Unchanged",
         "showlegend": false,
         "type": "scattergl",
         "x": [
          "2022-06-01T00:00:00",
          "2022-07-01T00:00:00"
         ],
         "y": [
          "0",
          "0"
         ]
        },
        {
         "hoverinfo": "skip",
         "line": {
          "color": "#C0C0C0"
         },
         "mode": "lines+markers",
         "name": "Unchanged",
         "showlegend": false,
         "type": "scattergl",
         "x": [
          "2022-07-01T00:00:00",
          "2022-08-01T00:00:00"
         ],
         "y": [
          "0",
          "0"
         ]
        },
        {
         "hoverinfo": "skip",
         "line": {
          "color": "#C0C0C0"
         },
         "mode": "lines+markers",
         "name": "Unchanged",
         "showlegend": false,
         "type": "scattergl",
         "x": [
          "2022-08-01T00:00:00",
          "2022-09-01T00:00:00"
         ],
         "y": [
          "0",
          "0"
         ]
        },
        {
         "hoverinfo": "skip",
         "line": {
          "color": "#C0C0C0"
         },
         "mode": "lines+markers",
         "name": "Unchanged",
         "showlegend": false,
         "type": "scattergl",
         "x": [
          "2022-09-01T00:00:00",
          "2022-10-01T00:00:00"
         ],
         "y": [
          "0",
          "0"
         ]
        },
        {
         "hoverinfo": "skip",
         "line": {
          "color": "#C0C0C0"
         },
         "mode": "lines+markers",
         "name": "Unchanged",
         "showlegend": false,
         "type": "scattergl",
         "x": [
          "2022-10-01T00:00:00",
          "2022-11-01T00:00:00"
         ],
         "y": [
          "0",
          "0"
         ]
        },
        {
         "hoverinfo": "skip",
         "line": {
          "color": "#C0C0C0"
         },
         "mode": "lines+markers",
         "name": "Unchanged",
         "showlegend": false,
         "type": "scattergl",
         "x": [
          "2022-11-01T00:00:00",
          "2022-12-01T00:00:00"
         ],
         "y": [
          "0",
          "0"
         ]
        },
        {
         "hoverinfo": "skip",
         "line": {
          "color": "#C0C0C0"
         },
         "mode": "lines+markers",
         "name": "Unchanged",
         "showlegend": false,
         "type": "scattergl",
         "x": [
          "2022-12-01T00:00:00",
          "2023-01-01T00:00:00"
         ],
         "y": [
          "0",
          "0"
         ]
        },
        {
         "hoverinfo": "skip",
         "line": {
          "color": "#C0C0C0"
         },
         "mode": "lines+markers",
         "name": "Unchanged",
         "showlegend": false,
         "type": "scattergl",
         "x": [
          "2023-01-01T00:00:00",
          "2023-02-01T00:00:00"
         ],
         "y": [
          "0",
          "0"
         ]
        },
        {
         "hoverinfo": "skip",
         "line": {
          "color": "#C0C0C0"
         },
         "mode": "lines+markers",
         "name": "Unchanged",
         "showlegend": false,
         "type": "scattergl",
         "x": [
          "2023-02-01T00:00:00",
          "2023-03-01T00:00:00"
         ],
         "y": [
          "0",
          "0"
         ]
        },
        {
         "hoverinfo": "skip",
         "line": {
          "color": "#C0C0C0"
         },
         "mode": "lines+markers",
         "name": "Unchanged",
         "showlegend": false,
         "type": "scattergl",
         "x": [
          "2023-03-01T00:00:00",
          "2023-04-01T00:00:00"
         ],
         "y": [
          "0",
          "0"
         ]
        },
        {
         "hoverinfo": "skip",
         "line": {
          "color": "#C0C0C0"
         },
         "mode": "lines+markers",
         "name": "Unchanged",
         "showlegend": false,
         "type": "scattergl",
         "x": [
          "2023-04-01T00:00:00",
          "2023-05-01T00:00:00"
         ],
         "y": [
          "0",
          "0"
         ]
        },
        {
         "hoverinfo": "skip",
         "line": {
          "color": "#C0C0C0"
         },
         "mode": "lines+markers",
         "name": "Unchanged",
         "showlegend": false,
         "type": "scattergl",
         "x": [
          "2023-05-01T00:00:00",
          "2023-06-01T00:00:00"
         ],
         "y": [
          "0",
          "0"
         ]
        },
        {
         "hoverinfo": "skip",
         "line": {
          "color": "#C0C0C0"
         },
         "mode": "lines+markers",
         "name": "Unchanged",
         "showlegend": false,
         "type": "scattergl",
         "x": [
          "2023-06-01T00:00:00",
          "2023-07-01T00:00:00"
         ],
         "y": [
          "0",
          "0"
         ]
        },
        {
         "hoverinfo": "skip",
         "line": {
          "color": "#C0C0C0"
         },
         "mode": "lines+markers",
         "name": "Unchanged",
         "showlegend": false,
         "type": "scattergl",
         "x": [
          "2023-07-01T00:00:00",
          "2023-08-01T00:00:00"
         ],
         "y": [
          "0",
          "0"
         ]
        },
        {
         "hoverinfo": "skip",
         "line": {
          "color": "#C0C0C0"
         },
         "mode": "lines+markers",
         "name": "Unchanged",
         "showlegend": false,
         "type": "scattergl",
         "x": [
          "2023-08-01T00:00:00",
          "2023-09-01T00:00:00"
         ],
         "y": [
          "0",
          "0"
         ]
        },
        {
         "hoverinfo": "skip",
         "line": {
          "color": "#C0C0C0"
         },
         "mode": "lines+markers",
         "name": "Unchanged",
         "showlegend": false,
         "type": "scattergl",
         "x": [
          "2023-09-01T00:00:00",
          "2023-10-01T00:00:00"
         ],
         "y": [
          "0",
          "0"
         ]
        },
        {
         "hoverinfo": "skip",
         "line": {
          "color": "#C0C0C0"
         },
         "mode": "lines+markers",
         "name": "Unchanged",
         "showlegend": false,
         "type": "scattergl",
         "x": [
          "2023-10-01T00:00:00",
          "2023-11-01T00:00:00"
         ],
         "y": [
          "0",
          "0"
         ]
        },
        {
         "hoverinfo": "skip",
         "line": {
          "color": "#C0C0C0"
         },
         "mode": "lines+markers",
         "name": "Unchanged",
         "showlegend": false,
         "type": "scattergl",
         "x": [
          "2023-11-01T00:00:00",
          "2023-12-01T00:00:00"
         ],
         "y": [
          "0",
          "0"
         ]
        },
        {
         "hoverinfo": "skip",
         "line": {
          "color": "#C0C0C0"
         },
         "mode": "lines+markers",
         "name": "Unchanged",
         "showlegend": false,
         "type": "scattergl",
         "x": [
          "2023-12-01T00:00:00",
          "2024-01-01T00:00:00"
         ],
         "y": [
          "0",
          "0"
         ]
        },
        {
         "hoverinfo": "skip",
         "line": {
          "color": "#C0C0C0"
         },
         "mode": "lines+markers",
         "name": "Unchanged",
         "showlegend": false,
         "type": "scattergl",
         "x": [
          "2024-01-01T00:00:00",
          "2024-02-01T00:00:00"
         ],
         "y": [
          "0",
          "0"
         ]
        },
        {
         "hoverinfo": "skip",
         "line": {
          "color": "#C0C0C0"
         },
         "mode": "lines+markers",
         "name": "Unchanged",
         "showlegend": false,
         "type": "scattergl",
         "x": [
          "2024-02-01T00:00:00",
          "2024-03-01T00:00:00"
         ],
         "y": [
          "0",
          "0"
         ]
        },
        {
         "hoverinfo": "skip",
         "line": {
          "color": "#C0C0C0"
         },
         "mode": "lines+markers",
         "name": "Unchanged",
         "showlegend": false,
         "type": "scattergl",
         "x": [
          "2024-03-01T00:00:00",
          "2024-04-01T00:00:00"
         ],
         "y": [
          "0",
          "0"
         ]
        },
        {
         "hoverinfo": "skip",
         "line": {
          "color": "#1f77b4"
         },
         "mode": "lines+markers",
         "name": "Train",
         "showlegend": false,
         "type": "scattergl",
         "x": [
          "2020-01-01T00:00:00",
          "2020-02-01T00:00:00"
         ],
         "y": [
          "0",
          "0"
         ]
        },
        {
         "hoverinfo": "skip",
         "line": {
          "color": "#1f77b4"
         },
         "mode": "lines+markers",
         "name": "Train",
         "showlegend": false,
         "type": "scattergl",
         "x": [
          "2020-02-01T00:00:00",
          "2020-03-01T00:00:00"
         ],
         "y": [
          "0",
          "0"
         ]
        },
        {
         "hoverinfo": "skip",
         "line": {
          "color": "#1f77b4"
         },
         "mode": "lines+markers",
         "name": "Train",
         "showlegend": false,
         "type": "scattergl",
         "x": [
          "2020-03-01T00:00:00",
          "2020-04-01T00:00:00"
         ],
         "y": [
          "0",
          "0"
         ]
        },
        {
         "hoverinfo": "skip",
         "line": {
          "color": "#1f77b4"
         },
         "mode": "lines+markers",
         "name": "Train",
         "showlegend": false,
         "type": "scattergl",
         "x": [
          "2020-04-01T00:00:00",
          "2020-05-01T00:00:00"
         ],
         "y": [
          "0",
          "0"
         ]
        },
        {
         "hoverinfo": "skip",
         "line": {
          "color": "#1f77b4"
         },
         "mode": "lines+markers",
         "name": "Train",
         "showlegend": false,
         "type": "scattergl",
         "x": [
          "2020-05-01T00:00:00",
          "2020-06-01T00:00:00"
         ],
         "y": [
          "0",
          "0"
         ]
        },
        {
         "hoverinfo": "skip",
         "line": {
          "color": "#1f77b4"
         },
         "mode": "lines+markers",
         "name": "Train",
         "showlegend": false,
         "type": "scattergl",
         "x": [
          "2020-06-01T00:00:00",
          "2020-07-01T00:00:00"
         ],
         "y": [
          "0",
          "0"
         ]
        },
        {
         "hoverinfo": "skip",
         "line": {
          "color": "#1f77b4"
         },
         "mode": "lines+markers",
         "name": "Train",
         "showlegend": false,
         "type": "scattergl",
         "x": [
          "2020-07-01T00:00:00",
          "2020-08-01T00:00:00"
         ],
         "y": [
          "0",
          "0"
         ]
        },
        {
         "hoverinfo": "skip",
         "line": {
          "color": "#1f77b4"
         },
         "mode": "lines+markers",
         "name": "Train",
         "showlegend": false,
         "type": "scattergl",
         "x": [
          "2020-08-01T00:00:00",
          "2020-09-01T00:00:00"
         ],
         "y": [
          "0",
          "0"
         ]
        },
        {
         "hoverinfo": "skip",
         "line": {
          "color": "#1f77b4"
         },
         "mode": "lines+markers",
         "name": "Train",
         "showlegend": false,
         "type": "scattergl",
         "x": [
          "2020-09-01T00:00:00",
          "2020-10-01T00:00:00"
         ],
         "y": [
          "0",
          "0"
         ]
        },
        {
         "hoverinfo": "skip",
         "line": {
          "color": "#1f77b4"
         },
         "mode": "lines+markers",
         "name": "Train",
         "showlegend": false,
         "type": "scattergl",
         "x": [
          "2020-10-01T00:00:00",
          "2020-11-01T00:00:00"
         ],
         "y": [
          "0",
          "0"
         ]
        },
        {
         "hoverinfo": "skip",
         "line": {
          "color": "#1f77b4"
         },
         "mode": "lines+markers",
         "name": "Train",
         "showlegend": false,
         "type": "scattergl",
         "x": [
          "2020-11-01T00:00:00",
          "2020-12-01T00:00:00"
         ],
         "y": [
          "0",
          "0"
         ]
        },
        {
         "hoverinfo": "skip",
         "line": {
          "color": "#1f77b4"
         },
         "mode": "lines+markers",
         "name": "Train",
         "showlegend": false,
         "type": "scattergl",
         "x": [
          "2020-12-01T00:00:00",
          "2021-01-01T00:00:00"
         ],
         "y": [
          "0",
          "0"
         ]
        },
        {
         "hoverinfo": "skip",
         "line": {
          "color": "#1f77b4"
         },
         "mode": "lines+markers",
         "name": "Train",
         "showlegend": false,
         "type": "scattergl",
         "x": [
          "2021-01-01T00:00:00",
          "2021-02-01T00:00:00"
         ],
         "y": [
          "0",
          "0"
         ]
        },
        {
         "hoverinfo": "skip",
         "line": {
          "color": "#1f77b4"
         },
         "mode": "lines+markers",
         "name": "Train",
         "showlegend": false,
         "type": "scattergl",
         "x": [
          "2021-02-01T00:00:00",
          "2021-03-01T00:00:00"
         ],
         "y": [
          "0",
          "0"
         ]
        },
        {
         "hoverinfo": "skip",
         "line": {
          "color": "#1f77b4"
         },
         "mode": "lines+markers",
         "name": "Train",
         "showlegend": false,
         "type": "scattergl",
         "x": [
          "2021-03-01T00:00:00",
          "2021-04-01T00:00:00"
         ],
         "y": [
          "0",
          "0"
         ]
        },
        {
         "hoverinfo": "skip",
         "line": {
          "color": "#1f77b4"
         },
         "mode": "lines+markers",
         "name": "Train",
         "showlegend": false,
         "type": "scattergl",
         "x": [
          "2021-04-01T00:00:00",
          "2021-05-01T00:00:00"
         ],
         "y": [
          "0",
          "0"
         ]
        },
        {
         "hoverinfo": "skip",
         "line": {
          "color": "#1f77b4"
         },
         "mode": "lines+markers",
         "name": "Train",
         "showlegend": false,
         "type": "scattergl",
         "x": [
          "2021-05-01T00:00:00",
          "2021-06-01T00:00:00"
         ],
         "y": [
          "0",
          "0"
         ]
        },
        {
         "hoverinfo": "skip",
         "line": {
          "color": "#1f77b4"
         },
         "mode": "lines+markers",
         "name": "Train",
         "showlegend": false,
         "type": "scattergl",
         "x": [
          "2021-06-01T00:00:00",
          "2021-07-01T00:00:00"
         ],
         "y": [
          "0",
          "0"
         ]
        },
        {
         "hoverinfo": "skip",
         "line": {
          "color": "#1f77b4"
         },
         "mode": "lines+markers",
         "name": "Train",
         "showlegend": false,
         "type": "scattergl",
         "x": [
          "2021-07-01T00:00:00",
          "2021-08-01T00:00:00"
         ],
         "y": [
          "0",
          "0"
         ]
        },
        {
         "hoverinfo": "skip",
         "line": {
          "color": "#1f77b4"
         },
         "mode": "lines+markers",
         "name": "Train",
         "showlegend": false,
         "type": "scattergl",
         "x": [
          "2021-08-01T00:00:00",
          "2021-09-01T00:00:00"
         ],
         "y": [
          "0",
          "0"
         ]
        },
        {
         "hoverinfo": "skip",
         "line": {
          "color": "#1f77b4"
         },
         "mode": "lines+markers",
         "name": "Train",
         "showlegend": false,
         "type": "scattergl",
         "x": [
          "2021-09-01T00:00:00",
          "2021-10-01T00:00:00"
         ],
         "y": [
          "0",
          "0"
         ]
        },
        {
         "hoverinfo": "skip",
         "line": {
          "color": "#1f77b4"
         },
         "mode": "lines+markers",
         "name": "Train",
         "showlegend": false,
         "type": "scattergl",
         "x": [
          "2021-10-01T00:00:00",
          "2021-11-01T00:00:00"
         ],
         "y": [
          "0",
          "0"
         ]
        },
        {
         "hoverinfo": "skip",
         "line": {
          "color": "#1f77b4"
         },
         "mode": "lines+markers",
         "name": "Train",
         "showlegend": false,
         "type": "scattergl",
         "x": [
          "2021-11-01T00:00:00",
          "2021-12-01T00:00:00"
         ],
         "y": [
          "0",
          "0"
         ]
        },
        {
         "hoverinfo": "skip",
         "line": {
          "color": "#1f77b4"
         },
         "mode": "lines+markers",
         "name": "Train",
         "showlegend": false,
         "type": "scattergl",
         "x": [
          "2021-12-01T00:00:00",
          "2022-01-01T00:00:00"
         ],
         "y": [
          "0",
          "0"
         ]
        },
        {
         "hoverinfo": "skip",
         "line": {
          "color": "#1f77b4"
         },
         "mode": "lines+markers",
         "name": "Train",
         "showlegend": false,
         "type": "scattergl",
         "x": [
          "2022-01-01T00:00:00",
          "2022-02-01T00:00:00"
         ],
         "y": [
          "0",
          "0"
         ]
        },
        {
         "hoverinfo": "skip",
         "line": {
          "color": "#1f77b4"
         },
         "mode": "lines+markers",
         "name": "Train",
         "showlegend": false,
         "type": "scattergl",
         "x": [
          "2022-02-01T00:00:00",
          "2022-03-01T00:00:00"
         ],
         "y": [
          "0",
          "0"
         ]
        },
        {
         "hoverinfo": "skip",
         "line": {
          "color": "#1f77b4"
         },
         "mode": "lines+markers",
         "name": "Train",
         "showlegend": false,
         "type": "scattergl",
         "x": [
          "2022-03-01T00:00:00",
          "2022-04-01T00:00:00"
         ],
         "y": [
          "0",
          "0"
         ]
        },
        {
         "hoverinfo": "skip",
         "line": {
          "color": "#1f77b4"
         },
         "mode": "lines+markers",
         "name": "Train",
         "showlegend": false,
         "type": "scattergl",
         "x": [
          "2022-04-01T00:00:00",
          "2022-05-01T00:00:00"
         ],
         "y": [
          "0",
          "0"
         ]
        },
        {
         "hoverinfo": "skip",
         "line": {
          "color": "#1f77b4"
         },
         "mode": "lines+markers",
         "name": "Train",
         "showlegend": false,
         "type": "scattergl",
         "x": [
          "2022-05-01T00:00:00",
          "2022-06-01T00:00:00"
         ],
         "y": [
          "0",
          "0"
         ]
        },
        {
         "hoverinfo": "skip",
         "line": {
          "color": "#1f77b4"
         },
         "mode": "lines+markers",
         "name": "Train",
         "showlegend": false,
         "type": "scattergl",
         "x": [
          "2022-06-01T00:00:00",
          "2022-07-01T00:00:00"
         ],
         "y": [
          "0",
          "0"
         ]
        },
        {
         "hoverinfo": "skip",
         "line": {
          "color": "#1f77b4"
         },
         "mode": "lines+markers",
         "name": "Train",
         "showlegend": false,
         "type": "scattergl",
         "x": [
          "2022-07-01T00:00:00",
          "2022-08-01T00:00:00"
         ],
         "y": [
          "0",
          "0"
         ]
        },
        {
         "hoverinfo": "skip",
         "line": {
          "color": "#1f77b4"
         },
         "mode": "lines+markers",
         "name": "Train",
         "showlegend": false,
         "type": "scattergl",
         "x": [
          "2022-08-01T00:00:00",
          "2022-09-01T00:00:00"
         ],
         "y": [
          "0",
          "0"
         ]
        },
        {
         "hoverinfo": "skip",
         "line": {
          "color": "#1f77b4"
         },
         "mode": "lines+markers",
         "name": "Train",
         "showlegend": false,
         "type": "scattergl",
         "x": [
          "2022-09-01T00:00:00",
          "2022-10-01T00:00:00"
         ],
         "y": [
          "0",
          "0"
         ]
        },
        {
         "hoverinfo": "skip",
         "line": {
          "color": "#1f77b4"
         },
         "mode": "lines+markers",
         "name": "Train",
         "showlegend": false,
         "type": "scattergl",
         "x": [
          "2022-10-01T00:00:00",
          "2022-11-01T00:00:00"
         ],
         "y": [
          "0",
          "0"
         ]
        },
        {
         "hoverinfo": "skip",
         "line": {
          "color": "#1f77b4"
         },
         "mode": "lines+markers",
         "name": "Train",
         "showlegend": false,
         "type": "scattergl",
         "x": [
          "2022-11-01T00:00:00",
          "2022-12-01T00:00:00"
         ],
         "y": [
          "0",
          "0"
         ]
        },
        {
         "hoverinfo": "skip",
         "line": {
          "color": "#1f77b4"
         },
         "mode": "lines+markers",
         "name": "Train",
         "showlegend": false,
         "type": "scattergl",
         "x": [
          "2022-12-01T00:00:00",
          "2023-01-01T00:00:00"
         ],
         "y": [
          "0",
          "0"
         ]
        },
        {
         "hoverinfo": "skip",
         "line": {
          "color": "#1f77b4"
         },
         "mode": "lines+markers",
         "name": "Train",
         "showlegend": false,
         "type": "scattergl",
         "x": [
          "2023-01-01T00:00:00",
          "2023-02-01T00:00:00"
         ],
         "y": [
          "0",
          "0"
         ]
        },
        {
         "hoverinfo": "skip",
         "line": {
          "color": "#1f77b4"
         },
         "mode": "lines+markers",
         "name": "Train",
         "showlegend": false,
         "type": "scattergl",
         "x": [
          "2023-02-01T00:00:00",
          "2023-03-01T00:00:00"
         ],
         "y": [
          "0",
          "0"
         ]
        },
        {
         "hoverinfo": "skip",
         "line": {
          "color": "#1f77b4"
         },
         "mode": "lines+markers",
         "name": "Train",
         "showlegend": false,
         "type": "scattergl",
         "x": [
          "2023-03-01T00:00:00",
          "2023-04-01T00:00:00"
         ],
         "y": [
          "0",
          "0"
         ]
        },
        {
         "hoverinfo": "skip",
         "line": {
          "color": "#DE970B"
         },
         "mode": "lines+markers",
         "name": "ForecastHorizon",
         "showlegend": false,
         "type": "scattergl",
         "x": [
          "2023-05-01T00:00:00",
          "2023-06-01T00:00:00"
         ],
         "y": [
          "0",
          "0"
         ]
        },
        {
         "hoverinfo": "skip",
         "line": {
          "color": "#DE970B"
         },
         "mode": "lines+markers",
         "name": "ForecastHorizon",
         "showlegend": false,
         "type": "scattergl",
         "x": [
          "2023-06-01T00:00:00",
          "2023-07-01T00:00:00"
         ],
         "y": [
          "0",
          "0"
         ]
        },
        {
         "hoverinfo": "skip",
         "line": {
          "color": "#DE970B"
         },
         "mode": "lines+markers",
         "name": "ForecastHorizon",
         "showlegend": false,
         "type": "scattergl",
         "x": [
          "2023-07-01T00:00:00",
          "2023-08-01T00:00:00"
         ],
         "y": [
          "0",
          "0"
         ]
        }
       ],
       "layout": {
        "showlegend": true,
        "template": {
         "data": {
          "bar": [
           {
            "error_x": {
             "color": "rgb(51,51,51)"
            },
            "error_y": {
             "color": "rgb(51,51,51)"
            },
            "marker": {
             "line": {
              "color": "rgb(237,237,237)",
              "width": 0.5
             },
             "pattern": {
              "fillmode": "overlay",
              "size": 10,
              "solidity": 0.2
             }
            },
            "type": "bar"
           }
          ],
          "barpolar": [
           {
            "marker": {
             "line": {
              "color": "rgb(237,237,237)",
              "width": 0.5
             },
             "pattern": {
              "fillmode": "overlay",
              "size": 10,
              "solidity": 0.2
             }
            },
            "type": "barpolar"
           }
          ],
          "carpet": [
           {
            "aaxis": {
             "endlinecolor": "rgb(51,51,51)",
             "gridcolor": "white",
             "linecolor": "white",
             "minorgridcolor": "white",
             "startlinecolor": "rgb(51,51,51)"
            },
            "baxis": {
             "endlinecolor": "rgb(51,51,51)",
             "gridcolor": "white",
             "linecolor": "white",
             "minorgridcolor": "white",
             "startlinecolor": "rgb(51,51,51)"
            },
            "type": "carpet"
           }
          ],
          "choropleth": [
           {
            "colorbar": {
             "outlinewidth": 0,
             "tickcolor": "rgb(237,237,237)",
             "ticklen": 6,
             "ticks": "inside"
            },
            "type": "choropleth"
           }
          ],
          "contour": [
           {
            "colorbar": {
             "outlinewidth": 0,
             "tickcolor": "rgb(237,237,237)",
             "ticklen": 6,
             "ticks": "inside"
            },
            "colorscale": [
             [
              0,
              "rgb(20,44,66)"
             ],
             [
              1,
              "rgb(90,179,244)"
             ]
            ],
            "type": "contour"
           }
          ],
          "contourcarpet": [
           {
            "colorbar": {
             "outlinewidth": 0,
             "tickcolor": "rgb(237,237,237)",
             "ticklen": 6,
             "ticks": "inside"
            },
            "type": "contourcarpet"
           }
          ],
          "heatmap": [
           {
            "colorbar": {
             "outlinewidth": 0,
             "tickcolor": "rgb(237,237,237)",
             "ticklen": 6,
             "ticks": "inside"
            },
            "colorscale": [
             [
              0,
              "rgb(20,44,66)"
             ],
             [
              1,
              "rgb(90,179,244)"
             ]
            ],
            "type": "heatmap"
           }
          ],
          "heatmapgl": [
           {
            "colorbar": {
             "outlinewidth": 0,
             "tickcolor": "rgb(237,237,237)",
             "ticklen": 6,
             "ticks": "inside"
            },
            "colorscale": [
             [
              0,
              "rgb(20,44,66)"
             ],
             [
              1,
              "rgb(90,179,244)"
             ]
            ],
            "type": "heatmapgl"
           }
          ],
          "histogram": [
           {
            "marker": {
             "pattern": {
              "fillmode": "overlay",
              "size": 10,
              "solidity": 0.2
             }
            },
            "type": "histogram"
           }
          ],
          "histogram2d": [
           {
            "colorbar": {
             "outlinewidth": 0,
             "tickcolor": "rgb(237,237,237)",
             "ticklen": 6,
             "ticks": "inside"
            },
            "colorscale": [
             [
              0,
              "rgb(20,44,66)"
             ],
             [
              1,
              "rgb(90,179,244)"
             ]
            ],
            "type": "histogram2d"
           }
          ],
          "histogram2dcontour": [
           {
            "colorbar": {
             "outlinewidth": 0,
             "tickcolor": "rgb(237,237,237)",
             "ticklen": 6,
             "ticks": "inside"
            },
            "colorscale": [
             [
              0,
              "rgb(20,44,66)"
             ],
             [
              1,
              "rgb(90,179,244)"
             ]
            ],
            "type": "histogram2dcontour"
           }
          ],
          "mesh3d": [
           {
            "colorbar": {
             "outlinewidth": 0,
             "tickcolor": "rgb(237,237,237)",
             "ticklen": 6,
             "ticks": "inside"
            },
            "type": "mesh3d"
           }
          ],
          "parcoords": [
           {
            "line": {
             "colorbar": {
              "outlinewidth": 0,
              "tickcolor": "rgb(237,237,237)",
              "ticklen": 6,
              "ticks": "inside"
             }
            },
            "type": "parcoords"
           }
          ],
          "pie": [
           {
            "automargin": true,
            "type": "pie"
           }
          ],
          "scatter": [
           {
            "fillpattern": {
             "fillmode": "overlay",
             "size": 10,
             "solidity": 0.2
            },
            "type": "scatter"
           }
          ],
          "scatter3d": [
           {
            "line": {
             "colorbar": {
              "outlinewidth": 0,
              "tickcolor": "rgb(237,237,237)",
              "ticklen": 6,
              "ticks": "inside"
             }
            },
            "marker": {
             "colorbar": {
              "outlinewidth": 0,
              "tickcolor": "rgb(237,237,237)",
              "ticklen": 6,
              "ticks": "inside"
             }
            },
            "type": "scatter3d"
           }
          ],
          "scattercarpet": [
           {
            "marker": {
             "colorbar": {
              "outlinewidth": 0,
              "tickcolor": "rgb(237,237,237)",
              "ticklen": 6,
              "ticks": "inside"
             }
            },
            "type": "scattercarpet"
           }
          ],
          "scattergeo": [
           {
            "marker": {
             "colorbar": {
              "outlinewidth": 0,
              "tickcolor": "rgb(237,237,237)",
              "ticklen": 6,
              "ticks": "inside"
             }
            },
            "type": "scattergeo"
           }
          ],
          "scattergl": [
           {
            "marker": {
             "colorbar": {
              "outlinewidth": 0,
              "tickcolor": "rgb(237,237,237)",
              "ticklen": 6,
              "ticks": "inside"
             }
            },
            "type": "scattergl"
           }
          ],
          "scattermapbox": [
           {
            "marker": {
             "colorbar": {
              "outlinewidth": 0,
              "tickcolor": "rgb(237,237,237)",
              "ticklen": 6,
              "ticks": "inside"
             }
            },
            "type": "scattermapbox"
           }
          ],
          "scatterpolar": [
           {
            "marker": {
             "colorbar": {
              "outlinewidth": 0,
              "tickcolor": "rgb(237,237,237)",
              "ticklen": 6,
              "ticks": "inside"
             }
            },
            "type": "scatterpolar"
           }
          ],
          "scatterpolargl": [
           {
            "marker": {
             "colorbar": {
              "outlinewidth": 0,
              "tickcolor": "rgb(237,237,237)",
              "ticklen": 6,
              "ticks": "inside"
             }
            },
            "type": "scatterpolargl"
           }
          ],
          "scatterternary": [
           {
            "marker": {
             "colorbar": {
              "outlinewidth": 0,
              "tickcolor": "rgb(237,237,237)",
              "ticklen": 6,
              "ticks": "inside"
             }
            },
            "type": "scatterternary"
           }
          ],
          "surface": [
           {
            "colorbar": {
             "outlinewidth": 0,
             "tickcolor": "rgb(237,237,237)",
             "ticklen": 6,
             "ticks": "inside"
            },
            "colorscale": [
             [
              0,
              "rgb(20,44,66)"
             ],
             [
              1,
              "rgb(90,179,244)"
             ]
            ],
            "type": "surface"
           }
          ],
          "table": [
           {
            "cells": {
             "fill": {
              "color": "rgb(237,237,237)"
             },
             "line": {
              "color": "white"
             }
            },
            "header": {
             "fill": {
              "color": "rgb(217,217,217)"
             },
             "line": {
              "color": "white"
             }
            },
            "type": "table"
           }
          ]
         },
         "layout": {
          "annotationdefaults": {
           "arrowhead": 0,
           "arrowwidth": 1
          },
          "autotypenumbers": "strict",
          "coloraxis": {
           "colorbar": {
            "outlinewidth": 0,
            "tickcolor": "rgb(237,237,237)",
            "ticklen": 6,
            "ticks": "inside"
           }
          },
          "colorscale": {
           "sequential": [
            [
             0,
             "rgb(20,44,66)"
            ],
            [
             1,
             "rgb(90,179,244)"
            ]
           ],
           "sequentialminus": [
            [
             0,
             "rgb(20,44,66)"
            ],
            [
             1,
             "rgb(90,179,244)"
            ]
           ]
          },
          "colorway": [
           "#F8766D",
           "#A3A500",
           "#00BF7D",
           "#00B0F6",
           "#E76BF3"
          ],
          "font": {
           "color": "rgb(51,51,51)"
          },
          "geo": {
           "bgcolor": "white",
           "lakecolor": "white",
           "landcolor": "rgb(237,237,237)",
           "showlakes": true,
           "showland": true,
           "subunitcolor": "white"
          },
          "hoverlabel": {
           "align": "left"
          },
          "hovermode": "closest",
          "paper_bgcolor": "white",
          "plot_bgcolor": "rgb(237,237,237)",
          "polar": {
           "angularaxis": {
            "gridcolor": "white",
            "linecolor": "white",
            "showgrid": true,
            "tickcolor": "rgb(51,51,51)",
            "ticks": "outside"
           },
           "bgcolor": "rgb(237,237,237)",
           "radialaxis": {
            "gridcolor": "white",
            "linecolor": "white",
            "showgrid": true,
            "tickcolor": "rgb(51,51,51)",
            "ticks": "outside"
           }
          },
          "scene": {
           "xaxis": {
            "backgroundcolor": "rgb(237,237,237)",
            "gridcolor": "white",
            "gridwidth": 2,
            "linecolor": "white",
            "showbackground": true,
            "showgrid": true,
            "tickcolor": "rgb(51,51,51)",
            "ticks": "outside",
            "zerolinecolor": "white"
           },
           "yaxis": {
            "backgroundcolor": "rgb(237,237,237)",
            "gridcolor": "white",
            "gridwidth": 2,
            "linecolor": "white",
            "showbackground": true,
            "showgrid": true,
            "tickcolor": "rgb(51,51,51)",
            "ticks": "outside",
            "zerolinecolor": "white"
           },
           "zaxis": {
            "backgroundcolor": "rgb(237,237,237)",
            "gridcolor": "white",
            "gridwidth": 2,
            "linecolor": "white",
            "showbackground": true,
            "showgrid": true,
            "tickcolor": "rgb(51,51,51)",
            "ticks": "outside",
            "zerolinecolor": "white"
           }
          },
          "shapedefaults": {
           "fillcolor": "black",
           "line": {
            "width": 0
           },
           "opacity": 0.3
          },
          "ternary": {
           "aaxis": {
            "gridcolor": "white",
            "linecolor": "white",
            "showgrid": true,
            "tickcolor": "rgb(51,51,51)",
            "ticks": "outside"
           },
           "baxis": {
            "gridcolor": "white",
            "linecolor": "white",
            "showgrid": true,
            "tickcolor": "rgb(51,51,51)",
            "ticks": "outside"
           },
           "bgcolor": "rgb(237,237,237)",
           "caxis": {
            "gridcolor": "white",
            "linecolor": "white",
            "showgrid": true,
            "tickcolor": "rgb(51,51,51)",
            "ticks": "outside"
           }
          },
          "xaxis": {
           "automargin": true,
           "gridcolor": "white",
           "linecolor": "white",
           "showgrid": true,
           "tickcolor": "rgb(51,51,51)",
           "ticks": "outside",
           "title": {
            "standoff": 15
           },
           "zerolinecolor": "white"
          },
          "yaxis": {
           "automargin": true,
           "gridcolor": "white",
           "linecolor": "white",
           "showgrid": true,
           "tickcolor": "rgb(51,51,51)",
           "ticks": "outside",
           "title": {
            "standoff": 15
           },
           "zerolinecolor": "white"
          }
         }
        },
        "title": {
         "text": "Train Cross-Validation Splits"
        },
        "xaxis": {
         "title": {
          "text": "Time"
         },
         "zeroline": false
        },
        "yaxis": {
         "title": {
          "text": "Windows"
         }
        }
       }
      }
     },
     "metadata": {},
     "output_type": "display_data"
    }
   ],
   "source": [
    "#### Check cross-validation setup  ----\n",
    "exp.plot_model(plot=\"cv\")"
   ]
  },
  {
   "cell_type": "markdown",
   "metadata": {},
   "source": [
    "### Comparing Models"
   ]
  },
  {
   "cell_type": "code",
   "execution_count": 167,
   "metadata": {},
   "outputs": [
    {
     "data": {
      "text/html": [],
      "text/plain": [
       "<IPython.core.display.HTML object>"
      ]
     },
     "metadata": {},
     "output_type": "display_data"
    },
    {
     "data": {
      "text/html": [
       "<style type=\"text/css\">\n",
       "#T_96a2a th {\n",
       "  text-align: left;\n",
       "}\n",
       "#T_96a2a_row0_col0, #T_96a2a_row1_col0, #T_96a2a_row1_col1, #T_96a2a_row1_col2, #T_96a2a_row1_col3, #T_96a2a_row1_col4, #T_96a2a_row1_col5, #T_96a2a_row1_col6, #T_96a2a_row1_col7, #T_96a2a_row2_col0, #T_96a2a_row2_col1, #T_96a2a_row2_col2, #T_96a2a_row2_col3, #T_96a2a_row2_col4, #T_96a2a_row2_col5, #T_96a2a_row2_col6, #T_96a2a_row2_col7, #T_96a2a_row3_col0, #T_96a2a_row3_col1, #T_96a2a_row3_col2, #T_96a2a_row3_col3, #T_96a2a_row3_col4, #T_96a2a_row3_col5, #T_96a2a_row3_col6, #T_96a2a_row3_col7, #T_96a2a_row4_col0, #T_96a2a_row4_col1, #T_96a2a_row4_col2, #T_96a2a_row4_col3, #T_96a2a_row4_col4, #T_96a2a_row4_col5, #T_96a2a_row4_col6, #T_96a2a_row4_col7, #T_96a2a_row5_col0, #T_96a2a_row5_col1, #T_96a2a_row5_col2, #T_96a2a_row5_col3, #T_96a2a_row5_col4, #T_96a2a_row5_col5, #T_96a2a_row5_col6, #T_96a2a_row5_col7, #T_96a2a_row6_col0, #T_96a2a_row6_col1, #T_96a2a_row6_col2, #T_96a2a_row6_col3, #T_96a2a_row6_col4, #T_96a2a_row6_col5, #T_96a2a_row6_col6, #T_96a2a_row6_col7, #T_96a2a_row7_col0, #T_96a2a_row7_col1, #T_96a2a_row7_col2, #T_96a2a_row7_col3, #T_96a2a_row7_col4, #T_96a2a_row7_col5, #T_96a2a_row7_col6, #T_96a2a_row7_col7, #T_96a2a_row8_col0, #T_96a2a_row8_col1, #T_96a2a_row8_col2, #T_96a2a_row8_col3, #T_96a2a_row8_col4, #T_96a2a_row8_col5, #T_96a2a_row8_col6, #T_96a2a_row8_col7, #T_96a2a_row9_col0, #T_96a2a_row9_col1, #T_96a2a_row9_col2, #T_96a2a_row9_col3, #T_96a2a_row9_col4, #T_96a2a_row9_col5, #T_96a2a_row9_col6, #T_96a2a_row9_col7, #T_96a2a_row10_col0, #T_96a2a_row10_col1, #T_96a2a_row10_col2, #T_96a2a_row10_col3, #T_96a2a_row10_col4, #T_96a2a_row10_col5, #T_96a2a_row10_col6, #T_96a2a_row10_col7, #T_96a2a_row11_col0, #T_96a2a_row11_col1, #T_96a2a_row11_col2, #T_96a2a_row11_col3, #T_96a2a_row11_col4, #T_96a2a_row11_col5, #T_96a2a_row11_col6, #T_96a2a_row11_col7, #T_96a2a_row12_col0, #T_96a2a_row12_col1, #T_96a2a_row12_col2, #T_96a2a_row12_col3, #T_96a2a_row12_col4, #T_96a2a_row12_col5, #T_96a2a_row12_col6, #T_96a2a_row12_col7, #T_96a2a_row13_col0, #T_96a2a_row13_col1, #T_96a2a_row13_col2, #T_96a2a_row13_col3, #T_96a2a_row13_col4, #T_96a2a_row13_col5, #T_96a2a_row13_col6, #T_96a2a_row13_col7, #T_96a2a_row14_col0, #T_96a2a_row14_col1, #T_96a2a_row14_col2, #T_96a2a_row14_col3, #T_96a2a_row14_col4, #T_96a2a_row14_col5, #T_96a2a_row14_col6, #T_96a2a_row14_col7, #T_96a2a_row15_col0, #T_96a2a_row15_col1, #T_96a2a_row15_col2, #T_96a2a_row15_col3, #T_96a2a_row15_col4, #T_96a2a_row15_col5, #T_96a2a_row15_col6, #T_96a2a_row15_col7, #T_96a2a_row16_col0, #T_96a2a_row16_col1, #T_96a2a_row16_col2, #T_96a2a_row16_col3, #T_96a2a_row16_col4, #T_96a2a_row16_col5, #T_96a2a_row16_col6, #T_96a2a_row16_col7, #T_96a2a_row17_col0, #T_96a2a_row17_col1, #T_96a2a_row17_col2, #T_96a2a_row17_col3, #T_96a2a_row17_col4, #T_96a2a_row17_col5, #T_96a2a_row17_col6, #T_96a2a_row17_col7, #T_96a2a_row18_col0, #T_96a2a_row18_col1, #T_96a2a_row18_col2, #T_96a2a_row18_col3, #T_96a2a_row18_col4, #T_96a2a_row18_col5, #T_96a2a_row18_col6, #T_96a2a_row18_col7, #T_96a2a_row19_col0, #T_96a2a_row19_col1, #T_96a2a_row19_col2, #T_96a2a_row19_col3, #T_96a2a_row19_col4, #T_96a2a_row19_col5, #T_96a2a_row19_col6, #T_96a2a_row19_col7, #T_96a2a_row20_col0, #T_96a2a_row20_col1, #T_96a2a_row20_col2, #T_96a2a_row20_col3, #T_96a2a_row20_col4, #T_96a2a_row20_col5, #T_96a2a_row20_col6, #T_96a2a_row20_col7, #T_96a2a_row21_col0, #T_96a2a_row21_col1, #T_96a2a_row21_col2, #T_96a2a_row21_col3, #T_96a2a_row21_col4, #T_96a2a_row21_col5, #T_96a2a_row21_col6, #T_96a2a_row21_col7, #T_96a2a_row22_col0, #T_96a2a_row22_col1, #T_96a2a_row22_col2, #T_96a2a_row22_col3, #T_96a2a_row22_col4, #T_96a2a_row22_col5, #T_96a2a_row22_col6, #T_96a2a_row22_col7, #T_96a2a_row23_col0, #T_96a2a_row23_col1, #T_96a2a_row23_col2, #T_96a2a_row23_col3, #T_96a2a_row23_col4, #T_96a2a_row23_col5, #T_96a2a_row23_col6, #T_96a2a_row23_col7, #T_96a2a_row24_col0, #T_96a2a_row24_col1, #T_96a2a_row24_col2, #T_96a2a_row24_col3, #T_96a2a_row24_col4, #T_96a2a_row24_col5, #T_96a2a_row24_col6, #T_96a2a_row24_col7, #T_96a2a_row25_col0, #T_96a2a_row25_col1, #T_96a2a_row25_col2, #T_96a2a_row25_col3, #T_96a2a_row25_col4, #T_96a2a_row25_col5, #T_96a2a_row25_col6, #T_96a2a_row25_col7, #T_96a2a_row26_col0, #T_96a2a_row26_col1, #T_96a2a_row26_col2, #T_96a2a_row26_col3, #T_96a2a_row26_col4, #T_96a2a_row26_col5, #T_96a2a_row26_col6, #T_96a2a_row26_col7, #T_96a2a_row27_col0, #T_96a2a_row27_col1, #T_96a2a_row27_col2, #T_96a2a_row27_col3, #T_96a2a_row27_col4, #T_96a2a_row27_col5, #T_96a2a_row27_col6, #T_96a2a_row27_col7, #T_96a2a_row28_col0, #T_96a2a_row28_col1, #T_96a2a_row28_col2, #T_96a2a_row28_col3, #T_96a2a_row28_col4, #T_96a2a_row28_col5, #T_96a2a_row28_col6, #T_96a2a_row28_col7, #T_96a2a_row29_col0, #T_96a2a_row29_col1, #T_96a2a_row29_col2, #T_96a2a_row29_col3, #T_96a2a_row29_col4, #T_96a2a_row29_col5, #T_96a2a_row29_col6, #T_96a2a_row29_col7, #T_96a2a_row30_col0, #T_96a2a_row30_col1, #T_96a2a_row30_col2, #T_96a2a_row30_col3, #T_96a2a_row30_col4, #T_96a2a_row30_col5, #T_96a2a_row30_col6, #T_96a2a_row30_col7 {\n",
       "  text-align: left;\n",
       "}\n",
       "#T_96a2a_row0_col1, #T_96a2a_row0_col2, #T_96a2a_row0_col3, #T_96a2a_row0_col4, #T_96a2a_row0_col5, #T_96a2a_row0_col6, #T_96a2a_row0_col7 {\n",
       "  text-align: left;\n",
       "  background-color: yellow;\n",
       "}\n",
       "#T_96a2a_row0_col8, #T_96a2a_row1_col8, #T_96a2a_row2_col8, #T_96a2a_row3_col8, #T_96a2a_row4_col8, #T_96a2a_row5_col8, #T_96a2a_row6_col8, #T_96a2a_row7_col8, #T_96a2a_row8_col8, #T_96a2a_row9_col8, #T_96a2a_row10_col8, #T_96a2a_row11_col8, #T_96a2a_row12_col8, #T_96a2a_row14_col8, #T_96a2a_row15_col8, #T_96a2a_row16_col8, #T_96a2a_row17_col8, #T_96a2a_row18_col8, #T_96a2a_row19_col8, #T_96a2a_row20_col8, #T_96a2a_row21_col8, #T_96a2a_row22_col8, #T_96a2a_row23_col8, #T_96a2a_row24_col8, #T_96a2a_row25_col8, #T_96a2a_row26_col8, #T_96a2a_row27_col8, #T_96a2a_row28_col8, #T_96a2a_row29_col8, #T_96a2a_row30_col8 {\n",
       "  text-align: left;\n",
       "  background-color: lightgrey;\n",
       "}\n",
       "#T_96a2a_row13_col8 {\n",
       "  text-align: left;\n",
       "  background-color: yellow;\n",
       "  background-color: lightgrey;\n",
       "}\n",
       "</style>\n",
       "<table id=\"T_96a2a\">\n",
       "  <thead>\n",
       "    <tr>\n",
       "      <th class=\"blank level0\" >&nbsp;</th>\n",
       "      <th id=\"T_96a2a_level0_col0\" class=\"col_heading level0 col0\" >Model</th>\n",
       "      <th id=\"T_96a2a_level0_col1\" class=\"col_heading level0 col1\" >MASE</th>\n",
       "      <th id=\"T_96a2a_level0_col2\" class=\"col_heading level0 col2\" >RMSSE</th>\n",
       "      <th id=\"T_96a2a_level0_col3\" class=\"col_heading level0 col3\" >MAE</th>\n",
       "      <th id=\"T_96a2a_level0_col4\" class=\"col_heading level0 col4\" >RMSE</th>\n",
       "      <th id=\"T_96a2a_level0_col5\" class=\"col_heading level0 col5\" >MAPE</th>\n",
       "      <th id=\"T_96a2a_level0_col6\" class=\"col_heading level0 col6\" >SMAPE</th>\n",
       "      <th id=\"T_96a2a_level0_col7\" class=\"col_heading level0 col7\" >R2</th>\n",
       "      <th id=\"T_96a2a_level0_col8\" class=\"col_heading level0 col8\" >TT (Sec)</th>\n",
       "    </tr>\n",
       "  </thead>\n",
       "  <tbody>\n",
       "    <tr>\n",
       "      <th id=\"T_96a2a_level0_row0\" class=\"row_heading level0 row0\" >snaive</th>\n",
       "      <td id=\"T_96a2a_row0_col0\" class=\"data row0 col0\" >Seasonal Naive Forecaster</td>\n",
       "      <td id=\"T_96a2a_row0_col1\" class=\"data row0 col1\" >0.7751</td>\n",
       "      <td id=\"T_96a2a_row0_col2\" class=\"data row0 col2\" >0.5785</td>\n",
       "      <td id=\"T_96a2a_row0_col3\" class=\"data row0 col3\" >21.4011</td>\n",
       "      <td id=\"T_96a2a_row0_col4\" class=\"data row0 col4\" >23.3471</td>\n",
       "      <td id=\"T_96a2a_row0_col5\" class=\"data row0 col5\" >0.1911</td>\n",
       "      <td id=\"T_96a2a_row0_col6\" class=\"data row0 col6\" >0.1785</td>\n",
       "      <td id=\"T_96a2a_row0_col7\" class=\"data row0 col7\" >0.2493</td>\n",
       "      <td id=\"T_96a2a_row0_col8\" class=\"data row0 col8\" >2.0300</td>\n",
       "    </tr>\n",
       "    <tr>\n",
       "      <th id=\"T_96a2a_level0_row1\" class=\"row_heading level0 row1\" >arima</th>\n",
       "      <td id=\"T_96a2a_row1_col0\" class=\"data row1 col0\" >ARIMA</td>\n",
       "      <td id=\"T_96a2a_row1_col1\" class=\"data row1 col1\" >0.7810</td>\n",
       "      <td id=\"T_96a2a_row1_col2\" class=\"data row1 col2\" >0.5897</td>\n",
       "      <td id=\"T_96a2a_row1_col3\" class=\"data row1 col3\" >21.5776</td>\n",
       "      <td id=\"T_96a2a_row1_col4\" class=\"data row1 col4\" >23.8115</td>\n",
       "      <td id=\"T_96a2a_row1_col5\" class=\"data row1 col5\" >0.1917</td>\n",
       "      <td id=\"T_96a2a_row1_col6\" class=\"data row1 col6\" >0.1809</td>\n",
       "      <td id=\"T_96a2a_row1_col7\" class=\"data row1 col7\" >0.1995</td>\n",
       "      <td id=\"T_96a2a_row1_col8\" class=\"data row1 col8\" >1.9567</td>\n",
       "    </tr>\n",
       "    <tr>\n",
       "      <th id=\"T_96a2a_level0_row2\" class=\"row_heading level0 row2\" >stlf</th>\n",
       "      <td id=\"T_96a2a_row2_col0\" class=\"data row2 col0\" >STLF</td>\n",
       "      <td id=\"T_96a2a_row2_col1\" class=\"data row2 col1\" >0.8916</td>\n",
       "      <td id=\"T_96a2a_row2_col2\" class=\"data row2 col2\" >0.6829</td>\n",
       "      <td id=\"T_96a2a_row2_col3\" class=\"data row2 col3\" >24.7001</td>\n",
       "      <td id=\"T_96a2a_row2_col4\" class=\"data row2 col4\" >27.7178</td>\n",
       "      <td id=\"T_96a2a_row2_col5\" class=\"data row2 col5\" >0.1947</td>\n",
       "      <td id=\"T_96a2a_row2_col6\" class=\"data row2 col6\" >0.1967</td>\n",
       "      <td id=\"T_96a2a_row2_col7\" class=\"data row2 col7\" >-0.2564</td>\n",
       "      <td id=\"T_96a2a_row2_col8\" class=\"data row2 col8\" >0.0767</td>\n",
       "    </tr>\n",
       "    <tr>\n",
       "      <th id=\"T_96a2a_level0_row3\" class=\"row_heading level0 row3\" >catboost_cds_dt</th>\n",
       "      <td id=\"T_96a2a_row3_col0\" class=\"data row3 col0\" >CatBoost Regressor w/ Cond. Deseasonalize & Detrending</td>\n",
       "      <td id=\"T_96a2a_row3_col1\" class=\"data row3 col1\" >1.0219</td>\n",
       "      <td id=\"T_96a2a_row3_col2\" class=\"data row3 col2\" >0.7753</td>\n",
       "      <td id=\"T_96a2a_row3_col3\" class=\"data row3 col3\" >28.1120</td>\n",
       "      <td id=\"T_96a2a_row3_col4\" class=\"data row3 col4\" >31.0459</td>\n",
       "      <td id=\"T_96a2a_row3_col5\" class=\"data row3 col5\" >0.2557</td>\n",
       "      <td id=\"T_96a2a_row3_col6\" class=\"data row3 col6\" >0.2254</td>\n",
       "      <td id=\"T_96a2a_row3_col7\" class=\"data row3 col7\" >-0.0335</td>\n",
       "      <td id=\"T_96a2a_row3_col8\" class=\"data row3 col8\" >1.4600</td>\n",
       "    </tr>\n",
       "    <tr>\n",
       "      <th id=\"T_96a2a_level0_row4\" class=\"row_heading level0 row4\" >theta</th>\n",
       "      <td id=\"T_96a2a_row4_col0\" class=\"data row4 col0\" >Theta Forecaster</td>\n",
       "      <td id=\"T_96a2a_row4_col1\" class=\"data row4 col1\" >1.0264</td>\n",
       "      <td id=\"T_96a2a_row4_col2\" class=\"data row4 col2\" >0.7744</td>\n",
       "      <td id=\"T_96a2a_row4_col3\" class=\"data row4 col3\" >28.2686</td>\n",
       "      <td id=\"T_96a2a_row4_col4\" class=\"data row4 col4\" >31.0751</td>\n",
       "      <td id=\"T_96a2a_row4_col5\" class=\"data row4 col5\" >0.2590</td>\n",
       "      <td id=\"T_96a2a_row4_col6\" class=\"data row4 col6\" >0.2297</td>\n",
       "      <td id=\"T_96a2a_row4_col7\" class=\"data row4 col7\" >-0.0599</td>\n",
       "      <td id=\"T_96a2a_row4_col8\" class=\"data row4 col8\" >0.0667</td>\n",
       "    </tr>\n",
       "    <tr>\n",
       "      <th id=\"T_96a2a_level0_row5\" class=\"row_heading level0 row5\" >auto_arima</th>\n",
       "      <td id=\"T_96a2a_row5_col0\" class=\"data row5 col0\" >Auto ARIMA</td>\n",
       "      <td id=\"T_96a2a_row5_col1\" class=\"data row5 col1\" >0.9843</td>\n",
       "      <td id=\"T_96a2a_row5_col2\" class=\"data row5 col2\" >0.7791</td>\n",
       "      <td id=\"T_96a2a_row5_col3\" class=\"data row5 col3\" >27.0658</td>\n",
       "      <td id=\"T_96a2a_row5_col4\" class=\"data row5 col4\" >31.2206</td>\n",
       "      <td id=\"T_96a2a_row5_col5\" class=\"data row5 col5\" >0.2696</td>\n",
       "      <td id=\"T_96a2a_row5_col6\" class=\"data row5 col6\" >0.2246</td>\n",
       "      <td id=\"T_96a2a_row5_col7\" class=\"data row5 col7\" >0.0671</td>\n",
       "      <td id=\"T_96a2a_row5_col8\" class=\"data row5 col8\" >2.7967</td>\n",
       "    </tr>\n",
       "    <tr>\n",
       "      <th id=\"T_96a2a_level0_row6\" class=\"row_heading level0 row6\" >gbr_cds_dt</th>\n",
       "      <td id=\"T_96a2a_row6_col0\" class=\"data row6 col0\" >Gradient Boosting w/ Cond. Deseasonalize & Detrending</td>\n",
       "      <td id=\"T_96a2a_row6_col1\" class=\"data row6 col1\" >1.0139</td>\n",
       "      <td id=\"T_96a2a_row6_col2\" class=\"data row6 col2\" >0.8305</td>\n",
       "      <td id=\"T_96a2a_row6_col3\" class=\"data row6 col3\" >27.8931</td>\n",
       "      <td id=\"T_96a2a_row6_col4\" class=\"data row6 col4\" >33.2745</td>\n",
       "      <td id=\"T_96a2a_row6_col5\" class=\"data row6 col5\" >0.2414</td>\n",
       "      <td id=\"T_96a2a_row6_col6\" class=\"data row6 col6\" >0.2206</td>\n",
       "      <td id=\"T_96a2a_row6_col7\" class=\"data row6 col7\" >-0.1434</td>\n",
       "      <td id=\"T_96a2a_row6_col8\" class=\"data row6 col8\" >0.1667</td>\n",
       "    </tr>\n",
       "    <tr>\n",
       "      <th id=\"T_96a2a_level0_row7\" class=\"row_heading level0 row7\" >ada_cds_dt</th>\n",
       "      <td id=\"T_96a2a_row7_col0\" class=\"data row7 col0\" >AdaBoost w/ Cond. Deseasonalize & Detrending</td>\n",
       "      <td id=\"T_96a2a_row7_col1\" class=\"data row7 col1\" >1.0514</td>\n",
       "      <td id=\"T_96a2a_row7_col2\" class=\"data row7 col2\" >0.8574</td>\n",
       "      <td id=\"T_96a2a_row7_col3\" class=\"data row7 col3\" >28.8759</td>\n",
       "      <td id=\"T_96a2a_row7_col4\" class=\"data row7 col4\" >34.3147</td>\n",
       "      <td id=\"T_96a2a_row7_col5\" class=\"data row7 col5\" >0.2649</td>\n",
       "      <td id=\"T_96a2a_row7_col6\" class=\"data row7 col6\" >0.2319</td>\n",
       "      <td id=\"T_96a2a_row7_col7\" class=\"data row7 col7\" >-0.2139</td>\n",
       "      <td id=\"T_96a2a_row7_col8\" class=\"data row7 col8\" >0.1833</td>\n",
       "    </tr>\n",
       "    <tr>\n",
       "      <th id=\"T_96a2a_level0_row8\" class=\"row_heading level0 row8\" >exp_smooth</th>\n",
       "      <td id=\"T_96a2a_row8_col0\" class=\"data row8 col0\" >Exponential Smoothing</td>\n",
       "      <td id=\"T_96a2a_row8_col1\" class=\"data row8 col1\" >1.1131</td>\n",
       "      <td id=\"T_96a2a_row8_col2\" class=\"data row8 col2\" >0.8657</td>\n",
       "      <td id=\"T_96a2a_row8_col3\" class=\"data row8 col3\" >30.6531</td>\n",
       "      <td id=\"T_96a2a_row8_col4\" class=\"data row8 col4\" >34.7426</td>\n",
       "      <td id=\"T_96a2a_row8_col5\" class=\"data row8 col5\" >0.2799</td>\n",
       "      <td id=\"T_96a2a_row8_col6\" class=\"data row8 col6\" >0.2470</td>\n",
       "      <td id=\"T_96a2a_row8_col7\" class=\"data row8 col7\" >-0.3905</td>\n",
       "      <td id=\"T_96a2a_row8_col8\" class=\"data row8 col8\" >0.1033</td>\n",
       "    </tr>\n",
       "    <tr>\n",
       "      <th id=\"T_96a2a_level0_row9\" class=\"row_heading level0 row9\" >rf_cds_dt</th>\n",
       "      <td id=\"T_96a2a_row9_col0\" class=\"data row9 col0\" >Random Forest w/ Cond. Deseasonalize & Detrending</td>\n",
       "      <td id=\"T_96a2a_row9_col1\" class=\"data row9 col1\" >1.0993</td>\n",
       "      <td id=\"T_96a2a_row9_col2\" class=\"data row9 col2\" >0.8715</td>\n",
       "      <td id=\"T_96a2a_row9_col3\" class=\"data row9 col3\" >30.2421</td>\n",
       "      <td id=\"T_96a2a_row9_col4\" class=\"data row9 col4\" >34.8967</td>\n",
       "      <td id=\"T_96a2a_row9_col5\" class=\"data row9 col5\" >0.2714</td>\n",
       "      <td id=\"T_96a2a_row9_col6\" class=\"data row9 col6\" >0.2401</td>\n",
       "      <td id=\"T_96a2a_row9_col7\" class=\"data row9 col7\" >-0.2547</td>\n",
       "      <td id=\"T_96a2a_row9_col8\" class=\"data row9 col8\" >0.2700</td>\n",
       "    </tr>\n",
       "    <tr>\n",
       "      <th id=\"T_96a2a_level0_row10\" class=\"row_heading level0 row10\" >knn_cds_dt</th>\n",
       "      <td id=\"T_96a2a_row10_col0\" class=\"data row10 col0\" >K Neighbors w/ Cond. Deseasonalize & Detrending</td>\n",
       "      <td id=\"T_96a2a_row10_col1\" class=\"data row10 col1\" >1.1165</td>\n",
       "      <td id=\"T_96a2a_row10_col2\" class=\"data row10 col2\" >0.8707</td>\n",
       "      <td id=\"T_96a2a_row10_col3\" class=\"data row10 col3\" >30.6830</td>\n",
       "      <td id=\"T_96a2a_row10_col4\" class=\"data row10 col4\" >34.9025</td>\n",
       "      <td id=\"T_96a2a_row10_col5\" class=\"data row10 col5\" >0.2775</td>\n",
       "      <td id=\"T_96a2a_row10_col6\" class=\"data row10 col6\" >0.2454</td>\n",
       "      <td id=\"T_96a2a_row10_col7\" class=\"data row10 col7\" >-0.1381</td>\n",
       "      <td id=\"T_96a2a_row10_col8\" class=\"data row10 col8\" >0.1700</td>\n",
       "    </tr>\n",
       "    <tr>\n",
       "      <th id=\"T_96a2a_level0_row11\" class=\"row_heading level0 row11\" >et_cds_dt</th>\n",
       "      <td id=\"T_96a2a_row11_col0\" class=\"data row11 col0\" >Extra Trees w/ Cond. Deseasonalize & Detrending</td>\n",
       "      <td id=\"T_96a2a_row11_col1\" class=\"data row11 col1\" >1.1395</td>\n",
       "      <td id=\"T_96a2a_row11_col2\" class=\"data row11 col2\" >0.8703</td>\n",
       "      <td id=\"T_96a2a_row11_col3\" class=\"data row11 col3\" >31.4162</td>\n",
       "      <td id=\"T_96a2a_row11_col4\" class=\"data row11 col4\" >34.9478</td>\n",
       "      <td id=\"T_96a2a_row11_col5\" class=\"data row11 col5\" >0.2856</td>\n",
       "      <td id=\"T_96a2a_row11_col6\" class=\"data row11 col6\" >0.2516</td>\n",
       "      <td id=\"T_96a2a_row11_col7\" class=\"data row11 col7\" >-0.2422</td>\n",
       "      <td id=\"T_96a2a_row11_col8\" class=\"data row11 col8\" >0.2233</td>\n",
       "    </tr>\n",
       "    <tr>\n",
       "      <th id=\"T_96a2a_level0_row12\" class=\"row_heading level0 row12\" >ets</th>\n",
       "      <td id=\"T_96a2a_row12_col0\" class=\"data row12 col0\" >ETS</td>\n",
       "      <td id=\"T_96a2a_row12_col1\" class=\"data row12 col1\" >1.1468</td>\n",
       "      <td id=\"T_96a2a_row12_col2\" class=\"data row12 col2\" >0.8745</td>\n",
       "      <td id=\"T_96a2a_row12_col3\" class=\"data row12 col3\" >31.5543</td>\n",
       "      <td id=\"T_96a2a_row12_col4\" class=\"data row12 col4\" >35.0850</td>\n",
       "      <td id=\"T_96a2a_row12_col5\" class=\"data row12 col5\" >0.2832</td>\n",
       "      <td id=\"T_96a2a_row12_col6\" class=\"data row12 col6\" >0.2545</td>\n",
       "      <td id=\"T_96a2a_row12_col7\" class=\"data row12 col7\" >-0.4229</td>\n",
       "      <td id=\"T_96a2a_row12_col8\" class=\"data row12 col8\" >0.1167</td>\n",
       "    </tr>\n",
       "    <tr>\n",
       "      <th id=\"T_96a2a_level0_row13\" class=\"row_heading level0 row13\" >croston</th>\n",
       "      <td id=\"T_96a2a_row13_col0\" class=\"data row13 col0\" >Croston</td>\n",
       "      <td id=\"T_96a2a_row13_col1\" class=\"data row13 col1\" >1.1602</td>\n",
       "      <td id=\"T_96a2a_row13_col2\" class=\"data row13 col2\" >0.8796</td>\n",
       "      <td id=\"T_96a2a_row13_col3\" class=\"data row13 col3\" >32.0314</td>\n",
       "      <td id=\"T_96a2a_row13_col4\" class=\"data row13 col4\" >35.4141</td>\n",
       "      <td id=\"T_96a2a_row13_col5\" class=\"data row13 col5\" >0.3153</td>\n",
       "      <td id=\"T_96a2a_row13_col6\" class=\"data row13 col6\" >0.2627</td>\n",
       "      <td id=\"T_96a2a_row13_col7\" class=\"data row13 col7\" >-0.1189</td>\n",
       "      <td id=\"T_96a2a_row13_col8\" class=\"data row13 col8\" >0.0433</td>\n",
       "    </tr>\n",
       "    <tr>\n",
       "      <th id=\"T_96a2a_level0_row14\" class=\"row_heading level0 row14\" >polytrend</th>\n",
       "      <td id=\"T_96a2a_row14_col0\" class=\"data row14 col0\" >Polynomial Trend Forecaster</td>\n",
       "      <td id=\"T_96a2a_row14_col1\" class=\"data row14 col1\" >1.1746</td>\n",
       "      <td id=\"T_96a2a_row14_col2\" class=\"data row14 col2\" >0.8819</td>\n",
       "      <td id=\"T_96a2a_row14_col3\" class=\"data row14 col3\" >32.4130</td>\n",
       "      <td id=\"T_96a2a_row14_col4\" class=\"data row14 col4\" >35.4977</td>\n",
       "      <td id=\"T_96a2a_row14_col5\" class=\"data row14 col5\" >0.3161</td>\n",
       "      <td id=\"T_96a2a_row14_col6\" class=\"data row14 col6\" >0.2658</td>\n",
       "      <td id=\"T_96a2a_row14_col7\" class=\"data row14 col7\" >-0.1249</td>\n",
       "      <td id=\"T_96a2a_row14_col8\" class=\"data row14 col8\" >1.9533</td>\n",
       "    </tr>\n",
       "    <tr>\n",
       "      <th id=\"T_96a2a_level0_row15\" class=\"row_heading level0 row15\" >grand_means</th>\n",
       "      <td id=\"T_96a2a_row15_col0\" class=\"data row15 col0\" >Grand Means Forecaster</td>\n",
       "      <td id=\"T_96a2a_row15_col1\" class=\"data row15 col1\" >1.1584</td>\n",
       "      <td id=\"T_96a2a_row15_col2\" class=\"data row15 col2\" >0.9026</td>\n",
       "      <td id=\"T_96a2a_row15_col3\" class=\"data row15 col3\" >31.9822</td>\n",
       "      <td id=\"T_96a2a_row15_col4\" class=\"data row15 col4\" >36.3241</td>\n",
       "      <td id=\"T_96a2a_row15_col5\" class=\"data row15 col5\" >0.3262</td>\n",
       "      <td id=\"T_96a2a_row15_col6\" class=\"data row15 col6\" >0.2615</td>\n",
       "      <td id=\"T_96a2a_row15_col7\" class=\"data row15 col7\" >-0.1659</td>\n",
       "      <td id=\"T_96a2a_row15_col8\" class=\"data row15 col8\" >2.0367</td>\n",
       "    </tr>\n",
       "    <tr>\n",
       "      <th id=\"T_96a2a_level0_row16\" class=\"row_heading level0 row16\" >bats</th>\n",
       "      <td id=\"T_96a2a_row16_col0\" class=\"data row16 col0\" >BATS</td>\n",
       "      <td id=\"T_96a2a_row16_col1\" class=\"data row16 col1\" >1.1869</td>\n",
       "      <td id=\"T_96a2a_row16_col2\" class=\"data row16 col2\" >0.9172</td>\n",
       "      <td id=\"T_96a2a_row16_col3\" class=\"data row16 col3\" >32.7493</td>\n",
       "      <td id=\"T_96a2a_row16_col4\" class=\"data row16 col4\" >36.8947</td>\n",
       "      <td id=\"T_96a2a_row16_col5\" class=\"data row16 col5\" >0.3352</td>\n",
       "      <td id=\"T_96a2a_row16_col6\" class=\"data row16 col6\" >0.2667</td>\n",
       "      <td id=\"T_96a2a_row16_col7\" class=\"data row16 col7\" >-0.2031</td>\n",
       "      <td id=\"T_96a2a_row16_col8\" class=\"data row16 col8\" >6.2300</td>\n",
       "    </tr>\n",
       "    <tr>\n",
       "      <th id=\"T_96a2a_level0_row17\" class=\"row_heading level0 row17\" >br_cds_dt</th>\n",
       "      <td id=\"T_96a2a_row17_col0\" class=\"data row17 col0\" >Bayesian Ridge w/ Cond. Deseasonalize & Detrending</td>\n",
       "      <td id=\"T_96a2a_row17_col1\" class=\"data row17 col1\" >1.2393</td>\n",
       "      <td id=\"T_96a2a_row17_col2\" class=\"data row17 col2\" >0.9384</td>\n",
       "      <td id=\"T_96a2a_row17_col3\" class=\"data row17 col3\" >34.1364</td>\n",
       "      <td id=\"T_96a2a_row17_col4\" class=\"data row17 col4\" >37.6412</td>\n",
       "      <td id=\"T_96a2a_row17_col5\" class=\"data row17 col5\" >0.3317</td>\n",
       "      <td id=\"T_96a2a_row17_col6\" class=\"data row17 col6\" >0.2729</td>\n",
       "      <td id=\"T_96a2a_row17_col7\" class=\"data row17 col7\" >-0.3576</td>\n",
       "      <td id=\"T_96a2a_row17_col8\" class=\"data row17 col8\" >0.1333</td>\n",
       "    </tr>\n",
       "    <tr>\n",
       "      <th id=\"T_96a2a_level0_row18\" class=\"row_heading level0 row18\" >xgboost_cds_dt</th>\n",
       "      <td id=\"T_96a2a_row18_col0\" class=\"data row18 col0\" >Extreme Gradient Boosting w/ Cond. Deseasonalize & Detrending</td>\n",
       "      <td id=\"T_96a2a_row18_col1\" class=\"data row18 col1\" >1.1557</td>\n",
       "      <td id=\"T_96a2a_row18_col2\" class=\"data row18 col2\" >0.9699</td>\n",
       "      <td id=\"T_96a2a_row18_col3\" class=\"data row18 col3\" >31.8094</td>\n",
       "      <td id=\"T_96a2a_row18_col4\" class=\"data row18 col4\" >38.9050</td>\n",
       "      <td id=\"T_96a2a_row18_col5\" class=\"data row18 col5\" >0.2728</td>\n",
       "      <td id=\"T_96a2a_row18_col6\" class=\"data row18 col6\" >0.2444</td>\n",
       "      <td id=\"T_96a2a_row18_col7\" class=\"data row18 col7\" >-0.6481</td>\n",
       "      <td id=\"T_96a2a_row18_col8\" class=\"data row18 col8\" >0.1900</td>\n",
       "    </tr>\n",
       "    <tr>\n",
       "      <th id=\"T_96a2a_level0_row19\" class=\"row_heading level0 row19\" >lightgbm_cds_dt</th>\n",
       "      <td id=\"T_96a2a_row19_col0\" class=\"data row19 col0\" >Light Gradient Boosting w/ Cond. Deseasonalize & Detrending</td>\n",
       "      <td id=\"T_96a2a_row19_col1\" class=\"data row19 col1\" >1.2823</td>\n",
       "      <td id=\"T_96a2a_row19_col2\" class=\"data row19 col2\" >0.9804</td>\n",
       "      <td id=\"T_96a2a_row19_col3\" class=\"data row19 col3\" >35.2872</td>\n",
       "      <td id=\"T_96a2a_row19_col4\" class=\"data row19 col4\" >39.3240</td>\n",
       "      <td id=\"T_96a2a_row19_col5\" class=\"data row19 col5\" >0.3537</td>\n",
       "      <td id=\"T_96a2a_row19_col6\" class=\"data row19 col6\" >0.2822</td>\n",
       "      <td id=\"T_96a2a_row19_col7\" class=\"data row19 col7\" >-0.4062</td>\n",
       "      <td id=\"T_96a2a_row19_col8\" class=\"data row19 col8\" >0.2433</td>\n",
       "    </tr>\n",
       "    <tr>\n",
       "      <th id=\"T_96a2a_level0_row20\" class=\"row_heading level0 row20\" >dt_cds_dt</th>\n",
       "      <td id=\"T_96a2a_row20_col0\" class=\"data row20 col0\" >Decision Tree w/ Cond. Deseasonalize & Detrending</td>\n",
       "      <td id=\"T_96a2a_row20_col1\" class=\"data row20 col1\" >1.1733</td>\n",
       "      <td id=\"T_96a2a_row20_col2\" class=\"data row20 col2\" >0.9878</td>\n",
       "      <td id=\"T_96a2a_row20_col3\" class=\"data row20 col3\" >32.3508</td>\n",
       "      <td id=\"T_96a2a_row20_col4\" class=\"data row20 col4\" >39.6970</td>\n",
       "      <td id=\"T_96a2a_row20_col5\" class=\"data row20 col5\" >0.2808</td>\n",
       "      <td id=\"T_96a2a_row20_col6\" class=\"data row20 col6\" >0.2533</td>\n",
       "      <td id=\"T_96a2a_row20_col7\" class=\"data row20 col7\" >-0.7428</td>\n",
       "      <td id=\"T_96a2a_row20_col8\" class=\"data row20 col8\" >0.1333</td>\n",
       "    </tr>\n",
       "    <tr>\n",
       "      <th id=\"T_96a2a_level0_row21\" class=\"row_heading level0 row21\" >prophet</th>\n",
       "      <td id=\"T_96a2a_row21_col0\" class=\"data row21 col0\" >Prophet</td>\n",
       "      <td id=\"T_96a2a_row21_col1\" class=\"data row21 col1\" >1.2582</td>\n",
       "      <td id=\"T_96a2a_row21_col2\" class=\"data row21 col2\" >0.9783</td>\n",
       "      <td id=\"T_96a2a_row21_col3\" class=\"data row21 col3\" >35.2930</td>\n",
       "      <td id=\"T_96a2a_row21_col4\" class=\"data row21 col4\" >40.1932</td>\n",
       "      <td id=\"T_96a2a_row21_col5\" class=\"data row21 col5\" >0.2789</td>\n",
       "      <td id=\"T_96a2a_row21_col6\" class=\"data row21 col6\" >0.2598</td>\n",
       "      <td id=\"T_96a2a_row21_col7\" class=\"data row21 col7\" >-2.8040</td>\n",
       "      <td id=\"T_96a2a_row21_col8\" class=\"data row21 col8\" >0.9733</td>\n",
       "    </tr>\n",
       "    <tr>\n",
       "      <th id=\"T_96a2a_level0_row22\" class=\"row_heading level0 row22\" >omp_cds_dt</th>\n",
       "      <td id=\"T_96a2a_row22_col0\" class=\"data row22 col0\" >Orthogonal Matching Pursuit w/ Cond. Deseasonalize & Detrending</td>\n",
       "      <td id=\"T_96a2a_row22_col1\" class=\"data row22 col1\" >1.3712</td>\n",
       "      <td id=\"T_96a2a_row22_col2\" class=\"data row22 col2\" >1.0241</td>\n",
       "      <td id=\"T_96a2a_row22_col3\" class=\"data row22 col3\" >37.7614</td>\n",
       "      <td id=\"T_96a2a_row22_col4\" class=\"data row22 col4\" >41.1491</td>\n",
       "      <td id=\"T_96a2a_row22_col5\" class=\"data row22 col5\" >0.3578</td>\n",
       "      <td id=\"T_96a2a_row22_col6\" class=\"data row22 col6\" >0.3003</td>\n",
       "      <td id=\"T_96a2a_row22_col7\" class=\"data row22 col7\" >-0.6324</td>\n",
       "      <td id=\"T_96a2a_row22_col8\" class=\"data row22 col8\" >0.1333</td>\n",
       "    </tr>\n",
       "    <tr>\n",
       "      <th id=\"T_96a2a_level0_row23\" class=\"row_heading level0 row23\" >tbats</th>\n",
       "      <td id=\"T_96a2a_row23_col0\" class=\"data row23 col0\" >TBATS</td>\n",
       "      <td id=\"T_96a2a_row23_col1\" class=\"data row23 col1\" >1.3993</td>\n",
       "      <td id=\"T_96a2a_row23_col2\" class=\"data row23 col2\" >1.0587</td>\n",
       "      <td id=\"T_96a2a_row23_col3\" class=\"data row23 col3\" >38.4305</td>\n",
       "      <td id=\"T_96a2a_row23_col4\" class=\"data row23 col4\" >42.3781</td>\n",
       "      <td id=\"T_96a2a_row23_col5\" class=\"data row23 col5\" >0.3885</td>\n",
       "      <td id=\"T_96a2a_row23_col6\" class=\"data row23 col6\" >0.3016</td>\n",
       "      <td id=\"T_96a2a_row23_col7\" class=\"data row23 col7\" >-0.6816</td>\n",
       "      <td id=\"T_96a2a_row23_col8\" class=\"data row23 col8\" >9.0367</td>\n",
       "    </tr>\n",
       "    <tr>\n",
       "      <th id=\"T_96a2a_level0_row24\" class=\"row_heading level0 row24\" >llar_cds_dt</th>\n",
       "      <td id=\"T_96a2a_row24_col0\" class=\"data row24 col0\" >Lasso Least Angular Regressor w/ Cond. Deseasonalize & Detrending</td>\n",
       "      <td id=\"T_96a2a_row24_col1\" class=\"data row24 col1\" >1.4376</td>\n",
       "      <td id=\"T_96a2a_row24_col2\" class=\"data row24 col2\" >1.0739</td>\n",
       "      <td id=\"T_96a2a_row24_col3\" class=\"data row24 col3\" >39.5473</td>\n",
       "      <td id=\"T_96a2a_row24_col4\" class=\"data row24 col4\" >43.0676</td>\n",
       "      <td id=\"T_96a2a_row24_col5\" class=\"data row24 col5\" >0.3767</td>\n",
       "      <td id=\"T_96a2a_row24_col6\" class=\"data row24 col6\" >0.3072</td>\n",
       "      <td id=\"T_96a2a_row24_col7\" class=\"data row24 col7\" >-0.8857</td>\n",
       "      <td id=\"T_96a2a_row24_col8\" class=\"data row24 col8\" >0.2867</td>\n",
       "    </tr>\n",
       "    <tr>\n",
       "      <th id=\"T_96a2a_level0_row25\" class=\"row_heading level0 row25\" >lasso_cds_dt</th>\n",
       "      <td id=\"T_96a2a_row25_col0\" class=\"data row25 col0\" >Lasso w/ Cond. Deseasonalize & Detrending</td>\n",
       "      <td id=\"T_96a2a_row25_col1\" class=\"data row25 col1\" >1.4377</td>\n",
       "      <td id=\"T_96a2a_row25_col2\" class=\"data row25 col2\" >1.0739</td>\n",
       "      <td id=\"T_96a2a_row25_col3\" class=\"data row25 col3\" >39.5474</td>\n",
       "      <td id=\"T_96a2a_row25_col4\" class=\"data row25 col4\" >43.0679</td>\n",
       "      <td id=\"T_96a2a_row25_col5\" class=\"data row25 col5\" >0.3767</td>\n",
       "      <td id=\"T_96a2a_row25_col6\" class=\"data row25 col6\" >0.3072</td>\n",
       "      <td id=\"T_96a2a_row25_col7\" class=\"data row25 col7\" >-0.8857</td>\n",
       "      <td id=\"T_96a2a_row25_col8\" class=\"data row25 col8\" >0.3100</td>\n",
       "    </tr>\n",
       "    <tr>\n",
       "      <th id=\"T_96a2a_level0_row26\" class=\"row_heading level0 row26\" >en_cds_dt</th>\n",
       "      <td id=\"T_96a2a_row26_col0\" class=\"data row26 col0\" >Elastic Net w/ Cond. Deseasonalize & Detrending</td>\n",
       "      <td id=\"T_96a2a_row26_col1\" class=\"data row26 col1\" >1.4383</td>\n",
       "      <td id=\"T_96a2a_row26_col2\" class=\"data row26 col2\" >1.0744</td>\n",
       "      <td id=\"T_96a2a_row26_col3\" class=\"data row26 col3\" >39.5644</td>\n",
       "      <td id=\"T_96a2a_row26_col4\" class=\"data row26 col4\" >43.0878</td>\n",
       "      <td id=\"T_96a2a_row26_col5\" class=\"data row26 col5\" >0.3769</td>\n",
       "      <td id=\"T_96a2a_row26_col6\" class=\"data row26 col6\" >0.3073</td>\n",
       "      <td id=\"T_96a2a_row26_col7\" class=\"data row26 col7\" >-0.8876</td>\n",
       "      <td id=\"T_96a2a_row26_col8\" class=\"data row26 col8\" >0.2933</td>\n",
       "    </tr>\n",
       "    <tr>\n",
       "      <th id=\"T_96a2a_level0_row27\" class=\"row_heading level0 row27\" >ridge_cds_dt</th>\n",
       "      <td id=\"T_96a2a_row27_col0\" class=\"data row27 col0\" >Ridge w/ Cond. Deseasonalize & Detrending</td>\n",
       "      <td id=\"T_96a2a_row27_col1\" class=\"data row27 col1\" >1.4395</td>\n",
       "      <td id=\"T_96a2a_row27_col2\" class=\"data row27 col2\" >1.0754</td>\n",
       "      <td id=\"T_96a2a_row27_col3\" class=\"data row27 col3\" >39.5981</td>\n",
       "      <td id=\"T_96a2a_row27_col4\" class=\"data row27 col4\" >43.1258</td>\n",
       "      <td id=\"T_96a2a_row27_col5\" class=\"data row27 col5\" >0.3772</td>\n",
       "      <td id=\"T_96a2a_row27_col6\" class=\"data row27 col6\" >0.3075</td>\n",
       "      <td id=\"T_96a2a_row27_col7\" class=\"data row27 col7\" >-0.8913</td>\n",
       "      <td id=\"T_96a2a_row27_col8\" class=\"data row27 col8\" >0.3133</td>\n",
       "    </tr>\n",
       "    <tr>\n",
       "      <th id=\"T_96a2a_level0_row28\" class=\"row_heading level0 row28\" >lr_cds_dt</th>\n",
       "      <td id=\"T_96a2a_row28_col0\" class=\"data row28 col0\" >Linear w/ Cond. Deseasonalize & Detrending</td>\n",
       "      <td id=\"T_96a2a_row28_col1\" class=\"data row28 col1\" >1.4395</td>\n",
       "      <td id=\"T_96a2a_row28_col2\" class=\"data row28 col2\" >1.0754</td>\n",
       "      <td id=\"T_96a2a_row28_col3\" class=\"data row28 col3\" >39.5986</td>\n",
       "      <td id=\"T_96a2a_row28_col4\" class=\"data row28 col4\" >43.1264</td>\n",
       "      <td id=\"T_96a2a_row28_col5\" class=\"data row28 col5\" >0.3772</td>\n",
       "      <td id=\"T_96a2a_row28_col6\" class=\"data row28 col6\" >0.3075</td>\n",
       "      <td id=\"T_96a2a_row28_col7\" class=\"data row28 col7\" >-0.8914</td>\n",
       "      <td id=\"T_96a2a_row28_col8\" class=\"data row28 col8\" >0.3100</td>\n",
       "    </tr>\n",
       "    <tr>\n",
       "      <th id=\"T_96a2a_level0_row29\" class=\"row_heading level0 row29\" >huber_cds_dt</th>\n",
       "      <td id=\"T_96a2a_row29_col0\" class=\"data row29 col0\" >Huber w/ Cond. Deseasonalize & Detrending</td>\n",
       "      <td id=\"T_96a2a_row29_col1\" class=\"data row29 col1\" >1.5040</td>\n",
       "      <td id=\"T_96a2a_row29_col2\" class=\"data row29 col2\" >1.1367</td>\n",
       "      <td id=\"T_96a2a_row29_col3\" class=\"data row29 col3\" >41.2877</td>\n",
       "      <td id=\"T_96a2a_row29_col4\" class=\"data row29 col4\" >45.5471</td>\n",
       "      <td id=\"T_96a2a_row29_col5\" class=\"data row29 col5\" >0.3976</td>\n",
       "      <td id=\"T_96a2a_row29_col6\" class=\"data row29 col6\" >0.3163</td>\n",
       "      <td id=\"T_96a2a_row29_col7\" class=\"data row29 col7\" >-1.1548</td>\n",
       "      <td id=\"T_96a2a_row29_col8\" class=\"data row29 col8\" >0.1433</td>\n",
       "    </tr>\n",
       "    <tr>\n",
       "      <th id=\"T_96a2a_level0_row30\" class=\"row_heading level0 row30\" >naive</th>\n",
       "      <td id=\"T_96a2a_row30_col0\" class=\"data row30 col0\" >Naive Forecaster</td>\n",
       "      <td id=\"T_96a2a_row30_col1\" class=\"data row30 col1\" >1.4223</td>\n",
       "      <td id=\"T_96a2a_row30_col2\" class=\"data row30 col2\" >1.1691</td>\n",
       "      <td id=\"T_96a2a_row30_col3\" class=\"data row30 col3\" >38.8564</td>\n",
       "      <td id=\"T_96a2a_row30_col4\" class=\"data row30 col4\" >46.6362</td>\n",
       "      <td id=\"T_96a2a_row30_col5\" class=\"data row30 col5\" >0.3558</td>\n",
       "      <td id=\"T_96a2a_row30_col6\" class=\"data row30 col6\" >0.2889</td>\n",
       "      <td id=\"T_96a2a_row30_col7\" class=\"data row30 col7\" >-1.4332</td>\n",
       "      <td id=\"T_96a2a_row30_col8\" class=\"data row30 col8\" >3.8833</td>\n",
       "    </tr>\n",
       "  </tbody>\n",
       "</table>\n"
      ],
      "text/plain": [
       "<pandas.io.formats.style.Styler at 0x1c8589fda10>"
      ]
     },
     "metadata": {},
     "output_type": "display_data"
    },
    {
     "data": {
      "text/html": [],
      "text/plain": [
       "<IPython.core.display.HTML object>"
      ]
     },
     "metadata": {},
     "output_type": "display_data"
    }
   ],
   "source": [
    "best = exp.compare_models(sort='rmse', turbo=False)\n",
    "comparison_results = exp.pull()\n",
    "best_model_name = comparison_results.iloc[0]['Model']\n",
    "mean_rmse_compare = comparison_results.iloc[0]['RMSE']"
   ]
  },
  {
   "cell_type": "markdown",
   "metadata": {},
   "source": [
    "#### Tune Model"
   ]
  },
  {
   "cell_type": "code",
   "execution_count": 168,
   "metadata": {},
   "outputs": [
    {
     "data": {
      "text/html": [],
      "text/plain": [
       "<IPython.core.display.HTML object>"
      ]
     },
     "metadata": {},
     "output_type": "display_data"
    },
    {
     "data": {
      "text/html": [
       "<style type=\"text/css\">\n",
       "#T_335a2_row3_col0, #T_335a2_row3_col1, #T_335a2_row3_col2, #T_335a2_row3_col3, #T_335a2_row3_col4, #T_335a2_row3_col5, #T_335a2_row3_col6, #T_335a2_row3_col7 {\n",
       "  background: yellow;\n",
       "}\n",
       "</style>\n",
       "<table id=\"T_335a2\">\n",
       "  <thead>\n",
       "    <tr>\n",
       "      <th class=\"blank level0\" >&nbsp;</th>\n",
       "      <th id=\"T_335a2_level0_col0\" class=\"col_heading level0 col0\" >cutoff</th>\n",
       "      <th id=\"T_335a2_level0_col1\" class=\"col_heading level0 col1\" >MASE</th>\n",
       "      <th id=\"T_335a2_level0_col2\" class=\"col_heading level0 col2\" >RMSSE</th>\n",
       "      <th id=\"T_335a2_level0_col3\" class=\"col_heading level0 col3\" >MAE</th>\n",
       "      <th id=\"T_335a2_level0_col4\" class=\"col_heading level0 col4\" >RMSE</th>\n",
       "      <th id=\"T_335a2_level0_col5\" class=\"col_heading level0 col5\" >MAPE</th>\n",
       "      <th id=\"T_335a2_level0_col6\" class=\"col_heading level0 col6\" >SMAPE</th>\n",
       "      <th id=\"T_335a2_level0_col7\" class=\"col_heading level0 col7\" >R2</th>\n",
       "    </tr>\n",
       "  </thead>\n",
       "  <tbody>\n",
       "    <tr>\n",
       "      <th id=\"T_335a2_level0_row0\" class=\"row_heading level0 row0\" >0</th>\n",
       "      <td id=\"T_335a2_row0_col0\" class=\"data row0 col0\" >2023-04</td>\n",
       "      <td id=\"T_335a2_row0_col1\" class=\"data row0 col1\" >0.7202</td>\n",
       "      <td id=\"T_335a2_row0_col2\" class=\"data row0 col2\" >0.5555</td>\n",
       "      <td id=\"T_335a2_row0_col3\" class=\"data row0 col3\" >20.6282</td>\n",
       "      <td id=\"T_335a2_row0_col4\" class=\"data row0 col4\" >23.4631</td>\n",
       "      <td id=\"T_335a2_row0_col5\" class=\"data row0 col5\" >0.1421</td>\n",
       "      <td id=\"T_335a2_row0_col6\" class=\"data row0 col6\" >0.1498</td>\n",
       "      <td id=\"T_335a2_row0_col7\" class=\"data row0 col7\" >-0.3412</td>\n",
       "    </tr>\n",
       "    <tr>\n",
       "      <th id=\"T_335a2_level0_row1\" class=\"row_heading level0 row1\" >1</th>\n",
       "      <td id=\"T_335a2_row1_col0\" class=\"data row1 col0\" >2023-08</td>\n",
       "      <td id=\"T_335a2_row1_col1\" class=\"data row1 col1\" >0.6919</td>\n",
       "      <td id=\"T_335a2_row1_col2\" class=\"data row1 col2\" >0.5005</td>\n",
       "      <td id=\"T_335a2_row1_col3\" class=\"data row1 col3\" >19.1473</td>\n",
       "      <td id=\"T_335a2_row1_col4\" class=\"data row1 col4\" >20.2343</td>\n",
       "      <td id=\"T_335a2_row1_col5\" class=\"data row1 col5\" >0.2156</td>\n",
       "      <td id=\"T_335a2_row1_col6\" class=\"data row1 col6\" >0.1903</td>\n",
       "      <td id=\"T_335a2_row1_col7\" class=\"data row1 col7\" >0.8192</td>\n",
       "    </tr>\n",
       "    <tr>\n",
       "      <th id=\"T_335a2_level0_row2\" class=\"row_heading level0 row2\" >2</th>\n",
       "      <td id=\"T_335a2_row2_col0\" class=\"data row2 col0\" >2023-12</td>\n",
       "      <td id=\"T_335a2_row2_col1\" class=\"data row2 col1\" >0.9132</td>\n",
       "      <td id=\"T_335a2_row2_col2\" class=\"data row2 col2\" >0.6797</td>\n",
       "      <td id=\"T_335a2_row2_col3\" class=\"data row2 col3\" >24.4279</td>\n",
       "      <td id=\"T_335a2_row2_col4\" class=\"data row2 col4\" >26.3439</td>\n",
       "      <td id=\"T_335a2_row2_col5\" class=\"data row2 col5\" >0.2157</td>\n",
       "      <td id=\"T_335a2_row2_col6\" class=\"data row2 col6\" >0.1955</td>\n",
       "      <td id=\"T_335a2_row2_col7\" class=\"data row2 col7\" >0.2698</td>\n",
       "    </tr>\n",
       "    <tr>\n",
       "      <th id=\"T_335a2_level0_row3\" class=\"row_heading level0 row3\" >Mean</th>\n",
       "      <td id=\"T_335a2_row3_col0\" class=\"data row3 col0\" >NaT</td>\n",
       "      <td id=\"T_335a2_row3_col1\" class=\"data row3 col1\" >0.7751</td>\n",
       "      <td id=\"T_335a2_row3_col2\" class=\"data row3 col2\" >0.5785</td>\n",
       "      <td id=\"T_335a2_row3_col3\" class=\"data row3 col3\" >21.4011</td>\n",
       "      <td id=\"T_335a2_row3_col4\" class=\"data row3 col4\" >23.3471</td>\n",
       "      <td id=\"T_335a2_row3_col5\" class=\"data row3 col5\" >0.1911</td>\n",
       "      <td id=\"T_335a2_row3_col6\" class=\"data row3 col6\" >0.1785</td>\n",
       "      <td id=\"T_335a2_row3_col7\" class=\"data row3 col7\" >0.2493</td>\n",
       "    </tr>\n",
       "    <tr>\n",
       "      <th id=\"T_335a2_level0_row4\" class=\"row_heading level0 row4\" >SD</th>\n",
       "      <td id=\"T_335a2_row4_col0\" class=\"data row4 col0\" >NaT</td>\n",
       "      <td id=\"T_335a2_row4_col1\" class=\"data row4 col1\" >0.0983</td>\n",
       "      <td id=\"T_335a2_row4_col2\" class=\"data row4 col2\" >0.0750</td>\n",
       "      <td id=\"T_335a2_row4_col3\" class=\"data row4 col3\" >2.2240</td>\n",
       "      <td id=\"T_335a2_row4_col4\" class=\"data row4 col4\" >2.4956</td>\n",
       "      <td id=\"T_335a2_row4_col5\" class=\"data row4 col5\" >0.0347</td>\n",
       "      <td id=\"T_335a2_row4_col6\" class=\"data row4 col6\" >0.0204</td>\n",
       "      <td id=\"T_335a2_row4_col7\" class=\"data row4 col7\" >0.4740</td>\n",
       "    </tr>\n",
       "  </tbody>\n",
       "</table>\n"
      ],
      "text/plain": [
       "<pandas.io.formats.style.Styler at 0x1c865e7a7d0>"
      ]
     },
     "metadata": {},
     "output_type": "display_data"
    },
    {
     "data": {
      "text/html": [],
      "text/plain": [
       "<IPython.core.display.HTML object>"
      ]
     },
     "metadata": {},
     "output_type": "display_data"
    },
    {
     "name": "stdout",
     "output_type": "stream",
     "text": [
      "Fitting 3 folds for each of 4 candidates, totalling 12 fits\n"
     ]
    },
    {
     "name": "stderr",
     "output_type": "stream",
     "text": [
      "[Parallel(n_jobs=-1)]: Using backend LokyBackend with 16 concurrent workers.\n",
      "[Parallel(n_jobs=-1)]: Done   7 out of  12 | elapsed:    0.3s remaining:    0.2s\n",
      "[Parallel(n_jobs=-1)]: Done  12 out of  12 | elapsed:    0.4s finished\n"
     ]
    }
   ],
   "source": [
    "try:\n",
    "    # Tune the model\n",
    "    tuned = exp.tune_model(best, optimize='RMSE', n_iter=50, choose_better=True)\n",
    "    # Retrieve the tuning results\n",
    "    tuned_results = exp.pull()\n",
    "    # Extract the mean RMSE from the results\n",
    "    mean_rmse = tuned_results.loc['Mean', 'RMSE']\n",
    "except ValueError:\n",
    "    print(\"Could Not Tune\")\n"
   ]
  },
  {
   "cell_type": "markdown",
   "metadata": {},
   "source": [
    "#### Finalizing Model"
   ]
  },
  {
   "cell_type": "code",
   "execution_count": 169,
   "metadata": {},
   "outputs": [],
   "source": [
    "try:\n",
    "    final = exp.finalize_model(tuned)\n",
    "except NameError:\n",
    "    final = exp.finalize_model(best)"
   ]
  },
  {
   "cell_type": "code",
   "execution_count": 170,
   "metadata": {},
   "outputs": [
    {
     "data": {
      "application/vnd.plotly.v1+json": {
       "config": {
        "plotlyServerURL": "https://plot.ly"
       },
       "data": [
        {
         "line": {
          "color": "#1f77b4"
         },
         "marker": {
          "size": 5
         },
         "mode": "lines+markers",
         "name": "Forecast | Seasonal Naive Forecaster",
         "showlegend": true,
         "type": "scatter",
         "x": [
          "2024-09-01T00:00:00",
          "2024-10-01T00:00:00",
          "2024-11-01T00:00:00",
          "2024-12-01T00:00:00"
         ],
         "y": [
          81.7108,
          96.8763,
          190.0989,
          81.6111
         ]
        },
        {
         "line": {
          "width": 0
         },
         "marker": {
          "color": "#68BBE3"
         },
         "mode": "lines",
         "name": "Lower Interval",
         "showlegend": false,
         "type": "scatter",
         "x": [
          "2024-09-01T00:00:00",
          "2024-10-01T00:00:00",
          "2024-11-01T00:00:00",
          "2024-12-01T00:00:00"
         ],
         "y": [
          21.0519,
          36.2174,
          129.4401,
          20.9523
         ]
        },
        {
         "fill": "tonexty",
         "fillcolor": "rgba(104,187,227,0.5)",
         "line": {
          "width": 0
         },
         "marker": {
          "color": "#68BBE3"
         },
         "mode": "lines",
         "name": "Prediction Interval | Seasonal Naive Forecaster",
         "showlegend": true,
         "type": "scatter",
         "x": [
          "2024-09-01T00:00:00",
          "2024-10-01T00:00:00",
          "2024-11-01T00:00:00",
          "2024-12-01T00:00:00"
         ],
         "y": [
          142.3696,
          157.5351,
          250.7577,
          142.2699
         ]
        },
        {
         "marker": {
          "color": "#3f3f3f",
          "size": 5
         },
         "mode": "lines+markers",
         "name": "Original",
         "showlegend": true,
         "type": "scatter",
         "x": [
          "2020-01-01T00:00:00",
          "2020-02-01T00:00:00",
          "2020-03-01T00:00:00",
          "2020-04-01T00:00:00",
          "2020-05-01T00:00:00",
          "2020-06-01T00:00:00",
          "2020-07-01T00:00:00",
          "2020-08-01T00:00:00",
          "2020-09-01T00:00:00",
          "2020-10-01T00:00:00",
          "2020-11-01T00:00:00",
          "2020-12-01T00:00:00",
          "2021-01-01T00:00:00",
          "2021-02-01T00:00:00",
          "2021-03-01T00:00:00",
          "2021-04-01T00:00:00",
          "2021-05-01T00:00:00",
          "2021-06-01T00:00:00",
          "2021-07-01T00:00:00",
          "2021-08-01T00:00:00",
          "2021-09-01T00:00:00",
          "2021-10-01T00:00:00",
          "2021-11-01T00:00:00",
          "2021-12-01T00:00:00",
          "2022-01-01T00:00:00",
          "2022-02-01T00:00:00",
          "2022-03-01T00:00:00",
          "2022-04-01T00:00:00",
          "2022-05-01T00:00:00",
          "2022-06-01T00:00:00",
          "2022-07-01T00:00:00",
          "2022-08-01T00:00:00",
          "2022-09-01T00:00:00",
          "2022-10-01T00:00:00",
          "2022-11-01T00:00:00",
          "2022-12-01T00:00:00",
          "2023-01-01T00:00:00",
          "2023-02-01T00:00:00",
          "2023-03-01T00:00:00",
          "2023-04-01T00:00:00",
          "2023-05-01T00:00:00",
          "2023-06-01T00:00:00",
          "2023-07-01T00:00:00",
          "2023-08-01T00:00:00",
          "2023-09-01T00:00:00",
          "2023-10-01T00:00:00",
          "2023-11-01T00:00:00",
          "2023-12-01T00:00:00",
          "2024-01-01T00:00:00",
          "2024-02-01T00:00:00",
          "2024-03-01T00:00:00",
          "2024-04-01T00:00:00",
          "2024-05-01T00:00:00",
          "2024-06-01T00:00:00",
          "2024-07-01T00:00:00",
          "2024-08-01T00:00:00"
         ],
         "y": [
          94.48426867666528,
          178.00005631870533,
          135.53240296500073,
          171.66339465181125,
          197.86424269455665,
          42.36042392223138,
          189.43958982498987,
          139.26644096164927,
          139.0679639595602,
          132.56121124037332,
          77.27214458969318,
          96.31568653811632,
          132.6405238819098,
          129.06246937110325,
          152.22210811211292,
          215.26382368651127,
          201.69879829594723,
          217.50858369662916,
          169.05954770552157,
          134.39585486194036,
          130.12508639980888,
          111.58891199530234,
          82.10792835226451,
          116.98695547953773,
          174.0869026225525,
          141.47415500980503,
          133.40402141070342,
          195.17290935814174,
          171.6445770003439,
          159.19795422041443,
          118.28637221943261,
          140.8410444518556,
          99.15483086571123,
          99.0773970068047,
          99.0773970068047,
          109.23564560150696,
          173.19727848228698,
          118.28637221943261,
          148.0460527805361,
          152.79392640875602,
          138.01978961165082,
          156.40145790347586,
          156.40145790347586,
          106.81404247157242,
          69.11596833675605,
          81.71078288839546,
          96.87627018367225,
          190.09890190631336,
          81.61110355022268,
          138.01978961165082,
          131.12277687091887,
          167.35870664089438,
          172.39517081628566,
          150.60129050402884,
          140.44956962311923,
          106.81404247157242
         ]
        }
       ],
       "layout": {
        "showlegend": true,
        "template": {
         "data": {
          "bar": [
           {
            "error_x": {
             "color": "rgb(51,51,51)"
            },
            "error_y": {
             "color": "rgb(51,51,51)"
            },
            "marker": {
             "line": {
              "color": "rgb(237,237,237)",
              "width": 0.5
             },
             "pattern": {
              "fillmode": "overlay",
              "size": 10,
              "solidity": 0.2
             }
            },
            "type": "bar"
           }
          ],
          "barpolar": [
           {
            "marker": {
             "line": {
              "color": "rgb(237,237,237)",
              "width": 0.5
             },
             "pattern": {
              "fillmode": "overlay",
              "size": 10,
              "solidity": 0.2
             }
            },
            "type": "barpolar"
           }
          ],
          "carpet": [
           {
            "aaxis": {
             "endlinecolor": "rgb(51,51,51)",
             "gridcolor": "white",
             "linecolor": "white",
             "minorgridcolor": "white",
             "startlinecolor": "rgb(51,51,51)"
            },
            "baxis": {
             "endlinecolor": "rgb(51,51,51)",
             "gridcolor": "white",
             "linecolor": "white",
             "minorgridcolor": "white",
             "startlinecolor": "rgb(51,51,51)"
            },
            "type": "carpet"
           }
          ],
          "choropleth": [
           {
            "colorbar": {
             "outlinewidth": 0,
             "tickcolor": "rgb(237,237,237)",
             "ticklen": 6,
             "ticks": "inside"
            },
            "type": "choropleth"
           }
          ],
          "contour": [
           {
            "colorbar": {
             "outlinewidth": 0,
             "tickcolor": "rgb(237,237,237)",
             "ticklen": 6,
             "ticks": "inside"
            },
            "colorscale": [
             [
              0,
              "rgb(20,44,66)"
             ],
             [
              1,
              "rgb(90,179,244)"
             ]
            ],
            "type": "contour"
           }
          ],
          "contourcarpet": [
           {
            "colorbar": {
             "outlinewidth": 0,
             "tickcolor": "rgb(237,237,237)",
             "ticklen": 6,
             "ticks": "inside"
            },
            "type": "contourcarpet"
           }
          ],
          "heatmap": [
           {
            "colorbar": {
             "outlinewidth": 0,
             "tickcolor": "rgb(237,237,237)",
             "ticklen": 6,
             "ticks": "inside"
            },
            "colorscale": [
             [
              0,
              "rgb(20,44,66)"
             ],
             [
              1,
              "rgb(90,179,244)"
             ]
            ],
            "type": "heatmap"
           }
          ],
          "heatmapgl": [
           {
            "colorbar": {
             "outlinewidth": 0,
             "tickcolor": "rgb(237,237,237)",
             "ticklen": 6,
             "ticks": "inside"
            },
            "colorscale": [
             [
              0,
              "rgb(20,44,66)"
             ],
             [
              1,
              "rgb(90,179,244)"
             ]
            ],
            "type": "heatmapgl"
           }
          ],
          "histogram": [
           {
            "marker": {
             "pattern": {
              "fillmode": "overlay",
              "size": 10,
              "solidity": 0.2
             }
            },
            "type": "histogram"
           }
          ],
          "histogram2d": [
           {
            "colorbar": {
             "outlinewidth": 0,
             "tickcolor": "rgb(237,237,237)",
             "ticklen": 6,
             "ticks": "inside"
            },
            "colorscale": [
             [
              0,
              "rgb(20,44,66)"
             ],
             [
              1,
              "rgb(90,179,244)"
             ]
            ],
            "type": "histogram2d"
           }
          ],
          "histogram2dcontour": [
           {
            "colorbar": {
             "outlinewidth": 0,
             "tickcolor": "rgb(237,237,237)",
             "ticklen": 6,
             "ticks": "inside"
            },
            "colorscale": [
             [
              0,
              "rgb(20,44,66)"
             ],
             [
              1,
              "rgb(90,179,244)"
             ]
            ],
            "type": "histogram2dcontour"
           }
          ],
          "mesh3d": [
           {
            "colorbar": {
             "outlinewidth": 0,
             "tickcolor": "rgb(237,237,237)",
             "ticklen": 6,
             "ticks": "inside"
            },
            "type": "mesh3d"
           }
          ],
          "parcoords": [
           {
            "line": {
             "colorbar": {
              "outlinewidth": 0,
              "tickcolor": "rgb(237,237,237)",
              "ticklen": 6,
              "ticks": "inside"
             }
            },
            "type": "parcoords"
           }
          ],
          "pie": [
           {
            "automargin": true,
            "type": "pie"
           }
          ],
          "scatter": [
           {
            "fillpattern": {
             "fillmode": "overlay",
             "size": 10,
             "solidity": 0.2
            },
            "type": "scatter"
           }
          ],
          "scatter3d": [
           {
            "line": {
             "colorbar": {
              "outlinewidth": 0,
              "tickcolor": "rgb(237,237,237)",
              "ticklen": 6,
              "ticks": "inside"
             }
            },
            "marker": {
             "colorbar": {
              "outlinewidth": 0,
              "tickcolor": "rgb(237,237,237)",
              "ticklen": 6,
              "ticks": "inside"
             }
            },
            "type": "scatter3d"
           }
          ],
          "scattercarpet": [
           {
            "marker": {
             "colorbar": {
              "outlinewidth": 0,
              "tickcolor": "rgb(237,237,237)",
              "ticklen": 6,
              "ticks": "inside"
             }
            },
            "type": "scattercarpet"
           }
          ],
          "scattergeo": [
           {
            "marker": {
             "colorbar": {
              "outlinewidth": 0,
              "tickcolor": "rgb(237,237,237)",
              "ticklen": 6,
              "ticks": "inside"
             }
            },
            "type": "scattergeo"
           }
          ],
          "scattergl": [
           {
            "marker": {
             "colorbar": {
              "outlinewidth": 0,
              "tickcolor": "rgb(237,237,237)",
              "ticklen": 6,
              "ticks": "inside"
             }
            },
            "type": "scattergl"
           }
          ],
          "scattermapbox": [
           {
            "marker": {
             "colorbar": {
              "outlinewidth": 0,
              "tickcolor": "rgb(237,237,237)",
              "ticklen": 6,
              "ticks": "inside"
             }
            },
            "type": "scattermapbox"
           }
          ],
          "scatterpolar": [
           {
            "marker": {
             "colorbar": {
              "outlinewidth": 0,
              "tickcolor": "rgb(237,237,237)",
              "ticklen": 6,
              "ticks": "inside"
             }
            },
            "type": "scatterpolar"
           }
          ],
          "scatterpolargl": [
           {
            "marker": {
             "colorbar": {
              "outlinewidth": 0,
              "tickcolor": "rgb(237,237,237)",
              "ticklen": 6,
              "ticks": "inside"
             }
            },
            "type": "scatterpolargl"
           }
          ],
          "scatterternary": [
           {
            "marker": {
             "colorbar": {
              "outlinewidth": 0,
              "tickcolor": "rgb(237,237,237)",
              "ticklen": 6,
              "ticks": "inside"
             }
            },
            "type": "scatterternary"
           }
          ],
          "surface": [
           {
            "colorbar": {
             "outlinewidth": 0,
             "tickcolor": "rgb(237,237,237)",
             "ticklen": 6,
             "ticks": "inside"
            },
            "colorscale": [
             [
              0,
              "rgb(20,44,66)"
             ],
             [
              1,
              "rgb(90,179,244)"
             ]
            ],
            "type": "surface"
           }
          ],
          "table": [
           {
            "cells": {
             "fill": {
              "color": "rgb(237,237,237)"
             },
             "line": {
              "color": "white"
             }
            },
            "header": {
             "fill": {
              "color": "rgb(217,217,217)"
             },
             "line": {
              "color": "white"
             }
            },
            "type": "table"
           }
          ]
         },
         "layout": {
          "annotationdefaults": {
           "arrowhead": 0,
           "arrowwidth": 1
          },
          "autotypenumbers": "strict",
          "coloraxis": {
           "colorbar": {
            "outlinewidth": 0,
            "tickcolor": "rgb(237,237,237)",
            "ticklen": 6,
            "ticks": "inside"
           }
          },
          "colorscale": {
           "sequential": [
            [
             0,
             "rgb(20,44,66)"
            ],
            [
             1,
             "rgb(90,179,244)"
            ]
           ],
           "sequentialminus": [
            [
             0,
             "rgb(20,44,66)"
            ],
            [
             1,
             "rgb(90,179,244)"
            ]
           ]
          },
          "colorway": [
           "#F8766D",
           "#A3A500",
           "#00BF7D",
           "#00B0F6",
           "#E76BF3"
          ],
          "font": {
           "color": "rgb(51,51,51)"
          },
          "geo": {
           "bgcolor": "white",
           "lakecolor": "white",
           "landcolor": "rgb(237,237,237)",
           "showlakes": true,
           "showland": true,
           "subunitcolor": "white"
          },
          "hoverlabel": {
           "align": "left"
          },
          "hovermode": "closest",
          "paper_bgcolor": "white",
          "plot_bgcolor": "rgb(237,237,237)",
          "polar": {
           "angularaxis": {
            "gridcolor": "white",
            "linecolor": "white",
            "showgrid": true,
            "tickcolor": "rgb(51,51,51)",
            "ticks": "outside"
           },
           "bgcolor": "rgb(237,237,237)",
           "radialaxis": {
            "gridcolor": "white",
            "linecolor": "white",
            "showgrid": true,
            "tickcolor": "rgb(51,51,51)",
            "ticks": "outside"
           }
          },
          "scene": {
           "xaxis": {
            "backgroundcolor": "rgb(237,237,237)",
            "gridcolor": "white",
            "gridwidth": 2,
            "linecolor": "white",
            "showbackground": true,
            "showgrid": true,
            "tickcolor": "rgb(51,51,51)",
            "ticks": "outside",
            "zerolinecolor": "white"
           },
           "yaxis": {
            "backgroundcolor": "rgb(237,237,237)",
            "gridcolor": "white",
            "gridwidth": 2,
            "linecolor": "white",
            "showbackground": true,
            "showgrid": true,
            "tickcolor": "rgb(51,51,51)",
            "ticks": "outside",
            "zerolinecolor": "white"
           },
           "zaxis": {
            "backgroundcolor": "rgb(237,237,237)",
            "gridcolor": "white",
            "gridwidth": 2,
            "linecolor": "white",
            "showbackground": true,
            "showgrid": true,
            "tickcolor": "rgb(51,51,51)",
            "ticks": "outside",
            "zerolinecolor": "white"
           }
          },
          "shapedefaults": {
           "fillcolor": "black",
           "line": {
            "width": 0
           },
           "opacity": 0.3
          },
          "ternary": {
           "aaxis": {
            "gridcolor": "white",
            "linecolor": "white",
            "showgrid": true,
            "tickcolor": "rgb(51,51,51)",
            "ticks": "outside"
           },
           "baxis": {
            "gridcolor": "white",
            "linecolor": "white",
            "showgrid": true,
            "tickcolor": "rgb(51,51,51)",
            "ticks": "outside"
           },
           "bgcolor": "rgb(237,237,237)",
           "caxis": {
            "gridcolor": "white",
            "linecolor": "white",
            "showgrid": true,
            "tickcolor": "rgb(51,51,51)",
            "ticks": "outside"
           }
          },
          "xaxis": {
           "automargin": true,
           "gridcolor": "white",
           "linecolor": "white",
           "showgrid": true,
           "tickcolor": "rgb(51,51,51)",
           "ticks": "outside",
           "title": {
            "standoff": 15
           },
           "zerolinecolor": "white"
          },
          "yaxis": {
           "automargin": true,
           "gridcolor": "white",
           "linecolor": "white",
           "showgrid": true,
           "tickcolor": "rgb(51,51,51)",
           "ticks": "outside",
           "title": {
            "standoff": 15
           },
           "zerolinecolor": "white"
          }
         }
        },
        "title": {
         "text": "Actual vs. 'Out-of-Sample' Forecast | boxcox_units"
        },
        "xaxis": {
         "title": {
          "text": "Time"
         }
        },
        "yaxis": {
         "title": {
          "text": "Values"
         }
        }
       }
      }
     },
     "metadata": {},
     "output_type": "display_data"
    }
   ],
   "source": [
    "exp.plot_model(final)"
   ]
  },
  {
   "cell_type": "code",
   "execution_count": 171,
   "metadata": {},
   "outputs": [
    {
     "data": {
      "text/html": [
       "<div>\n",
       "<style scoped>\n",
       "    .dataframe tbody tr th:only-of-type {\n",
       "        vertical-align: middle;\n",
       "    }\n",
       "\n",
       "    .dataframe tbody tr th {\n",
       "        vertical-align: top;\n",
       "    }\n",
       "\n",
       "    .dataframe thead th {\n",
       "        text-align: right;\n",
       "    }\n",
       "</style>\n",
       "<table border=\"1\" class=\"dataframe\">\n",
       "  <thead>\n",
       "    <tr style=\"text-align: right;\">\n",
       "      <th></th>\n",
       "      <th>y_pred</th>\n",
       "    </tr>\n",
       "  </thead>\n",
       "  <tbody>\n",
       "    <tr>\n",
       "      <th>2024-09</th>\n",
       "      <td>81.7108</td>\n",
       "    </tr>\n",
       "    <tr>\n",
       "      <th>2024-10</th>\n",
       "      <td>96.8763</td>\n",
       "    </tr>\n",
       "    <tr>\n",
       "      <th>2024-11</th>\n",
       "      <td>190.0989</td>\n",
       "    </tr>\n",
       "    <tr>\n",
       "      <th>2024-12</th>\n",
       "      <td>81.6111</td>\n",
       "    </tr>\n",
       "  </tbody>\n",
       "</table>\n",
       "</div>"
      ],
      "text/plain": [
       "           y_pred\n",
       "2024-09   81.7108\n",
       "2024-10   96.8763\n",
       "2024-11  190.0989\n",
       "2024-12   81.6111"
      ]
     },
     "execution_count": 171,
     "metadata": {},
     "output_type": "execute_result"
    }
   ],
   "source": [
    "unseen_predictions = exp.predict_model(final)\n",
    "#unseen_predictions = exp.predict_model(final, fh=forecast_lenth_array, X=prediction_df)\n",
    "unseen_predictions"
   ]
  },
  {
   "cell_type": "markdown",
   "metadata": {},
   "source": [
    "## Reversing Transformation"
   ]
  },
  {
   "cell_type": "code",
   "execution_count": 172,
   "metadata": {},
   "outputs": [],
   "source": [
    "from scipy.special import inv_boxcox\n",
    "\n",
    "last_original_value = box_cox_df['boxcox_units'].iloc[-1]\n",
    "\n",
    "# Reverse differencing (undo stationarity) if we applied it\n",
    "if p_value < 0.05:\n",
    "    reversed_diff_predictions = unseen_predictions\n",
    "    reversed_diff_benchmark = future_forecast\n",
    "else:\n",
    "    reversed_diff_predictions = unseen_predictions.cumsum() + last_original_value\n",
    "    reversed_diff_benchmark = future_forecast.cumsum() + last_original_value\n",
    "\n",
    "# lambda value for Box-Cox transformation\n",
    "boxcox_lambda = optimal_lambda\n",
    "\n",
    "# Reverse Box-Cox transformation\n",
    "original_scale_predictions = inv_boxcox(reversed_diff_predictions, boxcox_lambda)\n",
    "original_scale_benchmark = inv_boxcox(reversed_diff_benchmark, boxcox_lambda)\n",
    "original_scale_predictions['y_pred'] = original_scale_predictions['y_pred'] * growth_rate"
   ]
  },
  {
   "cell_type": "code",
   "execution_count": 173,
   "metadata": {},
   "outputs": [],
   "source": [
    "# making it so we can plot the forecast\n",
    "unchanged_df.index = unchanged_df['Date']\n",
    "unchanged_df = unchanged_df.drop(columns = ['Date'])"
   ]
  },
  {
   "cell_type": "markdown",
   "metadata": {},
   "source": [
    "### Visualizing Prediction"
   ]
  },
  {
   "cell_type": "code",
   "execution_count": 174,
   "metadata": {},
   "outputs": [
    {
     "data": {
      "text/html": [
       "<div>\n",
       "<style scoped>\n",
       "    .dataframe tbody tr th:only-of-type {\n",
       "        vertical-align: middle;\n",
       "    }\n",
       "\n",
       "    .dataframe tbody tr th {\n",
       "        vertical-align: top;\n",
       "    }\n",
       "\n",
       "    .dataframe thead th {\n",
       "        text-align: right;\n",
       "    }\n",
       "</style>\n",
       "<table border=\"1\" class=\"dataframe\">\n",
       "  <thead>\n",
       "    <tr style=\"text-align: right;\">\n",
       "      <th></th>\n",
       "      <th>y_pred</th>\n",
       "      <th>Benchmark Values</th>\n",
       "    </tr>\n",
       "    <tr>\n",
       "      <th>Month</th>\n",
       "      <th></th>\n",
       "      <th></th>\n",
       "    </tr>\n",
       "  </thead>\n",
       "  <tbody>\n",
       "    <tr>\n",
       "      <th>2024-09</th>\n",
       "      <td>4,332</td>\n",
       "      <td>4,320</td>\n",
       "    </tr>\n",
       "    <tr>\n",
       "      <th>2024-10</th>\n",
       "      <td>6,384</td>\n",
       "      <td>14,364</td>\n",
       "    </tr>\n",
       "    <tr>\n",
       "      <th>2024-11</th>\n",
       "      <td>30,036</td>\n",
       "      <td>12,768</td>\n",
       "    </tr>\n",
       "    <tr>\n",
       "      <th>2024-12</th>\n",
       "      <td>4,320</td>\n",
       "      <td>22,386</td>\n",
       "    </tr>\n",
       "  </tbody>\n",
       "</table>\n",
       "</div>"
      ],
      "text/plain": [
       "         y_pred Benchmark Values\n",
       "Month                           \n",
       "2024-09   4,332            4,320\n",
       "2024-10   6,384           14,364\n",
       "2024-11  30,036           12,768\n",
       "2024-12   4,320           22,386"
      ]
     },
     "metadata": {},
     "output_type": "display_data"
    },
    {
     "name": "stdout",
     "output_type": "stream",
     "text": [
      "Snaive with RMSE: 19.17\n",
      "Best Tuned model: Seasonal Naive Forecaster with RMSE 23.35\n"
     ]
    },
    {
     "data": {
      "image/png": "[encoded data removed]",
      "text/plain": [
       "<Figure size 1400x500 with 1 Axes>"
      ]
     },
     "metadata": {},
     "output_type": "display_data"
    }
   ],
   "source": [
    "# Ensure the index is a DatetimeIndex before converting it to PeriodIndex\n",
    "if isinstance(original_scale_predictions.index, pd.PeriodIndex):\n",
    "    original_scale_predictions.index = original_scale_predictions.index.to_timestamp()\n",
    "\n",
    "if isinstance(original_scale_benchmark.index, pd.PeriodIndex):\n",
    "    original_scale_benchmark.index = original_scale_benchmark.index.to_timestamp()\n",
    "\n",
    "# Convert the index to show only \"YYYY-MM\"\n",
    "original_scale_predictions.index = original_scale_predictions.index.to_period('M').strftime('%Y-%m')\n",
    "original_scale_benchmark.index = original_scale_benchmark.index.to_period('M').strftime('%Y-%m')\n",
    "\n",
    "# Rename the Series\n",
    "original_scale_predictions.name = 'Predicted Values'\n",
    "original_scale_benchmark.name = 'Benchmark Values'\n",
    "\n",
    "# Display both side by side, after ensuring indexes match\n",
    "merged_df = pd.concat([original_scale_predictions, original_scale_benchmark], axis=1)\n",
    "merged_df.index.name = 'Month'  # Optionally, rename the index for clarity\n",
    "merged_df = merged_df.round(0).applymap(lambda x: f\"{int(x):,}\" if pd.notnull(x) else '')\n",
    "# Display the formatted DataFrame\n",
    "display(merged_df)\n",
    "\n",
    "\n",
    "# Print RMSE and model information\n",
    "print(f\"{best_method.capitalize()} with RMSE: {forecast_scores[best_method]['RMSE']:.2f}\")\n",
    "try:\n",
    "    print(f\"Best Tuned model: {best_model_name} with RMSE {mean_rmse:.2f}\")\n",
    "except NameError:\n",
    "    print(f\"Best Untuned model: {best_model_name} with Mean RMSE: {mean_rmse_compare:.2f}\")\n",
    "\n",
    "# Plotting forecast with original data\n",
    "plt.figure(figsize=(14, 5))\n",
    "plt.plot(unchanged_df.index, unchanged_df['Quantity'], label='Original Data')\n",
    "plt.scatter(pd.to_datetime(original_scale_predictions.index), original_scale_predictions, color='red', label='Forecast', s=25)\n",
    "plt.plot(pd.to_datetime(original_scale_predictions.index), original_scale_predictions, color='red', label='Forecast')\n",
    "plt.plot(pd.to_datetime(original_scale_benchmark.index), original_scale_benchmark, label=f'Benchmark ({best_method.capitalize()})', color='black', linestyle='-')\n",
    "plt.title(f'{item} Forecasting with PyCaret', fontsize=16)\n",
    "plt.xlabel('Date', fontsize=16)\n",
    "plt.ylabel('Quantity', fontsize=16)\n",
    "plt.legend(loc='upper left')\n",
    "plt.show()"
   ]
  },
  {
   "cell_type": "code",
   "execution_count": null,
   "metadata": {},
   "outputs": [],
   "source": []
  }
 ],
 "metadata": {
  "kernelspec": {
   "display_name": "myenv",
   "language": "python",
   "name": "python3"
  },
  "language_info": {
   "codemirror_mode": {
    "name": "ipython",
    "version": 3
   },
   "file_extension": ".py",
   "mimetype": "text/x-python",
   "name": "python",
   "nbconvert_exporter": "python",
   "pygments_lexer": "ipython3",
   "version": "3.11.9"
  }
 },
 "nbformat": 4,
 "nbformat_minor": 2
}
