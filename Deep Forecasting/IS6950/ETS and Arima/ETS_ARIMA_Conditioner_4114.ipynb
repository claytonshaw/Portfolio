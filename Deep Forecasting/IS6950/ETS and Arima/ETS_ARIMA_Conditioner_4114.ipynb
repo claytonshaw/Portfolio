{
 "cells": [
  {
   "cell_type": "code",
   "execution_count": 152,
   "metadata": {},
   "outputs": [],
   "source": [
    "import pandas as pd"
   ]
  },
  {
   "cell_type": "code",
   "execution_count": 153,
   "metadata": {},
   "outputs": [
    {
     "data": {
      "text/plain": [
       "Index(['Customer Name', 'Parent', 'Account Manager', 'Item',\n",
       "       'Item Description', 'Product Group', 'Parent Product Group',\n",
       "       'Netsuite Link', 'Sales Order', 'Customer PO', 'Tracking Numbers',\n",
       "       'Invoice Status', 'Date Created', 'Date', 'Ship Date',\n",
       "       'Import/Domestic', 'Location', 'Is Individual', 'Quantity', 'Amount',\n",
       "       'Sell Price', 'Shipping State/Province', 'Online Flag', 'Internal ID',\n",
       "       'Shipping Address'],\n",
       "      dtype='object')"
      ]
     },
     "execution_count": 153,
     "metadata": {},
     "output_type": "execute_result"
    }
   ],
   "source": [
    "df = pd.read_csv('Items Shipped.csv')\n",
    "df.columns"
   ]
  },
  {
   "cell_type": "markdown",
   "metadata": {},
   "source": [
    "### Setting Up Data"
   ]
  },
  {
   "cell_type": "code",
   "execution_count": 154,
   "metadata": {},
   "outputs": [
    {
     "data": {
      "text/html": [
       "<div>\n",
       "<style scoped>\n",
       "    .dataframe tbody tr th:only-of-type {\n",
       "        vertical-align: middle;\n",
       "    }\n",
       "\n",
       "    .dataframe tbody tr th {\n",
       "        vertical-align: top;\n",
       "    }\n",
       "\n",
       "    .dataframe thead th {\n",
       "        text-align: right;\n",
       "    }\n",
       "</style>\n",
       "<table border=\"1\" class=\"dataframe\">\n",
       "  <thead>\n",
       "    <tr style=\"text-align: right;\">\n",
       "      <th></th>\n",
       "      <th>Quantity</th>\n",
       "    </tr>\n",
       "    <tr>\n",
       "      <th>Ship Date</th>\n",
       "      <th></th>\n",
       "    </tr>\n",
       "  </thead>\n",
       "  <tbody>\n",
       "    <tr>\n",
       "      <th>2020-01-31</th>\n",
       "      <td>14981.0</td>\n",
       "    </tr>\n",
       "    <tr>\n",
       "      <th>2020-02-29</th>\n",
       "      <td>30057.0</td>\n",
       "    </tr>\n",
       "    <tr>\n",
       "      <th>2020-03-31</th>\n",
       "      <td>17657.0</td>\n",
       "    </tr>\n",
       "    <tr>\n",
       "      <th>2020-04-30</th>\n",
       "      <td>13723.0</td>\n",
       "    </tr>\n",
       "    <tr>\n",
       "      <th>2020-05-31</th>\n",
       "      <td>39238.0</td>\n",
       "    </tr>\n",
       "  </tbody>\n",
       "</table>\n",
       "</div>"
      ],
      "text/plain": [
       "            Quantity\n",
       "Ship Date           \n",
       "2020-01-31   14981.0\n",
       "2020-02-29   30057.0\n",
       "2020-03-31   17657.0\n",
       "2020-04-30   13723.0\n",
       "2020-05-31   39238.0"
      ]
     },
     "execution_count": 154,
     "metadata": {},
     "output_type": "execute_result"
    }
   ],
   "source": [
    "# converting ship date to pandas datetime\n",
    "df['Ship Date'] = pd.to_datetime(df['Ship Date'])\n",
    "\n",
    "# filtering to the conditioner item\n",
    "item = '4114'\n",
    "filtered_df = df[(df['Item'] == item) & (df['Import/Domestic'] == 'Domestic')]\n",
    "# # grouping quantity to frequency of month\n",
    "new_df = filtered_df.groupby(pd.Grouper(key='Ship Date', freq=\"M\"))['Quantity'].sum().reset_index()\n",
    "new_df.set_index('Ship Date', inplace=True)\n",
    "new_df.head()"
   ]
  },
  {
   "cell_type": "code",
   "execution_count": 155,
   "metadata": {},
   "outputs": [
    {
     "name": "stdout",
     "output_type": "stream",
     "text": [
      "<class 'pandas.core.frame.DataFrame'>\n",
      "DatetimeIndex: 53 entries, 2020-01-31 to 2024-05-31\n",
      "Data columns (total 1 columns):\n",
      " #   Column    Non-Null Count  Dtype  \n",
      "---  ------    --------------  -----  \n",
      " 0   Quantity  53 non-null     float64\n",
      "dtypes: float64(1)\n",
      "memory usage: 848.0 bytes\n"
     ]
    }
   ],
   "source": [
    "new_df.info()"
   ]
  },
  {
   "cell_type": "code",
   "execution_count": 156,
   "metadata": {},
   "outputs": [
    {
     "data": {
      "text/html": [
       "<style type=\"text/css\">\n",
       "#T_46b2c_row25_col1 {\n",
       "  background-color: lightgreen;\n",
       "}\n",
       "</style>\n",
       "<table id=\"T_46b2c\">\n",
       "  <thead>\n",
       "    <tr>\n",
       "      <th class=\"blank level0\" >&nbsp;</th>\n",
       "      <th id=\"T_46b2c_level0_col0\" class=\"col_heading level0 col0\" >Description</th>\n",
       "      <th id=\"T_46b2c_level0_col1\" class=\"col_heading level0 col1\" >Value</th>\n",
       "    </tr>\n",
       "  </thead>\n",
       "  <tbody>\n",
       "    <tr>\n",
       "      <th id=\"T_46b2c_level0_row0\" class=\"row_heading level0 row0\" >0</th>\n",
       "      <td id=\"T_46b2c_row0_col0\" class=\"data row0 col0\" >session_id</td>\n",
       "      <td id=\"T_46b2c_row0_col1\" class=\"data row0 col1\" >8412</td>\n",
       "    </tr>\n",
       "    <tr>\n",
       "      <th id=\"T_46b2c_level0_row1\" class=\"row_heading level0 row1\" >1</th>\n",
       "      <td id=\"T_46b2c_row1_col0\" class=\"data row1 col0\" >Target</td>\n",
       "      <td id=\"T_46b2c_row1_col1\" class=\"data row1 col1\" >Quantity</td>\n",
       "    </tr>\n",
       "    <tr>\n",
       "      <th id=\"T_46b2c_level0_row2\" class=\"row_heading level0 row2\" >2</th>\n",
       "      <td id=\"T_46b2c_row2_col0\" class=\"data row2 col0\" >Approach</td>\n",
       "      <td id=\"T_46b2c_row2_col1\" class=\"data row2 col1\" >Univariate</td>\n",
       "    </tr>\n",
       "    <tr>\n",
       "      <th id=\"T_46b2c_level0_row3\" class=\"row_heading level0 row3\" >3</th>\n",
       "      <td id=\"T_46b2c_row3_col0\" class=\"data row3 col0\" >Exogenous Variables</td>\n",
       "      <td id=\"T_46b2c_row3_col1\" class=\"data row3 col1\" >Not Present</td>\n",
       "    </tr>\n",
       "    <tr>\n",
       "      <th id=\"T_46b2c_level0_row4\" class=\"row_heading level0 row4\" >4</th>\n",
       "      <td id=\"T_46b2c_row4_col0\" class=\"data row4 col0\" >Original data shape</td>\n",
       "      <td id=\"T_46b2c_row4_col1\" class=\"data row4 col1\" >(53, 1)</td>\n",
       "    </tr>\n",
       "    <tr>\n",
       "      <th id=\"T_46b2c_level0_row5\" class=\"row_heading level0 row5\" >5</th>\n",
       "      <td id=\"T_46b2c_row5_col0\" class=\"data row5 col0\" >Transformed data shape</td>\n",
       "      <td id=\"T_46b2c_row5_col1\" class=\"data row5 col1\" >(53, 1)</td>\n",
       "    </tr>\n",
       "    <tr>\n",
       "      <th id=\"T_46b2c_level0_row6\" class=\"row_heading level0 row6\" >6</th>\n",
       "      <td id=\"T_46b2c_row6_col0\" class=\"data row6 col0\" >Transformed train set shape</td>\n",
       "      <td id=\"T_46b2c_row6_col1\" class=\"data row6 col1\" >(50, 1)</td>\n",
       "    </tr>\n",
       "    <tr>\n",
       "      <th id=\"T_46b2c_level0_row7\" class=\"row_heading level0 row7\" >7</th>\n",
       "      <td id=\"T_46b2c_row7_col0\" class=\"data row7 col0\" >Transformed test set shape</td>\n",
       "      <td id=\"T_46b2c_row7_col1\" class=\"data row7 col1\" >(3, 1)</td>\n",
       "    </tr>\n",
       "    <tr>\n",
       "      <th id=\"T_46b2c_level0_row8\" class=\"row_heading level0 row8\" >8</th>\n",
       "      <td id=\"T_46b2c_row8_col0\" class=\"data row8 col0\" >Rows with missing values</td>\n",
       "      <td id=\"T_46b2c_row8_col1\" class=\"data row8 col1\" >0.0%</td>\n",
       "    </tr>\n",
       "    <tr>\n",
       "      <th id=\"T_46b2c_level0_row9\" class=\"row_heading level0 row9\" >9</th>\n",
       "      <td id=\"T_46b2c_row9_col0\" class=\"data row9 col0\" >Fold Generator</td>\n",
       "      <td id=\"T_46b2c_row9_col1\" class=\"data row9 col1\" >ExpandingWindowSplitter</td>\n",
       "    </tr>\n",
       "    <tr>\n",
       "      <th id=\"T_46b2c_level0_row10\" class=\"row_heading level0 row10\" >10</th>\n",
       "      <td id=\"T_46b2c_row10_col0\" class=\"data row10 col0\" >Fold Number</td>\n",
       "      <td id=\"T_46b2c_row10_col1\" class=\"data row10 col1\" >3</td>\n",
       "    </tr>\n",
       "    <tr>\n",
       "      <th id=\"T_46b2c_level0_row11\" class=\"row_heading level0 row11\" >11</th>\n",
       "      <td id=\"T_46b2c_row11_col0\" class=\"data row11 col0\" >Enforce Prediction Interval</td>\n",
       "      <td id=\"T_46b2c_row11_col1\" class=\"data row11 col1\" >False</td>\n",
       "    </tr>\n",
       "    <tr>\n",
       "      <th id=\"T_46b2c_level0_row12\" class=\"row_heading level0 row12\" >12</th>\n",
       "      <td id=\"T_46b2c_row12_col0\" class=\"data row12 col0\" >Splits used for hyperparameters</td>\n",
       "      <td id=\"T_46b2c_row12_col1\" class=\"data row12 col1\" >all</td>\n",
       "    </tr>\n",
       "    <tr>\n",
       "      <th id=\"T_46b2c_level0_row13\" class=\"row_heading level0 row13\" >13</th>\n",
       "      <td id=\"T_46b2c_row13_col0\" class=\"data row13 col0\" >User Defined Seasonal Period(s)</td>\n",
       "      <td id=\"T_46b2c_row13_col1\" class=\"data row13 col1\" >None</td>\n",
       "    </tr>\n",
       "    <tr>\n",
       "      <th id=\"T_46b2c_level0_row14\" class=\"row_heading level0 row14\" >14</th>\n",
       "      <td id=\"T_46b2c_row14_col0\" class=\"data row14 col0\" >Ignore Seasonality Test</td>\n",
       "      <td id=\"T_46b2c_row14_col1\" class=\"data row14 col1\" >False</td>\n",
       "    </tr>\n",
       "    <tr>\n",
       "      <th id=\"T_46b2c_level0_row15\" class=\"row_heading level0 row15\" >15</th>\n",
       "      <td id=\"T_46b2c_row15_col0\" class=\"data row15 col0\" >Seasonality Detection Algo</td>\n",
       "      <td id=\"T_46b2c_row15_col1\" class=\"data row15 col1\" >auto</td>\n",
       "    </tr>\n",
       "    <tr>\n",
       "      <th id=\"T_46b2c_level0_row16\" class=\"row_heading level0 row16\" >16</th>\n",
       "      <td id=\"T_46b2c_row16_col0\" class=\"data row16 col0\" >Max Period to Consider</td>\n",
       "      <td id=\"T_46b2c_row16_col1\" class=\"data row16 col1\" >60</td>\n",
       "    </tr>\n",
       "    <tr>\n",
       "      <th id=\"T_46b2c_level0_row17\" class=\"row_heading level0 row17\" >17</th>\n",
       "      <td id=\"T_46b2c_row17_col0\" class=\"data row17 col0\" >Seasonal Period(s) Tested</td>\n",
       "      <td id=\"T_46b2c_row17_col1\" class=\"data row17 col1\" >[11]</td>\n",
       "    </tr>\n",
       "    <tr>\n",
       "      <th id=\"T_46b2c_level0_row18\" class=\"row_heading level0 row18\" >18</th>\n",
       "      <td id=\"T_46b2c_row18_col0\" class=\"data row18 col0\" >Significant Seasonal Period(s)</td>\n",
       "      <td id=\"T_46b2c_row18_col1\" class=\"data row18 col1\" >[11]</td>\n",
       "    </tr>\n",
       "    <tr>\n",
       "      <th id=\"T_46b2c_level0_row19\" class=\"row_heading level0 row19\" >19</th>\n",
       "      <td id=\"T_46b2c_row19_col0\" class=\"data row19 col0\" >Significant Seasonal Period(s) without Harmonics</td>\n",
       "      <td id=\"T_46b2c_row19_col1\" class=\"data row19 col1\" >[11]</td>\n",
       "    </tr>\n",
       "    <tr>\n",
       "      <th id=\"T_46b2c_level0_row20\" class=\"row_heading level0 row20\" >20</th>\n",
       "      <td id=\"T_46b2c_row20_col0\" class=\"data row20 col0\" >Remove Harmonics</td>\n",
       "      <td id=\"T_46b2c_row20_col1\" class=\"data row20 col1\" >False</td>\n",
       "    </tr>\n",
       "    <tr>\n",
       "      <th id=\"T_46b2c_level0_row21\" class=\"row_heading level0 row21\" >21</th>\n",
       "      <td id=\"T_46b2c_row21_col0\" class=\"data row21 col0\" >Harmonics Order Method</td>\n",
       "      <td id=\"T_46b2c_row21_col1\" class=\"data row21 col1\" >harmonic_max</td>\n",
       "    </tr>\n",
       "    <tr>\n",
       "      <th id=\"T_46b2c_level0_row22\" class=\"row_heading level0 row22\" >22</th>\n",
       "      <td id=\"T_46b2c_row22_col0\" class=\"data row22 col0\" >Num Seasonalities to Use</td>\n",
       "      <td id=\"T_46b2c_row22_col1\" class=\"data row22 col1\" >1</td>\n",
       "    </tr>\n",
       "    <tr>\n",
       "      <th id=\"T_46b2c_level0_row23\" class=\"row_heading level0 row23\" >23</th>\n",
       "      <td id=\"T_46b2c_row23_col0\" class=\"data row23 col0\" >All Seasonalities to Use</td>\n",
       "      <td id=\"T_46b2c_row23_col1\" class=\"data row23 col1\" >[11]</td>\n",
       "    </tr>\n",
       "    <tr>\n",
       "      <th id=\"T_46b2c_level0_row24\" class=\"row_heading level0 row24\" >24</th>\n",
       "      <td id=\"T_46b2c_row24_col0\" class=\"data row24 col0\" >Primary Seasonality</td>\n",
       "      <td id=\"T_46b2c_row24_col1\" class=\"data row24 col1\" >11</td>\n",
       "    </tr>\n",
       "    <tr>\n",
       "      <th id=\"T_46b2c_level0_row25\" class=\"row_heading level0 row25\" >25</th>\n",
       "      <td id=\"T_46b2c_row25_col0\" class=\"data row25 col0\" >Seasonality Present</td>\n",
       "      <td id=\"T_46b2c_row25_col1\" class=\"data row25 col1\" >True</td>\n",
       "    </tr>\n",
       "    <tr>\n",
       "      <th id=\"T_46b2c_level0_row26\" class=\"row_heading level0 row26\" >26</th>\n",
       "      <td id=\"T_46b2c_row26_col0\" class=\"data row26 col0\" >Seasonality Type</td>\n",
       "      <td id=\"T_46b2c_row26_col1\" class=\"data row26 col1\" >mul</td>\n",
       "    </tr>\n",
       "    <tr>\n",
       "      <th id=\"T_46b2c_level0_row27\" class=\"row_heading level0 row27\" >27</th>\n",
       "      <td id=\"T_46b2c_row27_col0\" class=\"data row27 col0\" >Target Strictly Positive</td>\n",
       "      <td id=\"T_46b2c_row27_col1\" class=\"data row27 col1\" >True</td>\n",
       "    </tr>\n",
       "    <tr>\n",
       "      <th id=\"T_46b2c_level0_row28\" class=\"row_heading level0 row28\" >28</th>\n",
       "      <td id=\"T_46b2c_row28_col0\" class=\"data row28 col0\" >Target White Noise</td>\n",
       "      <td id=\"T_46b2c_row28_col1\" class=\"data row28 col1\" >No</td>\n",
       "    </tr>\n",
       "    <tr>\n",
       "      <th id=\"T_46b2c_level0_row29\" class=\"row_heading level0 row29\" >29</th>\n",
       "      <td id=\"T_46b2c_row29_col0\" class=\"data row29 col0\" >Recommended d</td>\n",
       "      <td id=\"T_46b2c_row29_col1\" class=\"data row29 col1\" >1</td>\n",
       "    </tr>\n",
       "    <tr>\n",
       "      <th id=\"T_46b2c_level0_row30\" class=\"row_heading level0 row30\" >30</th>\n",
       "      <td id=\"T_46b2c_row30_col0\" class=\"data row30 col0\" >Recommended Seasonal D</td>\n",
       "      <td id=\"T_46b2c_row30_col1\" class=\"data row30 col1\" >0</td>\n",
       "    </tr>\n",
       "    <tr>\n",
       "      <th id=\"T_46b2c_level0_row31\" class=\"row_heading level0 row31\" >31</th>\n",
       "      <td id=\"T_46b2c_row31_col0\" class=\"data row31 col0\" >Preprocess</td>\n",
       "      <td id=\"T_46b2c_row31_col1\" class=\"data row31 col1\" >False</td>\n",
       "    </tr>\n",
       "    <tr>\n",
       "      <th id=\"T_46b2c_level0_row32\" class=\"row_heading level0 row32\" >32</th>\n",
       "      <td id=\"T_46b2c_row32_col0\" class=\"data row32 col0\" >CPU Jobs</td>\n",
       "      <td id=\"T_46b2c_row32_col1\" class=\"data row32 col1\" >-1</td>\n",
       "    </tr>\n",
       "    <tr>\n",
       "      <th id=\"T_46b2c_level0_row33\" class=\"row_heading level0 row33\" >33</th>\n",
       "      <td id=\"T_46b2c_row33_col0\" class=\"data row33 col0\" >Use GPU</td>\n",
       "      <td id=\"T_46b2c_row33_col1\" class=\"data row33 col1\" >False</td>\n",
       "    </tr>\n",
       "    <tr>\n",
       "      <th id=\"T_46b2c_level0_row34\" class=\"row_heading level0 row34\" >34</th>\n",
       "      <td id=\"T_46b2c_row34_col0\" class=\"data row34 col0\" >Log Experiment</td>\n",
       "      <td id=\"T_46b2c_row34_col1\" class=\"data row34 col1\" >False</td>\n",
       "    </tr>\n",
       "    <tr>\n",
       "      <th id=\"T_46b2c_level0_row35\" class=\"row_heading level0 row35\" >35</th>\n",
       "      <td id=\"T_46b2c_row35_col0\" class=\"data row35 col0\" >Experiment Name</td>\n",
       "      <td id=\"T_46b2c_row35_col1\" class=\"data row35 col1\" >ts-default-name</td>\n",
       "    </tr>\n",
       "    <tr>\n",
       "      <th id=\"T_46b2c_level0_row36\" class=\"row_heading level0 row36\" >36</th>\n",
       "      <td id=\"T_46b2c_row36_col0\" class=\"data row36 col0\" >USI</td>\n",
       "      <td id=\"T_46b2c_row36_col1\" class=\"data row36 col1\" >326f</td>\n",
       "    </tr>\n",
       "  </tbody>\n",
       "</table>\n"
      ],
      "text/plain": [
       "<pandas.io.formats.style.Styler at 0x284e0168be0>"
      ]
     },
     "metadata": {},
     "output_type": "display_data"
    },
    {
     "data": {
      "text/plain": [
       "<pycaret.time_series.forecasting.oop.TSForecastingExperiment at 0x284e016a4a0>"
      ]
     },
     "execution_count": 156,
     "metadata": {},
     "output_type": "execute_result"
    }
   ],
   "source": [
    "from pycaret.time_series import *\n",
    "\n",
    "exp = TSForecastingExperiment()\n",
    "exp.setup(data = new_df, target='Quantity', fh=3, coverage=0.90)"
   ]
  },
  {
   "cell_type": "code",
   "execution_count": 157,
   "metadata": {},
   "outputs": [
    {
     "data": {
      "application/vnd.plotly.v1+json": {
       "config": {
        "plotlyServerURL": "https://plot.ly"
       },
       "data": [
        {
         "line": {
          "color": "rgb(31, 119, 180)",
          "width": 2
         },
         "marker": {
          "color": "rgb(31, 119, 180)",
          "size": 5
         },
         "mode": "lines+markers",
         "name": "Quantity (original)",
         "type": "scattergl",
         "x": [
          "2020-01-01T00:00:00",
          "2020-02-01T00:00:00",
          "2020-03-01T00:00:00",
          "2020-04-01T00:00:00",
          "2020-05-01T00:00:00",
          "2020-06-01T00:00:00",
          "2020-07-01T00:00:00",
          "2020-08-01T00:00:00",
          "2020-09-01T00:00:00",
          "2020-10-01T00:00:00",
          "2020-11-01T00:00:00",
          "2020-12-01T00:00:00",
          "2021-01-01T00:00:00",
          "2021-02-01T00:00:00",
          "2021-03-01T00:00:00",
          "2021-04-01T00:00:00",
          "2021-05-01T00:00:00",
          "2021-06-01T00:00:00",
          "2021-07-01T00:00:00",
          "2021-08-01T00:00:00",
          "2021-09-01T00:00:00",
          "2021-10-01T00:00:00",
          "2021-11-01T00:00:00",
          "2021-12-01T00:00:00",
          "2022-01-01T00:00:00",
          "2022-02-01T00:00:00",
          "2022-03-01T00:00:00",
          "2022-04-01T00:00:00",
          "2022-05-01T00:00:00",
          "2022-06-01T00:00:00",
          "2022-07-01T00:00:00",
          "2022-08-01T00:00:00",
          "2022-09-01T00:00:00",
          "2022-10-01T00:00:00",
          "2022-11-01T00:00:00",
          "2022-12-01T00:00:00",
          "2023-01-01T00:00:00",
          "2023-02-01T00:00:00",
          "2023-03-01T00:00:00",
          "2023-04-01T00:00:00",
          "2023-05-01T00:00:00",
          "2023-06-01T00:00:00",
          "2023-07-01T00:00:00",
          "2023-08-01T00:00:00",
          "2023-09-01T00:00:00",
          "2023-10-01T00:00:00",
          "2023-11-01T00:00:00",
          "2023-12-01T00:00:00",
          "2024-01-01T00:00:00",
          "2024-02-01T00:00:00",
          "2024-03-01T00:00:00",
          "2024-04-01T00:00:00",
          "2024-05-01T00:00:00"
         ],
         "xaxis": "x",
         "y": [
          14981,
          30057,
          17657,
          13723,
          39238,
          46414,
          15971,
          37007,
          30765,
          14853,
          38729,
          40789,
          52069,
          28060,
          67966,
          195452,
          139665,
          65862,
          69375,
          55233,
          51707,
          34768,
          20686,
          101633,
          84076,
          88469,
          63103,
          76067,
          118755,
          228569,
          87601,
          82851,
          38241,
          61891,
          50757,
          95570,
          114535,
          86057,
          47937,
          131493,
          285160,
          163948,
          169601,
          152819,
          82946,
          135645,
          41831,
          161617,
          106253,
          119707,
          149830,
          241990,
          83295
         ],
         "yaxis": "y"
        }
       ],
       "layout": {
        "annotations": [
         {
          "font": {
           "size": 16
          },
          "showarrow": false,
          "text": "Quantity",
          "x": 0.5,
          "xanchor": "center",
          "xref": "paper",
          "y": 1,
          "yanchor": "bottom",
          "yref": "paper"
         }
        ],
        "showlegend": true,
        "template": {
         "data": {
          "bar": [
           {
            "error_x": {
             "color": "rgb(51,51,51)"
            },
            "error_y": {
             "color": "rgb(51,51,51)"
            },
            "marker": {
             "line": {
              "color": "rgb(237,237,237)",
              "width": 0.5
             },
             "pattern": {
              "fillmode": "overlay",
              "size": 10,
              "solidity": 0.2
             }
            },
            "type": "bar"
           }
          ],
          "barpolar": [
           {
            "marker": {
             "line": {
              "color": "rgb(237,237,237)",
              "width": 0.5
             },
             "pattern": {
              "fillmode": "overlay",
              "size": 10,
              "solidity": 0.2
             }
            },
            "type": "barpolar"
           }
          ],
          "carpet": [
           {
            "aaxis": {
             "endlinecolor": "rgb(51,51,51)",
             "gridcolor": "white",
             "linecolor": "white",
             "minorgridcolor": "white",
             "startlinecolor": "rgb(51,51,51)"
            },
            "baxis": {
             "endlinecolor": "rgb(51,51,51)",
             "gridcolor": "white",
             "linecolor": "white",
             "minorgridcolor": "white",
             "startlinecolor": "rgb(51,51,51)"
            },
            "type": "carpet"
           }
          ],
          "choropleth": [
           {
            "colorbar": {
             "outlinewidth": 0,
             "tickcolor": "rgb(237,237,237)",
             "ticklen": 6,
             "ticks": "inside"
            },
            "type": "choropleth"
           }
          ],
          "contour": [
           {
            "colorbar": {
             "outlinewidth": 0,
             "tickcolor": "rgb(237,237,237)",
             "ticklen": 6,
             "ticks": "inside"
            },
            "colorscale": [
             [
              0,
              "rgb(20,44,66)"
             ],
             [
              1,
              "rgb(90,179,244)"
             ]
            ],
            "type": "contour"
           }
          ],
          "contourcarpet": [
           {
            "colorbar": {
             "outlinewidth": 0,
             "tickcolor": "rgb(237,237,237)",
             "ticklen": 6,
             "ticks": "inside"
            },
            "type": "contourcarpet"
           }
          ],
          "heatmap": [
           {
            "colorbar": {
             "outlinewidth": 0,
             "tickcolor": "rgb(237,237,237)",
             "ticklen": 6,
             "ticks": "inside"
            },
            "colorscale": [
             [
              0,
              "rgb(20,44,66)"
             ],
             [
              1,
              "rgb(90,179,244)"
             ]
            ],
            "type": "heatmap"
           }
          ],
          "heatmapgl": [
           {
            "colorbar": {
             "outlinewidth": 0,
             "tickcolor": "rgb(237,237,237)",
             "ticklen": 6,
             "ticks": "inside"
            },
            "colorscale": [
             [
              0,
              "rgb(20,44,66)"
             ],
             [
              1,
              "rgb(90,179,244)"
             ]
            ],
            "type": "heatmapgl"
           }
          ],
          "histogram": [
           {
            "marker": {
             "pattern": {
              "fillmode": "overlay",
              "size": 10,
              "solidity": 0.2
             }
            },
            "type": "histogram"
           }
          ],
          "histogram2d": [
           {
            "colorbar": {
             "outlinewidth": 0,
             "tickcolor": "rgb(237,237,237)",
             "ticklen": 6,
             "ticks": "inside"
            },
            "colorscale": [
             [
              0,
              "rgb(20,44,66)"
             ],
             [
              1,
              "rgb(90,179,244)"
             ]
            ],
            "type": "histogram2d"
           }
          ],
          "histogram2dcontour": [
           {
            "colorbar": {
             "outlinewidth": 0,
             "tickcolor": "rgb(237,237,237)",
             "ticklen": 6,
             "ticks": "inside"
            },
            "colorscale": [
             [
              0,
              "rgb(20,44,66)"
             ],
             [
              1,
              "rgb(90,179,244)"
             ]
            ],
            "type": "histogram2dcontour"
           }
          ],
          "mesh3d": [
           {
            "colorbar": {
             "outlinewidth": 0,
             "tickcolor": "rgb(237,237,237)",
             "ticklen": 6,
             "ticks": "inside"
            },
            "type": "mesh3d"
           }
          ],
          "parcoords": [
           {
            "line": {
             "colorbar": {
              "outlinewidth": 0,
              "tickcolor": "rgb(237,237,237)",
              "ticklen": 6,
              "ticks": "inside"
             }
            },
            "type": "parcoords"
           }
          ],
          "pie": [
           {
            "automargin": true,
            "type": "pie"
           }
          ],
          "scatter": [
           {
            "fillpattern": {
             "fillmode": "overlay",
             "size": 10,
             "solidity": 0.2
            },
            "type": "scatter"
           }
          ],
          "scatter3d": [
           {
            "line": {
             "colorbar": {
              "outlinewidth": 0,
              "tickcolor": "rgb(237,237,237)",
              "ticklen": 6,
              "ticks": "inside"
             }
            },
            "marker": {
             "colorbar": {
              "outlinewidth": 0,
              "tickcolor": "rgb(237,237,237)",
              "ticklen": 6,
              "ticks": "inside"
             }
            },
            "type": "scatter3d"
           }
          ],
          "scattercarpet": [
           {
            "marker": {
             "colorbar": {
              "outlinewidth": 0,
              "tickcolor": "rgb(237,237,237)",
              "ticklen": 6,
              "ticks": "inside"
             }
            },
            "type": "scattercarpet"
           }
          ],
          "scattergeo": [
           {
            "marker": {
             "colorbar": {
              "outlinewidth": 0,
              "tickcolor": "rgb(237,237,237)",
              "ticklen": 6,
              "ticks": "inside"
             }
            },
            "type": "scattergeo"
           }
          ],
          "scattergl": [
           {
            "marker": {
             "colorbar": {
              "outlinewidth": 0,
              "tickcolor": "rgb(237,237,237)",
              "ticklen": 6,
              "ticks": "inside"
             }
            },
            "type": "scattergl"
           }
          ],
          "scattermapbox": [
           {
            "marker": {
             "colorbar": {
              "outlinewidth": 0,
              "tickcolor": "rgb(237,237,237)",
              "ticklen": 6,
              "ticks": "inside"
             }
            },
            "type": "scattermapbox"
           }
          ],
          "scatterpolar": [
           {
            "marker": {
             "colorbar": {
              "outlinewidth": 0,
              "tickcolor": "rgb(237,237,237)",
              "ticklen": 6,
              "ticks": "inside"
             }
            },
            "type": "scatterpolar"
           }
          ],
          "scatterpolargl": [
           {
            "marker": {
             "colorbar": {
              "outlinewidth": 0,
              "tickcolor": "rgb(237,237,237)",
              "ticklen": 6,
              "ticks": "inside"
             }
            },
            "type": "scatterpolargl"
           }
          ],
          "scatterternary": [
           {
            "marker": {
             "colorbar": {
              "outlinewidth": 0,
              "tickcolor": "rgb(237,237,237)",
              "ticklen": 6,
              "ticks": "inside"
             }
            },
            "type": "scatterternary"
           }
          ],
          "surface": [
           {
            "colorbar": {
             "outlinewidth": 0,
             "tickcolor": "rgb(237,237,237)",
             "ticklen": 6,
             "ticks": "inside"
            },
            "colorscale": [
             [
              0,
              "rgb(20,44,66)"
             ],
             [
              1,
              "rgb(90,179,244)"
             ]
            ],
            "type": "surface"
           }
          ],
          "table": [
           {
            "cells": {
             "fill": {
              "color": "rgb(237,237,237)"
             },
             "line": {
              "color": "white"
             }
            },
            "header": {
             "fill": {
              "color": "rgb(217,217,217)"
             },
             "line": {
              "color": "white"
             }
            },
            "type": "table"
           }
          ]
         },
         "layout": {
          "annotationdefaults": {
           "arrowhead": 0,
           "arrowwidth": 1
          },
          "autotypenumbers": "strict",
          "coloraxis": {
           "colorbar": {
            "outlinewidth": 0,
            "tickcolor": "rgb(237,237,237)",
            "ticklen": 6,
            "ticks": "inside"
           }
          },
          "colorscale": {
           "sequential": [
            [
             0,
             "rgb(20,44,66)"
            ],
            [
             1,
             "rgb(90,179,244)"
            ]
           ],
           "sequentialminus": [
            [
             0,
             "rgb(20,44,66)"
            ],
            [
             1,
             "rgb(90,179,244)"
            ]
           ]
          },
          "colorway": [
           "#F8766D",
           "#A3A500",
           "#00BF7D",
           "#00B0F6",
           "#E76BF3"
          ],
          "font": {
           "color": "rgb(51,51,51)"
          },
          "geo": {
           "bgcolor": "white",
           "lakecolor": "white",
           "landcolor": "rgb(237,237,237)",
           "showlakes": true,
           "showland": true,
           "subunitcolor": "white"
          },
          "hoverlabel": {
           "align": "left"
          },
          "hovermode": "closest",
          "paper_bgcolor": "white",
          "plot_bgcolor": "rgb(237,237,237)",
          "polar": {
           "angularaxis": {
            "gridcolor": "white",
            "linecolor": "white",
            "showgrid": true,
            "tickcolor": "rgb(51,51,51)",
            "ticks": "outside"
           },
           "bgcolor": "rgb(237,237,237)",
           "radialaxis": {
            "gridcolor": "white",
            "linecolor": "white",
            "showgrid": true,
            "tickcolor": "rgb(51,51,51)",
            "ticks": "outside"
           }
          },
          "scene": {
           "xaxis": {
            "backgroundcolor": "rgb(237,237,237)",
            "gridcolor": "white",
            "gridwidth": 2,
            "linecolor": "white",
            "showbackground": true,
            "showgrid": true,
            "tickcolor": "rgb(51,51,51)",
            "ticks": "outside",
            "zerolinecolor": "white"
           },
           "yaxis": {
            "backgroundcolor": "rgb(237,237,237)",
            "gridcolor": "white",
            "gridwidth": 2,
            "linecolor": "white",
            "showbackground": true,
            "showgrid": true,
            "tickcolor": "rgb(51,51,51)",
            "ticks": "outside",
            "zerolinecolor": "white"
           },
           "zaxis": {
            "backgroundcolor": "rgb(237,237,237)",
            "gridcolor": "white",
            "gridwidth": 2,
            "linecolor": "white",
            "showbackground": true,
            "showgrid": true,
            "tickcolor": "rgb(51,51,51)",
            "ticks": "outside",
            "zerolinecolor": "white"
           }
          },
          "shapedefaults": {
           "fillcolor": "black",
           "line": {
            "width": 0
           },
           "opacity": 0.3
          },
          "ternary": {
           "aaxis": {
            "gridcolor": "white",
            "linecolor": "white",
            "showgrid": true,
            "tickcolor": "rgb(51,51,51)",
            "ticks": "outside"
           },
           "baxis": {
            "gridcolor": "white",
            "linecolor": "white",
            "showgrid": true,
            "tickcolor": "rgb(51,51,51)",
            "ticks": "outside"
           },
           "bgcolor": "rgb(237,237,237)",
           "caxis": {
            "gridcolor": "white",
            "linecolor": "white",
            "showgrid": true,
            "tickcolor": "rgb(51,51,51)",
            "ticks": "outside"
           }
          },
          "xaxis": {
           "automargin": true,
           "gridcolor": "white",
           "linecolor": "white",
           "showgrid": true,
           "tickcolor": "rgb(51,51,51)",
           "ticks": "outside",
           "title": {
            "standoff": 15
           },
           "zerolinecolor": "white"
          },
          "yaxis": {
           "automargin": true,
           "gridcolor": "white",
           "linecolor": "white",
           "showgrid": true,
           "tickcolor": "rgb(51,51,51)",
           "ticks": "outside",
           "title": {
            "standoff": 15
           },
           "zerolinecolor": "white"
          }
         }
        },
        "title": {
         "text": "Time Series | Target = Quantity"
        },
        "xaxis": {
         "anchor": "y",
         "domain": [
          0,
          1
         ]
        },
        "yaxis": {
         "anchor": "x",
         "domain": [
          0,
          1
         ]
        }
       }
      }
     },
     "metadata": {},
     "output_type": "display_data"
    }
   ],
   "source": [
    "exp.plot_model(plot=\"ts\")"
   ]
  },
  {
   "cell_type": "code",
   "execution_count": 158,
   "metadata": {},
   "outputs": [
    {
     "data": {
      "application/vnd.plotly.v1+json": {
       "config": {
        "plotlyServerURL": "https://plot.ly"
       },
       "data": [
        {
         "line": {
          "color": "rgb(31, 119, 180)",
          "width": 2
         },
         "marker": {
          "color": "rgb(31, 119, 180)",
          "size": 5
         },
         "mode": "lines+markers",
         "name": "Train (original)",
         "type": "scattergl",
         "x": [
          "2020-01-01T00:00:00",
          "2020-02-01T00:00:00",
          "2020-03-01T00:00:00",
          "2020-04-01T00:00:00",
          "2020-05-01T00:00:00",
          "2020-06-01T00:00:00",
          "2020-07-01T00:00:00",
          "2020-08-01T00:00:00",
          "2020-09-01T00:00:00",
          "2020-10-01T00:00:00",
          "2020-11-01T00:00:00",
          "2020-12-01T00:00:00",
          "2021-01-01T00:00:00",
          "2021-02-01T00:00:00",
          "2021-03-01T00:00:00",
          "2021-04-01T00:00:00",
          "2021-05-01T00:00:00",
          "2021-06-01T00:00:00",
          "2021-07-01T00:00:00",
          "2021-08-01T00:00:00",
          "2021-09-01T00:00:00",
          "2021-10-01T00:00:00",
          "2021-11-01T00:00:00",
          "2021-12-01T00:00:00",
          "2022-01-01T00:00:00",
          "2022-02-01T00:00:00",
          "2022-03-01T00:00:00",
          "2022-04-01T00:00:00",
          "2022-05-01T00:00:00",
          "2022-06-01T00:00:00",
          "2022-07-01T00:00:00",
          "2022-08-01T00:00:00",
          "2022-09-01T00:00:00",
          "2022-10-01T00:00:00",
          "2022-11-01T00:00:00",
          "2022-12-01T00:00:00",
          "2023-01-01T00:00:00",
          "2023-02-01T00:00:00",
          "2023-03-01T00:00:00",
          "2023-04-01T00:00:00",
          "2023-05-01T00:00:00",
          "2023-06-01T00:00:00",
          "2023-07-01T00:00:00",
          "2023-08-01T00:00:00",
          "2023-09-01T00:00:00",
          "2023-10-01T00:00:00",
          "2023-11-01T00:00:00",
          "2023-12-01T00:00:00",
          "2024-01-01T00:00:00",
          "2024-02-01T00:00:00",
          "2024-03-01T00:00:00",
          "2024-04-01T00:00:00",
          "2024-05-01T00:00:00"
         ],
         "xaxis": "x",
         "y": [
          14981,
          30057,
          17657,
          13723,
          39238,
          46414,
          15971,
          37007,
          30765,
          14853,
          38729,
          40789,
          52069,
          28060,
          67966,
          195452,
          139665,
          65862,
          69375,
          55233,
          51707,
          34768,
          20686,
          101633,
          84076,
          88469,
          63103,
          76067,
          118755,
          228569,
          87601,
          82851,
          38241,
          61891,
          50757,
          95570,
          114535,
          86057,
          47937,
          131493,
          285160,
          163948,
          169601,
          152819,
          82946,
          135645,
          41831,
          161617,
          106253,
          119707,
          null,
          null,
          null
         ],
         "yaxis": "y"
        },
        {
         "line": {
          "color": "rgb(255, 127, 14)",
          "width": 2
         },
         "marker": {
          "color": "rgb(255, 127, 14)",
          "size": 5
         },
         "mode": "lines+markers",
         "name": "Test (original)",
         "type": "scattergl",
         "x": [
          "2020-01-01T00:00:00",
          "2020-02-01T00:00:00",
          "2020-03-01T00:00:00",
          "2020-04-01T00:00:00",
          "2020-05-01T00:00:00",
          "2020-06-01T00:00:00",
          "2020-07-01T00:00:00",
          "2020-08-01T00:00:00",
          "2020-09-01T00:00:00",
          "2020-10-01T00:00:00",
          "2020-11-01T00:00:00",
          "2020-12-01T00:00:00",
          "2021-01-01T00:00:00",
          "2021-02-01T00:00:00",
          "2021-03-01T00:00:00",
          "2021-04-01T00:00:00",
          "2021-05-01T00:00:00",
          "2021-06-01T00:00:00",
          "2021-07-01T00:00:00",
          "2021-08-01T00:00:00",
          "2021-09-01T00:00:00",
          "2021-10-01T00:00:00",
          "2021-11-01T00:00:00",
          "2021-12-01T00:00:00",
          "2022-01-01T00:00:00",
          "2022-02-01T00:00:00",
          "2022-03-01T00:00:00",
          "2022-04-01T00:00:00",
          "2022-05-01T00:00:00",
          "2022-06-01T00:00:00",
          "2022-07-01T00:00:00",
          "2022-08-01T00:00:00",
          "2022-09-01T00:00:00",
          "2022-10-01T00:00:00",
          "2022-11-01T00:00:00",
          "2022-12-01T00:00:00",
          "2023-01-01T00:00:00",
          "2023-02-01T00:00:00",
          "2023-03-01T00:00:00",
          "2023-04-01T00:00:00",
          "2023-05-01T00:00:00",
          "2023-06-01T00:00:00",
          "2023-07-01T00:00:00",
          "2023-08-01T00:00:00",
          "2023-09-01T00:00:00",
          "2023-10-01T00:00:00",
          "2023-11-01T00:00:00",
          "2023-12-01T00:00:00",
          "2024-01-01T00:00:00",
          "2024-02-01T00:00:00",
          "2024-03-01T00:00:00",
          "2024-04-01T00:00:00",
          "2024-05-01T00:00:00"
         ],
         "xaxis": "x",
         "y": [
          null,
          null,
          null,
          null,
          null,
          null,
          null,
          null,
          null,
          null,
          null,
          null,
          null,
          null,
          null,
          null,
          null,
          null,
          null,
          null,
          null,
          null,
          null,
          null,
          null,
          null,
          null,
          null,
          null,
          null,
          null,
          null,
          null,
          null,
          null,
          null,
          null,
          null,
          null,
          null,
          null,
          null,
          null,
          null,
          null,
          null,
          null,
          null,
          null,
          null,
          149830,
          241990,
          83295
         ],
         "yaxis": "y"
        }
       ],
       "layout": {
        "annotations": [
         {
          "font": {
           "size": 16
          },
          "showarrow": false,
          "text": "Quantity",
          "x": 0.5,
          "xanchor": "center",
          "xref": "paper",
          "y": 1,
          "yanchor": "bottom",
          "yref": "paper"
         }
        ],
        "showlegend": true,
        "template": {
         "data": {
          "bar": [
           {
            "error_x": {
             "color": "rgb(51,51,51)"
            },
            "error_y": {
             "color": "rgb(51,51,51)"
            },
            "marker": {
             "line": {
              "color": "rgb(237,237,237)",
              "width": 0.5
             },
             "pattern": {
              "fillmode": "overlay",
              "size": 10,
              "solidity": 0.2
             }
            },
            "type": "bar"
           }
          ],
          "barpolar": [
           {
            "marker": {
             "line": {
              "color": "rgb(237,237,237)",
              "width": 0.5
             },
             "pattern": {
              "fillmode": "overlay",
              "size": 10,
              "solidity": 0.2
             }
            },
            "type": "barpolar"
           }
          ],
          "carpet": [
           {
            "aaxis": {
             "endlinecolor": "rgb(51,51,51)",
             "gridcolor": "white",
             "linecolor": "white",
             "minorgridcolor": "white",
             "startlinecolor": "rgb(51,51,51)"
            },
            "baxis": {
             "endlinecolor": "rgb(51,51,51)",
             "gridcolor": "white",
             "linecolor": "white",
             "minorgridcolor": "white",
             "startlinecolor": "rgb(51,51,51)"
            },
            "type": "carpet"
           }
          ],
          "choropleth": [
           {
            "colorbar": {
             "outlinewidth": 0,
             "tickcolor": "rgb(237,237,237)",
             "ticklen": 6,
             "ticks": "inside"
            },
            "type": "choropleth"
           }
          ],
          "contour": [
           {
            "colorbar": {
             "outlinewidth": 0,
             "tickcolor": "rgb(237,237,237)",
             "ticklen": 6,
             "ticks": "inside"
            },
            "colorscale": [
             [
              0,
              "rgb(20,44,66)"
             ],
             [
              1,
              "rgb(90,179,244)"
             ]
            ],
            "type": "contour"
           }
          ],
          "contourcarpet": [
           {
            "colorbar": {
             "outlinewidth": 0,
             "tickcolor": "rgb(237,237,237)",
             "ticklen": 6,
             "ticks": "inside"
            },
            "type": "contourcarpet"
           }
          ],
          "heatmap": [
           {
            "colorbar": {
             "outlinewidth": 0,
             "tickcolor": "rgb(237,237,237)",
             "ticklen": 6,
             "ticks": "inside"
            },
            "colorscale": [
             [
              0,
              "rgb(20,44,66)"
             ],
             [
              1,
              "rgb(90,179,244)"
             ]
            ],
            "type": "heatmap"
           }
          ],
          "heatmapgl": [
           {
            "colorbar": {
             "outlinewidth": 0,
             "tickcolor": "rgb(237,237,237)",
             "ticklen": 6,
             "ticks": "inside"
            },
            "colorscale": [
             [
              0,
              "rgb(20,44,66)"
             ],
             [
              1,
              "rgb(90,179,244)"
             ]
            ],
            "type": "heatmapgl"
           }
          ],
          "histogram": [
           {
            "marker": {
             "pattern": {
              "fillmode": "overlay",
              "size": 10,
              "solidity": 0.2
             }
            },
            "type": "histogram"
           }
          ],
          "histogram2d": [
           {
            "colorbar": {
             "outlinewidth": 0,
             "tickcolor": "rgb(237,237,237)",
             "ticklen": 6,
             "ticks": "inside"
            },
            "colorscale": [
             [
              0,
              "rgb(20,44,66)"
             ],
             [
              1,
              "rgb(90,179,244)"
             ]
            ],
            "type": "histogram2d"
           }
          ],
          "histogram2dcontour": [
           {
            "colorbar": {
             "outlinewidth": 0,
             "tickcolor": "rgb(237,237,237)",
             "ticklen": 6,
             "ticks": "inside"
            },
            "colorscale": [
             [
              0,
              "rgb(20,44,66)"
             ],
             [
              1,
              "rgb(90,179,244)"
             ]
            ],
            "type": "histogram2dcontour"
           }
          ],
          "mesh3d": [
           {
            "colorbar": {
             "outlinewidth": 0,
             "tickcolor": "rgb(237,237,237)",
             "ticklen": 6,
             "ticks": "inside"
            },
            "type": "mesh3d"
           }
          ],
          "parcoords": [
           {
            "line": {
             "colorbar": {
              "outlinewidth": 0,
              "tickcolor": "rgb(237,237,237)",
              "ticklen": 6,
              "ticks": "inside"
             }
            },
            "type": "parcoords"
           }
          ],
          "pie": [
           {
            "automargin": true,
            "type": "pie"
           }
          ],
          "scatter": [
           {
            "fillpattern": {
             "fillmode": "overlay",
             "size": 10,
             "solidity": 0.2
            },
            "type": "scatter"
           }
          ],
          "scatter3d": [
           {
            "line": {
             "colorbar": {
              "outlinewidth": 0,
              "tickcolor": "rgb(237,237,237)",
              "ticklen": 6,
              "ticks": "inside"
             }
            },
            "marker": {
             "colorbar": {
              "outlinewidth": 0,
              "tickcolor": "rgb(237,237,237)",
              "ticklen": 6,
              "ticks": "inside"
             }
            },
            "type": "scatter3d"
           }
          ],
          "scattercarpet": [
           {
            "marker": {
             "colorbar": {
              "outlinewidth": 0,
              "tickcolor": "rgb(237,237,237)",
              "ticklen": 6,
              "ticks": "inside"
             }
            },
            "type": "scattercarpet"
           }
          ],
          "scattergeo": [
           {
            "marker": {
             "colorbar": {
              "outlinewidth": 0,
              "tickcolor": "rgb(237,237,237)",
              "ticklen": 6,
              "ticks": "inside"
             }
            },
            "type": "scattergeo"
           }
          ],
          "scattergl": [
           {
            "marker": {
             "colorbar": {
              "outlinewidth": 0,
              "tickcolor": "rgb(237,237,237)",
              "ticklen": 6,
              "ticks": "inside"
             }
            },
            "type": "scattergl"
           }
          ],
          "scattermapbox": [
           {
            "marker": {
             "colorbar": {
              "outlinewidth": 0,
              "tickcolor": "rgb(237,237,237)",
              "ticklen": 6,
              "ticks": "inside"
             }
            },
            "type": "scattermapbox"
           }
          ],
          "scatterpolar": [
           {
            "marker": {
             "colorbar": {
              "outlinewidth": 0,
              "tickcolor": "rgb(237,237,237)",
              "ticklen": 6,
              "ticks": "inside"
             }
            },
            "type": "scatterpolar"
           }
          ],
          "scatterpolargl": [
           {
            "marker": {
             "colorbar": {
              "outlinewidth": 0,
              "tickcolor": "rgb(237,237,237)",
              "ticklen": 6,
              "ticks": "inside"
             }
            },
            "type": "scatterpolargl"
           }
          ],
          "scatterternary": [
           {
            "marker": {
             "colorbar": {
              "outlinewidth": 0,
              "tickcolor": "rgb(237,237,237)",
              "ticklen": 6,
              "ticks": "inside"
             }
            },
            "type": "scatterternary"
           }
          ],
          "surface": [
           {
            "colorbar": {
             "outlinewidth": 0,
             "tickcolor": "rgb(237,237,237)",
             "ticklen": 6,
             "ticks": "inside"
            },
            "colorscale": [
             [
              0,
              "rgb(20,44,66)"
             ],
             [
              1,
              "rgb(90,179,244)"
             ]
            ],
            "type": "surface"
           }
          ],
          "table": [
           {
            "cells": {
             "fill": {
              "color": "rgb(237,237,237)"
             },
             "line": {
              "color": "white"
             }
            },
            "header": {
             "fill": {
              "color": "rgb(217,217,217)"
             },
             "line": {
              "color": "white"
             }
            },
            "type": "table"
           }
          ]
         },
         "layout": {
          "annotationdefaults": {
           "arrowhead": 0,
           "arrowwidth": 1
          },
          "autotypenumbers": "strict",
          "coloraxis": {
           "colorbar": {
            "outlinewidth": 0,
            "tickcolor": "rgb(237,237,237)",
            "ticklen": 6,
            "ticks": "inside"
           }
          },
          "colorscale": {
           "sequential": [
            [
             0,
             "rgb(20,44,66)"
            ],
            [
             1,
             "rgb(90,179,244)"
            ]
           ],
           "sequentialminus": [
            [
             0,
             "rgb(20,44,66)"
            ],
            [
             1,
             "rgb(90,179,244)"
            ]
           ]
          },
          "colorway": [
           "#F8766D",
           "#A3A500",
           "#00BF7D",
           "#00B0F6",
           "#E76BF3"
          ],
          "font": {
           "color": "rgb(51,51,51)"
          },
          "geo": {
           "bgcolor": "white",
           "lakecolor": "white",
           "landcolor": "rgb(237,237,237)",
           "showlakes": true,
           "showland": true,
           "subunitcolor": "white"
          },
          "hoverlabel": {
           "align": "left"
          },
          "hovermode": "closest",
          "paper_bgcolor": "white",
          "plot_bgcolor": "rgb(237,237,237)",
          "polar": {
           "angularaxis": {
            "gridcolor": "white",
            "linecolor": "white",
            "showgrid": true,
            "tickcolor": "rgb(51,51,51)",
            "ticks": "outside"
           },
           "bgcolor": "rgb(237,237,237)",
           "radialaxis": {
            "gridcolor": "white",
            "linecolor": "white",
            "showgrid": true,
            "tickcolor": "rgb(51,51,51)",
            "ticks": "outside"
           }
          },
          "scene": {
           "xaxis": {
            "backgroundcolor": "rgb(237,237,237)",
            "gridcolor": "white",
            "gridwidth": 2,
            "linecolor": "white",
            "showbackground": true,
            "showgrid": true,
            "tickcolor": "rgb(51,51,51)",
            "ticks": "outside",
            "zerolinecolor": "white"
           },
           "yaxis": {
            "backgroundcolor": "rgb(237,237,237)",
            "gridcolor": "white",
            "gridwidth": 2,
            "linecolor": "white",
            "showbackground": true,
            "showgrid": true,
            "tickcolor": "rgb(51,51,51)",
            "ticks": "outside",
            "zerolinecolor": "white"
           },
           "zaxis": {
            "backgroundcolor": "rgb(237,237,237)",
            "gridcolor": "white",
            "gridwidth": 2,
            "linecolor": "white",
            "showbackground": true,
            "showgrid": true,
            "tickcolor": "rgb(51,51,51)",
            "ticks": "outside",
            "zerolinecolor": "white"
           }
          },
          "shapedefaults": {
           "fillcolor": "black",
           "line": {
            "width": 0
           },
           "opacity": 0.3
          },
          "ternary": {
           "aaxis": {
            "gridcolor": "white",
            "linecolor": "white",
            "showgrid": true,
            "tickcolor": "rgb(51,51,51)",
            "ticks": "outside"
           },
           "baxis": {
            "gridcolor": "white",
            "linecolor": "white",
            "showgrid": true,
            "tickcolor": "rgb(51,51,51)",
            "ticks": "outside"
           },
           "bgcolor": "rgb(237,237,237)",
           "caxis": {
            "gridcolor": "white",
            "linecolor": "white",
            "showgrid": true,
            "tickcolor": "rgb(51,51,51)",
            "ticks": "outside"
           }
          },
          "xaxis": {
           "automargin": true,
           "gridcolor": "white",
           "linecolor": "white",
           "showgrid": true,
           "tickcolor": "rgb(51,51,51)",
           "ticks": "outside",
           "title": {
            "standoff": 15
           },
           "zerolinecolor": "white"
          },
          "yaxis": {
           "automargin": true,
           "gridcolor": "white",
           "linecolor": "white",
           "showgrid": true,
           "tickcolor": "rgb(51,51,51)",
           "ticks": "outside",
           "title": {
            "standoff": 15
           },
           "zerolinecolor": "white"
          }
         }
        },
        "title": {
         "text": "Time Series | Target = Quantity"
        },
        "xaxis": {
         "anchor": "y",
         "domain": [
          0,
          1
         ]
        },
        "yaxis": {
         "anchor": "x",
         "domain": [
          0,
          1
         ]
        }
       }
      }
     },
     "metadata": {},
     "output_type": "display_data"
    }
   ],
   "source": [
    "exp.plot_model(plot=\"train_test_split\")"
   ]
  },
  {
   "cell_type": "code",
   "execution_count": 159,
   "metadata": {},
   "outputs": [
    {
     "data": {
      "application/vnd.plotly.v1+json": {
       "config": {
        "plotlyServerURL": "https://plot.ly"
       },
       "data": [
        {
         "hoverinfo": "skip",
         "line": {
          "color": "#C0C0C0"
         },
         "mode": "lines+markers",
         "name": "Unchanged",
         "showlegend": false,
         "type": "scattergl",
         "x": [
          "2020-01-01T00:00:00",
          "2020-02-01T00:00:00"
         ],
         "y": [
          "2",
          "2"
         ]
        },
        {
         "hoverinfo": "skip",
         "line": {
          "color": "#C0C0C0"
         },
         "mode": "lines+markers",
         "name": "Unchanged",
         "showlegend": false,
         "type": "scattergl",
         "x": [
          "2020-02-01T00:00:00",
          "2020-03-01T00:00:00"
         ],
         "y": [
          "2",
          "2"
         ]
        },
        {
         "hoverinfo": "skip",
         "line": {
          "color": "#C0C0C0"
         },
         "mode": "lines+markers",
         "name": "Unchanged",
         "showlegend": false,
         "type": "scattergl",
         "x": [
          "2020-03-01T00:00:00",
          "2020-04-01T00:00:00"
         ],
         "y": [
          "2",
          "2"
         ]
        },
        {
         "hoverinfo": "skip",
         "line": {
          "color": "#C0C0C0"
         },
         "mode": "lines+markers",
         "name": "Unchanged",
         "showlegend": false,
         "type": "scattergl",
         "x": [
          "2020-04-01T00:00:00",
          "2020-05-01T00:00:00"
         ],
         "y": [
          "2",
          "2"
         ]
        },
        {
         "hoverinfo": "skip",
         "line": {
          "color": "#C0C0C0"
         },
         "mode": "lines+markers",
         "name": "Unchanged",
         "showlegend": false,
         "type": "scattergl",
         "x": [
          "2020-05-01T00:00:00",
          "2020-06-01T00:00:00"
         ],
         "y": [
          "2",
          "2"
         ]
        },
        {
         "hoverinfo": "skip",
         "line": {
          "color": "#C0C0C0"
         },
         "mode": "lines+markers",
         "name": "Unchanged",
         "showlegend": false,
         "type": "scattergl",
         "x": [
          "2020-06-01T00:00:00",
          "2020-07-01T00:00:00"
         ],
         "y": [
          "2",
          "2"
         ]
        },
        {
         "hoverinfo": "skip",
         "line": {
          "color": "#C0C0C0"
         },
         "mode": "lines+markers",
         "name": "Unchanged",
         "showlegend": false,
         "type": "scattergl",
         "x": [
          "2020-07-01T00:00:00",
          "2020-08-01T00:00:00"
         ],
         "y": [
          "2",
          "2"
         ]
        },
        {
         "hoverinfo": "skip",
         "line": {
          "color": "#C0C0C0"
         },
         "mode": "lines+markers",
         "name": "Unchanged",
         "showlegend": false,
         "type": "scattergl",
         "x": [
          "2020-08-01T00:00:00",
          "2020-09-01T00:00:00"
         ],
         "y": [
          "2",
          "2"
         ]
        },
        {
         "hoverinfo": "skip",
         "line": {
          "color": "#C0C0C0"
         },
         "mode": "lines+markers",
         "name": "Unchanged",
         "showlegend": false,
         "type": "scattergl",
         "x": [
          "2020-09-01T00:00:00",
          "2020-10-01T00:00:00"
         ],
         "y": [
          "2",
          "2"
         ]
        },
        {
         "hoverinfo": "skip",
         "line": {
          "color": "#C0C0C0"
         },
         "mode": "lines+markers",
         "name": "Unchanged",
         "showlegend": false,
         "type": "scattergl",
         "x": [
          "2020-10-01T00:00:00",
          "2020-11-01T00:00:00"
         ],
         "y": [
          "2",
          "2"
         ]
        },
        {
         "hoverinfo": "skip",
         "line": {
          "color": "#C0C0C0"
         },
         "mode": "lines+markers",
         "name": "Unchanged",
         "showlegend": false,
         "type": "scattergl",
         "x": [
          "2020-11-01T00:00:00",
          "2020-12-01T00:00:00"
         ],
         "y": [
          "2",
          "2"
         ]
        },
        {
         "hoverinfo": "skip",
         "line": {
          "color": "#C0C0C0"
         },
         "mode": "lines+markers",
         "name": "Unchanged",
         "showlegend": false,
         "type": "scattergl",
         "x": [
          "2020-12-01T00:00:00",
          "2021-01-01T00:00:00"
         ],
         "y": [
          "2",
          "2"
         ]
        },
        {
         "hoverinfo": "skip",
         "line": {
          "color": "#C0C0C0"
         },
         "mode": "lines+markers",
         "name": "Unchanged",
         "showlegend": false,
         "type": "scattergl",
         "x": [
          "2021-01-01T00:00:00",
          "2021-02-01T00:00:00"
         ],
         "y": [
          "2",
          "2"
         ]
        },
        {
         "hoverinfo": "skip",
         "line": {
          "color": "#C0C0C0"
         },
         "mode": "lines+markers",
         "name": "Unchanged",
         "showlegend": false,
         "type": "scattergl",
         "x": [
          "2021-02-01T00:00:00",
          "2021-03-01T00:00:00"
         ],
         "y": [
          "2",
          "2"
         ]
        },
        {
         "hoverinfo": "skip",
         "line": {
          "color": "#C0C0C0"
         },
         "mode": "lines+markers",
         "name": "Unchanged",
         "showlegend": false,
         "type": "scattergl",
         "x": [
          "2021-03-01T00:00:00",
          "2021-04-01T00:00:00"
         ],
         "y": [
          "2",
          "2"
         ]
        },
        {
         "hoverinfo": "skip",
         "line": {
          "color": "#C0C0C0"
         },
         "mode": "lines+markers",
         "name": "Unchanged",
         "showlegend": false,
         "type": "scattergl",
         "x": [
          "2021-04-01T00:00:00",
          "2021-05-01T00:00:00"
         ],
         "y": [
          "2",
          "2"
         ]
        },
        {
         "hoverinfo": "skip",
         "line": {
          "color": "#C0C0C0"
         },
         "mode": "lines+markers",
         "name": "Unchanged",
         "showlegend": false,
         "type": "scattergl",
         "x": [
          "2021-05-01T00:00:00",
          "2021-06-01T00:00:00"
         ],
         "y": [
          "2",
          "2"
         ]
        },
        {
         "hoverinfo": "skip",
         "line": {
          "color": "#C0C0C0"
         },
         "mode": "lines+markers",
         "name": "Unchanged",
         "showlegend": false,
         "type": "scattergl",
         "x": [
          "2021-06-01T00:00:00",
          "2021-07-01T00:00:00"
         ],
         "y": [
          "2",
          "2"
         ]
        },
        {
         "hoverinfo": "skip",
         "line": {
          "color": "#C0C0C0"
         },
         "mode": "lines+markers",
         "name": "Unchanged",
         "showlegend": false,
         "type": "scattergl",
         "x": [
          "2021-07-01T00:00:00",
          "2021-08-01T00:00:00"
         ],
         "y": [
          "2",
          "2"
         ]
        },
        {
         "hoverinfo": "skip",
         "line": {
          "color": "#C0C0C0"
         },
         "mode": "lines+markers",
         "name": "Unchanged",
         "showlegend": false,
         "type": "scattergl",
         "x": [
          "2021-08-01T00:00:00",
          "2021-09-01T00:00:00"
         ],
         "y": [
          "2",
          "2"
         ]
        },
        {
         "hoverinfo": "skip",
         "line": {
          "color": "#C0C0C0"
         },
         "mode": "lines+markers",
         "name": "Unchanged",
         "showlegend": false,
         "type": "scattergl",
         "x": [
          "2021-09-01T00:00:00",
          "2021-10-01T00:00:00"
         ],
         "y": [
          "2",
          "2"
         ]
        },
        {
         "hoverinfo": "skip",
         "line": {
          "color": "#C0C0C0"
         },
         "mode": "lines+markers",
         "name": "Unchanged",
         "showlegend": false,
         "type": "scattergl",
         "x": [
          "2021-10-01T00:00:00",
          "2021-11-01T00:00:00"
         ],
         "y": [
          "2",
          "2"
         ]
        },
        {
         "hoverinfo": "skip",
         "line": {
          "color": "#C0C0C0"
         },
         "mode": "lines+markers",
         "name": "Unchanged",
         "showlegend": false,
         "type": "scattergl",
         "x": [
          "2021-11-01T00:00:00",
          "2021-12-01T00:00:00"
         ],
         "y": [
          "2",
          "2"
         ]
        },
        {
         "hoverinfo": "skip",
         "line": {
          "color": "#C0C0C0"
         },
         "mode": "lines+markers",
         "name": "Unchanged",
         "showlegend": false,
         "type": "scattergl",
         "x": [
          "2021-12-01T00:00:00",
          "2022-01-01T00:00:00"
         ],
         "y": [
          "2",
          "2"
         ]
        },
        {
         "hoverinfo": "skip",
         "line": {
          "color": "#C0C0C0"
         },
         "mode": "lines+markers",
         "name": "Unchanged",
         "showlegend": false,
         "type": "scattergl",
         "x": [
          "2022-01-01T00:00:00",
          "2022-02-01T00:00:00"
         ],
         "y": [
          "2",
          "2"
         ]
        },
        {
         "hoverinfo": "skip",
         "line": {
          "color": "#C0C0C0"
         },
         "mode": "lines+markers",
         "name": "Unchanged",
         "showlegend": false,
         "type": "scattergl",
         "x": [
          "2022-02-01T00:00:00",
          "2022-03-01T00:00:00"
         ],
         "y": [
          "2",
          "2"
         ]
        },
        {
         "hoverinfo": "skip",
         "line": {
          "color": "#C0C0C0"
         },
         "mode": "lines+markers",
         "name": "Unchanged",
         "showlegend": false,
         "type": "scattergl",
         "x": [
          "2022-03-01T00:00:00",
          "2022-04-01T00:00:00"
         ],
         "y": [
          "2",
          "2"
         ]
        },
        {
         "hoverinfo": "skip",
         "line": {
          "color": "#C0C0C0"
         },
         "mode": "lines+markers",
         "name": "Unchanged",
         "showlegend": false,
         "type": "scattergl",
         "x": [
          "2022-04-01T00:00:00",
          "2022-05-01T00:00:00"
         ],
         "y": [
          "2",
          "2"
         ]
        },
        {
         "hoverinfo": "skip",
         "line": {
          "color": "#C0C0C0"
         },
         "mode": "lines+markers",
         "name": "Unchanged",
         "showlegend": false,
         "type": "scattergl",
         "x": [
          "2022-05-01T00:00:00",
          "2022-06-01T00:00:00"
         ],
         "y": [
          "2",
          "2"
         ]
        },
        {
         "hoverinfo": "skip",
         "line": {
          "color": "#C0C0C0"
         },
         "mode": "lines+markers",
         "name": "Unchanged",
         "showlegend": false,
         "type": "scattergl",
         "x": [
          "2022-06-01T00:00:00",
          "2022-07-01T00:00:00"
         ],
         "y": [
          "2",
          "2"
         ]
        },
        {
         "hoverinfo": "skip",
         "line": {
          "color": "#C0C0C0"
         },
         "mode": "lines+markers",
         "name": "Unchanged",
         "showlegend": false,
         "type": "scattergl",
         "x": [
          "2022-07-01T00:00:00",
          "2022-08-01T00:00:00"
         ],
         "y": [
          "2",
          "2"
         ]
        },
        {
         "hoverinfo": "skip",
         "line": {
          "color": "#C0C0C0"
         },
         "mode": "lines+markers",
         "name": "Unchanged",
         "showlegend": false,
         "type": "scattergl",
         "x": [
          "2022-08-01T00:00:00",
          "2022-09-01T00:00:00"
         ],
         "y": [
          "2",
          "2"
         ]
        },
        {
         "hoverinfo": "skip",
         "line": {
          "color": "#C0C0C0"
         },
         "mode": "lines+markers",
         "name": "Unchanged",
         "showlegend": false,
         "type": "scattergl",
         "x": [
          "2022-09-01T00:00:00",
          "2022-10-01T00:00:00"
         ],
         "y": [
          "2",
          "2"
         ]
        },
        {
         "hoverinfo": "skip",
         "line": {
          "color": "#C0C0C0"
         },
         "mode": "lines+markers",
         "name": "Unchanged",
         "showlegend": false,
         "type": "scattergl",
         "x": [
          "2022-10-01T00:00:00",
          "2022-11-01T00:00:00"
         ],
         "y": [
          "2",
          "2"
         ]
        },
        {
         "hoverinfo": "skip",
         "line": {
          "color": "#C0C0C0"
         },
         "mode": "lines+markers",
         "name": "Unchanged",
         "showlegend": false,
         "type": "scattergl",
         "x": [
          "2022-11-01T00:00:00",
          "2022-12-01T00:00:00"
         ],
         "y": [
          "2",
          "2"
         ]
        },
        {
         "hoverinfo": "skip",
         "line": {
          "color": "#C0C0C0"
         },
         "mode": "lines+markers",
         "name": "Unchanged",
         "showlegend": false,
         "type": "scattergl",
         "x": [
          "2022-12-01T00:00:00",
          "2023-01-01T00:00:00"
         ],
         "y": [
          "2",
          "2"
         ]
        },
        {
         "hoverinfo": "skip",
         "line": {
          "color": "#C0C0C0"
         },
         "mode": "lines+markers",
         "name": "Unchanged",
         "showlegend": false,
         "type": "scattergl",
         "x": [
          "2023-01-01T00:00:00",
          "2023-02-01T00:00:00"
         ],
         "y": [
          "2",
          "2"
         ]
        },
        {
         "hoverinfo": "skip",
         "line": {
          "color": "#C0C0C0"
         },
         "mode": "lines+markers",
         "name": "Unchanged",
         "showlegend": false,
         "type": "scattergl",
         "x": [
          "2023-02-01T00:00:00",
          "2023-03-01T00:00:00"
         ],
         "y": [
          "2",
          "2"
         ]
        },
        {
         "hoverinfo": "skip",
         "line": {
          "color": "#C0C0C0"
         },
         "mode": "lines+markers",
         "name": "Unchanged",
         "showlegend": false,
         "type": "scattergl",
         "x": [
          "2023-03-01T00:00:00",
          "2023-04-01T00:00:00"
         ],
         "y": [
          "2",
          "2"
         ]
        },
        {
         "hoverinfo": "skip",
         "line": {
          "color": "#C0C0C0"
         },
         "mode": "lines+markers",
         "name": "Unchanged",
         "showlegend": false,
         "type": "scattergl",
         "x": [
          "2023-04-01T00:00:00",
          "2023-05-01T00:00:00"
         ],
         "y": [
          "2",
          "2"
         ]
        },
        {
         "hoverinfo": "skip",
         "line": {
          "color": "#C0C0C0"
         },
         "mode": "lines+markers",
         "name": "Unchanged",
         "showlegend": false,
         "type": "scattergl",
         "x": [
          "2023-05-01T00:00:00",
          "2023-06-01T00:00:00"
         ],
         "y": [
          "2",
          "2"
         ]
        },
        {
         "hoverinfo": "skip",
         "line": {
          "color": "#C0C0C0"
         },
         "mode": "lines+markers",
         "name": "Unchanged",
         "showlegend": false,
         "type": "scattergl",
         "x": [
          "2023-06-01T00:00:00",
          "2023-07-01T00:00:00"
         ],
         "y": [
          "2",
          "2"
         ]
        },
        {
         "hoverinfo": "skip",
         "line": {
          "color": "#C0C0C0"
         },
         "mode": "lines+markers",
         "name": "Unchanged",
         "showlegend": false,
         "type": "scattergl",
         "x": [
          "2023-07-01T00:00:00",
          "2023-08-01T00:00:00"
         ],
         "y": [
          "2",
          "2"
         ]
        },
        {
         "hoverinfo": "skip",
         "line": {
          "color": "#C0C0C0"
         },
         "mode": "lines+markers",
         "name": "Unchanged",
         "showlegend": false,
         "type": "scattergl",
         "x": [
          "2023-08-01T00:00:00",
          "2023-09-01T00:00:00"
         ],
         "y": [
          "2",
          "2"
         ]
        },
        {
         "hoverinfo": "skip",
         "line": {
          "color": "#C0C0C0"
         },
         "mode": "lines+markers",
         "name": "Unchanged",
         "showlegend": false,
         "type": "scattergl",
         "x": [
          "2023-09-01T00:00:00",
          "2023-10-01T00:00:00"
         ],
         "y": [
          "2",
          "2"
         ]
        },
        {
         "hoverinfo": "skip",
         "line": {
          "color": "#C0C0C0"
         },
         "mode": "lines+markers",
         "name": "Unchanged",
         "showlegend": false,
         "type": "scattergl",
         "x": [
          "2023-10-01T00:00:00",
          "2023-11-01T00:00:00"
         ],
         "y": [
          "2",
          "2"
         ]
        },
        {
         "hoverinfo": "skip",
         "line": {
          "color": "#C0C0C0"
         },
         "mode": "lines+markers",
         "name": "Unchanged",
         "showlegend": false,
         "type": "scattergl",
         "x": [
          "2023-11-01T00:00:00",
          "2023-12-01T00:00:00"
         ],
         "y": [
          "2",
          "2"
         ]
        },
        {
         "hoverinfo": "skip",
         "line": {
          "color": "#C0C0C0"
         },
         "mode": "lines+markers",
         "name": "Unchanged",
         "showlegend": false,
         "type": "scattergl",
         "x": [
          "2023-12-01T00:00:00",
          "2024-01-01T00:00:00"
         ],
         "y": [
          "2",
          "2"
         ]
        },
        {
         "hoverinfo": "skip",
         "line": {
          "color": "#C0C0C0"
         },
         "mode": "lines+markers",
         "name": "Unchanged",
         "showlegend": false,
         "type": "scattergl",
         "x": [
          "2024-01-01T00:00:00",
          "2024-02-01T00:00:00"
         ],
         "y": [
          "2",
          "2"
         ]
        },
        {
         "hoverinfo": "skip",
         "line": {
          "color": "#1f77b4"
         },
         "mode": "lines+markers",
         "name": "Train",
         "showlegend": false,
         "type": "scattergl",
         "x": [
          "2020-01-01T00:00:00",
          "2020-02-01T00:00:00"
         ],
         "y": [
          "2",
          "2"
         ]
        },
        {
         "hoverinfo": "skip",
         "line": {
          "color": "#1f77b4"
         },
         "mode": "lines+markers",
         "name": "Train",
         "showlegend": false,
         "type": "scattergl",
         "x": [
          "2020-02-01T00:00:00",
          "2020-03-01T00:00:00"
         ],
         "y": [
          "2",
          "2"
         ]
        },
        {
         "hoverinfo": "skip",
         "line": {
          "color": "#1f77b4"
         },
         "mode": "lines+markers",
         "name": "Train",
         "showlegend": false,
         "type": "scattergl",
         "x": [
          "2020-03-01T00:00:00",
          "2020-04-01T00:00:00"
         ],
         "y": [
          "2",
          "2"
         ]
        },
        {
         "hoverinfo": "skip",
         "line": {
          "color": "#1f77b4"
         },
         "mode": "lines+markers",
         "name": "Train",
         "showlegend": false,
         "type": "scattergl",
         "x": [
          "2020-04-01T00:00:00",
          "2020-05-01T00:00:00"
         ],
         "y": [
          "2",
          "2"
         ]
        },
        {
         "hoverinfo": "skip",
         "line": {
          "color": "#1f77b4"
         },
         "mode": "lines+markers",
         "name": "Train",
         "showlegend": false,
         "type": "scattergl",
         "x": [
          "2020-05-01T00:00:00",
          "2020-06-01T00:00:00"
         ],
         "y": [
          "2",
          "2"
         ]
        },
        {
         "hoverinfo": "skip",
         "line": {
          "color": "#1f77b4"
         },
         "mode": "lines+markers",
         "name": "Train",
         "showlegend": false,
         "type": "scattergl",
         "x": [
          "2020-06-01T00:00:00",
          "2020-07-01T00:00:00"
         ],
         "y": [
          "2",
          "2"
         ]
        },
        {
         "hoverinfo": "skip",
         "line": {
          "color": "#1f77b4"
         },
         "mode": "lines+markers",
         "name": "Train",
         "showlegend": false,
         "type": "scattergl",
         "x": [
          "2020-07-01T00:00:00",
          "2020-08-01T00:00:00"
         ],
         "y": [
          "2",
          "2"
         ]
        },
        {
         "hoverinfo": "skip",
         "line": {
          "color": "#1f77b4"
         },
         "mode": "lines+markers",
         "name": "Train",
         "showlegend": false,
         "type": "scattergl",
         "x": [
          "2020-08-01T00:00:00",
          "2020-09-01T00:00:00"
         ],
         "y": [
          "2",
          "2"
         ]
        },
        {
         "hoverinfo": "skip",
         "line": {
          "color": "#1f77b4"
         },
         "mode": "lines+markers",
         "name": "Train",
         "showlegend": false,
         "type": "scattergl",
         "x": [
          "2020-09-01T00:00:00",
          "2020-10-01T00:00:00"
         ],
         "y": [
          "2",
          "2"
         ]
        },
        {
         "hoverinfo": "skip",
         "line": {
          "color": "#1f77b4"
         },
         "mode": "lines+markers",
         "name": "Train",
         "showlegend": false,
         "type": "scattergl",
         "x": [
          "2020-10-01T00:00:00",
          "2020-11-01T00:00:00"
         ],
         "y": [
          "2",
          "2"
         ]
        },
        {
         "hoverinfo": "skip",
         "line": {
          "color": "#1f77b4"
         },
         "mode": "lines+markers",
         "name": "Train",
         "showlegend": false,
         "type": "scattergl",
         "x": [
          "2020-11-01T00:00:00",
          "2020-12-01T00:00:00"
         ],
         "y": [
          "2",
          "2"
         ]
        },
        {
         "hoverinfo": "skip",
         "line": {
          "color": "#1f77b4"
         },
         "mode": "lines+markers",
         "name": "Train",
         "showlegend": false,
         "type": "scattergl",
         "x": [
          "2020-12-01T00:00:00",
          "2021-01-01T00:00:00"
         ],
         "y": [
          "2",
          "2"
         ]
        },
        {
         "hoverinfo": "skip",
         "line": {
          "color": "#1f77b4"
         },
         "mode": "lines+markers",
         "name": "Train",
         "showlegend": false,
         "type": "scattergl",
         "x": [
          "2021-01-01T00:00:00",
          "2021-02-01T00:00:00"
         ],
         "y": [
          "2",
          "2"
         ]
        },
        {
         "hoverinfo": "skip",
         "line": {
          "color": "#1f77b4"
         },
         "mode": "lines+markers",
         "name": "Train",
         "showlegend": false,
         "type": "scattergl",
         "x": [
          "2021-02-01T00:00:00",
          "2021-03-01T00:00:00"
         ],
         "y": [
          "2",
          "2"
         ]
        },
        {
         "hoverinfo": "skip",
         "line": {
          "color": "#1f77b4"
         },
         "mode": "lines+markers",
         "name": "Train",
         "showlegend": false,
         "type": "scattergl",
         "x": [
          "2021-03-01T00:00:00",
          "2021-04-01T00:00:00"
         ],
         "y": [
          "2",
          "2"
         ]
        },
        {
         "hoverinfo": "skip",
         "line": {
          "color": "#1f77b4"
         },
         "mode": "lines+markers",
         "name": "Train",
         "showlegend": false,
         "type": "scattergl",
         "x": [
          "2021-04-01T00:00:00",
          "2021-05-01T00:00:00"
         ],
         "y": [
          "2",
          "2"
         ]
        },
        {
         "hoverinfo": "skip",
         "line": {
          "color": "#1f77b4"
         },
         "mode": "lines+markers",
         "name": "Train",
         "showlegend": false,
         "type": "scattergl",
         "x": [
          "2021-05-01T00:00:00",
          "2021-06-01T00:00:00"
         ],
         "y": [
          "2",
          "2"
         ]
        },
        {
         "hoverinfo": "skip",
         "line": {
          "color": "#1f77b4"
         },
         "mode": "lines+markers",
         "name": "Train",
         "showlegend": false,
         "type": "scattergl",
         "x": [
          "2021-06-01T00:00:00",
          "2021-07-01T00:00:00"
         ],
         "y": [
          "2",
          "2"
         ]
        },
        {
         "hoverinfo": "skip",
         "line": {
          "color": "#1f77b4"
         },
         "mode": "lines+markers",
         "name": "Train",
         "showlegend": false,
         "type": "scattergl",
         "x": [
          "2021-07-01T00:00:00",
          "2021-08-01T00:00:00"
         ],
         "y": [
          "2",
          "2"
         ]
        },
        {
         "hoverinfo": "skip",
         "line": {
          "color": "#1f77b4"
         },
         "mode": "lines+markers",
         "name": "Train",
         "showlegend": false,
         "type": "scattergl",
         "x": [
          "2021-08-01T00:00:00",
          "2021-09-01T00:00:00"
         ],
         "y": [
          "2",
          "2"
         ]
        },
        {
         "hoverinfo": "skip",
         "line": {
          "color": "#1f77b4"
         },
         "mode": "lines+markers",
         "name": "Train",
         "showlegend": false,
         "type": "scattergl",
         "x": [
          "2021-09-01T00:00:00",
          "2021-10-01T00:00:00"
         ],
         "y": [
          "2",
          "2"
         ]
        },
        {
         "hoverinfo": "skip",
         "line": {
          "color": "#1f77b4"
         },
         "mode": "lines+markers",
         "name": "Train",
         "showlegend": false,
         "type": "scattergl",
         "x": [
          "2021-10-01T00:00:00",
          "2021-11-01T00:00:00"
         ],
         "y": [
          "2",
          "2"
         ]
        },
        {
         "hoverinfo": "skip",
         "line": {
          "color": "#1f77b4"
         },
         "mode": "lines+markers",
         "name": "Train",
         "showlegend": false,
         "type": "scattergl",
         "x": [
          "2021-11-01T00:00:00",
          "2021-12-01T00:00:00"
         ],
         "y": [
          "2",
          "2"
         ]
        },
        {
         "hoverinfo": "skip",
         "line": {
          "color": "#1f77b4"
         },
         "mode": "lines+markers",
         "name": "Train",
         "showlegend": false,
         "type": "scattergl",
         "x": [
          "2021-12-01T00:00:00",
          "2022-01-01T00:00:00"
         ],
         "y": [
          "2",
          "2"
         ]
        },
        {
         "hoverinfo": "skip",
         "line": {
          "color": "#1f77b4"
         },
         "mode": "lines+markers",
         "name": "Train",
         "showlegend": false,
         "type": "scattergl",
         "x": [
          "2022-01-01T00:00:00",
          "2022-02-01T00:00:00"
         ],
         "y": [
          "2",
          "2"
         ]
        },
        {
         "hoverinfo": "skip",
         "line": {
          "color": "#1f77b4"
         },
         "mode": "lines+markers",
         "name": "Train",
         "showlegend": false,
         "type": "scattergl",
         "x": [
          "2022-02-01T00:00:00",
          "2022-03-01T00:00:00"
         ],
         "y": [
          "2",
          "2"
         ]
        },
        {
         "hoverinfo": "skip",
         "line": {
          "color": "#1f77b4"
         },
         "mode": "lines+markers",
         "name": "Train",
         "showlegend": false,
         "type": "scattergl",
         "x": [
          "2022-03-01T00:00:00",
          "2022-04-01T00:00:00"
         ],
         "y": [
          "2",
          "2"
         ]
        },
        {
         "hoverinfo": "skip",
         "line": {
          "color": "#1f77b4"
         },
         "mode": "lines+markers",
         "name": "Train",
         "showlegend": false,
         "type": "scattergl",
         "x": [
          "2022-04-01T00:00:00",
          "2022-05-01T00:00:00"
         ],
         "y": [
          "2",
          "2"
         ]
        },
        {
         "hoverinfo": "skip",
         "line": {
          "color": "#1f77b4"
         },
         "mode": "lines+markers",
         "name": "Train",
         "showlegend": false,
         "type": "scattergl",
         "x": [
          "2022-05-01T00:00:00",
          "2022-06-01T00:00:00"
         ],
         "y": [
          "2",
          "2"
         ]
        },
        {
         "hoverinfo": "skip",
         "line": {
          "color": "#1f77b4"
         },
         "mode": "lines+markers",
         "name": "Train",
         "showlegend": false,
         "type": "scattergl",
         "x": [
          "2022-06-01T00:00:00",
          "2022-07-01T00:00:00"
         ],
         "y": [
          "2",
          "2"
         ]
        },
        {
         "hoverinfo": "skip",
         "line": {
          "color": "#1f77b4"
         },
         "mode": "lines+markers",
         "name": "Train",
         "showlegend": false,
         "type": "scattergl",
         "x": [
          "2022-07-01T00:00:00",
          "2022-08-01T00:00:00"
         ],
         "y": [
          "2",
          "2"
         ]
        },
        {
         "hoverinfo": "skip",
         "line": {
          "color": "#1f77b4"
         },
         "mode": "lines+markers",
         "name": "Train",
         "showlegend": false,
         "type": "scattergl",
         "x": [
          "2022-08-01T00:00:00",
          "2022-09-01T00:00:00"
         ],
         "y": [
          "2",
          "2"
         ]
        },
        {
         "hoverinfo": "skip",
         "line": {
          "color": "#1f77b4"
         },
         "mode": "lines+markers",
         "name": "Train",
         "showlegend": false,
         "type": "scattergl",
         "x": [
          "2022-09-01T00:00:00",
          "2022-10-01T00:00:00"
         ],
         "y": [
          "2",
          "2"
         ]
        },
        {
         "hoverinfo": "skip",
         "line": {
          "color": "#1f77b4"
         },
         "mode": "lines+markers",
         "name": "Train",
         "showlegend": false,
         "type": "scattergl",
         "x": [
          "2022-10-01T00:00:00",
          "2022-11-01T00:00:00"
         ],
         "y": [
          "2",
          "2"
         ]
        },
        {
         "hoverinfo": "skip",
         "line": {
          "color": "#1f77b4"
         },
         "mode": "lines+markers",
         "name": "Train",
         "showlegend": false,
         "type": "scattergl",
         "x": [
          "2022-11-01T00:00:00",
          "2022-12-01T00:00:00"
         ],
         "y": [
          "2",
          "2"
         ]
        },
        {
         "hoverinfo": "skip",
         "line": {
          "color": "#1f77b4"
         },
         "mode": "lines+markers",
         "name": "Train",
         "showlegend": false,
         "type": "scattergl",
         "x": [
          "2022-12-01T00:00:00",
          "2023-01-01T00:00:00"
         ],
         "y": [
          "2",
          "2"
         ]
        },
        {
         "hoverinfo": "skip",
         "line": {
          "color": "#1f77b4"
         },
         "mode": "lines+markers",
         "name": "Train",
         "showlegend": false,
         "type": "scattergl",
         "x": [
          "2023-01-01T00:00:00",
          "2023-02-01T00:00:00"
         ],
         "y": [
          "2",
          "2"
         ]
        },
        {
         "hoverinfo": "skip",
         "line": {
          "color": "#1f77b4"
         },
         "mode": "lines+markers",
         "name": "Train",
         "showlegend": false,
         "type": "scattergl",
         "x": [
          "2023-02-01T00:00:00",
          "2023-03-01T00:00:00"
         ],
         "y": [
          "2",
          "2"
         ]
        },
        {
         "hoverinfo": "skip",
         "line": {
          "color": "#1f77b4"
         },
         "mode": "lines+markers",
         "name": "Train",
         "showlegend": false,
         "type": "scattergl",
         "x": [
          "2023-03-01T00:00:00",
          "2023-04-01T00:00:00"
         ],
         "y": [
          "2",
          "2"
         ]
        },
        {
         "hoverinfo": "skip",
         "line": {
          "color": "#1f77b4"
         },
         "mode": "lines+markers",
         "name": "Train",
         "showlegend": false,
         "type": "scattergl",
         "x": [
          "2023-04-01T00:00:00",
          "2023-05-01T00:00:00"
         ],
         "y": [
          "2",
          "2"
         ]
        },
        {
         "hoverinfo": "skip",
         "line": {
          "color": "#1f77b4"
         },
         "mode": "lines+markers",
         "name": "Train",
         "showlegend": false,
         "type": "scattergl",
         "x": [
          "2023-05-01T00:00:00",
          "2023-06-01T00:00:00"
         ],
         "y": [
          "2",
          "2"
         ]
        },
        {
         "hoverinfo": "skip",
         "line": {
          "color": "#1f77b4"
         },
         "mode": "lines+markers",
         "name": "Train",
         "showlegend": false,
         "type": "scattergl",
         "x": [
          "2023-06-01T00:00:00",
          "2023-07-01T00:00:00"
         ],
         "y": [
          "2",
          "2"
         ]
        },
        {
         "hoverinfo": "skip",
         "line": {
          "color": "#1f77b4"
         },
         "mode": "lines+markers",
         "name": "Train",
         "showlegend": false,
         "type": "scattergl",
         "x": [
          "2023-07-01T00:00:00",
          "2023-08-01T00:00:00"
         ],
         "y": [
          "2",
          "2"
         ]
        },
        {
         "hoverinfo": "skip",
         "line": {
          "color": "#1f77b4"
         },
         "mode": "lines+markers",
         "name": "Train",
         "showlegend": false,
         "type": "scattergl",
         "x": [
          "2023-08-01T00:00:00",
          "2023-09-01T00:00:00"
         ],
         "y": [
          "2",
          "2"
         ]
        },
        {
         "hoverinfo": "skip",
         "line": {
          "color": "#1f77b4"
         },
         "mode": "lines+markers",
         "name": "Train",
         "showlegend": false,
         "type": "scattergl",
         "x": [
          "2023-09-01T00:00:00",
          "2023-10-01T00:00:00"
         ],
         "y": [
          "2",
          "2"
         ]
        },
        {
         "hoverinfo": "skip",
         "line": {
          "color": "#1f77b4"
         },
         "mode": "lines+markers",
         "name": "Train",
         "showlegend": false,
         "type": "scattergl",
         "x": [
          "2023-10-01T00:00:00",
          "2023-11-01T00:00:00"
         ],
         "y": [
          "2",
          "2"
         ]
        },
        {
         "hoverinfo": "skip",
         "line": {
          "color": "#DE970B"
         },
         "mode": "lines+markers",
         "name": "ForecastHorizon",
         "showlegend": false,
         "type": "scattergl",
         "x": [
          "2023-12-01T00:00:00",
          "2024-01-01T00:00:00"
         ],
         "y": [
          "2",
          "2"
         ]
        },
        {
         "hoverinfo": "skip",
         "line": {
          "color": "#DE970B"
         },
         "mode": "lines+markers",
         "name": "ForecastHorizon",
         "showlegend": false,
         "type": "scattergl",
         "x": [
          "2024-01-01T00:00:00",
          "2024-02-01T00:00:00"
         ],
         "y": [
          "2",
          "2"
         ]
        },
        {
         "hoverinfo": "skip",
         "line": {
          "color": "#C0C0C0"
         },
         "mode": "lines+markers",
         "name": "Unchanged",
         "showlegend": false,
         "type": "scattergl",
         "x": [
          "2020-01-01T00:00:00",
          "2020-02-01T00:00:00"
         ],
         "y": [
          "1",
          "1"
         ]
        },
        {
         "hoverinfo": "skip",
         "line": {
          "color": "#C0C0C0"
         },
         "mode": "lines+markers",
         "name": "Unchanged",
         "showlegend": false,
         "type": "scattergl",
         "x": [
          "2020-02-01T00:00:00",
          "2020-03-01T00:00:00"
         ],
         "y": [
          "1",
          "1"
         ]
        },
        {
         "hoverinfo": "skip",
         "line": {
          "color": "#C0C0C0"
         },
         "mode": "lines+markers",
         "name": "Unchanged",
         "showlegend": false,
         "type": "scattergl",
         "x": [
          "2020-03-01T00:00:00",
          "2020-04-01T00:00:00"
         ],
         "y": [
          "1",
          "1"
         ]
        },
        {
         "hoverinfo": "skip",
         "line": {
          "color": "#C0C0C0"
         },
         "mode": "lines+markers",
         "name": "Unchanged",
         "showlegend": false,
         "type": "scattergl",
         "x": [
          "2020-04-01T00:00:00",
          "2020-05-01T00:00:00"
         ],
         "y": [
          "1",
          "1"
         ]
        },
        {
         "hoverinfo": "skip",
         "line": {
          "color": "#C0C0C0"
         },
         "mode": "lines+markers",
         "name": "Unchanged",
         "showlegend": false,
         "type": "scattergl",
         "x": [
          "2020-05-01T00:00:00",
          "2020-06-01T00:00:00"
         ],
         "y": [
          "1",
          "1"
         ]
        },
        {
         "hoverinfo": "skip",
         "line": {
          "color": "#C0C0C0"
         },
         "mode": "lines+markers",
         "name": "Unchanged",
         "showlegend": false,
         "type": "scattergl",
         "x": [
          "2020-06-01T00:00:00",
          "2020-07-01T00:00:00"
         ],
         "y": [
          "1",
          "1"
         ]
        },
        {
         "hoverinfo": "skip",
         "line": {
          "color": "#C0C0C0"
         },
         "mode": "lines+markers",
         "name": "Unchanged",
         "showlegend": false,
         "type": "scattergl",
         "x": [
          "2020-07-01T00:00:00",
          "2020-08-01T00:00:00"
         ],
         "y": [
          "1",
          "1"
         ]
        },
        {
         "hoverinfo": "skip",
         "line": {
          "color": "#C0C0C0"
         },
         "mode": "lines+markers",
         "name": "Unchanged",
         "showlegend": false,
         "type": "scattergl",
         "x": [
          "2020-08-01T00:00:00",
          "2020-09-01T00:00:00"
         ],
         "y": [
          "1",
          "1"
         ]
        },
        {
         "hoverinfo": "skip",
         "line": {
          "color": "#C0C0C0"
         },
         "mode": "lines+markers",
         "name": "Unchanged",
         "showlegend": false,
         "type": "scattergl",
         "x": [
          "2020-09-01T00:00:00",
          "2020-10-01T00:00:00"
         ],
         "y": [
          "1",
          "1"
         ]
        },
        {
         "hoverinfo": "skip",
         "line": {
          "color": "#C0C0C0"
         },
         "mode": "lines+markers",
         "name": "Unchanged",
         "showlegend": false,
         "type": "scattergl",
         "x": [
          "2020-10-01T00:00:00",
          "2020-11-01T00:00:00"
         ],
         "y": [
          "1",
          "1"
         ]
        },
        {
         "hoverinfo": "skip",
         "line": {
          "color": "#C0C0C0"
         },
         "mode": "lines+markers",
         "name": "Unchanged",
         "showlegend": false,
         "type": "scattergl",
         "x": [
          "2020-11-01T00:00:00",
          "2020-12-01T00:00:00"
         ],
         "y": [
          "1",
          "1"
         ]
        },
        {
         "hoverinfo": "skip",
         "line": {
          "color": "#C0C0C0"
         },
         "mode": "lines+markers",
         "name": "Unchanged",
         "showlegend": false,
         "type": "scattergl",
         "x": [
          "2020-12-01T00:00:00",
          "2021-01-01T00:00:00"
         ],
         "y": [
          "1",
          "1"
         ]
        },
        {
         "hoverinfo": "skip",
         "line": {
          "color": "#C0C0C0"
         },
         "mode": "lines+markers",
         "name": "Unchanged",
         "showlegend": false,
         "type": "scattergl",
         "x": [
          "2021-01-01T00:00:00",
          "2021-02-01T00:00:00"
         ],
         "y": [
          "1",
          "1"
         ]
        },
        {
         "hoverinfo": "skip",
         "line": {
          "color": "#C0C0C0"
         },
         "mode": "lines+markers",
         "name": "Unchanged",
         "showlegend": false,
         "type": "scattergl",
         "x": [
          "2021-02-01T00:00:00",
          "2021-03-01T00:00:00"
         ],
         "y": [
          "1",
          "1"
         ]
        },
        {
         "hoverinfo": "skip",
         "line": {
          "color": "#C0C0C0"
         },
         "mode": "lines+markers",
         "name": "Unchanged",
         "showlegend": false,
         "type": "scattergl",
         "x": [
          "2021-03-01T00:00:00",
          "2021-04-01T00:00:00"
         ],
         "y": [
          "1",
          "1"
         ]
        },
        {
         "hoverinfo": "skip",
         "line": {
          "color": "#C0C0C0"
         },
         "mode": "lines+markers",
         "name": "Unchanged",
         "showlegend": false,
         "type": "scattergl",
         "x": [
          "2021-04-01T00:00:00",
          "2021-05-01T00:00:00"
         ],
         "y": [
          "1",
          "1"
         ]
        },
        {
         "hoverinfo": "skip",
         "line": {
          "color": "#C0C0C0"
         },
         "mode": "lines+markers",
         "name": "Unchanged",
         "showlegend": false,
         "type": "scattergl",
         "x": [
          "2021-05-01T00:00:00",
          "2021-06-01T00:00:00"
         ],
         "y": [
          "1",
          "1"
         ]
        },
        {
         "hoverinfo": "skip",
         "line": {
          "color": "#C0C0C0"
         },
         "mode": "lines+markers",
         "name": "Unchanged",
         "showlegend": false,
         "type": "scattergl",
         "x": [
          "2021-06-01T00:00:00",
          "2021-07-01T00:00:00"
         ],
         "y": [
          "1",
          "1"
         ]
        },
        {
         "hoverinfo": "skip",
         "line": {
          "color": "#C0C0C0"
         },
         "mode": "lines+markers",
         "name": "Unchanged",
         "showlegend": false,
         "type": "scattergl",
         "x": [
          "2021-07-01T00:00:00",
          "2021-08-01T00:00:00"
         ],
         "y": [
          "1",
          "1"
         ]
        },
        {
         "hoverinfo": "skip",
         "line": {
          "color": "#C0C0C0"
         },
         "mode": "lines+markers",
         "name": "Unchanged",
         "showlegend": false,
         "type": "scattergl",
         "x": [
          "2021-08-01T00:00:00",
          "2021-09-01T00:00:00"
         ],
         "y": [
          "1",
          "1"
         ]
        },
        {
         "hoverinfo": "skip",
         "line": {
          "color": "#C0C0C0"
         },
         "mode": "lines+markers",
         "name": "Unchanged",
         "showlegend": false,
         "type": "scattergl",
         "x": [
          "2021-09-01T00:00:00",
          "2021-10-01T00:00:00"
         ],
         "y": [
          "1",
          "1"
         ]
        },
        {
         "hoverinfo": "skip",
         "line": {
          "color": "#C0C0C0"
         },
         "mode": "lines+markers",
         "name": "Unchanged",
         "showlegend": false,
         "type": "scattergl",
         "x": [
          "2021-10-01T00:00:00",
          "2021-11-01T00:00:00"
         ],
         "y": [
          "1",
          "1"
         ]
        },
        {
         "hoverinfo": "skip",
         "line": {
          "color": "#C0C0C0"
         },
         "mode": "lines+markers",
         "name": "Unchanged",
         "showlegend": false,
         "type": "scattergl",
         "x": [
          "2021-11-01T00:00:00",
          "2021-12-01T00:00:00"
         ],
         "y": [
          "1",
          "1"
         ]
        },
        {
         "hoverinfo": "skip",
         "line": {
          "color": "#C0C0C0"
         },
         "mode": "lines+markers",
         "name": "Unchanged",
         "showlegend": false,
         "type": "scattergl",
         "x": [
          "2021-12-01T00:00:00",
          "2022-01-01T00:00:00"
         ],
         "y": [
          "1",
          "1"
         ]
        },
        {
         "hoverinfo": "skip",
         "line": {
          "color": "#C0C0C0"
         },
         "mode": "lines+markers",
         "name": "Unchanged",
         "showlegend": false,
         "type": "scattergl",
         "x": [
          "2022-01-01T00:00:00",
          "2022-02-01T00:00:00"
         ],
         "y": [
          "1",
          "1"
         ]
        },
        {
         "hoverinfo": "skip",
         "line": {
          "color": "#C0C0C0"
         },
         "mode": "lines+markers",
         "name": "Unchanged",
         "showlegend": false,
         "type": "scattergl",
         "x": [
          "2022-02-01T00:00:00",
          "2022-03-01T00:00:00"
         ],
         "y": [
          "1",
          "1"
         ]
        },
        {
         "hoverinfo": "skip",
         "line": {
          "color": "#C0C0C0"
         },
         "mode": "lines+markers",
         "name": "Unchanged",
         "showlegend": false,
         "type": "scattergl",
         "x": [
          "2022-03-01T00:00:00",
          "2022-04-01T00:00:00"
         ],
         "y": [
          "1",
          "1"
         ]
        },
        {
         "hoverinfo": "skip",
         "line": {
          "color": "#C0C0C0"
         },
         "mode": "lines+markers",
         "name": "Unchanged",
         "showlegend": false,
         "type": "scattergl",
         "x": [
          "2022-04-01T00:00:00",
          "2022-05-01T00:00:00"
         ],
         "y": [
          "1",
          "1"
         ]
        },
        {
         "hoverinfo": "skip",
         "line": {
          "color": "#C0C0C0"
         },
         "mode": "lines+markers",
         "name": "Unchanged",
         "showlegend": false,
         "type": "scattergl",
         "x": [
          "2022-05-01T00:00:00",
          "2022-06-01T00:00:00"
         ],
         "y": [
          "1",
          "1"
         ]
        },
        {
         "hoverinfo": "skip",
         "line": {
          "color": "#C0C0C0"
         },
         "mode": "lines+markers",
         "name": "Unchanged",
         "showlegend": false,
         "type": "scattergl",
         "x": [
          "2022-06-01T00:00:00",
          "2022-07-01T00:00:00"
         ],
         "y": [
          "1",
          "1"
         ]
        },
        {
         "hoverinfo": "skip",
         "line": {
          "color": "#C0C0C0"
         },
         "mode": "lines+markers",
         "name": "Unchanged",
         "showlegend": false,
         "type": "scattergl",
         "x": [
          "2022-07-01T00:00:00",
          "2022-08-01T00:00:00"
         ],
         "y": [
          "1",
          "1"
         ]
        },
        {
         "hoverinfo": "skip",
         "line": {
          "color": "#C0C0C0"
         },
         "mode": "lines+markers",
         "name": "Unchanged",
         "showlegend": false,
         "type": "scattergl",
         "x": [
          "2022-08-01T00:00:00",
          "2022-09-01T00:00:00"
         ],
         "y": [
          "1",
          "1"
         ]
        },
        {
         "hoverinfo": "skip",
         "line": {
          "color": "#C0C0C0"
         },
         "mode": "lines+markers",
         "name": "Unchanged",
         "showlegend": false,
         "type": "scattergl",
         "x": [
          "2022-09-01T00:00:00",
          "2022-10-01T00:00:00"
         ],
         "y": [
          "1",
          "1"
         ]
        },
        {
         "hoverinfo": "skip",
         "line": {
          "color": "#C0C0C0"
         },
         "mode": "lines+markers",
         "name": "Unchanged",
         "showlegend": false,
         "type": "scattergl",
         "x": [
          "2022-10-01T00:00:00",
          "2022-11-01T00:00:00"
         ],
         "y": [
          "1",
          "1"
         ]
        },
        {
         "hoverinfo": "skip",
         "line": {
          "color": "#C0C0C0"
         },
         "mode": "lines+markers",
         "name": "Unchanged",
         "showlegend": false,
         "type": "scattergl",
         "x": [
          "2022-11-01T00:00:00",
          "2022-12-01T00:00:00"
         ],
         "y": [
          "1",
          "1"
         ]
        },
        {
         "hoverinfo": "skip",
         "line": {
          "color": "#C0C0C0"
         },
         "mode": "lines+markers",
         "name": "Unchanged",
         "showlegend": false,
         "type": "scattergl",
         "x": [
          "2022-12-01T00:00:00",
          "2023-01-01T00:00:00"
         ],
         "y": [
          "1",
          "1"
         ]
        },
        {
         "hoverinfo": "skip",
         "line": {
          "color": "#C0C0C0"
         },
         "mode": "lines+markers",
         "name": "Unchanged",
         "showlegend": false,
         "type": "scattergl",
         "x": [
          "2023-01-01T00:00:00",
          "2023-02-01T00:00:00"
         ],
         "y": [
          "1",
          "1"
         ]
        },
        {
         "hoverinfo": "skip",
         "line": {
          "color": "#C0C0C0"
         },
         "mode": "lines+markers",
         "name": "Unchanged",
         "showlegend": false,
         "type": "scattergl",
         "x": [
          "2023-02-01T00:00:00",
          "2023-03-01T00:00:00"
         ],
         "y": [
          "1",
          "1"
         ]
        },
        {
         "hoverinfo": "skip",
         "line": {
          "color": "#C0C0C0"
         },
         "mode": "lines+markers",
         "name": "Unchanged",
         "showlegend": false,
         "type": "scattergl",
         "x": [
          "2023-03-01T00:00:00",
          "2023-04-01T00:00:00"
         ],
         "y": [
          "1",
          "1"
         ]
        },
        {
         "hoverinfo": "skip",
         "line": {
          "color": "#C0C0C0"
         },
         "mode": "lines+markers",
         "name": "Unchanged",
         "showlegend": false,
         "type": "scattergl",
         "x": [
          "2023-04-01T00:00:00",
          "2023-05-01T00:00:00"
         ],
         "y": [
          "1",
          "1"
         ]
        },
        {
         "hoverinfo": "skip",
         "line": {
          "color": "#C0C0C0"
         },
         "mode": "lines+markers",
         "name": "Unchanged",
         "showlegend": false,
         "type": "scattergl",
         "x": [
          "2023-05-01T00:00:00",
          "2023-06-01T00:00:00"
         ],
         "y": [
          "1",
          "1"
         ]
        },
        {
         "hoverinfo": "skip",
         "line": {
          "color": "#C0C0C0"
         },
         "mode": "lines+markers",
         "name": "Unchanged",
         "showlegend": false,
         "type": "scattergl",
         "x": [
          "2023-06-01T00:00:00",
          "2023-07-01T00:00:00"
         ],
         "y": [
          "1",
          "1"
         ]
        },
        {
         "hoverinfo": "skip",
         "line": {
          "color": "#C0C0C0"
         },
         "mode": "lines+markers",
         "name": "Unchanged",
         "showlegend": false,
         "type": "scattergl",
         "x": [
          "2023-07-01T00:00:00",
          "2023-08-01T00:00:00"
         ],
         "y": [
          "1",
          "1"
         ]
        },
        {
         "hoverinfo": "skip",
         "line": {
          "color": "#C0C0C0"
         },
         "mode": "lines+markers",
         "name": "Unchanged",
         "showlegend": false,
         "type": "scattergl",
         "x": [
          "2023-08-01T00:00:00",
          "2023-09-01T00:00:00"
         ],
         "y": [
          "1",
          "1"
         ]
        },
        {
         "hoverinfo": "skip",
         "line": {
          "color": "#C0C0C0"
         },
         "mode": "lines+markers",
         "name": "Unchanged",
         "showlegend": false,
         "type": "scattergl",
         "x": [
          "2023-09-01T00:00:00",
          "2023-10-01T00:00:00"
         ],
         "y": [
          "1",
          "1"
         ]
        },
        {
         "hoverinfo": "skip",
         "line": {
          "color": "#C0C0C0"
         },
         "mode": "lines+markers",
         "name": "Unchanged",
         "showlegend": false,
         "type": "scattergl",
         "x": [
          "2023-10-01T00:00:00",
          "2023-11-01T00:00:00"
         ],
         "y": [
          "1",
          "1"
         ]
        },
        {
         "hoverinfo": "skip",
         "line": {
          "color": "#C0C0C0"
         },
         "mode": "lines+markers",
         "name": "Unchanged",
         "showlegend": false,
         "type": "scattergl",
         "x": [
          "2023-11-01T00:00:00",
          "2023-12-01T00:00:00"
         ],
         "y": [
          "1",
          "1"
         ]
        },
        {
         "hoverinfo": "skip",
         "line": {
          "color": "#C0C0C0"
         },
         "mode": "lines+markers",
         "name": "Unchanged",
         "showlegend": false,
         "type": "scattergl",
         "x": [
          "2023-12-01T00:00:00",
          "2024-01-01T00:00:00"
         ],
         "y": [
          "1",
          "1"
         ]
        },
        {
         "hoverinfo": "skip",
         "line": {
          "color": "#C0C0C0"
         },
         "mode": "lines+markers",
         "name": "Unchanged",
         "showlegend": false,
         "type": "scattergl",
         "x": [
          "2024-01-01T00:00:00",
          "2024-02-01T00:00:00"
         ],
         "y": [
          "1",
          "1"
         ]
        },
        {
         "hoverinfo": "skip",
         "line": {
          "color": "#1f77b4"
         },
         "mode": "lines+markers",
         "name": "Train",
         "showlegend": false,
         "type": "scattergl",
         "x": [
          "2020-01-01T00:00:00",
          "2020-02-01T00:00:00"
         ],
         "y": [
          "1",
          "1"
         ]
        },
        {
         "hoverinfo": "skip",
         "line": {
          "color": "#1f77b4"
         },
         "mode": "lines+markers",
         "name": "Train",
         "showlegend": false,
         "type": "scattergl",
         "x": [
          "2020-02-01T00:00:00",
          "2020-03-01T00:00:00"
         ],
         "y": [
          "1",
          "1"
         ]
        },
        {
         "hoverinfo": "skip",
         "line": {
          "color": "#1f77b4"
         },
         "mode": "lines+markers",
         "name": "Train",
         "showlegend": false,
         "type": "scattergl",
         "x": [
          "2020-03-01T00:00:00",
          "2020-04-01T00:00:00"
         ],
         "y": [
          "1",
          "1"
         ]
        },
        {
         "hoverinfo": "skip",
         "line": {
          "color": "#1f77b4"
         },
         "mode": "lines+markers",
         "name": "Train",
         "showlegend": false,
         "type": "scattergl",
         "x": [
          "2020-04-01T00:00:00",
          "2020-05-01T00:00:00"
         ],
         "y": [
          "1",
          "1"
         ]
        },
        {
         "hoverinfo": "skip",
         "line": {
          "color": "#1f77b4"
         },
         "mode": "lines+markers",
         "name": "Train",
         "showlegend": false,
         "type": "scattergl",
         "x": [
          "2020-05-01T00:00:00",
          "2020-06-01T00:00:00"
         ],
         "y": [
          "1",
          "1"
         ]
        },
        {
         "hoverinfo": "skip",
         "line": {
          "color": "#1f77b4"
         },
         "mode": "lines+markers",
         "name": "Train",
         "showlegend": false,
         "type": "scattergl",
         "x": [
          "2020-06-01T00:00:00",
          "2020-07-01T00:00:00"
         ],
         "y": [
          "1",
          "1"
         ]
        },
        {
         "hoverinfo": "skip",
         "line": {
          "color": "#1f77b4"
         },
         "mode": "lines+markers",
         "name": "Train",
         "showlegend": false,
         "type": "scattergl",
         "x": [
          "2020-07-01T00:00:00",
          "2020-08-01T00:00:00"
         ],
         "y": [
          "1",
          "1"
         ]
        },
        {
         "hoverinfo": "skip",
         "line": {
          "color": "#1f77b4"
         },
         "mode": "lines+markers",
         "name": "Train",
         "showlegend": false,
         "type": "scattergl",
         "x": [
          "2020-08-01T00:00:00",
          "2020-09-01T00:00:00"
         ],
         "y": [
          "1",
          "1"
         ]
        },
        {
         "hoverinfo": "skip",
         "line": {
          "color": "#1f77b4"
         },
         "mode": "lines+markers",
         "name": "Train",
         "showlegend": false,
         "type": "scattergl",
         "x": [
          "2020-09-01T00:00:00",
          "2020-10-01T00:00:00"
         ],
         "y": [
          "1",
          "1"
         ]
        },
        {
         "hoverinfo": "skip",
         "line": {
          "color": "#1f77b4"
         },
         "mode": "lines+markers",
         "name": "Train",
         "showlegend": false,
         "type": "scattergl",
         "x": [
          "2020-10-01T00:00:00",
          "2020-11-01T00:00:00"
         ],
         "y": [
          "1",
          "1"
         ]
        },
        {
         "hoverinfo": "skip",
         "line": {
          "color": "#1f77b4"
         },
         "mode": "lines+markers",
         "name": "Train",
         "showlegend": false,
         "type": "scattergl",
         "x": [
          "2020-11-01T00:00:00",
          "2020-12-01T00:00:00"
         ],
         "y": [
          "1",
          "1"
         ]
        },
        {
         "hoverinfo": "skip",
         "line": {
          "color": "#1f77b4"
         },
         "mode": "lines+markers",
         "name": "Train",
         "showlegend": false,
         "type": "scattergl",
         "x": [
          "2020-12-01T00:00:00",
          "2021-01-01T00:00:00"
         ],
         "y": [
          "1",
          "1"
         ]
        },
        {
         "hoverinfo": "skip",
         "line": {
          "color": "#1f77b4"
         },
         "mode": "lines+markers",
         "name": "Train",
         "showlegend": false,
         "type": "scattergl",
         "x": [
          "2021-01-01T00:00:00",
          "2021-02-01T00:00:00"
         ],
         "y": [
          "1",
          "1"
         ]
        },
        {
         "hoverinfo": "skip",
         "line": {
          "color": "#1f77b4"
         },
         "mode": "lines+markers",
         "name": "Train",
         "showlegend": false,
         "type": "scattergl",
         "x": [
          "2021-02-01T00:00:00",
          "2021-03-01T00:00:00"
         ],
         "y": [
          "1",
          "1"
         ]
        },
        {
         "hoverinfo": "skip",
         "line": {
          "color": "#1f77b4"
         },
         "mode": "lines+markers",
         "name": "Train",
         "showlegend": false,
         "type": "scattergl",
         "x": [
          "2021-03-01T00:00:00",
          "2021-04-01T00:00:00"
         ],
         "y": [
          "1",
          "1"
         ]
        },
        {
         "hoverinfo": "skip",
         "line": {
          "color": "#1f77b4"
         },
         "mode": "lines+markers",
         "name": "Train",
         "showlegend": false,
         "type": "scattergl",
         "x": [
          "2021-04-01T00:00:00",
          "2021-05-01T00:00:00"
         ],
         "y": [
          "1",
          "1"
         ]
        },
        {
         "hoverinfo": "skip",
         "line": {
          "color": "#1f77b4"
         },
         "mode": "lines+markers",
         "name": "Train",
         "showlegend": false,
         "type": "scattergl",
         "x": [
          "2021-05-01T00:00:00",
          "2021-06-01T00:00:00"
         ],
         "y": [
          "1",
          "1"
         ]
        },
        {
         "hoverinfo": "skip",
         "line": {
          "color": "#1f77b4"
         },
         "mode": "lines+markers",
         "name": "Train",
         "showlegend": false,
         "type": "scattergl",
         "x": [
          "2021-06-01T00:00:00",
          "2021-07-01T00:00:00"
         ],
         "y": [
          "1",
          "1"
         ]
        },
        {
         "hoverinfo": "skip",
         "line": {
          "color": "#1f77b4"
         },
         "mode": "lines+markers",
         "name": "Train",
         "showlegend": false,
         "type": "scattergl",
         "x": [
          "2021-07-01T00:00:00",
          "2021-08-01T00:00:00"
         ],
         "y": [
          "1",
          "1"
         ]
        },
        {
         "hoverinfo": "skip",
         "line": {
          "color": "#1f77b4"
         },
         "mode": "lines+markers",
         "name": "Train",
         "showlegend": false,
         "type": "scattergl",
         "x": [
          "2021-08-01T00:00:00",
          "2021-09-01T00:00:00"
         ],
         "y": [
          "1",
          "1"
         ]
        },
        {
         "hoverinfo": "skip",
         "line": {
          "color": "#1f77b4"
         },
         "mode": "lines+markers",
         "name": "Train",
         "showlegend": false,
         "type": "scattergl",
         "x": [
          "2021-09-01T00:00:00",
          "2021-10-01T00:00:00"
         ],
         "y": [
          "1",
          "1"
         ]
        },
        {
         "hoverinfo": "skip",
         "line": {
          "color": "#1f77b4"
         },
         "mode": "lines+markers",
         "name": "Train",
         "showlegend": false,
         "type": "scattergl",
         "x": [
          "2021-10-01T00:00:00",
          "2021-11-01T00:00:00"
         ],
         "y": [
          "1",
          "1"
         ]
        },
        {
         "hoverinfo": "skip",
         "line": {
          "color": "#1f77b4"
         },
         "mode": "lines+markers",
         "name": "Train",
         "showlegend": false,
         "type": "scattergl",
         "x": [
          "2021-11-01T00:00:00",
          "2021-12-01T00:00:00"
         ],
         "y": [
          "1",
          "1"
         ]
        },
        {
         "hoverinfo": "skip",
         "line": {
          "color": "#1f77b4"
         },
         "mode": "lines+markers",
         "name": "Train",
         "showlegend": false,
         "type": "scattergl",
         "x": [
          "2021-12-01T00:00:00",
          "2022-01-01T00:00:00"
         ],
         "y": [
          "1",
          "1"
         ]
        },
        {
         "hoverinfo": "skip",
         "line": {
          "color": "#1f77b4"
         },
         "mode": "lines+markers",
         "name": "Train",
         "showlegend": false,
         "type": "scattergl",
         "x": [
          "2022-01-01T00:00:00",
          "2022-02-01T00:00:00"
         ],
         "y": [
          "1",
          "1"
         ]
        },
        {
         "hoverinfo": "skip",
         "line": {
          "color": "#1f77b4"
         },
         "mode": "lines+markers",
         "name": "Train",
         "showlegend": false,
         "type": "scattergl",
         "x": [
          "2022-02-01T00:00:00",
          "2022-03-01T00:00:00"
         ],
         "y": [
          "1",
          "1"
         ]
        },
        {
         "hoverinfo": "skip",
         "line": {
          "color": "#1f77b4"
         },
         "mode": "lines+markers",
         "name": "Train",
         "showlegend": false,
         "type": "scattergl",
         "x": [
          "2022-03-01T00:00:00",
          "2022-04-01T00:00:00"
         ],
         "y": [
          "1",
          "1"
         ]
        },
        {
         "hoverinfo": "skip",
         "line": {
          "color": "#1f77b4"
         },
         "mode": "lines+markers",
         "name": "Train",
         "showlegend": false,
         "type": "scattergl",
         "x": [
          "2022-04-01T00:00:00",
          "2022-05-01T00:00:00"
         ],
         "y": [
          "1",
          "1"
         ]
        },
        {
         "hoverinfo": "skip",
         "line": {
          "color": "#1f77b4"
         },
         "mode": "lines+markers",
         "name": "Train",
         "showlegend": false,
         "type": "scattergl",
         "x": [
          "2022-05-01T00:00:00",
          "2022-06-01T00:00:00"
         ],
         "y": [
          "1",
          "1"
         ]
        },
        {
         "hoverinfo": "skip",
         "line": {
          "color": "#1f77b4"
         },
         "mode": "lines+markers",
         "name": "Train",
         "showlegend": false,
         "type": "scattergl",
         "x": [
          "2022-06-01T00:00:00",
          "2022-07-01T00:00:00"
         ],
         "y": [
          "1",
          "1"
         ]
        },
        {
         "hoverinfo": "skip",
         "line": {
          "color": "#1f77b4"
         },
         "mode": "lines+markers",
         "name": "Train",
         "showlegend": false,
         "type": "scattergl",
         "x": [
          "2022-07-01T00:00:00",
          "2022-08-01T00:00:00"
         ],
         "y": [
          "1",
          "1"
         ]
        },
        {
         "hoverinfo": "skip",
         "line": {
          "color": "#1f77b4"
         },
         "mode": "lines+markers",
         "name": "Train",
         "showlegend": false,
         "type": "scattergl",
         "x": [
          "2022-08-01T00:00:00",
          "2022-09-01T00:00:00"
         ],
         "y": [
          "1",
          "1"
         ]
        },
        {
         "hoverinfo": "skip",
         "line": {
          "color": "#1f77b4"
         },
         "mode": "lines+markers",
         "name": "Train",
         "showlegend": false,
         "type": "scattergl",
         "x": [
          "2022-09-01T00:00:00",
          "2022-10-01T00:00:00"
         ],
         "y": [
          "1",
          "1"
         ]
        },
        {
         "hoverinfo": "skip",
         "line": {
          "color": "#1f77b4"
         },
         "mode": "lines+markers",
         "name": "Train",
         "showlegend": false,
         "type": "scattergl",
         "x": [
          "2022-10-01T00:00:00",
          "2022-11-01T00:00:00"
         ],
         "y": [
          "1",
          "1"
         ]
        },
        {
         "hoverinfo": "skip",
         "line": {
          "color": "#1f77b4"
         },
         "mode": "lines+markers",
         "name": "Train",
         "showlegend": false,
         "type": "scattergl",
         "x": [
          "2022-11-01T00:00:00",
          "2022-12-01T00:00:00"
         ],
         "y": [
          "1",
          "1"
         ]
        },
        {
         "hoverinfo": "skip",
         "line": {
          "color": "#1f77b4"
         },
         "mode": "lines+markers",
         "name": "Train",
         "showlegend": false,
         "type": "scattergl",
         "x": [
          "2022-12-01T00:00:00",
          "2023-01-01T00:00:00"
         ],
         "y": [
          "1",
          "1"
         ]
        },
        {
         "hoverinfo": "skip",
         "line": {
          "color": "#1f77b4"
         },
         "mode": "lines+markers",
         "name": "Train",
         "showlegend": false,
         "type": "scattergl",
         "x": [
          "2023-01-01T00:00:00",
          "2023-02-01T00:00:00"
         ],
         "y": [
          "1",
          "1"
         ]
        },
        {
         "hoverinfo": "skip",
         "line": {
          "color": "#1f77b4"
         },
         "mode": "lines+markers",
         "name": "Train",
         "showlegend": false,
         "type": "scattergl",
         "x": [
          "2023-02-01T00:00:00",
          "2023-03-01T00:00:00"
         ],
         "y": [
          "1",
          "1"
         ]
        },
        {
         "hoverinfo": "skip",
         "line": {
          "color": "#1f77b4"
         },
         "mode": "lines+markers",
         "name": "Train",
         "showlegend": false,
         "type": "scattergl",
         "x": [
          "2023-03-01T00:00:00",
          "2023-04-01T00:00:00"
         ],
         "y": [
          "1",
          "1"
         ]
        },
        {
         "hoverinfo": "skip",
         "line": {
          "color": "#1f77b4"
         },
         "mode": "lines+markers",
         "name": "Train",
         "showlegend": false,
         "type": "scattergl",
         "x": [
          "2023-04-01T00:00:00",
          "2023-05-01T00:00:00"
         ],
         "y": [
          "1",
          "1"
         ]
        },
        {
         "hoverinfo": "skip",
         "line": {
          "color": "#1f77b4"
         },
         "mode": "lines+markers",
         "name": "Train",
         "showlegend": false,
         "type": "scattergl",
         "x": [
          "2023-05-01T00:00:00",
          "2023-06-01T00:00:00"
         ],
         "y": [
          "1",
          "1"
         ]
        },
        {
         "hoverinfo": "skip",
         "line": {
          "color": "#1f77b4"
         },
         "mode": "lines+markers",
         "name": "Train",
         "showlegend": false,
         "type": "scattergl",
         "x": [
          "2023-06-01T00:00:00",
          "2023-07-01T00:00:00"
         ],
         "y": [
          "1",
          "1"
         ]
        },
        {
         "hoverinfo": "skip",
         "line": {
          "color": "#1f77b4"
         },
         "mode": "lines+markers",
         "name": "Train",
         "showlegend": false,
         "type": "scattergl",
         "x": [
          "2023-07-01T00:00:00",
          "2023-08-01T00:00:00"
         ],
         "y": [
          "1",
          "1"
         ]
        },
        {
         "hoverinfo": "skip",
         "line": {
          "color": "#DE970B"
         },
         "mode": "lines+markers",
         "name": "ForecastHorizon",
         "showlegend": false,
         "type": "scattergl",
         "x": [
          "2023-09-01T00:00:00",
          "2023-10-01T00:00:00"
         ],
         "y": [
          "1",
          "1"
         ]
        },
        {
         "hoverinfo": "skip",
         "line": {
          "color": "#DE970B"
         },
         "mode": "lines+markers",
         "name": "ForecastHorizon",
         "showlegend": false,
         "type": "scattergl",
         "x": [
          "2023-10-01T00:00:00",
          "2023-11-01T00:00:00"
         ],
         "y": [
          "1",
          "1"
         ]
        },
        {
         "hoverinfo": "skip",
         "line": {
          "color": "#C0C0C0"
         },
         "mode": "lines+markers",
         "name": "Unchanged",
         "showlegend": false,
         "type": "scattergl",
         "x": [
          "2020-01-01T00:00:00",
          "2020-02-01T00:00:00"
         ],
         "y": [
          "0",
          "0"
         ]
        },
        {
         "hoverinfo": "skip",
         "line": {
          "color": "#C0C0C0"
         },
         "mode": "lines+markers",
         "name": "Unchanged",
         "showlegend": false,
         "type": "scattergl",
         "x": [
          "2020-02-01T00:00:00",
          "2020-03-01T00:00:00"
         ],
         "y": [
          "0",
          "0"
         ]
        },
        {
         "hoverinfo": "skip",
         "line": {
          "color": "#C0C0C0"
         },
         "mode": "lines+markers",
         "name": "Unchanged",
         "showlegend": false,
         "type": "scattergl",
         "x": [
          "2020-03-01T00:00:00",
          "2020-04-01T00:00:00"
         ],
         "y": [
          "0",
          "0"
         ]
        },
        {
         "hoverinfo": "skip",
         "line": {
          "color": "#C0C0C0"
         },
         "mode": "lines+markers",
         "name": "Unchanged",
         "showlegend": false,
         "type": "scattergl",
         "x": [
          "2020-04-01T00:00:00",
          "2020-05-01T00:00:00"
         ],
         "y": [
          "0",
          "0"
         ]
        },
        {
         "hoverinfo": "skip",
         "line": {
          "color": "#C0C0C0"
         },
         "mode": "lines+markers",
         "name": "Unchanged",
         "showlegend": false,
         "type": "scattergl",
         "x": [
          "2020-05-01T00:00:00",
          "2020-06-01T00:00:00"
         ],
         "y": [
          "0",
          "0"
         ]
        },
        {
         "hoverinfo": "skip",
         "line": {
          "color": "#C0C0C0"
         },
         "mode": "lines+markers",
         "name": "Unchanged",
         "showlegend": false,
         "type": "scattergl",
         "x": [
          "2020-06-01T00:00:00",
          "2020-07-01T00:00:00"
         ],
         "y": [
          "0",
          "0"
         ]
        },
        {
         "hoverinfo": "skip",
         "line": {
          "color": "#C0C0C0"
         },
         "mode": "lines+markers",
         "name": "Unchanged",
         "showlegend": false,
         "type": "scattergl",
         "x": [
          "2020-07-01T00:00:00",
          "2020-08-01T00:00:00"
         ],
         "y": [
          "0",
          "0"
         ]
        },
        {
         "hoverinfo": "skip",
         "line": {
          "color": "#C0C0C0"
         },
         "mode": "lines+markers",
         "name": "Unchanged",
         "showlegend": false,
         "type": "scattergl",
         "x": [
          "2020-08-01T00:00:00",
          "2020-09-01T00:00:00"
         ],
         "y": [
          "0",
          "0"
         ]
        },
        {
         "hoverinfo": "skip",
         "line": {
          "color": "#C0C0C0"
         },
         "mode": "lines+markers",
         "name": "Unchanged",
         "showlegend": false,
         "type": "scattergl",
         "x": [
          "2020-09-01T00:00:00",
          "2020-10-01T00:00:00"
         ],
         "y": [
          "0",
          "0"
         ]
        },
        {
         "hoverinfo": "skip",
         "line": {
          "color": "#C0C0C0"
         },
         "mode": "lines+markers",
         "name": "Unchanged",
         "showlegend": false,
         "type": "scattergl",
         "x": [
          "2020-10-01T00:00:00",
          "2020-11-01T00:00:00"
         ],
         "y": [
          "0",
          "0"
         ]
        },
        {
         "hoverinfo": "skip",
         "line": {
          "color": "#C0C0C0"
         },
         "mode": "lines+markers",
         "name": "Unchanged",
         "showlegend": false,
         "type": "scattergl",
         "x": [
          "2020-11-01T00:00:00",
          "2020-12-01T00:00:00"
         ],
         "y": [
          "0",
          "0"
         ]
        },
        {
         "hoverinfo": "skip",
         "line": {
          "color": "#C0C0C0"
         },
         "mode": "lines+markers",
         "name": "Unchanged",
         "showlegend": false,
         "type": "scattergl",
         "x": [
          "2020-12-01T00:00:00",
          "2021-01-01T00:00:00"
         ],
         "y": [
          "0",
          "0"
         ]
        },
        {
         "hoverinfo": "skip",
         "line": {
          "color": "#C0C0C0"
         },
         "mode": "lines+markers",
         "name": "Unchanged",
         "showlegend": false,
         "type": "scattergl",
         "x": [
          "2021-01-01T00:00:00",
          "2021-02-01T00:00:00"
         ],
         "y": [
          "0",
          "0"
         ]
        },
        {
         "hoverinfo": "skip",
         "line": {
          "color": "#C0C0C0"
         },
         "mode": "lines+markers",
         "name": "Unchanged",
         "showlegend": false,
         "type": "scattergl",
         "x": [
          "2021-02-01T00:00:00",
          "2021-03-01T00:00:00"
         ],
         "y": [
          "0",
          "0"
         ]
        },
        {
         "hoverinfo": "skip",
         "line": {
          "color": "#C0C0C0"
         },
         "mode": "lines+markers",
         "name": "Unchanged",
         "showlegend": false,
         "type": "scattergl",
         "x": [
          "2021-03-01T00:00:00",
          "2021-04-01T00:00:00"
         ],
         "y": [
          "0",
          "0"
         ]
        },
        {
         "hoverinfo": "skip",
         "line": {
          "color": "#C0C0C0"
         },
         "mode": "lines+markers",
         "name": "Unchanged",
         "showlegend": false,
         "type": "scattergl",
         "x": [
          "2021-04-01T00:00:00",
          "2021-05-01T00:00:00"
         ],
         "y": [
          "0",
          "0"
         ]
        },
        {
         "hoverinfo": "skip",
         "line": {
          "color": "#C0C0C0"
         },
         "mode": "lines+markers",
         "name": "Unchanged",
         "showlegend": false,
         "type": "scattergl",
         "x": [
          "2021-05-01T00:00:00",
          "2021-06-01T00:00:00"
         ],
         "y": [
          "0",
          "0"
         ]
        },
        {
         "hoverinfo": "skip",
         "line": {
          "color": "#C0C0C0"
         },
         "mode": "lines+markers",
         "name": "Unchanged",
         "showlegend": false,
         "type": "scattergl",
         "x": [
          "2021-06-01T00:00:00",
          "2021-07-01T00:00:00"
         ],
         "y": [
          "0",
          "0"
         ]
        },
        {
         "hoverinfo": "skip",
         "line": {
          "color": "#C0C0C0"
         },
         "mode": "lines+markers",
         "name": "Unchanged",
         "showlegend": false,
         "type": "scattergl",
         "x": [
          "2021-07-01T00:00:00",
          "2021-08-01T00:00:00"
         ],
         "y": [
          "0",
          "0"
         ]
        },
        {
         "hoverinfo": "skip",
         "line": {
          "color": "#C0C0C0"
         },
         "mode": "lines+markers",
         "name": "Unchanged",
         "showlegend": false,
         "type": "scattergl",
         "x": [
          "2021-08-01T00:00:00",
          "2021-09-01T00:00:00"
         ],
         "y": [
          "0",
          "0"
         ]
        },
        {
         "hoverinfo": "skip",
         "line": {
          "color": "#C0C0C0"
         },
         "mode": "lines+markers",
         "name": "Unchanged",
         "showlegend": false,
         "type": "scattergl",
         "x": [
          "2021-09-01T00:00:00",
          "2021-10-01T00:00:00"
         ],
         "y": [
          "0",
          "0"
         ]
        },
        {
         "hoverinfo": "skip",
         "line": {
          "color": "#C0C0C0"
         },
         "mode": "lines+markers",
         "name": "Unchanged",
         "showlegend": false,
         "type": "scattergl",
         "x": [
          "2021-10-01T00:00:00",
          "2021-11-01T00:00:00"
         ],
         "y": [
          "0",
          "0"
         ]
        },
        {
         "hoverinfo": "skip",
         "line": {
          "color": "#C0C0C0"
         },
         "mode": "lines+markers",
         "name": "Unchanged",
         "showlegend": false,
         "type": "scattergl",
         "x": [
          "2021-11-01T00:00:00",
          "2021-12-01T00:00:00"
         ],
         "y": [
          "0",
          "0"
         ]
        },
        {
         "hoverinfo": "skip",
         "line": {
          "color": "#C0C0C0"
         },
         "mode": "lines+markers",
         "name": "Unchanged",
         "showlegend": false,
         "type": "scattergl",
         "x": [
          "2021-12-01T00:00:00",
          "2022-01-01T00:00:00"
         ],
         "y": [
          "0",
          "0"
         ]
        },
        {
         "hoverinfo": "skip",
         "line": {
          "color": "#C0C0C0"
         },
         "mode": "lines+markers",
         "name": "Unchanged",
         "showlegend": false,
         "type": "scattergl",
         "x": [
          "2022-01-01T00:00:00",
          "2022-02-01T00:00:00"
         ],
         "y": [
          "0",
          "0"
         ]
        },
        {
         "hoverinfo": "skip",
         "line": {
          "color": "#C0C0C0"
         },
         "mode": "lines+markers",
         "name": "Unchanged",
         "showlegend": false,
         "type": "scattergl",
         "x": [
          "2022-02-01T00:00:00",
          "2022-03-01T00:00:00"
         ],
         "y": [
          "0",
          "0"
         ]
        },
        {
         "hoverinfo": "skip",
         "line": {
          "color": "#C0C0C0"
         },
         "mode": "lines+markers",
         "name": "Unchanged",
         "showlegend": false,
         "type": "scattergl",
         "x": [
          "2022-03-01T00:00:00",
          "2022-04-01T00:00:00"
         ],
         "y": [
          "0",
          "0"
         ]
        },
        {
         "hoverinfo": "skip",
         "line": {
          "color": "#C0C0C0"
         },
         "mode": "lines+markers",
         "name": "Unchanged",
         "showlegend": false,
         "type": "scattergl",
         "x": [
          "2022-04-01T00:00:00",
          "2022-05-01T00:00:00"
         ],
         "y": [
          "0",
          "0"
         ]
        },
        {
         "hoverinfo": "skip",
         "line": {
          "color": "#C0C0C0"
         },
         "mode": "lines+markers",
         "name": "Unchanged",
         "showlegend": false,
         "type": "scattergl",
         "x": [
          "2022-05-01T00:00:00",
          "2022-06-01T00:00:00"
         ],
         "y": [
          "0",
          "0"
         ]
        },
        {
         "hoverinfo": "skip",
         "line": {
          "color": "#C0C0C0"
         },
         "mode": "lines+markers",
         "name": "Unchanged",
         "showlegend": false,
         "type": "scattergl",
         "x": [
          "2022-06-01T00:00:00",
          "2022-07-01T00:00:00"
         ],
         "y": [
          "0",
          "0"
         ]
        },
        {
         "hoverinfo": "skip",
         "line": {
          "color": "#C0C0C0"
         },
         "mode": "lines+markers",
         "name": "Unchanged",
         "showlegend": false,
         "type": "scattergl",
         "x": [
          "2022-07-01T00:00:00",
          "2022-08-01T00:00:00"
         ],
         "y": [
          "0",
          "0"
         ]
        },
        {
         "hoverinfo": "skip",
         "line": {
          "color": "#C0C0C0"
         },
         "mode": "lines+markers",
         "name": "Unchanged",
         "showlegend": false,
         "type": "scattergl",
         "x": [
          "2022-08-01T00:00:00",
          "2022-09-01T00:00:00"
         ],
         "y": [
          "0",
          "0"
         ]
        },
        {
         "hoverinfo": "skip",
         "line": {
          "color": "#C0C0C0"
         },
         "mode": "lines+markers",
         "name": "Unchanged",
         "showlegend": false,
         "type": "scattergl",
         "x": [
          "2022-09-01T00:00:00",
          "2022-10-01T00:00:00"
         ],
         "y": [
          "0",
          "0"
         ]
        },
        {
         "hoverinfo": "skip",
         "line": {
          "color": "#C0C0C0"
         },
         "mode": "lines+markers",
         "name": "Unchanged",
         "showlegend": false,
         "type": "scattergl",
         "x": [
          "2022-10-01T00:00:00",
          "2022-11-01T00:00:00"
         ],
         "y": [
          "0",
          "0"
         ]
        },
        {
         "hoverinfo": "skip",
         "line": {
          "color": "#C0C0C0"
         },
         "mode": "lines+markers",
         "name": "Unchanged",
         "showlegend": false,
         "type": "scattergl",
         "x": [
          "2022-11-01T00:00:00",
          "2022-12-01T00:00:00"
         ],
         "y": [
          "0",
          "0"
         ]
        },
        {
         "hoverinfo": "skip",
         "line": {
          "color": "#C0C0C0"
         },
         "mode": "lines+markers",
         "name": "Unchanged",
         "showlegend": false,
         "type": "scattergl",
         "x": [
          "2022-12-01T00:00:00",
          "2023-01-01T00:00:00"
         ],
         "y": [
          "0",
          "0"
         ]
        },
        {
         "hoverinfo": "skip",
         "line": {
          "color": "#C0C0C0"
         },
         "mode": "lines+markers",
         "name": "Unchanged",
         "showlegend": false,
         "type": "scattergl",
         "x": [
          "2023-01-01T00:00:00",
          "2023-02-01T00:00:00"
         ],
         "y": [
          "0",
          "0"
         ]
        },
        {
         "hoverinfo": "skip",
         "line": {
          "color": "#C0C0C0"
         },
         "mode": "lines+markers",
         "name": "Unchanged",
         "showlegend": false,
         "type": "scattergl",
         "x": [
          "2023-02-01T00:00:00",
          "2023-03-01T00:00:00"
         ],
         "y": [
          "0",
          "0"
         ]
        },
        {
         "hoverinfo": "skip",
         "line": {
          "color": "#C0C0C0"
         },
         "mode": "lines+markers",
         "name": "Unchanged",
         "showlegend": false,
         "type": "scattergl",
         "x": [
          "2023-03-01T00:00:00",
          "2023-04-01T00:00:00"
         ],
         "y": [
          "0",
          "0"
         ]
        },
        {
         "hoverinfo": "skip",
         "line": {
          "color": "#C0C0C0"
         },
         "mode": "lines+markers",
         "name": "Unchanged",
         "showlegend": false,
         "type": "scattergl",
         "x": [
          "2023-04-01T00:00:00",
          "2023-05-01T00:00:00"
         ],
         "y": [
          "0",
          "0"
         ]
        },
        {
         "hoverinfo": "skip",
         "line": {
          "color": "#C0C0C0"
         },
         "mode": "lines+markers",
         "name": "Unchanged",
         "showlegend": false,
         "type": "scattergl",
         "x": [
          "2023-05-01T00:00:00",
          "2023-06-01T00:00:00"
         ],
         "y": [
          "0",
          "0"
         ]
        },
        {
         "hoverinfo": "skip",
         "line": {
          "color": "#C0C0C0"
         },
         "mode": "lines+markers",
         "name": "Unchanged",
         "showlegend": false,
         "type": "scattergl",
         "x": [
          "2023-06-01T00:00:00",
          "2023-07-01T00:00:00"
         ],
         "y": [
          "0",
          "0"
         ]
        },
        {
         "hoverinfo": "skip",
         "line": {
          "color": "#C0C0C0"
         },
         "mode": "lines+markers",
         "name": "Unchanged",
         "showlegend": false,
         "type": "scattergl",
         "x": [
          "2023-07-01T00:00:00",
          "2023-08-01T00:00:00"
         ],
         "y": [
          "0",
          "0"
         ]
        },
        {
         "hoverinfo": "skip",
         "line": {
          "color": "#C0C0C0"
         },
         "mode": "lines+markers",
         "name": "Unchanged",
         "showlegend": false,
         "type": "scattergl",
         "x": [
          "2023-08-01T00:00:00",
          "2023-09-01T00:00:00"
         ],
         "y": [
          "0",
          "0"
         ]
        },
        {
         "hoverinfo": "skip",
         "line": {
          "color": "#C0C0C0"
         },
         "mode": "lines+markers",
         "name": "Unchanged",
         "showlegend": false,
         "type": "scattergl",
         "x": [
          "2023-09-01T00:00:00",
          "2023-10-01T00:00:00"
         ],
         "y": [
          "0",
          "0"
         ]
        },
        {
         "hoverinfo": "skip",
         "line": {
          "color": "#C0C0C0"
         },
         "mode": "lines+markers",
         "name": "Unchanged",
         "showlegend": false,
         "type": "scattergl",
         "x": [
          "2023-10-01T00:00:00",
          "2023-11-01T00:00:00"
         ],
         "y": [
          "0",
          "0"
         ]
        },
        {
         "hoverinfo": "skip",
         "line": {
          "color": "#C0C0C0"
         },
         "mode": "lines+markers",
         "name": "Unchanged",
         "showlegend": false,
         "type": "scattergl",
         "x": [
          "2023-11-01T00:00:00",
          "2023-12-01T00:00:00"
         ],
         "y": [
          "0",
          "0"
         ]
        },
        {
         "hoverinfo": "skip",
         "line": {
          "color": "#C0C0C0"
         },
         "mode": "lines+markers",
         "name": "Unchanged",
         "showlegend": false,
         "type": "scattergl",
         "x": [
          "2023-12-01T00:00:00",
          "2024-01-01T00:00:00"
         ],
         "y": [
          "0",
          "0"
         ]
        },
        {
         "hoverinfo": "skip",
         "line": {
          "color": "#C0C0C0"
         },
         "mode": "lines+markers",
         "name": "Unchanged",
         "showlegend": false,
         "type": "scattergl",
         "x": [
          "2024-01-01T00:00:00",
          "2024-02-01T00:00:00"
         ],
         "y": [
          "0",
          "0"
         ]
        },
        {
         "hoverinfo": "skip",
         "line": {
          "color": "#1f77b4"
         },
         "mode": "lines+markers",
         "name": "Train",
         "showlegend": false,
         "type": "scattergl",
         "x": [
          "2020-01-01T00:00:00",
          "2020-02-01T00:00:00"
         ],
         "y": [
          "0",
          "0"
         ]
        },
        {
         "hoverinfo": "skip",
         "line": {
          "color": "#1f77b4"
         },
         "mode": "lines+markers",
         "name": "Train",
         "showlegend": false,
         "type": "scattergl",
         "x": [
          "2020-02-01T00:00:00",
          "2020-03-01T00:00:00"
         ],
         "y": [
          "0",
          "0"
         ]
        },
        {
         "hoverinfo": "skip",
         "line": {
          "color": "#1f77b4"
         },
         "mode": "lines+markers",
         "name": "Train",
         "showlegend": false,
         "type": "scattergl",
         "x": [
          "2020-03-01T00:00:00",
          "2020-04-01T00:00:00"
         ],
         "y": [
          "0",
          "0"
         ]
        },
        {
         "hoverinfo": "skip",
         "line": {
          "color": "#1f77b4"
         },
         "mode": "lines+markers",
         "name": "Train",
         "showlegend": false,
         "type": "scattergl",
         "x": [
          "2020-04-01T00:00:00",
          "2020-05-01T00:00:00"
         ],
         "y": [
          "0",
          "0"
         ]
        },
        {
         "hoverinfo": "skip",
         "line": {
          "color": "#1f77b4"
         },
         "mode": "lines+markers",
         "name": "Train",
         "showlegend": false,
         "type": "scattergl",
         "x": [
          "2020-05-01T00:00:00",
          "2020-06-01T00:00:00"
         ],
         "y": [
          "0",
          "0"
         ]
        },
        {
         "hoverinfo": "skip",
         "line": {
          "color": "#1f77b4"
         },
         "mode": "lines+markers",
         "name": "Train",
         "showlegend": false,
         "type": "scattergl",
         "x": [
          "2020-06-01T00:00:00",
          "2020-07-01T00:00:00"
         ],
         "y": [
          "0",
          "0"
         ]
        },
        {
         "hoverinfo": "skip",
         "line": {
          "color": "#1f77b4"
         },
         "mode": "lines+markers",
         "name": "Train",
         "showlegend": false,
         "type": "scattergl",
         "x": [
          "2020-07-01T00:00:00",
          "2020-08-01T00:00:00"
         ],
         "y": [
          "0",
          "0"
         ]
        },
        {
         "hoverinfo": "skip",
         "line": {
          "color": "#1f77b4"
         },
         "mode": "lines+markers",
         "name": "Train",
         "showlegend": false,
         "type": "scattergl",
         "x": [
          "2020-08-01T00:00:00",
          "2020-09-01T00:00:00"
         ],
         "y": [
          "0",
          "0"
         ]
        },
        {
         "hoverinfo": "skip",
         "line": {
          "color": "#1f77b4"
         },
         "mode": "lines+markers",
         "name": "Train",
         "showlegend": false,
         "type": "scattergl",
         "x": [
          "2020-09-01T00:00:00",
          "2020-10-01T00:00:00"
         ],
         "y": [
          "0",
          "0"
         ]
        },
        {
         "hoverinfo": "skip",
         "line": {
          "color": "#1f77b4"
         },
         "mode": "lines+markers",
         "name": "Train",
         "showlegend": false,
         "type": "scattergl",
         "x": [
          "2020-10-01T00:00:00",
          "2020-11-01T00:00:00"
         ],
         "y": [
          "0",
          "0"
         ]
        },
        {
         "hoverinfo": "skip",
         "line": {
          "color": "#1f77b4"
         },
         "mode": "lines+markers",
         "name": "Train",
         "showlegend": false,
         "type": "scattergl",
         "x": [
          "2020-11-01T00:00:00",
          "2020-12-01T00:00:00"
         ],
         "y": [
          "0",
          "0"
         ]
        },
        {
         "hoverinfo": "skip",
         "line": {
          "color": "#1f77b4"
         },
         "mode": "lines+markers",
         "name": "Train",
         "showlegend": false,
         "type": "scattergl",
         "x": [
          "2020-12-01T00:00:00",
          "2021-01-01T00:00:00"
         ],
         "y": [
          "0",
          "0"
         ]
        },
        {
         "hoverinfo": "skip",
         "line": {
          "color": "#1f77b4"
         },
         "mode": "lines+markers",
         "name": "Train",
         "showlegend": false,
         "type": "scattergl",
         "x": [
          "2021-01-01T00:00:00",
          "2021-02-01T00:00:00"
         ],
         "y": [
          "0",
          "0"
         ]
        },
        {
         "hoverinfo": "skip",
         "line": {
          "color": "#1f77b4"
         },
         "mode": "lines+markers",
         "name": "Train",
         "showlegend": false,
         "type": "scattergl",
         "x": [
          "2021-02-01T00:00:00",
          "2021-03-01T00:00:00"
         ],
         "y": [
          "0",
          "0"
         ]
        },
        {
         "hoverinfo": "skip",
         "line": {
          "color": "#1f77b4"
         },
         "mode": "lines+markers",
         "name": "Train",
         "showlegend": false,
         "type": "scattergl",
         "x": [
          "2021-03-01T00:00:00",
          "2021-04-01T00:00:00"
         ],
         "y": [
          "0",
          "0"
         ]
        },
        {
         "hoverinfo": "skip",
         "line": {
          "color": "#1f77b4"
         },
         "mode": "lines+markers",
         "name": "Train",
         "showlegend": false,
         "type": "scattergl",
         "x": [
          "2021-04-01T00:00:00",
          "2021-05-01T00:00:00"
         ],
         "y": [
          "0",
          "0"
         ]
        },
        {
         "hoverinfo": "skip",
         "line": {
          "color": "#1f77b4"
         },
         "mode": "lines+markers",
         "name": "Train",
         "showlegend": false,
         "type": "scattergl",
         "x": [
          "2021-05-01T00:00:00",
          "2021-06-01T00:00:00"
         ],
         "y": [
          "0",
          "0"
         ]
        },
        {
         "hoverinfo": "skip",
         "line": {
          "color": "#1f77b4"
         },
         "mode": "lines+markers",
         "name": "Train",
         "showlegend": false,
         "type": "scattergl",
         "x": [
          "2021-06-01T00:00:00",
          "2021-07-01T00:00:00"
         ],
         "y": [
          "0",
          "0"
         ]
        },
        {
         "hoverinfo": "skip",
         "line": {
          "color": "#1f77b4"
         },
         "mode": "lines+markers",
         "name": "Train",
         "showlegend": false,
         "type": "scattergl",
         "x": [
          "2021-07-01T00:00:00",
          "2021-08-01T00:00:00"
         ],
         "y": [
          "0",
          "0"
         ]
        },
        {
         "hoverinfo": "skip",
         "line": {
          "color": "#1f77b4"
         },
         "mode": "lines+markers",
         "name": "Train",
         "showlegend": false,
         "type": "scattergl",
         "x": [
          "2021-08-01T00:00:00",
          "2021-09-01T00:00:00"
         ],
         "y": [
          "0",
          "0"
         ]
        },
        {
         "hoverinfo": "skip",
         "line": {
          "color": "#1f77b4"
         },
         "mode": "lines+markers",
         "name": "Train",
         "showlegend": false,
         "type": "scattergl",
         "x": [
          "2021-09-01T00:00:00",
          "2021-10-01T00:00:00"
         ],
         "y": [
          "0",
          "0"
         ]
        },
        {
         "hoverinfo": "skip",
         "line": {
          "color": "#1f77b4"
         },
         "mode": "lines+markers",
         "name": "Train",
         "showlegend": false,
         "type": "scattergl",
         "x": [
          "2021-10-01T00:00:00",
          "2021-11-01T00:00:00"
         ],
         "y": [
          "0",
          "0"
         ]
        },
        {
         "hoverinfo": "skip",
         "line": {
          "color": "#1f77b4"
         },
         "mode": "lines+markers",
         "name": "Train",
         "showlegend": false,
         "type": "scattergl",
         "x": [
          "2021-11-01T00:00:00",
          "2021-12-01T00:00:00"
         ],
         "y": [
          "0",
          "0"
         ]
        },
        {
         "hoverinfo": "skip",
         "line": {
          "color": "#1f77b4"
         },
         "mode": "lines+markers",
         "name": "Train",
         "showlegend": false,
         "type": "scattergl",
         "x": [
          "2021-12-01T00:00:00",
          "2022-01-01T00:00:00"
         ],
         "y": [
          "0",
          "0"
         ]
        },
        {
         "hoverinfo": "skip",
         "line": {
          "color": "#1f77b4"
         },
         "mode": "lines+markers",
         "name": "Train",
         "showlegend": false,
         "type": "scattergl",
         "x": [
          "2022-01-01T00:00:00",
          "2022-02-01T00:00:00"
         ],
         "y": [
          "0",
          "0"
         ]
        },
        {
         "hoverinfo": "skip",
         "line": {
          "color": "#1f77b4"
         },
         "mode": "lines+markers",
         "name": "Train",
         "showlegend": false,
         "type": "scattergl",
         "x": [
          "2022-02-01T00:00:00",
          "2022-03-01T00:00:00"
         ],
         "y": [
          "0",
          "0"
         ]
        },
        {
         "hoverinfo": "skip",
         "line": {
          "color": "#1f77b4"
         },
         "mode": "lines+markers",
         "name": "Train",
         "showlegend": false,
         "type": "scattergl",
         "x": [
          "2022-03-01T00:00:00",
          "2022-04-01T00:00:00"
         ],
         "y": [
          "0",
          "0"
         ]
        },
        {
         "hoverinfo": "skip",
         "line": {
          "color": "#1f77b4"
         },
         "mode": "lines+markers",
         "name": "Train",
         "showlegend": false,
         "type": "scattergl",
         "x": [
          "2022-04-01T00:00:00",
          "2022-05-01T00:00:00"
         ],
         "y": [
          "0",
          "0"
         ]
        },
        {
         "hoverinfo": "skip",
         "line": {
          "color": "#1f77b4"
         },
         "mode": "lines+markers",
         "name": "Train",
         "showlegend": false,
         "type": "scattergl",
         "x": [
          "2022-05-01T00:00:00",
          "2022-06-01T00:00:00"
         ],
         "y": [
          "0",
          "0"
         ]
        },
        {
         "hoverinfo": "skip",
         "line": {
          "color": "#1f77b4"
         },
         "mode": "lines+markers",
         "name": "Train",
         "showlegend": false,
         "type": "scattergl",
         "x": [
          "2022-06-01T00:00:00",
          "2022-07-01T00:00:00"
         ],
         "y": [
          "0",
          "0"
         ]
        },
        {
         "hoverinfo": "skip",
         "line": {
          "color": "#1f77b4"
         },
         "mode": "lines+markers",
         "name": "Train",
         "showlegend": false,
         "type": "scattergl",
         "x": [
          "2022-07-01T00:00:00",
          "2022-08-01T00:00:00"
         ],
         "y": [
          "0",
          "0"
         ]
        },
        {
         "hoverinfo": "skip",
         "line": {
          "color": "#1f77b4"
         },
         "mode": "lines+markers",
         "name": "Train",
         "showlegend": false,
         "type": "scattergl",
         "x": [
          "2022-08-01T00:00:00",
          "2022-09-01T00:00:00"
         ],
         "y": [
          "0",
          "0"
         ]
        },
        {
         "hoverinfo": "skip",
         "line": {
          "color": "#1f77b4"
         },
         "mode": "lines+markers",
         "name": "Train",
         "showlegend": false,
         "type": "scattergl",
         "x": [
          "2022-09-01T00:00:00",
          "2022-10-01T00:00:00"
         ],
         "y": [
          "0",
          "0"
         ]
        },
        {
         "hoverinfo": "skip",
         "line": {
          "color": "#1f77b4"
         },
         "mode": "lines+markers",
         "name": "Train",
         "showlegend": false,
         "type": "scattergl",
         "x": [
          "2022-10-01T00:00:00",
          "2022-11-01T00:00:00"
         ],
         "y": [
          "0",
          "0"
         ]
        },
        {
         "hoverinfo": "skip",
         "line": {
          "color": "#1f77b4"
         },
         "mode": "lines+markers",
         "name": "Train",
         "showlegend": false,
         "type": "scattergl",
         "x": [
          "2022-11-01T00:00:00",
          "2022-12-01T00:00:00"
         ],
         "y": [
          "0",
          "0"
         ]
        },
        {
         "hoverinfo": "skip",
         "line": {
          "color": "#1f77b4"
         },
         "mode": "lines+markers",
         "name": "Train",
         "showlegend": false,
         "type": "scattergl",
         "x": [
          "2022-12-01T00:00:00",
          "2023-01-01T00:00:00"
         ],
         "y": [
          "0",
          "0"
         ]
        },
        {
         "hoverinfo": "skip",
         "line": {
          "color": "#1f77b4"
         },
         "mode": "lines+markers",
         "name": "Train",
         "showlegend": false,
         "type": "scattergl",
         "x": [
          "2023-01-01T00:00:00",
          "2023-02-01T00:00:00"
         ],
         "y": [
          "0",
          "0"
         ]
        },
        {
         "hoverinfo": "skip",
         "line": {
          "color": "#1f77b4"
         },
         "mode": "lines+markers",
         "name": "Train",
         "showlegend": false,
         "type": "scattergl",
         "x": [
          "2023-02-01T00:00:00",
          "2023-03-01T00:00:00"
         ],
         "y": [
          "0",
          "0"
         ]
        },
        {
         "hoverinfo": "skip",
         "line": {
          "color": "#1f77b4"
         },
         "mode": "lines+markers",
         "name": "Train",
         "showlegend": false,
         "type": "scattergl",
         "x": [
          "2023-03-01T00:00:00",
          "2023-04-01T00:00:00"
         ],
         "y": [
          "0",
          "0"
         ]
        },
        {
         "hoverinfo": "skip",
         "line": {
          "color": "#1f77b4"
         },
         "mode": "lines+markers",
         "name": "Train",
         "showlegend": false,
         "type": "scattergl",
         "x": [
          "2023-04-01T00:00:00",
          "2023-05-01T00:00:00"
         ],
         "y": [
          "0",
          "0"
         ]
        },
        {
         "hoverinfo": "skip",
         "line": {
          "color": "#DE970B"
         },
         "mode": "lines+markers",
         "name": "ForecastHorizon",
         "showlegend": false,
         "type": "scattergl",
         "x": [
          "2023-06-01T00:00:00",
          "2023-07-01T00:00:00"
         ],
         "y": [
          "0",
          "0"
         ]
        },
        {
         "hoverinfo": "skip",
         "line": {
          "color": "#DE970B"
         },
         "mode": "lines+markers",
         "name": "ForecastHorizon",
         "showlegend": false,
         "type": "scattergl",
         "x": [
          "2023-07-01T00:00:00",
          "2023-08-01T00:00:00"
         ],
         "y": [
          "0",
          "0"
         ]
        }
       ],
       "layout": {
        "showlegend": true,
        "template": {
         "data": {
          "bar": [
           {
            "error_x": {
             "color": "rgb(51,51,51)"
            },
            "error_y": {
             "color": "rgb(51,51,51)"
            },
            "marker": {
             "line": {
              "color": "rgb(237,237,237)",
              "width": 0.5
             },
             "pattern": {
              "fillmode": "overlay",
              "size": 10,
              "solidity": 0.2
             }
            },
            "type": "bar"
           }
          ],
          "barpolar": [
           {
            "marker": {
             "line": {
              "color": "rgb(237,237,237)",
              "width": 0.5
             },
             "pattern": {
              "fillmode": "overlay",
              "size": 10,
              "solidity": 0.2
             }
            },
            "type": "barpolar"
           }
          ],
          "carpet": [
           {
            "aaxis": {
             "endlinecolor": "rgb(51,51,51)",
             "gridcolor": "white",
             "linecolor": "white",
             "minorgridcolor": "white",
             "startlinecolor": "rgb(51,51,51)"
            },
            "baxis": {
             "endlinecolor": "rgb(51,51,51)",
             "gridcolor": "white",
             "linecolor": "white",
             "minorgridcolor": "white",
             "startlinecolor": "rgb(51,51,51)"
            },
            "type": "carpet"
           }
          ],
          "choropleth": [
           {
            "colorbar": {
             "outlinewidth": 0,
             "tickcolor": "rgb(237,237,237)",
             "ticklen": 6,
             "ticks": "inside"
            },
            "type": "choropleth"
           }
          ],
          "contour": [
           {
            "colorbar": {
             "outlinewidth": 0,
             "tickcolor": "rgb(237,237,237)",
             "ticklen": 6,
             "ticks": "inside"
            },
            "colorscale": [
             [
              0,
              "rgb(20,44,66)"
             ],
             [
              1,
              "rgb(90,179,244)"
             ]
            ],
            "type": "contour"
           }
          ],
          "contourcarpet": [
           {
            "colorbar": {
             "outlinewidth": 0,
             "tickcolor": "rgb(237,237,237)",
             "ticklen": 6,
             "ticks": "inside"
            },
            "type": "contourcarpet"
           }
          ],
          "heatmap": [
           {
            "colorbar": {
             "outlinewidth": 0,
             "tickcolor": "rgb(237,237,237)",
             "ticklen": 6,
             "ticks": "inside"
            },
            "colorscale": [
             [
              0,
              "rgb(20,44,66)"
             ],
             [
              1,
              "rgb(90,179,244)"
             ]
            ],
            "type": "heatmap"
           }
          ],
          "heatmapgl": [
           {
            "colorbar": {
             "outlinewidth": 0,
             "tickcolor": "rgb(237,237,237)",
             "ticklen": 6,
             "ticks": "inside"
            },
            "colorscale": [
             [
              0,
              "rgb(20,44,66)"
             ],
             [
              1,
              "rgb(90,179,244)"
             ]
            ],
            "type": "heatmapgl"
           }
          ],
          "histogram": [
           {
            "marker": {
             "pattern": {
              "fillmode": "overlay",
              "size": 10,
              "solidity": 0.2
             }
            },
            "type": "histogram"
           }
          ],
          "histogram2d": [
           {
            "colorbar": {
             "outlinewidth": 0,
             "tickcolor": "rgb(237,237,237)",
             "ticklen": 6,
             "ticks": "inside"
            },
            "colorscale": [
             [
              0,
              "rgb(20,44,66)"
             ],
             [
              1,
              "rgb(90,179,244)"
             ]
            ],
            "type": "histogram2d"
           }
          ],
          "histogram2dcontour": [
           {
            "colorbar": {
             "outlinewidth": 0,
             "tickcolor": "rgb(237,237,237)",
             "ticklen": 6,
             "ticks": "inside"
            },
            "colorscale": [
             [
              0,
              "rgb(20,44,66)"
             ],
             [
              1,
              "rgb(90,179,244)"
             ]
            ],
            "type": "histogram2dcontour"
           }
          ],
          "mesh3d": [
           {
            "colorbar": {
             "outlinewidth": 0,
             "tickcolor": "rgb(237,237,237)",
             "ticklen": 6,
             "ticks": "inside"
            },
            "type": "mesh3d"
           }
          ],
          "parcoords": [
           {
            "line": {
             "colorbar": {
              "outlinewidth": 0,
              "tickcolor": "rgb(237,237,237)",
              "ticklen": 6,
              "ticks": "inside"
             }
            },
            "type": "parcoords"
           }
          ],
          "pie": [
           {
            "automargin": true,
            "type": "pie"
           }
          ],
          "scatter": [
           {
            "fillpattern": {
             "fillmode": "overlay",
             "size": 10,
             "solidity": 0.2
            },
            "type": "scatter"
           }
          ],
          "scatter3d": [
           {
            "line": {
             "colorbar": {
              "outlinewidth": 0,
              "tickcolor": "rgb(237,237,237)",
              "ticklen": 6,
              "ticks": "inside"
             }
            },
            "marker": {
             "colorbar": {
              "outlinewidth": 0,
              "tickcolor": "rgb(237,237,237)",
              "ticklen": 6,
              "ticks": "inside"
             }
            },
            "type": "scatter3d"
           }
          ],
          "scattercarpet": [
           {
            "marker": {
             "colorbar": {
              "outlinewidth": 0,
              "tickcolor": "rgb(237,237,237)",
              "ticklen": 6,
              "ticks": "inside"
             }
            },
            "type": "scattercarpet"
           }
          ],
          "scattergeo": [
           {
            "marker": {
             "colorbar": {
              "outlinewidth": 0,
              "tickcolor": "rgb(237,237,237)",
              "ticklen": 6,
              "ticks": "inside"
             }
            },
            "type": "scattergeo"
           }
          ],
          "scattergl": [
           {
            "marker": {
             "colorbar": {
              "outlinewidth": 0,
              "tickcolor": "rgb(237,237,237)",
              "ticklen": 6,
              "ticks": "inside"
             }
            },
            "type": "scattergl"
           }
          ],
          "scattermapbox": [
           {
            "marker": {
             "colorbar": {
              "outlinewidth": 0,
              "tickcolor": "rgb(237,237,237)",
              "ticklen": 6,
              "ticks": "inside"
             }
            },
            "type": "scattermapbox"
           }
          ],
          "scatterpolar": [
           {
            "marker": {
             "colorbar": {
              "outlinewidth": 0,
              "tickcolor": "rgb(237,237,237)",
              "ticklen": 6,
              "ticks": "inside"
             }
            },
            "type": "scatterpolar"
           }
          ],
          "scatterpolargl": [
           {
            "marker": {
             "colorbar": {
              "outlinewidth": 0,
              "tickcolor": "rgb(237,237,237)",
              "ticklen": 6,
              "ticks": "inside"
             }
            },
            "type": "scatterpolargl"
           }
          ],
          "scatterternary": [
           {
            "marker": {
             "colorbar": {
              "outlinewidth": 0,
              "tickcolor": "rgb(237,237,237)",
              "ticklen": 6,
              "ticks": "inside"
             }
            },
            "type": "scatterternary"
           }
          ],
          "surface": [
           {
            "colorbar": {
             "outlinewidth": 0,
             "tickcolor": "rgb(237,237,237)",
             "ticklen": 6,
             "ticks": "inside"
            },
            "colorscale": [
             [
              0,
              "rgb(20,44,66)"
             ],
             [
              1,
              "rgb(90,179,244)"
             ]
            ],
            "type": "surface"
           }
          ],
          "table": [
           {
            "cells": {
             "fill": {
              "color": "rgb(237,237,237)"
             },
             "line": {
              "color": "white"
             }
            },
            "header": {
             "fill": {
              "color": "rgb(217,217,217)"
             },
             "line": {
              "color": "white"
             }
            },
            "type": "table"
           }
          ]
         },
         "layout": {
          "annotationdefaults": {
           "arrowhead": 0,
           "arrowwidth": 1
          },
          "autotypenumbers": "strict",
          "coloraxis": {
           "colorbar": {
            "outlinewidth": 0,
            "tickcolor": "rgb(237,237,237)",
            "ticklen": 6,
            "ticks": "inside"
           }
          },
          "colorscale": {
           "sequential": [
            [
             0,
             "rgb(20,44,66)"
            ],
            [
             1,
             "rgb(90,179,244)"
            ]
           ],
           "sequentialminus": [
            [
             0,
             "rgb(20,44,66)"
            ],
            [
             1,
             "rgb(90,179,244)"
            ]
           ]
          },
          "colorway": [
           "#F8766D",
           "#A3A500",
           "#00BF7D",
           "#00B0F6",
           "#E76BF3"
          ],
          "font": {
           "color": "rgb(51,51,51)"
          },
          "geo": {
           "bgcolor": "white",
           "lakecolor": "white",
           "landcolor": "rgb(237,237,237)",
           "showlakes": true,
           "showland": true,
           "subunitcolor": "white"
          },
          "hoverlabel": {
           "align": "left"
          },
          "hovermode": "closest",
          "paper_bgcolor": "white",
          "plot_bgcolor": "rgb(237,237,237)",
          "polar": {
           "angularaxis": {
            "gridcolor": "white",
            "linecolor": "white",
            "showgrid": true,
            "tickcolor": "rgb(51,51,51)",
            "ticks": "outside"
           },
           "bgcolor": "rgb(237,237,237)",
           "radialaxis": {
            "gridcolor": "white",
            "linecolor": "white",
            "showgrid": true,
            "tickcolor": "rgb(51,51,51)",
            "ticks": "outside"
           }
          },
          "scene": {
           "xaxis": {
            "backgroundcolor": "rgb(237,237,237)",
            "gridcolor": "white",
            "gridwidth": 2,
            "linecolor": "white",
            "showbackground": true,
            "showgrid": true,
            "tickcolor": "rgb(51,51,51)",
            "ticks": "outside",
            "zerolinecolor": "white"
           },
           "yaxis": {
            "backgroundcolor": "rgb(237,237,237)",
            "gridcolor": "white",
            "gridwidth": 2,
            "linecolor": "white",
            "showbackground": true,
            "showgrid": true,
            "tickcolor": "rgb(51,51,51)",
            "ticks": "outside",
            "zerolinecolor": "white"
           },
           "zaxis": {
            "backgroundcolor": "rgb(237,237,237)",
            "gridcolor": "white",
            "gridwidth": 2,
            "linecolor": "white",
            "showbackground": true,
            "showgrid": true,
            "tickcolor": "rgb(51,51,51)",
            "ticks": "outside",
            "zerolinecolor": "white"
           }
          },
          "shapedefaults": {
           "fillcolor": "black",
           "line": {
            "width": 0
           },
           "opacity": 0.3
          },
          "ternary": {
           "aaxis": {
            "gridcolor": "white",
            "linecolor": "white",
            "showgrid": true,
            "tickcolor": "rgb(51,51,51)",
            "ticks": "outside"
           },
           "baxis": {
            "gridcolor": "white",
            "linecolor": "white",
            "showgrid": true,
            "tickcolor": "rgb(51,51,51)",
            "ticks": "outside"
           },
           "bgcolor": "rgb(237,237,237)",
           "caxis": {
            "gridcolor": "white",
            "linecolor": "white",
            "showgrid": true,
            "tickcolor": "rgb(51,51,51)",
            "ticks": "outside"
           }
          },
          "xaxis": {
           "automargin": true,
           "gridcolor": "white",
           "linecolor": "white",
           "showgrid": true,
           "tickcolor": "rgb(51,51,51)",
           "ticks": "outside",
           "title": {
            "standoff": 15
           },
           "zerolinecolor": "white"
          },
          "yaxis": {
           "automargin": true,
           "gridcolor": "white",
           "linecolor": "white",
           "showgrid": true,
           "tickcolor": "rgb(51,51,51)",
           "ticks": "outside",
           "title": {
            "standoff": 15
           },
           "zerolinecolor": "white"
          }
         }
        },
        "title": {
         "text": "Train Cross-Validation Splits"
        },
        "xaxis": {
         "title": {
          "text": "Time"
         },
         "zeroline": false
        },
        "yaxis": {
         "title": {
          "text": "Windows"
         }
        }
       }
      }
     },
     "metadata": {},
     "output_type": "display_data"
    }
   ],
   "source": [
    "exp.plot_model(plot=\"cv\")"
   ]
  },
  {
   "cell_type": "code",
   "execution_count": 160,
   "metadata": {},
   "outputs": [
    {
     "data": {
      "text/html": [],
      "text/plain": [
       "<IPython.core.display.HTML object>"
      ]
     },
     "metadata": {},
     "output_type": "display_data"
    },
    {
     "data": {
      "text/html": [
       "<style type=\"text/css\">\n",
       "#T_090e0 th {\n",
       "  text-align: left;\n",
       "}\n",
       "#T_090e0_row0_col0, #T_090e0_row0_col5, #T_090e0_row0_col7, #T_090e0_row1_col0, #T_090e0_row1_col1, #T_090e0_row1_col2, #T_090e0_row1_col3, #T_090e0_row1_col4, #T_090e0_row1_col5, #T_090e0_row1_col6, #T_090e0_row1_col7, #T_090e0_row2_col0, #T_090e0_row2_col1, #T_090e0_row2_col2, #T_090e0_row2_col3, #T_090e0_row2_col4, #T_090e0_row2_col5, #T_090e0_row2_col6, #T_090e0_row2_col7, #T_090e0_row3_col0, #T_090e0_row3_col1, #T_090e0_row3_col2, #T_090e0_row3_col3, #T_090e0_row3_col4, #T_090e0_row3_col5, #T_090e0_row3_col6, #T_090e0_row3_col7, #T_090e0_row4_col0, #T_090e0_row4_col1, #T_090e0_row4_col2, #T_090e0_row4_col3, #T_090e0_row4_col4, #T_090e0_row4_col5, #T_090e0_row4_col6, #T_090e0_row4_col7, #T_090e0_row5_col0, #T_090e0_row5_col1, #T_090e0_row5_col2, #T_090e0_row5_col3, #T_090e0_row5_col4, #T_090e0_row5_col5, #T_090e0_row5_col6, #T_090e0_row5_col7, #T_090e0_row6_col0, #T_090e0_row6_col1, #T_090e0_row6_col2, #T_090e0_row6_col3, #T_090e0_row6_col4, #T_090e0_row6_col5, #T_090e0_row6_col6, #T_090e0_row7_col0, #T_090e0_row7_col1, #T_090e0_row7_col2, #T_090e0_row7_col3, #T_090e0_row7_col4, #T_090e0_row7_col6, #T_090e0_row7_col7, #T_090e0_row8_col0, #T_090e0_row8_col1, #T_090e0_row8_col2, #T_090e0_row8_col3, #T_090e0_row8_col4, #T_090e0_row8_col5, #T_090e0_row8_col6, #T_090e0_row8_col7, #T_090e0_row9_col0, #T_090e0_row9_col1, #T_090e0_row9_col2, #T_090e0_row9_col3, #T_090e0_row9_col4, #T_090e0_row9_col5, #T_090e0_row9_col6, #T_090e0_row9_col7, #T_090e0_row10_col0, #T_090e0_row10_col1, #T_090e0_row10_col2, #T_090e0_row10_col3, #T_090e0_row10_col4, #T_090e0_row10_col5, #T_090e0_row10_col6, #T_090e0_row10_col7, #T_090e0_row11_col0, #T_090e0_row11_col1, #T_090e0_row11_col2, #T_090e0_row11_col3, #T_090e0_row11_col4, #T_090e0_row11_col5, #T_090e0_row11_col6, #T_090e0_row11_col7, #T_090e0_row12_col0, #T_090e0_row12_col1, #T_090e0_row12_col2, #T_090e0_row12_col3, #T_090e0_row12_col4, #T_090e0_row12_col5, #T_090e0_row12_col6, #T_090e0_row12_col7, #T_090e0_row13_col0, #T_090e0_row13_col1, #T_090e0_row13_col2, #T_090e0_row13_col3, #T_090e0_row13_col4, #T_090e0_row13_col5, #T_090e0_row13_col6, #T_090e0_row13_col7, #T_090e0_row14_col0, #T_090e0_row14_col1, #T_090e0_row14_col2, #T_090e0_row14_col3, #T_090e0_row14_col4, #T_090e0_row14_col5, #T_090e0_row14_col6, #T_090e0_row14_col7, #T_090e0_row15_col0, #T_090e0_row15_col1, #T_090e0_row15_col2, #T_090e0_row15_col3, #T_090e0_row15_col4, #T_090e0_row15_col5, #T_090e0_row15_col6, #T_090e0_row15_col7, #T_090e0_row16_col0, #T_090e0_row16_col1, #T_090e0_row16_col2, #T_090e0_row16_col3, #T_090e0_row16_col4, #T_090e0_row16_col5, #T_090e0_row16_col6, #T_090e0_row16_col7, #T_090e0_row17_col0, #T_090e0_row17_col1, #T_090e0_row17_col2, #T_090e0_row17_col3, #T_090e0_row17_col4, #T_090e0_row17_col5, #T_090e0_row17_col6, #T_090e0_row17_col7, #T_090e0_row18_col0, #T_090e0_row18_col1, #T_090e0_row18_col2, #T_090e0_row18_col3, #T_090e0_row18_col4, #T_090e0_row18_col5, #T_090e0_row18_col6, #T_090e0_row18_col7, #T_090e0_row19_col0, #T_090e0_row19_col1, #T_090e0_row19_col2, #T_090e0_row19_col3, #T_090e0_row19_col4, #T_090e0_row19_col5, #T_090e0_row19_col6, #T_090e0_row19_col7, #T_090e0_row20_col0, #T_090e0_row20_col1, #T_090e0_row20_col2, #T_090e0_row20_col3, #T_090e0_row20_col4, #T_090e0_row20_col5, #T_090e0_row20_col6, #T_090e0_row20_col7, #T_090e0_row21_col0, #T_090e0_row21_col1, #T_090e0_row21_col2, #T_090e0_row21_col3, #T_090e0_row21_col4, #T_090e0_row21_col5, #T_090e0_row21_col6, #T_090e0_row21_col7, #T_090e0_row22_col0, #T_090e0_row22_col1, #T_090e0_row22_col2, #T_090e0_row22_col3, #T_090e0_row22_col4, #T_090e0_row22_col5, #T_090e0_row22_col6, #T_090e0_row22_col7, #T_090e0_row23_col0, #T_090e0_row23_col1, #T_090e0_row23_col2, #T_090e0_row23_col3, #T_090e0_row23_col4, #T_090e0_row23_col5, #T_090e0_row23_col6, #T_090e0_row23_col7, #T_090e0_row24_col0, #T_090e0_row24_col1, #T_090e0_row24_col2, #T_090e0_row24_col3, #T_090e0_row24_col4, #T_090e0_row24_col5, #T_090e0_row24_col6, #T_090e0_row24_col7, #T_090e0_row25_col0, #T_090e0_row25_col1, #T_090e0_row25_col2, #T_090e0_row25_col3, #T_090e0_row25_col4, #T_090e0_row25_col5, #T_090e0_row25_col6, #T_090e0_row25_col7 {\n",
       "  text-align: left;\n",
       "}\n",
       "#T_090e0_row0_col1, #T_090e0_row0_col2, #T_090e0_row0_col3, #T_090e0_row0_col4, #T_090e0_row0_col6, #T_090e0_row6_col7, #T_090e0_row7_col5 {\n",
       "  text-align: left;\n",
       "  background-color: yellow;\n",
       "}\n",
       "#T_090e0_row0_col8, #T_090e0_row1_col8, #T_090e0_row2_col8, #T_090e0_row3_col8, #T_090e0_row4_col8, #T_090e0_row5_col8, #T_090e0_row6_col8, #T_090e0_row8_col8, #T_090e0_row9_col8, #T_090e0_row10_col8, #T_090e0_row11_col8, #T_090e0_row12_col8, #T_090e0_row13_col8, #T_090e0_row14_col8, #T_090e0_row15_col8, #T_090e0_row16_col8, #T_090e0_row17_col8, #T_090e0_row18_col8, #T_090e0_row19_col8, #T_090e0_row20_col8, #T_090e0_row21_col8, #T_090e0_row22_col8, #T_090e0_row23_col8, #T_090e0_row24_col8, #T_090e0_row25_col8 {\n",
       "  text-align: left;\n",
       "  background-color: lightgrey;\n",
       "}\n",
       "#T_090e0_row7_col8 {\n",
       "  text-align: left;\n",
       "  background-color: yellow;\n",
       "  background-color: lightgrey;\n",
       "}\n",
       "</style>\n",
       "<table id=\"T_090e0\">\n",
       "  <thead>\n",
       "    <tr>\n",
       "      <th class=\"blank level0\" >&nbsp;</th>\n",
       "      <th id=\"T_090e0_level0_col0\" class=\"col_heading level0 col0\" >Model</th>\n",
       "      <th id=\"T_090e0_level0_col1\" class=\"col_heading level0 col1\" >MASE</th>\n",
       "      <th id=\"T_090e0_level0_col2\" class=\"col_heading level0 col2\" >RMSSE</th>\n",
       "      <th id=\"T_090e0_level0_col3\" class=\"col_heading level0 col3\" >MAE</th>\n",
       "      <th id=\"T_090e0_level0_col4\" class=\"col_heading level0 col4\" >RMSE</th>\n",
       "      <th id=\"T_090e0_level0_col5\" class=\"col_heading level0 col5\" >MAPE</th>\n",
       "      <th id=\"T_090e0_level0_col6\" class=\"col_heading level0 col6\" >SMAPE</th>\n",
       "      <th id=\"T_090e0_level0_col7\" class=\"col_heading level0 col7\" >R2</th>\n",
       "      <th id=\"T_090e0_level0_col8\" class=\"col_heading level0 col8\" >TT (Sec)</th>\n",
       "    </tr>\n",
       "  </thead>\n",
       "  <tbody>\n",
       "    <tr>\n",
       "      <th id=\"T_090e0_level0_row0\" class=\"row_heading level0 row0\" >knn_cds_dt</th>\n",
       "      <td id=\"T_090e0_row0_col0\" class=\"data row0 col0\" >K Neighbors w/ Cond. Deseasonalize & Detrending</td>\n",
       "      <td id=\"T_090e0_row0_col1\" class=\"data row0 col1\" >0.7328</td>\n",
       "      <td id=\"T_090e0_row0_col2\" class=\"data row0 col2\" >0.6526</td>\n",
       "      <td id=\"T_090e0_row0_col3\" class=\"data row0 col3\" >35848.4948</td>\n",
       "      <td id=\"T_090e0_row0_col4\" class=\"data row0 col4\" >41341.2529</td>\n",
       "      <td id=\"T_090e0_row0_col5\" class=\"data row0 col5\" >0.4679</td>\n",
       "      <td id=\"T_090e0_row0_col6\" class=\"data row0 col6\" >0.3039</td>\n",
       "      <td id=\"T_090e0_row0_col7\" class=\"data row0 col7\" >-8.0255</td>\n",
       "      <td id=\"T_090e0_row0_col8\" class=\"data row0 col8\" >0.0867</td>\n",
       "    </tr>\n",
       "    <tr>\n",
       "      <th id=\"T_090e0_level0_row1\" class=\"row_heading level0 row1\" >dt_cds_dt</th>\n",
       "      <td id=\"T_090e0_row1_col0\" class=\"data row1 col0\" >Decision Tree w/ Cond. Deseasonalize & Detrending</td>\n",
       "      <td id=\"T_090e0_row1_col1\" class=\"data row1 col1\" >0.8084</td>\n",
       "      <td id=\"T_090e0_row1_col2\" class=\"data row1 col2\" >0.6864</td>\n",
       "      <td id=\"T_090e0_row1_col3\" class=\"data row1 col3\" >39348.5919</td>\n",
       "      <td id=\"T_090e0_row1_col4\" class=\"data row1 col4\" >43299.2425</td>\n",
       "      <td id=\"T_090e0_row1_col5\" class=\"data row1 col5\" >0.4601</td>\n",
       "      <td id=\"T_090e0_row1_col6\" class=\"data row1 col6\" >0.3463</td>\n",
       "      <td id=\"T_090e0_row1_col7\" class=\"data row1 col7\" >-13.6365</td>\n",
       "      <td id=\"T_090e0_row1_col8\" class=\"data row1 col8\" >0.0600</td>\n",
       "    </tr>\n",
       "    <tr>\n",
       "      <th id=\"T_090e0_level0_row2\" class=\"row_heading level0 row2\" >ada_cds_dt</th>\n",
       "      <td id=\"T_090e0_row2_col0\" class=\"data row2 col0\" >AdaBoost w/ Cond. Deseasonalize & Detrending</td>\n",
       "      <td id=\"T_090e0_row2_col1\" class=\"data row2 col1\" >0.7597</td>\n",
       "      <td id=\"T_090e0_row2_col2\" class=\"data row2 col2\" >0.6832</td>\n",
       "      <td id=\"T_090e0_row2_col3\" class=\"data row2 col3\" >37512.3476</td>\n",
       "      <td id=\"T_090e0_row2_col4\" class=\"data row2 col4\" >43452.2141</td>\n",
       "      <td id=\"T_090e0_row2_col5\" class=\"data row2 col5\" >0.5159</td>\n",
       "      <td id=\"T_090e0_row2_col6\" class=\"data row2 col6\" >0.3103</td>\n",
       "      <td id=\"T_090e0_row2_col7\" class=\"data row2 col7\" >-5.9698</td>\n",
       "      <td id=\"T_090e0_row2_col8\" class=\"data row2 col8\" >0.0800</td>\n",
       "    </tr>\n",
       "    <tr>\n",
       "      <th id=\"T_090e0_level0_row3\" class=\"row_heading level0 row3\" >br_cds_dt</th>\n",
       "      <td id=\"T_090e0_row3_col0\" class=\"data row3 col0\" >Bayesian Ridge w/ Cond. Deseasonalize & Detrending</td>\n",
       "      <td id=\"T_090e0_row3_col1\" class=\"data row3 col1\" >0.7584</td>\n",
       "      <td id=\"T_090e0_row3_col2\" class=\"data row3 col2\" >0.6869</td>\n",
       "      <td id=\"T_090e0_row3_col3\" class=\"data row3 col3\" >37226.5743</td>\n",
       "      <td id=\"T_090e0_row3_col4\" class=\"data row3 col4\" >43595.7430</td>\n",
       "      <td id=\"T_090e0_row3_col5\" class=\"data row3 col5\" >0.4727</td>\n",
       "      <td id=\"T_090e0_row3_col6\" class=\"data row3 col6\" >0.3200</td>\n",
       "      <td id=\"T_090e0_row3_col7\" class=\"data row3 col7\" >-7.1290</td>\n",
       "      <td id=\"T_090e0_row3_col8\" class=\"data row3 col8\" >0.1233</td>\n",
       "    </tr>\n",
       "    <tr>\n",
       "      <th id=\"T_090e0_level0_row4\" class=\"row_heading level0 row4\" >lightgbm_cds_dt</th>\n",
       "      <td id=\"T_090e0_row4_col0\" class=\"data row4 col0\" >Light Gradient Boosting w/ Cond. Deseasonalize & Detrending</td>\n",
       "      <td id=\"T_090e0_row4_col1\" class=\"data row4 col1\" >0.8032</td>\n",
       "      <td id=\"T_090e0_row4_col2\" class=\"data row4 col2\" >0.6932</td>\n",
       "      <td id=\"T_090e0_row4_col3\" class=\"data row4 col3\" >39480.3483</td>\n",
       "      <td id=\"T_090e0_row4_col4\" class=\"data row4 col4\" >43993.7048</td>\n",
       "      <td id=\"T_090e0_row4_col5\" class=\"data row4 col5\" >0.5174</td>\n",
       "      <td id=\"T_090e0_row4_col6\" class=\"data row4 col6\" >0.3324</td>\n",
       "      <td id=\"T_090e0_row4_col7\" class=\"data row4 col7\" >-7.4685</td>\n",
       "      <td id=\"T_090e0_row4_col8\" class=\"data row4 col8\" >0.1033</td>\n",
       "    </tr>\n",
       "    <tr>\n",
       "      <th id=\"T_090e0_level0_row5\" class=\"row_heading level0 row5\" >polytrend</th>\n",
       "      <td id=\"T_090e0_row5_col0\" class=\"data row5 col0\" >Polynomial Trend Forecaster</td>\n",
       "      <td id=\"T_090e0_row5_col1\" class=\"data row5 col1\" >0.8058</td>\n",
       "      <td id=\"T_090e0_row5_col2\" class=\"data row5 col2\" >0.6943</td>\n",
       "      <td id=\"T_090e0_row5_col3\" class=\"data row5 col3\" >39539.3650</td>\n",
       "      <td id=\"T_090e0_row5_col4\" class=\"data row5 col4\" >44021.5839</td>\n",
       "      <td id=\"T_090e0_row5_col5\" class=\"data row5 col5\" >0.5130</td>\n",
       "      <td id=\"T_090e0_row5_col6\" class=\"data row5 col6\" >0.3337</td>\n",
       "      <td id=\"T_090e0_row5_col7\" class=\"data row5 col7\" >-8.3518</td>\n",
       "      <td id=\"T_090e0_row5_col8\" class=\"data row5 col8\" >0.8333</td>\n",
       "    </tr>\n",
       "    <tr>\n",
       "      <th id=\"T_090e0_level0_row6\" class=\"row_heading level0 row6\" >gbr_cds_dt</th>\n",
       "      <td id=\"T_090e0_row6_col0\" class=\"data row6 col0\" >Gradient Boosting w/ Cond. Deseasonalize & Detrending</td>\n",
       "      <td id=\"T_090e0_row6_col1\" class=\"data row6 col1\" >0.8333</td>\n",
       "      <td id=\"T_090e0_row6_col2\" class=\"data row6 col2\" >0.7212</td>\n",
       "      <td id=\"T_090e0_row6_col3\" class=\"data row6 col3\" >41276.3295</td>\n",
       "      <td id=\"T_090e0_row6_col4\" class=\"data row6 col4\" >45970.5086</td>\n",
       "      <td id=\"T_090e0_row6_col5\" class=\"data row6 col5\" >0.5317</td>\n",
       "      <td id=\"T_090e0_row6_col6\" class=\"data row6 col6\" >0.3430</td>\n",
       "      <td id=\"T_090e0_row6_col7\" class=\"data row6 col7\" >-4.6589</td>\n",
       "      <td id=\"T_090e0_row6_col8\" class=\"data row6 col8\" >0.0767</td>\n",
       "    </tr>\n",
       "    <tr>\n",
       "      <th id=\"T_090e0_level0_row7\" class=\"row_heading level0 row7\" >croston</th>\n",
       "      <td id=\"T_090e0_row7_col0\" class=\"data row7 col0\" >Croston</td>\n",
       "      <td id=\"T_090e0_row7_col1\" class=\"data row7 col1\" >0.8513</td>\n",
       "      <td id=\"T_090e0_row7_col2\" class=\"data row7 col2\" >0.7390</td>\n",
       "      <td id=\"T_090e0_row7_col3\" class=\"data row7 col3\" >41039.0209</td>\n",
       "      <td id=\"T_090e0_row7_col4\" class=\"data row7 col4\" >46391.0372</td>\n",
       "      <td id=\"T_090e0_row7_col5\" class=\"data row7 col5\" >0.4363</td>\n",
       "      <td id=\"T_090e0_row7_col6\" class=\"data row7 col6\" >0.3614</td>\n",
       "      <td id=\"T_090e0_row7_col7\" class=\"data row7 col7\" >-23.5485</td>\n",
       "      <td id=\"T_090e0_row7_col8\" class=\"data row7 col8\" >0.0167</td>\n",
       "    </tr>\n",
       "    <tr>\n",
       "      <th id=\"T_090e0_level0_row8\" class=\"row_heading level0 row8\" >rf_cds_dt</th>\n",
       "      <td id=\"T_090e0_row8_col0\" class=\"data row8 col0\" >Random Forest w/ Cond. Deseasonalize & Detrending</td>\n",
       "      <td id=\"T_090e0_row8_col1\" class=\"data row8 col1\" >0.8670</td>\n",
       "      <td id=\"T_090e0_row8_col2\" class=\"data row8 col2\" >0.7645</td>\n",
       "      <td id=\"T_090e0_row8_col3\" class=\"data row8 col3\" >43029.5393</td>\n",
       "      <td id=\"T_090e0_row8_col4\" class=\"data row8 col4\" >48756.0032</td>\n",
       "      <td id=\"T_090e0_row8_col5\" class=\"data row8 col5\" >0.5983</td>\n",
       "      <td id=\"T_090e0_row8_col6\" class=\"data row8 col6\" >0.3352</td>\n",
       "      <td id=\"T_090e0_row8_col7\" class=\"data row8 col7\" >-5.3464</td>\n",
       "      <td id=\"T_090e0_row8_col8\" class=\"data row8 col8\" >0.1267</td>\n",
       "    </tr>\n",
       "    <tr>\n",
       "      <th id=\"T_090e0_level0_row9\" class=\"row_heading level0 row9\" >et_cds_dt</th>\n",
       "      <td id=\"T_090e0_row9_col0\" class=\"data row9 col0\" >Extra Trees w/ Cond. Deseasonalize & Detrending</td>\n",
       "      <td id=\"T_090e0_row9_col1\" class=\"data row9 col1\" >0.9245</td>\n",
       "      <td id=\"T_090e0_row9_col2\" class=\"data row9 col2\" >0.7839</td>\n",
       "      <td id=\"T_090e0_row9_col3\" class=\"data row9 col3\" >45310.4817</td>\n",
       "      <td id=\"T_090e0_row9_col4\" class=\"data row9 col4\" >49688.8943</td>\n",
       "      <td id=\"T_090e0_row9_col5\" class=\"data row9 col5\" >0.5637</td>\n",
       "      <td id=\"T_090e0_row9_col6\" class=\"data row9 col6\" >0.3655</td>\n",
       "      <td id=\"T_090e0_row9_col7\" class=\"data row9 col7\" >-11.5422</td>\n",
       "      <td id=\"T_090e0_row9_col8\" class=\"data row9 col8\" >0.1233</td>\n",
       "    </tr>\n",
       "    <tr>\n",
       "      <th id=\"T_090e0_level0_row10\" class=\"row_heading level0 row10\" >omp_cds_dt</th>\n",
       "      <td id=\"T_090e0_row10_col0\" class=\"data row10 col0\" >Orthogonal Matching Pursuit w/ Cond. Deseasonalize & Detrending</td>\n",
       "      <td id=\"T_090e0_row10_col1\" class=\"data row10 col1\" >0.9907</td>\n",
       "      <td id=\"T_090e0_row10_col2\" class=\"data row10 col2\" >0.8447</td>\n",
       "      <td id=\"T_090e0_row10_col3\" class=\"data row10 col3\" >48331.4770</td>\n",
       "      <td id=\"T_090e0_row10_col4\" class=\"data row10 col4\" >53380.2053</td>\n",
       "      <td id=\"T_090e0_row10_col5\" class=\"data row10 col5\" >0.5722</td>\n",
       "      <td id=\"T_090e0_row10_col6\" class=\"data row10 col6\" >0.4050</td>\n",
       "      <td id=\"T_090e0_row10_col7\" class=\"data row10 col7\" >-17.8221</td>\n",
       "      <td id=\"T_090e0_row10_col8\" class=\"data row10 col8\" >0.0600</td>\n",
       "    </tr>\n",
       "    <tr>\n",
       "      <th id=\"T_090e0_level0_row11\" class=\"row_heading level0 row11\" >stlf</th>\n",
       "      <td id=\"T_090e0_row11_col0\" class=\"data row11 col0\" >STLF</td>\n",
       "      <td id=\"T_090e0_row11_col1\" class=\"data row11 col1\" >1.0051</td>\n",
       "      <td id=\"T_090e0_row11_col2\" class=\"data row11 col2\" >0.8721</td>\n",
       "      <td id=\"T_090e0_row11_col3\" class=\"data row11 col3\" >47931.0614</td>\n",
       "      <td id=\"T_090e0_row11_col4\" class=\"data row11 col4\" >54441.8015</td>\n",
       "      <td id=\"T_090e0_row11_col5\" class=\"data row11 col5\" >0.5247</td>\n",
       "      <td id=\"T_090e0_row11_col6\" class=\"data row11 col6\" >0.4402</td>\n",
       "      <td id=\"T_090e0_row11_col7\" class=\"data row11 col7\" >-50.9197</td>\n",
       "      <td id=\"T_090e0_row11_col8\" class=\"data row11 col8\" >0.0300</td>\n",
       "    </tr>\n",
       "    <tr>\n",
       "      <th id=\"T_090e0_level0_row12\" class=\"row_heading level0 row12\" >arima</th>\n",
       "      <td id=\"T_090e0_row12_col0\" class=\"data row12 col0\" >ARIMA</td>\n",
       "      <td id=\"T_090e0_row12_col1\" class=\"data row12 col1\" >1.0304</td>\n",
       "      <td id=\"T_090e0_row12_col2\" class=\"data row12 col2\" >0.8715</td>\n",
       "      <td id=\"T_090e0_row12_col3\" class=\"data row12 col3\" >49967.8992</td>\n",
       "      <td id=\"T_090e0_row12_col4\" class=\"data row12 col4\" >54810.4141</td>\n",
       "      <td id=\"T_090e0_row12_col5\" class=\"data row12 col5\" >0.5416</td>\n",
       "      <td id=\"T_090e0_row12_col6\" class=\"data row12 col6\" >0.4510</td>\n",
       "      <td id=\"T_090e0_row12_col7\" class=\"data row12 col7\" >-28.7277</td>\n",
       "      <td id=\"T_090e0_row12_col8\" class=\"data row12 col8\" >0.8467</td>\n",
       "    </tr>\n",
       "    <tr>\n",
       "      <th id=\"T_090e0_level0_row13\" class=\"row_heading level0 row13\" >huber_cds_dt</th>\n",
       "      <td id=\"T_090e0_row13_col0\" class=\"data row13 col0\" >Huber w/ Cond. Deseasonalize & Detrending</td>\n",
       "      <td id=\"T_090e0_row13_col1\" class=\"data row13 col1\" >0.9371</td>\n",
       "      <td id=\"T_090e0_row13_col2\" class=\"data row13 col2\" >0.8919</td>\n",
       "      <td id=\"T_090e0_row13_col3\" class=\"data row13 col3\" >45683.7768</td>\n",
       "      <td id=\"T_090e0_row13_col4\" class=\"data row13 col4\" >56167.2842</td>\n",
       "      <td id=\"T_090e0_row13_col5\" class=\"data row13 col5\" >0.4814</td>\n",
       "      <td id=\"T_090e0_row13_col6\" class=\"data row13 col6\" >0.3807</td>\n",
       "      <td id=\"T_090e0_row13_col7\" class=\"data row13 col7\" >-26.2066</td>\n",
       "      <td id=\"T_090e0_row13_col8\" class=\"data row13 col8\" >0.0667</td>\n",
       "    </tr>\n",
       "    <tr>\n",
       "      <th id=\"T_090e0_level0_row14\" class=\"row_heading level0 row14\" >grand_means</th>\n",
       "      <td id=\"T_090e0_row14_col0\" class=\"data row14 col0\" >Grand Means Forecaster</td>\n",
       "      <td id=\"T_090e0_row14_col1\" class=\"data row14 col1\" >1.1997</td>\n",
       "      <td id=\"T_090e0_row14_col2\" class=\"data row14 col2\" >0.9863</td>\n",
       "      <td id=\"T_090e0_row14_col3\" class=\"data row14 col3\" >57620.4204</td>\n",
       "      <td id=\"T_090e0_row14_col4\" class=\"data row14 col4\" >61636.3467</td>\n",
       "      <td id=\"T_090e0_row14_col5\" class=\"data row14 col5\" >0.4578</td>\n",
       "      <td id=\"T_090e0_row14_col6\" class=\"data row14 col6\" >0.5431</td>\n",
       "      <td id=\"T_090e0_row14_col7\" class=\"data row14 col7\" >-56.8760</td>\n",
       "      <td id=\"T_090e0_row14_col8\" class=\"data row14 col8\" >0.8267</td>\n",
       "    </tr>\n",
       "    <tr>\n",
       "      <th id=\"T_090e0_level0_row15\" class=\"row_heading level0 row15\" >en_cds_dt</th>\n",
       "      <td id=\"T_090e0_row15_col0\" class=\"data row15 col0\" >Elastic Net w/ Cond. Deseasonalize & Detrending</td>\n",
       "      <td id=\"T_090e0_row15_col1\" class=\"data row15 col1\" >1.1487</td>\n",
       "      <td id=\"T_090e0_row15_col2\" class=\"data row15 col2\" >0.9971</td>\n",
       "      <td id=\"T_090e0_row15_col3\" class=\"data row15 col3\" >56059.2947</td>\n",
       "      <td id=\"T_090e0_row15_col4\" class=\"data row15 col4\" >62796.4961</td>\n",
       "      <td id=\"T_090e0_row15_col5\" class=\"data row15 col5\" >0.5768</td>\n",
       "      <td id=\"T_090e0_row15_col6\" class=\"data row15 col6\" >0.4702</td>\n",
       "      <td id=\"T_090e0_row15_col7\" class=\"data row15 col7\" >-33.0138</td>\n",
       "      <td id=\"T_090e0_row15_col8\" class=\"data row15 col8\" >0.1333</td>\n",
       "    </tr>\n",
       "    <tr>\n",
       "      <th id=\"T_090e0_level0_row16\" class=\"row_heading level0 row16\" >lasso_cds_dt</th>\n",
       "      <td id=\"T_090e0_row16_col0\" class=\"data row16 col0\" >Lasso w/ Cond. Deseasonalize & Detrending</td>\n",
       "      <td id=\"T_090e0_row16_col1\" class=\"data row16 col1\" >1.1487</td>\n",
       "      <td id=\"T_090e0_row16_col2\" class=\"data row16 col2\" >0.9971</td>\n",
       "      <td id=\"T_090e0_row16_col3\" class=\"data row16 col3\" >56059.2946</td>\n",
       "      <td id=\"T_090e0_row16_col4\" class=\"data row16 col4\" >62796.4961</td>\n",
       "      <td id=\"T_090e0_row16_col5\" class=\"data row16 col5\" >0.5768</td>\n",
       "      <td id=\"T_090e0_row16_col6\" class=\"data row16 col6\" >0.4702</td>\n",
       "      <td id=\"T_090e0_row16_col7\" class=\"data row16 col7\" >-33.0138</td>\n",
       "      <td id=\"T_090e0_row16_col8\" class=\"data row16 col8\" >0.1367</td>\n",
       "    </tr>\n",
       "    <tr>\n",
       "      <th id=\"T_090e0_level0_row17\" class=\"row_heading level0 row17\" >llar_cds_dt</th>\n",
       "      <td id=\"T_090e0_row17_col0\" class=\"data row17 col0\" >Lasso Least Angular Regressor w/ Cond. Deseasonalize & Detrending</td>\n",
       "      <td id=\"T_090e0_row17_col1\" class=\"data row17 col1\" >1.1487</td>\n",
       "      <td id=\"T_090e0_row17_col2\" class=\"data row17 col2\" >0.9971</td>\n",
       "      <td id=\"T_090e0_row17_col3\" class=\"data row17 col3\" >56059.2946</td>\n",
       "      <td id=\"T_090e0_row17_col4\" class=\"data row17 col4\" >62796.4961</td>\n",
       "      <td id=\"T_090e0_row17_col5\" class=\"data row17 col5\" >0.5768</td>\n",
       "      <td id=\"T_090e0_row17_col6\" class=\"data row17 col6\" >0.4702</td>\n",
       "      <td id=\"T_090e0_row17_col7\" class=\"data row17 col7\" >-33.0138</td>\n",
       "      <td id=\"T_090e0_row17_col8\" class=\"data row17 col8\" >0.1300</td>\n",
       "    </tr>\n",
       "    <tr>\n",
       "      <th id=\"T_090e0_level0_row18\" class=\"row_heading level0 row18\" >ridge_cds_dt</th>\n",
       "      <td id=\"T_090e0_row18_col0\" class=\"data row18 col0\" >Ridge w/ Cond. Deseasonalize & Detrending</td>\n",
       "      <td id=\"T_090e0_row18_col1\" class=\"data row18 col1\" >1.1487</td>\n",
       "      <td id=\"T_090e0_row18_col2\" class=\"data row18 col2\" >0.9971</td>\n",
       "      <td id=\"T_090e0_row18_col3\" class=\"data row18 col3\" >56059.2947</td>\n",
       "      <td id=\"T_090e0_row18_col4\" class=\"data row18 col4\" >62796.4962</td>\n",
       "      <td id=\"T_090e0_row18_col5\" class=\"data row18 col5\" >0.5768</td>\n",
       "      <td id=\"T_090e0_row18_col6\" class=\"data row18 col6\" >0.4702</td>\n",
       "      <td id=\"T_090e0_row18_col7\" class=\"data row18 col7\" >-33.0138</td>\n",
       "      <td id=\"T_090e0_row18_col8\" class=\"data row18 col8\" >0.1300</td>\n",
       "    </tr>\n",
       "    <tr>\n",
       "      <th id=\"T_090e0_level0_row19\" class=\"row_heading level0 row19\" >lr_cds_dt</th>\n",
       "      <td id=\"T_090e0_row19_col0\" class=\"data row19 col0\" >Linear w/ Cond. Deseasonalize & Detrending</td>\n",
       "      <td id=\"T_090e0_row19_col1\" class=\"data row19 col1\" >1.1487</td>\n",
       "      <td id=\"T_090e0_row19_col2\" class=\"data row19 col2\" >0.9971</td>\n",
       "      <td id=\"T_090e0_row19_col3\" class=\"data row19 col3\" >56059.2947</td>\n",
       "      <td id=\"T_090e0_row19_col4\" class=\"data row19 col4\" >62796.4962</td>\n",
       "      <td id=\"T_090e0_row19_col5\" class=\"data row19 col5\" >0.5768</td>\n",
       "      <td id=\"T_090e0_row19_col6\" class=\"data row19 col6\" >0.4702</td>\n",
       "      <td id=\"T_090e0_row19_col7\" class=\"data row19 col7\" >-33.0138</td>\n",
       "      <td id=\"T_090e0_row19_col8\" class=\"data row19 col8\" >0.1500</td>\n",
       "    </tr>\n",
       "    <tr>\n",
       "      <th id=\"T_090e0_level0_row20\" class=\"row_heading level0 row20\" >snaive</th>\n",
       "      <td id=\"T_090e0_row20_col0\" class=\"data row20 col0\" >Seasonal Naive Forecaster</td>\n",
       "      <td id=\"T_090e0_row20_col1\" class=\"data row20 col1\" >1.3293</td>\n",
       "      <td id=\"T_090e0_row20_col2\" class=\"data row20 col2\" >1.0867</td>\n",
       "      <td id=\"T_090e0_row20_col3\" class=\"data row20 col3\" >64045.0000</td>\n",
       "      <td id=\"T_090e0_row20_col4\" class=\"data row20 col4\" >68043.4669</td>\n",
       "      <td id=\"T_090e0_row20_col5\" class=\"data row20 col5\" >0.5525</td>\n",
       "      <td id=\"T_090e0_row20_col6\" class=\"data row20 col6\" >0.6539</td>\n",
       "      <td id=\"T_090e0_row20_col7\" class=\"data row20 col7\" >-61.8873</td>\n",
       "      <td id=\"T_090e0_row20_col8\" class=\"data row20 col8\" >0.8633</td>\n",
       "    </tr>\n",
       "    <tr>\n",
       "      <th id=\"T_090e0_level0_row21\" class=\"row_heading level0 row21\" >auto_arima</th>\n",
       "      <td id=\"T_090e0_row21_col0\" class=\"data row21 col0\" >Auto ARIMA</td>\n",
       "      <td id=\"T_090e0_row21_col1\" class=\"data row21 col1\" >1.4771</td>\n",
       "      <td id=\"T_090e0_row21_col2\" class=\"data row21 col2\" >1.2149</td>\n",
       "      <td id=\"T_090e0_row21_col3\" class=\"data row21 col3\" >70514.3557</td>\n",
       "      <td id=\"T_090e0_row21_col4\" class=\"data row21 col4\" >75737.9981</td>\n",
       "      <td id=\"T_090e0_row21_col5\" class=\"data row21 col5\" >0.6764</td>\n",
       "      <td id=\"T_090e0_row21_col6\" class=\"data row21 col6\" >0.4568</td>\n",
       "      <td id=\"T_090e0_row21_col7\" class=\"data row21 col7\" >-104.9939</td>\n",
       "      <td id=\"T_090e0_row21_col8\" class=\"data row21 col8\" >0.9967</td>\n",
       "    </tr>\n",
       "    <tr>\n",
       "      <th id=\"T_090e0_level0_row22\" class=\"row_heading level0 row22\" >exp_smooth</th>\n",
       "      <td id=\"T_090e0_row22_col0\" class=\"data row22 col0\" >Exponential Smoothing</td>\n",
       "      <td id=\"T_090e0_row22_col1\" class=\"data row22 col1\" >1.5078</td>\n",
       "      <td id=\"T_090e0_row22_col2\" class=\"data row22 col2\" >1.2970</td>\n",
       "      <td id=\"T_090e0_row22_col3\" class=\"data row22 col3\" >74687.9048</td>\n",
       "      <td id=\"T_090e0_row22_col4\" class=\"data row22 col4\" >82639.3228</td>\n",
       "      <td id=\"T_090e0_row22_col5\" class=\"data row22 col5\" >0.9242</td>\n",
       "      <td id=\"T_090e0_row22_col6\" class=\"data row22 col6\" >0.5278</td>\n",
       "      <td id=\"T_090e0_row22_col7\" class=\"data row22 col7\" >-18.1280</td>\n",
       "      <td id=\"T_090e0_row22_col8\" class=\"data row22 col8\" >0.0333</td>\n",
       "    </tr>\n",
       "    <tr>\n",
       "      <th id=\"T_090e0_level0_row23\" class=\"row_heading level0 row23\" >theta</th>\n",
       "      <td id=\"T_090e0_row23_col0\" class=\"data row23 col0\" >Theta Forecaster</td>\n",
       "      <td id=\"T_090e0_row23_col1\" class=\"data row23 col1\" >1.6739</td>\n",
       "      <td id=\"T_090e0_row23_col2\" class=\"data row23 col2\" >1.4102</td>\n",
       "      <td id=\"T_090e0_row23_col3\" class=\"data row23 col3\" >81755.7365</td>\n",
       "      <td id=\"T_090e0_row23_col4\" class=\"data row23 col4\" >89171.6596</td>\n",
       "      <td id=\"T_090e0_row23_col5\" class=\"data row23 col5\" >0.9351</td>\n",
       "      <td id=\"T_090e0_row23_col6\" class=\"data row23 col6\" >0.6235</td>\n",
       "      <td id=\"T_090e0_row23_col7\" class=\"data row23 col7\" >-49.2530</td>\n",
       "      <td id=\"T_090e0_row23_col8\" class=\"data row23 col8\" >0.0233</td>\n",
       "    </tr>\n",
       "    <tr>\n",
       "      <th id=\"T_090e0_level0_row24\" class=\"row_heading level0 row24\" >naive</th>\n",
       "      <td id=\"T_090e0_row24_col0\" class=\"data row24 col0\" >Naive Forecaster</td>\n",
       "      <td id=\"T_090e0_row24_col1\" class=\"data row24 col1\" >1.9056</td>\n",
       "      <td id=\"T_090e0_row24_col2\" class=\"data row24 col2\" >1.5417</td>\n",
       "      <td id=\"T_090e0_row24_col3\" class=\"data row24 col3\" >92136.7778</td>\n",
       "      <td id=\"T_090e0_row24_col4\" class=\"data row24 col4\" >96695.9735</td>\n",
       "      <td id=\"T_090e0_row24_col5\" class=\"data row24 col5\" >0.8786</td>\n",
       "      <td id=\"T_090e0_row24_col6\" class=\"data row24 col6\" >0.7240</td>\n",
       "      <td id=\"T_090e0_row24_col7\" class=\"data row24 col7\" >-109.3794</td>\n",
       "      <td id=\"T_090e0_row24_col8\" class=\"data row24 col8\" >1.1200</td>\n",
       "    </tr>\n",
       "    <tr>\n",
       "      <th id=\"T_090e0_level0_row25\" class=\"row_heading level0 row25\" >ets</th>\n",
       "      <td id=\"T_090e0_row25_col0\" class=\"data row25 col0\" >ETS</td>\n",
       "      <td id=\"T_090e0_row25_col1\" class=\"data row25 col1\" >2.2166</td>\n",
       "      <td id=\"T_090e0_row25_col2\" class=\"data row25 col2\" >1.7796</td>\n",
       "      <td id=\"T_090e0_row25_col3\" class=\"data row25 col3\" >108498.1955</td>\n",
       "      <td id=\"T_090e0_row25_col4\" class=\"data row25 col4\" >112584.2417</td>\n",
       "      <td id=\"T_090e0_row25_col5\" class=\"data row25 col5\" >1.2317</td>\n",
       "      <td id=\"T_090e0_row25_col6\" class=\"data row25 col6\" >0.8470</td>\n",
       "      <td id=\"T_090e0_row25_col7\" class=\"data row25 col7\" >-74.9494</td>\n",
       "      <td id=\"T_090e0_row25_col8\" class=\"data row25 col8\" >0.0433</td>\n",
       "    </tr>\n",
       "  </tbody>\n",
       "</table>\n"
      ],
      "text/plain": [
       "<pandas.io.formats.style.Styler at 0x284e2d48e80>"
      ]
     },
     "metadata": {},
     "output_type": "display_data"
    },
    {
     "data": {
      "text/html": [],
      "text/plain": [
       "<IPython.core.display.HTML object>"
      ]
     },
     "metadata": {},
     "output_type": "display_data"
    }
   ],
   "source": [
    "best_model = exp.compare_models(sort='RMSE') #sort RMSE"
   ]
  },
  {
   "cell_type": "code",
   "execution_count": 161,
   "metadata": {},
   "outputs": [
    {
     "data": {
      "application/vnd.plotly.v1+json": {
       "config": {
        "plotlyServerURL": "https://plot.ly"
       },
       "data": [
        {
         "line": {
          "color": "rgb(31, 119, 180)",
          "width": 2
         },
         "marker": {
          "color": "rgb(31, 119, 180)",
          "size": 5
         },
         "mode": "lines+markers",
         "name": "Actual",
         "showlegend": false,
         "type": "scattergl",
         "x": [
          "2020-01-01T00:00:00",
          "2020-02-01T00:00:00",
          "2020-03-01T00:00:00",
          "2020-04-01T00:00:00",
          "2020-05-01T00:00:00",
          "2020-06-01T00:00:00",
          "2020-07-01T00:00:00",
          "2020-08-01T00:00:00",
          "2020-09-01T00:00:00",
          "2020-10-01T00:00:00",
          "2020-11-01T00:00:00",
          "2020-12-01T00:00:00",
          "2021-01-01T00:00:00",
          "2021-02-01T00:00:00",
          "2021-03-01T00:00:00",
          "2021-04-01T00:00:00",
          "2021-05-01T00:00:00",
          "2021-06-01T00:00:00",
          "2021-07-01T00:00:00",
          "2021-08-01T00:00:00",
          "2021-09-01T00:00:00",
          "2021-10-01T00:00:00",
          "2021-11-01T00:00:00",
          "2021-12-01T00:00:00",
          "2022-01-01T00:00:00",
          "2022-02-01T00:00:00",
          "2022-03-01T00:00:00",
          "2022-04-01T00:00:00",
          "2022-05-01T00:00:00",
          "2022-06-01T00:00:00",
          "2022-07-01T00:00:00",
          "2022-08-01T00:00:00",
          "2022-09-01T00:00:00",
          "2022-10-01T00:00:00",
          "2022-11-01T00:00:00",
          "2022-12-01T00:00:00",
          "2023-01-01T00:00:00",
          "2023-02-01T00:00:00",
          "2023-03-01T00:00:00",
          "2023-04-01T00:00:00",
          "2023-05-01T00:00:00",
          "2023-06-01T00:00:00",
          "2023-07-01T00:00:00",
          "2023-08-01T00:00:00",
          "2023-09-01T00:00:00",
          "2023-10-01T00:00:00",
          "2023-11-01T00:00:00",
          "2023-12-01T00:00:00",
          "2024-01-01T00:00:00",
          "2024-02-01T00:00:00",
          "2024-03-01T00:00:00",
          "2024-04-01T00:00:00",
          "2024-05-01T00:00:00"
         ],
         "xaxis": "x",
         "y": [
          14981,
          30057,
          17657,
          13723,
          39238,
          46414,
          15971,
          37007,
          30765,
          14853,
          38729,
          40789,
          52069,
          28060,
          67966,
          195452,
          139665,
          65862,
          69375,
          55233,
          51707,
          34768,
          20686,
          101633,
          84076,
          88469,
          63103,
          76067,
          118755,
          228569,
          87601,
          82851,
          38241,
          61891,
          50757,
          95570,
          114535,
          86057,
          47937,
          131493,
          285160,
          163948,
          169601,
          152819,
          82946,
          135645,
          41831,
          161617,
          106253,
          119707,
          149830,
          241990,
          83295
         ],
         "yaxis": "y"
        },
        {
         "line": {
          "color": "#3f3f3f"
         },
         "mode": "lines",
         "name": "Actual",
         "showlegend": false,
         "type": "scattergl",
         "x": [
          0,
          0
         ],
         "xaxis": "x2",
         "y": [
          0,
          1
         ],
         "yaxis": "y2"
        },
        {
         "line": {
          "color": "#3f3f3f"
         },
         "mode": "lines",
         "name": "Actual",
         "showlegend": false,
         "type": "scattergl",
         "x": [
          1,
          1
         ],
         "xaxis": "x2",
         "y": [
          0,
          0.4993871157385834
         ],
         "yaxis": "y2"
        },
        {
         "line": {
          "color": "#3f3f3f"
         },
         "mode": "lines",
         "name": "Actual",
         "showlegend": false,
         "type": "scattergl",
         "x": [
          2,
          2
         ],
         "xaxis": "x2",
         "y": [
          0,
          0.31041870826732865
         ],
         "yaxis": "y2"
        },
        {
         "line": {
          "color": "#3f3f3f"
         },
         "mode": "lines",
         "name": "Actual",
         "showlegend": false,
         "type": "scattergl",
         "x": [
          3,
          3
         ],
         "xaxis": "x2",
         "y": [
          0,
          0.20343500220805288
         ],
         "yaxis": "y2"
        },
        {
         "line": {
          "color": "#3f3f3f"
         },
         "mode": "lines",
         "name": "Actual",
         "showlegend": false,
         "type": "scattergl",
         "x": [
          4,
          4
         ],
         "xaxis": "x2",
         "y": [
          0,
          0.20269757547879846
         ],
         "yaxis": "y2"
        },
        {
         "line": {
          "color": "#3f3f3f"
         },
         "mode": "lines",
         "name": "Actual",
         "showlegend": false,
         "type": "scattergl",
         "x": [
          5,
          5
         ],
         "xaxis": "x2",
         "y": [
          0,
          0.12695966061565017
         ],
         "yaxis": "y2"
        },
        {
         "line": {
          "color": "#3f3f3f"
         },
         "mode": "lines",
         "name": "Actual",
         "showlegend": false,
         "type": "scattergl",
         "x": [
          6,
          6
         ],
         "xaxis": "x2",
         "y": [
          0,
          0.1095427427016825
         ],
         "yaxis": "y2"
        },
        {
         "line": {
          "color": "#3f3f3f"
         },
         "mode": "lines",
         "name": "Actual",
         "showlegend": false,
         "type": "scattergl",
         "x": [
          7,
          7
         ],
         "xaxis": "x2",
         "y": [
          0,
          0.10179366757075038
         ],
         "yaxis": "y2"
        },
        {
         "line": {
          "color": "#3f3f3f"
         },
         "mode": "lines",
         "name": "Actual",
         "showlegend": false,
         "type": "scattergl",
         "x": [
          8,
          8
         ],
         "xaxis": "x2",
         "y": [
          0,
          0.14577318839003658
         ],
         "yaxis": "y2"
        },
        {
         "line": {
          "color": "#3f3f3f"
         },
         "mode": "lines",
         "name": "Actual",
         "showlegend": false,
         "type": "scattergl",
         "x": [
          9,
          9
         ],
         "xaxis": "x2",
         "y": [
          0,
          0.10171180495151422
         ],
         "yaxis": "y2"
        },
        {
         "line": {
          "color": "#3f3f3f"
         },
         "mode": "lines",
         "name": "Actual",
         "showlegend": false,
         "type": "scattergl",
         "x": [
          10,
          10
         ],
         "xaxis": "x2",
         "y": [
          0,
          0.17839747416191584
         ],
         "yaxis": "y2"
        },
        {
         "line": {
          "color": "#3f3f3f"
         },
         "mode": "lines",
         "name": "Actual",
         "showlegend": false,
         "type": "scattergl",
         "x": [
          11,
          11
         ],
         "xaxis": "x2",
         "y": [
          0,
          0.35845190809964594
         ],
         "yaxis": "y2"
        },
        {
         "line": {
          "color": "#3f3f3f"
         },
         "mode": "lines",
         "name": "Actual",
         "showlegend": false,
         "type": "scattergl",
         "x": [
          12,
          12
         ],
         "xaxis": "x2",
         "y": [
          0,
          0.17689464793262052
         ],
         "yaxis": "y2"
        },
        {
         "line": {
          "color": "#3f3f3f"
         },
         "mode": "lines",
         "name": "Actual",
         "showlegend": false,
         "type": "scattergl",
         "x": [
          13,
          13
         ],
         "xaxis": "x2",
         "y": [
          0,
          0.12680564272861408
         ],
         "yaxis": "y2"
        },
        {
         "line": {
          "color": "#3f3f3f"
         },
         "mode": "lines",
         "name": "Actual",
         "showlegend": false,
         "type": "scattergl",
         "x": [
          14,
          14
         ],
         "xaxis": "x2",
         "y": [
          0,
          0.14080453012133806
         ],
         "yaxis": "y2"
        },
        {
         "line": {
          "color": "#3f3f3f"
         },
         "mode": "lines",
         "name": "Actual",
         "showlegend": false,
         "type": "scattergl",
         "x": [
          15,
          15
         ],
         "xaxis": "x2",
         "y": [
          0,
          -0.014897688968524236
         ],
         "yaxis": "y2"
        },
        {
         "line": {
          "color": "#3f3f3f"
         },
         "mode": "lines",
         "name": "Actual",
         "showlegend": false,
         "type": "scattergl",
         "x": [
          16,
          16
         ],
         "xaxis": "x2",
         "y": [
          0,
          0.007881723552222457
         ],
         "yaxis": "y2"
        },
        {
         "line": {
          "color": "#3f3f3f"
         },
         "mode": "lines",
         "name": "Actual",
         "showlegend": false,
         "type": "scattergl",
         "x": [
          17,
          17
         ],
         "xaxis": "x2",
         "y": [
          0,
          -0.06488294524366975
         ],
         "yaxis": "y2"
        },
        {
         "line": {
          "color": "#3f3f3f"
         },
         "mode": "lines",
         "name": "Actual",
         "showlegend": false,
         "type": "scattergl",
         "x": [
          18,
          18
         ],
         "xaxis": "x2",
         "y": [
          0,
          -0.04763883272898156
         ],
         "yaxis": "y2"
        },
        {
         "line": {
          "color": "#3f3f3f"
         },
         "mode": "lines",
         "name": "Actual",
         "showlegend": false,
         "type": "scattergl",
         "x": [
          19,
          19
         ],
         "xaxis": "x2",
         "y": [
          0,
          -0.07002685631696763
         ],
         "yaxis": "y2"
        },
        {
         "line": {
          "color": "#3f3f3f"
         },
         "mode": "lines",
         "name": "Actual",
         "showlegend": false,
         "type": "scattergl",
         "x": [
          20,
          20
         ],
         "xaxis": "x2",
         "y": [
          0,
          -0.026808465278450353
         ],
         "yaxis": "y2"
        },
        {
         "line": {
          "color": "#3f3f3f"
         },
         "mode": "lines",
         "name": "Actual",
         "showlegend": false,
         "type": "scattergl",
         "x": [
          21,
          21
         ],
         "xaxis": "x2",
         "y": [
          0,
          -0.0140474935196163
         ],
         "yaxis": "y2"
        },
        {
         "line": {
          "color": "#3f3f3f"
         },
         "mode": "lines",
         "name": "Actual",
         "showlegend": false,
         "type": "scattergl",
         "x": [
          22,
          22
         ],
         "xaxis": "x2",
         "y": [
          0,
          0.046757282627086574
         ],
         "yaxis": "y2"
        },
        {
         "line": {
          "color": "#3f3f3f"
         },
         "mode": "lines",
         "name": "Actual",
         "showlegend": false,
         "type": "scattergl",
         "x": [
          23,
          23
         ],
         "xaxis": "x2",
         "y": [
          0,
          -0.09336748146588679
         ],
         "yaxis": "y2"
        },
        {
         "line": {
          "color": "#3f3f3f"
         },
         "mode": "lines",
         "name": "Actual",
         "showlegend": false,
         "type": "scattergl",
         "x": [
          24,
          24
         ],
         "xaxis": "x2",
         "y": [
          0,
          0.04859977694151395
         ],
         "yaxis": "y2"
        },
        {
         "line": {
          "color": "#3f3f3f"
         },
         "mode": "lines",
         "name": "Actual",
         "showlegend": false,
         "type": "scattergl",
         "x": [
          25,
          25
         ],
         "xaxis": "x2",
         "y": [
          0,
          0.0728614600869881
         ],
         "yaxis": "y2"
        },
        {
         "line": {
          "color": "#3f3f3f"
         },
         "mode": "lines",
         "name": "Actual",
         "showlegend": false,
         "type": "scattergl",
         "x": [
          26,
          26
         ],
         "xaxis": "x2",
         "y": [
          0,
          -0.017275754468984265
         ],
         "yaxis": "y2"
        },
        {
         "line": {
          "color": "#3f3f3f"
         },
         "mode": "lines",
         "name": "Actual",
         "showlegend": false,
         "type": "scattergl",
         "x": [
          27,
          27
         ],
         "xaxis": "x2",
         "y": [
          0,
          -0.06372112173271102
         ],
         "yaxis": "y2"
        },
        {
         "line": {
          "color": "#3f3f3f"
         },
         "mode": "lines",
         "name": "Actual",
         "showlegend": false,
         "type": "scattergl",
         "x": [
          28,
          28
         ],
         "xaxis": "x2",
         "y": [
          0,
          -0.09655649126456729
         ],
         "yaxis": "y2"
        },
        {
         "line": {
          "color": "#3f3f3f"
         },
         "mode": "lines",
         "name": "Actual",
         "showlegend": false,
         "type": "scattergl",
         "x": [
          29,
          29
         ],
         "xaxis": "x2",
         "y": [
          0,
          -0.1836860466263294
         ],
         "yaxis": "y2"
        },
        {
         "line": {
          "color": "#3f3f3f"
         },
         "mode": "lines",
         "name": "Actual",
         "showlegend": false,
         "type": "scattergl",
         "x": [
          30,
          30
         ],
         "xaxis": "x2",
         "y": [
          0,
          -0.13156028428119132
         ],
         "yaxis": "y2"
        },
        {
         "line": {
          "color": "#3f3f3f"
         },
         "mode": "lines",
         "name": "Actual",
         "showlegend": false,
         "type": "scattergl",
         "x": [
          31,
          31
         ],
         "xaxis": "x2",
         "y": [
          0,
          -0.1439718490521515
         ],
         "yaxis": "y2"
        },
        {
         "line": {
          "color": "#3f3f3f"
         },
         "mode": "lines",
         "name": "Actual",
         "showlegend": false,
         "type": "scattergl",
         "x": [
          32,
          32
         ],
         "xaxis": "x2",
         "y": [
          0,
          -0.08548120859309942
         ],
         "yaxis": "y2"
        },
        {
         "line": {
          "color": "#3f3f3f"
         },
         "mode": "lines",
         "name": "Actual",
         "showlegend": false,
         "type": "scattergl",
         "x": [
          33,
          33
         ],
         "xaxis": "x2",
         "y": [
          0,
          -0.12069053907975832
         ],
         "yaxis": "y2"
        },
        {
         "line": {
          "color": "#3f3f3f"
         },
         "mode": "lines",
         "name": "Actual",
         "showlegend": false,
         "type": "scattergl",
         "x": [
          34,
          34
         ],
         "xaxis": "x2",
         "y": [
          0,
          -0.14323137661792054
         ],
         "yaxis": "y2"
        },
        {
         "line": {
          "color": "#3f3f3f"
         },
         "mode": "lines",
         "name": "Actual",
         "showlegend": false,
         "type": "scattergl",
         "x": [
          35,
          35
         ],
         "xaxis": "x2",
         "y": [
          0,
          -0.059786987329075975
         ],
         "yaxis": "y2"
        },
        {
         "line": {
          "color": "#3f3f3f"
         },
         "mode": "lines",
         "name": "Actual",
         "showlegend": false,
         "type": "scattergl",
         "x": [
          36,
          36
         ],
         "xaxis": "x2",
         "y": [
          0,
          -0.07963863905872465
         ],
         "yaxis": "y2"
        },
        {
         "line": {
          "color": "#3f3f3f"
         },
         "mode": "lines",
         "name": "Actual",
         "showlegend": false,
         "type": "scattergl",
         "x": [
          37,
          37
         ],
         "xaxis": "x2",
         "y": [
          0,
          -0.19560552100205042
         ],
         "yaxis": "y2"
        },
        {
         "line": {
          "color": "#3f3f3f"
         },
         "mode": "lines",
         "name": "Actual",
         "showlegend": false,
         "type": "scattergl",
         "x": [
          38,
          38
         ],
         "xaxis": "x2",
         "y": [
          0,
          -0.22324780301372144
         ],
         "yaxis": "y2"
        },
        {
         "line": {
          "color": "#3f3f3f"
         },
         "mode": "lines",
         "name": "Actual",
         "showlegend": false,
         "type": "scattergl",
         "x": [
          39,
          39
         ],
         "xaxis": "x2",
         "y": [
          0,
          -0.22762592905673162
         ],
         "yaxis": "y2"
        },
        {
         "line": {
          "color": "#3f3f3f"
         },
         "mode": "lines",
         "name": "Actual",
         "showlegend": false,
         "type": "scattergl",
         "x": [
          40,
          40
         ],
         "xaxis": "x2",
         "y": [
          0,
          -0.22606279026081533
         ],
         "yaxis": "y2"
        },
        {
         "marker": {
          "color": "#1f77b4",
          "size": 6
         },
         "mode": "markers",
         "name": "Actual",
         "showlegend": false,
         "type": "scattergl",
         "x": [
          0,
          1,
          2,
          3,
          4,
          5,
          6,
          7,
          8,
          9,
          10,
          11,
          12,
          13,
          14,
          15,
          16,
          17,
          18,
          19,
          20,
          21,
          22,
          23,
          24,
          25,
          26,
          27,
          28,
          29,
          30,
          31,
          32,
          33,
          34,
          35,
          36,
          37,
          38,
          39,
          40
         ],
         "xaxis": "x2",
         "y": [
          1,
          0.4993871157385834,
          0.31041870826732865,
          0.20343500220805288,
          0.20269757547879846,
          0.12695966061565017,
          0.1095427427016825,
          0.10179366757075038,
          0.14577318839003658,
          0.10171180495151422,
          0.17839747416191584,
          0.35845190809964594,
          0.17689464793262052,
          0.12680564272861408,
          0.14080453012133806,
          -0.014897688968524236,
          0.007881723552222457,
          -0.06488294524366975,
          -0.04763883272898156,
          -0.07002685631696763,
          -0.026808465278450353,
          -0.0140474935196163,
          0.046757282627086574,
          -0.09336748146588679,
          0.04859977694151395,
          0.0728614600869881,
          -0.017275754468984265,
          -0.06372112173271102,
          -0.09655649126456729,
          -0.1836860466263294,
          -0.13156028428119132,
          -0.1439718490521515,
          -0.08548120859309942,
          -0.12069053907975832,
          -0.14323137661792054,
          -0.059786987329075975,
          -0.07963863905872465,
          -0.19560552100205042,
          -0.22324780301372144,
          -0.22762592905673162,
          -0.22606279026081533
         ],
         "yaxis": "y2"
        },
        {
         "line": {
          "color": "rgba(255,255,255,0)"
         },
         "mode": "lines",
         "name": "UC",
         "showlegend": false,
         "type": "scatter",
         "x": [
          0,
          1,
          2,
          3,
          4,
          5,
          6,
          7,
          8,
          9,
          10,
          11,
          12,
          13,
          14,
          15,
          16,
          17,
          18,
          19,
          20,
          21,
          22,
          23,
          24,
          25,
          26,
          27,
          28,
          29,
          30,
          31,
          32,
          33,
          34,
          35,
          36,
          37,
          38,
          39,
          40
         ],
         "xaxis": "x2",
         "y": [
          0,
          0.2692217582355414,
          0.32959329934711024,
          0.3501430055189205,
          0.35860763975760507,
          0.36681785609559,
          0.36998908873716235,
          0.37233237588444806,
          0.374344058150757,
          0.3784360754837754,
          0.3804123078935966,
          0.3864285109794608,
          0.40982029299664025,
          0.41531763987914194,
          0.41811441320169107,
          0.42153723601589066,
          0.42157539550204365,
          0.4215860757651442,
          0.42230921654832154,
          0.4226985411386855,
          0.4235385570416109,
          0.4236615296036441,
          0.42369528798857475,
          0.42406911756350735,
          0.4255564704234124,
          0.42595856344884586,
          0.4268609423303616,
          0.4269116159774409,
          0.4276004251885349,
          0.42917783602766785,
          0.4348386724039714,
          0.4377141381132323,
          0.44113308291383224,
          0.44233203605144333,
          0.44471244385185615,
          0.44804359121491766,
          0.44862146554402776,
          0.44964497719787355,
          0.45577080052381913,
          0.46362895050728736,
          0.47165955383481345
         ],
         "yaxis": "y2"
        },
        {
         "fill": "tonexty",
         "fillcolor": "rgba(32, 146, 230,0.3)",
         "line": {
          "color": "rgba(255,255,255,0)"
         },
         "mode": "lines",
         "name": "LC",
         "showlegend": false,
         "type": "scatter",
         "x": [
          0,
          1,
          2,
          3,
          4,
          5,
          6,
          7,
          8,
          9,
          10,
          11,
          12,
          13,
          14,
          15,
          16,
          17,
          18,
          19,
          20,
          21,
          22,
          23,
          24,
          25,
          26,
          27,
          28,
          29,
          30,
          31,
          32,
          33,
          34,
          35,
          36,
          37,
          38,
          39,
          40
         ],
         "xaxis": "x2",
         "y": [
          0,
          -0.26922175823554145,
          -0.3295932993471102,
          -0.3501430055189205,
          -0.35860763975760507,
          -0.36681785609559,
          -0.36998908873716235,
          -0.37233237588444806,
          -0.374344058150757,
          -0.3784360754837754,
          -0.3804123078935966,
          -0.38642851097946074,
          -0.40982029299664025,
          -0.41531763987914194,
          -0.41811441320169107,
          -0.42153723601589066,
          -0.42157539550204365,
          -0.42158607576514406,
          -0.42230921654832154,
          -0.4226985411386855,
          -0.4235385570416109,
          -0.4236615296036441,
          -0.42369528798857475,
          -0.4240691175635073,
          -0.4255564704234124,
          -0.425958563448846,
          -0.4268609423303616,
          -0.4269116159774409,
          -0.42760042518853497,
          -0.4291778360276679,
          -0.4348386724039714,
          -0.4377141381132323,
          -0.4411330829138322,
          -0.4423320360514432,
          -0.44471244385185615,
          -0.44804359121491766,
          -0.44862146554402776,
          -0.44964497719787355,
          -0.4557708005238191,
          -0.46362895050728736,
          -0.4716595538348135
         ],
         "yaxis": "y2"
        },
        {
         "line": {
          "color": "#3f3f3f"
         },
         "mode": "lines",
         "name": "Actual",
         "showlegend": false,
         "type": "scattergl",
         "x": [
          0,
          0
         ],
         "xaxis": "x3",
         "y": [
          0,
          1
         ],
         "yaxis": "y3"
        },
        {
         "line": {
          "color": "#3f3f3f"
         },
         "mode": "lines",
         "name": "Actual",
         "showlegend": false,
         "type": "scattergl",
         "x": [
          1,
          1
         ],
         "xaxis": "x3",
         "y": [
          0,
          0.5089907141181715
         ],
         "yaxis": "y3"
        },
        {
         "line": {
          "color": "#3f3f3f"
         },
         "mode": "lines",
         "name": "Actual",
         "showlegend": false,
         "type": "scattergl",
         "x": [
          2,
          2
         ],
         "xaxis": "x3",
         "y": [
          0,
          0.08573087405913127
         ],
         "yaxis": "y3"
        },
        {
         "line": {
          "color": "#3f3f3f"
         },
         "mode": "lines",
         "name": "Actual",
         "showlegend": false,
         "type": "scattergl",
         "x": [
          3,
          3
         ],
         "xaxis": "x3",
         "y": [
          0,
          0.029756305244763366
         ],
         "yaxis": "y3"
        },
        {
         "line": {
          "color": "#3f3f3f"
         },
         "mode": "lines",
         "name": "Actual",
         "showlegend": false,
         "type": "scattergl",
         "x": [
          4,
          4
         ],
         "xaxis": "x3",
         "y": [
          0,
          0.11037916824119051
         ],
         "yaxis": "y3"
        },
        {
         "line": {
          "color": "#3f3f3f"
         },
         "mode": "lines",
         "name": "Actual",
         "showlegend": false,
         "type": "scattergl",
         "x": [
          5,
          5
         ],
         "xaxis": "x3",
         "y": [
          0,
          -0.032587051444325665
         ],
         "yaxis": "y3"
        },
        {
         "line": {
          "color": "#3f3f3f"
         },
         "mode": "lines",
         "name": "Actual",
         "showlegend": false,
         "type": "scattergl",
         "x": [
          6,
          6
         ],
         "xaxis": "x3",
         "y": [
          0,
          0.03452624221969746
         ],
         "yaxis": "y3"
        },
        {
         "line": {
          "color": "#3f3f3f"
         },
         "mode": "lines",
         "name": "Actual",
         "showlegend": false,
         "type": "scattergl",
         "x": [
          7,
          7
         ],
         "xaxis": "x3",
         "y": [
          0,
          0.03767665896251038
         ],
         "yaxis": "y3"
        },
        {
         "line": {
          "color": "#3f3f3f"
         },
         "mode": "lines",
         "name": "Actual",
         "showlegend": false,
         "type": "scattergl",
         "x": [
          8,
          8
         ],
         "xaxis": "x3",
         "y": [
          0,
          0.09992409794263317
         ],
         "yaxis": "y3"
        },
        {
         "line": {
          "color": "#3f3f3f"
         },
         "mode": "lines",
         "name": "Actual",
         "showlegend": false,
         "type": "scattergl",
         "x": [
          9,
          9
         ],
         "xaxis": "x3",
         "y": [
          0,
          -0.02299026061566234
         ],
         "yaxis": "y3"
        },
        {
         "line": {
          "color": "#3f3f3f"
         },
         "mode": "lines",
         "name": "Actual",
         "showlegend": false,
         "type": "scattergl",
         "x": [
          10,
          10
         ],
         "xaxis": "x3",
         "y": [
          0,
          0.17250818331828335
         ],
         "yaxis": "y3"
        },
        {
         "line": {
          "color": "#3f3f3f"
         },
         "mode": "lines",
         "name": "Actual",
         "showlegend": false,
         "type": "scattergl",
         "x": [
          11,
          11
         ],
         "xaxis": "x3",
         "y": [
          0,
          0.38265880029601934
         ],
         "yaxis": "y3"
        },
        {
         "line": {
          "color": "#3f3f3f"
         },
         "mode": "lines",
         "name": "Actual",
         "showlegend": false,
         "type": "scattergl",
         "x": [
          12,
          12
         ],
         "xaxis": "x3",
         "y": [
          0,
          -0.27465199378157845
         ],
         "yaxis": "y3"
        },
        {
         "line": {
          "color": "#3f3f3f"
         },
         "mode": "lines",
         "name": "Actual",
         "showlegend": false,
         "type": "scattergl",
         "x": [
          13,
          13
         ],
         "xaxis": "x3",
         "y": [
          0,
          0.038670779013160926
         ],
         "yaxis": "y3"
        },
        {
         "line": {
          "color": "#3f3f3f"
         },
         "mode": "lines",
         "name": "Actual",
         "showlegend": false,
         "type": "scattergl",
         "x": [
          14,
          14
         ],
         "xaxis": "x3",
         "y": [
          0,
          0.14323903514164282
         ],
         "yaxis": "y3"
        },
        {
         "line": {
          "color": "#3f3f3f"
         },
         "mode": "lines",
         "name": "Actual",
         "showlegend": false,
         "type": "scattergl",
         "x": [
          15,
          15
         ],
         "xaxis": "x3",
         "y": [
          0,
          -0.47164083711403987
         ],
         "yaxis": "y3"
        },
        {
         "line": {
          "color": "#3f3f3f"
         },
         "mode": "lines",
         "name": "Actual",
         "showlegend": false,
         "type": "scattergl",
         "x": [
          16,
          16
         ],
         "xaxis": "x3",
         "y": [
          0,
          0.2753562811091379
         ],
         "yaxis": "y3"
        },
        {
         "line": {
          "color": "#3f3f3f"
         },
         "mode": "lines",
         "name": "Actual",
         "showlegend": false,
         "type": "scattergl",
         "x": [
          17,
          17
         ],
         "xaxis": "x3",
         "y": [
          0,
          -0.2355471007990042
         ],
         "yaxis": "y3"
        },
        {
         "marker": {
          "color": "#1f77b4",
          "size": 6
         },
         "mode": "markers",
         "name": "Actual",
         "showlegend": false,
         "type": "scattergl",
         "x": [
          0,
          1,
          2,
          3,
          4,
          5,
          6,
          7,
          8,
          9,
          10,
          11,
          12,
          13,
          14,
          15,
          16,
          17
         ],
         "xaxis": "x3",
         "y": [
          1,
          0.5089907141181715,
          0.08573087405913127,
          0.029756305244763366,
          0.11037916824119051,
          -0.032587051444325665,
          0.03452624221969746,
          0.03767665896251038,
          0.09992409794263317,
          -0.02299026061566234,
          0.17250818331828335,
          0.38265880029601934,
          -0.27465199378157845,
          0.038670779013160926,
          0.14323903514164282,
          -0.47164083711403987,
          0.2753562811091379,
          -0.2355471007990042
         ],
         "yaxis": "y3"
        },
        {
         "line": {
          "color": "rgba(255,255,255,0)"
         },
         "mode": "lines",
         "name": "UC",
         "showlegend": false,
         "type": "scatter",
         "x": [
          0,
          1,
          2,
          3,
          4,
          5,
          6,
          7,
          8,
          9,
          10,
          11,
          12,
          13,
          14,
          15,
          16,
          17
         ],
         "xaxis": "x3",
         "y": [
          0,
          0.2692217582355414,
          0.26922175823554145,
          0.26922175823554145,
          0.2692217582355414,
          0.26922175823554145,
          0.26922175823554145,
          0.26922175823554145,
          0.26922175823554145,
          0.26922175823554145,
          0.2692217582355415,
          0.26922175823554145,
          0.26922175823554145,
          0.26922175823554145,
          0.26922175823554145,
          0.26922175823554145,
          0.2692217582355414,
          0.26922175823554145
         ],
         "yaxis": "y3"
        },
        {
         "fill": "tonexty",
         "fillcolor": "rgba(32, 146, 230,0.3)",
         "line": {
          "color": "rgba(255,255,255,0)"
         },
         "mode": "lines",
         "name": "LC",
         "showlegend": false,
         "type": "scatter",
         "x": [
          0,
          1,
          2,
          3,
          4,
          5,
          6,
          7,
          8,
          9,
          10,
          11,
          12,
          13,
          14,
          15,
          16,
          17
         ],
         "xaxis": "x3",
         "y": [
          0,
          -0.26922175823554145,
          -0.26922175823554145,
          -0.26922175823554145,
          -0.26922175823554145,
          -0.26922175823554145,
          -0.26922175823554145,
          -0.26922175823554145,
          -0.26922175823554145,
          -0.26922175823554145,
          -0.26922175823554145,
          -0.26922175823554145,
          -0.2692217582355415,
          -0.26922175823554145,
          -0.26922175823554145,
          -0.26922175823554145,
          -0.26922175823554145,
          -0.2692217582355414
         ],
         "yaxis": "y3"
        },
        {
         "line": {
          "color": "rgb(31, 119, 180)",
          "width": 2
         },
         "marker": {
          "color": "rgb(31, 119, 180)",
          "size": 5
         },
         "mode": "lines+markers",
         "name": "Order=1",
         "showlegend": false,
         "type": "scattergl",
         "x": [
          "2020-02-01T00:00:00",
          "2020-03-01T00:00:00",
          "2020-04-01T00:00:00",
          "2020-05-01T00:00:00",
          "2020-06-01T00:00:00",
          "2020-07-01T00:00:00",
          "2020-08-01T00:00:00",
          "2020-09-01T00:00:00",
          "2020-10-01T00:00:00",
          "2020-11-01T00:00:00",
          "2020-12-01T00:00:00",
          "2021-01-01T00:00:00",
          "2021-02-01T00:00:00",
          "2021-03-01T00:00:00",
          "2021-04-01T00:00:00",
          "2021-05-01T00:00:00",
          "2021-06-01T00:00:00",
          "2021-07-01T00:00:00",
          "2021-08-01T00:00:00",
          "2021-09-01T00:00:00",
          "2021-10-01T00:00:00",
          "2021-11-01T00:00:00",
          "2021-12-01T00:00:00",
          "2022-01-01T00:00:00",
          "2022-02-01T00:00:00",
          "2022-03-01T00:00:00",
          "2022-04-01T00:00:00",
          "2022-05-01T00:00:00",
          "2022-06-01T00:00:00",
          "2022-07-01T00:00:00",
          "2022-08-01T00:00:00",
          "2022-09-01T00:00:00",
          "2022-10-01T00:00:00",
          "2022-11-01T00:00:00",
          "2022-12-01T00:00:00",
          "2023-01-01T00:00:00",
          "2023-02-01T00:00:00",
          "2023-03-01T00:00:00",
          "2023-04-01T00:00:00",
          "2023-05-01T00:00:00",
          "2023-06-01T00:00:00",
          "2023-07-01T00:00:00",
          "2023-08-01T00:00:00",
          "2023-09-01T00:00:00",
          "2023-10-01T00:00:00",
          "2023-11-01T00:00:00",
          "2023-12-01T00:00:00",
          "2024-01-01T00:00:00",
          "2024-02-01T00:00:00",
          "2024-03-01T00:00:00",
          "2024-04-01T00:00:00",
          "2024-05-01T00:00:00"
         ],
         "xaxis": "x4",
         "y": [
          15076,
          -12400,
          -3934,
          25515,
          7176,
          -30443,
          21036,
          -6242,
          -15912,
          23876,
          2060,
          11280,
          -24009,
          39906,
          127486,
          -55787,
          -73803,
          3513,
          -14142,
          -3526,
          -16939,
          -14082,
          80947,
          -17557,
          4393,
          -25366,
          12964,
          42688,
          109814,
          -140968,
          -4750,
          -44610,
          23650,
          -11134,
          44813,
          18965,
          -28478,
          -38120,
          83556,
          153667,
          -121212,
          5653,
          -16782,
          -69873,
          52699,
          -93814,
          119786,
          -55364,
          13454,
          30123,
          92160,
          -158695
         ],
         "yaxis": "y4"
        },
        {
         "line": {
          "color": "#3f3f3f"
         },
         "mode": "lines",
         "name": "Order=1",
         "showlegend": false,
         "type": "scattergl",
         "x": [
          0,
          0
         ],
         "xaxis": "x5",
         "y": [
          0,
          1
         ],
         "yaxis": "y5"
        },
        {
         "line": {
          "color": "#3f3f3f"
         },
         "mode": "lines",
         "name": "Order=1",
         "showlegend": false,
         "type": "scattergl",
         "x": [
          1,
          1
         ],
         "xaxis": "x5",
         "y": [
          0,
          -0.3130329806723538
         ],
         "yaxis": "y5"
        },
        {
         "line": {
          "color": "#3f3f3f"
         },
         "mode": "lines",
         "name": "Order=1",
         "showlegend": false,
         "type": "scattergl",
         "x": [
          2,
          2
         ],
         "xaxis": "x5",
         "y": [
          0,
          -0.09096110379792328
         ],
         "yaxis": "y5"
        },
        {
         "line": {
          "color": "#3f3f3f"
         },
         "mode": "lines",
         "name": "Order=1",
         "showlegend": false,
         "type": "scattergl",
         "x": [
          3,
          3
         ],
         "xaxis": "x5",
         "y": [
          0,
          -0.11160445399066703
         ],
         "yaxis": "y5"
        },
        {
         "line": {
          "color": "#3f3f3f"
         },
         "mode": "lines",
         "name": "Order=1",
         "showlegend": false,
         "type": "scattergl",
         "x": [
          4,
          4
         ],
         "xaxis": "x5",
         "y": [
          0,
          0.08558727163843392
         ],
         "yaxis": "y5"
        },
        {
         "line": {
          "color": "#3f3f3f"
         },
         "mode": "lines",
         "name": "Order=1",
         "showlegend": false,
         "type": "scattergl",
         "x": [
          5,
          5
         ],
         "xaxis": "x5",
         "y": [
          0,
          -0.057139171918995646
         ],
         "yaxis": "y5"
        },
        {
         "line": {
          "color": "#3f3f3f"
         },
         "mode": "lines",
         "name": "Order=1",
         "showlegend": false,
         "type": "scattergl",
         "x": [
          6,
          6
         ],
         "xaxis": "x5",
         "y": [
          0,
          -0.023174997333558853
         ],
         "yaxis": "y5"
        },
        {
         "line": {
          "color": "#3f3f3f"
         },
         "mode": "lines",
         "name": "Order=1",
         "showlegend": false,
         "type": "scattergl",
         "x": [
          7,
          7
         ],
         "xaxis": "x5",
         "y": [
          0,
          -0.04459924318700263
         ],
         "yaxis": "y5"
        },
        {
         "line": {
          "color": "#3f3f3f"
         },
         "mode": "lines",
         "name": "Order=1",
         "showlegend": false,
         "type": "scattergl",
         "x": [
          8,
          8
         ],
         "xaxis": "x5",
         "y": [
          0,
          0.08675110336733904
         ],
         "yaxis": "y5"
        },
        {
         "line": {
          "color": "#3f3f3f"
         },
         "mode": "lines",
         "name": "Order=1",
         "showlegend": false,
         "type": "scattergl",
         "x": [
          9,
          9
         ],
         "xaxis": "x5",
         "y": [
          0,
          -0.12960284691982168
         ],
         "yaxis": "y5"
        },
        {
         "line": {
          "color": "#3f3f3f"
         },
         "mode": "lines",
         "name": "Order=1",
         "showlegend": false,
         "type": "scattergl",
         "x": [
          10,
          10
         ],
         "xaxis": "x5",
         "y": [
          0,
          -0.09794316038249964
         ],
         "yaxis": "y5"
        },
        {
         "line": {
          "color": "#3f3f3f"
         },
         "mode": "lines",
         "name": "Order=1",
         "showlegend": false,
         "type": "scattergl",
         "x": [
          11,
          11
         ],
         "xaxis": "x5",
         "y": [
          0,
          0.37055329914972956
         ],
         "yaxis": "y5"
        },
        {
         "line": {
          "color": "#3f3f3f"
         },
         "mode": "lines",
         "name": "Order=1",
         "showlegend": false,
         "type": "scattergl",
         "x": [
          12,
          12
         ],
         "xaxis": "x5",
         "y": [
          0,
          -0.13048492309929233
         ],
         "yaxis": "y5"
        },
        {
         "line": {
          "color": "#3f3f3f"
         },
         "mode": "lines",
         "name": "Order=1",
         "showlegend": false,
         "type": "scattergl",
         "x": [
          13,
          13
         ],
         "xaxis": "x5",
         "y": [
          0,
          -0.0777260227221876
         ],
         "yaxis": "y5"
        },
        {
         "line": {
          "color": "#3f3f3f"
         },
         "mode": "lines",
         "name": "Order=1",
         "showlegend": false,
         "type": "scattergl",
         "x": [
          14,
          14
         ],
         "xaxis": "x5",
         "y": [
          0,
          0.18740474129765372
         ],
         "yaxis": "y5"
        },
        {
         "line": {
          "color": "#3f3f3f"
         },
         "mode": "lines",
         "name": "Order=1",
         "showlegend": false,
         "type": "scattergl",
         "x": [
          15,
          15
         ],
         "xaxis": "x5",
         "y": [
          0,
          -0.13498865344831384
         ],
         "yaxis": "y5"
        },
        {
         "line": {
          "color": "#3f3f3f"
         },
         "mode": "lines",
         "name": "Order=1",
         "showlegend": false,
         "type": "scattergl",
         "x": [
          16,
          16
         ],
         "xaxis": "x5",
         "y": [
          0,
          0.07794572971261168
         ],
         "yaxis": "y5"
        },
        {
         "line": {
          "color": "#3f3f3f"
         },
         "mode": "lines",
         "name": "Order=1",
         "showlegend": false,
         "type": "scattergl",
         "x": [
          17,
          17
         ],
         "xaxis": "x5",
         "y": [
          0,
          -0.12006083160325218
         ],
         "yaxis": "y5"
        },
        {
         "line": {
          "color": "#3f3f3f"
         },
         "mode": "lines",
         "name": "Order=1",
         "showlegend": false,
         "type": "scattergl",
         "x": [
          18,
          18
         ],
         "xaxis": "x5",
         "y": [
          0,
          0.04120637275527087
         ],
         "yaxis": "y5"
        },
        {
         "line": {
          "color": "#3f3f3f"
         },
         "mode": "lines",
         "name": "Order=1",
         "showlegend": false,
         "type": "scattergl",
         "x": [
          19,
          19
         ],
         "xaxis": "x5",
         "y": [
          0,
          -0.07251449350187439
         ],
         "yaxis": "y5"
        },
        {
         "line": {
          "color": "#3f3f3f"
         },
         "mode": "lines",
         "name": "Order=1",
         "showlegend": false,
         "type": "scattergl",
         "x": [
          20,
          20
         ],
         "xaxis": "x5",
         "y": [
          0,
          0.029485632503425896
         ],
         "yaxis": "y5"
        },
        {
         "line": {
          "color": "#3f3f3f"
         },
         "mode": "lines",
         "name": "Order=1",
         "showlegend": false,
         "type": "scattergl",
         "x": [
          21,
          21
         ],
         "xaxis": "x5",
         "y": [
          0,
          -0.055314467372090094
         ],
         "yaxis": "y5"
        },
        {
         "line": {
          "color": "#3f3f3f"
         },
         "mode": "lines",
         "name": "Order=1",
         "showlegend": false,
         "type": "scattergl",
         "x": [
          22,
          22
         ],
         "xaxis": "x5",
         "y": [
          0,
          0.20029411167385547
         ],
         "yaxis": "y5"
        },
        {
         "line": {
          "color": "#3f3f3f"
         },
         "mode": "lines",
         "name": "Order=1",
         "showlegend": false,
         "type": "scattergl",
         "x": [
          23,
          23
         ],
         "xaxis": "x5",
         "y": [
          0,
          -0.2584199556497839
         ],
         "yaxis": "y5"
        },
        {
         "line": {
          "color": "#3f3f3f"
         },
         "mode": "lines",
         "name": "Order=1",
         "showlegend": false,
         "type": "scattergl",
         "x": [
          24,
          24
         ],
         "xaxis": "x5",
         "y": [
          0,
          0.11210877308211396
         ],
         "yaxis": "y5"
        },
        {
         "line": {
          "color": "#3f3f3f"
         },
         "mode": "lines",
         "name": "Order=1",
         "showlegend": false,
         "type": "scattergl",
         "x": [
          25,
          25
         ],
         "xaxis": "x5",
         "y": [
          0,
          0.11812780300804189
         ],
         "yaxis": "y5"
        },
        {
         "line": {
          "color": "#3f3f3f"
         },
         "mode": "lines",
         "name": "Order=1",
         "showlegend": false,
         "type": "scattergl",
         "x": [
          26,
          26
         ],
         "xaxis": "x5",
         "y": [
          0,
          -0.05455489960259149
         ],
         "yaxis": "y5"
        },
        {
         "line": {
          "color": "#3f3f3f"
         },
         "mode": "lines",
         "name": "Order=1",
         "showlegend": false,
         "type": "scattergl",
         "x": [
          27,
          27
         ],
         "xaxis": "x5",
         "y": [
          0,
          -0.009126039749690666
         ],
         "yaxis": "y5"
        },
        {
         "line": {
          "color": "#3f3f3f"
         },
         "mode": "lines",
         "name": "Order=1",
         "showlegend": false,
         "type": "scattergl",
         "x": [
          28,
          28
         ],
         "xaxis": "x5",
         "y": [
          0,
          0.07127831699555405
         ],
         "yaxis": "y5"
        },
        {
         "line": {
          "color": "#3f3f3f"
         },
         "mode": "lines",
         "name": "Order=1",
         "showlegend": false,
         "type": "scattergl",
         "x": [
          29,
          29
         ],
         "xaxis": "x5",
         "y": [
          0,
          -0.10157987604434704
         ],
         "yaxis": "y5"
        },
        {
         "line": {
          "color": "#3f3f3f"
         },
         "mode": "lines",
         "name": "Order=1",
         "showlegend": false,
         "type": "scattergl",
         "x": [
          30,
          30
         ],
         "xaxis": "x5",
         "y": [
          0,
          0.01332360957578867
         ],
         "yaxis": "y5"
        },
        {
         "line": {
          "color": "#3f3f3f"
         },
         "mode": "lines",
         "name": "Order=1",
         "showlegend": false,
         "type": "scattergl",
         "x": [
          31,
          31
         ],
         "xaxis": "x5",
         "y": [
          0,
          -0.07418498816341987
         ],
         "yaxis": "y5"
        },
        {
         "line": {
          "color": "#3f3f3f"
         },
         "mode": "lines",
         "name": "Order=1",
         "showlegend": false,
         "type": "scattergl",
         "x": [
          32,
          32
         ],
         "xaxis": "x5",
         "y": [
          0,
          0.07957979458967615
         ],
         "yaxis": "y5"
        },
        {
         "line": {
          "color": "#3f3f3f"
         },
         "mode": "lines",
         "name": "Order=1",
         "showlegend": false,
         "type": "scattergl",
         "x": [
          33,
          33
         ],
         "xaxis": "x5",
         "y": [
          0,
          -0.004495525206505295
         ],
         "yaxis": "y5"
        },
        {
         "line": {
          "color": "#3f3f3f"
         },
         "mode": "lines",
         "name": "Order=1",
         "showlegend": false,
         "type": "scattergl",
         "x": [
          34,
          34
         ],
         "xaxis": "x5",
         "y": [
          0,
          -0.11298375963951578
         ],
         "yaxis": "y5"
        },
        {
         "line": {
          "color": "#3f3f3f"
         },
         "mode": "lines",
         "name": "Order=1",
         "showlegend": false,
         "type": "scattergl",
         "x": [
          35,
          35
         ],
         "xaxis": "x5",
         "y": [
          0,
          0.12222575631424082
         ],
         "yaxis": "y5"
        },
        {
         "line": {
          "color": "#3f3f3f"
         },
         "mode": "lines",
         "name": "Order=1",
         "showlegend": false,
         "type": "scattergl",
         "x": [
          36,
          36
         ],
         "xaxis": "x5",
         "y": [
          0,
          0.10617751824197895
         ],
         "yaxis": "y5"
        },
        {
         "line": {
          "color": "#3f3f3f"
         },
         "mode": "lines",
         "name": "Order=1",
         "showlegend": false,
         "type": "scattergl",
         "x": [
          37,
          37
         ],
         "xaxis": "x5",
         "y": [
          0,
          -0.10124500917168908
         ],
         "yaxis": "y5"
        },
        {
         "line": {
          "color": "#3f3f3f"
         },
         "mode": "lines",
         "name": "Order=1",
         "showlegend": false,
         "type": "scattergl",
         "x": [
          38,
          38
         ],
         "xaxis": "x5",
         "y": [
          0,
          -0.04030186381529772
         ],
         "yaxis": "y5"
        },
        {
         "line": {
          "color": "#3f3f3f"
         },
         "mode": "lines",
         "name": "Order=1",
         "showlegend": false,
         "type": "scattergl",
         "x": [
          39,
          39
         ],
         "xaxis": "x5",
         "y": [
          0,
          0.024345277055960745
         ],
         "yaxis": "y5"
        },
        {
         "line": {
          "color": "#3f3f3f"
         },
         "mode": "lines",
         "name": "Order=1",
         "showlegend": false,
         "type": "scattergl",
         "x": [
          40,
          40
         ],
         "xaxis": "x5",
         "y": [
          0,
          0.008385118718946885
         ],
         "yaxis": "y5"
        },
        {
         "marker": {
          "color": "#1f77b4",
          "size": 6
         },
         "mode": "markers",
         "name": "Order=1",
         "showlegend": false,
         "type": "scattergl",
         "x": [
          0,
          1,
          2,
          3,
          4,
          5,
          6,
          7,
          8,
          9,
          10,
          11,
          12,
          13,
          14,
          15,
          16,
          17,
          18,
          19,
          20,
          21,
          22,
          23,
          24,
          25,
          26,
          27,
          28,
          29,
          30,
          31,
          32,
          33,
          34,
          35,
          36,
          37,
          38,
          39,
          40
         ],
         "xaxis": "x5",
         "y": [
          1,
          -0.3130329806723538,
          -0.09096110379792328,
          -0.11160445399066703,
          0.08558727163843392,
          -0.057139171918995646,
          -0.023174997333558853,
          -0.04459924318700263,
          0.08675110336733904,
          -0.12960284691982168,
          -0.09794316038249964,
          0.37055329914972956,
          -0.13048492309929233,
          -0.0777260227221876,
          0.18740474129765372,
          -0.13498865344831384,
          0.07794572971261168,
          -0.12006083160325218,
          0.04120637275527087,
          -0.07251449350187439,
          0.029485632503425896,
          -0.055314467372090094,
          0.20029411167385547,
          -0.2584199556497839,
          0.11210877308211396,
          0.11812780300804189,
          -0.05455489960259149,
          -0.009126039749690666,
          0.07127831699555405,
          -0.10157987604434704,
          0.01332360957578867,
          -0.07418498816341987,
          0.07957979458967615,
          -0.004495525206505295,
          -0.11298375963951578,
          0.12222575631424082,
          0.10617751824197895,
          -0.10124500917168908,
          -0.04030186381529772,
          0.024345277055960745,
          0.008385118718946885
         ],
         "yaxis": "y5"
        },
        {
         "line": {
          "color": "rgba(255,255,255,0)"
         },
         "mode": "lines",
         "name": "UC",
         "showlegend": false,
         "type": "scatter",
         "x": [
          0,
          1,
          2,
          3,
          4,
          5,
          6,
          7,
          8,
          9,
          10,
          11,
          12,
          13,
          14,
          15,
          16,
          17,
          18,
          19,
          20,
          21,
          22,
          23,
          24,
          25,
          26,
          27,
          28,
          29,
          30,
          31,
          32,
          33,
          34,
          35,
          36,
          37,
          38,
          39,
          40
         ],
         "xaxis": "x5",
         "y": [
          0,
          0.2717981017046875,
          0.29724068233492285,
          0.2992899633561781,
          0.30234875651164483,
          0.3041332840465683,
          0.3049252958478904,
          0.30505538651426617,
          0.3055366984616153,
          0.30735092700584354,
          0.3113620198373818,
          0.31362977802292713,
          0.3444574507592687,
          0.3480898540338364,
          0.34936963820755407,
          0.356718583518474,
          0.36047248174288926,
          0.3617154420682549,
          0.3646474953100621,
          0.36499132523715994,
          0.3660540679241194,
          0.36622948200514793,
          0.3668461501579159,
          0.37483787045466543,
          0.38777596291482747,
          0.3901629854439343,
          0.3927962103763266,
          0.39335556078358624,
          0.3933712017513933,
          0.3943241721541765,
          0.39625255901359197,
          0.3962856527969373,
          0.39731025545352994,
          0.39848603675788863,
          0.39848978336853585,
          0.4008493042654516,
          0.40359310987714037,
          0.40565140767011987,
          0.40751388608281514,
          0.4078082224175374,
          0.40791557417156166
         ],
         "yaxis": "y5"
        },
        {
         "fill": "tonexty",
         "fillcolor": "rgba(32, 146, 230,0.3)",
         "line": {
          "color": "rgba(255,255,255,0)"
         },
         "mode": "lines",
         "name": "LC",
         "showlegend": false,
         "type": "scatter",
         "x": [
          0,
          1,
          2,
          3,
          4,
          5,
          6,
          7,
          8,
          9,
          10,
          11,
          12,
          13,
          14,
          15,
          16,
          17,
          18,
          19,
          20,
          21,
          22,
          23,
          24,
          25,
          26,
          27,
          28,
          29,
          30,
          31,
          32,
          33,
          34,
          35,
          36,
          37,
          38,
          39,
          40
         ],
         "xaxis": "x5",
         "y": [
          0,
          -0.2717981017046875,
          -0.29724068233492285,
          -0.2992899633561781,
          -0.30234875651164483,
          -0.3041332840465683,
          -0.3049252958478904,
          -0.30505538651426617,
          -0.3055366984616153,
          -0.30735092700584354,
          -0.3113620198373819,
          -0.3136297780229272,
          -0.3444574507592687,
          -0.3480898540338364,
          -0.3493696382075541,
          -0.356718583518474,
          -0.3604724817428894,
          -0.3617154420682549,
          -0.3646474953100621,
          -0.36499132523715994,
          -0.3660540679241194,
          -0.36622948200514793,
          -0.3668461501579159,
          -0.3748378704546654,
          -0.38777596291482747,
          -0.3901629854439343,
          -0.3927962103763266,
          -0.39335556078358624,
          -0.3933712017513933,
          -0.3943241721541765,
          -0.39625255901359197,
          -0.3962856527969373,
          -0.3973102554535298,
          -0.39848603675788863,
          -0.3984897833685358,
          -0.4008493042654516,
          -0.40359310987714037,
          -0.40565140767011976,
          -0.40751388608281514,
          -0.4078082224175374,
          -0.40791557417156166
         ],
         "yaxis": "y5"
        },
        {
         "line": {
          "color": "#3f3f3f"
         },
         "mode": "lines",
         "name": "Order=1",
         "showlegend": false,
         "type": "scattergl",
         "x": [
          0,
          0
         ],
         "xaxis": "x6",
         "y": [
          0,
          1
         ],
         "yaxis": "y6"
        },
        {
         "line": {
          "color": "#3f3f3f"
         },
         "mode": "lines",
         "name": "Order=1",
         "showlegend": false,
         "type": "scattergl",
         "x": [
          1,
          1
         ],
         "xaxis": "x6",
         "y": [
          0,
          -0.3191708822541646
         ],
         "yaxis": "y6"
        },
        {
         "line": {
          "color": "#3f3f3f"
         },
         "mode": "lines",
         "name": "Order=1",
         "showlegend": false,
         "type": "scattergl",
         "x": [
          2,
          2
         ],
         "xaxis": "x6",
         "y": [
          0,
          -0.21875409063411186
         ],
         "yaxis": "y6"
        },
        {
         "line": {
          "color": "#3f3f3f"
         },
         "mode": "lines",
         "name": "Order=1",
         "showlegend": false,
         "type": "scattergl",
         "x": [
          3,
          3
         ],
         "xaxis": "x6",
         "y": [
          0,
          -0.26317639936295
         ],
         "yaxis": "y6"
        },
        {
         "line": {
          "color": "#3f3f3f"
         },
         "mode": "lines",
         "name": "Order=1",
         "showlegend": false,
         "type": "scattergl",
         "x": [
          4,
          4
         ],
         "xaxis": "x6",
         "y": [
          0,
          -0.09366092439895898
         ],
         "yaxis": "y6"
        },
        {
         "line": {
          "color": "#3f3f3f"
         },
         "mode": "lines",
         "name": "Order=1",
         "showlegend": false,
         "type": "scattergl",
         "x": [
          5,
          5
         ],
         "xaxis": "x6",
         "y": [
          0,
          -0.1519379598152622
         ],
         "yaxis": "y6"
        },
        {
         "line": {
          "color": "#3f3f3f"
         },
         "mode": "lines",
         "name": "Order=1",
         "showlegend": false,
         "type": "scattergl",
         "x": [
          6,
          6
         ],
         "xaxis": "x6",
         "y": [
          0,
          -0.16425657277648165
         ],
         "yaxis": "y6"
        },
        {
         "line": {
          "color": "#3f3f3f"
         },
         "mode": "lines",
         "name": "Order=1",
         "showlegend": false,
         "type": "scattergl",
         "x": [
          7,
          7
         ],
         "xaxis": "x6",
         "y": [
          0,
          -0.20631152831177957
         ],
         "yaxis": "y6"
        },
        {
         "line": {
          "color": "#3f3f3f"
         },
         "mode": "lines",
         "name": "Order=1",
         "showlegend": false,
         "type": "scattergl",
         "x": [
          8,
          8
         ],
         "xaxis": "x6",
         "y": [
          0,
          -0.09344536126394704
         ],
         "yaxis": "y6"
        },
        {
         "line": {
          "color": "#3f3f3f"
         },
         "mode": "lines",
         "name": "Order=1",
         "showlegend": false,
         "type": "scattergl",
         "x": [
          9,
          9
         ],
         "xaxis": "x6",
         "y": [
          0,
          -0.3050553451651378
         ],
         "yaxis": "y6"
        },
        {
         "line": {
          "color": "#3f3f3f"
         },
         "mode": "lines",
         "name": "Order=1",
         "showlegend": false,
         "type": "scattergl",
         "x": [
          10,
          10
         ],
         "xaxis": "x6",
         "y": [
          0,
          -0.5496776822444396
         ],
         "yaxis": "y6"
        },
        {
         "line": {
          "color": "#3f3f3f"
         },
         "mode": "lines",
         "name": "Order=1",
         "showlegend": false,
         "type": "scattergl",
         "x": [
          11,
          11
         ],
         "xaxis": "x6",
         "y": [
          0,
          0.02502160988301713
         ],
         "yaxis": "y6"
        },
        {
         "line": {
          "color": "#3f3f3f"
         },
         "mode": "lines",
         "name": "Order=1",
         "showlegend": false,
         "type": "scattergl",
         "x": [
          12,
          12
         ],
         "xaxis": "x6",
         "y": [
          0,
          -0.27027772182160525
         ],
         "yaxis": "y6"
        },
        {
         "line": {
          "color": "#3f3f3f"
         },
         "mode": "lines",
         "name": "Order=1",
         "showlegend": false,
         "type": "scattergl",
         "x": [
          13,
          13
         ],
         "xaxis": "x6",
         "y": [
          0,
          -0.5161510806086116
         ],
         "yaxis": "y6"
        },
        {
         "line": {
          "color": "#3f3f3f"
         },
         "mode": "lines",
         "name": "Order=1",
         "showlegend": false,
         "type": "scattergl",
         "x": [
          14,
          14
         ],
         "xaxis": "x6",
         "y": [
          0,
          0.16060458695001045
         ],
         "yaxis": "y6"
        },
        {
         "line": {
          "color": "#3f3f3f"
         },
         "mode": "lines",
         "name": "Order=1",
         "showlegend": false,
         "type": "scattergl",
         "x": [
          15,
          15
         ],
         "xaxis": "x6",
         "y": [
          0,
          -0.4080985638468332
         ],
         "yaxis": "y6"
        },
        {
         "line": {
          "color": "#3f3f3f"
         },
         "mode": "lines",
         "name": "Order=1",
         "showlegend": false,
         "type": "scattergl",
         "x": [
          16,
          16
         ],
         "xaxis": "x6",
         "y": [
          0,
          -0.08613374284858459
         ],
         "yaxis": "y6"
        },
        {
         "line": {
          "color": "#3f3f3f"
         },
         "mode": "lines",
         "name": "Order=1",
         "showlegend": false,
         "type": "scattergl",
         "x": [
          17,
          17
         ],
         "xaxis": "x6",
         "y": [
          0,
          0.08874498266776794
         ],
         "yaxis": "y6"
        },
        {
         "marker": {
          "color": "#1f77b4",
          "size": 6
         },
         "mode": "markers",
         "name": "Order=1",
         "showlegend": false,
         "type": "scattergl",
         "x": [
          0,
          1,
          2,
          3,
          4,
          5,
          6,
          7,
          8,
          9,
          10,
          11,
          12,
          13,
          14,
          15,
          16,
          17
         ],
         "xaxis": "x6",
         "y": [
          1,
          -0.3191708822541646,
          -0.21875409063411186,
          -0.26317639936295,
          -0.09366092439895898,
          -0.1519379598152622,
          -0.16425657277648165,
          -0.20631152831177957,
          -0.09344536126394704,
          -0.3050553451651378,
          -0.5496776822444396,
          0.02502160988301713,
          -0.27027772182160525,
          -0.5161510806086116,
          0.16060458695001045,
          -0.4080985638468332,
          -0.08613374284858459,
          0.08874498266776794
         ],
         "yaxis": "y6"
        },
        {
         "line": {
          "color": "rgba(255,255,255,0)"
         },
         "mode": "lines",
         "name": "UC",
         "showlegend": false,
         "type": "scatter",
         "x": [
          0,
          1,
          2,
          3,
          4,
          5,
          6,
          7,
          8,
          9,
          10,
          11,
          12,
          13,
          14,
          15,
          16,
          17
         ],
         "xaxis": "x6",
         "y": [
          0,
          0.2717981017046875,
          0.2717981017046875,
          0.2717981017046875,
          0.2717981017046875,
          0.2717981017046875,
          0.2717981017046875,
          0.2717981017046875,
          0.2717981017046875,
          0.2717981017046875,
          0.2717981017046875,
          0.2717981017046875,
          0.2717981017046875,
          0.2717981017046875,
          0.2717981017046875,
          0.2717981017046875,
          0.2717981017046875,
          0.2717981017046875
         ],
         "yaxis": "y6"
        },
        {
         "fill": "tonexty",
         "fillcolor": "rgba(32, 146, 230,0.3)",
         "line": {
          "color": "rgba(255,255,255,0)"
         },
         "mode": "lines",
         "name": "LC",
         "showlegend": false,
         "type": "scatter",
         "x": [
          0,
          1,
          2,
          3,
          4,
          5,
          6,
          7,
          8,
          9,
          10,
          11,
          12,
          13,
          14,
          15,
          16,
          17
         ],
         "xaxis": "x6",
         "y": [
          0,
          -0.2717981017046875,
          -0.27179810170468743,
          -0.27179810170468743,
          -0.27179810170468743,
          -0.2717981017046875,
          -0.2717981017046875,
          -0.2717981017046875,
          -0.2717981017046875,
          -0.2717981017046875,
          -0.27179810170468754,
          -0.2717981017046875,
          -0.27179810170468754,
          -0.27179810170468754,
          -0.2717981017046875,
          -0.27179810170468743,
          -0.2717981017046875,
          -0.2717981017046875
         ],
         "yaxis": "y6"
        },
        {
         "line": {
          "color": "rgb(31, 119, 180)",
          "width": 2
         },
         "marker": {
          "color": "rgb(31, 119, 180)",
          "size": 5
         },
         "mode": "lines+markers",
         "name": "Order=2",
         "showlegend": false,
         "type": "scattergl",
         "x": [
          "2020-03-01T00:00:00",
          "2020-04-01T00:00:00",
          "2020-05-01T00:00:00",
          "2020-06-01T00:00:00",
          "2020-07-01T00:00:00",
          "2020-08-01T00:00:00",
          "2020-09-01T00:00:00",
          "2020-10-01T00:00:00",
          "2020-11-01T00:00:00",
          "2020-12-01T00:00:00",
          "2021-01-01T00:00:00",
          "2021-02-01T00:00:00",
          "2021-03-01T00:00:00",
          "2021-04-01T00:00:00",
          "2021-05-01T00:00:00",
          "2021-06-01T00:00:00",
          "2021-07-01T00:00:00",
          "2021-08-01T00:00:00",
          "2021-09-01T00:00:00",
          "2021-10-01T00:00:00",
          "2021-11-01T00:00:00",
          "2021-12-01T00:00:00",
          "2022-01-01T00:00:00",
          "2022-02-01T00:00:00",
          "2022-03-01T00:00:00",
          "2022-04-01T00:00:00",
          "2022-05-01T00:00:00",
          "2022-06-01T00:00:00",
          "2022-07-01T00:00:00",
          "2022-08-01T00:00:00",
          "2022-09-01T00:00:00",
          "2022-10-01T00:00:00",
          "2022-11-01T00:00:00",
          "2022-12-01T00:00:00",
          "2023-01-01T00:00:00",
          "2023-02-01T00:00:00",
          "2023-03-01T00:00:00",
          "2023-04-01T00:00:00",
          "2023-05-01T00:00:00",
          "2023-06-01T00:00:00",
          "2023-07-01T00:00:00",
          "2023-08-01T00:00:00",
          "2023-09-01T00:00:00",
          "2023-10-01T00:00:00",
          "2023-11-01T00:00:00",
          "2023-12-01T00:00:00",
          "2024-01-01T00:00:00",
          "2024-02-01T00:00:00",
          "2024-03-01T00:00:00",
          "2024-04-01T00:00:00",
          "2024-05-01T00:00:00"
         ],
         "xaxis": "x7",
         "y": [
          -27476,
          8466,
          29449,
          -18339,
          -37619,
          51479,
          -27278,
          -9670,
          39788,
          -21816,
          9220,
          -35289,
          63915,
          87580,
          -183273,
          -18016,
          77316,
          -17655,
          10616,
          -13413,
          2857,
          95029,
          -98504,
          21950,
          -29759,
          38330,
          29724,
          67126,
          -250782,
          136218,
          -39860,
          68260,
          -34784,
          55947,
          -25848,
          -47443,
          -9642,
          121676,
          70111,
          -274879,
          126865,
          -22435,
          -53091,
          122572,
          -146513,
          213600,
          -175150,
          68818,
          16669,
          62037,
          -250855
         ],
         "yaxis": "y7"
        },
        {
         "line": {
          "color": "#3f3f3f"
         },
         "mode": "lines",
         "name": "Order=2",
         "showlegend": false,
         "type": "scattergl",
         "x": [
          0,
          0
         ],
         "xaxis": "x8",
         "y": [
          0,
          1
         ],
         "yaxis": "y8"
        },
        {
         "line": {
          "color": "#3f3f3f"
         },
         "mode": "lines",
         "name": "Order=2",
         "showlegend": false,
         "type": "scattergl",
         "x": [
          1,
          1
         ],
         "xaxis": "x8",
         "y": [
          0,
          -0.5319268071565253
         ],
         "yaxis": "y8"
        },
        {
         "line": {
          "color": "#3f3f3f"
         },
         "mode": "lines",
         "name": "Order=2",
         "showlegend": false,
         "type": "scattergl",
         "x": [
          2,
          2
         ],
         "xaxis": "x8",
         "y": [
          0,
          0.07688234990861115
         ],
         "yaxis": "y8"
        },
        {
         "line": {
          "color": "#3f3f3f"
         },
         "mode": "lines",
         "name": "Order=2",
         "showlegend": false,
         "type": "scattergl",
         "x": [
          3,
          3
         ],
         "xaxis": "x8",
         "y": [
          0,
          -0.09399450733458707
         ],
         "yaxis": "y8"
        },
        {
         "line": {
          "color": "#3f3f3f"
         },
         "mode": "lines",
         "name": "Order=2",
         "showlegend": false,
         "type": "scattergl",
         "x": [
          4,
          4
         ],
         "xaxis": "x8",
         "y": [
          0,
          0.11370691665100305
         ],
         "yaxis": "y8"
        },
        {
         "line": {
          "color": "#3f3f3f"
         },
         "mode": "lines",
         "name": "Order=2",
         "showlegend": false,
         "type": "scattergl",
         "x": [
          5,
          5
         ],
         "xaxis": "x8",
         "y": [
          0,
          -0.01095551411410631
         ],
         "yaxis": "y8"
        },
        {
         "line": {
          "color": "#3f3f3f"
         },
         "mode": "lines",
         "name": "Order=2",
         "showlegend": false,
         "type": "scattergl",
         "x": [
          6,
          6
         ],
         "xaxis": "x8",
         "y": [
          0,
          -0.05089792202403779
         ],
         "yaxis": "y8"
        },
        {
         "line": {
          "color": "#3f3f3f"
         },
         "mode": "lines",
         "name": "Order=2",
         "showlegend": false,
         "type": "scattergl",
         "x": [
          7,
          7
         ],
         "xaxis": "x8",
         "y": [
          0,
          -0.011818780848715646
         ],
         "yaxis": "y8"
        },
        {
         "line": {
          "color": "#3f3f3f"
         },
         "mode": "lines",
         "name": "Order=2",
         "showlegend": false,
         "type": "scattergl",
         "x": [
          8,
          8
         ],
         "xaxis": "x8",
         "y": [
          0,
          0.09875370588661461
         ],
         "yaxis": "y8"
        },
        {
         "line": {
          "color": "#3f3f3f"
         },
         "mode": "lines",
         "name": "Order=2",
         "showlegend": false,
         "type": "scattergl",
         "x": [
          9,
          9
         ],
         "xaxis": "x8",
         "y": [
          0,
          -0.08365699985493345
         ],
         "yaxis": "y8"
        },
        {
         "line": {
          "color": "#3f3f3f"
         },
         "mode": "lines",
         "name": "Order=2",
         "showlegend": false,
         "type": "scattergl",
         "x": [
          10,
          10
         ],
         "xaxis": "x8",
         "y": [
          0,
          -0.16759367987864554
         ],
         "yaxis": "y8"
        },
        {
         "line": {
          "color": "#3f3f3f"
         },
         "mode": "lines",
         "name": "Order=2",
         "showlegend": false,
         "type": "scattergl",
         "x": [
          11,
          11
         ],
         "xaxis": "x8",
         "y": [
          0,
          0.3458878412868427
         ],
         "yaxis": "y8"
        },
        {
         "line": {
          "color": "#3f3f3f"
         },
         "mode": "lines",
         "name": "Order=2",
         "showlegend": false,
         "type": "scattergl",
         "x": [
          12,
          12
         ],
         "xaxis": "x8",
         "y": [
          0,
          -0.1294181709173147
         ],
         "yaxis": "y8"
        },
        {
         "line": {
          "color": "#3f3f3f"
         },
         "mode": "lines",
         "name": "Order=2",
         "showlegend": false,
         "type": "scattergl",
         "x": [
          13,
          13
         ],
         "xaxis": "x8",
         "y": [
          0,
          -0.11032373116944232
         ],
         "yaxis": "y8"
        },
        {
         "line": {
          "color": "#3f3f3f"
         },
         "mode": "lines",
         "name": "Order=2",
         "showlegend": false,
         "type": "scattergl",
         "x": [
          14,
          14
         ],
         "xaxis": "x8",
         "y": [
          0,
          0.19165830357287933
         ],
         "yaxis": "y8"
        },
        {
         "line": {
          "color": "#3f3f3f"
         },
         "mode": "lines",
         "name": "Order=2",
         "showlegend": false,
         "type": "scattergl",
         "x": [
          15,
          15
         ],
         "xaxis": "x8",
         "y": [
          0,
          -0.20673716303706582
         ],
         "yaxis": "y8"
        },
        {
         "line": {
          "color": "#3f3f3f"
         },
         "mode": "lines",
         "name": "Order=2",
         "showlegend": false,
         "type": "scattergl",
         "x": [
          16,
          16
         ],
         "xaxis": "x8",
         "y": [
          0,
          0.18151942188075057
         ],
         "yaxis": "y8"
        },
        {
         "line": {
          "color": "#3f3f3f"
         },
         "mode": "lines",
         "name": "Order=2",
         "showlegend": false,
         "type": "scattergl",
         "x": [
          17,
          17
         ],
         "xaxis": "x8",
         "y": [
          0,
          -0.13804064297697377
         ],
         "yaxis": "y8"
        },
        {
         "line": {
          "color": "#3f3f3f"
         },
         "mode": "lines",
         "name": "Order=2",
         "showlegend": false,
         "type": "scattergl",
         "x": [
          18,
          18
         ],
         "xaxis": "x8",
         "y": [
          0,
          0.09199964908665127
         ],
         "yaxis": "y8"
        },
        {
         "line": {
          "color": "#3f3f3f"
         },
         "mode": "lines",
         "name": "Order=2",
         "showlegend": false,
         "type": "scattergl",
         "x": [
          19,
          19
         ],
         "xaxis": "x8",
         "y": [
          0,
          -0.07568123080932584
         ],
         "yaxis": "y8"
        },
        {
         "line": {
          "color": "#3f3f3f"
         },
         "mode": "lines",
         "name": "Order=2",
         "showlegend": false,
         "type": "scattergl",
         "x": [
          20,
          20
         ],
         "xaxis": "x8",
         "y": [
          0,
          0.0521226439381375
         ],
         "yaxis": "y8"
        },
        {
         "line": {
          "color": "#3f3f3f"
         },
         "mode": "lines",
         "name": "Order=2",
         "showlegend": false,
         "type": "scattergl",
         "x": [
          21,
          21
         ],
         "xaxis": "x8",
         "y": [
          0,
          -0.12402649586799692
         ],
         "yaxis": "y8"
        },
        {
         "line": {
          "color": "#3f3f3f"
         },
         "mode": "lines",
         "name": "Order=2",
         "showlegend": false,
         "type": "scattergl",
         "x": [
          22,
          22
         ],
         "xaxis": "x8",
         "y": [
          0,
          0.23696291238803924
         ],
         "yaxis": "y8"
        },
        {
         "line": {
          "color": "#3f3f3f"
         },
         "mode": "lines",
         "name": "Order=2",
         "showlegend": false,
         "type": "scattergl",
         "x": [
          23,
          23
         ],
         "xaxis": "x8",
         "y": [
          0,
          -0.24683073204980668
         ],
         "yaxis": "y8"
        },
        {
         "line": {
          "color": "#3f3f3f"
         },
         "mode": "lines",
         "name": "Order=2",
         "showlegend": false,
         "type": "scattergl",
         "x": [
          24,
          24
         ],
         "xaxis": "x8",
         "y": [
          0,
          0.12322593113182682
         ],
         "yaxis": "y8"
        },
        {
         "line": {
          "color": "#3f3f3f"
         },
         "mode": "lines",
         "name": "Order=2",
         "showlegend": false,
         "type": "scattergl",
         "x": [
          25,
          25
         ],
         "xaxis": "x8",
         "y": [
          0,
          0.06244007955404136
         ],
         "yaxis": "y8"
        },
        {
         "line": {
          "color": "#3f3f3f"
         },
         "mode": "lines",
         "name": "Order=2",
         "showlegend": false,
         "type": "scattergl",
         "x": [
          26,
          26
         ],
         "xaxis": "x8",
         "y": [
          0,
          -0.10226796748249632
         ],
         "yaxis": "y8"
        },
        {
         "line": {
          "color": "#3f3f3f"
         },
         "mode": "lines",
         "name": "Order=2",
         "showlegend": false,
         "type": "scattergl",
         "x": [
          27,
          27
         ],
         "xaxis": "x8",
         "y": [
          0,
          -0.005957790981046616
         ],
         "yaxis": "y8"
        },
        {
         "line": {
          "color": "#3f3f3f"
         },
         "mode": "lines",
         "name": "Order=2",
         "showlegend": false,
         "type": "scattergl",
         "x": [
          28,
          28
         ],
         "xaxis": "x8",
         "y": [
          0,
          0.0909573432913626
         ],
         "yaxis": "y8"
        },
        {
         "line": {
          "color": "#3f3f3f"
         },
         "mode": "lines",
         "name": "Order=2",
         "showlegend": false,
         "type": "scattergl",
         "x": [
          29,
          29
         ],
         "xaxis": "x8",
         "y": [
          0,
          -0.07493802452766828
         ],
         "yaxis": "y8"
        },
        {
         "line": {
          "color": "#3f3f3f"
         },
         "mode": "lines",
         "name": "Order=2",
         "showlegend": false,
         "type": "scattergl",
         "x": [
          30,
          30
         ],
         "xaxis": "x8",
         "y": [
          0,
          0.04515716609877569
         ],
         "yaxis": "y8"
        },
        {
         "line": {
          "color": "#3f3f3f"
         },
         "mode": "lines",
         "name": "Order=2",
         "showlegend": false,
         "type": "scattergl",
         "x": [
          31,
          31
         ],
         "xaxis": "x8",
         "y": [
          0,
          -0.0972527705465441
         ],
         "yaxis": "y8"
        },
        {
         "line": {
          "color": "#3f3f3f"
         },
         "mode": "lines",
         "name": "Order=2",
         "showlegend": false,
         "type": "scattergl",
         "x": [
          32,
          32
         ],
         "xaxis": "x8",
         "y": [
          0,
          0.09705033916232642
         ],
         "yaxis": "y8"
        },
        {
         "line": {
          "color": "#3f3f3f"
         },
         "mode": "lines",
         "name": "Order=2",
         "showlegend": false,
         "type": "scattergl",
         "x": [
          33,
          33
         ],
         "xaxis": "x8",
         "y": [
          0,
          0.006465632550399597
         ],
         "yaxis": "y8"
        },
        {
         "line": {
          "color": "#3f3f3f"
         },
         "mode": "lines",
         "name": "Order=2",
         "showlegend": false,
         "type": "scattergl",
         "x": [
          34,
          34
         ],
         "xaxis": "x8",
         "y": [
          0,
          -0.13488037281458878
         ],
         "yaxis": "y8"
        },
        {
         "line": {
          "color": "#3f3f3f"
         },
         "mode": "lines",
         "name": "Order=2",
         "showlegend": false,
         "type": "scattergl",
         "x": [
          35,
          35
         ],
         "xaxis": "x8",
         "y": [
          0,
          0.07454441002570354
         ],
         "yaxis": "y8"
        },
        {
         "line": {
          "color": "#3f3f3f"
         },
         "mode": "lines",
         "name": "Order=2",
         "showlegend": false,
         "type": "scattergl",
         "x": [
          36,
          36
         ],
         "xaxis": "x8",
         "y": [
          0,
          0.08311213499808054
         ],
         "yaxis": "y8"
        },
        {
         "line": {
          "color": "#3f3f3f"
         },
         "mode": "lines",
         "name": "Order=2",
         "showlegend": false,
         "type": "scattergl",
         "x": [
          37,
          37
         ],
         "xaxis": "x8",
         "y": [
          0,
          -0.046538600931825734
         ],
         "yaxis": "y8"
        },
        {
         "line": {
          "color": "#3f3f3f"
         },
         "mode": "lines",
         "name": "Order=2",
         "showlegend": false,
         "type": "scattergl",
         "x": [
          38,
          38
         ],
         "xaxis": "x8",
         "y": [
          0,
          -0.03517014857614382
         ],
         "yaxis": "y8"
        },
        {
         "line": {
          "color": "#3f3f3f"
         },
         "mode": "lines",
         "name": "Order=2",
         "showlegend": false,
         "type": "scattergl",
         "x": [
          39,
          39
         ],
         "xaxis": "x8",
         "y": [
          0,
          0.007022966001436042
         ],
         "yaxis": "y8"
        },
        {
         "line": {
          "color": "#3f3f3f"
         },
         "mode": "lines",
         "name": "Order=2",
         "showlegend": false,
         "type": "scattergl",
         "x": [
          40,
          40
         ],
         "xaxis": "x8",
         "y": [
          0,
          0.020933954218000622
         ],
         "yaxis": "y8"
        },
        {
         "marker": {
          "color": "#1f77b4",
          "size": 6
         },
         "mode": "markers",
         "name": "Order=2",
         "showlegend": false,
         "type": "scattergl",
         "x": [
          0,
          1,
          2,
          3,
          4,
          5,
          6,
          7,
          8,
          9,
          10,
          11,
          12,
          13,
          14,
          15,
          16,
          17,
          18,
          19,
          20,
          21,
          22,
          23,
          24,
          25,
          26,
          27,
          28,
          29,
          30,
          31,
          32,
          33,
          34,
          35,
          36,
          37,
          38,
          39,
          40
         ],
         "xaxis": "x8",
         "y": [
          1,
          -0.5319268071565253,
          0.07688234990861115,
          -0.09399450733458707,
          0.11370691665100305,
          -0.01095551411410631,
          -0.05089792202403779,
          -0.011818780848715646,
          0.09875370588661461,
          -0.08365699985493345,
          -0.16759367987864554,
          0.3458878412868427,
          -0.1294181709173147,
          -0.11032373116944232,
          0.19165830357287933,
          -0.20673716303706582,
          0.18151942188075057,
          -0.13804064297697377,
          0.09199964908665127,
          -0.07568123080932584,
          0.0521226439381375,
          -0.12402649586799692,
          0.23696291238803924,
          -0.24683073204980668,
          0.12322593113182682,
          0.06244007955404136,
          -0.10226796748249632,
          -0.005957790981046616,
          0.0909573432913626,
          -0.07493802452766828,
          0.04515716609877569,
          -0.0972527705465441,
          0.09705033916232642,
          0.006465632550399597,
          -0.13488037281458878,
          0.07454441002570354,
          0.08311213499808054,
          -0.046538600931825734,
          -0.03517014857614382,
          0.007022966001436042,
          0.020933954218000622
         ],
         "yaxis": "y8"
        },
        {
         "line": {
          "color": "rgba(255,255,255,0)"
         },
         "mode": "lines",
         "name": "UC",
         "showlegend": false,
         "type": "scatter",
         "x": [
          0,
          1,
          2,
          3,
          4,
          5,
          6,
          7,
          8,
          9,
          10,
          11,
          12,
          13,
          14,
          15,
          16,
          17,
          18,
          19,
          20,
          21,
          22,
          23,
          24,
          25,
          26,
          27,
          28,
          29,
          30,
          31,
          32,
          33,
          34,
          35,
          36,
          37,
          38,
          39,
          40
         ],
         "xaxis": "x8",
         "y": [
          0,
          0.27444985329636196,
          0.3434345164167642,
          0.3447284678952645,
          0.34665352178368114,
          0.34945156848076714,
          0.34947743800623216,
          0.3500353432604463,
          0.35006539992763197,
          0.3521575257606575,
          0.35365126060702534,
          0.3595837723778601,
          0.38382739486717155,
          0.38710029588776457,
          0.38946141507697835,
          0.39650200335495556,
          0.4045398166933314,
          0.410628938696361,
          0.41410953531377903,
          0.415646196359971,
          0.4166828586937863,
          0.4171736733707618,
          0.41994188656652853,
          0.42989550354198364,
          0.44044100563599614,
          0.4430302188211977,
          0.44369258023128677,
          0.44546455173994176,
          0.4454705535252389,
          0.44686725066228883,
          0.44781281856030686,
          0.4481556784022137,
          0.4497425174089028,
          0.45131721272520764,
          0.4513241896299063,
          0.45435027651413584,
          0.4552705687565327,
          0.4564119776140027,
          0.45676927156414465,
          0.45697320131807345,
          0.4569813309810662
         ],
         "yaxis": "y8"
        },
        {
         "fill": "tonexty",
         "fillcolor": "rgba(32, 146, 230,0.3)",
         "line": {
          "color": "rgba(255,255,255,0)"
         },
         "mode": "lines",
         "name": "LC",
         "showlegend": false,
         "type": "scatter",
         "x": [
          0,
          1,
          2,
          3,
          4,
          5,
          6,
          7,
          8,
          9,
          10,
          11,
          12,
          13,
          14,
          15,
          16,
          17,
          18,
          19,
          20,
          21,
          22,
          23,
          24,
          25,
          26,
          27,
          28,
          29,
          30,
          31,
          32,
          33,
          34,
          35,
          36,
          37,
          38,
          39,
          40
         ],
         "xaxis": "x8",
         "y": [
          0,
          -0.27444985329636196,
          -0.3434345164167642,
          -0.3447284678952645,
          -0.3466535217836812,
          -0.34945156848076714,
          -0.34947743800623216,
          -0.3500353432604463,
          -0.35006539992763186,
          -0.3521575257606575,
          -0.3536512606070254,
          -0.35958377237786016,
          -0.38382739486717155,
          -0.38710029588776457,
          -0.38946141507697835,
          -0.39650200335495556,
          -0.40453981669333133,
          -0.410628938696361,
          -0.414109535313779,
          -0.4156461963599709,
          -0.4166828586937863,
          -0.4171736733707618,
          -0.41994188656652853,
          -0.4298955035419837,
          -0.4404410056359962,
          -0.4430302188211977,
          -0.44369258023128677,
          -0.44546455173994176,
          -0.4454705535252389,
          -0.44686725066228883,
          -0.44781281856030686,
          -0.4481556784022137,
          -0.44974251740890286,
          -0.45131721272520764,
          -0.4513241896299064,
          -0.4543502765141359,
          -0.4552705687565327,
          -0.45641197761400276,
          -0.45676927156414465,
          -0.45697320131807345,
          -0.4569813309810662
         ],
         "yaxis": "y8"
        },
        {
         "line": {
          "color": "#3f3f3f"
         },
         "mode": "lines",
         "name": "Order=2",
         "showlegend": false,
         "type": "scattergl",
         "x": [
          0,
          0
         ],
         "xaxis": "x9",
         "y": [
          0,
          1
         ],
         "yaxis": "y9"
        },
        {
         "line": {
          "color": "#3f3f3f"
         },
         "mode": "lines",
         "name": "Order=2",
         "showlegend": false,
         "type": "scattergl",
         "x": [
          1,
          1
         ],
         "xaxis": "x9",
         "y": [
          0,
          -0.542565343299656
         ],
         "yaxis": "y9"
        },
        {
         "line": {
          "color": "#3f3f3f"
         },
         "mode": "lines",
         "name": "Order=2",
         "showlegend": false,
         "type": "scattergl",
         "x": [
          2,
          2
         ],
         "xaxis": "x9",
         "y": [
          0,
          -0.30378373840151995
         ],
         "yaxis": "y9"
        },
        {
         "line": {
          "color": "#3f3f3f"
         },
         "mode": "lines",
         "name": "Order=2",
         "showlegend": false,
         "type": "scattergl",
         "x": [
          3,
          3
         ],
         "xaxis": "x9",
         "y": [
          0,
          -0.324878507073409
         ],
         "yaxis": "y9"
        },
        {
         "line": {
          "color": "#3f3f3f"
         },
         "mode": "lines",
         "name": "Order=2",
         "showlegend": false,
         "type": "scattergl",
         "x": [
          4,
          4
         ],
         "xaxis": "x9",
         "y": [
          0,
          -0.1582950016939167
         ],
         "yaxis": "y9"
        },
        {
         "line": {
          "color": "#3f3f3f"
         },
         "mode": "lines",
         "name": "Order=2",
         "showlegend": false,
         "type": "scattergl",
         "x": [
          5,
          5
         ],
         "xaxis": "x9",
         "y": [
          0,
          -0.03177383657510459
         ],
         "yaxis": "y9"
        },
        {
         "line": {
          "color": "#3f3f3f"
         },
         "mode": "lines",
         "name": "Order=2",
         "showlegend": false,
         "type": "scattergl",
         "x": [
          6,
          6
         ],
         "xaxis": "x9",
         "y": [
          0,
          -0.07109496523848585
         ],
         "yaxis": "y9"
        },
        {
         "line": {
          "color": "#3f3f3f"
         },
         "mode": "lines",
         "name": "Order=2",
         "showlegend": false,
         "type": "scattergl",
         "x": [
          7,
          7
         ],
         "xaxis": "x9",
         "y": [
          0,
          -0.1138005020563414
         ],
         "yaxis": "y9"
        },
        {
         "line": {
          "color": "#3f3f3f"
         },
         "mode": "lines",
         "name": "Order=2",
         "showlegend": false,
         "type": "scattergl",
         "x": [
          8,
          8
         ],
         "xaxis": "x9",
         "y": [
          0,
          0.05763024713095339
         ],
         "yaxis": "y9"
        },
        {
         "line": {
          "color": "#3f3f3f"
         },
         "mode": "lines",
         "name": "Order=2",
         "showlegend": false,
         "type": "scattergl",
         "x": [
          9,
          9
         ],
         "xaxis": "x9",
         "y": [
          0,
          -0.004446913916533389
         ],
         "yaxis": "y9"
        },
        {
         "line": {
          "color": "#3f3f3f"
         },
         "mode": "lines",
         "name": "Order=2",
         "showlegend": false,
         "type": "scattergl",
         "x": [
          10,
          10
         ],
         "xaxis": "x9",
         "y": [
          0,
          -0.4431626102106899
         ],
         "yaxis": "y9"
        },
        {
         "line": {
          "color": "#3f3f3f"
         },
         "mode": "lines",
         "name": "Order=2",
         "showlegend": false,
         "type": "scattergl",
         "x": [
          11,
          11
         ],
         "xaxis": "x9",
         "y": [
          0,
          0.1060940684094107
         ],
         "yaxis": "y9"
        },
        {
         "line": {
          "color": "#3f3f3f"
         },
         "mode": "lines",
         "name": "Order=2",
         "showlegend": false,
         "type": "scattergl",
         "x": [
          12,
          12
         ],
         "xaxis": "x9",
         "y": [
          0,
          0.2513201685446199
         ],
         "yaxis": "y9"
        },
        {
         "line": {
          "color": "#3f3f3f"
         },
         "mode": "lines",
         "name": "Order=2",
         "showlegend": false,
         "type": "scattergl",
         "x": [
          13,
          13
         ],
         "xaxis": "x9",
         "y": [
          0,
          -0.20353173844715902
         ],
         "yaxis": "y9"
        },
        {
         "line": {
          "color": "#3f3f3f"
         },
         "mode": "lines",
         "name": "Order=2",
         "showlegend": false,
         "type": "scattergl",
         "x": [
          14,
          14
         ],
         "xaxis": "x9",
         "y": [
          0,
          0.4311648994008624
         ],
         "yaxis": "y9"
        },
        {
         "line": {
          "color": "#3f3f3f"
         },
         "mode": "lines",
         "name": "Order=2",
         "showlegend": false,
         "type": "scattergl",
         "x": [
          15,
          15
         ],
         "xaxis": "x9",
         "y": [
          0,
          -0.06094488509118536
         ],
         "yaxis": "y9"
        },
        {
         "line": {
          "color": "#3f3f3f"
         },
         "mode": "lines",
         "name": "Order=2",
         "showlegend": false,
         "type": "scattergl",
         "x": [
          16,
          16
         ],
         "xaxis": "x9",
         "y": [
          0,
          -0.14484411889674884
         ],
         "yaxis": "y9"
        },
        {
         "line": {
          "color": "#3f3f3f"
         },
         "mode": "lines",
         "name": "Order=2",
         "showlegend": false,
         "type": "scattergl",
         "x": [
          17,
          17
         ],
         "xaxis": "x9",
         "y": [
          0,
          0.17256336466167146
         ],
         "yaxis": "y9"
        },
        {
         "marker": {
          "color": "#1f77b4",
          "size": 6
         },
         "mode": "markers",
         "name": "Order=2",
         "showlegend": false,
         "type": "scattergl",
         "x": [
          0,
          1,
          2,
          3,
          4,
          5,
          6,
          7,
          8,
          9,
          10,
          11,
          12,
          13,
          14,
          15,
          16,
          17
         ],
         "xaxis": "x9",
         "y": [
          1,
          -0.542565343299656,
          -0.30378373840151995,
          -0.324878507073409,
          -0.1582950016939167,
          -0.03177383657510459,
          -0.07109496523848585,
          -0.1138005020563414,
          0.05763024713095339,
          -0.004446913916533389,
          -0.4431626102106899,
          0.1060940684094107,
          0.2513201685446199,
          -0.20353173844715902,
          0.4311648994008624,
          -0.06094488509118536,
          -0.14484411889674884,
          0.17256336466167146
         ],
         "yaxis": "y9"
        },
        {
         "line": {
          "color": "rgba(255,255,255,0)"
         },
         "mode": "lines",
         "name": "UC",
         "showlegend": false,
         "type": "scatter",
         "x": [
          0,
          1,
          2,
          3,
          4,
          5,
          6,
          7,
          8,
          9,
          10,
          11,
          12,
          13,
          14,
          15,
          16,
          17
         ],
         "xaxis": "x9",
         "y": [
          0,
          0.27444985329636196,
          0.27444985329636196,
          0.27444985329636196,
          0.27444985329636196,
          0.27444985329636196,
          0.27444985329636196,
          0.27444985329636196,
          0.27444985329636196,
          0.27444985329636196,
          0.27444985329636196,
          0.27444985329636196,
          0.27444985329636196,
          0.27444985329636196,
          0.2744498532963619,
          0.27444985329636196,
          0.27444985329636196,
          0.27444985329636196
         ],
         "yaxis": "y9"
        },
        {
         "fill": "tonexty",
         "fillcolor": "rgba(32, 146, 230,0.3)",
         "line": {
          "color": "rgba(255,255,255,0)"
         },
         "mode": "lines",
         "name": "LC",
         "showlegend": false,
         "type": "scatter",
         "x": [
          0,
          1,
          2,
          3,
          4,
          5,
          6,
          7,
          8,
          9,
          10,
          11,
          12,
          13,
          14,
          15,
          16,
          17
         ],
         "xaxis": "x9",
         "y": [
          0,
          -0.27444985329636196,
          -0.27444985329636196,
          -0.274449853296362,
          -0.27444985329636196,
          -0.27444985329636196,
          -0.27444985329636196,
          -0.27444985329636196,
          -0.27444985329636196,
          -0.27444985329636196,
          -0.27444985329636196,
          -0.27444985329636196,
          -0.27444985329636196,
          -0.27444985329636196,
          -0.27444985329636196,
          -0.27444985329636196,
          -0.27444985329636196,
          -0.27444985329636196
         ],
         "yaxis": "y9"
        }
       ],
       "layout": {
        "annotations": [
         {
          "font": {
           "size": 16
          },
          "showarrow": false,
          "text": "Quantity (transformed)",
          "x": 0.1411111111111111,
          "xanchor": "center",
          "xref": "paper",
          "y": 1,
          "yanchor": "bottom",
          "yref": "paper"
         },
         {
          "font": {
           "size": 16
          },
          "showarrow": false,
          "text": "ACF",
          "x": 0.49,
          "xanchor": "center",
          "xref": "paper",
          "y": 1,
          "yanchor": "bottom",
          "yref": "paper"
         },
         {
          "font": {
           "size": 16
          },
          "showarrow": false,
          "text": "PACF",
          "x": 0.8388888888888888,
          "xanchor": "center",
          "xref": "paper",
          "y": 1,
          "yanchor": "bottom",
          "yref": "paper"
         },
         {
          "font": {
           "size": 16
          },
          "showarrow": false,
          "text": "Actual",
          "textangle": 90,
          "x": 0.98,
          "xanchor": "left",
          "xref": "paper",
          "y": 0.8666666666666667,
          "yanchor": "middle",
          "yref": "paper"
         },
         {
          "font": {
           "size": 16
          },
          "showarrow": false,
          "text": "Order=1",
          "textangle": 90,
          "x": 0.98,
          "xanchor": "left",
          "xref": "paper",
          "y": 0.5,
          "yanchor": "middle",
          "yref": "paper"
         },
         {
          "font": {
           "size": 16
          },
          "showarrow": false,
          "text": "Order=2",
          "textangle": 90,
          "x": 0.98,
          "xanchor": "left",
          "xref": "paper",
          "y": 0.13333333333333333,
          "yanchor": "middle",
          "yref": "paper"
         }
        ],
        "showlegend": false,
        "template": {
         "data": {
          "bar": [
           {
            "error_x": {
             "color": "rgb(51,51,51)"
            },
            "error_y": {
             "color": "rgb(51,51,51)"
            },
            "marker": {
             "line": {
              "color": "rgb(237,237,237)",
              "width": 0.5
             },
             "pattern": {
              "fillmode": "overlay",
              "size": 10,
              "solidity": 0.2
             }
            },
            "type": "bar"
           }
          ],
          "barpolar": [
           {
            "marker": {
             "line": {
              "color": "rgb(237,237,237)",
              "width": 0.5
             },
             "pattern": {
              "fillmode": "overlay",
              "size": 10,
              "solidity": 0.2
             }
            },
            "type": "barpolar"
           }
          ],
          "carpet": [
           {
            "aaxis": {
             "endlinecolor": "rgb(51,51,51)",
             "gridcolor": "white",
             "linecolor": "white",
             "minorgridcolor": "white",
             "startlinecolor": "rgb(51,51,51)"
            },
            "baxis": {
             "endlinecolor": "rgb(51,51,51)",
             "gridcolor": "white",
             "linecolor": "white",
             "minorgridcolor": "white",
             "startlinecolor": "rgb(51,51,51)"
            },
            "type": "carpet"
           }
          ],
          "choropleth": [
           {
            "colorbar": {
             "outlinewidth": 0,
             "tickcolor": "rgb(237,237,237)",
             "ticklen": 6,
             "ticks": "inside"
            },
            "type": "choropleth"
           }
          ],
          "contour": [
           {
            "colorbar": {
             "outlinewidth": 0,
             "tickcolor": "rgb(237,237,237)",
             "ticklen": 6,
             "ticks": "inside"
            },
            "colorscale": [
             [
              0,
              "rgb(20,44,66)"
             ],
             [
              1,
              "rgb(90,179,244)"
             ]
            ],
            "type": "contour"
           }
          ],
          "contourcarpet": [
           {
            "colorbar": {
             "outlinewidth": 0,
             "tickcolor": "rgb(237,237,237)",
             "ticklen": 6,
             "ticks": "inside"
            },
            "type": "contourcarpet"
           }
          ],
          "heatmap": [
           {
            "colorbar": {
             "outlinewidth": 0,
             "tickcolor": "rgb(237,237,237)",
             "ticklen": 6,
             "ticks": "inside"
            },
            "colorscale": [
             [
              0,
              "rgb(20,44,66)"
             ],
             [
              1,
              "rgb(90,179,244)"
             ]
            ],
            "type": "heatmap"
           }
          ],
          "heatmapgl": [
           {
            "colorbar": {
             "outlinewidth": 0,
             "tickcolor": "rgb(237,237,237)",
             "ticklen": 6,
             "ticks": "inside"
            },
            "colorscale": [
             [
              0,
              "rgb(20,44,66)"
             ],
             [
              1,
              "rgb(90,179,244)"
             ]
            ],
            "type": "heatmapgl"
           }
          ],
          "histogram": [
           {
            "marker": {
             "pattern": {
              "fillmode": "overlay",
              "size": 10,
              "solidity": 0.2
             }
            },
            "type": "histogram"
           }
          ],
          "histogram2d": [
           {
            "colorbar": {
             "outlinewidth": 0,
             "tickcolor": "rgb(237,237,237)",
             "ticklen": 6,
             "ticks": "inside"
            },
            "colorscale": [
             [
              0,
              "rgb(20,44,66)"
             ],
             [
              1,
              "rgb(90,179,244)"
             ]
            ],
            "type": "histogram2d"
           }
          ],
          "histogram2dcontour": [
           {
            "colorbar": {
             "outlinewidth": 0,
             "tickcolor": "rgb(237,237,237)",
             "ticklen": 6,
             "ticks": "inside"
            },
            "colorscale": [
             [
              0,
              "rgb(20,44,66)"
             ],
             [
              1,
              "rgb(90,179,244)"
             ]
            ],
            "type": "histogram2dcontour"
           }
          ],
          "mesh3d": [
           {
            "colorbar": {
             "outlinewidth": 0,
             "tickcolor": "rgb(237,237,237)",
             "ticklen": 6,
             "ticks": "inside"
            },
            "type": "mesh3d"
           }
          ],
          "parcoords": [
           {
            "line": {
             "colorbar": {
              "outlinewidth": 0,
              "tickcolor": "rgb(237,237,237)",
              "ticklen": 6,
              "ticks": "inside"
             }
            },
            "type": "parcoords"
           }
          ],
          "pie": [
           {
            "automargin": true,
            "type": "pie"
           }
          ],
          "scatter": [
           {
            "fillpattern": {
             "fillmode": "overlay",
             "size": 10,
             "solidity": 0.2
            },
            "type": "scatter"
           }
          ],
          "scatter3d": [
           {
            "line": {
             "colorbar": {
              "outlinewidth": 0,
              "tickcolor": "rgb(237,237,237)",
              "ticklen": 6,
              "ticks": "inside"
             }
            },
            "marker": {
             "colorbar": {
              "outlinewidth": 0,
              "tickcolor": "rgb(237,237,237)",
              "ticklen": 6,
              "ticks": "inside"
             }
            },
            "type": "scatter3d"
           }
          ],
          "scattercarpet": [
           {
            "marker": {
             "colorbar": {
              "outlinewidth": 0,
              "tickcolor": "rgb(237,237,237)",
              "ticklen": 6,
              "ticks": "inside"
             }
            },
            "type": "scattercarpet"
           }
          ],
          "scattergeo": [
           {
            "marker": {
             "colorbar": {
              "outlinewidth": 0,
              "tickcolor": "rgb(237,237,237)",
              "ticklen": 6,
              "ticks": "inside"
             }
            },
            "type": "scattergeo"
           }
          ],
          "scattergl": [
           {
            "marker": {
             "colorbar": {
              "outlinewidth": 0,
              "tickcolor": "rgb(237,237,237)",
              "ticklen": 6,
              "ticks": "inside"
             }
            },
            "type": "scattergl"
           }
          ],
          "scattermapbox": [
           {
            "marker": {
             "colorbar": {
              "outlinewidth": 0,
              "tickcolor": "rgb(237,237,237)",
              "ticklen": 6,
              "ticks": "inside"
             }
            },
            "type": "scattermapbox"
           }
          ],
          "scatterpolar": [
           {
            "marker": {
             "colorbar": {
              "outlinewidth": 0,
              "tickcolor": "rgb(237,237,237)",
              "ticklen": 6,
              "ticks": "inside"
             }
            },
            "type": "scatterpolar"
           }
          ],
          "scatterpolargl": [
           {
            "marker": {
             "colorbar": {
              "outlinewidth": 0,
              "tickcolor": "rgb(237,237,237)",
              "ticklen": 6,
              "ticks": "inside"
             }
            },
            "type": "scatterpolargl"
           }
          ],
          "scatterternary": [
           {
            "marker": {
             "colorbar": {
              "outlinewidth": 0,
              "tickcolor": "rgb(237,237,237)",
              "ticklen": 6,
              "ticks": "inside"
             }
            },
            "type": "scatterternary"
           }
          ],
          "surface": [
           {
            "colorbar": {
             "outlinewidth": 0,
             "tickcolor": "rgb(237,237,237)",
             "ticklen": 6,
             "ticks": "inside"
            },
            "colorscale": [
             [
              0,
              "rgb(20,44,66)"
             ],
             [
              1,
              "rgb(90,179,244)"
             ]
            ],
            "type": "surface"
           }
          ],
          "table": [
           {
            "cells": {
             "fill": {
              "color": "rgb(237,237,237)"
             },
             "line": {
              "color": "white"
             }
            },
            "header": {
             "fill": {
              "color": "rgb(217,217,217)"
             },
             "line": {
              "color": "white"
             }
            },
            "type": "table"
           }
          ]
         },
         "layout": {
          "annotationdefaults": {
           "arrowhead": 0,
           "arrowwidth": 1
          },
          "autotypenumbers": "strict",
          "coloraxis": {
           "colorbar": {
            "outlinewidth": 0,
            "tickcolor": "rgb(237,237,237)",
            "ticklen": 6,
            "ticks": "inside"
           }
          },
          "colorscale": {
           "sequential": [
            [
             0,
             "rgb(20,44,66)"
            ],
            [
             1,
             "rgb(90,179,244)"
            ]
           ],
           "sequentialminus": [
            [
             0,
             "rgb(20,44,66)"
            ],
            [
             1,
             "rgb(90,179,244)"
            ]
           ]
          },
          "colorway": [
           "#F8766D",
           "#A3A500",
           "#00BF7D",
           "#00B0F6",
           "#E76BF3"
          ],
          "font": {
           "color": "rgb(51,51,51)"
          },
          "geo": {
           "bgcolor": "white",
           "lakecolor": "white",
           "landcolor": "rgb(237,237,237)",
           "showlakes": true,
           "showland": true,
           "subunitcolor": "white"
          },
          "hoverlabel": {
           "align": "left"
          },
          "hovermode": "closest",
          "paper_bgcolor": "white",
          "plot_bgcolor": "rgb(237,237,237)",
          "polar": {
           "angularaxis": {
            "gridcolor": "white",
            "linecolor": "white",
            "showgrid": true,
            "tickcolor": "rgb(51,51,51)",
            "ticks": "outside"
           },
           "bgcolor": "rgb(237,237,237)",
           "radialaxis": {
            "gridcolor": "white",
            "linecolor": "white",
            "showgrid": true,
            "tickcolor": "rgb(51,51,51)",
            "ticks": "outside"
           }
          },
          "scene": {
           "xaxis": {
            "backgroundcolor": "rgb(237,237,237)",
            "gridcolor": "white",
            "gridwidth": 2,
            "linecolor": "white",
            "showbackground": true,
            "showgrid": true,
            "tickcolor": "rgb(51,51,51)",
            "ticks": "outside",
            "zerolinecolor": "white"
           },
           "yaxis": {
            "backgroundcolor": "rgb(237,237,237)",
            "gridcolor": "white",
            "gridwidth": 2,
            "linecolor": "white",
            "showbackground": true,
            "showgrid": true,
            "tickcolor": "rgb(51,51,51)",
            "ticks": "outside",
            "zerolinecolor": "white"
           },
           "zaxis": {
            "backgroundcolor": "rgb(237,237,237)",
            "gridcolor": "white",
            "gridwidth": 2,
            "linecolor": "white",
            "showbackground": true,
            "showgrid": true,
            "tickcolor": "rgb(51,51,51)",
            "ticks": "outside",
            "zerolinecolor": "white"
           }
          },
          "shapedefaults": {
           "fillcolor": "black",
           "line": {
            "width": 0
           },
           "opacity": 0.3
          },
          "ternary": {
           "aaxis": {
            "gridcolor": "white",
            "linecolor": "white",
            "showgrid": true,
            "tickcolor": "rgb(51,51,51)",
            "ticks": "outside"
           },
           "baxis": {
            "gridcolor": "white",
            "linecolor": "white",
            "showgrid": true,
            "tickcolor": "rgb(51,51,51)",
            "ticks": "outside"
           },
           "bgcolor": "rgb(237,237,237)",
           "caxis": {
            "gridcolor": "white",
            "linecolor": "white",
            "showgrid": true,
            "tickcolor": "rgb(51,51,51)",
            "ticks": "outside"
           }
          },
          "xaxis": {
           "automargin": true,
           "gridcolor": "white",
           "linecolor": "white",
           "showgrid": true,
           "tickcolor": "rgb(51,51,51)",
           "ticks": "outside",
           "title": {
            "standoff": 15
           },
           "zerolinecolor": "white"
          },
          "yaxis": {
           "automargin": true,
           "gridcolor": "white",
           "linecolor": "white",
           "showgrid": true,
           "tickcolor": "rgb(51,51,51)",
           "ticks": "outside",
           "title": {
            "standoff": 15
           },
           "zerolinecolor": "white"
          }
         }
        },
        "title": {
         "text": "Difference Plot | Quantity"
        },
        "xaxis": {
         "anchor": "y",
         "domain": [
          0,
          0.2822222222222222
         ],
         "matches": "x7",
         "showticklabels": false
        },
        "xaxis2": {
         "anchor": "y2",
         "domain": [
          0.34888888888888886,
          0.6311111111111111
         ],
         "matches": "x8",
         "range": [
          -1,
          42
         ],
         "showticklabels": false
        },
        "xaxis3": {
         "anchor": "y3",
         "domain": [
          0.6977777777777777,
          0.98
         ],
         "matches": "x9",
         "range": [
          -1,
          19
         ],
         "showticklabels": false
        },
        "xaxis4": {
         "anchor": "y4",
         "domain": [
          0,
          0.2822222222222222
         ],
         "matches": "x7",
         "showticklabels": false
        },
        "xaxis5": {
         "anchor": "y5",
         "domain": [
          0.34888888888888886,
          0.6311111111111111
         ],
         "matches": "x8",
         "range": [
          -1,
          42
         ],
         "showticklabels": false
        },
        "xaxis6": {
         "anchor": "y6",
         "domain": [
          0.6977777777777777,
          0.98
         ],
         "matches": "x9",
         "range": [
          -1,
          19
         ],
         "showticklabels": false
        },
        "xaxis7": {
         "anchor": "y7",
         "domain": [
          0,
          0.2822222222222222
         ]
        },
        "xaxis8": {
         "anchor": "y8",
         "domain": [
          0.34888888888888886,
          0.6311111111111111
         ],
         "range": [
          -1,
          42
         ]
        },
        "xaxis9": {
         "anchor": "y9",
         "domain": [
          0.6977777777777777,
          0.98
         ],
         "range": [
          -1,
          19
         ]
        },
        "yaxis": {
         "anchor": "x",
         "domain": [
          0.7333333333333333,
          1
         ]
        },
        "yaxis2": {
         "anchor": "x2",
         "domain": [
          0.7333333333333333,
          1
         ],
         "range": [
          -1.1,
          1.1
         ],
         "zerolinecolor": "#000000"
        },
        "yaxis3": {
         "anchor": "x3",
         "domain": [
          0.7333333333333333,
          1
         ],
         "range": [
          -1.1,
          1.1
         ],
         "zerolinecolor": "#000000"
        },
        "yaxis4": {
         "anchor": "x4",
         "domain": [
          0.36666666666666664,
          0.6333333333333333
         ]
        },
        "yaxis5": {
         "anchor": "x5",
         "domain": [
          0.36666666666666664,
          0.6333333333333333
         ],
         "range": [
          -1.1,
          1.1
         ],
         "zerolinecolor": "#000000"
        },
        "yaxis6": {
         "anchor": "x6",
         "domain": [
          0.36666666666666664,
          0.6333333333333333
         ],
         "range": [
          -1.1,
          1.1
         ],
         "zerolinecolor": "#000000"
        },
        "yaxis7": {
         "anchor": "x7",
         "domain": [
          0,
          0.26666666666666666
         ]
        },
        "yaxis8": {
         "anchor": "x8",
         "domain": [
          0,
          0.26666666666666666
         ],
         "range": [
          -1.1,
          1.1
         ],
         "zerolinecolor": "#000000"
        },
        "yaxis9": {
         "anchor": "x9",
         "domain": [
          0,
          0.26666666666666666
         ],
         "range": [
          -1.1,
          1.1
         ],
         "zerolinecolor": "#000000"
        }
       }
      }
     },
     "metadata": {},
     "output_type": "display_data"
    }
   ],
   "source": [
    "exp.plot_model(plot=\"diff\", \n",
    "               data_kwargs={\"order_list\": [1, 2], \"acf\": True, \"pacf\": True})"
   ]
  },
  {
   "cell_type": "code",
   "execution_count": 162,
   "metadata": {},
   "outputs": [
    {
     "data": {
      "application/vnd.plotly.v1+json": {
       "config": {
        "plotlyServerURL": "https://plot.ly"
       },
       "data": [
        {
         "line": {
          "color": "rgb(31, 119, 180)",
          "width": 2
         },
         "marker": {
          "color": "rgb(31, 119, 180)",
          "size": 5
         },
         "mode": "lines+markers",
         "name": "Actual",
         "showlegend": false,
         "type": "scattergl",
         "x": [
          "2020-01-01T00:00:00",
          "2020-02-01T00:00:00",
          "2020-03-01T00:00:00",
          "2020-04-01T00:00:00",
          "2020-05-01T00:00:00",
          "2020-06-01T00:00:00",
          "2020-07-01T00:00:00",
          "2020-08-01T00:00:00",
          "2020-09-01T00:00:00",
          "2020-10-01T00:00:00",
          "2020-11-01T00:00:00",
          "2020-12-01T00:00:00",
          "2021-01-01T00:00:00",
          "2021-02-01T00:00:00",
          "2021-03-01T00:00:00",
          "2021-04-01T00:00:00",
          "2021-05-01T00:00:00",
          "2021-06-01T00:00:00",
          "2021-07-01T00:00:00",
          "2021-08-01T00:00:00",
          "2021-09-01T00:00:00",
          "2021-10-01T00:00:00",
          "2021-11-01T00:00:00",
          "2021-12-01T00:00:00",
          "2022-01-01T00:00:00",
          "2022-02-01T00:00:00",
          "2022-03-01T00:00:00",
          "2022-04-01T00:00:00",
          "2022-05-01T00:00:00",
          "2022-06-01T00:00:00",
          "2022-07-01T00:00:00",
          "2022-08-01T00:00:00",
          "2022-09-01T00:00:00",
          "2022-10-01T00:00:00",
          "2022-11-01T00:00:00",
          "2022-12-01T00:00:00",
          "2023-01-01T00:00:00",
          "2023-02-01T00:00:00",
          "2023-03-01T00:00:00",
          "2023-04-01T00:00:00",
          "2023-05-01T00:00:00",
          "2023-06-01T00:00:00",
          "2023-07-01T00:00:00",
          "2023-08-01T00:00:00",
          "2023-09-01T00:00:00",
          "2023-10-01T00:00:00",
          "2023-11-01T00:00:00",
          "2023-12-01T00:00:00",
          "2024-01-01T00:00:00",
          "2024-02-01T00:00:00",
          "2024-03-01T00:00:00",
          "2024-04-01T00:00:00",
          "2024-05-01T00:00:00"
         ],
         "xaxis": "x",
         "y": [
          14981,
          30057,
          17657,
          13723,
          39238,
          46414,
          15971,
          37007,
          30765,
          14853,
          38729,
          40789,
          52069,
          28060,
          67966,
          195452,
          139665,
          65862,
          69375,
          55233,
          51707,
          34768,
          20686,
          101633,
          84076,
          88469,
          63103,
          76067,
          118755,
          228569,
          87601,
          82851,
          38241,
          61891,
          50757,
          95570,
          114535,
          86057,
          47937,
          131493,
          285160,
          163948,
          169601,
          152819,
          82946,
          135645,
          41831,
          161617,
          106253,
          119707,
          149830,
          241990,
          83295
         ],
         "yaxis": "y"
        },
        {
         "line": {
          "color": "#3f3f3f"
         },
         "mode": "lines",
         "name": "Actual",
         "showlegend": false,
         "type": "scattergl",
         "x": [
          0,
          0
         ],
         "xaxis": "x2",
         "y": [
          0,
          1
         ],
         "yaxis": "y2"
        },
        {
         "line": {
          "color": "#3f3f3f"
         },
         "mode": "lines",
         "name": "Actual",
         "showlegend": false,
         "type": "scattergl",
         "x": [
          1,
          1
         ],
         "xaxis": "x2",
         "y": [
          0,
          0.4993871157385834
         ],
         "yaxis": "y2"
        },
        {
         "line": {
          "color": "#3f3f3f"
         },
         "mode": "lines",
         "name": "Actual",
         "showlegend": false,
         "type": "scattergl",
         "x": [
          2,
          2
         ],
         "xaxis": "x2",
         "y": [
          0,
          0.31041870826732865
         ],
         "yaxis": "y2"
        },
        {
         "line": {
          "color": "#3f3f3f"
         },
         "mode": "lines",
         "name": "Actual",
         "showlegend": false,
         "type": "scattergl",
         "x": [
          3,
          3
         ],
         "xaxis": "x2",
         "y": [
          0,
          0.20343500220805288
         ],
         "yaxis": "y2"
        },
        {
         "line": {
          "color": "#3f3f3f"
         },
         "mode": "lines",
         "name": "Actual",
         "showlegend": false,
         "type": "scattergl",
         "x": [
          4,
          4
         ],
         "xaxis": "x2",
         "y": [
          0,
          0.20269757547879846
         ],
         "yaxis": "y2"
        },
        {
         "line": {
          "color": "#3f3f3f"
         },
         "mode": "lines",
         "name": "Actual",
         "showlegend": false,
         "type": "scattergl",
         "x": [
          5,
          5
         ],
         "xaxis": "x2",
         "y": [
          0,
          0.12695966061565017
         ],
         "yaxis": "y2"
        },
        {
         "line": {
          "color": "#3f3f3f"
         },
         "mode": "lines",
         "name": "Actual",
         "showlegend": false,
         "type": "scattergl",
         "x": [
          6,
          6
         ],
         "xaxis": "x2",
         "y": [
          0,
          0.1095427427016825
         ],
         "yaxis": "y2"
        },
        {
         "line": {
          "color": "#3f3f3f"
         },
         "mode": "lines",
         "name": "Actual",
         "showlegend": false,
         "type": "scattergl",
         "x": [
          7,
          7
         ],
         "xaxis": "x2",
         "y": [
          0,
          0.10179366757075038
         ],
         "yaxis": "y2"
        },
        {
         "line": {
          "color": "#3f3f3f"
         },
         "mode": "lines",
         "name": "Actual",
         "showlegend": false,
         "type": "scattergl",
         "x": [
          8,
          8
         ],
         "xaxis": "x2",
         "y": [
          0,
          0.14577318839003658
         ],
         "yaxis": "y2"
        },
        {
         "line": {
          "color": "#3f3f3f"
         },
         "mode": "lines",
         "name": "Actual",
         "showlegend": false,
         "type": "scattergl",
         "x": [
          9,
          9
         ],
         "xaxis": "x2",
         "y": [
          0,
          0.10171180495151422
         ],
         "yaxis": "y2"
        },
        {
         "line": {
          "color": "#3f3f3f"
         },
         "mode": "lines",
         "name": "Actual",
         "showlegend": false,
         "type": "scattergl",
         "x": [
          10,
          10
         ],
         "xaxis": "x2",
         "y": [
          0,
          0.17839747416191584
         ],
         "yaxis": "y2"
        },
        {
         "line": {
          "color": "#3f3f3f"
         },
         "mode": "lines",
         "name": "Actual",
         "showlegend": false,
         "type": "scattergl",
         "x": [
          11,
          11
         ],
         "xaxis": "x2",
         "y": [
          0,
          0.35845190809964594
         ],
         "yaxis": "y2"
        },
        {
         "line": {
          "color": "#3f3f3f"
         },
         "mode": "lines",
         "name": "Actual",
         "showlegend": false,
         "type": "scattergl",
         "x": [
          12,
          12
         ],
         "xaxis": "x2",
         "y": [
          0,
          0.17689464793262052
         ],
         "yaxis": "y2"
        },
        {
         "line": {
          "color": "#3f3f3f"
         },
         "mode": "lines",
         "name": "Actual",
         "showlegend": false,
         "type": "scattergl",
         "x": [
          13,
          13
         ],
         "xaxis": "x2",
         "y": [
          0,
          0.12680564272861408
         ],
         "yaxis": "y2"
        },
        {
         "line": {
          "color": "#3f3f3f"
         },
         "mode": "lines",
         "name": "Actual",
         "showlegend": false,
         "type": "scattergl",
         "x": [
          14,
          14
         ],
         "xaxis": "x2",
         "y": [
          0,
          0.14080453012133806
         ],
         "yaxis": "y2"
        },
        {
         "line": {
          "color": "#3f3f3f"
         },
         "mode": "lines",
         "name": "Actual",
         "showlegend": false,
         "type": "scattergl",
         "x": [
          15,
          15
         ],
         "xaxis": "x2",
         "y": [
          0,
          -0.014897688968524236
         ],
         "yaxis": "y2"
        },
        {
         "line": {
          "color": "#3f3f3f"
         },
         "mode": "lines",
         "name": "Actual",
         "showlegend": false,
         "type": "scattergl",
         "x": [
          16,
          16
         ],
         "xaxis": "x2",
         "y": [
          0,
          0.007881723552222457
         ],
         "yaxis": "y2"
        },
        {
         "line": {
          "color": "#3f3f3f"
         },
         "mode": "lines",
         "name": "Actual",
         "showlegend": false,
         "type": "scattergl",
         "x": [
          17,
          17
         ],
         "xaxis": "x2",
         "y": [
          0,
          -0.06488294524366975
         ],
         "yaxis": "y2"
        },
        {
         "line": {
          "color": "#3f3f3f"
         },
         "mode": "lines",
         "name": "Actual",
         "showlegend": false,
         "type": "scattergl",
         "x": [
          18,
          18
         ],
         "xaxis": "x2",
         "y": [
          0,
          -0.04763883272898156
         ],
         "yaxis": "y2"
        },
        {
         "line": {
          "color": "#3f3f3f"
         },
         "mode": "lines",
         "name": "Actual",
         "showlegend": false,
         "type": "scattergl",
         "x": [
          19,
          19
         ],
         "xaxis": "x2",
         "y": [
          0,
          -0.07002685631696763
         ],
         "yaxis": "y2"
        },
        {
         "line": {
          "color": "#3f3f3f"
         },
         "mode": "lines",
         "name": "Actual",
         "showlegend": false,
         "type": "scattergl",
         "x": [
          20,
          20
         ],
         "xaxis": "x2",
         "y": [
          0,
          -0.026808465278450353
         ],
         "yaxis": "y2"
        },
        {
         "line": {
          "color": "#3f3f3f"
         },
         "mode": "lines",
         "name": "Actual",
         "showlegend": false,
         "type": "scattergl",
         "x": [
          21,
          21
         ],
         "xaxis": "x2",
         "y": [
          0,
          -0.0140474935196163
         ],
         "yaxis": "y2"
        },
        {
         "line": {
          "color": "#3f3f3f"
         },
         "mode": "lines",
         "name": "Actual",
         "showlegend": false,
         "type": "scattergl",
         "x": [
          22,
          22
         ],
         "xaxis": "x2",
         "y": [
          0,
          0.046757282627086574
         ],
         "yaxis": "y2"
        },
        {
         "line": {
          "color": "#3f3f3f"
         },
         "mode": "lines",
         "name": "Actual",
         "showlegend": false,
         "type": "scattergl",
         "x": [
          23,
          23
         ],
         "xaxis": "x2",
         "y": [
          0,
          -0.09336748146588679
         ],
         "yaxis": "y2"
        },
        {
         "line": {
          "color": "#3f3f3f"
         },
         "mode": "lines",
         "name": "Actual",
         "showlegend": false,
         "type": "scattergl",
         "x": [
          24,
          24
         ],
         "xaxis": "x2",
         "y": [
          0,
          0.04859977694151395
         ],
         "yaxis": "y2"
        },
        {
         "line": {
          "color": "#3f3f3f"
         },
         "mode": "lines",
         "name": "Actual",
         "showlegend": false,
         "type": "scattergl",
         "x": [
          25,
          25
         ],
         "xaxis": "x2",
         "y": [
          0,
          0.0728614600869881
         ],
         "yaxis": "y2"
        },
        {
         "line": {
          "color": "#3f3f3f"
         },
         "mode": "lines",
         "name": "Actual",
         "showlegend": false,
         "type": "scattergl",
         "x": [
          26,
          26
         ],
         "xaxis": "x2",
         "y": [
          0,
          -0.017275754468984265
         ],
         "yaxis": "y2"
        },
        {
         "line": {
          "color": "#3f3f3f"
         },
         "mode": "lines",
         "name": "Actual",
         "showlegend": false,
         "type": "scattergl",
         "x": [
          27,
          27
         ],
         "xaxis": "x2",
         "y": [
          0,
          -0.06372112173271102
         ],
         "yaxis": "y2"
        },
        {
         "line": {
          "color": "#3f3f3f"
         },
         "mode": "lines",
         "name": "Actual",
         "showlegend": false,
         "type": "scattergl",
         "x": [
          28,
          28
         ],
         "xaxis": "x2",
         "y": [
          0,
          -0.09655649126456729
         ],
         "yaxis": "y2"
        },
        {
         "line": {
          "color": "#3f3f3f"
         },
         "mode": "lines",
         "name": "Actual",
         "showlegend": false,
         "type": "scattergl",
         "x": [
          29,
          29
         ],
         "xaxis": "x2",
         "y": [
          0,
          -0.1836860466263294
         ],
         "yaxis": "y2"
        },
        {
         "line": {
          "color": "#3f3f3f"
         },
         "mode": "lines",
         "name": "Actual",
         "showlegend": false,
         "type": "scattergl",
         "x": [
          30,
          30
         ],
         "xaxis": "x2",
         "y": [
          0,
          -0.13156028428119132
         ],
         "yaxis": "y2"
        },
        {
         "line": {
          "color": "#3f3f3f"
         },
         "mode": "lines",
         "name": "Actual",
         "showlegend": false,
         "type": "scattergl",
         "x": [
          31,
          31
         ],
         "xaxis": "x2",
         "y": [
          0,
          -0.1439718490521515
         ],
         "yaxis": "y2"
        },
        {
         "line": {
          "color": "#3f3f3f"
         },
         "mode": "lines",
         "name": "Actual",
         "showlegend": false,
         "type": "scattergl",
         "x": [
          32,
          32
         ],
         "xaxis": "x2",
         "y": [
          0,
          -0.08548120859309942
         ],
         "yaxis": "y2"
        },
        {
         "line": {
          "color": "#3f3f3f"
         },
         "mode": "lines",
         "name": "Actual",
         "showlegend": false,
         "type": "scattergl",
         "x": [
          33,
          33
         ],
         "xaxis": "x2",
         "y": [
          0,
          -0.12069053907975832
         ],
         "yaxis": "y2"
        },
        {
         "line": {
          "color": "#3f3f3f"
         },
         "mode": "lines",
         "name": "Actual",
         "showlegend": false,
         "type": "scattergl",
         "x": [
          34,
          34
         ],
         "xaxis": "x2",
         "y": [
          0,
          -0.14323137661792054
         ],
         "yaxis": "y2"
        },
        {
         "line": {
          "color": "#3f3f3f"
         },
         "mode": "lines",
         "name": "Actual",
         "showlegend": false,
         "type": "scattergl",
         "x": [
          35,
          35
         ],
         "xaxis": "x2",
         "y": [
          0,
          -0.059786987329075975
         ],
         "yaxis": "y2"
        },
        {
         "line": {
          "color": "#3f3f3f"
         },
         "mode": "lines",
         "name": "Actual",
         "showlegend": false,
         "type": "scattergl",
         "x": [
          36,
          36
         ],
         "xaxis": "x2",
         "y": [
          0,
          -0.07963863905872465
         ],
         "yaxis": "y2"
        },
        {
         "line": {
          "color": "#3f3f3f"
         },
         "mode": "lines",
         "name": "Actual",
         "showlegend": false,
         "type": "scattergl",
         "x": [
          37,
          37
         ],
         "xaxis": "x2",
         "y": [
          0,
          -0.19560552100205042
         ],
         "yaxis": "y2"
        },
        {
         "line": {
          "color": "#3f3f3f"
         },
         "mode": "lines",
         "name": "Actual",
         "showlegend": false,
         "type": "scattergl",
         "x": [
          38,
          38
         ],
         "xaxis": "x2",
         "y": [
          0,
          -0.22324780301372144
         ],
         "yaxis": "y2"
        },
        {
         "line": {
          "color": "#3f3f3f"
         },
         "mode": "lines",
         "name": "Actual",
         "showlegend": false,
         "type": "scattergl",
         "x": [
          39,
          39
         ],
         "xaxis": "x2",
         "y": [
          0,
          -0.22762592905673162
         ],
         "yaxis": "y2"
        },
        {
         "line": {
          "color": "#3f3f3f"
         },
         "mode": "lines",
         "name": "Actual",
         "showlegend": false,
         "type": "scattergl",
         "x": [
          40,
          40
         ],
         "xaxis": "x2",
         "y": [
          0,
          -0.22606279026081533
         ],
         "yaxis": "y2"
        },
        {
         "marker": {
          "color": "#1f77b4",
          "size": 6
         },
         "mode": "markers",
         "name": "Actual",
         "showlegend": false,
         "type": "scattergl",
         "x": [
          0,
          1,
          2,
          3,
          4,
          5,
          6,
          7,
          8,
          9,
          10,
          11,
          12,
          13,
          14,
          15,
          16,
          17,
          18,
          19,
          20,
          21,
          22,
          23,
          24,
          25,
          26,
          27,
          28,
          29,
          30,
          31,
          32,
          33,
          34,
          35,
          36,
          37,
          38,
          39,
          40
         ],
         "xaxis": "x2",
         "y": [
          1,
          0.4993871157385834,
          0.31041870826732865,
          0.20343500220805288,
          0.20269757547879846,
          0.12695966061565017,
          0.1095427427016825,
          0.10179366757075038,
          0.14577318839003658,
          0.10171180495151422,
          0.17839747416191584,
          0.35845190809964594,
          0.17689464793262052,
          0.12680564272861408,
          0.14080453012133806,
          -0.014897688968524236,
          0.007881723552222457,
          -0.06488294524366975,
          -0.04763883272898156,
          -0.07002685631696763,
          -0.026808465278450353,
          -0.0140474935196163,
          0.046757282627086574,
          -0.09336748146588679,
          0.04859977694151395,
          0.0728614600869881,
          -0.017275754468984265,
          -0.06372112173271102,
          -0.09655649126456729,
          -0.1836860466263294,
          -0.13156028428119132,
          -0.1439718490521515,
          -0.08548120859309942,
          -0.12069053907975832,
          -0.14323137661792054,
          -0.059786987329075975,
          -0.07963863905872465,
          -0.19560552100205042,
          -0.22324780301372144,
          -0.22762592905673162,
          -0.22606279026081533
         ],
         "yaxis": "y2"
        },
        {
         "line": {
          "color": "rgba(255,255,255,0)"
         },
         "mode": "lines",
         "name": "UC",
         "showlegend": false,
         "type": "scatter",
         "x": [
          0,
          1,
          2,
          3,
          4,
          5,
          6,
          7,
          8,
          9,
          10,
          11,
          12,
          13,
          14,
          15,
          16,
          17,
          18,
          19,
          20,
          21,
          22,
          23,
          24,
          25,
          26,
          27,
          28,
          29,
          30,
          31,
          32,
          33,
          34,
          35,
          36,
          37,
          38,
          39,
          40
         ],
         "xaxis": "x2",
         "y": [
          0,
          0.2692217582355414,
          0.32959329934711024,
          0.3501430055189205,
          0.35860763975760507,
          0.36681785609559,
          0.36998908873716235,
          0.37233237588444806,
          0.374344058150757,
          0.3784360754837754,
          0.3804123078935966,
          0.3864285109794608,
          0.40982029299664025,
          0.41531763987914194,
          0.41811441320169107,
          0.42153723601589066,
          0.42157539550204365,
          0.4215860757651442,
          0.42230921654832154,
          0.4226985411386855,
          0.4235385570416109,
          0.4236615296036441,
          0.42369528798857475,
          0.42406911756350735,
          0.4255564704234124,
          0.42595856344884586,
          0.4268609423303616,
          0.4269116159774409,
          0.4276004251885349,
          0.42917783602766785,
          0.4348386724039714,
          0.4377141381132323,
          0.44113308291383224,
          0.44233203605144333,
          0.44471244385185615,
          0.44804359121491766,
          0.44862146554402776,
          0.44964497719787355,
          0.45577080052381913,
          0.46362895050728736,
          0.47165955383481345
         ],
         "yaxis": "y2"
        },
        {
         "fill": "tonexty",
         "fillcolor": "rgba(32, 146, 230,0.3)",
         "line": {
          "color": "rgba(255,255,255,0)"
         },
         "mode": "lines",
         "name": "LC",
         "showlegend": false,
         "type": "scatter",
         "x": [
          0,
          1,
          2,
          3,
          4,
          5,
          6,
          7,
          8,
          9,
          10,
          11,
          12,
          13,
          14,
          15,
          16,
          17,
          18,
          19,
          20,
          21,
          22,
          23,
          24,
          25,
          26,
          27,
          28,
          29,
          30,
          31,
          32,
          33,
          34,
          35,
          36,
          37,
          38,
          39,
          40
         ],
         "xaxis": "x2",
         "y": [
          0,
          -0.26922175823554145,
          -0.3295932993471102,
          -0.3501430055189205,
          -0.35860763975760507,
          -0.36681785609559,
          -0.36998908873716235,
          -0.37233237588444806,
          -0.374344058150757,
          -0.3784360754837754,
          -0.3804123078935966,
          -0.38642851097946074,
          -0.40982029299664025,
          -0.41531763987914194,
          -0.41811441320169107,
          -0.42153723601589066,
          -0.42157539550204365,
          -0.42158607576514406,
          -0.42230921654832154,
          -0.4226985411386855,
          -0.4235385570416109,
          -0.4236615296036441,
          -0.42369528798857475,
          -0.4240691175635073,
          -0.4255564704234124,
          -0.425958563448846,
          -0.4268609423303616,
          -0.4269116159774409,
          -0.42760042518853497,
          -0.4291778360276679,
          -0.4348386724039714,
          -0.4377141381132323,
          -0.4411330829138322,
          -0.4423320360514432,
          -0.44471244385185615,
          -0.44804359121491766,
          -0.44862146554402776,
          -0.44964497719787355,
          -0.4557708005238191,
          -0.46362895050728736,
          -0.4716595538348135
         ],
         "yaxis": "y2"
        },
        {
         "line": {
          "color": "#3f3f3f"
         },
         "mode": "lines",
         "name": "Actual",
         "showlegend": false,
         "type": "scattergl",
         "x": [
          0,
          0
         ],
         "xaxis": "x3",
         "y": [
          0,
          1
         ],
         "yaxis": "y3"
        },
        {
         "line": {
          "color": "#3f3f3f"
         },
         "mode": "lines",
         "name": "Actual",
         "showlegend": false,
         "type": "scattergl",
         "x": [
          1,
          1
         ],
         "xaxis": "x3",
         "y": [
          0,
          0.5089907141181715
         ],
         "yaxis": "y3"
        },
        {
         "line": {
          "color": "#3f3f3f"
         },
         "mode": "lines",
         "name": "Actual",
         "showlegend": false,
         "type": "scattergl",
         "x": [
          2,
          2
         ],
         "xaxis": "x3",
         "y": [
          0,
          0.08573087405913127
         ],
         "yaxis": "y3"
        },
        {
         "line": {
          "color": "#3f3f3f"
         },
         "mode": "lines",
         "name": "Actual",
         "showlegend": false,
         "type": "scattergl",
         "x": [
          3,
          3
         ],
         "xaxis": "x3",
         "y": [
          0,
          0.029756305244763366
         ],
         "yaxis": "y3"
        },
        {
         "line": {
          "color": "#3f3f3f"
         },
         "mode": "lines",
         "name": "Actual",
         "showlegend": false,
         "type": "scattergl",
         "x": [
          4,
          4
         ],
         "xaxis": "x3",
         "y": [
          0,
          0.11037916824119051
         ],
         "yaxis": "y3"
        },
        {
         "line": {
          "color": "#3f3f3f"
         },
         "mode": "lines",
         "name": "Actual",
         "showlegend": false,
         "type": "scattergl",
         "x": [
          5,
          5
         ],
         "xaxis": "x3",
         "y": [
          0,
          -0.032587051444325665
         ],
         "yaxis": "y3"
        },
        {
         "line": {
          "color": "#3f3f3f"
         },
         "mode": "lines",
         "name": "Actual",
         "showlegend": false,
         "type": "scattergl",
         "x": [
          6,
          6
         ],
         "xaxis": "x3",
         "y": [
          0,
          0.03452624221969746
         ],
         "yaxis": "y3"
        },
        {
         "line": {
          "color": "#3f3f3f"
         },
         "mode": "lines",
         "name": "Actual",
         "showlegend": false,
         "type": "scattergl",
         "x": [
          7,
          7
         ],
         "xaxis": "x3",
         "y": [
          0,
          0.03767665896251038
         ],
         "yaxis": "y3"
        },
        {
         "line": {
          "color": "#3f3f3f"
         },
         "mode": "lines",
         "name": "Actual",
         "showlegend": false,
         "type": "scattergl",
         "x": [
          8,
          8
         ],
         "xaxis": "x3",
         "y": [
          0,
          0.09992409794263317
         ],
         "yaxis": "y3"
        },
        {
         "line": {
          "color": "#3f3f3f"
         },
         "mode": "lines",
         "name": "Actual",
         "showlegend": false,
         "type": "scattergl",
         "x": [
          9,
          9
         ],
         "xaxis": "x3",
         "y": [
          0,
          -0.02299026061566234
         ],
         "yaxis": "y3"
        },
        {
         "line": {
          "color": "#3f3f3f"
         },
         "mode": "lines",
         "name": "Actual",
         "showlegend": false,
         "type": "scattergl",
         "x": [
          10,
          10
         ],
         "xaxis": "x3",
         "y": [
          0,
          0.17250818331828335
         ],
         "yaxis": "y3"
        },
        {
         "line": {
          "color": "#3f3f3f"
         },
         "mode": "lines",
         "name": "Actual",
         "showlegend": false,
         "type": "scattergl",
         "x": [
          11,
          11
         ],
         "xaxis": "x3",
         "y": [
          0,
          0.38265880029601934
         ],
         "yaxis": "y3"
        },
        {
         "line": {
          "color": "#3f3f3f"
         },
         "mode": "lines",
         "name": "Actual",
         "showlegend": false,
         "type": "scattergl",
         "x": [
          12,
          12
         ],
         "xaxis": "x3",
         "y": [
          0,
          -0.27465199378157845
         ],
         "yaxis": "y3"
        },
        {
         "line": {
          "color": "#3f3f3f"
         },
         "mode": "lines",
         "name": "Actual",
         "showlegend": false,
         "type": "scattergl",
         "x": [
          13,
          13
         ],
         "xaxis": "x3",
         "y": [
          0,
          0.038670779013160926
         ],
         "yaxis": "y3"
        },
        {
         "line": {
          "color": "#3f3f3f"
         },
         "mode": "lines",
         "name": "Actual",
         "showlegend": false,
         "type": "scattergl",
         "x": [
          14,
          14
         ],
         "xaxis": "x3",
         "y": [
          0,
          0.14323903514164282
         ],
         "yaxis": "y3"
        },
        {
         "line": {
          "color": "#3f3f3f"
         },
         "mode": "lines",
         "name": "Actual",
         "showlegend": false,
         "type": "scattergl",
         "x": [
          15,
          15
         ],
         "xaxis": "x3",
         "y": [
          0,
          -0.47164083711403987
         ],
         "yaxis": "y3"
        },
        {
         "line": {
          "color": "#3f3f3f"
         },
         "mode": "lines",
         "name": "Actual",
         "showlegend": false,
         "type": "scattergl",
         "x": [
          16,
          16
         ],
         "xaxis": "x3",
         "y": [
          0,
          0.2753562811091379
         ],
         "yaxis": "y3"
        },
        {
         "line": {
          "color": "#3f3f3f"
         },
         "mode": "lines",
         "name": "Actual",
         "showlegend": false,
         "type": "scattergl",
         "x": [
          17,
          17
         ],
         "xaxis": "x3",
         "y": [
          0,
          -0.2355471007990042
         ],
         "yaxis": "y3"
        },
        {
         "marker": {
          "color": "#1f77b4",
          "size": 6
         },
         "mode": "markers",
         "name": "Actual",
         "showlegend": false,
         "type": "scattergl",
         "x": [
          0,
          1,
          2,
          3,
          4,
          5,
          6,
          7,
          8,
          9,
          10,
          11,
          12,
          13,
          14,
          15,
          16,
          17
         ],
         "xaxis": "x3",
         "y": [
          1,
          0.5089907141181715,
          0.08573087405913127,
          0.029756305244763366,
          0.11037916824119051,
          -0.032587051444325665,
          0.03452624221969746,
          0.03767665896251038,
          0.09992409794263317,
          -0.02299026061566234,
          0.17250818331828335,
          0.38265880029601934,
          -0.27465199378157845,
          0.038670779013160926,
          0.14323903514164282,
          -0.47164083711403987,
          0.2753562811091379,
          -0.2355471007990042
         ],
         "yaxis": "y3"
        },
        {
         "line": {
          "color": "rgba(255,255,255,0)"
         },
         "mode": "lines",
         "name": "UC",
         "showlegend": false,
         "type": "scatter",
         "x": [
          0,
          1,
          2,
          3,
          4,
          5,
          6,
          7,
          8,
          9,
          10,
          11,
          12,
          13,
          14,
          15,
          16,
          17
         ],
         "xaxis": "x3",
         "y": [
          0,
          0.2692217582355414,
          0.26922175823554145,
          0.26922175823554145,
          0.2692217582355414,
          0.26922175823554145,
          0.26922175823554145,
          0.26922175823554145,
          0.26922175823554145,
          0.26922175823554145,
          0.2692217582355415,
          0.26922175823554145,
          0.26922175823554145,
          0.26922175823554145,
          0.26922175823554145,
          0.26922175823554145,
          0.2692217582355414,
          0.26922175823554145
         ],
         "yaxis": "y3"
        },
        {
         "fill": "tonexty",
         "fillcolor": "rgba(32, 146, 230,0.3)",
         "line": {
          "color": "rgba(255,255,255,0)"
         },
         "mode": "lines",
         "name": "LC",
         "showlegend": false,
         "type": "scatter",
         "x": [
          0,
          1,
          2,
          3,
          4,
          5,
          6,
          7,
          8,
          9,
          10,
          11,
          12,
          13,
          14,
          15,
          16,
          17
         ],
         "xaxis": "x3",
         "y": [
          0,
          -0.26922175823554145,
          -0.26922175823554145,
          -0.26922175823554145,
          -0.26922175823554145,
          -0.26922175823554145,
          -0.26922175823554145,
          -0.26922175823554145,
          -0.26922175823554145,
          -0.26922175823554145,
          -0.26922175823554145,
          -0.26922175823554145,
          -0.2692217582355415,
          -0.26922175823554145,
          -0.26922175823554145,
          -0.26922175823554145,
          -0.26922175823554145,
          -0.2692217582355414
         ],
         "yaxis": "y3"
        },
        {
         "line": {
          "color": "rgb(31, 119, 180)",
          "width": 2
         },
         "marker": {
          "color": "rgb(31, 119, 180)",
          "size": 5
         },
         "mode": "lines+markers",
         "name": "Lags=[1, 12]",
         "showlegend": false,
         "type": "scattergl",
         "x": [
          "2021-02-01T00:00:00",
          "2021-03-01T00:00:00",
          "2021-04-01T00:00:00",
          "2021-05-01T00:00:00",
          "2021-06-01T00:00:00",
          "2021-07-01T00:00:00",
          "2021-08-01T00:00:00",
          "2021-09-01T00:00:00",
          "2021-10-01T00:00:00",
          "2021-11-01T00:00:00",
          "2021-12-01T00:00:00",
          "2022-01-01T00:00:00",
          "2022-02-01T00:00:00",
          "2022-03-01T00:00:00",
          "2022-04-01T00:00:00",
          "2022-05-01T00:00:00",
          "2022-06-01T00:00:00",
          "2022-07-01T00:00:00",
          "2022-08-01T00:00:00",
          "2022-09-01T00:00:00",
          "2022-10-01T00:00:00",
          "2022-11-01T00:00:00",
          "2022-12-01T00:00:00",
          "2023-01-01T00:00:00",
          "2023-02-01T00:00:00",
          "2023-03-01T00:00:00",
          "2023-04-01T00:00:00",
          "2023-05-01T00:00:00",
          "2023-06-01T00:00:00",
          "2023-07-01T00:00:00",
          "2023-08-01T00:00:00",
          "2023-09-01T00:00:00",
          "2023-10-01T00:00:00",
          "2023-11-01T00:00:00",
          "2023-12-01T00:00:00",
          "2024-01-01T00:00:00",
          "2024-02-01T00:00:00",
          "2024-03-01T00:00:00",
          "2024-04-01T00:00:00",
          "2024-05-01T00:00:00"
         ],
         "xaxis": "x4",
         "y": [
          -39085,
          52306,
          131420,
          -81302,
          -80979,
          33956,
          -35178,
          2716,
          -1027,
          -37958,
          78887,
          -28837,
          28402,
          -65272,
          -114522,
          98475,
          183617,
          -144481,
          9392,
          -41084,
          40589,
          2948,
          -36134,
          36522,
          -32871,
          -12754,
          70592,
          110979,
          -231026,
          146621,
          -12032,
          -25263,
          29049,
          -82680,
          74973,
          -74329,
          41932,
          68243,
          8604,
          -312362
         ],
         "yaxis": "y4"
        },
        {
         "line": {
          "color": "#3f3f3f"
         },
         "mode": "lines",
         "name": "Lags=[1, 12]",
         "showlegend": false,
         "type": "scattergl",
         "x": [
          0,
          0
         ],
         "xaxis": "x5",
         "y": [
          0,
          1
         ],
         "yaxis": "y5"
        },
        {
         "line": {
          "color": "#3f3f3f"
         },
         "mode": "lines",
         "name": "Lags=[1, 12]",
         "showlegend": false,
         "type": "scattergl",
         "x": [
          1,
          1
         ],
         "xaxis": "x5",
         "y": [
          0,
          -0.2848263762459234
         ],
         "yaxis": "y5"
        },
        {
         "line": {
          "color": "#3f3f3f"
         },
         "mode": "lines",
         "name": "Lags=[1, 12]",
         "showlegend": false,
         "type": "scattergl",
         "x": [
          2,
          2
         ],
         "xaxis": "x5",
         "y": [
          0,
          -0.19930832398755172
         ],
         "yaxis": "y5"
        },
        {
         "line": {
          "color": "#3f3f3f"
         },
         "mode": "lines",
         "name": "Lags=[1, 12]",
         "showlegend": false,
         "type": "scattergl",
         "x": [
          3,
          3
         ],
         "xaxis": "x5",
         "y": [
          0,
          0.02214672627335647
         ],
         "yaxis": "y5"
        },
        {
         "line": {
          "color": "#3f3f3f"
         },
         "mode": "lines",
         "name": "Lags=[1, 12]",
         "showlegend": false,
         "type": "scattergl",
         "x": [
          4,
          4
         ],
         "xaxis": "x5",
         "y": [
          0,
          0.012332298937789112
         ],
         "yaxis": "y5"
        },
        {
         "line": {
          "color": "#3f3f3f"
         },
         "mode": "lines",
         "name": "Lags=[1, 12]",
         "showlegend": false,
         "type": "scattergl",
         "x": [
          5,
          5
         ],
         "xaxis": "x5",
         "y": [
          0,
          0.04100692216372522
         ],
         "yaxis": "y5"
        },
        {
         "line": {
          "color": "#3f3f3f"
         },
         "mode": "lines",
         "name": "Lags=[1, 12]",
         "showlegend": false,
         "type": "scattergl",
         "x": [
          6,
          6
         ],
         "xaxis": "x5",
         "y": [
          0,
          0.009661080426088046
         ],
         "yaxis": "y5"
        },
        {
         "line": {
          "color": "#3f3f3f"
         },
         "mode": "lines",
         "name": "Lags=[1, 12]",
         "showlegend": false,
         "type": "scattergl",
         "x": [
          7,
          7
         ],
         "xaxis": "x5",
         "y": [
          0,
          -0.02851384521401807
         ],
         "yaxis": "y5"
        },
        {
         "line": {
          "color": "#3f3f3f"
         },
         "mode": "lines",
         "name": "Lags=[1, 12]",
         "showlegend": false,
         "type": "scattergl",
         "x": [
          8,
          8
         ],
         "xaxis": "x5",
         "y": [
          0,
          0.04015587369687124
         ],
         "yaxis": "y5"
        },
        {
         "line": {
          "color": "#3f3f3f"
         },
         "mode": "lines",
         "name": "Lags=[1, 12]",
         "showlegend": false,
         "type": "scattergl",
         "x": [
          9,
          9
         ],
         "xaxis": "x5",
         "y": [
          0,
          -0.04394681619663276
         ],
         "yaxis": "y5"
        },
        {
         "line": {
          "color": "#3f3f3f"
         },
         "mode": "lines",
         "name": "Lags=[1, 12]",
         "showlegend": false,
         "type": "scattergl",
         "x": [
          10,
          10
         ],
         "xaxis": "x5",
         "y": [
          0,
          -0.11563435918999736
         ],
         "yaxis": "y5"
        },
        {
         "line": {
          "color": "#3f3f3f"
         },
         "mode": "lines",
         "name": "Lags=[1, 12]",
         "showlegend": false,
         "type": "scattergl",
         "x": [
          11,
          11
         ],
         "xaxis": "x5",
         "y": [
          0,
          0.44941355411669215
         ],
         "yaxis": "y5"
        },
        {
         "line": {
          "color": "#3f3f3f"
         },
         "mode": "lines",
         "name": "Lags=[1, 12]",
         "showlegend": false,
         "type": "scattergl",
         "x": [
          12,
          12
         ],
         "xaxis": "x5",
         "y": [
          0,
          -0.43515002890787396
         ],
         "yaxis": "y5"
        },
        {
         "line": {
          "color": "#3f3f3f"
         },
         "mode": "lines",
         "name": "Lags=[1, 12]",
         "showlegend": false,
         "type": "scattergl",
         "x": [
          13,
          13
         ],
         "xaxis": "x5",
         "y": [
          0,
          -0.06766436706117765
         ],
         "yaxis": "y5"
        },
        {
         "line": {
          "color": "#3f3f3f"
         },
         "mode": "lines",
         "name": "Lags=[1, 12]",
         "showlegend": false,
         "type": "scattergl",
         "x": [
          14,
          14
         ],
         "xaxis": "x5",
         "y": [
          0,
          0.24604072489738357
         ],
         "yaxis": "y5"
        },
        {
         "line": {
          "color": "#3f3f3f"
         },
         "mode": "lines",
         "name": "Lags=[1, 12]",
         "showlegend": false,
         "type": "scattergl",
         "x": [
          15,
          15
         ],
         "xaxis": "x5",
         "y": [
          0,
          -0.05253142975709525
         ],
         "yaxis": "y5"
        },
        {
         "line": {
          "color": "#3f3f3f"
         },
         "mode": "lines",
         "name": "Lags=[1, 12]",
         "showlegend": false,
         "type": "scattergl",
         "x": [
          16,
          16
         ],
         "xaxis": "x5",
         "y": [
          0,
          -0.04395074062847894
         ],
         "yaxis": "y5"
        },
        {
         "line": {
          "color": "#3f3f3f"
         },
         "mode": "lines",
         "name": "Lags=[1, 12]",
         "showlegend": false,
         "type": "scattergl",
         "x": [
          17,
          17
         ],
         "xaxis": "x5",
         "y": [
          0,
          0.005963770323215813
         ],
         "yaxis": "y5"
        },
        {
         "line": {
          "color": "#3f3f3f"
         },
         "mode": "lines",
         "name": "Lags=[1, 12]",
         "showlegend": false,
         "type": "scattergl",
         "x": [
          18,
          18
         ],
         "xaxis": "x5",
         "y": [
          0,
          -0.02310150513717882
         ],
         "yaxis": "y5"
        },
        {
         "line": {
          "color": "#3f3f3f"
         },
         "mode": "lines",
         "name": "Lags=[1, 12]",
         "showlegend": false,
         "type": "scattergl",
         "x": [
          19,
          19
         ],
         "xaxis": "x5",
         "y": [
          0,
          0.01614976282868087
         ],
         "yaxis": "y5"
        },
        {
         "line": {
          "color": "#3f3f3f"
         },
         "mode": "lines",
         "name": "Lags=[1, 12]",
         "showlegend": false,
         "type": "scattergl",
         "x": [
          20,
          20
         ],
         "xaxis": "x5",
         "y": [
          0,
          -0.04087076241144873
         ],
         "yaxis": "y5"
        },
        {
         "line": {
          "color": "#3f3f3f"
         },
         "mode": "lines",
         "name": "Lags=[1, 12]",
         "showlegend": false,
         "type": "scattergl",
         "x": [
          21,
          21
         ],
         "xaxis": "x5",
         "y": [
          0,
          0.04244734473937559
         ],
         "yaxis": "y5"
        },
        {
         "line": {
          "color": "#3f3f3f"
         },
         "mode": "lines",
         "name": "Lags=[1, 12]",
         "showlegend": false,
         "type": "scattergl",
         "x": [
          22,
          22
         ],
         "xaxis": "x5",
         "y": [
          0,
          0.19159188510706476
         ],
         "yaxis": "y5"
        },
        {
         "line": {
          "color": "#3f3f3f"
         },
         "mode": "lines",
         "name": "Lags=[1, 12]",
         "showlegend": false,
         "type": "scattergl",
         "x": [
          23,
          23
         ],
         "xaxis": "x5",
         "y": [
          0,
          -0.3182721763022167
         ],
         "yaxis": "y5"
        },
        {
         "line": {
          "color": "#3f3f3f"
         },
         "mode": "lines",
         "name": "Lags=[1, 12]",
         "showlegend": false,
         "type": "scattergl",
         "x": [
          24,
          24
         ],
         "xaxis": "x5",
         "y": [
          0,
          -0.00026298396501167197
         ],
         "yaxis": "y5"
        },
        {
         "line": {
          "color": "#3f3f3f"
         },
         "mode": "lines",
         "name": "Lags=[1, 12]",
         "showlegend": false,
         "type": "scattergl",
         "x": [
          25,
          25
         ],
         "xaxis": "x5",
         "y": [
          0,
          0.14857028843280143
         ],
         "yaxis": "y5"
        },
        {
         "line": {
          "color": "#3f3f3f"
         },
         "mode": "lines",
         "name": "Lags=[1, 12]",
         "showlegend": false,
         "type": "scattergl",
         "x": [
          26,
          26
         ],
         "xaxis": "x5",
         "y": [
          0,
          -0.04721448199471296
         ],
         "yaxis": "y5"
        },
        {
         "line": {
          "color": "#3f3f3f"
         },
         "mode": "lines",
         "name": "Lags=[1, 12]",
         "showlegend": false,
         "type": "scattergl",
         "x": [
          27,
          27
         ],
         "xaxis": "x5",
         "y": [
          0,
          0.010818929213835126
         ],
         "yaxis": "y5"
        },
        {
         "line": {
          "color": "#3f3f3f"
         },
         "mode": "lines",
         "name": "Lags=[1, 12]",
         "showlegend": false,
         "type": "scattergl",
         "x": [
          28,
          28
         ],
         "xaxis": "x5",
         "y": [
          0,
          0.04123354306560254
         ],
         "yaxis": "y5"
        },
        {
         "line": {
          "color": "#3f3f3f"
         },
         "mode": "lines",
         "name": "Lags=[1, 12]",
         "showlegend": false,
         "type": "scattergl",
         "x": [
          29,
          29
         ],
         "xaxis": "x5",
         "y": [
          0,
          -0.07260151855701523
         ],
         "yaxis": "y5"
        },
        {
         "line": {
          "color": "#3f3f3f"
         },
         "mode": "lines",
         "name": "Lags=[1, 12]",
         "showlegend": false,
         "type": "scattergl",
         "x": [
          30,
          30
         ],
         "xaxis": "x5",
         "y": [
          0,
          0.028540380924277825
         ],
         "yaxis": "y5"
        },
        {
         "line": {
          "color": "#3f3f3f"
         },
         "mode": "lines",
         "name": "Lags=[1, 12]",
         "showlegend": false,
         "type": "scattergl",
         "x": [
          31,
          31
         ],
         "xaxis": "x5",
         "y": [
          0,
          -0.029941387257183764
         ],
         "yaxis": "y5"
        },
        {
         "line": {
          "color": "#3f3f3f"
         },
         "mode": "lines",
         "name": "Lags=[1, 12]",
         "showlegend": false,
         "type": "scattergl",
         "x": [
          32,
          32
         ],
         "xaxis": "x5",
         "y": [
          0,
          0.019790834018462083
         ],
         "yaxis": "y5"
        },
        {
         "line": {
          "color": "#3f3f3f"
         },
         "mode": "lines",
         "name": "Lags=[1, 12]",
         "showlegend": false,
         "type": "scattergl",
         "x": [
          33,
          33
         ],
         "xaxis": "x5",
         "y": [
          0,
          -0.005087535611786768
         ],
         "yaxis": "y5"
        },
        {
         "line": {
          "color": "#3f3f3f"
         },
         "mode": "lines",
         "name": "Lags=[1, 12]",
         "showlegend": false,
         "type": "scattergl",
         "x": [
          34,
          34
         ],
         "xaxis": "x5",
         "y": [
          0,
          -0.05431812451085086
         ],
         "yaxis": "y5"
        },
        {
         "line": {
          "color": "#3f3f3f"
         },
         "mode": "lines",
         "name": "Lags=[1, 12]",
         "showlegend": false,
         "type": "scattergl",
         "x": [
          35,
          35
         ],
         "xaxis": "x5",
         "y": [
          0,
          0.1061623420053425
         ],
         "yaxis": "y5"
        },
        {
         "line": {
          "color": "#3f3f3f"
         },
         "mode": "lines",
         "name": "Lags=[1, 12]",
         "showlegend": false,
         "type": "scattergl",
         "x": [
          36,
          36
         ],
         "xaxis": "x5",
         "y": [
          0,
          0.07953773458794686
         ],
         "yaxis": "y5"
        },
        {
         "line": {
          "color": "#3f3f3f"
         },
         "mode": "lines",
         "name": "Lags=[1, 12]",
         "showlegend": false,
         "type": "scattergl",
         "x": [
          37,
          37
         ],
         "xaxis": "x5",
         "y": [
          0,
          -0.12494171824037169
         ],
         "yaxis": "y5"
        },
        {
         "line": {
          "color": "#3f3f3f"
         },
         "mode": "lines",
         "name": "Lags=[1, 12]",
         "showlegend": false,
         "type": "scattergl",
         "x": [
          38,
          38
         ],
         "xaxis": "x5",
         "y": [
          0,
          -0.05242807182462718
         ],
         "yaxis": "y5"
        },
        {
         "line": {
          "color": "#3f3f3f"
         },
         "mode": "lines",
         "name": "Lags=[1, 12]",
         "showlegend": false,
         "type": "scattergl",
         "x": [
          39,
          39
         ],
         "xaxis": "x5",
         "y": [
          0,
          0.029002557242642543
         ],
         "yaxis": "y5"
        },
        {
         "marker": {
          "color": "#1f77b4",
          "size": 6
         },
         "mode": "markers",
         "name": "Lags=[1, 12]",
         "showlegend": false,
         "type": "scattergl",
         "x": [
          0,
          1,
          2,
          3,
          4,
          5,
          6,
          7,
          8,
          9,
          10,
          11,
          12,
          13,
          14,
          15,
          16,
          17,
          18,
          19,
          20,
          21,
          22,
          23,
          24,
          25,
          26,
          27,
          28,
          29,
          30,
          31,
          32,
          33,
          34,
          35,
          36,
          37,
          38,
          39
         ],
         "xaxis": "x5",
         "y": [
          1,
          -0.2848263762459234,
          -0.19930832398755172,
          0.02214672627335647,
          0.012332298937789112,
          0.04100692216372522,
          0.009661080426088046,
          -0.02851384521401807,
          0.04015587369687124,
          -0.04394681619663276,
          -0.11563435918999736,
          0.44941355411669215,
          -0.43515002890787396,
          -0.06766436706117765,
          0.24604072489738357,
          -0.05253142975709525,
          -0.04395074062847894,
          0.005963770323215813,
          -0.02310150513717882,
          0.01614976282868087,
          -0.04087076241144873,
          0.04244734473937559,
          0.19159188510706476,
          -0.3182721763022167,
          -0.00026298396501167197,
          0.14857028843280143,
          -0.04721448199471296,
          0.010818929213835126,
          0.04123354306560254,
          -0.07260151855701523,
          0.028540380924277825,
          -0.029941387257183764,
          0.019790834018462083,
          -0.005087535611786768,
          -0.05431812451085086,
          0.1061623420053425,
          0.07953773458794686,
          -0.12494171824037169,
          -0.05242807182462718,
          0.029002557242642543
         ],
         "yaxis": "y5"
        },
        {
         "line": {
          "color": "rgba(255,255,255,0)"
         },
         "mode": "lines",
         "name": "UC",
         "showlegend": false,
         "type": "scatter",
         "x": [
          0,
          1,
          2,
          3,
          4,
          5,
          6,
          7,
          8,
          9,
          10,
          11,
          12,
          13,
          14,
          15,
          16,
          17,
          18,
          19,
          20,
          21,
          22,
          23,
          24,
          25,
          26,
          27,
          28,
          29,
          30,
          31,
          32,
          33,
          34,
          35,
          36,
          37,
          38,
          39
         ],
         "xaxis": "x5",
         "y": [
          0,
          0.3098975161522808,
          0.33409368796893013,
          0.3453237046227774,
          0.34546008224885094,
          0.3455023588274111,
          0.3459694547244543,
          0.3459953627053332,
          0.34622096105862027,
          0.34666795406885015,
          0.3472025708437204,
          0.35088159125574925,
          0.4023820962122655,
          0.4452880284626872,
          0.4462743862599282,
          0.45911672017918115,
          0.45969359126070963,
          0.46009696687062174,
          0.46010439065134917,
          0.46021577080255616,
          0.46027019365657856,
          0.4606185987354706,
          0.46099410638639843,
          0.46857878108881024,
          0.4888992953805836,
          0.4888993089660737,
          0.49321616500338983,
          0.49365003375353306,
          0.4936728044105613,
          0.49400344250163314,
          0.4950270840364377,
          0.4951850841714603,
          0.495358918782504,
          0.49543484838275686,
          0.49543986559374775,
          0.49601145520031076,
          0.4981888304617287,
          0.49940686066074885,
          0.5023997952267428,
          0.502924950324023
         ],
         "yaxis": "y5"
        },
        {
         "fill": "tonexty",
         "fillcolor": "rgba(32, 146, 230,0.3)",
         "line": {
          "color": "rgba(255,255,255,0)"
         },
         "mode": "lines",
         "name": "LC",
         "showlegend": false,
         "type": "scatter",
         "x": [
          0,
          1,
          2,
          3,
          4,
          5,
          6,
          7,
          8,
          9,
          10,
          11,
          12,
          13,
          14,
          15,
          16,
          17,
          18,
          19,
          20,
          21,
          22,
          23,
          24,
          25,
          26,
          27,
          28,
          29,
          30,
          31,
          32,
          33,
          34,
          35,
          36,
          37,
          38,
          39
         ],
         "xaxis": "x5",
         "y": [
          0,
          -0.3098975161522807,
          -0.33409368796893013,
          -0.3453237046227774,
          -0.34546008224885094,
          -0.3455023588274111,
          -0.3459694547244543,
          -0.3459953627053332,
          -0.34622096105862027,
          -0.34666795406885015,
          -0.3472025708437204,
          -0.3508815912557492,
          -0.40238209621226556,
          -0.44528802846268734,
          -0.4462743862599282,
          -0.45911672017918115,
          -0.45969359126070963,
          -0.46009696687062174,
          -0.46010439065134917,
          -0.46021577080255616,
          -0.4602701936565786,
          -0.4606185987354706,
          -0.46099410638639843,
          -0.46857878108881024,
          -0.4888992953805836,
          -0.4888993089660737,
          -0.4932161650033899,
          -0.4936500337535331,
          -0.49367280441056133,
          -0.4940034425016331,
          -0.4950270840364377,
          -0.49518508417146034,
          -0.495358918782504,
          -0.49543484838275686,
          -0.49543986559374786,
          -0.49601145520031076,
          -0.4981888304617287,
          -0.4994068606607488,
          -0.5023997952267428,
          -0.502924950324023
         ],
         "yaxis": "y5"
        },
        {
         "line": {
          "color": "#3f3f3f"
         },
         "mode": "lines",
         "name": "Lags=[1, 12]",
         "showlegend": false,
         "type": "scattergl",
         "x": [
          0,
          0
         ],
         "xaxis": "x6",
         "y": [
          0,
          1
         ],
         "yaxis": "y6"
        },
        {
         "line": {
          "color": "#3f3f3f"
         },
         "mode": "lines",
         "name": "Lags=[1, 12]",
         "showlegend": false,
         "type": "scattergl",
         "x": [
          1,
          1
         ],
         "xaxis": "x6",
         "y": [
          0,
          -0.29212961666248566
         ],
         "yaxis": "y6"
        },
        {
         "line": {
          "color": "#3f3f3f"
         },
         "mode": "lines",
         "name": "Lags=[1, 12]",
         "showlegend": false,
         "type": "scattergl",
         "x": [
          2,
          2
         ],
         "xaxis": "x6",
         "y": [
          0,
          -0.32267493503366257
         ],
         "yaxis": "y6"
        },
        {
         "line": {
          "color": "#3f3f3f"
         },
         "mode": "lines",
         "name": "Lags=[1, 12]",
         "showlegend": false,
         "type": "scattergl",
         "x": [
          3,
          3
         ],
         "xaxis": "x6",
         "y": [
          0,
          -0.18474498508198153
         ],
         "yaxis": "y6"
        },
        {
         "line": {
          "color": "#3f3f3f"
         },
         "mode": "lines",
         "name": "Lags=[1, 12]",
         "showlegend": false,
         "type": "scattergl",
         "x": [
          4,
          4
         ],
         "xaxis": "x6",
         "y": [
          0,
          -0.14184104330830757
         ],
         "yaxis": "y6"
        },
        {
         "line": {
          "color": "#3f3f3f"
         },
         "mode": "lines",
         "name": "Lags=[1, 12]",
         "showlegend": false,
         "type": "scattergl",
         "x": [
          5,
          5
         ],
         "xaxis": "x6",
         "y": [
          0,
          -0.03785625327574391
         ],
         "yaxis": "y6"
        },
        {
         "line": {
          "color": "#3f3f3f"
         },
         "mode": "lines",
         "name": "Lags=[1, 12]",
         "showlegend": false,
         "type": "scattergl",
         "x": [
          6,
          6
         ],
         "xaxis": "x6",
         "y": [
          0,
          0.0023505152682484127
         ],
         "yaxis": "y6"
        },
        {
         "line": {
          "color": "#3f3f3f"
         },
         "mode": "lines",
         "name": "Lags=[1, 12]",
         "showlegend": false,
         "type": "scattergl",
         "x": [
          7,
          7
         ],
         "xaxis": "x6",
         "y": [
          0,
          -0.009328638950131385
         ],
         "yaxis": "y6"
        },
        {
         "line": {
          "color": "#3f3f3f"
         },
         "mode": "lines",
         "name": "Lags=[1, 12]",
         "showlegend": false,
         "type": "scattergl",
         "x": [
          8,
          8
         ],
         "xaxis": "x6",
         "y": [
          0,
          0.06637446374179139
         ],
         "yaxis": "y6"
        },
        {
         "line": {
          "color": "#3f3f3f"
         },
         "mode": "lines",
         "name": "Lags=[1, 12]",
         "showlegend": false,
         "type": "scattergl",
         "x": [
          9,
          9
         ],
         "xaxis": "x6",
         "y": [
          0,
          -0.0192979073591452
         ],
         "yaxis": "y6"
        },
        {
         "line": {
          "color": "#3f3f3f"
         },
         "mode": "lines",
         "name": "Lags=[1, 12]",
         "showlegend": false,
         "type": "scattergl",
         "x": [
          10,
          10
         ],
         "xaxis": "x6",
         "y": [
          0,
          -0.20571729684937873
         ],
         "yaxis": "y6"
        },
        {
         "line": {
          "color": "#3f3f3f"
         },
         "mode": "lines",
         "name": "Lags=[1, 12]",
         "showlegend": false,
         "type": "scattergl",
         "x": [
          11,
          11
         ],
         "xaxis": "x6",
         "y": [
          0,
          0.6044289782912459
         ],
         "yaxis": "y6"
        },
        {
         "line": {
          "color": "#3f3f3f"
         },
         "mode": "lines",
         "name": "Lags=[1, 12]",
         "showlegend": false,
         "type": "scattergl",
         "x": [
          12,
          12
         ],
         "xaxis": "x6",
         "y": [
          0,
          -0.6003429527029184
         ],
         "yaxis": "y6"
        },
        {
         "line": {
          "color": "#3f3f3f"
         },
         "mode": "lines",
         "name": "Lags=[1, 12]",
         "showlegend": false,
         "type": "scattergl",
         "x": [
          13,
          13
         ],
         "xaxis": "x6",
         "y": [
          0,
          -0.03641928729837749
         ],
         "yaxis": "y6"
        },
        {
         "line": {
          "color": "#3f3f3f"
         },
         "mode": "lines",
         "name": "Lags=[1, 12]",
         "showlegend": false,
         "type": "scattergl",
         "x": [
          14,
          14
         ],
         "xaxis": "x6",
         "y": [
          0,
          0.41809864568936767
         ],
         "yaxis": "y6"
        },
        {
         "line": {
          "color": "#3f3f3f"
         },
         "mode": "lines",
         "name": "Lags=[1, 12]",
         "showlegend": false,
         "type": "scattergl",
         "x": [
          15,
          15
         ],
         "xaxis": "x6",
         "y": [
          0,
          -0.6610753969832469
         ],
         "yaxis": "y6"
        },
        {
         "line": {
          "color": "#3f3f3f"
         },
         "mode": "lines",
         "name": "Lags=[1, 12]",
         "showlegend": false,
         "type": "scattergl",
         "x": [
          16,
          16
         ],
         "xaxis": "x6",
         "y": [
          0,
          0.336180443813912
         ],
         "yaxis": "y6"
        },
        {
         "marker": {
          "color": "#1f77b4",
          "size": 6
         },
         "mode": "markers",
         "name": "Lags=[1, 12]",
         "showlegend": false,
         "type": "scattergl",
         "x": [
          0,
          1,
          2,
          3,
          4,
          5,
          6,
          7,
          8,
          9,
          10,
          11,
          12,
          13,
          14,
          15,
          16
         ],
         "xaxis": "x6",
         "y": [
          1,
          -0.29212961666248566,
          -0.32267493503366257,
          -0.18474498508198153,
          -0.14184104330830757,
          -0.03785625327574391,
          0.0023505152682484127,
          -0.009328638950131385,
          0.06637446374179139,
          -0.0192979073591452,
          -0.20571729684937873,
          0.6044289782912459,
          -0.6003429527029184,
          -0.03641928729837749,
          0.41809864568936767,
          -0.6610753969832469,
          0.336180443813912
         ],
         "yaxis": "y6"
        },
        {
         "line": {
          "color": "rgba(255,255,255,0)"
         },
         "mode": "lines",
         "name": "UC",
         "showlegend": false,
         "type": "scatter",
         "x": [
          0,
          1,
          2,
          3,
          4,
          5,
          6,
          7,
          8,
          9,
          10,
          11,
          12,
          13,
          14,
          15,
          16
         ],
         "xaxis": "x6",
         "y": [
          0,
          0.3098975161522808,
          0.3098975161522808,
          0.3098975161522808,
          0.3098975161522808,
          0.3098975161522808,
          0.3098975161522808,
          0.3098975161522808,
          0.3098975161522808,
          0.3098975161522808,
          0.3098975161522808,
          0.3098975161522808,
          0.3098975161522808,
          0.3098975161522808,
          0.3098975161522807,
          0.3098975161522808,
          0.3098975161522808
         ],
         "yaxis": "y6"
        },
        {
         "fill": "tonexty",
         "fillcolor": "rgba(32, 146, 230,0.3)",
         "line": {
          "color": "rgba(255,255,255,0)"
         },
         "mode": "lines",
         "name": "LC",
         "showlegend": false,
         "type": "scatter",
         "x": [
          0,
          1,
          2,
          3,
          4,
          5,
          6,
          7,
          8,
          9,
          10,
          11,
          12,
          13,
          14,
          15,
          16
         ],
         "xaxis": "x6",
         "y": [
          0,
          -0.3098975161522807,
          -0.30989751615228084,
          -0.3098975161522808,
          -0.3098975161522808,
          -0.3098975161522808,
          -0.3098975161522808,
          -0.3098975161522808,
          -0.3098975161522808,
          -0.3098975161522808,
          -0.30989751615228084,
          -0.3098975161522808,
          -0.3098975161522808,
          -0.3098975161522808,
          -0.3098975161522808,
          -0.3098975161522808,
          -0.3098975161522808
         ],
         "yaxis": "y6"
        }
       ],
       "layout": {
        "annotations": [
         {
          "font": {
           "size": 16
          },
          "showarrow": false,
          "text": "Quantity (transformed)",
          "x": 0.1411111111111111,
          "xanchor": "center",
          "xref": "paper",
          "y": 1,
          "yanchor": "bottom",
          "yref": "paper"
         },
         {
          "font": {
           "size": 16
          },
          "showarrow": false,
          "text": "ACF",
          "x": 0.49,
          "xanchor": "center",
          "xref": "paper",
          "y": 1,
          "yanchor": "bottom",
          "yref": "paper"
         },
         {
          "font": {
           "size": 16
          },
          "showarrow": false,
          "text": "PACF",
          "x": 0.8388888888888888,
          "xanchor": "center",
          "xref": "paper",
          "y": 1,
          "yanchor": "bottom",
          "yref": "paper"
         },
         {
          "font": {
           "size": 16
          },
          "showarrow": false,
          "text": "Actual",
          "textangle": 90,
          "x": 0.98,
          "xanchor": "left",
          "xref": "paper",
          "y": 0.7875,
          "yanchor": "middle",
          "yref": "paper"
         },
         {
          "font": {
           "size": 16
          },
          "showarrow": false,
          "text": "Lags=[1, 12]",
          "textangle": 90,
          "x": 0.98,
          "xanchor": "left",
          "xref": "paper",
          "y": 0.2125,
          "yanchor": "middle",
          "yref": "paper"
         }
        ],
        "showlegend": false,
        "template": {
         "data": {
          "bar": [
           {
            "error_x": {
             "color": "rgb(51,51,51)"
            },
            "error_y": {
             "color": "rgb(51,51,51)"
            },
            "marker": {
             "line": {
              "color": "rgb(237,237,237)",
              "width": 0.5
             },
             "pattern": {
              "fillmode": "overlay",
              "size": 10,
              "solidity": 0.2
             }
            },
            "type": "bar"
           }
          ],
          "barpolar": [
           {
            "marker": {
             "line": {
              "color": "rgb(237,237,237)",
              "width": 0.5
             },
             "pattern": {
              "fillmode": "overlay",
              "size": 10,
              "solidity": 0.2
             }
            },
            "type": "barpolar"
           }
          ],
          "carpet": [
           {
            "aaxis": {
             "endlinecolor": "rgb(51,51,51)",
             "gridcolor": "white",
             "linecolor": "white",
             "minorgridcolor": "white",
             "startlinecolor": "rgb(51,51,51)"
            },
            "baxis": {
             "endlinecolor": "rgb(51,51,51)",
             "gridcolor": "white",
             "linecolor": "white",
             "minorgridcolor": "white",
             "startlinecolor": "rgb(51,51,51)"
            },
            "type": "carpet"
           }
          ],
          "choropleth": [
           {
            "colorbar": {
             "outlinewidth": 0,
             "tickcolor": "rgb(237,237,237)",
             "ticklen": 6,
             "ticks": "inside"
            },
            "type": "choropleth"
           }
          ],
          "contour": [
           {
            "colorbar": {
             "outlinewidth": 0,
             "tickcolor": "rgb(237,237,237)",
             "ticklen": 6,
             "ticks": "inside"
            },
            "colorscale": [
             [
              0,
              "rgb(20,44,66)"
             ],
             [
              1,
              "rgb(90,179,244)"
             ]
            ],
            "type": "contour"
           }
          ],
          "contourcarpet": [
           {
            "colorbar": {
             "outlinewidth": 0,
             "tickcolor": "rgb(237,237,237)",
             "ticklen": 6,
             "ticks": "inside"
            },
            "type": "contourcarpet"
           }
          ],
          "heatmap": [
           {
            "colorbar": {
             "outlinewidth": 0,
             "tickcolor": "rgb(237,237,237)",
             "ticklen": 6,
             "ticks": "inside"
            },
            "colorscale": [
             [
              0,
              "rgb(20,44,66)"
             ],
             [
              1,
              "rgb(90,179,244)"
             ]
            ],
            "type": "heatmap"
           }
          ],
          "heatmapgl": [
           {
            "colorbar": {
             "outlinewidth": 0,
             "tickcolor": "rgb(237,237,237)",
             "ticklen": 6,
             "ticks": "inside"
            },
            "colorscale": [
             [
              0,
              "rgb(20,44,66)"
             ],
             [
              1,
              "rgb(90,179,244)"
             ]
            ],
            "type": "heatmapgl"
           }
          ],
          "histogram": [
           {
            "marker": {
             "pattern": {
              "fillmode": "overlay",
              "size": 10,
              "solidity": 0.2
             }
            },
            "type": "histogram"
           }
          ],
          "histogram2d": [
           {
            "colorbar": {
             "outlinewidth": 0,
             "tickcolor": "rgb(237,237,237)",
             "ticklen": 6,
             "ticks": "inside"
            },
            "colorscale": [
             [
              0,
              "rgb(20,44,66)"
             ],
             [
              1,
              "rgb(90,179,244)"
             ]
            ],
            "type": "histogram2d"
           }
          ],
          "histogram2dcontour": [
           {
            "colorbar": {
             "outlinewidth": 0,
             "tickcolor": "rgb(237,237,237)",
             "ticklen": 6,
             "ticks": "inside"
            },
            "colorscale": [
             [
              0,
              "rgb(20,44,66)"
             ],
             [
              1,
              "rgb(90,179,244)"
             ]
            ],
            "type": "histogram2dcontour"
           }
          ],
          "mesh3d": [
           {
            "colorbar": {
             "outlinewidth": 0,
             "tickcolor": "rgb(237,237,237)",
             "ticklen": 6,
             "ticks": "inside"
            },
            "type": "mesh3d"
           }
          ],
          "parcoords": [
           {
            "line": {
             "colorbar": {
              "outlinewidth": 0,
              "tickcolor": "rgb(237,237,237)",
              "ticklen": 6,
              "ticks": "inside"
             }
            },
            "type": "parcoords"
           }
          ],
          "pie": [
           {
            "automargin": true,
            "type": "pie"
           }
          ],
          "scatter": [
           {
            "fillpattern": {
             "fillmode": "overlay",
             "size": 10,
             "solidity": 0.2
            },
            "type": "scatter"
           }
          ],
          "scatter3d": [
           {
            "line": {
             "colorbar": {
              "outlinewidth": 0,
              "tickcolor": "rgb(237,237,237)",
              "ticklen": 6,
              "ticks": "inside"
             }
            },
            "marker": {
             "colorbar": {
              "outlinewidth": 0,
              "tickcolor": "rgb(237,237,237)",
              "ticklen": 6,
              "ticks": "inside"
             }
            },
            "type": "scatter3d"
           }
          ],
          "scattercarpet": [
           {
            "marker": {
             "colorbar": {
              "outlinewidth": 0,
              "tickcolor": "rgb(237,237,237)",
              "ticklen": 6,
              "ticks": "inside"
             }
            },
            "type": "scattercarpet"
           }
          ],
          "scattergeo": [
           {
            "marker": {
             "colorbar": {
              "outlinewidth": 0,
              "tickcolor": "rgb(237,237,237)",
              "ticklen": 6,
              "ticks": "inside"
             }
            },
            "type": "scattergeo"
           }
          ],
          "scattergl": [
           {
            "marker": {
             "colorbar": {
              "outlinewidth": 0,
              "tickcolor": "rgb(237,237,237)",
              "ticklen": 6,
              "ticks": "inside"
             }
            },
            "type": "scattergl"
           }
          ],
          "scattermapbox": [
           {
            "marker": {
             "colorbar": {
              "outlinewidth": 0,
              "tickcolor": "rgb(237,237,237)",
              "ticklen": 6,
              "ticks": "inside"
             }
            },
            "type": "scattermapbox"
           }
          ],
          "scatterpolar": [
           {
            "marker": {
             "colorbar": {
              "outlinewidth": 0,
              "tickcolor": "rgb(237,237,237)",
              "ticklen": 6,
              "ticks": "inside"
             }
            },
            "type": "scatterpolar"
           }
          ],
          "scatterpolargl": [
           {
            "marker": {
             "colorbar": {
              "outlinewidth": 0,
              "tickcolor": "rgb(237,237,237)",
              "ticklen": 6,
              "ticks": "inside"
             }
            },
            "type": "scatterpolargl"
           }
          ],
          "scatterternary": [
           {
            "marker": {
             "colorbar": {
              "outlinewidth": 0,
              "tickcolor": "rgb(237,237,237)",
              "ticklen": 6,
              "ticks": "inside"
             }
            },
            "type": "scatterternary"
           }
          ],
          "surface": [
           {
            "colorbar": {
             "outlinewidth": 0,
             "tickcolor": "rgb(237,237,237)",
             "ticklen": 6,
             "ticks": "inside"
            },
            "colorscale": [
             [
              0,
              "rgb(20,44,66)"
             ],
             [
              1,
              "rgb(90,179,244)"
             ]
            ],
            "type": "surface"
           }
          ],
          "table": [
           {
            "cells": {
             "fill": {
              "color": "rgb(237,237,237)"
             },
             "line": {
              "color": "white"
             }
            },
            "header": {
             "fill": {
              "color": "rgb(217,217,217)"
             },
             "line": {
              "color": "white"
             }
            },
            "type": "table"
           }
          ]
         },
         "layout": {
          "annotationdefaults": {
           "arrowhead": 0,
           "arrowwidth": 1
          },
          "autotypenumbers": "strict",
          "coloraxis": {
           "colorbar": {
            "outlinewidth": 0,
            "tickcolor": "rgb(237,237,237)",
            "ticklen": 6,
            "ticks": "inside"
           }
          },
          "colorscale": {
           "sequential": [
            [
             0,
             "rgb(20,44,66)"
            ],
            [
             1,
             "rgb(90,179,244)"
            ]
           ],
           "sequentialminus": [
            [
             0,
             "rgb(20,44,66)"
            ],
            [
             1,
             "rgb(90,179,244)"
            ]
           ]
          },
          "colorway": [
           "#F8766D",
           "#A3A500",
           "#00BF7D",
           "#00B0F6",
           "#E76BF3"
          ],
          "font": {
           "color": "rgb(51,51,51)"
          },
          "geo": {
           "bgcolor": "white",
           "lakecolor": "white",
           "landcolor": "rgb(237,237,237)",
           "showlakes": true,
           "showland": true,
           "subunitcolor": "white"
          },
          "hoverlabel": {
           "align": "left"
          },
          "hovermode": "closest",
          "paper_bgcolor": "white",
          "plot_bgcolor": "rgb(237,237,237)",
          "polar": {
           "angularaxis": {
            "gridcolor": "white",
            "linecolor": "white",
            "showgrid": true,
            "tickcolor": "rgb(51,51,51)",
            "ticks": "outside"
           },
           "bgcolor": "rgb(237,237,237)",
           "radialaxis": {
            "gridcolor": "white",
            "linecolor": "white",
            "showgrid": true,
            "tickcolor": "rgb(51,51,51)",
            "ticks": "outside"
           }
          },
          "scene": {
           "xaxis": {
            "backgroundcolor": "rgb(237,237,237)",
            "gridcolor": "white",
            "gridwidth": 2,
            "linecolor": "white",
            "showbackground": true,
            "showgrid": true,
            "tickcolor": "rgb(51,51,51)",
            "ticks": "outside",
            "zerolinecolor": "white"
           },
           "yaxis": {
            "backgroundcolor": "rgb(237,237,237)",
            "gridcolor": "white",
            "gridwidth": 2,
            "linecolor": "white",
            "showbackground": true,
            "showgrid": true,
            "tickcolor": "rgb(51,51,51)",
            "ticks": "outside",
            "zerolinecolor": "white"
           },
           "zaxis": {
            "backgroundcolor": "rgb(237,237,237)",
            "gridcolor": "white",
            "gridwidth": 2,
            "linecolor": "white",
            "showbackground": true,
            "showgrid": true,
            "tickcolor": "rgb(51,51,51)",
            "ticks": "outside",
            "zerolinecolor": "white"
           }
          },
          "shapedefaults": {
           "fillcolor": "black",
           "line": {
            "width": 0
           },
           "opacity": 0.3
          },
          "ternary": {
           "aaxis": {
            "gridcolor": "white",
            "linecolor": "white",
            "showgrid": true,
            "tickcolor": "rgb(51,51,51)",
            "ticks": "outside"
           },
           "baxis": {
            "gridcolor": "white",
            "linecolor": "white",
            "showgrid": true,
            "tickcolor": "rgb(51,51,51)",
            "ticks": "outside"
           },
           "bgcolor": "rgb(237,237,237)",
           "caxis": {
            "gridcolor": "white",
            "linecolor": "white",
            "showgrid": true,
            "tickcolor": "rgb(51,51,51)",
            "ticks": "outside"
           }
          },
          "xaxis": {
           "automargin": true,
           "gridcolor": "white",
           "linecolor": "white",
           "showgrid": true,
           "tickcolor": "rgb(51,51,51)",
           "ticks": "outside",
           "title": {
            "standoff": 15
           },
           "zerolinecolor": "white"
          },
          "yaxis": {
           "automargin": true,
           "gridcolor": "white",
           "linecolor": "white",
           "showgrid": true,
           "tickcolor": "rgb(51,51,51)",
           "ticks": "outside",
           "title": {
            "standoff": 15
           },
           "zerolinecolor": "white"
          }
         }
        },
        "title": {
         "text": "Difference Plot | Quantity"
        },
        "xaxis": {
         "anchor": "y",
         "domain": [
          0,
          0.2822222222222222
         ],
         "matches": "x4",
         "showticklabels": false
        },
        "xaxis2": {
         "anchor": "y2",
         "domain": [
          0.34888888888888886,
          0.6311111111111111
         ],
         "matches": "x5",
         "range": [
          -1,
          42
         ],
         "showticklabels": false
        },
        "xaxis3": {
         "anchor": "y3",
         "domain": [
          0.6977777777777777,
          0.98
         ],
         "matches": "x6",
         "range": [
          -1,
          19
         ],
         "showticklabels": false
        },
        "xaxis4": {
         "anchor": "y4",
         "domain": [
          0,
          0.2822222222222222
         ]
        },
        "xaxis5": {
         "anchor": "y5",
         "domain": [
          0.34888888888888886,
          0.6311111111111111
         ],
         "range": [
          -1,
          41
         ]
        },
        "xaxis6": {
         "anchor": "y6",
         "domain": [
          0.6977777777777777,
          0.98
         ],
         "range": [
          -1,
          18
         ]
        },
        "yaxis": {
         "anchor": "x",
         "domain": [
          0.575,
          1
         ]
        },
        "yaxis2": {
         "anchor": "x2",
         "domain": [
          0.575,
          1
         ],
         "range": [
          -1.1,
          1.1
         ],
         "zerolinecolor": "#000000"
        },
        "yaxis3": {
         "anchor": "x3",
         "domain": [
          0.575,
          1
         ],
         "range": [
          -1.1,
          1.1
         ],
         "zerolinecolor": "#000000"
        },
        "yaxis4": {
         "anchor": "x4",
         "domain": [
          0,
          0.425
         ]
        },
        "yaxis5": {
         "anchor": "x5",
         "domain": [
          0,
          0.425
         ],
         "range": [
          -1.1,
          1.1
         ],
         "zerolinecolor": "#000000"
        },
        "yaxis6": {
         "anchor": "x6",
         "domain": [
          0,
          0.425
         ],
         "range": [
          -1.1,
          1.1
         ],
         "zerolinecolor": "#000000"
        }
       }
      }
     },
     "metadata": {},
     "output_type": "display_data"
    }
   ],
   "source": [
    "exp.plot_model(plot=\"diff\", \n",
    "               data_kwargs={\"lags_list\": [[1, 12]], \"acf\": True, \"pacf\": True})"
   ]
  },
  {
   "cell_type": "code",
   "execution_count": 163,
   "metadata": {},
   "outputs": [
    {
     "data": {
      "application/vnd.plotly.v1+json": {
       "config": {
        "plotlyServerURL": "https://plot.ly"
       },
       "data": [
        {
         "line": {
          "color": "rgb(31, 119, 180)",
          "width": 2
         },
         "marker": {
          "size": 2
         },
         "mode": "lines+markers",
         "name": "Actual",
         "type": "scattergl",
         "x": [
          "2020-01-01T00:00:00",
          "2020-02-01T00:00:00",
          "2020-03-01T00:00:00",
          "2020-04-01T00:00:00",
          "2020-05-01T00:00:00",
          "2020-06-01T00:00:00",
          "2020-07-01T00:00:00",
          "2020-08-01T00:00:00",
          "2020-09-01T00:00:00",
          "2020-10-01T00:00:00",
          "2020-11-01T00:00:00",
          "2020-12-01T00:00:00",
          "2021-01-01T00:00:00",
          "2021-02-01T00:00:00",
          "2021-03-01T00:00:00",
          "2021-04-01T00:00:00",
          "2021-05-01T00:00:00",
          "2021-06-01T00:00:00",
          "2021-07-01T00:00:00",
          "2021-08-01T00:00:00",
          "2021-09-01T00:00:00",
          "2021-10-01T00:00:00",
          "2021-11-01T00:00:00",
          "2021-12-01T00:00:00",
          "2022-01-01T00:00:00",
          "2022-02-01T00:00:00",
          "2022-03-01T00:00:00",
          "2022-04-01T00:00:00",
          "2022-05-01T00:00:00",
          "2022-06-01T00:00:00",
          "2022-07-01T00:00:00",
          "2022-08-01T00:00:00",
          "2022-09-01T00:00:00",
          "2022-10-01T00:00:00",
          "2022-11-01T00:00:00",
          "2022-12-01T00:00:00",
          "2023-01-01T00:00:00",
          "2023-02-01T00:00:00",
          "2023-03-01T00:00:00",
          "2023-04-01T00:00:00",
          "2023-05-01T00:00:00",
          "2023-06-01T00:00:00",
          "2023-07-01T00:00:00",
          "2023-08-01T00:00:00",
          "2023-09-01T00:00:00",
          "2023-10-01T00:00:00",
          "2023-11-01T00:00:00",
          "2023-12-01T00:00:00",
          "2024-01-01T00:00:00",
          "2024-02-01T00:00:00",
          "2024-03-01T00:00:00",
          "2024-04-01T00:00:00",
          "2024-05-01T00:00:00"
         ],
         "xaxis": "x",
         "y": [
          14981,
          30057,
          17657,
          13723,
          39238,
          46414,
          15971,
          37007,
          30765,
          14853,
          38729,
          40789,
          52069,
          28060,
          67966,
          195452,
          139665,
          65862,
          69375,
          55233,
          51707,
          34768,
          20686,
          101633,
          84076,
          88469,
          63103,
          76067,
          118755,
          228569,
          87601,
          82851,
          38241,
          61891,
          50757,
          95570,
          114535,
          86057,
          47937,
          131493,
          285160,
          163948,
          169601,
          152819,
          82946,
          135645,
          41831,
          161617,
          106253,
          119707,
          149830,
          241990,
          83295
         ],
         "yaxis": "y"
        },
        {
         "line": {
          "color": "rgb(255, 127, 14)",
          "width": 2
         },
         "marker": {
          "size": 2
         },
         "mode": "lines+markers",
         "name": "Seasonal",
         "type": "scattergl",
         "x": [
          "2020-01-01T00:00:00",
          "2020-02-01T00:00:00",
          "2020-03-01T00:00:00",
          "2020-04-01T00:00:00",
          "2020-05-01T00:00:00",
          "2020-06-01T00:00:00",
          "2020-07-01T00:00:00",
          "2020-08-01T00:00:00",
          "2020-09-01T00:00:00",
          "2020-10-01T00:00:00",
          "2020-11-01T00:00:00",
          "2020-12-01T00:00:00",
          "2021-01-01T00:00:00",
          "2021-02-01T00:00:00",
          "2021-03-01T00:00:00",
          "2021-04-01T00:00:00",
          "2021-05-01T00:00:00",
          "2021-06-01T00:00:00",
          "2021-07-01T00:00:00",
          "2021-08-01T00:00:00",
          "2021-09-01T00:00:00",
          "2021-10-01T00:00:00",
          "2021-11-01T00:00:00",
          "2021-12-01T00:00:00",
          "2022-01-01T00:00:00",
          "2022-02-01T00:00:00",
          "2022-03-01T00:00:00",
          "2022-04-01T00:00:00",
          "2022-05-01T00:00:00",
          "2022-06-01T00:00:00",
          "2022-07-01T00:00:00",
          "2022-08-01T00:00:00",
          "2022-09-01T00:00:00",
          "2022-10-01T00:00:00",
          "2022-11-01T00:00:00",
          "2022-12-01T00:00:00",
          "2023-01-01T00:00:00",
          "2023-02-01T00:00:00",
          "2023-03-01T00:00:00",
          "2023-04-01T00:00:00",
          "2023-05-01T00:00:00",
          "2023-06-01T00:00:00",
          "2023-07-01T00:00:00",
          "2023-08-01T00:00:00",
          "2023-09-01T00:00:00",
          "2023-10-01T00:00:00",
          "2023-11-01T00:00:00",
          "2023-12-01T00:00:00",
          "2024-01-01T00:00:00",
          "2024-02-01T00:00:00",
          "2024-03-01T00:00:00",
          "2024-04-01T00:00:00",
          "2024-05-01T00:00:00"
         ],
         "xaxis": "x2",
         "y": [
          0.5669003833110591,
          0.9446107417198052,
          0.6750727665670572,
          1.081454203857624,
          1.3835538041743183,
          1.2187195094494487,
          0.9491729227525818,
          1.705496065182628,
          0.9738162338167513,
          0.8024968875813088,
          0.6987064815874184,
          0.5669003833110591,
          0.9446107417198052,
          0.6750727665670572,
          1.081454203857624,
          1.3835538041743183,
          1.2187195094494487,
          0.9491729227525818,
          1.705496065182628,
          0.9738162338167513,
          0.8024968875813088,
          0.6987064815874184,
          0.5669003833110591,
          0.9446107417198052,
          0.6750727665670572,
          1.081454203857624,
          1.3835538041743183,
          1.2187195094494487,
          0.9491729227525818,
          1.705496065182628,
          0.9738162338167513,
          0.8024968875813088,
          0.6987064815874184,
          0.5669003833110591,
          0.9446107417198052,
          0.6750727665670572,
          1.081454203857624,
          1.3835538041743183,
          1.2187195094494487,
          0.9491729227525818,
          1.705496065182628,
          0.9738162338167513,
          0.8024968875813088,
          0.6987064815874184,
          0.5669003833110591,
          0.9446107417198052,
          0.6750727665670572,
          1.081454203857624,
          1.3835538041743183,
          1.2187195094494487,
          0.9491729227525818,
          1.705496065182628,
          0.9738162338167513
         ],
         "yaxis": "y2"
        },
        {
         "line": {
          "color": "rgb(44, 160, 44)",
          "width": 2
         },
         "marker": {
          "size": 2
         },
         "mode": "lines+markers",
         "name": "Trend",
         "type": "scattergl",
         "x": [
          "2020-01-01T00:00:00",
          "2020-02-01T00:00:00",
          "2020-03-01T00:00:00",
          "2020-04-01T00:00:00",
          "2020-05-01T00:00:00",
          "2020-06-01T00:00:00",
          "2020-07-01T00:00:00",
          "2020-08-01T00:00:00",
          "2020-09-01T00:00:00",
          "2020-10-01T00:00:00",
          "2020-11-01T00:00:00",
          "2020-12-01T00:00:00",
          "2021-01-01T00:00:00",
          "2021-02-01T00:00:00",
          "2021-03-01T00:00:00",
          "2021-04-01T00:00:00",
          "2021-05-01T00:00:00",
          "2021-06-01T00:00:00",
          "2021-07-01T00:00:00",
          "2021-08-01T00:00:00",
          "2021-09-01T00:00:00",
          "2021-10-01T00:00:00",
          "2021-11-01T00:00:00",
          "2021-12-01T00:00:00",
          "2022-01-01T00:00:00",
          "2022-02-01T00:00:00",
          "2022-03-01T00:00:00",
          "2022-04-01T00:00:00",
          "2022-05-01T00:00:00",
          "2022-06-01T00:00:00",
          "2022-07-01T00:00:00",
          "2022-08-01T00:00:00",
          "2022-09-01T00:00:00",
          "2022-10-01T00:00:00",
          "2022-11-01T00:00:00",
          "2022-12-01T00:00:00",
          "2023-01-01T00:00:00",
          "2023-02-01T00:00:00",
          "2023-03-01T00:00:00",
          "2023-04-01T00:00:00",
          "2023-05-01T00:00:00",
          "2023-06-01T00:00:00",
          "2023-07-01T00:00:00",
          "2023-08-01T00:00:00",
          "2023-09-01T00:00:00",
          "2023-10-01T00:00:00",
          "2023-11-01T00:00:00",
          "2023-12-01T00:00:00",
          "2024-01-01T00:00:00",
          "2024-02-01T00:00:00",
          "2024-03-01T00:00:00",
          "2024-04-01T00:00:00",
          "2024-05-01T00:00:00"
         ],
         "xaxis": "x3",
         "y": [
          null,
          null,
          null,
          null,
          null,
          27217.72727272728,
          29563.909090909092,
          31565.000000000004,
          32510.72727272728,
          37441.909090909096,
          51643.18181818182,
          60120.54545454546,
          64656.09090909091,
          67598.63636363637,
          69823,
          73173.36363636365,
          72813.27272727274,
          70985.72727272728,
          75491.54545454544,
          80583.90909090909,
          82447.81818181819,
          70416.09090909091,
          64634.45454545455,
          69442.9090909091,
          83915.09090909091,
          86857.63636363638,
          89688.9090909091,
          90004.63636363637,
          93750.54545454546,
          89125.45454545454,
          90170.36363636363,
          92540,
          94626.72727272728,
          92069.45454545454,
          93227.45454545453,
          98372.09090909091,
          105312.72727272728,
          113199.09090909091,
          123615.27272727272,
          125529.36363636365,
          133246.45454545456,
          128361.0909090909,
          132641.27272727274,
          134477.27272727274,
          141001.81818181818,
          142668.81818181818,
          138744.2727272727,
          131412.18181818182,
          null,
          null,
          null,
          null,
          null
         ],
         "yaxis": "y3"
        },
        {
         "line": {
          "color": "rgb(214, 39, 40)",
          "width": 2
         },
         "marker": {
          "size": 4
         },
         "mode": "markers",
         "name": "Residuals",
         "type": "scattergl",
         "x": [
          "2020-01-01T00:00:00",
          "2020-02-01T00:00:00",
          "2020-03-01T00:00:00",
          "2020-04-01T00:00:00",
          "2020-05-01T00:00:00",
          "2020-06-01T00:00:00",
          "2020-07-01T00:00:00",
          "2020-08-01T00:00:00",
          "2020-09-01T00:00:00",
          "2020-10-01T00:00:00",
          "2020-11-01T00:00:00",
          "2020-12-01T00:00:00",
          "2021-01-01T00:00:00",
          "2021-02-01T00:00:00",
          "2021-03-01T00:00:00",
          "2021-04-01T00:00:00",
          "2021-05-01T00:00:00",
          "2021-06-01T00:00:00",
          "2021-07-01T00:00:00",
          "2021-08-01T00:00:00",
          "2021-09-01T00:00:00",
          "2021-10-01T00:00:00",
          "2021-11-01T00:00:00",
          "2021-12-01T00:00:00",
          "2022-01-01T00:00:00",
          "2022-02-01T00:00:00",
          "2022-03-01T00:00:00",
          "2022-04-01T00:00:00",
          "2022-05-01T00:00:00",
          "2022-06-01T00:00:00",
          "2022-07-01T00:00:00",
          "2022-08-01T00:00:00",
          "2022-09-01T00:00:00",
          "2022-10-01T00:00:00",
          "2022-11-01T00:00:00",
          "2022-12-01T00:00:00",
          "2023-01-01T00:00:00",
          "2023-02-01T00:00:00",
          "2023-03-01T00:00:00",
          "2023-04-01T00:00:00",
          "2023-05-01T00:00:00",
          "2023-06-01T00:00:00",
          "2023-07-01T00:00:00",
          "2023-08-01T00:00:00",
          "2023-09-01T00:00:00",
          "2023-10-01T00:00:00",
          "2023-11-01T00:00:00",
          "2023-12-01T00:00:00",
          "2024-01-01T00:00:00",
          "2024-02-01T00:00:00",
          "2024-03-01T00:00:00",
          "2024-04-01T00:00:00",
          "2024-05-01T00:00:00"
         ],
         "xaxis": "x4",
         "y": [
          null,
          null,
          null,
          null,
          null,
          1.3992437523081132,
          0.5691476028450984,
          0.6874282327483963,
          0.9717470356072682,
          0.49432530145236814,
          1.0733182637272767,
          1.1967774439676588,
          0.8525442180990473,
          0.6148924254535282,
          0.9000882105469444,
          1.9305944208971715,
          1.5738859939840446,
          0.9775039879791624,
          0.5388327177497297,
          0.7038389417068623,
          0.7814961034821379,
          0.7066640938602539,
          0.5645542505732236,
          1.5493657790100879,
          1.4841622597008755,
          0.9418353314733184,
          0.5085284000891376,
          0.6934699449259375,
          1.3345435796484446,
          1.5037126341698954,
          0.99762708771647,
          1.1156421213269063,
          0.5783898306436165,
          1.1857828885455224,
          0.5763671744897488,
          1.4391269140511087,
          1.0056554862464062,
          0.5494740797377605,
          0.31819617641399783,
          1.1036006971593877,
          1.2548222829640712,
          1.3115828026014922,
          1.5933323413706808,
          1.6264236794009457,
          1.037681284545688,
          1.0065186960332089,
          0.44661426842658025,
          1.1372168393654245,
          null,
          null,
          null,
          null,
          null
         ],
         "yaxis": "y4"
        }
       ],
       "layout": {
        "annotations": [
         {
          "font": {
           "size": 16
          },
          "showarrow": false,
          "text": "Quantity (transformed)",
          "x": 0.49,
          "xanchor": "center",
          "xref": "paper",
          "y": 1,
          "yanchor": "bottom",
          "yref": "paper"
         },
         {
          "font": {
           "size": 16
          },
          "showarrow": false,
          "text": "Actual",
          "textangle": 90,
          "x": 0.98,
          "xanchor": "left",
          "xref": "paper",
          "y": 0.903125,
          "yanchor": "middle",
          "yref": "paper"
         },
         {
          "font": {
           "size": 16
          },
          "showarrow": false,
          "text": "Seasonal",
          "textangle": 90,
          "x": 0.98,
          "xanchor": "left",
          "xref": "paper",
          "y": 0.6343749999999999,
          "yanchor": "middle",
          "yref": "paper"
         },
         {
          "font": {
           "size": 16
          },
          "showarrow": false,
          "text": "Trend",
          "textangle": 90,
          "x": 0.98,
          "xanchor": "left",
          "xref": "paper",
          "y": 0.365625,
          "yanchor": "middle",
          "yref": "paper"
         },
         {
          "font": {
           "size": 16
          },
          "showarrow": false,
          "text": "Residual",
          "textangle": 90,
          "x": 0.98,
          "xanchor": "left",
          "xref": "paper",
          "y": 0.096875,
          "yanchor": "middle",
          "yref": "paper"
         }
        ],
        "showlegend": false,
        "template": {
         "data": {
          "bar": [
           {
            "error_x": {
             "color": "rgb(51,51,51)"
            },
            "error_y": {
             "color": "rgb(51,51,51)"
            },
            "marker": {
             "line": {
              "color": "rgb(237,237,237)",
              "width": 0.5
             },
             "pattern": {
              "fillmode": "overlay",
              "size": 10,
              "solidity": 0.2
             }
            },
            "type": "bar"
           }
          ],
          "barpolar": [
           {
            "marker": {
             "line": {
              "color": "rgb(237,237,237)",
              "width": 0.5
             },
             "pattern": {
              "fillmode": "overlay",
              "size": 10,
              "solidity": 0.2
             }
            },
            "type": "barpolar"
           }
          ],
          "carpet": [
           {
            "aaxis": {
             "endlinecolor": "rgb(51,51,51)",
             "gridcolor": "white",
             "linecolor": "white",
             "minorgridcolor": "white",
             "startlinecolor": "rgb(51,51,51)"
            },
            "baxis": {
             "endlinecolor": "rgb(51,51,51)",
             "gridcolor": "white",
             "linecolor": "white",
             "minorgridcolor": "white",
             "startlinecolor": "rgb(51,51,51)"
            },
            "type": "carpet"
           }
          ],
          "choropleth": [
           {
            "colorbar": {
             "outlinewidth": 0,
             "tickcolor": "rgb(237,237,237)",
             "ticklen": 6,
             "ticks": "inside"
            },
            "type": "choropleth"
           }
          ],
          "contour": [
           {
            "colorbar": {
             "outlinewidth": 0,
             "tickcolor": "rgb(237,237,237)",
             "ticklen": 6,
             "ticks": "inside"
            },
            "colorscale": [
             [
              0,
              "rgb(20,44,66)"
             ],
             [
              1,
              "rgb(90,179,244)"
             ]
            ],
            "type": "contour"
           }
          ],
          "contourcarpet": [
           {
            "colorbar": {
             "outlinewidth": 0,
             "tickcolor": "rgb(237,237,237)",
             "ticklen": 6,
             "ticks": "inside"
            },
            "type": "contourcarpet"
           }
          ],
          "heatmap": [
           {
            "colorbar": {
             "outlinewidth": 0,
             "tickcolor": "rgb(237,237,237)",
             "ticklen": 6,
             "ticks": "inside"
            },
            "colorscale": [
             [
              0,
              "rgb(20,44,66)"
             ],
             [
              1,
              "rgb(90,179,244)"
             ]
            ],
            "type": "heatmap"
           }
          ],
          "heatmapgl": [
           {
            "colorbar": {
             "outlinewidth": 0,
             "tickcolor": "rgb(237,237,237)",
             "ticklen": 6,
             "ticks": "inside"
            },
            "colorscale": [
             [
              0,
              "rgb(20,44,66)"
             ],
             [
              1,
              "rgb(90,179,244)"
             ]
            ],
            "type": "heatmapgl"
           }
          ],
          "histogram": [
           {
            "marker": {
             "pattern": {
              "fillmode": "overlay",
              "size": 10,
              "solidity": 0.2
             }
            },
            "type": "histogram"
           }
          ],
          "histogram2d": [
           {
            "colorbar": {
             "outlinewidth": 0,
             "tickcolor": "rgb(237,237,237)",
             "ticklen": 6,
             "ticks": "inside"
            },
            "colorscale": [
             [
              0,
              "rgb(20,44,66)"
             ],
             [
              1,
              "rgb(90,179,244)"
             ]
            ],
            "type": "histogram2d"
           }
          ],
          "histogram2dcontour": [
           {
            "colorbar": {
             "outlinewidth": 0,
             "tickcolor": "rgb(237,237,237)",
             "ticklen": 6,
             "ticks": "inside"
            },
            "colorscale": [
             [
              0,
              "rgb(20,44,66)"
             ],
             [
              1,
              "rgb(90,179,244)"
             ]
            ],
            "type": "histogram2dcontour"
           }
          ],
          "mesh3d": [
           {
            "colorbar": {
             "outlinewidth": 0,
             "tickcolor": "rgb(237,237,237)",
             "ticklen": 6,
             "ticks": "inside"
            },
            "type": "mesh3d"
           }
          ],
          "parcoords": [
           {
            "line": {
             "colorbar": {
              "outlinewidth": 0,
              "tickcolor": "rgb(237,237,237)",
              "ticklen": 6,
              "ticks": "inside"
             }
            },
            "type": "parcoords"
           }
          ],
          "pie": [
           {
            "automargin": true,
            "type": "pie"
           }
          ],
          "scatter": [
           {
            "fillpattern": {
             "fillmode": "overlay",
             "size": 10,
             "solidity": 0.2
            },
            "type": "scatter"
           }
          ],
          "scatter3d": [
           {
            "line": {
             "colorbar": {
              "outlinewidth": 0,
              "tickcolor": "rgb(237,237,237)",
              "ticklen": 6,
              "ticks": "inside"
             }
            },
            "marker": {
             "colorbar": {
              "outlinewidth": 0,
              "tickcolor": "rgb(237,237,237)",
              "ticklen": 6,
              "ticks": "inside"
             }
            },
            "type": "scatter3d"
           }
          ],
          "scattercarpet": [
           {
            "marker": {
             "colorbar": {
              "outlinewidth": 0,
              "tickcolor": "rgb(237,237,237)",
              "ticklen": 6,
              "ticks": "inside"
             }
            },
            "type": "scattercarpet"
           }
          ],
          "scattergeo": [
           {
            "marker": {
             "colorbar": {
              "outlinewidth": 0,
              "tickcolor": "rgb(237,237,237)",
              "ticklen": 6,
              "ticks": "inside"
             }
            },
            "type": "scattergeo"
           }
          ],
          "scattergl": [
           {
            "marker": {
             "colorbar": {
              "outlinewidth": 0,
              "tickcolor": "rgb(237,237,237)",
              "ticklen": 6,
              "ticks": "inside"
             }
            },
            "type": "scattergl"
           }
          ],
          "scattermapbox": [
           {
            "marker": {
             "colorbar": {
              "outlinewidth": 0,
              "tickcolor": "rgb(237,237,237)",
              "ticklen": 6,
              "ticks": "inside"
             }
            },
            "type": "scattermapbox"
           }
          ],
          "scatterpolar": [
           {
            "marker": {
             "colorbar": {
              "outlinewidth": 0,
              "tickcolor": "rgb(237,237,237)",
              "ticklen": 6,
              "ticks": "inside"
             }
            },
            "type": "scatterpolar"
           }
          ],
          "scatterpolargl": [
           {
            "marker": {
             "colorbar": {
              "outlinewidth": 0,
              "tickcolor": "rgb(237,237,237)",
              "ticklen": 6,
              "ticks": "inside"
             }
            },
            "type": "scatterpolargl"
           }
          ],
          "scatterternary": [
           {
            "marker": {
             "colorbar": {
              "outlinewidth": 0,
              "tickcolor": "rgb(237,237,237)",
              "ticklen": 6,
              "ticks": "inside"
             }
            },
            "type": "scatterternary"
           }
          ],
          "surface": [
           {
            "colorbar": {
             "outlinewidth": 0,
             "tickcolor": "rgb(237,237,237)",
             "ticklen": 6,
             "ticks": "inside"
            },
            "colorscale": [
             [
              0,
              "rgb(20,44,66)"
             ],
             [
              1,
              "rgb(90,179,244)"
             ]
            ],
            "type": "surface"
           }
          ],
          "table": [
           {
            "cells": {
             "fill": {
              "color": "rgb(237,237,237)"
             },
             "line": {
              "color": "white"
             }
            },
            "header": {
             "fill": {
              "color": "rgb(217,217,217)"
             },
             "line": {
              "color": "white"
             }
            },
            "type": "table"
           }
          ]
         },
         "layout": {
          "annotationdefaults": {
           "arrowhead": 0,
           "arrowwidth": 1
          },
          "autotypenumbers": "strict",
          "coloraxis": {
           "colorbar": {
            "outlinewidth": 0,
            "tickcolor": "rgb(237,237,237)",
            "ticklen": 6,
            "ticks": "inside"
           }
          },
          "colorscale": {
           "sequential": [
            [
             0,
             "rgb(20,44,66)"
            ],
            [
             1,
             "rgb(90,179,244)"
            ]
           ],
           "sequentialminus": [
            [
             0,
             "rgb(20,44,66)"
            ],
            [
             1,
             "rgb(90,179,244)"
            ]
           ]
          },
          "colorway": [
           "#F8766D",
           "#A3A500",
           "#00BF7D",
           "#00B0F6",
           "#E76BF3"
          ],
          "font": {
           "color": "rgb(51,51,51)"
          },
          "geo": {
           "bgcolor": "white",
           "lakecolor": "white",
           "landcolor": "rgb(237,237,237)",
           "showlakes": true,
           "showland": true,
           "subunitcolor": "white"
          },
          "hoverlabel": {
           "align": "left"
          },
          "hovermode": "closest",
          "paper_bgcolor": "white",
          "plot_bgcolor": "rgb(237,237,237)",
          "polar": {
           "angularaxis": {
            "gridcolor": "white",
            "linecolor": "white",
            "showgrid": true,
            "tickcolor": "rgb(51,51,51)",
            "ticks": "outside"
           },
           "bgcolor": "rgb(237,237,237)",
           "radialaxis": {
            "gridcolor": "white",
            "linecolor": "white",
            "showgrid": true,
            "tickcolor": "rgb(51,51,51)",
            "ticks": "outside"
           }
          },
          "scene": {
           "xaxis": {
            "backgroundcolor": "rgb(237,237,237)",
            "gridcolor": "white",
            "gridwidth": 2,
            "linecolor": "white",
            "showbackground": true,
            "showgrid": true,
            "tickcolor": "rgb(51,51,51)",
            "ticks": "outside",
            "zerolinecolor": "white"
           },
           "yaxis": {
            "backgroundcolor": "rgb(237,237,237)",
            "gridcolor": "white",
            "gridwidth": 2,
            "linecolor": "white",
            "showbackground": true,
            "showgrid": true,
            "tickcolor": "rgb(51,51,51)",
            "ticks": "outside",
            "zerolinecolor": "white"
           },
           "zaxis": {
            "backgroundcolor": "rgb(237,237,237)",
            "gridcolor": "white",
            "gridwidth": 2,
            "linecolor": "white",
            "showbackground": true,
            "showgrid": true,
            "tickcolor": "rgb(51,51,51)",
            "ticks": "outside",
            "zerolinecolor": "white"
           }
          },
          "shapedefaults": {
           "fillcolor": "black",
           "line": {
            "width": 0
           },
           "opacity": 0.3
          },
          "ternary": {
           "aaxis": {
            "gridcolor": "white",
            "linecolor": "white",
            "showgrid": true,
            "tickcolor": "rgb(51,51,51)",
            "ticks": "outside"
           },
           "baxis": {
            "gridcolor": "white",
            "linecolor": "white",
            "showgrid": true,
            "tickcolor": "rgb(51,51,51)",
            "ticks": "outside"
           },
           "bgcolor": "rgb(237,237,237)",
           "caxis": {
            "gridcolor": "white",
            "linecolor": "white",
            "showgrid": true,
            "tickcolor": "rgb(51,51,51)",
            "ticks": "outside"
           }
          },
          "xaxis": {
           "automargin": true,
           "gridcolor": "white",
           "linecolor": "white",
           "showgrid": true,
           "tickcolor": "rgb(51,51,51)",
           "ticks": "outside",
           "title": {
            "standoff": 15
           },
           "zerolinecolor": "white"
          },
          "yaxis": {
           "automargin": true,
           "gridcolor": "white",
           "linecolor": "white",
           "showgrid": true,
           "tickcolor": "rgb(51,51,51)",
           "ticks": "outside",
           "title": {
            "standoff": 15
           },
           "zerolinecolor": "white"
          }
         }
        },
        "title": {
         "text": "Classical Decomposition (multiplicative) | Quantity<br>Seasonal Period = 11"
        },
        "xaxis": {
         "anchor": "y",
         "domain": [
          0,
          0.98
         ],
         "matches": "x4",
         "showticklabels": false
        },
        "xaxis2": {
         "anchor": "y2",
         "domain": [
          0,
          0.98
         ],
         "matches": "x4",
         "showticklabels": false
        },
        "xaxis3": {
         "anchor": "y3",
         "domain": [
          0,
          0.98
         ],
         "matches": "x4",
         "showticklabels": false
        },
        "xaxis4": {
         "anchor": "y4",
         "domain": [
          0,
          0.98
         ]
        },
        "yaxis": {
         "anchor": "x",
         "domain": [
          0.80625,
          1
         ]
        },
        "yaxis2": {
         "anchor": "x2",
         "domain": [
          0.5375,
          0.73125
         ]
        },
        "yaxis3": {
         "anchor": "x3",
         "domain": [
          0.26875,
          0.4625
         ]
        },
        "yaxis4": {
         "anchor": "x4",
         "domain": [
          0,
          0.19375
         ]
        }
       }
      }
     },
     "metadata": {},
     "output_type": "display_data"
    }
   ],
   "source": [
    "exp.plot_model(plot = 'decomp', \n",
    "               data_kwargs = {'type' : 'multiplicative'})"
   ]
  },
  {
   "cell_type": "code",
   "execution_count": 164,
   "metadata": {},
   "outputs": [
    {
     "data": {
      "application/vnd.plotly.v1+json": {
       "config": {
        "plotlyServerURL": "https://plot.ly"
       },
       "data": [
        {
         "line": {
          "color": "rgb(31, 119, 180)",
          "width": 2
         },
         "marker": {
          "color": "rgb(31, 119, 180)",
          "size": 5
         },
         "mode": "lines+markers",
         "name": "Quantity (transformed)",
         "showlegend": false,
         "type": "scattergl",
         "x": [
          "2020-01-01T00:00:00",
          "2020-02-01T00:00:00",
          "2020-03-01T00:00:00",
          "2020-04-01T00:00:00",
          "2020-05-01T00:00:00",
          "2020-06-01T00:00:00",
          "2020-07-01T00:00:00",
          "2020-08-01T00:00:00",
          "2020-09-01T00:00:00",
          "2020-10-01T00:00:00",
          "2020-11-01T00:00:00",
          "2020-12-01T00:00:00",
          "2021-01-01T00:00:00",
          "2021-02-01T00:00:00",
          "2021-03-01T00:00:00",
          "2021-04-01T00:00:00",
          "2021-05-01T00:00:00",
          "2021-06-01T00:00:00",
          "2021-07-01T00:00:00",
          "2021-08-01T00:00:00",
          "2021-09-01T00:00:00",
          "2021-10-01T00:00:00",
          "2021-11-01T00:00:00",
          "2021-12-01T00:00:00",
          "2022-01-01T00:00:00",
          "2022-02-01T00:00:00",
          "2022-03-01T00:00:00",
          "2022-04-01T00:00:00",
          "2022-05-01T00:00:00",
          "2022-06-01T00:00:00",
          "2022-07-01T00:00:00",
          "2022-08-01T00:00:00",
          "2022-09-01T00:00:00",
          "2022-10-01T00:00:00",
          "2022-11-01T00:00:00",
          "2022-12-01T00:00:00",
          "2023-01-01T00:00:00",
          "2023-02-01T00:00:00",
          "2023-03-01T00:00:00",
          "2023-04-01T00:00:00",
          "2023-05-01T00:00:00",
          "2023-06-01T00:00:00",
          "2023-07-01T00:00:00",
          "2023-08-01T00:00:00",
          "2023-09-01T00:00:00",
          "2023-10-01T00:00:00",
          "2023-11-01T00:00:00",
          "2023-12-01T00:00:00",
          "2024-01-01T00:00:00",
          "2024-02-01T00:00:00",
          "2024-03-01T00:00:00",
          "2024-04-01T00:00:00",
          "2024-05-01T00:00:00"
         ],
         "xaxis": "x",
         "y": [
          14981,
          30057,
          17657,
          13723,
          39238,
          46414,
          15971,
          37007,
          30765,
          14853,
          38729,
          40789,
          52069,
          28060,
          67966,
          195452,
          139665,
          65862,
          69375,
          55233,
          51707,
          34768,
          20686,
          101633,
          84076,
          88469,
          63103,
          76067,
          118755,
          228569,
          87601,
          82851,
          38241,
          61891,
          50757,
          95570,
          114535,
          86057,
          47937,
          131493,
          285160,
          163948,
          169601,
          152819,
          82946,
          135645,
          41831,
          161617,
          106253,
          119707,
          149830,
          241990,
          83295
         ],
         "yaxis": "y"
        },
        {
         "hoverinfo": "text",
         "hovertext": [
          "Freq: 0.0189<br>Ampl: 96.7121<br>Time period: 53.0",
          "Freq: 0.0377<br>Ampl: 90.3508<br>Time period: 26.5",
          "Freq: 0.0566<br>Ampl: 96.9066<br>Time period: 17.6667",
          "Freq: 0.0755<br>Ampl: 103.6015<br>Time period: 13.25",
          "Freq: 0.0943<br>Ampl: 100.615<br>Time period: 10.6",
          "Freq: 0.1132<br>Ampl: 83.5643<br>Time period: 8.8333",
          "Freq: 0.1321<br>Ampl: 95.0263<br>Time period: 7.5714",
          "Freq: 0.1509<br>Ampl: 100.6903<br>Time period: 6.625",
          "Freq: 0.1698<br>Ampl: 100.6642<br>Time period: 5.8889",
          "Freq: 0.1887<br>Ampl: 99.3924<br>Time period: 5.3",
          "Freq: 0.2075<br>Ampl: 98.7135<br>Time period: 4.8182",
          "Freq: 0.2264<br>Ampl: 96.7949<br>Time period: 4.4167",
          "Freq: 0.2453<br>Ampl: 97.1953<br>Time period: 4.0769",
          "Freq: 0.2642<br>Ampl: 90.7178<br>Time period: 3.7857",
          "Freq: 0.283<br>Ampl: 96.3715<br>Time period: 3.5333",
          "Freq: 0.3019<br>Ampl: 93.959<br>Time period: 3.3125",
          "Freq: 0.3208<br>Ampl: 84.9431<br>Time period: 3.1176",
          "Freq: 0.3396<br>Ampl: 89.4475<br>Time period: 2.9444",
          "Freq: 0.3585<br>Ampl: 96.2765<br>Time period: 2.7895",
          "Freq: 0.3774<br>Ampl: 95.1223<br>Time period: 2.65",
          "Freq: 0.3962<br>Ampl: 84.7098<br>Time period: 2.5238",
          "Freq: 0.4151<br>Ampl: 79.5113<br>Time period: 2.4091",
          "Freq: 0.434<br>Ampl: 90.6811<br>Time period: 2.3043",
          "Freq: 0.4528<br>Ampl: 94.3823<br>Time period: 2.2083",
          "Freq: 0.4717<br>Ampl: 95.8369<br>Time period: 2.12",
          "Freq: 0.4906<br>Ampl: 96.8445<br>Time period: 2.0385"
         ],
         "line": {
          "color": "#1f77b4",
          "width": 2
         },
         "marker": {
          "size": 5
         },
         "mode": "lines+markers",
         "name": "Quantity (transformed)",
         "showlegend": false,
         "type": "scattergl",
         "x": [
          0.018867924528301886,
          0.03773584905660377,
          0.05660377358490566,
          0.07547169811320754,
          0.09433962264150943,
          0.11320754716981132,
          0.1320754716981132,
          0.1509433962264151,
          0.16981132075471697,
          0.18867924528301885,
          0.20754716981132074,
          0.22641509433962265,
          0.24528301886792453,
          0.2641509433962264,
          0.2830188679245283,
          0.3018867924528302,
          0.32075471698113206,
          0.33962264150943394,
          0.3584905660377358,
          0.3773584905660377,
          0.3962264150943396,
          0.4150943396226415,
          0.43396226415094336,
          0.4528301886792453,
          0.4716981132075472,
          0.49056603773584906
         ],
         "xaxis": "x2",
         "y": [
          96.71209341956262,
          90.35077089070495,
          96.90664209093158,
          103.60147695721528,
          100.61498674250336,
          83.56434949436485,
          95.02633004667769,
          100.69028362632719,
          100.66422237159051,
          99.39244037736191,
          98.71348158377725,
          96.79485448845087,
          97.19532703842661,
          90.71780337766018,
          96.37149111523695,
          93.95899850602649,
          84.94308688620217,
          89.44752437630568,
          96.27652133462203,
          95.1222694598019,
          84.7098208353264,
          79.51126946574276,
          90.68108088508686,
          94.38228039272144,
          95.83690868102791,
          96.84447549888348
         ],
         "yaxis": "y2"
        },
        {
         "alignmentgroup": "True",
         "bingroup": "x",
         "hovertemplate": "variable=Quantity (transformed)<br>value=%{x}<br>count=%{y}<extra></extra>",
         "legendgroup": "Quantity (transformed)",
         "marker": {
          "color": "#1f77b4",
          "pattern": {
           "shape": ""
          }
         },
         "name": "Quantity (transformed)",
         "offsetgroup": "Quantity (transformed)",
         "orientation": "v",
         "showlegend": false,
         "type": "histogram",
         "x": [
          14981,
          30057,
          17657,
          13723,
          39238,
          46414,
          15971,
          37007,
          30765,
          14853,
          38729,
          40789,
          52069,
          28060,
          67966,
          195452,
          139665,
          65862,
          69375,
          55233,
          51707,
          34768,
          20686,
          101633,
          84076,
          88469,
          63103,
          76067,
          118755,
          228569,
          87601,
          82851,
          38241,
          61891,
          50757,
          95570,
          114535,
          86057,
          47937,
          131493,
          285160,
          163948,
          169601,
          152819,
          82946,
          135645,
          41831,
          161617,
          106253,
          119707,
          149830,
          241990,
          83295
         ],
         "xaxis": "x3",
         "yaxis": "y3"
        },
        {
         "marker": {
          "color": "#1f77b4"
         },
         "mode": "markers",
         "name": "Quantity (transformed)",
         "showlegend": false,
         "type": "scattergl",
         "x": [
          -2.085355566031829,
          -1.7861555612610769,
          -1.5932188180230507,
          -1.4461035929181751,
          -1.3249576888929775,
          -1.22064034884735,
          -1.1281436452787637,
          -1.044408794872596,
          -0.967421566101701,
          -0.8957798188835894,
          -0.8284646485811346,
          -0.7647096737863871,
          -0.7039217888285135,
          -0.6456307492759821,
          -0.5894557978497783,
          -0.5350828150863223,
          -0.48224821483792313,
          -0.43072729929545756,
          -0.38032564176363115,
          -0.33087257172641926,
          -0.28221614706250814,
          -0.23421919391461965,
          -0.1867561210637371,
          -0.13971029888186212,
          -0.09297184856107375,
          -0.04643572477052713,
          0,
          0.046435724770526994,
          0.09297184856107389,
          0.13971029888186212,
          0.1867561210637371,
          0.2342191939146195,
          0.28221614706250825,
          0.33087257172641926,
          0.38032564176363115,
          0.43072729929545744,
          0.4822482148379233,
          0.5350828150863223,
          0.5894557978497783,
          0.645630749275982,
          0.7039217888285135,
          0.7647096737863871,
          0.8284646485811346,
          0.895779818883589,
          0.967421566101701,
          1.044408794872596,
          1.1281436452787637,
          1.2206403488473496,
          1.324957688892978,
          1.4461035929181751,
          1.59321881802305,
          1.7861555612610764,
          2.0853555660318293
         ],
         "xaxis": "x4",
         "y": [
          13723,
          14853,
          14981,
          15971,
          17657,
          20686,
          28060,
          30057,
          30765,
          34768,
          37007,
          38241,
          38729,
          39238,
          40789,
          41831,
          46414,
          47937,
          50757,
          51707,
          52069,
          55233,
          61891,
          63103,
          65862,
          67966,
          69375,
          76067,
          82851,
          82946,
          83295,
          84076,
          86057,
          87601,
          88469,
          95570,
          101633,
          106253,
          114535,
          118755,
          119707,
          131493,
          135645,
          139665,
          149830,
          152819,
          161617,
          163948,
          169601,
          195452,
          228569,
          241990,
          285160
         ],
         "yaxis": "y4"
        },
        {
         "line": {
          "color": "#3f3f3f"
         },
         "mode": "lines",
         "name": "Quantity (transformed)",
         "showlegend": false,
         "type": "scattergl",
         "x": [
          -2.085355566031829,
          -1.7861555612610769,
          -1.5932188180230507,
          -1.4461035929181751,
          -1.3249576888929775,
          -1.22064034884735,
          -1.1281436452787637,
          -1.044408794872596,
          -0.967421566101701,
          -0.8957798188835894,
          -0.8284646485811346,
          -0.7647096737863871,
          -0.7039217888285135,
          -0.6456307492759821,
          -0.5894557978497783,
          -0.5350828150863223,
          -0.48224821483792313,
          -0.43072729929545756,
          -0.38032564176363115,
          -0.33087257172641926,
          -0.28221614706250814,
          -0.23421919391461965,
          -0.1867561210637371,
          -0.13971029888186212,
          -0.09297184856107375,
          -0.04643572477052713,
          0,
          0.046435724770526994,
          0.09297184856107389,
          0.13971029888186212,
          0.1867561210637371,
          0.2342191939146195,
          0.28221614706250825,
          0.33087257172641926,
          0.38032564176363115,
          0.43072729929545744,
          0.4822482148379233,
          0.5350828150863223,
          0.5894557978497783,
          0.645630749275982,
          0.7039217888285135,
          0.7647096737863871,
          0.8284646485811346,
          0.895779818883589,
          0.967421566101701,
          1.044408794872596,
          1.1281436452787637,
          1.2206403488473496,
          1.324957688892978,
          1.4461035929181751,
          1.59321881802305,
          1.7861555612610764,
          2.0853555660318293
         ],
         "xaxis": "x4",
         "y": [
          -41498.84661872558,
          -23164.380212333577,
          -11341.545382612807,
          -2326.5750966971973,
          5097.039449445016,
          11489.42827355674,
          17157.468638661783,
          22288.597573610976,
          27006.24375380639,
          31396.327934025954,
          35521.28685405188,
          39428.08306052351,
          43153.06105820001,
          46725.03662447188,
          50167.341916524194,
          53499.22563977394,
          56736.83990415753,
          59893.95380849605,
          62982.48148934213,
          66012.88134506714,
          68994.46412993089,
          71935.63562414056,
          74844.09184356943,
          77726.9796530652,
          80591.03223872573,
          83442.68659941069,
          86288.18867924529,
          89133.69075907987,
          91985.34511976485,
          94849.39770542538,
          97732.28551492114,
          100640.74173435001,
          103581.91322855969,
          106563.49601342343,
          109593.89586914844,
          112682.4235499945,
          115839.53745433305,
          119077.15171871663,
          122409.03544196638,
          125851.34073401868,
          129423.31630029056,
          133148.29429796705,
          137055.09050443867,
          141180.04942446458,
          145570.13360468418,
          150287.7797848796,
          155418.9087198288,
          161086.9490849338,
          167479.33790904557,
          174902.95245518777,
          183917.92274110334,
          195740.75757082412,
          214075.22397721617
         ],
         "yaxis": "y4"
        },
        {
         "line": {
          "color": "#3f3f3f"
         },
         "mode": "lines",
         "name": "ACF",
         "showlegend": false,
         "type": "scattergl",
         "x": [
          0,
          0
         ],
         "xaxis": "x5",
         "y": [
          0,
          1
         ],
         "yaxis": "y5"
        },
        {
         "line": {
          "color": "#3f3f3f"
         },
         "mode": "lines",
         "name": "ACF",
         "showlegend": false,
         "type": "scattergl",
         "x": [
          1,
          1
         ],
         "xaxis": "x5",
         "y": [
          0,
          0.4993871157385834
         ],
         "yaxis": "y5"
        },
        {
         "line": {
          "color": "#3f3f3f"
         },
         "mode": "lines",
         "name": "ACF",
         "showlegend": false,
         "type": "scattergl",
         "x": [
          2,
          2
         ],
         "xaxis": "x5",
         "y": [
          0,
          0.31041870826732865
         ],
         "yaxis": "y5"
        },
        {
         "line": {
          "color": "#3f3f3f"
         },
         "mode": "lines",
         "name": "ACF",
         "showlegend": false,
         "type": "scattergl",
         "x": [
          3,
          3
         ],
         "xaxis": "x5",
         "y": [
          0,
          0.20343500220805288
         ],
         "yaxis": "y5"
        },
        {
         "line": {
          "color": "#3f3f3f"
         },
         "mode": "lines",
         "name": "ACF",
         "showlegend": false,
         "type": "scattergl",
         "x": [
          4,
          4
         ],
         "xaxis": "x5",
         "y": [
          0,
          0.20269757547879846
         ],
         "yaxis": "y5"
        },
        {
         "line": {
          "color": "#3f3f3f"
         },
         "mode": "lines",
         "name": "ACF",
         "showlegend": false,
         "type": "scattergl",
         "x": [
          5,
          5
         ],
         "xaxis": "x5",
         "y": [
          0,
          0.12695966061565017
         ],
         "yaxis": "y5"
        },
        {
         "line": {
          "color": "#3f3f3f"
         },
         "mode": "lines",
         "name": "ACF",
         "showlegend": false,
         "type": "scattergl",
         "x": [
          6,
          6
         ],
         "xaxis": "x5",
         "y": [
          0,
          0.1095427427016825
         ],
         "yaxis": "y5"
        },
        {
         "line": {
          "color": "#3f3f3f"
         },
         "mode": "lines",
         "name": "ACF",
         "showlegend": false,
         "type": "scattergl",
         "x": [
          7,
          7
         ],
         "xaxis": "x5",
         "y": [
          0,
          0.10179366757075038
         ],
         "yaxis": "y5"
        },
        {
         "line": {
          "color": "#3f3f3f"
         },
         "mode": "lines",
         "name": "ACF",
         "showlegend": false,
         "type": "scattergl",
         "x": [
          8,
          8
         ],
         "xaxis": "x5",
         "y": [
          0,
          0.14577318839003658
         ],
         "yaxis": "y5"
        },
        {
         "line": {
          "color": "#3f3f3f"
         },
         "mode": "lines",
         "name": "ACF",
         "showlegend": false,
         "type": "scattergl",
         "x": [
          9,
          9
         ],
         "xaxis": "x5",
         "y": [
          0,
          0.10171180495151422
         ],
         "yaxis": "y5"
        },
        {
         "line": {
          "color": "#3f3f3f"
         },
         "mode": "lines",
         "name": "ACF",
         "showlegend": false,
         "type": "scattergl",
         "x": [
          10,
          10
         ],
         "xaxis": "x5",
         "y": [
          0,
          0.17839747416191584
         ],
         "yaxis": "y5"
        },
        {
         "line": {
          "color": "#3f3f3f"
         },
         "mode": "lines",
         "name": "ACF",
         "showlegend": false,
         "type": "scattergl",
         "x": [
          11,
          11
         ],
         "xaxis": "x5",
         "y": [
          0,
          0.35845190809964594
         ],
         "yaxis": "y5"
        },
        {
         "line": {
          "color": "#3f3f3f"
         },
         "mode": "lines",
         "name": "ACF",
         "showlegend": false,
         "type": "scattergl",
         "x": [
          12,
          12
         ],
         "xaxis": "x5",
         "y": [
          0,
          0.17689464793262052
         ],
         "yaxis": "y5"
        },
        {
         "line": {
          "color": "#3f3f3f"
         },
         "mode": "lines",
         "name": "ACF",
         "showlegend": false,
         "type": "scattergl",
         "x": [
          13,
          13
         ],
         "xaxis": "x5",
         "y": [
          0,
          0.12680564272861408
         ],
         "yaxis": "y5"
        },
        {
         "line": {
          "color": "#3f3f3f"
         },
         "mode": "lines",
         "name": "ACF",
         "showlegend": false,
         "type": "scattergl",
         "x": [
          14,
          14
         ],
         "xaxis": "x5",
         "y": [
          0,
          0.14080453012133806
         ],
         "yaxis": "y5"
        },
        {
         "line": {
          "color": "#3f3f3f"
         },
         "mode": "lines",
         "name": "ACF",
         "showlegend": false,
         "type": "scattergl",
         "x": [
          15,
          15
         ],
         "xaxis": "x5",
         "y": [
          0,
          -0.014897688968524236
         ],
         "yaxis": "y5"
        },
        {
         "line": {
          "color": "#3f3f3f"
         },
         "mode": "lines",
         "name": "ACF",
         "showlegend": false,
         "type": "scattergl",
         "x": [
          16,
          16
         ],
         "xaxis": "x5",
         "y": [
          0,
          0.007881723552222457
         ],
         "yaxis": "y5"
        },
        {
         "line": {
          "color": "#3f3f3f"
         },
         "mode": "lines",
         "name": "ACF",
         "showlegend": false,
         "type": "scattergl",
         "x": [
          17,
          17
         ],
         "xaxis": "x5",
         "y": [
          0,
          -0.06488294524366975
         ],
         "yaxis": "y5"
        },
        {
         "line": {
          "color": "#3f3f3f"
         },
         "mode": "lines",
         "name": "ACF",
         "showlegend": false,
         "type": "scattergl",
         "x": [
          18,
          18
         ],
         "xaxis": "x5",
         "y": [
          0,
          -0.04763883272898156
         ],
         "yaxis": "y5"
        },
        {
         "line": {
          "color": "#3f3f3f"
         },
         "mode": "lines",
         "name": "ACF",
         "showlegend": false,
         "type": "scattergl",
         "x": [
          19,
          19
         ],
         "xaxis": "x5",
         "y": [
          0,
          -0.07002685631696763
         ],
         "yaxis": "y5"
        },
        {
         "line": {
          "color": "#3f3f3f"
         },
         "mode": "lines",
         "name": "ACF",
         "showlegend": false,
         "type": "scattergl",
         "x": [
          20,
          20
         ],
         "xaxis": "x5",
         "y": [
          0,
          -0.026808465278450353
         ],
         "yaxis": "y5"
        },
        {
         "line": {
          "color": "#3f3f3f"
         },
         "mode": "lines",
         "name": "ACF",
         "showlegend": false,
         "type": "scattergl",
         "x": [
          21,
          21
         ],
         "xaxis": "x5",
         "y": [
          0,
          -0.0140474935196163
         ],
         "yaxis": "y5"
        },
        {
         "line": {
          "color": "#3f3f3f"
         },
         "mode": "lines",
         "name": "ACF",
         "showlegend": false,
         "type": "scattergl",
         "x": [
          22,
          22
         ],
         "xaxis": "x5",
         "y": [
          0,
          0.046757282627086574
         ],
         "yaxis": "y5"
        },
        {
         "line": {
          "color": "#3f3f3f"
         },
         "mode": "lines",
         "name": "ACF",
         "showlegend": false,
         "type": "scattergl",
         "x": [
          23,
          23
         ],
         "xaxis": "x5",
         "y": [
          0,
          -0.09336748146588679
         ],
         "yaxis": "y5"
        },
        {
         "line": {
          "color": "#3f3f3f"
         },
         "mode": "lines",
         "name": "ACF",
         "showlegend": false,
         "type": "scattergl",
         "x": [
          24,
          24
         ],
         "xaxis": "x5",
         "y": [
          0,
          0.04859977694151395
         ],
         "yaxis": "y5"
        },
        {
         "line": {
          "color": "#3f3f3f"
         },
         "mode": "lines",
         "name": "ACF",
         "showlegend": false,
         "type": "scattergl",
         "x": [
          25,
          25
         ],
         "xaxis": "x5",
         "y": [
          0,
          0.0728614600869881
         ],
         "yaxis": "y5"
        },
        {
         "line": {
          "color": "#3f3f3f"
         },
         "mode": "lines",
         "name": "ACF",
         "showlegend": false,
         "type": "scattergl",
         "x": [
          26,
          26
         ],
         "xaxis": "x5",
         "y": [
          0,
          -0.017275754468984265
         ],
         "yaxis": "y5"
        },
        {
         "line": {
          "color": "#3f3f3f"
         },
         "mode": "lines",
         "name": "ACF",
         "showlegend": false,
         "type": "scattergl",
         "x": [
          27,
          27
         ],
         "xaxis": "x5",
         "y": [
          0,
          -0.06372112173271102
         ],
         "yaxis": "y5"
        },
        {
         "line": {
          "color": "#3f3f3f"
         },
         "mode": "lines",
         "name": "ACF",
         "showlegend": false,
         "type": "scattergl",
         "x": [
          28,
          28
         ],
         "xaxis": "x5",
         "y": [
          0,
          -0.09655649126456729
         ],
         "yaxis": "y5"
        },
        {
         "line": {
          "color": "#3f3f3f"
         },
         "mode": "lines",
         "name": "ACF",
         "showlegend": false,
         "type": "scattergl",
         "x": [
          29,
          29
         ],
         "xaxis": "x5",
         "y": [
          0,
          -0.1836860466263294
         ],
         "yaxis": "y5"
        },
        {
         "line": {
          "color": "#3f3f3f"
         },
         "mode": "lines",
         "name": "ACF",
         "showlegend": false,
         "type": "scattergl",
         "x": [
          30,
          30
         ],
         "xaxis": "x5",
         "y": [
          0,
          -0.13156028428119132
         ],
         "yaxis": "y5"
        },
        {
         "line": {
          "color": "#3f3f3f"
         },
         "mode": "lines",
         "name": "ACF",
         "showlegend": false,
         "type": "scattergl",
         "x": [
          31,
          31
         ],
         "xaxis": "x5",
         "y": [
          0,
          -0.1439718490521515
         ],
         "yaxis": "y5"
        },
        {
         "line": {
          "color": "#3f3f3f"
         },
         "mode": "lines",
         "name": "ACF",
         "showlegend": false,
         "type": "scattergl",
         "x": [
          32,
          32
         ],
         "xaxis": "x5",
         "y": [
          0,
          -0.08548120859309942
         ],
         "yaxis": "y5"
        },
        {
         "line": {
          "color": "#3f3f3f"
         },
         "mode": "lines",
         "name": "ACF",
         "showlegend": false,
         "type": "scattergl",
         "x": [
          33,
          33
         ],
         "xaxis": "x5",
         "y": [
          0,
          -0.12069053907975832
         ],
         "yaxis": "y5"
        },
        {
         "line": {
          "color": "#3f3f3f"
         },
         "mode": "lines",
         "name": "ACF",
         "showlegend": false,
         "type": "scattergl",
         "x": [
          34,
          34
         ],
         "xaxis": "x5",
         "y": [
          0,
          -0.14323137661792054
         ],
         "yaxis": "y5"
        },
        {
         "line": {
          "color": "#3f3f3f"
         },
         "mode": "lines",
         "name": "ACF",
         "showlegend": false,
         "type": "scattergl",
         "x": [
          35,
          35
         ],
         "xaxis": "x5",
         "y": [
          0,
          -0.059786987329075975
         ],
         "yaxis": "y5"
        },
        {
         "line": {
          "color": "#3f3f3f"
         },
         "mode": "lines",
         "name": "ACF",
         "showlegend": false,
         "type": "scattergl",
         "x": [
          36,
          36
         ],
         "xaxis": "x5",
         "y": [
          0,
          -0.07963863905872465
         ],
         "yaxis": "y5"
        },
        {
         "line": {
          "color": "#3f3f3f"
         },
         "mode": "lines",
         "name": "ACF",
         "showlegend": false,
         "type": "scattergl",
         "x": [
          37,
          37
         ],
         "xaxis": "x5",
         "y": [
          0,
          -0.19560552100205042
         ],
         "yaxis": "y5"
        },
        {
         "line": {
          "color": "#3f3f3f"
         },
         "mode": "lines",
         "name": "ACF",
         "showlegend": false,
         "type": "scattergl",
         "x": [
          38,
          38
         ],
         "xaxis": "x5",
         "y": [
          0,
          -0.22324780301372144
         ],
         "yaxis": "y5"
        },
        {
         "line": {
          "color": "#3f3f3f"
         },
         "mode": "lines",
         "name": "ACF",
         "showlegend": false,
         "type": "scattergl",
         "x": [
          39,
          39
         ],
         "xaxis": "x5",
         "y": [
          0,
          -0.22762592905673162
         ],
         "yaxis": "y5"
        },
        {
         "line": {
          "color": "#3f3f3f"
         },
         "mode": "lines",
         "name": "ACF",
         "showlegend": false,
         "type": "scattergl",
         "x": [
          40,
          40
         ],
         "xaxis": "x5",
         "y": [
          0,
          -0.22606279026081533
         ],
         "yaxis": "y5"
        },
        {
         "marker": {
          "color": "#1f77b4",
          "size": 6
         },
         "mode": "markers",
         "name": "ACF",
         "showlegend": false,
         "type": "scattergl",
         "x": [
          0,
          1,
          2,
          3,
          4,
          5,
          6,
          7,
          8,
          9,
          10,
          11,
          12,
          13,
          14,
          15,
          16,
          17,
          18,
          19,
          20,
          21,
          22,
          23,
          24,
          25,
          26,
          27,
          28,
          29,
          30,
          31,
          32,
          33,
          34,
          35,
          36,
          37,
          38,
          39,
          40
         ],
         "xaxis": "x5",
         "y": [
          1,
          0.4993871157385834,
          0.31041870826732865,
          0.20343500220805288,
          0.20269757547879846,
          0.12695966061565017,
          0.1095427427016825,
          0.10179366757075038,
          0.14577318839003658,
          0.10171180495151422,
          0.17839747416191584,
          0.35845190809964594,
          0.17689464793262052,
          0.12680564272861408,
          0.14080453012133806,
          -0.014897688968524236,
          0.007881723552222457,
          -0.06488294524366975,
          -0.04763883272898156,
          -0.07002685631696763,
          -0.026808465278450353,
          -0.0140474935196163,
          0.046757282627086574,
          -0.09336748146588679,
          0.04859977694151395,
          0.0728614600869881,
          -0.017275754468984265,
          -0.06372112173271102,
          -0.09655649126456729,
          -0.1836860466263294,
          -0.13156028428119132,
          -0.1439718490521515,
          -0.08548120859309942,
          -0.12069053907975832,
          -0.14323137661792054,
          -0.059786987329075975,
          -0.07963863905872465,
          -0.19560552100205042,
          -0.22324780301372144,
          -0.22762592905673162,
          -0.22606279026081533
         ],
         "yaxis": "y5"
        },
        {
         "line": {
          "color": "rgba(255,255,255,0)"
         },
         "mode": "lines",
         "name": "UC",
         "showlegend": false,
         "type": "scatter",
         "x": [
          0,
          1,
          2,
          3,
          4,
          5,
          6,
          7,
          8,
          9,
          10,
          11,
          12,
          13,
          14,
          15,
          16,
          17,
          18,
          19,
          20,
          21,
          22,
          23,
          24,
          25,
          26,
          27,
          28,
          29,
          30,
          31,
          32,
          33,
          34,
          35,
          36,
          37,
          38,
          39,
          40
         ],
         "xaxis": "x5",
         "y": [
          0,
          0.2692217582355414,
          0.32959329934711024,
          0.3501430055189205,
          0.35860763975760507,
          0.36681785609559,
          0.36998908873716235,
          0.37233237588444806,
          0.374344058150757,
          0.3784360754837754,
          0.3804123078935966,
          0.3864285109794608,
          0.40982029299664025,
          0.41531763987914194,
          0.41811441320169107,
          0.42153723601589066,
          0.42157539550204365,
          0.4215860757651442,
          0.42230921654832154,
          0.4226985411386855,
          0.4235385570416109,
          0.4236615296036441,
          0.42369528798857475,
          0.42406911756350735,
          0.4255564704234124,
          0.42595856344884586,
          0.4268609423303616,
          0.4269116159774409,
          0.4276004251885349,
          0.42917783602766785,
          0.4348386724039714,
          0.4377141381132323,
          0.44113308291383224,
          0.44233203605144333,
          0.44471244385185615,
          0.44804359121491766,
          0.44862146554402776,
          0.44964497719787355,
          0.45577080052381913,
          0.46362895050728736,
          0.47165955383481345
         ],
         "yaxis": "y5"
        },
        {
         "fill": "tonexty",
         "fillcolor": "rgba(32, 146, 230,0.3)",
         "line": {
          "color": "rgba(255,255,255,0)"
         },
         "mode": "lines",
         "name": "LC",
         "showlegend": false,
         "type": "scatter",
         "x": [
          0,
          1,
          2,
          3,
          4,
          5,
          6,
          7,
          8,
          9,
          10,
          11,
          12,
          13,
          14,
          15,
          16,
          17,
          18,
          19,
          20,
          21,
          22,
          23,
          24,
          25,
          26,
          27,
          28,
          29,
          30,
          31,
          32,
          33,
          34,
          35,
          36,
          37,
          38,
          39,
          40
         ],
         "xaxis": "x5",
         "y": [
          0,
          -0.26922175823554145,
          -0.3295932993471102,
          -0.3501430055189205,
          -0.35860763975760507,
          -0.36681785609559,
          -0.36998908873716235,
          -0.37233237588444806,
          -0.374344058150757,
          -0.3784360754837754,
          -0.3804123078935966,
          -0.38642851097946074,
          -0.40982029299664025,
          -0.41531763987914194,
          -0.41811441320169107,
          -0.42153723601589066,
          -0.42157539550204365,
          -0.42158607576514406,
          -0.42230921654832154,
          -0.4226985411386855,
          -0.4235385570416109,
          -0.4236615296036441,
          -0.42369528798857475,
          -0.4240691175635073,
          -0.4255564704234124,
          -0.425958563448846,
          -0.4268609423303616,
          -0.4269116159774409,
          -0.42760042518853497,
          -0.4291778360276679,
          -0.4348386724039714,
          -0.4377141381132323,
          -0.4411330829138322,
          -0.4423320360514432,
          -0.44471244385185615,
          -0.44804359121491766,
          -0.44862146554402776,
          -0.44964497719787355,
          -0.4557708005238191,
          -0.46362895050728736,
          -0.4716595538348135
         ],
         "yaxis": "y5"
        },
        {
         "line": {
          "color": "#3f3f3f"
         },
         "mode": "lines",
         "name": "PACF",
         "showlegend": false,
         "type": "scattergl",
         "x": [
          0,
          0
         ],
         "xaxis": "x6",
         "y": [
          0,
          1
         ],
         "yaxis": "y6"
        },
        {
         "line": {
          "color": "#3f3f3f"
         },
         "mode": "lines",
         "name": "PACF",
         "showlegend": false,
         "type": "scattergl",
         "x": [
          1,
          1
         ],
         "xaxis": "x6",
         "y": [
          0,
          0.5089907141181715
         ],
         "yaxis": "y6"
        },
        {
         "line": {
          "color": "#3f3f3f"
         },
         "mode": "lines",
         "name": "PACF",
         "showlegend": false,
         "type": "scattergl",
         "x": [
          2,
          2
         ],
         "xaxis": "x6",
         "y": [
          0,
          0.08573087405913127
         ],
         "yaxis": "y6"
        },
        {
         "line": {
          "color": "#3f3f3f"
         },
         "mode": "lines",
         "name": "PACF",
         "showlegend": false,
         "type": "scattergl",
         "x": [
          3,
          3
         ],
         "xaxis": "x6",
         "y": [
          0,
          0.029756305244763366
         ],
         "yaxis": "y6"
        },
        {
         "line": {
          "color": "#3f3f3f"
         },
         "mode": "lines",
         "name": "PACF",
         "showlegend": false,
         "type": "scattergl",
         "x": [
          4,
          4
         ],
         "xaxis": "x6",
         "y": [
          0,
          0.11037916824119051
         ],
         "yaxis": "y6"
        },
        {
         "line": {
          "color": "#3f3f3f"
         },
         "mode": "lines",
         "name": "PACF",
         "showlegend": false,
         "type": "scattergl",
         "x": [
          5,
          5
         ],
         "xaxis": "x6",
         "y": [
          0,
          -0.032587051444325665
         ],
         "yaxis": "y6"
        },
        {
         "line": {
          "color": "#3f3f3f"
         },
         "mode": "lines",
         "name": "PACF",
         "showlegend": false,
         "type": "scattergl",
         "x": [
          6,
          6
         ],
         "xaxis": "x6",
         "y": [
          0,
          0.03452624221969746
         ],
         "yaxis": "y6"
        },
        {
         "line": {
          "color": "#3f3f3f"
         },
         "mode": "lines",
         "name": "PACF",
         "showlegend": false,
         "type": "scattergl",
         "x": [
          7,
          7
         ],
         "xaxis": "x6",
         "y": [
          0,
          0.03767665896251038
         ],
         "yaxis": "y6"
        },
        {
         "line": {
          "color": "#3f3f3f"
         },
         "mode": "lines",
         "name": "PACF",
         "showlegend": false,
         "type": "scattergl",
         "x": [
          8,
          8
         ],
         "xaxis": "x6",
         "y": [
          0,
          0.09992409794263317
         ],
         "yaxis": "y6"
        },
        {
         "line": {
          "color": "#3f3f3f"
         },
         "mode": "lines",
         "name": "PACF",
         "showlegend": false,
         "type": "scattergl",
         "x": [
          9,
          9
         ],
         "xaxis": "x6",
         "y": [
          0,
          -0.02299026061566234
         ],
         "yaxis": "y6"
        },
        {
         "line": {
          "color": "#3f3f3f"
         },
         "mode": "lines",
         "name": "PACF",
         "showlegend": false,
         "type": "scattergl",
         "x": [
          10,
          10
         ],
         "xaxis": "x6",
         "y": [
          0,
          0.17250818331828335
         ],
         "yaxis": "y6"
        },
        {
         "line": {
          "color": "#3f3f3f"
         },
         "mode": "lines",
         "name": "PACF",
         "showlegend": false,
         "type": "scattergl",
         "x": [
          11,
          11
         ],
         "xaxis": "x6",
         "y": [
          0,
          0.38265880029601934
         ],
         "yaxis": "y6"
        },
        {
         "line": {
          "color": "#3f3f3f"
         },
         "mode": "lines",
         "name": "PACF",
         "showlegend": false,
         "type": "scattergl",
         "x": [
          12,
          12
         ],
         "xaxis": "x6",
         "y": [
          0,
          -0.27465199378157845
         ],
         "yaxis": "y6"
        },
        {
         "line": {
          "color": "#3f3f3f"
         },
         "mode": "lines",
         "name": "PACF",
         "showlegend": false,
         "type": "scattergl",
         "x": [
          13,
          13
         ],
         "xaxis": "x6",
         "y": [
          0,
          0.038670779013160926
         ],
         "yaxis": "y6"
        },
        {
         "line": {
          "color": "#3f3f3f"
         },
         "mode": "lines",
         "name": "PACF",
         "showlegend": false,
         "type": "scattergl",
         "x": [
          14,
          14
         ],
         "xaxis": "x6",
         "y": [
          0,
          0.14323903514164282
         ],
         "yaxis": "y6"
        },
        {
         "line": {
          "color": "#3f3f3f"
         },
         "mode": "lines",
         "name": "PACF",
         "showlegend": false,
         "type": "scattergl",
         "x": [
          15,
          15
         ],
         "xaxis": "x6",
         "y": [
          0,
          -0.47164083711403987
         ],
         "yaxis": "y6"
        },
        {
         "line": {
          "color": "#3f3f3f"
         },
         "mode": "lines",
         "name": "PACF",
         "showlegend": false,
         "type": "scattergl",
         "x": [
          16,
          16
         ],
         "xaxis": "x6",
         "y": [
          0,
          0.2753562811091379
         ],
         "yaxis": "y6"
        },
        {
         "line": {
          "color": "#3f3f3f"
         },
         "mode": "lines",
         "name": "PACF",
         "showlegend": false,
         "type": "scattergl",
         "x": [
          17,
          17
         ],
         "xaxis": "x6",
         "y": [
          0,
          -0.2355471007990042
         ],
         "yaxis": "y6"
        },
        {
         "marker": {
          "color": "#1f77b4",
          "size": 6
         },
         "mode": "markers",
         "name": "PACF",
         "showlegend": false,
         "type": "scattergl",
         "x": [
          0,
          1,
          2,
          3,
          4,
          5,
          6,
          7,
          8,
          9,
          10,
          11,
          12,
          13,
          14,
          15,
          16,
          17
         ],
         "xaxis": "x6",
         "y": [
          1,
          0.5089907141181715,
          0.08573087405913127,
          0.029756305244763366,
          0.11037916824119051,
          -0.032587051444325665,
          0.03452624221969746,
          0.03767665896251038,
          0.09992409794263317,
          -0.02299026061566234,
          0.17250818331828335,
          0.38265880029601934,
          -0.27465199378157845,
          0.038670779013160926,
          0.14323903514164282,
          -0.47164083711403987,
          0.2753562811091379,
          -0.2355471007990042
         ],
         "yaxis": "y6"
        },
        {
         "line": {
          "color": "rgba(255,255,255,0)"
         },
         "mode": "lines",
         "name": "UC",
         "showlegend": false,
         "type": "scatter",
         "x": [
          0,
          1,
          2,
          3,
          4,
          5,
          6,
          7,
          8,
          9,
          10,
          11,
          12,
          13,
          14,
          15,
          16,
          17
         ],
         "xaxis": "x6",
         "y": [
          0,
          0.2692217582355414,
          0.26922175823554145,
          0.26922175823554145,
          0.2692217582355414,
          0.26922175823554145,
          0.26922175823554145,
          0.26922175823554145,
          0.26922175823554145,
          0.26922175823554145,
          0.2692217582355415,
          0.26922175823554145,
          0.26922175823554145,
          0.26922175823554145,
          0.26922175823554145,
          0.26922175823554145,
          0.2692217582355414,
          0.26922175823554145
         ],
         "yaxis": "y6"
        },
        {
         "fill": "tonexty",
         "fillcolor": "rgba(32, 146, 230,0.3)",
         "line": {
          "color": "rgba(255,255,255,0)"
         },
         "mode": "lines",
         "name": "LC",
         "showlegend": false,
         "type": "scatter",
         "x": [
          0,
          1,
          2,
          3,
          4,
          5,
          6,
          7,
          8,
          9,
          10,
          11,
          12,
          13,
          14,
          15,
          16,
          17
         ],
         "xaxis": "x6",
         "y": [
          0,
          -0.26922175823554145,
          -0.26922175823554145,
          -0.26922175823554145,
          -0.26922175823554145,
          -0.26922175823554145,
          -0.26922175823554145,
          -0.26922175823554145,
          -0.26922175823554145,
          -0.26922175823554145,
          -0.26922175823554145,
          -0.26922175823554145,
          -0.2692217582355415,
          -0.26922175823554145,
          -0.26922175823554145,
          -0.26922175823554145,
          -0.26922175823554145,
          -0.2692217582355414
         ],
         "yaxis": "y6"
        }
       ],
       "layout": {
        "annotations": [
         {
          "font": {
           "size": 16
          },
          "showarrow": false,
          "text": "Quantity (transformed)",
          "x": 0.225,
          "xanchor": "center",
          "xref": "paper",
          "y": 1,
          "yanchor": "bottom",
          "yref": "paper"
         },
         {
          "font": {
           "size": 16
          },
          "showarrow": false,
          "text": "Periodogram",
          "x": 0.775,
          "xanchor": "center",
          "xref": "paper",
          "y": 1,
          "yanchor": "bottom",
          "yref": "paper"
         },
         {
          "font": {
           "size": 16
          },
          "showarrow": false,
          "text": "Histogram",
          "x": 0.225,
          "xanchor": "center",
          "xref": "paper",
          "y": 0.6111111111111112,
          "yanchor": "bottom",
          "yref": "paper"
         },
         {
          "font": {
           "size": 16
          },
          "showarrow": false,
          "text": "Q-Q Plot",
          "x": 0.775,
          "xanchor": "center",
          "xref": "paper",
          "y": 0.6111111111111112,
          "yanchor": "bottom",
          "yref": "paper"
         },
         {
          "font": {
           "size": 16
          },
          "showarrow": false,
          "text": "ACF",
          "x": 0.225,
          "xanchor": "center",
          "xref": "paper",
          "y": 0.22222222222222227,
          "yanchor": "bottom",
          "yref": "paper"
         },
         {
          "font": {
           "size": 16
          },
          "showarrow": false,
          "text": "PACF",
          "x": 0.775,
          "xanchor": "center",
          "xref": "paper",
          "y": 0.22222222222222227,
          "yanchor": "bottom",
          "yref": "paper"
         }
        ],
        "showlegend": false,
        "template": {
         "data": {
          "bar": [
           {
            "error_x": {
             "color": "rgb(51,51,51)"
            },
            "error_y": {
             "color": "rgb(51,51,51)"
            },
            "marker": {
             "line": {
              "color": "rgb(237,237,237)",
              "width": 0.5
             },
             "pattern": {
              "fillmode": "overlay",
              "size": 10,
              "solidity": 0.2
             }
            },
            "type": "bar"
           }
          ],
          "barpolar": [
           {
            "marker": {
             "line": {
              "color": "rgb(237,237,237)",
              "width": 0.5
             },
             "pattern": {
              "fillmode": "overlay",
              "size": 10,
              "solidity": 0.2
             }
            },
            "type": "barpolar"
           }
          ],
          "carpet": [
           {
            "aaxis": {
             "endlinecolor": "rgb(51,51,51)",
             "gridcolor": "white",
             "linecolor": "white",
             "minorgridcolor": "white",
             "startlinecolor": "rgb(51,51,51)"
            },
            "baxis": {
             "endlinecolor": "rgb(51,51,51)",
             "gridcolor": "white",
             "linecolor": "white",
             "minorgridcolor": "white",
             "startlinecolor": "rgb(51,51,51)"
            },
            "type": "carpet"
           }
          ],
          "choropleth": [
           {
            "colorbar": {
             "outlinewidth": 0,
             "tickcolor": "rgb(237,237,237)",
             "ticklen": 6,
             "ticks": "inside"
            },
            "type": "choropleth"
           }
          ],
          "contour": [
           {
            "colorbar": {
             "outlinewidth": 0,
             "tickcolor": "rgb(237,237,237)",
             "ticklen": 6,
             "ticks": "inside"
            },
            "colorscale": [
             [
              0,
              "rgb(20,44,66)"
             ],
             [
              1,
              "rgb(90,179,244)"
             ]
            ],
            "type": "contour"
           }
          ],
          "contourcarpet": [
           {
            "colorbar": {
             "outlinewidth": 0,
             "tickcolor": "rgb(237,237,237)",
             "ticklen": 6,
             "ticks": "inside"
            },
            "type": "contourcarpet"
           }
          ],
          "heatmap": [
           {
            "colorbar": {
             "outlinewidth": 0,
             "tickcolor": "rgb(237,237,237)",
             "ticklen": 6,
             "ticks": "inside"
            },
            "colorscale": [
             [
              0,
              "rgb(20,44,66)"
             ],
             [
              1,
              "rgb(90,179,244)"
             ]
            ],
            "type": "heatmap"
           }
          ],
          "heatmapgl": [
           {
            "colorbar": {
             "outlinewidth": 0,
             "tickcolor": "rgb(237,237,237)",
             "ticklen": 6,
             "ticks": "inside"
            },
            "colorscale": [
             [
              0,
              "rgb(20,44,66)"
             ],
             [
              1,
              "rgb(90,179,244)"
             ]
            ],
            "type": "heatmapgl"
           }
          ],
          "histogram": [
           {
            "marker": {
             "pattern": {
              "fillmode": "overlay",
              "size": 10,
              "solidity": 0.2
             }
            },
            "type": "histogram"
           }
          ],
          "histogram2d": [
           {
            "colorbar": {
             "outlinewidth": 0,
             "tickcolor": "rgb(237,237,237)",
             "ticklen": 6,
             "ticks": "inside"
            },
            "colorscale": [
             [
              0,
              "rgb(20,44,66)"
             ],
             [
              1,
              "rgb(90,179,244)"
             ]
            ],
            "type": "histogram2d"
           }
          ],
          "histogram2dcontour": [
           {
            "colorbar": {
             "outlinewidth": 0,
             "tickcolor": "rgb(237,237,237)",
             "ticklen": 6,
             "ticks": "inside"
            },
            "colorscale": [
             [
              0,
              "rgb(20,44,66)"
             ],
             [
              1,
              "rgb(90,179,244)"
             ]
            ],
            "type": "histogram2dcontour"
           }
          ],
          "mesh3d": [
           {
            "colorbar": {
             "outlinewidth": 0,
             "tickcolor": "rgb(237,237,237)",
             "ticklen": 6,
             "ticks": "inside"
            },
            "type": "mesh3d"
           }
          ],
          "parcoords": [
           {
            "line": {
             "colorbar": {
              "outlinewidth": 0,
              "tickcolor": "rgb(237,237,237)",
              "ticklen": 6,
              "ticks": "inside"
             }
            },
            "type": "parcoords"
           }
          ],
          "pie": [
           {
            "automargin": true,
            "type": "pie"
           }
          ],
          "scatter": [
           {
            "fillpattern": {
             "fillmode": "overlay",
             "size": 10,
             "solidity": 0.2
            },
            "type": "scatter"
           }
          ],
          "scatter3d": [
           {
            "line": {
             "colorbar": {
              "outlinewidth": 0,
              "tickcolor": "rgb(237,237,237)",
              "ticklen": 6,
              "ticks": "inside"
             }
            },
            "marker": {
             "colorbar": {
              "outlinewidth": 0,
              "tickcolor": "rgb(237,237,237)",
              "ticklen": 6,
              "ticks": "inside"
             }
            },
            "type": "scatter3d"
           }
          ],
          "scattercarpet": [
           {
            "marker": {
             "colorbar": {
              "outlinewidth": 0,
              "tickcolor": "rgb(237,237,237)",
              "ticklen": 6,
              "ticks": "inside"
             }
            },
            "type": "scattercarpet"
           }
          ],
          "scattergeo": [
           {
            "marker": {
             "colorbar": {
              "outlinewidth": 0,
              "tickcolor": "rgb(237,237,237)",
              "ticklen": 6,
              "ticks": "inside"
             }
            },
            "type": "scattergeo"
           }
          ],
          "scattergl": [
           {
            "marker": {
             "colorbar": {
              "outlinewidth": 0,
              "tickcolor": "rgb(237,237,237)",
              "ticklen": 6,
              "ticks": "inside"
             }
            },
            "type": "scattergl"
           }
          ],
          "scattermapbox": [
           {
            "marker": {
             "colorbar": {
              "outlinewidth": 0,
              "tickcolor": "rgb(237,237,237)",
              "ticklen": 6,
              "ticks": "inside"
             }
            },
            "type": "scattermapbox"
           }
          ],
          "scatterpolar": [
           {
            "marker": {
             "colorbar": {
              "outlinewidth": 0,
              "tickcolor": "rgb(237,237,237)",
              "ticklen": 6,
              "ticks": "inside"
             }
            },
            "type": "scatterpolar"
           }
          ],
          "scatterpolargl": [
           {
            "marker": {
             "colorbar": {
              "outlinewidth": 0,
              "tickcolor": "rgb(237,237,237)",
              "ticklen": 6,
              "ticks": "inside"
             }
            },
            "type": "scatterpolargl"
           }
          ],
          "scatterternary": [
           {
            "marker": {
             "colorbar": {
              "outlinewidth": 0,
              "tickcolor": "rgb(237,237,237)",
              "ticklen": 6,
              "ticks": "inside"
             }
            },
            "type": "scatterternary"
           }
          ],
          "surface": [
           {
            "colorbar": {
             "outlinewidth": 0,
             "tickcolor": "rgb(237,237,237)",
             "ticklen": 6,
             "ticks": "inside"
            },
            "colorscale": [
             [
              0,
              "rgb(20,44,66)"
             ],
             [
              1,
              "rgb(90,179,244)"
             ]
            ],
            "type": "surface"
           }
          ],
          "table": [
           {
            "cells": {
             "fill": {
              "color": "rgb(237,237,237)"
             },
             "line": {
              "color": "white"
             }
            },
            "header": {
             "fill": {
              "color": "rgb(217,217,217)"
             },
             "line": {
              "color": "white"
             }
            },
            "type": "table"
           }
          ]
         },
         "layout": {
          "annotationdefaults": {
           "arrowhead": 0,
           "arrowwidth": 1
          },
          "autotypenumbers": "strict",
          "coloraxis": {
           "colorbar": {
            "outlinewidth": 0,
            "tickcolor": "rgb(237,237,237)",
            "ticklen": 6,
            "ticks": "inside"
           }
          },
          "colorscale": {
           "sequential": [
            [
             0,
             "rgb(20,44,66)"
            ],
            [
             1,
             "rgb(90,179,244)"
            ]
           ],
           "sequentialminus": [
            [
             0,
             "rgb(20,44,66)"
            ],
            [
             1,
             "rgb(90,179,244)"
            ]
           ]
          },
          "colorway": [
           "#F8766D",
           "#A3A500",
           "#00BF7D",
           "#00B0F6",
           "#E76BF3"
          ],
          "font": {
           "color": "rgb(51,51,51)"
          },
          "geo": {
           "bgcolor": "white",
           "lakecolor": "white",
           "landcolor": "rgb(237,237,237)",
           "showlakes": true,
           "showland": true,
           "subunitcolor": "white"
          },
          "hoverlabel": {
           "align": "left"
          },
          "hovermode": "closest",
          "paper_bgcolor": "white",
          "plot_bgcolor": "rgb(237,237,237)",
          "polar": {
           "angularaxis": {
            "gridcolor": "white",
            "linecolor": "white",
            "showgrid": true,
            "tickcolor": "rgb(51,51,51)",
            "ticks": "outside"
           },
           "bgcolor": "rgb(237,237,237)",
           "radialaxis": {
            "gridcolor": "white",
            "linecolor": "white",
            "showgrid": true,
            "tickcolor": "rgb(51,51,51)",
            "ticks": "outside"
           }
          },
          "scene": {
           "xaxis": {
            "backgroundcolor": "rgb(237,237,237)",
            "gridcolor": "white",
            "gridwidth": 2,
            "linecolor": "white",
            "showbackground": true,
            "showgrid": true,
            "tickcolor": "rgb(51,51,51)",
            "ticks": "outside",
            "zerolinecolor": "white"
           },
           "yaxis": {
            "backgroundcolor": "rgb(237,237,237)",
            "gridcolor": "white",
            "gridwidth": 2,
            "linecolor": "white",
            "showbackground": true,
            "showgrid": true,
            "tickcolor": "rgb(51,51,51)",
            "ticks": "outside",
            "zerolinecolor": "white"
           },
           "zaxis": {
            "backgroundcolor": "rgb(237,237,237)",
            "gridcolor": "white",
            "gridwidth": 2,
            "linecolor": "white",
            "showbackground": true,
            "showgrid": true,
            "tickcolor": "rgb(51,51,51)",
            "ticks": "outside",
            "zerolinecolor": "white"
           }
          },
          "shapedefaults": {
           "fillcolor": "black",
           "line": {
            "width": 0
           },
           "opacity": 0.3
          },
          "ternary": {
           "aaxis": {
            "gridcolor": "white",
            "linecolor": "white",
            "showgrid": true,
            "tickcolor": "rgb(51,51,51)",
            "ticks": "outside"
           },
           "baxis": {
            "gridcolor": "white",
            "linecolor": "white",
            "showgrid": true,
            "tickcolor": "rgb(51,51,51)",
            "ticks": "outside"
           },
           "bgcolor": "rgb(237,237,237)",
           "caxis": {
            "gridcolor": "white",
            "linecolor": "white",
            "showgrid": true,
            "tickcolor": "rgb(51,51,51)",
            "ticks": "outside"
           }
          },
          "xaxis": {
           "automargin": true,
           "gridcolor": "white",
           "linecolor": "white",
           "showgrid": true,
           "tickcolor": "rgb(51,51,51)",
           "ticks": "outside",
           "title": {
            "standoff": 15
           },
           "zerolinecolor": "white"
          },
          "yaxis": {
           "automargin": true,
           "gridcolor": "white",
           "linecolor": "white",
           "showgrid": true,
           "tickcolor": "rgb(51,51,51)",
           "ticks": "outside",
           "title": {
            "standoff": 15
           },
           "zerolinecolor": "white"
          }
         }
        },
        "title": {
         "text": "Diagnostics | Quantity"
        },
        "xaxis": {
         "anchor": "y",
         "domain": [
          0,
          0.45
         ]
        },
        "xaxis2": {
         "anchor": "y2",
         "domain": [
          0.55,
          1
         ],
         "range": [
          0,
          0.5
         ]
        },
        "xaxis3": {
         "anchor": "y3",
         "domain": [
          0,
          0.45
         ],
         "title": {
          "text": "Range of Values"
         }
        },
        "xaxis4": {
         "anchor": "y4",
         "domain": [
          0.55,
          1
         ],
         "title": {
          "text": "Theoretical Quantities"
         }
        },
        "xaxis5": {
         "anchor": "y5",
         "domain": [
          0,
          0.45
         ],
         "range": [
          -1,
          42
         ]
        },
        "xaxis6": {
         "anchor": "y6",
         "domain": [
          0.55,
          1
         ],
         "range": [
          -1,
          19
         ]
        },
        "yaxis": {
         "anchor": "x",
         "domain": [
          0.7777777777777779,
          1
         ]
        },
        "yaxis2": {
         "anchor": "x2",
         "domain": [
          0.7777777777777779,
          1
         ]
        },
        "yaxis3": {
         "anchor": "x3",
         "domain": [
          0.38888888888888895,
          0.6111111111111112
         ],
         "title": {
          "text": "PDF"
         }
        },
        "yaxis4": {
         "anchor": "x4",
         "domain": [
          0.38888888888888895,
          0.6111111111111112
         ],
         "title": {
          "text": "Sample Quantities"
         }
        },
        "yaxis5": {
         "anchor": "x5",
         "domain": [
          0,
          0.22222222222222227
         ],
         "range": [
          -1.1,
          1.1
         ],
         "zerolinecolor": "#000000"
        },
        "yaxis6": {
         "anchor": "x6",
         "domain": [
          0,
          0.22222222222222227
         ],
         "range": [
          -1.1,
          1.1
         ],
         "zerolinecolor": "#000000"
        }
       }
      }
     },
     "metadata": {},
     "output_type": "display_data"
    }
   ],
   "source": [
    "exp.plot_model(plot = 'diagnostics')"
   ]
  },
  {
   "cell_type": "markdown",
   "metadata": {},
   "source": [
    "## ETS Model"
   ]
  },
  {
   "cell_type": "code",
   "execution_count": 165,
   "metadata": {},
   "outputs": [
    {
     "data": {
      "text/html": [],
      "text/plain": [
       "<IPython.core.display.HTML object>"
      ]
     },
     "metadata": {},
     "output_type": "display_data"
    },
    {
     "data": {
      "text/html": [
       "<style type=\"text/css\">\n",
       "#T_f65d7_row3_col0, #T_f65d7_row3_col1, #T_f65d7_row3_col2, #T_f65d7_row3_col3, #T_f65d7_row3_col4, #T_f65d7_row3_col5, #T_f65d7_row3_col6, #T_f65d7_row3_col7 {\n",
       "  background: yellow;\n",
       "}\n",
       "</style>\n",
       "<table id=\"T_f65d7\">\n",
       "  <thead>\n",
       "    <tr>\n",
       "      <th class=\"blank level0\" >&nbsp;</th>\n",
       "      <th id=\"T_f65d7_level0_col0\" class=\"col_heading level0 col0\" >cutoff</th>\n",
       "      <th id=\"T_f65d7_level0_col1\" class=\"col_heading level0 col1\" >MASE</th>\n",
       "      <th id=\"T_f65d7_level0_col2\" class=\"col_heading level0 col2\" >RMSSE</th>\n",
       "      <th id=\"T_f65d7_level0_col3\" class=\"col_heading level0 col3\" >MAE</th>\n",
       "      <th id=\"T_f65d7_level0_col4\" class=\"col_heading level0 col4\" >RMSE</th>\n",
       "      <th id=\"T_f65d7_level0_col5\" class=\"col_heading level0 col5\" >MAPE</th>\n",
       "      <th id=\"T_f65d7_level0_col6\" class=\"col_heading level0 col6\" >SMAPE</th>\n",
       "      <th id=\"T_f65d7_level0_col7\" class=\"col_heading level0 col7\" >R2</th>\n",
       "    </tr>\n",
       "  </thead>\n",
       "  <tbody>\n",
       "    <tr>\n",
       "      <th id=\"T_f65d7_level0_row0\" class=\"row_heading level0 row0\" >0</th>\n",
       "      <td id=\"T_f65d7_row0_col0\" class=\"data row0 col0\" >2023-05</td>\n",
       "      <td id=\"T_f65d7_row0_col1\" class=\"data row0 col1\" >2.1306</td>\n",
       "      <td id=\"T_f65d7_row0_col2\" class=\"data row0 col2\" >1.6209</td>\n",
       "      <td id=\"T_f65d7_row0_col3\" class=\"data row0 col3\" >98057.6291</td>\n",
       "      <td id=\"T_f65d7_row0_col4\" class=\"data row0 col4\" >98477.1961</td>\n",
       "      <td id=\"T_f65d7_row0_col5\" class=\"data row0 col5\" >0.6058</td>\n",
       "      <td id=\"T_f65d7_row0_col6\" class=\"data row0 col6\" >0.8741</td>\n",
       "      <td id=\"T_f65d7_row0_col7\" class=\"data row0 col7\" >-198.5211</td>\n",
       "    </tr>\n",
       "    <tr>\n",
       "      <th id=\"T_f65d7_level0_row1\" class=\"row_heading level0 row1\" >1</th>\n",
       "      <td id=\"T_f65d7_row1_col0\" class=\"data row1 col0\" >2023-08</td>\n",
       "      <td id=\"T_f65d7_row1_col1\" class=\"data row1 col1\" >3.1996</td>\n",
       "      <td id=\"T_f65d7_row1_col2\" class=\"data row1 col2\" >2.5841</td>\n",
       "      <td id=\"T_f65d7_row1_col3\" class=\"data row1 col3\" >160794.6803</td>\n",
       "      <td id=\"T_f65d7_row1_col4\" class=\"data row1 col4\" >166633.8243</td>\n",
       "      <td id=\"T_f65d7_row1_col5\" class=\"data row1 col5\" >2.5960</td>\n",
       "      <td id=\"T_f65d7_row1_col6\" class=\"data row1 col6\" >0.9918</td>\n",
       "      <td id=\"T_f65d7_row1_col7\" class=\"data row1 col7\" >-17.8339</td>\n",
       "    </tr>\n",
       "    <tr>\n",
       "      <th id=\"T_f65d7_level0_row2\" class=\"row_heading level0 row2\" >2</th>\n",
       "      <td id=\"T_f65d7_row2_col0\" class=\"data row2 col0\" >2023-11</td>\n",
       "      <td id=\"T_f65d7_row2_col1\" class=\"data row2 col1\" >1.3196</td>\n",
       "      <td id=\"T_f65d7_row2_col2\" class=\"data row2 col2\" >1.1339</td>\n",
       "      <td id=\"T_f65d7_row2_col3\" class=\"data row2 col3\" >66642.2772</td>\n",
       "      <td id=\"T_f65d7_row2_col4\" class=\"data row2 col4\" >72641.7045</td>\n",
       "      <td id=\"T_f65d7_row2_col5\" class=\"data row2 col5\" >0.4933</td>\n",
       "      <td id=\"T_f65d7_row2_col6\" class=\"data row2 col6\" >0.6750</td>\n",
       "      <td id=\"T_f65d7_row2_col7\" class=\"data row2 col7\" >-8.4933</td>\n",
       "    </tr>\n",
       "    <tr>\n",
       "      <th id=\"T_f65d7_level0_row3\" class=\"row_heading level0 row3\" >Mean</th>\n",
       "      <td id=\"T_f65d7_row3_col0\" class=\"data row3 col0\" >NaT</td>\n",
       "      <td id=\"T_f65d7_row3_col1\" class=\"data row3 col1\" >2.2166</td>\n",
       "      <td id=\"T_f65d7_row3_col2\" class=\"data row3 col2\" >1.7796</td>\n",
       "      <td id=\"T_f65d7_row3_col3\" class=\"data row3 col3\" >108498.1955</td>\n",
       "      <td id=\"T_f65d7_row3_col4\" class=\"data row3 col4\" >112584.2417</td>\n",
       "      <td id=\"T_f65d7_row3_col5\" class=\"data row3 col5\" >1.2317</td>\n",
       "      <td id=\"T_f65d7_row3_col6\" class=\"data row3 col6\" >0.8470</td>\n",
       "      <td id=\"T_f65d7_row3_col7\" class=\"data row3 col7\" >-74.9494</td>\n",
       "    </tr>\n",
       "    <tr>\n",
       "      <th id=\"T_f65d7_level0_row4\" class=\"row_heading level0 row4\" >SD</th>\n",
       "      <td id=\"T_f65d7_row4_col0\" class=\"data row4 col0\" >NaT</td>\n",
       "      <td id=\"T_f65d7_row4_col1\" class=\"data row4 col1\" >0.7699</td>\n",
       "      <td id=\"T_f65d7_row4_col2\" class=\"data row4 col2\" >0.6026</td>\n",
       "      <td id=\"T_f65d7_row4_col3\" class=\"data row4 col3\" >39140.1143</td>\n",
       "      <td id=\"T_f65d7_row4_col4\" class=\"data row4 col4\" >39647.4984</td>\n",
       "      <td id=\"T_f65d7_row4_col5\" class=\"data row4 col5\" >0.9658</td>\n",
       "      <td id=\"T_f65d7_row4_col6\" class=\"data row4 col6\" >0.1307</td>\n",
       "      <td id=\"T_f65d7_row4_col7\" class=\"data row4 col7\" >87.4615</td>\n",
       "    </tr>\n",
       "  </tbody>\n",
       "</table>\n"
      ],
      "text/plain": [
       "<pandas.io.formats.style.Styler at 0x284e2d9a9e0>"
      ]
     },
     "metadata": {},
     "output_type": "display_data"
    },
    {
     "data": {
      "text/html": [],
      "text/plain": [
       "<IPython.core.display.HTML object>"
      ]
     },
     "metadata": {},
     "output_type": "display_data"
    },
    {
     "data": {
      "application/vnd.plotly.v1+json": {
       "config": {
        "plotlyServerURL": "https://plot.ly"
       },
       "data": [
        {
         "line": {
          "color": "#1f77b4"
         },
         "marker": {
          "size": 5
         },
         "mode": "lines+markers",
         "name": "Forecast | ETS",
         "showlegend": true,
         "type": "scatter",
         "x": [
          "2024-03-01T00:00:00",
          "2024-04-01T00:00:00",
          "2024-05-01T00:00:00"
         ],
         "y": [
          118860.3728,
          236812.1924,
          136606.8187
         ]
        },
        {
         "line": {
          "width": 0
         },
         "marker": {
          "color": "#68BBE3"
         },
         "mode": "lines",
         "name": "Lower Interval",
         "showlegend": false,
         "type": "scatter",
         "x": [
          "2024-03-01T00:00:00",
          "2024-04-01T00:00:00",
          "2024-05-01T00:00:00"
         ],
         "y": [
          55817.5044,
          104652.4551,
          45058.68
         ]
        },
        {
         "fill": "tonexty",
         "fillcolor": "rgba(104,187,227,0.5)",
         "line": {
          "width": 0
         },
         "marker": {
          "color": "#68BBE3"
         },
         "mode": "lines",
         "name": "Prediction Interval | ETS",
         "showlegend": true,
         "type": "scatter",
         "x": [
          "2024-03-01T00:00:00",
          "2024-04-01T00:00:00",
          "2024-05-01T00:00:00"
         ],
         "y": [
          182359.5257,
          374574.0293,
          232483.8028
         ]
        },
        {
         "marker": {
          "color": "#3f3f3f",
          "size": 5
         },
         "mode": "lines+markers",
         "name": "Original",
         "showlegend": true,
         "type": "scatter",
         "x": [
          "2020-01-01T00:00:00",
          "2020-02-01T00:00:00",
          "2020-03-01T00:00:00",
          "2020-04-01T00:00:00",
          "2020-05-01T00:00:00",
          "2020-06-01T00:00:00",
          "2020-07-01T00:00:00",
          "2020-08-01T00:00:00",
          "2020-09-01T00:00:00",
          "2020-10-01T00:00:00",
          "2020-11-01T00:00:00",
          "2020-12-01T00:00:00",
          "2021-01-01T00:00:00",
          "2021-02-01T00:00:00",
          "2021-03-01T00:00:00",
          "2021-04-01T00:00:00",
          "2021-05-01T00:00:00",
          "2021-06-01T00:00:00",
          "2021-07-01T00:00:00",
          "2021-08-01T00:00:00",
          "2021-09-01T00:00:00",
          "2021-10-01T00:00:00",
          "2021-11-01T00:00:00",
          "2021-12-01T00:00:00",
          "2022-01-01T00:00:00",
          "2022-02-01T00:00:00",
          "2022-03-01T00:00:00",
          "2022-04-01T00:00:00",
          "2022-05-01T00:00:00",
          "2022-06-01T00:00:00",
          "2022-07-01T00:00:00",
          "2022-08-01T00:00:00",
          "2022-09-01T00:00:00",
          "2022-10-01T00:00:00",
          "2022-11-01T00:00:00",
          "2022-12-01T00:00:00",
          "2023-01-01T00:00:00",
          "2023-02-01T00:00:00",
          "2023-03-01T00:00:00",
          "2023-04-01T00:00:00",
          "2023-05-01T00:00:00",
          "2023-06-01T00:00:00",
          "2023-07-01T00:00:00",
          "2023-08-01T00:00:00",
          "2023-09-01T00:00:00",
          "2023-10-01T00:00:00",
          "2023-11-01T00:00:00",
          "2023-12-01T00:00:00",
          "2024-01-01T00:00:00",
          "2024-02-01T00:00:00",
          "2024-03-01T00:00:00",
          "2024-04-01T00:00:00",
          "2024-05-01T00:00:00"
         ],
         "y": [
          14981,
          30057,
          17657,
          13723,
          39238,
          46414,
          15971,
          37007,
          30765,
          14853,
          38729,
          40789,
          52069,
          28060,
          67966,
          195452,
          139665,
          65862,
          69375,
          55233,
          51707,
          34768,
          20686,
          101633,
          84076,
          88469,
          63103,
          76067,
          118755,
          228569,
          87601,
          82851,
          38241,
          61891,
          50757,
          95570,
          114535,
          86057,
          47937,
          131493,
          285160,
          163948,
          169601,
          152819,
          82946,
          135645,
          41831,
          161617,
          106253,
          119707,
          149830,
          241990,
          83295
         ]
        }
       ],
       "layout": {
        "showlegend": true,
        "template": {
         "data": {
          "bar": [
           {
            "error_x": {
             "color": "rgb(51,51,51)"
            },
            "error_y": {
             "color": "rgb(51,51,51)"
            },
            "marker": {
             "line": {
              "color": "rgb(237,237,237)",
              "width": 0.5
             },
             "pattern": {
              "fillmode": "overlay",
              "size": 10,
              "solidity": 0.2
             }
            },
            "type": "bar"
           }
          ],
          "barpolar": [
           {
            "marker": {
             "line": {
              "color": "rgb(237,237,237)",
              "width": 0.5
             },
             "pattern": {
              "fillmode": "overlay",
              "size": 10,
              "solidity": 0.2
             }
            },
            "type": "barpolar"
           }
          ],
          "carpet": [
           {
            "aaxis": {
             "endlinecolor": "rgb(51,51,51)",
             "gridcolor": "white",
             "linecolor": "white",
             "minorgridcolor": "white",
             "startlinecolor": "rgb(51,51,51)"
            },
            "baxis": {
             "endlinecolor": "rgb(51,51,51)",
             "gridcolor": "white",
             "linecolor": "white",
             "minorgridcolor": "white",
             "startlinecolor": "rgb(51,51,51)"
            },
            "type": "carpet"
           }
          ],
          "choropleth": [
           {
            "colorbar": {
             "outlinewidth": 0,
             "tickcolor": "rgb(237,237,237)",
             "ticklen": 6,
             "ticks": "inside"
            },
            "type": "choropleth"
           }
          ],
          "contour": [
           {
            "colorbar": {
             "outlinewidth": 0,
             "tickcolor": "rgb(237,237,237)",
             "ticklen": 6,
             "ticks": "inside"
            },
            "colorscale": [
             [
              0,
              "rgb(20,44,66)"
             ],
             [
              1,
              "rgb(90,179,244)"
             ]
            ],
            "type": "contour"
           }
          ],
          "contourcarpet": [
           {
            "colorbar": {
             "outlinewidth": 0,
             "tickcolor": "rgb(237,237,237)",
             "ticklen": 6,
             "ticks": "inside"
            },
            "type": "contourcarpet"
           }
          ],
          "heatmap": [
           {
            "colorbar": {
             "outlinewidth": 0,
             "tickcolor": "rgb(237,237,237)",
             "ticklen": 6,
             "ticks": "inside"
            },
            "colorscale": [
             [
              0,
              "rgb(20,44,66)"
             ],
             [
              1,
              "rgb(90,179,244)"
             ]
            ],
            "type": "heatmap"
           }
          ],
          "heatmapgl": [
           {
            "colorbar": {
             "outlinewidth": 0,
             "tickcolor": "rgb(237,237,237)",
             "ticklen": 6,
             "ticks": "inside"
            },
            "colorscale": [
             [
              0,
              "rgb(20,44,66)"
             ],
             [
              1,
              "rgb(90,179,244)"
             ]
            ],
            "type": "heatmapgl"
           }
          ],
          "histogram": [
           {
            "marker": {
             "pattern": {
              "fillmode": "overlay",
              "size": 10,
              "solidity": 0.2
             }
            },
            "type": "histogram"
           }
          ],
          "histogram2d": [
           {
            "colorbar": {
             "outlinewidth": 0,
             "tickcolor": "rgb(237,237,237)",
             "ticklen": 6,
             "ticks": "inside"
            },
            "colorscale": [
             [
              0,
              "rgb(20,44,66)"
             ],
             [
              1,
              "rgb(90,179,244)"
             ]
            ],
            "type": "histogram2d"
           }
          ],
          "histogram2dcontour": [
           {
            "colorbar": {
             "outlinewidth": 0,
             "tickcolor": "rgb(237,237,237)",
             "ticklen": 6,
             "ticks": "inside"
            },
            "colorscale": [
             [
              0,
              "rgb(20,44,66)"
             ],
             [
              1,
              "rgb(90,179,244)"
             ]
            ],
            "type": "histogram2dcontour"
           }
          ],
          "mesh3d": [
           {
            "colorbar": {
             "outlinewidth": 0,
             "tickcolor": "rgb(237,237,237)",
             "ticklen": 6,
             "ticks": "inside"
            },
            "type": "mesh3d"
           }
          ],
          "parcoords": [
           {
            "line": {
             "colorbar": {
              "outlinewidth": 0,
              "tickcolor": "rgb(237,237,237)",
              "ticklen": 6,
              "ticks": "inside"
             }
            },
            "type": "parcoords"
           }
          ],
          "pie": [
           {
            "automargin": true,
            "type": "pie"
           }
          ],
          "scatter": [
           {
            "fillpattern": {
             "fillmode": "overlay",
             "size": 10,
             "solidity": 0.2
            },
            "type": "scatter"
           }
          ],
          "scatter3d": [
           {
            "line": {
             "colorbar": {
              "outlinewidth": 0,
              "tickcolor": "rgb(237,237,237)",
              "ticklen": 6,
              "ticks": "inside"
             }
            },
            "marker": {
             "colorbar": {
              "outlinewidth": 0,
              "tickcolor": "rgb(237,237,237)",
              "ticklen": 6,
              "ticks": "inside"
             }
            },
            "type": "scatter3d"
           }
          ],
          "scattercarpet": [
           {
            "marker": {
             "colorbar": {
              "outlinewidth": 0,
              "tickcolor": "rgb(237,237,237)",
              "ticklen": 6,
              "ticks": "inside"
             }
            },
            "type": "scattercarpet"
           }
          ],
          "scattergeo": [
           {
            "marker": {
             "colorbar": {
              "outlinewidth": 0,
              "tickcolor": "rgb(237,237,237)",
              "ticklen": 6,
              "ticks": "inside"
             }
            },
            "type": "scattergeo"
           }
          ],
          "scattergl": [
           {
            "marker": {
             "colorbar": {
              "outlinewidth": 0,
              "tickcolor": "rgb(237,237,237)",
              "ticklen": 6,
              "ticks": "inside"
             }
            },
            "type": "scattergl"
           }
          ],
          "scattermapbox": [
           {
            "marker": {
             "colorbar": {
              "outlinewidth": 0,
              "tickcolor": "rgb(237,237,237)",
              "ticklen": 6,
              "ticks": "inside"
             }
            },
            "type": "scattermapbox"
           }
          ],
          "scatterpolar": [
           {
            "marker": {
             "colorbar": {
              "outlinewidth": 0,
              "tickcolor": "rgb(237,237,237)",
              "ticklen": 6,
              "ticks": "inside"
             }
            },
            "type": "scatterpolar"
           }
          ],
          "scatterpolargl": [
           {
            "marker": {
             "colorbar": {
              "outlinewidth": 0,
              "tickcolor": "rgb(237,237,237)",
              "ticklen": 6,
              "ticks": "inside"
             }
            },
            "type": "scatterpolargl"
           }
          ],
          "scatterternary": [
           {
            "marker": {
             "colorbar": {
              "outlinewidth": 0,
              "tickcolor": "rgb(237,237,237)",
              "ticklen": 6,
              "ticks": "inside"
             }
            },
            "type": "scatterternary"
           }
          ],
          "surface": [
           {
            "colorbar": {
             "outlinewidth": 0,
             "tickcolor": "rgb(237,237,237)",
             "ticklen": 6,
             "ticks": "inside"
            },
            "colorscale": [
             [
              0,
              "rgb(20,44,66)"
             ],
             [
              1,
              "rgb(90,179,244)"
             ]
            ],
            "type": "surface"
           }
          ],
          "table": [
           {
            "cells": {
             "fill": {
              "color": "rgb(237,237,237)"
             },
             "line": {
              "color": "white"
             }
            },
            "header": {
             "fill": {
              "color": "rgb(217,217,217)"
             },
             "line": {
              "color": "white"
             }
            },
            "type": "table"
           }
          ]
         },
         "layout": {
          "annotationdefaults": {
           "arrowhead": 0,
           "arrowwidth": 1
          },
          "autotypenumbers": "strict",
          "coloraxis": {
           "colorbar": {
            "outlinewidth": 0,
            "tickcolor": "rgb(237,237,237)",
            "ticklen": 6,
            "ticks": "inside"
           }
          },
          "colorscale": {
           "sequential": [
            [
             0,
             "rgb(20,44,66)"
            ],
            [
             1,
             "rgb(90,179,244)"
            ]
           ],
           "sequentialminus": [
            [
             0,
             "rgb(20,44,66)"
            ],
            [
             1,
             "rgb(90,179,244)"
            ]
           ]
          },
          "colorway": [
           "#F8766D",
           "#A3A500",
           "#00BF7D",
           "#00B0F6",
           "#E76BF3"
          ],
          "font": {
           "color": "rgb(51,51,51)"
          },
          "geo": {
           "bgcolor": "white",
           "lakecolor": "white",
           "landcolor": "rgb(237,237,237)",
           "showlakes": true,
           "showland": true,
           "subunitcolor": "white"
          },
          "hoverlabel": {
           "align": "left"
          },
          "hovermode": "closest",
          "paper_bgcolor": "white",
          "plot_bgcolor": "rgb(237,237,237)",
          "polar": {
           "angularaxis": {
            "gridcolor": "white",
            "linecolor": "white",
            "showgrid": true,
            "tickcolor": "rgb(51,51,51)",
            "ticks": "outside"
           },
           "bgcolor": "rgb(237,237,237)",
           "radialaxis": {
            "gridcolor": "white",
            "linecolor": "white",
            "showgrid": true,
            "tickcolor": "rgb(51,51,51)",
            "ticks": "outside"
           }
          },
          "scene": {
           "xaxis": {
            "backgroundcolor": "rgb(237,237,237)",
            "gridcolor": "white",
            "gridwidth": 2,
            "linecolor": "white",
            "showbackground": true,
            "showgrid": true,
            "tickcolor": "rgb(51,51,51)",
            "ticks": "outside",
            "zerolinecolor": "white"
           },
           "yaxis": {
            "backgroundcolor": "rgb(237,237,237)",
            "gridcolor": "white",
            "gridwidth": 2,
            "linecolor": "white",
            "showbackground": true,
            "showgrid": true,
            "tickcolor": "rgb(51,51,51)",
            "ticks": "outside",
            "zerolinecolor": "white"
           },
           "zaxis": {
            "backgroundcolor": "rgb(237,237,237)",
            "gridcolor": "white",
            "gridwidth": 2,
            "linecolor": "white",
            "showbackground": true,
            "showgrid": true,
            "tickcolor": "rgb(51,51,51)",
            "ticks": "outside",
            "zerolinecolor": "white"
           }
          },
          "shapedefaults": {
           "fillcolor": "black",
           "line": {
            "width": 0
           },
           "opacity": 0.3
          },
          "ternary": {
           "aaxis": {
            "gridcolor": "white",
            "linecolor": "white",
            "showgrid": true,
            "tickcolor": "rgb(51,51,51)",
            "ticks": "outside"
           },
           "baxis": {
            "gridcolor": "white",
            "linecolor": "white",
            "showgrid": true,
            "tickcolor": "rgb(51,51,51)",
            "ticks": "outside"
           },
           "bgcolor": "rgb(237,237,237)",
           "caxis": {
            "gridcolor": "white",
            "linecolor": "white",
            "showgrid": true,
            "tickcolor": "rgb(51,51,51)",
            "ticks": "outside"
           }
          },
          "xaxis": {
           "automargin": true,
           "gridcolor": "white",
           "linecolor": "white",
           "showgrid": true,
           "tickcolor": "rgb(51,51,51)",
           "ticks": "outside",
           "title": {
            "standoff": 15
           },
           "zerolinecolor": "white"
          },
          "yaxis": {
           "automargin": true,
           "gridcolor": "white",
           "linecolor": "white",
           "showgrid": true,
           "tickcolor": "rgb(51,51,51)",
           "ticks": "outside",
           "title": {
            "standoff": 15
           },
           "zerolinecolor": "white"
          }
         }
        },
        "title": {
         "text": "Actual vs. 'Out-of-Sample' Forecast | Quantity"
        },
        "xaxis": {
         "title": {
          "text": "Time"
         }
        },
        "yaxis": {
         "title": {
          "text": "Values"
         }
        }
       }
      }
     },
     "metadata": {},
     "output_type": "display_data"
    }
   ],
   "source": [
    "ets_dt = exp.create_model('ets')\n",
    "\n",
    "exp.plot_model(estimator = ets_dt, \n",
    "               plot = 'forecast', \n",
    "               data_kwargs = {'fh' : 3})"
   ]
  },
  {
   "cell_type": "code",
   "execution_count": 166,
   "metadata": {},
   "outputs": [
    {
     "data": {
      "text/html": [
       "<style>#sk-61280d1f-4146-449c-b246-ec525a36fbbd {color: black;background-color: white;}#sk-61280d1f-4146-449c-b246-ec525a36fbbd pre{padding: 0;}#sk-61280d1f-4146-449c-b246-ec525a36fbbd div.sk-toggleable {background-color: white;}#sk-61280d1f-4146-449c-b246-ec525a36fbbd label.sk-toggleable__label {cursor: pointer;display: block;width: 100%;margin-bottom: 0;padding: 0.3em;box-sizing: border-box;text-align: center;}#sk-61280d1f-4146-449c-b246-ec525a36fbbd label.sk-toggleable__label-arrow:before {content: \"▸\";float: left;margin-right: 0.25em;color: #696969;}#sk-61280d1f-4146-449c-b246-ec525a36fbbd label.sk-toggleable__label-arrow:hover:before {color: black;}#sk-61280d1f-4146-449c-b246-ec525a36fbbd div.sk-estimator:hover label.sk-toggleable__label-arrow:before {color: black;}#sk-61280d1f-4146-449c-b246-ec525a36fbbd div.sk-toggleable__content {max-height: 0;max-width: 0;overflow: hidden;text-align: left;background-color: #f0f8ff;}#sk-61280d1f-4146-449c-b246-ec525a36fbbd div.sk-toggleable__content pre {margin: 0.2em;color: black;border-radius: 0.25em;background-color: #f0f8ff;}#sk-61280d1f-4146-449c-b246-ec525a36fbbd input.sk-toggleable__control:checked~div.sk-toggleable__content {max-height: 200px;max-width: 100%;overflow: auto;}#sk-61280d1f-4146-449c-b246-ec525a36fbbd input.sk-toggleable__control:checked~label.sk-toggleable__label-arrow:before {content: \"▾\";}#sk-61280d1f-4146-449c-b246-ec525a36fbbd div.sk-estimator input.sk-toggleable__control:checked~label.sk-toggleable__label {background-color: #d4ebff;}#sk-61280d1f-4146-449c-b246-ec525a36fbbd div.sk-label input.sk-toggleable__control:checked~label.sk-toggleable__label {background-color: #d4ebff;}#sk-61280d1f-4146-449c-b246-ec525a36fbbd input.sk-hidden--visually {border: 0;clip: rect(1px 1px 1px 1px);clip: rect(1px, 1px, 1px, 1px);height: 1px;margin: -1px;overflow: hidden;padding: 0;position: absolute;width: 1px;}#sk-61280d1f-4146-449c-b246-ec525a36fbbd div.sk-estimator {font-family: monospace;background-color: #f0f8ff;border: 1px dotted black;border-radius: 0.25em;box-sizing: border-box;margin-bottom: 0.5em;}#sk-61280d1f-4146-449c-b246-ec525a36fbbd div.sk-estimator:hover {background-color: #d4ebff;}#sk-61280d1f-4146-449c-b246-ec525a36fbbd div.sk-parallel-item::after {content: \"\";width: 100%;border-bottom: 1px solid gray;flex-grow: 1;}#sk-61280d1f-4146-449c-b246-ec525a36fbbd div.sk-label:hover label.sk-toggleable__label {background-color: #d4ebff;}#sk-61280d1f-4146-449c-b246-ec525a36fbbd div.sk-serial::before {content: \"\";position: absolute;border-left: 1px solid gray;box-sizing: border-box;top: 2em;bottom: 0;left: 50%;}#sk-61280d1f-4146-449c-b246-ec525a36fbbd div.sk-serial {display: flex;flex-direction: column;align-items: center;background-color: white;padding-right: 0.2em;padding-left: 0.2em;}#sk-61280d1f-4146-449c-b246-ec525a36fbbd div.sk-item {z-index: 1;}#sk-61280d1f-4146-449c-b246-ec525a36fbbd div.sk-parallel {display: flex;align-items: stretch;justify-content: center;background-color: white;}#sk-61280d1f-4146-449c-b246-ec525a36fbbd div.sk-parallel::before {content: \"\";position: absolute;border-left: 1px solid gray;box-sizing: border-box;top: 2em;bottom: 0;left: 50%;}#sk-61280d1f-4146-449c-b246-ec525a36fbbd div.sk-parallel-item {display: flex;flex-direction: column;position: relative;background-color: white;}#sk-61280d1f-4146-449c-b246-ec525a36fbbd div.sk-parallel-item:first-child::after {align-self: flex-end;width: 50%;}#sk-61280d1f-4146-449c-b246-ec525a36fbbd div.sk-parallel-item:last-child::after {align-self: flex-start;width: 50%;}#sk-61280d1f-4146-449c-b246-ec525a36fbbd div.sk-parallel-item:only-child::after {width: 0;}#sk-61280d1f-4146-449c-b246-ec525a36fbbd div.sk-dashed-wrapped {border: 1px dashed gray;margin: 0 0.4em 0.5em 0.4em;box-sizing: border-box;padding-bottom: 0.4em;background-color: white;position: relative;}#sk-61280d1f-4146-449c-b246-ec525a36fbbd div.sk-label label {font-family: monospace;font-weight: bold;background-color: white;display: inline-block;line-height: 1.2em;}#sk-61280d1f-4146-449c-b246-ec525a36fbbd div.sk-label-container {position: relative;z-index: 2;text-align: center;}#sk-61280d1f-4146-449c-b246-ec525a36fbbd div.sk-container {/* jupyter's `normalize.less` sets `[hidden] { display: none; }` but bootstrap.min.css set `[hidden] { display: none !important; }` so we also need the `!important` here to be able to override the default hidden behavior on the sphinx rendered scikit-learn.org. See: https://github.com/scikit-learn/scikit-learn/issues/21755 */display: inline-block !important;position: relative;}#sk-61280d1f-4146-449c-b246-ec525a36fbbd div.sk-text-repr-fallback {display: none;}</style><div id='sk-61280d1f-4146-449c-b246-ec525a36fbbd' class=\"sk-top-container\"><div class=\"sk-text-repr-fallback\"><pre>AutoETS(seasonal=&#x27;mul&#x27;, sp=11, trend=&#x27;add&#x27;)</pre><b>Please rerun this cell to show the HTML repr or trust the notebook.</b></div><div class=\"sk-container\" hidden><div class='sk-item'><div class=\"sk-estimator sk-toggleable\"><input class=\"sk-toggleable__control sk-hidden--visually\" id=UUID('c106dee5-2ad0-402b-a013-bbfa06465ad5') type=\"checkbox\" checked><label for=UUID('c106dee5-2ad0-402b-a013-bbfa06465ad5') class='sk-toggleable__label sk-toggleable__label-arrow'>AutoETS</label><div class=\"sk-toggleable__content\"><pre>AutoETS(seasonal=&#x27;mul&#x27;, sp=11, trend=&#x27;add&#x27;)</pre></div></div></div></div></div>"
      ],
      "text/plain": [
       "AutoETS(seasonal='mul', sp=11, trend='add')"
      ]
     },
     "execution_count": 166,
     "metadata": {},
     "output_type": "execute_result"
    }
   ],
   "source": [
    "ets_dt"
   ]
  },
  {
   "cell_type": "code",
   "execution_count": 167,
   "metadata": {},
   "outputs": [
    {
     "data": {
      "text/html": [
       "<div>\n",
       "<style scoped>\n",
       "    .dataframe tbody tr th:only-of-type {\n",
       "        vertical-align: middle;\n",
       "    }\n",
       "\n",
       "    .dataframe tbody tr th {\n",
       "        vertical-align: top;\n",
       "    }\n",
       "\n",
       "    .dataframe thead th {\n",
       "        text-align: right;\n",
       "    }\n",
       "</style>\n",
       "<table border=\"1\" class=\"dataframe\">\n",
       "  <thead>\n",
       "    <tr style=\"text-align: right;\">\n",
       "      <th></th>\n",
       "      <th>Test</th>\n",
       "      <th>Test Name</th>\n",
       "      <th>Data</th>\n",
       "      <th>Property</th>\n",
       "      <th>Setting</th>\n",
       "      <th>Value</th>\n",
       "    </tr>\n",
       "  </thead>\n",
       "  <tbody>\n",
       "    <tr>\n",
       "      <th>0</th>\n",
       "      <td>Summary</td>\n",
       "      <td>Statistics</td>\n",
       "      <td>Residual</td>\n",
       "      <td>Length</td>\n",
       "      <td></td>\n",
       "      <td>50.0</td>\n",
       "    </tr>\n",
       "    <tr>\n",
       "      <th>1</th>\n",
       "      <td>Summary</td>\n",
       "      <td>Statistics</td>\n",
       "      <td>Residual</td>\n",
       "      <td># Missing Values</td>\n",
       "      <td></td>\n",
       "      <td>0.0</td>\n",
       "    </tr>\n",
       "    <tr>\n",
       "      <th>2</th>\n",
       "      <td>Summary</td>\n",
       "      <td>Statistics</td>\n",
       "      <td>Residual</td>\n",
       "      <td>Mean</td>\n",
       "      <td></td>\n",
       "      <td>-5015.58649</td>\n",
       "    </tr>\n",
       "    <tr>\n",
       "      <th>3</th>\n",
       "      <td>Summary</td>\n",
       "      <td>Statistics</td>\n",
       "      <td>Residual</td>\n",
       "      <td>Median</td>\n",
       "      <td></td>\n",
       "      <td>-10022.75855</td>\n",
       "    </tr>\n",
       "    <tr>\n",
       "      <th>4</th>\n",
       "      <td>Summary</td>\n",
       "      <td>Statistics</td>\n",
       "      <td>Residual</td>\n",
       "      <td>Standard Deviation</td>\n",
       "      <td></td>\n",
       "      <td>39597.447652</td>\n",
       "    </tr>\n",
       "    <tr>\n",
       "      <th>5</th>\n",
       "      <td>Summary</td>\n",
       "      <td>Statistics</td>\n",
       "      <td>Residual</td>\n",
       "      <td>Variance</td>\n",
       "      <td></td>\n",
       "      <td>1567957860.58753</td>\n",
       "    </tr>\n",
       "    <tr>\n",
       "      <th>6</th>\n",
       "      <td>Summary</td>\n",
       "      <td>Statistics</td>\n",
       "      <td>Residual</td>\n",
       "      <td>Kurtosis</td>\n",
       "      <td></td>\n",
       "      <td>1.765764</td>\n",
       "    </tr>\n",
       "    <tr>\n",
       "      <th>7</th>\n",
       "      <td>Summary</td>\n",
       "      <td>Statistics</td>\n",
       "      <td>Residual</td>\n",
       "      <td>Skewness</td>\n",
       "      <td></td>\n",
       "      <td>1.046468</td>\n",
       "    </tr>\n",
       "    <tr>\n",
       "      <th>8</th>\n",
       "      <td>Summary</td>\n",
       "      <td>Statistics</td>\n",
       "      <td>Residual</td>\n",
       "      <td># Distinct Values</td>\n",
       "      <td></td>\n",
       "      <td>50.0</td>\n",
       "    </tr>\n",
       "    <tr>\n",
       "      <th>9</th>\n",
       "      <td>White Noise</td>\n",
       "      <td>Ljung-Box</td>\n",
       "      <td>Residual</td>\n",
       "      <td>Test Statictic</td>\n",
       "      <td>{'alpha': 0.05, 'K': 24}</td>\n",
       "      <td>40.519761</td>\n",
       "    </tr>\n",
       "    <tr>\n",
       "      <th>10</th>\n",
       "      <td>White Noise</td>\n",
       "      <td>Ljung-Box</td>\n",
       "      <td>Residual</td>\n",
       "      <td>Test Statictic</td>\n",
       "      <td>{'alpha': 0.05, 'K': 48}</td>\n",
       "      <td>49.721372</td>\n",
       "    </tr>\n",
       "    <tr>\n",
       "      <th>11</th>\n",
       "      <td>White Noise</td>\n",
       "      <td>Ljung-Box</td>\n",
       "      <td>Residual</td>\n",
       "      <td>p-value</td>\n",
       "      <td>{'alpha': 0.05, 'K': 24}</td>\n",
       "      <td>0.018794</td>\n",
       "    </tr>\n",
       "    <tr>\n",
       "      <th>12</th>\n",
       "      <td>White Noise</td>\n",
       "      <td>Ljung-Box</td>\n",
       "      <td>Residual</td>\n",
       "      <td>p-value</td>\n",
       "      <td>{'alpha': 0.05, 'K': 48}</td>\n",
       "      <td>0.404569</td>\n",
       "    </tr>\n",
       "    <tr>\n",
       "      <th>13</th>\n",
       "      <td>White Noise</td>\n",
       "      <td>Ljung-Box</td>\n",
       "      <td>Residual</td>\n",
       "      <td>White Noise</td>\n",
       "      <td>{'alpha': 0.05, 'K': 24}</td>\n",
       "      <td>0.0</td>\n",
       "    </tr>\n",
       "    <tr>\n",
       "      <th>14</th>\n",
       "      <td>White Noise</td>\n",
       "      <td>Ljung-Box</td>\n",
       "      <td>Residual</td>\n",
       "      <td>White Noise</td>\n",
       "      <td>{'alpha': 0.05, 'K': 48}</td>\n",
       "      <td>1.0</td>\n",
       "    </tr>\n",
       "    <tr>\n",
       "      <th>15</th>\n",
       "      <td>Stationarity</td>\n",
       "      <td>ADF</td>\n",
       "      <td>Residual</td>\n",
       "      <td>Stationarity</td>\n",
       "      <td>{'alpha': 0.05}</td>\n",
       "      <td>True</td>\n",
       "    </tr>\n",
       "    <tr>\n",
       "      <th>16</th>\n",
       "      <td>Stationarity</td>\n",
       "      <td>ADF</td>\n",
       "      <td>Residual</td>\n",
       "      <td>p-value</td>\n",
       "      <td>{'alpha': 0.05}</td>\n",
       "      <td>0.006666</td>\n",
       "    </tr>\n",
       "    <tr>\n",
       "      <th>17</th>\n",
       "      <td>Stationarity</td>\n",
       "      <td>ADF</td>\n",
       "      <td>Residual</td>\n",
       "      <td>Test Statistic</td>\n",
       "      <td>{'alpha': 0.05}</td>\n",
       "      <td>-3.555739</td>\n",
       "    </tr>\n",
       "    <tr>\n",
       "      <th>18</th>\n",
       "      <td>Stationarity</td>\n",
       "      <td>ADF</td>\n",
       "      <td>Residual</td>\n",
       "      <td>Critical Value 1%</td>\n",
       "      <td>{'alpha': 0.05}</td>\n",
       "      <td>-3.600983</td>\n",
       "    </tr>\n",
       "    <tr>\n",
       "      <th>19</th>\n",
       "      <td>Stationarity</td>\n",
       "      <td>ADF</td>\n",
       "      <td>Residual</td>\n",
       "      <td>Critical Value 5%</td>\n",
       "      <td>{'alpha': 0.05}</td>\n",
       "      <td>-2.935135</td>\n",
       "    </tr>\n",
       "    <tr>\n",
       "      <th>20</th>\n",
       "      <td>Stationarity</td>\n",
       "      <td>ADF</td>\n",
       "      <td>Residual</td>\n",
       "      <td>Critical Value 10%</td>\n",
       "      <td>{'alpha': 0.05}</td>\n",
       "      <td>-2.605963</td>\n",
       "    </tr>\n",
       "    <tr>\n",
       "      <th>21</th>\n",
       "      <td>Stationarity</td>\n",
       "      <td>KPSS</td>\n",
       "      <td>Residual</td>\n",
       "      <td>Trend Stationarity</td>\n",
       "      <td>{'alpha': 0.05}</td>\n",
       "      <td>True</td>\n",
       "    </tr>\n",
       "    <tr>\n",
       "      <th>22</th>\n",
       "      <td>Stationarity</td>\n",
       "      <td>KPSS</td>\n",
       "      <td>Residual</td>\n",
       "      <td>p-value</td>\n",
       "      <td>{'alpha': 0.05}</td>\n",
       "      <td>0.1</td>\n",
       "    </tr>\n",
       "    <tr>\n",
       "      <th>23</th>\n",
       "      <td>Stationarity</td>\n",
       "      <td>KPSS</td>\n",
       "      <td>Residual</td>\n",
       "      <td>Test Statistic</td>\n",
       "      <td>{'alpha': 0.05}</td>\n",
       "      <td>0.044897</td>\n",
       "    </tr>\n",
       "    <tr>\n",
       "      <th>24</th>\n",
       "      <td>Stationarity</td>\n",
       "      <td>KPSS</td>\n",
       "      <td>Residual</td>\n",
       "      <td>Critical Value 10%</td>\n",
       "      <td>{'alpha': 0.05}</td>\n",
       "      <td>0.119</td>\n",
       "    </tr>\n",
       "    <tr>\n",
       "      <th>25</th>\n",
       "      <td>Stationarity</td>\n",
       "      <td>KPSS</td>\n",
       "      <td>Residual</td>\n",
       "      <td>Critical Value 5%</td>\n",
       "      <td>{'alpha': 0.05}</td>\n",
       "      <td>0.146</td>\n",
       "    </tr>\n",
       "    <tr>\n",
       "      <th>26</th>\n",
       "      <td>Stationarity</td>\n",
       "      <td>KPSS</td>\n",
       "      <td>Residual</td>\n",
       "      <td>Critical Value 2.5%</td>\n",
       "      <td>{'alpha': 0.05}</td>\n",
       "      <td>0.176</td>\n",
       "    </tr>\n",
       "    <tr>\n",
       "      <th>27</th>\n",
       "      <td>Stationarity</td>\n",
       "      <td>KPSS</td>\n",
       "      <td>Residual</td>\n",
       "      <td>Critical Value 1%</td>\n",
       "      <td>{'alpha': 0.05}</td>\n",
       "      <td>0.216</td>\n",
       "    </tr>\n",
       "    <tr>\n",
       "      <th>28</th>\n",
       "      <td>Normality</td>\n",
       "      <td>Shapiro</td>\n",
       "      <td>Residual</td>\n",
       "      <td>Normality</td>\n",
       "      <td>{'alpha': 0.05}</td>\n",
       "      <td>False</td>\n",
       "    </tr>\n",
       "    <tr>\n",
       "      <th>29</th>\n",
       "      <td>Normality</td>\n",
       "      <td>Shapiro</td>\n",
       "      <td>Residual</td>\n",
       "      <td>p-value</td>\n",
       "      <td>{'alpha': 0.05}</td>\n",
       "      <td>0.011343</td>\n",
       "    </tr>\n",
       "  </tbody>\n",
       "</table>\n",
       "</div>"
      ],
      "text/plain": [
       "            Test   Test Name      Data             Property  \\\n",
       "0        Summary  Statistics  Residual               Length   \n",
       "1        Summary  Statistics  Residual     # Missing Values   \n",
       "2        Summary  Statistics  Residual                 Mean   \n",
       "3        Summary  Statistics  Residual               Median   \n",
       "4        Summary  Statistics  Residual   Standard Deviation   \n",
       "5        Summary  Statistics  Residual             Variance   \n",
       "6        Summary  Statistics  Residual             Kurtosis   \n",
       "7        Summary  Statistics  Residual             Skewness   \n",
       "8        Summary  Statistics  Residual    # Distinct Values   \n",
       "9    White Noise   Ljung-Box  Residual       Test Statictic   \n",
       "10   White Noise   Ljung-Box  Residual       Test Statictic   \n",
       "11   White Noise   Ljung-Box  Residual              p-value   \n",
       "12   White Noise   Ljung-Box  Residual              p-value   \n",
       "13   White Noise   Ljung-Box  Residual          White Noise   \n",
       "14   White Noise   Ljung-Box  Residual          White Noise   \n",
       "15  Stationarity         ADF  Residual         Stationarity   \n",
       "16  Stationarity         ADF  Residual              p-value   \n",
       "17  Stationarity         ADF  Residual       Test Statistic   \n",
       "18  Stationarity         ADF  Residual    Critical Value 1%   \n",
       "19  Stationarity         ADF  Residual    Critical Value 5%   \n",
       "20  Stationarity         ADF  Residual   Critical Value 10%   \n",
       "21  Stationarity        KPSS  Residual   Trend Stationarity   \n",
       "22  Stationarity        KPSS  Residual              p-value   \n",
       "23  Stationarity        KPSS  Residual       Test Statistic   \n",
       "24  Stationarity        KPSS  Residual   Critical Value 10%   \n",
       "25  Stationarity        KPSS  Residual    Critical Value 5%   \n",
       "26  Stationarity        KPSS  Residual  Critical Value 2.5%   \n",
       "27  Stationarity        KPSS  Residual    Critical Value 1%   \n",
       "28     Normality     Shapiro  Residual            Normality   \n",
       "29     Normality     Shapiro  Residual              p-value   \n",
       "\n",
       "                     Setting             Value  \n",
       "0                                         50.0  \n",
       "1                                          0.0  \n",
       "2                                  -5015.58649  \n",
       "3                                 -10022.75855  \n",
       "4                                 39597.447652  \n",
       "5                             1567957860.58753  \n",
       "6                                     1.765764  \n",
       "7                                     1.046468  \n",
       "8                                         50.0  \n",
       "9   {'alpha': 0.05, 'K': 24}         40.519761  \n",
       "10  {'alpha': 0.05, 'K': 48}         49.721372  \n",
       "11  {'alpha': 0.05, 'K': 24}          0.018794  \n",
       "12  {'alpha': 0.05, 'K': 48}          0.404569  \n",
       "13  {'alpha': 0.05, 'K': 24}               0.0  \n",
       "14  {'alpha': 0.05, 'K': 48}               1.0  \n",
       "15           {'alpha': 0.05}              True  \n",
       "16           {'alpha': 0.05}          0.006666  \n",
       "17           {'alpha': 0.05}         -3.555739  \n",
       "18           {'alpha': 0.05}         -3.600983  \n",
       "19           {'alpha': 0.05}         -2.935135  \n",
       "20           {'alpha': 0.05}         -2.605963  \n",
       "21           {'alpha': 0.05}              True  \n",
       "22           {'alpha': 0.05}               0.1  \n",
       "23           {'alpha': 0.05}          0.044897  \n",
       "24           {'alpha': 0.05}             0.119  \n",
       "25           {'alpha': 0.05}             0.146  \n",
       "26           {'alpha': 0.05}             0.176  \n",
       "27           {'alpha': 0.05}             0.216  \n",
       "28           {'alpha': 0.05}             False  \n",
       "29           {'alpha': 0.05}          0.011343  "
      ]
     },
     "execution_count": 167,
     "metadata": {},
     "output_type": "execute_result"
    }
   ],
   "source": [
    "exp.check_stats(ets_dt, test = 'all')"
   ]
  },
  {
   "cell_type": "markdown",
   "metadata": {},
   "source": [
    "## ARIMA Model"
   ]
  },
  {
   "cell_type": "code",
   "execution_count": 168,
   "metadata": {},
   "outputs": [
    {
     "data": {
      "text/html": [],
      "text/plain": [
       "<IPython.core.display.HTML object>"
      ]
     },
     "metadata": {},
     "output_type": "display_data"
    },
    {
     "data": {
      "text/html": [
       "<style type=\"text/css\">\n",
       "#T_e7c6a_row3_col0, #T_e7c6a_row3_col1, #T_e7c6a_row3_col2, #T_e7c6a_row3_col3, #T_e7c6a_row3_col4, #T_e7c6a_row3_col5, #T_e7c6a_row3_col6, #T_e7c6a_row3_col7 {\n",
       "  background: yellow;\n",
       "}\n",
       "</style>\n",
       "<table id=\"T_e7c6a\">\n",
       "  <thead>\n",
       "    <tr>\n",
       "      <th class=\"blank level0\" >&nbsp;</th>\n",
       "      <th id=\"T_e7c6a_level0_col0\" class=\"col_heading level0 col0\" >cutoff</th>\n",
       "      <th id=\"T_e7c6a_level0_col1\" class=\"col_heading level0 col1\" >MASE</th>\n",
       "      <th id=\"T_e7c6a_level0_col2\" class=\"col_heading level0 col2\" >RMSSE</th>\n",
       "      <th id=\"T_e7c6a_level0_col3\" class=\"col_heading level0 col3\" >MAE</th>\n",
       "      <th id=\"T_e7c6a_level0_col4\" class=\"col_heading level0 col4\" >RMSE</th>\n",
       "      <th id=\"T_e7c6a_level0_col5\" class=\"col_heading level0 col5\" >MAPE</th>\n",
       "      <th id=\"T_e7c6a_level0_col6\" class=\"col_heading level0 col6\" >SMAPE</th>\n",
       "      <th id=\"T_e7c6a_level0_col7\" class=\"col_heading level0 col7\" >R2</th>\n",
       "    </tr>\n",
       "  </thead>\n",
       "  <tbody>\n",
       "    <tr>\n",
       "      <th id=\"T_e7c6a_level0_row0\" class=\"row_heading level0 row0\" >0</th>\n",
       "      <td id=\"T_e7c6a_row0_col0\" class=\"data row0 col0\" >2023-05</td>\n",
       "      <td id=\"T_e7c6a_row0_col1\" class=\"data row0 col1\" >1.3215</td>\n",
       "      <td id=\"T_e7c6a_row0_col2\" class=\"data row0 col2\" >1.0518</td>\n",
       "      <td id=\"T_e7c6a_row0_col3\" class=\"data row0 col3\" >60819.4292</td>\n",
       "      <td id=\"T_e7c6a_row0_col4\" class=\"data row0 col4\" >63900.7739</td>\n",
       "      <td id=\"T_e7c6a_row0_col5\" class=\"data row0 col5\" >0.3800</td>\n",
       "      <td id=\"T_e7c6a_row0_col6\" class=\"data row0 col6\" >0.4879</td>\n",
       "      <td id=\"T_e7c6a_row0_col7\" class=\"data row0 col7\" >-83.0098</td>\n",
       "    </tr>\n",
       "    <tr>\n",
       "      <th id=\"T_e7c6a_level0_row1\" class=\"row_heading level0 row1\" >1</th>\n",
       "      <td id=\"T_e7c6a_row1_col0\" class=\"data row1 col0\" >2023-08</td>\n",
       "      <td id=\"T_e7c6a_row1_col1\" class=\"data row1 col1\" >1.1757</td>\n",
       "      <td id=\"T_e7c6a_row1_col2\" class=\"data row1 col2\" >0.9945</td>\n",
       "      <td id=\"T_e7c6a_row1_col3\" class=\"data row1 col3\" >59085.7604</td>\n",
       "      <td id=\"T_e7c6a_row1_col4\" class=\"data row1 col4\" >64131.0108</td>\n",
       "      <td id=\"T_e7c6a_row1_col5\" class=\"data row1 col5\" >1.0259</td>\n",
       "      <td id=\"T_e7c6a_row1_col6\" class=\"data row1 col6\" >0.6031</td>\n",
       "      <td id=\"T_e7c6a_row1_col7\" class=\"data row1 col7\" >-1.7897</td>\n",
       "    </tr>\n",
       "    <tr>\n",
       "      <th id=\"T_e7c6a_level0_row2\" class=\"row_heading level0 row2\" >2</th>\n",
       "      <td id=\"T_e7c6a_row2_col0\" class=\"data row2 col0\" >2023-11</td>\n",
       "      <td id=\"T_e7c6a_row2_col1\" class=\"data row2 col1\" >0.5940</td>\n",
       "      <td id=\"T_e7c6a_row2_col2\" class=\"data row2 col2\" >0.5682</td>\n",
       "      <td id=\"T_e7c6a_row2_col3\" class=\"data row2 col3\" >29998.5080</td>\n",
       "      <td id=\"T_e7c6a_row2_col4\" class=\"data row2 col4\" >36399.4575</td>\n",
       "      <td id=\"T_e7c6a_row2_col5\" class=\"data row2 col5\" >0.2189</td>\n",
       "      <td id=\"T_e7c6a_row2_col6\" class=\"data row2 col6\" >0.2621</td>\n",
       "      <td id=\"T_e7c6a_row2_col7\" class=\"data row2 col7\" >-1.3836</td>\n",
       "    </tr>\n",
       "    <tr>\n",
       "      <th id=\"T_e7c6a_level0_row3\" class=\"row_heading level0 row3\" >Mean</th>\n",
       "      <td id=\"T_e7c6a_row3_col0\" class=\"data row3 col0\" >NaT</td>\n",
       "      <td id=\"T_e7c6a_row3_col1\" class=\"data row3 col1\" >1.0304</td>\n",
       "      <td id=\"T_e7c6a_row3_col2\" class=\"data row3 col2\" >0.8715</td>\n",
       "      <td id=\"T_e7c6a_row3_col3\" class=\"data row3 col3\" >49967.8992</td>\n",
       "      <td id=\"T_e7c6a_row3_col4\" class=\"data row3 col4\" >54810.4141</td>\n",
       "      <td id=\"T_e7c6a_row3_col5\" class=\"data row3 col5\" >0.5416</td>\n",
       "      <td id=\"T_e7c6a_row3_col6\" class=\"data row3 col6\" >0.4510</td>\n",
       "      <td id=\"T_e7c6a_row3_col7\" class=\"data row3 col7\" >-28.7277</td>\n",
       "    </tr>\n",
       "    <tr>\n",
       "      <th id=\"T_e7c6a_level0_row4\" class=\"row_heading level0 row4\" >SD</th>\n",
       "      <td id=\"T_e7c6a_row4_col0\" class=\"data row4 col0\" >NaT</td>\n",
       "      <td id=\"T_e7c6a_row4_col1\" class=\"data row4 col1\" >0.3143</td>\n",
       "      <td id=\"T_e7c6a_row4_col2\" class=\"data row4 col2\" >0.2157</td>\n",
       "      <td id=\"T_e7c6a_row4_col3\" class=\"data row4 col3\" >14138.2187</td>\n",
       "      <td id=\"T_e7c6a_row4_col4\" class=\"data row4 col4\" >13018.8515</td>\n",
       "      <td id=\"T_e7c6a_row4_col5\" class=\"data row4 col5\" >0.3487</td>\n",
       "      <td id=\"T_e7c6a_row4_col6\" class=\"data row4 col6\" >0.1416</td>\n",
       "      <td id=\"T_e7c6a_row4_col7\" class=\"data row4 col7\" >38.3836</td>\n",
       "    </tr>\n",
       "  </tbody>\n",
       "</table>\n"
      ],
      "text/plain": [
       "<pandas.io.formats.style.Styler at 0x284de3021d0>"
      ]
     },
     "metadata": {},
     "output_type": "display_data"
    },
    {
     "data": {
      "text/html": [],
      "text/plain": [
       "<IPython.core.display.HTML object>"
      ]
     },
     "metadata": {},
     "output_type": "display_data"
    },
    {
     "data": {
      "application/vnd.plotly.v1+json": {
       "config": {
        "plotlyServerURL": "https://plot.ly"
       },
       "data": [
        {
         "line": {
          "color": "#1f77b4"
         },
         "marker": {
          "size": 5
         },
         "mode": "lines+markers",
         "name": "Forecast | ARIMA",
         "showlegend": true,
         "type": "scatter",
         "x": [
          "2024-03-01T00:00:00",
          "2024-04-01T00:00:00",
          "2024-05-01T00:00:00"
         ],
         "y": [
          175285.5271,
          320980.8962,
          197497.5367
         ]
        },
        {
         "line": {
          "width": 0
         },
         "marker": {
          "color": "#68BBE3"
         },
         "mode": "lines",
         "name": "Lower Interval",
         "showlegend": false,
         "type": "scatter",
         "x": [
          "2024-03-01T00:00:00",
          "2024-04-01T00:00:00",
          "2024-05-01T00:00:00"
         ],
         "y": [
          88433.2838,
          230671.8811,
          106913.6718
         ]
        },
        {
         "fill": "tonexty",
         "fillcolor": "rgba(104,187,227,0.5)",
         "line": {
          "width": 0
         },
         "marker": {
          "color": "#68BBE3"
         },
         "mode": "lines",
         "name": "Prediction Interval | ARIMA",
         "showlegend": true,
         "type": "scatter",
         "x": [
          "2024-03-01T00:00:00",
          "2024-04-01T00:00:00",
          "2024-05-01T00:00:00"
         ],
         "y": [
          262137.7704,
          411289.9114,
          288081.4017
         ]
        },
        {
         "marker": {
          "color": "#3f3f3f",
          "size": 5
         },
         "mode": "lines+markers",
         "name": "Original",
         "showlegend": true,
         "type": "scatter",
         "x": [
          "2020-01-01T00:00:00",
          "2020-02-01T00:00:00",
          "2020-03-01T00:00:00",
          "2020-04-01T00:00:00",
          "2020-05-01T00:00:00",
          "2020-06-01T00:00:00",
          "2020-07-01T00:00:00",
          "2020-08-01T00:00:00",
          "2020-09-01T00:00:00",
          "2020-10-01T00:00:00",
          "2020-11-01T00:00:00",
          "2020-12-01T00:00:00",
          "2021-01-01T00:00:00",
          "2021-02-01T00:00:00",
          "2021-03-01T00:00:00",
          "2021-04-01T00:00:00",
          "2021-05-01T00:00:00",
          "2021-06-01T00:00:00",
          "2021-07-01T00:00:00",
          "2021-08-01T00:00:00",
          "2021-09-01T00:00:00",
          "2021-10-01T00:00:00",
          "2021-11-01T00:00:00",
          "2021-12-01T00:00:00",
          "2022-01-01T00:00:00",
          "2022-02-01T00:00:00",
          "2022-03-01T00:00:00",
          "2022-04-01T00:00:00",
          "2022-05-01T00:00:00",
          "2022-06-01T00:00:00",
          "2022-07-01T00:00:00",
          "2022-08-01T00:00:00",
          "2022-09-01T00:00:00",
          "2022-10-01T00:00:00",
          "2022-11-01T00:00:00",
          "2022-12-01T00:00:00",
          "2023-01-01T00:00:00",
          "2023-02-01T00:00:00",
          "2023-03-01T00:00:00",
          "2023-04-01T00:00:00",
          "2023-05-01T00:00:00",
          "2023-06-01T00:00:00",
          "2023-07-01T00:00:00",
          "2023-08-01T00:00:00",
          "2023-09-01T00:00:00",
          "2023-10-01T00:00:00",
          "2023-11-01T00:00:00",
          "2023-12-01T00:00:00",
          "2024-01-01T00:00:00",
          "2024-02-01T00:00:00",
          "2024-03-01T00:00:00",
          "2024-04-01T00:00:00",
          "2024-05-01T00:00:00"
         ],
         "y": [
          14981,
          30057,
          17657,
          13723,
          39238,
          46414,
          15971,
          37007,
          30765,
          14853,
          38729,
          40789,
          52069,
          28060,
          67966,
          195452,
          139665,
          65862,
          69375,
          55233,
          51707,
          34768,
          20686,
          101633,
          84076,
          88469,
          63103,
          76067,
          118755,
          228569,
          87601,
          82851,
          38241,
          61891,
          50757,
          95570,
          114535,
          86057,
          47937,
          131493,
          285160,
          163948,
          169601,
          152819,
          82946,
          135645,
          41831,
          161617,
          106253,
          119707,
          149830,
          241990,
          83295
         ]
        }
       ],
       "layout": {
        "showlegend": true,
        "template": {
         "data": {
          "bar": [
           {
            "error_x": {
             "color": "rgb(51,51,51)"
            },
            "error_y": {
             "color": "rgb(51,51,51)"
            },
            "marker": {
             "line": {
              "color": "rgb(237,237,237)",
              "width": 0.5
             },
             "pattern": {
              "fillmode": "overlay",
              "size": 10,
              "solidity": 0.2
             }
            },
            "type": "bar"
           }
          ],
          "barpolar": [
           {
            "marker": {
             "line": {
              "color": "rgb(237,237,237)",
              "width": 0.5
             },
             "pattern": {
              "fillmode": "overlay",
              "size": 10,
              "solidity": 0.2
             }
            },
            "type": "barpolar"
           }
          ],
          "carpet": [
           {
            "aaxis": {
             "endlinecolor": "rgb(51,51,51)",
             "gridcolor": "white",
             "linecolor": "white",
             "minorgridcolor": "white",
             "startlinecolor": "rgb(51,51,51)"
            },
            "baxis": {
             "endlinecolor": "rgb(51,51,51)",
             "gridcolor": "white",
             "linecolor": "white",
             "minorgridcolor": "white",
             "startlinecolor": "rgb(51,51,51)"
            },
            "type": "carpet"
           }
          ],
          "choropleth": [
           {
            "colorbar": {
             "outlinewidth": 0,
             "tickcolor": "rgb(237,237,237)",
             "ticklen": 6,
             "ticks": "inside"
            },
            "type": "choropleth"
           }
          ],
          "contour": [
           {
            "colorbar": {
             "outlinewidth": 0,
             "tickcolor": "rgb(237,237,237)",
             "ticklen": 6,
             "ticks": "inside"
            },
            "colorscale": [
             [
              0,
              "rgb(20,44,66)"
             ],
             [
              1,
              "rgb(90,179,244)"
             ]
            ],
            "type": "contour"
           }
          ],
          "contourcarpet": [
           {
            "colorbar": {
             "outlinewidth": 0,
             "tickcolor": "rgb(237,237,237)",
             "ticklen": 6,
             "ticks": "inside"
            },
            "type": "contourcarpet"
           }
          ],
          "heatmap": [
           {
            "colorbar": {
             "outlinewidth": 0,
             "tickcolor": "rgb(237,237,237)",
             "ticklen": 6,
             "ticks": "inside"
            },
            "colorscale": [
             [
              0,
              "rgb(20,44,66)"
             ],
             [
              1,
              "rgb(90,179,244)"
             ]
            ],
            "type": "heatmap"
           }
          ],
          "heatmapgl": [
           {
            "colorbar": {
             "outlinewidth": 0,
             "tickcolor": "rgb(237,237,237)",
             "ticklen": 6,
             "ticks": "inside"
            },
            "colorscale": [
             [
              0,
              "rgb(20,44,66)"
             ],
             [
              1,
              "rgb(90,179,244)"
             ]
            ],
            "type": "heatmapgl"
           }
          ],
          "histogram": [
           {
            "marker": {
             "pattern": {
              "fillmode": "overlay",
              "size": 10,
              "solidity": 0.2
             }
            },
            "type": "histogram"
           }
          ],
          "histogram2d": [
           {
            "colorbar": {
             "outlinewidth": 0,
             "tickcolor": "rgb(237,237,237)",
             "ticklen": 6,
             "ticks": "inside"
            },
            "colorscale": [
             [
              0,
              "rgb(20,44,66)"
             ],
             [
              1,
              "rgb(90,179,244)"
             ]
            ],
            "type": "histogram2d"
           }
          ],
          "histogram2dcontour": [
           {
            "colorbar": {
             "outlinewidth": 0,
             "tickcolor": "rgb(237,237,237)",
             "ticklen": 6,
             "ticks": "inside"
            },
            "colorscale": [
             [
              0,
              "rgb(20,44,66)"
             ],
             [
              1,
              "rgb(90,179,244)"
             ]
            ],
            "type": "histogram2dcontour"
           }
          ],
          "mesh3d": [
           {
            "colorbar": {
             "outlinewidth": 0,
             "tickcolor": "rgb(237,237,237)",
             "ticklen": 6,
             "ticks": "inside"
            },
            "type": "mesh3d"
           }
          ],
          "parcoords": [
           {
            "line": {
             "colorbar": {
              "outlinewidth": 0,
              "tickcolor": "rgb(237,237,237)",
              "ticklen": 6,
              "ticks": "inside"
             }
            },
            "type": "parcoords"
           }
          ],
          "pie": [
           {
            "automargin": true,
            "type": "pie"
           }
          ],
          "scatter": [
           {
            "fillpattern": {
             "fillmode": "overlay",
             "size": 10,
             "solidity": 0.2
            },
            "type": "scatter"
           }
          ],
          "scatter3d": [
           {
            "line": {
             "colorbar": {
              "outlinewidth": 0,
              "tickcolor": "rgb(237,237,237)",
              "ticklen": 6,
              "ticks": "inside"
             }
            },
            "marker": {
             "colorbar": {
              "outlinewidth": 0,
              "tickcolor": "rgb(237,237,237)",
              "ticklen": 6,
              "ticks": "inside"
             }
            },
            "type": "scatter3d"
           }
          ],
          "scattercarpet": [
           {
            "marker": {
             "colorbar": {
              "outlinewidth": 0,
              "tickcolor": "rgb(237,237,237)",
              "ticklen": 6,
              "ticks": "inside"
             }
            },
            "type": "scattercarpet"
           }
          ],
          "scattergeo": [
           {
            "marker": {
             "colorbar": {
              "outlinewidth": 0,
              "tickcolor": "rgb(237,237,237)",
              "ticklen": 6,
              "ticks": "inside"
             }
            },
            "type": "scattergeo"
           }
          ],
          "scattergl": [
           {
            "marker": {
             "colorbar": {
              "outlinewidth": 0,
              "tickcolor": "rgb(237,237,237)",
              "ticklen": 6,
              "ticks": "inside"
             }
            },
            "type": "scattergl"
           }
          ],
          "scattermapbox": [
           {
            "marker": {
             "colorbar": {
              "outlinewidth": 0,
              "tickcolor": "rgb(237,237,237)",
              "ticklen": 6,
              "ticks": "inside"
             }
            },
            "type": "scattermapbox"
           }
          ],
          "scatterpolar": [
           {
            "marker": {
             "colorbar": {
              "outlinewidth": 0,
              "tickcolor": "rgb(237,237,237)",
              "ticklen": 6,
              "ticks": "inside"
             }
            },
            "type": "scatterpolar"
           }
          ],
          "scatterpolargl": [
           {
            "marker": {
             "colorbar": {
              "outlinewidth": 0,
              "tickcolor": "rgb(237,237,237)",
              "ticklen": 6,
              "ticks": "inside"
             }
            },
            "type": "scatterpolargl"
           }
          ],
          "scatterternary": [
           {
            "marker": {
             "colorbar": {
              "outlinewidth": 0,
              "tickcolor": "rgb(237,237,237)",
              "ticklen": 6,
              "ticks": "inside"
             }
            },
            "type": "scatterternary"
           }
          ],
          "surface": [
           {
            "colorbar": {
             "outlinewidth": 0,
             "tickcolor": "rgb(237,237,237)",
             "ticklen": 6,
             "ticks": "inside"
            },
            "colorscale": [
             [
              0,
              "rgb(20,44,66)"
             ],
             [
              1,
              "rgb(90,179,244)"
             ]
            ],
            "type": "surface"
           }
          ],
          "table": [
           {
            "cells": {
             "fill": {
              "color": "rgb(237,237,237)"
             },
             "line": {
              "color": "white"
             }
            },
            "header": {
             "fill": {
              "color": "rgb(217,217,217)"
             },
             "line": {
              "color": "white"
             }
            },
            "type": "table"
           }
          ]
         },
         "layout": {
          "annotationdefaults": {
           "arrowhead": 0,
           "arrowwidth": 1
          },
          "autotypenumbers": "strict",
          "coloraxis": {
           "colorbar": {
            "outlinewidth": 0,
            "tickcolor": "rgb(237,237,237)",
            "ticklen": 6,
            "ticks": "inside"
           }
          },
          "colorscale": {
           "sequential": [
            [
             0,
             "rgb(20,44,66)"
            ],
            [
             1,
             "rgb(90,179,244)"
            ]
           ],
           "sequentialminus": [
            [
             0,
             "rgb(20,44,66)"
            ],
            [
             1,
             "rgb(90,179,244)"
            ]
           ]
          },
          "colorway": [
           "#F8766D",
           "#A3A500",
           "#00BF7D",
           "#00B0F6",
           "#E76BF3"
          ],
          "font": {
           "color": "rgb(51,51,51)"
          },
          "geo": {
           "bgcolor": "white",
           "lakecolor": "white",
           "landcolor": "rgb(237,237,237)",
           "showlakes": true,
           "showland": true,
           "subunitcolor": "white"
          },
          "hoverlabel": {
           "align": "left"
          },
          "hovermode": "closest",
          "paper_bgcolor": "white",
          "plot_bgcolor": "rgb(237,237,237)",
          "polar": {
           "angularaxis": {
            "gridcolor": "white",
            "linecolor": "white",
            "showgrid": true,
            "tickcolor": "rgb(51,51,51)",
            "ticks": "outside"
           },
           "bgcolor": "rgb(237,237,237)",
           "radialaxis": {
            "gridcolor": "white",
            "linecolor": "white",
            "showgrid": true,
            "tickcolor": "rgb(51,51,51)",
            "ticks": "outside"
           }
          },
          "scene": {
           "xaxis": {
            "backgroundcolor": "rgb(237,237,237)",
            "gridcolor": "white",
            "gridwidth": 2,
            "linecolor": "white",
            "showbackground": true,
            "showgrid": true,
            "tickcolor": "rgb(51,51,51)",
            "ticks": "outside",
            "zerolinecolor": "white"
           },
           "yaxis": {
            "backgroundcolor": "rgb(237,237,237)",
            "gridcolor": "white",
            "gridwidth": 2,
            "linecolor": "white",
            "showbackground": true,
            "showgrid": true,
            "tickcolor": "rgb(51,51,51)",
            "ticks": "outside",
            "zerolinecolor": "white"
           },
           "zaxis": {
            "backgroundcolor": "rgb(237,237,237)",
            "gridcolor": "white",
            "gridwidth": 2,
            "linecolor": "white",
            "showbackground": true,
            "showgrid": true,
            "tickcolor": "rgb(51,51,51)",
            "ticks": "outside",
            "zerolinecolor": "white"
           }
          },
          "shapedefaults": {
           "fillcolor": "black",
           "line": {
            "width": 0
           },
           "opacity": 0.3
          },
          "ternary": {
           "aaxis": {
            "gridcolor": "white",
            "linecolor": "white",
            "showgrid": true,
            "tickcolor": "rgb(51,51,51)",
            "ticks": "outside"
           },
           "baxis": {
            "gridcolor": "white",
            "linecolor": "white",
            "showgrid": true,
            "tickcolor": "rgb(51,51,51)",
            "ticks": "outside"
           },
           "bgcolor": "rgb(237,237,237)",
           "caxis": {
            "gridcolor": "white",
            "linecolor": "white",
            "showgrid": true,
            "tickcolor": "rgb(51,51,51)",
            "ticks": "outside"
           }
          },
          "xaxis": {
           "automargin": true,
           "gridcolor": "white",
           "linecolor": "white",
           "showgrid": true,
           "tickcolor": "rgb(51,51,51)",
           "ticks": "outside",
           "title": {
            "standoff": 15
           },
           "zerolinecolor": "white"
          },
          "yaxis": {
           "automargin": true,
           "gridcolor": "white",
           "linecolor": "white",
           "showgrid": true,
           "tickcolor": "rgb(51,51,51)",
           "ticks": "outside",
           "title": {
            "standoff": 15
           },
           "zerolinecolor": "white"
          }
         }
        },
        "title": {
         "text": "Actual vs. 'Out-of-Sample' Forecast | Quantity"
        },
        "xaxis": {
         "title": {
          "text": "Time"
         }
        },
        "yaxis": {
         "title": {
          "text": "Values"
         }
        }
       }
      }
     },
     "metadata": {},
     "output_type": "display_data"
    }
   ],
   "source": [
    "arima = exp.create_model('arima')\n",
    "exp.plot_model(estimator = arima, plot = 'forecast', \n",
    "               data_kwargs = {'fh' : 3})"
   ]
  },
  {
   "cell_type": "code",
   "execution_count": 169,
   "metadata": {},
   "outputs": [
    {
     "data": {
      "text/html": [
       "<div>\n",
       "<style scoped>\n",
       "    .dataframe tbody tr th:only-of-type {\n",
       "        vertical-align: middle;\n",
       "    }\n",
       "\n",
       "    .dataframe tbody tr th {\n",
       "        vertical-align: top;\n",
       "    }\n",
       "\n",
       "    .dataframe thead th {\n",
       "        text-align: right;\n",
       "    }\n",
       "</style>\n",
       "<table border=\"1\" class=\"dataframe\">\n",
       "  <thead>\n",
       "    <tr style=\"text-align: right;\">\n",
       "      <th></th>\n",
       "      <th>Test</th>\n",
       "      <th>Test Name</th>\n",
       "      <th>Data</th>\n",
       "      <th>Property</th>\n",
       "      <th>Setting</th>\n",
       "      <th>Value</th>\n",
       "    </tr>\n",
       "  </thead>\n",
       "  <tbody>\n",
       "    <tr>\n",
       "      <th>0</th>\n",
       "      <td>Summary</td>\n",
       "      <td>Statistics</td>\n",
       "      <td>Residual</td>\n",
       "      <td>Length</td>\n",
       "      <td></td>\n",
       "      <td>50.0</td>\n",
       "    </tr>\n",
       "    <tr>\n",
       "      <th>1</th>\n",
       "      <td>Summary</td>\n",
       "      <td>Statistics</td>\n",
       "      <td>Residual</td>\n",
       "      <td># Missing Values</td>\n",
       "      <td></td>\n",
       "      <td>0.0</td>\n",
       "    </tr>\n",
       "    <tr>\n",
       "      <th>2</th>\n",
       "      <td>Summary</td>\n",
       "      <td>Statistics</td>\n",
       "      <td>Residual</td>\n",
       "      <td>Mean</td>\n",
       "      <td></td>\n",
       "      <td>-938.44953</td>\n",
       "    </tr>\n",
       "    <tr>\n",
       "      <th>3</th>\n",
       "      <td>Summary</td>\n",
       "      <td>Statistics</td>\n",
       "      <td>Residual</td>\n",
       "      <td>Median</td>\n",
       "      <td></td>\n",
       "      <td>-2005.84405</td>\n",
       "    </tr>\n",
       "    <tr>\n",
       "      <th>4</th>\n",
       "      <td>Summary</td>\n",
       "      <td>Statistics</td>\n",
       "      <td>Residual</td>\n",
       "      <td>Standard Deviation</td>\n",
       "      <td></td>\n",
       "      <td>46934.077041</td>\n",
       "    </tr>\n",
       "    <tr>\n",
       "      <th>5</th>\n",
       "      <td>Summary</td>\n",
       "      <td>Statistics</td>\n",
       "      <td>Residual</td>\n",
       "      <td>Variance</td>\n",
       "      <td></td>\n",
       "      <td>2202807587.649582</td>\n",
       "    </tr>\n",
       "    <tr>\n",
       "      <th>6</th>\n",
       "      <td>Summary</td>\n",
       "      <td>Statistics</td>\n",
       "      <td>Residual</td>\n",
       "      <td>Kurtosis</td>\n",
       "      <td></td>\n",
       "      <td>3.039468</td>\n",
       "    </tr>\n",
       "    <tr>\n",
       "      <th>7</th>\n",
       "      <td>Summary</td>\n",
       "      <td>Statistics</td>\n",
       "      <td>Residual</td>\n",
       "      <td>Skewness</td>\n",
       "      <td></td>\n",
       "      <td>-0.382761</td>\n",
       "    </tr>\n",
       "    <tr>\n",
       "      <th>8</th>\n",
       "      <td>Summary</td>\n",
       "      <td>Statistics</td>\n",
       "      <td>Residual</td>\n",
       "      <td># Distinct Values</td>\n",
       "      <td></td>\n",
       "      <td>50.0</td>\n",
       "    </tr>\n",
       "    <tr>\n",
       "      <th>9</th>\n",
       "      <td>White Noise</td>\n",
       "      <td>Ljung-Box</td>\n",
       "      <td>Residual</td>\n",
       "      <td>Test Statictic</td>\n",
       "      <td>{'alpha': 0.05, 'K': 24}</td>\n",
       "      <td>34.408203</td>\n",
       "    </tr>\n",
       "    <tr>\n",
       "      <th>10</th>\n",
       "      <td>White Noise</td>\n",
       "      <td>Ljung-Box</td>\n",
       "      <td>Residual</td>\n",
       "      <td>Test Statictic</td>\n",
       "      <td>{'alpha': 0.05, 'K': 48}</td>\n",
       "      <td>39.109894</td>\n",
       "    </tr>\n",
       "    <tr>\n",
       "      <th>11</th>\n",
       "      <td>White Noise</td>\n",
       "      <td>Ljung-Box</td>\n",
       "      <td>Residual</td>\n",
       "      <td>p-value</td>\n",
       "      <td>{'alpha': 0.05, 'K': 24}</td>\n",
       "      <td>0.077671</td>\n",
       "    </tr>\n",
       "    <tr>\n",
       "      <th>12</th>\n",
       "      <td>White Noise</td>\n",
       "      <td>Ljung-Box</td>\n",
       "      <td>Residual</td>\n",
       "      <td>p-value</td>\n",
       "      <td>{'alpha': 0.05, 'K': 48}</td>\n",
       "      <td>0.816233</td>\n",
       "    </tr>\n",
       "    <tr>\n",
       "      <th>13</th>\n",
       "      <td>White Noise</td>\n",
       "      <td>Ljung-Box</td>\n",
       "      <td>Residual</td>\n",
       "      <td>White Noise</td>\n",
       "      <td>{'alpha': 0.05, 'K': 24}</td>\n",
       "      <td>1.0</td>\n",
       "    </tr>\n",
       "    <tr>\n",
       "      <th>14</th>\n",
       "      <td>White Noise</td>\n",
       "      <td>Ljung-Box</td>\n",
       "      <td>Residual</td>\n",
       "      <td>White Noise</td>\n",
       "      <td>{'alpha': 0.05, 'K': 48}</td>\n",
       "      <td>1.0</td>\n",
       "    </tr>\n",
       "    <tr>\n",
       "      <th>15</th>\n",
       "      <td>Stationarity</td>\n",
       "      <td>ADF</td>\n",
       "      <td>Residual</td>\n",
       "      <td>Stationarity</td>\n",
       "      <td>{'alpha': 0.05}</td>\n",
       "      <td>True</td>\n",
       "    </tr>\n",
       "    <tr>\n",
       "      <th>16</th>\n",
       "      <td>Stationarity</td>\n",
       "      <td>ADF</td>\n",
       "      <td>Residual</td>\n",
       "      <td>p-value</td>\n",
       "      <td>{'alpha': 0.05}</td>\n",
       "      <td>0.014148</td>\n",
       "    </tr>\n",
       "    <tr>\n",
       "      <th>17</th>\n",
       "      <td>Stationarity</td>\n",
       "      <td>ADF</td>\n",
       "      <td>Residual</td>\n",
       "      <td>Test Statistic</td>\n",
       "      <td>{'alpha': 0.05}</td>\n",
       "      <td>-3.316716</td>\n",
       "    </tr>\n",
       "    <tr>\n",
       "      <th>18</th>\n",
       "      <td>Stationarity</td>\n",
       "      <td>ADF</td>\n",
       "      <td>Residual</td>\n",
       "      <td>Critical Value 1%</td>\n",
       "      <td>{'alpha': 0.05}</td>\n",
       "      <td>-3.581258</td>\n",
       "    </tr>\n",
       "    <tr>\n",
       "      <th>19</th>\n",
       "      <td>Stationarity</td>\n",
       "      <td>ADF</td>\n",
       "      <td>Residual</td>\n",
       "      <td>Critical Value 5%</td>\n",
       "      <td>{'alpha': 0.05}</td>\n",
       "      <td>-2.926785</td>\n",
       "    </tr>\n",
       "    <tr>\n",
       "      <th>20</th>\n",
       "      <td>Stationarity</td>\n",
       "      <td>ADF</td>\n",
       "      <td>Residual</td>\n",
       "      <td>Critical Value 10%</td>\n",
       "      <td>{'alpha': 0.05}</td>\n",
       "      <td>-2.601541</td>\n",
       "    </tr>\n",
       "    <tr>\n",
       "      <th>21</th>\n",
       "      <td>Stationarity</td>\n",
       "      <td>KPSS</td>\n",
       "      <td>Residual</td>\n",
       "      <td>Trend Stationarity</td>\n",
       "      <td>{'alpha': 0.05}</td>\n",
       "      <td>True</td>\n",
       "    </tr>\n",
       "    <tr>\n",
       "      <th>22</th>\n",
       "      <td>Stationarity</td>\n",
       "      <td>KPSS</td>\n",
       "      <td>Residual</td>\n",
       "      <td>p-value</td>\n",
       "      <td>{'alpha': 0.05}</td>\n",
       "      <td>0.1</td>\n",
       "    </tr>\n",
       "    <tr>\n",
       "      <th>23</th>\n",
       "      <td>Stationarity</td>\n",
       "      <td>KPSS</td>\n",
       "      <td>Residual</td>\n",
       "      <td>Test Statistic</td>\n",
       "      <td>{'alpha': 0.05}</td>\n",
       "      <td>0.050292</td>\n",
       "    </tr>\n",
       "    <tr>\n",
       "      <th>24</th>\n",
       "      <td>Stationarity</td>\n",
       "      <td>KPSS</td>\n",
       "      <td>Residual</td>\n",
       "      <td>Critical Value 10%</td>\n",
       "      <td>{'alpha': 0.05}</td>\n",
       "      <td>0.119</td>\n",
       "    </tr>\n",
       "    <tr>\n",
       "      <th>25</th>\n",
       "      <td>Stationarity</td>\n",
       "      <td>KPSS</td>\n",
       "      <td>Residual</td>\n",
       "      <td>Critical Value 5%</td>\n",
       "      <td>{'alpha': 0.05}</td>\n",
       "      <td>0.146</td>\n",
       "    </tr>\n",
       "    <tr>\n",
       "      <th>26</th>\n",
       "      <td>Stationarity</td>\n",
       "      <td>KPSS</td>\n",
       "      <td>Residual</td>\n",
       "      <td>Critical Value 2.5%</td>\n",
       "      <td>{'alpha': 0.05}</td>\n",
       "      <td>0.176</td>\n",
       "    </tr>\n",
       "    <tr>\n",
       "      <th>27</th>\n",
       "      <td>Stationarity</td>\n",
       "      <td>KPSS</td>\n",
       "      <td>Residual</td>\n",
       "      <td>Critical Value 1%</td>\n",
       "      <td>{'alpha': 0.05}</td>\n",
       "      <td>0.216</td>\n",
       "    </tr>\n",
       "    <tr>\n",
       "      <th>28</th>\n",
       "      <td>Normality</td>\n",
       "      <td>Shapiro</td>\n",
       "      <td>Residual</td>\n",
       "      <td>Normality</td>\n",
       "      <td>{'alpha': 0.05}</td>\n",
       "      <td>False</td>\n",
       "    </tr>\n",
       "    <tr>\n",
       "      <th>29</th>\n",
       "      <td>Normality</td>\n",
       "      <td>Shapiro</td>\n",
       "      <td>Residual</td>\n",
       "      <td>p-value</td>\n",
       "      <td>{'alpha': 0.05}</td>\n",
       "      <td>0.008417</td>\n",
       "    </tr>\n",
       "  </tbody>\n",
       "</table>\n",
       "</div>"
      ],
      "text/plain": [
       "            Test   Test Name      Data             Property  \\\n",
       "0        Summary  Statistics  Residual               Length   \n",
       "1        Summary  Statistics  Residual     # Missing Values   \n",
       "2        Summary  Statistics  Residual                 Mean   \n",
       "3        Summary  Statistics  Residual               Median   \n",
       "4        Summary  Statistics  Residual   Standard Deviation   \n",
       "5        Summary  Statistics  Residual             Variance   \n",
       "6        Summary  Statistics  Residual             Kurtosis   \n",
       "7        Summary  Statistics  Residual             Skewness   \n",
       "8        Summary  Statistics  Residual    # Distinct Values   \n",
       "9    White Noise   Ljung-Box  Residual       Test Statictic   \n",
       "10   White Noise   Ljung-Box  Residual       Test Statictic   \n",
       "11   White Noise   Ljung-Box  Residual              p-value   \n",
       "12   White Noise   Ljung-Box  Residual              p-value   \n",
       "13   White Noise   Ljung-Box  Residual          White Noise   \n",
       "14   White Noise   Ljung-Box  Residual          White Noise   \n",
       "15  Stationarity         ADF  Residual         Stationarity   \n",
       "16  Stationarity         ADF  Residual              p-value   \n",
       "17  Stationarity         ADF  Residual       Test Statistic   \n",
       "18  Stationarity         ADF  Residual    Critical Value 1%   \n",
       "19  Stationarity         ADF  Residual    Critical Value 5%   \n",
       "20  Stationarity         ADF  Residual   Critical Value 10%   \n",
       "21  Stationarity        KPSS  Residual   Trend Stationarity   \n",
       "22  Stationarity        KPSS  Residual              p-value   \n",
       "23  Stationarity        KPSS  Residual       Test Statistic   \n",
       "24  Stationarity        KPSS  Residual   Critical Value 10%   \n",
       "25  Stationarity        KPSS  Residual    Critical Value 5%   \n",
       "26  Stationarity        KPSS  Residual  Critical Value 2.5%   \n",
       "27  Stationarity        KPSS  Residual    Critical Value 1%   \n",
       "28     Normality     Shapiro  Residual            Normality   \n",
       "29     Normality     Shapiro  Residual              p-value   \n",
       "\n",
       "                     Setting              Value  \n",
       "0                                          50.0  \n",
       "1                                           0.0  \n",
       "2                                    -938.44953  \n",
       "3                                   -2005.84405  \n",
       "4                                  46934.077041  \n",
       "5                             2202807587.649582  \n",
       "6                                      3.039468  \n",
       "7                                     -0.382761  \n",
       "8                                          50.0  \n",
       "9   {'alpha': 0.05, 'K': 24}          34.408203  \n",
       "10  {'alpha': 0.05, 'K': 48}          39.109894  \n",
       "11  {'alpha': 0.05, 'K': 24}           0.077671  \n",
       "12  {'alpha': 0.05, 'K': 48}           0.816233  \n",
       "13  {'alpha': 0.05, 'K': 24}                1.0  \n",
       "14  {'alpha': 0.05, 'K': 48}                1.0  \n",
       "15           {'alpha': 0.05}               True  \n",
       "16           {'alpha': 0.05}           0.014148  \n",
       "17           {'alpha': 0.05}          -3.316716  \n",
       "18           {'alpha': 0.05}          -3.581258  \n",
       "19           {'alpha': 0.05}          -2.926785  \n",
       "20           {'alpha': 0.05}          -2.601541  \n",
       "21           {'alpha': 0.05}               True  \n",
       "22           {'alpha': 0.05}                0.1  \n",
       "23           {'alpha': 0.05}           0.050292  \n",
       "24           {'alpha': 0.05}              0.119  \n",
       "25           {'alpha': 0.05}              0.146  \n",
       "26           {'alpha': 0.05}              0.176  \n",
       "27           {'alpha': 0.05}              0.216  \n",
       "28           {'alpha': 0.05}              False  \n",
       "29           {'alpha': 0.05}           0.008417  "
      ]
     },
     "execution_count": 169,
     "metadata": {},
     "output_type": "execute_result"
    }
   ],
   "source": [
    "exp.check_stats(arima, test = 'all')"
   ]
  },
  {
   "cell_type": "markdown",
   "metadata": {},
   "source": [
    "## Taking Best Model and Forecasting"
   ]
  },
  {
   "cell_type": "code",
   "execution_count": 170,
   "metadata": {},
   "outputs": [
    {
     "data": {
      "text/html": [],
      "text/plain": [
       "<IPython.core.display.HTML object>"
      ]
     },
     "metadata": {},
     "output_type": "display_data"
    },
    {
     "data": {
      "text/html": [
       "<style type=\"text/css\">\n",
       "#T_330a1_row3_col0, #T_330a1_row3_col1, #T_330a1_row3_col2, #T_330a1_row3_col3, #T_330a1_row3_col4, #T_330a1_row3_col5, #T_330a1_row3_col6, #T_330a1_row3_col7 {\n",
       "  background: yellow;\n",
       "}\n",
       "</style>\n",
       "<table id=\"T_330a1\">\n",
       "  <thead>\n",
       "    <tr>\n",
       "      <th class=\"blank level0\" >&nbsp;</th>\n",
       "      <th id=\"T_330a1_level0_col0\" class=\"col_heading level0 col0\" >cutoff</th>\n",
       "      <th id=\"T_330a1_level0_col1\" class=\"col_heading level0 col1\" >MASE</th>\n",
       "      <th id=\"T_330a1_level0_col2\" class=\"col_heading level0 col2\" >RMSSE</th>\n",
       "      <th id=\"T_330a1_level0_col3\" class=\"col_heading level0 col3\" >MAE</th>\n",
       "      <th id=\"T_330a1_level0_col4\" class=\"col_heading level0 col4\" >RMSE</th>\n",
       "      <th id=\"T_330a1_level0_col5\" class=\"col_heading level0 col5\" >MAPE</th>\n",
       "      <th id=\"T_330a1_level0_col6\" class=\"col_heading level0 col6\" >SMAPE</th>\n",
       "      <th id=\"T_330a1_level0_col7\" class=\"col_heading level0 col7\" >R2</th>\n",
       "    </tr>\n",
       "  </thead>\n",
       "  <tbody>\n",
       "    <tr>\n",
       "      <th id=\"T_330a1_level0_row0\" class=\"row_heading level0 row0\" >0</th>\n",
       "      <td id=\"T_330a1_row0_col0\" class=\"data row0 col0\" >2023-05</td>\n",
       "      <td id=\"T_330a1_row0_col1\" class=\"data row0 col1\" >0.1139</td>\n",
       "      <td id=\"T_330a1_row0_col2\" class=\"data row0 col2\" >0.0911</td>\n",
       "      <td id=\"T_330a1_row0_col3\" class=\"data row0 col3\" >5244.4117</td>\n",
       "      <td id=\"T_330a1_row0_col4\" class=\"data row0 col4\" >5537.1399</td>\n",
       "      <td id=\"T_330a1_row0_col5\" class=\"data row0 col5\" >0.0325</td>\n",
       "      <td id=\"T_330a1_row0_col6\" class=\"data row0 col6\" >0.0325</td>\n",
       "      <td id=\"T_330a1_row0_col7\" class=\"data row0 col7\" >0.3692</td>\n",
       "    </tr>\n",
       "    <tr>\n",
       "      <th id=\"T_330a1_level0_row1\" class=\"row_heading level0 row1\" >1</th>\n",
       "      <td id=\"T_330a1_row1_col0\" class=\"data row1 col0\" >2023-08</td>\n",
       "      <td id=\"T_330a1_row1_col1\" class=\"data row1 col1\" >1.3528</td>\n",
       "      <td id=\"T_330a1_row1_col2\" class=\"data row1 col2\" >1.2852</td>\n",
       "      <td id=\"T_330a1_row1_col3\" class=\"data row1 col3\" >67984.9810</td>\n",
       "      <td id=\"T_330a1_row1_col4\" class=\"data row1 col4\" >82873.4330</td>\n",
       "      <td id=\"T_330a1_row1_col5\" class=\"data row1 col5\" >1.2877</td>\n",
       "      <td id=\"T_330a1_row1_col6\" class=\"data row1 col6\" >0.6199</td>\n",
       "      <td id=\"T_330a1_row1_col7\" class=\"data row1 col7\" >-3.6585</td>\n",
       "    </tr>\n",
       "    <tr>\n",
       "      <th id=\"T_330a1_level0_row2\" class=\"row_heading level0 row2\" >2</th>\n",
       "      <td id=\"T_330a1_row2_col0\" class=\"data row2 col0\" >2023-11</td>\n",
       "      <td id=\"T_330a1_row2_col1\" class=\"data row2 col1\" >0.3222</td>\n",
       "      <td id=\"T_330a1_row2_col2\" class=\"data row2 col2\" >0.3118</td>\n",
       "      <td id=\"T_330a1_row2_col3\" class=\"data row2 col3\" >16272.7551</td>\n",
       "      <td id=\"T_330a1_row2_col4\" class=\"data row2 col4\" >19978.9188</td>\n",
       "      <td id=\"T_330a1_row2_col5\" class=\"data row2 col5\" >0.1302</td>\n",
       "      <td id=\"T_330a1_row2_col6\" class=\"data row2 col6\" >0.1235</td>\n",
       "      <td id=\"T_330a1_row2_col7\" class=\"data row2 col7\" >0.2819</td>\n",
       "    </tr>\n",
       "    <tr>\n",
       "      <th id=\"T_330a1_level0_row3\" class=\"row_heading level0 row3\" >Mean</th>\n",
       "      <td id=\"T_330a1_row3_col0\" class=\"data row3 col0\" >NaT</td>\n",
       "      <td id=\"T_330a1_row3_col1\" class=\"data row3 col1\" >0.5963</td>\n",
       "      <td id=\"T_330a1_row3_col2\" class=\"data row3 col2\" >0.5627</td>\n",
       "      <td id=\"T_330a1_row3_col3\" class=\"data row3 col3\" >29834.0493</td>\n",
       "      <td id=\"T_330a1_row3_col4\" class=\"data row3 col4\" >36129.8306</td>\n",
       "      <td id=\"T_330a1_row3_col5\" class=\"data row3 col5\" >0.4835</td>\n",
       "      <td id=\"T_330a1_row3_col6\" class=\"data row3 col6\" >0.2586</td>\n",
       "      <td id=\"T_330a1_row3_col7\" class=\"data row3 col7\" >-1.0025</td>\n",
       "    </tr>\n",
       "    <tr>\n",
       "      <th id=\"T_330a1_level0_row4\" class=\"row_heading level0 row4\" >SD</th>\n",
       "      <td id=\"T_330a1_row4_col0\" class=\"data row4 col0\" >NaT</td>\n",
       "      <td id=\"T_330a1_row4_col1\" class=\"data row4 col1\" >0.5416</td>\n",
       "      <td id=\"T_330a1_row4_col2\" class=\"data row4 col2\" >0.5187</td>\n",
       "      <td id=\"T_330a1_row4_col3\" class=\"data row4 col3\" >27349.9090</td>\n",
       "      <td id=\"T_330a1_row4_col4\" class=\"data row4 col4\" >33574.4399</td>\n",
       "      <td id=\"T_330a1_row4_col5\" class=\"data row4 col5\" >0.5701</td>\n",
       "      <td id=\"T_330a1_row4_col6\" class=\"data row4 col6\" >0.2581</td>\n",
       "      <td id=\"T_330a1_row4_col7\" class=\"data row4 col7\" >1.8784</td>\n",
       "    </tr>\n",
       "  </tbody>\n",
       "</table>\n"
      ],
      "text/plain": [
       "<pandas.io.formats.style.Styler at 0x2845f266b90>"
      ]
     },
     "metadata": {},
     "output_type": "display_data"
    },
    {
     "data": {
      "text/html": [],
      "text/plain": [
       "<IPython.core.display.HTML object>"
      ]
     },
     "metadata": {},
     "output_type": "display_data"
    },
    {
     "name": "stdout",
     "output_type": "stream",
     "text": [
      "Fitting 3 folds for each of 10 candidates, totalling 30 fits\n"
     ]
    },
    {
     "name": "stderr",
     "output_type": "stream",
     "text": [
      "[Parallel(n_jobs=-1)]: Using backend LokyBackend with 16 concurrent workers.\n",
      "[Parallel(n_jobs=-1)]: Done  30 out of  30 | elapsed:    1.0s finished\n"
     ]
    }
   ],
   "source": [
    "tuned_model = exp.tune_model(arima) # auto arima"
   ]
  },
  {
   "cell_type": "code",
   "execution_count": 171,
   "metadata": {},
   "outputs": [],
   "source": [
    "final_model = exp.finalize_model(tuned_model)\n",
    "pred_holdout = exp.predict_model(final_model)"
   ]
  },
  {
   "cell_type": "code",
   "execution_count": 172,
   "metadata": {},
   "outputs": [
    {
     "data": {
      "application/vnd.plotly.v1+json": {
       "config": {
        "plotlyServerURL": "https://plot.ly"
       },
       "data": [
        {
         "line": {
          "color": "#1f77b4"
         },
         "marker": {
          "size": 5
         },
         "mode": "lines+markers",
         "name": "Forecast | ARIMA",
         "showlegend": true,
         "type": "scatter",
         "x": [
          "2024-06-01T00:00:00",
          "2024-07-01T00:00:00",
          "2024-08-01T00:00:00"
         ],
         "y": [
          175372.3933,
          177930.4597,
          154056.8555
         ]
        },
        {
         "line": {
          "width": 0
         },
         "marker": {
          "color": "#68BBE3"
         },
         "mode": "lines",
         "name": "Lower Interval",
         "showlegend": false,
         "type": "scatter",
         "x": [
          "2024-06-01T00:00:00",
          "2024-07-01T00:00:00",
          "2024-08-01T00:00:00"
         ],
         "y": [
          80916.5562,
          83377.3739,
          59318.6311
         ]
        },
        {
         "fill": "tonexty",
         "fillcolor": "rgba(104,187,227,0.5)",
         "line": {
          "width": 0
         },
         "marker": {
          "color": "#68BBE3"
         },
         "mode": "lines",
         "name": "Prediction Interval | ARIMA",
         "showlegend": true,
         "type": "scatter",
         "x": [
          "2024-06-01T00:00:00",
          "2024-07-01T00:00:00",
          "2024-08-01T00:00:00"
         ],
         "y": [
          269828.2304,
          272483.5456,
          248795.0799
         ]
        },
        {
         "marker": {
          "color": "#3f3f3f",
          "size": 5
         },
         "mode": "lines+markers",
         "name": "Original",
         "showlegend": true,
         "type": "scatter",
         "x": [
          "2020-01-01T00:00:00",
          "2020-02-01T00:00:00",
          "2020-03-01T00:00:00",
          "2020-04-01T00:00:00",
          "2020-05-01T00:00:00",
          "2020-06-01T00:00:00",
          "2020-07-01T00:00:00",
          "2020-08-01T00:00:00",
          "2020-09-01T00:00:00",
          "2020-10-01T00:00:00",
          "2020-11-01T00:00:00",
          "2020-12-01T00:00:00",
          "2021-01-01T00:00:00",
          "2021-02-01T00:00:00",
          "2021-03-01T00:00:00",
          "2021-04-01T00:00:00",
          "2021-05-01T00:00:00",
          "2021-06-01T00:00:00",
          "2021-07-01T00:00:00",
          "2021-08-01T00:00:00",
          "2021-09-01T00:00:00",
          "2021-10-01T00:00:00",
          "2021-11-01T00:00:00",
          "2021-12-01T00:00:00",
          "2022-01-01T00:00:00",
          "2022-02-01T00:00:00",
          "2022-03-01T00:00:00",
          "2022-04-01T00:00:00",
          "2022-05-01T00:00:00",
          "2022-06-01T00:00:00",
          "2022-07-01T00:00:00",
          "2022-08-01T00:00:00",
          "2022-09-01T00:00:00",
          "2022-10-01T00:00:00",
          "2022-11-01T00:00:00",
          "2022-12-01T00:00:00",
          "2023-01-01T00:00:00",
          "2023-02-01T00:00:00",
          "2023-03-01T00:00:00",
          "2023-04-01T00:00:00",
          "2023-05-01T00:00:00",
          "2023-06-01T00:00:00",
          "2023-07-01T00:00:00",
          "2023-08-01T00:00:00",
          "2023-09-01T00:00:00",
          "2023-10-01T00:00:00",
          "2023-11-01T00:00:00",
          "2023-12-01T00:00:00",
          "2024-01-01T00:00:00",
          "2024-02-01T00:00:00",
          "2024-03-01T00:00:00",
          "2024-04-01T00:00:00",
          "2024-05-01T00:00:00"
         ],
         "y": [
          14981,
          30057,
          17657,
          13723,
          39238,
          46414,
          15971,
          37007,
          30765,
          14853,
          38729,
          40789,
          52069,
          28060,
          67966,
          195452,
          139665,
          65862,
          69375,
          55233,
          51707,
          34768,
          20686,
          101633,
          84076,
          88469,
          63103,
          76067,
          118755,
          228569,
          87601,
          82851,
          38241,
          61891,
          50757,
          95570,
          114535,
          86057,
          47937,
          131493,
          285160,
          163948,
          169601,
          152819,
          82946,
          135645,
          41831,
          161617,
          106253,
          119707,
          149830,
          241990,
          83295
         ]
        }
       ],
       "layout": {
        "showlegend": true,
        "template": {
         "data": {
          "bar": [
           {
            "error_x": {
             "color": "rgb(51,51,51)"
            },
            "error_y": {
             "color": "rgb(51,51,51)"
            },
            "marker": {
             "line": {
              "color": "rgb(237,237,237)",
              "width": 0.5
             },
             "pattern": {
              "fillmode": "overlay",
              "size": 10,
              "solidity": 0.2
             }
            },
            "type": "bar"
           }
          ],
          "barpolar": [
           {
            "marker": {
             "line": {
              "color": "rgb(237,237,237)",
              "width": 0.5
             },
             "pattern": {
              "fillmode": "overlay",
              "size": 10,
              "solidity": 0.2
             }
            },
            "type": "barpolar"
           }
          ],
          "carpet": [
           {
            "aaxis": {
             "endlinecolor": "rgb(51,51,51)",
             "gridcolor": "white",
             "linecolor": "white",
             "minorgridcolor": "white",
             "startlinecolor": "rgb(51,51,51)"
            },
            "baxis": {
             "endlinecolor": "rgb(51,51,51)",
             "gridcolor": "white",
             "linecolor": "white",
             "minorgridcolor": "white",
             "startlinecolor": "rgb(51,51,51)"
            },
            "type": "carpet"
           }
          ],
          "choropleth": [
           {
            "colorbar": {
             "outlinewidth": 0,
             "tickcolor": "rgb(237,237,237)",
             "ticklen": 6,
             "ticks": "inside"
            },
            "type": "choropleth"
           }
          ],
          "contour": [
           {
            "colorbar": {
             "outlinewidth": 0,
             "tickcolor": "rgb(237,237,237)",
             "ticklen": 6,
             "ticks": "inside"
            },
            "colorscale": [
             [
              0,
              "rgb(20,44,66)"
             ],
             [
              1,
              "rgb(90,179,244)"
             ]
            ],
            "type": "contour"
           }
          ],
          "contourcarpet": [
           {
            "colorbar": {
             "outlinewidth": 0,
             "tickcolor": "rgb(237,237,237)",
             "ticklen": 6,
             "ticks": "inside"
            },
            "type": "contourcarpet"
           }
          ],
          "heatmap": [
           {
            "colorbar": {
             "outlinewidth": 0,
             "tickcolor": "rgb(237,237,237)",
             "ticklen": 6,
             "ticks": "inside"
            },
            "colorscale": [
             [
              0,
              "rgb(20,44,66)"
             ],
             [
              1,
              "rgb(90,179,244)"
             ]
            ],
            "type": "heatmap"
           }
          ],
          "heatmapgl": [
           {
            "colorbar": {
             "outlinewidth": 0,
             "tickcolor": "rgb(237,237,237)",
             "ticklen": 6,
             "ticks": "inside"
            },
            "colorscale": [
             [
              0,
              "rgb(20,44,66)"
             ],
             [
              1,
              "rgb(90,179,244)"
             ]
            ],
            "type": "heatmapgl"
           }
          ],
          "histogram": [
           {
            "marker": {
             "pattern": {
              "fillmode": "overlay",
              "size": 10,
              "solidity": 0.2
             }
            },
            "type": "histogram"
           }
          ],
          "histogram2d": [
           {
            "colorbar": {
             "outlinewidth": 0,
             "tickcolor": "rgb(237,237,237)",
             "ticklen": 6,
             "ticks": "inside"
            },
            "colorscale": [
             [
              0,
              "rgb(20,44,66)"
             ],
             [
              1,
              "rgb(90,179,244)"
             ]
            ],
            "type": "histogram2d"
           }
          ],
          "histogram2dcontour": [
           {
            "colorbar": {
             "outlinewidth": 0,
             "tickcolor": "rgb(237,237,237)",
             "ticklen": 6,
             "ticks": "inside"
            },
            "colorscale": [
             [
              0,
              "rgb(20,44,66)"
             ],
             [
              1,
              "rgb(90,179,244)"
             ]
            ],
            "type": "histogram2dcontour"
           }
          ],
          "mesh3d": [
           {
            "colorbar": {
             "outlinewidth": 0,
             "tickcolor": "rgb(237,237,237)",
             "ticklen": 6,
             "ticks": "inside"
            },
            "type": "mesh3d"
           }
          ],
          "parcoords": [
           {
            "line": {
             "colorbar": {
              "outlinewidth": 0,
              "tickcolor": "rgb(237,237,237)",
              "ticklen": 6,
              "ticks": "inside"
             }
            },
            "type": "parcoords"
           }
          ],
          "pie": [
           {
            "automargin": true,
            "type": "pie"
           }
          ],
          "scatter": [
           {
            "fillpattern": {
             "fillmode": "overlay",
             "size": 10,
             "solidity": 0.2
            },
            "type": "scatter"
           }
          ],
          "scatter3d": [
           {
            "line": {
             "colorbar": {
              "outlinewidth": 0,
              "tickcolor": "rgb(237,237,237)",
              "ticklen": 6,
              "ticks": "inside"
             }
            },
            "marker": {
             "colorbar": {
              "outlinewidth": 0,
              "tickcolor": "rgb(237,237,237)",
              "ticklen": 6,
              "ticks": "inside"
             }
            },
            "type": "scatter3d"
           }
          ],
          "scattercarpet": [
           {
            "marker": {
             "colorbar": {
              "outlinewidth": 0,
              "tickcolor": "rgb(237,237,237)",
              "ticklen": 6,
              "ticks": "inside"
             }
            },
            "type": "scattercarpet"
           }
          ],
          "scattergeo": [
           {
            "marker": {
             "colorbar": {
              "outlinewidth": 0,
              "tickcolor": "rgb(237,237,237)",
              "ticklen": 6,
              "ticks": "inside"
             }
            },
            "type": "scattergeo"
           }
          ],
          "scattergl": [
           {
            "marker": {
             "colorbar": {
              "outlinewidth": 0,
              "tickcolor": "rgb(237,237,237)",
              "ticklen": 6,
              "ticks": "inside"
             }
            },
            "type": "scattergl"
           }
          ],
          "scattermapbox": [
           {
            "marker": {
             "colorbar": {
              "outlinewidth": 0,
              "tickcolor": "rgb(237,237,237)",
              "ticklen": 6,
              "ticks": "inside"
             }
            },
            "type": "scattermapbox"
           }
          ],
          "scatterpolar": [
           {
            "marker": {
             "colorbar": {
              "outlinewidth": 0,
              "tickcolor": "rgb(237,237,237)",
              "ticklen": 6,
              "ticks": "inside"
             }
            },
            "type": "scatterpolar"
           }
          ],
          "scatterpolargl": [
           {
            "marker": {
             "colorbar": {
              "outlinewidth": 0,
              "tickcolor": "rgb(237,237,237)",
              "ticklen": 6,
              "ticks": "inside"
             }
            },
            "type": "scatterpolargl"
           }
          ],
          "scatterternary": [
           {
            "marker": {
             "colorbar": {
              "outlinewidth": 0,
              "tickcolor": "rgb(237,237,237)",
              "ticklen": 6,
              "ticks": "inside"
             }
            },
            "type": "scatterternary"
           }
          ],
          "surface": [
           {
            "colorbar": {
             "outlinewidth": 0,
             "tickcolor": "rgb(237,237,237)",
             "ticklen": 6,
             "ticks": "inside"
            },
            "colorscale": [
             [
              0,
              "rgb(20,44,66)"
             ],
             [
              1,
              "rgb(90,179,244)"
             ]
            ],
            "type": "surface"
           }
          ],
          "table": [
           {
            "cells": {
             "fill": {
              "color": "rgb(237,237,237)"
             },
             "line": {
              "color": "white"
             }
            },
            "header": {
             "fill": {
              "color": "rgb(217,217,217)"
             },
             "line": {
              "color": "white"
             }
            },
            "type": "table"
           }
          ]
         },
         "layout": {
          "annotationdefaults": {
           "arrowhead": 0,
           "arrowwidth": 1
          },
          "autotypenumbers": "strict",
          "coloraxis": {
           "colorbar": {
            "outlinewidth": 0,
            "tickcolor": "rgb(237,237,237)",
            "ticklen": 6,
            "ticks": "inside"
           }
          },
          "colorscale": {
           "sequential": [
            [
             0,
             "rgb(20,44,66)"
            ],
            [
             1,
             "rgb(90,179,244)"
            ]
           ],
           "sequentialminus": [
            [
             0,
             "rgb(20,44,66)"
            ],
            [
             1,
             "rgb(90,179,244)"
            ]
           ]
          },
          "colorway": [
           "#F8766D",
           "#A3A500",
           "#00BF7D",
           "#00B0F6",
           "#E76BF3"
          ],
          "font": {
           "color": "rgb(51,51,51)"
          },
          "geo": {
           "bgcolor": "white",
           "lakecolor": "white",
           "landcolor": "rgb(237,237,237)",
           "showlakes": true,
           "showland": true,
           "subunitcolor": "white"
          },
          "hoverlabel": {
           "align": "left"
          },
          "hovermode": "closest",
          "paper_bgcolor": "white",
          "plot_bgcolor": "rgb(237,237,237)",
          "polar": {
           "angularaxis": {
            "gridcolor": "white",
            "linecolor": "white",
            "showgrid": true,
            "tickcolor": "rgb(51,51,51)",
            "ticks": "outside"
           },
           "bgcolor": "rgb(237,237,237)",
           "radialaxis": {
            "gridcolor": "white",
            "linecolor": "white",
            "showgrid": true,
            "tickcolor": "rgb(51,51,51)",
            "ticks": "outside"
           }
          },
          "scene": {
           "xaxis": {
            "backgroundcolor": "rgb(237,237,237)",
            "gridcolor": "white",
            "gridwidth": 2,
            "linecolor": "white",
            "showbackground": true,
            "showgrid": true,
            "tickcolor": "rgb(51,51,51)",
            "ticks": "outside",
            "zerolinecolor": "white"
           },
           "yaxis": {
            "backgroundcolor": "rgb(237,237,237)",
            "gridcolor": "white",
            "gridwidth": 2,
            "linecolor": "white",
            "showbackground": true,
            "showgrid": true,
            "tickcolor": "rgb(51,51,51)",
            "ticks": "outside",
            "zerolinecolor": "white"
           },
           "zaxis": {
            "backgroundcolor": "rgb(237,237,237)",
            "gridcolor": "white",
            "gridwidth": 2,
            "linecolor": "white",
            "showbackground": true,
            "showgrid": true,
            "tickcolor": "rgb(51,51,51)",
            "ticks": "outside",
            "zerolinecolor": "white"
           }
          },
          "shapedefaults": {
           "fillcolor": "black",
           "line": {
            "width": 0
           },
           "opacity": 0.3
          },
          "ternary": {
           "aaxis": {
            "gridcolor": "white",
            "linecolor": "white",
            "showgrid": true,
            "tickcolor": "rgb(51,51,51)",
            "ticks": "outside"
           },
           "baxis": {
            "gridcolor": "white",
            "linecolor": "white",
            "showgrid": true,
            "tickcolor": "rgb(51,51,51)",
            "ticks": "outside"
           },
           "bgcolor": "rgb(237,237,237)",
           "caxis": {
            "gridcolor": "white",
            "linecolor": "white",
            "showgrid": true,
            "tickcolor": "rgb(51,51,51)",
            "ticks": "outside"
           }
          },
          "xaxis": {
           "automargin": true,
           "gridcolor": "white",
           "linecolor": "white",
           "showgrid": true,
           "tickcolor": "rgb(51,51,51)",
           "ticks": "outside",
           "title": {
            "standoff": 15
           },
           "zerolinecolor": "white"
          },
          "yaxis": {
           "automargin": true,
           "gridcolor": "white",
           "linecolor": "white",
           "showgrid": true,
           "tickcolor": "rgb(51,51,51)",
           "ticks": "outside",
           "title": {
            "standoff": 15
           },
           "zerolinecolor": "white"
          }
         }
        },
        "title": {
         "text": "Actual vs. 'Out-of-Sample' Forecast | Quantity"
        },
        "xaxis": {
         "title": {
          "text": "Time"
         }
        },
        "yaxis": {
         "title": {
          "text": "Values"
         }
        }
       }
      }
     },
     "metadata": {},
     "output_type": "display_data"
    }
   ],
   "source": [
    "exp.plot_model(final_model)"
   ]
  },
  {
   "cell_type": "code",
   "execution_count": null,
   "metadata": {},
   "outputs": [],
   "source": []
  }
 ],
 "metadata": {
  "kernelspec": {
   "display_name": "Python 3",
   "language": "python",
   "name": "python3"
  },
  "language_info": {
   "codemirror_mode": {
    "name": "ipython",
    "version": 3
   },
   "file_extension": ".py",
   "mimetype": "text/x-python",
   "name": "python",
   "nbconvert_exporter": "python",
   "pygments_lexer": "ipython3",
   "version": "3.10.14"
  }
 },
 "nbformat": 4,
 "nbformat_minor": 2
}
