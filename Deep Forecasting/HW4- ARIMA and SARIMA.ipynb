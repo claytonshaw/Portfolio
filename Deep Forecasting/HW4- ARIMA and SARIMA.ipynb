{
 "cells": [
  {
   "cell_type": "markdown",
   "metadata": {},
   "source": [
    "# ARIMA"
   ]
  },
  {
   "cell_type": "code",
   "execution_count": 14,
   "metadata": {},
   "outputs": [
    {
     "data": {
      "text/html": [
       "<div>\n",
       "<style scoped>\n",
       "    .dataframe tbody tr th:only-of-type {\n",
       "        vertical-align: middle;\n",
       "    }\n",
       "\n",
       "    .dataframe tbody tr th {\n",
       "        vertical-align: top;\n",
       "    }\n",
       "\n",
       "    .dataframe thead th {\n",
       "        text-align: right;\n",
       "    }\n",
       "</style>\n",
       "<table border=\"1\" class=\"dataframe\">\n",
       "  <thead>\n",
       "    <tr style=\"text-align: right;\">\n",
       "      <th></th>\n",
       "      <th>Unnamed: 0</th>\n",
       "      <th>realgdp</th>\n",
       "      <th>realcons</th>\n",
       "      <th>realinv</th>\n",
       "      <th>realgovt</th>\n",
       "      <th>realdpi</th>\n",
       "      <th>cpi</th>\n",
       "      <th>m1</th>\n",
       "      <th>tbilrate</th>\n",
       "      <th>unemp</th>\n",
       "      <th>pop</th>\n",
       "      <th>infl</th>\n",
       "      <th>realint</th>\n",
       "    </tr>\n",
       "  </thead>\n",
       "  <tbody>\n",
       "    <tr>\n",
       "      <th>0</th>\n",
       "      <td>1959-03-31</td>\n",
       "      <td>2710.349</td>\n",
       "      <td>1707.4</td>\n",
       "      <td>286.898</td>\n",
       "      <td>470.045</td>\n",
       "      <td>1886.9</td>\n",
       "      <td>28.98</td>\n",
       "      <td>139.7</td>\n",
       "      <td>2.82</td>\n",
       "      <td>5.8</td>\n",
       "      <td>177.146</td>\n",
       "      <td>0.00</td>\n",
       "      <td>0.00</td>\n",
       "    </tr>\n",
       "    <tr>\n",
       "      <th>1</th>\n",
       "      <td>1959-06-30</td>\n",
       "      <td>2778.801</td>\n",
       "      <td>1733.7</td>\n",
       "      <td>310.859</td>\n",
       "      <td>481.301</td>\n",
       "      <td>1919.7</td>\n",
       "      <td>29.15</td>\n",
       "      <td>141.7</td>\n",
       "      <td>3.08</td>\n",
       "      <td>5.1</td>\n",
       "      <td>177.830</td>\n",
       "      <td>2.34</td>\n",
       "      <td>0.74</td>\n",
       "    </tr>\n",
       "    <tr>\n",
       "      <th>2</th>\n",
       "      <td>1959-09-30</td>\n",
       "      <td>2775.488</td>\n",
       "      <td>1751.8</td>\n",
       "      <td>289.226</td>\n",
       "      <td>491.260</td>\n",
       "      <td>1916.4</td>\n",
       "      <td>29.35</td>\n",
       "      <td>140.5</td>\n",
       "      <td>3.82</td>\n",
       "      <td>5.3</td>\n",
       "      <td>178.657</td>\n",
       "      <td>2.74</td>\n",
       "      <td>1.09</td>\n",
       "    </tr>\n",
       "    <tr>\n",
       "      <th>3</th>\n",
       "      <td>1959-12-31</td>\n",
       "      <td>2785.204</td>\n",
       "      <td>1753.7</td>\n",
       "      <td>299.356</td>\n",
       "      <td>484.052</td>\n",
       "      <td>1931.3</td>\n",
       "      <td>29.37</td>\n",
       "      <td>140.0</td>\n",
       "      <td>4.33</td>\n",
       "      <td>5.6</td>\n",
       "      <td>179.386</td>\n",
       "      <td>0.27</td>\n",
       "      <td>4.06</td>\n",
       "    </tr>\n",
       "    <tr>\n",
       "      <th>4</th>\n",
       "      <td>1960-03-31</td>\n",
       "      <td>2847.699</td>\n",
       "      <td>1770.5</td>\n",
       "      <td>331.722</td>\n",
       "      <td>462.199</td>\n",
       "      <td>1955.5</td>\n",
       "      <td>29.54</td>\n",
       "      <td>139.6</td>\n",
       "      <td>3.50</td>\n",
       "      <td>5.2</td>\n",
       "      <td>180.007</td>\n",
       "      <td>2.31</td>\n",
       "      <td>1.19</td>\n",
       "    </tr>\n",
       "  </tbody>\n",
       "</table>\n",
       "</div>"
      ],
      "text/plain": [
       "   Unnamed: 0   realgdp  realcons  realinv  realgovt  realdpi    cpi     m1  \\\n",
       "0  1959-03-31  2710.349    1707.4  286.898   470.045   1886.9  28.98  139.7   \n",
       "1  1959-06-30  2778.801    1733.7  310.859   481.301   1919.7  29.15  141.7   \n",
       "2  1959-09-30  2775.488    1751.8  289.226   491.260   1916.4  29.35  140.5   \n",
       "3  1959-12-31  2785.204    1753.7  299.356   484.052   1931.3  29.37  140.0   \n",
       "4  1960-03-31  2847.699    1770.5  331.722   462.199   1955.5  29.54  139.6   \n",
       "\n",
       "   tbilrate  unemp      pop  infl  realint  \n",
       "0      2.82    5.8  177.146  0.00     0.00  \n",
       "1      3.08    5.1  177.830  2.34     0.74  \n",
       "2      3.82    5.3  178.657  2.74     1.09  \n",
       "3      4.33    5.6  179.386  0.27     4.06  \n",
       "4      3.50    5.2  180.007  2.31     1.19  "
      ]
     },
     "execution_count": 14,
     "metadata": {},
     "output_type": "execute_result"
    }
   ],
   "source": [
    "import pandas as pd\n",
    "import ssl\n",
    "import urllib.request\n",
    "import io\n",
    "\n",
    "context = ssl._create_unverified_context()\n",
    "response = urllib.request.urlopen('https://raw.githubusercontent.com/PJalgotrader/Deep_forecasting-USU/refs/heads/main/data/US_macro_Quarterly.csv', context=context)\n",
    "csv_data = response.read().decode('utf-8')\n",
    "df = pd.read_csv(io.StringIO(csv_data))\n",
    "df.head()"
   ]
  },
  {
   "cell_type": "code",
   "execution_count": 15,
   "metadata": {},
   "outputs": [],
   "source": [
    "df['Unnamed: 0'] = pd.to_datetime(df['Unnamed: 0'])\n",
    "df.set_index(pd.PeriodIndex(df['Unnamed: 0'], freq='Q'), inplace=True)\n",
    "df.drop(columns=['Unnamed: 0'], inplace=True)"
   ]
  },
  {
   "cell_type": "code",
   "execution_count": 16,
   "metadata": {},
   "outputs": [],
   "source": [
    "# keep 'cpi' drop the other columns\n",
    "df = df[['cpi']]"
   ]
  },
  {
   "cell_type": "code",
   "execution_count": 17,
   "metadata": {},
   "outputs": [
    {
     "data": {
      "text/plain": [
       "<Axes: xlabel='Unnamed: 0'>"
      ]
     },
     "execution_count": 17,
     "metadata": {},
     "output_type": "execute_result"
    },
    {
     "data": {
      "image/png": "[encoded data removed]",
      "text/plain": [
       "<Figure size 800x550 with 1 Axes>"
      ]
     },
     "metadata": {},
     "output_type": "display_data"
    }
   ],
   "source": [
    "#  plot the data\n",
    "df.plot()"
   ]
  },
  {
   "cell_type": "markdown",
   "metadata": {},
   "source": [
    "The data is no stationary due to the upward trend. We would need to do differencing in this instance."
   ]
  },
  {
   "cell_type": "code",
   "execution_count": 18,
   "metadata": {},
   "outputs": [],
   "source": [
    "from pycaret.time_series import *"
   ]
  },
  {
   "cell_type": "code",
   "execution_count": 19,
   "metadata": {},
   "outputs": [
    {
     "data": {
      "text/html": [
       "<style type=\"text/css\">\n",
       "#T_09d71_row25_col1 {\n",
       "  background-color: lightgreen;\n",
       "}\n",
       "</style>\n",
       "<table id=\"T_09d71\">\n",
       "  <thead>\n",
       "    <tr>\n",
       "      <th class=\"blank level0\" >&nbsp;</th>\n",
       "      <th id=\"T_09d71_level0_col0\" class=\"col_heading level0 col0\" >Description</th>\n",
       "      <th id=\"T_09d71_level0_col1\" class=\"col_heading level0 col1\" >Value</th>\n",
       "    </tr>\n",
       "  </thead>\n",
       "  <tbody>\n",
       "    <tr>\n",
       "      <th id=\"T_09d71_level0_row0\" class=\"row_heading level0 row0\" >0</th>\n",
       "      <td id=\"T_09d71_row0_col0\" class=\"data row0 col0\" >session_id</td>\n",
       "      <td id=\"T_09d71_row0_col1\" class=\"data row0 col1\" >1480</td>\n",
       "    </tr>\n",
       "    <tr>\n",
       "      <th id=\"T_09d71_level0_row1\" class=\"row_heading level0 row1\" >1</th>\n",
       "      <td id=\"T_09d71_row1_col0\" class=\"data row1 col0\" >Target</td>\n",
       "      <td id=\"T_09d71_row1_col1\" class=\"data row1 col1\" >cpi</td>\n",
       "    </tr>\n",
       "    <tr>\n",
       "      <th id=\"T_09d71_level0_row2\" class=\"row_heading level0 row2\" >2</th>\n",
       "      <td id=\"T_09d71_row2_col0\" class=\"data row2 col0\" >Approach</td>\n",
       "      <td id=\"T_09d71_row2_col1\" class=\"data row2 col1\" >Univariate</td>\n",
       "    </tr>\n",
       "    <tr>\n",
       "      <th id=\"T_09d71_level0_row3\" class=\"row_heading level0 row3\" >3</th>\n",
       "      <td id=\"T_09d71_row3_col0\" class=\"data row3 col0\" >Exogenous Variables</td>\n",
       "      <td id=\"T_09d71_row3_col1\" class=\"data row3 col1\" >Not Present</td>\n",
       "    </tr>\n",
       "    <tr>\n",
       "      <th id=\"T_09d71_level0_row4\" class=\"row_heading level0 row4\" >4</th>\n",
       "      <td id=\"T_09d71_row4_col0\" class=\"data row4 col0\" >Original data shape</td>\n",
       "      <td id=\"T_09d71_row4_col1\" class=\"data row4 col1\" >(203, 1)</td>\n",
       "    </tr>\n",
       "    <tr>\n",
       "      <th id=\"T_09d71_level0_row5\" class=\"row_heading level0 row5\" >5</th>\n",
       "      <td id=\"T_09d71_row5_col0\" class=\"data row5 col0\" >Transformed data shape</td>\n",
       "      <td id=\"T_09d71_row5_col1\" class=\"data row5 col1\" >(203, 1)</td>\n",
       "    </tr>\n",
       "    <tr>\n",
       "      <th id=\"T_09d71_level0_row6\" class=\"row_heading level0 row6\" >6</th>\n",
       "      <td id=\"T_09d71_row6_col0\" class=\"data row6 col0\" >Transformed train set shape</td>\n",
       "      <td id=\"T_09d71_row6_col1\" class=\"data row6 col1\" >(179, 1)</td>\n",
       "    </tr>\n",
       "    <tr>\n",
       "      <th id=\"T_09d71_level0_row7\" class=\"row_heading level0 row7\" >7</th>\n",
       "      <td id=\"T_09d71_row7_col0\" class=\"data row7 col0\" >Transformed test set shape</td>\n",
       "      <td id=\"T_09d71_row7_col1\" class=\"data row7 col1\" >(24, 1)</td>\n",
       "    </tr>\n",
       "    <tr>\n",
       "      <th id=\"T_09d71_level0_row8\" class=\"row_heading level0 row8\" >8</th>\n",
       "      <td id=\"T_09d71_row8_col0\" class=\"data row8 col0\" >Rows with missing values</td>\n",
       "      <td id=\"T_09d71_row8_col1\" class=\"data row8 col1\" >0.0%</td>\n",
       "    </tr>\n",
       "    <tr>\n",
       "      <th id=\"T_09d71_level0_row9\" class=\"row_heading level0 row9\" >9</th>\n",
       "      <td id=\"T_09d71_row9_col0\" class=\"data row9 col0\" >Fold Generator</td>\n",
       "      <td id=\"T_09d71_row9_col1\" class=\"data row9 col1\" >ExpandingWindowSplitter</td>\n",
       "    </tr>\n",
       "    <tr>\n",
       "      <th id=\"T_09d71_level0_row10\" class=\"row_heading level0 row10\" >10</th>\n",
       "      <td id=\"T_09d71_row10_col0\" class=\"data row10 col0\" >Fold Number</td>\n",
       "      <td id=\"T_09d71_row10_col1\" class=\"data row10 col1\" >3</td>\n",
       "    </tr>\n",
       "    <tr>\n",
       "      <th id=\"T_09d71_level0_row11\" class=\"row_heading level0 row11\" >11</th>\n",
       "      <td id=\"T_09d71_row11_col0\" class=\"data row11 col0\" >Enforce Prediction Interval</td>\n",
       "      <td id=\"T_09d71_row11_col1\" class=\"data row11 col1\" >False</td>\n",
       "    </tr>\n",
       "    <tr>\n",
       "      <th id=\"T_09d71_level0_row12\" class=\"row_heading level0 row12\" >12</th>\n",
       "      <td id=\"T_09d71_row12_col0\" class=\"data row12 col0\" >Splits used for hyperparameters</td>\n",
       "      <td id=\"T_09d71_row12_col1\" class=\"data row12 col1\" >all</td>\n",
       "    </tr>\n",
       "    <tr>\n",
       "      <th id=\"T_09d71_level0_row13\" class=\"row_heading level0 row13\" >13</th>\n",
       "      <td id=\"T_09d71_row13_col0\" class=\"data row13 col0\" >User Defined Seasonal Period(s)</td>\n",
       "      <td id=\"T_09d71_row13_col1\" class=\"data row13 col1\" >None</td>\n",
       "    </tr>\n",
       "    <tr>\n",
       "      <th id=\"T_09d71_level0_row14\" class=\"row_heading level0 row14\" >14</th>\n",
       "      <td id=\"T_09d71_row14_col0\" class=\"data row14 col0\" >Ignore Seasonality Test</td>\n",
       "      <td id=\"T_09d71_row14_col1\" class=\"data row14 col1\" >False</td>\n",
       "    </tr>\n",
       "    <tr>\n",
       "      <th id=\"T_09d71_level0_row15\" class=\"row_heading level0 row15\" >15</th>\n",
       "      <td id=\"T_09d71_row15_col0\" class=\"data row15 col0\" >Seasonality Detection Algo</td>\n",
       "      <td id=\"T_09d71_row15_col1\" class=\"data row15 col1\" >auto</td>\n",
       "    </tr>\n",
       "    <tr>\n",
       "      <th id=\"T_09d71_level0_row16\" class=\"row_heading level0 row16\" >16</th>\n",
       "      <td id=\"T_09d71_row16_col0\" class=\"data row16 col0\" >Max Period to Consider</td>\n",
       "      <td id=\"T_09d71_row16_col1\" class=\"data row16 col1\" >60</td>\n",
       "    </tr>\n",
       "    <tr>\n",
       "      <th id=\"T_09d71_level0_row17\" class=\"row_heading level0 row17\" >17</th>\n",
       "      <td id=\"T_09d71_row17_col0\" class=\"data row17 col0\" >Seasonal Period(s) Tested</td>\n",
       "      <td id=\"T_09d71_row17_col1\" class=\"data row17 col1\" >[3, 11]</td>\n",
       "    </tr>\n",
       "    <tr>\n",
       "      <th id=\"T_09d71_level0_row18\" class=\"row_heading level0 row18\" >18</th>\n",
       "      <td id=\"T_09d71_row18_col0\" class=\"data row18 col0\" >Significant Seasonal Period(s)</td>\n",
       "      <td id=\"T_09d71_row18_col1\" class=\"data row18 col1\" >[3, 11]</td>\n",
       "    </tr>\n",
       "    <tr>\n",
       "      <th id=\"T_09d71_level0_row19\" class=\"row_heading level0 row19\" >19</th>\n",
       "      <td id=\"T_09d71_row19_col0\" class=\"data row19 col0\" >Significant Seasonal Period(s) without Harmonics</td>\n",
       "      <td id=\"T_09d71_row19_col1\" class=\"data row19 col1\" >[3, 11]</td>\n",
       "    </tr>\n",
       "    <tr>\n",
       "      <th id=\"T_09d71_level0_row20\" class=\"row_heading level0 row20\" >20</th>\n",
       "      <td id=\"T_09d71_row20_col0\" class=\"data row20 col0\" >Remove Harmonics</td>\n",
       "      <td id=\"T_09d71_row20_col1\" class=\"data row20 col1\" >False</td>\n",
       "    </tr>\n",
       "    <tr>\n",
       "      <th id=\"T_09d71_level0_row21\" class=\"row_heading level0 row21\" >21</th>\n",
       "      <td id=\"T_09d71_row21_col0\" class=\"data row21 col0\" >Harmonics Order Method</td>\n",
       "      <td id=\"T_09d71_row21_col1\" class=\"data row21 col1\" >harmonic_max</td>\n",
       "    </tr>\n",
       "    <tr>\n",
       "      <th id=\"T_09d71_level0_row22\" class=\"row_heading level0 row22\" >22</th>\n",
       "      <td id=\"T_09d71_row22_col0\" class=\"data row22 col0\" >Num Seasonalities to Use</td>\n",
       "      <td id=\"T_09d71_row22_col1\" class=\"data row22 col1\" >1</td>\n",
       "    </tr>\n",
       "    <tr>\n",
       "      <th id=\"T_09d71_level0_row23\" class=\"row_heading level0 row23\" >23</th>\n",
       "      <td id=\"T_09d71_row23_col0\" class=\"data row23 col0\" >All Seasonalities to Use</td>\n",
       "      <td id=\"T_09d71_row23_col1\" class=\"data row23 col1\" >[3]</td>\n",
       "    </tr>\n",
       "    <tr>\n",
       "      <th id=\"T_09d71_level0_row24\" class=\"row_heading level0 row24\" >24</th>\n",
       "      <td id=\"T_09d71_row24_col0\" class=\"data row24 col0\" >Primary Seasonality</td>\n",
       "      <td id=\"T_09d71_row24_col1\" class=\"data row24 col1\" >3</td>\n",
       "    </tr>\n",
       "    <tr>\n",
       "      <th id=\"T_09d71_level0_row25\" class=\"row_heading level0 row25\" >25</th>\n",
       "      <td id=\"T_09d71_row25_col0\" class=\"data row25 col0\" >Seasonality Present</td>\n",
       "      <td id=\"T_09d71_row25_col1\" class=\"data row25 col1\" >True</td>\n",
       "    </tr>\n",
       "    <tr>\n",
       "      <th id=\"T_09d71_level0_row26\" class=\"row_heading level0 row26\" >26</th>\n",
       "      <td id=\"T_09d71_row26_col0\" class=\"data row26 col0\" >Seasonality Type</td>\n",
       "      <td id=\"T_09d71_row26_col1\" class=\"data row26 col1\" >mul</td>\n",
       "    </tr>\n",
       "    <tr>\n",
       "      <th id=\"T_09d71_level0_row27\" class=\"row_heading level0 row27\" >27</th>\n",
       "      <td id=\"T_09d71_row27_col0\" class=\"data row27 col0\" >Target Strictly Positive</td>\n",
       "      <td id=\"T_09d71_row27_col1\" class=\"data row27 col1\" >True</td>\n",
       "    </tr>\n",
       "    <tr>\n",
       "      <th id=\"T_09d71_level0_row28\" class=\"row_heading level0 row28\" >28</th>\n",
       "      <td id=\"T_09d71_row28_col0\" class=\"data row28 col0\" >Target White Noise</td>\n",
       "      <td id=\"T_09d71_row28_col1\" class=\"data row28 col1\" >No</td>\n",
       "    </tr>\n",
       "    <tr>\n",
       "      <th id=\"T_09d71_level0_row29\" class=\"row_heading level0 row29\" >29</th>\n",
       "      <td id=\"T_09d71_row29_col0\" class=\"data row29 col0\" >Recommended d</td>\n",
       "      <td id=\"T_09d71_row29_col1\" class=\"data row29 col1\" >2</td>\n",
       "    </tr>\n",
       "    <tr>\n",
       "      <th id=\"T_09d71_level0_row30\" class=\"row_heading level0 row30\" >30</th>\n",
       "      <td id=\"T_09d71_row30_col0\" class=\"data row30 col0\" >Recommended Seasonal D</td>\n",
       "      <td id=\"T_09d71_row30_col1\" class=\"data row30 col1\" >0</td>\n",
       "    </tr>\n",
       "    <tr>\n",
       "      <th id=\"T_09d71_level0_row31\" class=\"row_heading level0 row31\" >31</th>\n",
       "      <td id=\"T_09d71_row31_col0\" class=\"data row31 col0\" >Preprocess</td>\n",
       "      <td id=\"T_09d71_row31_col1\" class=\"data row31 col1\" >False</td>\n",
       "    </tr>\n",
       "    <tr>\n",
       "      <th id=\"T_09d71_level0_row32\" class=\"row_heading level0 row32\" >32</th>\n",
       "      <td id=\"T_09d71_row32_col0\" class=\"data row32 col0\" >CPU Jobs</td>\n",
       "      <td id=\"T_09d71_row32_col1\" class=\"data row32 col1\" >-1</td>\n",
       "    </tr>\n",
       "    <tr>\n",
       "      <th id=\"T_09d71_level0_row33\" class=\"row_heading level0 row33\" >33</th>\n",
       "      <td id=\"T_09d71_row33_col0\" class=\"data row33 col0\" >Use GPU</td>\n",
       "      <td id=\"T_09d71_row33_col1\" class=\"data row33 col1\" >False</td>\n",
       "    </tr>\n",
       "    <tr>\n",
       "      <th id=\"T_09d71_level0_row34\" class=\"row_heading level0 row34\" >34</th>\n",
       "      <td id=\"T_09d71_row34_col0\" class=\"data row34 col0\" >Log Experiment</td>\n",
       "      <td id=\"T_09d71_row34_col1\" class=\"data row34 col1\" >False</td>\n",
       "    </tr>\n",
       "    <tr>\n",
       "      <th id=\"T_09d71_level0_row35\" class=\"row_heading level0 row35\" >35</th>\n",
       "      <td id=\"T_09d71_row35_col0\" class=\"data row35 col0\" >Experiment Name</td>\n",
       "      <td id=\"T_09d71_row35_col1\" class=\"data row35 col1\" >ts-default-name</td>\n",
       "    </tr>\n",
       "    <tr>\n",
       "      <th id=\"T_09d71_level0_row36\" class=\"row_heading level0 row36\" >36</th>\n",
       "      <td id=\"T_09d71_row36_col0\" class=\"data row36 col0\" >USI</td>\n",
       "      <td id=\"T_09d71_row36_col1\" class=\"data row36 col1\" >687d</td>\n",
       "    </tr>\n",
       "  </tbody>\n",
       "</table>\n"
      ],
      "text/plain": [
       "<pandas.io.formats.style.Styler at 0x305f05f90>"
      ]
     },
     "metadata": {},
     "output_type": "display_data"
    },
    {
     "data": {
      "text/plain": [
       "<pycaret.time_series.forecasting.oop.TSForecastingExperiment at 0x306c32a50>"
      ]
     },
     "execution_count": 19,
     "metadata": {},
     "output_type": "execute_result"
    }
   ],
   "source": [
    "exp = TSForecastingExperiment()\n",
    "exp.setup(data=df, fh=24)"
   ]
  },
  {
   "cell_type": "markdown",
   "metadata": {},
   "source": [
    "We have 179 insample observations and 24 out of sample observations"
   ]
  },
  {
   "cell_type": "code",
   "execution_count": 20,
   "metadata": {},
   "outputs": [
    {
     "data": {
      "text/html": [
       "<div>\n",
       "<style scoped>\n",
       "    .dataframe tbody tr th:only-of-type {\n",
       "        vertical-align: middle;\n",
       "    }\n",
       "\n",
       "    .dataframe tbody tr th {\n",
       "        vertical-align: top;\n",
       "    }\n",
       "\n",
       "    .dataframe thead th {\n",
       "        text-align: right;\n",
       "    }\n",
       "</style>\n",
       "<table border=\"1\" class=\"dataframe\">\n",
       "  <thead>\n",
       "    <tr style=\"text-align: right;\">\n",
       "      <th></th>\n",
       "      <th>Test</th>\n",
       "      <th>Test Name</th>\n",
       "      <th>Data</th>\n",
       "      <th>Property</th>\n",
       "      <th>Setting</th>\n",
       "      <th>Value</th>\n",
       "    </tr>\n",
       "  </thead>\n",
       "  <tbody>\n",
       "    <tr>\n",
       "      <th>0</th>\n",
       "      <td>Summary</td>\n",
       "      <td>Statistics</td>\n",
       "      <td>Transformed</td>\n",
       "      <td>Length</td>\n",
       "      <td></td>\n",
       "      <td>203.0</td>\n",
       "    </tr>\n",
       "    <tr>\n",
       "      <th>1</th>\n",
       "      <td>Summary</td>\n",
       "      <td>Statistics</td>\n",
       "      <td>Transformed</td>\n",
       "      <td># Missing Values</td>\n",
       "      <td></td>\n",
       "      <td>0.0</td>\n",
       "    </tr>\n",
       "    <tr>\n",
       "      <th>2</th>\n",
       "      <td>Summary</td>\n",
       "      <td>Statistics</td>\n",
       "      <td>Transformed</td>\n",
       "      <td>Mean</td>\n",
       "      <td></td>\n",
       "      <td>105.075788</td>\n",
       "    </tr>\n",
       "    <tr>\n",
       "      <th>3</th>\n",
       "      <td>Summary</td>\n",
       "      <td>Statistics</td>\n",
       "      <td>Transformed</td>\n",
       "      <td>Median</td>\n",
       "      <td></td>\n",
       "      <td>104.1</td>\n",
       "    </tr>\n",
       "    <tr>\n",
       "      <th>4</th>\n",
       "      <td>Summary</td>\n",
       "      <td>Statistics</td>\n",
       "      <td>Transformed</td>\n",
       "      <td>Standard Deviation</td>\n",
       "      <td></td>\n",
       "      <td>61.278878</td>\n",
       "    </tr>\n",
       "    <tr>\n",
       "      <th>5</th>\n",
       "      <td>Summary</td>\n",
       "      <td>Statistics</td>\n",
       "      <td>Transformed</td>\n",
       "      <td>Variance</td>\n",
       "      <td></td>\n",
       "      <td>3755.100856</td>\n",
       "    </tr>\n",
       "    <tr>\n",
       "      <th>6</th>\n",
       "      <td>Summary</td>\n",
       "      <td>Statistics</td>\n",
       "      <td>Transformed</td>\n",
       "      <td>Kurtosis</td>\n",
       "      <td></td>\n",
       "      <td>-1.344882</td>\n",
       "    </tr>\n",
       "    <tr>\n",
       "      <th>7</th>\n",
       "      <td>Summary</td>\n",
       "      <td>Statistics</td>\n",
       "      <td>Transformed</td>\n",
       "      <td>Skewness</td>\n",
       "      <td></td>\n",
       "      <td>0.223577</td>\n",
       "    </tr>\n",
       "    <tr>\n",
       "      <th>8</th>\n",
       "      <td>Summary</td>\n",
       "      <td>Statistics</td>\n",
       "      <td>Transformed</td>\n",
       "      <td># Distinct Values</td>\n",
       "      <td></td>\n",
       "      <td>203.0</td>\n",
       "    </tr>\n",
       "    <tr>\n",
       "      <th>9</th>\n",
       "      <td>White Noise</td>\n",
       "      <td>Ljung-Box</td>\n",
       "      <td>Transformed</td>\n",
       "      <td>Test Statictic</td>\n",
       "      <td>{'alpha': 0.05, 'K': 24}</td>\n",
       "      <td>3684.722748</td>\n",
       "    </tr>\n",
       "    <tr>\n",
       "      <th>10</th>\n",
       "      <td>White Noise</td>\n",
       "      <td>Ljung-Box</td>\n",
       "      <td>Transformed</td>\n",
       "      <td>Test Statictic</td>\n",
       "      <td>{'alpha': 0.05, 'K': 48}</td>\n",
       "      <td>5256.373583</td>\n",
       "    </tr>\n",
       "    <tr>\n",
       "      <th>11</th>\n",
       "      <td>White Noise</td>\n",
       "      <td>Ljung-Box</td>\n",
       "      <td>Transformed</td>\n",
       "      <td>p-value</td>\n",
       "      <td>{'alpha': 0.05, 'K': 24}</td>\n",
       "      <td>0.0</td>\n",
       "    </tr>\n",
       "    <tr>\n",
       "      <th>12</th>\n",
       "      <td>White Noise</td>\n",
       "      <td>Ljung-Box</td>\n",
       "      <td>Transformed</td>\n",
       "      <td>p-value</td>\n",
       "      <td>{'alpha': 0.05, 'K': 48}</td>\n",
       "      <td>0.0</td>\n",
       "    </tr>\n",
       "    <tr>\n",
       "      <th>13</th>\n",
       "      <td>White Noise</td>\n",
       "      <td>Ljung-Box</td>\n",
       "      <td>Transformed</td>\n",
       "      <td>White Noise</td>\n",
       "      <td>{'alpha': 0.05, 'K': 24}</td>\n",
       "      <td>0.0</td>\n",
       "    </tr>\n",
       "    <tr>\n",
       "      <th>14</th>\n",
       "      <td>White Noise</td>\n",
       "      <td>Ljung-Box</td>\n",
       "      <td>Transformed</td>\n",
       "      <td>White Noise</td>\n",
       "      <td>{'alpha': 0.05, 'K': 48}</td>\n",
       "      <td>0.0</td>\n",
       "    </tr>\n",
       "    <tr>\n",
       "      <th>15</th>\n",
       "      <td>Stationarity</td>\n",
       "      <td>ADF</td>\n",
       "      <td>Transformed</td>\n",
       "      <td>Stationarity</td>\n",
       "      <td>{'alpha': 0.05}</td>\n",
       "      <td>False</td>\n",
       "    </tr>\n",
       "    <tr>\n",
       "      <th>16</th>\n",
       "      <td>Stationarity</td>\n",
       "      <td>ADF</td>\n",
       "      <td>Transformed</td>\n",
       "      <td>p-value</td>\n",
       "      <td>{'alpha': 0.05}</td>\n",
       "      <td>0.990433</td>\n",
       "    </tr>\n",
       "    <tr>\n",
       "      <th>17</th>\n",
       "      <td>Stationarity</td>\n",
       "      <td>ADF</td>\n",
       "      <td>Transformed</td>\n",
       "      <td>Test Statistic</td>\n",
       "      <td>{'alpha': 0.05}</td>\n",
       "      <td>0.730795</td>\n",
       "    </tr>\n",
       "    <tr>\n",
       "      <th>18</th>\n",
       "      <td>Stationarity</td>\n",
       "      <td>ADF</td>\n",
       "      <td>Transformed</td>\n",
       "      <td>Critical Value 1%</td>\n",
       "      <td>{'alpha': 0.05}</td>\n",
       "      <td>-3.465244</td>\n",
       "    </tr>\n",
       "    <tr>\n",
       "      <th>19</th>\n",
       "      <td>Stationarity</td>\n",
       "      <td>ADF</td>\n",
       "      <td>Transformed</td>\n",
       "      <td>Critical Value 5%</td>\n",
       "      <td>{'alpha': 0.05}</td>\n",
       "      <td>-2.876875</td>\n",
       "    </tr>\n",
       "    <tr>\n",
       "      <th>20</th>\n",
       "      <td>Stationarity</td>\n",
       "      <td>ADF</td>\n",
       "      <td>Transformed</td>\n",
       "      <td>Critical Value 10%</td>\n",
       "      <td>{'alpha': 0.05}</td>\n",
       "      <td>-2.574945</td>\n",
       "    </tr>\n",
       "    <tr>\n",
       "      <th>21</th>\n",
       "      <td>Stationarity</td>\n",
       "      <td>KPSS</td>\n",
       "      <td>Transformed</td>\n",
       "      <td>Trend Stationarity</td>\n",
       "      <td>{'alpha': 0.05}</td>\n",
       "      <td>False</td>\n",
       "    </tr>\n",
       "    <tr>\n",
       "      <th>22</th>\n",
       "      <td>Stationarity</td>\n",
       "      <td>KPSS</td>\n",
       "      <td>Transformed</td>\n",
       "      <td>p-value</td>\n",
       "      <td>{'alpha': 0.05}</td>\n",
       "      <td>0.01</td>\n",
       "    </tr>\n",
       "    <tr>\n",
       "      <th>23</th>\n",
       "      <td>Stationarity</td>\n",
       "      <td>KPSS</td>\n",
       "      <td>Transformed</td>\n",
       "      <td>Test Statistic</td>\n",
       "      <td>{'alpha': 0.05}</td>\n",
       "      <td>0.338295</td>\n",
       "    </tr>\n",
       "    <tr>\n",
       "      <th>24</th>\n",
       "      <td>Stationarity</td>\n",
       "      <td>KPSS</td>\n",
       "      <td>Transformed</td>\n",
       "      <td>Critical Value 10%</td>\n",
       "      <td>{'alpha': 0.05}</td>\n",
       "      <td>0.119</td>\n",
       "    </tr>\n",
       "    <tr>\n",
       "      <th>25</th>\n",
       "      <td>Stationarity</td>\n",
       "      <td>KPSS</td>\n",
       "      <td>Transformed</td>\n",
       "      <td>Critical Value 5%</td>\n",
       "      <td>{'alpha': 0.05}</td>\n",
       "      <td>0.146</td>\n",
       "    </tr>\n",
       "    <tr>\n",
       "      <th>26</th>\n",
       "      <td>Stationarity</td>\n",
       "      <td>KPSS</td>\n",
       "      <td>Transformed</td>\n",
       "      <td>Critical Value 2.5%</td>\n",
       "      <td>{'alpha': 0.05}</td>\n",
       "      <td>0.176</td>\n",
       "    </tr>\n",
       "    <tr>\n",
       "      <th>27</th>\n",
       "      <td>Stationarity</td>\n",
       "      <td>KPSS</td>\n",
       "      <td>Transformed</td>\n",
       "      <td>Critical Value 1%</td>\n",
       "      <td>{'alpha': 0.05}</td>\n",
       "      <td>0.216</td>\n",
       "    </tr>\n",
       "    <tr>\n",
       "      <th>28</th>\n",
       "      <td>Normality</td>\n",
       "      <td>Shapiro</td>\n",
       "      <td>Transformed</td>\n",
       "      <td>Normality</td>\n",
       "      <td>{'alpha': 0.05}</td>\n",
       "      <td>False</td>\n",
       "    </tr>\n",
       "    <tr>\n",
       "      <th>29</th>\n",
       "      <td>Normality</td>\n",
       "      <td>Shapiro</td>\n",
       "      <td>Transformed</td>\n",
       "      <td>p-value</td>\n",
       "      <td>{'alpha': 0.05}</td>\n",
       "      <td>0.0</td>\n",
       "    </tr>\n",
       "  </tbody>\n",
       "</table>\n",
       "</div>"
      ],
      "text/plain": [
       "            Test   Test Name         Data             Property  \\\n",
       "0        Summary  Statistics  Transformed               Length   \n",
       "1        Summary  Statistics  Transformed     # Missing Values   \n",
       "2        Summary  Statistics  Transformed                 Mean   \n",
       "3        Summary  Statistics  Transformed               Median   \n",
       "4        Summary  Statistics  Transformed   Standard Deviation   \n",
       "5        Summary  Statistics  Transformed             Variance   \n",
       "6        Summary  Statistics  Transformed             Kurtosis   \n",
       "7        Summary  Statistics  Transformed             Skewness   \n",
       "8        Summary  Statistics  Transformed    # Distinct Values   \n",
       "9    White Noise   Ljung-Box  Transformed       Test Statictic   \n",
       "10   White Noise   Ljung-Box  Transformed       Test Statictic   \n",
       "11   White Noise   Ljung-Box  Transformed              p-value   \n",
       "12   White Noise   Ljung-Box  Transformed              p-value   \n",
       "13   White Noise   Ljung-Box  Transformed          White Noise   \n",
       "14   White Noise   Ljung-Box  Transformed          White Noise   \n",
       "15  Stationarity         ADF  Transformed         Stationarity   \n",
       "16  Stationarity         ADF  Transformed              p-value   \n",
       "17  Stationarity         ADF  Transformed       Test Statistic   \n",
       "18  Stationarity         ADF  Transformed    Critical Value 1%   \n",
       "19  Stationarity         ADF  Transformed    Critical Value 5%   \n",
       "20  Stationarity         ADF  Transformed   Critical Value 10%   \n",
       "21  Stationarity        KPSS  Transformed   Trend Stationarity   \n",
       "22  Stationarity        KPSS  Transformed              p-value   \n",
       "23  Stationarity        KPSS  Transformed       Test Statistic   \n",
       "24  Stationarity        KPSS  Transformed   Critical Value 10%   \n",
       "25  Stationarity        KPSS  Transformed    Critical Value 5%   \n",
       "26  Stationarity        KPSS  Transformed  Critical Value 2.5%   \n",
       "27  Stationarity        KPSS  Transformed    Critical Value 1%   \n",
       "28     Normality     Shapiro  Transformed            Normality   \n",
       "29     Normality     Shapiro  Transformed              p-value   \n",
       "\n",
       "                     Setting        Value  \n",
       "0                                   203.0  \n",
       "1                                     0.0  \n",
       "2                              105.075788  \n",
       "3                                   104.1  \n",
       "4                               61.278878  \n",
       "5                             3755.100856  \n",
       "6                               -1.344882  \n",
       "7                                0.223577  \n",
       "8                                   203.0  \n",
       "9   {'alpha': 0.05, 'K': 24}  3684.722748  \n",
       "10  {'alpha': 0.05, 'K': 48}  5256.373583  \n",
       "11  {'alpha': 0.05, 'K': 24}          0.0  \n",
       "12  {'alpha': 0.05, 'K': 48}          0.0  \n",
       "13  {'alpha': 0.05, 'K': 24}          0.0  \n",
       "14  {'alpha': 0.05, 'K': 48}          0.0  \n",
       "15           {'alpha': 0.05}        False  \n",
       "16           {'alpha': 0.05}     0.990433  \n",
       "17           {'alpha': 0.05}     0.730795  \n",
       "18           {'alpha': 0.05}    -3.465244  \n",
       "19           {'alpha': 0.05}    -2.876875  \n",
       "20           {'alpha': 0.05}    -2.574945  \n",
       "21           {'alpha': 0.05}        False  \n",
       "22           {'alpha': 0.05}         0.01  \n",
       "23           {'alpha': 0.05}     0.338295  \n",
       "24           {'alpha': 0.05}        0.119  \n",
       "25           {'alpha': 0.05}        0.146  \n",
       "26           {'alpha': 0.05}        0.176  \n",
       "27           {'alpha': 0.05}        0.216  \n",
       "28           {'alpha': 0.05}        False  \n",
       "29           {'alpha': 0.05}          0.0  "
      ]
     },
     "execution_count": 20,
     "metadata": {},
     "output_type": "execute_result"
    }
   ],
   "source": [
    "exp.check_stats()"
   ]
  },
  {
   "cell_type": "code",
   "execution_count": 21,
   "metadata": {},
   "outputs": [
    {
     "data": {
      "application/vnd.plotly.v1+json": {
       "config": {
        "plotlyServerURL": "https://plot.ly"
       },
       "data": [
        {
         "line": {
          "color": "rgb(31, 119, 180)",
          "width": 2
         },
         "marker": {
          "color": "rgb(31, 119, 180)",
          "size": 5
         },
         "mode": "lines+markers",
         "name": "Actual",
         "showlegend": false,
         "type": "scattergl",
         "x": [
          "1959-01-01T00:00:00",
          "1959-04-01T00:00:00",
          "1959-07-01T00:00:00",
          "1959-10-01T00:00:00",
          "1960-01-01T00:00:00",
          "1960-04-01T00:00:00",
          "1960-07-01T00:00:00",
          "1960-10-01T00:00:00",
          "1961-01-01T00:00:00",
          "1961-04-01T00:00:00",
          "1961-07-01T00:00:00",
          "1961-10-01T00:00:00",
          "1962-01-01T00:00:00",
          "1962-04-01T00:00:00",
          "1962-07-01T00:00:00",
          "1962-10-01T00:00:00",
          "1963-01-01T00:00:00",
          "1963-04-01T00:00:00",
          "1963-07-01T00:00:00",
          "1963-10-01T00:00:00",
          "1964-01-01T00:00:00",
          "1964-04-01T00:00:00",
          "1964-07-01T00:00:00",
          "1964-10-01T00:00:00",
          "1965-01-01T00:00:00",
          "1965-04-01T00:00:00",
          "1965-07-01T00:00:00",
          "1965-10-01T00:00:00",
          "1966-01-01T00:00:00",
          "1966-04-01T00:00:00",
          "1966-07-01T00:00:00",
          "1966-10-01T00:00:00",
          "1967-01-01T00:00:00",
          "1967-04-01T00:00:00",
          "1967-07-01T00:00:00",
          "1967-10-01T00:00:00",
          "1968-01-01T00:00:00",
          "1968-04-01T00:00:00",
          "1968-07-01T00:00:00",
          "1968-10-01T00:00:00",
          "1969-01-01T00:00:00",
          "1969-04-01T00:00:00",
          "1969-07-01T00:00:00",
          "1969-10-01T00:00:00",
          "1970-01-01T00:00:00",
          "1970-04-01T00:00:00",
          "1970-07-01T00:00:00",
          "1970-10-01T00:00:00",
          "1971-01-01T00:00:00",
          "1971-04-01T00:00:00",
          "1971-07-01T00:00:00",
          "1971-10-01T00:00:00",
          "1972-01-01T00:00:00",
          "1972-04-01T00:00:00",
          "1972-07-01T00:00:00",
          "1972-10-01T00:00:00",
          "1973-01-01T00:00:00",
          "1973-04-01T00:00:00",
          "1973-07-01T00:00:00",
          "1973-10-01T00:00:00",
          "1974-01-01T00:00:00",
          "1974-04-01T00:00:00",
          "1974-07-01T00:00:00",
          "1974-10-01T00:00:00",
          "1975-01-01T00:00:00",
          "1975-04-01T00:00:00",
          "1975-07-01T00:00:00",
          "1975-10-01T00:00:00",
          "1976-01-01T00:00:00",
          "1976-04-01T00:00:00",
          "1976-07-01T00:00:00",
          "1976-10-01T00:00:00",
          "1977-01-01T00:00:00",
          "1977-04-01T00:00:00",
          "1977-07-01T00:00:00",
          "1977-10-01T00:00:00",
          "1978-01-01T00:00:00",
          "1978-04-01T00:00:00",
          "1978-07-01T00:00:00",
          "1978-10-01T00:00:00",
          "1979-01-01T00:00:00",
          "1979-04-01T00:00:00",
          "1979-07-01T00:00:00",
          "1979-10-01T00:00:00",
          "1980-01-01T00:00:00",
          "1980-04-01T00:00:00",
          "1980-07-01T00:00:00",
          "1980-10-01T00:00:00",
          "1981-01-01T00:00:00",
          "1981-04-01T00:00:00",
          "1981-07-01T00:00:00",
          "1981-10-01T00:00:00",
          "1982-01-01T00:00:00",
          "1982-04-01T00:00:00",
          "1982-07-01T00:00:00",
          "1982-10-01T00:00:00",
          "1983-01-01T00:00:00",
          "1983-04-01T00:00:00",
          "1983-07-01T00:00:00",
          "1983-10-01T00:00:00",
          "1984-01-01T00:00:00",
          "1984-04-01T00:00:00",
          "1984-07-01T00:00:00",
          "1984-10-01T00:00:00",
          "1985-01-01T00:00:00",
          "1985-04-01T00:00:00",
          "1985-07-01T00:00:00",
          "1985-10-01T00:00:00",
          "1986-01-01T00:00:00",
          "1986-04-01T00:00:00",
          "1986-07-01T00:00:00",
          "1986-10-01T00:00:00",
          "1987-01-01T00:00:00",
          "1987-04-01T00:00:00",
          "1987-07-01T00:00:00",
          "1987-10-01T00:00:00",
          "1988-01-01T00:00:00",
          "1988-04-01T00:00:00",
          "1988-07-01T00:00:00",
          "1988-10-01T00:00:00",
          "1989-01-01T00:00:00",
          "1989-04-01T00:00:00",
          "1989-07-01T00:00:00",
          "1989-10-01T00:00:00",
          "1990-01-01T00:00:00",
          "1990-04-01T00:00:00",
          "1990-07-01T00:00:00",
          "1990-10-01T00:00:00",
          "1991-01-01T00:00:00",
          "1991-04-01T00:00:00",
          "1991-07-01T00:00:00",
          "1991-10-01T00:00:00",
          "1992-01-01T00:00:00",
          "1992-04-01T00:00:00",
          "1992-07-01T00:00:00",
          "1992-10-01T00:00:00",
          "1993-01-01T00:00:00",
          "1993-04-01T00:00:00",
          "1993-07-01T00:00:00",
          "1993-10-01T00:00:00",
          "1994-01-01T00:00:00",
          "1994-04-01T00:00:00",
          "1994-07-01T00:00:00",
          "1994-10-01T00:00:00",
          "1995-01-01T00:00:00",
          "1995-04-01T00:00:00",
          "1995-07-01T00:00:00",
          "1995-10-01T00:00:00",
          "1996-01-01T00:00:00",
          "1996-04-01T00:00:00",
          "1996-07-01T00:00:00",
          "1996-10-01T00:00:00",
          "1997-01-01T00:00:00",
          "1997-04-01T00:00:00",
          "1997-07-01T00:00:00",
          "1997-10-01T00:00:00",
          "1998-01-01T00:00:00",
          "1998-04-01T00:00:00",
          "1998-07-01T00:00:00",
          "1998-10-01T00:00:00",
          "1999-01-01T00:00:00",
          "1999-04-01T00:00:00",
          "1999-07-01T00:00:00",
          "1999-10-01T00:00:00",
          "2000-01-01T00:00:00",
          "2000-04-01T00:00:00",
          "2000-07-01T00:00:00",
          "2000-10-01T00:00:00",
          "2001-01-01T00:00:00",
          "2001-04-01T00:00:00",
          "2001-07-01T00:00:00",
          "2001-10-01T00:00:00",
          "2002-01-01T00:00:00",
          "2002-04-01T00:00:00",
          "2002-07-01T00:00:00",
          "2002-10-01T00:00:00",
          "2003-01-01T00:00:00",
          "2003-04-01T00:00:00",
          "2003-07-01T00:00:00",
          "2003-10-01T00:00:00",
          "2004-01-01T00:00:00",
          "2004-04-01T00:00:00",
          "2004-07-01T00:00:00",
          "2004-10-01T00:00:00",
          "2005-01-01T00:00:00",
          "2005-04-01T00:00:00",
          "2005-07-01T00:00:00",
          "2005-10-01T00:00:00",
          "2006-01-01T00:00:00",
          "2006-04-01T00:00:00",
          "2006-07-01T00:00:00",
          "2006-10-01T00:00:00",
          "2007-01-01T00:00:00",
          "2007-04-01T00:00:00",
          "2007-07-01T00:00:00",
          "2007-10-01T00:00:00",
          "2008-01-01T00:00:00",
          "2008-04-01T00:00:00",
          "2008-07-01T00:00:00",
          "2008-10-01T00:00:00",
          "2009-01-01T00:00:00",
          "2009-04-01T00:00:00",
          "2009-07-01T00:00:00"
         ],
         "xaxis": "x",
         "y": [
          28.98,
          29.15,
          29.35,
          29.37,
          29.54,
          29.55,
          29.75,
          29.84,
          29.81,
          29.92,
          29.98,
          30.04,
          30.21,
          30.22,
          30.38,
          30.44,
          30.48,
          30.69,
          30.75,
          30.94,
          30.95,
          31.02,
          31.12,
          31.28,
          31.38,
          31.58,
          31.65,
          31.88,
          32.28,
          32.45,
          32.85,
          32.9,
          33.1,
          33.4,
          33.7,
          34.1,
          34.4,
          34.9,
          35.3,
          35.7,
          36.3,
          36.8,
          37.3,
          37.9,
          38.5,
          38.9,
          39.4,
          39.9,
          40.1,
          40.6,
          40.9,
          41.2,
          41.5,
          41.8,
          42.2,
          42.7,
          43.7,
          44.2,
          45.6,
          46.8,
          48.1,
          49.3,
          51,
          52.3,
          53,
          54,
          54.9,
          55.8,
          56.1,
          57,
          57.9,
          58.7,
          60,
          60.8,
          61.6,
          62.7,
          63.9,
          65.5,
          67.1,
          68.5,
          70.6,
          73,
          75.2,
          78,
          80.9,
          82.6,
          84.7,
          87.2,
          89.1,
          91.5,
          93.4,
          94.4,
          95,
          97.5,
          98.1,
          97.9,
          98.8,
          99.8,
          100.8,
          102.1,
          103.3,
          104.1,
          105.1,
          105.7,
          107,
          107.7,
          108.5,
          109.9,
          108.7,
          109.5,
          110.2,
          111.4,
          112.7,
          113.8,
          115,
          116,
          117.2,
          118.5,
          119.9,
          121.2,
          123.1,
          124.5,
          125.4,
          127.5,
          128.9,
          130.5,
          133.4,
          134.7,
          135.1,
          136.2,
          137.2,
          138.3,
          139.4,
          140.5,
          141.7,
          142.8,
          143.8,
          144.5,
          145.6,
          146.3,
          147.2,
          148.4,
          149.4,
          150.5,
          151.8,
          152.6,
          153.5,
          154.7,
          156.1,
          157,
          158.2,
          159.4,
          159.9,
          160.4,
          161.5,
          162,
          162.2,
          163.2,
          163.9,
          164.7,
          165.9,
          166.7,
          168.1,
          169.3,
          170.9,
          172.7,
          173.9,
          175.6,
          176.4,
          177.4,
          177.6,
          177.7,
          179.3,
          180,
          181.2,
          182.6,
          183.2,
          183.7,
          184.9,
          186.3,
          187.4,
          189.1,
          190.8,
          191.8,
          193.8,
          194.7,
          199.2,
          199.4,
          200.7,
          202.7,
          201.9,
          203.574,
          205.92,
          207.338,
          209.133,
          212.495,
          213.997,
          218.61,
          216.889,
          212.174,
          212.671,
          214.469,
          216.385
         ],
         "yaxis": "y"
        },
        {
         "line": {
          "color": "#3f3f3f"
         },
         "mode": "lines",
         "name": "Actual",
         "showlegend": false,
         "type": "scattergl",
         "x": [
          0,
          0
         ],
         "xaxis": "x2",
         "y": [
          0,
          1
         ],
         "yaxis": "y2"
        },
        {
         "line": {
          "color": "#3f3f3f"
         },
         "mode": "lines",
         "name": "Actual",
         "showlegend": false,
         "type": "scattergl",
         "x": [
          1,
          1
         ],
         "xaxis": "x2",
         "y": [
          0,
          0.9877957417591859
         ],
         "yaxis": "y2"
        },
        {
         "line": {
          "color": "#3f3f3f"
         },
         "mode": "lines",
         "name": "Actual",
         "showlegend": false,
         "type": "scattergl",
         "x": [
          2,
          2
         ],
         "xaxis": "x2",
         "y": [
          0,
          0.9755806677231829
         ],
         "yaxis": "y2"
        },
        {
         "line": {
          "color": "#3f3f3f"
         },
         "mode": "lines",
         "name": "Actual",
         "showlegend": false,
         "type": "scattergl",
         "x": [
          3,
          3
         ],
         "xaxis": "x2",
         "y": [
          0,
          0.9633754916408562
         ],
         "yaxis": "y2"
        },
        {
         "line": {
          "color": "#3f3f3f"
         },
         "mode": "lines",
         "name": "Actual",
         "showlegend": false,
         "type": "scattergl",
         "x": [
          4,
          4
         ],
         "xaxis": "x2",
         "y": [
          0,
          0.9509571524529443
         ],
         "yaxis": "y2"
        },
        {
         "line": {
          "color": "#3f3f3f"
         },
         "mode": "lines",
         "name": "Actual",
         "showlegend": false,
         "type": "scattergl",
         "x": [
          5,
          5
         ],
         "xaxis": "x2",
         "y": [
          0,
          0.9375968243924525
         ],
         "yaxis": "y2"
        },
        {
         "line": {
          "color": "#3f3f3f"
         },
         "mode": "lines",
         "name": "Actual",
         "showlegend": false,
         "type": "scattergl",
         "x": [
          6,
          6
         ],
         "xaxis": "x2",
         "y": [
          0,
          0.9236908777628566
         ],
         "yaxis": "y2"
        },
        {
         "line": {
          "color": "#3f3f3f"
         },
         "mode": "lines",
         "name": "Actual",
         "showlegend": false,
         "type": "scattergl",
         "x": [
          7,
          7
         ],
         "xaxis": "x2",
         "y": [
          0,
          0.910193666648494
         ],
         "yaxis": "y2"
        },
        {
         "line": {
          "color": "#3f3f3f"
         },
         "mode": "lines",
         "name": "Actual",
         "showlegend": false,
         "type": "scattergl",
         "x": [
          8,
          8
         ],
         "xaxis": "x2",
         "y": [
          0,
          0.8966577560331536
         ],
         "yaxis": "y2"
        },
        {
         "line": {
          "color": "#3f3f3f"
         },
         "mode": "lines",
         "name": "Actual",
         "showlegend": false,
         "type": "scattergl",
         "x": [
          9,
          9
         ],
         "xaxis": "x2",
         "y": [
          0,
          0.883338712621009
         ],
         "yaxis": "y2"
        },
        {
         "line": {
          "color": "#3f3f3f"
         },
         "mode": "lines",
         "name": "Actual",
         "showlegend": false,
         "type": "scattergl",
         "x": [
          10,
          10
         ],
         "xaxis": "x2",
         "y": [
          0,
          0.8700089095842394
         ],
         "yaxis": "y2"
        },
        {
         "line": {
          "color": "#3f3f3f"
         },
         "mode": "lines",
         "name": "Actual",
         "showlegend": false,
         "type": "scattergl",
         "x": [
          11,
          11
         ],
         "xaxis": "x2",
         "y": [
          0,
          0.856637659850713
         ],
         "yaxis": "y2"
        },
        {
         "line": {
          "color": "#3f3f3f"
         },
         "mode": "lines",
         "name": "Actual",
         "showlegend": false,
         "type": "scattergl",
         "x": [
          12,
          12
         ],
         "xaxis": "x2",
         "y": [
          0,
          0.8433430324599505
         ],
         "yaxis": "y2"
        },
        {
         "line": {
          "color": "#3f3f3f"
         },
         "mode": "lines",
         "name": "Actual",
         "showlegend": false,
         "type": "scattergl",
         "x": [
          13,
          13
         ],
         "xaxis": "x2",
         "y": [
          0,
          0.8300670134269891
         ],
         "yaxis": "y2"
        },
        {
         "line": {
          "color": "#3f3f3f"
         },
         "mode": "lines",
         "name": "Actual",
         "showlegend": false,
         "type": "scattergl",
         "x": [
          14,
          14
         ],
         "xaxis": "x2",
         "y": [
          0,
          0.8164359964648625
         ],
         "yaxis": "y2"
        },
        {
         "line": {
          "color": "#3f3f3f"
         },
         "mode": "lines",
         "name": "Actual",
         "showlegend": false,
         "type": "scattergl",
         "x": [
          15,
          15
         ],
         "xaxis": "x2",
         "y": [
          0,
          0.8028594524035343
         ],
         "yaxis": "y2"
        },
        {
         "line": {
          "color": "#3f3f3f"
         },
         "mode": "lines",
         "name": "Actual",
         "showlegend": false,
         "type": "scattergl",
         "x": [
          16,
          16
         ],
         "xaxis": "x2",
         "y": [
          0,
          0.7892400681626925
         ],
         "yaxis": "y2"
        },
        {
         "line": {
          "color": "#3f3f3f"
         },
         "mode": "lines",
         "name": "Actual",
         "showlegend": false,
         "type": "scattergl",
         "x": [
          17,
          17
         ],
         "xaxis": "x2",
         "y": [
          0,
          0.7754001019490078
         ],
         "yaxis": "y2"
        },
        {
         "line": {
          "color": "#3f3f3f"
         },
         "mode": "lines",
         "name": "Actual",
         "showlegend": false,
         "type": "scattergl",
         "x": [
          18,
          18
         ],
         "xaxis": "x2",
         "y": [
          0,
          0.7619981770855508
         ],
         "yaxis": "y2"
        },
        {
         "line": {
          "color": "#3f3f3f"
         },
         "mode": "lines",
         "name": "Actual",
         "showlegend": false,
         "type": "scattergl",
         "x": [
          19,
          19
         ],
         "xaxis": "x2",
         "y": [
          0,
          0.7484998470355853
         ],
         "yaxis": "y2"
        },
        {
         "line": {
          "color": "#3f3f3f"
         },
         "mode": "lines",
         "name": "Actual",
         "showlegend": false,
         "type": "scattergl",
         "x": [
          20,
          20
         ],
         "xaxis": "x2",
         "y": [
          0,
          0.7350702723384231
         ],
         "yaxis": "y2"
        },
        {
         "line": {
          "color": "#3f3f3f"
         },
         "mode": "lines",
         "name": "Actual",
         "showlegend": false,
         "type": "scattergl",
         "x": [
          21,
          21
         ],
         "xaxis": "x2",
         "y": [
          0,
          0.7215482534454797
         ],
         "yaxis": "y2"
        },
        {
         "line": {
          "color": "#3f3f3f"
         },
         "mode": "lines",
         "name": "Actual",
         "showlegend": false,
         "type": "scattergl",
         "x": [
          22,
          22
         ],
         "xaxis": "x2",
         "y": [
          0,
          0.7080407596996693
         ],
         "yaxis": "y2"
        },
        {
         "line": {
          "color": "#3f3f3f"
         },
         "mode": "lines",
         "name": "Actual",
         "showlegend": false,
         "type": "scattergl",
         "x": [
          23,
          23
         ],
         "xaxis": "x2",
         "y": [
          0,
          0.6945462633752797
         ],
         "yaxis": "y2"
        },
        {
         "line": {
          "color": "#3f3f3f"
         },
         "mode": "lines",
         "name": "Actual",
         "showlegend": false,
         "type": "scattergl",
         "x": [
          24,
          24
         ],
         "xaxis": "x2",
         "y": [
          0,
          0.680992148949223
         ],
         "yaxis": "y2"
        },
        {
         "line": {
          "color": "#3f3f3f"
         },
         "mode": "lines",
         "name": "Actual",
         "showlegend": false,
         "type": "scattergl",
         "x": [
          25,
          25
         ],
         "xaxis": "x2",
         "y": [
          0,
          0.6674240883121657
         ],
         "yaxis": "y2"
        },
        {
         "line": {
          "color": "#3f3f3f"
         },
         "mode": "lines",
         "name": "Actual",
         "showlegend": false,
         "type": "scattergl",
         "x": [
          26,
          26
         ],
         "xaxis": "x2",
         "y": [
          0,
          0.6538267403993814
         ],
         "yaxis": "y2"
        },
        {
         "line": {
          "color": "#3f3f3f"
         },
         "mode": "lines",
         "name": "Actual",
         "showlegend": false,
         "type": "scattergl",
         "x": [
          27,
          27
         ],
         "xaxis": "x2",
         "y": [
          0,
          0.6400870864000152
         ],
         "yaxis": "y2"
        },
        {
         "line": {
          "color": "#3f3f3f"
         },
         "mode": "lines",
         "name": "Actual",
         "showlegend": false,
         "type": "scattergl",
         "x": [
          28,
          28
         ],
         "xaxis": "x2",
         "y": [
          0,
          0.6262312231560635
         ],
         "yaxis": "y2"
        },
        {
         "line": {
          "color": "#3f3f3f"
         },
         "mode": "lines",
         "name": "Actual",
         "showlegend": false,
         "type": "scattergl",
         "x": [
          29,
          29
         ],
         "xaxis": "x2",
         "y": [
          0,
          0.6123840730923077
         ],
         "yaxis": "y2"
        },
        {
         "line": {
          "color": "#3f3f3f"
         },
         "mode": "lines",
         "name": "Actual",
         "showlegend": false,
         "type": "scattergl",
         "x": [
          30,
          30
         ],
         "xaxis": "x2",
         "y": [
          0,
          0.5984995505477169
         ],
         "yaxis": "y2"
        },
        {
         "line": {
          "color": "#3f3f3f"
         },
         "mode": "lines",
         "name": "Actual",
         "showlegend": false,
         "type": "scattergl",
         "x": [
          31,
          31
         ],
         "xaxis": "x2",
         "y": [
          0,
          0.5845304723429345
         ],
         "yaxis": "y2"
        },
        {
         "line": {
          "color": "#3f3f3f"
         },
         "mode": "lines",
         "name": "Actual",
         "showlegend": false,
         "type": "scattergl",
         "x": [
          32,
          32
         ],
         "xaxis": "x2",
         "y": [
          0,
          0.5705785890044242
         ],
         "yaxis": "y2"
        },
        {
         "line": {
          "color": "#3f3f3f"
         },
         "mode": "lines",
         "name": "Actual",
         "showlegend": false,
         "type": "scattergl",
         "x": [
          33,
          33
         ],
         "xaxis": "x2",
         "y": [
          0,
          0.5564426051655551
         ],
         "yaxis": "y2"
        },
        {
         "line": {
          "color": "#3f3f3f"
         },
         "mode": "lines",
         "name": "Actual",
         "showlegend": false,
         "type": "scattergl",
         "x": [
          34,
          34
         ],
         "xaxis": "x2",
         "y": [
          0,
          0.5421469545216182
         ],
         "yaxis": "y2"
        },
        {
         "line": {
          "color": "#3f3f3f"
         },
         "mode": "lines",
         "name": "Actual",
         "showlegend": false,
         "type": "scattergl",
         "x": [
          35,
          35
         ],
         "xaxis": "x2",
         "y": [
          0,
          0.527811602301052
         ],
         "yaxis": "y2"
        },
        {
         "line": {
          "color": "#3f3f3f"
         },
         "mode": "lines",
         "name": "Actual",
         "showlegend": false,
         "type": "scattergl",
         "x": [
          36,
          36
         ],
         "xaxis": "x2",
         "y": [
          0,
          0.5134157645456775
         ],
         "yaxis": "y2"
        },
        {
         "line": {
          "color": "#3f3f3f"
         },
         "mode": "lines",
         "name": "Actual",
         "showlegend": false,
         "type": "scattergl",
         "x": [
          37,
          37
         ],
         "xaxis": "x2",
         "y": [
          0,
          0.499086330059511
         ],
         "yaxis": "y2"
        },
        {
         "line": {
          "color": "#3f3f3f"
         },
         "mode": "lines",
         "name": "Actual",
         "showlegend": false,
         "type": "scattergl",
         "x": [
          38,
          38
         ],
         "xaxis": "x2",
         "y": [
          0,
          0.4847599424497232
         ],
         "yaxis": "y2"
        },
        {
         "line": {
          "color": "#3f3f3f"
         },
         "mode": "lines",
         "name": "Actual",
         "showlegend": false,
         "type": "scattergl",
         "x": [
          39,
          39
         ],
         "xaxis": "x2",
         "y": [
          0,
          0.47051679962328335
         ],
         "yaxis": "y2"
        },
        {
         "line": {
          "color": "#3f3f3f"
         },
         "mode": "lines",
         "name": "Actual",
         "showlegend": false,
         "type": "scattergl",
         "x": [
          40,
          40
         ],
         "xaxis": "x2",
         "y": [
          0,
          0.4563361105309082
         ],
         "yaxis": "y2"
        },
        {
         "marker": {
          "color": "#1f77b4",
          "size": 6
         },
         "mode": "markers",
         "name": "Actual",
         "showlegend": false,
         "type": "scattergl",
         "x": [
          0,
          1,
          2,
          3,
          4,
          5,
          6,
          7,
          8,
          9,
          10,
          11,
          12,
          13,
          14,
          15,
          16,
          17,
          18,
          19,
          20,
          21,
          22,
          23,
          24,
          25,
          26,
          27,
          28,
          29,
          30,
          31,
          32,
          33,
          34,
          35,
          36,
          37,
          38,
          39,
          40
         ],
         "xaxis": "x2",
         "y": [
          1,
          0.9877957417591859,
          0.9755806677231829,
          0.9633754916408562,
          0.9509571524529443,
          0.9375968243924525,
          0.9236908777628566,
          0.910193666648494,
          0.8966577560331536,
          0.883338712621009,
          0.8700089095842394,
          0.856637659850713,
          0.8433430324599505,
          0.8300670134269891,
          0.8164359964648625,
          0.8028594524035343,
          0.7892400681626925,
          0.7754001019490078,
          0.7619981770855508,
          0.7484998470355853,
          0.7350702723384231,
          0.7215482534454797,
          0.7080407596996693,
          0.6945462633752797,
          0.680992148949223,
          0.6674240883121657,
          0.6538267403993814,
          0.6400870864000152,
          0.6262312231560635,
          0.6123840730923077,
          0.5984995505477169,
          0.5845304723429345,
          0.5705785890044242,
          0.5564426051655551,
          0.5421469545216182,
          0.527811602301052,
          0.5134157645456775,
          0.499086330059511,
          0.4847599424497232,
          0.47051679962328335,
          0.4563361105309082
         ],
         "yaxis": "y2"
        },
        {
         "line": {
          "color": "rgba(255,255,255,0)"
         },
         "mode": "lines",
         "name": "UC",
         "showlegend": false,
         "type": "scatter",
         "x": [
          0,
          1,
          2,
          3,
          4,
          5,
          6,
          7,
          8,
          9,
          10,
          11,
          12,
          13,
          14,
          15,
          16,
          17,
          18,
          19,
          20,
          21,
          22,
          23,
          24,
          25,
          26,
          27,
          28,
          29,
          30,
          31,
          32,
          33,
          34,
          35,
          36,
          37,
          38,
          39,
          40
         ],
         "xaxis": "x2",
         "y": [
          0,
          0.1375625038536067,
          0.23633065427093491,
          0.303105988070702,
          0.3563686909981718,
          0.40152748374480673,
          0.4410159353225481,
          0.47622074768290124,
          0.5080753363159701,
          0.5371864281600858,
          0.5640041680219878,
          0.5888527791247513,
          0.6119809657151585,
          0.6335917034107931,
          0.6538465997505564,
          0.6728617156756785,
          0.6907520238252578,
          0.7076108949827948,
          0.7235111893184869,
          0.7385417405813528,
          0.7527600523099226,
          0.766222839355119,
          0.7789747970774145,
          0.7910595425342368,
          0.8025162486960844,
          0.8133780387527391,
          0.82367646244465,
          0.8334398941505781,
          0.8426911417191733,
          0.8514520565379932,
          0.8597463148297979,
          0.8675946892648012,
          0.8750153783185588,
          0.8820279708494434,
          0.8886460548270991,
          0.8948831727338269,
          0.9007549448066888,
          0.9062757574325673,
          0.9114619694624738,
          0.9163278041171852,
          0.920888384815798
         ],
         "yaxis": "y2"
        },
        {
         "fill": "tonexty",
         "fillcolor": "rgba(32, 146, 230,0.3)",
         "line": {
          "color": "rgba(255,255,255,0)"
         },
         "mode": "lines",
         "name": "LC",
         "showlegend": false,
         "type": "scatter",
         "x": [
          0,
          1,
          2,
          3,
          4,
          5,
          6,
          7,
          8,
          9,
          10,
          11,
          12,
          13,
          14,
          15,
          16,
          17,
          18,
          19,
          20,
          21,
          22,
          23,
          24,
          25,
          26,
          27,
          28,
          29,
          30,
          31,
          32,
          33,
          34,
          35,
          36,
          37,
          38,
          39,
          40
         ],
         "xaxis": "x2",
         "y": [
          0,
          -0.13756250385360658,
          -0.23633065427093503,
          -0.303105988070702,
          -0.3563686909981718,
          -0.40152748374480673,
          -0.4410159353225481,
          -0.4762207476829011,
          -0.50807533631597,
          -0.5371864281600857,
          -0.5640041680219878,
          -0.5888527791247514,
          -0.6119809657151585,
          -0.6335917034107931,
          -0.6538465997505564,
          -0.6728617156756784,
          -0.6907520238252578,
          -0.707610894982795,
          -0.723511189318487,
          -0.7385417405813528,
          -0.7527600523099227,
          -0.766222839355119,
          -0.7789747970774145,
          -0.7910595425342368,
          -0.8025162486960843,
          -0.8133780387527391,
          -0.8236764624446499,
          -0.8334398941505781,
          -0.8426911417191733,
          -0.8514520565379932,
          -0.859746314829798,
          -0.8675946892648012,
          -0.8750153783185588,
          -0.8820279708494435,
          -0.8886460548270991,
          -0.894883172733827,
          -0.9007549448066888,
          -0.9062757574325674,
          -0.9114619694624738,
          -0.9163278041171851,
          -0.920888384815798
         ],
         "yaxis": "y2"
        },
        {
         "line": {
          "color": "#3f3f3f"
         },
         "mode": "lines",
         "name": "Actual",
         "showlegend": false,
         "type": "scattergl",
         "x": [
          0,
          0
         ],
         "xaxis": "x3",
         "y": [
          0,
          1
         ],
         "yaxis": "y3"
        },
        {
         "line": {
          "color": "#3f3f3f"
         },
         "mode": "lines",
         "name": "Actual",
         "showlegend": false,
         "type": "scattergl",
         "x": [
          1,
          1
         ],
         "xaxis": "x3",
         "y": [
          0,
          0.992685819688687
         ],
         "yaxis": "y3"
        },
        {
         "line": {
          "color": "#3f3f3f"
         },
         "mode": "lines",
         "name": "Actual",
         "showlegend": false,
         "type": "scattergl",
         "x": [
          2,
          2
         ],
         "xaxis": "x3",
         "y": [
          0,
          -0.009413368657513714
         ],
         "yaxis": "y3"
        },
        {
         "line": {
          "color": "#3f3f3f"
         },
         "mode": "lines",
         "name": "Actual",
         "showlegend": false,
         "type": "scattergl",
         "x": [
          3,
          3
         ],
         "xaxis": "x3",
         "y": [
          0,
          -0.00808060475505889
         ],
         "yaxis": "y3"
        },
        {
         "line": {
          "color": "#3f3f3f"
         },
         "mode": "lines",
         "name": "Actual",
         "showlegend": false,
         "type": "scattergl",
         "x": [
          4,
          4
         ],
         "xaxis": "x3",
         "y": [
          0,
          -0.023791173906704266
         ],
         "yaxis": "y3"
        },
        {
         "line": {
          "color": "#3f3f3f"
         },
         "mode": "lines",
         "name": "Actual",
         "showlegend": false,
         "type": "scattergl",
         "x": [
          5,
          5
         ],
         "xaxis": "x3",
         "y": [
          0,
          -0.07538527888972121
         ],
         "yaxis": "y3"
        },
        {
         "line": {
          "color": "#3f3f3f"
         },
         "mode": "lines",
         "name": "Actual",
         "showlegend": false,
         "type": "scattergl",
         "x": [
          6,
          6
         ],
         "xaxis": "x3",
         "y": [
          0,
          -0.04868036125397515
         ],
         "yaxis": "y3"
        },
        {
         "line": {
          "color": "#3f3f3f"
         },
         "mode": "lines",
         "name": "Actual",
         "showlegend": false,
         "type": "scattergl",
         "x": [
          7,
          7
         ],
         "xaxis": "x3",
         "y": [
          0,
          0.01884606198334699
         ],
         "yaxis": "y3"
        },
        {
         "line": {
          "color": "#3f3f3f"
         },
         "mode": "lines",
         "name": "Actual",
         "showlegend": false,
         "type": "scattergl",
         "x": [
          8,
          8
         ],
         "xaxis": "x3",
         "y": [
          0,
          -0.010974726214060503
         ],
         "yaxis": "y3"
        },
        {
         "line": {
          "color": "#3f3f3f"
         },
         "mode": "lines",
         "name": "Actual",
         "showlegend": false,
         "type": "scattergl",
         "x": [
          9,
          9
         ],
         "xaxis": "x3",
         "y": [
          0,
          0.010963565193708889
         ],
         "yaxis": "y3"
        },
        {
         "line": {
          "color": "#3f3f3f"
         },
         "mode": "lines",
         "name": "Actual",
         "showlegend": false,
         "type": "scattergl",
         "x": [
          10,
          10
         ],
         "xaxis": "x3",
         "y": [
          0,
          -0.006622538663351613
         ],
         "yaxis": "y3"
        },
        {
         "line": {
          "color": "#3f3f3f"
         },
         "mode": "lines",
         "name": "Actual",
         "showlegend": false,
         "type": "scattergl",
         "x": [
          11,
          11
         ],
         "xaxis": "x3",
         "y": [
          0,
          -0.015614603795542978
         ],
         "yaxis": "y3"
        },
        {
         "line": {
          "color": "#3f3f3f"
         },
         "mode": "lines",
         "name": "Actual",
         "showlegend": false,
         "type": "scattergl",
         "x": [
          12,
          12
         ],
         "xaxis": "x3",
         "y": [
          0,
          -0.007452954546110195
         ],
         "yaxis": "y3"
        },
        {
         "line": {
          "color": "#3f3f3f"
         },
         "mode": "lines",
         "name": "Actual",
         "showlegend": false,
         "type": "scattergl",
         "x": [
          13,
          13
         ],
         "xaxis": "x3",
         "y": [
          0,
          -0.010736226783492044
         ],
         "yaxis": "y3"
        },
        {
         "line": {
          "color": "#3f3f3f"
         },
         "mode": "lines",
         "name": "Actual",
         "showlegend": false,
         "type": "scattergl",
         "x": [
          14,
          14
         ],
         "xaxis": "x3",
         "y": [
          0,
          -0.03877544976718061
         ],
         "yaxis": "y3"
        },
        {
         "line": {
          "color": "#3f3f3f"
         },
         "mode": "lines",
         "name": "Actual",
         "showlegend": false,
         "type": "scattergl",
         "x": [
          15,
          15
         ],
         "xaxis": "x3",
         "y": [
          0,
          -0.005906962235462188
         ],
         "yaxis": "y3"
        },
        {
         "line": {
          "color": "#3f3f3f"
         },
         "mode": "lines",
         "name": "Actual",
         "showlegend": false,
         "type": "scattergl",
         "x": [
          16,
          16
         ],
         "xaxis": "x3",
         "y": [
          0,
          -0.014850491171912405
         ],
         "yaxis": "y3"
        },
        {
         "line": {
          "color": "#3f3f3f"
         },
         "mode": "lines",
         "name": "Actual",
         "showlegend": false,
         "type": "scattergl",
         "x": [
          17,
          17
         ],
         "xaxis": "x3",
         "y": [
          0,
          -0.0277965417687969
         ],
         "yaxis": "y3"
        },
        {
         "line": {
          "color": "#3f3f3f"
         },
         "mode": "lines",
         "name": "Actual",
         "showlegend": false,
         "type": "scattergl",
         "x": [
          18,
          18
         ],
         "xaxis": "x3",
         "y": [
          0,
          0.025153853563321598
         ],
         "yaxis": "y3"
        },
        {
         "line": {
          "color": "#3f3f3f"
         },
         "mode": "lines",
         "name": "Actual",
         "showlegend": false,
         "type": "scattergl",
         "x": [
          19,
          19
         ],
         "xaxis": "x3",
         "y": [
          0,
          -0.017411620792485965
         ],
         "yaxis": "y3"
        },
        {
         "line": {
          "color": "#3f3f3f"
         },
         "mode": "lines",
         "name": "Actual",
         "showlegend": false,
         "type": "scattergl",
         "x": [
          20,
          20
         ],
         "xaxis": "x3",
         "y": [
          0,
          -0.0074078572621451505
         ],
         "yaxis": "y3"
        },
        {
         "line": {
          "color": "#3f3f3f"
         },
         "mode": "lines",
         "name": "Actual",
         "showlegend": false,
         "type": "scattergl",
         "x": [
          21,
          21
         ],
         "xaxis": "x3",
         "y": [
          0,
          -0.017196497171835214
         ],
         "yaxis": "y3"
        },
        {
         "line": {
          "color": "#3f3f3f"
         },
         "mode": "lines",
         "name": "Actual",
         "showlegend": false,
         "type": "scattergl",
         "x": [
          22,
          22
         ],
         "xaxis": "x3",
         "y": [
          0,
          -0.01571415414206279
         ],
         "yaxis": "y3"
        },
        {
         "line": {
          "color": "#3f3f3f"
         },
         "mode": "lines",
         "name": "Actual",
         "showlegend": false,
         "type": "scattergl",
         "x": [
          23,
          23
         ],
         "xaxis": "x3",
         "y": [
          0,
          -0.014379396309728206
         ],
         "yaxis": "y3"
        },
        {
         "marker": {
          "color": "#1f77b4",
          "size": 6
         },
         "mode": "markers",
         "name": "Actual",
         "showlegend": false,
         "type": "scattergl",
         "x": [
          0,
          1,
          2,
          3,
          4,
          5,
          6,
          7,
          8,
          9,
          10,
          11,
          12,
          13,
          14,
          15,
          16,
          17,
          18,
          19,
          20,
          21,
          22,
          23
         ],
         "xaxis": "x3",
         "y": [
          1,
          0.992685819688687,
          -0.009413368657513714,
          -0.00808060475505889,
          -0.023791173906704266,
          -0.07538527888972121,
          -0.04868036125397515,
          0.01884606198334699,
          -0.010974726214060503,
          0.010963565193708889,
          -0.006622538663351613,
          -0.015614603795542978,
          -0.007452954546110195,
          -0.010736226783492044,
          -0.03877544976718061,
          -0.005906962235462188,
          -0.014850491171912405,
          -0.0277965417687969,
          0.025153853563321598,
          -0.017411620792485965,
          -0.0074078572621451505,
          -0.017196497171835214,
          -0.01571415414206279,
          -0.014379396309728206
         ],
         "yaxis": "y3"
        },
        {
         "line": {
          "color": "rgba(255,255,255,0)"
         },
         "mode": "lines",
         "name": "UC",
         "showlegend": false,
         "type": "scatter",
         "x": [
          0,
          1,
          2,
          3,
          4,
          5,
          6,
          7,
          8,
          9,
          10,
          11,
          12,
          13,
          14,
          15,
          16,
          17,
          18,
          19,
          20,
          21,
          22,
          23
         ],
         "xaxis": "x3",
         "y": [
          0,
          0.13756250385360658,
          0.13756250385360658,
          0.13756250385360658,
          0.13756250385360658,
          0.13756250385360658,
          0.13756250385360658,
          0.13756250385360658,
          0.13756250385360658,
          0.13756250385360658,
          0.13756250385360658,
          0.13756250385360658,
          0.13756250385360658,
          0.13756250385360658,
          0.13756250385360658,
          0.13756250385360658,
          0.13756250385360658,
          0.13756250385360658,
          0.13756250385360658,
          0.13756250385360658,
          0.13756250385360658,
          0.13756250385360658,
          0.13756250385360658,
          0.13756250385360658
         ],
         "yaxis": "y3"
        },
        {
         "fill": "tonexty",
         "fillcolor": "rgba(32, 146, 230,0.3)",
         "line": {
          "color": "rgba(255,255,255,0)"
         },
         "mode": "lines",
         "name": "LC",
         "showlegend": false,
         "type": "scatter",
         "x": [
          0,
          1,
          2,
          3,
          4,
          5,
          6,
          7,
          8,
          9,
          10,
          11,
          12,
          13,
          14,
          15,
          16,
          17,
          18,
          19,
          20,
          21,
          22,
          23
         ],
         "xaxis": "x3",
         "y": [
          0,
          -0.13756250385360658,
          -0.13756250385360658,
          -0.13756250385360658,
          -0.13756250385360658,
          -0.13756250385360658,
          -0.13756250385360658,
          -0.13756250385360658,
          -0.13756250385360658,
          -0.13756250385360658,
          -0.13756250385360658,
          -0.13756250385360658,
          -0.13756250385360658,
          -0.13756250385360658,
          -0.13756250385360658,
          -0.13756250385360658,
          -0.13756250385360658,
          -0.13756250385360658,
          -0.13756250385360658,
          -0.13756250385360658,
          -0.13756250385360658,
          -0.13756250385360658,
          -0.13756250385360658,
          -0.13756250385360658
         ],
         "yaxis": "y3"
        },
        {
         "line": {
          "color": "rgb(31, 119, 180)",
          "width": 2
         },
         "marker": {
          "color": "rgb(31, 119, 180)",
          "size": 5
         },
         "mode": "lines+markers",
         "name": "Order=1",
         "showlegend": false,
         "type": "scattergl",
         "x": [
          "1959-04-01T00:00:00",
          "1959-07-01T00:00:00",
          "1959-10-01T00:00:00",
          "1960-01-01T00:00:00",
          "1960-04-01T00:00:00",
          "1960-07-01T00:00:00",
          "1960-10-01T00:00:00",
          "1961-01-01T00:00:00",
          "1961-04-01T00:00:00",
          "1961-07-01T00:00:00",
          "1961-10-01T00:00:00",
          "1962-01-01T00:00:00",
          "1962-04-01T00:00:00",
          "1962-07-01T00:00:00",
          "1962-10-01T00:00:00",
          "1963-01-01T00:00:00",
          "1963-04-01T00:00:00",
          "1963-07-01T00:00:00",
          "1963-10-01T00:00:00",
          "1964-01-01T00:00:00",
          "1964-04-01T00:00:00",
          "1964-07-01T00:00:00",
          "1964-10-01T00:00:00",
          "1965-01-01T00:00:00",
          "1965-04-01T00:00:00",
          "1965-07-01T00:00:00",
          "1965-10-01T00:00:00",
          "1966-01-01T00:00:00",
          "1966-04-01T00:00:00",
          "1966-07-01T00:00:00",
          "1966-10-01T00:00:00",
          "1967-01-01T00:00:00",
          "1967-04-01T00:00:00",
          "1967-07-01T00:00:00",
          "1967-10-01T00:00:00",
          "1968-01-01T00:00:00",
          "1968-04-01T00:00:00",
          "1968-07-01T00:00:00",
          "1968-10-01T00:00:00",
          "1969-01-01T00:00:00",
          "1969-04-01T00:00:00",
          "1969-07-01T00:00:00",
          "1969-10-01T00:00:00",
          "1970-01-01T00:00:00",
          "1970-04-01T00:00:00",
          "1970-07-01T00:00:00",
          "1970-10-01T00:00:00",
          "1971-01-01T00:00:00",
          "1971-04-01T00:00:00",
          "1971-07-01T00:00:00",
          "1971-10-01T00:00:00",
          "1972-01-01T00:00:00",
          "1972-04-01T00:00:00",
          "1972-07-01T00:00:00",
          "1972-10-01T00:00:00",
          "1973-01-01T00:00:00",
          "1973-04-01T00:00:00",
          "1973-07-01T00:00:00",
          "1973-10-01T00:00:00",
          "1974-01-01T00:00:00",
          "1974-04-01T00:00:00",
          "1974-07-01T00:00:00",
          "1974-10-01T00:00:00",
          "1975-01-01T00:00:00",
          "1975-04-01T00:00:00",
          "1975-07-01T00:00:00",
          "1975-10-01T00:00:00",
          "1976-01-01T00:00:00",
          "1976-04-01T00:00:00",
          "1976-07-01T00:00:00",
          "1976-10-01T00:00:00",
          "1977-01-01T00:00:00",
          "1977-04-01T00:00:00",
          "1977-07-01T00:00:00",
          "1977-10-01T00:00:00",
          "1978-01-01T00:00:00",
          "1978-04-01T00:00:00",
          "1978-07-01T00:00:00",
          "1978-10-01T00:00:00",
          "1979-01-01T00:00:00",
          "1979-04-01T00:00:00",
          "1979-07-01T00:00:00",
          "1979-10-01T00:00:00",
          "1980-01-01T00:00:00",
          "1980-04-01T00:00:00",
          "1980-07-01T00:00:00",
          "1980-10-01T00:00:00",
          "1981-01-01T00:00:00",
          "1981-04-01T00:00:00",
          "1981-07-01T00:00:00",
          "1981-10-01T00:00:00",
          "1982-01-01T00:00:00",
          "1982-04-01T00:00:00",
          "1982-07-01T00:00:00",
          "1982-10-01T00:00:00",
          "1983-01-01T00:00:00",
          "1983-04-01T00:00:00",
          "1983-07-01T00:00:00",
          "1983-10-01T00:00:00",
          "1984-01-01T00:00:00",
          "1984-04-01T00:00:00",
          "1984-07-01T00:00:00",
          "1984-10-01T00:00:00",
          "1985-01-01T00:00:00",
          "1985-04-01T00:00:00",
          "1985-07-01T00:00:00",
          "1985-10-01T00:00:00",
          "1986-01-01T00:00:00",
          "1986-04-01T00:00:00",
          "1986-07-01T00:00:00",
          "1986-10-01T00:00:00",
          "1987-01-01T00:00:00",
          "1987-04-01T00:00:00",
          "1987-07-01T00:00:00",
          "1987-10-01T00:00:00",
          "1988-01-01T00:00:00",
          "1988-04-01T00:00:00",
          "1988-07-01T00:00:00",
          "1988-10-01T00:00:00",
          "1989-01-01T00:00:00",
          "1989-04-01T00:00:00",
          "1989-07-01T00:00:00",
          "1989-10-01T00:00:00",
          "1990-01-01T00:00:00",
          "1990-04-01T00:00:00",
          "1990-07-01T00:00:00",
          "1990-10-01T00:00:00",
          "1991-01-01T00:00:00",
          "1991-04-01T00:00:00",
          "1991-07-01T00:00:00",
          "1991-10-01T00:00:00",
          "1992-01-01T00:00:00",
          "1992-04-01T00:00:00",
          "1992-07-01T00:00:00",
          "1992-10-01T00:00:00",
          "1993-01-01T00:00:00",
          "1993-04-01T00:00:00",
          "1993-07-01T00:00:00",
          "1993-10-01T00:00:00",
          "1994-01-01T00:00:00",
          "1994-04-01T00:00:00",
          "1994-07-01T00:00:00",
          "1994-10-01T00:00:00",
          "1995-01-01T00:00:00",
          "1995-04-01T00:00:00",
          "1995-07-01T00:00:00",
          "1995-10-01T00:00:00",
          "1996-01-01T00:00:00",
          "1996-04-01T00:00:00",
          "1996-07-01T00:00:00",
          "1996-10-01T00:00:00",
          "1997-01-01T00:00:00",
          "1997-04-01T00:00:00",
          "1997-07-01T00:00:00",
          "1997-10-01T00:00:00",
          "1998-01-01T00:00:00",
          "1998-04-01T00:00:00",
          "1998-07-01T00:00:00",
          "1998-10-01T00:00:00",
          "1999-01-01T00:00:00",
          "1999-04-01T00:00:00",
          "1999-07-01T00:00:00",
          "1999-10-01T00:00:00",
          "2000-01-01T00:00:00",
          "2000-04-01T00:00:00",
          "2000-07-01T00:00:00",
          "2000-10-01T00:00:00",
          "2001-01-01T00:00:00",
          "2001-04-01T00:00:00",
          "2001-07-01T00:00:00",
          "2001-10-01T00:00:00",
          "2002-01-01T00:00:00",
          "2002-04-01T00:00:00",
          "2002-07-01T00:00:00",
          "2002-10-01T00:00:00",
          "2003-01-01T00:00:00",
          "2003-04-01T00:00:00",
          "2003-07-01T00:00:00",
          "2003-10-01T00:00:00",
          "2004-01-01T00:00:00",
          "2004-04-01T00:00:00",
          "2004-07-01T00:00:00",
          "2004-10-01T00:00:00",
          "2005-01-01T00:00:00",
          "2005-04-01T00:00:00",
          "2005-07-01T00:00:00",
          "2005-10-01T00:00:00",
          "2006-01-01T00:00:00",
          "2006-04-01T00:00:00",
          "2006-07-01T00:00:00",
          "2006-10-01T00:00:00",
          "2007-01-01T00:00:00",
          "2007-04-01T00:00:00",
          "2007-07-01T00:00:00",
          "2007-10-01T00:00:00",
          "2008-01-01T00:00:00",
          "2008-04-01T00:00:00",
          "2008-07-01T00:00:00",
          "2008-10-01T00:00:00",
          "2009-01-01T00:00:00",
          "2009-04-01T00:00:00",
          "2009-07-01T00:00:00"
         ],
         "xaxis": "x4",
         "y": [
          0.16999999999999815,
          0.20000000000000284,
          0.019999999999999574,
          0.16999999999999815,
          0.010000000000001563,
          0.1999999999999993,
          0.08999999999999986,
          -0.030000000000001137,
          0.11000000000000298,
          0.05999999999999872,
          0.05999999999999872,
          0.1700000000000017,
          0.00999999999999801,
          0.16000000000000014,
          0.060000000000002274,
          0.03999999999999915,
          0.21000000000000085,
          0.05999999999999872,
          0.19000000000000128,
          0.00999999999999801,
          0.07000000000000028,
          0.10000000000000142,
          0.16000000000000014,
          0.09999999999999787,
          0.1999999999999993,
          0.07000000000000028,
          0.23000000000000043,
          0.40000000000000213,
          0.1700000000000017,
          0.3999999999999986,
          0.04999999999999716,
          0.20000000000000284,
          0.29999999999999716,
          0.30000000000000426,
          0.3999999999999986,
          0.29999999999999716,
          0.5,
          0.3999999999999986,
          0.4000000000000057,
          0.5999999999999943,
          0.5,
          0.5,
          0.6000000000000014,
          0.6000000000000014,
          0.3999999999999986,
          0.5,
          0.5,
          0.20000000000000284,
          0.5,
          0.29999999999999716,
          0.30000000000000426,
          0.29999999999999716,
          0.29999999999999716,
          0.4000000000000057,
          0.5,
          1,
          0.5,
          1.3999999999999986,
          1.1999999999999957,
          1.3000000000000043,
          1.1999999999999957,
          1.7000000000000028,
          1.2999999999999972,
          0.7000000000000028,
          1,
          0.8999999999999986,
          0.8999999999999986,
          0.30000000000000426,
          0.8999999999999986,
          0.8999999999999986,
          0.8000000000000043,
          1.2999999999999972,
          0.7999999999999972,
          0.8000000000000043,
          1.1000000000000014,
          1.1999999999999957,
          1.6000000000000014,
          1.5999999999999943,
          1.4000000000000057,
          2.0999999999999943,
          2.4000000000000057,
          2.200000000000003,
          2.799999999999997,
          2.9000000000000057,
          1.6999999999999886,
          2.1000000000000085,
          2.5,
          1.8999999999999915,
          2.4000000000000057,
          1.9000000000000057,
          1,
          0.5999999999999943,
          2.5,
          0.5999999999999943,
          -0.19999999999998863,
          0.8999999999999915,
          1,
          1,
          1.2999999999999972,
          1.2000000000000028,
          0.7999999999999972,
          1,
          0.6000000000000085,
          1.2999999999999972,
          0.7000000000000028,
          0.7999999999999972,
          1.4000000000000057,
          -1.2000000000000028,
          0.7999999999999972,
          0.7000000000000028,
          1.2000000000000028,
          1.2999999999999972,
          1.0999999999999943,
          1.2000000000000028,
          1,
          1.2000000000000028,
          1.2999999999999972,
          1.4000000000000057,
          1.2999999999999972,
          1.8999999999999915,
          1.4000000000000057,
          0.9000000000000057,
          2.0999999999999943,
          1.4000000000000057,
          1.5999999999999943,
          2.9000000000000057,
          1.299999999999983,
          0.4000000000000057,
          1.0999999999999943,
          1,
          1.1000000000000227,
          1.0999999999999943,
          1.0999999999999943,
          1.1999999999999886,
          1.1000000000000227,
          1,
          0.6999999999999886,
          1.0999999999999943,
          0.700000000000017,
          0.8999999999999773,
          1.200000000000017,
          1,
          1.0999999999999943,
          1.3000000000000114,
          0.799999999999983,
          0.9000000000000057,
          1.1999999999999886,
          1.4000000000000057,
          0.9000000000000057,
          1.1999999999999886,
          1.200000000000017,
          0.5,
          0.5,
          1.0999999999999943,
          0.5,
          0.19999999999998863,
          1,
          0.700000000000017,
          0.799999999999983,
          1.200000000000017,
          0.799999999999983,
          1.4000000000000057,
          1.200000000000017,
          1.5999999999999943,
          1.799999999999983,
          1.200000000000017,
          1.6999999999999886,
          0.8000000000000114,
          1,
          0.19999999999998863,
          0.09999999999999432,
          1.6000000000000227,
          0.6999999999999886,
          1.1999999999999886,
          1.4000000000000057,
          0.5999999999999943,
          0.5,
          1.200000000000017,
          1.4000000000000057,
          1.0999999999999943,
          1.6999999999999886,
          1.700000000000017,
          1,
          2,
          0.8999999999999773,
          4.5,
          0.20000000000001705,
          1.299999999999983,
          2,
          -0.799999999999983,
          1.6740000000000066,
          2.345999999999975,
          1.4180000000000064,
          1.795000000000016,
          3.3619999999999948,
          1.5020000000000095,
          4.6129999999999995,
          -1.7210000000000036,
          -4.715000000000003,
          0.4969999999999857,
          1.7980000000000018,
          1.9159999999999968
         ],
         "yaxis": "y4"
        },
        {
         "line": {
          "color": "#3f3f3f"
         },
         "mode": "lines",
         "name": "Order=1",
         "showlegend": false,
         "type": "scattergl",
         "x": [
          0,
          0
         ],
         "xaxis": "x5",
         "y": [
          0,
          1
         ],
         "yaxis": "y5"
        },
        {
         "line": {
          "color": "#3f3f3f"
         },
         "mode": "lines",
         "name": "Order=1",
         "showlegend": false,
         "type": "scattergl",
         "x": [
          1,
          1
         ],
         "xaxis": "x5",
         "y": [
          0,
          0.3840930531279225
         ],
         "yaxis": "y5"
        },
        {
         "line": {
          "color": "#3f3f3f"
         },
         "mode": "lines",
         "name": "Order=1",
         "showlegend": false,
         "type": "scattergl",
         "x": [
          2,
          2
         ],
         "xaxis": "x5",
         "y": [
          0,
          0.22470154174872442
         ],
         "yaxis": "y5"
        },
        {
         "line": {
          "color": "#3f3f3f"
         },
         "mode": "lines",
         "name": "Order=1",
         "showlegend": false,
         "type": "scattergl",
         "x": [
          3,
          3
         ],
         "xaxis": "x5",
         "y": [
          0,
          0.2889487946960037
         ],
         "yaxis": "y5"
        },
        {
         "line": {
          "color": "#3f3f3f"
         },
         "mode": "lines",
         "name": "Order=1",
         "showlegend": false,
         "type": "scattergl",
         "x": [
          4,
          4
         ],
         "xaxis": "x5",
         "y": [
          0,
          0.15823454375094662
         ],
         "yaxis": "y5"
        },
        {
         "line": {
          "color": "#3f3f3f"
         },
         "mode": "lines",
         "name": "Order=1",
         "showlegend": false,
         "type": "scattergl",
         "x": [
          5,
          5
         ],
         "xaxis": "x5",
         "y": [
          0,
          0.2702945591318717
         ],
         "yaxis": "y5"
        },
        {
         "line": {
          "color": "#3f3f3f"
         },
         "mode": "lines",
         "name": "Order=1",
         "showlegend": false,
         "type": "scattergl",
         "x": [
          6,
          6
         ],
         "xaxis": "x5",
         "y": [
          0,
          0.26523756252750547
         ],
         "yaxis": "y5"
        },
        {
         "line": {
          "color": "#3f3f3f"
         },
         "mode": "lines",
         "name": "Order=1",
         "showlegend": false,
         "type": "scattergl",
         "x": [
          7,
          7
         ],
         "xaxis": "x5",
         "y": [
          0,
          0.1739549896437442
         ],
         "yaxis": "y5"
        },
        {
         "line": {
          "color": "#3f3f3f"
         },
         "mode": "lines",
         "name": "Order=1",
         "showlegend": false,
         "type": "scattergl",
         "x": [
          8,
          8
         ],
         "xaxis": "x5",
         "y": [
          0,
          0.21309473875342402
         ],
         "yaxis": "y5"
        },
        {
         "line": {
          "color": "#3f3f3f"
         },
         "mode": "lines",
         "name": "Order=1",
         "showlegend": false,
         "type": "scattergl",
         "x": [
          9,
          9
         ],
         "xaxis": "x5",
         "y": [
          0,
          0.27418410346303174
         ],
         "yaxis": "y5"
        },
        {
         "line": {
          "color": "#3f3f3f"
         },
         "mode": "lines",
         "name": "Order=1",
         "showlegend": false,
         "type": "scattergl",
         "x": [
          10,
          10
         ],
         "xaxis": "x5",
         "y": [
          0,
          0.1371697916850843
         ],
         "yaxis": "y5"
        },
        {
         "line": {
          "color": "#3f3f3f"
         },
         "mode": "lines",
         "name": "Order=1",
         "showlegend": false,
         "type": "scattergl",
         "x": [
          11,
          11
         ],
         "xaxis": "x5",
         "y": [
          0,
          0.2313400004196608
         ],
         "yaxis": "y5"
        },
        {
         "line": {
          "color": "#3f3f3f"
         },
         "mode": "lines",
         "name": "Order=1",
         "showlegend": false,
         "type": "scattergl",
         "x": [
          12,
          12
         ],
         "xaxis": "x5",
         "y": [
          0,
          0.09686240425018465
         ],
         "yaxis": "y5"
        },
        {
         "line": {
          "color": "#3f3f3f"
         },
         "mode": "lines",
         "name": "Order=1",
         "showlegend": false,
         "type": "scattergl",
         "x": [
          13,
          13
         ],
         "xaxis": "x5",
         "y": [
          0,
          0.06098167869911558
         ],
         "yaxis": "y5"
        },
        {
         "line": {
          "color": "#3f3f3f"
         },
         "mode": "lines",
         "name": "Order=1",
         "showlegend": false,
         "type": "scattergl",
         "x": [
          14,
          14
         ],
         "xaxis": "x5",
         "y": [
          0,
          0.1459257460411369
         ],
         "yaxis": "y5"
        },
        {
         "line": {
          "color": "#3f3f3f"
         },
         "mode": "lines",
         "name": "Order=1",
         "showlegend": false,
         "type": "scattergl",
         "x": [
          15,
          15
         ],
         "xaxis": "x5",
         "y": [
          0,
          0.07542588577265827
         ],
         "yaxis": "y5"
        },
        {
         "line": {
          "color": "#3f3f3f"
         },
         "mode": "lines",
         "name": "Order=1",
         "showlegend": false,
         "type": "scattergl",
         "x": [
          16,
          16
         ],
         "xaxis": "x5",
         "y": [
          0,
          0.13914611969473675
         ],
         "yaxis": "y5"
        },
        {
         "line": {
          "color": "#3f3f3f"
         },
         "mode": "lines",
         "name": "Order=1",
         "showlegend": false,
         "type": "scattergl",
         "x": [
          17,
          17
         ],
         "xaxis": "x5",
         "y": [
          0,
          0.11102787573079063
         ],
         "yaxis": "y5"
        },
        {
         "line": {
          "color": "#3f3f3f"
         },
         "mode": "lines",
         "name": "Order=1",
         "showlegend": false,
         "type": "scattergl",
         "x": [
          18,
          18
         ],
         "xaxis": "x5",
         "y": [
          0,
          0.06924139852983678
         ],
         "yaxis": "y5"
        },
        {
         "line": {
          "color": "#3f3f3f"
         },
         "mode": "lines",
         "name": "Order=1",
         "showlegend": false,
         "type": "scattergl",
         "x": [
          19,
          19
         ],
         "xaxis": "x5",
         "y": [
          0,
          0.12050679178453408
         ],
         "yaxis": "y5"
        },
        {
         "line": {
          "color": "#3f3f3f"
         },
         "mode": "lines",
         "name": "Order=1",
         "showlegend": false,
         "type": "scattergl",
         "x": [
          20,
          20
         ],
         "xaxis": "x5",
         "y": [
          0,
          0.10395477125619042
         ],
         "yaxis": "y5"
        },
        {
         "line": {
          "color": "#3f3f3f"
         },
         "mode": "lines",
         "name": "Order=1",
         "showlegend": false,
         "type": "scattergl",
         "x": [
          21,
          21
         ],
         "xaxis": "x5",
         "y": [
          0,
          0.11719504920926342
         ],
         "yaxis": "y5"
        },
        {
         "line": {
          "color": "#3f3f3f"
         },
         "mode": "lines",
         "name": "Order=1",
         "showlegend": false,
         "type": "scattergl",
         "x": [
          22,
          22
         ],
         "xaxis": "x5",
         "y": [
          0,
          0.1436926519788355
         ],
         "yaxis": "y5"
        },
        {
         "line": {
          "color": "#3f3f3f"
         },
         "mode": "lines",
         "name": "Order=1",
         "showlegend": false,
         "type": "scattergl",
         "x": [
          23,
          23
         ],
         "xaxis": "x5",
         "y": [
          0,
          0.10111593518127894
         ],
         "yaxis": "y5"
        },
        {
         "line": {
          "color": "#3f3f3f"
         },
         "mode": "lines",
         "name": "Order=1",
         "showlegend": false,
         "type": "scattergl",
         "x": [
          24,
          24
         ],
         "xaxis": "x5",
         "y": [
          0,
          0.0681688923968129
         ],
         "yaxis": "y5"
        },
        {
         "line": {
          "color": "#3f3f3f"
         },
         "mode": "lines",
         "name": "Order=1",
         "showlegend": false,
         "type": "scattergl",
         "x": [
          25,
          25
         ],
         "xaxis": "x5",
         "y": [
          0,
          0.05210258530907728
         ],
         "yaxis": "y5"
        },
        {
         "line": {
          "color": "#3f3f3f"
         },
         "mode": "lines",
         "name": "Order=1",
         "showlegend": false,
         "type": "scattergl",
         "x": [
          26,
          26
         ],
         "xaxis": "x5",
         "y": [
          0,
          0.03706397048769508
         ],
         "yaxis": "y5"
        },
        {
         "line": {
          "color": "#3f3f3f"
         },
         "mode": "lines",
         "name": "Order=1",
         "showlegend": false,
         "type": "scattergl",
         "x": [
          27,
          27
         ],
         "xaxis": "x5",
         "y": [
          0,
          0.05838404538446093
         ],
         "yaxis": "y5"
        },
        {
         "line": {
          "color": "#3f3f3f"
         },
         "mode": "lines",
         "name": "Order=1",
         "showlegend": false,
         "type": "scattergl",
         "x": [
          28,
          28
         ],
         "xaxis": "x5",
         "y": [
          0,
          0.10847182157849652
         ],
         "yaxis": "y5"
        },
        {
         "line": {
          "color": "#3f3f3f"
         },
         "mode": "lines",
         "name": "Order=1",
         "showlegend": false,
         "type": "scattergl",
         "x": [
          29,
          29
         ],
         "xaxis": "x5",
         "y": [
          0,
          0.08106868972237409
         ],
         "yaxis": "y5"
        },
        {
         "line": {
          "color": "#3f3f3f"
         },
         "mode": "lines",
         "name": "Order=1",
         "showlegend": false,
         "type": "scattergl",
         "x": [
          30,
          30
         ],
         "xaxis": "x5",
         "y": [
          0,
          0.06733725031277572
         ],
         "yaxis": "y5"
        },
        {
         "line": {
          "color": "#3f3f3f"
         },
         "mode": "lines",
         "name": "Order=1",
         "showlegend": false,
         "type": "scattergl",
         "x": [
          31,
          31
         ],
         "xaxis": "x5",
         "y": [
          0,
          0.048848887112180106
         ],
         "yaxis": "y5"
        },
        {
         "line": {
          "color": "#3f3f3f"
         },
         "mode": "lines",
         "name": "Order=1",
         "showlegend": false,
         "type": "scattergl",
         "x": [
          32,
          32
         ],
         "xaxis": "x5",
         "y": [
          0,
          0.027386216262461068
         ],
         "yaxis": "y5"
        },
        {
         "line": {
          "color": "#3f3f3f"
         },
         "mode": "lines",
         "name": "Order=1",
         "showlegend": false,
         "type": "scattergl",
         "x": [
          33,
          33
         ],
         "xaxis": "x5",
         "y": [
          0,
          0.026201616755714967
         ],
         "yaxis": "y5"
        },
        {
         "line": {
          "color": "#3f3f3f"
         },
         "mode": "lines",
         "name": "Order=1",
         "showlegend": false,
         "type": "scattergl",
         "x": [
          34,
          34
         ],
         "xaxis": "x5",
         "y": [
          0,
          0.016199908774373207
         ],
         "yaxis": "y5"
        },
        {
         "line": {
          "color": "#3f3f3f"
         },
         "mode": "lines",
         "name": "Order=1",
         "showlegend": false,
         "type": "scattergl",
         "x": [
          35,
          35
         ],
         "xaxis": "x5",
         "y": [
          0,
          0.024712078367736146
         ],
         "yaxis": "y5"
        },
        {
         "line": {
          "color": "#3f3f3f"
         },
         "mode": "lines",
         "name": "Order=1",
         "showlegend": false,
         "type": "scattergl",
         "x": [
          36,
          36
         ],
         "xaxis": "x5",
         "y": [
          0,
          0.007972246832006017
         ],
         "yaxis": "y5"
        },
        {
         "line": {
          "color": "#3f3f3f"
         },
         "mode": "lines",
         "name": "Order=1",
         "showlegend": false,
         "type": "scattergl",
         "x": [
          37,
          37
         ],
         "xaxis": "x5",
         "y": [
          0,
          0.05995076029467023
         ],
         "yaxis": "y5"
        },
        {
         "line": {
          "color": "#3f3f3f"
         },
         "mode": "lines",
         "name": "Order=1",
         "showlegend": false,
         "type": "scattergl",
         "x": [
          38,
          38
         ],
         "xaxis": "x5",
         "y": [
          0,
          0.056981989390380586
         ],
         "yaxis": "y5"
        },
        {
         "line": {
          "color": "#3f3f3f"
         },
         "mode": "lines",
         "name": "Order=1",
         "showlegend": false,
         "type": "scattergl",
         "x": [
          39,
          39
         ],
         "xaxis": "x5",
         "y": [
          0,
          0.022720789515686856
         ],
         "yaxis": "y5"
        },
        {
         "line": {
          "color": "#3f3f3f"
         },
         "mode": "lines",
         "name": "Order=1",
         "showlegend": false,
         "type": "scattergl",
         "x": [
          40,
          40
         ],
         "xaxis": "x5",
         "y": [
          0,
          0.05317346297830166
         ],
         "yaxis": "y5"
        },
        {
         "marker": {
          "color": "#1f77b4",
          "size": 6
         },
         "mode": "markers",
         "name": "Order=1",
         "showlegend": false,
         "type": "scattergl",
         "x": [
          0,
          1,
          2,
          3,
          4,
          5,
          6,
          7,
          8,
          9,
          10,
          11,
          12,
          13,
          14,
          15,
          16,
          17,
          18,
          19,
          20,
          21,
          22,
          23,
          24,
          25,
          26,
          27,
          28,
          29,
          30,
          31,
          32,
          33,
          34,
          35,
          36,
          37,
          38,
          39,
          40
         ],
         "xaxis": "x5",
         "y": [
          1,
          0.3840930531279225,
          0.22470154174872442,
          0.2889487946960037,
          0.15823454375094662,
          0.2702945591318717,
          0.26523756252750547,
          0.1739549896437442,
          0.21309473875342402,
          0.27418410346303174,
          0.1371697916850843,
          0.2313400004196608,
          0.09686240425018465,
          0.06098167869911558,
          0.1459257460411369,
          0.07542588577265827,
          0.13914611969473675,
          0.11102787573079063,
          0.06924139852983678,
          0.12050679178453408,
          0.10395477125619042,
          0.11719504920926342,
          0.1436926519788355,
          0.10111593518127894,
          0.0681688923968129,
          0.05210258530907728,
          0.03706397048769508,
          0.05838404538446093,
          0.10847182157849652,
          0.08106868972237409,
          0.06733725031277572,
          0.048848887112180106,
          0.027386216262461068,
          0.026201616755714967,
          0.016199908774373207,
          0.024712078367736146,
          0.007972246832006017,
          0.05995076029467023,
          0.056981989390380586,
          0.022720789515686856,
          0.05317346297830166
         ],
         "yaxis": "y5"
        },
        {
         "line": {
          "color": "rgba(255,255,255,0)"
         },
         "mode": "lines",
         "name": "UC",
         "showlegend": false,
         "type": "scatter",
         "x": [
          0,
          1,
          2,
          3,
          4,
          5,
          6,
          7,
          8,
          9,
          10,
          11,
          12,
          13,
          14,
          15,
          16,
          17,
          18,
          19,
          20,
          21,
          22,
          23,
          24,
          25,
          26,
          27,
          28,
          29,
          30,
          31,
          32,
          33,
          34,
          35,
          36,
          37,
          38,
          39,
          40
         ],
         "xaxis": "x5",
         "y": [
          0,
          0.13790258472821815,
          0.15693380469210244,
          0.1629374048482421,
          0.17240687501021432,
          0.17514690546362333,
          0.18290759445480548,
          0.19008138779117748,
          0.19308511887927063,
          0.19750689654403758,
          0.2046173788586928,
          0.20635868542469465,
          0.21123312065372352,
          0.21207612060164793,
          0.21240932502258086,
          0.21430733744835231,
          0.21481157825351285,
          0.21651886667336678,
          0.21759888549472084,
          0.21801748843534527,
          0.21928053784472218,
          0.2202157463651052,
          0.22139865203921952,
          0.22316513659041204,
          0.22403472222397558,
          0.22442883464863075,
          0.22465874700313063,
          0.2247750023695179,
          0.22506321089929174,
          0.2260552255785216,
          0.2266074383425732,
          0.22698764282113176,
          0.22718747288200636,
          0.2272502446708361,
          0.22730768828372647,
          0.22732964335503708,
          0.2273807242499058,
          0.22738603979202882,
          0.22768642852354998,
          0.2279574629581419,
          0.2280005252179006
         ],
         "yaxis": "y5"
        },
        {
         "fill": "tonexty",
         "fillcolor": "rgba(32, 146, 230,0.3)",
         "line": {
          "color": "rgba(255,255,255,0)"
         },
         "mode": "lines",
         "name": "LC",
         "showlegend": false,
         "type": "scatter",
         "x": [
          0,
          1,
          2,
          3,
          4,
          5,
          6,
          7,
          8,
          9,
          10,
          11,
          12,
          13,
          14,
          15,
          16,
          17,
          18,
          19,
          20,
          21,
          22,
          23,
          24,
          25,
          26,
          27,
          28,
          29,
          30,
          31,
          32,
          33,
          34,
          35,
          36,
          37,
          38,
          39,
          40
         ],
         "xaxis": "x5",
         "y": [
          0,
          -0.13790258472821817,
          -0.15693380469210247,
          -0.16293740484824212,
          -0.17240687501021434,
          -0.17514690546362333,
          -0.18290759445480545,
          -0.1900813877911775,
          -0.19308511887927063,
          -0.19750689654403758,
          -0.2046173788586928,
          -0.20635868542469468,
          -0.21123312065372352,
          -0.21207612060164793,
          -0.2124093250225809,
          -0.2143073374483523,
          -0.21481157825351282,
          -0.2165188666733668,
          -0.21759888549472084,
          -0.21801748843534524,
          -0.21928053784472218,
          -0.22021574636510524,
          -0.22139865203921952,
          -0.22316513659041204,
          -0.22403472222397555,
          -0.22442883464863075,
          -0.22465874700313063,
          -0.22477500236951786,
          -0.22506321089929174,
          -0.2260552255785216,
          -0.2266074383425732,
          -0.22698764282113174,
          -0.22718747288200636,
          -0.22725024467083613,
          -0.22730768828372647,
          -0.22732964335503708,
          -0.2273807242499058,
          -0.22738603979202882,
          -0.22768642852354992,
          -0.2279574629581419,
          -0.2280005252179006
         ],
         "yaxis": "y5"
        },
        {
         "line": {
          "color": "#3f3f3f"
         },
         "mode": "lines",
         "name": "Order=1",
         "showlegend": false,
         "type": "scattergl",
         "x": [
          0,
          0
         ],
         "xaxis": "x6",
         "y": [
          0,
          1
         ],
         "yaxis": "y6"
        },
        {
         "line": {
          "color": "#3f3f3f"
         },
         "mode": "lines",
         "name": "Order=1",
         "showlegend": false,
         "type": "scattergl",
         "x": [
          1,
          1
         ],
         "xaxis": "x6",
         "y": [
          0,
          0.3860039638400018
         ],
         "yaxis": "y6"
        },
        {
         "line": {
          "color": "#3f3f3f"
         },
         "mode": "lines",
         "name": "Order=1",
         "showlegend": false,
         "type": "scattergl",
         "x": [
          2,
          2
         ],
         "xaxis": "x6",
         "y": [
          0,
          0.09159742770107365
         ],
         "yaxis": "y6"
        },
        {
         "line": {
          "color": "#3f3f3f"
         },
         "mode": "lines",
         "name": "Order=1",
         "showlegend": false,
         "type": "scattergl",
         "x": [
          3,
          3
         ],
         "xaxis": "x6",
         "y": [
          0,
          0.21137250602146496
         ],
         "yaxis": "y6"
        },
        {
         "line": {
          "color": "#3f3f3f"
         },
         "mode": "lines",
         "name": "Order=1",
         "showlegend": false,
         "type": "scattergl",
         "x": [
          4,
          4
         ],
         "xaxis": "x6",
         "y": [
          0,
          -0.02641449458306334
         ],
         "yaxis": "y6"
        },
        {
         "line": {
          "color": "#3f3f3f"
         },
         "mode": "lines",
         "name": "Order=1",
         "showlegend": false,
         "type": "scattergl",
         "x": [
          5,
          5
         ],
         "xaxis": "x6",
         "y": [
          0,
          0.22064479307143386
         ],
         "yaxis": "y6"
        },
        {
         "line": {
          "color": "#3f3f3f"
         },
         "mode": "lines",
         "name": "Order=1",
         "showlegend": false,
         "type": "scattergl",
         "x": [
          6,
          6
         ],
         "xaxis": "x6",
         "y": [
          0,
          0.07517538107128892
         ],
         "yaxis": "y6"
        },
        {
         "line": {
          "color": "#3f3f3f"
         },
         "mode": "lines",
         "name": "Order=1",
         "showlegend": false,
         "type": "scattergl",
         "x": [
          7,
          7
         ],
         "xaxis": "x6",
         "y": [
          0,
          0.027293407702502968
         ],
         "yaxis": "y6"
        },
        {
         "line": {
          "color": "#3f3f3f"
         },
         "mode": "lines",
         "name": "Order=1",
         "showlegend": false,
         "type": "scattergl",
         "x": [
          8,
          8
         ],
         "xaxis": "x6",
         "y": [
          0,
          0.06427289135059638
         ],
         "yaxis": "y6"
        },
        {
         "line": {
          "color": "#3f3f3f"
         },
         "mode": "lines",
         "name": "Order=1",
         "showlegend": false,
         "type": "scattergl",
         "x": [
          9,
          9
         ],
         "xaxis": "x6",
         "y": [
          0,
          0.15906493127308094
         ],
         "yaxis": "y6"
        },
        {
         "line": {
          "color": "#3f3f3f"
         },
         "mode": "lines",
         "name": "Order=1",
         "showlegend": false,
         "type": "scattergl",
         "x": [
          10,
          10
         ],
         "xaxis": "x6",
         "y": [
          0,
          -0.08699808246231595
         ],
         "yaxis": "y6"
        },
        {
         "line": {
          "color": "#3f3f3f"
         },
         "mode": "lines",
         "name": "Order=1",
         "showlegend": false,
         "type": "scattergl",
         "x": [
          11,
          11
         ],
         "xaxis": "x6",
         "y": [
          0,
          0.14563004935654986
         ],
         "yaxis": "y6"
        },
        {
         "line": {
          "color": "#3f3f3f"
         },
         "mode": "lines",
         "name": "Order=1",
         "showlegend": false,
         "type": "scattergl",
         "x": [
          12,
          12
         ],
         "xaxis": "x6",
         "y": [
          0,
          -0.17109987045776429
         ],
         "yaxis": "y6"
        },
        {
         "line": {
          "color": "#3f3f3f"
         },
         "mode": "lines",
         "name": "Order=1",
         "showlegend": false,
         "type": "scattergl",
         "x": [
          13,
          13
         ],
         "xaxis": "x6",
         "y": [
          0,
          0.031294761650249255
         ],
         "yaxis": "y6"
        },
        {
         "line": {
          "color": "#3f3f3f"
         },
         "mode": "lines",
         "name": "Order=1",
         "showlegend": false,
         "type": "scattergl",
         "x": [
          14,
          14
         ],
         "xaxis": "x6",
         "y": [
          0,
          -0.034965189106946314
         ],
         "yaxis": "y6"
        },
        {
         "line": {
          "color": "#3f3f3f"
         },
         "mode": "lines",
         "name": "Order=1",
         "showlegend": false,
         "type": "scattergl",
         "x": [
          15,
          15
         ],
         "xaxis": "x6",
         "y": [
          0,
          0.004999809112830475
         ],
         "yaxis": "y6"
        },
        {
         "line": {
          "color": "#3f3f3f"
         },
         "mode": "lines",
         "name": "Order=1",
         "showlegend": false,
         "type": "scattergl",
         "x": [
          16,
          16
         ],
         "xaxis": "x6",
         "y": [
          0,
          0.0465615074828944
         ],
         "yaxis": "y6"
        },
        {
         "line": {
          "color": "#3f3f3f"
         },
         "mode": "lines",
         "name": "Order=1",
         "showlegend": false,
         "type": "scattergl",
         "x": [
          17,
          17
         ],
         "xaxis": "x6",
         "y": [
          0,
          -0.018338989152207802
         ],
         "yaxis": "y6"
        },
        {
         "line": {
          "color": "#3f3f3f"
         },
         "mode": "lines",
         "name": "Order=1",
         "showlegend": false,
         "type": "scattergl",
         "x": [
          18,
          18
         ],
         "xaxis": "x6",
         "y": [
          0,
          -0.0035544874962295052
         ],
         "yaxis": "y6"
        },
        {
         "line": {
          "color": "#3f3f3f"
         },
         "mode": "lines",
         "name": "Order=1",
         "showlegend": false,
         "type": "scattergl",
         "x": [
          19,
          19
         ],
         "xaxis": "x6",
         "y": [
          0,
          0.07363345814143883
         ],
         "yaxis": "y6"
        },
        {
         "line": {
          "color": "#3f3f3f"
         },
         "mode": "lines",
         "name": "Order=1",
         "showlegend": false,
         "type": "scattergl",
         "x": [
          20,
          20
         ],
         "xaxis": "x6",
         "y": [
          0,
          -0.030099931656270316
         ],
         "yaxis": "y6"
        },
        {
         "line": {
          "color": "#3f3f3f"
         },
         "mode": "lines",
         "name": "Order=1",
         "showlegend": false,
         "type": "scattergl",
         "x": [
          21,
          21
         ],
         "xaxis": "x6",
         "y": [
          0,
          0.13103185113958238
         ],
         "yaxis": "y6"
        },
        {
         "line": {
          "color": "#3f3f3f"
         },
         "mode": "lines",
         "name": "Order=1",
         "showlegend": false,
         "type": "scattergl",
         "x": [
          22,
          22
         ],
         "xaxis": "x6",
         "y": [
          0,
          0.002752435321824225
         ],
         "yaxis": "y6"
        },
        {
         "line": {
          "color": "#3f3f3f"
         },
         "mode": "lines",
         "name": "Order=1",
         "showlegend": false,
         "type": "scattergl",
         "x": [
          23,
          23
         ],
         "xaxis": "x6",
         "y": [
          0,
          0.04808628371234857
         ],
         "yaxis": "y6"
        },
        {
         "marker": {
          "color": "#1f77b4",
          "size": 6
         },
         "mode": "markers",
         "name": "Order=1",
         "showlegend": false,
         "type": "scattergl",
         "x": [
          0,
          1,
          2,
          3,
          4,
          5,
          6,
          7,
          8,
          9,
          10,
          11,
          12,
          13,
          14,
          15,
          16,
          17,
          18,
          19,
          20,
          21,
          22,
          23
         ],
         "xaxis": "x6",
         "y": [
          1,
          0.3860039638400018,
          0.09159742770107365,
          0.21137250602146496,
          -0.02641449458306334,
          0.22064479307143386,
          0.07517538107128892,
          0.027293407702502968,
          0.06427289135059638,
          0.15906493127308094,
          -0.08699808246231595,
          0.14563004935654986,
          -0.17109987045776429,
          0.031294761650249255,
          -0.034965189106946314,
          0.004999809112830475,
          0.0465615074828944,
          -0.018338989152207802,
          -0.0035544874962295052,
          0.07363345814143883,
          -0.030099931656270316,
          0.13103185113958238,
          0.002752435321824225,
          0.04808628371234857
         ],
         "yaxis": "y6"
        },
        {
         "line": {
          "color": "rgba(255,255,255,0)"
         },
         "mode": "lines",
         "name": "UC",
         "showlegend": false,
         "type": "scatter",
         "x": [
          0,
          1,
          2,
          3,
          4,
          5,
          6,
          7,
          8,
          9,
          10,
          11,
          12,
          13,
          14,
          15,
          16,
          17,
          18,
          19,
          20,
          21,
          22,
          23
         ],
         "xaxis": "x6",
         "y": [
          0,
          0.13790258472821815,
          0.13790258472821817,
          0.13790258472821815,
          0.13790258472821817,
          0.1379025847282182,
          0.1379025847282182,
          0.13790258472821817,
          0.13790258472821817,
          0.13790258472821817,
          0.13790258472821817,
          0.13790258472821817,
          0.13790258472821817,
          0.13790258472821817,
          0.13790258472821817,
          0.13790258472821815,
          0.13790258472821817,
          0.13790258472821817,
          0.13790258472821817,
          0.13790258472821815,
          0.13790258472821817,
          0.13790258472821815,
          0.13790258472821817,
          0.13790258472821817
         ],
         "yaxis": "y6"
        },
        {
         "fill": "tonexty",
         "fillcolor": "rgba(32, 146, 230,0.3)",
         "line": {
          "color": "rgba(255,255,255,0)"
         },
         "mode": "lines",
         "name": "LC",
         "showlegend": false,
         "type": "scatter",
         "x": [
          0,
          1,
          2,
          3,
          4,
          5,
          6,
          7,
          8,
          9,
          10,
          11,
          12,
          13,
          14,
          15,
          16,
          17,
          18,
          19,
          20,
          21,
          22,
          23
         ],
         "xaxis": "x6",
         "y": [
          0,
          -0.13790258472821817,
          -0.13790258472821817,
          -0.13790258472821817,
          -0.13790258472821817,
          -0.13790258472821817,
          -0.13790258472821817,
          -0.13790258472821817,
          -0.13790258472821817,
          -0.13790258472821817,
          -0.1379025847282182,
          -0.13790258472821817,
          -0.13790258472821817,
          -0.13790258472821817,
          -0.13790258472821817,
          -0.1379025847282182,
          -0.13790258472821817,
          -0.13790258472821817,
          -0.13790258472821817,
          -0.13790258472821817,
          -0.13790258472821817,
          -0.13790258472821817,
          -0.13790258472821817,
          -0.13790258472821817
         ],
         "yaxis": "y6"
        },
        {
         "line": {
          "color": "rgb(31, 119, 180)",
          "width": 2
         },
         "marker": {
          "color": "rgb(31, 119, 180)",
          "size": 5
         },
         "mode": "lines+markers",
         "name": "Order=2",
         "showlegend": false,
         "type": "scattergl",
         "x": [
          "1959-07-01T00:00:00",
          "1959-10-01T00:00:00",
          "1960-01-01T00:00:00",
          "1960-04-01T00:00:00",
          "1960-07-01T00:00:00",
          "1960-10-01T00:00:00",
          "1961-01-01T00:00:00",
          "1961-04-01T00:00:00",
          "1961-07-01T00:00:00",
          "1961-10-01T00:00:00",
          "1962-01-01T00:00:00",
          "1962-04-01T00:00:00",
          "1962-07-01T00:00:00",
          "1962-10-01T00:00:00",
          "1963-01-01T00:00:00",
          "1963-04-01T00:00:00",
          "1963-07-01T00:00:00",
          "1963-10-01T00:00:00",
          "1964-01-01T00:00:00",
          "1964-04-01T00:00:00",
          "1964-07-01T00:00:00",
          "1964-10-01T00:00:00",
          "1965-01-01T00:00:00",
          "1965-04-01T00:00:00",
          "1965-07-01T00:00:00",
          "1965-10-01T00:00:00",
          "1966-01-01T00:00:00",
          "1966-04-01T00:00:00",
          "1966-07-01T00:00:00",
          "1966-10-01T00:00:00",
          "1967-01-01T00:00:00",
          "1967-04-01T00:00:00",
          "1967-07-01T00:00:00",
          "1967-10-01T00:00:00",
          "1968-01-01T00:00:00",
          "1968-04-01T00:00:00",
          "1968-07-01T00:00:00",
          "1968-10-01T00:00:00",
          "1969-01-01T00:00:00",
          "1969-04-01T00:00:00",
          "1969-07-01T00:00:00",
          "1969-10-01T00:00:00",
          "1970-01-01T00:00:00",
          "1970-04-01T00:00:00",
          "1970-07-01T00:00:00",
          "1970-10-01T00:00:00",
          "1971-01-01T00:00:00",
          "1971-04-01T00:00:00",
          "1971-07-01T00:00:00",
          "1971-10-01T00:00:00",
          "1972-01-01T00:00:00",
          "1972-04-01T00:00:00",
          "1972-07-01T00:00:00",
          "1972-10-01T00:00:00",
          "1973-01-01T00:00:00",
          "1973-04-01T00:00:00",
          "1973-07-01T00:00:00",
          "1973-10-01T00:00:00",
          "1974-01-01T00:00:00",
          "1974-04-01T00:00:00",
          "1974-07-01T00:00:00",
          "1974-10-01T00:00:00",
          "1975-01-01T00:00:00",
          "1975-04-01T00:00:00",
          "1975-07-01T00:00:00",
          "1975-10-01T00:00:00",
          "1976-01-01T00:00:00",
          "1976-04-01T00:00:00",
          "1976-07-01T00:00:00",
          "1976-10-01T00:00:00",
          "1977-01-01T00:00:00",
          "1977-04-01T00:00:00",
          "1977-07-01T00:00:00",
          "1977-10-01T00:00:00",
          "1978-01-01T00:00:00",
          "1978-04-01T00:00:00",
          "1978-07-01T00:00:00",
          "1978-10-01T00:00:00",
          "1979-01-01T00:00:00",
          "1979-04-01T00:00:00",
          "1979-07-01T00:00:00",
          "1979-10-01T00:00:00",
          "1980-01-01T00:00:00",
          "1980-04-01T00:00:00",
          "1980-07-01T00:00:00",
          "1980-10-01T00:00:00",
          "1981-01-01T00:00:00",
          "1981-04-01T00:00:00",
          "1981-07-01T00:00:00",
          "1981-10-01T00:00:00",
          "1982-01-01T00:00:00",
          "1982-04-01T00:00:00",
          "1982-07-01T00:00:00",
          "1982-10-01T00:00:00",
          "1983-01-01T00:00:00",
          "1983-04-01T00:00:00",
          "1983-07-01T00:00:00",
          "1983-10-01T00:00:00",
          "1984-01-01T00:00:00",
          "1984-04-01T00:00:00",
          "1984-07-01T00:00:00",
          "1984-10-01T00:00:00",
          "1985-01-01T00:00:00",
          "1985-04-01T00:00:00",
          "1985-07-01T00:00:00",
          "1985-10-01T00:00:00",
          "1986-01-01T00:00:00",
          "1986-04-01T00:00:00",
          "1986-07-01T00:00:00",
          "1986-10-01T00:00:00",
          "1987-01-01T00:00:00",
          "1987-04-01T00:00:00",
          "1987-07-01T00:00:00",
          "1987-10-01T00:00:00",
          "1988-01-01T00:00:00",
          "1988-04-01T00:00:00",
          "1988-07-01T00:00:00",
          "1988-10-01T00:00:00",
          "1989-01-01T00:00:00",
          "1989-04-01T00:00:00",
          "1989-07-01T00:00:00",
          "1989-10-01T00:00:00",
          "1990-01-01T00:00:00",
          "1990-04-01T00:00:00",
          "1990-07-01T00:00:00",
          "1990-10-01T00:00:00",
          "1991-01-01T00:00:00",
          "1991-04-01T00:00:00",
          "1991-07-01T00:00:00",
          "1991-10-01T00:00:00",
          "1992-01-01T00:00:00",
          "1992-04-01T00:00:00",
          "1992-07-01T00:00:00",
          "1992-10-01T00:00:00",
          "1993-01-01T00:00:00",
          "1993-04-01T00:00:00",
          "1993-07-01T00:00:00",
          "1993-10-01T00:00:00",
          "1994-01-01T00:00:00",
          "1994-04-01T00:00:00",
          "1994-07-01T00:00:00",
          "1994-10-01T00:00:00",
          "1995-01-01T00:00:00",
          "1995-04-01T00:00:00",
          "1995-07-01T00:00:00",
          "1995-10-01T00:00:00",
          "1996-01-01T00:00:00",
          "1996-04-01T00:00:00",
          "1996-07-01T00:00:00",
          "1996-10-01T00:00:00",
          "1997-01-01T00:00:00",
          "1997-04-01T00:00:00",
          "1997-07-01T00:00:00",
          "1997-10-01T00:00:00",
          "1998-01-01T00:00:00",
          "1998-04-01T00:00:00",
          "1998-07-01T00:00:00",
          "1998-10-01T00:00:00",
          "1999-01-01T00:00:00",
          "1999-04-01T00:00:00",
          "1999-07-01T00:00:00",
          "1999-10-01T00:00:00",
          "2000-01-01T00:00:00",
          "2000-04-01T00:00:00",
          "2000-07-01T00:00:00",
          "2000-10-01T00:00:00",
          "2001-01-01T00:00:00",
          "2001-04-01T00:00:00",
          "2001-07-01T00:00:00",
          "2001-10-01T00:00:00",
          "2002-01-01T00:00:00",
          "2002-04-01T00:00:00",
          "2002-07-01T00:00:00",
          "2002-10-01T00:00:00",
          "2003-01-01T00:00:00",
          "2003-04-01T00:00:00",
          "2003-07-01T00:00:00",
          "2003-10-01T00:00:00",
          "2004-01-01T00:00:00",
          "2004-04-01T00:00:00",
          "2004-07-01T00:00:00",
          "2004-10-01T00:00:00",
          "2005-01-01T00:00:00",
          "2005-04-01T00:00:00",
          "2005-07-01T00:00:00",
          "2005-10-01T00:00:00",
          "2006-01-01T00:00:00",
          "2006-04-01T00:00:00",
          "2006-07-01T00:00:00",
          "2006-10-01T00:00:00",
          "2007-01-01T00:00:00",
          "2007-04-01T00:00:00",
          "2007-07-01T00:00:00",
          "2007-10-01T00:00:00",
          "2008-01-01T00:00:00",
          "2008-04-01T00:00:00",
          "2008-07-01T00:00:00",
          "2008-10-01T00:00:00",
          "2009-01-01T00:00:00",
          "2009-04-01T00:00:00",
          "2009-07-01T00:00:00"
         ],
         "xaxis": "x7",
         "y": [
          0.03000000000000469,
          -0.18000000000000327,
          0.14999999999999858,
          -0.1599999999999966,
          0.18999999999999773,
          -0.10999999999999943,
          -0.120000000000001,
          0.14000000000000412,
          -0.05000000000000426,
          0,
          0.11000000000000298,
          -0.1600000000000037,
          0.15000000000000213,
          -0.09999999999999787,
          -0.020000000000003126,
          0.1700000000000017,
          -0.15000000000000213,
          0.13000000000000256,
          -0.18000000000000327,
          0.060000000000002274,
          0.030000000000001137,
          0.05999999999999872,
          -0.060000000000002274,
          0.10000000000000142,
          -0.129999999999999,
          0.16000000000000014,
          0.1700000000000017,
          -0.23000000000000043,
          0.22999999999999687,
          -0.3500000000000014,
          0.15000000000000568,
          0.09999999999999432,
          7.105427357601002e-15,
          0.09999999999999432,
          -0.10000000000000142,
          0.20000000000000284,
          -0.10000000000000142,
          7.105427357601002e-15,
          0.19999999999998863,
          -0.09999999999999432,
          0,
          0.10000000000000142,
          0,
          -0.20000000000000284,
          0.10000000000000142,
          0,
          -0.29999999999999716,
          0.29999999999999716,
          -0.20000000000000284,
          7.105427357601002e-15,
          -7.105427357601002e-15,
          0,
          0.10000000000000853,
          0.09999999999999432,
          0.5,
          -0.5,
          0.8999999999999986,
          -0.20000000000000284,
          0.10000000000000853,
          -0.10000000000000853,
          0.5000000000000071,
          -0.4000000000000057,
          -0.5999999999999943,
          0.29999999999999716,
          -0.10000000000000142,
          0,
          -0.5999999999999943,
          0.5999999999999943,
          0,
          -0.09999999999999432,
          0.4999999999999929,
          -0.5,
          7.105427357601002e-15,
          0.29999999999999716,
          0.09999999999999432,
          0.4000000000000057,
          -7.105427357601002e-15,
          -0.19999999999998863,
          0.6999999999999886,
          0.30000000000001137,
          -0.20000000000000284,
          0.5999999999999943,
          0.10000000000000853,
          -1.200000000000017,
          0.4000000000000199,
          0.3999999999999915,
          -0.6000000000000085,
          0.5000000000000142,
          -0.5,
          -0.9000000000000057,
          -0.4000000000000057,
          1.9000000000000057,
          -1.9000000000000057,
          -0.799999999999983,
          1.09999999999998,
          0.10000000000000853,
          0,
          0.29999999999999716,
          -0.09999999999999432,
          -0.4000000000000057,
          0.20000000000000284,
          -0.3999999999999915,
          0.6999999999999886,
          -0.5999999999999943,
          0.09999999999999432,
          0.6000000000000085,
          -2.6000000000000085,
          2,
          -0.09999999999999432,
          0.5,
          0.09999999999999432,
          -0.20000000000000284,
          0.10000000000000853,
          -0.20000000000000284,
          0.20000000000000284,
          0.09999999999999432,
          0.10000000000000853,
          -0.10000000000000853,
          0.5999999999999943,
          -0.4999999999999858,
          -0.5,
          1.1999999999999886,
          -0.6999999999999886,
          0.19999999999998863,
          1.3000000000000114,
          -1.6000000000000227,
          -0.8999999999999773,
          0.6999999999999886,
          -0.09999999999999432,
          0.10000000000002274,
          -2.842170943040401e-14,
          0,
          0.09999999999999432,
          -0.0999999999999659,
          -0.10000000000002274,
          -0.30000000000001137,
          0.4000000000000057,
          -0.39999999999997726,
          0.1999999999999602,
          0.3000000000000398,
          -0.20000000000001705,
          0.09999999999999432,
          0.20000000000001705,
          -0.5000000000000284,
          0.10000000000002274,
          0.29999999999998295,
          0.20000000000001705,
          -0.5,
          0.29999999999998295,
          2.842170943040401e-14,
          -0.700000000000017,
          0,
          0.5999999999999943,
          -0.5999999999999943,
          -0.30000000000001137,
          0.8000000000000114,
          -0.29999999999998295,
          0.0999999999999659,
          0.4000000000000341,
          -0.4000000000000341,
          0.6000000000000227,
          -0.19999999999998863,
          0.39999999999997726,
          0.19999999999998863,
          -0.5999999999999659,
          0.4999999999999716,
          -0.8999999999999773,
          0.19999999999998863,
          -0.8000000000000114,
          -0.09999999999999432,
          1.5000000000000284,
          -0.9000000000000341,
          0.5,
          0.20000000000001705,
          -0.8000000000000114,
          -0.09999999999999432,
          0.700000000000017,
          0.19999999999998863,
          -0.30000000000001137,
          0.5999999999999943,
          2.842170943040401e-14,
          -0.700000000000017,
          1,
          -1.1000000000000227,
          3.6000000000000227,
          -4.299999999999983,
          1.099999999999966,
          0.700000000000017,
          -2.799999999999983,
          2.4739999999999895,
          0.6719999999999686,
          -0.9279999999999688,
          0.37700000000000955,
          1.5669999999999789,
          -1.8599999999999852,
          3.11099999999999,
          -6.334000000000003,
          -2.9939999999999998,
          5.211999999999989,
          1.3010000000000161,
          0.117999999999995
         ],
         "yaxis": "y7"
        },
        {
         "line": {
          "color": "#3f3f3f"
         },
         "mode": "lines",
         "name": "Order=2",
         "showlegend": false,
         "type": "scattergl",
         "x": [
          0,
          0
         ],
         "xaxis": "x8",
         "y": [
          0,
          1
         ],
         "yaxis": "y8"
        },
        {
         "line": {
          "color": "#3f3f3f"
         },
         "mode": "lines",
         "name": "Order=2",
         "showlegend": false,
         "type": "scattergl",
         "x": [
          1,
          1
         ],
         "xaxis": "x8",
         "y": [
          0,
          -0.37292492470514155
         ],
         "yaxis": "y8"
        },
        {
         "line": {
          "color": "#3f3f3f"
         },
         "mode": "lines",
         "name": "Order=2",
         "showlegend": false,
         "type": "scattergl",
         "x": [
          2,
          2
         ],
         "xaxis": "x8",
         "y": [
          0,
          -0.1771621015189585
         ],
         "yaxis": "y8"
        },
        {
         "line": {
          "color": "#3f3f3f"
         },
         "mode": "lines",
         "name": "Order=2",
         "showlegend": false,
         "type": "scattergl",
         "x": [
          3,
          3
         ],
         "xaxis": "x8",
         "y": [
          0,
          0.18660388388173751
         ],
         "yaxis": "y8"
        },
        {
         "line": {
          "color": "#3f3f3f"
         },
         "mode": "lines",
         "name": "Order=2",
         "showlegend": false,
         "type": "scattergl",
         "x": [
          4,
          4
         ],
         "xaxis": "x8",
         "y": [
          0,
          -0.21429652840181376
         ],
         "yaxis": "y8"
        },
        {
         "line": {
          "color": "#3f3f3f"
         },
         "mode": "lines",
         "name": "Order=2",
         "showlegend": false,
         "type": "scattergl",
         "x": [
          5,
          5
         ],
         "xaxis": "x8",
         "y": [
          0,
          0.06444471039935433
         ],
         "yaxis": "y8"
        },
        {
         "line": {
          "color": "#3f3f3f"
         },
         "mode": "lines",
         "name": "Order=2",
         "showlegend": false,
         "type": "scattergl",
         "x": [
          6,
          6
         ],
         "xaxis": "x8",
         "y": [
          0,
          0.08574993944898088
         ],
         "yaxis": "y8"
        },
        {
         "line": {
          "color": "#3f3f3f"
         },
         "mode": "lines",
         "name": "Order=2",
         "showlegend": false,
         "type": "scattergl",
         "x": [
          7,
          7
         ],
         "xaxis": "x8",
         "y": [
          0,
          -0.11671670156844308
         ],
         "yaxis": "y8"
        },
        {
         "line": {
          "color": "#3f3f3f"
         },
         "mode": "lines",
         "name": "Order=2",
         "showlegend": false,
         "type": "scattergl",
         "x": [
          8,
          8
         ],
         "xaxis": "x8",
         "y": [
          0,
          -0.009598943207427761
         ],
         "yaxis": "y8"
        },
        {
         "line": {
          "color": "#3f3f3f"
         },
         "mode": "lines",
         "name": "Order=2",
         "showlegend": false,
         "type": "scattergl",
         "x": [
          9,
          9
         ],
         "xaxis": "x8",
         "y": [
          0,
          0.1637508365636434
         ],
         "yaxis": "y8"
        },
        {
         "line": {
          "color": "#3f3f3f"
         },
         "mode": "lines",
         "name": "Order=2",
         "showlegend": false,
         "type": "scattergl",
         "x": [
          10,
          10
         ],
         "xaxis": "x8",
         "y": [
          0,
          -0.193960253388673
         ],
         "yaxis": "y8"
        },
        {
         "line": {
          "color": "#3f3f3f"
         },
         "mode": "lines",
         "name": "Order=2",
         "showlegend": false,
         "type": "scattergl",
         "x": [
          11,
          11
         ],
         "xaxis": "x8",
         "y": [
          0,
          0.19084317038704796
         ],
         "yaxis": "y8"
        },
        {
         "line": {
          "color": "#3f3f3f"
         },
         "mode": "lines",
         "name": "Order=2",
         "showlegend": false,
         "type": "scattergl",
         "x": [
          12,
          12
         ],
         "xaxis": "x8",
         "y": [
          0,
          -0.06879753717605709
         ],
         "yaxis": "y8"
        },
        {
         "line": {
          "color": "#3f3f3f"
         },
         "mode": "lines",
         "name": "Order=2",
         "showlegend": false,
         "type": "scattergl",
         "x": [
          13,
          13
         ],
         "xaxis": "x8",
         "y": [
          0,
          -0.11249142707419212
         ],
         "yaxis": "y8"
        },
        {
         "line": {
          "color": "#3f3f3f"
         },
         "mode": "lines",
         "name": "Order=2",
         "showlegend": false,
         "type": "scattergl",
         "x": [
          14,
          14
         ],
         "xaxis": "x8",
         "y": [
          0,
          0.13028079150049887
         ],
         "yaxis": "y8"
        },
        {
         "line": {
          "color": "#3f3f3f"
         },
         "mode": "lines",
         "name": "Order=2",
         "showlegend": false,
         "type": "scattergl",
         "x": [
          15,
          15
         ],
         "xaxis": "x8",
         "y": [
          0,
          -0.10437696096035026
         ],
         "yaxis": "y8"
        },
        {
         "line": {
          "color": "#3f3f3f"
         },
         "mode": "lines",
         "name": "Order=2",
         "showlegend": false,
         "type": "scattergl",
         "x": [
          16,
          16
         ],
         "xaxis": "x8",
         "y": [
          0,
          0.053936331360693
         ],
         "yaxis": "y8"
        },
        {
         "line": {
          "color": "#3f3f3f"
         },
         "mode": "lines",
         "name": "Order=2",
         "showlegend": false,
         "type": "scattergl",
         "x": [
          17,
          17
         ],
         "xaxis": "x8",
         "y": [
          0,
          0.028708061389116205
         ],
         "yaxis": "y8"
        },
        {
         "line": {
          "color": "#3f3f3f"
         },
         "mode": "lines",
         "name": "Order=2",
         "showlegend": false,
         "type": "scattergl",
         "x": [
          18,
          18
         ],
         "xaxis": "x8",
         "y": [
          0,
          -0.0812734837879233
         ],
         "yaxis": "y8"
        },
        {
         "line": {
          "color": "#3f3f3f"
         },
         "mode": "lines",
         "name": "Order=2",
         "showlegend": false,
         "type": "scattergl",
         "x": [
          19,
          19
         ],
         "xaxis": "x8",
         "y": [
          0,
          0.05978860509166672
         ],
         "yaxis": "y8"
        },
        {
         "line": {
          "color": "#3f3f3f"
         },
         "mode": "lines",
         "name": "Order=2",
         "showlegend": false,
         "type": "scattergl",
         "x": [
          20,
          20
         ],
         "xaxis": "x8",
         "y": [
          0,
          -0.027755487445528373
         ],
         "yaxis": "y8"
        },
        {
         "line": {
          "color": "#3f3f3f"
         },
         "mode": "lines",
         "name": "Order=2",
         "showlegend": false,
         "type": "scattergl",
         "x": [
          21,
          21
         ],
         "xaxis": "x8",
         "y": [
          0,
          -0.010811431657880103
         ],
         "yaxis": "y8"
        },
        {
         "line": {
          "color": "#3f3f3f"
         },
         "mode": "lines",
         "name": "Order=2",
         "showlegend": false,
         "type": "scattergl",
         "x": [
          22,
          22
         ],
         "xaxis": "x8",
         "y": [
          0,
          0.059729477162523886
         ],
         "yaxis": "y8"
        },
        {
         "line": {
          "color": "#3f3f3f"
         },
         "mode": "lines",
         "name": "Order=2",
         "showlegend": false,
         "type": "scattergl",
         "x": [
          23,
          23
         ],
         "xaxis": "x8",
         "y": [
          0,
          -0.009690519346909895
         ],
         "yaxis": "y8"
        },
        {
         "line": {
          "color": "#3f3f3f"
         },
         "mode": "lines",
         "name": "Order=2",
         "showlegend": false,
         "type": "scattergl",
         "x": [
          24,
          24
         ],
         "xaxis": "x8",
         "y": [
          0,
          -0.012472304571182318
         ],
         "yaxis": "y8"
        },
        {
         "line": {
          "color": "#3f3f3f"
         },
         "mode": "lines",
         "name": "Order=2",
         "showlegend": false,
         "type": "scattergl",
         "x": [
          25,
          25
         ],
         "xaxis": "x8",
         "y": [
          0,
          0.002156480401162446
         ],
         "yaxis": "y8"
        },
        {
         "line": {
          "color": "#3f3f3f"
         },
         "mode": "lines",
         "name": "Order=2",
         "showlegend": false,
         "type": "scattergl",
         "x": [
          26,
          26
         ],
         "xaxis": "x8",
         "y": [
          0,
          -0.029664221573235318
         ],
         "yaxis": "y8"
        },
        {
         "line": {
          "color": "#3f3f3f"
         },
         "mode": "lines",
         "name": "Order=2",
         "showlegend": false,
         "type": "scattergl",
         "x": [
          27,
          27
         ],
         "xaxis": "x8",
         "y": [
          0,
          -0.026970768225563053
         ],
         "yaxis": "y8"
        },
        {
         "line": {
          "color": "#3f3f3f"
         },
         "mode": "lines",
         "name": "Order=2",
         "showlegend": false,
         "type": "scattergl",
         "x": [
          28,
          28
         ],
         "xaxis": "x8",
         "y": [
          0,
          0.06347324052220357
         ],
         "yaxis": "y8"
        },
        {
         "line": {
          "color": "#3f3f3f"
         },
         "mode": "lines",
         "name": "Order=2",
         "showlegend": false,
         "type": "scattergl",
         "x": [
          29,
          29
         ],
         "xaxis": "x8",
         "y": [
          0,
          -0.007802564775001046
         ],
         "yaxis": "y8"
        },
        {
         "line": {
          "color": "#3f3f3f"
         },
         "mode": "lines",
         "name": "Order=2",
         "showlegend": false,
         "type": "scattergl",
         "x": [
          30,
          30
         ],
         "xaxis": "x8",
         "y": [
          0,
          -0.0020771614608185228
         ],
         "yaxis": "y8"
        },
        {
         "line": {
          "color": "#3f3f3f"
         },
         "mode": "lines",
         "name": "Order=2",
         "showlegend": false,
         "type": "scattergl",
         "x": [
          31,
          31
         ],
         "xaxis": "x8",
         "y": [
          0,
          0.010567343196601646
         ],
         "yaxis": "y8"
        },
        {
         "line": {
          "color": "#3f3f3f"
         },
         "mode": "lines",
         "name": "Order=2",
         "showlegend": false,
         "type": "scattergl",
         "x": [
          32,
          32
         ],
         "xaxis": "x8",
         "y": [
          0,
          -0.01671891347189458
         ],
         "yaxis": "y8"
        },
        {
         "line": {
          "color": "#3f3f3f"
         },
         "mode": "lines",
         "name": "Order=2",
         "showlegend": false,
         "type": "scattergl",
         "x": [
          33,
          33
         ],
         "xaxis": "x8",
         "y": [
          0,
          0.0031386318991600843
         ],
         "yaxis": "y8"
        },
        {
         "line": {
          "color": "#3f3f3f"
         },
         "mode": "lines",
         "name": "Order=2",
         "showlegend": false,
         "type": "scattergl",
         "x": [
          34,
          34
         ],
         "xaxis": "x8",
         "y": [
          0,
          -0.013785961247240956
         ],
         "yaxis": "y8"
        },
        {
         "line": {
          "color": "#3f3f3f"
         },
         "mode": "lines",
         "name": "Order=2",
         "showlegend": false,
         "type": "scattergl",
         "x": [
          35,
          35
         ],
         "xaxis": "x8",
         "y": [
          0,
          0.01566485617749427
         ],
         "yaxis": "y8"
        },
        {
         "line": {
          "color": "#3f3f3f"
         },
         "mode": "lines",
         "name": "Order=2",
         "showlegend": false,
         "type": "scattergl",
         "x": [
          36,
          36
         ],
         "xaxis": "x8",
         "y": [
          0,
          -0.052983359539327514
         ],
         "yaxis": "y8"
        },
        {
         "line": {
          "color": "#3f3f3f"
         },
         "mode": "lines",
         "name": "Order=2",
         "showlegend": false,
         "type": "scattergl",
         "x": [
          37,
          37
         ],
         "xaxis": "x8",
         "y": [
          0,
          0.04147584578222901
         ],
         "yaxis": "y8"
        },
        {
         "line": {
          "color": "#3f3f3f"
         },
         "mode": "lines",
         "name": "Order=2",
         "showlegend": false,
         "type": "scattergl",
         "x": [
          38,
          38
         ],
         "xaxis": "x8",
         "y": [
          0,
          0.02654682003985709
         ],
         "yaxis": "y8"
        },
        {
         "line": {
          "color": "#3f3f3f"
         },
         "mode": "lines",
         "name": "Order=2",
         "showlegend": false,
         "type": "scattergl",
         "x": [
          39,
          39
         ],
         "xaxis": "x8",
         "y": [
          0,
          -0.05020732385808702
         ],
         "yaxis": "y8"
        },
        {
         "line": {
          "color": "#3f3f3f"
         },
         "mode": "lines",
         "name": "Order=2",
         "showlegend": false,
         "type": "scattergl",
         "x": [
          40,
          40
         ],
         "xaxis": "x8",
         "y": [
          0,
          0.03551929372946463
         ],
         "yaxis": "y8"
        },
        {
         "marker": {
          "color": "#1f77b4",
          "size": 6
         },
         "mode": "markers",
         "name": "Order=2",
         "showlegend": false,
         "type": "scattergl",
         "x": [
          0,
          1,
          2,
          3,
          4,
          5,
          6,
          7,
          8,
          9,
          10,
          11,
          12,
          13,
          14,
          15,
          16,
          17,
          18,
          19,
          20,
          21,
          22,
          23,
          24,
          25,
          26,
          27,
          28,
          29,
          30,
          31,
          32,
          33,
          34,
          35,
          36,
          37,
          38,
          39,
          40
         ],
         "xaxis": "x8",
         "y": [
          1,
          -0.37292492470514155,
          -0.1771621015189585,
          0.18660388388173751,
          -0.21429652840181376,
          0.06444471039935433,
          0.08574993944898088,
          -0.11671670156844308,
          -0.009598943207427761,
          0.1637508365636434,
          -0.193960253388673,
          0.19084317038704796,
          -0.06879753717605709,
          -0.11249142707419212,
          0.13028079150049887,
          -0.10437696096035026,
          0.053936331360693,
          0.028708061389116205,
          -0.0812734837879233,
          0.05978860509166672,
          -0.027755487445528373,
          -0.010811431657880103,
          0.059729477162523886,
          -0.009690519346909895,
          -0.012472304571182318,
          0.002156480401162446,
          -0.029664221573235318,
          -0.026970768225563053,
          0.06347324052220357,
          -0.007802564775001046,
          -0.0020771614608185228,
          0.010567343196601646,
          -0.01671891347189458,
          0.0031386318991600843,
          -0.013785961247240956,
          0.01566485617749427,
          -0.052983359539327514,
          0.04147584578222901,
          0.02654682003985709,
          -0.05020732385808702,
          0.03551929372946463
         ],
         "yaxis": "y8"
        },
        {
         "line": {
          "color": "rgba(255,255,255,0)"
         },
         "mode": "lines",
         "name": "UC",
         "showlegend": false,
         "type": "scatter",
         "x": [
          0,
          1,
          2,
          3,
          4,
          5,
          6,
          7,
          8,
          9,
          10,
          11,
          12,
          13,
          14,
          15,
          16,
          17,
          18,
          19,
          20,
          21,
          22,
          23,
          24,
          25,
          26,
          27,
          28,
          29,
          30,
          31,
          32,
          33,
          34,
          35,
          36,
          37,
          38,
          39,
          40
         ],
         "xaxis": "x8",
         "y": [
          0,
          0.13824520037360766,
          0.15629327614403282,
          0.1600852451159799,
          0.16418972423618164,
          0.1694508839647037,
          0.16991865337385595,
          0.17074369076952678,
          0.17226177229407466,
          0.17227199451286881,
          0.1752215086744181,
          0.1792779022668471,
          0.1831193809921464,
          0.1836126990371498,
          0.18492516141381343,
          0.1866710623790215,
          0.18778315431182868,
          0.18807899937665523,
          0.18816272741066897,
          0.1888324455825413,
          0.18919389281428223,
          0.18927169672715988,
          0.18928349904547528,
          0.18964337442854703,
          0.18965283779636674,
          0.18966851311029229,
          0.1896689817028422,
          0.18975762956079914,
          0.18983087889775332,
          0.19023606203902207,
          0.19024217814583752,
          0.19024261159017386,
          0.19025382947936612,
          0.19028190648395973,
          0.19028289590757125,
          0.19030198356786,
          0.19032662588347748,
          0.19060830736997095,
          0.19078071339368843,
          0.190851298055046,
          0.19110356028378633
         ],
         "yaxis": "y8"
        },
        {
         "fill": "tonexty",
         "fillcolor": "rgba(32, 146, 230,0.3)",
         "line": {
          "color": "rgba(255,255,255,0)"
         },
         "mode": "lines",
         "name": "LC",
         "showlegend": false,
         "type": "scatter",
         "x": [
          0,
          1,
          2,
          3,
          4,
          5,
          6,
          7,
          8,
          9,
          10,
          11,
          12,
          13,
          14,
          15,
          16,
          17,
          18,
          19,
          20,
          21,
          22,
          23,
          24,
          25,
          26,
          27,
          28,
          29,
          30,
          31,
          32,
          33,
          34,
          35,
          36,
          37,
          38,
          39,
          40
         ],
         "xaxis": "x8",
         "y": [
          0,
          -0.1382452003736077,
          -0.15629327614403282,
          -0.16008524511597994,
          -0.16418972423618164,
          -0.16945088396470373,
          -0.16991865337385595,
          -0.17074369076952675,
          -0.17226177229407466,
          -0.17227199451286884,
          -0.1752215086744181,
          -0.17927790226684712,
          -0.18311938099214642,
          -0.18361269903714977,
          -0.18492516141381343,
          -0.18667106237902148,
          -0.18778315431182868,
          -0.18807899937665523,
          -0.18816272741066897,
          -0.1888324455825413,
          -0.18919389281428223,
          -0.18927169672715988,
          -0.18928349904547528,
          -0.18964337442854703,
          -0.18965283779636674,
          -0.18966851311029229,
          -0.1896689817028422,
          -0.18975762956079914,
          -0.1898308788977533,
          -0.19023606203902207,
          -0.19024217814583752,
          -0.19024261159017386,
          -0.19025382947936612,
          -0.19028190648395973,
          -0.19028289590757125,
          -0.19030198356786,
          -0.19032662588347748,
          -0.19060830736997095,
          -0.19078071339368843,
          -0.190851298055046,
          -0.19110356028378633
         ],
         "yaxis": "y8"
        },
        {
         "line": {
          "color": "#3f3f3f"
         },
         "mode": "lines",
         "name": "Order=2",
         "showlegend": false,
         "type": "scattergl",
         "x": [
          0,
          0
         ],
         "xaxis": "x9",
         "y": [
          0,
          1
         ],
         "yaxis": "y9"
        },
        {
         "line": {
          "color": "#3f3f3f"
         },
         "mode": "lines",
         "name": "Order=2",
         "showlegend": false,
         "type": "scattergl",
         "x": [
          1,
          1
         ],
         "xaxis": "x9",
         "y": [
          0,
          -0.37478954932866715
         ],
         "yaxis": "y9"
        },
        {
         "line": {
          "color": "#3f3f3f"
         },
         "mode": "lines",
         "name": "Order=2",
         "showlegend": false,
         "type": "scattergl",
         "x": [
          2,
          2
         ],
         "xaxis": "x9",
         "y": [
          0,
          -0.3716086620245637
         ],
         "yaxis": "y9"
        },
        {
         "line": {
          "color": "#3f3f3f"
         },
         "mode": "lines",
         "name": "Order=2",
         "showlegend": false,
         "type": "scattergl",
         "x": [
          3,
          3
         ],
         "xaxis": "x9",
         "y": [
          0,
          -0.05646569531013652
         ],
         "yaxis": "y9"
        },
        {
         "line": {
          "color": "#3f3f3f"
         },
         "mode": "lines",
         "name": "Order=2",
         "showlegend": false,
         "type": "scattergl",
         "x": [
          4,
          4
         ],
         "xaxis": "x9",
         "y": [
          0,
          -0.2845681448438712
         ],
         "yaxis": "y9"
        },
        {
         "line": {
          "color": "#3f3f3f"
         },
         "mode": "lines",
         "name": "Order=2",
         "showlegend": false,
         "type": "scattergl",
         "x": [
          5,
          5
         ],
         "xaxis": "x9",
         "y": [
          0,
          -0.1487084740271832
         ],
         "yaxis": "y9"
        },
        {
         "line": {
          "color": "#3f3f3f"
         },
         "mode": "lines",
         "name": "Order=2",
         "showlegend": false,
         "type": "scattergl",
         "x": [
          6,
          6
         ],
         "xaxis": "x9",
         "y": [
          0,
          -0.08888433411828806
         ],
         "yaxis": "y9"
        },
        {
         "line": {
          "color": "#3f3f3f"
         },
         "mode": "lines",
         "name": "Order=2",
         "showlegend": false,
         "type": "scattergl",
         "x": [
          7,
          7
         ],
         "xaxis": "x9",
         "y": [
          0,
          -0.13326956942687773
         ],
         "yaxis": "y9"
        },
        {
         "line": {
          "color": "#3f3f3f"
         },
         "mode": "lines",
         "name": "Order=2",
         "showlegend": false,
         "type": "scattergl",
         "x": [
          8,
          8
         ],
         "xaxis": "x9",
         "y": [
          0,
          -0.2079361501155785
         ],
         "yaxis": "y9"
        },
        {
         "line": {
          "color": "#3f3f3f"
         },
         "mode": "lines",
         "name": "Order=2",
         "showlegend": false,
         "type": "scattergl",
         "x": [
          9,
          9
         ],
         "xaxis": "x9",
         "y": [
          0,
          0.024375306989366886
         ],
         "yaxis": "y9"
        },
        {
         "line": {
          "color": "#3f3f3f"
         },
         "mode": "lines",
         "name": "Order=2",
         "showlegend": false,
         "type": "scattergl",
         "x": [
          10,
          10
         ],
         "xaxis": "x9",
         "y": [
          0,
          -0.19628192306318362
         ],
         "yaxis": "y9"
        },
        {
         "line": {
          "color": "#3f3f3f"
         },
         "mode": "lines",
         "name": "Order=2",
         "showlegend": false,
         "type": "scattergl",
         "x": [
          11,
          11
         ],
         "xaxis": "x9",
         "y": [
          0,
          0.11539152088205215
         ],
         "yaxis": "y9"
        },
        {
         "line": {
          "color": "#3f3f3f"
         },
         "mode": "lines",
         "name": "Order=2",
         "showlegend": false,
         "type": "scattergl",
         "x": [
          12,
          12
         ],
         "xaxis": "x9",
         "y": [
          0,
          -0.07526742595947983
         ],
         "yaxis": "y9"
        },
        {
         "line": {
          "color": "#3f3f3f"
         },
         "mode": "lines",
         "name": "Order=2",
         "showlegend": false,
         "type": "scattergl",
         "x": [
          13,
          13
         ],
         "xaxis": "x9",
         "y": [
          0,
          -0.02793828364661031
         ],
         "yaxis": "y9"
        },
        {
         "line": {
          "color": "#3f3f3f"
         },
         "mode": "lines",
         "name": "Order=2",
         "showlegend": false,
         "type": "scattergl",
         "x": [
          14,
          14
         ],
         "xaxis": "x9",
         "y": [
          0,
          -0.05082056953230282
         ],
         "yaxis": "y9"
        },
        {
         "line": {
          "color": "#3f3f3f"
         },
         "mode": "lines",
         "name": "Order=2",
         "showlegend": false,
         "type": "scattergl",
         "x": [
          15,
          15
         ],
         "xaxis": "x9",
         "y": [
          0,
          -0.09343278008988469
         ],
         "yaxis": "y9"
        },
        {
         "line": {
          "color": "#3f3f3f"
         },
         "mode": "lines",
         "name": "Order=2",
         "showlegend": false,
         "type": "scattergl",
         "x": [
          16,
          16
         ],
         "xaxis": "x9",
         "y": [
          0,
          -0.02597993459044987
         ],
         "yaxis": "y9"
        },
        {
         "line": {
          "color": "#3f3f3f"
         },
         "mode": "lines",
         "name": "Order=2",
         "showlegend": false,
         "type": "scattergl",
         "x": [
          17,
          17
         ],
         "xaxis": "x9",
         "y": [
          0,
          -0.042753878854633776
         ],
         "yaxis": "y9"
        },
        {
         "line": {
          "color": "#3f3f3f"
         },
         "mode": "lines",
         "name": "Order=2",
         "showlegend": false,
         "type": "scattergl",
         "x": [
          18,
          18
         ],
         "xaxis": "x9",
         "y": [
          0,
          -0.11987355497005608
         ],
         "yaxis": "y9"
        },
        {
         "line": {
          "color": "#3f3f3f"
         },
         "mode": "lines",
         "name": "Order=2",
         "showlegend": false,
         "type": "scattergl",
         "x": [
          19,
          19
         ],
         "xaxis": "x9",
         "y": [
          0,
          -0.007779477426822018
         ],
         "yaxis": "y9"
        },
        {
         "line": {
          "color": "#3f3f3f"
         },
         "mode": "lines",
         "name": "Order=2",
         "showlegend": false,
         "type": "scattergl",
         "x": [
          20,
          20
         ],
         "xaxis": "x9",
         "y": [
          0,
          -0.1853322394645551
         ],
         "yaxis": "y9"
        },
        {
         "line": {
          "color": "#3f3f3f"
         },
         "mode": "lines",
         "name": "Order=2",
         "showlegend": false,
         "type": "scattergl",
         "x": [
          21,
          21
         ],
         "xaxis": "x9",
         "y": [
          0,
          -0.04959028839110013
         ],
         "yaxis": "y9"
        },
        {
         "line": {
          "color": "#3f3f3f"
         },
         "mode": "lines",
         "name": "Order=2",
         "showlegend": false,
         "type": "scattergl",
         "x": [
          22,
          22
         ],
         "xaxis": "x9",
         "y": [
          0,
          -0.09515020863464357
         ],
         "yaxis": "y9"
        },
        {
         "line": {
          "color": "#3f3f3f"
         },
         "mode": "lines",
         "name": "Order=2",
         "showlegend": false,
         "type": "scattergl",
         "x": [
          23,
          23
         ],
         "xaxis": "x9",
         "y": [
          0,
          -0.012675407369240783
         ],
         "yaxis": "y9"
        },
        {
         "marker": {
          "color": "#1f77b4",
          "size": 6
         },
         "mode": "markers",
         "name": "Order=2",
         "showlegend": false,
         "type": "scattergl",
         "x": [
          0,
          1,
          2,
          3,
          4,
          5,
          6,
          7,
          8,
          9,
          10,
          11,
          12,
          13,
          14,
          15,
          16,
          17,
          18,
          19,
          20,
          21,
          22,
          23
         ],
         "xaxis": "x9",
         "y": [
          1,
          -0.37478954932866715,
          -0.3716086620245637,
          -0.05646569531013652,
          -0.2845681448438712,
          -0.1487084740271832,
          -0.08888433411828806,
          -0.13326956942687773,
          -0.2079361501155785,
          0.024375306989366886,
          -0.19628192306318362,
          0.11539152088205215,
          -0.07526742595947983,
          -0.02793828364661031,
          -0.05082056953230282,
          -0.09343278008988469,
          -0.02597993459044987,
          -0.042753878854633776,
          -0.11987355497005608,
          -0.007779477426822018,
          -0.1853322394645551,
          -0.04959028839110013,
          -0.09515020863464357,
          -0.012675407369240783
         ],
         "yaxis": "y9"
        },
        {
         "line": {
          "color": "rgba(255,255,255,0)"
         },
         "mode": "lines",
         "name": "UC",
         "showlegend": false,
         "type": "scatter",
         "x": [
          0,
          1,
          2,
          3,
          4,
          5,
          6,
          7,
          8,
          9,
          10,
          11,
          12,
          13,
          14,
          15,
          16,
          17,
          18,
          19,
          20,
          21,
          22,
          23
         ],
         "xaxis": "x9",
         "y": [
          0,
          0.13824520037360766,
          0.13824520037360766,
          0.13824520037360766,
          0.13824520037360766,
          0.13824520037360766,
          0.13824520037360766,
          0.13824520037360766,
          0.13824520037360766,
          0.13824520037360766,
          0.13824520037360766,
          0.13824520037360769,
          0.13824520037360766,
          0.13824520037360766,
          0.13824520037360766,
          0.13824520037360766,
          0.13824520037360766,
          0.13824520037360766,
          0.13824520037360766,
          0.13824520037360766,
          0.13824520037360766,
          0.13824520037360766,
          0.13824520037360766,
          0.13824520037360766
         ],
         "yaxis": "y9"
        },
        {
         "fill": "tonexty",
         "fillcolor": "rgba(32, 146, 230,0.3)",
         "line": {
          "color": "rgba(255,255,255,0)"
         },
         "mode": "lines",
         "name": "LC",
         "showlegend": false,
         "type": "scatter",
         "x": [
          0,
          1,
          2,
          3,
          4,
          5,
          6,
          7,
          8,
          9,
          10,
          11,
          12,
          13,
          14,
          15,
          16,
          17,
          18,
          19,
          20,
          21,
          22,
          23
         ],
         "xaxis": "x9",
         "y": [
          0,
          -0.13824520037360766,
          -0.1382452003736077,
          -0.13824520037360766,
          -0.13824520037360766,
          -0.13824520037360769,
          -0.13824520037360766,
          -0.13824520037360766,
          -0.13824520037360769,
          -0.13824520037360766,
          -0.13824520037360763,
          -0.13824520037360766,
          -0.13824520037360766,
          -0.13824520037360766,
          -0.13824520037360766,
          -0.13824520037360766,
          -0.13824520037360766,
          -0.13824520037360766,
          -0.13824520037360766,
          -0.13824520037360766,
          -0.13824520037360769,
          -0.13824520037360766,
          -0.13824520037360766,
          -0.13824520037360766
         ],
         "yaxis": "y9"
        }
       ],
       "layout": {
        "annotations": [
         {
          "font": {
           "size": 16
          },
          "showarrow": false,
          "text": "cpi (transformed)",
          "x": 0.1411111111111111,
          "xanchor": "center",
          "xref": "paper",
          "y": 1,
          "yanchor": "bottom",
          "yref": "paper"
         },
         {
          "font": {
           "size": 16
          },
          "showarrow": false,
          "text": "ACF",
          "x": 0.49,
          "xanchor": "center",
          "xref": "paper",
          "y": 1,
          "yanchor": "bottom",
          "yref": "paper"
         },
         {
          "font": {
           "size": 16
          },
          "showarrow": false,
          "text": "PACF",
          "x": 0.8388888888888888,
          "xanchor": "center",
          "xref": "paper",
          "y": 1,
          "yanchor": "bottom",
          "yref": "paper"
         },
         {
          "font": {
           "size": 16
          },
          "showarrow": false,
          "text": "Actual",
          "textangle": 90,
          "x": 0.98,
          "xanchor": "left",
          "xref": "paper",
          "y": 0.8666666666666667,
          "yanchor": "middle",
          "yref": "paper"
         },
         {
          "font": {
           "size": 16
          },
          "showarrow": false,
          "text": "Order=1",
          "textangle": 90,
          "x": 0.98,
          "xanchor": "left",
          "xref": "paper",
          "y": 0.5,
          "yanchor": "middle",
          "yref": "paper"
         },
         {
          "font": {
           "size": 16
          },
          "showarrow": false,
          "text": "Order=2",
          "textangle": 90,
          "x": 0.98,
          "xanchor": "left",
          "xref": "paper",
          "y": 0.13333333333333333,
          "yanchor": "middle",
          "yref": "paper"
         }
        ],
        "showlegend": false,
        "template": {
         "data": {
          "bar": [
           {
            "error_x": {
             "color": "rgb(51,51,51)"
            },
            "error_y": {
             "color": "rgb(51,51,51)"
            },
            "marker": {
             "line": {
              "color": "rgb(237,237,237)",
              "width": 0.5
             },
             "pattern": {
              "fillmode": "overlay",
              "size": 10,
              "solidity": 0.2
             }
            },
            "type": "bar"
           }
          ],
          "barpolar": [
           {
            "marker": {
             "line": {
              "color": "rgb(237,237,237)",
              "width": 0.5
             },
             "pattern": {
              "fillmode": "overlay",
              "size": 10,
              "solidity": 0.2
             }
            },
            "type": "barpolar"
           }
          ],
          "carpet": [
           {
            "aaxis": {
             "endlinecolor": "rgb(51,51,51)",
             "gridcolor": "white",
             "linecolor": "white",
             "minorgridcolor": "white",
             "startlinecolor": "rgb(51,51,51)"
            },
            "baxis": {
             "endlinecolor": "rgb(51,51,51)",
             "gridcolor": "white",
             "linecolor": "white",
             "minorgridcolor": "white",
             "startlinecolor": "rgb(51,51,51)"
            },
            "type": "carpet"
           }
          ],
          "choropleth": [
           {
            "colorbar": {
             "outlinewidth": 0,
             "tickcolor": "rgb(237,237,237)",
             "ticklen": 6,
             "ticks": "inside"
            },
            "type": "choropleth"
           }
          ],
          "contour": [
           {
            "colorbar": {
             "outlinewidth": 0,
             "tickcolor": "rgb(237,237,237)",
             "ticklen": 6,
             "ticks": "inside"
            },
            "colorscale": [
             [
              0,
              "rgb(20,44,66)"
             ],
             [
              1,
              "rgb(90,179,244)"
             ]
            ],
            "type": "contour"
           }
          ],
          "contourcarpet": [
           {
            "colorbar": {
             "outlinewidth": 0,
             "tickcolor": "rgb(237,237,237)",
             "ticklen": 6,
             "ticks": "inside"
            },
            "type": "contourcarpet"
           }
          ],
          "heatmap": [
           {
            "colorbar": {
             "outlinewidth": 0,
             "tickcolor": "rgb(237,237,237)",
             "ticklen": 6,
             "ticks": "inside"
            },
            "colorscale": [
             [
              0,
              "rgb(20,44,66)"
             ],
             [
              1,
              "rgb(90,179,244)"
             ]
            ],
            "type": "heatmap"
           }
          ],
          "heatmapgl": [
           {
            "colorbar": {
             "outlinewidth": 0,
             "tickcolor": "rgb(237,237,237)",
             "ticklen": 6,
             "ticks": "inside"
            },
            "colorscale": [
             [
              0,
              "rgb(20,44,66)"
             ],
             [
              1,
              "rgb(90,179,244)"
             ]
            ],
            "type": "heatmapgl"
           }
          ],
          "histogram": [
           {
            "marker": {
             "pattern": {
              "fillmode": "overlay",
              "size": 10,
              "solidity": 0.2
             }
            },
            "type": "histogram"
           }
          ],
          "histogram2d": [
           {
            "colorbar": {
             "outlinewidth": 0,
             "tickcolor": "rgb(237,237,237)",
             "ticklen": 6,
             "ticks": "inside"
            },
            "colorscale": [
             [
              0,
              "rgb(20,44,66)"
             ],
             [
              1,
              "rgb(90,179,244)"
             ]
            ],
            "type": "histogram2d"
           }
          ],
          "histogram2dcontour": [
           {
            "colorbar": {
             "outlinewidth": 0,
             "tickcolor": "rgb(237,237,237)",
             "ticklen": 6,
             "ticks": "inside"
            },
            "colorscale": [
             [
              0,
              "rgb(20,44,66)"
             ],
             [
              1,
              "rgb(90,179,244)"
             ]
            ],
            "type": "histogram2dcontour"
           }
          ],
          "mesh3d": [
           {
            "colorbar": {
             "outlinewidth": 0,
             "tickcolor": "rgb(237,237,237)",
             "ticklen": 6,
             "ticks": "inside"
            },
            "type": "mesh3d"
           }
          ],
          "parcoords": [
           {
            "line": {
             "colorbar": {
              "outlinewidth": 0,
              "tickcolor": "rgb(237,237,237)",
              "ticklen": 6,
              "ticks": "inside"
             }
            },
            "type": "parcoords"
           }
          ],
          "pie": [
           {
            "automargin": true,
            "type": "pie"
           }
          ],
          "scatter": [
           {
            "fillpattern": {
             "fillmode": "overlay",
             "size": 10,
             "solidity": 0.2
            },
            "type": "scatter"
           }
          ],
          "scatter3d": [
           {
            "line": {
             "colorbar": {
              "outlinewidth": 0,
              "tickcolor": "rgb(237,237,237)",
              "ticklen": 6,
              "ticks": "inside"
             }
            },
            "marker": {
             "colorbar": {
              "outlinewidth": 0,
              "tickcolor": "rgb(237,237,237)",
              "ticklen": 6,
              "ticks": "inside"
             }
            },
            "type": "scatter3d"
           }
          ],
          "scattercarpet": [
           {
            "marker": {
             "colorbar": {
              "outlinewidth": 0,
              "tickcolor": "rgb(237,237,237)",
              "ticklen": 6,
              "ticks": "inside"
             }
            },
            "type": "scattercarpet"
           }
          ],
          "scattergeo": [
           {
            "marker": {
             "colorbar": {
              "outlinewidth": 0,
              "tickcolor": "rgb(237,237,237)",
              "ticklen": 6,
              "ticks": "inside"
             }
            },
            "type": "scattergeo"
           }
          ],
          "scattergl": [
           {
            "marker": {
             "colorbar": {
              "outlinewidth": 0,
              "tickcolor": "rgb(237,237,237)",
              "ticklen": 6,
              "ticks": "inside"
             }
            },
            "type": "scattergl"
           }
          ],
          "scattermapbox": [
           {
            "marker": {
             "colorbar": {
              "outlinewidth": 0,
              "tickcolor": "rgb(237,237,237)",
              "ticklen": 6,
              "ticks": "inside"
             }
            },
            "type": "scattermapbox"
           }
          ],
          "scatterpolar": [
           {
            "marker": {
             "colorbar": {
              "outlinewidth": 0,
              "tickcolor": "rgb(237,237,237)",
              "ticklen": 6,
              "ticks": "inside"
             }
            },
            "type": "scatterpolar"
           }
          ],
          "scatterpolargl": [
           {
            "marker": {
             "colorbar": {
              "outlinewidth": 0,
              "tickcolor": "rgb(237,237,237)",
              "ticklen": 6,
              "ticks": "inside"
             }
            },
            "type": "scatterpolargl"
           }
          ],
          "scatterternary": [
           {
            "marker": {
             "colorbar": {
              "outlinewidth": 0,
              "tickcolor": "rgb(237,237,237)",
              "ticklen": 6,
              "ticks": "inside"
             }
            },
            "type": "scatterternary"
           }
          ],
          "surface": [
           {
            "colorbar": {
             "outlinewidth": 0,
             "tickcolor": "rgb(237,237,237)",
             "ticklen": 6,
             "ticks": "inside"
            },
            "colorscale": [
             [
              0,
              "rgb(20,44,66)"
             ],
             [
              1,
              "rgb(90,179,244)"
             ]
            ],
            "type": "surface"
           }
          ],
          "table": [
           {
            "cells": {
             "fill": {
              "color": "rgb(237,237,237)"
             },
             "line": {
              "color": "white"
             }
            },
            "header": {
             "fill": {
              "color": "rgb(217,217,217)"
             },
             "line": {
              "color": "white"
             }
            },
            "type": "table"
           }
          ]
         },
         "layout": {
          "annotationdefaults": {
           "arrowhead": 0,
           "arrowwidth": 1
          },
          "autotypenumbers": "strict",
          "coloraxis": {
           "colorbar": {
            "outlinewidth": 0,
            "tickcolor": "rgb(237,237,237)",
            "ticklen": 6,
            "ticks": "inside"
           }
          },
          "colorscale": {
           "sequential": [
            [
             0,
             "rgb(20,44,66)"
            ],
            [
             1,
             "rgb(90,179,244)"
            ]
           ],
           "sequentialminus": [
            [
             0,
             "rgb(20,44,66)"
            ],
            [
             1,
             "rgb(90,179,244)"
            ]
           ]
          },
          "colorway": [
           "#F8766D",
           "#A3A500",
           "#00BF7D",
           "#00B0F6",
           "#E76BF3"
          ],
          "font": {
           "color": "rgb(51,51,51)"
          },
          "geo": {
           "bgcolor": "white",
           "lakecolor": "white",
           "landcolor": "rgb(237,237,237)",
           "showlakes": true,
           "showland": true,
           "subunitcolor": "white"
          },
          "hoverlabel": {
           "align": "left"
          },
          "hovermode": "closest",
          "paper_bgcolor": "white",
          "plot_bgcolor": "rgb(237,237,237)",
          "polar": {
           "angularaxis": {
            "gridcolor": "white",
            "linecolor": "white",
            "showgrid": true,
            "tickcolor": "rgb(51,51,51)",
            "ticks": "outside"
           },
           "bgcolor": "rgb(237,237,237)",
           "radialaxis": {
            "gridcolor": "white",
            "linecolor": "white",
            "showgrid": true,
            "tickcolor": "rgb(51,51,51)",
            "ticks": "outside"
           }
          },
          "scene": {
           "xaxis": {
            "backgroundcolor": "rgb(237,237,237)",
            "gridcolor": "white",
            "gridwidth": 2,
            "linecolor": "white",
            "showbackground": true,
            "showgrid": true,
            "tickcolor": "rgb(51,51,51)",
            "ticks": "outside",
            "zerolinecolor": "white"
           },
           "yaxis": {
            "backgroundcolor": "rgb(237,237,237)",
            "gridcolor": "white",
            "gridwidth": 2,
            "linecolor": "white",
            "showbackground": true,
            "showgrid": true,
            "tickcolor": "rgb(51,51,51)",
            "ticks": "outside",
            "zerolinecolor": "white"
           },
           "zaxis": {
            "backgroundcolor": "rgb(237,237,237)",
            "gridcolor": "white",
            "gridwidth": 2,
            "linecolor": "white",
            "showbackground": true,
            "showgrid": true,
            "tickcolor": "rgb(51,51,51)",
            "ticks": "outside",
            "zerolinecolor": "white"
           }
          },
          "shapedefaults": {
           "fillcolor": "black",
           "line": {
            "width": 0
           },
           "opacity": 0.3
          },
          "ternary": {
           "aaxis": {
            "gridcolor": "white",
            "linecolor": "white",
            "showgrid": true,
            "tickcolor": "rgb(51,51,51)",
            "ticks": "outside"
           },
           "baxis": {
            "gridcolor": "white",
            "linecolor": "white",
            "showgrid": true,
            "tickcolor": "rgb(51,51,51)",
            "ticks": "outside"
           },
           "bgcolor": "rgb(237,237,237)",
           "caxis": {
            "gridcolor": "white",
            "linecolor": "white",
            "showgrid": true,
            "tickcolor": "rgb(51,51,51)",
            "ticks": "outside"
           }
          },
          "xaxis": {
           "automargin": true,
           "gridcolor": "white",
           "linecolor": "white",
           "showgrid": true,
           "tickcolor": "rgb(51,51,51)",
           "ticks": "outside",
           "title": {
            "standoff": 15
           },
           "zerolinecolor": "white"
          },
          "yaxis": {
           "automargin": true,
           "gridcolor": "white",
           "linecolor": "white",
           "showgrid": true,
           "tickcolor": "rgb(51,51,51)",
           "ticks": "outside",
           "title": {
            "standoff": 15
           },
           "zerolinecolor": "white"
          }
         }
        },
        "title": {
         "text": "Difference Plot | cpi"
        },
        "xaxis": {
         "anchor": "y",
         "domain": [
          0,
          0.2822222222222222
         ],
         "matches": "x7",
         "showticklabels": false
        },
        "xaxis2": {
         "anchor": "y2",
         "domain": [
          0.34888888888888886,
          0.6311111111111111
         ],
         "matches": "x8",
         "range": [
          -1,
          42
         ],
         "showticklabels": false
        },
        "xaxis3": {
         "anchor": "y3",
         "domain": [
          0.6977777777777777,
          0.98
         ],
         "matches": "x9",
         "range": [
          -1,
          25
         ],
         "showticklabels": false
        },
        "xaxis4": {
         "anchor": "y4",
         "domain": [
          0,
          0.2822222222222222
         ],
         "matches": "x7",
         "showticklabels": false
        },
        "xaxis5": {
         "anchor": "y5",
         "domain": [
          0.34888888888888886,
          0.6311111111111111
         ],
         "matches": "x8",
         "range": [
          -1,
          42
         ],
         "showticklabels": false
        },
        "xaxis6": {
         "anchor": "y6",
         "domain": [
          0.6977777777777777,
          0.98
         ],
         "matches": "x9",
         "range": [
          -1,
          25
         ],
         "showticklabels": false
        },
        "xaxis7": {
         "anchor": "y7",
         "domain": [
          0,
          0.2822222222222222
         ]
        },
        "xaxis8": {
         "anchor": "y8",
         "domain": [
          0.34888888888888886,
          0.6311111111111111
         ],
         "range": [
          -1,
          42
         ]
        },
        "xaxis9": {
         "anchor": "y9",
         "domain": [
          0.6977777777777777,
          0.98
         ],
         "range": [
          -1,
          25
         ]
        },
        "yaxis": {
         "anchor": "x",
         "domain": [
          0.7333333333333333,
          1
         ]
        },
        "yaxis2": {
         "anchor": "x2",
         "domain": [
          0.7333333333333333,
          1
         ],
         "range": [
          -1.1,
          1.1
         ],
         "zerolinecolor": "#000000"
        },
        "yaxis3": {
         "anchor": "x3",
         "domain": [
          0.7333333333333333,
          1
         ],
         "range": [
          -1.1,
          1.1
         ],
         "zerolinecolor": "#000000"
        },
        "yaxis4": {
         "anchor": "x4",
         "domain": [
          0.36666666666666664,
          0.6333333333333333
         ]
        },
        "yaxis5": {
         "anchor": "x5",
         "domain": [
          0.36666666666666664,
          0.6333333333333333
         ],
         "range": [
          -1.1,
          1.1
         ],
         "zerolinecolor": "#000000"
        },
        "yaxis6": {
         "anchor": "x6",
         "domain": [
          0.36666666666666664,
          0.6333333333333333
         ],
         "range": [
          -1.1,
          1.1
         ],
         "zerolinecolor": "#000000"
        },
        "yaxis7": {
         "anchor": "x7",
         "domain": [
          0,
          0.26666666666666666
         ]
        },
        "yaxis8": {
         "anchor": "x8",
         "domain": [
          0,
          0.26666666666666666
         ],
         "range": [
          -1.1,
          1.1
         ],
         "zerolinecolor": "#000000"
        },
        "yaxis9": {
         "anchor": "x9",
         "domain": [
          0,
          0.26666666666666666
         ],
         "range": [
          -1.1,
          1.1
         ],
         "zerolinecolor": "#000000"
        }
       }
      }
     },
     "metadata": {},
     "output_type": "display_data"
    }
   ],
   "source": [
    "exp.plot_model(plot=\"diff\", data_kwargs={\"order_list\": [1,2], \"acf\": True, \"pacf\": True})"
   ]
  },
  {
   "cell_type": "code",
   "execution_count": 22,
   "metadata": {},
   "outputs": [
    {
     "data": {
      "application/vnd.plotly.v1+json": {
       "config": {
        "plotlyServerURL": "https://plot.ly"
       },
       "data": [
        {
         "line": {
          "color": "rgb(31, 119, 180)",
          "width": 2
         },
         "marker": {
          "color": "rgb(31, 119, 180)",
          "size": 5
         },
         "mode": "lines+markers",
         "name": "Actual",
         "showlegend": false,
         "type": "scattergl",
         "x": [
          "1959-01-01T00:00:00",
          "1959-04-01T00:00:00",
          "1959-07-01T00:00:00",
          "1959-10-01T00:00:00",
          "1960-01-01T00:00:00",
          "1960-04-01T00:00:00",
          "1960-07-01T00:00:00",
          "1960-10-01T00:00:00",
          "1961-01-01T00:00:00",
          "1961-04-01T00:00:00",
          "1961-07-01T00:00:00",
          "1961-10-01T00:00:00",
          "1962-01-01T00:00:00",
          "1962-04-01T00:00:00",
          "1962-07-01T00:00:00",
          "1962-10-01T00:00:00",
          "1963-01-01T00:00:00",
          "1963-04-01T00:00:00",
          "1963-07-01T00:00:00",
          "1963-10-01T00:00:00",
          "1964-01-01T00:00:00",
          "1964-04-01T00:00:00",
          "1964-07-01T00:00:00",
          "1964-10-01T00:00:00",
          "1965-01-01T00:00:00",
          "1965-04-01T00:00:00",
          "1965-07-01T00:00:00",
          "1965-10-01T00:00:00",
          "1966-01-01T00:00:00",
          "1966-04-01T00:00:00",
          "1966-07-01T00:00:00",
          "1966-10-01T00:00:00",
          "1967-01-01T00:00:00",
          "1967-04-01T00:00:00",
          "1967-07-01T00:00:00",
          "1967-10-01T00:00:00",
          "1968-01-01T00:00:00",
          "1968-04-01T00:00:00",
          "1968-07-01T00:00:00",
          "1968-10-01T00:00:00",
          "1969-01-01T00:00:00",
          "1969-04-01T00:00:00",
          "1969-07-01T00:00:00",
          "1969-10-01T00:00:00",
          "1970-01-01T00:00:00",
          "1970-04-01T00:00:00",
          "1970-07-01T00:00:00",
          "1970-10-01T00:00:00",
          "1971-01-01T00:00:00",
          "1971-04-01T00:00:00",
          "1971-07-01T00:00:00",
          "1971-10-01T00:00:00",
          "1972-01-01T00:00:00",
          "1972-04-01T00:00:00",
          "1972-07-01T00:00:00",
          "1972-10-01T00:00:00",
          "1973-01-01T00:00:00",
          "1973-04-01T00:00:00",
          "1973-07-01T00:00:00",
          "1973-10-01T00:00:00",
          "1974-01-01T00:00:00",
          "1974-04-01T00:00:00",
          "1974-07-01T00:00:00",
          "1974-10-01T00:00:00",
          "1975-01-01T00:00:00",
          "1975-04-01T00:00:00",
          "1975-07-01T00:00:00",
          "1975-10-01T00:00:00",
          "1976-01-01T00:00:00",
          "1976-04-01T00:00:00",
          "1976-07-01T00:00:00",
          "1976-10-01T00:00:00",
          "1977-01-01T00:00:00",
          "1977-04-01T00:00:00",
          "1977-07-01T00:00:00",
          "1977-10-01T00:00:00",
          "1978-01-01T00:00:00",
          "1978-04-01T00:00:00",
          "1978-07-01T00:00:00",
          "1978-10-01T00:00:00",
          "1979-01-01T00:00:00",
          "1979-04-01T00:00:00",
          "1979-07-01T00:00:00",
          "1979-10-01T00:00:00",
          "1980-01-01T00:00:00",
          "1980-04-01T00:00:00",
          "1980-07-01T00:00:00",
          "1980-10-01T00:00:00",
          "1981-01-01T00:00:00",
          "1981-04-01T00:00:00",
          "1981-07-01T00:00:00",
          "1981-10-01T00:00:00",
          "1982-01-01T00:00:00",
          "1982-04-01T00:00:00",
          "1982-07-01T00:00:00",
          "1982-10-01T00:00:00",
          "1983-01-01T00:00:00",
          "1983-04-01T00:00:00",
          "1983-07-01T00:00:00",
          "1983-10-01T00:00:00",
          "1984-01-01T00:00:00",
          "1984-04-01T00:00:00",
          "1984-07-01T00:00:00",
          "1984-10-01T00:00:00",
          "1985-01-01T00:00:00",
          "1985-04-01T00:00:00",
          "1985-07-01T00:00:00",
          "1985-10-01T00:00:00",
          "1986-01-01T00:00:00",
          "1986-04-01T00:00:00",
          "1986-07-01T00:00:00",
          "1986-10-01T00:00:00",
          "1987-01-01T00:00:00",
          "1987-04-01T00:00:00",
          "1987-07-01T00:00:00",
          "1987-10-01T00:00:00",
          "1988-01-01T00:00:00",
          "1988-04-01T00:00:00",
          "1988-07-01T00:00:00",
          "1988-10-01T00:00:00",
          "1989-01-01T00:00:00",
          "1989-04-01T00:00:00",
          "1989-07-01T00:00:00",
          "1989-10-01T00:00:00",
          "1990-01-01T00:00:00",
          "1990-04-01T00:00:00",
          "1990-07-01T00:00:00",
          "1990-10-01T00:00:00",
          "1991-01-01T00:00:00",
          "1991-04-01T00:00:00",
          "1991-07-01T00:00:00",
          "1991-10-01T00:00:00",
          "1992-01-01T00:00:00",
          "1992-04-01T00:00:00",
          "1992-07-01T00:00:00",
          "1992-10-01T00:00:00",
          "1993-01-01T00:00:00",
          "1993-04-01T00:00:00",
          "1993-07-01T00:00:00",
          "1993-10-01T00:00:00",
          "1994-01-01T00:00:00",
          "1994-04-01T00:00:00",
          "1994-07-01T00:00:00",
          "1994-10-01T00:00:00",
          "1995-01-01T00:00:00",
          "1995-04-01T00:00:00",
          "1995-07-01T00:00:00",
          "1995-10-01T00:00:00",
          "1996-01-01T00:00:00",
          "1996-04-01T00:00:00",
          "1996-07-01T00:00:00",
          "1996-10-01T00:00:00",
          "1997-01-01T00:00:00",
          "1997-04-01T00:00:00",
          "1997-07-01T00:00:00",
          "1997-10-01T00:00:00",
          "1998-01-01T00:00:00",
          "1998-04-01T00:00:00",
          "1998-07-01T00:00:00",
          "1998-10-01T00:00:00",
          "1999-01-01T00:00:00",
          "1999-04-01T00:00:00",
          "1999-07-01T00:00:00",
          "1999-10-01T00:00:00",
          "2000-01-01T00:00:00",
          "2000-04-01T00:00:00",
          "2000-07-01T00:00:00",
          "2000-10-01T00:00:00",
          "2001-01-01T00:00:00",
          "2001-04-01T00:00:00",
          "2001-07-01T00:00:00",
          "2001-10-01T00:00:00",
          "2002-01-01T00:00:00",
          "2002-04-01T00:00:00",
          "2002-07-01T00:00:00",
          "2002-10-01T00:00:00",
          "2003-01-01T00:00:00",
          "2003-04-01T00:00:00",
          "2003-07-01T00:00:00",
          "2003-10-01T00:00:00",
          "2004-01-01T00:00:00",
          "2004-04-01T00:00:00",
          "2004-07-01T00:00:00",
          "2004-10-01T00:00:00",
          "2005-01-01T00:00:00",
          "2005-04-01T00:00:00",
          "2005-07-01T00:00:00",
          "2005-10-01T00:00:00",
          "2006-01-01T00:00:00",
          "2006-04-01T00:00:00",
          "2006-07-01T00:00:00",
          "2006-10-01T00:00:00",
          "2007-01-01T00:00:00",
          "2007-04-01T00:00:00",
          "2007-07-01T00:00:00",
          "2007-10-01T00:00:00",
          "2008-01-01T00:00:00",
          "2008-04-01T00:00:00",
          "2008-07-01T00:00:00",
          "2008-10-01T00:00:00",
          "2009-01-01T00:00:00",
          "2009-04-01T00:00:00",
          "2009-07-01T00:00:00"
         ],
         "xaxis": "x",
         "y": [
          28.98,
          29.15,
          29.35,
          29.37,
          29.54,
          29.55,
          29.75,
          29.84,
          29.81,
          29.92,
          29.98,
          30.04,
          30.21,
          30.22,
          30.38,
          30.44,
          30.48,
          30.69,
          30.75,
          30.94,
          30.95,
          31.02,
          31.12,
          31.28,
          31.38,
          31.58,
          31.65,
          31.88,
          32.28,
          32.45,
          32.85,
          32.9,
          33.1,
          33.4,
          33.7,
          34.1,
          34.4,
          34.9,
          35.3,
          35.7,
          36.3,
          36.8,
          37.3,
          37.9,
          38.5,
          38.9,
          39.4,
          39.9,
          40.1,
          40.6,
          40.9,
          41.2,
          41.5,
          41.8,
          42.2,
          42.7,
          43.7,
          44.2,
          45.6,
          46.8,
          48.1,
          49.3,
          51,
          52.3,
          53,
          54,
          54.9,
          55.8,
          56.1,
          57,
          57.9,
          58.7,
          60,
          60.8,
          61.6,
          62.7,
          63.9,
          65.5,
          67.1,
          68.5,
          70.6,
          73,
          75.2,
          78,
          80.9,
          82.6,
          84.7,
          87.2,
          89.1,
          91.5,
          93.4,
          94.4,
          95,
          97.5,
          98.1,
          97.9,
          98.8,
          99.8,
          100.8,
          102.1,
          103.3,
          104.1,
          105.1,
          105.7,
          107,
          107.7,
          108.5,
          109.9,
          108.7,
          109.5,
          110.2,
          111.4,
          112.7,
          113.8,
          115,
          116,
          117.2,
          118.5,
          119.9,
          121.2,
          123.1,
          124.5,
          125.4,
          127.5,
          128.9,
          130.5,
          133.4,
          134.7,
          135.1,
          136.2,
          137.2,
          138.3,
          139.4,
          140.5,
          141.7,
          142.8,
          143.8,
          144.5,
          145.6,
          146.3,
          147.2,
          148.4,
          149.4,
          150.5,
          151.8,
          152.6,
          153.5,
          154.7,
          156.1,
          157,
          158.2,
          159.4,
          159.9,
          160.4,
          161.5,
          162,
          162.2,
          163.2,
          163.9,
          164.7,
          165.9,
          166.7,
          168.1,
          169.3,
          170.9,
          172.7,
          173.9,
          175.6,
          176.4,
          177.4,
          177.6,
          177.7,
          179.3,
          180,
          181.2,
          182.6,
          183.2,
          183.7,
          184.9,
          186.3,
          187.4,
          189.1,
          190.8,
          191.8,
          193.8,
          194.7,
          199.2,
          199.4,
          200.7,
          202.7,
          201.9,
          203.574,
          205.92,
          207.338,
          209.133,
          212.495,
          213.997,
          218.61,
          216.889,
          212.174,
          212.671,
          214.469,
          216.385
         ],
         "yaxis": "y"
        },
        {
         "line": {
          "color": "#3f3f3f"
         },
         "mode": "lines",
         "name": "Actual",
         "showlegend": false,
         "type": "scattergl",
         "x": [
          0,
          0
         ],
         "xaxis": "x2",
         "y": [
          0,
          1
         ],
         "yaxis": "y2"
        },
        {
         "line": {
          "color": "#3f3f3f"
         },
         "mode": "lines",
         "name": "Actual",
         "showlegend": false,
         "type": "scattergl",
         "x": [
          1,
          1
         ],
         "xaxis": "x2",
         "y": [
          0,
          0.9877957417591859
         ],
         "yaxis": "y2"
        },
        {
         "line": {
          "color": "#3f3f3f"
         },
         "mode": "lines",
         "name": "Actual",
         "showlegend": false,
         "type": "scattergl",
         "x": [
          2,
          2
         ],
         "xaxis": "x2",
         "y": [
          0,
          0.9755806677231829
         ],
         "yaxis": "y2"
        },
        {
         "line": {
          "color": "#3f3f3f"
         },
         "mode": "lines",
         "name": "Actual",
         "showlegend": false,
         "type": "scattergl",
         "x": [
          3,
          3
         ],
         "xaxis": "x2",
         "y": [
          0,
          0.9633754916408562
         ],
         "yaxis": "y2"
        },
        {
         "line": {
          "color": "#3f3f3f"
         },
         "mode": "lines",
         "name": "Actual",
         "showlegend": false,
         "type": "scattergl",
         "x": [
          4,
          4
         ],
         "xaxis": "x2",
         "y": [
          0,
          0.9509571524529443
         ],
         "yaxis": "y2"
        },
        {
         "line": {
          "color": "#3f3f3f"
         },
         "mode": "lines",
         "name": "Actual",
         "showlegend": false,
         "type": "scattergl",
         "x": [
          5,
          5
         ],
         "xaxis": "x2",
         "y": [
          0,
          0.9375968243924525
         ],
         "yaxis": "y2"
        },
        {
         "line": {
          "color": "#3f3f3f"
         },
         "mode": "lines",
         "name": "Actual",
         "showlegend": false,
         "type": "scattergl",
         "x": [
          6,
          6
         ],
         "xaxis": "x2",
         "y": [
          0,
          0.9236908777628566
         ],
         "yaxis": "y2"
        },
        {
         "line": {
          "color": "#3f3f3f"
         },
         "mode": "lines",
         "name": "Actual",
         "showlegend": false,
         "type": "scattergl",
         "x": [
          7,
          7
         ],
         "xaxis": "x2",
         "y": [
          0,
          0.910193666648494
         ],
         "yaxis": "y2"
        },
        {
         "line": {
          "color": "#3f3f3f"
         },
         "mode": "lines",
         "name": "Actual",
         "showlegend": false,
         "type": "scattergl",
         "x": [
          8,
          8
         ],
         "xaxis": "x2",
         "y": [
          0,
          0.8966577560331536
         ],
         "yaxis": "y2"
        },
        {
         "line": {
          "color": "#3f3f3f"
         },
         "mode": "lines",
         "name": "Actual",
         "showlegend": false,
         "type": "scattergl",
         "x": [
          9,
          9
         ],
         "xaxis": "x2",
         "y": [
          0,
          0.883338712621009
         ],
         "yaxis": "y2"
        },
        {
         "line": {
          "color": "#3f3f3f"
         },
         "mode": "lines",
         "name": "Actual",
         "showlegend": false,
         "type": "scattergl",
         "x": [
          10,
          10
         ],
         "xaxis": "x2",
         "y": [
          0,
          0.8700089095842394
         ],
         "yaxis": "y2"
        },
        {
         "line": {
          "color": "#3f3f3f"
         },
         "mode": "lines",
         "name": "Actual",
         "showlegend": false,
         "type": "scattergl",
         "x": [
          11,
          11
         ],
         "xaxis": "x2",
         "y": [
          0,
          0.856637659850713
         ],
         "yaxis": "y2"
        },
        {
         "line": {
          "color": "#3f3f3f"
         },
         "mode": "lines",
         "name": "Actual",
         "showlegend": false,
         "type": "scattergl",
         "x": [
          12,
          12
         ],
         "xaxis": "x2",
         "y": [
          0,
          0.8433430324599505
         ],
         "yaxis": "y2"
        },
        {
         "line": {
          "color": "#3f3f3f"
         },
         "mode": "lines",
         "name": "Actual",
         "showlegend": false,
         "type": "scattergl",
         "x": [
          13,
          13
         ],
         "xaxis": "x2",
         "y": [
          0,
          0.8300670134269891
         ],
         "yaxis": "y2"
        },
        {
         "line": {
          "color": "#3f3f3f"
         },
         "mode": "lines",
         "name": "Actual",
         "showlegend": false,
         "type": "scattergl",
         "x": [
          14,
          14
         ],
         "xaxis": "x2",
         "y": [
          0,
          0.8164359964648625
         ],
         "yaxis": "y2"
        },
        {
         "line": {
          "color": "#3f3f3f"
         },
         "mode": "lines",
         "name": "Actual",
         "showlegend": false,
         "type": "scattergl",
         "x": [
          15,
          15
         ],
         "xaxis": "x2",
         "y": [
          0,
          0.8028594524035343
         ],
         "yaxis": "y2"
        },
        {
         "line": {
          "color": "#3f3f3f"
         },
         "mode": "lines",
         "name": "Actual",
         "showlegend": false,
         "type": "scattergl",
         "x": [
          16,
          16
         ],
         "xaxis": "x2",
         "y": [
          0,
          0.7892400681626925
         ],
         "yaxis": "y2"
        },
        {
         "line": {
          "color": "#3f3f3f"
         },
         "mode": "lines",
         "name": "Actual",
         "showlegend": false,
         "type": "scattergl",
         "x": [
          17,
          17
         ],
         "xaxis": "x2",
         "y": [
          0,
          0.7754001019490078
         ],
         "yaxis": "y2"
        },
        {
         "line": {
          "color": "#3f3f3f"
         },
         "mode": "lines",
         "name": "Actual",
         "showlegend": false,
         "type": "scattergl",
         "x": [
          18,
          18
         ],
         "xaxis": "x2",
         "y": [
          0,
          0.7619981770855508
         ],
         "yaxis": "y2"
        },
        {
         "line": {
          "color": "#3f3f3f"
         },
         "mode": "lines",
         "name": "Actual",
         "showlegend": false,
         "type": "scattergl",
         "x": [
          19,
          19
         ],
         "xaxis": "x2",
         "y": [
          0,
          0.7484998470355853
         ],
         "yaxis": "y2"
        },
        {
         "line": {
          "color": "#3f3f3f"
         },
         "mode": "lines",
         "name": "Actual",
         "showlegend": false,
         "type": "scattergl",
         "x": [
          20,
          20
         ],
         "xaxis": "x2",
         "y": [
          0,
          0.7350702723384231
         ],
         "yaxis": "y2"
        },
        {
         "line": {
          "color": "#3f3f3f"
         },
         "mode": "lines",
         "name": "Actual",
         "showlegend": false,
         "type": "scattergl",
         "x": [
          21,
          21
         ],
         "xaxis": "x2",
         "y": [
          0,
          0.7215482534454797
         ],
         "yaxis": "y2"
        },
        {
         "line": {
          "color": "#3f3f3f"
         },
         "mode": "lines",
         "name": "Actual",
         "showlegend": false,
         "type": "scattergl",
         "x": [
          22,
          22
         ],
         "xaxis": "x2",
         "y": [
          0,
          0.7080407596996693
         ],
         "yaxis": "y2"
        },
        {
         "line": {
          "color": "#3f3f3f"
         },
         "mode": "lines",
         "name": "Actual",
         "showlegend": false,
         "type": "scattergl",
         "x": [
          23,
          23
         ],
         "xaxis": "x2",
         "y": [
          0,
          0.6945462633752797
         ],
         "yaxis": "y2"
        },
        {
         "line": {
          "color": "#3f3f3f"
         },
         "mode": "lines",
         "name": "Actual",
         "showlegend": false,
         "type": "scattergl",
         "x": [
          24,
          24
         ],
         "xaxis": "x2",
         "y": [
          0,
          0.680992148949223
         ],
         "yaxis": "y2"
        },
        {
         "line": {
          "color": "#3f3f3f"
         },
         "mode": "lines",
         "name": "Actual",
         "showlegend": false,
         "type": "scattergl",
         "x": [
          25,
          25
         ],
         "xaxis": "x2",
         "y": [
          0,
          0.6674240883121657
         ],
         "yaxis": "y2"
        },
        {
         "line": {
          "color": "#3f3f3f"
         },
         "mode": "lines",
         "name": "Actual",
         "showlegend": false,
         "type": "scattergl",
         "x": [
          26,
          26
         ],
         "xaxis": "x2",
         "y": [
          0,
          0.6538267403993814
         ],
         "yaxis": "y2"
        },
        {
         "line": {
          "color": "#3f3f3f"
         },
         "mode": "lines",
         "name": "Actual",
         "showlegend": false,
         "type": "scattergl",
         "x": [
          27,
          27
         ],
         "xaxis": "x2",
         "y": [
          0,
          0.6400870864000152
         ],
         "yaxis": "y2"
        },
        {
         "line": {
          "color": "#3f3f3f"
         },
         "mode": "lines",
         "name": "Actual",
         "showlegend": false,
         "type": "scattergl",
         "x": [
          28,
          28
         ],
         "xaxis": "x2",
         "y": [
          0,
          0.6262312231560635
         ],
         "yaxis": "y2"
        },
        {
         "line": {
          "color": "#3f3f3f"
         },
         "mode": "lines",
         "name": "Actual",
         "showlegend": false,
         "type": "scattergl",
         "x": [
          29,
          29
         ],
         "xaxis": "x2",
         "y": [
          0,
          0.6123840730923077
         ],
         "yaxis": "y2"
        },
        {
         "line": {
          "color": "#3f3f3f"
         },
         "mode": "lines",
         "name": "Actual",
         "showlegend": false,
         "type": "scattergl",
         "x": [
          30,
          30
         ],
         "xaxis": "x2",
         "y": [
          0,
          0.5984995505477169
         ],
         "yaxis": "y2"
        },
        {
         "line": {
          "color": "#3f3f3f"
         },
         "mode": "lines",
         "name": "Actual",
         "showlegend": false,
         "type": "scattergl",
         "x": [
          31,
          31
         ],
         "xaxis": "x2",
         "y": [
          0,
          0.5845304723429345
         ],
         "yaxis": "y2"
        },
        {
         "line": {
          "color": "#3f3f3f"
         },
         "mode": "lines",
         "name": "Actual",
         "showlegend": false,
         "type": "scattergl",
         "x": [
          32,
          32
         ],
         "xaxis": "x2",
         "y": [
          0,
          0.5705785890044242
         ],
         "yaxis": "y2"
        },
        {
         "line": {
          "color": "#3f3f3f"
         },
         "mode": "lines",
         "name": "Actual",
         "showlegend": false,
         "type": "scattergl",
         "x": [
          33,
          33
         ],
         "xaxis": "x2",
         "y": [
          0,
          0.5564426051655551
         ],
         "yaxis": "y2"
        },
        {
         "line": {
          "color": "#3f3f3f"
         },
         "mode": "lines",
         "name": "Actual",
         "showlegend": false,
         "type": "scattergl",
         "x": [
          34,
          34
         ],
         "xaxis": "x2",
         "y": [
          0,
          0.5421469545216182
         ],
         "yaxis": "y2"
        },
        {
         "line": {
          "color": "#3f3f3f"
         },
         "mode": "lines",
         "name": "Actual",
         "showlegend": false,
         "type": "scattergl",
         "x": [
          35,
          35
         ],
         "xaxis": "x2",
         "y": [
          0,
          0.527811602301052
         ],
         "yaxis": "y2"
        },
        {
         "line": {
          "color": "#3f3f3f"
         },
         "mode": "lines",
         "name": "Actual",
         "showlegend": false,
         "type": "scattergl",
         "x": [
          36,
          36
         ],
         "xaxis": "x2",
         "y": [
          0,
          0.5134157645456775
         ],
         "yaxis": "y2"
        },
        {
         "line": {
          "color": "#3f3f3f"
         },
         "mode": "lines",
         "name": "Actual",
         "showlegend": false,
         "type": "scattergl",
         "x": [
          37,
          37
         ],
         "xaxis": "x2",
         "y": [
          0,
          0.499086330059511
         ],
         "yaxis": "y2"
        },
        {
         "line": {
          "color": "#3f3f3f"
         },
         "mode": "lines",
         "name": "Actual",
         "showlegend": false,
         "type": "scattergl",
         "x": [
          38,
          38
         ],
         "xaxis": "x2",
         "y": [
          0,
          0.4847599424497232
         ],
         "yaxis": "y2"
        },
        {
         "line": {
          "color": "#3f3f3f"
         },
         "mode": "lines",
         "name": "Actual",
         "showlegend": false,
         "type": "scattergl",
         "x": [
          39,
          39
         ],
         "xaxis": "x2",
         "y": [
          0,
          0.47051679962328335
         ],
         "yaxis": "y2"
        },
        {
         "line": {
          "color": "#3f3f3f"
         },
         "mode": "lines",
         "name": "Actual",
         "showlegend": false,
         "type": "scattergl",
         "x": [
          40,
          40
         ],
         "xaxis": "x2",
         "y": [
          0,
          0.4563361105309082
         ],
         "yaxis": "y2"
        },
        {
         "marker": {
          "color": "#1f77b4",
          "size": 6
         },
         "mode": "markers",
         "name": "Actual",
         "showlegend": false,
         "type": "scattergl",
         "x": [
          0,
          1,
          2,
          3,
          4,
          5,
          6,
          7,
          8,
          9,
          10,
          11,
          12,
          13,
          14,
          15,
          16,
          17,
          18,
          19,
          20,
          21,
          22,
          23,
          24,
          25,
          26,
          27,
          28,
          29,
          30,
          31,
          32,
          33,
          34,
          35,
          36,
          37,
          38,
          39,
          40
         ],
         "xaxis": "x2",
         "y": [
          1,
          0.9877957417591859,
          0.9755806677231829,
          0.9633754916408562,
          0.9509571524529443,
          0.9375968243924525,
          0.9236908777628566,
          0.910193666648494,
          0.8966577560331536,
          0.883338712621009,
          0.8700089095842394,
          0.856637659850713,
          0.8433430324599505,
          0.8300670134269891,
          0.8164359964648625,
          0.8028594524035343,
          0.7892400681626925,
          0.7754001019490078,
          0.7619981770855508,
          0.7484998470355853,
          0.7350702723384231,
          0.7215482534454797,
          0.7080407596996693,
          0.6945462633752797,
          0.680992148949223,
          0.6674240883121657,
          0.6538267403993814,
          0.6400870864000152,
          0.6262312231560635,
          0.6123840730923077,
          0.5984995505477169,
          0.5845304723429345,
          0.5705785890044242,
          0.5564426051655551,
          0.5421469545216182,
          0.527811602301052,
          0.5134157645456775,
          0.499086330059511,
          0.4847599424497232,
          0.47051679962328335,
          0.4563361105309082
         ],
         "yaxis": "y2"
        },
        {
         "line": {
          "color": "rgba(255,255,255,0)"
         },
         "mode": "lines",
         "name": "UC",
         "showlegend": false,
         "type": "scatter",
         "x": [
          0,
          1,
          2,
          3,
          4,
          5,
          6,
          7,
          8,
          9,
          10,
          11,
          12,
          13,
          14,
          15,
          16,
          17,
          18,
          19,
          20,
          21,
          22,
          23,
          24,
          25,
          26,
          27,
          28,
          29,
          30,
          31,
          32,
          33,
          34,
          35,
          36,
          37,
          38,
          39,
          40
         ],
         "xaxis": "x2",
         "y": [
          0,
          0.1375625038536067,
          0.23633065427093491,
          0.303105988070702,
          0.3563686909981718,
          0.40152748374480673,
          0.4410159353225481,
          0.47622074768290124,
          0.5080753363159701,
          0.5371864281600858,
          0.5640041680219878,
          0.5888527791247513,
          0.6119809657151585,
          0.6335917034107931,
          0.6538465997505564,
          0.6728617156756785,
          0.6907520238252578,
          0.7076108949827948,
          0.7235111893184869,
          0.7385417405813528,
          0.7527600523099226,
          0.766222839355119,
          0.7789747970774145,
          0.7910595425342368,
          0.8025162486960844,
          0.8133780387527391,
          0.82367646244465,
          0.8334398941505781,
          0.8426911417191733,
          0.8514520565379932,
          0.8597463148297979,
          0.8675946892648012,
          0.8750153783185588,
          0.8820279708494434,
          0.8886460548270991,
          0.8948831727338269,
          0.9007549448066888,
          0.9062757574325673,
          0.9114619694624738,
          0.9163278041171852,
          0.920888384815798
         ],
         "yaxis": "y2"
        },
        {
         "fill": "tonexty",
         "fillcolor": "rgba(32, 146, 230,0.3)",
         "line": {
          "color": "rgba(255,255,255,0)"
         },
         "mode": "lines",
         "name": "LC",
         "showlegend": false,
         "type": "scatter",
         "x": [
          0,
          1,
          2,
          3,
          4,
          5,
          6,
          7,
          8,
          9,
          10,
          11,
          12,
          13,
          14,
          15,
          16,
          17,
          18,
          19,
          20,
          21,
          22,
          23,
          24,
          25,
          26,
          27,
          28,
          29,
          30,
          31,
          32,
          33,
          34,
          35,
          36,
          37,
          38,
          39,
          40
         ],
         "xaxis": "x2",
         "y": [
          0,
          -0.13756250385360658,
          -0.23633065427093503,
          -0.303105988070702,
          -0.3563686909981718,
          -0.40152748374480673,
          -0.4410159353225481,
          -0.4762207476829011,
          -0.50807533631597,
          -0.5371864281600857,
          -0.5640041680219878,
          -0.5888527791247514,
          -0.6119809657151585,
          -0.6335917034107931,
          -0.6538465997505564,
          -0.6728617156756784,
          -0.6907520238252578,
          -0.707610894982795,
          -0.723511189318487,
          -0.7385417405813528,
          -0.7527600523099227,
          -0.766222839355119,
          -0.7789747970774145,
          -0.7910595425342368,
          -0.8025162486960843,
          -0.8133780387527391,
          -0.8236764624446499,
          -0.8334398941505781,
          -0.8426911417191733,
          -0.8514520565379932,
          -0.859746314829798,
          -0.8675946892648012,
          -0.8750153783185588,
          -0.8820279708494435,
          -0.8886460548270991,
          -0.894883172733827,
          -0.9007549448066888,
          -0.9062757574325674,
          -0.9114619694624738,
          -0.9163278041171851,
          -0.920888384815798
         ],
         "yaxis": "y2"
        },
        {
         "line": {
          "color": "#3f3f3f"
         },
         "mode": "lines",
         "name": "Actual",
         "showlegend": false,
         "type": "scattergl",
         "x": [
          0,
          0
         ],
         "xaxis": "x3",
         "y": [
          0,
          1
         ],
         "yaxis": "y3"
        },
        {
         "line": {
          "color": "#3f3f3f"
         },
         "mode": "lines",
         "name": "Actual",
         "showlegend": false,
         "type": "scattergl",
         "x": [
          1,
          1
         ],
         "xaxis": "x3",
         "y": [
          0,
          0.992685819688687
         ],
         "yaxis": "y3"
        },
        {
         "line": {
          "color": "#3f3f3f"
         },
         "mode": "lines",
         "name": "Actual",
         "showlegend": false,
         "type": "scattergl",
         "x": [
          2,
          2
         ],
         "xaxis": "x3",
         "y": [
          0,
          -0.009413368657513714
         ],
         "yaxis": "y3"
        },
        {
         "line": {
          "color": "#3f3f3f"
         },
         "mode": "lines",
         "name": "Actual",
         "showlegend": false,
         "type": "scattergl",
         "x": [
          3,
          3
         ],
         "xaxis": "x3",
         "y": [
          0,
          -0.00808060475505889
         ],
         "yaxis": "y3"
        },
        {
         "line": {
          "color": "#3f3f3f"
         },
         "mode": "lines",
         "name": "Actual",
         "showlegend": false,
         "type": "scattergl",
         "x": [
          4,
          4
         ],
         "xaxis": "x3",
         "y": [
          0,
          -0.023791173906704266
         ],
         "yaxis": "y3"
        },
        {
         "line": {
          "color": "#3f3f3f"
         },
         "mode": "lines",
         "name": "Actual",
         "showlegend": false,
         "type": "scattergl",
         "x": [
          5,
          5
         ],
         "xaxis": "x3",
         "y": [
          0,
          -0.07538527888972121
         ],
         "yaxis": "y3"
        },
        {
         "line": {
          "color": "#3f3f3f"
         },
         "mode": "lines",
         "name": "Actual",
         "showlegend": false,
         "type": "scattergl",
         "x": [
          6,
          6
         ],
         "xaxis": "x3",
         "y": [
          0,
          -0.04868036125397515
         ],
         "yaxis": "y3"
        },
        {
         "line": {
          "color": "#3f3f3f"
         },
         "mode": "lines",
         "name": "Actual",
         "showlegend": false,
         "type": "scattergl",
         "x": [
          7,
          7
         ],
         "xaxis": "x3",
         "y": [
          0,
          0.01884606198334699
         ],
         "yaxis": "y3"
        },
        {
         "line": {
          "color": "#3f3f3f"
         },
         "mode": "lines",
         "name": "Actual",
         "showlegend": false,
         "type": "scattergl",
         "x": [
          8,
          8
         ],
         "xaxis": "x3",
         "y": [
          0,
          -0.010974726214060503
         ],
         "yaxis": "y3"
        },
        {
         "line": {
          "color": "#3f3f3f"
         },
         "mode": "lines",
         "name": "Actual",
         "showlegend": false,
         "type": "scattergl",
         "x": [
          9,
          9
         ],
         "xaxis": "x3",
         "y": [
          0,
          0.010963565193708889
         ],
         "yaxis": "y3"
        },
        {
         "line": {
          "color": "#3f3f3f"
         },
         "mode": "lines",
         "name": "Actual",
         "showlegend": false,
         "type": "scattergl",
         "x": [
          10,
          10
         ],
         "xaxis": "x3",
         "y": [
          0,
          -0.006622538663351613
         ],
         "yaxis": "y3"
        },
        {
         "line": {
          "color": "#3f3f3f"
         },
         "mode": "lines",
         "name": "Actual",
         "showlegend": false,
         "type": "scattergl",
         "x": [
          11,
          11
         ],
         "xaxis": "x3",
         "y": [
          0,
          -0.015614603795542978
         ],
         "yaxis": "y3"
        },
        {
         "line": {
          "color": "#3f3f3f"
         },
         "mode": "lines",
         "name": "Actual",
         "showlegend": false,
         "type": "scattergl",
         "x": [
          12,
          12
         ],
         "xaxis": "x3",
         "y": [
          0,
          -0.007452954546110195
         ],
         "yaxis": "y3"
        },
        {
         "line": {
          "color": "#3f3f3f"
         },
         "mode": "lines",
         "name": "Actual",
         "showlegend": false,
         "type": "scattergl",
         "x": [
          13,
          13
         ],
         "xaxis": "x3",
         "y": [
          0,
          -0.010736226783492044
         ],
         "yaxis": "y3"
        },
        {
         "line": {
          "color": "#3f3f3f"
         },
         "mode": "lines",
         "name": "Actual",
         "showlegend": false,
         "type": "scattergl",
         "x": [
          14,
          14
         ],
         "xaxis": "x3",
         "y": [
          0,
          -0.03877544976718061
         ],
         "yaxis": "y3"
        },
        {
         "line": {
          "color": "#3f3f3f"
         },
         "mode": "lines",
         "name": "Actual",
         "showlegend": false,
         "type": "scattergl",
         "x": [
          15,
          15
         ],
         "xaxis": "x3",
         "y": [
          0,
          -0.005906962235462188
         ],
         "yaxis": "y3"
        },
        {
         "line": {
          "color": "#3f3f3f"
         },
         "mode": "lines",
         "name": "Actual",
         "showlegend": false,
         "type": "scattergl",
         "x": [
          16,
          16
         ],
         "xaxis": "x3",
         "y": [
          0,
          -0.014850491171912405
         ],
         "yaxis": "y3"
        },
        {
         "line": {
          "color": "#3f3f3f"
         },
         "mode": "lines",
         "name": "Actual",
         "showlegend": false,
         "type": "scattergl",
         "x": [
          17,
          17
         ],
         "xaxis": "x3",
         "y": [
          0,
          -0.0277965417687969
         ],
         "yaxis": "y3"
        },
        {
         "line": {
          "color": "#3f3f3f"
         },
         "mode": "lines",
         "name": "Actual",
         "showlegend": false,
         "type": "scattergl",
         "x": [
          18,
          18
         ],
         "xaxis": "x3",
         "y": [
          0,
          0.025153853563321598
         ],
         "yaxis": "y3"
        },
        {
         "line": {
          "color": "#3f3f3f"
         },
         "mode": "lines",
         "name": "Actual",
         "showlegend": false,
         "type": "scattergl",
         "x": [
          19,
          19
         ],
         "xaxis": "x3",
         "y": [
          0,
          -0.017411620792485965
         ],
         "yaxis": "y3"
        },
        {
         "line": {
          "color": "#3f3f3f"
         },
         "mode": "lines",
         "name": "Actual",
         "showlegend": false,
         "type": "scattergl",
         "x": [
          20,
          20
         ],
         "xaxis": "x3",
         "y": [
          0,
          -0.0074078572621451505
         ],
         "yaxis": "y3"
        },
        {
         "line": {
          "color": "#3f3f3f"
         },
         "mode": "lines",
         "name": "Actual",
         "showlegend": false,
         "type": "scattergl",
         "x": [
          21,
          21
         ],
         "xaxis": "x3",
         "y": [
          0,
          -0.017196497171835214
         ],
         "yaxis": "y3"
        },
        {
         "line": {
          "color": "#3f3f3f"
         },
         "mode": "lines",
         "name": "Actual",
         "showlegend": false,
         "type": "scattergl",
         "x": [
          22,
          22
         ],
         "xaxis": "x3",
         "y": [
          0,
          -0.01571415414206279
         ],
         "yaxis": "y3"
        },
        {
         "line": {
          "color": "#3f3f3f"
         },
         "mode": "lines",
         "name": "Actual",
         "showlegend": false,
         "type": "scattergl",
         "x": [
          23,
          23
         ],
         "xaxis": "x3",
         "y": [
          0,
          -0.014379396309728206
         ],
         "yaxis": "y3"
        },
        {
         "marker": {
          "color": "#1f77b4",
          "size": 6
         },
         "mode": "markers",
         "name": "Actual",
         "showlegend": false,
         "type": "scattergl",
         "x": [
          0,
          1,
          2,
          3,
          4,
          5,
          6,
          7,
          8,
          9,
          10,
          11,
          12,
          13,
          14,
          15,
          16,
          17,
          18,
          19,
          20,
          21,
          22,
          23
         ],
         "xaxis": "x3",
         "y": [
          1,
          0.992685819688687,
          -0.009413368657513714,
          -0.00808060475505889,
          -0.023791173906704266,
          -0.07538527888972121,
          -0.04868036125397515,
          0.01884606198334699,
          -0.010974726214060503,
          0.010963565193708889,
          -0.006622538663351613,
          -0.015614603795542978,
          -0.007452954546110195,
          -0.010736226783492044,
          -0.03877544976718061,
          -0.005906962235462188,
          -0.014850491171912405,
          -0.0277965417687969,
          0.025153853563321598,
          -0.017411620792485965,
          -0.0074078572621451505,
          -0.017196497171835214,
          -0.01571415414206279,
          -0.014379396309728206
         ],
         "yaxis": "y3"
        },
        {
         "line": {
          "color": "rgba(255,255,255,0)"
         },
         "mode": "lines",
         "name": "UC",
         "showlegend": false,
         "type": "scatter",
         "x": [
          0,
          1,
          2,
          3,
          4,
          5,
          6,
          7,
          8,
          9,
          10,
          11,
          12,
          13,
          14,
          15,
          16,
          17,
          18,
          19,
          20,
          21,
          22,
          23
         ],
         "xaxis": "x3",
         "y": [
          0,
          0.13756250385360658,
          0.13756250385360658,
          0.13756250385360658,
          0.13756250385360658,
          0.13756250385360658,
          0.13756250385360658,
          0.13756250385360658,
          0.13756250385360658,
          0.13756250385360658,
          0.13756250385360658,
          0.13756250385360658,
          0.13756250385360658,
          0.13756250385360658,
          0.13756250385360658,
          0.13756250385360658,
          0.13756250385360658,
          0.13756250385360658,
          0.13756250385360658,
          0.13756250385360658,
          0.13756250385360658,
          0.13756250385360658,
          0.13756250385360658,
          0.13756250385360658
         ],
         "yaxis": "y3"
        },
        {
         "fill": "tonexty",
         "fillcolor": "rgba(32, 146, 230,0.3)",
         "line": {
          "color": "rgba(255,255,255,0)"
         },
         "mode": "lines",
         "name": "LC",
         "showlegend": false,
         "type": "scatter",
         "x": [
          0,
          1,
          2,
          3,
          4,
          5,
          6,
          7,
          8,
          9,
          10,
          11,
          12,
          13,
          14,
          15,
          16,
          17,
          18,
          19,
          20,
          21,
          22,
          23
         ],
         "xaxis": "x3",
         "y": [
          0,
          -0.13756250385360658,
          -0.13756250385360658,
          -0.13756250385360658,
          -0.13756250385360658,
          -0.13756250385360658,
          -0.13756250385360658,
          -0.13756250385360658,
          -0.13756250385360658,
          -0.13756250385360658,
          -0.13756250385360658,
          -0.13756250385360658,
          -0.13756250385360658,
          -0.13756250385360658,
          -0.13756250385360658,
          -0.13756250385360658,
          -0.13756250385360658,
          -0.13756250385360658,
          -0.13756250385360658,
          -0.13756250385360658,
          -0.13756250385360658,
          -0.13756250385360658,
          -0.13756250385360658,
          -0.13756250385360658
         ],
         "yaxis": "y3"
        },
        {
         "line": {
          "color": "rgb(31, 119, 180)",
          "width": 2
         },
         "marker": {
          "color": "rgb(31, 119, 180)",
          "size": 5
         },
         "mode": "lines+markers",
         "name": "Lags=[1, 4]",
         "showlegend": false,
         "type": "scattergl",
         "x": [
          "1960-04-01T00:00:00",
          "1960-07-01T00:00:00",
          "1960-10-01T00:00:00",
          "1961-01-01T00:00:00",
          "1961-04-01T00:00:00",
          "1961-07-01T00:00:00",
          "1961-10-01T00:00:00",
          "1962-01-01T00:00:00",
          "1962-04-01T00:00:00",
          "1962-07-01T00:00:00",
          "1962-10-01T00:00:00",
          "1963-01-01T00:00:00",
          "1963-04-01T00:00:00",
          "1963-07-01T00:00:00",
          "1963-10-01T00:00:00",
          "1964-01-01T00:00:00",
          "1964-04-01T00:00:00",
          "1964-07-01T00:00:00",
          "1964-10-01T00:00:00",
          "1965-01-01T00:00:00",
          "1965-04-01T00:00:00",
          "1965-07-01T00:00:00",
          "1965-10-01T00:00:00",
          "1966-01-01T00:00:00",
          "1966-04-01T00:00:00",
          "1966-07-01T00:00:00",
          "1966-10-01T00:00:00",
          "1967-01-01T00:00:00",
          "1967-04-01T00:00:00",
          "1967-07-01T00:00:00",
          "1967-10-01T00:00:00",
          "1968-01-01T00:00:00",
          "1968-04-01T00:00:00",
          "1968-07-01T00:00:00",
          "1968-10-01T00:00:00",
          "1969-01-01T00:00:00",
          "1969-04-01T00:00:00",
          "1969-07-01T00:00:00",
          "1969-10-01T00:00:00",
          "1970-01-01T00:00:00",
          "1970-04-01T00:00:00",
          "1970-07-01T00:00:00",
          "1970-10-01T00:00:00",
          "1971-01-01T00:00:00",
          "1971-04-01T00:00:00",
          "1971-07-01T00:00:00",
          "1971-10-01T00:00:00",
          "1972-01-01T00:00:00",
          "1972-04-01T00:00:00",
          "1972-07-01T00:00:00",
          "1972-10-01T00:00:00",
          "1973-01-01T00:00:00",
          "1973-04-01T00:00:00",
          "1973-07-01T00:00:00",
          "1973-10-01T00:00:00",
          "1974-01-01T00:00:00",
          "1974-04-01T00:00:00",
          "1974-07-01T00:00:00",
          "1974-10-01T00:00:00",
          "1975-01-01T00:00:00",
          "1975-04-01T00:00:00",
          "1975-07-01T00:00:00",
          "1975-10-01T00:00:00",
          "1976-01-01T00:00:00",
          "1976-04-01T00:00:00",
          "1976-07-01T00:00:00",
          "1976-10-01T00:00:00",
          "1977-01-01T00:00:00",
          "1977-04-01T00:00:00",
          "1977-07-01T00:00:00",
          "1977-10-01T00:00:00",
          "1978-01-01T00:00:00",
          "1978-04-01T00:00:00",
          "1978-07-01T00:00:00",
          "1978-10-01T00:00:00",
          "1979-01-01T00:00:00",
          "1979-04-01T00:00:00",
          "1979-07-01T00:00:00",
          "1979-10-01T00:00:00",
          "1980-01-01T00:00:00",
          "1980-04-01T00:00:00",
          "1980-07-01T00:00:00",
          "1980-10-01T00:00:00",
          "1981-01-01T00:00:00",
          "1981-04-01T00:00:00",
          "1981-07-01T00:00:00",
          "1981-10-01T00:00:00",
          "1982-01-01T00:00:00",
          "1982-04-01T00:00:00",
          "1982-07-01T00:00:00",
          "1982-10-01T00:00:00",
          "1983-01-01T00:00:00",
          "1983-04-01T00:00:00",
          "1983-07-01T00:00:00",
          "1983-10-01T00:00:00",
          "1984-01-01T00:00:00",
          "1984-04-01T00:00:00",
          "1984-07-01T00:00:00",
          "1984-10-01T00:00:00",
          "1985-01-01T00:00:00",
          "1985-04-01T00:00:00",
          "1985-07-01T00:00:00",
          "1985-10-01T00:00:00",
          "1986-01-01T00:00:00",
          "1986-04-01T00:00:00",
          "1986-07-01T00:00:00",
          "1986-10-01T00:00:00",
          "1987-01-01T00:00:00",
          "1987-04-01T00:00:00",
          "1987-07-01T00:00:00",
          "1987-10-01T00:00:00",
          "1988-01-01T00:00:00",
          "1988-04-01T00:00:00",
          "1988-07-01T00:00:00",
          "1988-10-01T00:00:00",
          "1989-01-01T00:00:00",
          "1989-04-01T00:00:00",
          "1989-07-01T00:00:00",
          "1989-10-01T00:00:00",
          "1990-01-01T00:00:00",
          "1990-04-01T00:00:00",
          "1990-07-01T00:00:00",
          "1990-10-01T00:00:00",
          "1991-01-01T00:00:00",
          "1991-04-01T00:00:00",
          "1991-07-01T00:00:00",
          "1991-10-01T00:00:00",
          "1992-01-01T00:00:00",
          "1992-04-01T00:00:00",
          "1992-07-01T00:00:00",
          "1992-10-01T00:00:00",
          "1993-01-01T00:00:00",
          "1993-04-01T00:00:00",
          "1993-07-01T00:00:00",
          "1993-10-01T00:00:00",
          "1994-01-01T00:00:00",
          "1994-04-01T00:00:00",
          "1994-07-01T00:00:00",
          "1994-10-01T00:00:00",
          "1995-01-01T00:00:00",
          "1995-04-01T00:00:00",
          "1995-07-01T00:00:00",
          "1995-10-01T00:00:00",
          "1996-01-01T00:00:00",
          "1996-04-01T00:00:00",
          "1996-07-01T00:00:00",
          "1996-10-01T00:00:00",
          "1997-01-01T00:00:00",
          "1997-04-01T00:00:00",
          "1997-07-01T00:00:00",
          "1997-10-01T00:00:00",
          "1998-01-01T00:00:00",
          "1998-04-01T00:00:00",
          "1998-07-01T00:00:00",
          "1998-10-01T00:00:00",
          "1999-01-01T00:00:00",
          "1999-04-01T00:00:00",
          "1999-07-01T00:00:00",
          "1999-10-01T00:00:00",
          "2000-01-01T00:00:00",
          "2000-04-01T00:00:00",
          "2000-07-01T00:00:00",
          "2000-10-01T00:00:00",
          "2001-01-01T00:00:00",
          "2001-04-01T00:00:00",
          "2001-07-01T00:00:00",
          "2001-10-01T00:00:00",
          "2002-01-01T00:00:00",
          "2002-04-01T00:00:00",
          "2002-07-01T00:00:00",
          "2002-10-01T00:00:00",
          "2003-01-01T00:00:00",
          "2003-04-01T00:00:00",
          "2003-07-01T00:00:00",
          "2003-10-01T00:00:00",
          "2004-01-01T00:00:00",
          "2004-04-01T00:00:00",
          "2004-07-01T00:00:00",
          "2004-10-01T00:00:00",
          "2005-01-01T00:00:00",
          "2005-04-01T00:00:00",
          "2005-07-01T00:00:00",
          "2005-10-01T00:00:00",
          "2006-01-01T00:00:00",
          "2006-04-01T00:00:00",
          "2006-07-01T00:00:00",
          "2006-10-01T00:00:00",
          "2007-01-01T00:00:00",
          "2007-04-01T00:00:00",
          "2007-07-01T00:00:00",
          "2007-10-01T00:00:00",
          "2008-01-01T00:00:00",
          "2008-04-01T00:00:00",
          "2008-07-01T00:00:00",
          "2008-10-01T00:00:00",
          "2009-01-01T00:00:00",
          "2009-04-01T00:00:00",
          "2009-07-01T00:00:00"
         ],
         "xaxis": "x4",
         "y": [
          -0.1599999999999966,
          -3.552713678800501e-15,
          0.07000000000000028,
          -0.1999999999999993,
          0.10000000000000142,
          -0.14000000000000057,
          -0.030000000000001137,
          0.20000000000000284,
          -0.10000000000000497,
          0.10000000000000142,
          3.552713678800501e-15,
          -0.13000000000000256,
          0.20000000000000284,
          -0.10000000000000142,
          0.129999999999999,
          -0.030000000000001137,
          -0.14000000000000057,
          0.0400000000000027,
          -0.030000000000001137,
          0.08999999999999986,
          0.129999999999999,
          -0.030000000000001137,
          0.07000000000000028,
          0.30000000000000426,
          -0.029999999999997584,
          0.3299999999999983,
          -0.18000000000000327,
          -0.1999999999999993,
          0.12999999999999545,
          -0.09999999999999432,
          0.3500000000000014,
          0.09999999999999432,
          0.20000000000000284,
          0.09999999999999432,
          7.105427357601002e-15,
          0.29999999999999716,
          0,
          0.10000000000000142,
          0.19999999999999574,
          7.105427357601002e-15,
          -0.10000000000000142,
          0,
          -0.10000000000000142,
          -0.3999999999999986,
          0.10000000000000142,
          -0.20000000000000284,
          -0.19999999999999574,
          0.09999999999999432,
          -0.20000000000000284,
          0.10000000000000853,
          0.19999999999999574,
          0.7000000000000028,
          0.20000000000000284,
          0.9999999999999929,
          0.6999999999999957,
          0.30000000000000426,
          0.6999999999999957,
          0.30000000000000426,
          0.10000000000000142,
          -0.6000000000000014,
          -0.19999999999999574,
          -0.8000000000000043,
          -0.3999999999999986,
          -0.3999999999999986,
          -0.10000000000000142,
          0,
          -0.09999999999999432,
          0.9999999999999929,
          -0.10000000000000142,
          -0.09999999999999432,
          0.29999999999999716,
          -0.10000000000000142,
          0.8000000000000043,
          0.79999999999999,
          0.30000000000000426,
          0.8999999999999986,
          0.8000000000000043,
          0.6000000000000085,
          1.3999999999999915,
          0.8000000000000114,
          -0.700000000000017,
          -0.09999999999999432,
          -0.29999999999999716,
          -1.0000000000000142,
          0.700000000000017,
          -0.20000000000000284,
          -1.5,
          -1.2999999999999972,
          0.09999999999999432,
          -1.3000000000000114,
          -1.1999999999999886,
          0.29999999999999716,
          -1.5,
          0.4000000000000057,
          1.4999999999999858,
          0.30000000000001137,
          -0.20000000000000284,
          0,
          -0.6999999999999886,
          0.09999999999999432,
          -0.09999999999999432,
          -0.20000000000000284,
          0.7999999999999972,
          -2.5,
          0.09999999999999432,
          -0.09999999999999432,
          -0.20000000000000284,
          2.5,
          0.29999999999999716,
          0.5,
          -0.20000000000000284,
          -0.09999999999999432,
          0.20000000000000284,
          0.20000000000000284,
          0.29999999999999716,
          0.6999999999999886,
          0.10000000000000853,
          -0.5,
          0.7999999999999972,
          -0.4999999999999858,
          0.19999999999998863,
          2,
          -0.8000000000000114,
          -1,
          -0.5,
          -1.9000000000000057,
          -0.1999999999999602,
          0.6999999999999886,
          0,
          0.19999999999998863,
          0,
          -0.09999999999999432,
          -0.4000000000000057,
          -0.09999999999999432,
          -0.4000000000000057,
          -0.10000000000002274,
          0.5000000000000284,
          -0.09999999999999432,
          0.39999999999997726,
          0.4000000000000341,
          -0.4000000000000341,
          -0.09999999999999432,
          0.09999999999999432,
          0.09999999999999432,
          0.10000000000002274,
          0.29999999999998295,
          2.842170943040401e-14,
          -0.9000000000000057,
          -0.4000000000000057,
          -0.09999999999999432,
          -0.700000000000017,
          -0.30000000000001137,
          0.5,
          -0.39999999999997726,
          0.29999999999998295,
          1.0000000000000284,
          -0.20000000000001705,
          0.6999999999999886,
          0.4000000000000341,
          0.39999999999997726,
          1,
          -0.19999999999998863,
          0.4999999999999716,
          -0.799999999999983,
          -0.799999999999983,
          -1.0000000000000284,
          -1.5999999999999943,
          0.8000000000000114,
          -0.30000000000001137,
          1,
          1.3000000000000114,
          -1.0000000000000284,
          -0.19999999999998863,
          2.842170943040401e-14,
          0,
          0.5,
          1.1999999999999886,
          0.5,
          -0.4000000000000057,
          0.9000000000000057,
          -0.8000000000000114,
          2.799999999999983,
          -0.799999999999983,
          -0.700000000000017,
          1.1000000000000227,
          -5.299999999999983,
          1.4739999999999895,
          1.0459999999999923,
          -0.5819999999999936,
          2.594999999999999,
          1.6879999999999882,
          -0.8439999999999657,
          3.194999999999993,
          -3.5160000000000196,
          -8.076999999999998,
          -1.0050000000000239,
          -2.8149999999999977,
          3.6370000000000005
         ],
         "yaxis": "y4"
        },
        {
         "line": {
          "color": "#3f3f3f"
         },
         "mode": "lines",
         "name": "Lags=[1, 4]",
         "showlegend": false,
         "type": "scattergl",
         "x": [
          0,
          0
         ],
         "xaxis": "x5",
         "y": [
          0,
          1
         ],
         "yaxis": "y5"
        },
        {
         "line": {
          "color": "#3f3f3f"
         },
         "mode": "lines",
         "name": "Lags=[1, 4]",
         "showlegend": false,
         "type": "scattergl",
         "x": [
          1,
          1
         ],
         "xaxis": "x5",
         "y": [
          0,
          0.03436906929733672
         ],
         "yaxis": "y5"
        },
        {
         "line": {
          "color": "#3f3f3f"
         },
         "mode": "lines",
         "name": "Lags=[1, 4]",
         "showlegend": false,
         "type": "scattergl",
         "x": [
          2,
          2
         ],
         "xaxis": "x5",
         "y": [
          0,
          0.050283451847572436
         ],
         "yaxis": "y5"
        },
        {
         "line": {
          "color": "#3f3f3f"
         },
         "mode": "lines",
         "name": "Lags=[1, 4]",
         "showlegend": false,
         "type": "scattergl",
         "x": [
          3,
          3
         ],
         "xaxis": "x5",
         "y": [
          0,
          0.07770030707698741
         ],
         "yaxis": "y5"
        },
        {
         "line": {
          "color": "#3f3f3f"
         },
         "mode": "lines",
         "name": "Lags=[1, 4]",
         "showlegend": false,
         "type": "scattergl",
         "x": [
          4,
          4
         ],
         "xaxis": "x5",
         "y": [
          0,
          -0.41424971232484664
         ],
         "yaxis": "y5"
        },
        {
         "line": {
          "color": "#3f3f3f"
         },
         "mode": "lines",
         "name": "Lags=[1, 4]",
         "showlegend": false,
         "type": "scattergl",
         "x": [
          5,
          5
         ],
         "xaxis": "x5",
         "y": [
          0,
          0.00336070383102659
         ],
         "yaxis": "y5"
        },
        {
         "line": {
          "color": "#3f3f3f"
         },
         "mode": "lines",
         "name": "Lags=[1, 4]",
         "showlegend": false,
         "type": "scattergl",
         "x": [
          6,
          6
         ],
         "xaxis": "x5",
         "y": [
          0,
          0.0104632709599013
         ],
         "yaxis": "y5"
        },
        {
         "line": {
          "color": "#3f3f3f"
         },
         "mode": "lines",
         "name": "Lags=[1, 4]",
         "showlegend": false,
         "type": "scattergl",
         "x": [
          7,
          7
         ],
         "xaxis": "x5",
         "y": [
          0,
          -0.15179385946893348
         ],
         "yaxis": "y5"
        },
        {
         "line": {
          "color": "#3f3f3f"
         },
         "mode": "lines",
         "name": "Lags=[1, 4]",
         "showlegend": false,
         "type": "scattergl",
         "x": [
          8,
          8
         ],
         "xaxis": "x5",
         "y": [
          0,
          0.07581564076228132
         ],
         "yaxis": "y5"
        },
        {
         "line": {
          "color": "#3f3f3f"
         },
         "mode": "lines",
         "name": "Lags=[1, 4]",
         "showlegend": false,
         "type": "scattergl",
         "x": [
          9,
          9
         ],
         "xaxis": "x5",
         "y": [
          0,
          0.09358326081520965
         ],
         "yaxis": "y5"
        },
        {
         "line": {
          "color": "#3f3f3f"
         },
         "mode": "lines",
         "name": "Lags=[1, 4]",
         "showlegend": false,
         "type": "scattergl",
         "x": [
          10,
          10
         ],
         "xaxis": "x5",
         "y": [
          0,
          -0.08132720112700274
         ],
         "yaxis": "y5"
        },
        {
         "line": {
          "color": "#3f3f3f"
         },
         "mode": "lines",
         "name": "Lags=[1, 4]",
         "showlegend": false,
         "type": "scattergl",
         "x": [
          11,
          11
         ],
         "xaxis": "x5",
         "y": [
          0,
          0.13978218040871182
         ],
         "yaxis": "y5"
        },
        {
         "line": {
          "color": "#3f3f3f"
         },
         "mode": "lines",
         "name": "Lags=[1, 4]",
         "showlegend": false,
         "type": "scattergl",
         "x": [
          12,
          12
         ],
         "xaxis": "x5",
         "y": [
          0,
          -0.13783914560400148
         ],
         "yaxis": "y5"
        },
        {
         "line": {
          "color": "#3f3f3f"
         },
         "mode": "lines",
         "name": "Lags=[1, 4]",
         "showlegend": false,
         "type": "scattergl",
         "x": [
          13,
          13
         ],
         "xaxis": "x5",
         "y": [
          0,
          -0.053358259354817854
         ],
         "yaxis": "y5"
        },
        {
         "line": {
          "color": "#3f3f3f"
         },
         "mode": "lines",
         "name": "Lags=[1, 4]",
         "showlegend": false,
         "type": "scattergl",
         "x": [
          14,
          14
         ],
         "xaxis": "x5",
         "y": [
          0,
          0.051943364614111275
         ],
         "yaxis": "y5"
        },
        {
         "line": {
          "color": "#3f3f3f"
         },
         "mode": "lines",
         "name": "Lags=[1, 4]",
         "showlegend": false,
         "type": "scattergl",
         "x": [
          15,
          15
         ],
         "xaxis": "x5",
         "y": [
          0,
          -0.13614161918483278
         ],
         "yaxis": "y5"
        },
        {
         "line": {
          "color": "#3f3f3f"
         },
         "mode": "lines",
         "name": "Lags=[1, 4]",
         "showlegend": false,
         "type": "scattergl",
         "x": [
          16,
          16
         ],
         "xaxis": "x5",
         "y": [
          0,
          0.05637148663231351
         ],
         "yaxis": "y5"
        },
        {
         "line": {
          "color": "#3f3f3f"
         },
         "mode": "lines",
         "name": "Lags=[1, 4]",
         "showlegend": false,
         "type": "scattergl",
         "x": [
          17,
          17
         ],
         "xaxis": "x5",
         "y": [
          0,
          -0.03431960873462137
         ],
         "yaxis": "y5"
        },
        {
         "line": {
          "color": "#3f3f3f"
         },
         "mode": "lines",
         "name": "Lags=[1, 4]",
         "showlegend": false,
         "type": "scattergl",
         "x": [
          18,
          18
         ],
         "xaxis": "x5",
         "y": [
          0,
          -0.09543539624075249
         ],
         "yaxis": "y5"
        },
        {
         "line": {
          "color": "#3f3f3f"
         },
         "mode": "lines",
         "name": "Lags=[1, 4]",
         "showlegend": false,
         "type": "scattergl",
         "x": [
          19,
          19
         ],
         "xaxis": "x5",
         "y": [
          0,
          0.030671048584922367
         ],
         "yaxis": "y5"
        },
        {
         "line": {
          "color": "#3f3f3f"
         },
         "mode": "lines",
         "name": "Lags=[1, 4]",
         "showlegend": false,
         "type": "scattergl",
         "x": [
          20,
          20
         ],
         "xaxis": "x5",
         "y": [
          0,
          0.01722943668547748
         ],
         "yaxis": "y5"
        },
        {
         "line": {
          "color": "#3f3f3f"
         },
         "mode": "lines",
         "name": "Lags=[1, 4]",
         "showlegend": false,
         "type": "scattergl",
         "x": [
          21,
          21
         ],
         "xaxis": "x5",
         "y": [
          0,
          0.03844734779477617
         ],
         "yaxis": "y5"
        },
        {
         "line": {
          "color": "#3f3f3f"
         },
         "mode": "lines",
         "name": "Lags=[1, 4]",
         "showlegend": false,
         "type": "scattergl",
         "x": [
          22,
          22
         ],
         "xaxis": "x5",
         "y": [
          0,
          0.0973495950120035
         ],
         "yaxis": "y5"
        },
        {
         "line": {
          "color": "#3f3f3f"
         },
         "mode": "lines",
         "name": "Lags=[1, 4]",
         "showlegend": false,
         "type": "scattergl",
         "x": [
          23,
          23
         ],
         "xaxis": "x5",
         "y": [
          0,
          0.0027829344523711444
         ],
         "yaxis": "y5"
        },
        {
         "line": {
          "color": "#3f3f3f"
         },
         "mode": "lines",
         "name": "Lags=[1, 4]",
         "showlegend": false,
         "type": "scattergl",
         "x": [
          24,
          24
         ],
         "xaxis": "x5",
         "y": [
          0,
          -0.044914589349750594
         ],
         "yaxis": "y5"
        },
        {
         "line": {
          "color": "#3f3f3f"
         },
         "mode": "lines",
         "name": "Lags=[1, 4]",
         "showlegend": false,
         "type": "scattergl",
         "x": [
          25,
          25
         ],
         "xaxis": "x5",
         "y": [
          0,
          -0.05635293590777559
         ],
         "yaxis": "y5"
        },
        {
         "line": {
          "color": "#3f3f3f"
         },
         "mode": "lines",
         "name": "Lags=[1, 4]",
         "showlegend": false,
         "type": "scattergl",
         "x": [
          26,
          26
         ],
         "xaxis": "x5",
         "y": [
          0,
          -0.08481946253067144
         ],
         "yaxis": "y5"
        },
        {
         "line": {
          "color": "#3f3f3f"
         },
         "mode": "lines",
         "name": "Lags=[1, 4]",
         "showlegend": false,
         "type": "scattergl",
         "x": [
          27,
          27
         ],
         "xaxis": "x5",
         "y": [
          0,
          0.003387153358759309
         ],
         "yaxis": "y5"
        },
        {
         "line": {
          "color": "#3f3f3f"
         },
         "mode": "lines",
         "name": "Lags=[1, 4]",
         "showlegend": false,
         "type": "scattergl",
         "x": [
          28,
          28
         ],
         "xaxis": "x5",
         "y": [
          0,
          0.052655652286010504
         ],
         "yaxis": "y5"
        },
        {
         "line": {
          "color": "#3f3f3f"
         },
         "mode": "lines",
         "name": "Lags=[1, 4]",
         "showlegend": false,
         "type": "scattergl",
         "x": [
          29,
          29
         ],
         "xaxis": "x5",
         "y": [
          0,
          0.02661293937395042
         ],
         "yaxis": "y5"
        },
        {
         "line": {
          "color": "#3f3f3f"
         },
         "mode": "lines",
         "name": "Lags=[1, 4]",
         "showlegend": false,
         "type": "scattergl",
         "x": [
          30,
          30
         ],
         "xaxis": "x5",
         "y": [
          0,
          0.060885713421378294
         ],
         "yaxis": "y5"
        },
        {
         "line": {
          "color": "#3f3f3f"
         },
         "mode": "lines",
         "name": "Lags=[1, 4]",
         "showlegend": false,
         "type": "scattergl",
         "x": [
          31,
          31
         ],
         "xaxis": "x5",
         "y": [
          0,
          0.0010005356463007966
         ],
         "yaxis": "y5"
        },
        {
         "line": {
          "color": "#3f3f3f"
         },
         "mode": "lines",
         "name": "Lags=[1, 4]",
         "showlegend": false,
         "type": "scattergl",
         "x": [
          32,
          32
         ],
         "xaxis": "x5",
         "y": [
          0,
          -0.00022080230159295932
         ],
         "yaxis": "y5"
        },
        {
         "line": {
          "color": "#3f3f3f"
         },
         "mode": "lines",
         "name": "Lags=[1, 4]",
         "showlegend": false,
         "type": "scattergl",
         "x": [
          33,
          33
         ],
         "xaxis": "x5",
         "y": [
          0,
          -0.030140191528155516
         ],
         "yaxis": "y5"
        },
        {
         "line": {
          "color": "#3f3f3f"
         },
         "mode": "lines",
         "name": "Lags=[1, 4]",
         "showlegend": false,
         "type": "scattergl",
         "x": [
          34,
          34
         ],
         "xaxis": "x5",
         "y": [
          0,
          -0.041861665054028274
         ],
         "yaxis": "y5"
        },
        {
         "line": {
          "color": "#3f3f3f"
         },
         "mode": "lines",
         "name": "Lags=[1, 4]",
         "showlegend": false,
         "type": "scattergl",
         "x": [
          35,
          35
         ],
         "xaxis": "x5",
         "y": [
          0,
          -0.0034602181429742086
         ],
         "yaxis": "y5"
        },
        {
         "line": {
          "color": "#3f3f3f"
         },
         "mode": "lines",
         "name": "Lags=[1, 4]",
         "showlegend": false,
         "type": "scattergl",
         "x": [
          36,
          36
         ],
         "xaxis": "x5",
         "y": [
          0,
          -0.060114303834174494
         ],
         "yaxis": "y5"
        },
        {
         "line": {
          "color": "#3f3f3f"
         },
         "mode": "lines",
         "name": "Lags=[1, 4]",
         "showlegend": false,
         "type": "scattergl",
         "x": [
          37,
          37
         ],
         "xaxis": "x5",
         "y": [
          0,
          0.03703496072944957
         ],
         "yaxis": "y5"
        },
        {
         "line": {
          "color": "#3f3f3f"
         },
         "mode": "lines",
         "name": "Lags=[1, 4]",
         "showlegend": false,
         "type": "scattergl",
         "x": [
          38,
          38
         ],
         "xaxis": "x5",
         "y": [
          0,
          0.008119737030170937
         ],
         "yaxis": "y5"
        },
        {
         "line": {
          "color": "#3f3f3f"
         },
         "mode": "lines",
         "name": "Lags=[1, 4]",
         "showlegend": false,
         "type": "scattergl",
         "x": [
          39,
          39
         ],
         "xaxis": "x5",
         "y": [
          0,
          -0.03997772581919081
         ],
         "yaxis": "y5"
        },
        {
         "line": {
          "color": "#3f3f3f"
         },
         "mode": "lines",
         "name": "Lags=[1, 4]",
         "showlegend": false,
         "type": "scattergl",
         "x": [
          40,
          40
         ],
         "xaxis": "x5",
         "y": [
          0,
          0.03593336137707059
         ],
         "yaxis": "y5"
        },
        {
         "marker": {
          "color": "#1f77b4",
          "size": 6
         },
         "mode": "markers",
         "name": "Lags=[1, 4]",
         "showlegend": false,
         "type": "scattergl",
         "x": [
          0,
          1,
          2,
          3,
          4,
          5,
          6,
          7,
          8,
          9,
          10,
          11,
          12,
          13,
          14,
          15,
          16,
          17,
          18,
          19,
          20,
          21,
          22,
          23,
          24,
          25,
          26,
          27,
          28,
          29,
          30,
          31,
          32,
          33,
          34,
          35,
          36,
          37,
          38,
          39,
          40
         ],
         "xaxis": "x5",
         "y": [
          1,
          0.03436906929733672,
          0.050283451847572436,
          0.07770030707698741,
          -0.41424971232484664,
          0.00336070383102659,
          0.0104632709599013,
          -0.15179385946893348,
          0.07581564076228132,
          0.09358326081520965,
          -0.08132720112700274,
          0.13978218040871182,
          -0.13783914560400148,
          -0.053358259354817854,
          0.051943364614111275,
          -0.13614161918483278,
          0.05637148663231351,
          -0.03431960873462137,
          -0.09543539624075249,
          0.030671048584922367,
          0.01722943668547748,
          0.03844734779477617,
          0.0973495950120035,
          0.0027829344523711444,
          -0.044914589349750594,
          -0.05635293590777559,
          -0.08481946253067144,
          0.003387153358759309,
          0.052655652286010504,
          0.02661293937395042,
          0.060885713421378294,
          0.0010005356463007966,
          -0.00022080230159295932,
          -0.030140191528155516,
          -0.041861665054028274,
          -0.0034602181429742086,
          -0.060114303834174494,
          0.03703496072944957,
          0.008119737030170937,
          -0.03997772581919081,
          0.03593336137707059
         ],
         "yaxis": "y5"
        },
        {
         "line": {
          "color": "rgba(255,255,255,0)"
         },
         "mode": "lines",
         "name": "UC",
         "showlegend": false,
         "type": "scatter",
         "x": [
          0,
          1,
          2,
          3,
          4,
          5,
          6,
          7,
          8,
          9,
          10,
          11,
          12,
          13,
          14,
          15,
          16,
          17,
          18,
          19,
          20,
          21,
          22,
          23,
          24,
          25,
          26,
          27,
          28,
          29,
          30,
          31,
          32,
          33,
          34,
          35,
          36,
          37,
          38,
          39,
          40
         ],
         "xaxis": "x5",
         "y": [
          0,
          0.13928857517837873,
          0.13945301036852895,
          0.1398043333433842,
          0.14063966762203028,
          0.16259813749305446,
          0.1625994851337202,
          0.16261254772461528,
          0.16533876222983318,
          0.1660118795891312,
          0.16703224460232485,
          0.16779873550732177,
          0.1700428833225366,
          0.17219703100429387,
          0.1725175137748812,
          0.17282067701008474,
          0.1748890363299249,
          0.17524120469497712,
          0.1753715567625412,
          0.1763762847692311,
          0.1764797324378562,
          0.17651236402238268,
          0.17667476509432328,
          0.1777124160287272,
          0.17771326153754674,
          0.17793336007997299,
          0.1782792873077933,
          0.17906050243142618,
          0.17906174551236315,
          0.1793619065520159,
          0.17943850037552778,
          0.17983887073831745,
          0.1798389787355002,
          0.17983898399511994,
          0.17993696026051492,
          0.18012580972870526,
          0.18012709934481266,
          0.18051591085419463,
          0.18066326489909856,
          0.18067034495286868,
          0.18084188841052543
         ],
         "yaxis": "y5"
        },
        {
         "fill": "tonexty",
         "fillcolor": "rgba(32, 146, 230,0.3)",
         "line": {
          "color": "rgba(255,255,255,0)"
         },
         "mode": "lines",
         "name": "LC",
         "showlegend": false,
         "type": "scatter",
         "x": [
          0,
          1,
          2,
          3,
          4,
          5,
          6,
          7,
          8,
          9,
          10,
          11,
          12,
          13,
          14,
          15,
          16,
          17,
          18,
          19,
          20,
          21,
          22,
          23,
          24,
          25,
          26,
          27,
          28,
          29,
          30,
          31,
          32,
          33,
          34,
          35,
          36,
          37,
          38,
          39,
          40
         ],
         "xaxis": "x5",
         "y": [
          0,
          -0.13928857517837873,
          -0.13945301036852895,
          -0.1398043333433842,
          -0.14063966762203028,
          -0.16259813749305446,
          -0.1625994851337202,
          -0.16261254772461525,
          -0.16533876222983315,
          -0.16601187958913122,
          -0.16703224460232485,
          -0.16779873550732177,
          -0.17004288332253656,
          -0.17219703100429387,
          -0.1725175137748812,
          -0.17282067701008477,
          -0.1748890363299249,
          -0.17524120469497712,
          -0.17537155676254124,
          -0.1763762847692311,
          -0.1764797324378562,
          -0.17651236402238263,
          -0.1766747650943233,
          -0.1777124160287272,
          -0.17771326153754674,
          -0.17793336007997299,
          -0.17827928730779327,
          -0.17906050243142618,
          -0.1790617455123631,
          -0.1793619065520159,
          -0.17943850037552778,
          -0.17983887073831745,
          -0.1798389787355002,
          -0.17983898399512,
          -0.17993696026051492,
          -0.18012580972870526,
          -0.18012709934481266,
          -0.18051591085419463,
          -0.18066326489909856,
          -0.18067034495286868,
          -0.18084188841052543
         ],
         "yaxis": "y5"
        },
        {
         "line": {
          "color": "#3f3f3f"
         },
         "mode": "lines",
         "name": "Lags=[1, 4]",
         "showlegend": false,
         "type": "scattergl",
         "x": [
          0,
          0
         ],
         "xaxis": "x6",
         "y": [
          0,
          1
         ],
         "yaxis": "y6"
        },
        {
         "line": {
          "color": "#3f3f3f"
         },
         "mode": "lines",
         "name": "Lags=[1, 4]",
         "showlegend": false,
         "type": "scattergl",
         "x": [
          1,
          1
         ],
         "xaxis": "x6",
         "y": [
          0,
          0.034543531578033825
         ],
         "yaxis": "y6"
        },
        {
         "line": {
          "color": "#3f3f3f"
         },
         "mode": "lines",
         "name": "Lags=[1, 4]",
         "showlegend": false,
         "type": "scattergl",
         "x": [
          2,
          2
         ],
         "xaxis": "x6",
         "y": [
          0,
          0.04966255283910251
         ],
         "yaxis": "y6"
        },
        {
         "line": {
          "color": "#3f3f3f"
         },
         "mode": "lines",
         "name": "Lags=[1, 4]",
         "showlegend": false,
         "type": "scattergl",
         "x": [
          3,
          3
         ],
         "xaxis": "x6",
         "y": [
          0,
          0.07578976582815937
         ],
         "yaxis": "y6"
        },
        {
         "line": {
          "color": "#3f3f3f"
         },
         "mode": "lines",
         "name": "Lags=[1, 4]",
         "showlegend": false,
         "type": "scattergl",
         "x": [
          4,
          4
         ],
         "xaxis": "x6",
         "y": [
          0,
          -0.43417074502254055
         ],
         "yaxis": "y6"
        },
        {
         "line": {
          "color": "#3f3f3f"
         },
         "mode": "lines",
         "name": "Lags=[1, 4]",
         "showlegend": false,
         "type": "scattergl",
         "x": [
          5,
          5
         ],
         "xaxis": "x6",
         "y": [
          0,
          0.043311200933905614
         ],
         "yaxis": "y6"
        },
        {
         "line": {
          "color": "#3f3f3f"
         },
         "mode": "lines",
         "name": "Lags=[1, 4]",
         "showlegend": false,
         "type": "scattergl",
         "x": [
          6,
          6
         ],
         "xaxis": "x6",
         "y": [
          0,
          0.06411962887122871
         ],
         "yaxis": "y6"
        },
        {
         "line": {
          "color": "#3f3f3f"
         },
         "mode": "lines",
         "name": "Lags=[1, 4]",
         "showlegend": false,
         "type": "scattergl",
         "x": [
          7,
          7
         ],
         "xaxis": "x6",
         "y": [
          0,
          -0.11770586382332195
         ],
         "yaxis": "y6"
        },
        {
         "line": {
          "color": "#3f3f3f"
         },
         "mode": "lines",
         "name": "Lags=[1, 4]",
         "showlegend": false,
         "type": "scattergl",
         "x": [
          8,
          8
         ],
         "xaxis": "x6",
         "y": [
          0,
          -0.12009237553252454
         ],
         "yaxis": "y6"
        },
        {
         "line": {
          "color": "#3f3f3f"
         },
         "mode": "lines",
         "name": "Lags=[1, 4]",
         "showlegend": false,
         "type": "scattergl",
         "x": [
          9,
          9
         ],
         "xaxis": "x6",
         "y": [
          0,
          0.17417180813186975
         ],
         "yaxis": "y6"
        },
        {
         "line": {
          "color": "#3f3f3f"
         },
         "mode": "lines",
         "name": "Lags=[1, 4]",
         "showlegend": false,
         "type": "scattergl",
         "x": [
          10,
          10
         ],
         "xaxis": "x6",
         "y": [
          0,
          -0.06985959998182169
         ],
         "yaxis": "y6"
        },
        {
         "line": {
          "color": "#3f3f3f"
         },
         "mode": "lines",
         "name": "Lags=[1, 4]",
         "showlegend": false,
         "type": "scattergl",
         "x": [
          11,
          11
         ],
         "xaxis": "x6",
         "y": [
          0,
          0.022631058151414224
         ],
         "yaxis": "y6"
        },
        {
         "line": {
          "color": "#3f3f3f"
         },
         "mode": "lines",
         "name": "Lags=[1, 4]",
         "showlegend": false,
         "type": "scattergl",
         "x": [
          12,
          12
         ],
         "xaxis": "x6",
         "y": [
          0,
          -0.20944263512440248
         ],
         "yaxis": "y6"
        },
        {
         "line": {
          "color": "#3f3f3f"
         },
         "mode": "lines",
         "name": "Lags=[1, 4]",
         "showlegend": false,
         "type": "scattergl",
         "x": [
          13,
          13
         ],
         "xaxis": "x6",
         "y": [
          0,
          0.11810564172064826
         ],
         "yaxis": "y6"
        },
        {
         "line": {
          "color": "#3f3f3f"
         },
         "mode": "lines",
         "name": "Lags=[1, 4]",
         "showlegend": false,
         "type": "scattergl",
         "x": [
          14,
          14
         ],
         "xaxis": "x6",
         "y": [
          0,
          -0.03844635617437964
         ],
         "yaxis": "y6"
        },
        {
         "line": {
          "color": "#3f3f3f"
         },
         "mode": "lines",
         "name": "Lags=[1, 4]",
         "showlegend": false,
         "type": "scattergl",
         "x": [
          15,
          15
         ],
         "xaxis": "x6",
         "y": [
          0,
          -0.08446788580051279
         ],
         "yaxis": "y6"
        },
        {
         "line": {
          "color": "#3f3f3f"
         },
         "mode": "lines",
         "name": "Lags=[1, 4]",
         "showlegend": false,
         "type": "scattergl",
         "x": [
          16,
          16
         ],
         "xaxis": "x6",
         "y": [
          0,
          -0.05921149557475286
         ],
         "yaxis": "y6"
        },
        {
         "line": {
          "color": "#3f3f3f"
         },
         "mode": "lines",
         "name": "Lags=[1, 4]",
         "showlegend": false,
         "type": "scattergl",
         "x": [
          17,
          17
         ],
         "xaxis": "x6",
         "y": [
          0,
          -0.0010764395591496322
         ],
         "yaxis": "y6"
        },
        {
         "line": {
          "color": "#3f3f3f"
         },
         "mode": "lines",
         "name": "Lags=[1, 4]",
         "showlegend": false,
         "type": "scattergl",
         "x": [
          18,
          18
         ],
         "xaxis": "x6",
         "y": [
          0,
          -0.10706832426777807
         ],
         "yaxis": "y6"
        },
        {
         "line": {
          "color": "#3f3f3f"
         },
         "mode": "lines",
         "name": "Lags=[1, 4]",
         "showlegend": false,
         "type": "scattergl",
         "x": [
          19,
          19
         ],
         "xaxis": "x6",
         "y": [
          0,
          -0.06261872841589365
         ],
         "yaxis": "y6"
        },
        {
         "line": {
          "color": "#3f3f3f"
         },
         "mode": "lines",
         "name": "Lags=[1, 4]",
         "showlegend": false,
         "type": "scattergl",
         "x": [
          20,
          20
         ],
         "xaxis": "x6",
         "y": [
          0,
          0.03134351774642561
         ],
         "yaxis": "y6"
        },
        {
         "line": {
          "color": "#3f3f3f"
         },
         "mode": "lines",
         "name": "Lags=[1, 4]",
         "showlegend": false,
         "type": "scattergl",
         "x": [
          21,
          21
         ],
         "xaxis": "x6",
         "y": [
          0,
          0.10896669773674293
         ],
         "yaxis": "y6"
        },
        {
         "line": {
          "color": "#3f3f3f"
         },
         "mode": "lines",
         "name": "Lags=[1, 4]",
         "showlegend": false,
         "type": "scattergl",
         "x": [
          22,
          22
         ],
         "xaxis": "x6",
         "y": [
          0,
          -0.06046101625266272
         ],
         "yaxis": "y6"
        },
        {
         "marker": {
          "color": "#1f77b4",
          "size": 6
         },
         "mode": "markers",
         "name": "Lags=[1, 4]",
         "showlegend": false,
         "type": "scattergl",
         "x": [
          0,
          1,
          2,
          3,
          4,
          5,
          6,
          7,
          8,
          9,
          10,
          11,
          12,
          13,
          14,
          15,
          16,
          17,
          18,
          19,
          20,
          21,
          22
         ],
         "xaxis": "x6",
         "y": [
          1,
          0.034543531578033825,
          0.04966255283910251,
          0.07578976582815937,
          -0.43417074502254055,
          0.043311200933905614,
          0.06411962887122871,
          -0.11770586382332195,
          -0.12009237553252454,
          0.17417180813186975,
          -0.06985959998182169,
          0.022631058151414224,
          -0.20944263512440248,
          0.11810564172064826,
          -0.03844635617437964,
          -0.08446788580051279,
          -0.05921149557475286,
          -0.0010764395591496322,
          -0.10706832426777807,
          -0.06261872841589365,
          0.03134351774642561,
          0.10896669773674293,
          -0.06046101625266272
         ],
         "yaxis": "y6"
        },
        {
         "line": {
          "color": "rgba(255,255,255,0)"
         },
         "mode": "lines",
         "name": "UC",
         "showlegend": false,
         "type": "scatter",
         "x": [
          0,
          1,
          2,
          3,
          4,
          5,
          6,
          7,
          8,
          9,
          10,
          11,
          12,
          13,
          14,
          15,
          16,
          17,
          18,
          19,
          20,
          21,
          22
         ],
         "xaxis": "x6",
         "y": [
          0,
          0.13928857517837873,
          0.13928857517837873,
          0.13928857517837873,
          0.13928857517837873,
          0.13928857517837873,
          0.13928857517837873,
          0.13928857517837873,
          0.13928857517837873,
          0.13928857517837875,
          0.13928857517837873,
          0.13928857517837873,
          0.13928857517837873,
          0.13928857517837873,
          0.13928857517837873,
          0.13928857517837873,
          0.13928857517837873,
          0.13928857517837873,
          0.13928857517837873,
          0.13928857517837873,
          0.13928857517837873,
          0.13928857517837873,
          0.13928857517837873
         ],
         "yaxis": "y6"
        },
        {
         "fill": "tonexty",
         "fillcolor": "rgba(32, 146, 230,0.3)",
         "line": {
          "color": "rgba(255,255,255,0)"
         },
         "mode": "lines",
         "name": "LC",
         "showlegend": false,
         "type": "scatter",
         "x": [
          0,
          1,
          2,
          3,
          4,
          5,
          6,
          7,
          8,
          9,
          10,
          11,
          12,
          13,
          14,
          15,
          16,
          17,
          18,
          19,
          20,
          21,
          22
         ],
         "xaxis": "x6",
         "y": [
          0,
          -0.13928857517837873,
          -0.13928857517837873,
          -0.13928857517837873,
          -0.13928857517837873,
          -0.13928857517837873,
          -0.13928857517837873,
          -0.13928857517837873,
          -0.13928857517837873,
          -0.13928857517837873,
          -0.13928857517837873,
          -0.13928857517837873,
          -0.13928857517837873,
          -0.13928857517837873,
          -0.13928857517837873,
          -0.13928857517837873,
          -0.13928857517837873,
          -0.13928857517837873,
          -0.13928857517837873,
          -0.13928857517837873,
          -0.13928857517837873,
          -0.13928857517837873,
          -0.13928857517837873
         ],
         "yaxis": "y6"
        }
       ],
       "layout": {
        "annotations": [
         {
          "font": {
           "size": 16
          },
          "showarrow": false,
          "text": "cpi (transformed)",
          "x": 0.1411111111111111,
          "xanchor": "center",
          "xref": "paper",
          "y": 1,
          "yanchor": "bottom",
          "yref": "paper"
         },
         {
          "font": {
           "size": 16
          },
          "showarrow": false,
          "text": "ACF",
          "x": 0.49,
          "xanchor": "center",
          "xref": "paper",
          "y": 1,
          "yanchor": "bottom",
          "yref": "paper"
         },
         {
          "font": {
           "size": 16
          },
          "showarrow": false,
          "text": "PACF",
          "x": 0.8388888888888888,
          "xanchor": "center",
          "xref": "paper",
          "y": 1,
          "yanchor": "bottom",
          "yref": "paper"
         },
         {
          "font": {
           "size": 16
          },
          "showarrow": false,
          "text": "Actual",
          "textangle": 90,
          "x": 0.98,
          "xanchor": "left",
          "xref": "paper",
          "y": 0.7875,
          "yanchor": "middle",
          "yref": "paper"
         },
         {
          "font": {
           "size": 16
          },
          "showarrow": false,
          "text": "Lags=[1, 4]",
          "textangle": 90,
          "x": 0.98,
          "xanchor": "left",
          "xref": "paper",
          "y": 0.2125,
          "yanchor": "middle",
          "yref": "paper"
         }
        ],
        "showlegend": false,
        "template": {
         "data": {
          "bar": [
           {
            "error_x": {
             "color": "rgb(51,51,51)"
            },
            "error_y": {
             "color": "rgb(51,51,51)"
            },
            "marker": {
             "line": {
              "color": "rgb(237,237,237)",
              "width": 0.5
             },
             "pattern": {
              "fillmode": "overlay",
              "size": 10,
              "solidity": 0.2
             }
            },
            "type": "bar"
           }
          ],
          "barpolar": [
           {
            "marker": {
             "line": {
              "color": "rgb(237,237,237)",
              "width": 0.5
             },
             "pattern": {
              "fillmode": "overlay",
              "size": 10,
              "solidity": 0.2
             }
            },
            "type": "barpolar"
           }
          ],
          "carpet": [
           {
            "aaxis": {
             "endlinecolor": "rgb(51,51,51)",
             "gridcolor": "white",
             "linecolor": "white",
             "minorgridcolor": "white",
             "startlinecolor": "rgb(51,51,51)"
            },
            "baxis": {
             "endlinecolor": "rgb(51,51,51)",
             "gridcolor": "white",
             "linecolor": "white",
             "minorgridcolor": "white",
             "startlinecolor": "rgb(51,51,51)"
            },
            "type": "carpet"
           }
          ],
          "choropleth": [
           {
            "colorbar": {
             "outlinewidth": 0,
             "tickcolor": "rgb(237,237,237)",
             "ticklen": 6,
             "ticks": "inside"
            },
            "type": "choropleth"
           }
          ],
          "contour": [
           {
            "colorbar": {
             "outlinewidth": 0,
             "tickcolor": "rgb(237,237,237)",
             "ticklen": 6,
             "ticks": "inside"
            },
            "colorscale": [
             [
              0,
              "rgb(20,44,66)"
             ],
             [
              1,
              "rgb(90,179,244)"
             ]
            ],
            "type": "contour"
           }
          ],
          "contourcarpet": [
           {
            "colorbar": {
             "outlinewidth": 0,
             "tickcolor": "rgb(237,237,237)",
             "ticklen": 6,
             "ticks": "inside"
            },
            "type": "contourcarpet"
           }
          ],
          "heatmap": [
           {
            "colorbar": {
             "outlinewidth": 0,
             "tickcolor": "rgb(237,237,237)",
             "ticklen": 6,
             "ticks": "inside"
            },
            "colorscale": [
             [
              0,
              "rgb(20,44,66)"
             ],
             [
              1,
              "rgb(90,179,244)"
             ]
            ],
            "type": "heatmap"
           }
          ],
          "heatmapgl": [
           {
            "colorbar": {
             "outlinewidth": 0,
             "tickcolor": "rgb(237,237,237)",
             "ticklen": 6,
             "ticks": "inside"
            },
            "colorscale": [
             [
              0,
              "rgb(20,44,66)"
             ],
             [
              1,
              "rgb(90,179,244)"
             ]
            ],
            "type": "heatmapgl"
           }
          ],
          "histogram": [
           {
            "marker": {
             "pattern": {
              "fillmode": "overlay",
              "size": 10,
              "solidity": 0.2
             }
            },
            "type": "histogram"
           }
          ],
          "histogram2d": [
           {
            "colorbar": {
             "outlinewidth": 0,
             "tickcolor": "rgb(237,237,237)",
             "ticklen": 6,
             "ticks": "inside"
            },
            "colorscale": [
             [
              0,
              "rgb(20,44,66)"
             ],
             [
              1,
              "rgb(90,179,244)"
             ]
            ],
            "type": "histogram2d"
           }
          ],
          "histogram2dcontour": [
           {
            "colorbar": {
             "outlinewidth": 0,
             "tickcolor": "rgb(237,237,237)",
             "ticklen": 6,
             "ticks": "inside"
            },
            "colorscale": [
             [
              0,
              "rgb(20,44,66)"
             ],
             [
              1,
              "rgb(90,179,244)"
             ]
            ],
            "type": "histogram2dcontour"
           }
          ],
          "mesh3d": [
           {
            "colorbar": {
             "outlinewidth": 0,
             "tickcolor": "rgb(237,237,237)",
             "ticklen": 6,
             "ticks": "inside"
            },
            "type": "mesh3d"
           }
          ],
          "parcoords": [
           {
            "line": {
             "colorbar": {
              "outlinewidth": 0,
              "tickcolor": "rgb(237,237,237)",
              "ticklen": 6,
              "ticks": "inside"
             }
            },
            "type": "parcoords"
           }
          ],
          "pie": [
           {
            "automargin": true,
            "type": "pie"
           }
          ],
          "scatter": [
           {
            "fillpattern": {
             "fillmode": "overlay",
             "size": 10,
             "solidity": 0.2
            },
            "type": "scatter"
           }
          ],
          "scatter3d": [
           {
            "line": {
             "colorbar": {
              "outlinewidth": 0,
              "tickcolor": "rgb(237,237,237)",
              "ticklen": 6,
              "ticks": "inside"
             }
            },
            "marker": {
             "colorbar": {
              "outlinewidth": 0,
              "tickcolor": "rgb(237,237,237)",
              "ticklen": 6,
              "ticks": "inside"
             }
            },
            "type": "scatter3d"
           }
          ],
          "scattercarpet": [
           {
            "marker": {
             "colorbar": {
              "outlinewidth": 0,
              "tickcolor": "rgb(237,237,237)",
              "ticklen": 6,
              "ticks": "inside"
             }
            },
            "type": "scattercarpet"
           }
          ],
          "scattergeo": [
           {
            "marker": {
             "colorbar": {
              "outlinewidth": 0,
              "tickcolor": "rgb(237,237,237)",
              "ticklen": 6,
              "ticks": "inside"
             }
            },
            "type": "scattergeo"
           }
          ],
          "scattergl": [
           {
            "marker": {
             "colorbar": {
              "outlinewidth": 0,
              "tickcolor": "rgb(237,237,237)",
              "ticklen": 6,
              "ticks": "inside"
             }
            },
            "type": "scattergl"
           }
          ],
          "scattermapbox": [
           {
            "marker": {
             "colorbar": {
              "outlinewidth": 0,
              "tickcolor": "rgb(237,237,237)",
              "ticklen": 6,
              "ticks": "inside"
             }
            },
            "type": "scattermapbox"
           }
          ],
          "scatterpolar": [
           {
            "marker": {
             "colorbar": {
              "outlinewidth": 0,
              "tickcolor": "rgb(237,237,237)",
              "ticklen": 6,
              "ticks": "inside"
             }
            },
            "type": "scatterpolar"
           }
          ],
          "scatterpolargl": [
           {
            "marker": {
             "colorbar": {
              "outlinewidth": 0,
              "tickcolor": "rgb(237,237,237)",
              "ticklen": 6,
              "ticks": "inside"
             }
            },
            "type": "scatterpolargl"
           }
          ],
          "scatterternary": [
           {
            "marker": {
             "colorbar": {
              "outlinewidth": 0,
              "tickcolor": "rgb(237,237,237)",
              "ticklen": 6,
              "ticks": "inside"
             }
            },
            "type": "scatterternary"
           }
          ],
          "surface": [
           {
            "colorbar": {
             "outlinewidth": 0,
             "tickcolor": "rgb(237,237,237)",
             "ticklen": 6,
             "ticks": "inside"
            },
            "colorscale": [
             [
              0,
              "rgb(20,44,66)"
             ],
             [
              1,
              "rgb(90,179,244)"
             ]
            ],
            "type": "surface"
           }
          ],
          "table": [
           {
            "cells": {
             "fill": {
              "color": "rgb(237,237,237)"
             },
             "line": {
              "color": "white"
             }
            },
            "header": {
             "fill": {
              "color": "rgb(217,217,217)"
             },
             "line": {
              "color": "white"
             }
            },
            "type": "table"
           }
          ]
         },
         "layout": {
          "annotationdefaults": {
           "arrowhead": 0,
           "arrowwidth": 1
          },
          "autotypenumbers": "strict",
          "coloraxis": {
           "colorbar": {
            "outlinewidth": 0,
            "tickcolor": "rgb(237,237,237)",
            "ticklen": 6,
            "ticks": "inside"
           }
          },
          "colorscale": {
           "sequential": [
            [
             0,
             "rgb(20,44,66)"
            ],
            [
             1,
             "rgb(90,179,244)"
            ]
           ],
           "sequentialminus": [
            [
             0,
             "rgb(20,44,66)"
            ],
            [
             1,
             "rgb(90,179,244)"
            ]
           ]
          },
          "colorway": [
           "#F8766D",
           "#A3A500",
           "#00BF7D",
           "#00B0F6",
           "#E76BF3"
          ],
          "font": {
           "color": "rgb(51,51,51)"
          },
          "geo": {
           "bgcolor": "white",
           "lakecolor": "white",
           "landcolor": "rgb(237,237,237)",
           "showlakes": true,
           "showland": true,
           "subunitcolor": "white"
          },
          "hoverlabel": {
           "align": "left"
          },
          "hovermode": "closest",
          "paper_bgcolor": "white",
          "plot_bgcolor": "rgb(237,237,237)",
          "polar": {
           "angularaxis": {
            "gridcolor": "white",
            "linecolor": "white",
            "showgrid": true,
            "tickcolor": "rgb(51,51,51)",
            "ticks": "outside"
           },
           "bgcolor": "rgb(237,237,237)",
           "radialaxis": {
            "gridcolor": "white",
            "linecolor": "white",
            "showgrid": true,
            "tickcolor": "rgb(51,51,51)",
            "ticks": "outside"
           }
          },
          "scene": {
           "xaxis": {
            "backgroundcolor": "rgb(237,237,237)",
            "gridcolor": "white",
            "gridwidth": 2,
            "linecolor": "white",
            "showbackground": true,
            "showgrid": true,
            "tickcolor": "rgb(51,51,51)",
            "ticks": "outside",
            "zerolinecolor": "white"
           },
           "yaxis": {
            "backgroundcolor": "rgb(237,237,237)",
            "gridcolor": "white",
            "gridwidth": 2,
            "linecolor": "white",
            "showbackground": true,
            "showgrid": true,
            "tickcolor": "rgb(51,51,51)",
            "ticks": "outside",
            "zerolinecolor": "white"
           },
           "zaxis": {
            "backgroundcolor": "rgb(237,237,237)",
            "gridcolor": "white",
            "gridwidth": 2,
            "linecolor": "white",
            "showbackground": true,
            "showgrid": true,
            "tickcolor": "rgb(51,51,51)",
            "ticks": "outside",
            "zerolinecolor": "white"
           }
          },
          "shapedefaults": {
           "fillcolor": "black",
           "line": {
            "width": 0
           },
           "opacity": 0.3
          },
          "ternary": {
           "aaxis": {
            "gridcolor": "white",
            "linecolor": "white",
            "showgrid": true,
            "tickcolor": "rgb(51,51,51)",
            "ticks": "outside"
           },
           "baxis": {
            "gridcolor": "white",
            "linecolor": "white",
            "showgrid": true,
            "tickcolor": "rgb(51,51,51)",
            "ticks": "outside"
           },
           "bgcolor": "rgb(237,237,237)",
           "caxis": {
            "gridcolor": "white",
            "linecolor": "white",
            "showgrid": true,
            "tickcolor": "rgb(51,51,51)",
            "ticks": "outside"
           }
          },
          "xaxis": {
           "automargin": true,
           "gridcolor": "white",
           "linecolor": "white",
           "showgrid": true,
           "tickcolor": "rgb(51,51,51)",
           "ticks": "outside",
           "title": {
            "standoff": 15
           },
           "zerolinecolor": "white"
          },
          "yaxis": {
           "automargin": true,
           "gridcolor": "white",
           "linecolor": "white",
           "showgrid": true,
           "tickcolor": "rgb(51,51,51)",
           "ticks": "outside",
           "title": {
            "standoff": 15
           },
           "zerolinecolor": "white"
          }
         }
        },
        "title": {
         "text": "Difference Plot | cpi"
        },
        "xaxis": {
         "anchor": "y",
         "domain": [
          0,
          0.2822222222222222
         ],
         "matches": "x4",
         "showticklabels": false
        },
        "xaxis2": {
         "anchor": "y2",
         "domain": [
          0.34888888888888886,
          0.6311111111111111
         ],
         "matches": "x5",
         "range": [
          -1,
          42
         ],
         "showticklabels": false
        },
        "xaxis3": {
         "anchor": "y3",
         "domain": [
          0.6977777777777777,
          0.98
         ],
         "matches": "x6",
         "range": [
          -1,
          25
         ],
         "showticklabels": false
        },
        "xaxis4": {
         "anchor": "y4",
         "domain": [
          0,
          0.2822222222222222
         ]
        },
        "xaxis5": {
         "anchor": "y5",
         "domain": [
          0.34888888888888886,
          0.6311111111111111
         ],
         "range": [
          -1,
          42
         ]
        },
        "xaxis6": {
         "anchor": "y6",
         "domain": [
          0.6977777777777777,
          0.98
         ],
         "range": [
          -1,
          24
         ]
        },
        "yaxis": {
         "anchor": "x",
         "domain": [
          0.575,
          1
         ]
        },
        "yaxis2": {
         "anchor": "x2",
         "domain": [
          0.575,
          1
         ],
         "range": [
          -1.1,
          1.1
         ],
         "zerolinecolor": "#000000"
        },
        "yaxis3": {
         "anchor": "x3",
         "domain": [
          0.575,
          1
         ],
         "range": [
          -1.1,
          1.1
         ],
         "zerolinecolor": "#000000"
        },
        "yaxis4": {
         "anchor": "x4",
         "domain": [
          0,
          0.425
         ]
        },
        "yaxis5": {
         "anchor": "x5",
         "domain": [
          0,
          0.425
         ],
         "range": [
          -1.1,
          1.1
         ],
         "zerolinecolor": "#000000"
        },
        "yaxis6": {
         "anchor": "x6",
         "domain": [
          0,
          0.425
         ],
         "range": [
          -1.1,
          1.1
         ],
         "zerolinecolor": "#000000"
        }
       }
      }
     },
     "metadata": {},
     "output_type": "display_data"
    }
   ],
   "source": [
    "exp.plot_model(plot=\"diff\", data_kwargs={\"lags_list\": [[1, 4]], \"acf\": True, \"pacf\": True})"
   ]
  },
  {
   "cell_type": "markdown",
   "metadata": {},
   "source": [
    "Looking at the first ACF plot there appears to be a slight seasonality component that is being captured in the 2nd differencing and the there is sharp drop off after the first lag. Looking at the PACF plot there is a significant drop after the first lag. When looking at differenced data with seasonality there are significant spikes at lags 4. Therefore the model I would use is\n",
    "\n",
    "sarima(1,1,1)(1,1,1,4)"
   ]
  },
  {
   "cell_type": "code",
   "execution_count": 23,
   "metadata": {},
   "outputs": [
    {
     "data": {
      "text/html": [],
      "text/plain": [
       "<IPython.core.display.HTML object>"
      ]
     },
     "metadata": {},
     "output_type": "display_data"
    },
    {
     "data": {
      "text/html": [
       "<style type=\"text/css\">\n",
       "</style>\n",
       "<table id=\"T_981e2\">\n",
       "  <thead>\n",
       "    <tr>\n",
       "      <th class=\"blank level0\" >&nbsp;</th>\n",
       "      <th id=\"T_981e2_level0_col0\" class=\"col_heading level0 col0\" >MASE</th>\n",
       "      <th id=\"T_981e2_level0_col1\" class=\"col_heading level0 col1\" >RMSSE</th>\n",
       "      <th id=\"T_981e2_level0_col2\" class=\"col_heading level0 col2\" >MAE</th>\n",
       "      <th id=\"T_981e2_level0_col3\" class=\"col_heading level0 col3\" >RMSE</th>\n",
       "      <th id=\"T_981e2_level0_col4\" class=\"col_heading level0 col4\" >MAPE</th>\n",
       "      <th id=\"T_981e2_level0_col5\" class=\"col_heading level0 col5\" >SMAPE</th>\n",
       "      <th id=\"T_981e2_level0_col6\" class=\"col_heading level0 col6\" >R2</th>\n",
       "    </tr>\n",
       "  </thead>\n",
       "  <tbody>\n",
       "    <tr>\n",
       "      <th id=\"T_981e2_level0_row0\" class=\"row_heading level0 row0\" >Test</th>\n",
       "      <td id=\"T_981e2_row0_col0\" class=\"data row0 col0\" >2.7906</td>\n",
       "      <td id=\"T_981e2_row0_col1\" class=\"data row0 col1\" >2.7050</td>\n",
       "      <td id=\"T_981e2_row0_col2\" class=\"data row0 col2\" >7.3620</td>\n",
       "      <td id=\"T_981e2_row0_col3\" class=\"data row0 col3\" >8.5105</td>\n",
       "      <td id=\"T_981e2_row0_col4\" class=\"data row0 col4\" >0.0353</td>\n",
       "      <td id=\"T_981e2_row0_col5\" class=\"data row0 col5\" >0.0361</td>\n",
       "      <td id=\"T_981e2_row0_col6\" class=\"data row0 col6\" >0.2681</td>\n",
       "    </tr>\n",
       "  </tbody>\n",
       "</table>\n"
      ],
      "text/plain": [
       "<pandas.io.formats.style.Styler at 0x3078e3f10>"
      ]
     },
     "metadata": {},
     "output_type": "display_data"
    },
    {
     "data": {
      "text/html": [],
      "text/plain": [
       "<IPython.core.display.HTML object>"
      ]
     },
     "metadata": {},
     "output_type": "display_data"
    }
   ],
   "source": [
    "# arima(1,1,1)\n",
    "ar1 = exp.create_model('arima', order = (1,1,1), seasonal_order=(0,0,0,4), with_intercept=True, cross_validation=False)"
   ]
  },
  {
   "cell_type": "markdown",
   "metadata": {},
   "source": [
    "We wouldn't be interested in doing the ARMA model because the data is not stationary so we need the integrated part by differencing the data."
   ]
  },
  {
   "cell_type": "code",
   "execution_count": 24,
   "metadata": {},
   "outputs": [
    {
     "data": {
      "text/html": [],
      "text/plain": [
       "<IPython.core.display.HTML object>"
      ]
     },
     "metadata": {},
     "output_type": "display_data"
    },
    {
     "data": {
      "text/html": [
       "<style type=\"text/css\">\n",
       "</style>\n",
       "<table id=\"T_9dac1\">\n",
       "  <thead>\n",
       "    <tr>\n",
       "      <th class=\"blank level0\" >&nbsp;</th>\n",
       "      <th id=\"T_9dac1_level0_col0\" class=\"col_heading level0 col0\" >MASE</th>\n",
       "      <th id=\"T_9dac1_level0_col1\" class=\"col_heading level0 col1\" >RMSSE</th>\n",
       "      <th id=\"T_9dac1_level0_col2\" class=\"col_heading level0 col2\" >MAE</th>\n",
       "      <th id=\"T_9dac1_level0_col3\" class=\"col_heading level0 col3\" >RMSE</th>\n",
       "      <th id=\"T_9dac1_level0_col4\" class=\"col_heading level0 col4\" >MAPE</th>\n",
       "      <th id=\"T_9dac1_level0_col5\" class=\"col_heading level0 col5\" >SMAPE</th>\n",
       "      <th id=\"T_9dac1_level0_col6\" class=\"col_heading level0 col6\" >R2</th>\n",
       "    </tr>\n",
       "  </thead>\n",
       "  <tbody>\n",
       "    <tr>\n",
       "      <th id=\"T_9dac1_level0_row0\" class=\"row_heading level0 row0\" >Test</th>\n",
       "      <td id=\"T_9dac1_row0_col0\" class=\"data row0 col0\" >2.4441</td>\n",
       "      <td id=\"T_9dac1_row0_col1\" class=\"data row0 col1\" >2.3809</td>\n",
       "      <td id=\"T_9dac1_row0_col2\" class=\"data row0 col2\" >6.4481</td>\n",
       "      <td id=\"T_9dac1_row0_col3\" class=\"data row0 col3\" >7.4908</td>\n",
       "      <td id=\"T_9dac1_row0_col4\" class=\"data row0 col4\" >0.0309</td>\n",
       "      <td id=\"T_9dac1_row0_col5\" class=\"data row0 col5\" >0.0316</td>\n",
       "      <td id=\"T_9dac1_row0_col6\" class=\"data row0 col6\" >0.4329</td>\n",
       "    </tr>\n",
       "  </tbody>\n",
       "</table>\n"
      ],
      "text/plain": [
       "<pandas.io.formats.style.Styler at 0x305b8dd90>"
      ]
     },
     "metadata": {},
     "output_type": "display_data"
    },
    {
     "data": {
      "text/html": [],
      "text/plain": [
       "<IPython.core.display.HTML object>"
      ]
     },
     "metadata": {},
     "output_type": "display_data"
    }
   ],
   "source": [
    "# sarima(1,1,1)(0,1,0,4)\n",
    "sar1 = exp.create_model('arima', order = (1,1,1), seasonal_order=(0,1,0,4), with_intercept=True, cross_validation=False)"
   ]
  },
  {
   "cell_type": "code",
   "execution_count": 25,
   "metadata": {},
   "outputs": [
    {
     "data": {
      "text/html": [],
      "text/plain": [
       "<IPython.core.display.HTML object>"
      ]
     },
     "metadata": {},
     "output_type": "display_data"
    },
    {
     "data": {
      "text/html": [
       "<style type=\"text/css\">\n",
       "</style>\n",
       "<table id=\"T_146c3\">\n",
       "  <thead>\n",
       "    <tr>\n",
       "      <th class=\"blank level0\" >&nbsp;</th>\n",
       "      <th id=\"T_146c3_level0_col0\" class=\"col_heading level0 col0\" >MASE</th>\n",
       "      <th id=\"T_146c3_level0_col1\" class=\"col_heading level0 col1\" >RMSSE</th>\n",
       "      <th id=\"T_146c3_level0_col2\" class=\"col_heading level0 col2\" >MAE</th>\n",
       "      <th id=\"T_146c3_level0_col3\" class=\"col_heading level0 col3\" >RMSE</th>\n",
       "      <th id=\"T_146c3_level0_col4\" class=\"col_heading level0 col4\" >MAPE</th>\n",
       "      <th id=\"T_146c3_level0_col5\" class=\"col_heading level0 col5\" >SMAPE</th>\n",
       "      <th id=\"T_146c3_level0_col6\" class=\"col_heading level0 col6\" >R2</th>\n",
       "    </tr>\n",
       "  </thead>\n",
       "  <tbody>\n",
       "    <tr>\n",
       "      <th id=\"T_146c3_level0_row0\" class=\"row_heading level0 row0\" >Test</th>\n",
       "      <td id=\"T_146c3_row0_col0\" class=\"data row0 col0\" >2.8597</td>\n",
       "      <td id=\"T_146c3_row0_col1\" class=\"data row0 col1\" >2.7581</td>\n",
       "      <td id=\"T_146c3_row0_col2\" class=\"data row0 col2\" >7.5445</td>\n",
       "      <td id=\"T_146c3_row0_col3\" class=\"data row0 col3\" >8.6773</td>\n",
       "      <td id=\"T_146c3_row0_col4\" class=\"data row0 col4\" >0.0362</td>\n",
       "      <td id=\"T_146c3_row0_col5\" class=\"data row0 col5\" >0.0371</td>\n",
       "      <td id=\"T_146c3_row0_col6\" class=\"data row0 col6\" >0.2391</td>\n",
       "    </tr>\n",
       "  </tbody>\n",
       "</table>\n"
      ],
      "text/plain": [
       "<pandas.io.formats.style.Styler at 0x3074b4390>"
      ]
     },
     "metadata": {},
     "output_type": "display_data"
    },
    {
     "data": {
      "text/html": [],
      "text/plain": [
       "<IPython.core.display.HTML object>"
      ]
     },
     "metadata": {},
     "output_type": "display_data"
    }
   ],
   "source": [
    "rwwd= exp.create_model('arima', order = (0,1,0), seasonal_order=(0,0,0,12) , with_intercept= True, cross_validation=False)"
   ]
  },
  {
   "cell_type": "markdown",
   "metadata": {},
   "source": [
    "It woulnd't be worth our time trying random walk with no drift as there is a clear upward trend in the data."
   ]
  },
  {
   "cell_type": "code",
   "execution_count": 26,
   "metadata": {},
   "outputs": [
    {
     "data": {
      "text/html": [],
      "text/plain": [
       "<IPython.core.display.HTML object>"
      ]
     },
     "metadata": {},
     "output_type": "display_data"
    },
    {
     "data": {
      "text/html": [
       "<style type=\"text/css\">\n",
       "#T_87189 th {\n",
       "  text-align: left;\n",
       "}\n",
       "#T_87189_row0_col0, #T_87189_row1_col0, #T_87189_row1_col1, #T_87189_row1_col2, #T_87189_row1_col3, #T_87189_row1_col4, #T_87189_row1_col5, #T_87189_row1_col6, #T_87189_row1_col7, #T_87189_row2_col0, #T_87189_row2_col1, #T_87189_row2_col2, #T_87189_row2_col3, #T_87189_row2_col4, #T_87189_row2_col5, #T_87189_row2_col6, #T_87189_row2_col7 {\n",
       "  text-align: left;\n",
       "}\n",
       "#T_87189_row0_col1, #T_87189_row0_col2, #T_87189_row0_col3, #T_87189_row0_col4, #T_87189_row0_col5, #T_87189_row0_col6, #T_87189_row0_col7 {\n",
       "  text-align: left;\n",
       "  background-color: yellow;\n",
       "}\n",
       "#T_87189_row0_col8, #T_87189_row1_col8 {\n",
       "  text-align: left;\n",
       "  background-color: lightgrey;\n",
       "}\n",
       "#T_87189_row2_col8 {\n",
       "  text-align: left;\n",
       "  background-color: yellow;\n",
       "  background-color: lightgrey;\n",
       "}\n",
       "</style>\n",
       "<table id=\"T_87189\">\n",
       "  <thead>\n",
       "    <tr>\n",
       "      <th class=\"blank level0\" >&nbsp;</th>\n",
       "      <th id=\"T_87189_level0_col0\" class=\"col_heading level0 col0\" >Model</th>\n",
       "      <th id=\"T_87189_level0_col1\" class=\"col_heading level0 col1\" >MASE</th>\n",
       "      <th id=\"T_87189_level0_col2\" class=\"col_heading level0 col2\" >RMSSE</th>\n",
       "      <th id=\"T_87189_level0_col3\" class=\"col_heading level0 col3\" >MAE</th>\n",
       "      <th id=\"T_87189_level0_col4\" class=\"col_heading level0 col4\" >RMSE</th>\n",
       "      <th id=\"T_87189_level0_col5\" class=\"col_heading level0 col5\" >MAPE</th>\n",
       "      <th id=\"T_87189_level0_col6\" class=\"col_heading level0 col6\" >SMAPE</th>\n",
       "      <th id=\"T_87189_level0_col7\" class=\"col_heading level0 col7\" >R2</th>\n",
       "      <th id=\"T_87189_level0_col8\" class=\"col_heading level0 col8\" >TT (Sec)</th>\n",
       "    </tr>\n",
       "  </thead>\n",
       "  <tbody>\n",
       "    <tr>\n",
       "      <th id=\"T_87189_level0_row0\" class=\"row_heading level0 row0\" >1</th>\n",
       "      <td id=\"T_87189_row0_col0\" class=\"data row0 col0\" >ARIMA</td>\n",
       "      <td id=\"T_87189_row0_col1\" class=\"data row0 col1\" >2.4441</td>\n",
       "      <td id=\"T_87189_row0_col2\" class=\"data row0 col2\" >2.3809</td>\n",
       "      <td id=\"T_87189_row0_col3\" class=\"data row0 col3\" >6.4481</td>\n",
       "      <td id=\"T_87189_row0_col4\" class=\"data row0 col4\" >7.4908</td>\n",
       "      <td id=\"T_87189_row0_col5\" class=\"data row0 col5\" >0.0309</td>\n",
       "      <td id=\"T_87189_row0_col6\" class=\"data row0 col6\" >0.0316</td>\n",
       "      <td id=\"T_87189_row0_col7\" class=\"data row0 col7\" >0.4329</td>\n",
       "      <td id=\"T_87189_row0_col8\" class=\"data row0 col8\" >0.0300</td>\n",
       "    </tr>\n",
       "    <tr>\n",
       "      <th id=\"T_87189_level0_row1\" class=\"row_heading level0 row1\" >0</th>\n",
       "      <td id=\"T_87189_row1_col0\" class=\"data row1 col0\" >ARIMA</td>\n",
       "      <td id=\"T_87189_row1_col1\" class=\"data row1 col1\" >2.7906</td>\n",
       "      <td id=\"T_87189_row1_col2\" class=\"data row1 col2\" >2.7050</td>\n",
       "      <td id=\"T_87189_row1_col3\" class=\"data row1 col3\" >7.3620</td>\n",
       "      <td id=\"T_87189_row1_col4\" class=\"data row1 col4\" >8.5105</td>\n",
       "      <td id=\"T_87189_row1_col5\" class=\"data row1 col5\" >0.0353</td>\n",
       "      <td id=\"T_87189_row1_col6\" class=\"data row1 col6\" >0.0361</td>\n",
       "      <td id=\"T_87189_row1_col7\" class=\"data row1 col7\" >0.2681</td>\n",
       "      <td id=\"T_87189_row1_col8\" class=\"data row1 col8\" >0.0500</td>\n",
       "    </tr>\n",
       "    <tr>\n",
       "      <th id=\"T_87189_level0_row2\" class=\"row_heading level0 row2\" >2</th>\n",
       "      <td id=\"T_87189_row2_col0\" class=\"data row2 col0\" >ARIMA</td>\n",
       "      <td id=\"T_87189_row2_col1\" class=\"data row2 col1\" >2.8597</td>\n",
       "      <td id=\"T_87189_row2_col2\" class=\"data row2 col2\" >2.7581</td>\n",
       "      <td id=\"T_87189_row2_col3\" class=\"data row2 col3\" >7.5445</td>\n",
       "      <td id=\"T_87189_row2_col4\" class=\"data row2 col4\" >8.6773</td>\n",
       "      <td id=\"T_87189_row2_col5\" class=\"data row2 col5\" >0.0362</td>\n",
       "      <td id=\"T_87189_row2_col6\" class=\"data row2 col6\" >0.0371</td>\n",
       "      <td id=\"T_87189_row2_col7\" class=\"data row2 col7\" >0.2391</td>\n",
       "      <td id=\"T_87189_row2_col8\" class=\"data row2 col8\" >0.0100</td>\n",
       "    </tr>\n",
       "  </tbody>\n",
       "</table>\n"
      ],
      "text/plain": [
       "<pandas.io.formats.style.Styler at 0x306cc1f50>"
      ]
     },
     "metadata": {},
     "output_type": "display_data"
    },
    {
     "data": {
      "text/html": [],
      "text/plain": [
       "<IPython.core.display.HTML object>"
      ]
     },
     "metadata": {},
     "output_type": "display_data"
    },
    {
     "data": {
      "text/html": [
       "<style>#sk-151c2e88-f7a7-4092-81b6-430dee7ccb3d {color: black;background-color: white;}#sk-151c2e88-f7a7-4092-81b6-430dee7ccb3d pre{padding: 0;}#sk-151c2e88-f7a7-4092-81b6-430dee7ccb3d div.sk-toggleable {background-color: white;}#sk-151c2e88-f7a7-4092-81b6-430dee7ccb3d label.sk-toggleable__label {cursor: pointer;display: block;width: 100%;margin-bottom: 0;padding: 0.3em;box-sizing: border-box;text-align: center;}#sk-151c2e88-f7a7-4092-81b6-430dee7ccb3d label.sk-toggleable__label-arrow:before {content: \"▸\";float: left;margin-right: 0.25em;color: #696969;}#sk-151c2e88-f7a7-4092-81b6-430dee7ccb3d label.sk-toggleable__label-arrow:hover:before {color: black;}#sk-151c2e88-f7a7-4092-81b6-430dee7ccb3d div.sk-estimator:hover label.sk-toggleable__label-arrow:before {color: black;}#sk-151c2e88-f7a7-4092-81b6-430dee7ccb3d div.sk-toggleable__content {max-height: 0;max-width: 0;overflow: hidden;text-align: left;background-color: #f0f8ff;}#sk-151c2e88-f7a7-4092-81b6-430dee7ccb3d div.sk-toggleable__content pre {margin: 0.2em;color: black;border-radius: 0.25em;background-color: #f0f8ff;}#sk-151c2e88-f7a7-4092-81b6-430dee7ccb3d input.sk-toggleable__control:checked~div.sk-toggleable__content {max-height: 200px;max-width: 100%;overflow: auto;}#sk-151c2e88-f7a7-4092-81b6-430dee7ccb3d input.sk-toggleable__control:checked~label.sk-toggleable__label-arrow:before {content: \"▾\";}#sk-151c2e88-f7a7-4092-81b6-430dee7ccb3d div.sk-estimator input.sk-toggleable__control:checked~label.sk-toggleable__label {background-color: #d4ebff;}#sk-151c2e88-f7a7-4092-81b6-430dee7ccb3d div.sk-label input.sk-toggleable__control:checked~label.sk-toggleable__label {background-color: #d4ebff;}#sk-151c2e88-f7a7-4092-81b6-430dee7ccb3d input.sk-hidden--visually {border: 0;clip: rect(1px 1px 1px 1px);clip: rect(1px, 1px, 1px, 1px);height: 1px;margin: -1px;overflow: hidden;padding: 0;position: absolute;width: 1px;}#sk-151c2e88-f7a7-4092-81b6-430dee7ccb3d div.sk-estimator {font-family: monospace;background-color: #f0f8ff;border: 1px dotted black;border-radius: 0.25em;box-sizing: border-box;margin-bottom: 0.5em;}#sk-151c2e88-f7a7-4092-81b6-430dee7ccb3d div.sk-estimator:hover {background-color: #d4ebff;}#sk-151c2e88-f7a7-4092-81b6-430dee7ccb3d div.sk-parallel-item::after {content: \"\";width: 100%;border-bottom: 1px solid gray;flex-grow: 1;}#sk-151c2e88-f7a7-4092-81b6-430dee7ccb3d div.sk-label:hover label.sk-toggleable__label {background-color: #d4ebff;}#sk-151c2e88-f7a7-4092-81b6-430dee7ccb3d div.sk-serial::before {content: \"\";position: absolute;border-left: 1px solid gray;box-sizing: border-box;top: 2em;bottom: 0;left: 50%;}#sk-151c2e88-f7a7-4092-81b6-430dee7ccb3d div.sk-serial {display: flex;flex-direction: column;align-items: center;background-color: white;padding-right: 0.2em;padding-left: 0.2em;}#sk-151c2e88-f7a7-4092-81b6-430dee7ccb3d div.sk-item {z-index: 1;}#sk-151c2e88-f7a7-4092-81b6-430dee7ccb3d div.sk-parallel {display: flex;align-items: stretch;justify-content: center;background-color: white;}#sk-151c2e88-f7a7-4092-81b6-430dee7ccb3d div.sk-parallel::before {content: \"\";position: absolute;border-left: 1px solid gray;box-sizing: border-box;top: 2em;bottom: 0;left: 50%;}#sk-151c2e88-f7a7-4092-81b6-430dee7ccb3d div.sk-parallel-item {display: flex;flex-direction: column;position: relative;background-color: white;}#sk-151c2e88-f7a7-4092-81b6-430dee7ccb3d div.sk-parallel-item:first-child::after {align-self: flex-end;width: 50%;}#sk-151c2e88-f7a7-4092-81b6-430dee7ccb3d div.sk-parallel-item:last-child::after {align-self: flex-start;width: 50%;}#sk-151c2e88-f7a7-4092-81b6-430dee7ccb3d div.sk-parallel-item:only-child::after {width: 0;}#sk-151c2e88-f7a7-4092-81b6-430dee7ccb3d div.sk-dashed-wrapped {border: 1px dashed gray;margin: 0 0.4em 0.5em 0.4em;box-sizing: border-box;padding-bottom: 0.4em;background-color: white;position: relative;}#sk-151c2e88-f7a7-4092-81b6-430dee7ccb3d div.sk-label label {font-family: monospace;font-weight: bold;background-color: white;display: inline-block;line-height: 1.2em;}#sk-151c2e88-f7a7-4092-81b6-430dee7ccb3d div.sk-label-container {position: relative;z-index: 2;text-align: center;}#sk-151c2e88-f7a7-4092-81b6-430dee7ccb3d div.sk-container {/* jupyter's `normalize.less` sets `[hidden] { display: none; }` but bootstrap.min.css set `[hidden] { display: none !important; }` so we also need the `!important` here to be able to override the default hidden behavior on the sphinx rendered scikit-learn.org. See: https://github.com/scikit-learn/scikit-learn/issues/21755 */display: inline-block !important;position: relative;}#sk-151c2e88-f7a7-4092-81b6-430dee7ccb3d div.sk-text-repr-fallback {display: none;}</style><div id='sk-151c2e88-f7a7-4092-81b6-430dee7ccb3d' class=\"sk-top-container\"><div class=\"sk-text-repr-fallback\"><pre>ARIMA(order=(1, 1, 1), seasonal_order=(0, 1, 0, 4))</pre><b>Please rerun this cell to show the HTML repr or trust the notebook.</b></div><div class=\"sk-container\" hidden><div class='sk-item'><div class=\"sk-estimator sk-toggleable\"><input class=\"sk-toggleable__control sk-hidden--visually\" id=UUID('5f2739f1-30e5-4f7f-8547-c14705fdfc4e') type=\"checkbox\" checked><label for=UUID('5f2739f1-30e5-4f7f-8547-c14705fdfc4e') class='sk-toggleable__label sk-toggleable__label-arrow'>ARIMA</label><div class=\"sk-toggleable__content\"><pre>ARIMA(order=(1, 1, 1), seasonal_order=(0, 1, 0, 4))</pre></div></div></div></div></div>"
      ],
      "text/plain": [
       "ARIMA(order=(1, 1, 1), seasonal_order=(0, 1, 0, 4))"
      ]
     },
     "execution_count": 26,
     "metadata": {},
     "output_type": "execute_result"
    }
   ],
   "source": [
    "my_models = [ar1, sar1, rwwd]\n",
    "exp.compare_models(my_models, cross_validation=False, sort='r2')"
   ]
  },
  {
   "cell_type": "markdown",
   "metadata": {},
   "source": [
    "Our sarima model had the highest R2 "
   ]
  },
  {
   "cell_type": "markdown",
   "metadata": {},
   "source": [
    "y t′′ = 2.5+0.6yt−1′′− 0.3ϵt−1 + ϵt"
   ]
  },
  {
   "cell_type": "code",
   "execution_count": 27,
   "metadata": {},
   "outputs": [
    {
     "data": {
      "application/vnd.plotly.v1+json": {
       "config": {
        "plotlyServerURL": "https://plot.ly"
       },
       "data": [
        {
         "line": {
          "color": "rgb(31, 119, 180)",
          "width": 2
         },
         "marker": {
          "color": "rgb(31, 119, 180)",
          "size": 5
         },
         "mode": "lines+markers",
         "name": "cpi",
         "type": "scattergl",
         "x": [
          "1959-01-01T00:00:00",
          "1959-04-01T00:00:00",
          "1959-07-01T00:00:00",
          "1959-10-01T00:00:00",
          "1960-01-01T00:00:00",
          "1960-04-01T00:00:00",
          "1960-07-01T00:00:00",
          "1960-10-01T00:00:00",
          "1961-01-01T00:00:00",
          "1961-04-01T00:00:00",
          "1961-07-01T00:00:00",
          "1961-10-01T00:00:00",
          "1962-01-01T00:00:00",
          "1962-04-01T00:00:00",
          "1962-07-01T00:00:00",
          "1962-10-01T00:00:00",
          "1963-01-01T00:00:00",
          "1963-04-01T00:00:00",
          "1963-07-01T00:00:00",
          "1963-10-01T00:00:00",
          "1964-01-01T00:00:00",
          "1964-04-01T00:00:00",
          "1964-07-01T00:00:00",
          "1964-10-01T00:00:00",
          "1965-01-01T00:00:00",
          "1965-04-01T00:00:00",
          "1965-07-01T00:00:00",
          "1965-10-01T00:00:00",
          "1966-01-01T00:00:00",
          "1966-04-01T00:00:00",
          "1966-07-01T00:00:00",
          "1966-10-01T00:00:00",
          "1967-01-01T00:00:00",
          "1967-04-01T00:00:00",
          "1967-07-01T00:00:00",
          "1967-10-01T00:00:00",
          "1968-01-01T00:00:00",
          "1968-04-01T00:00:00",
          "1968-07-01T00:00:00",
          "1968-10-01T00:00:00",
          "1969-01-01T00:00:00",
          "1969-04-01T00:00:00",
          "1969-07-01T00:00:00",
          "1969-10-01T00:00:00",
          "1970-01-01T00:00:00",
          "1970-04-01T00:00:00",
          "1970-07-01T00:00:00",
          "1970-10-01T00:00:00",
          "1971-01-01T00:00:00",
          "1971-04-01T00:00:00",
          "1971-07-01T00:00:00",
          "1971-10-01T00:00:00",
          "1972-01-01T00:00:00",
          "1972-04-01T00:00:00",
          "1972-07-01T00:00:00",
          "1972-10-01T00:00:00",
          "1973-01-01T00:00:00",
          "1973-04-01T00:00:00",
          "1973-07-01T00:00:00",
          "1973-10-01T00:00:00",
          "1974-01-01T00:00:00",
          "1974-04-01T00:00:00",
          "1974-07-01T00:00:00",
          "1974-10-01T00:00:00",
          "1975-01-01T00:00:00",
          "1975-04-01T00:00:00",
          "1975-07-01T00:00:00",
          "1975-10-01T00:00:00",
          "1976-01-01T00:00:00",
          "1976-04-01T00:00:00",
          "1976-07-01T00:00:00",
          "1976-10-01T00:00:00",
          "1977-01-01T00:00:00",
          "1977-04-01T00:00:00",
          "1977-07-01T00:00:00",
          "1977-10-01T00:00:00",
          "1978-01-01T00:00:00",
          "1978-04-01T00:00:00",
          "1978-07-01T00:00:00",
          "1978-10-01T00:00:00",
          "1979-01-01T00:00:00",
          "1979-04-01T00:00:00",
          "1979-07-01T00:00:00",
          "1979-10-01T00:00:00",
          "1980-01-01T00:00:00",
          "1980-04-01T00:00:00",
          "1980-07-01T00:00:00",
          "1980-10-01T00:00:00",
          "1981-01-01T00:00:00",
          "1981-04-01T00:00:00",
          "1981-07-01T00:00:00",
          "1981-10-01T00:00:00",
          "1982-01-01T00:00:00",
          "1982-04-01T00:00:00",
          "1982-07-01T00:00:00",
          "1982-10-01T00:00:00",
          "1983-01-01T00:00:00",
          "1983-04-01T00:00:00",
          "1983-07-01T00:00:00",
          "1983-10-01T00:00:00",
          "1984-01-01T00:00:00",
          "1984-04-01T00:00:00",
          "1984-07-01T00:00:00",
          "1984-10-01T00:00:00",
          "1985-01-01T00:00:00",
          "1985-04-01T00:00:00",
          "1985-07-01T00:00:00",
          "1985-10-01T00:00:00",
          "1986-01-01T00:00:00",
          "1986-04-01T00:00:00",
          "1986-07-01T00:00:00",
          "1986-10-01T00:00:00",
          "1987-01-01T00:00:00",
          "1987-04-01T00:00:00",
          "1987-07-01T00:00:00",
          "1987-10-01T00:00:00",
          "1988-01-01T00:00:00",
          "1988-04-01T00:00:00",
          "1988-07-01T00:00:00",
          "1988-10-01T00:00:00",
          "1989-01-01T00:00:00",
          "1989-04-01T00:00:00",
          "1989-07-01T00:00:00",
          "1989-10-01T00:00:00",
          "1990-01-01T00:00:00",
          "1990-04-01T00:00:00",
          "1990-07-01T00:00:00",
          "1990-10-01T00:00:00",
          "1991-01-01T00:00:00",
          "1991-04-01T00:00:00",
          "1991-07-01T00:00:00",
          "1991-10-01T00:00:00",
          "1992-01-01T00:00:00",
          "1992-04-01T00:00:00",
          "1992-07-01T00:00:00",
          "1992-10-01T00:00:00",
          "1993-01-01T00:00:00",
          "1993-04-01T00:00:00",
          "1993-07-01T00:00:00",
          "1993-10-01T00:00:00",
          "1994-01-01T00:00:00",
          "1994-04-01T00:00:00",
          "1994-07-01T00:00:00",
          "1994-10-01T00:00:00",
          "1995-01-01T00:00:00",
          "1995-04-01T00:00:00",
          "1995-07-01T00:00:00",
          "1995-10-01T00:00:00",
          "1996-01-01T00:00:00",
          "1996-04-01T00:00:00",
          "1996-07-01T00:00:00",
          "1996-10-01T00:00:00",
          "1997-01-01T00:00:00",
          "1997-04-01T00:00:00",
          "1997-07-01T00:00:00",
          "1997-10-01T00:00:00",
          "1998-01-01T00:00:00",
          "1998-04-01T00:00:00",
          "1998-07-01T00:00:00",
          "1998-10-01T00:00:00",
          "1999-01-01T00:00:00",
          "1999-04-01T00:00:00",
          "1999-07-01T00:00:00",
          "1999-10-01T00:00:00",
          "2000-01-01T00:00:00",
          "2000-04-01T00:00:00",
          "2000-07-01T00:00:00",
          "2000-10-01T00:00:00",
          "2001-01-01T00:00:00",
          "2001-04-01T00:00:00",
          "2001-07-01T00:00:00",
          "2001-10-01T00:00:00",
          "2002-01-01T00:00:00",
          "2002-04-01T00:00:00",
          "2002-07-01T00:00:00",
          "2002-10-01T00:00:00",
          "2003-01-01T00:00:00",
          "2003-04-01T00:00:00",
          "2003-07-01T00:00:00",
          "2003-10-01T00:00:00",
          "2004-01-01T00:00:00",
          "2004-04-01T00:00:00",
          "2004-07-01T00:00:00",
          "2004-10-01T00:00:00",
          "2005-01-01T00:00:00",
          "2005-04-01T00:00:00",
          "2005-07-01T00:00:00",
          "2005-10-01T00:00:00",
          "2006-01-01T00:00:00",
          "2006-04-01T00:00:00",
          "2006-07-01T00:00:00",
          "2006-10-01T00:00:00",
          "2007-01-01T00:00:00",
          "2007-04-01T00:00:00",
          "2007-07-01T00:00:00",
          "2007-10-01T00:00:00",
          "2008-01-01T00:00:00",
          "2008-04-01T00:00:00",
          "2008-07-01T00:00:00",
          "2008-10-01T00:00:00",
          "2009-01-01T00:00:00",
          "2009-04-01T00:00:00",
          "2009-07-01T00:00:00"
         ],
         "xaxis": "x",
         "y": [
          28.98,
          29.15,
          29.35,
          29.37,
          29.54,
          29.55,
          29.75,
          29.84,
          29.81,
          29.92,
          29.98,
          30.04,
          30.21,
          30.22,
          30.38,
          30.44,
          30.48,
          30.69,
          30.75,
          30.94,
          30.95,
          31.02,
          31.12,
          31.28,
          31.38,
          31.58,
          31.65,
          31.88,
          32.28,
          32.45,
          32.85,
          32.9,
          33.1,
          33.4,
          33.7,
          34.1,
          34.4,
          34.9,
          35.3,
          35.7,
          36.3,
          36.8,
          37.3,
          37.9,
          38.5,
          38.9,
          39.4,
          39.9,
          40.1,
          40.6,
          40.9,
          41.2,
          41.5,
          41.8,
          42.2,
          42.7,
          43.7,
          44.2,
          45.6,
          46.8,
          48.1,
          49.3,
          51,
          52.3,
          53,
          54,
          54.9,
          55.8,
          56.1,
          57,
          57.9,
          58.7,
          60,
          60.8,
          61.6,
          62.7,
          63.9,
          65.5,
          67.1,
          68.5,
          70.6,
          73,
          75.2,
          78,
          80.9,
          82.6,
          84.7,
          87.2,
          89.1,
          91.5,
          93.4,
          94.4,
          95,
          97.5,
          98.1,
          97.9,
          98.8,
          99.8,
          100.8,
          102.1,
          103.3,
          104.1,
          105.1,
          105.7,
          107,
          107.7,
          108.5,
          109.9,
          108.7,
          109.5,
          110.2,
          111.4,
          112.7,
          113.8,
          115,
          116,
          117.2,
          118.5,
          119.9,
          121.2,
          123.1,
          124.5,
          125.4,
          127.5,
          128.9,
          130.5,
          133.4,
          134.7,
          135.1,
          136.2,
          137.2,
          138.3,
          139.4,
          140.5,
          141.7,
          142.8,
          143.8,
          144.5,
          145.6,
          146.3,
          147.2,
          148.4,
          149.4,
          150.5,
          151.8,
          152.6,
          153.5,
          154.7,
          156.1,
          157,
          158.2,
          159.4,
          159.9,
          160.4,
          161.5,
          162,
          162.2,
          163.2,
          163.9,
          164.7,
          165.9,
          166.7,
          168.1,
          169.3,
          170.9,
          172.7,
          173.9,
          175.6,
          176.4,
          177.4,
          177.6,
          177.7,
          179.3,
          180,
          181.2,
          182.6,
          183.2,
          183.7,
          184.9,
          186.3,
          187.4,
          189.1,
          190.8,
          191.8,
          193.8,
          194.7,
          199.2,
          199.4,
          200.7,
          202.7,
          201.9,
          203.574,
          205.92,
          207.338,
          209.133,
          212.495,
          213.997,
          218.61,
          216.889,
          212.174,
          212.671,
          214.469,
          216.385
         ],
         "yaxis": "y"
        },
        {
         "line": {
          "color": "rgb(255, 127, 14)",
          "width": 2
         },
         "marker": {
          "color": "rgb(255, 127, 14)",
          "size": 5
         },
         "mode": "lines+markers",
         "name": "ARIMA",
         "type": "scattergl",
         "x": [
          "1959-01-01T00:00:00",
          "1959-04-01T00:00:00",
          "1959-07-01T00:00:00",
          "1959-10-01T00:00:00",
          "1960-01-01T00:00:00",
          "1960-04-01T00:00:00",
          "1960-07-01T00:00:00",
          "1960-10-01T00:00:00",
          "1961-01-01T00:00:00",
          "1961-04-01T00:00:00",
          "1961-07-01T00:00:00",
          "1961-10-01T00:00:00",
          "1962-01-01T00:00:00",
          "1962-04-01T00:00:00",
          "1962-07-01T00:00:00",
          "1962-10-01T00:00:00",
          "1963-01-01T00:00:00",
          "1963-04-01T00:00:00",
          "1963-07-01T00:00:00",
          "1963-10-01T00:00:00",
          "1964-01-01T00:00:00",
          "1964-04-01T00:00:00",
          "1964-07-01T00:00:00",
          "1964-10-01T00:00:00",
          "1965-01-01T00:00:00",
          "1965-04-01T00:00:00",
          "1965-07-01T00:00:00",
          "1965-10-01T00:00:00",
          "1966-01-01T00:00:00",
          "1966-04-01T00:00:00",
          "1966-07-01T00:00:00",
          "1966-10-01T00:00:00",
          "1967-01-01T00:00:00",
          "1967-04-01T00:00:00",
          "1967-07-01T00:00:00",
          "1967-10-01T00:00:00",
          "1968-01-01T00:00:00",
          "1968-04-01T00:00:00",
          "1968-07-01T00:00:00",
          "1968-10-01T00:00:00",
          "1969-01-01T00:00:00",
          "1969-04-01T00:00:00",
          "1969-07-01T00:00:00",
          "1969-10-01T00:00:00",
          "1970-01-01T00:00:00",
          "1970-04-01T00:00:00",
          "1970-07-01T00:00:00",
          "1970-10-01T00:00:00",
          "1971-01-01T00:00:00",
          "1971-04-01T00:00:00",
          "1971-07-01T00:00:00",
          "1971-10-01T00:00:00",
          "1972-01-01T00:00:00",
          "1972-04-01T00:00:00",
          "1972-07-01T00:00:00",
          "1972-10-01T00:00:00",
          "1973-01-01T00:00:00",
          "1973-04-01T00:00:00",
          "1973-07-01T00:00:00",
          "1973-10-01T00:00:00",
          "1974-01-01T00:00:00",
          "1974-04-01T00:00:00",
          "1974-07-01T00:00:00",
          "1974-10-01T00:00:00",
          "1975-01-01T00:00:00",
          "1975-04-01T00:00:00",
          "1975-07-01T00:00:00",
          "1975-10-01T00:00:00",
          "1976-01-01T00:00:00",
          "1976-04-01T00:00:00",
          "1976-07-01T00:00:00",
          "1976-10-01T00:00:00",
          "1977-01-01T00:00:00",
          "1977-04-01T00:00:00",
          "1977-07-01T00:00:00",
          "1977-10-01T00:00:00",
          "1978-01-01T00:00:00",
          "1978-04-01T00:00:00",
          "1978-07-01T00:00:00",
          "1978-10-01T00:00:00",
          "1979-01-01T00:00:00",
          "1979-04-01T00:00:00",
          "1979-07-01T00:00:00",
          "1979-10-01T00:00:00",
          "1980-01-01T00:00:00",
          "1980-04-01T00:00:00",
          "1980-07-01T00:00:00",
          "1980-10-01T00:00:00",
          "1981-01-01T00:00:00",
          "1981-04-01T00:00:00",
          "1981-07-01T00:00:00",
          "1981-10-01T00:00:00",
          "1982-01-01T00:00:00",
          "1982-04-01T00:00:00",
          "1982-07-01T00:00:00",
          "1982-10-01T00:00:00",
          "1983-01-01T00:00:00",
          "1983-04-01T00:00:00",
          "1983-07-01T00:00:00",
          "1983-10-01T00:00:00",
          "1984-01-01T00:00:00",
          "1984-04-01T00:00:00",
          "1984-07-01T00:00:00",
          "1984-10-01T00:00:00",
          "1985-01-01T00:00:00",
          "1985-04-01T00:00:00",
          "1985-07-01T00:00:00",
          "1985-10-01T00:00:00",
          "1986-01-01T00:00:00",
          "1986-04-01T00:00:00",
          "1986-07-01T00:00:00",
          "1986-10-01T00:00:00",
          "1987-01-01T00:00:00",
          "1987-04-01T00:00:00",
          "1987-07-01T00:00:00",
          "1987-10-01T00:00:00",
          "1988-01-01T00:00:00",
          "1988-04-01T00:00:00",
          "1988-07-01T00:00:00",
          "1988-10-01T00:00:00",
          "1989-01-01T00:00:00",
          "1989-04-01T00:00:00",
          "1989-07-01T00:00:00",
          "1989-10-01T00:00:00",
          "1990-01-01T00:00:00",
          "1990-04-01T00:00:00",
          "1990-07-01T00:00:00",
          "1990-10-01T00:00:00",
          "1991-01-01T00:00:00",
          "1991-04-01T00:00:00",
          "1991-07-01T00:00:00",
          "1991-10-01T00:00:00",
          "1992-01-01T00:00:00",
          "1992-04-01T00:00:00",
          "1992-07-01T00:00:00",
          "1992-10-01T00:00:00",
          "1993-01-01T00:00:00",
          "1993-04-01T00:00:00",
          "1993-07-01T00:00:00",
          "1993-10-01T00:00:00",
          "1994-01-01T00:00:00",
          "1994-04-01T00:00:00",
          "1994-07-01T00:00:00",
          "1994-10-01T00:00:00",
          "1995-01-01T00:00:00",
          "1995-04-01T00:00:00",
          "1995-07-01T00:00:00",
          "1995-10-01T00:00:00",
          "1996-01-01T00:00:00",
          "1996-04-01T00:00:00",
          "1996-07-01T00:00:00",
          "1996-10-01T00:00:00",
          "1997-01-01T00:00:00",
          "1997-04-01T00:00:00",
          "1997-07-01T00:00:00",
          "1997-10-01T00:00:00",
          "1998-01-01T00:00:00",
          "1998-04-01T00:00:00",
          "1998-07-01T00:00:00",
          "1998-10-01T00:00:00",
          "1999-01-01T00:00:00",
          "1999-04-01T00:00:00",
          "1999-07-01T00:00:00",
          "1999-10-01T00:00:00",
          "2000-01-01T00:00:00",
          "2000-04-01T00:00:00",
          "2000-07-01T00:00:00",
          "2000-10-01T00:00:00",
          "2001-01-01T00:00:00",
          "2001-04-01T00:00:00",
          "2001-07-01T00:00:00",
          "2001-10-01T00:00:00",
          "2002-01-01T00:00:00",
          "2002-04-01T00:00:00",
          "2002-07-01T00:00:00",
          "2002-10-01T00:00:00",
          "2003-01-01T00:00:00",
          "2003-04-01T00:00:00",
          "2003-07-01T00:00:00",
          "2003-10-01T00:00:00",
          "2004-01-01T00:00:00",
          "2004-04-01T00:00:00",
          "2004-07-01T00:00:00",
          "2004-10-01T00:00:00",
          "2005-01-01T00:00:00",
          "2005-04-01T00:00:00",
          "2005-07-01T00:00:00",
          "2005-10-01T00:00:00",
          "2006-01-01T00:00:00",
          "2006-04-01T00:00:00",
          "2006-07-01T00:00:00",
          "2006-10-01T00:00:00",
          "2007-01-01T00:00:00",
          "2007-04-01T00:00:00",
          "2007-07-01T00:00:00",
          "2007-10-01T00:00:00",
          "2008-01-01T00:00:00",
          "2008-04-01T00:00:00",
          "2008-07-01T00:00:00",
          "2008-10-01T00:00:00",
          "2009-01-01T00:00:00",
          "2009-04-01T00:00:00",
          "2009-07-01T00:00:00"
         ],
         "xaxis": "x",
         "y": [
          null,
          29.8053,
          29.5358,
          29.677,
          29.6066,
          29.7847,
          29.7431,
          29.9802,
          30.0534,
          29.9713,
          30.0996,
          30.1529,
          30.209,
          30.4153,
          30.3906,
          30.5828,
          30.6267,
          30.6501,
          30.9101,
          30.9469,
          31.1689,
          31.1346,
          31.1994,
          31.3069,
          31.4924,
          31.5865,
          31.8181,
          31.8612,
          32.1315,
          32.6152,
          32.7539,
          33.2163,
          33.1802,
          33.3819,
          33.718,
          34.0395,
          34.4874,
          34.7807,
          35.3471,
          35.7512,
          36.1537,
          36.8256,
          37.333,
          37.8374,
          38.4752,
          39.0977,
          39.4406,
          39.9419,
          40.4427,
          40.5376,
          41.0808,
          41.3361,
          41.6095,
          41.8938,
          42.1844,
          42.6141,
          43.1669,
          44.3742,
          44.8212,
          46.5065,
          47.8053,
          49.1992,
          50.4196,
          52.3078,
          53.5786,
          54.0501,
          55.0201,
          55.8672,
          56.7357,
          56.8059,
          57.7808,
          58.7252,
          59.5163,
          60.9871,
          61.7123,
          62.468,
          63.6473,
          64.9296,
          66.7191,
          68.4316,
          69.8279,
          72.1721,
          74.8225,
          77.1007,
          80.1582,
          83.2462,
          84.6354,
          86.6917,
          89.3067,
          91.0637,
          93.5548,
          95.3329,
          95.9438,
          96.1722,
          99.1205,
          99.3177,
          98.5972,
          99.5756,
          100.6573,
          101.7058,
          103.1401,
          104.3846,
          105.0702,
          106.0728,
          106.5335,
          107.9972,
          108.5832,
          109.3507,
          110.9427,
          108.9414,
          109.97,
          110.7705,
          112.206,
          113.6809,
          114.8143,
          116.0693,
          117.0315,
          118.2795,
          119.6432,
          121.1161,
          122.4242,
          124.5402,
          125.8923,
          126.5879,
          128.9891,
          130.3213,
          131.9515,
          135.327,
          136.3459,
          136.2624,
          137.3219,
          138.2628,
          139.3628,
          140.4629,
          141.5629,
          142.7981,
          143.8838,
          144.8401,
          145.4086,
          146.5714,
          147.1679,
          148.0769,
          149.3878,
          150.3832,
          151.5156,
          152.9053,
          153.5825,
          154.4448,
          155.7281,
          157.2479,
          158.0429,
          159.2863,
          160.512,
          160.7809,
          161.1438,
          162.3736,
          162.7395,
          162.7543,
          163.926,
          164.6223,
          165.4553,
          166.8157,
          167.57,
          169.1541,
          170.3929,
          172.1567,
          174.1243,
          175.2125,
          177.0222,
          177.5705,
          178.4915,
          178.3632,
          178.2332,
          180.2247,
          180.8401,
          182.166,
          183.711,
          184.1155,
          184.4643,
          null,
          null,
          null,
          null,
          null,
          null,
          null,
          null,
          null,
          null,
          null,
          null,
          null,
          null,
          null,
          null,
          null,
          null,
          null,
          null,
          null,
          null,
          null,
          null
         ],
         "yaxis": "y"
        },
        {
         "line": {
          "color": "rgb(44, 160, 44)",
          "width": 2
         },
         "marker": {
          "color": "rgb(44, 160, 44)",
          "size": 5
         },
         "mode": "lines+markers",
         "name": "ARIMA (2)",
         "type": "scattergl",
         "x": [
          "1959-01-01T00:00:00",
          "1959-04-01T00:00:00",
          "1959-07-01T00:00:00",
          "1959-10-01T00:00:00",
          "1960-01-01T00:00:00",
          "1960-04-01T00:00:00",
          "1960-07-01T00:00:00",
          "1960-10-01T00:00:00",
          "1961-01-01T00:00:00",
          "1961-04-01T00:00:00",
          "1961-07-01T00:00:00",
          "1961-10-01T00:00:00",
          "1962-01-01T00:00:00",
          "1962-04-01T00:00:00",
          "1962-07-01T00:00:00",
          "1962-10-01T00:00:00",
          "1963-01-01T00:00:00",
          "1963-04-01T00:00:00",
          "1963-07-01T00:00:00",
          "1963-10-01T00:00:00",
          "1964-01-01T00:00:00",
          "1964-04-01T00:00:00",
          "1964-07-01T00:00:00",
          "1964-10-01T00:00:00",
          "1965-01-01T00:00:00",
          "1965-04-01T00:00:00",
          "1965-07-01T00:00:00",
          "1965-10-01T00:00:00",
          "1966-01-01T00:00:00",
          "1966-04-01T00:00:00",
          "1966-07-01T00:00:00",
          "1966-10-01T00:00:00",
          "1967-01-01T00:00:00",
          "1967-04-01T00:00:00",
          "1967-07-01T00:00:00",
          "1967-10-01T00:00:00",
          "1968-01-01T00:00:00",
          "1968-04-01T00:00:00",
          "1968-07-01T00:00:00",
          "1968-10-01T00:00:00",
          "1969-01-01T00:00:00",
          "1969-04-01T00:00:00",
          "1969-07-01T00:00:00",
          "1969-10-01T00:00:00",
          "1970-01-01T00:00:00",
          "1970-04-01T00:00:00",
          "1970-07-01T00:00:00",
          "1970-10-01T00:00:00",
          "1971-01-01T00:00:00",
          "1971-04-01T00:00:00",
          "1971-07-01T00:00:00",
          "1971-10-01T00:00:00",
          "1972-01-01T00:00:00",
          "1972-04-01T00:00:00",
          "1972-07-01T00:00:00",
          "1972-10-01T00:00:00",
          "1973-01-01T00:00:00",
          "1973-04-01T00:00:00",
          "1973-07-01T00:00:00",
          "1973-10-01T00:00:00",
          "1974-01-01T00:00:00",
          "1974-04-01T00:00:00",
          "1974-07-01T00:00:00",
          "1974-10-01T00:00:00",
          "1975-01-01T00:00:00",
          "1975-04-01T00:00:00",
          "1975-07-01T00:00:00",
          "1975-10-01T00:00:00",
          "1976-01-01T00:00:00",
          "1976-04-01T00:00:00",
          "1976-07-01T00:00:00",
          "1976-10-01T00:00:00",
          "1977-01-01T00:00:00",
          "1977-04-01T00:00:00",
          "1977-07-01T00:00:00",
          "1977-10-01T00:00:00",
          "1978-01-01T00:00:00",
          "1978-04-01T00:00:00",
          "1978-07-01T00:00:00",
          "1978-10-01T00:00:00",
          "1979-01-01T00:00:00",
          "1979-04-01T00:00:00",
          "1979-07-01T00:00:00",
          "1979-10-01T00:00:00",
          "1980-01-01T00:00:00",
          "1980-04-01T00:00:00",
          "1980-07-01T00:00:00",
          "1980-10-01T00:00:00",
          "1981-01-01T00:00:00",
          "1981-04-01T00:00:00",
          "1981-07-01T00:00:00",
          "1981-10-01T00:00:00",
          "1982-01-01T00:00:00",
          "1982-04-01T00:00:00",
          "1982-07-01T00:00:00",
          "1982-10-01T00:00:00",
          "1983-01-01T00:00:00",
          "1983-04-01T00:00:00",
          "1983-07-01T00:00:00",
          "1983-10-01T00:00:00",
          "1984-01-01T00:00:00",
          "1984-04-01T00:00:00",
          "1984-07-01T00:00:00",
          "1984-10-01T00:00:00",
          "1985-01-01T00:00:00",
          "1985-04-01T00:00:00",
          "1985-07-01T00:00:00",
          "1985-10-01T00:00:00",
          "1986-01-01T00:00:00",
          "1986-04-01T00:00:00",
          "1986-07-01T00:00:00",
          "1986-10-01T00:00:00",
          "1987-01-01T00:00:00",
          "1987-04-01T00:00:00",
          "1987-07-01T00:00:00",
          "1987-10-01T00:00:00",
          "1988-01-01T00:00:00",
          "1988-04-01T00:00:00",
          "1988-07-01T00:00:00",
          "1988-10-01T00:00:00",
          "1989-01-01T00:00:00",
          "1989-04-01T00:00:00",
          "1989-07-01T00:00:00",
          "1989-10-01T00:00:00",
          "1990-01-01T00:00:00",
          "1990-04-01T00:00:00",
          "1990-07-01T00:00:00",
          "1990-10-01T00:00:00",
          "1991-01-01T00:00:00",
          "1991-04-01T00:00:00",
          "1991-07-01T00:00:00",
          "1991-10-01T00:00:00",
          "1992-01-01T00:00:00",
          "1992-04-01T00:00:00",
          "1992-07-01T00:00:00",
          "1992-10-01T00:00:00",
          "1993-01-01T00:00:00",
          "1993-04-01T00:00:00",
          "1993-07-01T00:00:00",
          "1993-10-01T00:00:00",
          "1994-01-01T00:00:00",
          "1994-04-01T00:00:00",
          "1994-07-01T00:00:00",
          "1994-10-01T00:00:00",
          "1995-01-01T00:00:00",
          "1995-04-01T00:00:00",
          "1995-07-01T00:00:00",
          "1995-10-01T00:00:00",
          "1996-01-01T00:00:00",
          "1996-04-01T00:00:00",
          "1996-07-01T00:00:00",
          "1996-10-01T00:00:00",
          "1997-01-01T00:00:00",
          "1997-04-01T00:00:00",
          "1997-07-01T00:00:00",
          "1997-10-01T00:00:00",
          "1998-01-01T00:00:00",
          "1998-04-01T00:00:00",
          "1998-07-01T00:00:00",
          "1998-10-01T00:00:00",
          "1999-01-01T00:00:00",
          "1999-04-01T00:00:00",
          "1999-07-01T00:00:00",
          "1999-10-01T00:00:00",
          "2000-01-01T00:00:00",
          "2000-04-01T00:00:00",
          "2000-07-01T00:00:00",
          "2000-10-01T00:00:00",
          "2001-01-01T00:00:00",
          "2001-04-01T00:00:00",
          "2001-07-01T00:00:00",
          "2001-10-01T00:00:00",
          "2002-01-01T00:00:00",
          "2002-04-01T00:00:00",
          "2002-07-01T00:00:00",
          "2002-10-01T00:00:00",
          "2003-01-01T00:00:00",
          "2003-04-01T00:00:00",
          "2003-07-01T00:00:00",
          "2003-10-01T00:00:00",
          "2004-01-01T00:00:00",
          "2004-04-01T00:00:00",
          "2004-07-01T00:00:00",
          "2004-10-01T00:00:00",
          "2005-01-01T00:00:00",
          "2005-04-01T00:00:00",
          "2005-07-01T00:00:00",
          "2005-10-01T00:00:00",
          "2006-01-01T00:00:00",
          "2006-04-01T00:00:00",
          "2006-07-01T00:00:00",
          "2006-10-01T00:00:00",
          "2007-01-01T00:00:00",
          "2007-04-01T00:00:00",
          "2007-07-01T00:00:00",
          "2007-10-01T00:00:00",
          "2008-01-01T00:00:00",
          "2008-04-01T00:00:00",
          "2008-07-01T00:00:00",
          "2008-10-01T00:00:00",
          "2009-01-01T00:00:00",
          "2009-04-01T00:00:00",
          "2009-07-01T00:00:00"
         ],
         "xaxis": "x",
         "y": [
          null,
          28.9974,
          29.1674,
          29.3674,
          43.8861,
          29.7274,
          29.7413,
          29.7742,
          30.0291,
          29.8085,
          30.1366,
          30.0656,
          30.0119,
          30.3558,
          30.2891,
          30.4652,
          30.6283,
          30.4877,
          30.8841,
          30.8184,
          31.009,
          31.1758,
          31.0753,
          31.3213,
          31.2984,
          31.4735,
          31.7153,
          31.8284,
          32.005,
          32.5391,
          32.5484,
          33.1446,
          33.3102,
          33.2548,
          33.8191,
          33.7521,
          34.3564,
          34.7449,
          35.2538,
          35.7439,
          36.0261,
          36.8596,
          37.2326,
          37.735,
          38.5497,
          39.0285,
          39.406,
          40.0103,
          40.4984,
          40.4526,
          41.1016,
          41.3812,
          41.3727,
          42.01,
          42.0847,
          42.515,
          43.0413,
          44.1204,
          44.6853,
          46.2797,
          47.9782,
          48.723,
          50.8545,
          52.3132,
          53.6686,
          54.1546,
          55.6616,
          56.0827,
          56.4043,
          57.0133,
          57.858,
          58.7902,
          58.9901,
          61.0399,
          61.7526,
          62.4161,
          64.0554,
          64.7173,
          66.424,
          68.3686,
          69.819,
          72.3801,
          74.792,
          76.7697,
          80.3694,
          83.5293,
          84.8081,
          87.4975,
          90.0658,
          90.6572,
          93.6436,
          95.8987,
          96.1028,
          97.1483,
          99.3163,
          98.8957,
          98.2589,
          101.248,
          100.1816,
          100.5711,
          103.2002,
          104.4322,
          105.1357,
          106.4227,
          106.8218,
          107.7888,
          108.6895,
          109.0761,
          111.3069,
          109.1116,
          110.201,
          111.5528,
          110.1608,
          113.8322,
          114.6873,
          116.3541,
          117.3448,
          118.3129,
          119.7404,
          120.9519,
          122.4703,
          124.5325,
          125.9767,
          126.6717,
          129.505,
          130.2834,
          131.4281,
          135.7921,
          136.1207,
          136.5801,
          138.9896,
          138.2027,
          138.5564,
          140.5433,
          141.5258,
          142.8458,
          143.9269,
          144.9054,
          145.6555,
          146.6756,
          147.2431,
          147.8704,
          149.5636,
          150.1207,
          151.4709,
          153.0919,
          153.5916,
          154.5906,
          156.0175,
          156.9287,
          157.9334,
          159.4626,
          160.8339,
          160.6993,
          161.5112,
          162.6571,
          162.3944,
          162.6228,
          164.3437,
          164.3715,
          164.9368,
          167.0594,
          167.4471,
          169.0228,
          170.6136,
          171.8097,
          174.2899,
          175.1598,
          177.3009,
          178.1408,
          178.474,
          179.1189,
          178.2141,
          180.2975,
          180.1658,
          181.4298,
          184.4392,
          183.8713,
          184.8685,
          null,
          null,
          null,
          null,
          null,
          null,
          null,
          null,
          null,
          null,
          null,
          null,
          null,
          null,
          null,
          null,
          null,
          null,
          null,
          null,
          null,
          null,
          null,
          null
         ],
         "yaxis": "y"
        },
        {
         "line": {
          "color": "rgb(214, 39, 40)",
          "width": 2
         },
         "marker": {
          "color": "rgb(214, 39, 40)",
          "size": 5
         },
         "mode": "lines+markers",
         "name": "ARIMA (3)",
         "type": "scattergl",
         "x": [
          "1959-01-01T00:00:00",
          "1959-04-01T00:00:00",
          "1959-07-01T00:00:00",
          "1959-10-01T00:00:00",
          "1960-01-01T00:00:00",
          "1960-04-01T00:00:00",
          "1960-07-01T00:00:00",
          "1960-10-01T00:00:00",
          "1961-01-01T00:00:00",
          "1961-04-01T00:00:00",
          "1961-07-01T00:00:00",
          "1961-10-01T00:00:00",
          "1962-01-01T00:00:00",
          "1962-04-01T00:00:00",
          "1962-07-01T00:00:00",
          "1962-10-01T00:00:00",
          "1963-01-01T00:00:00",
          "1963-04-01T00:00:00",
          "1963-07-01T00:00:00",
          "1963-10-01T00:00:00",
          "1964-01-01T00:00:00",
          "1964-04-01T00:00:00",
          "1964-07-01T00:00:00",
          "1964-10-01T00:00:00",
          "1965-01-01T00:00:00",
          "1965-04-01T00:00:00",
          "1965-07-01T00:00:00",
          "1965-10-01T00:00:00",
          "1966-01-01T00:00:00",
          "1966-04-01T00:00:00",
          "1966-07-01T00:00:00",
          "1966-10-01T00:00:00",
          "1967-01-01T00:00:00",
          "1967-04-01T00:00:00",
          "1967-07-01T00:00:00",
          "1967-10-01T00:00:00",
          "1968-01-01T00:00:00",
          "1968-04-01T00:00:00",
          "1968-07-01T00:00:00",
          "1968-10-01T00:00:00",
          "1969-01-01T00:00:00",
          "1969-04-01T00:00:00",
          "1969-07-01T00:00:00",
          "1969-10-01T00:00:00",
          "1970-01-01T00:00:00",
          "1970-04-01T00:00:00",
          "1970-07-01T00:00:00",
          "1970-10-01T00:00:00",
          "1971-01-01T00:00:00",
          "1971-04-01T00:00:00",
          "1971-07-01T00:00:00",
          "1971-10-01T00:00:00",
          "1972-01-01T00:00:00",
          "1972-04-01T00:00:00",
          "1972-07-01T00:00:00",
          "1972-10-01T00:00:00",
          "1973-01-01T00:00:00",
          "1973-04-01T00:00:00",
          "1973-07-01T00:00:00",
          "1973-10-01T00:00:00",
          "1974-01-01T00:00:00",
          "1974-04-01T00:00:00",
          "1974-07-01T00:00:00",
          "1974-10-01T00:00:00",
          "1975-01-01T00:00:00",
          "1975-04-01T00:00:00",
          "1975-07-01T00:00:00",
          "1975-10-01T00:00:00",
          "1976-01-01T00:00:00",
          "1976-04-01T00:00:00",
          "1976-07-01T00:00:00",
          "1976-10-01T00:00:00",
          "1977-01-01T00:00:00",
          "1977-04-01T00:00:00",
          "1977-07-01T00:00:00",
          "1977-10-01T00:00:00",
          "1978-01-01T00:00:00",
          "1978-04-01T00:00:00",
          "1978-07-01T00:00:00",
          "1978-10-01T00:00:00",
          "1979-01-01T00:00:00",
          "1979-04-01T00:00:00",
          "1979-07-01T00:00:00",
          "1979-10-01T00:00:00",
          "1980-01-01T00:00:00",
          "1980-04-01T00:00:00",
          "1980-07-01T00:00:00",
          "1980-10-01T00:00:00",
          "1981-01-01T00:00:00",
          "1981-04-01T00:00:00",
          "1981-07-01T00:00:00",
          "1981-10-01T00:00:00",
          "1982-01-01T00:00:00",
          "1982-04-01T00:00:00",
          "1982-07-01T00:00:00",
          "1982-10-01T00:00:00",
          "1983-01-01T00:00:00",
          "1983-04-01T00:00:00",
          "1983-07-01T00:00:00",
          "1983-10-01T00:00:00",
          "1984-01-01T00:00:00",
          "1984-04-01T00:00:00",
          "1984-07-01T00:00:00",
          "1984-10-01T00:00:00",
          "1985-01-01T00:00:00",
          "1985-04-01T00:00:00",
          "1985-07-01T00:00:00",
          "1985-10-01T00:00:00",
          "1986-01-01T00:00:00",
          "1986-04-01T00:00:00",
          "1986-07-01T00:00:00",
          "1986-10-01T00:00:00",
          "1987-01-01T00:00:00",
          "1987-04-01T00:00:00",
          "1987-07-01T00:00:00",
          "1987-10-01T00:00:00",
          "1988-01-01T00:00:00",
          "1988-04-01T00:00:00",
          "1988-07-01T00:00:00",
          "1988-10-01T00:00:00",
          "1989-01-01T00:00:00",
          "1989-04-01T00:00:00",
          "1989-07-01T00:00:00",
          "1989-10-01T00:00:00",
          "1990-01-01T00:00:00",
          "1990-04-01T00:00:00",
          "1990-07-01T00:00:00",
          "1990-10-01T00:00:00",
          "1991-01-01T00:00:00",
          "1991-04-01T00:00:00",
          "1991-07-01T00:00:00",
          "1991-10-01T00:00:00",
          "1992-01-01T00:00:00",
          "1992-04-01T00:00:00",
          "1992-07-01T00:00:00",
          "1992-10-01T00:00:00",
          "1993-01-01T00:00:00",
          "1993-04-01T00:00:00",
          "1993-07-01T00:00:00",
          "1993-10-01T00:00:00",
          "1994-01-01T00:00:00",
          "1994-04-01T00:00:00",
          "1994-07-01T00:00:00",
          "1994-10-01T00:00:00",
          "1995-01-01T00:00:00",
          "1995-04-01T00:00:00",
          "1995-07-01T00:00:00",
          "1995-10-01T00:00:00",
          "1996-01-01T00:00:00",
          "1996-04-01T00:00:00",
          "1996-07-01T00:00:00",
          "1996-10-01T00:00:00",
          "1997-01-01T00:00:00",
          "1997-04-01T00:00:00",
          "1997-07-01T00:00:00",
          "1997-10-01T00:00:00",
          "1998-01-01T00:00:00",
          "1998-04-01T00:00:00",
          "1998-07-01T00:00:00",
          "1998-10-01T00:00:00",
          "1999-01-01T00:00:00",
          "1999-04-01T00:00:00",
          "1999-07-01T00:00:00",
          "1999-10-01T00:00:00",
          "2000-01-01T00:00:00",
          "2000-04-01T00:00:00",
          "2000-07-01T00:00:00",
          "2000-10-01T00:00:00",
          "2001-01-01T00:00:00",
          "2001-04-01T00:00:00",
          "2001-07-01T00:00:00",
          "2001-10-01T00:00:00",
          "2002-01-01T00:00:00",
          "2002-04-01T00:00:00",
          "2002-07-01T00:00:00",
          "2002-10-01T00:00:00",
          "2003-01-01T00:00:00",
          "2003-04-01T00:00:00",
          "2003-07-01T00:00:00",
          "2003-10-01T00:00:00",
          "2004-01-01T00:00:00",
          "2004-04-01T00:00:00",
          "2004-07-01T00:00:00",
          "2004-10-01T00:00:00",
          "2005-01-01T00:00:00",
          "2005-04-01T00:00:00",
          "2005-07-01T00:00:00",
          "2005-10-01T00:00:00",
          "2006-01-01T00:00:00",
          "2006-04-01T00:00:00",
          "2006-07-01T00:00:00",
          "2006-10-01T00:00:00",
          "2007-01-01T00:00:00",
          "2007-04-01T00:00:00",
          "2007-07-01T00:00:00",
          "2007-10-01T00:00:00",
          "2008-01-01T00:00:00",
          "2008-04-01T00:00:00",
          "2008-07-01T00:00:00",
          "2008-10-01T00:00:00",
          "2009-01-01T00:00:00",
          "2009-04-01T00:00:00",
          "2009-07-01T00:00:00"
         ],
         "xaxis": "x",
         "y": [
          null,
          29.856,
          30.026,
          30.226,
          30.246,
          30.416,
          30.426,
          30.626,
          30.716,
          30.686,
          30.796,
          30.856,
          30.916,
          31.086,
          31.096,
          31.256,
          31.316,
          31.356,
          31.566,
          31.626,
          31.816,
          31.826,
          31.896,
          31.996,
          32.156,
          32.256,
          32.456,
          32.526,
          32.756,
          33.156,
          33.326,
          33.726,
          33.776,
          33.976,
          34.276,
          34.576,
          34.976,
          35.276,
          35.776,
          36.176,
          36.576,
          37.176,
          37.676,
          38.176,
          38.776,
          39.376,
          39.776,
          40.276,
          40.776,
          40.976,
          41.476,
          41.776,
          42.076,
          42.376,
          42.676,
          43.076,
          43.576,
          44.576,
          45.076,
          46.476,
          47.676,
          48.976,
          50.176,
          51.876,
          53.176,
          53.876,
          54.876,
          55.776,
          56.676,
          56.976,
          57.876,
          58.776,
          59.576,
          60.876,
          61.676,
          62.476,
          63.576,
          64.776,
          66.376,
          67.976,
          69.376,
          71.476,
          73.876,
          76.076,
          78.876,
          81.776,
          83.476,
          85.576,
          88.076,
          89.976,
          92.376,
          94.276,
          95.276,
          95.876,
          98.376,
          98.976,
          98.776,
          99.676,
          100.676,
          101.676,
          102.976,
          104.176,
          104.976,
          105.976,
          106.576,
          107.876,
          108.576,
          109.376,
          110.776,
          109.576,
          110.376,
          111.076,
          112.276,
          113.576,
          114.676,
          115.876,
          116.876,
          118.076,
          119.376,
          120.776,
          122.076,
          123.976,
          125.376,
          126.276,
          128.376,
          129.776,
          131.376,
          134.276,
          135.576,
          135.976,
          137.076,
          138.076,
          139.176,
          140.276,
          141.376,
          142.576,
          143.676,
          144.676,
          145.376,
          146.476,
          147.176,
          148.076,
          149.276,
          150.276,
          151.376,
          152.676,
          153.476,
          154.376,
          155.576,
          156.976,
          157.876,
          159.076,
          160.276,
          160.776,
          161.276,
          162.376,
          162.876,
          163.076,
          164.076,
          164.776,
          165.576,
          166.776,
          167.576,
          168.976,
          170.176,
          171.776,
          173.576,
          174.776,
          176.476,
          177.276,
          178.276,
          178.476,
          178.576,
          180.176,
          180.876,
          182.076,
          183.476,
          184.076,
          184.576,
          null,
          null,
          null,
          null,
          null,
          null,
          null,
          null,
          null,
          null,
          null,
          null,
          null,
          null,
          null,
          null,
          null,
          null,
          null,
          null,
          null,
          null,
          null,
          null
         ],
         "yaxis": "y"
        }
       ],
       "layout": {
        "showlegend": true,
        "template": {
         "data": {
          "bar": [
           {
            "error_x": {
             "color": "rgb(51,51,51)"
            },
            "error_y": {
             "color": "rgb(51,51,51)"
            },
            "marker": {
             "line": {
              "color": "rgb(237,237,237)",
              "width": 0.5
             },
             "pattern": {
              "fillmode": "overlay",
              "size": 10,
              "solidity": 0.2
             }
            },
            "type": "bar"
           }
          ],
          "barpolar": [
           {
            "marker": {
             "line": {
              "color": "rgb(237,237,237)",
              "width": 0.5
             },
             "pattern": {
              "fillmode": "overlay",
              "size": 10,
              "solidity": 0.2
             }
            },
            "type": "barpolar"
           }
          ],
          "carpet": [
           {
            "aaxis": {
             "endlinecolor": "rgb(51,51,51)",
             "gridcolor": "white",
             "linecolor": "white",
             "minorgridcolor": "white",
             "startlinecolor": "rgb(51,51,51)"
            },
            "baxis": {
             "endlinecolor": "rgb(51,51,51)",
             "gridcolor": "white",
             "linecolor": "white",
             "minorgridcolor": "white",
             "startlinecolor": "rgb(51,51,51)"
            },
            "type": "carpet"
           }
          ],
          "choropleth": [
           {
            "colorbar": {
             "outlinewidth": 0,
             "tickcolor": "rgb(237,237,237)",
             "ticklen": 6,
             "ticks": "inside"
            },
            "type": "choropleth"
           }
          ],
          "contour": [
           {
            "colorbar": {
             "outlinewidth": 0,
             "tickcolor": "rgb(237,237,237)",
             "ticklen": 6,
             "ticks": "inside"
            },
            "colorscale": [
             [
              0,
              "rgb(20,44,66)"
             ],
             [
              1,
              "rgb(90,179,244)"
             ]
            ],
            "type": "contour"
           }
          ],
          "contourcarpet": [
           {
            "colorbar": {
             "outlinewidth": 0,
             "tickcolor": "rgb(237,237,237)",
             "ticklen": 6,
             "ticks": "inside"
            },
            "type": "contourcarpet"
           }
          ],
          "heatmap": [
           {
            "colorbar": {
             "outlinewidth": 0,
             "tickcolor": "rgb(237,237,237)",
             "ticklen": 6,
             "ticks": "inside"
            },
            "colorscale": [
             [
              0,
              "rgb(20,44,66)"
             ],
             [
              1,
              "rgb(90,179,244)"
             ]
            ],
            "type": "heatmap"
           }
          ],
          "heatmapgl": [
           {
            "colorbar": {
             "outlinewidth": 0,
             "tickcolor": "rgb(237,237,237)",
             "ticklen": 6,
             "ticks": "inside"
            },
            "colorscale": [
             [
              0,
              "rgb(20,44,66)"
             ],
             [
              1,
              "rgb(90,179,244)"
             ]
            ],
            "type": "heatmapgl"
           }
          ],
          "histogram": [
           {
            "marker": {
             "pattern": {
              "fillmode": "overlay",
              "size": 10,
              "solidity": 0.2
             }
            },
            "type": "histogram"
           }
          ],
          "histogram2d": [
           {
            "colorbar": {
             "outlinewidth": 0,
             "tickcolor": "rgb(237,237,237)",
             "ticklen": 6,
             "ticks": "inside"
            },
            "colorscale": [
             [
              0,
              "rgb(20,44,66)"
             ],
             [
              1,
              "rgb(90,179,244)"
             ]
            ],
            "type": "histogram2d"
           }
          ],
          "histogram2dcontour": [
           {
            "colorbar": {
             "outlinewidth": 0,
             "tickcolor": "rgb(237,237,237)",
             "ticklen": 6,
             "ticks": "inside"
            },
            "colorscale": [
             [
              0,
              "rgb(20,44,66)"
             ],
             [
              1,
              "rgb(90,179,244)"
             ]
            ],
            "type": "histogram2dcontour"
           }
          ],
          "mesh3d": [
           {
            "colorbar": {
             "outlinewidth": 0,
             "tickcolor": "rgb(237,237,237)",
             "ticklen": 6,
             "ticks": "inside"
            },
            "type": "mesh3d"
           }
          ],
          "parcoords": [
           {
            "line": {
             "colorbar": {
              "outlinewidth": 0,
              "tickcolor": "rgb(237,237,237)",
              "ticklen": 6,
              "ticks": "inside"
             }
            },
            "type": "parcoords"
           }
          ],
          "pie": [
           {
            "automargin": true,
            "type": "pie"
           }
          ],
          "scatter": [
           {
            "fillpattern": {
             "fillmode": "overlay",
             "size": 10,
             "solidity": 0.2
            },
            "type": "scatter"
           }
          ],
          "scatter3d": [
           {
            "line": {
             "colorbar": {
              "outlinewidth": 0,
              "tickcolor": "rgb(237,237,237)",
              "ticklen": 6,
              "ticks": "inside"
             }
            },
            "marker": {
             "colorbar": {
              "outlinewidth": 0,
              "tickcolor": "rgb(237,237,237)",
              "ticklen": 6,
              "ticks": "inside"
             }
            },
            "type": "scatter3d"
           }
          ],
          "scattercarpet": [
           {
            "marker": {
             "colorbar": {
              "outlinewidth": 0,
              "tickcolor": "rgb(237,237,237)",
              "ticklen": 6,
              "ticks": "inside"
             }
            },
            "type": "scattercarpet"
           }
          ],
          "scattergeo": [
           {
            "marker": {
             "colorbar": {
              "outlinewidth": 0,
              "tickcolor": "rgb(237,237,237)",
              "ticklen": 6,
              "ticks": "inside"
             }
            },
            "type": "scattergeo"
           }
          ],
          "scattergl": [
           {
            "marker": {
             "colorbar": {
              "outlinewidth": 0,
              "tickcolor": "rgb(237,237,237)",
              "ticklen": 6,
              "ticks": "inside"
             }
            },
            "type": "scattergl"
           }
          ],
          "scattermapbox": [
           {
            "marker": {
             "colorbar": {
              "outlinewidth": 0,
              "tickcolor": "rgb(237,237,237)",
              "ticklen": 6,
              "ticks": "inside"
             }
            },
            "type": "scattermapbox"
           }
          ],
          "scatterpolar": [
           {
            "marker": {
             "colorbar": {
              "outlinewidth": 0,
              "tickcolor": "rgb(237,237,237)",
              "ticklen": 6,
              "ticks": "inside"
             }
            },
            "type": "scatterpolar"
           }
          ],
          "scatterpolargl": [
           {
            "marker": {
             "colorbar": {
              "outlinewidth": 0,
              "tickcolor": "rgb(237,237,237)",
              "ticklen": 6,
              "ticks": "inside"
             }
            },
            "type": "scatterpolargl"
           }
          ],
          "scatterternary": [
           {
            "marker": {
             "colorbar": {
              "outlinewidth": 0,
              "tickcolor": "rgb(237,237,237)",
              "ticklen": 6,
              "ticks": "inside"
             }
            },
            "type": "scatterternary"
           }
          ],
          "surface": [
           {
            "colorbar": {
             "outlinewidth": 0,
             "tickcolor": "rgb(237,237,237)",
             "ticklen": 6,
             "ticks": "inside"
            },
            "colorscale": [
             [
              0,
              "rgb(20,44,66)"
             ],
             [
              1,
              "rgb(90,179,244)"
             ]
            ],
            "type": "surface"
           }
          ],
          "table": [
           {
            "cells": {
             "fill": {
              "color": "rgb(237,237,237)"
             },
             "line": {
              "color": "white"
             }
            },
            "header": {
             "fill": {
              "color": "rgb(217,217,217)"
             },
             "line": {
              "color": "white"
             }
            },
            "type": "table"
           }
          ]
         },
         "layout": {
          "annotationdefaults": {
           "arrowhead": 0,
           "arrowwidth": 1
          },
          "autotypenumbers": "strict",
          "coloraxis": {
           "colorbar": {
            "outlinewidth": 0,
            "tickcolor": "rgb(237,237,237)",
            "ticklen": 6,
            "ticks": "inside"
           }
          },
          "colorscale": {
           "sequential": [
            [
             0,
             "rgb(20,44,66)"
            ],
            [
             1,
             "rgb(90,179,244)"
            ]
           ],
           "sequentialminus": [
            [
             0,
             "rgb(20,44,66)"
            ],
            [
             1,
             "rgb(90,179,244)"
            ]
           ]
          },
          "colorway": [
           "#F8766D",
           "#A3A500",
           "#00BF7D",
           "#00B0F6",
           "#E76BF3"
          ],
          "font": {
           "color": "rgb(51,51,51)"
          },
          "geo": {
           "bgcolor": "white",
           "lakecolor": "white",
           "landcolor": "rgb(237,237,237)",
           "showlakes": true,
           "showland": true,
           "subunitcolor": "white"
          },
          "hoverlabel": {
           "align": "left"
          },
          "hovermode": "closest",
          "paper_bgcolor": "white",
          "plot_bgcolor": "rgb(237,237,237)",
          "polar": {
           "angularaxis": {
            "gridcolor": "white",
            "linecolor": "white",
            "showgrid": true,
            "tickcolor": "rgb(51,51,51)",
            "ticks": "outside"
           },
           "bgcolor": "rgb(237,237,237)",
           "radialaxis": {
            "gridcolor": "white",
            "linecolor": "white",
            "showgrid": true,
            "tickcolor": "rgb(51,51,51)",
            "ticks": "outside"
           }
          },
          "scene": {
           "xaxis": {
            "backgroundcolor": "rgb(237,237,237)",
            "gridcolor": "white",
            "gridwidth": 2,
            "linecolor": "white",
            "showbackground": true,
            "showgrid": true,
            "tickcolor": "rgb(51,51,51)",
            "ticks": "outside",
            "zerolinecolor": "white"
           },
           "yaxis": {
            "backgroundcolor": "rgb(237,237,237)",
            "gridcolor": "white",
            "gridwidth": 2,
            "linecolor": "white",
            "showbackground": true,
            "showgrid": true,
            "tickcolor": "rgb(51,51,51)",
            "ticks": "outside",
            "zerolinecolor": "white"
           },
           "zaxis": {
            "backgroundcolor": "rgb(237,237,237)",
            "gridcolor": "white",
            "gridwidth": 2,
            "linecolor": "white",
            "showbackground": true,
            "showgrid": true,
            "tickcolor": "rgb(51,51,51)",
            "ticks": "outside",
            "zerolinecolor": "white"
           }
          },
          "shapedefaults": {
           "fillcolor": "black",
           "line": {
            "width": 0
           },
           "opacity": 0.3
          },
          "ternary": {
           "aaxis": {
            "gridcolor": "white",
            "linecolor": "white",
            "showgrid": true,
            "tickcolor": "rgb(51,51,51)",
            "ticks": "outside"
           },
           "baxis": {
            "gridcolor": "white",
            "linecolor": "white",
            "showgrid": true,
            "tickcolor": "rgb(51,51,51)",
            "ticks": "outside"
           },
           "bgcolor": "rgb(237,237,237)",
           "caxis": {
            "gridcolor": "white",
            "linecolor": "white",
            "showgrid": true,
            "tickcolor": "rgb(51,51,51)",
            "ticks": "outside"
           }
          },
          "xaxis": {
           "automargin": true,
           "gridcolor": "white",
           "linecolor": "white",
           "showgrid": true,
           "tickcolor": "rgb(51,51,51)",
           "ticks": "outside",
           "title": {
            "standoff": 15
           },
           "zerolinecolor": "white"
          },
          "yaxis": {
           "automargin": true,
           "gridcolor": "white",
           "linecolor": "white",
           "showgrid": true,
           "tickcolor": "rgb(51,51,51)",
           "ticks": "outside",
           "title": {
            "standoff": 15
           },
           "zerolinecolor": "white"
          }
         }
        },
        "title": {
         "text": "Actual vs. Forecast (In-Sample)"
        },
        "xaxis": {
         "anchor": "y",
         "domain": [
          0,
          1
         ]
        },
        "yaxis": {
         "anchor": "x",
         "domain": [
          0,
          1
         ]
        }
       }
      }
     },
     "metadata": {},
     "output_type": "display_data"
    }
   ],
   "source": [
    "exp.plot_model(my_models, plot='insample')"
   ]
  },
  {
   "cell_type": "code",
   "execution_count": 28,
   "metadata": {},
   "outputs": [
    {
     "data": {
      "application/vnd.plotly.v1+json": {
       "config": {
        "plotlyServerURL": "https://plot.ly"
       },
       "data": [
        {
         "line": {
          "color": "rgb(31, 119, 180)",
          "width": 2
         },
         "marker": {
          "color": "rgb(31, 119, 180)",
          "size": 5
         },
         "mode": "lines+markers",
         "name": "cpi",
         "type": "scattergl",
         "x": [
          "1959-01-01T00:00:00",
          "1959-04-01T00:00:00",
          "1959-07-01T00:00:00",
          "1959-10-01T00:00:00",
          "1960-01-01T00:00:00",
          "1960-04-01T00:00:00",
          "1960-07-01T00:00:00",
          "1960-10-01T00:00:00",
          "1961-01-01T00:00:00",
          "1961-04-01T00:00:00",
          "1961-07-01T00:00:00",
          "1961-10-01T00:00:00",
          "1962-01-01T00:00:00",
          "1962-04-01T00:00:00",
          "1962-07-01T00:00:00",
          "1962-10-01T00:00:00",
          "1963-01-01T00:00:00",
          "1963-04-01T00:00:00",
          "1963-07-01T00:00:00",
          "1963-10-01T00:00:00",
          "1964-01-01T00:00:00",
          "1964-04-01T00:00:00",
          "1964-07-01T00:00:00",
          "1964-10-01T00:00:00",
          "1965-01-01T00:00:00",
          "1965-04-01T00:00:00",
          "1965-07-01T00:00:00",
          "1965-10-01T00:00:00",
          "1966-01-01T00:00:00",
          "1966-04-01T00:00:00",
          "1966-07-01T00:00:00",
          "1966-10-01T00:00:00",
          "1967-01-01T00:00:00",
          "1967-04-01T00:00:00",
          "1967-07-01T00:00:00",
          "1967-10-01T00:00:00",
          "1968-01-01T00:00:00",
          "1968-04-01T00:00:00",
          "1968-07-01T00:00:00",
          "1968-10-01T00:00:00",
          "1969-01-01T00:00:00",
          "1969-04-01T00:00:00",
          "1969-07-01T00:00:00",
          "1969-10-01T00:00:00",
          "1970-01-01T00:00:00",
          "1970-04-01T00:00:00",
          "1970-07-01T00:00:00",
          "1970-10-01T00:00:00",
          "1971-01-01T00:00:00",
          "1971-04-01T00:00:00",
          "1971-07-01T00:00:00",
          "1971-10-01T00:00:00",
          "1972-01-01T00:00:00",
          "1972-04-01T00:00:00",
          "1972-07-01T00:00:00",
          "1972-10-01T00:00:00",
          "1973-01-01T00:00:00",
          "1973-04-01T00:00:00",
          "1973-07-01T00:00:00",
          "1973-10-01T00:00:00",
          "1974-01-01T00:00:00",
          "1974-04-01T00:00:00",
          "1974-07-01T00:00:00",
          "1974-10-01T00:00:00",
          "1975-01-01T00:00:00",
          "1975-04-01T00:00:00",
          "1975-07-01T00:00:00",
          "1975-10-01T00:00:00",
          "1976-01-01T00:00:00",
          "1976-04-01T00:00:00",
          "1976-07-01T00:00:00",
          "1976-10-01T00:00:00",
          "1977-01-01T00:00:00",
          "1977-04-01T00:00:00",
          "1977-07-01T00:00:00",
          "1977-10-01T00:00:00",
          "1978-01-01T00:00:00",
          "1978-04-01T00:00:00",
          "1978-07-01T00:00:00",
          "1978-10-01T00:00:00",
          "1979-01-01T00:00:00",
          "1979-04-01T00:00:00",
          "1979-07-01T00:00:00",
          "1979-10-01T00:00:00",
          "1980-01-01T00:00:00",
          "1980-04-01T00:00:00",
          "1980-07-01T00:00:00",
          "1980-10-01T00:00:00",
          "1981-01-01T00:00:00",
          "1981-04-01T00:00:00",
          "1981-07-01T00:00:00",
          "1981-10-01T00:00:00",
          "1982-01-01T00:00:00",
          "1982-04-01T00:00:00",
          "1982-07-01T00:00:00",
          "1982-10-01T00:00:00",
          "1983-01-01T00:00:00",
          "1983-04-01T00:00:00",
          "1983-07-01T00:00:00",
          "1983-10-01T00:00:00",
          "1984-01-01T00:00:00",
          "1984-04-01T00:00:00",
          "1984-07-01T00:00:00",
          "1984-10-01T00:00:00",
          "1985-01-01T00:00:00",
          "1985-04-01T00:00:00",
          "1985-07-01T00:00:00",
          "1985-10-01T00:00:00",
          "1986-01-01T00:00:00",
          "1986-04-01T00:00:00",
          "1986-07-01T00:00:00",
          "1986-10-01T00:00:00",
          "1987-01-01T00:00:00",
          "1987-04-01T00:00:00",
          "1987-07-01T00:00:00",
          "1987-10-01T00:00:00",
          "1988-01-01T00:00:00",
          "1988-04-01T00:00:00",
          "1988-07-01T00:00:00",
          "1988-10-01T00:00:00",
          "1989-01-01T00:00:00",
          "1989-04-01T00:00:00",
          "1989-07-01T00:00:00",
          "1989-10-01T00:00:00",
          "1990-01-01T00:00:00",
          "1990-04-01T00:00:00",
          "1990-07-01T00:00:00",
          "1990-10-01T00:00:00",
          "1991-01-01T00:00:00",
          "1991-04-01T00:00:00",
          "1991-07-01T00:00:00",
          "1991-10-01T00:00:00",
          "1992-01-01T00:00:00",
          "1992-04-01T00:00:00",
          "1992-07-01T00:00:00",
          "1992-10-01T00:00:00",
          "1993-01-01T00:00:00",
          "1993-04-01T00:00:00",
          "1993-07-01T00:00:00",
          "1993-10-01T00:00:00",
          "1994-01-01T00:00:00",
          "1994-04-01T00:00:00",
          "1994-07-01T00:00:00",
          "1994-10-01T00:00:00",
          "1995-01-01T00:00:00",
          "1995-04-01T00:00:00",
          "1995-07-01T00:00:00",
          "1995-10-01T00:00:00",
          "1996-01-01T00:00:00",
          "1996-04-01T00:00:00",
          "1996-07-01T00:00:00",
          "1996-10-01T00:00:00",
          "1997-01-01T00:00:00",
          "1997-04-01T00:00:00",
          "1997-07-01T00:00:00",
          "1997-10-01T00:00:00",
          "1998-01-01T00:00:00",
          "1998-04-01T00:00:00",
          "1998-07-01T00:00:00",
          "1998-10-01T00:00:00",
          "1999-01-01T00:00:00",
          "1999-04-01T00:00:00",
          "1999-07-01T00:00:00",
          "1999-10-01T00:00:00",
          "2000-01-01T00:00:00",
          "2000-04-01T00:00:00",
          "2000-07-01T00:00:00",
          "2000-10-01T00:00:00",
          "2001-01-01T00:00:00",
          "2001-04-01T00:00:00",
          "2001-07-01T00:00:00",
          "2001-10-01T00:00:00",
          "2002-01-01T00:00:00",
          "2002-04-01T00:00:00",
          "2002-07-01T00:00:00",
          "2002-10-01T00:00:00",
          "2003-01-01T00:00:00",
          "2003-04-01T00:00:00",
          "2003-07-01T00:00:00",
          "2003-10-01T00:00:00",
          "2004-01-01T00:00:00",
          "2004-04-01T00:00:00",
          "2004-07-01T00:00:00",
          "2004-10-01T00:00:00",
          "2005-01-01T00:00:00",
          "2005-04-01T00:00:00",
          "2005-07-01T00:00:00",
          "2005-10-01T00:00:00",
          "2006-01-01T00:00:00",
          "2006-04-01T00:00:00",
          "2006-07-01T00:00:00",
          "2006-10-01T00:00:00",
          "2007-01-01T00:00:00",
          "2007-04-01T00:00:00",
          "2007-07-01T00:00:00",
          "2007-10-01T00:00:00",
          "2008-01-01T00:00:00",
          "2008-04-01T00:00:00",
          "2008-07-01T00:00:00",
          "2008-10-01T00:00:00",
          "2009-01-01T00:00:00",
          "2009-04-01T00:00:00",
          "2009-07-01T00:00:00",
          "2009-10-01T00:00:00",
          "2010-01-01T00:00:00",
          "2010-04-01T00:00:00",
          "2010-07-01T00:00:00",
          "2010-10-01T00:00:00",
          "2011-01-01T00:00:00",
          "2011-04-01T00:00:00",
          "2011-07-01T00:00:00",
          "2011-10-01T00:00:00",
          "2012-01-01T00:00:00",
          "2012-04-01T00:00:00",
          "2012-07-01T00:00:00"
         ],
         "xaxis": "x",
         "y": [
          28.98,
          29.15,
          29.35,
          29.37,
          29.54,
          29.55,
          29.75,
          29.84,
          29.81,
          29.92,
          29.98,
          30.04,
          30.21,
          30.22,
          30.38,
          30.44,
          30.48,
          30.69,
          30.75,
          30.94,
          30.95,
          31.02,
          31.12,
          31.28,
          31.38,
          31.58,
          31.65,
          31.88,
          32.28,
          32.45,
          32.85,
          32.9,
          33.1,
          33.4,
          33.7,
          34.1,
          34.4,
          34.9,
          35.3,
          35.7,
          36.3,
          36.8,
          37.3,
          37.9,
          38.5,
          38.9,
          39.4,
          39.9,
          40.1,
          40.6,
          40.9,
          41.2,
          41.5,
          41.8,
          42.2,
          42.7,
          43.7,
          44.2,
          45.6,
          46.8,
          48.1,
          49.3,
          51,
          52.3,
          53,
          54,
          54.9,
          55.8,
          56.1,
          57,
          57.9,
          58.7,
          60,
          60.8,
          61.6,
          62.7,
          63.9,
          65.5,
          67.1,
          68.5,
          70.6,
          73,
          75.2,
          78,
          80.9,
          82.6,
          84.7,
          87.2,
          89.1,
          91.5,
          93.4,
          94.4,
          95,
          97.5,
          98.1,
          97.9,
          98.8,
          99.8,
          100.8,
          102.1,
          103.3,
          104.1,
          105.1,
          105.7,
          107,
          107.7,
          108.5,
          109.9,
          108.7,
          109.5,
          110.2,
          111.4,
          112.7,
          113.8,
          115,
          116,
          117.2,
          118.5,
          119.9,
          121.2,
          123.1,
          124.5,
          125.4,
          127.5,
          128.9,
          130.5,
          133.4,
          134.7,
          135.1,
          136.2,
          137.2,
          138.3,
          139.4,
          140.5,
          141.7,
          142.8,
          143.8,
          144.5,
          145.6,
          146.3,
          147.2,
          148.4,
          149.4,
          150.5,
          151.8,
          152.6,
          153.5,
          154.7,
          156.1,
          157,
          158.2,
          159.4,
          159.9,
          160.4,
          161.5,
          162,
          162.2,
          163.2,
          163.9,
          164.7,
          165.9,
          166.7,
          168.1,
          169.3,
          170.9,
          172.7,
          173.9,
          175.6,
          176.4,
          177.4,
          177.6,
          177.7,
          179.3,
          180,
          181.2,
          182.6,
          183.2,
          183.7,
          184.9,
          186.3,
          187.4,
          189.1,
          190.8,
          191.8,
          193.8,
          194.7,
          199.2,
          199.4,
          200.7,
          202.7,
          201.9,
          203.574,
          205.92,
          207.338,
          209.133,
          212.495,
          213.997,
          218.61,
          216.889,
          212.174,
          212.671,
          214.469,
          216.385,
          null,
          null,
          null,
          null,
          null,
          null,
          null,
          null,
          null,
          null,
          null,
          null
         ],
         "yaxis": "y"
        },
        {
         "line": {
          "color": "rgb(255, 127, 14)",
          "width": 2
         },
         "marker": {
          "color": "rgb(255, 127, 14)",
          "size": 5
         },
         "mode": "lines+markers",
         "name": "ARIMA",
         "type": "scattergl",
         "x": [
          "1959-01-01T00:00:00",
          "1959-04-01T00:00:00",
          "1959-07-01T00:00:00",
          "1959-10-01T00:00:00",
          "1960-01-01T00:00:00",
          "1960-04-01T00:00:00",
          "1960-07-01T00:00:00",
          "1960-10-01T00:00:00",
          "1961-01-01T00:00:00",
          "1961-04-01T00:00:00",
          "1961-07-01T00:00:00",
          "1961-10-01T00:00:00",
          "1962-01-01T00:00:00",
          "1962-04-01T00:00:00",
          "1962-07-01T00:00:00",
          "1962-10-01T00:00:00",
          "1963-01-01T00:00:00",
          "1963-04-01T00:00:00",
          "1963-07-01T00:00:00",
          "1963-10-01T00:00:00",
          "1964-01-01T00:00:00",
          "1964-04-01T00:00:00",
          "1964-07-01T00:00:00",
          "1964-10-01T00:00:00",
          "1965-01-01T00:00:00",
          "1965-04-01T00:00:00",
          "1965-07-01T00:00:00",
          "1965-10-01T00:00:00",
          "1966-01-01T00:00:00",
          "1966-04-01T00:00:00",
          "1966-07-01T00:00:00",
          "1966-10-01T00:00:00",
          "1967-01-01T00:00:00",
          "1967-04-01T00:00:00",
          "1967-07-01T00:00:00",
          "1967-10-01T00:00:00",
          "1968-01-01T00:00:00",
          "1968-04-01T00:00:00",
          "1968-07-01T00:00:00",
          "1968-10-01T00:00:00",
          "1969-01-01T00:00:00",
          "1969-04-01T00:00:00",
          "1969-07-01T00:00:00",
          "1969-10-01T00:00:00",
          "1970-01-01T00:00:00",
          "1970-04-01T00:00:00",
          "1970-07-01T00:00:00",
          "1970-10-01T00:00:00",
          "1971-01-01T00:00:00",
          "1971-04-01T00:00:00",
          "1971-07-01T00:00:00",
          "1971-10-01T00:00:00",
          "1972-01-01T00:00:00",
          "1972-04-01T00:00:00",
          "1972-07-01T00:00:00",
          "1972-10-01T00:00:00",
          "1973-01-01T00:00:00",
          "1973-04-01T00:00:00",
          "1973-07-01T00:00:00",
          "1973-10-01T00:00:00",
          "1974-01-01T00:00:00",
          "1974-04-01T00:00:00",
          "1974-07-01T00:00:00",
          "1974-10-01T00:00:00",
          "1975-01-01T00:00:00",
          "1975-04-01T00:00:00",
          "1975-07-01T00:00:00",
          "1975-10-01T00:00:00",
          "1976-01-01T00:00:00",
          "1976-04-01T00:00:00",
          "1976-07-01T00:00:00",
          "1976-10-01T00:00:00",
          "1977-01-01T00:00:00",
          "1977-04-01T00:00:00",
          "1977-07-01T00:00:00",
          "1977-10-01T00:00:00",
          "1978-01-01T00:00:00",
          "1978-04-01T00:00:00",
          "1978-07-01T00:00:00",
          "1978-10-01T00:00:00",
          "1979-01-01T00:00:00",
          "1979-04-01T00:00:00",
          "1979-07-01T00:00:00",
          "1979-10-01T00:00:00",
          "1980-01-01T00:00:00",
          "1980-04-01T00:00:00",
          "1980-07-01T00:00:00",
          "1980-10-01T00:00:00",
          "1981-01-01T00:00:00",
          "1981-04-01T00:00:00",
          "1981-07-01T00:00:00",
          "1981-10-01T00:00:00",
          "1982-01-01T00:00:00",
          "1982-04-01T00:00:00",
          "1982-07-01T00:00:00",
          "1982-10-01T00:00:00",
          "1983-01-01T00:00:00",
          "1983-04-01T00:00:00",
          "1983-07-01T00:00:00",
          "1983-10-01T00:00:00",
          "1984-01-01T00:00:00",
          "1984-04-01T00:00:00",
          "1984-07-01T00:00:00",
          "1984-10-01T00:00:00",
          "1985-01-01T00:00:00",
          "1985-04-01T00:00:00",
          "1985-07-01T00:00:00",
          "1985-10-01T00:00:00",
          "1986-01-01T00:00:00",
          "1986-04-01T00:00:00",
          "1986-07-01T00:00:00",
          "1986-10-01T00:00:00",
          "1987-01-01T00:00:00",
          "1987-04-01T00:00:00",
          "1987-07-01T00:00:00",
          "1987-10-01T00:00:00",
          "1988-01-01T00:00:00",
          "1988-04-01T00:00:00",
          "1988-07-01T00:00:00",
          "1988-10-01T00:00:00",
          "1989-01-01T00:00:00",
          "1989-04-01T00:00:00",
          "1989-07-01T00:00:00",
          "1989-10-01T00:00:00",
          "1990-01-01T00:00:00",
          "1990-04-01T00:00:00",
          "1990-07-01T00:00:00",
          "1990-10-01T00:00:00",
          "1991-01-01T00:00:00",
          "1991-04-01T00:00:00",
          "1991-07-01T00:00:00",
          "1991-10-01T00:00:00",
          "1992-01-01T00:00:00",
          "1992-04-01T00:00:00",
          "1992-07-01T00:00:00",
          "1992-10-01T00:00:00",
          "1993-01-01T00:00:00",
          "1993-04-01T00:00:00",
          "1993-07-01T00:00:00",
          "1993-10-01T00:00:00",
          "1994-01-01T00:00:00",
          "1994-04-01T00:00:00",
          "1994-07-01T00:00:00",
          "1994-10-01T00:00:00",
          "1995-01-01T00:00:00",
          "1995-04-01T00:00:00",
          "1995-07-01T00:00:00",
          "1995-10-01T00:00:00",
          "1996-01-01T00:00:00",
          "1996-04-01T00:00:00",
          "1996-07-01T00:00:00",
          "1996-10-01T00:00:00",
          "1997-01-01T00:00:00",
          "1997-04-01T00:00:00",
          "1997-07-01T00:00:00",
          "1997-10-01T00:00:00",
          "1998-01-01T00:00:00",
          "1998-04-01T00:00:00",
          "1998-07-01T00:00:00",
          "1998-10-01T00:00:00",
          "1999-01-01T00:00:00",
          "1999-04-01T00:00:00",
          "1999-07-01T00:00:00",
          "1999-10-01T00:00:00",
          "2000-01-01T00:00:00",
          "2000-04-01T00:00:00",
          "2000-07-01T00:00:00",
          "2000-10-01T00:00:00",
          "2001-01-01T00:00:00",
          "2001-04-01T00:00:00",
          "2001-07-01T00:00:00",
          "2001-10-01T00:00:00",
          "2002-01-01T00:00:00",
          "2002-04-01T00:00:00",
          "2002-07-01T00:00:00",
          "2002-10-01T00:00:00",
          "2003-01-01T00:00:00",
          "2003-04-01T00:00:00",
          "2003-07-01T00:00:00",
          "2003-10-01T00:00:00",
          "2004-01-01T00:00:00",
          "2004-04-01T00:00:00",
          "2004-07-01T00:00:00",
          "2004-10-01T00:00:00",
          "2005-01-01T00:00:00",
          "2005-04-01T00:00:00",
          "2005-07-01T00:00:00",
          "2005-10-01T00:00:00",
          "2006-01-01T00:00:00",
          "2006-04-01T00:00:00",
          "2006-07-01T00:00:00",
          "2006-10-01T00:00:00",
          "2007-01-01T00:00:00",
          "2007-04-01T00:00:00",
          "2007-07-01T00:00:00",
          "2007-10-01T00:00:00",
          "2008-01-01T00:00:00",
          "2008-04-01T00:00:00",
          "2008-07-01T00:00:00",
          "2008-10-01T00:00:00",
          "2009-01-01T00:00:00",
          "2009-04-01T00:00:00",
          "2009-07-01T00:00:00",
          "2009-10-01T00:00:00",
          "2010-01-01T00:00:00",
          "2010-04-01T00:00:00",
          "2010-07-01T00:00:00",
          "2010-10-01T00:00:00",
          "2011-01-01T00:00:00",
          "2011-04-01T00:00:00",
          "2011-07-01T00:00:00",
          "2011-10-01T00:00:00",
          "2012-01-01T00:00:00",
          "2012-04-01T00:00:00",
          "2012-07-01T00:00:00"
         ],
         "xaxis": "x",
         "y": [
          null,
          null,
          null,
          null,
          null,
          null,
          null,
          null,
          null,
          null,
          null,
          null,
          null,
          null,
          null,
          null,
          null,
          null,
          null,
          null,
          null,
          null,
          null,
          null,
          null,
          null,
          null,
          null,
          null,
          null,
          null,
          null,
          null,
          null,
          null,
          null,
          null,
          null,
          null,
          null,
          null,
          null,
          null,
          null,
          null,
          null,
          null,
          null,
          null,
          null,
          null,
          null,
          null,
          null,
          null,
          null,
          null,
          null,
          null,
          null,
          null,
          null,
          null,
          null,
          null,
          null,
          null,
          null,
          null,
          null,
          null,
          null,
          null,
          null,
          null,
          null,
          null,
          null,
          null,
          null,
          null,
          null,
          null,
          null,
          null,
          null,
          null,
          null,
          null,
          null,
          null,
          null,
          null,
          null,
          null,
          null,
          null,
          null,
          null,
          null,
          null,
          null,
          null,
          null,
          null,
          null,
          null,
          null,
          null,
          null,
          null,
          null,
          null,
          null,
          null,
          null,
          null,
          null,
          null,
          null,
          null,
          null,
          null,
          null,
          null,
          null,
          null,
          null,
          null,
          null,
          null,
          null,
          null,
          null,
          null,
          null,
          null,
          null,
          null,
          null,
          null,
          null,
          null,
          null,
          null,
          null,
          null,
          null,
          null,
          null,
          null,
          null,
          null,
          null,
          null,
          null,
          null,
          null,
          null,
          null,
          null,
          null,
          null,
          null,
          null,
          null,
          null,
          null,
          null,
          null,
          null,
          null,
          null,
          null,
          null,
          null,
          null,
          null,
          null,
          185.821,
          186.7368,
          187.6476,
          188.5537,
          189.4553,
          190.3528,
          191.2464,
          192.1361,
          193.0224,
          193.9053,
          194.7851,
          195.6618,
          196.5358,
          197.4071,
          198.2758,
          199.1422,
          200.0063,
          200.8683,
          201.7283,
          202.5864,
          203.4427,
          204.2973,
          205.1502,
          206.0017,
          206.8517,
          207.7004,
          208.5478,
          209.394,
          210.239,
          211.083,
          211.9259,
          212.7679,
          213.609,
          214.4492,
          215.2885,
          216.1271
         ],
         "yaxis": "y"
        },
        {
         "line": {
          "color": "rgb(44, 160, 44)",
          "width": 2
         },
         "marker": {
          "color": "rgb(44, 160, 44)",
          "size": 5
         },
         "mode": "lines+markers",
         "name": "ARIMA (2)",
         "type": "scattergl",
         "x": [
          "1959-01-01T00:00:00",
          "1959-04-01T00:00:00",
          "1959-07-01T00:00:00",
          "1959-10-01T00:00:00",
          "1960-01-01T00:00:00",
          "1960-04-01T00:00:00",
          "1960-07-01T00:00:00",
          "1960-10-01T00:00:00",
          "1961-01-01T00:00:00",
          "1961-04-01T00:00:00",
          "1961-07-01T00:00:00",
          "1961-10-01T00:00:00",
          "1962-01-01T00:00:00",
          "1962-04-01T00:00:00",
          "1962-07-01T00:00:00",
          "1962-10-01T00:00:00",
          "1963-01-01T00:00:00",
          "1963-04-01T00:00:00",
          "1963-07-01T00:00:00",
          "1963-10-01T00:00:00",
          "1964-01-01T00:00:00",
          "1964-04-01T00:00:00",
          "1964-07-01T00:00:00",
          "1964-10-01T00:00:00",
          "1965-01-01T00:00:00",
          "1965-04-01T00:00:00",
          "1965-07-01T00:00:00",
          "1965-10-01T00:00:00",
          "1966-01-01T00:00:00",
          "1966-04-01T00:00:00",
          "1966-07-01T00:00:00",
          "1966-10-01T00:00:00",
          "1967-01-01T00:00:00",
          "1967-04-01T00:00:00",
          "1967-07-01T00:00:00",
          "1967-10-01T00:00:00",
          "1968-01-01T00:00:00",
          "1968-04-01T00:00:00",
          "1968-07-01T00:00:00",
          "1968-10-01T00:00:00",
          "1969-01-01T00:00:00",
          "1969-04-01T00:00:00",
          "1969-07-01T00:00:00",
          "1969-10-01T00:00:00",
          "1970-01-01T00:00:00",
          "1970-04-01T00:00:00",
          "1970-07-01T00:00:00",
          "1970-10-01T00:00:00",
          "1971-01-01T00:00:00",
          "1971-04-01T00:00:00",
          "1971-07-01T00:00:00",
          "1971-10-01T00:00:00",
          "1972-01-01T00:00:00",
          "1972-04-01T00:00:00",
          "1972-07-01T00:00:00",
          "1972-10-01T00:00:00",
          "1973-01-01T00:00:00",
          "1973-04-01T00:00:00",
          "1973-07-01T00:00:00",
          "1973-10-01T00:00:00",
          "1974-01-01T00:00:00",
          "1974-04-01T00:00:00",
          "1974-07-01T00:00:00",
          "1974-10-01T00:00:00",
          "1975-01-01T00:00:00",
          "1975-04-01T00:00:00",
          "1975-07-01T00:00:00",
          "1975-10-01T00:00:00",
          "1976-01-01T00:00:00",
          "1976-04-01T00:00:00",
          "1976-07-01T00:00:00",
          "1976-10-01T00:00:00",
          "1977-01-01T00:00:00",
          "1977-04-01T00:00:00",
          "1977-07-01T00:00:00",
          "1977-10-01T00:00:00",
          "1978-01-01T00:00:00",
          "1978-04-01T00:00:00",
          "1978-07-01T00:00:00",
          "1978-10-01T00:00:00",
          "1979-01-01T00:00:00",
          "1979-04-01T00:00:00",
          "1979-07-01T00:00:00",
          "1979-10-01T00:00:00",
          "1980-01-01T00:00:00",
          "1980-04-01T00:00:00",
          "1980-07-01T00:00:00",
          "1980-10-01T00:00:00",
          "1981-01-01T00:00:00",
          "1981-04-01T00:00:00",
          "1981-07-01T00:00:00",
          "1981-10-01T00:00:00",
          "1982-01-01T00:00:00",
          "1982-04-01T00:00:00",
          "1982-07-01T00:00:00",
          "1982-10-01T00:00:00",
          "1983-01-01T00:00:00",
          "1983-04-01T00:00:00",
          "1983-07-01T00:00:00",
          "1983-10-01T00:00:00",
          "1984-01-01T00:00:00",
          "1984-04-01T00:00:00",
          "1984-07-01T00:00:00",
          "1984-10-01T00:00:00",
          "1985-01-01T00:00:00",
          "1985-04-01T00:00:00",
          "1985-07-01T00:00:00",
          "1985-10-01T00:00:00",
          "1986-01-01T00:00:00",
          "1986-04-01T00:00:00",
          "1986-07-01T00:00:00",
          "1986-10-01T00:00:00",
          "1987-01-01T00:00:00",
          "1987-04-01T00:00:00",
          "1987-07-01T00:00:00",
          "1987-10-01T00:00:00",
          "1988-01-01T00:00:00",
          "1988-04-01T00:00:00",
          "1988-07-01T00:00:00",
          "1988-10-01T00:00:00",
          "1989-01-01T00:00:00",
          "1989-04-01T00:00:00",
          "1989-07-01T00:00:00",
          "1989-10-01T00:00:00",
          "1990-01-01T00:00:00",
          "1990-04-01T00:00:00",
          "1990-07-01T00:00:00",
          "1990-10-01T00:00:00",
          "1991-01-01T00:00:00",
          "1991-04-01T00:00:00",
          "1991-07-01T00:00:00",
          "1991-10-01T00:00:00",
          "1992-01-01T00:00:00",
          "1992-04-01T00:00:00",
          "1992-07-01T00:00:00",
          "1992-10-01T00:00:00",
          "1993-01-01T00:00:00",
          "1993-04-01T00:00:00",
          "1993-07-01T00:00:00",
          "1993-10-01T00:00:00",
          "1994-01-01T00:00:00",
          "1994-04-01T00:00:00",
          "1994-07-01T00:00:00",
          "1994-10-01T00:00:00",
          "1995-01-01T00:00:00",
          "1995-04-01T00:00:00",
          "1995-07-01T00:00:00",
          "1995-10-01T00:00:00",
          "1996-01-01T00:00:00",
          "1996-04-01T00:00:00",
          "1996-07-01T00:00:00",
          "1996-10-01T00:00:00",
          "1997-01-01T00:00:00",
          "1997-04-01T00:00:00",
          "1997-07-01T00:00:00",
          "1997-10-01T00:00:00",
          "1998-01-01T00:00:00",
          "1998-04-01T00:00:00",
          "1998-07-01T00:00:00",
          "1998-10-01T00:00:00",
          "1999-01-01T00:00:00",
          "1999-04-01T00:00:00",
          "1999-07-01T00:00:00",
          "1999-10-01T00:00:00",
          "2000-01-01T00:00:00",
          "2000-04-01T00:00:00",
          "2000-07-01T00:00:00",
          "2000-10-01T00:00:00",
          "2001-01-01T00:00:00",
          "2001-04-01T00:00:00",
          "2001-07-01T00:00:00",
          "2001-10-01T00:00:00",
          "2002-01-01T00:00:00",
          "2002-04-01T00:00:00",
          "2002-07-01T00:00:00",
          "2002-10-01T00:00:00",
          "2003-01-01T00:00:00",
          "2003-04-01T00:00:00",
          "2003-07-01T00:00:00",
          "2003-10-01T00:00:00",
          "2004-01-01T00:00:00",
          "2004-04-01T00:00:00",
          "2004-07-01T00:00:00",
          "2004-10-01T00:00:00",
          "2005-01-01T00:00:00",
          "2005-04-01T00:00:00",
          "2005-07-01T00:00:00",
          "2005-10-01T00:00:00",
          "2006-01-01T00:00:00",
          "2006-04-01T00:00:00",
          "2006-07-01T00:00:00",
          "2006-10-01T00:00:00",
          "2007-01-01T00:00:00",
          "2007-04-01T00:00:00",
          "2007-07-01T00:00:00",
          "2007-10-01T00:00:00",
          "2008-01-01T00:00:00",
          "2008-04-01T00:00:00",
          "2008-07-01T00:00:00",
          "2008-10-01T00:00:00",
          "2009-01-01T00:00:00",
          "2009-04-01T00:00:00",
          "2009-07-01T00:00:00",
          "2009-10-01T00:00:00",
          "2010-01-01T00:00:00",
          "2010-04-01T00:00:00",
          "2010-07-01T00:00:00",
          "2010-10-01T00:00:00",
          "2011-01-01T00:00:00",
          "2011-04-01T00:00:00",
          "2011-07-01T00:00:00",
          "2011-10-01T00:00:00",
          "2012-01-01T00:00:00",
          "2012-04-01T00:00:00",
          "2012-07-01T00:00:00"
         ],
         "xaxis": "x",
         "y": [
          null,
          null,
          null,
          null,
          null,
          null,
          null,
          null,
          null,
          null,
          null,
          null,
          null,
          null,
          null,
          null,
          null,
          null,
          null,
          null,
          null,
          null,
          null,
          null,
          null,
          null,
          null,
          null,
          null,
          null,
          null,
          null,
          null,
          null,
          null,
          null,
          null,
          null,
          null,
          null,
          null,
          null,
          null,
          null,
          null,
          null,
          null,
          null,
          null,
          null,
          null,
          null,
          null,
          null,
          null,
          null,
          null,
          null,
          null,
          null,
          null,
          null,
          null,
          null,
          null,
          null,
          null,
          null,
          null,
          null,
          null,
          null,
          null,
          null,
          null,
          null,
          null,
          null,
          null,
          null,
          null,
          null,
          null,
          null,
          null,
          null,
          null,
          null,
          null,
          null,
          null,
          null,
          null,
          null,
          null,
          null,
          null,
          null,
          null,
          null,
          null,
          null,
          null,
          null,
          null,
          null,
          null,
          null,
          null,
          null,
          null,
          null,
          null,
          null,
          null,
          null,
          null,
          null,
          null,
          null,
          null,
          null,
          null,
          null,
          null,
          null,
          null,
          null,
          null,
          null,
          null,
          null,
          null,
          null,
          null,
          null,
          null,
          null,
          null,
          null,
          null,
          null,
          null,
          null,
          null,
          null,
          null,
          null,
          null,
          null,
          null,
          null,
          null,
          null,
          null,
          null,
          null,
          null,
          null,
          null,
          null,
          null,
          null,
          null,
          null,
          null,
          null,
          null,
          null,
          null,
          null,
          null,
          null,
          null,
          null,
          null,
          null,
          null,
          null,
          186.2946,
          186.8994,
          187.4099,
          188.6234,
          190.0334,
          190.6544,
          191.1816,
          192.4122,
          193.8394,
          194.4777,
          195.0223,
          196.2703,
          197.7148,
          198.3706,
          198.9326,
          200.198,
          201.66,
          202.3332,
          202.9126,
          204.1954,
          205.6748,
          206.3654,
          206.9623,
          208.2625,
          209.7593,
          210.4674,
          211.0816,
          212.3993,
          213.9135,
          214.639,
          215.2707,
          216.6058,
          218.1374,
          218.8803,
          219.5294,
          220.882
         ],
         "yaxis": "y"
        },
        {
         "line": {
          "color": "rgb(214, 39, 40)",
          "width": 2
         },
         "marker": {
          "color": "rgb(214, 39, 40)",
          "size": 5
         },
         "mode": "lines+markers",
         "name": "ARIMA (3)",
         "type": "scattergl",
         "x": [
          "1959-01-01T00:00:00",
          "1959-04-01T00:00:00",
          "1959-07-01T00:00:00",
          "1959-10-01T00:00:00",
          "1960-01-01T00:00:00",
          "1960-04-01T00:00:00",
          "1960-07-01T00:00:00",
          "1960-10-01T00:00:00",
          "1961-01-01T00:00:00",
          "1961-04-01T00:00:00",
          "1961-07-01T00:00:00",
          "1961-10-01T00:00:00",
          "1962-01-01T00:00:00",
          "1962-04-01T00:00:00",
          "1962-07-01T00:00:00",
          "1962-10-01T00:00:00",
          "1963-01-01T00:00:00",
          "1963-04-01T00:00:00",
          "1963-07-01T00:00:00",
          "1963-10-01T00:00:00",
          "1964-01-01T00:00:00",
          "1964-04-01T00:00:00",
          "1964-07-01T00:00:00",
          "1964-10-01T00:00:00",
          "1965-01-01T00:00:00",
          "1965-04-01T00:00:00",
          "1965-07-01T00:00:00",
          "1965-10-01T00:00:00",
          "1966-01-01T00:00:00",
          "1966-04-01T00:00:00",
          "1966-07-01T00:00:00",
          "1966-10-01T00:00:00",
          "1967-01-01T00:00:00",
          "1967-04-01T00:00:00",
          "1967-07-01T00:00:00",
          "1967-10-01T00:00:00",
          "1968-01-01T00:00:00",
          "1968-04-01T00:00:00",
          "1968-07-01T00:00:00",
          "1968-10-01T00:00:00",
          "1969-01-01T00:00:00",
          "1969-04-01T00:00:00",
          "1969-07-01T00:00:00",
          "1969-10-01T00:00:00",
          "1970-01-01T00:00:00",
          "1970-04-01T00:00:00",
          "1970-07-01T00:00:00",
          "1970-10-01T00:00:00",
          "1971-01-01T00:00:00",
          "1971-04-01T00:00:00",
          "1971-07-01T00:00:00",
          "1971-10-01T00:00:00",
          "1972-01-01T00:00:00",
          "1972-04-01T00:00:00",
          "1972-07-01T00:00:00",
          "1972-10-01T00:00:00",
          "1973-01-01T00:00:00",
          "1973-04-01T00:00:00",
          "1973-07-01T00:00:00",
          "1973-10-01T00:00:00",
          "1974-01-01T00:00:00",
          "1974-04-01T00:00:00",
          "1974-07-01T00:00:00",
          "1974-10-01T00:00:00",
          "1975-01-01T00:00:00",
          "1975-04-01T00:00:00",
          "1975-07-01T00:00:00",
          "1975-10-01T00:00:00",
          "1976-01-01T00:00:00",
          "1976-04-01T00:00:00",
          "1976-07-01T00:00:00",
          "1976-10-01T00:00:00",
          "1977-01-01T00:00:00",
          "1977-04-01T00:00:00",
          "1977-07-01T00:00:00",
          "1977-10-01T00:00:00",
          "1978-01-01T00:00:00",
          "1978-04-01T00:00:00",
          "1978-07-01T00:00:00",
          "1978-10-01T00:00:00",
          "1979-01-01T00:00:00",
          "1979-04-01T00:00:00",
          "1979-07-01T00:00:00",
          "1979-10-01T00:00:00",
          "1980-01-01T00:00:00",
          "1980-04-01T00:00:00",
          "1980-07-01T00:00:00",
          "1980-10-01T00:00:00",
          "1981-01-01T00:00:00",
          "1981-04-01T00:00:00",
          "1981-07-01T00:00:00",
          "1981-10-01T00:00:00",
          "1982-01-01T00:00:00",
          "1982-04-01T00:00:00",
          "1982-07-01T00:00:00",
          "1982-10-01T00:00:00",
          "1983-01-01T00:00:00",
          "1983-04-01T00:00:00",
          "1983-07-01T00:00:00",
          "1983-10-01T00:00:00",
          "1984-01-01T00:00:00",
          "1984-04-01T00:00:00",
          "1984-07-01T00:00:00",
          "1984-10-01T00:00:00",
          "1985-01-01T00:00:00",
          "1985-04-01T00:00:00",
          "1985-07-01T00:00:00",
          "1985-10-01T00:00:00",
          "1986-01-01T00:00:00",
          "1986-04-01T00:00:00",
          "1986-07-01T00:00:00",
          "1986-10-01T00:00:00",
          "1987-01-01T00:00:00",
          "1987-04-01T00:00:00",
          "1987-07-01T00:00:00",
          "1987-10-01T00:00:00",
          "1988-01-01T00:00:00",
          "1988-04-01T00:00:00",
          "1988-07-01T00:00:00",
          "1988-10-01T00:00:00",
          "1989-01-01T00:00:00",
          "1989-04-01T00:00:00",
          "1989-07-01T00:00:00",
          "1989-10-01T00:00:00",
          "1990-01-01T00:00:00",
          "1990-04-01T00:00:00",
          "1990-07-01T00:00:00",
          "1990-10-01T00:00:00",
          "1991-01-01T00:00:00",
          "1991-04-01T00:00:00",
          "1991-07-01T00:00:00",
          "1991-10-01T00:00:00",
          "1992-01-01T00:00:00",
          "1992-04-01T00:00:00",
          "1992-07-01T00:00:00",
          "1992-10-01T00:00:00",
          "1993-01-01T00:00:00",
          "1993-04-01T00:00:00",
          "1993-07-01T00:00:00",
          "1993-10-01T00:00:00",
          "1994-01-01T00:00:00",
          "1994-04-01T00:00:00",
          "1994-07-01T00:00:00",
          "1994-10-01T00:00:00",
          "1995-01-01T00:00:00",
          "1995-04-01T00:00:00",
          "1995-07-01T00:00:00",
          "1995-10-01T00:00:00",
          "1996-01-01T00:00:00",
          "1996-04-01T00:00:00",
          "1996-07-01T00:00:00",
          "1996-10-01T00:00:00",
          "1997-01-01T00:00:00",
          "1997-04-01T00:00:00",
          "1997-07-01T00:00:00",
          "1997-10-01T00:00:00",
          "1998-01-01T00:00:00",
          "1998-04-01T00:00:00",
          "1998-07-01T00:00:00",
          "1998-10-01T00:00:00",
          "1999-01-01T00:00:00",
          "1999-04-01T00:00:00",
          "1999-07-01T00:00:00",
          "1999-10-01T00:00:00",
          "2000-01-01T00:00:00",
          "2000-04-01T00:00:00",
          "2000-07-01T00:00:00",
          "2000-10-01T00:00:00",
          "2001-01-01T00:00:00",
          "2001-04-01T00:00:00",
          "2001-07-01T00:00:00",
          "2001-10-01T00:00:00",
          "2002-01-01T00:00:00",
          "2002-04-01T00:00:00",
          "2002-07-01T00:00:00",
          "2002-10-01T00:00:00",
          "2003-01-01T00:00:00",
          "2003-04-01T00:00:00",
          "2003-07-01T00:00:00",
          "2003-10-01T00:00:00",
          "2004-01-01T00:00:00",
          "2004-04-01T00:00:00",
          "2004-07-01T00:00:00",
          "2004-10-01T00:00:00",
          "2005-01-01T00:00:00",
          "2005-04-01T00:00:00",
          "2005-07-01T00:00:00",
          "2005-10-01T00:00:00",
          "2006-01-01T00:00:00",
          "2006-04-01T00:00:00",
          "2006-07-01T00:00:00",
          "2006-10-01T00:00:00",
          "2007-01-01T00:00:00",
          "2007-04-01T00:00:00",
          "2007-07-01T00:00:00",
          "2007-10-01T00:00:00",
          "2008-01-01T00:00:00",
          "2008-04-01T00:00:00",
          "2008-07-01T00:00:00",
          "2008-10-01T00:00:00",
          "2009-01-01T00:00:00",
          "2009-04-01T00:00:00",
          "2009-07-01T00:00:00",
          "2009-10-01T00:00:00",
          "2010-01-01T00:00:00",
          "2010-04-01T00:00:00",
          "2010-07-01T00:00:00",
          "2010-10-01T00:00:00",
          "2011-01-01T00:00:00",
          "2011-04-01T00:00:00",
          "2011-07-01T00:00:00",
          "2011-10-01T00:00:00",
          "2012-01-01T00:00:00",
          "2012-04-01T00:00:00",
          "2012-07-01T00:00:00"
         ],
         "xaxis": "x",
         "y": [
          null,
          null,
          null,
          null,
          null,
          null,
          null,
          null,
          null,
          null,
          null,
          null,
          null,
          null,
          null,
          null,
          null,
          null,
          null,
          null,
          null,
          null,
          null,
          null,
          null,
          null,
          null,
          null,
          null,
          null,
          null,
          null,
          null,
          null,
          null,
          null,
          null,
          null,
          null,
          null,
          null,
          null,
          null,
          null,
          null,
          null,
          null,
          null,
          null,
          null,
          null,
          null,
          null,
          null,
          null,
          null,
          null,
          null,
          null,
          null,
          null,
          null,
          null,
          null,
          null,
          null,
          null,
          null,
          null,
          null,
          null,
          null,
          null,
          null,
          null,
          null,
          null,
          null,
          null,
          null,
          null,
          null,
          null,
          null,
          null,
          null,
          null,
          null,
          null,
          null,
          null,
          null,
          null,
          null,
          null,
          null,
          null,
          null,
          null,
          null,
          null,
          null,
          null,
          null,
          null,
          null,
          null,
          null,
          null,
          null,
          null,
          null,
          null,
          null,
          null,
          null,
          null,
          null,
          null,
          null,
          null,
          null,
          null,
          null,
          null,
          null,
          null,
          null,
          null,
          null,
          null,
          null,
          null,
          null,
          null,
          null,
          null,
          null,
          null,
          null,
          null,
          null,
          null,
          null,
          null,
          null,
          null,
          null,
          null,
          null,
          null,
          null,
          null,
          null,
          null,
          null,
          null,
          null,
          null,
          null,
          null,
          null,
          null,
          null,
          null,
          null,
          null,
          null,
          null,
          null,
          null,
          null,
          null,
          null,
          null,
          null,
          null,
          null,
          null,
          185.776,
          186.6519,
          187.5279,
          188.4038,
          189.2798,
          190.1557,
          191.0317,
          191.9076,
          192.7836,
          193.6596,
          194.5355,
          195.4115,
          196.2874,
          197.1634,
          198.0393,
          198.9153,
          199.7912,
          200.6672,
          201.5431,
          202.4191,
          203.2951,
          204.171,
          205.047,
          205.9229,
          206.7989,
          207.6748,
          208.5508,
          209.4267,
          210.3027,
          211.1787,
          212.0546,
          212.9306,
          213.8065,
          214.6825,
          215.5584,
          216.4344
         ],
         "yaxis": "y"
        }
       ],
       "layout": {
        "showlegend": true,
        "template": {
         "data": {
          "bar": [
           {
            "error_x": {
             "color": "rgb(51,51,51)"
            },
            "error_y": {
             "color": "rgb(51,51,51)"
            },
            "marker": {
             "line": {
              "color": "rgb(237,237,237)",
              "width": 0.5
             },
             "pattern": {
              "fillmode": "overlay",
              "size": 10,
              "solidity": 0.2
             }
            },
            "type": "bar"
           }
          ],
          "barpolar": [
           {
            "marker": {
             "line": {
              "color": "rgb(237,237,237)",
              "width": 0.5
             },
             "pattern": {
              "fillmode": "overlay",
              "size": 10,
              "solidity": 0.2
             }
            },
            "type": "barpolar"
           }
          ],
          "carpet": [
           {
            "aaxis": {
             "endlinecolor": "rgb(51,51,51)",
             "gridcolor": "white",
             "linecolor": "white",
             "minorgridcolor": "white",
             "startlinecolor": "rgb(51,51,51)"
            },
            "baxis": {
             "endlinecolor": "rgb(51,51,51)",
             "gridcolor": "white",
             "linecolor": "white",
             "minorgridcolor": "white",
             "startlinecolor": "rgb(51,51,51)"
            },
            "type": "carpet"
           }
          ],
          "choropleth": [
           {
            "colorbar": {
             "outlinewidth": 0,
             "tickcolor": "rgb(237,237,237)",
             "ticklen": 6,
             "ticks": "inside"
            },
            "type": "choropleth"
           }
          ],
          "contour": [
           {
            "colorbar": {
             "outlinewidth": 0,
             "tickcolor": "rgb(237,237,237)",
             "ticklen": 6,
             "ticks": "inside"
            },
            "colorscale": [
             [
              0,
              "rgb(20,44,66)"
             ],
             [
              1,
              "rgb(90,179,244)"
             ]
            ],
            "type": "contour"
           }
          ],
          "contourcarpet": [
           {
            "colorbar": {
             "outlinewidth": 0,
             "tickcolor": "rgb(237,237,237)",
             "ticklen": 6,
             "ticks": "inside"
            },
            "type": "contourcarpet"
           }
          ],
          "heatmap": [
           {
            "colorbar": {
             "outlinewidth": 0,
             "tickcolor": "rgb(237,237,237)",
             "ticklen": 6,
             "ticks": "inside"
            },
            "colorscale": [
             [
              0,
              "rgb(20,44,66)"
             ],
             [
              1,
              "rgb(90,179,244)"
             ]
            ],
            "type": "heatmap"
           }
          ],
          "heatmapgl": [
           {
            "colorbar": {
             "outlinewidth": 0,
             "tickcolor": "rgb(237,237,237)",
             "ticklen": 6,
             "ticks": "inside"
            },
            "colorscale": [
             [
              0,
              "rgb(20,44,66)"
             ],
             [
              1,
              "rgb(90,179,244)"
             ]
            ],
            "type": "heatmapgl"
           }
          ],
          "histogram": [
           {
            "marker": {
             "pattern": {
              "fillmode": "overlay",
              "size": 10,
              "solidity": 0.2
             }
            },
            "type": "histogram"
           }
          ],
          "histogram2d": [
           {
            "colorbar": {
             "outlinewidth": 0,
             "tickcolor": "rgb(237,237,237)",
             "ticklen": 6,
             "ticks": "inside"
            },
            "colorscale": [
             [
              0,
              "rgb(20,44,66)"
             ],
             [
              1,
              "rgb(90,179,244)"
             ]
            ],
            "type": "histogram2d"
           }
          ],
          "histogram2dcontour": [
           {
            "colorbar": {
             "outlinewidth": 0,
             "tickcolor": "rgb(237,237,237)",
             "ticklen": 6,
             "ticks": "inside"
            },
            "colorscale": [
             [
              0,
              "rgb(20,44,66)"
             ],
             [
              1,
              "rgb(90,179,244)"
             ]
            ],
            "type": "histogram2dcontour"
           }
          ],
          "mesh3d": [
           {
            "colorbar": {
             "outlinewidth": 0,
             "tickcolor": "rgb(237,237,237)",
             "ticklen": 6,
             "ticks": "inside"
            },
            "type": "mesh3d"
           }
          ],
          "parcoords": [
           {
            "line": {
             "colorbar": {
              "outlinewidth": 0,
              "tickcolor": "rgb(237,237,237)",
              "ticklen": 6,
              "ticks": "inside"
             }
            },
            "type": "parcoords"
           }
          ],
          "pie": [
           {
            "automargin": true,
            "type": "pie"
           }
          ],
          "scatter": [
           {
            "fillpattern": {
             "fillmode": "overlay",
             "size": 10,
             "solidity": 0.2
            },
            "type": "scatter"
           }
          ],
          "scatter3d": [
           {
            "line": {
             "colorbar": {
              "outlinewidth": 0,
              "tickcolor": "rgb(237,237,237)",
              "ticklen": 6,
              "ticks": "inside"
             }
            },
            "marker": {
             "colorbar": {
              "outlinewidth": 0,
              "tickcolor": "rgb(237,237,237)",
              "ticklen": 6,
              "ticks": "inside"
             }
            },
            "type": "scatter3d"
           }
          ],
          "scattercarpet": [
           {
            "marker": {
             "colorbar": {
              "outlinewidth": 0,
              "tickcolor": "rgb(237,237,237)",
              "ticklen": 6,
              "ticks": "inside"
             }
            },
            "type": "scattercarpet"
           }
          ],
          "scattergeo": [
           {
            "marker": {
             "colorbar": {
              "outlinewidth": 0,
              "tickcolor": "rgb(237,237,237)",
              "ticklen": 6,
              "ticks": "inside"
             }
            },
            "type": "scattergeo"
           }
          ],
          "scattergl": [
           {
            "marker": {
             "colorbar": {
              "outlinewidth": 0,
              "tickcolor": "rgb(237,237,237)",
              "ticklen": 6,
              "ticks": "inside"
             }
            },
            "type": "scattergl"
           }
          ],
          "scattermapbox": [
           {
            "marker": {
             "colorbar": {
              "outlinewidth": 0,
              "tickcolor": "rgb(237,237,237)",
              "ticklen": 6,
              "ticks": "inside"
             }
            },
            "type": "scattermapbox"
           }
          ],
          "scatterpolar": [
           {
            "marker": {
             "colorbar": {
              "outlinewidth": 0,
              "tickcolor": "rgb(237,237,237)",
              "ticklen": 6,
              "ticks": "inside"
             }
            },
            "type": "scatterpolar"
           }
          ],
          "scatterpolargl": [
           {
            "marker": {
             "colorbar": {
              "outlinewidth": 0,
              "tickcolor": "rgb(237,237,237)",
              "ticklen": 6,
              "ticks": "inside"
             }
            },
            "type": "scatterpolargl"
           }
          ],
          "scatterternary": [
           {
            "marker": {
             "colorbar": {
              "outlinewidth": 0,
              "tickcolor": "rgb(237,237,237)",
              "ticklen": 6,
              "ticks": "inside"
             }
            },
            "type": "scatterternary"
           }
          ],
          "surface": [
           {
            "colorbar": {
             "outlinewidth": 0,
             "tickcolor": "rgb(237,237,237)",
             "ticklen": 6,
             "ticks": "inside"
            },
            "colorscale": [
             [
              0,
              "rgb(20,44,66)"
             ],
             [
              1,
              "rgb(90,179,244)"
             ]
            ],
            "type": "surface"
           }
          ],
          "table": [
           {
            "cells": {
             "fill": {
              "color": "rgb(237,237,237)"
             },
             "line": {
              "color": "white"
             }
            },
            "header": {
             "fill": {
              "color": "rgb(217,217,217)"
             },
             "line": {
              "color": "white"
             }
            },
            "type": "table"
           }
          ]
         },
         "layout": {
          "annotationdefaults": {
           "arrowhead": 0,
           "arrowwidth": 1
          },
          "autotypenumbers": "strict",
          "coloraxis": {
           "colorbar": {
            "outlinewidth": 0,
            "tickcolor": "rgb(237,237,237)",
            "ticklen": 6,
            "ticks": "inside"
           }
          },
          "colorscale": {
           "sequential": [
            [
             0,
             "rgb(20,44,66)"
            ],
            [
             1,
             "rgb(90,179,244)"
            ]
           ],
           "sequentialminus": [
            [
             0,
             "rgb(20,44,66)"
            ],
            [
             1,
             "rgb(90,179,244)"
            ]
           ]
          },
          "colorway": [
           "#F8766D",
           "#A3A500",
           "#00BF7D",
           "#00B0F6",
           "#E76BF3"
          ],
          "font": {
           "color": "rgb(51,51,51)"
          },
          "geo": {
           "bgcolor": "white",
           "lakecolor": "white",
           "landcolor": "rgb(237,237,237)",
           "showlakes": true,
           "showland": true,
           "subunitcolor": "white"
          },
          "hoverlabel": {
           "align": "left"
          },
          "hovermode": "closest",
          "paper_bgcolor": "white",
          "plot_bgcolor": "rgb(237,237,237)",
          "polar": {
           "angularaxis": {
            "gridcolor": "white",
            "linecolor": "white",
            "showgrid": true,
            "tickcolor": "rgb(51,51,51)",
            "ticks": "outside"
           },
           "bgcolor": "rgb(237,237,237)",
           "radialaxis": {
            "gridcolor": "white",
            "linecolor": "white",
            "showgrid": true,
            "tickcolor": "rgb(51,51,51)",
            "ticks": "outside"
           }
          },
          "scene": {
           "xaxis": {
            "backgroundcolor": "rgb(237,237,237)",
            "gridcolor": "white",
            "gridwidth": 2,
            "linecolor": "white",
            "showbackground": true,
            "showgrid": true,
            "tickcolor": "rgb(51,51,51)",
            "ticks": "outside",
            "zerolinecolor": "white"
           },
           "yaxis": {
            "backgroundcolor": "rgb(237,237,237)",
            "gridcolor": "white",
            "gridwidth": 2,
            "linecolor": "white",
            "showbackground": true,
            "showgrid": true,
            "tickcolor": "rgb(51,51,51)",
            "ticks": "outside",
            "zerolinecolor": "white"
           },
           "zaxis": {
            "backgroundcolor": "rgb(237,237,237)",
            "gridcolor": "white",
            "gridwidth": 2,
            "linecolor": "white",
            "showbackground": true,
            "showgrid": true,
            "tickcolor": "rgb(51,51,51)",
            "ticks": "outside",
            "zerolinecolor": "white"
           }
          },
          "shapedefaults": {
           "fillcolor": "black",
           "line": {
            "width": 0
           },
           "opacity": 0.3
          },
          "ternary": {
           "aaxis": {
            "gridcolor": "white",
            "linecolor": "white",
            "showgrid": true,
            "tickcolor": "rgb(51,51,51)",
            "ticks": "outside"
           },
           "baxis": {
            "gridcolor": "white",
            "linecolor": "white",
            "showgrid": true,
            "tickcolor": "rgb(51,51,51)",
            "ticks": "outside"
           },
           "bgcolor": "rgb(237,237,237)",
           "caxis": {
            "gridcolor": "white",
            "linecolor": "white",
            "showgrid": true,
            "tickcolor": "rgb(51,51,51)",
            "ticks": "outside"
           }
          },
          "xaxis": {
           "automargin": true,
           "gridcolor": "white",
           "linecolor": "white",
           "showgrid": true,
           "tickcolor": "rgb(51,51,51)",
           "ticks": "outside",
           "title": {
            "standoff": 15
           },
           "zerolinecolor": "white"
          },
          "yaxis": {
           "automargin": true,
           "gridcolor": "white",
           "linecolor": "white",
           "showgrid": true,
           "tickcolor": "rgb(51,51,51)",
           "ticks": "outside",
           "title": {
            "standoff": 15
           },
           "zerolinecolor": "white"
          }
         }
        },
        "title": {
         "text": "Actual vs. Forecast (Out-of-Sample)"
        },
        "xaxis": {
         "anchor": "y",
         "domain": [
          0,
          1
         ]
        },
        "yaxis": {
         "anchor": "x",
         "domain": [
          0,
          1
         ]
        }
       }
      }
     },
     "metadata": {},
     "output_type": "display_data"
    }
   ],
   "source": [
    "exp.plot_model(my_models, plot='forecast', data_kwargs={\"fh\": 36})"
   ]
  },
  {
   "cell_type": "code",
   "execution_count": 29,
   "metadata": {},
   "outputs": [
    {
     "data": {
      "application/vnd.plotly.v1+json": {
       "config": {
        "plotlyServerURL": "https://plot.ly"
       },
       "data": [
        {
         "line": {
          "color": "rgb(31, 119, 180)",
          "width": 2
         },
         "marker": {
          "color": "rgb(31, 119, 180)",
          "size": 5
         },
         "mode": "lines+markers",
         "name": "ARIMA",
         "showlegend": false,
         "type": "scattergl",
         "x": [
          "1959-04-01T00:00:00",
          "1959-07-01T00:00:00",
          "1959-10-01T00:00:00",
          "1960-01-01T00:00:00",
          "1960-04-01T00:00:00",
          "1960-07-01T00:00:00",
          "1960-10-01T00:00:00",
          "1961-01-01T00:00:00",
          "1961-04-01T00:00:00",
          "1961-07-01T00:00:00",
          "1961-10-01T00:00:00",
          "1962-01-01T00:00:00",
          "1962-04-01T00:00:00",
          "1962-07-01T00:00:00",
          "1962-10-01T00:00:00",
          "1963-01-01T00:00:00",
          "1963-04-01T00:00:00",
          "1963-07-01T00:00:00",
          "1963-10-01T00:00:00",
          "1964-01-01T00:00:00",
          "1964-04-01T00:00:00",
          "1964-07-01T00:00:00",
          "1964-10-01T00:00:00",
          "1965-01-01T00:00:00",
          "1965-04-01T00:00:00",
          "1965-07-01T00:00:00",
          "1965-10-01T00:00:00",
          "1966-01-01T00:00:00",
          "1966-04-01T00:00:00",
          "1966-07-01T00:00:00",
          "1966-10-01T00:00:00",
          "1967-01-01T00:00:00",
          "1967-04-01T00:00:00",
          "1967-07-01T00:00:00",
          "1967-10-01T00:00:00",
          "1968-01-01T00:00:00",
          "1968-04-01T00:00:00",
          "1968-07-01T00:00:00",
          "1968-10-01T00:00:00",
          "1969-01-01T00:00:00",
          "1969-04-01T00:00:00",
          "1969-07-01T00:00:00",
          "1969-10-01T00:00:00",
          "1970-01-01T00:00:00",
          "1970-04-01T00:00:00",
          "1970-07-01T00:00:00",
          "1970-10-01T00:00:00",
          "1971-01-01T00:00:00",
          "1971-04-01T00:00:00",
          "1971-07-01T00:00:00",
          "1971-10-01T00:00:00",
          "1972-01-01T00:00:00",
          "1972-04-01T00:00:00",
          "1972-07-01T00:00:00",
          "1972-10-01T00:00:00",
          "1973-01-01T00:00:00",
          "1973-04-01T00:00:00",
          "1973-07-01T00:00:00",
          "1973-10-01T00:00:00",
          "1974-01-01T00:00:00",
          "1974-04-01T00:00:00",
          "1974-07-01T00:00:00",
          "1974-10-01T00:00:00",
          "1975-01-01T00:00:00",
          "1975-04-01T00:00:00",
          "1975-07-01T00:00:00",
          "1975-10-01T00:00:00",
          "1976-01-01T00:00:00",
          "1976-04-01T00:00:00",
          "1976-07-01T00:00:00",
          "1976-10-01T00:00:00",
          "1977-01-01T00:00:00",
          "1977-04-01T00:00:00",
          "1977-07-01T00:00:00",
          "1977-10-01T00:00:00",
          "1978-01-01T00:00:00",
          "1978-04-01T00:00:00",
          "1978-07-01T00:00:00",
          "1978-10-01T00:00:00",
          "1979-01-01T00:00:00",
          "1979-04-01T00:00:00",
          "1979-07-01T00:00:00",
          "1979-10-01T00:00:00",
          "1980-01-01T00:00:00",
          "1980-04-01T00:00:00",
          "1980-07-01T00:00:00",
          "1980-10-01T00:00:00",
          "1981-01-01T00:00:00",
          "1981-04-01T00:00:00",
          "1981-07-01T00:00:00",
          "1981-10-01T00:00:00",
          "1982-01-01T00:00:00",
          "1982-04-01T00:00:00",
          "1982-07-01T00:00:00",
          "1982-10-01T00:00:00",
          "1983-01-01T00:00:00",
          "1983-04-01T00:00:00",
          "1983-07-01T00:00:00",
          "1983-10-01T00:00:00",
          "1984-01-01T00:00:00",
          "1984-04-01T00:00:00",
          "1984-07-01T00:00:00",
          "1984-10-01T00:00:00",
          "1985-01-01T00:00:00",
          "1985-04-01T00:00:00",
          "1985-07-01T00:00:00",
          "1985-10-01T00:00:00",
          "1986-01-01T00:00:00",
          "1986-04-01T00:00:00",
          "1986-07-01T00:00:00",
          "1986-10-01T00:00:00",
          "1987-01-01T00:00:00",
          "1987-04-01T00:00:00",
          "1987-07-01T00:00:00",
          "1987-10-01T00:00:00",
          "1988-01-01T00:00:00",
          "1988-04-01T00:00:00",
          "1988-07-01T00:00:00",
          "1988-10-01T00:00:00",
          "1989-01-01T00:00:00",
          "1989-04-01T00:00:00",
          "1989-07-01T00:00:00",
          "1989-10-01T00:00:00",
          "1990-01-01T00:00:00",
          "1990-04-01T00:00:00",
          "1990-07-01T00:00:00",
          "1990-10-01T00:00:00",
          "1991-01-01T00:00:00",
          "1991-04-01T00:00:00",
          "1991-07-01T00:00:00",
          "1991-10-01T00:00:00",
          "1992-01-01T00:00:00",
          "1992-04-01T00:00:00",
          "1992-07-01T00:00:00",
          "1992-10-01T00:00:00",
          "1993-01-01T00:00:00",
          "1993-04-01T00:00:00",
          "1993-07-01T00:00:00",
          "1993-10-01T00:00:00",
          "1994-01-01T00:00:00",
          "1994-04-01T00:00:00",
          "1994-07-01T00:00:00",
          "1994-10-01T00:00:00",
          "1995-01-01T00:00:00",
          "1995-04-01T00:00:00",
          "1995-07-01T00:00:00",
          "1995-10-01T00:00:00",
          "1996-01-01T00:00:00",
          "1996-04-01T00:00:00",
          "1996-07-01T00:00:00",
          "1996-10-01T00:00:00",
          "1997-01-01T00:00:00",
          "1997-04-01T00:00:00",
          "1997-07-01T00:00:00",
          "1997-10-01T00:00:00",
          "1998-01-01T00:00:00",
          "1998-04-01T00:00:00",
          "1998-07-01T00:00:00",
          "1998-10-01T00:00:00",
          "1999-01-01T00:00:00",
          "1999-04-01T00:00:00",
          "1999-07-01T00:00:00",
          "1999-10-01T00:00:00",
          "2000-01-01T00:00:00",
          "2000-04-01T00:00:00",
          "2000-07-01T00:00:00",
          "2000-10-01T00:00:00",
          "2001-01-01T00:00:00",
          "2001-04-01T00:00:00",
          "2001-07-01T00:00:00",
          "2001-10-01T00:00:00",
          "2002-01-01T00:00:00",
          "2002-04-01T00:00:00",
          "2002-07-01T00:00:00",
          "2002-10-01T00:00:00",
          "2003-01-01T00:00:00",
          "2003-04-01T00:00:00",
          "2003-07-01T00:00:00"
         ],
         "xaxis": "x",
         "y": [
          -0.6553000000000004,
          -0.18579999999999686,
          -0.3069999999999986,
          -0.0666000000000011,
          -0.23470000000000013,
          0.0069000000000016826,
          -0.1402000000000001,
          -0.24340000000000117,
          -0.05129999999999768,
          -0.11959999999999837,
          -0.11289999999999978,
          0.0010000000000012221,
          -0.19529999999999959,
          -0.010600000000000165,
          -0.1427999999999976,
          -0.14669999999999916,
          0.03990000000000293,
          -0.1600999999999999,
          -0.00689999999999813,
          -0.21890000000000143,
          -0.11459999999999937,
          -0.07939999999999969,
          -0.026899999999997704,
          -0.11240000000000094,
          -0.006500000000002615,
          -0.16810000000000258,
          0.018799999999998818,
          0.14849999999999852,
          -0.16519999999999868,
          0.09609999999999985,
          -0.31629999999999825,
          -0.08019999999999783,
          0.018099999999996896,
          -0.018000000000000682,
          0.06050000000000466,
          -0.08740000000000236,
          0.11929999999999552,
          -0.047100000000000364,
          -0.05119999999999436,
          0.14629999999999654,
          -0.025600000000004286,
          -0.03300000000000125,
          0.06259999999999621,
          0.024799999999999045,
          -0.19770000000000465,
          -0.040600000000004854,
          -0.04189999999999827,
          -0.34270000000000067,
          0.062400000000003786,
          -0.18080000000000496,
          -0.136099999999999,
          -0.10949999999999704,
          -0.09380000000000166,
          0.015600000000006276,
          0.08590000000000231,
          0.5331000000000046,
          -0.17419999999999902,
          0.7788000000000039,
          0.29349999999999454,
          0.29469999999999885,
          0.10079999999999956,
          0.5803999999999974,
          -0.007800000000003138,
          -0.5786000000000016,
          -0.05010000000000048,
          -0.12010000000000076,
          -0.0671999999999997,
          -0.6356999999999999,
          0.19409999999999883,
          0.1191999999999993,
          -0.025199999999998113,
          0.4836999999999989,
          -0.18710000000000093,
          -0.11229999999999762,
          0.23199999999999932,
          0.25269999999999726,
          0.5704000000000065,
          0.3808999999999969,
          0.06839999999999691,
          0.7720999999999947,
          0.8278999999999996,
          0.3774999999999977,
          0.8992999999999967,
          0.741800000000012,
          -0.6462000000000074,
          0.06459999999999866,
          0.5083000000000055,
          -0.2067000000000121,
          0.4363000000000028,
          -0.1547999999999945,
          -0.9328999999999894,
          -0.943799999999996,
          1.3277999999999963,
          -1.0205000000000126,
          -1.4176999999999964,
          0.20279999999999632,
          0.22440000000000282,
          0.14269999999999072,
          0.3941999999999979,
          0.15989999999999327,
          -0.28460000000001173,
          0.029799999999994498,
          -0.372799999999998,
          0.46649999999999636,
          -0.2972000000000037,
          -0.08320000000000505,
          0.5493000000000023,
          -2.2426999999999992,
          0.5585999999999984,
          0.23000000000000398,
          0.6295000000000073,
          0.4939999999999998,
          0.11910000000000309,
          0.1856999999999971,
          -0.06929999999999836,
          0.16850000000000875,
          0.22050000000000125,
          0.2568000000000126,
          0.08389999999999986,
          0.6757999999999953,
          -0.04019999999999868,
          -0.4923000000000002,
          0.9120999999999952,
          -0.08910000000000196,
          0.1786999999999921,
          1.4484999999999957,
          -0.6270000000000095,
          -1.245900000000006,
          -0.0624000000000251,
          -0.12190000000001078,
          0.03720000000001278,
          0.03720000000001278,
          0.03710000000000946,
          0.13709999999997535,
          0.00190000000000623,
          -0.08379999999999654,
          -0.34010000000000673,
          0.19139999999998736,
          -0.27139999999999986,
          0.032099999999985585,
          0.3231000000000108,
          0.012200000000007094,
          0.116800000000012,
          0.2844000000000051,
          -0.3053000000000168,
          -0.08250000000001023,
          0.2552000000000021,
          0.37189999999998236,
          -0.24789999999998713,
          0.15709999999998558,
          0.11369999999999436,
          -0.6119999999999948,
          -0.3808999999999969,
          0.3562000000000012,
          -0.37360000000001037,
          -0.5395000000000039,
          0.445699999999988,
          -0.025999999999982037,
          0.077699999999993,
          0.44470000000001164,
          -0.11570000000000391,
          0.5300000000000011,
          0.1459000000000117,
          0.5071000000000083,
          0.5432999999999879,
          -0.2242999999999995,
          0.38749999999998863,
          -0.6221999999999923,
          -0.1705000000000041,
          -0.8915000000000077,
          -0.6632000000000176,
          1.0668000000000006,
          -0.22470000000001278,
          0.3598999999999819,
          0.4339999999999975,
          -0.5110000000000241,
          -0.41550000000000864,
          0.4356999999999971
         ],
         "yaxis": "y"
        },
        {
         "hoverinfo": "text",
         "hovertext": [
          "Freq: 0.0056<br>Ampl: -5.1627<br>Time period: 178.0",
          "Freq: 0.0112<br>Ampl: -5.5154<br>Time period: 89.0",
          "Freq: 0.0169<br>Ampl: -1.1359<br>Time period: 59.3333",
          "Freq: 0.0225<br>Ampl: 1.3189<br>Time period: 44.5",
          "Freq: 0.0281<br>Ampl: 2.0836<br>Time period: 35.6",
          "Freq: 0.0337<br>Ampl: 1.4964<br>Time period: 29.6667",
          "Freq: 0.0393<br>Ampl: -0.2346<br>Time period: 25.4286",
          "Freq: 0.0449<br>Ampl: 1.6596<br>Time period: 22.25",
          "Freq: 0.0506<br>Ampl: 2.326<br>Time period: 19.7778",
          "Freq: 0.0562<br>Ampl: -1.1278<br>Time period: 17.8",
          "Freq: 0.0618<br>Ampl: -5.9092<br>Time period: 16.1818",
          "Freq: 0.0674<br>Ampl: -3.9524<br>Time period: 14.8333",
          "Freq: 0.073<br>Ampl: -1.9482<br>Time period: 13.6923",
          "Freq: 0.0787<br>Ampl: -3.1583<br>Time period: 12.7143",
          "Freq: 0.0843<br>Ampl: -9.7698<br>Time period: 11.8667",
          "Freq: 0.0899<br>Ampl: -4.7094<br>Time period: 11.125",
          "Freq: 0.0955<br>Ampl: -2.6241<br>Time period: 10.4706",
          "Freq: 0.1011<br>Ampl: -6.5604<br>Time period: 9.8889",
          "Freq: 0.1067<br>Ampl: -11.3657<br>Time period: 9.3684",
          "Freq: 0.1124<br>Ampl: -8.0804<br>Time period: 8.9",
          "Freq: 0.118<br>Ampl: -10.15<br>Time period: 8.4762",
          "Freq: 0.1236<br>Ampl: -13.382<br>Time period: 8.0909",
          "Freq: 0.1292<br>Ampl: -6.8281<br>Time period: 7.7391",
          "Freq: 0.1348<br>Ampl: -2.7416<br>Time period: 7.4167",
          "Freq: 0.1404<br>Ampl: -0.7881<br>Time period: 7.12",
          "Freq: 0.1461<br>Ampl: -1.38<br>Time period: 6.8462",
          "Freq: 0.1517<br>Ampl: -4.3243<br>Time period: 6.5926",
          "Freq: 0.1573<br>Ampl: -4.0841<br>Time period: 6.3571",
          "Freq: 0.1629<br>Ampl: -2.1271<br>Time period: 6.1379",
          "Freq: 0.1685<br>Ampl: -1.5583<br>Time period: 5.9333",
          "Freq: 0.1742<br>Ampl: -1.2702<br>Time period: 5.7419",
          "Freq: 0.1798<br>Ampl: 0.5217<br>Time period: 5.5625",
          "Freq: 0.1854<br>Ampl: 0.9177<br>Time period: 5.3939",
          "Freq: 0.191<br>Ampl: -2.3934<br>Time period: 5.2353",
          "Freq: 0.1966<br>Ampl: -9.9745<br>Time period: 5.0857",
          "Freq: 0.2022<br>Ampl: -7.8934<br>Time period: 4.9444",
          "Freq: 0.2079<br>Ampl: -4.65<br>Time period: 4.8108",
          "Freq: 0.2135<br>Ampl: -2.444<br>Time period: 4.6842",
          "Freq: 0.2191<br>Ampl: -0.5135<br>Time period: 4.5641",
          "Freq: 0.2247<br>Ampl: -0.1755<br>Time period: 4.45",
          "Freq: 0.2303<br>Ampl: -0.4059<br>Time period: 4.3415",
          "Freq: 0.236<br>Ampl: -0.8295<br>Time period: 4.2381",
          "Freq: 0.2416<br>Ampl: -2.6096<br>Time period: 4.1395",
          "Freq: 0.2472<br>Ampl: -4.5374<br>Time period: 4.0455",
          "Freq: 0.2528<br>Ampl: -7.6498<br>Time period: 3.9556",
          "Freq: 0.2584<br>Ampl: -9.2125<br>Time period: 3.8696",
          "Freq: 0.264<br>Ampl: -5.0094<br>Time period: 3.7872",
          "Freq: 0.2697<br>Ampl: -6.5343<br>Time period: 3.7083",
          "Freq: 0.2753<br>Ampl: -10.9761<br>Time period: 3.6327",
          "Freq: 0.2809<br>Ampl: -5.4828<br>Time period: 3.56",
          "Freq: 0.2865<br>Ampl: -1.3823<br>Time period: 3.4902",
          "Freq: 0.2921<br>Ampl: 3.5572<br>Time period: 3.4231",
          "Freq: 0.2978<br>Ampl: 5.3626<br>Time period: 3.3585",
          "Freq: 0.3034<br>Ampl: 4.3834<br>Time period: 3.2963",
          "Freq: 0.309<br>Ampl: 2.8179<br>Time period: 3.2364",
          "Freq: 0.3146<br>Ampl: 1.4039<br>Time period: 3.1786",
          "Freq: 0.3202<br>Ampl: -1.4427<br>Time period: 3.1228",
          "Freq: 0.3258<br>Ampl: 1.1128<br>Time period: 3.069",
          "Freq: 0.3315<br>Ampl: 1.8378<br>Time period: 3.0169",
          "Freq: 0.3371<br>Ampl: -0.8788<br>Time period: 2.9667",
          "Freq: 0.3427<br>Ampl: -3.5388<br>Time period: 2.918",
          "Freq: 0.3483<br>Ampl: -0.0487<br>Time period: 2.871",
          "Freq: 0.3539<br>Ampl: 1.2175<br>Time period: 2.8254",
          "Freq: 0.3596<br>Ampl: -0.6759<br>Time period: 2.7812",
          "Freq: 0.3652<br>Ampl: -0.5955<br>Time period: 2.7385",
          "Freq: 0.3708<br>Ampl: 1.1668<br>Time period: 2.697",
          "Freq: 0.3764<br>Ampl: 1.4888<br>Time period: 2.6567",
          "Freq: 0.382<br>Ampl: -0.9508<br>Time period: 2.6176",
          "Freq: 0.3876<br>Ampl: -5.264<br>Time period: 2.5797",
          "Freq: 0.3933<br>Ampl: -7.2351<br>Time period: 2.5429",
          "Freq: 0.3989<br>Ampl: -5.8424<br>Time period: 2.507",
          "Freq: 0.4045<br>Ampl: -3.929<br>Time period: 2.4722",
          "Freq: 0.4101<br>Ampl: -4.9831<br>Time period: 2.4384",
          "Freq: 0.4157<br>Ampl: -9.5922<br>Time period: 2.4054",
          "Freq: 0.4213<br>Ampl: -4.4126<br>Time period: 2.3733",
          "Freq: 0.427<br>Ampl: 1.0331<br>Time period: 2.3421",
          "Freq: 0.4326<br>Ampl: 1.8296<br>Time period: 2.3117",
          "Freq: 0.4382<br>Ampl: -1.0058<br>Time period: 2.2821",
          "Freq: 0.4438<br>Ampl: -1.3762<br>Time period: 2.2532",
          "Freq: 0.4494<br>Ampl: 0.7669<br>Time period: 2.225",
          "Freq: 0.4551<br>Ampl: -0.3038<br>Time period: 2.1975",
          "Freq: 0.4607<br>Ampl: -6.3265<br>Time period: 2.1707",
          "Freq: 0.4663<br>Ampl: -26.1101<br>Time period: 2.1446",
          "Freq: 0.4719<br>Ampl: -17.7721<br>Time period: 2.119",
          "Freq: 0.4775<br>Ampl: -20.8866<br>Time period: 2.0941",
          "Freq: 0.4831<br>Ampl: -8.7946<br>Time period: 2.0698",
          "Freq: 0.4888<br>Ampl: -4.5498<br>Time period: 2.046",
          "Freq: 0.4944<br>Ampl: -5.0531<br>Time period: 2.0227",
          "Freq: 0.5<br>Ampl: -9.5188<br>Time period: 2.0"
         ],
         "line": {
          "color": "#1f77b4",
          "width": 2
         },
         "marker": {
          "size": 5
         },
         "mode": "lines+markers",
         "name": "ARIMA",
         "showlegend": false,
         "type": "scattergl",
         "x": [
          0.0056179775280898875,
          0.011235955056179775,
          0.016853932584269662,
          0.02247191011235955,
          0.028089887640449437,
          0.033707865168539325,
          0.03932584269662921,
          0.0449438202247191,
          0.05056179775280899,
          0.056179775280898875,
          0.06179775280898876,
          0.06741573033707865,
          0.07303370786516854,
          0.07865168539325842,
          0.08426966292134831,
          0.0898876404494382,
          0.09550561797752809,
          0.10112359550561797,
          0.10674157303370786,
          0.11235955056179775,
          0.11797752808988764,
          0.12359550561797752,
          0.1292134831460674,
          0.1348314606741573,
          0.1404494382022472,
          0.14606741573033707,
          0.15168539325842695,
          0.15730337078651685,
          0.16292134831460675,
          0.16853932584269662,
          0.1741573033707865,
          0.1797752808988764,
          0.1853932584269663,
          0.19101123595505617,
          0.19662921348314605,
          0.20224719101123595,
          0.20786516853932585,
          0.21348314606741572,
          0.2191011235955056,
          0.2247191011235955,
          0.2303370786516854,
          0.23595505617977527,
          0.24157303370786515,
          0.24719101123595505,
          0.25280898876404495,
          0.2584269662921348,
          0.2640449438202247,
          0.2696629213483146,
          0.2752808988764045,
          0.2808988764044944,
          0.28651685393258425,
          0.29213483146067415,
          0.29775280898876405,
          0.3033707865168539,
          0.3089887640449438,
          0.3146067415730337,
          0.3202247191011236,
          0.3258426966292135,
          0.33146067415730335,
          0.33707865168539325,
          0.34269662921348315,
          0.348314606741573,
          0.3539325842696629,
          0.3595505617977528,
          0.3651685393258427,
          0.3707865168539326,
          0.37640449438202245,
          0.38202247191011235,
          0.38764044943820225,
          0.3932584269662921,
          0.398876404494382,
          0.4044943820224719,
          0.4101123595505618,
          0.4157303370786517,
          0.42134831460674155,
          0.42696629213483145,
          0.43258426966292135,
          0.4382022471910112,
          0.4438202247191011,
          0.449438202247191,
          0.4550561797752809,
          0.4606741573033708,
          0.46629213483146065,
          0.47191011235955055,
          0.47752808988764045,
          0.4831460674157303,
          0.4887640449438202,
          0.4943820224719101,
          0.5
         ],
         "xaxis": "x2",
         "y": [
          -5.162692464065807,
          -5.515398052112088,
          -1.1359416780194285,
          1.3189121315053909,
          2.0835782580357733,
          1.4963643374276359,
          -0.23456993280428437,
          1.659577405951493,
          2.325964978436109,
          -1.1277625272175955,
          -5.909151259679218,
          -3.9523617676621137,
          -1.9481955319082331,
          -3.1582883873817487,
          -9.769840457215565,
          -4.7093872760149855,
          -2.6240697004574947,
          -6.560385857121974,
          -11.365694427506659,
          -8.080385861826436,
          -10.149960011975981,
          -13.38203610379182,
          -6.828061658906557,
          -2.741635619731644,
          -0.7881495827163353,
          -1.3800050927904959,
          -4.324300558341067,
          -4.084068162968325,
          -2.127100568714975,
          -1.5582607032637283,
          -1.270215684683433,
          0.5217367271197344,
          0.9176766035679824,
          -2.3933741386786336,
          -9.974531207467795,
          -7.893430413115739,
          -4.650008361091473,
          -2.4440193950663445,
          -0.5135352492148058,
          -0.17549197148889634,
          -0.40592725987536393,
          -0.8294762406709328,
          -2.60960006935914,
          -4.537403908035485,
          -7.649832779503955,
          -9.212488511587084,
          -5.009407309156126,
          -6.534348267440052,
          -10.976126938533195,
          -5.482816540240626,
          -1.3823487757015336,
          3.557177118732681,
          5.362630135765442,
          4.383393384792687,
          2.817911157302021,
          1.4038751892012613,
          -1.4426584040166341,
          1.1128148621363292,
          1.8377958359305169,
          -0.8788323140687553,
          -3.5388016842660015,
          -0.04867922772319135,
          1.2175018647011957,
          -0.6758520131329299,
          -0.5954975939351835,
          1.1668493668189388,
          1.4887710279926827,
          -0.9507683595521005,
          -5.263965177100227,
          -7.235109749185137,
          -5.842424946568095,
          -3.9290349831138345,
          -4.983095839790849,
          -9.592206989490862,
          -4.412621454768256,
          1.0330748920065267,
          1.8295958439193558,
          -1.005783444983504,
          -1.3761727976663711,
          0.7669123087149665,
          -0.3038232007723391,
          -6.326454302435516,
          -26.11011302558017,
          -17.772124928609983,
          -20.88663655220624,
          -8.79463856383892,
          -4.549766830369167,
          -5.053133691036002,
          -9.518804970268915
         ],
         "yaxis": "y2"
        },
        {
         "alignmentgroup": "True",
         "bingroup": "x",
         "hovertemplate": "variable=ARIMA<br>value=%{x}<br>count=%{y}<extra></extra>",
         "legendgroup": "ARIMA",
         "marker": {
          "color": "#1f77b4",
          "pattern": {
           "shape": ""
          }
         },
         "name": "ARIMA",
         "offsetgroup": "ARIMA",
         "orientation": "v",
         "showlegend": false,
         "type": "histogram",
         "x": [
          -0.6553000000000004,
          -0.18579999999999686,
          -0.3069999999999986,
          -0.0666000000000011,
          -0.23470000000000013,
          0.0069000000000016826,
          -0.1402000000000001,
          -0.24340000000000117,
          -0.05129999999999768,
          -0.11959999999999837,
          -0.11289999999999978,
          0.0010000000000012221,
          -0.19529999999999959,
          -0.010600000000000165,
          -0.1427999999999976,
          -0.14669999999999916,
          0.03990000000000293,
          -0.1600999999999999,
          -0.00689999999999813,
          -0.21890000000000143,
          -0.11459999999999937,
          -0.07939999999999969,
          -0.026899999999997704,
          -0.11240000000000094,
          -0.006500000000002615,
          -0.16810000000000258,
          0.018799999999998818,
          0.14849999999999852,
          -0.16519999999999868,
          0.09609999999999985,
          -0.31629999999999825,
          -0.08019999999999783,
          0.018099999999996896,
          -0.018000000000000682,
          0.06050000000000466,
          -0.08740000000000236,
          0.11929999999999552,
          -0.047100000000000364,
          -0.05119999999999436,
          0.14629999999999654,
          -0.025600000000004286,
          -0.03300000000000125,
          0.06259999999999621,
          0.024799999999999045,
          -0.19770000000000465,
          -0.040600000000004854,
          -0.04189999999999827,
          -0.34270000000000067,
          0.062400000000003786,
          -0.18080000000000496,
          -0.136099999999999,
          -0.10949999999999704,
          -0.09380000000000166,
          0.015600000000006276,
          0.08590000000000231,
          0.5331000000000046,
          -0.17419999999999902,
          0.7788000000000039,
          0.29349999999999454,
          0.29469999999999885,
          0.10079999999999956,
          0.5803999999999974,
          -0.007800000000003138,
          -0.5786000000000016,
          -0.05010000000000048,
          -0.12010000000000076,
          -0.0671999999999997,
          -0.6356999999999999,
          0.19409999999999883,
          0.1191999999999993,
          -0.025199999999998113,
          0.4836999999999989,
          -0.18710000000000093,
          -0.11229999999999762,
          0.23199999999999932,
          0.25269999999999726,
          0.5704000000000065,
          0.3808999999999969,
          0.06839999999999691,
          0.7720999999999947,
          0.8278999999999996,
          0.3774999999999977,
          0.8992999999999967,
          0.741800000000012,
          -0.6462000000000074,
          0.06459999999999866,
          0.5083000000000055,
          -0.2067000000000121,
          0.4363000000000028,
          -0.1547999999999945,
          -0.9328999999999894,
          -0.943799999999996,
          1.3277999999999963,
          -1.0205000000000126,
          -1.4176999999999964,
          0.20279999999999632,
          0.22440000000000282,
          0.14269999999999072,
          0.3941999999999979,
          0.15989999999999327,
          -0.28460000000001173,
          0.029799999999994498,
          -0.372799999999998,
          0.46649999999999636,
          -0.2972000000000037,
          -0.08320000000000505,
          0.5493000000000023,
          -2.2426999999999992,
          0.5585999999999984,
          0.23000000000000398,
          0.6295000000000073,
          0.4939999999999998,
          0.11910000000000309,
          0.1856999999999971,
          -0.06929999999999836,
          0.16850000000000875,
          0.22050000000000125,
          0.2568000000000126,
          0.08389999999999986,
          0.6757999999999953,
          -0.04019999999999868,
          -0.4923000000000002,
          0.9120999999999952,
          -0.08910000000000196,
          0.1786999999999921,
          1.4484999999999957,
          -0.6270000000000095,
          -1.245900000000006,
          -0.0624000000000251,
          -0.12190000000001078,
          0.03720000000001278,
          0.03720000000001278,
          0.03710000000000946,
          0.13709999999997535,
          0.00190000000000623,
          -0.08379999999999654,
          -0.34010000000000673,
          0.19139999999998736,
          -0.27139999999999986,
          0.032099999999985585,
          0.3231000000000108,
          0.012200000000007094,
          0.116800000000012,
          0.2844000000000051,
          -0.3053000000000168,
          -0.08250000000001023,
          0.2552000000000021,
          0.37189999999998236,
          -0.24789999999998713,
          0.15709999999998558,
          0.11369999999999436,
          -0.6119999999999948,
          -0.3808999999999969,
          0.3562000000000012,
          -0.37360000000001037,
          -0.5395000000000039,
          0.445699999999988,
          -0.025999999999982037,
          0.077699999999993,
          0.44470000000001164,
          -0.11570000000000391,
          0.5300000000000011,
          0.1459000000000117,
          0.5071000000000083,
          0.5432999999999879,
          -0.2242999999999995,
          0.38749999999998863,
          -0.6221999999999923,
          -0.1705000000000041,
          -0.8915000000000077,
          -0.6632000000000176,
          1.0668000000000006,
          -0.22470000000001278,
          0.3598999999999819,
          0.4339999999999975,
          -0.5110000000000241,
          -0.41550000000000864,
          0.4356999999999971
         ],
         "xaxis": "x3",
         "yaxis": "y3"
        },
        {
         "marker": {
          "color": "#1f77b4"
         },
         "mode": "markers",
         "name": "ARIMA",
         "showlegend": false,
         "type": "scattergl",
         "x": [
          -2.537235250394012,
          -2.284428355119872,
          -2.1258043573124437,
          -2.0075349091671035,
          -1.9120800929233375,
          -1.8314117679648856,
          -1.7611543004560126,
          -1.6986482745438747,
          -1.6421512672307004,
          -1.5904569433456335,
          -1.542694042954707,
          -1.498211871283548,
          -1.4565110520024178,
          -1.4171995921598977,
          -1.379963883144763,
          -1.3445489157093282,
          -1.3107443958091674,
          -1.2783747620677244,
          -1.2472918552198844,
          -1.2173694341324872,
          -1.1884990052137798,
          -1.160586603775009,
          -1.1335502771146808,
          -1.107318092783904,
          -1.08182654534094,
          -1.0570192692634173,
          -1.0328459897764093,
          -1.0092616605071927,
          -0.9862257492652906,
          -0.9637016423102523,
          -0.9416561441817515,
          -0.9200590551927113,
          -0.8988828124889383,
          -0.878102183483636,
          -0.8576940027142459,
          -0.8376369449093877,
          -0.8179113284170922,
          -0.7984989442215016,
          -0.7793829066303491,
          -0.7605475223995504,
          -0.7419781756118172,
          -0.7236612260719694,
          -0.7055839193445022,
          -0.6877343068559866,
          -0.6701011747291373,
          -0.6526739802172861,
          -0.6354427947755682,
          -0.6183982529448792,
          -0.6015315063416264,
          -0.5848341821446204,
          -0.5682983455534018,
          -0.5519164657625226,
          -0.5356813850559679,
          -0.5195862906767582,
          -0.503624689170271,
          -0.487790382937105,
          -0.4720774487634068,
          -0.4564802181242457,
          -0.44099325907956294,
          -0.42561135960297136,
          -0.41032951220172426,
          -0.3951428997018882,
          -0.3800468820864791,
          -0.3650369842863302,
          -0.35010888483399594,
          -0.33525840530024226,
          -0.3204815004408222,
          -0.3057742489884122,
          -0.29113284503092673,
          -0.27655358992303447,
          -0.26203288468266284,
          -0.24756722282868124,
          -0.2331531836198543,
          -0.21878742565862955,
          -0.20446668082640068,
          -0.1901877485196279,
          -0.17594749015863034,
          -0.16174282394302666,
          -0.14757071982971892,
          -0.13342819471101391,
          -0.11931230777198107,
          -0.10522015600747055,
          -0.0911488698803767,
          -0.07709560910375257,
          -0.06305755853025585,
          -0.04903192413316351,
          -0.03501592906382971,
          -0.02100680977098822,
          -0.00700181216772545,
          0.00700181216772545,
          0.021006809770988077,
          0.03501592906382971,
          0.049031924133163374,
          0.06305755853025585,
          0.07709560910375271,
          0.0911488698803767,
          0.10522015600747069,
          0.11931230777198107,
          0.13342819471101391,
          0.14757071982971878,
          0.16174282394302666,
          0.1759474901586302,
          0.1901877485196279,
          0.20446668082640082,
          0.21878742565862955,
          0.23315318361985443,
          0.24756722282868124,
          0.26203288468266295,
          0.2765535899230343,
          0.29113284503092673,
          0.30577424898841205,
          0.3204815004408222,
          0.33525840530024215,
          0.35010888483399594,
          0.3650369842863303,
          0.3800468820864791,
          0.39514289970188843,
          0.41032951220172414,
          0.42561135960297136,
          0.4409932590795628,
          0.4564802181242457,
          0.4720774487634066,
          0.487790382937105,
          0.5036246891702711,
          0.5195862906767582,
          0.535681385055968,
          0.5519164657625226,
          0.5682983455534018,
          0.5848341821446201,
          0.6015315063416264,
          0.618398252944879,
          0.6354427947755682,
          0.6526739802172862,
          0.6701011747291373,
          0.6877343068559866,
          0.7055839193445022,
          0.7236612260719694,
          0.7419781756118172,
          0.7605475223995504,
          0.779382906630349,
          0.7984989442215016,
          0.8179113284170925,
          0.8376369449093877,
          0.8576940027142459,
          0.878102183483636,
          0.8988828124889383,
          0.9200590551927113,
          0.9416561441817515,
          0.9637016423102523,
          0.9862257492652906,
          1.009261660507193,
          1.0328459897764093,
          1.0570192692634173,
          1.08182654534094,
          1.1073180927839048,
          1.1335502771146808,
          1.160586603775009,
          1.1884990052137798,
          1.2173694341324872,
          1.2472918552198842,
          1.2783747620677244,
          1.3107443958091678,
          1.3445489157093282,
          1.3799638831447636,
          1.4171995921598977,
          1.4565110520024183,
          1.4982118712835475,
          1.542694042954707,
          1.5904569433456328,
          1.6421512672307004,
          1.6986482745438747,
          1.7611543004560126,
          1.831411767964886,
          1.912080092923337,
          2.007534909167104,
          2.125804357312443,
          2.2844283551198723,
          2.5372352503940094
         ],
         "xaxis": "x4",
         "y": [
          -2.2426999999999992,
          -1.4176999999999964,
          -1.245900000000006,
          -1.0205000000000126,
          -0.943799999999996,
          -0.9328999999999894,
          -0.8915000000000077,
          -0.6632000000000176,
          -0.6553000000000004,
          -0.6462000000000074,
          -0.6356999999999999,
          -0.6270000000000095,
          -0.6221999999999923,
          -0.6119999999999948,
          -0.5786000000000016,
          -0.5395000000000039,
          -0.5110000000000241,
          -0.4923000000000002,
          -0.41550000000000864,
          -0.3808999999999969,
          -0.37360000000001037,
          -0.372799999999998,
          -0.34270000000000067,
          -0.34010000000000673,
          -0.31629999999999825,
          -0.3069999999999986,
          -0.3053000000000168,
          -0.2972000000000037,
          -0.28460000000001173,
          -0.27139999999999986,
          -0.24789999999998713,
          -0.24340000000000117,
          -0.23470000000000013,
          -0.22470000000001278,
          -0.2242999999999995,
          -0.21890000000000143,
          -0.2067000000000121,
          -0.19770000000000465,
          -0.19529999999999959,
          -0.18710000000000093,
          -0.18579999999999686,
          -0.18080000000000496,
          -0.17419999999999902,
          -0.1705000000000041,
          -0.16810000000000258,
          -0.16519999999999868,
          -0.1600999999999999,
          -0.1547999999999945,
          -0.14669999999999916,
          -0.1427999999999976,
          -0.1402000000000001,
          -0.136099999999999,
          -0.12190000000001078,
          -0.12010000000000076,
          -0.11959999999999837,
          -0.11570000000000391,
          -0.11459999999999937,
          -0.11289999999999978,
          -0.11240000000000094,
          -0.11229999999999762,
          -0.10949999999999704,
          -0.09380000000000166,
          -0.08910000000000196,
          -0.08740000000000236,
          -0.08379999999999654,
          -0.08320000000000505,
          -0.08250000000001023,
          -0.08019999999999783,
          -0.07939999999999969,
          -0.06929999999999836,
          -0.0671999999999997,
          -0.0666000000000011,
          -0.0624000000000251,
          -0.05129999999999768,
          -0.05119999999999436,
          -0.05010000000000048,
          -0.047100000000000364,
          -0.04189999999999827,
          -0.040600000000004854,
          -0.04019999999999868,
          -0.03300000000000125,
          -0.026899999999997704,
          -0.025999999999982037,
          -0.025600000000004286,
          -0.025199999999998113,
          -0.018000000000000682,
          -0.010600000000000165,
          -0.007800000000003138,
          -0.00689999999999813,
          -0.006500000000002615,
          0.0010000000000012221,
          0.00190000000000623,
          0.0069000000000016826,
          0.012200000000007094,
          0.015600000000006276,
          0.018099999999996896,
          0.018799999999998818,
          0.024799999999999045,
          0.029799999999994498,
          0.032099999999985585,
          0.03710000000000946,
          0.03720000000001278,
          0.03720000000001278,
          0.03990000000000293,
          0.06050000000000466,
          0.062400000000003786,
          0.06259999999999621,
          0.06459999999999866,
          0.06839999999999691,
          0.077699999999993,
          0.08389999999999986,
          0.08590000000000231,
          0.09609999999999985,
          0.10079999999999956,
          0.11369999999999436,
          0.116800000000012,
          0.11910000000000309,
          0.1191999999999993,
          0.11929999999999552,
          0.13709999999997535,
          0.14269999999999072,
          0.1459000000000117,
          0.14629999999999654,
          0.14849999999999852,
          0.15709999999998558,
          0.15989999999999327,
          0.16850000000000875,
          0.1786999999999921,
          0.1856999999999971,
          0.19139999999998736,
          0.19409999999999883,
          0.20279999999999632,
          0.22050000000000125,
          0.22440000000000282,
          0.23000000000000398,
          0.23199999999999932,
          0.25269999999999726,
          0.2552000000000021,
          0.2568000000000126,
          0.2844000000000051,
          0.29349999999999454,
          0.29469999999999885,
          0.3231000000000108,
          0.3562000000000012,
          0.3598999999999819,
          0.37189999999998236,
          0.3774999999999977,
          0.3808999999999969,
          0.38749999999998863,
          0.3941999999999979,
          0.4339999999999975,
          0.4356999999999971,
          0.4363000000000028,
          0.44470000000001164,
          0.445699999999988,
          0.46649999999999636,
          0.4836999999999989,
          0.4939999999999998,
          0.5071000000000083,
          0.5083000000000055,
          0.5300000000000011,
          0.5331000000000046,
          0.5432999999999879,
          0.5493000000000023,
          0.5585999999999984,
          0.5704000000000065,
          0.5803999999999974,
          0.6295000000000073,
          0.6757999999999953,
          0.741800000000012,
          0.7720999999999947,
          0.7788000000000039,
          0.8278999999999996,
          0.8992999999999967,
          0.9120999999999952,
          1.0668000000000006,
          1.3277999999999963,
          1.4484999999999957
         ],
         "yaxis": "y4"
        },
        {
         "line": {
          "color": "#3f3f3f"
         },
         "mode": "lines",
         "name": "ARIMA",
         "showlegend": false,
         "type": "scattergl",
         "x": [
          -2.537235250394012,
          -2.284428355119872,
          -2.1258043573124437,
          -2.0075349091671035,
          -1.9120800929233375,
          -1.8314117679648856,
          -1.7611543004560126,
          -1.6986482745438747,
          -1.6421512672307004,
          -1.5904569433456335,
          -1.542694042954707,
          -1.498211871283548,
          -1.4565110520024178,
          -1.4171995921598977,
          -1.379963883144763,
          -1.3445489157093282,
          -1.3107443958091674,
          -1.2783747620677244,
          -1.2472918552198844,
          -1.2173694341324872,
          -1.1884990052137798,
          -1.160586603775009,
          -1.1335502771146808,
          -1.107318092783904,
          -1.08182654534094,
          -1.0570192692634173,
          -1.0328459897764093,
          -1.0092616605071927,
          -0.9862257492652906,
          -0.9637016423102523,
          -0.9416561441817515,
          -0.9200590551927113,
          -0.8988828124889383,
          -0.878102183483636,
          -0.8576940027142459,
          -0.8376369449093877,
          -0.8179113284170922,
          -0.7984989442215016,
          -0.7793829066303491,
          -0.7605475223995504,
          -0.7419781756118172,
          -0.7236612260719694,
          -0.7055839193445022,
          -0.6877343068559866,
          -0.6701011747291373,
          -0.6526739802172861,
          -0.6354427947755682,
          -0.6183982529448792,
          -0.6015315063416264,
          -0.5848341821446204,
          -0.5682983455534018,
          -0.5519164657625226,
          -0.5356813850559679,
          -0.5195862906767582,
          -0.503624689170271,
          -0.487790382937105,
          -0.4720774487634068,
          -0.4564802181242457,
          -0.44099325907956294,
          -0.42561135960297136,
          -0.41032951220172426,
          -0.3951428997018882,
          -0.3800468820864791,
          -0.3650369842863302,
          -0.35010888483399594,
          -0.33525840530024226,
          -0.3204815004408222,
          -0.3057742489884122,
          -0.29113284503092673,
          -0.27655358992303447,
          -0.26203288468266284,
          -0.24756722282868124,
          -0.2331531836198543,
          -0.21878742565862955,
          -0.20446668082640068,
          -0.1901877485196279,
          -0.17594749015863034,
          -0.16174282394302666,
          -0.14757071982971892,
          -0.13342819471101391,
          -0.11931230777198107,
          -0.10522015600747055,
          -0.0911488698803767,
          -0.07709560910375257,
          -0.06305755853025585,
          -0.04903192413316351,
          -0.03501592906382971,
          -0.02100680977098822,
          -0.00700181216772545,
          0.00700181216772545,
          0.021006809770988077,
          0.03501592906382971,
          0.049031924133163374,
          0.06305755853025585,
          0.07709560910375271,
          0.0911488698803767,
          0.10522015600747069,
          0.11931230777198107,
          0.13342819471101391,
          0.14757071982971878,
          0.16174282394302666,
          0.1759474901586302,
          0.1901877485196279,
          0.20446668082640082,
          0.21878742565862955,
          0.23315318361985443,
          0.24756722282868124,
          0.26203288468266295,
          0.2765535899230343,
          0.29113284503092673,
          0.30577424898841205,
          0.3204815004408222,
          0.33525840530024215,
          0.35010888483399594,
          0.3650369842863303,
          0.3800468820864791,
          0.39514289970188843,
          0.41032951220172414,
          0.42561135960297136,
          0.4409932590795628,
          0.4564802181242457,
          0.4720774487634066,
          0.487790382937105,
          0.5036246891702711,
          0.5195862906767582,
          0.535681385055968,
          0.5519164657625226,
          0.5682983455534018,
          0.5848341821446201,
          0.6015315063416264,
          0.618398252944879,
          0.6354427947755682,
          0.6526739802172862,
          0.6701011747291373,
          0.6877343068559866,
          0.7055839193445022,
          0.7236612260719694,
          0.7419781756118172,
          0.7605475223995504,
          0.779382906630349,
          0.7984989442215016,
          0.8179113284170925,
          0.8376369449093877,
          0.8576940027142459,
          0.878102183483636,
          0.8988828124889383,
          0.9200590551927113,
          0.9416561441817515,
          0.9637016423102523,
          0.9862257492652906,
          1.009261660507193,
          1.0328459897764093,
          1.0570192692634173,
          1.08182654534094,
          1.1073180927839048,
          1.1335502771146808,
          1.160586603775009,
          1.1884990052137798,
          1.2173694341324872,
          1.2472918552198842,
          1.2783747620677244,
          1.3107443958091678,
          1.3445489157093282,
          1.3799638831447636,
          1.4171995921598977,
          1.4565110520024183,
          1.4982118712835475,
          1.542694042954707,
          1.5904569433456328,
          1.6421512672307004,
          1.6986482745438747,
          1.7611543004560126,
          1.831411767964886,
          1.912080092923337,
          2.007534909167104,
          2.125804357312443,
          2.2844283551198723,
          2.5372352503940094
         ],
         "xaxis": "x4",
         "y": [
          -1.1136605636262387,
          -1.0015577124737483,
          -0.9312186404475032,
          -0.878774096452977,
          -0.8364463069140109,
          -0.8006753315387871,
          -0.769520871080114,
          -0.7418036535122795,
          -0.7167510314525766,
          -0.6938280764056733,
          -0.6726484432025162,
          -0.6529235924844055,
          -0.6344320844432969,
          -0.6170000965755043,
          -0.6004885645591224,
          -0.5847844089478614,
          -0.5697943784799829,
          -0.555440623495402,
          -0.541657445327055,
          -0.5283888645249167,
          -0.5155867714796585,
          -0.5032094991730389,
          -0.4912207070950924,
          -0.4795884980437969,
          -0.46828471162789864,
          -0.45728435353006425,
          -0.44656513026971356,
          -0.43610706681091693,
          -0.4258921898538916,
          -0.4159042636678383,
          -0.40612856829923716,
          -0.3965517122184722,
          -0.38716147315392524,
          -0.3779466621508061,
          -0.36889700688486415,
          -0.3600030510328423,
          -0.3512560671061222,
          -0.3426479806311334,
          -0.33417130393929484,
          -0.32581907813257577,
          -0.3175848220349053,
          -0.3094624871373283,
          -0.30144641770571867,
          -0.29353131535156873,
          -0.2857122074746857,
          -0.27798441907615695,
          -0.2703435475142512,
          -0.2627854398378916,
          -0.2553061723842059,
          -0.24790203237025535,
          -0.2405695012458288,
          -0.23330523960532454,
          -0.2261060734832059,
          -0.2189689818800625,
          -0.21189108538559878,
          -0.20486963578140702,
          -0.19790200652061146,
          -0.19098568399374014,
          -0.18411825950079602,
          -0.17729742185870145,
          -0.17052095058128883,
          -0.16378670957598102,
          -0.1570926413073902,
          -0.15043676138338916,
          -0.14381715352388083,
          -0.13723196487659245,
          -0.13067940164783334,
          -0.12415772501933829,
          -0.11766524732512972,
          -0.1112003284648196,
          -0.10476137253197057,
          -0.09834682463809026,
          -0.0919551679145619,
          -0.0855849206763545,
          -0.07923463373272,
          -0.07290288783130046,
          -0.06658829122314691,
          -0.06028947733711001,
          -0.05400510255291382,
          -0.047733844062976906,
          -0.041474397813712954,
          -0.03522547651762984,
          -0.02898580772806158,
          -0.022754131968819834,
          -0.01652920091143973,
          -0.010309775593030214,
          -0.0040946246680218425,
          0.0021174773126614917,
          0.008327751601292207,
          0.014537416938031242,
          0.020747691226661896,
          0.02695979320734529,
          0.0331749441323536,
          0.03939436945076318,
          0.04561930050814335,
          0.05185097626738503,
          0.058090645056953355,
          0.0643395663530364,
          0.07059901260230035,
          0.0768702710922372,
          0.08315464587643345,
          0.08945345976247028,
          0.0957680563706239,
          0.10209980227204349,
          0.10845008921567793,
          0.11482033645388541,
          0.1212119931774137,
          0.12762654107129406,
          0.13406549700414297,
          0.14053041586445317,
          0.14702289355866166,
          0.1535445701871568,
          0.16009713341591586,
          0.1666823220632043,
          0.17330192992271268,
          0.17995780984671367,
          0.1866518781153046,
          0.19338611912061224,
          0.20016259039802492,
          0.20698342804011943,
          0.2138508525330636,
          0.22076717505993487,
          0.22773480432073048,
          0.23475625392492228,
          0.24183415041938597,
          0.24897124202252943,
          0.256170408144648,
          0.26343466978515223,
          0.2707672009095787,
          0.2781713409235293,
          0.28565060837721495,
          0.2932087160535746,
          0.3008495876154804,
          0.3085773760140091,
          0.31639648389089214,
          0.3243115862450421,
          0.33232765567665173,
          0.3404499905742287,
          0.3486842466718992,
          0.3570364724786182,
          0.3655131491704568,
          0.37412123564544575,
          0.3828682195721657,
          0.39176217542418756,
          0.4008118306901295,
          0.41002664169324865,
          0.4194168807577956,
          0.42899373683856057,
          0.4387694322071617,
          0.448757358393215,
          0.45897223535024045,
          0.46943029880903697,
          0.48014952206938766,
          0.49114988016722205,
          0.5024536665831207,
          0.5140858756344159,
          0.5260746677123624,
          0.538451940018982,
          0.5512540330642403,
          0.5645226138663784,
          0.5783057920347255,
          0.5926595470193067,
          0.607649577487185,
          0.6233537330984461,
          0.6398652651148278,
          0.6572972529826207,
          0.6757887610237288,
          0.6955136117418397,
          0.7166932449449965,
          0.7396161999919001,
          0.764668822051603,
          0.7923860396194375,
          0.8235405000781109,
          0.8593114754533343,
          0.9016392649923006,
          0.9540838089868265,
          1.0244228810130718,
          1.1365257321655606
         ],
         "yaxis": "y4"
        },
        {
         "line": {
          "color": "#3f3f3f"
         },
         "mode": "lines",
         "name": "ACF",
         "showlegend": false,
         "type": "scattergl",
         "x": [
          0,
          0
         ],
         "xaxis": "x5",
         "y": [
          0,
          1
         ],
         "yaxis": "y5"
        },
        {
         "line": {
          "color": "#3f3f3f"
         },
         "mode": "lines",
         "name": "ACF",
         "showlegend": false,
         "type": "scattergl",
         "x": [
          1,
          1
         ],
         "xaxis": "x5",
         "y": [
          0,
          -0.033848615456181355
         ],
         "yaxis": "y5"
        },
        {
         "line": {
          "color": "#3f3f3f"
         },
         "mode": "lines",
         "name": "ACF",
         "showlegend": false,
         "type": "scattergl",
         "x": [
          2,
          2
         ],
         "xaxis": "x5",
         "y": [
          0,
          -0.060910206921189355
         ],
         "yaxis": "y5"
        },
        {
         "line": {
          "color": "#3f3f3f"
         },
         "mode": "lines",
         "name": "ACF",
         "showlegend": false,
         "type": "scattergl",
         "x": [
          3,
          3
         ],
         "xaxis": "x5",
         "y": [
          0,
          0.23959805913155846
         ],
         "yaxis": "y5"
        },
        {
         "line": {
          "color": "#3f3f3f"
         },
         "mode": "lines",
         "name": "ACF",
         "showlegend": false,
         "type": "scattergl",
         "x": [
          4,
          4
         ],
         "xaxis": "x5",
         "y": [
          0,
          -0.08479462923418427
         ],
         "yaxis": "y5"
        },
        {
         "line": {
          "color": "#3f3f3f"
         },
         "mode": "lines",
         "name": "ACF",
         "showlegend": false,
         "type": "scattergl",
         "x": [
          5,
          5
         ],
         "xaxis": "x5",
         "y": [
          0,
          -0.029299404915568664
         ],
         "yaxis": "y5"
        },
        {
         "line": {
          "color": "#3f3f3f"
         },
         "mode": "lines",
         "name": "ACF",
         "showlegend": false,
         "type": "scattergl",
         "x": [
          6,
          6
         ],
         "xaxis": "x5",
         "y": [
          0,
          0.08625523428558732
         ],
         "yaxis": "y5"
        },
        {
         "line": {
          "color": "#3f3f3f"
         },
         "mode": "lines",
         "name": "ACF",
         "showlegend": false,
         "type": "scattergl",
         "x": [
          7,
          7
         ],
         "xaxis": "x5",
         "y": [
          0,
          0.0701629260912363
         ],
         "yaxis": "y5"
        },
        {
         "line": {
          "color": "#3f3f3f"
         },
         "mode": "lines",
         "name": "ACF",
         "showlegend": false,
         "type": "scattergl",
         "x": [
          8,
          8
         ],
         "xaxis": "x5",
         "y": [
          0,
          -0.15948021563010534
         ],
         "yaxis": "y5"
        },
        {
         "line": {
          "color": "#3f3f3f"
         },
         "mode": "lines",
         "name": "ACF",
         "showlegend": false,
         "type": "scattergl",
         "x": [
          9,
          9
         ],
         "xaxis": "x5",
         "y": [
          0,
          -0.016389983674728152
         ],
         "yaxis": "y5"
        },
        {
         "line": {
          "color": "#3f3f3f"
         },
         "mode": "lines",
         "name": "ACF",
         "showlegend": false,
         "type": "scattergl",
         "x": [
          10,
          10
         ],
         "xaxis": "x5",
         "y": [
          0,
          -0.019775587259970348
         ],
         "yaxis": "y5"
        },
        {
         "line": {
          "color": "#3f3f3f"
         },
         "mode": "lines",
         "name": "ACF",
         "showlegend": false,
         "type": "scattergl",
         "x": [
          11,
          11
         ],
         "xaxis": "x5",
         "y": [
          0,
          -0.08522799492973031
         ],
         "yaxis": "y5"
        },
        {
         "line": {
          "color": "#3f3f3f"
         },
         "mode": "lines",
         "name": "ACF",
         "showlegend": false,
         "type": "scattergl",
         "x": [
          12,
          12
         ],
         "xaxis": "x5",
         "y": [
          0,
          -0.10189243970526578
         ],
         "yaxis": "y5"
        },
        {
         "line": {
          "color": "#3f3f3f"
         },
         "mode": "lines",
         "name": "ACF",
         "showlegend": false,
         "type": "scattergl",
         "x": [
          13,
          13
         ],
         "xaxis": "x5",
         "y": [
          0,
          0.047212425095958466
         ],
         "yaxis": "y5"
        },
        {
         "line": {
          "color": "#3f3f3f"
         },
         "mode": "lines",
         "name": "ACF",
         "showlegend": false,
         "type": "scattergl",
         "x": [
          14,
          14
         ],
         "xaxis": "x5",
         "y": [
          0,
          0.05316109408874168
         ],
         "yaxis": "y5"
        },
        {
         "line": {
          "color": "#3f3f3f"
         },
         "mode": "lines",
         "name": "ACF",
         "showlegend": false,
         "type": "scattergl",
         "x": [
          15,
          15
         ],
         "xaxis": "x5",
         "y": [
          0,
          -0.14370307633055587
         ],
         "yaxis": "y5"
        },
        {
         "line": {
          "color": "#3f3f3f"
         },
         "mode": "lines",
         "name": "ACF",
         "showlegend": false,
         "type": "scattergl",
         "x": [
          16,
          16
         ],
         "xaxis": "x5",
         "y": [
          0,
          0.05276165454759984
         ],
         "yaxis": "y5"
        },
        {
         "line": {
          "color": "#3f3f3f"
         },
         "mode": "lines",
         "name": "ACF",
         "showlegend": false,
         "type": "scattergl",
         "x": [
          17,
          17
         ],
         "xaxis": "x5",
         "y": [
          0,
          0.01105094569543077
         ],
         "yaxis": "y5"
        },
        {
         "line": {
          "color": "#3f3f3f"
         },
         "mode": "lines",
         "name": "ACF",
         "showlegend": false,
         "type": "scattergl",
         "x": [
          18,
          18
         ],
         "xaxis": "x5",
         "y": [
          0,
          -0.03227696562172123
         ],
         "yaxis": "y5"
        },
        {
         "line": {
          "color": "#3f3f3f"
         },
         "mode": "lines",
         "name": "ACF",
         "showlegend": false,
         "type": "scattergl",
         "x": [
          19,
          19
         ],
         "xaxis": "x5",
         "y": [
          0,
          -0.03568636199655262
         ],
         "yaxis": "y5"
        },
        {
         "line": {
          "color": "#3f3f3f"
         },
         "mode": "lines",
         "name": "ACF",
         "showlegend": false,
         "type": "scattergl",
         "x": [
          20,
          20
         ],
         "xaxis": "x5",
         "y": [
          0,
          0.017495030828811913
         ],
         "yaxis": "y5"
        },
        {
         "line": {
          "color": "#3f3f3f"
         },
         "mode": "lines",
         "name": "ACF",
         "showlegend": false,
         "type": "scattergl",
         "x": [
          21,
          21
         ],
         "xaxis": "x5",
         "y": [
          0,
          0.07411000735613016
         ],
         "yaxis": "y5"
        },
        {
         "line": {
          "color": "#3f3f3f"
         },
         "mode": "lines",
         "name": "ACF",
         "showlegend": false,
         "type": "scattergl",
         "x": [
          22,
          22
         ],
         "xaxis": "x5",
         "y": [
          0,
          0.02150619196604787
         ],
         "yaxis": "y5"
        },
        {
         "line": {
          "color": "#3f3f3f"
         },
         "mode": "lines",
         "name": "ACF",
         "showlegend": false,
         "type": "scattergl",
         "x": [
          23,
          23
         ],
         "xaxis": "x5",
         "y": [
          0,
          0.013539157969383039
         ],
         "yaxis": "y5"
        },
        {
         "line": {
          "color": "#3f3f3f"
         },
         "mode": "lines",
         "name": "ACF",
         "showlegend": false,
         "type": "scattergl",
         "x": [
          24,
          24
         ],
         "xaxis": "x5",
         "y": [
          0,
          0.08170993599608285
         ],
         "yaxis": "y5"
        },
        {
         "line": {
          "color": "#3f3f3f"
         },
         "mode": "lines",
         "name": "ACF",
         "showlegend": false,
         "type": "scattergl",
         "x": [
          25,
          25
         ],
         "xaxis": "x5",
         "y": [
          0,
          -0.04373786876753413
         ],
         "yaxis": "y5"
        },
        {
         "line": {
          "color": "#3f3f3f"
         },
         "mode": "lines",
         "name": "ACF",
         "showlegend": false,
         "type": "scattergl",
         "x": [
          26,
          26
         ],
         "xaxis": "x5",
         "y": [
          0,
          -0.06241066876701257
         ],
         "yaxis": "y5"
        },
        {
         "line": {
          "color": "#3f3f3f"
         },
         "mode": "lines",
         "name": "ACF",
         "showlegend": false,
         "type": "scattergl",
         "x": [
          27,
          27
         ],
         "xaxis": "x5",
         "y": [
          0,
          0.06805212539706447
         ],
         "yaxis": "y5"
        },
        {
         "line": {
          "color": "#3f3f3f"
         },
         "mode": "lines",
         "name": "ACF",
         "showlegend": false,
         "type": "scattergl",
         "x": [
          28,
          28
         ],
         "xaxis": "x5",
         "y": [
          0,
          0.02125218674800888
         ],
         "yaxis": "y5"
        },
        {
         "line": {
          "color": "#3f3f3f"
         },
         "mode": "lines",
         "name": "ACF",
         "showlegend": false,
         "type": "scattergl",
         "x": [
          29,
          29
         ],
         "xaxis": "x5",
         "y": [
          0,
          -0.09873615356026322
         ],
         "yaxis": "y5"
        },
        {
         "line": {
          "color": "#3f3f3f"
         },
         "mode": "lines",
         "name": "ACF",
         "showlegend": false,
         "type": "scattergl",
         "x": [
          30,
          30
         ],
         "xaxis": "x5",
         "y": [
          0,
          -0.005516750055997216
         ],
         "yaxis": "y5"
        },
        {
         "line": {
          "color": "#3f3f3f"
         },
         "mode": "lines",
         "name": "ACF",
         "showlegend": false,
         "type": "scattergl",
         "x": [
          31,
          31
         ],
         "xaxis": "x5",
         "y": [
          0,
          0.034474034949443684
         ],
         "yaxis": "y5"
        },
        {
         "line": {
          "color": "#3f3f3f"
         },
         "mode": "lines",
         "name": "ACF",
         "showlegend": false,
         "type": "scattergl",
         "x": [
          32,
          32
         ],
         "xaxis": "x5",
         "y": [
          0,
          -0.10902125509602625
         ],
         "yaxis": "y5"
        },
        {
         "line": {
          "color": "#3f3f3f"
         },
         "mode": "lines",
         "name": "ACF",
         "showlegend": false,
         "type": "scattergl",
         "x": [
          33,
          33
         ],
         "xaxis": "x5",
         "y": [
          0,
          0.02144215193074166
         ],
         "yaxis": "y5"
        },
        {
         "line": {
          "color": "#3f3f3f"
         },
         "mode": "lines",
         "name": "ACF",
         "showlegend": false,
         "type": "scattergl",
         "x": [
          34,
          34
         ],
         "xaxis": "x5",
         "y": [
          0,
          0.050293356565403624
         ],
         "yaxis": "y5"
        },
        {
         "line": {
          "color": "#3f3f3f"
         },
         "mode": "lines",
         "name": "ACF",
         "showlegend": false,
         "type": "scattergl",
         "x": [
          35,
          35
         ],
         "xaxis": "x5",
         "y": [
          0,
          -0.10488081397082347
         ],
         "yaxis": "y5"
        },
        {
         "line": {
          "color": "#3f3f3f"
         },
         "mode": "lines",
         "name": "ACF",
         "showlegend": false,
         "type": "scattergl",
         "x": [
          36,
          36
         ],
         "xaxis": "x5",
         "y": [
          0,
          -0.06239118647655635
         ],
         "yaxis": "y5"
        },
        {
         "line": {
          "color": "#3f3f3f"
         },
         "mode": "lines",
         "name": "ACF",
         "showlegend": false,
         "type": "scattergl",
         "x": [
          37,
          37
         ],
         "xaxis": "x5",
         "y": [
          0,
          0.14837045135746488
         ],
         "yaxis": "y5"
        },
        {
         "line": {
          "color": "#3f3f3f"
         },
         "mode": "lines",
         "name": "ACF",
         "showlegend": false,
         "type": "scattergl",
         "x": [
          38,
          38
         ],
         "xaxis": "x5",
         "y": [
          0,
          -0.024003162785410485
         ],
         "yaxis": "y5"
        },
        {
         "line": {
          "color": "#3f3f3f"
         },
         "mode": "lines",
         "name": "ACF",
         "showlegend": false,
         "type": "scattergl",
         "x": [
          39,
          39
         ],
         "xaxis": "x5",
         "y": [
          0,
          0.01613753124908955
         ],
         "yaxis": "y5"
        },
        {
         "line": {
          "color": "#3f3f3f"
         },
         "mode": "lines",
         "name": "ACF",
         "showlegend": false,
         "type": "scattergl",
         "x": [
          40,
          40
         ],
         "xaxis": "x5",
         "y": [
          0,
          0.07987757864391437
         ],
         "yaxis": "y5"
        },
        {
         "marker": {
          "color": "#1f77b4",
          "size": 6
         },
         "mode": "markers",
         "name": "ACF",
         "showlegend": false,
         "type": "scattergl",
         "x": [
          0,
          1,
          2,
          3,
          4,
          5,
          6,
          7,
          8,
          9,
          10,
          11,
          12,
          13,
          14,
          15,
          16,
          17,
          18,
          19,
          20,
          21,
          22,
          23,
          24,
          25,
          26,
          27,
          28,
          29,
          30,
          31,
          32,
          33,
          34,
          35,
          36,
          37,
          38,
          39,
          40
         ],
         "xaxis": "x5",
         "y": [
          1,
          -0.033848615456181355,
          -0.060910206921189355,
          0.23959805913155846,
          -0.08479462923418427,
          -0.029299404915568664,
          0.08625523428558732,
          0.0701629260912363,
          -0.15948021563010534,
          -0.016389983674728152,
          -0.019775587259970348,
          -0.08522799492973031,
          -0.10189243970526578,
          0.047212425095958466,
          0.05316109408874168,
          -0.14370307633055587,
          0.05276165454759984,
          0.01105094569543077,
          -0.03227696562172123,
          -0.03568636199655262,
          0.017495030828811913,
          0.07411000735613016,
          0.02150619196604787,
          0.013539157969383039,
          0.08170993599608285,
          -0.04373786876753413,
          -0.06241066876701257,
          0.06805212539706447,
          0.02125218674800888,
          -0.09873615356026322,
          -0.005516750055997216,
          0.034474034949443684,
          -0.10902125509602625,
          0.02144215193074166,
          0.050293356565403624,
          -0.10488081397082347,
          -0.06239118647655635,
          0.14837045135746488,
          -0.024003162785410485,
          0.01613753124908955,
          0.07987757864391437
         ],
         "yaxis": "y5"
        },
        {
         "line": {
          "color": "rgba(255,255,255,0)"
         },
         "mode": "lines",
         "name": "UC",
         "showlegend": false,
         "type": "scatter",
         "x": [
          0,
          1,
          2,
          3,
          4,
          5,
          6,
          7,
          8,
          9,
          10,
          11,
          12,
          13,
          14,
          15,
          16,
          17,
          18,
          19,
          20,
          21,
          22,
          23,
          24,
          25,
          26,
          27,
          28,
          29,
          30,
          31,
          32,
          33,
          34,
          35,
          36,
          37,
          38,
          39,
          40
         ],
         "xaxis": "x5",
         "y": [
          0,
          0.14690551157033652,
          0.14707372913045696,
          0.1476171291647238,
          0.15578399793258194,
          0.15677690411511774,
          0.15689503082606437,
          0.15791509712093837,
          0.15858644208312817,
          0.16201065076370386,
          0.1620464308761277,
          0.16209850544850435,
          0.16306271620393475,
          0.16443103433181955,
          0.16472332784550436,
          0.16509317443186552,
          0.1677709325148403,
          0.16812864453222262,
          0.1681443197330177,
          0.168277981376761,
          0.16844122748486962,
          0.16848043837129056,
          0.16918250202534377,
          0.1692414911655125,
          0.16926486460681756,
          0.17011398864984958,
          0.17035650550546028,
          0.17084923382079764,
          0.1714332231636276,
          0.17149007132657956,
          0.17271255875002736,
          0.17271636164294207,
          0.17286479802241508,
          0.17434234019366598,
          0.17439924371959736,
          0.17471196945303144,
          0.17606549541003735,
          0.17654199346551983,
          0.17921284773608673,
          0.17928221585798731,
          0.17931356135763205
         ],
         "yaxis": "y5"
        },
        {
         "fill": "tonexty",
         "fillcolor": "rgba(32, 146, 230,0.3)",
         "line": {
          "color": "rgba(255,255,255,0)"
         },
         "mode": "lines",
         "name": "LC",
         "showlegend": false,
         "type": "scatter",
         "x": [
          0,
          1,
          2,
          3,
          4,
          5,
          6,
          7,
          8,
          9,
          10,
          11,
          12,
          13,
          14,
          15,
          16,
          17,
          18,
          19,
          20,
          21,
          22,
          23,
          24,
          25,
          26,
          27,
          28,
          29,
          30,
          31,
          32,
          33,
          34,
          35,
          36,
          37,
          38,
          39,
          40
         ],
         "xaxis": "x5",
         "y": [
          0,
          -0.14690551157033654,
          -0.14707372913045696,
          -0.1476171291647238,
          -0.15578399793258194,
          -0.1567769041151178,
          -0.15689503082606437,
          -0.15791509712093837,
          -0.15858644208312817,
          -0.16201065076370386,
          -0.16204643087612763,
          -0.16209850544850435,
          -0.16306271620393475,
          -0.16443103433181955,
          -0.16472332784550436,
          -0.16509317443186552,
          -0.1677709325148403,
          -0.16812864453222262,
          -0.1681443197330177,
          -0.168277981376761,
          -0.16844122748486962,
          -0.16848043837129056,
          -0.16918250202534377,
          -0.1692414911655125,
          -0.16926486460681756,
          -0.17011398864984958,
          -0.17035650550546028,
          -0.17084923382079764,
          -0.1714332231636276,
          -0.17149007132657956,
          -0.17271255875002736,
          -0.17271636164294207,
          -0.17286479802241508,
          -0.17434234019366598,
          -0.17439924371959736,
          -0.17471196945303144,
          -0.17606549541003735,
          -0.17654199346551983,
          -0.17921284773608673,
          -0.17928221585798731,
          -0.17931356135763205
         ],
         "yaxis": "y5"
        },
        {
         "line": {
          "color": "#3f3f3f"
         },
         "mode": "lines",
         "name": "PACF",
         "showlegend": false,
         "type": "scattergl",
         "x": [
          0,
          0
         ],
         "xaxis": "x6",
         "y": [
          0,
          1
         ],
         "yaxis": "y6"
        },
        {
         "line": {
          "color": "#3f3f3f"
         },
         "mode": "lines",
         "name": "PACF",
         "showlegend": false,
         "type": "scattergl",
         "x": [
          1,
          1
         ],
         "xaxis": "x6",
         "y": [
          0,
          -0.03403985057175298
         ],
         "yaxis": "y6"
        },
        {
         "line": {
          "color": "#3f3f3f"
         },
         "mode": "lines",
         "name": "PACF",
         "showlegend": false,
         "type": "scattergl",
         "x": [
          2,
          2
         ],
         "xaxis": "x6",
         "y": [
          0,
          -0.06283388613228388
         ],
         "yaxis": "y6"
        },
        {
         "line": {
          "color": "#3f3f3f"
         },
         "mode": "lines",
         "name": "PACF",
         "showlegend": false,
         "type": "scattergl",
         "x": [
          3,
          3
         ],
         "xaxis": "x6",
         "y": [
          0,
          0.24056532489338806
         ],
         "yaxis": "y6"
        },
        {
         "line": {
          "color": "#3f3f3f"
         },
         "mode": "lines",
         "name": "PACF",
         "showlegend": false,
         "type": "scattergl",
         "x": [
          4,
          4
         ],
         "xaxis": "x6",
         "y": [
          0,
          -0.08188921656711286
         ],
         "yaxis": "y6"
        },
        {
         "line": {
          "color": "#3f3f3f"
         },
         "mode": "lines",
         "name": "PACF",
         "showlegend": false,
         "type": "scattergl",
         "x": [
          5,
          5
         ],
         "xaxis": "x6",
         "y": [
          0,
          -0.004367870197698668
         ],
         "yaxis": "y6"
        },
        {
         "line": {
          "color": "#3f3f3f"
         },
         "mode": "lines",
         "name": "PACF",
         "showlegend": false,
         "type": "scattergl",
         "x": [
          6,
          6
         ],
         "xaxis": "x6",
         "y": [
          0,
          0.02243214592876266
         ],
         "yaxis": "y6"
        },
        {
         "line": {
          "color": "#3f3f3f"
         },
         "mode": "lines",
         "name": "PACF",
         "showlegend": false,
         "type": "scattergl",
         "x": [
          7,
          7
         ],
         "xaxis": "x6",
         "y": [
          0,
          0.1202231561090624
         ],
         "yaxis": "y6"
        },
        {
         "line": {
          "color": "#3f3f3f"
         },
         "mode": "lines",
         "name": "PACF",
         "showlegend": false,
         "type": "scattergl",
         "x": [
          8,
          8
         ],
         "xaxis": "x6",
         "y": [
          0,
          -0.17330373324108753
         ],
         "yaxis": "y6"
        },
        {
         "line": {
          "color": "#3f3f3f"
         },
         "mode": "lines",
         "name": "PACF",
         "showlegend": false,
         "type": "scattergl",
         "x": [
          9,
          9
         ],
         "xaxis": "x6",
         "y": [
          0,
          -0.03843861779364374
         ],
         "yaxis": "y6"
        },
        {
         "line": {
          "color": "#3f3f3f"
         },
         "mode": "lines",
         "name": "PACF",
         "showlegend": false,
         "type": "scattergl",
         "x": [
          10,
          10
         ],
         "xaxis": "x6",
         "y": [
          0,
          -0.08173319563852215
         ],
         "yaxis": "y6"
        },
        {
         "line": {
          "color": "#3f3f3f"
         },
         "mode": "lines",
         "name": "PACF",
         "showlegend": false,
         "type": "scattergl",
         "x": [
          11,
          11
         ],
         "xaxis": "x6",
         "y": [
          0,
          0.006798332139064102
         ],
         "yaxis": "y6"
        },
        {
         "line": {
          "color": "#3f3f3f"
         },
         "mode": "lines",
         "name": "PACF",
         "showlegend": false,
         "type": "scattergl",
         "x": [
          12,
          12
         ],
         "xaxis": "x6",
         "y": [
          0,
          -0.15587527554434127
         ],
         "yaxis": "y6"
        },
        {
         "line": {
          "color": "#3f3f3f"
         },
         "mode": "lines",
         "name": "PACF",
         "showlegend": false,
         "type": "scattergl",
         "x": [
          13,
          13
         ],
         "xaxis": "x6",
         "y": [
          0,
          0.06531719537397722
         ],
         "yaxis": "y6"
        },
        {
         "line": {
          "color": "#3f3f3f"
         },
         "mode": "lines",
         "name": "PACF",
         "showlegend": false,
         "type": "scattergl",
         "x": [
          14,
          14
         ],
         "xaxis": "x6",
         "y": [
          0,
          0.06850678284285233
         ],
         "yaxis": "y6"
        },
        {
         "line": {
          "color": "#3f3f3f"
         },
         "mode": "lines",
         "name": "PACF",
         "showlegend": false,
         "type": "scattergl",
         "x": [
          15,
          15
         ],
         "xaxis": "x6",
         "y": [
          0,
          -0.07234711920217875
         ],
         "yaxis": "y6"
        },
        {
         "line": {
          "color": "#3f3f3f"
         },
         "mode": "lines",
         "name": "PACF",
         "showlegend": false,
         "type": "scattergl",
         "x": [
          16,
          16
         ],
         "xaxis": "x6",
         "y": [
          0,
          -0.005294442715994588
         ],
         "yaxis": "y6"
        },
        {
         "line": {
          "color": "#3f3f3f"
         },
         "mode": "lines",
         "name": "PACF",
         "showlegend": false,
         "type": "scattergl",
         "x": [
          17,
          17
         ],
         "xaxis": "x6",
         "y": [
          0,
          -0.008143859177394889
         ],
         "yaxis": "y6"
        },
        {
         "line": {
          "color": "#3f3f3f"
         },
         "mode": "lines",
         "name": "PACF",
         "showlegend": false,
         "type": "scattergl",
         "x": [
          18,
          18
         ],
         "xaxis": "x6",
         "y": [
          0,
          0.04984055913308858
         ],
         "yaxis": "y6"
        },
        {
         "line": {
          "color": "#3f3f3f"
         },
         "mode": "lines",
         "name": "PACF",
         "showlegend": false,
         "type": "scattergl",
         "x": [
          19,
          19
         ],
         "xaxis": "x6",
         "y": [
          0,
          -0.1048023796798131
         ],
         "yaxis": "y6"
        },
        {
         "line": {
          "color": "#3f3f3f"
         },
         "mode": "lines",
         "name": "PACF",
         "showlegend": false,
         "type": "scattergl",
         "x": [
          20,
          20
         ],
         "xaxis": "x6",
         "y": [
          0,
          -0.02882195801968371
         ],
         "yaxis": "y6"
        },
        {
         "line": {
          "color": "#3f3f3f"
         },
         "mode": "lines",
         "name": "PACF",
         "showlegend": false,
         "type": "scattergl",
         "x": [
          21,
          21
         ],
         "xaxis": "x6",
         "y": [
          0,
          0.09466050454249808
         ],
         "yaxis": "y6"
        },
        {
         "line": {
          "color": "#3f3f3f"
         },
         "mode": "lines",
         "name": "PACF",
         "showlegend": false,
         "type": "scattergl",
         "x": [
          22,
          22
         ],
         "xaxis": "x6",
         "y": [
          0,
          0.10242630725817199
         ],
         "yaxis": "y6"
        },
        {
         "marker": {
          "color": "#1f77b4",
          "size": 6
         },
         "mode": "markers",
         "name": "PACF",
         "showlegend": false,
         "type": "scattergl",
         "x": [
          0,
          1,
          2,
          3,
          4,
          5,
          6,
          7,
          8,
          9,
          10,
          11,
          12,
          13,
          14,
          15,
          16,
          17,
          18,
          19,
          20,
          21,
          22
         ],
         "xaxis": "x6",
         "y": [
          1,
          -0.03403985057175298,
          -0.06283388613228388,
          0.24056532489338806,
          -0.08188921656711286,
          -0.004367870197698668,
          0.02243214592876266,
          0.1202231561090624,
          -0.17330373324108753,
          -0.03843861779364374,
          -0.08173319563852215,
          0.006798332139064102,
          -0.15587527554434127,
          0.06531719537397722,
          0.06850678284285233,
          -0.07234711920217875,
          -0.005294442715994588,
          -0.008143859177394889,
          0.04984055913308858,
          -0.1048023796798131,
          -0.02882195801968371,
          0.09466050454249808,
          0.10242630725817199
         ],
         "yaxis": "y6"
        },
        {
         "line": {
          "color": "rgba(255,255,255,0)"
         },
         "mode": "lines",
         "name": "UC",
         "showlegend": false,
         "type": "scatter",
         "x": [
          0,
          1,
          2,
          3,
          4,
          5,
          6,
          7,
          8,
          9,
          10,
          11,
          12,
          13,
          14,
          15,
          16,
          17,
          18,
          19,
          20,
          21,
          22
         ],
         "xaxis": "x6",
         "y": [
          0,
          0.14690551157033652,
          0.14690551157033652,
          0.14690551157033654,
          0.14690551157033652,
          0.14690551157033652,
          0.14690551157033652,
          0.14690551157033652,
          0.14690551157033652,
          0.14690551157033652,
          0.14690551157033652,
          0.14690551157033652,
          0.14690551157033652,
          0.1469055115703365,
          0.14690551157033652,
          0.14690551157033652,
          0.14690551157033652,
          0.14690551157033652,
          0.14690551157033652,
          0.14690551157033652,
          0.14690551157033652,
          0.14690551157033652,
          0.14690551157033654
         ],
         "yaxis": "y6"
        },
        {
         "fill": "tonexty",
         "fillcolor": "rgba(32, 146, 230,0.3)",
         "line": {
          "color": "rgba(255,255,255,0)"
         },
         "mode": "lines",
         "name": "LC",
         "showlegend": false,
         "type": "scatter",
         "x": [
          0,
          1,
          2,
          3,
          4,
          5,
          6,
          7,
          8,
          9,
          10,
          11,
          12,
          13,
          14,
          15,
          16,
          17,
          18,
          19,
          20,
          21,
          22
         ],
         "xaxis": "x6",
         "y": [
          0,
          -0.14690551157033652,
          -0.14690551157033652,
          -0.14690551157033652,
          -0.14690551157033654,
          -0.14690551157033652,
          -0.14690551157033652,
          -0.14690551157033652,
          -0.14690551157033652,
          -0.14690551157033652,
          -0.1469055115703365,
          -0.14690551157033652,
          -0.14690551157033654,
          -0.14690551157033652,
          -0.14690551157033652,
          -0.14690551157033654,
          -0.14690551157033652,
          -0.14690551157033652,
          -0.14690551157033652,
          -0.1469055115703365,
          -0.14690551157033652,
          -0.14690551157033652,
          -0.14690551157033652
         ],
         "yaxis": "y6"
        }
       ],
       "layout": {
        "annotations": [
         {
          "font": {
           "size": 16
          },
          "showarrow": false,
          "text": "ARIMA Residuals",
          "x": 0.225,
          "xanchor": "center",
          "xref": "paper",
          "y": 1,
          "yanchor": "bottom",
          "yref": "paper"
         },
         {
          "font": {
           "size": 16
          },
          "showarrow": false,
          "text": "Periodogram",
          "x": 0.775,
          "xanchor": "center",
          "xref": "paper",
          "y": 1,
          "yanchor": "bottom",
          "yref": "paper"
         },
         {
          "font": {
           "size": 16
          },
          "showarrow": false,
          "text": "Histogram",
          "x": 0.225,
          "xanchor": "center",
          "xref": "paper",
          "y": 0.6111111111111112,
          "yanchor": "bottom",
          "yref": "paper"
         },
         {
          "font": {
           "size": 16
          },
          "showarrow": false,
          "text": "Q-Q Plot",
          "x": 0.775,
          "xanchor": "center",
          "xref": "paper",
          "y": 0.6111111111111112,
          "yanchor": "bottom",
          "yref": "paper"
         },
         {
          "font": {
           "size": 16
          },
          "showarrow": false,
          "text": "ACF",
          "x": 0.225,
          "xanchor": "center",
          "xref": "paper",
          "y": 0.22222222222222227,
          "yanchor": "bottom",
          "yref": "paper"
         },
         {
          "font": {
           "size": 16
          },
          "showarrow": false,
          "text": "PACF",
          "x": 0.775,
          "xanchor": "center",
          "xref": "paper",
          "y": 0.22222222222222227,
          "yanchor": "bottom",
          "yref": "paper"
         }
        ],
        "showlegend": false,
        "template": {
         "data": {
          "bar": [
           {
            "error_x": {
             "color": "rgb(51,51,51)"
            },
            "error_y": {
             "color": "rgb(51,51,51)"
            },
            "marker": {
             "line": {
              "color": "rgb(237,237,237)",
              "width": 0.5
             },
             "pattern": {
              "fillmode": "overlay",
              "size": 10,
              "solidity": 0.2
             }
            },
            "type": "bar"
           }
          ],
          "barpolar": [
           {
            "marker": {
             "line": {
              "color": "rgb(237,237,237)",
              "width": 0.5
             },
             "pattern": {
              "fillmode": "overlay",
              "size": 10,
              "solidity": 0.2
             }
            },
            "type": "barpolar"
           }
          ],
          "carpet": [
           {
            "aaxis": {
             "endlinecolor": "rgb(51,51,51)",
             "gridcolor": "white",
             "linecolor": "white",
             "minorgridcolor": "white",
             "startlinecolor": "rgb(51,51,51)"
            },
            "baxis": {
             "endlinecolor": "rgb(51,51,51)",
             "gridcolor": "white",
             "linecolor": "white",
             "minorgridcolor": "white",
             "startlinecolor": "rgb(51,51,51)"
            },
            "type": "carpet"
           }
          ],
          "choropleth": [
           {
            "colorbar": {
             "outlinewidth": 0,
             "tickcolor": "rgb(237,237,237)",
             "ticklen": 6,
             "ticks": "inside"
            },
            "type": "choropleth"
           }
          ],
          "contour": [
           {
            "colorbar": {
             "outlinewidth": 0,
             "tickcolor": "rgb(237,237,237)",
             "ticklen": 6,
             "ticks": "inside"
            },
            "colorscale": [
             [
              0,
              "rgb(20,44,66)"
             ],
             [
              1,
              "rgb(90,179,244)"
             ]
            ],
            "type": "contour"
           }
          ],
          "contourcarpet": [
           {
            "colorbar": {
             "outlinewidth": 0,
             "tickcolor": "rgb(237,237,237)",
             "ticklen": 6,
             "ticks": "inside"
            },
            "type": "contourcarpet"
           }
          ],
          "heatmap": [
           {
            "colorbar": {
             "outlinewidth": 0,
             "tickcolor": "rgb(237,237,237)",
             "ticklen": 6,
             "ticks": "inside"
            },
            "colorscale": [
             [
              0,
              "rgb(20,44,66)"
             ],
             [
              1,
              "rgb(90,179,244)"
             ]
            ],
            "type": "heatmap"
           }
          ],
          "heatmapgl": [
           {
            "colorbar": {
             "outlinewidth": 0,
             "tickcolor": "rgb(237,237,237)",
             "ticklen": 6,
             "ticks": "inside"
            },
            "colorscale": [
             [
              0,
              "rgb(20,44,66)"
             ],
             [
              1,
              "rgb(90,179,244)"
             ]
            ],
            "type": "heatmapgl"
           }
          ],
          "histogram": [
           {
            "marker": {
             "pattern": {
              "fillmode": "overlay",
              "size": 10,
              "solidity": 0.2
             }
            },
            "type": "histogram"
           }
          ],
          "histogram2d": [
           {
            "colorbar": {
             "outlinewidth": 0,
             "tickcolor": "rgb(237,237,237)",
             "ticklen": 6,
             "ticks": "inside"
            },
            "colorscale": [
             [
              0,
              "rgb(20,44,66)"
             ],
             [
              1,
              "rgb(90,179,244)"
             ]
            ],
            "type": "histogram2d"
           }
          ],
          "histogram2dcontour": [
           {
            "colorbar": {
             "outlinewidth": 0,
             "tickcolor": "rgb(237,237,237)",
             "ticklen": 6,
             "ticks": "inside"
            },
            "colorscale": [
             [
              0,
              "rgb(20,44,66)"
             ],
             [
              1,
              "rgb(90,179,244)"
             ]
            ],
            "type": "histogram2dcontour"
           }
          ],
          "mesh3d": [
           {
            "colorbar": {
             "outlinewidth": 0,
             "tickcolor": "rgb(237,237,237)",
             "ticklen": 6,
             "ticks": "inside"
            },
            "type": "mesh3d"
           }
          ],
          "parcoords": [
           {
            "line": {
             "colorbar": {
              "outlinewidth": 0,
              "tickcolor": "rgb(237,237,237)",
              "ticklen": 6,
              "ticks": "inside"
             }
            },
            "type": "parcoords"
           }
          ],
          "pie": [
           {
            "automargin": true,
            "type": "pie"
           }
          ],
          "scatter": [
           {
            "fillpattern": {
             "fillmode": "overlay",
             "size": 10,
             "solidity": 0.2
            },
            "type": "scatter"
           }
          ],
          "scatter3d": [
           {
            "line": {
             "colorbar": {
              "outlinewidth": 0,
              "tickcolor": "rgb(237,237,237)",
              "ticklen": 6,
              "ticks": "inside"
             }
            },
            "marker": {
             "colorbar": {
              "outlinewidth": 0,
              "tickcolor": "rgb(237,237,237)",
              "ticklen": 6,
              "ticks": "inside"
             }
            },
            "type": "scatter3d"
           }
          ],
          "scattercarpet": [
           {
            "marker": {
             "colorbar": {
              "outlinewidth": 0,
              "tickcolor": "rgb(237,237,237)",
              "ticklen": 6,
              "ticks": "inside"
             }
            },
            "type": "scattercarpet"
           }
          ],
          "scattergeo": [
           {
            "marker": {
             "colorbar": {
              "outlinewidth": 0,
              "tickcolor": "rgb(237,237,237)",
              "ticklen": 6,
              "ticks": "inside"
             }
            },
            "type": "scattergeo"
           }
          ],
          "scattergl": [
           {
            "marker": {
             "colorbar": {
              "outlinewidth": 0,
              "tickcolor": "rgb(237,237,237)",
              "ticklen": 6,
              "ticks": "inside"
             }
            },
            "type": "scattergl"
           }
          ],
          "scattermapbox": [
           {
            "marker": {
             "colorbar": {
              "outlinewidth": 0,
              "tickcolor": "rgb(237,237,237)",
              "ticklen": 6,
              "ticks": "inside"
             }
            },
            "type": "scattermapbox"
           }
          ],
          "scatterpolar": [
           {
            "marker": {
             "colorbar": {
              "outlinewidth": 0,
              "tickcolor": "rgb(237,237,237)",
              "ticklen": 6,
              "ticks": "inside"
             }
            },
            "type": "scatterpolar"
           }
          ],
          "scatterpolargl": [
           {
            "marker": {
             "colorbar": {
              "outlinewidth": 0,
              "tickcolor": "rgb(237,237,237)",
              "ticklen": 6,
              "ticks": "inside"
             }
            },
            "type": "scatterpolargl"
           }
          ],
          "scatterternary": [
           {
            "marker": {
             "colorbar": {
              "outlinewidth": 0,
              "tickcolor": "rgb(237,237,237)",
              "ticklen": 6,
              "ticks": "inside"
             }
            },
            "type": "scatterternary"
           }
          ],
          "surface": [
           {
            "colorbar": {
             "outlinewidth": 0,
             "tickcolor": "rgb(237,237,237)",
             "ticklen": 6,
             "ticks": "inside"
            },
            "colorscale": [
             [
              0,
              "rgb(20,44,66)"
             ],
             [
              1,
              "rgb(90,179,244)"
             ]
            ],
            "type": "surface"
           }
          ],
          "table": [
           {
            "cells": {
             "fill": {
              "color": "rgb(237,237,237)"
             },
             "line": {
              "color": "white"
             }
            },
            "header": {
             "fill": {
              "color": "rgb(217,217,217)"
             },
             "line": {
              "color": "white"
             }
            },
            "type": "table"
           }
          ]
         },
         "layout": {
          "annotationdefaults": {
           "arrowhead": 0,
           "arrowwidth": 1
          },
          "autotypenumbers": "strict",
          "coloraxis": {
           "colorbar": {
            "outlinewidth": 0,
            "tickcolor": "rgb(237,237,237)",
            "ticklen": 6,
            "ticks": "inside"
           }
          },
          "colorscale": {
           "sequential": [
            [
             0,
             "rgb(20,44,66)"
            ],
            [
             1,
             "rgb(90,179,244)"
            ]
           ],
           "sequentialminus": [
            [
             0,
             "rgb(20,44,66)"
            ],
            [
             1,
             "rgb(90,179,244)"
            ]
           ]
          },
          "colorway": [
           "#F8766D",
           "#A3A500",
           "#00BF7D",
           "#00B0F6",
           "#E76BF3"
          ],
          "font": {
           "color": "rgb(51,51,51)"
          },
          "geo": {
           "bgcolor": "white",
           "lakecolor": "white",
           "landcolor": "rgb(237,237,237)",
           "showlakes": true,
           "showland": true,
           "subunitcolor": "white"
          },
          "hoverlabel": {
           "align": "left"
          },
          "hovermode": "closest",
          "paper_bgcolor": "white",
          "plot_bgcolor": "rgb(237,237,237)",
          "polar": {
           "angularaxis": {
            "gridcolor": "white",
            "linecolor": "white",
            "showgrid": true,
            "tickcolor": "rgb(51,51,51)",
            "ticks": "outside"
           },
           "bgcolor": "rgb(237,237,237)",
           "radialaxis": {
            "gridcolor": "white",
            "linecolor": "white",
            "showgrid": true,
            "tickcolor": "rgb(51,51,51)",
            "ticks": "outside"
           }
          },
          "scene": {
           "xaxis": {
            "backgroundcolor": "rgb(237,237,237)",
            "gridcolor": "white",
            "gridwidth": 2,
            "linecolor": "white",
            "showbackground": true,
            "showgrid": true,
            "tickcolor": "rgb(51,51,51)",
            "ticks": "outside",
            "zerolinecolor": "white"
           },
           "yaxis": {
            "backgroundcolor": "rgb(237,237,237)",
            "gridcolor": "white",
            "gridwidth": 2,
            "linecolor": "white",
            "showbackground": true,
            "showgrid": true,
            "tickcolor": "rgb(51,51,51)",
            "ticks": "outside",
            "zerolinecolor": "white"
           },
           "zaxis": {
            "backgroundcolor": "rgb(237,237,237)",
            "gridcolor": "white",
            "gridwidth": 2,
            "linecolor": "white",
            "showbackground": true,
            "showgrid": true,
            "tickcolor": "rgb(51,51,51)",
            "ticks": "outside",
            "zerolinecolor": "white"
           }
          },
          "shapedefaults": {
           "fillcolor": "black",
           "line": {
            "width": 0
           },
           "opacity": 0.3
          },
          "ternary": {
           "aaxis": {
            "gridcolor": "white",
            "linecolor": "white",
            "showgrid": true,
            "tickcolor": "rgb(51,51,51)",
            "ticks": "outside"
           },
           "baxis": {
            "gridcolor": "white",
            "linecolor": "white",
            "showgrid": true,
            "tickcolor": "rgb(51,51,51)",
            "ticks": "outside"
           },
           "bgcolor": "rgb(237,237,237)",
           "caxis": {
            "gridcolor": "white",
            "linecolor": "white",
            "showgrid": true,
            "tickcolor": "rgb(51,51,51)",
            "ticks": "outside"
           }
          },
          "xaxis": {
           "automargin": true,
           "gridcolor": "white",
           "linecolor": "white",
           "showgrid": true,
           "tickcolor": "rgb(51,51,51)",
           "ticks": "outside",
           "title": {
            "standoff": 15
           },
           "zerolinecolor": "white"
          },
          "yaxis": {
           "automargin": true,
           "gridcolor": "white",
           "linecolor": "white",
           "showgrid": true,
           "tickcolor": "rgb(51,51,51)",
           "ticks": "outside",
           "title": {
            "standoff": 15
           },
           "zerolinecolor": "white"
          }
         }
        },
        "title": {
         "text": "Diagnostics | Model Residuals"
        },
        "xaxis": {
         "anchor": "y",
         "domain": [
          0,
          0.45
         ]
        },
        "xaxis2": {
         "anchor": "y2",
         "domain": [
          0.55,
          1
         ],
         "range": [
          0,
          0.5
         ]
        },
        "xaxis3": {
         "anchor": "y3",
         "domain": [
          0,
          0.45
         ],
         "title": {
          "text": "Range of Values"
         }
        },
        "xaxis4": {
         "anchor": "y4",
         "domain": [
          0.55,
          1
         ],
         "title": {
          "text": "Theoretical Quantities"
         }
        },
        "xaxis5": {
         "anchor": "y5",
         "domain": [
          0,
          0.45
         ],
         "range": [
          -1,
          42
         ]
        },
        "xaxis6": {
         "anchor": "y6",
         "domain": [
          0.55,
          1
         ],
         "range": [
          -1,
          24
         ]
        },
        "yaxis": {
         "anchor": "x",
         "domain": [
          0.7777777777777779,
          1
         ]
        },
        "yaxis2": {
         "anchor": "x2",
         "domain": [
          0.7777777777777779,
          1
         ]
        },
        "yaxis3": {
         "anchor": "x3",
         "domain": [
          0.38888888888888895,
          0.6111111111111112
         ],
         "title": {
          "text": "PDF"
         }
        },
        "yaxis4": {
         "anchor": "x4",
         "domain": [
          0.38888888888888895,
          0.6111111111111112
         ],
         "title": {
          "text": "Sample Quantities"
         }
        },
        "yaxis5": {
         "anchor": "x5",
         "domain": [
          0,
          0.22222222222222227
         ],
         "range": [
          -1.1,
          1.1
         ],
         "zerolinecolor": "#000000"
        },
        "yaxis6": {
         "anchor": "x6",
         "domain": [
          0,
          0.22222222222222227
         ],
         "range": [
          -1.1,
          1.1
         ],
         "zerolinecolor": "#000000"
        }
       }
      }
     },
     "metadata": {},
     "output_type": "display_data"
    }
   ],
   "source": [
    "exp.plot_model(ar1, plot='diagnostics')"
   ]
  },
  {
   "cell_type": "markdown",
   "metadata": {},
   "source": [
    "The residuals appear to be stationary"
   ]
  },
  {
   "cell_type": "code",
   "execution_count": 30,
   "metadata": {},
   "outputs": [
    {
     "data": {
      "text/html": [
       "<div>\n",
       "<style scoped>\n",
       "    .dataframe tbody tr th:only-of-type {\n",
       "        vertical-align: middle;\n",
       "    }\n",
       "\n",
       "    .dataframe tbody tr th {\n",
       "        vertical-align: top;\n",
       "    }\n",
       "\n",
       "    .dataframe thead th {\n",
       "        text-align: right;\n",
       "    }\n",
       "</style>\n",
       "<table border=\"1\" class=\"dataframe\">\n",
       "  <thead>\n",
       "    <tr style=\"text-align: right;\">\n",
       "      <th></th>\n",
       "      <th>Test</th>\n",
       "      <th>Test Name</th>\n",
       "      <th>Data</th>\n",
       "      <th>Property</th>\n",
       "      <th>Setting</th>\n",
       "      <th>Value</th>\n",
       "    </tr>\n",
       "  </thead>\n",
       "  <tbody>\n",
       "    <tr>\n",
       "      <th>0</th>\n",
       "      <td>Stationarity</td>\n",
       "      <td>ADF</td>\n",
       "      <td>Residual</td>\n",
       "      <td>Stationarity</td>\n",
       "      <td>{'alpha': 0.05}</td>\n",
       "      <td>True</td>\n",
       "    </tr>\n",
       "    <tr>\n",
       "      <th>1</th>\n",
       "      <td>Stationarity</td>\n",
       "      <td>ADF</td>\n",
       "      <td>Residual</td>\n",
       "      <td>p-value</td>\n",
       "      <td>{'alpha': 0.05}</td>\n",
       "      <td>0.0</td>\n",
       "    </tr>\n",
       "    <tr>\n",
       "      <th>2</th>\n",
       "      <td>Stationarity</td>\n",
       "      <td>ADF</td>\n",
       "      <td>Residual</td>\n",
       "      <td>Test Statistic</td>\n",
       "      <td>{'alpha': 0.05}</td>\n",
       "      <td>-6.338772</td>\n",
       "    </tr>\n",
       "    <tr>\n",
       "      <th>3</th>\n",
       "      <td>Stationarity</td>\n",
       "      <td>ADF</td>\n",
       "      <td>Residual</td>\n",
       "      <td>Critical Value 1%</td>\n",
       "      <td>{'alpha': 0.05}</td>\n",
       "      <td>-3.46828</td>\n",
       "    </tr>\n",
       "    <tr>\n",
       "      <th>4</th>\n",
       "      <td>Stationarity</td>\n",
       "      <td>ADF</td>\n",
       "      <td>Residual</td>\n",
       "      <td>Critical Value 5%</td>\n",
       "      <td>{'alpha': 0.05}</td>\n",
       "      <td>-2.878202</td>\n",
       "    </tr>\n",
       "    <tr>\n",
       "      <th>5</th>\n",
       "      <td>Stationarity</td>\n",
       "      <td>ADF</td>\n",
       "      <td>Residual</td>\n",
       "      <td>Critical Value 10%</td>\n",
       "      <td>{'alpha': 0.05}</td>\n",
       "      <td>-2.575653</td>\n",
       "    </tr>\n",
       "  </tbody>\n",
       "</table>\n",
       "</div>"
      ],
      "text/plain": [
       "           Test Test Name      Data            Property          Setting  \\\n",
       "0  Stationarity       ADF  Residual        Stationarity  {'alpha': 0.05}   \n",
       "1  Stationarity       ADF  Residual             p-value  {'alpha': 0.05}   \n",
       "2  Stationarity       ADF  Residual      Test Statistic  {'alpha': 0.05}   \n",
       "3  Stationarity       ADF  Residual   Critical Value 1%  {'alpha': 0.05}   \n",
       "4  Stationarity       ADF  Residual   Critical Value 5%  {'alpha': 0.05}   \n",
       "5  Stationarity       ADF  Residual  Critical Value 10%  {'alpha': 0.05}   \n",
       "\n",
       "      Value  \n",
       "0      True  \n",
       "1       0.0  \n",
       "2 -6.338772  \n",
       "3  -3.46828  \n",
       "4 -2.878202  \n",
       "5 -2.575653  "
      ]
     },
     "execution_count": 30,
     "metadata": {},
     "output_type": "execute_result"
    }
   ],
   "source": [
    "exp.check_stats(ar1, test = 'adf')"
   ]
  },
  {
   "cell_type": "markdown",
   "metadata": {},
   "source": [
    "The p-value is 0 meaning the residuals are stationary"
   ]
  },
  {
   "cell_type": "markdown",
   "metadata": {},
   "source": [
    "# Auto ARIMA and Auto ETS"
   ]
  },
  {
   "cell_type": "code",
   "execution_count": 31,
   "metadata": {},
   "outputs": [
    {
     "data": {
      "text/html": [],
      "text/plain": [
       "<IPython.core.display.HTML object>"
      ]
     },
     "metadata": {},
     "output_type": "display_data"
    },
    {
     "data": {
      "text/html": [
       "<style type=\"text/css\">\n",
       "</style>\n",
       "<table id=\"T_81b4b\">\n",
       "  <thead>\n",
       "    <tr>\n",
       "      <th class=\"blank level0\" >&nbsp;</th>\n",
       "      <th id=\"T_81b4b_level0_col0\" class=\"col_heading level0 col0\" >MASE</th>\n",
       "      <th id=\"T_81b4b_level0_col1\" class=\"col_heading level0 col1\" >RMSSE</th>\n",
       "      <th id=\"T_81b4b_level0_col2\" class=\"col_heading level0 col2\" >MAE</th>\n",
       "      <th id=\"T_81b4b_level0_col3\" class=\"col_heading level0 col3\" >RMSE</th>\n",
       "      <th id=\"T_81b4b_level0_col4\" class=\"col_heading level0 col4\" >MAPE</th>\n",
       "      <th id=\"T_81b4b_level0_col5\" class=\"col_heading level0 col5\" >SMAPE</th>\n",
       "      <th id=\"T_81b4b_level0_col6\" class=\"col_heading level0 col6\" >R2</th>\n",
       "    </tr>\n",
       "  </thead>\n",
       "  <tbody>\n",
       "    <tr>\n",
       "      <th id=\"T_81b4b_level0_row0\" class=\"row_heading level0 row0\" >Test</th>\n",
       "      <td id=\"T_81b4b_row0_col0\" class=\"data row0 col0\" >2.6993</td>\n",
       "      <td id=\"T_81b4b_row0_col1\" class=\"data row0 col1\" >2.5990</td>\n",
       "      <td id=\"T_81b4b_row0_col2\" class=\"data row0 col2\" >7.1211</td>\n",
       "      <td id=\"T_81b4b_row0_col3\" class=\"data row0 col3\" >8.1768</td>\n",
       "      <td id=\"T_81b4b_row0_col4\" class=\"data row0 col4\" >0.0342</td>\n",
       "      <td id=\"T_81b4b_row0_col5\" class=\"data row0 col5\" >0.0350</td>\n",
       "      <td id=\"T_81b4b_row0_col6\" class=\"data row0 col6\" >0.3243</td>\n",
       "    </tr>\n",
       "  </tbody>\n",
       "</table>\n"
      ],
      "text/plain": [
       "<pandas.io.formats.style.Styler at 0x17f4bd1d0>"
      ]
     },
     "metadata": {},
     "output_type": "display_data"
    },
    {
     "data": {
      "text/html": [],
      "text/plain": [
       "<IPython.core.display.HTML object>"
      ]
     },
     "metadata": {},
     "output_type": "display_data"
    }
   ],
   "source": [
    "auto_arima = exp.create_model('auto_arima', cross_validation=False)"
   ]
  },
  {
   "cell_type": "code",
   "execution_count": 32,
   "metadata": {},
   "outputs": [
    {
     "data": {
      "text/html": [],
      "text/plain": [
       "<IPython.core.display.HTML object>"
      ]
     },
     "metadata": {},
     "output_type": "display_data"
    },
    {
     "data": {
      "text/html": [
       "<style type=\"text/css\">\n",
       "</style>\n",
       "<table id=\"T_19741\">\n",
       "  <thead>\n",
       "    <tr>\n",
       "      <th class=\"blank level0\" >&nbsp;</th>\n",
       "      <th id=\"T_19741_level0_col0\" class=\"col_heading level0 col0\" >MASE</th>\n",
       "      <th id=\"T_19741_level0_col1\" class=\"col_heading level0 col1\" >RMSSE</th>\n",
       "      <th id=\"T_19741_level0_col2\" class=\"col_heading level0 col2\" >MAE</th>\n",
       "      <th id=\"T_19741_level0_col3\" class=\"col_heading level0 col3\" >RMSE</th>\n",
       "      <th id=\"T_19741_level0_col4\" class=\"col_heading level0 col4\" >MAPE</th>\n",
       "      <th id=\"T_19741_level0_col5\" class=\"col_heading level0 col5\" >SMAPE</th>\n",
       "      <th id=\"T_19741_level0_col6\" class=\"col_heading level0 col6\" >R2</th>\n",
       "    </tr>\n",
       "  </thead>\n",
       "  <tbody>\n",
       "    <tr>\n",
       "      <th id=\"T_19741_level0_row0\" class=\"row_heading level0 row0\" >Test</th>\n",
       "      <td id=\"T_19741_row0_col0\" class=\"data row0 col0\" >2.8143</td>\n",
       "      <td id=\"T_19741_row0_col1\" class=\"data row0 col1\" >2.7095</td>\n",
       "      <td id=\"T_19741_row0_col2\" class=\"data row0 col2\" >7.4247</td>\n",
       "      <td id=\"T_19741_row0_col3\" class=\"data row0 col3\" >8.5244</td>\n",
       "      <td id=\"T_19741_row0_col4\" class=\"data row0 col4\" >0.0356</td>\n",
       "      <td id=\"T_19741_row0_col5\" class=\"data row0 col5\" >0.0365</td>\n",
       "      <td id=\"T_19741_row0_col6\" class=\"data row0 col6\" >0.2657</td>\n",
       "    </tr>\n",
       "  </tbody>\n",
       "</table>\n"
      ],
      "text/plain": [
       "<pandas.io.formats.style.Styler at 0x306c71350>"
      ]
     },
     "metadata": {},
     "output_type": "display_data"
    },
    {
     "data": {
      "text/html": [],
      "text/plain": [
       "<IPython.core.display.HTML object>"
      ]
     },
     "metadata": {},
     "output_type": "display_data"
    }
   ],
   "source": [
    "auto_ets = exp.create_model('ets', cross_validation=False)"
   ]
  },
  {
   "cell_type": "code",
   "execution_count": 33,
   "metadata": {},
   "outputs": [
    {
     "data": {
      "text/html": [],
      "text/plain": [
       "<IPython.core.display.HTML object>"
      ]
     },
     "metadata": {},
     "output_type": "display_data"
    },
    {
     "data": {
      "text/html": [
       "<style type=\"text/css\">\n",
       "#T_8c8b5 th {\n",
       "  text-align: left;\n",
       "}\n",
       "#T_8c8b5_row0_col0, #T_8c8b5_row1_col0, #T_8c8b5_row1_col1, #T_8c8b5_row1_col2, #T_8c8b5_row1_col3, #T_8c8b5_row1_col4, #T_8c8b5_row1_col5, #T_8c8b5_row1_col6, #T_8c8b5_row1_col7, #T_8c8b5_row2_col0, #T_8c8b5_row2_col1, #T_8c8b5_row2_col2, #T_8c8b5_row2_col3, #T_8c8b5_row2_col4, #T_8c8b5_row2_col5, #T_8c8b5_row2_col6, #T_8c8b5_row2_col7 {\n",
       "  text-align: left;\n",
       "}\n",
       "#T_8c8b5_row0_col1, #T_8c8b5_row0_col2, #T_8c8b5_row0_col3, #T_8c8b5_row0_col4, #T_8c8b5_row0_col5, #T_8c8b5_row0_col6, #T_8c8b5_row0_col7 {\n",
       "  text-align: left;\n",
       "  background-color: yellow;\n",
       "}\n",
       "#T_8c8b5_row0_col8, #T_8c8b5_row2_col8 {\n",
       "  text-align: left;\n",
       "  background-color: lightgrey;\n",
       "}\n",
       "#T_8c8b5_row1_col8 {\n",
       "  text-align: left;\n",
       "  background-color: yellow;\n",
       "  background-color: lightgrey;\n",
       "}\n",
       "</style>\n",
       "<table id=\"T_8c8b5\">\n",
       "  <thead>\n",
       "    <tr>\n",
       "      <th class=\"blank level0\" >&nbsp;</th>\n",
       "      <th id=\"T_8c8b5_level0_col0\" class=\"col_heading level0 col0\" >Model</th>\n",
       "      <th id=\"T_8c8b5_level0_col1\" class=\"col_heading level0 col1\" >MASE</th>\n",
       "      <th id=\"T_8c8b5_level0_col2\" class=\"col_heading level0 col2\" >RMSSE</th>\n",
       "      <th id=\"T_8c8b5_level0_col3\" class=\"col_heading level0 col3\" >MAE</th>\n",
       "      <th id=\"T_8c8b5_level0_col4\" class=\"col_heading level0 col4\" >RMSE</th>\n",
       "      <th id=\"T_8c8b5_level0_col5\" class=\"col_heading level0 col5\" >MAPE</th>\n",
       "      <th id=\"T_8c8b5_level0_col6\" class=\"col_heading level0 col6\" >SMAPE</th>\n",
       "      <th id=\"T_8c8b5_level0_col7\" class=\"col_heading level0 col7\" >R2</th>\n",
       "      <th id=\"T_8c8b5_level0_col8\" class=\"col_heading level0 col8\" >TT (Sec)</th>\n",
       "    </tr>\n",
       "  </thead>\n",
       "  <tbody>\n",
       "    <tr>\n",
       "      <th id=\"T_8c8b5_level0_row0\" class=\"row_heading level0 row0\" >0</th>\n",
       "      <td id=\"T_8c8b5_row0_col0\" class=\"data row0 col0\" >Auto ARIMA</td>\n",
       "      <td id=\"T_8c8b5_row0_col1\" class=\"data row0 col1\" >2.6993</td>\n",
       "      <td id=\"T_8c8b5_row0_col2\" class=\"data row0 col2\" >2.5990</td>\n",
       "      <td id=\"T_8c8b5_row0_col3\" class=\"data row0 col3\" >7.1211</td>\n",
       "      <td id=\"T_8c8b5_row0_col4\" class=\"data row0 col4\" >8.1768</td>\n",
       "      <td id=\"T_8c8b5_row0_col5\" class=\"data row0 col5\" >0.0342</td>\n",
       "      <td id=\"T_8c8b5_row0_col6\" class=\"data row0 col6\" >0.0350</td>\n",
       "      <td id=\"T_8c8b5_row0_col7\" class=\"data row0 col7\" >0.3243</td>\n",
       "      <td id=\"T_8c8b5_row0_col8\" class=\"data row0 col8\" >3.1000</td>\n",
       "    </tr>\n",
       "    <tr>\n",
       "      <th id=\"T_8c8b5_level0_row1\" class=\"row_heading level0 row1\" >2</th>\n",
       "      <td id=\"T_8c8b5_row1_col0\" class=\"data row1 col0\" >ARIMA</td>\n",
       "      <td id=\"T_8c8b5_row1_col1\" class=\"data row1 col1\" >2.7906</td>\n",
       "      <td id=\"T_8c8b5_row1_col2\" class=\"data row1 col2\" >2.7050</td>\n",
       "      <td id=\"T_8c8b5_row1_col3\" class=\"data row1 col3\" >7.3620</td>\n",
       "      <td id=\"T_8c8b5_row1_col4\" class=\"data row1 col4\" >8.5105</td>\n",
       "      <td id=\"T_8c8b5_row1_col5\" class=\"data row1 col5\" >0.0353</td>\n",
       "      <td id=\"T_8c8b5_row1_col6\" class=\"data row1 col6\" >0.0361</td>\n",
       "      <td id=\"T_8c8b5_row1_col7\" class=\"data row1 col7\" >0.2681</td>\n",
       "      <td id=\"T_8c8b5_row1_col8\" class=\"data row1 col8\" >0.0400</td>\n",
       "    </tr>\n",
       "    <tr>\n",
       "      <th id=\"T_8c8b5_level0_row2\" class=\"row_heading level0 row2\" >1</th>\n",
       "      <td id=\"T_8c8b5_row2_col0\" class=\"data row2 col0\" >ETS</td>\n",
       "      <td id=\"T_8c8b5_row2_col1\" class=\"data row2 col1\" >2.8143</td>\n",
       "      <td id=\"T_8c8b5_row2_col2\" class=\"data row2 col2\" >2.7095</td>\n",
       "      <td id=\"T_8c8b5_row2_col3\" class=\"data row2 col3\" >7.4247</td>\n",
       "      <td id=\"T_8c8b5_row2_col4\" class=\"data row2 col4\" >8.5244</td>\n",
       "      <td id=\"T_8c8b5_row2_col5\" class=\"data row2 col5\" >0.0356</td>\n",
       "      <td id=\"T_8c8b5_row2_col6\" class=\"data row2 col6\" >0.0365</td>\n",
       "      <td id=\"T_8c8b5_row2_col7\" class=\"data row2 col7\" >0.2657</td>\n",
       "      <td id=\"T_8c8b5_row2_col8\" class=\"data row2 col8\" >0.0800</td>\n",
       "    </tr>\n",
       "  </tbody>\n",
       "</table>\n"
      ],
      "text/plain": [
       "<pandas.io.formats.style.Styler at 0x306cc2e90>"
      ]
     },
     "metadata": {},
     "output_type": "display_data"
    },
    {
     "data": {
      "text/html": [],
      "text/plain": [
       "<IPython.core.display.HTML object>"
      ]
     },
     "metadata": {},
     "output_type": "display_data"
    },
    {
     "data": {
      "text/html": [
       "<style>#sk-8f82359c-5e06-4cc8-bdd5-ab0f68869df5 {color: black;background-color: white;}#sk-8f82359c-5e06-4cc8-bdd5-ab0f68869df5 pre{padding: 0;}#sk-8f82359c-5e06-4cc8-bdd5-ab0f68869df5 div.sk-toggleable {background-color: white;}#sk-8f82359c-5e06-4cc8-bdd5-ab0f68869df5 label.sk-toggleable__label {cursor: pointer;display: block;width: 100%;margin-bottom: 0;padding: 0.3em;box-sizing: border-box;text-align: center;}#sk-8f82359c-5e06-4cc8-bdd5-ab0f68869df5 label.sk-toggleable__label-arrow:before {content: \"▸\";float: left;margin-right: 0.25em;color: #696969;}#sk-8f82359c-5e06-4cc8-bdd5-ab0f68869df5 label.sk-toggleable__label-arrow:hover:before {color: black;}#sk-8f82359c-5e06-4cc8-bdd5-ab0f68869df5 div.sk-estimator:hover label.sk-toggleable__label-arrow:before {color: black;}#sk-8f82359c-5e06-4cc8-bdd5-ab0f68869df5 div.sk-toggleable__content {max-height: 0;max-width: 0;overflow: hidden;text-align: left;background-color: #f0f8ff;}#sk-8f82359c-5e06-4cc8-bdd5-ab0f68869df5 div.sk-toggleable__content pre {margin: 0.2em;color: black;border-radius: 0.25em;background-color: #f0f8ff;}#sk-8f82359c-5e06-4cc8-bdd5-ab0f68869df5 input.sk-toggleable__control:checked~div.sk-toggleable__content {max-height: 200px;max-width: 100%;overflow: auto;}#sk-8f82359c-5e06-4cc8-bdd5-ab0f68869df5 input.sk-toggleable__control:checked~label.sk-toggleable__label-arrow:before {content: \"▾\";}#sk-8f82359c-5e06-4cc8-bdd5-ab0f68869df5 div.sk-estimator input.sk-toggleable__control:checked~label.sk-toggleable__label {background-color: #d4ebff;}#sk-8f82359c-5e06-4cc8-bdd5-ab0f68869df5 div.sk-label input.sk-toggleable__control:checked~label.sk-toggleable__label {background-color: #d4ebff;}#sk-8f82359c-5e06-4cc8-bdd5-ab0f68869df5 input.sk-hidden--visually {border: 0;clip: rect(1px 1px 1px 1px);clip: rect(1px, 1px, 1px, 1px);height: 1px;margin: -1px;overflow: hidden;padding: 0;position: absolute;width: 1px;}#sk-8f82359c-5e06-4cc8-bdd5-ab0f68869df5 div.sk-estimator {font-family: monospace;background-color: #f0f8ff;border: 1px dotted black;border-radius: 0.25em;box-sizing: border-box;margin-bottom: 0.5em;}#sk-8f82359c-5e06-4cc8-bdd5-ab0f68869df5 div.sk-estimator:hover {background-color: #d4ebff;}#sk-8f82359c-5e06-4cc8-bdd5-ab0f68869df5 div.sk-parallel-item::after {content: \"\";width: 100%;border-bottom: 1px solid gray;flex-grow: 1;}#sk-8f82359c-5e06-4cc8-bdd5-ab0f68869df5 div.sk-label:hover label.sk-toggleable__label {background-color: #d4ebff;}#sk-8f82359c-5e06-4cc8-bdd5-ab0f68869df5 div.sk-serial::before {content: \"\";position: absolute;border-left: 1px solid gray;box-sizing: border-box;top: 2em;bottom: 0;left: 50%;}#sk-8f82359c-5e06-4cc8-bdd5-ab0f68869df5 div.sk-serial {display: flex;flex-direction: column;align-items: center;background-color: white;padding-right: 0.2em;padding-left: 0.2em;}#sk-8f82359c-5e06-4cc8-bdd5-ab0f68869df5 div.sk-item {z-index: 1;}#sk-8f82359c-5e06-4cc8-bdd5-ab0f68869df5 div.sk-parallel {display: flex;align-items: stretch;justify-content: center;background-color: white;}#sk-8f82359c-5e06-4cc8-bdd5-ab0f68869df5 div.sk-parallel::before {content: \"\";position: absolute;border-left: 1px solid gray;box-sizing: border-box;top: 2em;bottom: 0;left: 50%;}#sk-8f82359c-5e06-4cc8-bdd5-ab0f68869df5 div.sk-parallel-item {display: flex;flex-direction: column;position: relative;background-color: white;}#sk-8f82359c-5e06-4cc8-bdd5-ab0f68869df5 div.sk-parallel-item:first-child::after {align-self: flex-end;width: 50%;}#sk-8f82359c-5e06-4cc8-bdd5-ab0f68869df5 div.sk-parallel-item:last-child::after {align-self: flex-start;width: 50%;}#sk-8f82359c-5e06-4cc8-bdd5-ab0f68869df5 div.sk-parallel-item:only-child::after {width: 0;}#sk-8f82359c-5e06-4cc8-bdd5-ab0f68869df5 div.sk-dashed-wrapped {border: 1px dashed gray;margin: 0 0.4em 0.5em 0.4em;box-sizing: border-box;padding-bottom: 0.4em;background-color: white;position: relative;}#sk-8f82359c-5e06-4cc8-bdd5-ab0f68869df5 div.sk-label label {font-family: monospace;font-weight: bold;background-color: white;display: inline-block;line-height: 1.2em;}#sk-8f82359c-5e06-4cc8-bdd5-ab0f68869df5 div.sk-label-container {position: relative;z-index: 2;text-align: center;}#sk-8f82359c-5e06-4cc8-bdd5-ab0f68869df5 div.sk-container {/* jupyter's `normalize.less` sets `[hidden] { display: none; }` but bootstrap.min.css set `[hidden] { display: none !important; }` so we also need the `!important` here to be able to override the default hidden behavior on the sphinx rendered scikit-learn.org. See: https://github.com/scikit-learn/scikit-learn/issues/21755 */display: inline-block !important;position: relative;}#sk-8f82359c-5e06-4cc8-bdd5-ab0f68869df5 div.sk-text-repr-fallback {display: none;}</style><div id='sk-8f82359c-5e06-4cc8-bdd5-ab0f68869df5' class=\"sk-top-container\"><div class=\"sk-text-repr-fallback\"><pre>AutoARIMA(random_state=1480, sp=3, suppress_warnings=True)</pre><b>Please rerun this cell to show the HTML repr or trust the notebook.</b></div><div class=\"sk-container\" hidden><div class='sk-item'><div class=\"sk-estimator sk-toggleable\"><input class=\"sk-toggleable__control sk-hidden--visually\" id=UUID('12023480-af8e-4782-8597-a91903543235') type=\"checkbox\" checked><label for=UUID('12023480-af8e-4782-8597-a91903543235') class='sk-toggleable__label sk-toggleable__label-arrow'>AutoARIMA</label><div class=\"sk-toggleable__content\"><pre>AutoARIMA(random_state=1480, sp=3, suppress_warnings=True)</pre></div></div></div></div></div>"
      ],
      "text/plain": [
       "AutoARIMA(random_state=1480, sp=3, suppress_warnings=True)"
      ]
     },
     "execution_count": 33,
     "metadata": {},
     "output_type": "execute_result"
    }
   ],
   "source": [
    "comparison_models = [auto_arima, auto_ets, ar1]\n",
    "exp.compare_models(comparison_models, cross_validation=False, sort='r2')"
   ]
  },
  {
   "cell_type": "code",
   "execution_count": 34,
   "metadata": {},
   "outputs": [
    {
     "data": {
      "application/vnd.plotly.v1+json": {
       "config": {
        "plotlyServerURL": "https://plot.ly"
       },
       "data": [
        {
         "line": {
          "color": "rgb(31, 119, 180)",
          "width": 2
         },
         "marker": {
          "color": "rgb(31, 119, 180)",
          "size": 5
         },
         "mode": "lines+markers",
         "name": "cpi",
         "type": "scattergl",
         "x": [
          "1959-01-01T00:00:00",
          "1959-04-01T00:00:00",
          "1959-07-01T00:00:00",
          "1959-10-01T00:00:00",
          "1960-01-01T00:00:00",
          "1960-04-01T00:00:00",
          "1960-07-01T00:00:00",
          "1960-10-01T00:00:00",
          "1961-01-01T00:00:00",
          "1961-04-01T00:00:00",
          "1961-07-01T00:00:00",
          "1961-10-01T00:00:00",
          "1962-01-01T00:00:00",
          "1962-04-01T00:00:00",
          "1962-07-01T00:00:00",
          "1962-10-01T00:00:00",
          "1963-01-01T00:00:00",
          "1963-04-01T00:00:00",
          "1963-07-01T00:00:00",
          "1963-10-01T00:00:00",
          "1964-01-01T00:00:00",
          "1964-04-01T00:00:00",
          "1964-07-01T00:00:00",
          "1964-10-01T00:00:00",
          "1965-01-01T00:00:00",
          "1965-04-01T00:00:00",
          "1965-07-01T00:00:00",
          "1965-10-01T00:00:00",
          "1966-01-01T00:00:00",
          "1966-04-01T00:00:00",
          "1966-07-01T00:00:00",
          "1966-10-01T00:00:00",
          "1967-01-01T00:00:00",
          "1967-04-01T00:00:00",
          "1967-07-01T00:00:00",
          "1967-10-01T00:00:00",
          "1968-01-01T00:00:00",
          "1968-04-01T00:00:00",
          "1968-07-01T00:00:00",
          "1968-10-01T00:00:00",
          "1969-01-01T00:00:00",
          "1969-04-01T00:00:00",
          "1969-07-01T00:00:00",
          "1969-10-01T00:00:00",
          "1970-01-01T00:00:00",
          "1970-04-01T00:00:00",
          "1970-07-01T00:00:00",
          "1970-10-01T00:00:00",
          "1971-01-01T00:00:00",
          "1971-04-01T00:00:00",
          "1971-07-01T00:00:00",
          "1971-10-01T00:00:00",
          "1972-01-01T00:00:00",
          "1972-04-01T00:00:00",
          "1972-07-01T00:00:00",
          "1972-10-01T00:00:00",
          "1973-01-01T00:00:00",
          "1973-04-01T00:00:00",
          "1973-07-01T00:00:00",
          "1973-10-01T00:00:00",
          "1974-01-01T00:00:00",
          "1974-04-01T00:00:00",
          "1974-07-01T00:00:00",
          "1974-10-01T00:00:00",
          "1975-01-01T00:00:00",
          "1975-04-01T00:00:00",
          "1975-07-01T00:00:00",
          "1975-10-01T00:00:00",
          "1976-01-01T00:00:00",
          "1976-04-01T00:00:00",
          "1976-07-01T00:00:00",
          "1976-10-01T00:00:00",
          "1977-01-01T00:00:00",
          "1977-04-01T00:00:00",
          "1977-07-01T00:00:00",
          "1977-10-01T00:00:00",
          "1978-01-01T00:00:00",
          "1978-04-01T00:00:00",
          "1978-07-01T00:00:00",
          "1978-10-01T00:00:00",
          "1979-01-01T00:00:00",
          "1979-04-01T00:00:00",
          "1979-07-01T00:00:00",
          "1979-10-01T00:00:00",
          "1980-01-01T00:00:00",
          "1980-04-01T00:00:00",
          "1980-07-01T00:00:00",
          "1980-10-01T00:00:00",
          "1981-01-01T00:00:00",
          "1981-04-01T00:00:00",
          "1981-07-01T00:00:00",
          "1981-10-01T00:00:00",
          "1982-01-01T00:00:00",
          "1982-04-01T00:00:00",
          "1982-07-01T00:00:00",
          "1982-10-01T00:00:00",
          "1983-01-01T00:00:00",
          "1983-04-01T00:00:00",
          "1983-07-01T00:00:00",
          "1983-10-01T00:00:00",
          "1984-01-01T00:00:00",
          "1984-04-01T00:00:00",
          "1984-07-01T00:00:00",
          "1984-10-01T00:00:00",
          "1985-01-01T00:00:00",
          "1985-04-01T00:00:00",
          "1985-07-01T00:00:00",
          "1985-10-01T00:00:00",
          "1986-01-01T00:00:00",
          "1986-04-01T00:00:00",
          "1986-07-01T00:00:00",
          "1986-10-01T00:00:00",
          "1987-01-01T00:00:00",
          "1987-04-01T00:00:00",
          "1987-07-01T00:00:00",
          "1987-10-01T00:00:00",
          "1988-01-01T00:00:00",
          "1988-04-01T00:00:00",
          "1988-07-01T00:00:00",
          "1988-10-01T00:00:00",
          "1989-01-01T00:00:00",
          "1989-04-01T00:00:00",
          "1989-07-01T00:00:00",
          "1989-10-01T00:00:00",
          "1990-01-01T00:00:00",
          "1990-04-01T00:00:00",
          "1990-07-01T00:00:00",
          "1990-10-01T00:00:00",
          "1991-01-01T00:00:00",
          "1991-04-01T00:00:00",
          "1991-07-01T00:00:00",
          "1991-10-01T00:00:00",
          "1992-01-01T00:00:00",
          "1992-04-01T00:00:00",
          "1992-07-01T00:00:00",
          "1992-10-01T00:00:00",
          "1993-01-01T00:00:00",
          "1993-04-01T00:00:00",
          "1993-07-01T00:00:00",
          "1993-10-01T00:00:00",
          "1994-01-01T00:00:00",
          "1994-04-01T00:00:00",
          "1994-07-01T00:00:00",
          "1994-10-01T00:00:00",
          "1995-01-01T00:00:00",
          "1995-04-01T00:00:00",
          "1995-07-01T00:00:00",
          "1995-10-01T00:00:00",
          "1996-01-01T00:00:00",
          "1996-04-01T00:00:00",
          "1996-07-01T00:00:00",
          "1996-10-01T00:00:00",
          "1997-01-01T00:00:00",
          "1997-04-01T00:00:00",
          "1997-07-01T00:00:00",
          "1997-10-01T00:00:00",
          "1998-01-01T00:00:00",
          "1998-04-01T00:00:00",
          "1998-07-01T00:00:00",
          "1998-10-01T00:00:00",
          "1999-01-01T00:00:00",
          "1999-04-01T00:00:00",
          "1999-07-01T00:00:00",
          "1999-10-01T00:00:00",
          "2000-01-01T00:00:00",
          "2000-04-01T00:00:00",
          "2000-07-01T00:00:00",
          "2000-10-01T00:00:00",
          "2001-01-01T00:00:00",
          "2001-04-01T00:00:00",
          "2001-07-01T00:00:00",
          "2001-10-01T00:00:00",
          "2002-01-01T00:00:00",
          "2002-04-01T00:00:00",
          "2002-07-01T00:00:00",
          "2002-10-01T00:00:00",
          "2003-01-01T00:00:00",
          "2003-04-01T00:00:00",
          "2003-07-01T00:00:00",
          "2003-10-01T00:00:00",
          "2004-01-01T00:00:00",
          "2004-04-01T00:00:00",
          "2004-07-01T00:00:00",
          "2004-10-01T00:00:00",
          "2005-01-01T00:00:00",
          "2005-04-01T00:00:00",
          "2005-07-01T00:00:00",
          "2005-10-01T00:00:00",
          "2006-01-01T00:00:00",
          "2006-04-01T00:00:00",
          "2006-07-01T00:00:00",
          "2006-10-01T00:00:00",
          "2007-01-01T00:00:00",
          "2007-04-01T00:00:00",
          "2007-07-01T00:00:00",
          "2007-10-01T00:00:00",
          "2008-01-01T00:00:00",
          "2008-04-01T00:00:00",
          "2008-07-01T00:00:00",
          "2008-10-01T00:00:00",
          "2009-01-01T00:00:00",
          "2009-04-01T00:00:00",
          "2009-07-01T00:00:00",
          "2009-10-01T00:00:00",
          "2010-01-01T00:00:00",
          "2010-04-01T00:00:00",
          "2010-07-01T00:00:00",
          "2010-10-01T00:00:00",
          "2011-01-01T00:00:00",
          "2011-04-01T00:00:00",
          "2011-07-01T00:00:00",
          "2011-10-01T00:00:00",
          "2012-01-01T00:00:00",
          "2012-04-01T00:00:00",
          "2012-07-01T00:00:00"
         ],
         "xaxis": "x",
         "y": [
          28.98,
          29.15,
          29.35,
          29.37,
          29.54,
          29.55,
          29.75,
          29.84,
          29.81,
          29.92,
          29.98,
          30.04,
          30.21,
          30.22,
          30.38,
          30.44,
          30.48,
          30.69,
          30.75,
          30.94,
          30.95,
          31.02,
          31.12,
          31.28,
          31.38,
          31.58,
          31.65,
          31.88,
          32.28,
          32.45,
          32.85,
          32.9,
          33.1,
          33.4,
          33.7,
          34.1,
          34.4,
          34.9,
          35.3,
          35.7,
          36.3,
          36.8,
          37.3,
          37.9,
          38.5,
          38.9,
          39.4,
          39.9,
          40.1,
          40.6,
          40.9,
          41.2,
          41.5,
          41.8,
          42.2,
          42.7,
          43.7,
          44.2,
          45.6,
          46.8,
          48.1,
          49.3,
          51,
          52.3,
          53,
          54,
          54.9,
          55.8,
          56.1,
          57,
          57.9,
          58.7,
          60,
          60.8,
          61.6,
          62.7,
          63.9,
          65.5,
          67.1,
          68.5,
          70.6,
          73,
          75.2,
          78,
          80.9,
          82.6,
          84.7,
          87.2,
          89.1,
          91.5,
          93.4,
          94.4,
          95,
          97.5,
          98.1,
          97.9,
          98.8,
          99.8,
          100.8,
          102.1,
          103.3,
          104.1,
          105.1,
          105.7,
          107,
          107.7,
          108.5,
          109.9,
          108.7,
          109.5,
          110.2,
          111.4,
          112.7,
          113.8,
          115,
          116,
          117.2,
          118.5,
          119.9,
          121.2,
          123.1,
          124.5,
          125.4,
          127.5,
          128.9,
          130.5,
          133.4,
          134.7,
          135.1,
          136.2,
          137.2,
          138.3,
          139.4,
          140.5,
          141.7,
          142.8,
          143.8,
          144.5,
          145.6,
          146.3,
          147.2,
          148.4,
          149.4,
          150.5,
          151.8,
          152.6,
          153.5,
          154.7,
          156.1,
          157,
          158.2,
          159.4,
          159.9,
          160.4,
          161.5,
          162,
          162.2,
          163.2,
          163.9,
          164.7,
          165.9,
          166.7,
          168.1,
          169.3,
          170.9,
          172.7,
          173.9,
          175.6,
          176.4,
          177.4,
          177.6,
          177.7,
          179.3,
          180,
          181.2,
          182.6,
          183.2,
          183.7,
          184.9,
          186.3,
          187.4,
          189.1,
          190.8,
          191.8,
          193.8,
          194.7,
          199.2,
          199.4,
          200.7,
          202.7,
          201.9,
          203.574,
          205.92,
          207.338,
          209.133,
          212.495,
          213.997,
          218.61,
          216.889,
          212.174,
          212.671,
          214.469,
          216.385,
          null,
          null,
          null,
          null,
          null,
          null,
          null,
          null,
          null,
          null,
          null,
          null
         ],
         "yaxis": "y"
        },
        {
         "line": {
          "color": "rgb(255, 127, 14)",
          "width": 2
         },
         "marker": {
          "color": "rgb(255, 127, 14)",
          "size": 5
         },
         "mode": "lines+markers",
         "name": "Auto ARIMA",
         "type": "scattergl",
         "x": [
          "1959-01-01T00:00:00",
          "1959-04-01T00:00:00",
          "1959-07-01T00:00:00",
          "1959-10-01T00:00:00",
          "1960-01-01T00:00:00",
          "1960-04-01T00:00:00",
          "1960-07-01T00:00:00",
          "1960-10-01T00:00:00",
          "1961-01-01T00:00:00",
          "1961-04-01T00:00:00",
          "1961-07-01T00:00:00",
          "1961-10-01T00:00:00",
          "1962-01-01T00:00:00",
          "1962-04-01T00:00:00",
          "1962-07-01T00:00:00",
          "1962-10-01T00:00:00",
          "1963-01-01T00:00:00",
          "1963-04-01T00:00:00",
          "1963-07-01T00:00:00",
          "1963-10-01T00:00:00",
          "1964-01-01T00:00:00",
          "1964-04-01T00:00:00",
          "1964-07-01T00:00:00",
          "1964-10-01T00:00:00",
          "1965-01-01T00:00:00",
          "1965-04-01T00:00:00",
          "1965-07-01T00:00:00",
          "1965-10-01T00:00:00",
          "1966-01-01T00:00:00",
          "1966-04-01T00:00:00",
          "1966-07-01T00:00:00",
          "1966-10-01T00:00:00",
          "1967-01-01T00:00:00",
          "1967-04-01T00:00:00",
          "1967-07-01T00:00:00",
          "1967-10-01T00:00:00",
          "1968-01-01T00:00:00",
          "1968-04-01T00:00:00",
          "1968-07-01T00:00:00",
          "1968-10-01T00:00:00",
          "1969-01-01T00:00:00",
          "1969-04-01T00:00:00",
          "1969-07-01T00:00:00",
          "1969-10-01T00:00:00",
          "1970-01-01T00:00:00",
          "1970-04-01T00:00:00",
          "1970-07-01T00:00:00",
          "1970-10-01T00:00:00",
          "1971-01-01T00:00:00",
          "1971-04-01T00:00:00",
          "1971-07-01T00:00:00",
          "1971-10-01T00:00:00",
          "1972-01-01T00:00:00",
          "1972-04-01T00:00:00",
          "1972-07-01T00:00:00",
          "1972-10-01T00:00:00",
          "1973-01-01T00:00:00",
          "1973-04-01T00:00:00",
          "1973-07-01T00:00:00",
          "1973-10-01T00:00:00",
          "1974-01-01T00:00:00",
          "1974-04-01T00:00:00",
          "1974-07-01T00:00:00",
          "1974-10-01T00:00:00",
          "1975-01-01T00:00:00",
          "1975-04-01T00:00:00",
          "1975-07-01T00:00:00",
          "1975-10-01T00:00:00",
          "1976-01-01T00:00:00",
          "1976-04-01T00:00:00",
          "1976-07-01T00:00:00",
          "1976-10-01T00:00:00",
          "1977-01-01T00:00:00",
          "1977-04-01T00:00:00",
          "1977-07-01T00:00:00",
          "1977-10-01T00:00:00",
          "1978-01-01T00:00:00",
          "1978-04-01T00:00:00",
          "1978-07-01T00:00:00",
          "1978-10-01T00:00:00",
          "1979-01-01T00:00:00",
          "1979-04-01T00:00:00",
          "1979-07-01T00:00:00",
          "1979-10-01T00:00:00",
          "1980-01-01T00:00:00",
          "1980-04-01T00:00:00",
          "1980-07-01T00:00:00",
          "1980-10-01T00:00:00",
          "1981-01-01T00:00:00",
          "1981-04-01T00:00:00",
          "1981-07-01T00:00:00",
          "1981-10-01T00:00:00",
          "1982-01-01T00:00:00",
          "1982-04-01T00:00:00",
          "1982-07-01T00:00:00",
          "1982-10-01T00:00:00",
          "1983-01-01T00:00:00",
          "1983-04-01T00:00:00",
          "1983-07-01T00:00:00",
          "1983-10-01T00:00:00",
          "1984-01-01T00:00:00",
          "1984-04-01T00:00:00",
          "1984-07-01T00:00:00",
          "1984-10-01T00:00:00",
          "1985-01-01T00:00:00",
          "1985-04-01T00:00:00",
          "1985-07-01T00:00:00",
          "1985-10-01T00:00:00",
          "1986-01-01T00:00:00",
          "1986-04-01T00:00:00",
          "1986-07-01T00:00:00",
          "1986-10-01T00:00:00",
          "1987-01-01T00:00:00",
          "1987-04-01T00:00:00",
          "1987-07-01T00:00:00",
          "1987-10-01T00:00:00",
          "1988-01-01T00:00:00",
          "1988-04-01T00:00:00",
          "1988-07-01T00:00:00",
          "1988-10-01T00:00:00",
          "1989-01-01T00:00:00",
          "1989-04-01T00:00:00",
          "1989-07-01T00:00:00",
          "1989-10-01T00:00:00",
          "1990-01-01T00:00:00",
          "1990-04-01T00:00:00",
          "1990-07-01T00:00:00",
          "1990-10-01T00:00:00",
          "1991-01-01T00:00:00",
          "1991-04-01T00:00:00",
          "1991-07-01T00:00:00",
          "1991-10-01T00:00:00",
          "1992-01-01T00:00:00",
          "1992-04-01T00:00:00",
          "1992-07-01T00:00:00",
          "1992-10-01T00:00:00",
          "1993-01-01T00:00:00",
          "1993-04-01T00:00:00",
          "1993-07-01T00:00:00",
          "1993-10-01T00:00:00",
          "1994-01-01T00:00:00",
          "1994-04-01T00:00:00",
          "1994-07-01T00:00:00",
          "1994-10-01T00:00:00",
          "1995-01-01T00:00:00",
          "1995-04-01T00:00:00",
          "1995-07-01T00:00:00",
          "1995-10-01T00:00:00",
          "1996-01-01T00:00:00",
          "1996-04-01T00:00:00",
          "1996-07-01T00:00:00",
          "1996-10-01T00:00:00",
          "1997-01-01T00:00:00",
          "1997-04-01T00:00:00",
          "1997-07-01T00:00:00",
          "1997-10-01T00:00:00",
          "1998-01-01T00:00:00",
          "1998-04-01T00:00:00",
          "1998-07-01T00:00:00",
          "1998-10-01T00:00:00",
          "1999-01-01T00:00:00",
          "1999-04-01T00:00:00",
          "1999-07-01T00:00:00",
          "1999-10-01T00:00:00",
          "2000-01-01T00:00:00",
          "2000-04-01T00:00:00",
          "2000-07-01T00:00:00",
          "2000-10-01T00:00:00",
          "2001-01-01T00:00:00",
          "2001-04-01T00:00:00",
          "2001-07-01T00:00:00",
          "2001-10-01T00:00:00",
          "2002-01-01T00:00:00",
          "2002-04-01T00:00:00",
          "2002-07-01T00:00:00",
          "2002-10-01T00:00:00",
          "2003-01-01T00:00:00",
          "2003-04-01T00:00:00",
          "2003-07-01T00:00:00",
          "2003-10-01T00:00:00",
          "2004-01-01T00:00:00",
          "2004-04-01T00:00:00",
          "2004-07-01T00:00:00",
          "2004-10-01T00:00:00",
          "2005-01-01T00:00:00",
          "2005-04-01T00:00:00",
          "2005-07-01T00:00:00",
          "2005-10-01T00:00:00",
          "2006-01-01T00:00:00",
          "2006-04-01T00:00:00",
          "2006-07-01T00:00:00",
          "2006-10-01T00:00:00",
          "2007-01-01T00:00:00",
          "2007-04-01T00:00:00",
          "2007-07-01T00:00:00",
          "2007-10-01T00:00:00",
          "2008-01-01T00:00:00",
          "2008-04-01T00:00:00",
          "2008-07-01T00:00:00",
          "2008-10-01T00:00:00",
          "2009-01-01T00:00:00",
          "2009-04-01T00:00:00",
          "2009-07-01T00:00:00",
          "2009-10-01T00:00:00",
          "2010-01-01T00:00:00",
          "2010-04-01T00:00:00",
          "2010-07-01T00:00:00",
          "2010-10-01T00:00:00",
          "2011-01-01T00:00:00",
          "2011-04-01T00:00:00",
          "2011-07-01T00:00:00",
          "2011-10-01T00:00:00",
          "2012-01-01T00:00:00",
          "2012-04-01T00:00:00",
          "2012-07-01T00:00:00"
         ],
         "xaxis": "x",
         "y": [
          null,
          null,
          null,
          null,
          null,
          null,
          null,
          null,
          null,
          null,
          null,
          null,
          null,
          null,
          null,
          null,
          null,
          null,
          null,
          null,
          null,
          null,
          null,
          null,
          null,
          null,
          null,
          null,
          null,
          null,
          null,
          null,
          null,
          null,
          null,
          null,
          null,
          null,
          null,
          null,
          null,
          null,
          null,
          null,
          null,
          null,
          null,
          null,
          null,
          null,
          null,
          null,
          null,
          null,
          null,
          null,
          null,
          null,
          null,
          null,
          null,
          null,
          null,
          null,
          null,
          null,
          null,
          null,
          null,
          null,
          null,
          null,
          null,
          null,
          null,
          null,
          null,
          null,
          null,
          null,
          null,
          null,
          null,
          null,
          null,
          null,
          null,
          null,
          null,
          null,
          null,
          null,
          null,
          null,
          null,
          null,
          null,
          null,
          null,
          null,
          null,
          null,
          null,
          null,
          null,
          null,
          null,
          null,
          null,
          null,
          null,
          null,
          null,
          null,
          null,
          null,
          null,
          null,
          null,
          null,
          null,
          null,
          null,
          null,
          null,
          null,
          null,
          null,
          null,
          null,
          null,
          null,
          null,
          null,
          null,
          null,
          null,
          null,
          null,
          null,
          null,
          null,
          null,
          null,
          null,
          null,
          null,
          null,
          null,
          null,
          null,
          null,
          null,
          null,
          null,
          null,
          null,
          null,
          null,
          null,
          null,
          null,
          null,
          null,
          null,
          null,
          null,
          null,
          null,
          null,
          null,
          null,
          null,
          null,
          null,
          null,
          null,
          null,
          null,
          185.7396,
          186.5231,
          187.5462,
          188.4417,
          189.3171,
          190.2763,
          191.1908,
          192.0983,
          193.0351,
          193.9562,
          194.8749,
          195.8039,
          196.7274,
          197.65,
          198.5762,
          199.5005,
          200.4245,
          201.3497,
          202.2743,
          203.1988,
          204.1237,
          205.0484,
          205.973,
          206.8978,
          207.8226,
          208.7473,
          209.672,
          210.5968,
          211.5215,
          212.4462,
          213.371,
          214.2957,
          215.2204,
          216.1452,
          217.0699,
          217.9946
         ],
         "yaxis": "y"
        },
        {
         "line": {
          "color": "rgb(44, 160, 44)",
          "width": 2
         },
         "marker": {
          "color": "rgb(44, 160, 44)",
          "size": 5
         },
         "mode": "lines+markers",
         "name": "ETS",
         "type": "scattergl",
         "x": [
          "1959-01-01T00:00:00",
          "1959-04-01T00:00:00",
          "1959-07-01T00:00:00",
          "1959-10-01T00:00:00",
          "1960-01-01T00:00:00",
          "1960-04-01T00:00:00",
          "1960-07-01T00:00:00",
          "1960-10-01T00:00:00",
          "1961-01-01T00:00:00",
          "1961-04-01T00:00:00",
          "1961-07-01T00:00:00",
          "1961-10-01T00:00:00",
          "1962-01-01T00:00:00",
          "1962-04-01T00:00:00",
          "1962-07-01T00:00:00",
          "1962-10-01T00:00:00",
          "1963-01-01T00:00:00",
          "1963-04-01T00:00:00",
          "1963-07-01T00:00:00",
          "1963-10-01T00:00:00",
          "1964-01-01T00:00:00",
          "1964-04-01T00:00:00",
          "1964-07-01T00:00:00",
          "1964-10-01T00:00:00",
          "1965-01-01T00:00:00",
          "1965-04-01T00:00:00",
          "1965-07-01T00:00:00",
          "1965-10-01T00:00:00",
          "1966-01-01T00:00:00",
          "1966-04-01T00:00:00",
          "1966-07-01T00:00:00",
          "1966-10-01T00:00:00",
          "1967-01-01T00:00:00",
          "1967-04-01T00:00:00",
          "1967-07-01T00:00:00",
          "1967-10-01T00:00:00",
          "1968-01-01T00:00:00",
          "1968-04-01T00:00:00",
          "1968-07-01T00:00:00",
          "1968-10-01T00:00:00",
          "1969-01-01T00:00:00",
          "1969-04-01T00:00:00",
          "1969-07-01T00:00:00",
          "1969-10-01T00:00:00",
          "1970-01-01T00:00:00",
          "1970-04-01T00:00:00",
          "1970-07-01T00:00:00",
          "1970-10-01T00:00:00",
          "1971-01-01T00:00:00",
          "1971-04-01T00:00:00",
          "1971-07-01T00:00:00",
          "1971-10-01T00:00:00",
          "1972-01-01T00:00:00",
          "1972-04-01T00:00:00",
          "1972-07-01T00:00:00",
          "1972-10-01T00:00:00",
          "1973-01-01T00:00:00",
          "1973-04-01T00:00:00",
          "1973-07-01T00:00:00",
          "1973-10-01T00:00:00",
          "1974-01-01T00:00:00",
          "1974-04-01T00:00:00",
          "1974-07-01T00:00:00",
          "1974-10-01T00:00:00",
          "1975-01-01T00:00:00",
          "1975-04-01T00:00:00",
          "1975-07-01T00:00:00",
          "1975-10-01T00:00:00",
          "1976-01-01T00:00:00",
          "1976-04-01T00:00:00",
          "1976-07-01T00:00:00",
          "1976-10-01T00:00:00",
          "1977-01-01T00:00:00",
          "1977-04-01T00:00:00",
          "1977-07-01T00:00:00",
          "1977-10-01T00:00:00",
          "1978-01-01T00:00:00",
          "1978-04-01T00:00:00",
          "1978-07-01T00:00:00",
          "1978-10-01T00:00:00",
          "1979-01-01T00:00:00",
          "1979-04-01T00:00:00",
          "1979-07-01T00:00:00",
          "1979-10-01T00:00:00",
          "1980-01-01T00:00:00",
          "1980-04-01T00:00:00",
          "1980-07-01T00:00:00",
          "1980-10-01T00:00:00",
          "1981-01-01T00:00:00",
          "1981-04-01T00:00:00",
          "1981-07-01T00:00:00",
          "1981-10-01T00:00:00",
          "1982-01-01T00:00:00",
          "1982-04-01T00:00:00",
          "1982-07-01T00:00:00",
          "1982-10-01T00:00:00",
          "1983-01-01T00:00:00",
          "1983-04-01T00:00:00",
          "1983-07-01T00:00:00",
          "1983-10-01T00:00:00",
          "1984-01-01T00:00:00",
          "1984-04-01T00:00:00",
          "1984-07-01T00:00:00",
          "1984-10-01T00:00:00",
          "1985-01-01T00:00:00",
          "1985-04-01T00:00:00",
          "1985-07-01T00:00:00",
          "1985-10-01T00:00:00",
          "1986-01-01T00:00:00",
          "1986-04-01T00:00:00",
          "1986-07-01T00:00:00",
          "1986-10-01T00:00:00",
          "1987-01-01T00:00:00",
          "1987-04-01T00:00:00",
          "1987-07-01T00:00:00",
          "1987-10-01T00:00:00",
          "1988-01-01T00:00:00",
          "1988-04-01T00:00:00",
          "1988-07-01T00:00:00",
          "1988-10-01T00:00:00",
          "1989-01-01T00:00:00",
          "1989-04-01T00:00:00",
          "1989-07-01T00:00:00",
          "1989-10-01T00:00:00",
          "1990-01-01T00:00:00",
          "1990-04-01T00:00:00",
          "1990-07-01T00:00:00",
          "1990-10-01T00:00:00",
          "1991-01-01T00:00:00",
          "1991-04-01T00:00:00",
          "1991-07-01T00:00:00",
          "1991-10-01T00:00:00",
          "1992-01-01T00:00:00",
          "1992-04-01T00:00:00",
          "1992-07-01T00:00:00",
          "1992-10-01T00:00:00",
          "1993-01-01T00:00:00",
          "1993-04-01T00:00:00",
          "1993-07-01T00:00:00",
          "1993-10-01T00:00:00",
          "1994-01-01T00:00:00",
          "1994-04-01T00:00:00",
          "1994-07-01T00:00:00",
          "1994-10-01T00:00:00",
          "1995-01-01T00:00:00",
          "1995-04-01T00:00:00",
          "1995-07-01T00:00:00",
          "1995-10-01T00:00:00",
          "1996-01-01T00:00:00",
          "1996-04-01T00:00:00",
          "1996-07-01T00:00:00",
          "1996-10-01T00:00:00",
          "1997-01-01T00:00:00",
          "1997-04-01T00:00:00",
          "1997-07-01T00:00:00",
          "1997-10-01T00:00:00",
          "1998-01-01T00:00:00",
          "1998-04-01T00:00:00",
          "1998-07-01T00:00:00",
          "1998-10-01T00:00:00",
          "1999-01-01T00:00:00",
          "1999-04-01T00:00:00",
          "1999-07-01T00:00:00",
          "1999-10-01T00:00:00",
          "2000-01-01T00:00:00",
          "2000-04-01T00:00:00",
          "2000-07-01T00:00:00",
          "2000-10-01T00:00:00",
          "2001-01-01T00:00:00",
          "2001-04-01T00:00:00",
          "2001-07-01T00:00:00",
          "2001-10-01T00:00:00",
          "2002-01-01T00:00:00",
          "2002-04-01T00:00:00",
          "2002-07-01T00:00:00",
          "2002-10-01T00:00:00",
          "2003-01-01T00:00:00",
          "2003-04-01T00:00:00",
          "2003-07-01T00:00:00",
          "2003-10-01T00:00:00",
          "2004-01-01T00:00:00",
          "2004-04-01T00:00:00",
          "2004-07-01T00:00:00",
          "2004-10-01T00:00:00",
          "2005-01-01T00:00:00",
          "2005-04-01T00:00:00",
          "2005-07-01T00:00:00",
          "2005-10-01T00:00:00",
          "2006-01-01T00:00:00",
          "2006-04-01T00:00:00",
          "2006-07-01T00:00:00",
          "2006-10-01T00:00:00",
          "2007-01-01T00:00:00",
          "2007-04-01T00:00:00",
          "2007-07-01T00:00:00",
          "2007-10-01T00:00:00",
          "2008-01-01T00:00:00",
          "2008-04-01T00:00:00",
          "2008-07-01T00:00:00",
          "2008-10-01T00:00:00",
          "2009-01-01T00:00:00",
          "2009-04-01T00:00:00",
          "2009-07-01T00:00:00",
          "2009-10-01T00:00:00",
          "2010-01-01T00:00:00",
          "2010-04-01T00:00:00",
          "2010-07-01T00:00:00",
          "2010-10-01T00:00:00",
          "2011-01-01T00:00:00",
          "2011-04-01T00:00:00",
          "2011-07-01T00:00:00",
          "2011-10-01T00:00:00",
          "2012-01-01T00:00:00",
          "2012-04-01T00:00:00",
          "2012-07-01T00:00:00"
         ],
         "xaxis": "x",
         "y": [
          null,
          null,
          null,
          null,
          null,
          null,
          null,
          null,
          null,
          null,
          null,
          null,
          null,
          null,
          null,
          null,
          null,
          null,
          null,
          null,
          null,
          null,
          null,
          null,
          null,
          null,
          null,
          null,
          null,
          null,
          null,
          null,
          null,
          null,
          null,
          null,
          null,
          null,
          null,
          null,
          null,
          null,
          null,
          null,
          null,
          null,
          null,
          null,
          null,
          null,
          null,
          null,
          null,
          null,
          null,
          null,
          null,
          null,
          null,
          null,
          null,
          null,
          null,
          null,
          null,
          null,
          null,
          null,
          null,
          null,
          null,
          null,
          null,
          null,
          null,
          null,
          null,
          null,
          null,
          null,
          null,
          null,
          null,
          null,
          null,
          null,
          null,
          null,
          null,
          null,
          null,
          null,
          null,
          null,
          null,
          null,
          null,
          null,
          null,
          null,
          null,
          null,
          null,
          null,
          null,
          null,
          null,
          null,
          null,
          null,
          null,
          null,
          null,
          null,
          null,
          null,
          null,
          null,
          null,
          null,
          null,
          null,
          null,
          null,
          null,
          null,
          null,
          null,
          null,
          null,
          null,
          null,
          null,
          null,
          null,
          null,
          null,
          null,
          null,
          null,
          null,
          null,
          null,
          null,
          null,
          null,
          null,
          null,
          null,
          null,
          null,
          null,
          null,
          null,
          null,
          null,
          null,
          null,
          null,
          null,
          null,
          null,
          null,
          null,
          null,
          null,
          null,
          null,
          null,
          null,
          null,
          null,
          null,
          null,
          null,
          null,
          null,
          null,
          null,
          185.6263,
          186.6106,
          187.5577,
          188.3026,
          189.2883,
          190.2361,
          190.9789,
          191.9659,
          192.9145,
          193.6552,
          194.6435,
          195.593,
          196.3315,
          197.3212,
          198.2714,
          199.0079,
          199.9988,
          200.9498,
          201.6842,
          202.6765,
          203.6282,
          204.3605,
          205.3541,
          206.3066,
          207.0368,
          208.0317,
          208.985,
          209.7131,
          210.7094,
          211.6635,
          212.3894,
          213.387,
          214.3419,
          215.0657,
          216.0646,
          217.0203
         ],
         "yaxis": "y"
        },
        {
         "line": {
          "color": "rgb(214, 39, 40)",
          "width": 2
         },
         "marker": {
          "color": "rgb(214, 39, 40)",
          "size": 5
         },
         "mode": "lines+markers",
         "name": "ARIMA",
         "type": "scattergl",
         "x": [
          "1959-01-01T00:00:00",
          "1959-04-01T00:00:00",
          "1959-07-01T00:00:00",
          "1959-10-01T00:00:00",
          "1960-01-01T00:00:00",
          "1960-04-01T00:00:00",
          "1960-07-01T00:00:00",
          "1960-10-01T00:00:00",
          "1961-01-01T00:00:00",
          "1961-04-01T00:00:00",
          "1961-07-01T00:00:00",
          "1961-10-01T00:00:00",
          "1962-01-01T00:00:00",
          "1962-04-01T00:00:00",
          "1962-07-01T00:00:00",
          "1962-10-01T00:00:00",
          "1963-01-01T00:00:00",
          "1963-04-01T00:00:00",
          "1963-07-01T00:00:00",
          "1963-10-01T00:00:00",
          "1964-01-01T00:00:00",
          "1964-04-01T00:00:00",
          "1964-07-01T00:00:00",
          "1964-10-01T00:00:00",
          "1965-01-01T00:00:00",
          "1965-04-01T00:00:00",
          "1965-07-01T00:00:00",
          "1965-10-01T00:00:00",
          "1966-01-01T00:00:00",
          "1966-04-01T00:00:00",
          "1966-07-01T00:00:00",
          "1966-10-01T00:00:00",
          "1967-01-01T00:00:00",
          "1967-04-01T00:00:00",
          "1967-07-01T00:00:00",
          "1967-10-01T00:00:00",
          "1968-01-01T00:00:00",
          "1968-04-01T00:00:00",
          "1968-07-01T00:00:00",
          "1968-10-01T00:00:00",
          "1969-01-01T00:00:00",
          "1969-04-01T00:00:00",
          "1969-07-01T00:00:00",
          "1969-10-01T00:00:00",
          "1970-01-01T00:00:00",
          "1970-04-01T00:00:00",
          "1970-07-01T00:00:00",
          "1970-10-01T00:00:00",
          "1971-01-01T00:00:00",
          "1971-04-01T00:00:00",
          "1971-07-01T00:00:00",
          "1971-10-01T00:00:00",
          "1972-01-01T00:00:00",
          "1972-04-01T00:00:00",
          "1972-07-01T00:00:00",
          "1972-10-01T00:00:00",
          "1973-01-01T00:00:00",
          "1973-04-01T00:00:00",
          "1973-07-01T00:00:00",
          "1973-10-01T00:00:00",
          "1974-01-01T00:00:00",
          "1974-04-01T00:00:00",
          "1974-07-01T00:00:00",
          "1974-10-01T00:00:00",
          "1975-01-01T00:00:00",
          "1975-04-01T00:00:00",
          "1975-07-01T00:00:00",
          "1975-10-01T00:00:00",
          "1976-01-01T00:00:00",
          "1976-04-01T00:00:00",
          "1976-07-01T00:00:00",
          "1976-10-01T00:00:00",
          "1977-01-01T00:00:00",
          "1977-04-01T00:00:00",
          "1977-07-01T00:00:00",
          "1977-10-01T00:00:00",
          "1978-01-01T00:00:00",
          "1978-04-01T00:00:00",
          "1978-07-01T00:00:00",
          "1978-10-01T00:00:00",
          "1979-01-01T00:00:00",
          "1979-04-01T00:00:00",
          "1979-07-01T00:00:00",
          "1979-10-01T00:00:00",
          "1980-01-01T00:00:00",
          "1980-04-01T00:00:00",
          "1980-07-01T00:00:00",
          "1980-10-01T00:00:00",
          "1981-01-01T00:00:00",
          "1981-04-01T00:00:00",
          "1981-07-01T00:00:00",
          "1981-10-01T00:00:00",
          "1982-01-01T00:00:00",
          "1982-04-01T00:00:00",
          "1982-07-01T00:00:00",
          "1982-10-01T00:00:00",
          "1983-01-01T00:00:00",
          "1983-04-01T00:00:00",
          "1983-07-01T00:00:00",
          "1983-10-01T00:00:00",
          "1984-01-01T00:00:00",
          "1984-04-01T00:00:00",
          "1984-07-01T00:00:00",
          "1984-10-01T00:00:00",
          "1985-01-01T00:00:00",
          "1985-04-01T00:00:00",
          "1985-07-01T00:00:00",
          "1985-10-01T00:00:00",
          "1986-01-01T00:00:00",
          "1986-04-01T00:00:00",
          "1986-07-01T00:00:00",
          "1986-10-01T00:00:00",
          "1987-01-01T00:00:00",
          "1987-04-01T00:00:00",
          "1987-07-01T00:00:00",
          "1987-10-01T00:00:00",
          "1988-01-01T00:00:00",
          "1988-04-01T00:00:00",
          "1988-07-01T00:00:00",
          "1988-10-01T00:00:00",
          "1989-01-01T00:00:00",
          "1989-04-01T00:00:00",
          "1989-07-01T00:00:00",
          "1989-10-01T00:00:00",
          "1990-01-01T00:00:00",
          "1990-04-01T00:00:00",
          "1990-07-01T00:00:00",
          "1990-10-01T00:00:00",
          "1991-01-01T00:00:00",
          "1991-04-01T00:00:00",
          "1991-07-01T00:00:00",
          "1991-10-01T00:00:00",
          "1992-01-01T00:00:00",
          "1992-04-01T00:00:00",
          "1992-07-01T00:00:00",
          "1992-10-01T00:00:00",
          "1993-01-01T00:00:00",
          "1993-04-01T00:00:00",
          "1993-07-01T00:00:00",
          "1993-10-01T00:00:00",
          "1994-01-01T00:00:00",
          "1994-04-01T00:00:00",
          "1994-07-01T00:00:00",
          "1994-10-01T00:00:00",
          "1995-01-01T00:00:00",
          "1995-04-01T00:00:00",
          "1995-07-01T00:00:00",
          "1995-10-01T00:00:00",
          "1996-01-01T00:00:00",
          "1996-04-01T00:00:00",
          "1996-07-01T00:00:00",
          "1996-10-01T00:00:00",
          "1997-01-01T00:00:00",
          "1997-04-01T00:00:00",
          "1997-07-01T00:00:00",
          "1997-10-01T00:00:00",
          "1998-01-01T00:00:00",
          "1998-04-01T00:00:00",
          "1998-07-01T00:00:00",
          "1998-10-01T00:00:00",
          "1999-01-01T00:00:00",
          "1999-04-01T00:00:00",
          "1999-07-01T00:00:00",
          "1999-10-01T00:00:00",
          "2000-01-01T00:00:00",
          "2000-04-01T00:00:00",
          "2000-07-01T00:00:00",
          "2000-10-01T00:00:00",
          "2001-01-01T00:00:00",
          "2001-04-01T00:00:00",
          "2001-07-01T00:00:00",
          "2001-10-01T00:00:00",
          "2002-01-01T00:00:00",
          "2002-04-01T00:00:00",
          "2002-07-01T00:00:00",
          "2002-10-01T00:00:00",
          "2003-01-01T00:00:00",
          "2003-04-01T00:00:00",
          "2003-07-01T00:00:00",
          "2003-10-01T00:00:00",
          "2004-01-01T00:00:00",
          "2004-04-01T00:00:00",
          "2004-07-01T00:00:00",
          "2004-10-01T00:00:00",
          "2005-01-01T00:00:00",
          "2005-04-01T00:00:00",
          "2005-07-01T00:00:00",
          "2005-10-01T00:00:00",
          "2006-01-01T00:00:00",
          "2006-04-01T00:00:00",
          "2006-07-01T00:00:00",
          "2006-10-01T00:00:00",
          "2007-01-01T00:00:00",
          "2007-04-01T00:00:00",
          "2007-07-01T00:00:00",
          "2007-10-01T00:00:00",
          "2008-01-01T00:00:00",
          "2008-04-01T00:00:00",
          "2008-07-01T00:00:00",
          "2008-10-01T00:00:00",
          "2009-01-01T00:00:00",
          "2009-04-01T00:00:00",
          "2009-07-01T00:00:00",
          "2009-10-01T00:00:00",
          "2010-01-01T00:00:00",
          "2010-04-01T00:00:00",
          "2010-07-01T00:00:00",
          "2010-10-01T00:00:00",
          "2011-01-01T00:00:00",
          "2011-04-01T00:00:00",
          "2011-07-01T00:00:00",
          "2011-10-01T00:00:00",
          "2012-01-01T00:00:00",
          "2012-04-01T00:00:00",
          "2012-07-01T00:00:00"
         ],
         "xaxis": "x",
         "y": [
          null,
          null,
          null,
          null,
          null,
          null,
          null,
          null,
          null,
          null,
          null,
          null,
          null,
          null,
          null,
          null,
          null,
          null,
          null,
          null,
          null,
          null,
          null,
          null,
          null,
          null,
          null,
          null,
          null,
          null,
          null,
          null,
          null,
          null,
          null,
          null,
          null,
          null,
          null,
          null,
          null,
          null,
          null,
          null,
          null,
          null,
          null,
          null,
          null,
          null,
          null,
          null,
          null,
          null,
          null,
          null,
          null,
          null,
          null,
          null,
          null,
          null,
          null,
          null,
          null,
          null,
          null,
          null,
          null,
          null,
          null,
          null,
          null,
          null,
          null,
          null,
          null,
          null,
          null,
          null,
          null,
          null,
          null,
          null,
          null,
          null,
          null,
          null,
          null,
          null,
          null,
          null,
          null,
          null,
          null,
          null,
          null,
          null,
          null,
          null,
          null,
          null,
          null,
          null,
          null,
          null,
          null,
          null,
          null,
          null,
          null,
          null,
          null,
          null,
          null,
          null,
          null,
          null,
          null,
          null,
          null,
          null,
          null,
          null,
          null,
          null,
          null,
          null,
          null,
          null,
          null,
          null,
          null,
          null,
          null,
          null,
          null,
          null,
          null,
          null,
          null,
          null,
          null,
          null,
          null,
          null,
          null,
          null,
          null,
          null,
          null,
          null,
          null,
          null,
          null,
          null,
          null,
          null,
          null,
          null,
          null,
          null,
          null,
          null,
          null,
          null,
          null,
          null,
          null,
          null,
          null,
          null,
          null,
          null,
          null,
          null,
          null,
          null,
          null,
          185.821,
          186.7368,
          187.6476,
          188.5537,
          189.4553,
          190.3528,
          191.2464,
          192.1361,
          193.0224,
          193.9053,
          194.7851,
          195.6618,
          196.5358,
          197.4071,
          198.2758,
          199.1422,
          200.0063,
          200.8683,
          201.7283,
          202.5864,
          203.4427,
          204.2973,
          205.1502,
          206.0017,
          206.8517,
          207.7004,
          208.5478,
          209.394,
          210.239,
          211.083,
          211.9259,
          212.7679,
          213.609,
          214.4492,
          215.2885,
          216.1271
         ],
         "yaxis": "y"
        }
       ],
       "layout": {
        "showlegend": true,
        "template": {
         "data": {
          "bar": [
           {
            "error_x": {
             "color": "rgb(51,51,51)"
            },
            "error_y": {
             "color": "rgb(51,51,51)"
            },
            "marker": {
             "line": {
              "color": "rgb(237,237,237)",
              "width": 0.5
             },
             "pattern": {
              "fillmode": "overlay",
              "size": 10,
              "solidity": 0.2
             }
            },
            "type": "bar"
           }
          ],
          "barpolar": [
           {
            "marker": {
             "line": {
              "color": "rgb(237,237,237)",
              "width": 0.5
             },
             "pattern": {
              "fillmode": "overlay",
              "size": 10,
              "solidity": 0.2
             }
            },
            "type": "barpolar"
           }
          ],
          "carpet": [
           {
            "aaxis": {
             "endlinecolor": "rgb(51,51,51)",
             "gridcolor": "white",
             "linecolor": "white",
             "minorgridcolor": "white",
             "startlinecolor": "rgb(51,51,51)"
            },
            "baxis": {
             "endlinecolor": "rgb(51,51,51)",
             "gridcolor": "white",
             "linecolor": "white",
             "minorgridcolor": "white",
             "startlinecolor": "rgb(51,51,51)"
            },
            "type": "carpet"
           }
          ],
          "choropleth": [
           {
            "colorbar": {
             "outlinewidth": 0,
             "tickcolor": "rgb(237,237,237)",
             "ticklen": 6,
             "ticks": "inside"
            },
            "type": "choropleth"
           }
          ],
          "contour": [
           {
            "colorbar": {
             "outlinewidth": 0,
             "tickcolor": "rgb(237,237,237)",
             "ticklen": 6,
             "ticks": "inside"
            },
            "colorscale": [
             [
              0,
              "rgb(20,44,66)"
             ],
             [
              1,
              "rgb(90,179,244)"
             ]
            ],
            "type": "contour"
           }
          ],
          "contourcarpet": [
           {
            "colorbar": {
             "outlinewidth": 0,
             "tickcolor": "rgb(237,237,237)",
             "ticklen": 6,
             "ticks": "inside"
            },
            "type": "contourcarpet"
           }
          ],
          "heatmap": [
           {
            "colorbar": {
             "outlinewidth": 0,
             "tickcolor": "rgb(237,237,237)",
             "ticklen": 6,
             "ticks": "inside"
            },
            "colorscale": [
             [
              0,
              "rgb(20,44,66)"
             ],
             [
              1,
              "rgb(90,179,244)"
             ]
            ],
            "type": "heatmap"
           }
          ],
          "heatmapgl": [
           {
            "colorbar": {
             "outlinewidth": 0,
             "tickcolor": "rgb(237,237,237)",
             "ticklen": 6,
             "ticks": "inside"
            },
            "colorscale": [
             [
              0,
              "rgb(20,44,66)"
             ],
             [
              1,
              "rgb(90,179,244)"
             ]
            ],
            "type": "heatmapgl"
           }
          ],
          "histogram": [
           {
            "marker": {
             "pattern": {
              "fillmode": "overlay",
              "size": 10,
              "solidity": 0.2
             }
            },
            "type": "histogram"
           }
          ],
          "histogram2d": [
           {
            "colorbar": {
             "outlinewidth": 0,
             "tickcolor": "rgb(237,237,237)",
             "ticklen": 6,
             "ticks": "inside"
            },
            "colorscale": [
             [
              0,
              "rgb(20,44,66)"
             ],
             [
              1,
              "rgb(90,179,244)"
             ]
            ],
            "type": "histogram2d"
           }
          ],
          "histogram2dcontour": [
           {
            "colorbar": {
             "outlinewidth": 0,
             "tickcolor": "rgb(237,237,237)",
             "ticklen": 6,
             "ticks": "inside"
            },
            "colorscale": [
             [
              0,
              "rgb(20,44,66)"
             ],
             [
              1,
              "rgb(90,179,244)"
             ]
            ],
            "type": "histogram2dcontour"
           }
          ],
          "mesh3d": [
           {
            "colorbar": {
             "outlinewidth": 0,
             "tickcolor": "rgb(237,237,237)",
             "ticklen": 6,
             "ticks": "inside"
            },
            "type": "mesh3d"
           }
          ],
          "parcoords": [
           {
            "line": {
             "colorbar": {
              "outlinewidth": 0,
              "tickcolor": "rgb(237,237,237)",
              "ticklen": 6,
              "ticks": "inside"
             }
            },
            "type": "parcoords"
           }
          ],
          "pie": [
           {
            "automargin": true,
            "type": "pie"
           }
          ],
          "scatter": [
           {
            "fillpattern": {
             "fillmode": "overlay",
             "size": 10,
             "solidity": 0.2
            },
            "type": "scatter"
           }
          ],
          "scatter3d": [
           {
            "line": {
             "colorbar": {
              "outlinewidth": 0,
              "tickcolor": "rgb(237,237,237)",
              "ticklen": 6,
              "ticks": "inside"
             }
            },
            "marker": {
             "colorbar": {
              "outlinewidth": 0,
              "tickcolor": "rgb(237,237,237)",
              "ticklen": 6,
              "ticks": "inside"
             }
            },
            "type": "scatter3d"
           }
          ],
          "scattercarpet": [
           {
            "marker": {
             "colorbar": {
              "outlinewidth": 0,
              "tickcolor": "rgb(237,237,237)",
              "ticklen": 6,
              "ticks": "inside"
             }
            },
            "type": "scattercarpet"
           }
          ],
          "scattergeo": [
           {
            "marker": {
             "colorbar": {
              "outlinewidth": 0,
              "tickcolor": "rgb(237,237,237)",
              "ticklen": 6,
              "ticks": "inside"
             }
            },
            "type": "scattergeo"
           }
          ],
          "scattergl": [
           {
            "marker": {
             "colorbar": {
              "outlinewidth": 0,
              "tickcolor": "rgb(237,237,237)",
              "ticklen": 6,
              "ticks": "inside"
             }
            },
            "type": "scattergl"
           }
          ],
          "scattermapbox": [
           {
            "marker": {
             "colorbar": {
              "outlinewidth": 0,
              "tickcolor": "rgb(237,237,237)",
              "ticklen": 6,
              "ticks": "inside"
             }
            },
            "type": "scattermapbox"
           }
          ],
          "scatterpolar": [
           {
            "marker": {
             "colorbar": {
              "outlinewidth": 0,
              "tickcolor": "rgb(237,237,237)",
              "ticklen": 6,
              "ticks": "inside"
             }
            },
            "type": "scatterpolar"
           }
          ],
          "scatterpolargl": [
           {
            "marker": {
             "colorbar": {
              "outlinewidth": 0,
              "tickcolor": "rgb(237,237,237)",
              "ticklen": 6,
              "ticks": "inside"
             }
            },
            "type": "scatterpolargl"
           }
          ],
          "scatterternary": [
           {
            "marker": {
             "colorbar": {
              "outlinewidth": 0,
              "tickcolor": "rgb(237,237,237)",
              "ticklen": 6,
              "ticks": "inside"
             }
            },
            "type": "scatterternary"
           }
          ],
          "surface": [
           {
            "colorbar": {
             "outlinewidth": 0,
             "tickcolor": "rgb(237,237,237)",
             "ticklen": 6,
             "ticks": "inside"
            },
            "colorscale": [
             [
              0,
              "rgb(20,44,66)"
             ],
             [
              1,
              "rgb(90,179,244)"
             ]
            ],
            "type": "surface"
           }
          ],
          "table": [
           {
            "cells": {
             "fill": {
              "color": "rgb(237,237,237)"
             },
             "line": {
              "color": "white"
             }
            },
            "header": {
             "fill": {
              "color": "rgb(217,217,217)"
             },
             "line": {
              "color": "white"
             }
            },
            "type": "table"
           }
          ]
         },
         "layout": {
          "annotationdefaults": {
           "arrowhead": 0,
           "arrowwidth": 1
          },
          "autotypenumbers": "strict",
          "coloraxis": {
           "colorbar": {
            "outlinewidth": 0,
            "tickcolor": "rgb(237,237,237)",
            "ticklen": 6,
            "ticks": "inside"
           }
          },
          "colorscale": {
           "sequential": [
            [
             0,
             "rgb(20,44,66)"
            ],
            [
             1,
             "rgb(90,179,244)"
            ]
           ],
           "sequentialminus": [
            [
             0,
             "rgb(20,44,66)"
            ],
            [
             1,
             "rgb(90,179,244)"
            ]
           ]
          },
          "colorway": [
           "#F8766D",
           "#A3A500",
           "#00BF7D",
           "#00B0F6",
           "#E76BF3"
          ],
          "font": {
           "color": "rgb(51,51,51)"
          },
          "geo": {
           "bgcolor": "white",
           "lakecolor": "white",
           "landcolor": "rgb(237,237,237)",
           "showlakes": true,
           "showland": true,
           "subunitcolor": "white"
          },
          "hoverlabel": {
           "align": "left"
          },
          "hovermode": "closest",
          "paper_bgcolor": "white",
          "plot_bgcolor": "rgb(237,237,237)",
          "polar": {
           "angularaxis": {
            "gridcolor": "white",
            "linecolor": "white",
            "showgrid": true,
            "tickcolor": "rgb(51,51,51)",
            "ticks": "outside"
           },
           "bgcolor": "rgb(237,237,237)",
           "radialaxis": {
            "gridcolor": "white",
            "linecolor": "white",
            "showgrid": true,
            "tickcolor": "rgb(51,51,51)",
            "ticks": "outside"
           }
          },
          "scene": {
           "xaxis": {
            "backgroundcolor": "rgb(237,237,237)",
            "gridcolor": "white",
            "gridwidth": 2,
            "linecolor": "white",
            "showbackground": true,
            "showgrid": true,
            "tickcolor": "rgb(51,51,51)",
            "ticks": "outside",
            "zerolinecolor": "white"
           },
           "yaxis": {
            "backgroundcolor": "rgb(237,237,237)",
            "gridcolor": "white",
            "gridwidth": 2,
            "linecolor": "white",
            "showbackground": true,
            "showgrid": true,
            "tickcolor": "rgb(51,51,51)",
            "ticks": "outside",
            "zerolinecolor": "white"
           },
           "zaxis": {
            "backgroundcolor": "rgb(237,237,237)",
            "gridcolor": "white",
            "gridwidth": 2,
            "linecolor": "white",
            "showbackground": true,
            "showgrid": true,
            "tickcolor": "rgb(51,51,51)",
            "ticks": "outside",
            "zerolinecolor": "white"
           }
          },
          "shapedefaults": {
           "fillcolor": "black",
           "line": {
            "width": 0
           },
           "opacity": 0.3
          },
          "ternary": {
           "aaxis": {
            "gridcolor": "white",
            "linecolor": "white",
            "showgrid": true,
            "tickcolor": "rgb(51,51,51)",
            "ticks": "outside"
           },
           "baxis": {
            "gridcolor": "white",
            "linecolor": "white",
            "showgrid": true,
            "tickcolor": "rgb(51,51,51)",
            "ticks": "outside"
           },
           "bgcolor": "rgb(237,237,237)",
           "caxis": {
            "gridcolor": "white",
            "linecolor": "white",
            "showgrid": true,
            "tickcolor": "rgb(51,51,51)",
            "ticks": "outside"
           }
          },
          "xaxis": {
           "automargin": true,
           "gridcolor": "white",
           "linecolor": "white",
           "showgrid": true,
           "tickcolor": "rgb(51,51,51)",
           "ticks": "outside",
           "title": {
            "standoff": 15
           },
           "zerolinecolor": "white"
          },
          "yaxis": {
           "automargin": true,
           "gridcolor": "white",
           "linecolor": "white",
           "showgrid": true,
           "tickcolor": "rgb(51,51,51)",
           "ticks": "outside",
           "title": {
            "standoff": 15
           },
           "zerolinecolor": "white"
          }
         }
        },
        "title": {
         "text": "Actual vs. Forecast (Out-of-Sample)"
        },
        "xaxis": {
         "anchor": "y",
         "domain": [
          0,
          1
         ]
        },
        "yaxis": {
         "anchor": "x",
         "domain": [
          0,
          1
         ]
        }
       }
      }
     },
     "metadata": {},
     "output_type": "display_data"
    }
   ],
   "source": [
    "exp.plot_model(comparison_models, plot='forecast', data_kwargs={\"fh\": 36})"
   ]
  },
  {
   "cell_type": "code",
   "execution_count": 35,
   "metadata": {},
   "outputs": [],
   "source": [
    "my_best_model = exp.finalize_model(auto_arima)"
   ]
  },
  {
   "cell_type": "code",
   "execution_count": 36,
   "metadata": {},
   "outputs": [
    {
     "data": {
      "text/html": [
       "<div>\n",
       "<style scoped>\n",
       "    .dataframe tbody tr th:only-of-type {\n",
       "        vertical-align: middle;\n",
       "    }\n",
       "\n",
       "    .dataframe tbody tr th {\n",
       "        vertical-align: top;\n",
       "    }\n",
       "\n",
       "    .dataframe thead th {\n",
       "        text-align: right;\n",
       "    }\n",
       "</style>\n",
       "<table border=\"1\" class=\"dataframe\">\n",
       "  <thead>\n",
       "    <tr style=\"text-align: right;\">\n",
       "      <th></th>\n",
       "      <th>y_pred</th>\n",
       "      <th>lower</th>\n",
       "      <th>upper</th>\n",
       "    </tr>\n",
       "  </thead>\n",
       "  <tbody>\n",
       "    <tr>\n",
       "      <th>2024Q1</th>\n",
       "      <td>270.0307</td>\n",
       "      <td>216.9340</td>\n",
       "      <td>323.1274</td>\n",
       "    </tr>\n",
       "    <tr>\n",
       "      <th>2024Q2</th>\n",
       "      <td>270.9676</td>\n",
       "      <td>216.6557</td>\n",
       "      <td>325.2794</td>\n",
       "    </tr>\n",
       "    <tr>\n",
       "      <th>2024Q3</th>\n",
       "      <td>271.9044</td>\n",
       "      <td>216.3684</td>\n",
       "      <td>327.4404</td>\n",
       "    </tr>\n",
       "    <tr>\n",
       "      <th>2024Q4</th>\n",
       "      <td>272.8413</td>\n",
       "      <td>216.0722</td>\n",
       "      <td>329.6104</td>\n",
       "    </tr>\n",
       "    <tr>\n",
       "      <th>2025Q1</th>\n",
       "      <td>273.7781</td>\n",
       "      <td>215.7670</td>\n",
       "      <td>331.7892</td>\n",
       "    </tr>\n",
       "  </tbody>\n",
       "</table>\n",
       "</div>"
      ],
      "text/plain": [
       "          y_pred     lower     upper\n",
       "2024Q1  270.0307  216.9340  323.1274\n",
       "2024Q2  270.9676  216.6557  325.2794\n",
       "2024Q3  271.9044  216.3684  327.4404\n",
       "2024Q4  272.8413  216.0722  329.6104\n",
       "2025Q1  273.7781  215.7670  331.7892"
      ]
     },
     "execution_count": 36,
     "metadata": {},
     "output_type": "execute_result"
    }
   ],
   "source": [
    "unseen_predictions = exp.predict_model(my_best_model, fh=62, return_pred_int= True)\n",
    "unseen_predictions.tail()"
   ]
  },
  {
   "cell_type": "markdown",
   "metadata": {},
   "source": [
    "The prediction is 273.87"
   ]
  },
  {
   "cell_type": "markdown",
   "metadata": {},
   "source": []
  }
 ],
 "metadata": {
  "kernelspec": {
   "display_name": "myenv",
   "language": "python",
   "name": "python3"
  },
  "language_info": {
   "codemirror_mode": {
    "name": "ipython",
    "version": 3
   },
   "file_extension": ".py",
   "mimetype": "text/x-python",
   "name": "python",
   "nbconvert_exporter": "python",
   "pygments_lexer": "ipython3",
   "version": "3.9.16"
  }
 },
 "nbformat": 4,
 "nbformat_minor": 2
}
