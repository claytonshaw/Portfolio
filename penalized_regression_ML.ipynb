{
 "cells": [
  {
   "cell_type": "code",
   "execution_count": 122,
   "metadata": {},
   "outputs": [],
   "source": [
    "import numpy as np\n",
    "import pandas as pd\n",
    "import matplotlib.pyplot as plt\n",
    "import seaborn as sns\n",
    "sns.set()"
   ]
  },
  {
   "cell_type": "code",
   "execution_count": 123,
   "metadata": {},
   "outputs": [],
   "source": [
    "rand_state = 1000"
   ]
  },
  {
   "cell_type": "code",
   "execution_count": 124,
   "metadata": {},
   "outputs": [
    {
     "data": {
      "text/html": [
       "<div>\n",
       "<style scoped>\n",
       "    .dataframe tbody tr th:only-of-type {\n",
       "        vertical-align: middle;\n",
       "    }\n",
       "\n",
       "    .dataframe tbody tr th {\n",
       "        vertical-align: top;\n",
       "    }\n",
       "\n",
       "    .dataframe thead th {\n",
       "        text-align: right;\n",
       "    }\n",
       "</style>\n",
       "<table border=\"1\" class=\"dataframe\">\n",
       "  <thead>\n",
       "    <tr style=\"text-align: right;\">\n",
       "      <th></th>\n",
       "      <th>wage</th>\n",
       "      <th>educ</th>\n",
       "      <th>educ2</th>\n",
       "      <th>educ3</th>\n",
       "      <th>educ4</th>\n",
       "      <th>educ5</th>\n",
       "      <th>age</th>\n",
       "      <th>age2</th>\n",
       "      <th>age3</th>\n",
       "      <th>age4</th>\n",
       "      <th>age5</th>\n",
       "    </tr>\n",
       "  </thead>\n",
       "  <tbody>\n",
       "    <tr>\n",
       "      <th>0</th>\n",
       "      <td>769000.0</td>\n",
       "      <td>12</td>\n",
       "      <td>144</td>\n",
       "      <td>1728</td>\n",
       "      <td>20736</td>\n",
       "      <td>248832</td>\n",
       "      <td>31</td>\n",
       "      <td>961</td>\n",
       "      <td>29791</td>\n",
       "      <td>923521</td>\n",
       "      <td>28629151</td>\n",
       "    </tr>\n",
       "    <tr>\n",
       "      <th>1</th>\n",
       "      <td>808000.0</td>\n",
       "      <td>18</td>\n",
       "      <td>324</td>\n",
       "      <td>5832</td>\n",
       "      <td>104976</td>\n",
       "      <td>1889568</td>\n",
       "      <td>37</td>\n",
       "      <td>1369</td>\n",
       "      <td>50653</td>\n",
       "      <td>1874161</td>\n",
       "      <td>69343957</td>\n",
       "    </tr>\n",
       "    <tr>\n",
       "      <th>2</th>\n",
       "      <td>825000.0</td>\n",
       "      <td>14</td>\n",
       "      <td>196</td>\n",
       "      <td>2744</td>\n",
       "      <td>38416</td>\n",
       "      <td>537824</td>\n",
       "      <td>33</td>\n",
       "      <td>1089</td>\n",
       "      <td>35937</td>\n",
       "      <td>1185921</td>\n",
       "      <td>39135393</td>\n",
       "    </tr>\n",
       "    <tr>\n",
       "      <th>3</th>\n",
       "      <td>650000.0</td>\n",
       "      <td>12</td>\n",
       "      <td>144</td>\n",
       "      <td>1728</td>\n",
       "      <td>20736</td>\n",
       "      <td>248832</td>\n",
       "      <td>32</td>\n",
       "      <td>1024</td>\n",
       "      <td>32768</td>\n",
       "      <td>1048576</td>\n",
       "      <td>33554432</td>\n",
       "    </tr>\n",
       "    <tr>\n",
       "      <th>4</th>\n",
       "      <td>562000.0</td>\n",
       "      <td>11</td>\n",
       "      <td>121</td>\n",
       "      <td>1331</td>\n",
       "      <td>14641</td>\n",
       "      <td>161051</td>\n",
       "      <td>34</td>\n",
       "      <td>1156</td>\n",
       "      <td>39304</td>\n",
       "      <td>1336336</td>\n",
       "      <td>45435424</td>\n",
       "    </tr>\n",
       "  </tbody>\n",
       "</table>\n",
       "</div>"
      ],
      "text/plain": [
       "       wage  educ  educ2  educ3   educ4    educ5  age  age2   age3     age4  \\\n",
       "0  769000.0    12    144   1728   20736   248832   31   961  29791   923521   \n",
       "1  808000.0    18    324   5832  104976  1889568   37  1369  50653  1874161   \n",
       "2  825000.0    14    196   2744   38416   537824   33  1089  35937  1185921   \n",
       "3  650000.0    12    144   1728   20736   248832   32  1024  32768  1048576   \n",
       "4  562000.0    11    121   1331   14641   161051   34  1156  39304  1336336   \n",
       "\n",
       "       age5  \n",
       "0  28629151  \n",
       "1  69343957  \n",
       "2  39135393  \n",
       "3  33554432  \n",
       "4  45435424  "
      ]
     },
     "execution_count": 124,
     "metadata": {},
     "output_type": "execute_result"
    }
   ],
   "source": [
    "df = pd.read_csv('wage_regularization.csv')\n",
    "df.head()"
   ]
  },
  {
   "cell_type": "markdown",
   "metadata": {},
   "source": [
    "### Scaling the features to easily compare the coefficients"
   ]
  },
  {
   "cell_type": "code",
   "execution_count": 125,
   "metadata": {},
   "outputs": [],
   "source": [
    "from sklearn.preprocessing import StandardScaler"
   ]
  },
  {
   "cell_type": "code",
   "execution_count": 126,
   "metadata": {},
   "outputs": [],
   "source": [
    "scaler=StandardScaler()\n",
    "df_sc= scaler.fit_transform(df)"
   ]
  },
  {
   "cell_type": "code",
   "execution_count": 127,
   "metadata": {},
   "outputs": [
    {
     "data": {
      "text/html": [
       "<div>\n",
       "<style scoped>\n",
       "    .dataframe tbody tr th:only-of-type {\n",
       "        vertical-align: middle;\n",
       "    }\n",
       "\n",
       "    .dataframe tbody tr th {\n",
       "        vertical-align: top;\n",
       "    }\n",
       "\n",
       "    .dataframe thead th {\n",
       "        text-align: right;\n",
       "    }\n",
       "</style>\n",
       "<table border=\"1\" class=\"dataframe\">\n",
       "  <thead>\n",
       "    <tr style=\"text-align: right;\">\n",
       "      <th></th>\n",
       "      <th>wage</th>\n",
       "      <th>educ</th>\n",
       "      <th>educ2</th>\n",
       "      <th>educ3</th>\n",
       "      <th>educ4</th>\n",
       "      <th>educ5</th>\n",
       "      <th>age</th>\n",
       "      <th>age2</th>\n",
       "      <th>age3</th>\n",
       "      <th>age4</th>\n",
       "      <th>age5</th>\n",
       "    </tr>\n",
       "  </thead>\n",
       "  <tbody>\n",
       "    <tr>\n",
       "      <th>0</th>\n",
       "      <td>-0.467520</td>\n",
       "      <td>-0.668851</td>\n",
       "      <td>-0.681389</td>\n",
       "      <td>-0.683465</td>\n",
       "      <td>-0.677116</td>\n",
       "      <td>-0.664268</td>\n",
       "      <td>-0.669710</td>\n",
       "      <td>-0.691203</td>\n",
       "      <td>-0.708954</td>\n",
       "      <td>-0.723031</td>\n",
       "      <td>-0.733576</td>\n",
       "    </tr>\n",
       "    <tr>\n",
       "      <th>1</th>\n",
       "      <td>-0.371019</td>\n",
       "      <td>2.064038</td>\n",
       "      <td>2.223684</td>\n",
       "      <td>2.379630</td>\n",
       "      <td>2.530868</td>\n",
       "      <td>2.675999</td>\n",
       "      <td>1.261947</td>\n",
       "      <td>1.281608</td>\n",
       "      <td>1.297931</td>\n",
       "      <td>1.310810</td>\n",
       "      <td>1.320211</td>\n",
       "    </tr>\n",
       "    <tr>\n",
       "      <th>2</th>\n",
       "      <td>-0.328955</td>\n",
       "      <td>0.242112</td>\n",
       "      <td>0.157854</td>\n",
       "      <td>0.074845</td>\n",
       "      <td>-0.003836</td>\n",
       "      <td>-0.075928</td>\n",
       "      <td>-0.025824</td>\n",
       "      <td>-0.072282</td>\n",
       "      <td>-0.117721</td>\n",
       "      <td>-0.161641</td>\n",
       "      <td>-0.203607</td>\n",
       "    </tr>\n",
       "    <tr>\n",
       "      <th>3</th>\n",
       "      <td>-0.761969</td>\n",
       "      <td>-0.668851</td>\n",
       "      <td>-0.681389</td>\n",
       "      <td>-0.683465</td>\n",
       "      <td>-0.677116</td>\n",
       "      <td>-0.664268</td>\n",
       "      <td>-0.347767</td>\n",
       "      <td>-0.386577</td>\n",
       "      <td>-0.422573</td>\n",
       "      <td>-0.455483</td>\n",
       "      <td>-0.485129</td>\n",
       "    </tr>\n",
       "    <tr>\n",
       "      <th>4</th>\n",
       "      <td>-0.979713</td>\n",
       "      <td>-1.124333</td>\n",
       "      <td>-1.052593</td>\n",
       "      <td>-0.979773</td>\n",
       "      <td>-0.909223</td>\n",
       "      <td>-0.842975</td>\n",
       "      <td>0.296119</td>\n",
       "      <td>0.251685</td>\n",
       "      <td>0.206178</td>\n",
       "      <td>0.160164</td>\n",
       "      <td>0.114187</td>\n",
       "    </tr>\n",
       "  </tbody>\n",
       "</table>\n",
       "</div>"
      ],
      "text/plain": [
       "       wage      educ     educ2     educ3     educ4     educ5       age  \\\n",
       "0 -0.467520 -0.668851 -0.681389 -0.683465 -0.677116 -0.664268 -0.669710   \n",
       "1 -0.371019  2.064038  2.223684  2.379630  2.530868  2.675999  1.261947   \n",
       "2 -0.328955  0.242112  0.157854  0.074845 -0.003836 -0.075928 -0.025824   \n",
       "3 -0.761969 -0.668851 -0.681389 -0.683465 -0.677116 -0.664268 -0.347767   \n",
       "4 -0.979713 -1.124333 -1.052593 -0.979773 -0.909223 -0.842975  0.296119   \n",
       "\n",
       "       age2      age3      age4      age5  \n",
       "0 -0.691203 -0.708954 -0.723031 -0.733576  \n",
       "1  1.281608  1.297931  1.310810  1.320211  \n",
       "2 -0.072282 -0.117721 -0.161641 -0.203607  \n",
       "3 -0.386577 -0.422573 -0.455483 -0.485129  \n",
       "4  0.251685  0.206178  0.160164  0.114187  "
      ]
     },
     "execution_count": 127,
     "metadata": {},
     "output_type": "execute_result"
    }
   ],
   "source": [
    "# converting the scaled data back into a dataframe\n",
    "df_sc = pd.DataFrame(df_sc, columns=df.columns)\n",
    "df_sc.head()"
   ]
  },
  {
   "cell_type": "markdown",
   "metadata": {},
   "source": [
    "We are scaling before we are splitting in this scenario before splitting but normally we do it after we split the data and only do fit it to the train data in order to keep the test data completely unseen. "
   ]
  },
  {
   "cell_type": "markdown",
   "metadata": {},
   "source": [
    "### Splitting the data into training and test data"
   ]
  },
  {
   "cell_type": "code",
   "execution_count": 128,
   "metadata": {},
   "outputs": [
    {
     "data": {
      "text/html": [
       "<div>\n",
       "<style scoped>\n",
       "    .dataframe tbody tr th:only-of-type {\n",
       "        vertical-align: middle;\n",
       "    }\n",
       "\n",
       "    .dataframe tbody tr th {\n",
       "        vertical-align: top;\n",
       "    }\n",
       "\n",
       "    .dataframe thead th {\n",
       "        text-align: right;\n",
       "    }\n",
       "</style>\n",
       "<table border=\"1\" class=\"dataframe\">\n",
       "  <thead>\n",
       "    <tr style=\"text-align: right;\">\n",
       "      <th></th>\n",
       "      <th>educ</th>\n",
       "      <th>educ2</th>\n",
       "      <th>educ3</th>\n",
       "      <th>educ4</th>\n",
       "      <th>educ5</th>\n",
       "      <th>age</th>\n",
       "      <th>age2</th>\n",
       "      <th>age3</th>\n",
       "      <th>age4</th>\n",
       "      <th>age5</th>\n",
       "    </tr>\n",
       "  </thead>\n",
       "  <tbody>\n",
       "    <tr>\n",
       "      <th>932</th>\n",
       "      <td>-0.668851</td>\n",
       "      <td>-0.681389</td>\n",
       "      <td>-0.683465</td>\n",
       "      <td>-0.677116</td>\n",
       "      <td>-0.664268</td>\n",
       "      <td>-1.635539</td>\n",
       "      <td>-1.547054</td>\n",
       "      <td>-1.463051</td>\n",
       "      <td>-1.383830</td>\n",
       "      <td>-1.309577</td>\n",
       "    </tr>\n",
       "    <tr>\n",
       "      <th>82</th>\n",
       "      <td>-1.124333</td>\n",
       "      <td>-1.052593</td>\n",
       "      <td>-0.979773</td>\n",
       "      <td>-0.909223</td>\n",
       "      <td>-0.842975</td>\n",
       "      <td>1.261947</td>\n",
       "      <td>1.281608</td>\n",
       "      <td>1.297931</td>\n",
       "      <td>1.310810</td>\n",
       "      <td>1.320211</td>\n",
       "    </tr>\n",
       "    <tr>\n",
       "      <th>370</th>\n",
       "      <td>1.608556</td>\n",
       "      <td>1.658809</td>\n",
       "      <td>1.693718</td>\n",
       "      <td>1.713830</td>\n",
       "      <td>1.719745</td>\n",
       "      <td>1.583890</td>\n",
       "      <td>1.644257</td>\n",
       "      <td>1.703790</td>\n",
       "      <td>1.762179</td>\n",
       "      <td>1.819156</td>\n",
       "    </tr>\n",
       "    <tr>\n",
       "      <th>452</th>\n",
       "      <td>-0.668851</td>\n",
       "      <td>-0.681389</td>\n",
       "      <td>-0.683465</td>\n",
       "      <td>-0.677116</td>\n",
       "      <td>-0.664268</td>\n",
       "      <td>0.940004</td>\n",
       "      <td>0.928630</td>\n",
       "      <td>0.913427</td>\n",
       "      <td>0.894592</td>\n",
       "      <td>0.872387</td>\n",
       "    </tr>\n",
       "    <tr>\n",
       "      <th>132</th>\n",
       "      <td>-0.668851</td>\n",
       "      <td>-0.681389</td>\n",
       "      <td>-0.683465</td>\n",
       "      <td>-0.677116</td>\n",
       "      <td>-0.664268</td>\n",
       "      <td>-0.669710</td>\n",
       "      <td>-0.691203</td>\n",
       "      <td>-0.708954</td>\n",
       "      <td>-0.723031</td>\n",
       "      <td>-0.733576</td>\n",
       "    </tr>\n",
       "  </tbody>\n",
       "</table>\n",
       "</div>"
      ],
      "text/plain": [
       "         educ     educ2     educ3     educ4     educ5       age      age2  \\\n",
       "932 -0.668851 -0.681389 -0.683465 -0.677116 -0.664268 -1.635539 -1.547054   \n",
       "82  -1.124333 -1.052593 -0.979773 -0.909223 -0.842975  1.261947  1.281608   \n",
       "370  1.608556  1.658809  1.693718  1.713830  1.719745  1.583890  1.644257   \n",
       "452 -0.668851 -0.681389 -0.683465 -0.677116 -0.664268  0.940004  0.928630   \n",
       "132 -0.668851 -0.681389 -0.683465 -0.677116 -0.664268 -0.669710 -0.691203   \n",
       "\n",
       "         age3      age4      age5  \n",
       "932 -1.463051 -1.383830 -1.309577  \n",
       "82   1.297931  1.310810  1.320211  \n",
       "370  1.703790  1.762179  1.819156  \n",
       "452  0.913427  0.894592  0.872387  \n",
       "132 -0.708954 -0.723031 -0.733576  "
      ]
     },
     "execution_count": 128,
     "metadata": {},
     "output_type": "execute_result"
    }
   ],
   "source": [
    "y = df_sc['wage']\n",
    "X = df_sc.drop('wage', axis=1) # be careful, inplace= False\n",
    "\n",
    "from sklearn.model_selection import train_test_split\n",
    "X_train, X_test, y_train, y_test = train_test_split(X, y, test_size=0.2, random_state=rand_state)\n",
    "X_train.head()"
   ]
  },
  {
   "cell_type": "markdown",
   "metadata": {},
   "source": [
    "### Creating a default model using Statsmodels.api"
   ]
  },
  {
   "cell_type": "code",
   "execution_count": 129,
   "metadata": {},
   "outputs": [],
   "source": [
    "import statsmodels.api as sm"
   ]
  },
  {
   "cell_type": "code",
   "execution_count": 130,
   "metadata": {},
   "outputs": [],
   "source": [
    "X_test_wc = sm.add_constant(X_test)\n",
    "X_train_wc = sm.add_constant(X_train)"
   ]
  },
  {
   "cell_type": "code",
   "execution_count": 131,
   "metadata": {},
   "outputs": [
    {
     "data": {
      "text/html": [
       "<table class=\"simpletable\">\n",
       "<caption>OLS Regression Results</caption>\n",
       "<tr>\n",
       "  <th>Dep. Variable:</th>          <td>wage</td>       <th>  R-squared:         </th> <td>   0.128</td>\n",
       "</tr>\n",
       "<tr>\n",
       "  <th>Model:</th>                   <td>OLS</td>       <th>  Adj. R-squared:    </th> <td>   0.116</td>\n",
       "</tr>\n",
       "<tr>\n",
       "  <th>Method:</th>             <td>Least Squares</td>  <th>  F-statistic:       </th> <td>   10.81</td>\n",
       "</tr>\n",
       "<tr>\n",
       "  <th>Date:</th>             <td>Mon, 19 Feb 2024</td> <th>  Prob (F-statistic):</th> <td>2.83e-17</td>\n",
       "</tr>\n",
       "<tr>\n",
       "  <th>Time:</th>                 <td>21:05:54</td>     <th>  Log-Likelihood:    </th> <td> -1016.0</td>\n",
       "</tr>\n",
       "<tr>\n",
       "  <th>No. Observations:</th>      <td>   748</td>      <th>  AIC:               </th> <td>   2054.</td>\n",
       "</tr>\n",
       "<tr>\n",
       "  <th>Df Residuals:</th>          <td>   737</td>      <th>  BIC:               </th> <td>   2105.</td>\n",
       "</tr>\n",
       "<tr>\n",
       "  <th>Df Model:</th>              <td>    10</td>      <th>                     </th>     <td> </td>   \n",
       "</tr>\n",
       "<tr>\n",
       "  <th>Covariance Type:</th>      <td>nonrobust</td>    <th>                     </th>     <td> </td>   \n",
       "</tr>\n",
       "</table>\n",
       "<table class=\"simpletable\">\n",
       "<tr>\n",
       "    <td></td>       <th>coef</th>     <th>std err</th>      <th>t</th>      <th>P>|t|</th>  <th>[0.025</th>    <th>0.975]</th>  \n",
       "</tr>\n",
       "<tr>\n",
       "  <th>const</th> <td>   -0.0028</td> <td>    0.035</td> <td>   -0.080</td> <td> 0.937</td> <td>   -0.071</td> <td>    0.065</td>\n",
       "</tr>\n",
       "<tr>\n",
       "  <th>educ</th>  <td> -109.9917</td> <td>  192.003</td> <td>   -0.573</td> <td> 0.567</td> <td> -486.931</td> <td>  266.947</td>\n",
       "</tr>\n",
       "<tr>\n",
       "  <th>educ2</th> <td>  462.5622</td> <td>  824.114</td> <td>    0.561</td> <td> 0.575</td> <td>-1155.328</td> <td> 2080.452</td>\n",
       "</tr>\n",
       "<tr>\n",
       "  <th>educ3</th> <td> -736.3809</td> <td> 1339.181</td> <td>   -0.550</td> <td> 0.583</td> <td>-3365.445</td> <td> 1892.684</td>\n",
       "</tr>\n",
       "<tr>\n",
       "  <th>educ4</th> <td>  527.4761</td> <td>  974.843</td> <td>    0.541</td> <td> 0.589</td> <td>-1386.323</td> <td> 2441.276</td>\n",
       "</tr>\n",
       "<tr>\n",
       "  <th>educ5</th> <td> -143.4145</td> <td>  267.848</td> <td>   -0.535</td> <td> 0.593</td> <td> -669.250</td> <td>  382.421</td>\n",
       "</tr>\n",
       "<tr>\n",
       "  <th>age</th>   <td>-1295.3370</td> <td> 4397.692</td> <td>   -0.295</td> <td> 0.768</td> <td>-9928.834</td> <td> 7338.159</td>\n",
       "</tr>\n",
       "<tr>\n",
       "  <th>age2</th>  <td> 5164.4620</td> <td> 1.79e+04</td> <td>    0.289</td> <td> 0.773</td> <td>-2.99e+04</td> <td> 4.03e+04</td>\n",
       "</tr>\n",
       "<tr>\n",
       "  <th>age3</th>  <td>-7783.0117</td> <td> 2.73e+04</td> <td>   -0.285</td> <td> 0.776</td> <td>-6.15e+04</td> <td> 4.59e+04</td>\n",
       "</tr>\n",
       "<tr>\n",
       "  <th>age4</th>  <td> 5255.0538</td> <td> 1.87e+04</td> <td>    0.282</td> <td> 0.778</td> <td>-3.14e+04</td> <td> 4.19e+04</td>\n",
       "</tr>\n",
       "<tr>\n",
       "  <th>age5</th>  <td>-1341.0611</td> <td> 4794.082</td> <td>   -0.280</td> <td> 0.780</td> <td>-1.08e+04</td> <td> 8070.622</td>\n",
       "</tr>\n",
       "</table>\n",
       "<table class=\"simpletable\">\n",
       "<tr>\n",
       "  <th>Omnibus:</th>       <td>202.208</td> <th>  Durbin-Watson:     </th> <td>   1.936</td> \n",
       "</tr>\n",
       "<tr>\n",
       "  <th>Prob(Omnibus):</th> <td> 0.000</td>  <th>  Jarque-Bera (JB):  </th> <td> 653.255</td> \n",
       "</tr>\n",
       "<tr>\n",
       "  <th>Skew:</th>          <td> 1.286</td>  <th>  Prob(JB):          </th> <td>1.40e-142</td>\n",
       "</tr>\n",
       "<tr>\n",
       "  <th>Kurtosis:</th>      <td> 6.787</td>  <th>  Cond. No.          </th> <td>2.44e+06</td> \n",
       "</tr>\n",
       "</table><br/><br/>Notes:<br/>[1] Standard Errors assume that the covariance matrix of the errors is correctly specified.<br/>[2] The condition number is large, 2.44e+06. This might indicate that there are<br/>strong multicollinearity or other numerical problems."
      ],
      "text/plain": [
       "<class 'statsmodels.iolib.summary.Summary'>\n",
       "\"\"\"\n",
       "                            OLS Regression Results                            \n",
       "==============================================================================\n",
       "Dep. Variable:                   wage   R-squared:                       0.128\n",
       "Model:                            OLS   Adj. R-squared:                  0.116\n",
       "Method:                 Least Squares   F-statistic:                     10.81\n",
       "Date:                Mon, 19 Feb 2024   Prob (F-statistic):           2.83e-17\n",
       "Time:                        21:05:54   Log-Likelihood:                -1016.0\n",
       "No. Observations:                 748   AIC:                             2054.\n",
       "Df Residuals:                     737   BIC:                             2105.\n",
       "Df Model:                          10                                         \n",
       "Covariance Type:            nonrobust                                         \n",
       "==============================================================================\n",
       "                 coef    std err          t      P>|t|      [0.025      0.975]\n",
       "------------------------------------------------------------------------------\n",
       "const         -0.0028      0.035     -0.080      0.937      -0.071       0.065\n",
       "educ        -109.9917    192.003     -0.573      0.567    -486.931     266.947\n",
       "educ2        462.5622    824.114      0.561      0.575   -1155.328    2080.452\n",
       "educ3       -736.3809   1339.181     -0.550      0.583   -3365.445    1892.684\n",
       "educ4        527.4761    974.843      0.541      0.589   -1386.323    2441.276\n",
       "educ5       -143.4145    267.848     -0.535      0.593    -669.250     382.421\n",
       "age        -1295.3370   4397.692     -0.295      0.768   -9928.834    7338.159\n",
       "age2        5164.4620   1.79e+04      0.289      0.773   -2.99e+04    4.03e+04\n",
       "age3       -7783.0117   2.73e+04     -0.285      0.776   -6.15e+04    4.59e+04\n",
       "age4        5255.0538   1.87e+04      0.282      0.778   -3.14e+04    4.19e+04\n",
       "age5       -1341.0611   4794.082     -0.280      0.780   -1.08e+04    8070.622\n",
       "==============================================================================\n",
       "Omnibus:                      202.208   Durbin-Watson:                   1.936\n",
       "Prob(Omnibus):                  0.000   Jarque-Bera (JB):              653.255\n",
       "Skew:                           1.286   Prob(JB):                    1.40e-142\n",
       "Kurtosis:                       6.787   Cond. No.                     2.44e+06\n",
       "==============================================================================\n",
       "\n",
       "Notes:\n",
       "[1] Standard Errors assume that the covariance matrix of the errors is correctly specified.\n",
       "[2] The condition number is large, 2.44e+06. This might indicate that there are\n",
       "strong multicollinearity or other numerical problems.\n",
       "\"\"\""
      ]
     },
     "execution_count": 131,
     "metadata": {},
     "output_type": "execute_result"
    }
   ],
   "source": [
    "model = sm.OLS(y_train, X_train_wc).fit()\n",
    "model.summary()"
   ]
  },
  {
   "cell_type": "markdown",
   "metadata": {},
   "source": [
    "The R squared is 12.8% which is very low. None of the coefficients are statistically significant at the 5% level which indicates we could have issues with collinearity. "
   ]
  },
  {
   "cell_type": "markdown",
   "metadata": {},
   "source": [
    "### Fitting Model for Initial Performance"
   ]
  },
  {
   "cell_type": "code",
   "execution_count": 132,
   "metadata": {},
   "outputs": [],
   "source": [
    "from sklearn.linear_model import LinearRegression, Ridge,RidgeCV, Lasso, LassoCV, ElasticNet, ElasticNetCV\n",
    "\n",
    "model_linear = LinearRegression()\n",
    "model_ridge = Ridge()\n",
    "model_lasso = Lasso()\n",
    "model_net = ElasticNet()"
   ]
  },
  {
   "cell_type": "code",
   "execution_count": 133,
   "metadata": {},
   "outputs": [],
   "source": [
    "y_hat_linear= model_linear.fit(X_train, y_train).predict(X_test)\n",
    "y_hat_ridge = model_ridge.fit(X_train, y_train).predict(X_test)\n",
    "y_hat_lasso = model_lasso.fit(X_train, y_train).predict(X_test)\n",
    "y_hat_net   = model_net.fit(X_train, y_train).predict(X_test)"
   ]
  },
  {
   "cell_type": "code",
   "execution_count": 134,
   "metadata": {},
   "outputs": [
    {
     "data": {
      "text/html": [
       "<div>\n",
       "<style scoped>\n",
       "    .dataframe tbody tr th:only-of-type {\n",
       "        vertical-align: middle;\n",
       "    }\n",
       "\n",
       "    .dataframe tbody tr th {\n",
       "        vertical-align: top;\n",
       "    }\n",
       "\n",
       "    .dataframe thead th {\n",
       "        text-align: right;\n",
       "    }\n",
       "</style>\n",
       "<table border=\"1\" class=\"dataframe\">\n",
       "  <thead>\n",
       "    <tr style=\"text-align: right;\">\n",
       "      <th></th>\n",
       "      <th>y_test</th>\n",
       "      <th>y_hat_linear</th>\n",
       "      <th>y_hat_ridge</th>\n",
       "      <th>y_hat_lasso</th>\n",
       "      <th>y_hat_net</th>\n",
       "    </tr>\n",
       "  </thead>\n",
       "  <tbody>\n",
       "    <tr>\n",
       "      <th>434</th>\n",
       "      <td>0.042199</td>\n",
       "      <td>-0.267170</td>\n",
       "      <td>-0.202696</td>\n",
       "      <td>-0.012852</td>\n",
       "      <td>-0.012852</td>\n",
       "    </tr>\n",
       "    <tr>\n",
       "      <th>238</th>\n",
       "      <td>1.910343</td>\n",
       "      <td>0.699718</td>\n",
       "      <td>0.704007</td>\n",
       "      <td>-0.012852</td>\n",
       "      <td>-0.012852</td>\n",
       "    </tr>\n",
       "    <tr>\n",
       "      <th>531</th>\n",
       "      <td>-0.700110</td>\n",
       "      <td>-0.065042</td>\n",
       "      <td>0.045579</td>\n",
       "      <td>-0.012852</td>\n",
       "      <td>-0.012852</td>\n",
       "    </tr>\n",
       "    <tr>\n",
       "      <th>157</th>\n",
       "      <td>2.328510</td>\n",
       "      <td>0.689508</td>\n",
       "      <td>0.653410</td>\n",
       "      <td>-0.012852</td>\n",
       "      <td>-0.012852</td>\n",
       "    </tr>\n",
       "    <tr>\n",
       "      <th>601</th>\n",
       "      <td>1.341239</td>\n",
       "      <td>0.208652</td>\n",
       "      <td>0.171149</td>\n",
       "      <td>-0.012852</td>\n",
       "      <td>-0.012852</td>\n",
       "    </tr>\n",
       "  </tbody>\n",
       "</table>\n",
       "</div>"
      ],
      "text/plain": [
       "       y_test  y_hat_linear  y_hat_ridge  y_hat_lasso  y_hat_net\n",
       "434  0.042199     -0.267170    -0.202696    -0.012852  -0.012852\n",
       "238  1.910343      0.699718     0.704007    -0.012852  -0.012852\n",
       "531 -0.700110     -0.065042     0.045579    -0.012852  -0.012852\n",
       "157  2.328510      0.689508     0.653410    -0.012852  -0.012852\n",
       "601  1.341239      0.208652     0.171149    -0.012852  -0.012852"
      ]
     },
     "execution_count": 134,
     "metadata": {},
     "output_type": "execute_result"
    }
   ],
   "source": [
    "df_predictions = pd.DataFrame({'y_test':y_test,\n",
    "                               'y_hat_linear':y_hat_linear,\n",
    "                               'y_hat_ridge':y_hat_ridge,\n",
    "                               'y_hat_lasso':y_hat_lasso,\n",
    "                               'y_hat_net':y_hat_net})\n",
    "df_predictions.head()"
   ]
  },
  {
   "cell_type": "code",
   "execution_count": 135,
   "metadata": {},
   "outputs": [
    {
     "data": {
      "text/html": [
       "<div>\n",
       "<style scoped>\n",
       "    .dataframe tbody tr th:only-of-type {\n",
       "        vertical-align: middle;\n",
       "    }\n",
       "\n",
       "    .dataframe tbody tr th {\n",
       "        vertical-align: top;\n",
       "    }\n",
       "\n",
       "    .dataframe thead th {\n",
       "        text-align: right;\n",
       "    }\n",
       "</style>\n",
       "<table border=\"1\" class=\"dataframe\">\n",
       "  <thead>\n",
       "    <tr style=\"text-align: right;\">\n",
       "      <th></th>\n",
       "      <th>Features</th>\n",
       "      <th>model_lin</th>\n",
       "      <th>model_ridge</th>\n",
       "      <th>model_lasso</th>\n",
       "      <th>model_net</th>\n",
       "    </tr>\n",
       "  </thead>\n",
       "  <tbody>\n",
       "    <tr>\n",
       "      <th>0</th>\n",
       "      <td>educ</td>\n",
       "      <td>-109.991745</td>\n",
       "      <td>0.169172</td>\n",
       "      <td>0.0</td>\n",
       "      <td>0.0</td>\n",
       "    </tr>\n",
       "    <tr>\n",
       "      <th>1</th>\n",
       "      <td>educ2</td>\n",
       "      <td>462.562174</td>\n",
       "      <td>0.309854</td>\n",
       "      <td>0.0</td>\n",
       "      <td>0.0</td>\n",
       "    </tr>\n",
       "    <tr>\n",
       "      <th>2</th>\n",
       "      <td>educ3</td>\n",
       "      <td>-736.380870</td>\n",
       "      <td>0.232209</td>\n",
       "      <td>0.0</td>\n",
       "      <td>0.0</td>\n",
       "    </tr>\n",
       "    <tr>\n",
       "      <th>3</th>\n",
       "      <td>educ4</td>\n",
       "      <td>527.476086</td>\n",
       "      <td>-0.016857</td>\n",
       "      <td>0.0</td>\n",
       "      <td>0.0</td>\n",
       "    </tr>\n",
       "    <tr>\n",
       "      <th>4</th>\n",
       "      <td>educ5</td>\n",
       "      <td>-143.414487</td>\n",
       "      <td>-0.393124</td>\n",
       "      <td>0.0</td>\n",
       "      <td>0.0</td>\n",
       "    </tr>\n",
       "    <tr>\n",
       "      <th>5</th>\n",
       "      <td>age</td>\n",
       "      <td>-1295.337041</td>\n",
       "      <td>0.005242</td>\n",
       "      <td>0.0</td>\n",
       "      <td>0.0</td>\n",
       "    </tr>\n",
       "    <tr>\n",
       "      <th>6</th>\n",
       "      <td>age2</td>\n",
       "      <td>5164.461998</td>\n",
       "      <td>0.136966</td>\n",
       "      <td>0.0</td>\n",
       "      <td>0.0</td>\n",
       "    </tr>\n",
       "    <tr>\n",
       "      <th>7</th>\n",
       "      <td>age3</td>\n",
       "      <td>-7783.011674</td>\n",
       "      <td>0.147814</td>\n",
       "      <td>0.0</td>\n",
       "      <td>0.0</td>\n",
       "    </tr>\n",
       "    <tr>\n",
       "      <th>8</th>\n",
       "      <td>age4</td>\n",
       "      <td>5255.053786</td>\n",
       "      <td>0.043936</td>\n",
       "      <td>0.0</td>\n",
       "      <td>0.0</td>\n",
       "    </tr>\n",
       "    <tr>\n",
       "      <th>9</th>\n",
       "      <td>age5</td>\n",
       "      <td>-1341.061045</td>\n",
       "      <td>-0.166490</td>\n",
       "      <td>0.0</td>\n",
       "      <td>0.0</td>\n",
       "    </tr>\n",
       "  </tbody>\n",
       "</table>\n",
       "</div>"
      ],
      "text/plain": [
       "  Features    model_lin  model_ridge  model_lasso  model_net\n",
       "0     educ  -109.991745     0.169172          0.0        0.0\n",
       "1    educ2   462.562174     0.309854          0.0        0.0\n",
       "2    educ3  -736.380870     0.232209          0.0        0.0\n",
       "3    educ4   527.476086    -0.016857          0.0        0.0\n",
       "4    educ5  -143.414487    -0.393124          0.0        0.0\n",
       "5      age -1295.337041     0.005242          0.0        0.0\n",
       "6     age2  5164.461998     0.136966          0.0        0.0\n",
       "7     age3 -7783.011674     0.147814          0.0        0.0\n",
       "8     age4  5255.053786     0.043936          0.0        0.0\n",
       "9     age5 -1341.061045    -0.166490          0.0        0.0"
      ]
     },
     "execution_count": 135,
     "metadata": {},
     "output_type": "execute_result"
    }
   ],
   "source": [
    "coefficients = pd.DataFrame({'Features':df.drop('wage', axis=1, inplace=False).columns})\n",
    "coefficients['model_lin']= model_linear.coef_\n",
    "coefficients['model_ridge']= model_ridge.coef_\n",
    "coefficients['model_lasso']= model_lasso.coef_\n",
    "coefficients['model_net']= model_net.coef_\n",
    "coefficients"
   ]
  },
  {
   "cell_type": "markdown",
   "metadata": {},
   "source": [
    "All of the coefficients are 0 for the lasso and elastic net because the default alpha is to large and it is eliminating all variables"
   ]
  },
  {
   "cell_type": "markdown",
   "metadata": {},
   "source": [
    "### Plotting the Coefficients vs Alphas"
   ]
  },
  {
   "cell_type": "code",
   "execution_count": 136,
   "metadata": {},
   "outputs": [],
   "source": [
    "alphas = 10**np.linspace(-4,2,100)"
   ]
  },
  {
   "cell_type": "markdown",
   "metadata": {},
   "source": [
    "#### 1. Ridge Regression"
   ]
  },
  {
   "cell_type": "code",
   "execution_count": 137,
   "metadata": {},
   "outputs": [
    {
     "data": {
      "text/plain": [
       "(100, 10)"
      ]
     },
     "execution_count": 137,
     "metadata": {},
     "output_type": "execute_result"
    }
   ],
   "source": [
    "ridge = Ridge()\n",
    "coefs_ridge = []\n",
    "\n",
    "for i in alphas:\n",
    "    ridge.set_params(alpha = i)\n",
    "    ridge.fit(X_train, y_train)\n",
    "    coefs_ridge.append(ridge.coef_)\n",
    "    \n",
    "np.shape(coefs_ridge)"
   ]
  },
  {
   "cell_type": "code",
   "execution_count": 138,
   "metadata": {},
   "outputs": [
    {
     "data": {
      "image/png": "[encoded data removed]",
      "text/plain": [
       "<Figure size 864x720 with 1 Axes>"
      ]
     },
     "metadata": {},
     "output_type": "display_data"
    }
   ],
   "source": [
    "plt.figure(figsize=(12,10))\n",
    "ax = plt.gca()\n",
    "ax.plot(alphas, coefs_ridge)\n",
    "ax.set_xscale('log')\n",
    "plt.axis('tight')\n",
    "plt.xlabel('alpha')\n",
    "plt.ylabel('weights: scaled coefficients')\n",
    "plt.title('Ridge regression coefficients Vs. alpha')\n",
    "plt.legend(df.drop('wage',axis=1, inplace=False).columns)\n",
    "\n",
    "plt.show()"
   ]
  },
  {
   "cell_type": "markdown",
   "metadata": {},
   "source": [
    "This plot is showing that at an alpha of 0.1 most coefficients are close to 0. It appears that age 4 becomes 0 first which means the model isn't very sensitive to this feature. "
   ]
  },
  {
   "cell_type": "markdown",
   "metadata": {},
   "source": [
    "#### 2. Lasso Regression"
   ]
  },
  {
   "cell_type": "code",
   "execution_count": 139,
   "metadata": {},
   "outputs": [
    {
     "data": {
      "text/plain": [
       "(100, 10)"
      ]
     },
     "execution_count": 139,
     "metadata": {},
     "output_type": "execute_result"
    }
   ],
   "source": [
    "lasso = Lasso()\n",
    "coefs_lasso = []\n",
    "\n",
    "for i in alphas:\n",
    "    lasso.set_params(alpha = i)\n",
    "    lasso.fit(X_train, y_train)\n",
    "    coefs_lasso.append(lasso.coef_)\n",
    "    \n",
    "np.shape(coefs_lasso)"
   ]
  },
  {
   "cell_type": "code",
   "execution_count": 140,
   "metadata": {},
   "outputs": [
    {
     "data": {
      "image/png": "[encoded data removed]",
      "text/plain": [
       "<Figure size 864x720 with 1 Axes>"
      ]
     },
     "metadata": {},
     "output_type": "display_data"
    }
   ],
   "source": [
    "plt.figure(figsize=(12,10))\n",
    "ax = plt.gca()\n",
    "ax.plot(alphas, coefs_lasso)\n",
    "ax.set_xscale('log')\n",
    "plt.axis('tight')\n",
    "plt.xlabel('alpha')\n",
    "plt.ylabel('weights: scaled coefficients')\n",
    "plt.title('Lasso regression coefficients Vs. alpha')\n",
    "plt.legend(df.drop('wage',axis=1, inplace=False).columns)\n",
    "\n",
    "plt.show()"
   ]
  },
  {
   "cell_type": "markdown",
   "metadata": {},
   "source": [
    "Majority of the features become 0 at an alpha of 0.001. The model is still sensitive to educ 5, age, and educ at this point. "
   ]
  },
  {
   "cell_type": "markdown",
   "metadata": {},
   "source": [
    "#### 3. Elastic Net Regression"
   ]
  },
  {
   "cell_type": "code",
   "execution_count": 141,
   "metadata": {},
   "outputs": [
    {
     "data": {
      "text/plain": [
       "(100, 10)"
      ]
     },
     "execution_count": 141,
     "metadata": {},
     "output_type": "execute_result"
    }
   ],
   "source": [
    "elasticnet = ElasticNet()\n",
    "coefs_elasticnet = []\n",
    "\n",
    "for i in alphas:\n",
    "    elasticnet.set_params(alpha = i)\n",
    "    elasticnet.fit(X_train, y_train)\n",
    "    coefs_elasticnet.append(elasticnet.coef_)\n",
    "    \n",
    "np.shape(coefs_elasticnet)"
   ]
  },
  {
   "cell_type": "code",
   "execution_count": 142,
   "metadata": {},
   "outputs": [
    {
     "data": {
      "image/png": "[encoded data removed]",
      "text/plain": [
       "<Figure size 864x720 with 1 Axes>"
      ]
     },
     "metadata": {},
     "output_type": "display_data"
    }
   ],
   "source": [
    "plt.figure(figsize=(12,10))\n",
    "ax = plt.gca()\n",
    "ax.plot(alphas, coefs_elasticnet)\n",
    "ax.set_xscale('log')\n",
    "plt.axis('tight')\n",
    "plt.xlabel('alpha')\n",
    "plt.ylabel('weights: scaled coefficients')\n",
    "plt.title('Elastic Net regression coefficients Vs. alpha')\n",
    "plt.legend(df.drop('wage',axis=1, inplace=False).columns)\n",
    "\n",
    "plt.show()"
   ]
  },
  {
   "cell_type": "markdown",
   "metadata": {},
   "source": [
    "Most of the features are reduced to a 0 coefficient between 0.1 and 1. The coefficient for educ actually increases as alpha increases for a short time then it also decreases down to 0. "
   ]
  },
  {
   "cell_type": "markdown",
   "metadata": {},
   "source": [
    "Question 6: \n",
    "1. The two that drop the most appear to age and age3.\n",
    "2. The two that survive are age and educ"
   ]
  },
  {
   "cell_type": "markdown",
   "metadata": {},
   "source": [
    "### Cross Validation to find the Optimal Alpha"
   ]
  },
  {
   "cell_type": "markdown",
   "metadata": {},
   "source": [
    "#### Ridge Regression"
   ]
  },
  {
   "cell_type": "code",
   "execution_count": 143,
   "metadata": {},
   "outputs": [
    {
     "data": {
      "text/plain": [
       "0.004977023564332114"
      ]
     },
     "execution_count": 143,
     "metadata": {},
     "output_type": "execute_result"
    }
   ],
   "source": [
    "ridgecv = RidgeCV(alphas=alphas)\n",
    "ridgecv.fit(X_train, y_train)\n",
    "ridgecv.alpha_"
   ]
  },
  {
   "cell_type": "code",
   "execution_count": 144,
   "metadata": {},
   "outputs": [],
   "source": [
    "alpha_ridge_opt = ridgecv.alpha_"
   ]
  },
  {
   "cell_type": "code",
   "execution_count": 145,
   "metadata": {},
   "outputs": [
    {
     "data": {
      "text/plain": [
       "array([-0.91098705,  1.45592853,  0.90869226, -0.29686326, -0.86650638,\n",
       "       -7.01043122,  3.90366929,  7.16103252,  3.26168886, -7.18500268])"
      ]
     },
     "execution_count": 145,
     "metadata": {},
     "output_type": "execute_result"
    }
   ],
   "source": [
    "ridgecv.coef_"
   ]
  },
  {
   "cell_type": "markdown",
   "metadata": {},
   "source": [
    "#### Lasso Regression"
   ]
  },
  {
   "cell_type": "code",
   "execution_count": 146,
   "metadata": {},
   "outputs": [
    {
     "data": {
      "text/plain": [
       "0.01"
      ]
     },
     "execution_count": 146,
     "metadata": {},
     "output_type": "execute_result"
    }
   ],
   "source": [
    "lassocv = LassoCV(alphas=alphas)\n",
    "lassocv.fit(X_train, y_train)\n",
    "lassocv.alpha_"
   ]
  },
  {
   "cell_type": "code",
   "execution_count": 147,
   "metadata": {},
   "outputs": [],
   "source": [
    "alpha_lasso_opt = lassocv.alpha_"
   ]
  },
  {
   "cell_type": "code",
   "execution_count": 148,
   "metadata": {},
   "outputs": [
    {
     "data": {
      "text/plain": [
       "array([ 3.05014980e-01,  0.00000000e+00,  0.00000000e+00, -0.00000000e+00,\n",
       "       -0.00000000e+00,  1.46529614e-01,  1.10315220e-04,  0.00000000e+00,\n",
       "        0.00000000e+00,  0.00000000e+00])"
      ]
     },
     "execution_count": 148,
     "metadata": {},
     "output_type": "execute_result"
    }
   ],
   "source": [
    "lassocv.coef_"
   ]
  },
  {
   "cell_type": "markdown",
   "metadata": {},
   "source": [
    "#### Elastic Net Regression"
   ]
  },
  {
   "cell_type": "code",
   "execution_count": 149,
   "metadata": {},
   "outputs": [
    {
     "data": {
      "text/plain": [
       "0.01519911082952933"
      ]
     },
     "execution_count": 149,
     "metadata": {},
     "output_type": "execute_result"
    }
   ],
   "source": [
    "elasticnetcv = ElasticNetCV(alphas=alphas, l1_ratio=np.linspace(0.0, 1, 11))\n",
    "elasticnetcv.fit(X_train, y_train)\n",
    "elasticnetcv.alpha_"
   ]
  },
  {
   "cell_type": "code",
   "execution_count": 150,
   "metadata": {},
   "outputs": [
    {
     "data": {
      "text/plain": [
       "0.7000000000000001"
      ]
     },
     "execution_count": 150,
     "metadata": {},
     "output_type": "execute_result"
    }
   ],
   "source": [
    "elasticnetcv.l1_ratio_"
   ]
  },
  {
   "cell_type": "code",
   "execution_count": 151,
   "metadata": {},
   "outputs": [],
   "source": [
    "alpha_elasticnet_opt = elasticnetcv.alpha_"
   ]
  },
  {
   "cell_type": "code",
   "execution_count": 152,
   "metadata": {},
   "outputs": [
    {
     "data": {
      "text/plain": [
       "array([ 0.30315252,  0.        ,  0.        ,  0.        , -0.        ,\n",
       "        0.08183184,  0.06151766,  0.00225436,  0.        ,  0.        ])"
      ]
     },
     "execution_count": 152,
     "metadata": {},
     "output_type": "execute_result"
    }
   ],
   "source": [
    "elasticnetcv.coef_"
   ]
  },
  {
   "cell_type": "markdown",
   "metadata": {},
   "source": [
    "### Refitting the Model with cross validated hyperparameters"
   ]
  },
  {
   "cell_type": "code",
   "execution_count": 153,
   "metadata": {},
   "outputs": [],
   "source": [
    "model_linear = LinearRegression()\n",
    "model_ridge = Ridge(alpha= alpha_ridge_opt)\n",
    "model_lasso = Lasso(alpha= alpha_lasso_opt)\n",
    "model_net = ElasticNet(alpha= alpha_elasticnet_opt)"
   ]
  },
  {
   "cell_type": "code",
   "execution_count": 154,
   "metadata": {},
   "outputs": [],
   "source": [
    "y_hat_linear= model_linear.fit(X_train, y_train).predict(X_test)\n",
    "y_hat_ridge = model_ridge.fit(X_train, y_train).predict(X_test)\n",
    "y_hat_lasso = model_lasso.fit(X_train, y_train).predict(X_test)\n",
    "y_hat_net   = model_net.fit(X_train, y_train).predict(X_test)"
   ]
  },
  {
   "cell_type": "code",
   "execution_count": 155,
   "metadata": {},
   "outputs": [
    {
     "data": {
      "text/html": [
       "<div>\n",
       "<style scoped>\n",
       "    .dataframe tbody tr th:only-of-type {\n",
       "        vertical-align: middle;\n",
       "    }\n",
       "\n",
       "    .dataframe tbody tr th {\n",
       "        vertical-align: top;\n",
       "    }\n",
       "\n",
       "    .dataframe thead th {\n",
       "        text-align: right;\n",
       "    }\n",
       "</style>\n",
       "<table border=\"1\" class=\"dataframe\">\n",
       "  <thead>\n",
       "    <tr style=\"text-align: right;\">\n",
       "      <th></th>\n",
       "      <th>y_test</th>\n",
       "      <th>y_hat_linear</th>\n",
       "      <th>y_hat_ridge</th>\n",
       "      <th>y_hat_lasso</th>\n",
       "      <th>y_hat_net</th>\n",
       "    </tr>\n",
       "  </thead>\n",
       "  <tbody>\n",
       "    <tr>\n",
       "      <th>434</th>\n",
       "      <td>0.042199</td>\n",
       "      <td>-0.267170</td>\n",
       "      <td>-0.252619</td>\n",
       "      <td>-0.214151</td>\n",
       "      <td>-0.215513</td>\n",
       "    </tr>\n",
       "    <tr>\n",
       "      <th>238</th>\n",
       "      <td>1.910343</td>\n",
       "      <td>0.699718</td>\n",
       "      <td>0.686303</td>\n",
       "      <td>0.810961</td>\n",
       "      <td>0.816272</td>\n",
       "    </tr>\n",
       "    <tr>\n",
       "      <th>531</th>\n",
       "      <td>-0.700110</td>\n",
       "      <td>-0.065042</td>\n",
       "      <td>-0.037980</td>\n",
       "      <td>0.024603</td>\n",
       "      <td>0.033229</td>\n",
       "    </tr>\n",
       "    <tr>\n",
       "      <th>157</th>\n",
       "      <td>2.328510</td>\n",
       "      <td>0.689508</td>\n",
       "      <td>0.671949</td>\n",
       "      <td>0.763748</td>\n",
       "      <td>0.765475</td>\n",
       "    </tr>\n",
       "    <tr>\n",
       "      <th>601</th>\n",
       "      <td>1.341239</td>\n",
       "      <td>0.208652</td>\n",
       "      <td>0.223092</td>\n",
       "      <td>0.155429</td>\n",
       "      <td>0.157474</td>\n",
       "    </tr>\n",
       "  </tbody>\n",
       "</table>\n",
       "</div>"
      ],
      "text/plain": [
       "       y_test  y_hat_linear  y_hat_ridge  y_hat_lasso  y_hat_net\n",
       "434  0.042199     -0.267170    -0.252619    -0.214151  -0.215513\n",
       "238  1.910343      0.699718     0.686303     0.810961   0.816272\n",
       "531 -0.700110     -0.065042    -0.037980     0.024603   0.033229\n",
       "157  2.328510      0.689508     0.671949     0.763748   0.765475\n",
       "601  1.341239      0.208652     0.223092     0.155429   0.157474"
      ]
     },
     "execution_count": 155,
     "metadata": {},
     "output_type": "execute_result"
    }
   ],
   "source": [
    "df_predictions_optimal = pd.DataFrame({'y_test':y_test,\n",
    "                               'y_hat_linear':y_hat_linear,\n",
    "                               'y_hat_ridge':y_hat_ridge,\n",
    "                               'y_hat_lasso':y_hat_lasso,\n",
    "                               'y_hat_net':y_hat_net})\n",
    "df_predictions_optimal.head()"
   ]
  },
  {
   "cell_type": "markdown",
   "metadata": {},
   "source": [
    "### Scores for the optimal alphas"
   ]
  },
  {
   "cell_type": "markdown",
   "metadata": {},
   "source": [
    "#### 1. Linear Regression"
   ]
  },
  {
   "cell_type": "code",
   "execution_count": 156,
   "metadata": {},
   "outputs": [
    {
     "data": {
      "text/plain": [
       "0.1983485557614555"
      ]
     },
     "execution_count": 156,
     "metadata": {},
     "output_type": "execute_result"
    }
   ],
   "source": [
    "model_linear.score(X_test, y_test)"
   ]
  },
  {
   "cell_type": "code",
   "execution_count": 157,
   "metadata": {},
   "outputs": [
    {
     "data": {
      "text/plain": [
       "0.865"
      ]
     },
     "execution_count": 157,
     "metadata": {},
     "output_type": "execute_result"
    }
   ],
   "source": [
    "MSE_test_lin = np.mean(np.square(df_predictions_optimal['y_test'] - df_predictions_optimal['y_hat_linear']))\n",
    "RMSE_test_lin = np.sqrt(MSE_test_lin)\n",
    "np.round(RMSE_test_lin,3)"
   ]
  },
  {
   "cell_type": "markdown",
   "metadata": {},
   "source": [
    "#### 2. Ridge Regression"
   ]
  },
  {
   "cell_type": "code",
   "execution_count": 158,
   "metadata": {},
   "outputs": [
    {
     "data": {
      "text/plain": [
       "0.19932369769739267"
      ]
     },
     "execution_count": 158,
     "metadata": {},
     "output_type": "execute_result"
    }
   ],
   "source": [
    "model_ridge.score(X_test, y_test)"
   ]
  },
  {
   "cell_type": "code",
   "execution_count": 159,
   "metadata": {},
   "outputs": [
    {
     "data": {
      "text/plain": [
       "0.864"
      ]
     },
     "execution_count": 159,
     "metadata": {},
     "output_type": "execute_result"
    }
   ],
   "source": [
    "MSE_test_ridge = np.mean(np.square(df_predictions_optimal['y_test'] - df_predictions_optimal['y_hat_ridge']))\n",
    "RMSE_test_ridge = np.sqrt(MSE_test_ridge)\n",
    "np.round(RMSE_test_ridge,3)"
   ]
  },
  {
   "cell_type": "markdown",
   "metadata": {},
   "source": [
    "#### 3. Lasso Regression"
   ]
  },
  {
   "cell_type": "code",
   "execution_count": 160,
   "metadata": {},
   "outputs": [
    {
     "data": {
      "text/plain": [
       "0.19270451107452435"
      ]
     },
     "execution_count": 160,
     "metadata": {},
     "output_type": "execute_result"
    }
   ],
   "source": [
    "model_lasso.score(X_test, y_test)"
   ]
  },
  {
   "cell_type": "code",
   "execution_count": 161,
   "metadata": {},
   "outputs": [
    {
     "data": {
      "text/plain": [
       "0.868"
      ]
     },
     "execution_count": 161,
     "metadata": {},
     "output_type": "execute_result"
    }
   ],
   "source": [
    "MSE_test_lasso = np.mean(np.square(df_predictions_optimal['y_test'] - df_predictions_optimal['y_hat_lasso']))\n",
    "RMSE_test_lasso = np.sqrt(MSE_test_lasso)\n",
    "np.round(RMSE_test_lasso,3)"
   ]
  },
  {
   "cell_type": "markdown",
   "metadata": {},
   "source": [
    "#### Elastic Net Regression"
   ]
  },
  {
   "cell_type": "code",
   "execution_count": 162,
   "metadata": {},
   "outputs": [
    {
     "data": {
      "text/plain": [
       "0.19257414876337753"
      ]
     },
     "execution_count": 162,
     "metadata": {},
     "output_type": "execute_result"
    }
   ],
   "source": [
    "model_net.score(X_test, y_test)"
   ]
  },
  {
   "cell_type": "code",
   "execution_count": 163,
   "metadata": {},
   "outputs": [
    {
     "data": {
      "text/plain": [
       "0.868"
      ]
     },
     "execution_count": 163,
     "metadata": {},
     "output_type": "execute_result"
    }
   ],
   "source": [
    "MSE_test_net = np.mean(np.square(df_predictions_optimal['y_test'] - df_predictions_optimal['y_hat_net']))\n",
    "RMSE_test_net = np.sqrt(MSE_test_net)\n",
    "np.round(RMSE_test_net,3)"
   ]
  },
  {
   "cell_type": "markdown",
   "metadata": {},
   "source": [
    "### Ranking the models based on RMSE performance"
   ]
  },
  {
   "cell_type": "markdown",
   "metadata": {},
   "source": [
    "Model Ranks\n",
    "1. Ridge\n",
    "2. Default\n",
    "3. Lasso\n",
    "4. Elastic Net\n",
    "\n",
    "We were able to very slightly beat the default model with the Ridge Regression method. I believe this means that the data is linear in shape indicating the linear model should perform the best. "
   ]
  }
 ],
 "metadata": {
  "kernelspec": {
   "display_name": "Python 3",
   "language": "python",
   "name": "python3"
  },
  "language_info": {
   "codemirror_mode": {
    "name": "ipython",
    "version": 3
   },
   "file_extension": ".py",
   "mimetype": "text/x-python",
   "name": "python",
   "nbconvert_exporter": "python",
   "pygments_lexer": "ipython3",
   "version": "3.9.7"
  }
 },
 "nbformat": 4,
 "nbformat_minor": 2
}
