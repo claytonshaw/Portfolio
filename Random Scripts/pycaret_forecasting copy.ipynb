{
 "cells": [
  {
   "cell_type": "markdown",
   "metadata": {},
   "source": [
    "## Variable Selection"
   ]
  },
  {
   "cell_type": "code",
   "execution_count": 22,
   "metadata": {},
   "outputs": [
    {
     "name": "stdout",
     "output_type": "stream",
     "text": [
      "Growth Rate: 1.01\n"
     ]
    }
   ],
   "source": [
    "import pandas as pd\n",
    "import numpy as np\n",
    "import matplotlib.pyplot as plt\n",
    "from datetime import datetime\n",
    "\n",
    "# select item (use item 2 if it switched model numbers but is same item)\n",
    "item = '4114'\n",
    "#item2 = '5397'\n",
    "item2 = None\n",
    "\n",
    "# month to start the forecast\n",
    "month = datetime.today().month\n",
    "\n",
    "period = 'M'\n",
    "\n",
    "# percentage increase in store count\n",
    "store_count_change = 1\n",
    "growth_rate = 1 + (store_count_change / 100) # converts to a percentage\n",
    "\n",
    "# this changes the length dropped off for the benchmarks\n",
    "forecast_length = 4\n",
    "\n",
    "# this changes the array in the pycaret if you do the arange it will do a point forecast at the future time\n",
    "#forecast_lenth_array = np.arange(forecast_length, forecast_length+1)\n",
    "forecast_lenth_array = forecast_length\n",
    "print(\"Growth Rate:\", growth_rate)"
   ]
  },
  {
   "cell_type": "markdown",
   "metadata": {},
   "source": [
    "## Data"
   ]
  },
  {
   "cell_type": "code",
   "execution_count": 23,
   "metadata": {},
   "outputs": [],
   "source": [
    "df = pd.read_csv('Items Shipped by Item by Month.csv')"
   ]
  },
  {
   "cell_type": "code",
   "execution_count": 24,
   "metadata": {},
   "outputs": [
    {
     "data": {
      "text/html": [
       "<div>\n",
       "<style scoped>\n",
       "    .dataframe tbody tr th:only-of-type {\n",
       "        vertical-align: middle;\n",
       "    }\n",
       "\n",
       "    .dataframe tbody tr th {\n",
       "        vertical-align: top;\n",
       "    }\n",
       "\n",
       "    .dataframe thead th {\n",
       "        text-align: right;\n",
       "    }\n",
       "</style>\n",
       "<table border=\"1\" class=\"dataframe\">\n",
       "  <thead>\n",
       "    <tr style=\"text-align: right;\">\n",
       "      <th></th>\n",
       "      <th>Date</th>\n",
       "      <th>Item</th>\n",
       "      <th>Item Description</th>\n",
       "      <th>Product Group</th>\n",
       "      <th>Parent Product Group</th>\n",
       "      <th>Quantity</th>\n",
       "      <th>Amount</th>\n",
       "    </tr>\n",
       "  </thead>\n",
       "  <tbody>\n",
       "    <tr>\n",
       "      <th>0</th>\n",
       "      <td>2024-Oct</td>\n",
       "      <td>2379</td>\n",
       "      <td>Tabletop Pizza Oven-Walmart 2024</td>\n",
       "      <td>Pizza Oven</td>\n",
       "      <td>Cooking Unit</td>\n",
       "      <td>702.0</td>\n",
       "      <td>61180.28</td>\n",
       "    </tr>\n",
       "    <tr>\n",
       "      <th>1</th>\n",
       "      <td>2024-Oct</td>\n",
       "      <td>2339</td>\n",
       "      <td>17 in Black Adventure Ready with Hard  Cover</td>\n",
       "      <td>Griddles</td>\n",
       "      <td>Cooking Unit</td>\n",
       "      <td>1069.0</td>\n",
       "      <td>60940.06</td>\n",
       "    </tr>\n",
       "    <tr>\n",
       "      <th>2</th>\n",
       "      <td>2024-Oct</td>\n",
       "      <td>2341</td>\n",
       "      <td>Adventure Ready Omnivore 22in Griddle w/ Hood ...</td>\n",
       "      <td>Griddles</td>\n",
       "      <td>Cooking Unit</td>\n",
       "      <td>1252.0</td>\n",
       "      <td>106745.52</td>\n",
       "    </tr>\n",
       "    <tr>\n",
       "      <th>3</th>\n",
       "      <td>2024-Oct</td>\n",
       "      <td>2304</td>\n",
       "      <td>Adventure Ready 22in Tabletop Griddle W/ Hard ...</td>\n",
       "      <td>Griddles</td>\n",
       "      <td>Cooking Unit</td>\n",
       "      <td>495.0</td>\n",
       "      <td>31424.78</td>\n",
       "    </tr>\n",
       "    <tr>\n",
       "      <th>4</th>\n",
       "      <td>2024-Oct</td>\n",
       "      <td>2177</td>\n",
       "      <td>36\" GRIDDLE UPGRADE - Omni Griddle Plate</td>\n",
       "      <td>Griddles</td>\n",
       "      <td>Cooking Unit</td>\n",
       "      <td>1000.0</td>\n",
       "      <td>152213.60</td>\n",
       "    </tr>\n",
       "  </tbody>\n",
       "</table>\n",
       "</div>"
      ],
      "text/plain": [
       "       Date  Item                                   Item Description  \\\n",
       "0  2024-Oct  2379                   Tabletop Pizza Oven-Walmart 2024   \n",
       "1  2024-Oct  2339       17 in Black Adventure Ready with Hard  Cover   \n",
       "2  2024-Oct  2341  Adventure Ready Omnivore 22in Griddle w/ Hood ...   \n",
       "3  2024-Oct  2304  Adventure Ready 22in Tabletop Griddle W/ Hard ...   \n",
       "4  2024-Oct  2177           36\" GRIDDLE UPGRADE - Omni Griddle Plate   \n",
       "\n",
       "  Product Group Parent Product Group  Quantity     Amount  \n",
       "0    Pizza Oven         Cooking Unit     702.0   61180.28  \n",
       "1      Griddles         Cooking Unit    1069.0   60940.06  \n",
       "2      Griddles         Cooking Unit    1252.0  106745.52  \n",
       "3      Griddles         Cooking Unit     495.0   31424.78  \n",
       "4      Griddles         Cooking Unit    1000.0  152213.60  "
      ]
     },
     "execution_count": 24,
     "metadata": {},
     "output_type": "execute_result"
    }
   ],
   "source": [
    "df.head()"
   ]
  },
  {
   "cell_type": "markdown",
   "metadata": {},
   "source": [
    "## Data Formatting"
   ]
  },
  {
   "cell_type": "code",
   "execution_count": 25,
   "metadata": {},
   "outputs": [
    {
     "name": "stdout",
     "output_type": "stream",
     "text": [
      "<class 'pandas.core.frame.DataFrame'>\n",
      "RangeIndex: 34808 entries, 0 to 34807\n",
      "Data columns (total 7 columns):\n",
      " #   Column                Non-Null Count  Dtype  \n",
      "---  ------                --------------  -----  \n",
      " 0   Date                  34808 non-null  object \n",
      " 1   Item                  34808 non-null  object \n",
      " 2   Item Description      34657 non-null  object \n",
      " 3   Product Group         34549 non-null  object \n",
      " 4   Parent Product Group  34808 non-null  object \n",
      " 5   Quantity              34792 non-null  float64\n",
      " 6   Amount                34808 non-null  float64\n",
      "dtypes: float64(2), object(5)\n",
      "memory usage: 1.9+ MB\n"
     ]
    }
   ],
   "source": [
    "df.info()"
   ]
  },
  {
   "cell_type": "code",
   "execution_count": 26,
   "metadata": {},
   "outputs": [
    {
     "data": {
      "text/html": [
       "<div>\n",
       "<style scoped>\n",
       "    .dataframe tbody tr th:only-of-type {\n",
       "        vertical-align: middle;\n",
       "    }\n",
       "\n",
       "    .dataframe tbody tr th {\n",
       "        vertical-align: top;\n",
       "    }\n",
       "\n",
       "    .dataframe thead th {\n",
       "        text-align: right;\n",
       "    }\n",
       "</style>\n",
       "<table border=\"1\" class=\"dataframe\">\n",
       "  <thead>\n",
       "    <tr style=\"text-align: right;\">\n",
       "      <th></th>\n",
       "      <th>Date</th>\n",
       "      <th>Quantity</th>\n",
       "    </tr>\n",
       "  </thead>\n",
       "  <tbody>\n",
       "    <tr>\n",
       "      <th>42</th>\n",
       "      <td>2023-07-31</td>\n",
       "      <td>97788.0</td>\n",
       "    </tr>\n",
       "    <tr>\n",
       "      <th>43</th>\n",
       "      <td>2023-08-31</td>\n",
       "      <td>86688.0</td>\n",
       "    </tr>\n",
       "    <tr>\n",
       "      <th>44</th>\n",
       "      <td>2023-09-30</td>\n",
       "      <td>69396.0</td>\n",
       "    </tr>\n",
       "    <tr>\n",
       "      <th>45</th>\n",
       "      <td>2023-10-31</td>\n",
       "      <td>16128.0</td>\n",
       "    </tr>\n",
       "    <tr>\n",
       "      <th>46</th>\n",
       "      <td>2023-11-30</td>\n",
       "      <td>30240.0</td>\n",
       "    </tr>\n",
       "    <tr>\n",
       "      <th>47</th>\n",
       "      <td>2023-12-31</td>\n",
       "      <td>89556.0</td>\n",
       "    </tr>\n",
       "    <tr>\n",
       "      <th>48</th>\n",
       "      <td>2024-01-31</td>\n",
       "      <td>43560.0</td>\n",
       "    </tr>\n",
       "    <tr>\n",
       "      <th>49</th>\n",
       "      <td>2024-02-29</td>\n",
       "      <td>68544.0</td>\n",
       "    </tr>\n",
       "    <tr>\n",
       "      <th>50</th>\n",
       "      <td>2024-03-31</td>\n",
       "      <td>92736.0</td>\n",
       "    </tr>\n",
       "    <tr>\n",
       "      <th>51</th>\n",
       "      <td>2024-04-30</td>\n",
       "      <td>139392.0</td>\n",
       "    </tr>\n",
       "    <tr>\n",
       "      <th>52</th>\n",
       "      <td>2024-05-31</td>\n",
       "      <td>173304.0</td>\n",
       "    </tr>\n",
       "    <tr>\n",
       "      <th>53</th>\n",
       "      <td>2024-06-30</td>\n",
       "      <td>149364.0</td>\n",
       "    </tr>\n",
       "    <tr>\n",
       "      <th>54</th>\n",
       "      <td>2024-07-31</td>\n",
       "      <td>183384.0</td>\n",
       "    </tr>\n",
       "    <tr>\n",
       "      <th>55</th>\n",
       "      <td>2024-08-31</td>\n",
       "      <td>71172.0</td>\n",
       "    </tr>\n",
       "    <tr>\n",
       "      <th>56</th>\n",
       "      <td>2024-09-30</td>\n",
       "      <td>10092.0</td>\n",
       "    </tr>\n",
       "  </tbody>\n",
       "</table>\n",
       "</div>"
      ],
      "text/plain": [
       "         Date  Quantity\n",
       "42 2023-07-31   97788.0\n",
       "43 2023-08-31   86688.0\n",
       "44 2023-09-30   69396.0\n",
       "45 2023-10-31   16128.0\n",
       "46 2023-11-30   30240.0\n",
       "47 2023-12-31   89556.0\n",
       "48 2024-01-31   43560.0\n",
       "49 2024-02-29   68544.0\n",
       "50 2024-03-31   92736.0\n",
       "51 2024-04-30  139392.0\n",
       "52 2024-05-31  173304.0\n",
       "53 2024-06-30  149364.0\n",
       "54 2024-07-31  183384.0\n",
       "55 2024-08-31   71172.0\n",
       "56 2024-09-30   10092.0"
      ]
     },
     "execution_count": 26,
     "metadata": {},
     "output_type": "execute_result"
    }
   ],
   "source": [
    "df['Date'] = pd.to_datetime(df['Date'], format='%Y-%b') # this is for the month\n",
    "\n",
    "\n",
    "if item2:\n",
    "    df_item = df[(df['Item'] == item) | (df['Item'] == item2)]\n",
    "else:\n",
    "    df_item = df[df['Item'] == item]\n",
    "\n",
    "df_item = df_item.groupby(['Date'])['Quantity'].sum().reset_index().sort_values(by=['Date'], ascending=True)\n",
    "\n",
    "df_item = df_item.resample(period, on='Date').sum().reset_index()\n",
    "\n",
    "last_month = datetime.strptime(df_item['Date'].astype(str).iloc[-1], '%Y-%m-%d')\n",
    "month_number = last_month.month\n",
    "month_number\n",
    "\n",
    "if month_number < month:\n",
    "    df_item = df_item\n",
    "else:\n",
    "    df_item = df_item[:-1] # drop the last month if in start or middle of month\n",
    "\n",
    "df_item.tail(15)"
   ]
  },
  {
   "cell_type": "code",
   "execution_count": 27,
   "metadata": {},
   "outputs": [
    {
     "data": {
      "image/png": "[encoded data removed]",
      "text/plain": [
       "<Figure size 1400x400 with 1 Axes>"
      ]
     },
     "metadata": {},
     "output_type": "display_data"
    }
   ],
   "source": [
    "# Plot the time series data\n",
    "df_item.plot(x='Date', y='Quantity', figsize=(14,4))\n",
    "unchanged_df = df_item.copy() # saving a copy of the data set to then plot forecasts with original data"
   ]
  },
  {
   "cell_type": "code",
   "execution_count": 28,
   "metadata": {},
   "outputs": [],
   "source": [
    "# adding constant for box cox transformation\n",
    "df_item['Quantity'] = df_item['Quantity'] + 1"
   ]
  },
  {
   "cell_type": "markdown",
   "metadata": {},
   "source": [
    "## Pycaret Forecast"
   ]
  },
  {
   "cell_type": "markdown",
   "metadata": {},
   "source": [
    "#### Setting up experiment"
   ]
  },
  {
   "cell_type": "code",
   "execution_count": 29,
   "metadata": {},
   "outputs": [],
   "source": [
    "from pycaret.time_series import *"
   ]
  },
  {
   "cell_type": "code",
   "execution_count": 30,
   "metadata": {},
   "outputs": [
    {
     "data": {
      "text/html": [
       "<style type=\"text/css\">\n",
       "#T_6d9a1_row31_col1 {\n",
       "  background-color: lightgreen;\n",
       "}\n",
       "</style>\n",
       "<table id=\"T_6d9a1\">\n",
       "  <thead>\n",
       "    <tr>\n",
       "      <th class=\"blank level0\" >&nbsp;</th>\n",
       "      <th id=\"T_6d9a1_level0_col0\" class=\"col_heading level0 col0\" >Description</th>\n",
       "      <th id=\"T_6d9a1_level0_col1\" class=\"col_heading level0 col1\" >Value</th>\n",
       "    </tr>\n",
       "  </thead>\n",
       "  <tbody>\n",
       "    <tr>\n",
       "      <th id=\"T_6d9a1_level0_row0\" class=\"row_heading level0 row0\" >0</th>\n",
       "      <td id=\"T_6d9a1_row0_col0\" class=\"data row0 col0\" >session_id</td>\n",
       "      <td id=\"T_6d9a1_row0_col1\" class=\"data row0 col1\" >6406</td>\n",
       "    </tr>\n",
       "    <tr>\n",
       "      <th id=\"T_6d9a1_level0_row1\" class=\"row_heading level0 row1\" >1</th>\n",
       "      <td id=\"T_6d9a1_row1_col0\" class=\"data row1 col0\" >Target</td>\n",
       "      <td id=\"T_6d9a1_row1_col1\" class=\"data row1 col1\" >Quantity</td>\n",
       "    </tr>\n",
       "    <tr>\n",
       "      <th id=\"T_6d9a1_level0_row2\" class=\"row_heading level0 row2\" >2</th>\n",
       "      <td id=\"T_6d9a1_row2_col0\" class=\"data row2 col0\" >Approach</td>\n",
       "      <td id=\"T_6d9a1_row2_col1\" class=\"data row2 col1\" >Univariate</td>\n",
       "    </tr>\n",
       "    <tr>\n",
       "      <th id=\"T_6d9a1_level0_row3\" class=\"row_heading level0 row3\" >3</th>\n",
       "      <td id=\"T_6d9a1_row3_col0\" class=\"data row3 col0\" >Exogenous Variables</td>\n",
       "      <td id=\"T_6d9a1_row3_col1\" class=\"data row3 col1\" >Not Present</td>\n",
       "    </tr>\n",
       "    <tr>\n",
       "      <th id=\"T_6d9a1_level0_row4\" class=\"row_heading level0 row4\" >4</th>\n",
       "      <td id=\"T_6d9a1_row4_col0\" class=\"data row4 col0\" >Original data shape</td>\n",
       "      <td id=\"T_6d9a1_row4_col1\" class=\"data row4 col1\" >(57, 1)</td>\n",
       "    </tr>\n",
       "    <tr>\n",
       "      <th id=\"T_6d9a1_level0_row5\" class=\"row_heading level0 row5\" >5</th>\n",
       "      <td id=\"T_6d9a1_row5_col0\" class=\"data row5 col0\" >Transformed data shape</td>\n",
       "      <td id=\"T_6d9a1_row5_col1\" class=\"data row5 col1\" >(57, 1)</td>\n",
       "    </tr>\n",
       "    <tr>\n",
       "      <th id=\"T_6d9a1_level0_row6\" class=\"row_heading level0 row6\" >6</th>\n",
       "      <td id=\"T_6d9a1_row6_col0\" class=\"data row6 col0\" >Transformed train set shape</td>\n",
       "      <td id=\"T_6d9a1_row6_col1\" class=\"data row6 col1\" >(53, 1)</td>\n",
       "    </tr>\n",
       "    <tr>\n",
       "      <th id=\"T_6d9a1_level0_row7\" class=\"row_heading level0 row7\" >7</th>\n",
       "      <td id=\"T_6d9a1_row7_col0\" class=\"data row7 col0\" >Transformed test set shape</td>\n",
       "      <td id=\"T_6d9a1_row7_col1\" class=\"data row7 col1\" >(4, 1)</td>\n",
       "    </tr>\n",
       "    <tr>\n",
       "      <th id=\"T_6d9a1_level0_row8\" class=\"row_heading level0 row8\" >8</th>\n",
       "      <td id=\"T_6d9a1_row8_col0\" class=\"data row8 col0\" >Rows with missing values</td>\n",
       "      <td id=\"T_6d9a1_row8_col1\" class=\"data row8 col1\" >0.0%</td>\n",
       "    </tr>\n",
       "    <tr>\n",
       "      <th id=\"T_6d9a1_level0_row9\" class=\"row_heading level0 row9\" >9</th>\n",
       "      <td id=\"T_6d9a1_row9_col0\" class=\"data row9 col0\" >Fold Generator</td>\n",
       "      <td id=\"T_6d9a1_row9_col1\" class=\"data row9 col1\" >ExpandingWindowSplitter</td>\n",
       "    </tr>\n",
       "    <tr>\n",
       "      <th id=\"T_6d9a1_level0_row10\" class=\"row_heading level0 row10\" >10</th>\n",
       "      <td id=\"T_6d9a1_row10_col0\" class=\"data row10 col0\" >Fold Number</td>\n",
       "      <td id=\"T_6d9a1_row10_col1\" class=\"data row10 col1\" >3</td>\n",
       "    </tr>\n",
       "    <tr>\n",
       "      <th id=\"T_6d9a1_level0_row11\" class=\"row_heading level0 row11\" >11</th>\n",
       "      <td id=\"T_6d9a1_row11_col0\" class=\"data row11 col0\" >Enforce Prediction Interval</td>\n",
       "      <td id=\"T_6d9a1_row11_col1\" class=\"data row11 col1\" >False</td>\n",
       "    </tr>\n",
       "    <tr>\n",
       "      <th id=\"T_6d9a1_level0_row12\" class=\"row_heading level0 row12\" >12</th>\n",
       "      <td id=\"T_6d9a1_row12_col0\" class=\"data row12 col0\" >Splits used for hyperparameters</td>\n",
       "      <td id=\"T_6d9a1_row12_col1\" class=\"data row12 col1\" >all</td>\n",
       "    </tr>\n",
       "    <tr>\n",
       "      <th id=\"T_6d9a1_level0_row13\" class=\"row_heading level0 row13\" >13</th>\n",
       "      <td id=\"T_6d9a1_row13_col0\" class=\"data row13 col0\" >User Defined Seasonal Period(s)</td>\n",
       "      <td id=\"T_6d9a1_row13_col1\" class=\"data row13 col1\" >12</td>\n",
       "    </tr>\n",
       "    <tr>\n",
       "      <th id=\"T_6d9a1_level0_row14\" class=\"row_heading level0 row14\" >14</th>\n",
       "      <td id=\"T_6d9a1_row14_col0\" class=\"data row14 col0\" >Ignore Seasonality Test</td>\n",
       "      <td id=\"T_6d9a1_row14_col1\" class=\"data row14 col1\" >False</td>\n",
       "    </tr>\n",
       "    <tr>\n",
       "      <th id=\"T_6d9a1_level0_row15\" class=\"row_heading level0 row15\" >15</th>\n",
       "      <td id=\"T_6d9a1_row15_col0\" class=\"data row15 col0\" >Seasonality Detection Algo</td>\n",
       "      <td id=\"T_6d9a1_row15_col1\" class=\"data row15 col1\" >user_defined</td>\n",
       "    </tr>\n",
       "    <tr>\n",
       "      <th id=\"T_6d9a1_level0_row16\" class=\"row_heading level0 row16\" >16</th>\n",
       "      <td id=\"T_6d9a1_row16_col0\" class=\"data row16 col0\" >Max Period to Consider</td>\n",
       "      <td id=\"T_6d9a1_row16_col1\" class=\"data row16 col1\" >60</td>\n",
       "    </tr>\n",
       "    <tr>\n",
       "      <th id=\"T_6d9a1_level0_row17\" class=\"row_heading level0 row17\" >17</th>\n",
       "      <td id=\"T_6d9a1_row17_col0\" class=\"data row17 col0\" >Seasonal Period(s) Tested</td>\n",
       "      <td id=\"T_6d9a1_row17_col1\" class=\"data row17 col1\" >[12]</td>\n",
       "    </tr>\n",
       "    <tr>\n",
       "      <th id=\"T_6d9a1_level0_row18\" class=\"row_heading level0 row18\" >18</th>\n",
       "      <td id=\"T_6d9a1_row18_col0\" class=\"data row18 col0\" >Significant Seasonal Period(s)</td>\n",
       "      <td id=\"T_6d9a1_row18_col1\" class=\"data row18 col1\" >[1]</td>\n",
       "    </tr>\n",
       "    <tr>\n",
       "      <th id=\"T_6d9a1_level0_row19\" class=\"row_heading level0 row19\" >19</th>\n",
       "      <td id=\"T_6d9a1_row19_col0\" class=\"data row19 col0\" >Significant Seasonal Period(s) without Harmonics</td>\n",
       "      <td id=\"T_6d9a1_row19_col1\" class=\"data row19 col1\" >[1]</td>\n",
       "    </tr>\n",
       "    <tr>\n",
       "      <th id=\"T_6d9a1_level0_row20\" class=\"row_heading level0 row20\" >20</th>\n",
       "      <td id=\"T_6d9a1_row20_col0\" class=\"data row20 col0\" >Remove Harmonics</td>\n",
       "      <td id=\"T_6d9a1_row20_col1\" class=\"data row20 col1\" >False</td>\n",
       "    </tr>\n",
       "    <tr>\n",
       "      <th id=\"T_6d9a1_level0_row21\" class=\"row_heading level0 row21\" >21</th>\n",
       "      <td id=\"T_6d9a1_row21_col0\" class=\"data row21 col0\" >Harmonics Order Method</td>\n",
       "      <td id=\"T_6d9a1_row21_col1\" class=\"data row21 col1\" >harmonic_max</td>\n",
       "    </tr>\n",
       "    <tr>\n",
       "      <th id=\"T_6d9a1_level0_row22\" class=\"row_heading level0 row22\" >22</th>\n",
       "      <td id=\"T_6d9a1_row22_col0\" class=\"data row22 col0\" >Num Seasonalities to Use</td>\n",
       "      <td id=\"T_6d9a1_row22_col1\" class=\"data row22 col1\" >1</td>\n",
       "    </tr>\n",
       "    <tr>\n",
       "      <th id=\"T_6d9a1_level0_row23\" class=\"row_heading level0 row23\" >23</th>\n",
       "      <td id=\"T_6d9a1_row23_col0\" class=\"data row23 col0\" >All Seasonalities to Use</td>\n",
       "      <td id=\"T_6d9a1_row23_col1\" class=\"data row23 col1\" >[1]</td>\n",
       "    </tr>\n",
       "    <tr>\n",
       "      <th id=\"T_6d9a1_level0_row24\" class=\"row_heading level0 row24\" >24</th>\n",
       "      <td id=\"T_6d9a1_row24_col0\" class=\"data row24 col0\" >Primary Seasonality</td>\n",
       "      <td id=\"T_6d9a1_row24_col1\" class=\"data row24 col1\" >1</td>\n",
       "    </tr>\n",
       "    <tr>\n",
       "      <th id=\"T_6d9a1_level0_row25\" class=\"row_heading level0 row25\" >25</th>\n",
       "      <td id=\"T_6d9a1_row25_col0\" class=\"data row25 col0\" >Seasonality Present</td>\n",
       "      <td id=\"T_6d9a1_row25_col1\" class=\"data row25 col1\" >False</td>\n",
       "    </tr>\n",
       "    <tr>\n",
       "      <th id=\"T_6d9a1_level0_row26\" class=\"row_heading level0 row26\" >26</th>\n",
       "      <td id=\"T_6d9a1_row26_col0\" class=\"data row26 col0\" >Seasonality Type</td>\n",
       "      <td id=\"T_6d9a1_row26_col1\" class=\"data row26 col1\" >None</td>\n",
       "    </tr>\n",
       "    <tr>\n",
       "      <th id=\"T_6d9a1_level0_row27\" class=\"row_heading level0 row27\" >27</th>\n",
       "      <td id=\"T_6d9a1_row27_col0\" class=\"data row27 col0\" >Target Strictly Positive</td>\n",
       "      <td id=\"T_6d9a1_row27_col1\" class=\"data row27 col1\" >True</td>\n",
       "    </tr>\n",
       "    <tr>\n",
       "      <th id=\"T_6d9a1_level0_row28\" class=\"row_heading level0 row28\" >28</th>\n",
       "      <td id=\"T_6d9a1_row28_col0\" class=\"data row28 col0\" >Target White Noise</td>\n",
       "      <td id=\"T_6d9a1_row28_col1\" class=\"data row28 col1\" >No</td>\n",
       "    </tr>\n",
       "    <tr>\n",
       "      <th id=\"T_6d9a1_level0_row29\" class=\"row_heading level0 row29\" >29</th>\n",
       "      <td id=\"T_6d9a1_row29_col0\" class=\"data row29 col0\" >Recommended d</td>\n",
       "      <td id=\"T_6d9a1_row29_col1\" class=\"data row29 col1\" >1</td>\n",
       "    </tr>\n",
       "    <tr>\n",
       "      <th id=\"T_6d9a1_level0_row30\" class=\"row_heading level0 row30\" >30</th>\n",
       "      <td id=\"T_6d9a1_row30_col0\" class=\"data row30 col0\" >Recommended Seasonal D</td>\n",
       "      <td id=\"T_6d9a1_row30_col1\" class=\"data row30 col1\" >0</td>\n",
       "    </tr>\n",
       "    <tr>\n",
       "      <th id=\"T_6d9a1_level0_row31\" class=\"row_heading level0 row31\" >31</th>\n",
       "      <td id=\"T_6d9a1_row31_col0\" class=\"data row31 col0\" >Preprocess</td>\n",
       "      <td id=\"T_6d9a1_row31_col1\" class=\"data row31 col1\" >True</td>\n",
       "    </tr>\n",
       "    <tr>\n",
       "      <th id=\"T_6d9a1_level0_row32\" class=\"row_heading level0 row32\" >32</th>\n",
       "      <td id=\"T_6d9a1_row32_col0\" class=\"data row32 col0\" >Numerical Imputation (Target)</td>\n",
       "      <td id=\"T_6d9a1_row32_col1\" class=\"data row32 col1\" >None</td>\n",
       "    </tr>\n",
       "    <tr>\n",
       "      <th id=\"T_6d9a1_level0_row33\" class=\"row_heading level0 row33\" >33</th>\n",
       "      <td id=\"T_6d9a1_row33_col0\" class=\"data row33 col0\" >Transformation (Target)</td>\n",
       "      <td id=\"T_6d9a1_row33_col1\" class=\"data row33 col1\" >box-cox</td>\n",
       "    </tr>\n",
       "    <tr>\n",
       "      <th id=\"T_6d9a1_level0_row34\" class=\"row_heading level0 row34\" >34</th>\n",
       "      <td id=\"T_6d9a1_row34_col0\" class=\"data row34 col0\" >Scaling (Target)</td>\n",
       "      <td id=\"T_6d9a1_row34_col1\" class=\"data row34 col1\" >None</td>\n",
       "    </tr>\n",
       "    <tr>\n",
       "      <th id=\"T_6d9a1_level0_row35\" class=\"row_heading level0 row35\" >35</th>\n",
       "      <td id=\"T_6d9a1_row35_col0\" class=\"data row35 col0\" >Feature Engineering (Target) - Reduced Regression</td>\n",
       "      <td id=\"T_6d9a1_row35_col1\" class=\"data row35 col1\" >False</td>\n",
       "    </tr>\n",
       "    <tr>\n",
       "      <th id=\"T_6d9a1_level0_row36\" class=\"row_heading level0 row36\" >36</th>\n",
       "      <td id=\"T_6d9a1_row36_col0\" class=\"data row36 col0\" >CPU Jobs</td>\n",
       "      <td id=\"T_6d9a1_row36_col1\" class=\"data row36 col1\" >-1</td>\n",
       "    </tr>\n",
       "    <tr>\n",
       "      <th id=\"T_6d9a1_level0_row37\" class=\"row_heading level0 row37\" >37</th>\n",
       "      <td id=\"T_6d9a1_row37_col0\" class=\"data row37 col0\" >Use GPU</td>\n",
       "      <td id=\"T_6d9a1_row37_col1\" class=\"data row37 col1\" >False</td>\n",
       "    </tr>\n",
       "    <tr>\n",
       "      <th id=\"T_6d9a1_level0_row38\" class=\"row_heading level0 row38\" >38</th>\n",
       "      <td id=\"T_6d9a1_row38_col0\" class=\"data row38 col0\" >Log Experiment</td>\n",
       "      <td id=\"T_6d9a1_row38_col1\" class=\"data row38 col1\" >False</td>\n",
       "    </tr>\n",
       "    <tr>\n",
       "      <th id=\"T_6d9a1_level0_row39\" class=\"row_heading level0 row39\" >39</th>\n",
       "      <td id=\"T_6d9a1_row39_col0\" class=\"data row39 col0\" >Experiment Name</td>\n",
       "      <td id=\"T_6d9a1_row39_col1\" class=\"data row39 col1\" >ts-default-name</td>\n",
       "    </tr>\n",
       "    <tr>\n",
       "      <th id=\"T_6d9a1_level0_row40\" class=\"row_heading level0 row40\" >40</th>\n",
       "      <td id=\"T_6d9a1_row40_col0\" class=\"data row40 col0\" >USI</td>\n",
       "      <td id=\"T_6d9a1_row40_col1\" class=\"data row40 col1\" >c66e</td>\n",
       "    </tr>\n",
       "  </tbody>\n",
       "</table>\n"
      ],
      "text/plain": [
       "<pandas.io.formats.style.Styler at 0x1eb445ae1d0>"
      ]
     },
     "metadata": {},
     "output_type": "display_data"
    },
    {
     "data": {
      "text/plain": [
       "<pycaret.time_series.forecasting.oop.TSForecastingExperiment at 0x1eb44455e10>"
      ]
     },
     "execution_count": 30,
     "metadata": {},
     "output_type": "execute_result"
    }
   ],
   "source": [
    "exp = TSForecastingExperiment()\n",
    "exp.setup(data=df_item,\n",
    "          index='Date',\n",
    "          target='Quantity',\n",
    "          transform_target='box-cox',\n",
    "          fh=forecast_lenth_array,\n",
    "          seasonal_period=12)"
   ]
  },
  {
   "cell_type": "markdown",
   "metadata": {},
   "source": [
    "### Checking Set Up"
   ]
  },
  {
   "cell_type": "code",
   "execution_count": 31,
   "metadata": {},
   "outputs": [
    {
     "data": {
      "application/vnd.plotly.v1+json": {
       "config": {
        "plotlyServerURL": "https://plot.ly"
       },
       "data": [
        {
         "line": {
          "color": "rgb(31, 119, 180)",
          "width": 2
         },
         "marker": {
          "color": "rgb(31, 119, 180)",
          "size": 5
         },
         "mode": "lines+markers",
         "name": "Train (original)",
         "type": "scattergl",
         "x": [
          "2020-01-01T00:00:00",
          "2020-02-01T00:00:00",
          "2020-03-01T00:00:00",
          "2020-04-01T00:00:00",
          "2020-05-01T00:00:00",
          "2020-06-01T00:00:00",
          "2020-07-01T00:00:00",
          "2020-08-01T00:00:00",
          "2020-09-01T00:00:00",
          "2020-10-01T00:00:00",
          "2020-11-01T00:00:00",
          "2020-12-01T00:00:00",
          "2021-01-01T00:00:00",
          "2021-02-01T00:00:00",
          "2021-03-01T00:00:00",
          "2021-04-01T00:00:00",
          "2021-05-01T00:00:00",
          "2021-06-01T00:00:00",
          "2021-07-01T00:00:00",
          "2021-08-01T00:00:00",
          "2021-09-01T00:00:00",
          "2021-10-01T00:00:00",
          "2021-11-01T00:00:00",
          "2021-12-01T00:00:00",
          "2022-01-01T00:00:00",
          "2022-02-01T00:00:00",
          "2022-03-01T00:00:00",
          "2022-04-01T00:00:00",
          "2022-05-01T00:00:00",
          "2022-06-01T00:00:00",
          "2022-07-01T00:00:00",
          "2022-08-01T00:00:00",
          "2022-09-01T00:00:00",
          "2022-10-01T00:00:00",
          "2022-11-01T00:00:00",
          "2022-12-01T00:00:00",
          "2023-01-01T00:00:00",
          "2023-02-01T00:00:00",
          "2023-03-01T00:00:00",
          "2023-04-01T00:00:00",
          "2023-05-01T00:00:00",
          "2023-06-01T00:00:00",
          "2023-07-01T00:00:00",
          "2023-08-01T00:00:00",
          "2023-09-01T00:00:00",
          "2023-10-01T00:00:00",
          "2023-11-01T00:00:00",
          "2023-12-01T00:00:00",
          "2024-01-01T00:00:00",
          "2024-02-01T00:00:00",
          "2024-03-01T00:00:00",
          "2024-04-01T00:00:00",
          "2024-05-01T00:00:00",
          "2024-06-01T00:00:00",
          "2024-07-01T00:00:00",
          "2024-08-01T00:00:00",
          "2024-09-01T00:00:00"
         ],
         "xaxis": "x",
         "y": [
          14977,
          30025,
          17593,
          13645,
          39061,
          44509,
          14941,
          34477,
          28825,
          13417,
          35521,
          33241,
          21925,
          20509,
          59101,
          176773,
          127129,
          57085,
          57589,
          41029,
          48037,
          31201,
          16813,
          86473,
          64825,
          81037,
          57433,
          50401,
          100801,
          106849,
          72121,
          68545,
          18145,
          36289,
          36289,
          56449,
          60073,
          44353,
          24205,
          92737,
          215905,
          112825,
          97789,
          86689,
          69397,
          16129,
          30241,
          89557,
          43561,
          68545,
          92737,
          139393,
          173305,
          null,
          null,
          null,
          null
         ],
         "yaxis": "y"
        },
        {
         "line": {
          "color": "rgb(255, 127, 14)",
          "width": 2
         },
         "marker": {
          "color": "rgb(255, 127, 14)",
          "size": 5
         },
         "mode": "lines+markers",
         "name": "Test (original)",
         "type": "scattergl",
         "x": [
          "2020-01-01T00:00:00",
          "2020-02-01T00:00:00",
          "2020-03-01T00:00:00",
          "2020-04-01T00:00:00",
          "2020-05-01T00:00:00",
          "2020-06-01T00:00:00",
          "2020-07-01T00:00:00",
          "2020-08-01T00:00:00",
          "2020-09-01T00:00:00",
          "2020-10-01T00:00:00",
          "2020-11-01T00:00:00",
          "2020-12-01T00:00:00",
          "2021-01-01T00:00:00",
          "2021-02-01T00:00:00",
          "2021-03-01T00:00:00",
          "2021-04-01T00:00:00",
          "2021-05-01T00:00:00",
          "2021-06-01T00:00:00",
          "2021-07-01T00:00:00",
          "2021-08-01T00:00:00",
          "2021-09-01T00:00:00",
          "2021-10-01T00:00:00",
          "2021-11-01T00:00:00",
          "2021-12-01T00:00:00",
          "2022-01-01T00:00:00",
          "2022-02-01T00:00:00",
          "2022-03-01T00:00:00",
          "2022-04-01T00:00:00",
          "2022-05-01T00:00:00",
          "2022-06-01T00:00:00",
          "2022-07-01T00:00:00",
          "2022-08-01T00:00:00",
          "2022-09-01T00:00:00",
          "2022-10-01T00:00:00",
          "2022-11-01T00:00:00",
          "2022-12-01T00:00:00",
          "2023-01-01T00:00:00",
          "2023-02-01T00:00:00",
          "2023-03-01T00:00:00",
          "2023-04-01T00:00:00",
          "2023-05-01T00:00:00",
          "2023-06-01T00:00:00",
          "2023-07-01T00:00:00",
          "2023-08-01T00:00:00",
          "2023-09-01T00:00:00",
          "2023-10-01T00:00:00",
          "2023-11-01T00:00:00",
          "2023-12-01T00:00:00",
          "2024-01-01T00:00:00",
          "2024-02-01T00:00:00",
          "2024-03-01T00:00:00",
          "2024-04-01T00:00:00",
          "2024-05-01T00:00:00",
          "2024-06-01T00:00:00",
          "2024-07-01T00:00:00",
          "2024-08-01T00:00:00",
          "2024-09-01T00:00:00"
         ],
         "xaxis": "x",
         "y": [
          null,
          null,
          null,
          null,
          null,
          null,
          null,
          null,
          null,
          null,
          null,
          null,
          null,
          null,
          null,
          null,
          null,
          null,
          null,
          null,
          null,
          null,
          null,
          null,
          null,
          null,
          null,
          null,
          null,
          null,
          null,
          null,
          null,
          null,
          null,
          null,
          null,
          null,
          null,
          null,
          null,
          null,
          null,
          null,
          null,
          null,
          null,
          null,
          null,
          null,
          null,
          null,
          null,
          149365,
          183385,
          71173,
          10093
         ],
         "yaxis": "y"
        }
       ],
       "layout": {
        "annotations": [
         {
          "font": {
           "size": 16
          },
          "showarrow": false,
          "text": "Quantity",
          "x": 0.5,
          "xanchor": "center",
          "xref": "paper",
          "y": 1,
          "yanchor": "bottom",
          "yref": "paper"
         }
        ],
        "showlegend": true,
        "template": {
         "data": {
          "bar": [
           {
            "error_x": {
             "color": "rgb(51,51,51)"
            },
            "error_y": {
             "color": "rgb(51,51,51)"
            },
            "marker": {
             "line": {
              "color": "rgb(237,237,237)",
              "width": 0.5
             },
             "pattern": {
              "fillmode": "overlay",
              "size": 10,
              "solidity": 0.2
             }
            },
            "type": "bar"
           }
          ],
          "barpolar": [
           {
            "marker": {
             "line": {
              "color": "rgb(237,237,237)",
              "width": 0.5
             },
             "pattern": {
              "fillmode": "overlay",
              "size": 10,
              "solidity": 0.2
             }
            },
            "type": "barpolar"
           }
          ],
          "carpet": [
           {
            "aaxis": {
             "endlinecolor": "rgb(51,51,51)",
             "gridcolor": "white",
             "linecolor": "white",
             "minorgridcolor": "white",
             "startlinecolor": "rgb(51,51,51)"
            },
            "baxis": {
             "endlinecolor": "rgb(51,51,51)",
             "gridcolor": "white",
             "linecolor": "white",
             "minorgridcolor": "white",
             "startlinecolor": "rgb(51,51,51)"
            },
            "type": "carpet"
           }
          ],
          "choropleth": [
           {
            "colorbar": {
             "outlinewidth": 0,
             "tickcolor": "rgb(237,237,237)",
             "ticklen": 6,
             "ticks": "inside"
            },
            "type": "choropleth"
           }
          ],
          "contour": [
           {
            "colorbar": {
             "outlinewidth": 0,
             "tickcolor": "rgb(237,237,237)",
             "ticklen": 6,
             "ticks": "inside"
            },
            "colorscale": [
             [
              0,
              "rgb(20,44,66)"
             ],
             [
              1,
              "rgb(90,179,244)"
             ]
            ],
            "type": "contour"
           }
          ],
          "contourcarpet": [
           {
            "colorbar": {
             "outlinewidth": 0,
             "tickcolor": "rgb(237,237,237)",
             "ticklen": 6,
             "ticks": "inside"
            },
            "type": "contourcarpet"
           }
          ],
          "heatmap": [
           {
            "colorbar": {
             "outlinewidth": 0,
             "tickcolor": "rgb(237,237,237)",
             "ticklen": 6,
             "ticks": "inside"
            },
            "colorscale": [
             [
              0,
              "rgb(20,44,66)"
             ],
             [
              1,
              "rgb(90,179,244)"
             ]
            ],
            "type": "heatmap"
           }
          ],
          "heatmapgl": [
           {
            "colorbar": {
             "outlinewidth": 0,
             "tickcolor": "rgb(237,237,237)",
             "ticklen": 6,
             "ticks": "inside"
            },
            "colorscale": [
             [
              0,
              "rgb(20,44,66)"
             ],
             [
              1,
              "rgb(90,179,244)"
             ]
            ],
            "type": "heatmapgl"
           }
          ],
          "histogram": [
           {
            "marker": {
             "pattern": {
              "fillmode": "overlay",
              "size": 10,
              "solidity": 0.2
             }
            },
            "type": "histogram"
           }
          ],
          "histogram2d": [
           {
            "colorbar": {
             "outlinewidth": 0,
             "tickcolor": "rgb(237,237,237)",
             "ticklen": 6,
             "ticks": "inside"
            },
            "colorscale": [
             [
              0,
              "rgb(20,44,66)"
             ],
             [
              1,
              "rgb(90,179,244)"
             ]
            ],
            "type": "histogram2d"
           }
          ],
          "histogram2dcontour": [
           {
            "colorbar": {
             "outlinewidth": 0,
             "tickcolor": "rgb(237,237,237)",
             "ticklen": 6,
             "ticks": "inside"
            },
            "colorscale": [
             [
              0,
              "rgb(20,44,66)"
             ],
             [
              1,
              "rgb(90,179,244)"
             ]
            ],
            "type": "histogram2dcontour"
           }
          ],
          "mesh3d": [
           {
            "colorbar": {
             "outlinewidth": 0,
             "tickcolor": "rgb(237,237,237)",
             "ticklen": 6,
             "ticks": "inside"
            },
            "type": "mesh3d"
           }
          ],
          "parcoords": [
           {
            "line": {
             "colorbar": {
              "outlinewidth": 0,
              "tickcolor": "rgb(237,237,237)",
              "ticklen": 6,
              "ticks": "inside"
             }
            },
            "type": "parcoords"
           }
          ],
          "pie": [
           {
            "automargin": true,
            "type": "pie"
           }
          ],
          "scatter": [
           {
            "fillpattern": {
             "fillmode": "overlay",
             "size": 10,
             "solidity": 0.2
            },
            "type": "scatter"
           }
          ],
          "scatter3d": [
           {
            "line": {
             "colorbar": {
              "outlinewidth": 0,
              "tickcolor": "rgb(237,237,237)",
              "ticklen": 6,
              "ticks": "inside"
             }
            },
            "marker": {
             "colorbar": {
              "outlinewidth": 0,
              "tickcolor": "rgb(237,237,237)",
              "ticklen": 6,
              "ticks": "inside"
             }
            },
            "type": "scatter3d"
           }
          ],
          "scattercarpet": [
           {
            "marker": {
             "colorbar": {
              "outlinewidth": 0,
              "tickcolor": "rgb(237,237,237)",
              "ticklen": 6,
              "ticks": "inside"
             }
            },
            "type": "scattercarpet"
           }
          ],
          "scattergeo": [
           {
            "marker": {
             "colorbar": {
              "outlinewidth": 0,
              "tickcolor": "rgb(237,237,237)",
              "ticklen": 6,
              "ticks": "inside"
             }
            },
            "type": "scattergeo"
           }
          ],
          "scattergl": [
           {
            "marker": {
             "colorbar": {
              "outlinewidth": 0,
              "tickcolor": "rgb(237,237,237)",
              "ticklen": 6,
              "ticks": "inside"
             }
            },
            "type": "scattergl"
           }
          ],
          "scattermapbox": [
           {
            "marker": {
             "colorbar": {
              "outlinewidth": 0,
              "tickcolor": "rgb(237,237,237)",
              "ticklen": 6,
              "ticks": "inside"
             }
            },
            "type": "scattermapbox"
           }
          ],
          "scatterpolar": [
           {
            "marker": {
             "colorbar": {
              "outlinewidth": 0,
              "tickcolor": "rgb(237,237,237)",
              "ticklen": 6,
              "ticks": "inside"
             }
            },
            "type": "scatterpolar"
           }
          ],
          "scatterpolargl": [
           {
            "marker": {
             "colorbar": {
              "outlinewidth": 0,
              "tickcolor": "rgb(237,237,237)",
              "ticklen": 6,
              "ticks": "inside"
             }
            },
            "type": "scatterpolargl"
           }
          ],
          "scatterternary": [
           {
            "marker": {
             "colorbar": {
              "outlinewidth": 0,
              "tickcolor": "rgb(237,237,237)",
              "ticklen": 6,
              "ticks": "inside"
             }
            },
            "type": "scatterternary"
           }
          ],
          "surface": [
           {
            "colorbar": {
             "outlinewidth": 0,
             "tickcolor": "rgb(237,237,237)",
             "ticklen": 6,
             "ticks": "inside"
            },
            "colorscale": [
             [
              0,
              "rgb(20,44,66)"
             ],
             [
              1,
              "rgb(90,179,244)"
             ]
            ],
            "type": "surface"
           }
          ],
          "table": [
           {
            "cells": {
             "fill": {
              "color": "rgb(237,237,237)"
             },
             "line": {
              "color": "white"
             }
            },
            "header": {
             "fill": {
              "color": "rgb(217,217,217)"
             },
             "line": {
              "color": "white"
             }
            },
            "type": "table"
           }
          ]
         },
         "layout": {
          "annotationdefaults": {
           "arrowhead": 0,
           "arrowwidth": 1
          },
          "autotypenumbers": "strict",
          "coloraxis": {
           "colorbar": {
            "outlinewidth": 0,
            "tickcolor": "rgb(237,237,237)",
            "ticklen": 6,
            "ticks": "inside"
           }
          },
          "colorscale": {
           "sequential": [
            [
             0,
             "rgb(20,44,66)"
            ],
            [
             1,
             "rgb(90,179,244)"
            ]
           ],
           "sequentialminus": [
            [
             0,
             "rgb(20,44,66)"
            ],
            [
             1,
             "rgb(90,179,244)"
            ]
           ]
          },
          "colorway": [
           "#F8766D",
           "#A3A500",
           "#00BF7D",
           "#00B0F6",
           "#E76BF3"
          ],
          "font": {
           "color": "rgb(51,51,51)"
          },
          "geo": {
           "bgcolor": "white",
           "lakecolor": "white",
           "landcolor": "rgb(237,237,237)",
           "showlakes": true,
           "showland": true,
           "subunitcolor": "white"
          },
          "hoverlabel": {
           "align": "left"
          },
          "hovermode": "closest",
          "paper_bgcolor": "white",
          "plot_bgcolor": "rgb(237,237,237)",
          "polar": {
           "angularaxis": {
            "gridcolor": "white",
            "linecolor": "white",
            "showgrid": true,
            "tickcolor": "rgb(51,51,51)",
            "ticks": "outside"
           },
           "bgcolor": "rgb(237,237,237)",
           "radialaxis": {
            "gridcolor": "white",
            "linecolor": "white",
            "showgrid": true,
            "tickcolor": "rgb(51,51,51)",
            "ticks": "outside"
           }
          },
          "scene": {
           "xaxis": {
            "backgroundcolor": "rgb(237,237,237)",
            "gridcolor": "white",
            "gridwidth": 2,
            "linecolor": "white",
            "showbackground": true,
            "showgrid": true,
            "tickcolor": "rgb(51,51,51)",
            "ticks": "outside",
            "zerolinecolor": "white"
           },
           "yaxis": {
            "backgroundcolor": "rgb(237,237,237)",
            "gridcolor": "white",
            "gridwidth": 2,
            "linecolor": "white",
            "showbackground": true,
            "showgrid": true,
            "tickcolor": "rgb(51,51,51)",
            "ticks": "outside",
            "zerolinecolor": "white"
           },
           "zaxis": {
            "backgroundcolor": "rgb(237,237,237)",
            "gridcolor": "white",
            "gridwidth": 2,
            "linecolor": "white",
            "showbackground": true,
            "showgrid": true,
            "tickcolor": "rgb(51,51,51)",
            "ticks": "outside",
            "zerolinecolor": "white"
           }
          },
          "shapedefaults": {
           "fillcolor": "black",
           "line": {
            "width": 0
           },
           "opacity": 0.3
          },
          "ternary": {
           "aaxis": {
            "gridcolor": "white",
            "linecolor": "white",
            "showgrid": true,
            "tickcolor": "rgb(51,51,51)",
            "ticks": "outside"
           },
           "baxis": {
            "gridcolor": "white",
            "linecolor": "white",
            "showgrid": true,
            "tickcolor": "rgb(51,51,51)",
            "ticks": "outside"
           },
           "bgcolor": "rgb(237,237,237)",
           "caxis": {
            "gridcolor": "white",
            "linecolor": "white",
            "showgrid": true,
            "tickcolor": "rgb(51,51,51)",
            "ticks": "outside"
           }
          },
          "xaxis": {
           "automargin": true,
           "gridcolor": "white",
           "linecolor": "white",
           "showgrid": true,
           "tickcolor": "rgb(51,51,51)",
           "ticks": "outside",
           "title": {
            "standoff": 15
           },
           "zerolinecolor": "white"
          },
          "yaxis": {
           "automargin": true,
           "gridcolor": "white",
           "linecolor": "white",
           "showgrid": true,
           "tickcolor": "rgb(51,51,51)",
           "ticks": "outside",
           "title": {
            "standoff": 15
           },
           "zerolinecolor": "white"
          }
         }
        },
        "title": {
         "text": "Time Series | Target = Quantity"
        },
        "xaxis": {
         "anchor": "y",
         "domain": [
          0,
          1
         ]
        },
        "yaxis": {
         "anchor": "x",
         "domain": [
          0,
          1
         ]
        }
       }
      }
     },
     "metadata": {},
     "output_type": "display_data"
    }
   ],
   "source": [
    "exp.plot_model(plot='train_test_split')"
   ]
  },
  {
   "cell_type": "code",
   "execution_count": 32,
   "metadata": {},
   "outputs": [
    {
     "data": {
      "application/vnd.plotly.v1+json": {
       "config": {
        "plotlyServerURL": "https://plot.ly"
       },
       "data": [
        {
         "hoverinfo": "skip",
         "line": {
          "color": "#C0C0C0"
         },
         "mode": "lines+markers",
         "name": "Unchanged",
         "showlegend": false,
         "type": "scattergl",
         "x": [
          "2020-01-01T00:00:00",
          "2020-02-01T00:00:00"
         ],
         "y": [
          "2",
          "2"
         ]
        },
        {
         "hoverinfo": "skip",
         "line": {
          "color": "#C0C0C0"
         },
         "mode": "lines+markers",
         "name": "Unchanged",
         "showlegend": false,
         "type": "scattergl",
         "x": [
          "2020-02-01T00:00:00",
          "2020-03-01T00:00:00"
         ],
         "y": [
          "2",
          "2"
         ]
        },
        {
         "hoverinfo": "skip",
         "line": {
          "color": "#C0C0C0"
         },
         "mode": "lines+markers",
         "name": "Unchanged",
         "showlegend": false,
         "type": "scattergl",
         "x": [
          "2020-03-01T00:00:00",
          "2020-04-01T00:00:00"
         ],
         "y": [
          "2",
          "2"
         ]
        },
        {
         "hoverinfo": "skip",
         "line": {
          "color": "#C0C0C0"
         },
         "mode": "lines+markers",
         "name": "Unchanged",
         "showlegend": false,
         "type": "scattergl",
         "x": [
          "2020-04-01T00:00:00",
          "2020-05-01T00:00:00"
         ],
         "y": [
          "2",
          "2"
         ]
        },
        {
         "hoverinfo": "skip",
         "line": {
          "color": "#C0C0C0"
         },
         "mode": "lines+markers",
         "name": "Unchanged",
         "showlegend": false,
         "type": "scattergl",
         "x": [
          "2020-05-01T00:00:00",
          "2020-06-01T00:00:00"
         ],
         "y": [
          "2",
          "2"
         ]
        },
        {
         "hoverinfo": "skip",
         "line": {
          "color": "#C0C0C0"
         },
         "mode": "lines+markers",
         "name": "Unchanged",
         "showlegend": false,
         "type": "scattergl",
         "x": [
          "2020-06-01T00:00:00",
          "2020-07-01T00:00:00"
         ],
         "y": [
          "2",
          "2"
         ]
        },
        {
         "hoverinfo": "skip",
         "line": {
          "color": "#C0C0C0"
         },
         "mode": "lines+markers",
         "name": "Unchanged",
         "showlegend": false,
         "type": "scattergl",
         "x": [
          "2020-07-01T00:00:00",
          "2020-08-01T00:00:00"
         ],
         "y": [
          "2",
          "2"
         ]
        },
        {
         "hoverinfo": "skip",
         "line": {
          "color": "#C0C0C0"
         },
         "mode": "lines+markers",
         "name": "Unchanged",
         "showlegend": false,
         "type": "scattergl",
         "x": [
          "2020-08-01T00:00:00",
          "2020-09-01T00:00:00"
         ],
         "y": [
          "2",
          "2"
         ]
        },
        {
         "hoverinfo": "skip",
         "line": {
          "color": "#C0C0C0"
         },
         "mode": "lines+markers",
         "name": "Unchanged",
         "showlegend": false,
         "type": "scattergl",
         "x": [
          "2020-09-01T00:00:00",
          "2020-10-01T00:00:00"
         ],
         "y": [
          "2",
          "2"
         ]
        },
        {
         "hoverinfo": "skip",
         "line": {
          "color": "#C0C0C0"
         },
         "mode": "lines+markers",
         "name": "Unchanged",
         "showlegend": false,
         "type": "scattergl",
         "x": [
          "2020-10-01T00:00:00",
          "2020-11-01T00:00:00"
         ],
         "y": [
          "2",
          "2"
         ]
        },
        {
         "hoverinfo": "skip",
         "line": {
          "color": "#C0C0C0"
         },
         "mode": "lines+markers",
         "name": "Unchanged",
         "showlegend": false,
         "type": "scattergl",
         "x": [
          "2020-11-01T00:00:00",
          "2020-12-01T00:00:00"
         ],
         "y": [
          "2",
          "2"
         ]
        },
        {
         "hoverinfo": "skip",
         "line": {
          "color": "#C0C0C0"
         },
         "mode": "lines+markers",
         "name": "Unchanged",
         "showlegend": false,
         "type": "scattergl",
         "x": [
          "2020-12-01T00:00:00",
          "2021-01-01T00:00:00"
         ],
         "y": [
          "2",
          "2"
         ]
        },
        {
         "hoverinfo": "skip",
         "line": {
          "color": "#C0C0C0"
         },
         "mode": "lines+markers",
         "name": "Unchanged",
         "showlegend": false,
         "type": "scattergl",
         "x": [
          "2021-01-01T00:00:00",
          "2021-02-01T00:00:00"
         ],
         "y": [
          "2",
          "2"
         ]
        },
        {
         "hoverinfo": "skip",
         "line": {
          "color": "#C0C0C0"
         },
         "mode": "lines+markers",
         "name": "Unchanged",
         "showlegend": false,
         "type": "scattergl",
         "x": [
          "2021-02-01T00:00:00",
          "2021-03-01T00:00:00"
         ],
         "y": [
          "2",
          "2"
         ]
        },
        {
         "hoverinfo": "skip",
         "line": {
          "color": "#C0C0C0"
         },
         "mode": "lines+markers",
         "name": "Unchanged",
         "showlegend": false,
         "type": "scattergl",
         "x": [
          "2021-03-01T00:00:00",
          "2021-04-01T00:00:00"
         ],
         "y": [
          "2",
          "2"
         ]
        },
        {
         "hoverinfo": "skip",
         "line": {
          "color": "#C0C0C0"
         },
         "mode": "lines+markers",
         "name": "Unchanged",
         "showlegend": false,
         "type": "scattergl",
         "x": [
          "2021-04-01T00:00:00",
          "2021-05-01T00:00:00"
         ],
         "y": [
          "2",
          "2"
         ]
        },
        {
         "hoverinfo": "skip",
         "line": {
          "color": "#C0C0C0"
         },
         "mode": "lines+markers",
         "name": "Unchanged",
         "showlegend": false,
         "type": "scattergl",
         "x": [
          "2021-05-01T00:00:00",
          "2021-06-01T00:00:00"
         ],
         "y": [
          "2",
          "2"
         ]
        },
        {
         "hoverinfo": "skip",
         "line": {
          "color": "#C0C0C0"
         },
         "mode": "lines+markers",
         "name": "Unchanged",
         "showlegend": false,
         "type": "scattergl",
         "x": [
          "2021-06-01T00:00:00",
          "2021-07-01T00:00:00"
         ],
         "y": [
          "2",
          "2"
         ]
        },
        {
         "hoverinfo": "skip",
         "line": {
          "color": "#C0C0C0"
         },
         "mode": "lines+markers",
         "name": "Unchanged",
         "showlegend": false,
         "type": "scattergl",
         "x": [
          "2021-07-01T00:00:00",
          "2021-08-01T00:00:00"
         ],
         "y": [
          "2",
          "2"
         ]
        },
        {
         "hoverinfo": "skip",
         "line": {
          "color": "#C0C0C0"
         },
         "mode": "lines+markers",
         "name": "Unchanged",
         "showlegend": false,
         "type": "scattergl",
         "x": [
          "2021-08-01T00:00:00",
          "2021-09-01T00:00:00"
         ],
         "y": [
          "2",
          "2"
         ]
        },
        {
         "hoverinfo": "skip",
         "line": {
          "color": "#C0C0C0"
         },
         "mode": "lines+markers",
         "name": "Unchanged",
         "showlegend": false,
         "type": "scattergl",
         "x": [
          "2021-09-01T00:00:00",
          "2021-10-01T00:00:00"
         ],
         "y": [
          "2",
          "2"
         ]
        },
        {
         "hoverinfo": "skip",
         "line": {
          "color": "#C0C0C0"
         },
         "mode": "lines+markers",
         "name": "Unchanged",
         "showlegend": false,
         "type": "scattergl",
         "x": [
          "2021-10-01T00:00:00",
          "2021-11-01T00:00:00"
         ],
         "y": [
          "2",
          "2"
         ]
        },
        {
         "hoverinfo": "skip",
         "line": {
          "color": "#C0C0C0"
         },
         "mode": "lines+markers",
         "name": "Unchanged",
         "showlegend": false,
         "type": "scattergl",
         "x": [
          "2021-11-01T00:00:00",
          "2021-12-01T00:00:00"
         ],
         "y": [
          "2",
          "2"
         ]
        },
        {
         "hoverinfo": "skip",
         "line": {
          "color": "#C0C0C0"
         },
         "mode": "lines+markers",
         "name": "Unchanged",
         "showlegend": false,
         "type": "scattergl",
         "x": [
          "2021-12-01T00:00:00",
          "2022-01-01T00:00:00"
         ],
         "y": [
          "2",
          "2"
         ]
        },
        {
         "hoverinfo": "skip",
         "line": {
          "color": "#C0C0C0"
         },
         "mode": "lines+markers",
         "name": "Unchanged",
         "showlegend": false,
         "type": "scattergl",
         "x": [
          "2022-01-01T00:00:00",
          "2022-02-01T00:00:00"
         ],
         "y": [
          "2",
          "2"
         ]
        },
        {
         "hoverinfo": "skip",
         "line": {
          "color": "#C0C0C0"
         },
         "mode": "lines+markers",
         "name": "Unchanged",
         "showlegend": false,
         "type": "scattergl",
         "x": [
          "2022-02-01T00:00:00",
          "2022-03-01T00:00:00"
         ],
         "y": [
          "2",
          "2"
         ]
        },
        {
         "hoverinfo": "skip",
         "line": {
          "color": "#C0C0C0"
         },
         "mode": "lines+markers",
         "name": "Unchanged",
         "showlegend": false,
         "type": "scattergl",
         "x": [
          "2022-03-01T00:00:00",
          "2022-04-01T00:00:00"
         ],
         "y": [
          "2",
          "2"
         ]
        },
        {
         "hoverinfo": "skip",
         "line": {
          "color": "#C0C0C0"
         },
         "mode": "lines+markers",
         "name": "Unchanged",
         "showlegend": false,
         "type": "scattergl",
         "x": [
          "2022-04-01T00:00:00",
          "2022-05-01T00:00:00"
         ],
         "y": [
          "2",
          "2"
         ]
        },
        {
         "hoverinfo": "skip",
         "line": {
          "color": "#C0C0C0"
         },
         "mode": "lines+markers",
         "name": "Unchanged",
         "showlegend": false,
         "type": "scattergl",
         "x": [
          "2022-05-01T00:00:00",
          "2022-06-01T00:00:00"
         ],
         "y": [
          "2",
          "2"
         ]
        },
        {
         "hoverinfo": "skip",
         "line": {
          "color": "#C0C0C0"
         },
         "mode": "lines+markers",
         "name": "Unchanged",
         "showlegend": false,
         "type": "scattergl",
         "x": [
          "2022-06-01T00:00:00",
          "2022-07-01T00:00:00"
         ],
         "y": [
          "2",
          "2"
         ]
        },
        {
         "hoverinfo": "skip",
         "line": {
          "color": "#C0C0C0"
         },
         "mode": "lines+markers",
         "name": "Unchanged",
         "showlegend": false,
         "type": "scattergl",
         "x": [
          "2022-07-01T00:00:00",
          "2022-08-01T00:00:00"
         ],
         "y": [
          "2",
          "2"
         ]
        },
        {
         "hoverinfo": "skip",
         "line": {
          "color": "#C0C0C0"
         },
         "mode": "lines+markers",
         "name": "Unchanged",
         "showlegend": false,
         "type": "scattergl",
         "x": [
          "2022-08-01T00:00:00",
          "2022-09-01T00:00:00"
         ],
         "y": [
          "2",
          "2"
         ]
        },
        {
         "hoverinfo": "skip",
         "line": {
          "color": "#C0C0C0"
         },
         "mode": "lines+markers",
         "name": "Unchanged",
         "showlegend": false,
         "type": "scattergl",
         "x": [
          "2022-09-01T00:00:00",
          "2022-10-01T00:00:00"
         ],
         "y": [
          "2",
          "2"
         ]
        },
        {
         "hoverinfo": "skip",
         "line": {
          "color": "#C0C0C0"
         },
         "mode": "lines+markers",
         "name": "Unchanged",
         "showlegend": false,
         "type": "scattergl",
         "x": [
          "2022-10-01T00:00:00",
          "2022-11-01T00:00:00"
         ],
         "y": [
          "2",
          "2"
         ]
        },
        {
         "hoverinfo": "skip",
         "line": {
          "color": "#C0C0C0"
         },
         "mode": "lines+markers",
         "name": "Unchanged",
         "showlegend": false,
         "type": "scattergl",
         "x": [
          "2022-11-01T00:00:00",
          "2022-12-01T00:00:00"
         ],
         "y": [
          "2",
          "2"
         ]
        },
        {
         "hoverinfo": "skip",
         "line": {
          "color": "#C0C0C0"
         },
         "mode": "lines+markers",
         "name": "Unchanged",
         "showlegend": false,
         "type": "scattergl",
         "x": [
          "2022-12-01T00:00:00",
          "2023-01-01T00:00:00"
         ],
         "y": [
          "2",
          "2"
         ]
        },
        {
         "hoverinfo": "skip",
         "line": {
          "color": "#C0C0C0"
         },
         "mode": "lines+markers",
         "name": "Unchanged",
         "showlegend": false,
         "type": "scattergl",
         "x": [
          "2023-01-01T00:00:00",
          "2023-02-01T00:00:00"
         ],
         "y": [
          "2",
          "2"
         ]
        },
        {
         "hoverinfo": "skip",
         "line": {
          "color": "#C0C0C0"
         },
         "mode": "lines+markers",
         "name": "Unchanged",
         "showlegend": false,
         "type": "scattergl",
         "x": [
          "2023-02-01T00:00:00",
          "2023-03-01T00:00:00"
         ],
         "y": [
          "2",
          "2"
         ]
        },
        {
         "hoverinfo": "skip",
         "line": {
          "color": "#C0C0C0"
         },
         "mode": "lines+markers",
         "name": "Unchanged",
         "showlegend": false,
         "type": "scattergl",
         "x": [
          "2023-03-01T00:00:00",
          "2023-04-01T00:00:00"
         ],
         "y": [
          "2",
          "2"
         ]
        },
        {
         "hoverinfo": "skip",
         "line": {
          "color": "#C0C0C0"
         },
         "mode": "lines+markers",
         "name": "Unchanged",
         "showlegend": false,
         "type": "scattergl",
         "x": [
          "2023-04-01T00:00:00",
          "2023-05-01T00:00:00"
         ],
         "y": [
          "2",
          "2"
         ]
        },
        {
         "hoverinfo": "skip",
         "line": {
          "color": "#C0C0C0"
         },
         "mode": "lines+markers",
         "name": "Unchanged",
         "showlegend": false,
         "type": "scattergl",
         "x": [
          "2023-05-01T00:00:00",
          "2023-06-01T00:00:00"
         ],
         "y": [
          "2",
          "2"
         ]
        },
        {
         "hoverinfo": "skip",
         "line": {
          "color": "#C0C0C0"
         },
         "mode": "lines+markers",
         "name": "Unchanged",
         "showlegend": false,
         "type": "scattergl",
         "x": [
          "2023-06-01T00:00:00",
          "2023-07-01T00:00:00"
         ],
         "y": [
          "2",
          "2"
         ]
        },
        {
         "hoverinfo": "skip",
         "line": {
          "color": "#C0C0C0"
         },
         "mode": "lines+markers",
         "name": "Unchanged",
         "showlegend": false,
         "type": "scattergl",
         "x": [
          "2023-07-01T00:00:00",
          "2023-08-01T00:00:00"
         ],
         "y": [
          "2",
          "2"
         ]
        },
        {
         "hoverinfo": "skip",
         "line": {
          "color": "#C0C0C0"
         },
         "mode": "lines+markers",
         "name": "Unchanged",
         "showlegend": false,
         "type": "scattergl",
         "x": [
          "2023-08-01T00:00:00",
          "2023-09-01T00:00:00"
         ],
         "y": [
          "2",
          "2"
         ]
        },
        {
         "hoverinfo": "skip",
         "line": {
          "color": "#C0C0C0"
         },
         "mode": "lines+markers",
         "name": "Unchanged",
         "showlegend": false,
         "type": "scattergl",
         "x": [
          "2023-09-01T00:00:00",
          "2023-10-01T00:00:00"
         ],
         "y": [
          "2",
          "2"
         ]
        },
        {
         "hoverinfo": "skip",
         "line": {
          "color": "#C0C0C0"
         },
         "mode": "lines+markers",
         "name": "Unchanged",
         "showlegend": false,
         "type": "scattergl",
         "x": [
          "2023-10-01T00:00:00",
          "2023-11-01T00:00:00"
         ],
         "y": [
          "2",
          "2"
         ]
        },
        {
         "hoverinfo": "skip",
         "line": {
          "color": "#C0C0C0"
         },
         "mode": "lines+markers",
         "name": "Unchanged",
         "showlegend": false,
         "type": "scattergl",
         "x": [
          "2023-11-01T00:00:00",
          "2023-12-01T00:00:00"
         ],
         "y": [
          "2",
          "2"
         ]
        },
        {
         "hoverinfo": "skip",
         "line": {
          "color": "#C0C0C0"
         },
         "mode": "lines+markers",
         "name": "Unchanged",
         "showlegend": false,
         "type": "scattergl",
         "x": [
          "2023-12-01T00:00:00",
          "2024-01-01T00:00:00"
         ],
         "y": [
          "2",
          "2"
         ]
        },
        {
         "hoverinfo": "skip",
         "line": {
          "color": "#C0C0C0"
         },
         "mode": "lines+markers",
         "name": "Unchanged",
         "showlegend": false,
         "type": "scattergl",
         "x": [
          "2024-01-01T00:00:00",
          "2024-02-01T00:00:00"
         ],
         "y": [
          "2",
          "2"
         ]
        },
        {
         "hoverinfo": "skip",
         "line": {
          "color": "#C0C0C0"
         },
         "mode": "lines+markers",
         "name": "Unchanged",
         "showlegend": false,
         "type": "scattergl",
         "x": [
          "2024-02-01T00:00:00",
          "2024-03-01T00:00:00"
         ],
         "y": [
          "2",
          "2"
         ]
        },
        {
         "hoverinfo": "skip",
         "line": {
          "color": "#C0C0C0"
         },
         "mode": "lines+markers",
         "name": "Unchanged",
         "showlegend": false,
         "type": "scattergl",
         "x": [
          "2024-03-01T00:00:00",
          "2024-04-01T00:00:00"
         ],
         "y": [
          "2",
          "2"
         ]
        },
        {
         "hoverinfo": "skip",
         "line": {
          "color": "#C0C0C0"
         },
         "mode": "lines+markers",
         "name": "Unchanged",
         "showlegend": false,
         "type": "scattergl",
         "x": [
          "2024-04-01T00:00:00",
          "2024-05-01T00:00:00"
         ],
         "y": [
          "2",
          "2"
         ]
        },
        {
         "hoverinfo": "skip",
         "line": {
          "color": "#1f77b4"
         },
         "mode": "lines+markers",
         "name": "Train",
         "showlegend": false,
         "type": "scattergl",
         "x": [
          "2020-01-01T00:00:00",
          "2020-02-01T00:00:00"
         ],
         "y": [
          "2",
          "2"
         ]
        },
        {
         "hoverinfo": "skip",
         "line": {
          "color": "#1f77b4"
         },
         "mode": "lines+markers",
         "name": "Train",
         "showlegend": false,
         "type": "scattergl",
         "x": [
          "2020-02-01T00:00:00",
          "2020-03-01T00:00:00"
         ],
         "y": [
          "2",
          "2"
         ]
        },
        {
         "hoverinfo": "skip",
         "line": {
          "color": "#1f77b4"
         },
         "mode": "lines+markers",
         "name": "Train",
         "showlegend": false,
         "type": "scattergl",
         "x": [
          "2020-03-01T00:00:00",
          "2020-04-01T00:00:00"
         ],
         "y": [
          "2",
          "2"
         ]
        },
        {
         "hoverinfo": "skip",
         "line": {
          "color": "#1f77b4"
         },
         "mode": "lines+markers",
         "name": "Train",
         "showlegend": false,
         "type": "scattergl",
         "x": [
          "2020-04-01T00:00:00",
          "2020-05-01T00:00:00"
         ],
         "y": [
          "2",
          "2"
         ]
        },
        {
         "hoverinfo": "skip",
         "line": {
          "color": "#1f77b4"
         },
         "mode": "lines+markers",
         "name": "Train",
         "showlegend": false,
         "type": "scattergl",
         "x": [
          "2020-05-01T00:00:00",
          "2020-06-01T00:00:00"
         ],
         "y": [
          "2",
          "2"
         ]
        },
        {
         "hoverinfo": "skip",
         "line": {
          "color": "#1f77b4"
         },
         "mode": "lines+markers",
         "name": "Train",
         "showlegend": false,
         "type": "scattergl",
         "x": [
          "2020-06-01T00:00:00",
          "2020-07-01T00:00:00"
         ],
         "y": [
          "2",
          "2"
         ]
        },
        {
         "hoverinfo": "skip",
         "line": {
          "color": "#1f77b4"
         },
         "mode": "lines+markers",
         "name": "Train",
         "showlegend": false,
         "type": "scattergl",
         "x": [
          "2020-07-01T00:00:00",
          "2020-08-01T00:00:00"
         ],
         "y": [
          "2",
          "2"
         ]
        },
        {
         "hoverinfo": "skip",
         "line": {
          "color": "#1f77b4"
         },
         "mode": "lines+markers",
         "name": "Train",
         "showlegend": false,
         "type": "scattergl",
         "x": [
          "2020-08-01T00:00:00",
          "2020-09-01T00:00:00"
         ],
         "y": [
          "2",
          "2"
         ]
        },
        {
         "hoverinfo": "skip",
         "line": {
          "color": "#1f77b4"
         },
         "mode": "lines+markers",
         "name": "Train",
         "showlegend": false,
         "type": "scattergl",
         "x": [
          "2020-09-01T00:00:00",
          "2020-10-01T00:00:00"
         ],
         "y": [
          "2",
          "2"
         ]
        },
        {
         "hoverinfo": "skip",
         "line": {
          "color": "#1f77b4"
         },
         "mode": "lines+markers",
         "name": "Train",
         "showlegend": false,
         "type": "scattergl",
         "x": [
          "2020-10-01T00:00:00",
          "2020-11-01T00:00:00"
         ],
         "y": [
          "2",
          "2"
         ]
        },
        {
         "hoverinfo": "skip",
         "line": {
          "color": "#1f77b4"
         },
         "mode": "lines+markers",
         "name": "Train",
         "showlegend": false,
         "type": "scattergl",
         "x": [
          "2020-11-01T00:00:00",
          "2020-12-01T00:00:00"
         ],
         "y": [
          "2",
          "2"
         ]
        },
        {
         "hoverinfo": "skip",
         "line": {
          "color": "#1f77b4"
         },
         "mode": "lines+markers",
         "name": "Train",
         "showlegend": false,
         "type": "scattergl",
         "x": [
          "2020-12-01T00:00:00",
          "2021-01-01T00:00:00"
         ],
         "y": [
          "2",
          "2"
         ]
        },
        {
         "hoverinfo": "skip",
         "line": {
          "color": "#1f77b4"
         },
         "mode": "lines+markers",
         "name": "Train",
         "showlegend": false,
         "type": "scattergl",
         "x": [
          "2021-01-01T00:00:00",
          "2021-02-01T00:00:00"
         ],
         "y": [
          "2",
          "2"
         ]
        },
        {
         "hoverinfo": "skip",
         "line": {
          "color": "#1f77b4"
         },
         "mode": "lines+markers",
         "name": "Train",
         "showlegend": false,
         "type": "scattergl",
         "x": [
          "2021-02-01T00:00:00",
          "2021-03-01T00:00:00"
         ],
         "y": [
          "2",
          "2"
         ]
        },
        {
         "hoverinfo": "skip",
         "line": {
          "color": "#1f77b4"
         },
         "mode": "lines+markers",
         "name": "Train",
         "showlegend": false,
         "type": "scattergl",
         "x": [
          "2021-03-01T00:00:00",
          "2021-04-01T00:00:00"
         ],
         "y": [
          "2",
          "2"
         ]
        },
        {
         "hoverinfo": "skip",
         "line": {
          "color": "#1f77b4"
         },
         "mode": "lines+markers",
         "name": "Train",
         "showlegend": false,
         "type": "scattergl",
         "x": [
          "2021-04-01T00:00:00",
          "2021-05-01T00:00:00"
         ],
         "y": [
          "2",
          "2"
         ]
        },
        {
         "hoverinfo": "skip",
         "line": {
          "color": "#1f77b4"
         },
         "mode": "lines+markers",
         "name": "Train",
         "showlegend": false,
         "type": "scattergl",
         "x": [
          "2021-05-01T00:00:00",
          "2021-06-01T00:00:00"
         ],
         "y": [
          "2",
          "2"
         ]
        },
        {
         "hoverinfo": "skip",
         "line": {
          "color": "#1f77b4"
         },
         "mode": "lines+markers",
         "name": "Train",
         "showlegend": false,
         "type": "scattergl",
         "x": [
          "2021-06-01T00:00:00",
          "2021-07-01T00:00:00"
         ],
         "y": [
          "2",
          "2"
         ]
        },
        {
         "hoverinfo": "skip",
         "line": {
          "color": "#1f77b4"
         },
         "mode": "lines+markers",
         "name": "Train",
         "showlegend": false,
         "type": "scattergl",
         "x": [
          "2021-07-01T00:00:00",
          "2021-08-01T00:00:00"
         ],
         "y": [
          "2",
          "2"
         ]
        },
        {
         "hoverinfo": "skip",
         "line": {
          "color": "#1f77b4"
         },
         "mode": "lines+markers",
         "name": "Train",
         "showlegend": false,
         "type": "scattergl",
         "x": [
          "2021-08-01T00:00:00",
          "2021-09-01T00:00:00"
         ],
         "y": [
          "2",
          "2"
         ]
        },
        {
         "hoverinfo": "skip",
         "line": {
          "color": "#1f77b4"
         },
         "mode": "lines+markers",
         "name": "Train",
         "showlegend": false,
         "type": "scattergl",
         "x": [
          "2021-09-01T00:00:00",
          "2021-10-01T00:00:00"
         ],
         "y": [
          "2",
          "2"
         ]
        },
        {
         "hoverinfo": "skip",
         "line": {
          "color": "#1f77b4"
         },
         "mode": "lines+markers",
         "name": "Train",
         "showlegend": false,
         "type": "scattergl",
         "x": [
          "2021-10-01T00:00:00",
          "2021-11-01T00:00:00"
         ],
         "y": [
          "2",
          "2"
         ]
        },
        {
         "hoverinfo": "skip",
         "line": {
          "color": "#1f77b4"
         },
         "mode": "lines+markers",
         "name": "Train",
         "showlegend": false,
         "type": "scattergl",
         "x": [
          "2021-11-01T00:00:00",
          "2021-12-01T00:00:00"
         ],
         "y": [
          "2",
          "2"
         ]
        },
        {
         "hoverinfo": "skip",
         "line": {
          "color": "#1f77b4"
         },
         "mode": "lines+markers",
         "name": "Train",
         "showlegend": false,
         "type": "scattergl",
         "x": [
          "2021-12-01T00:00:00",
          "2022-01-01T00:00:00"
         ],
         "y": [
          "2",
          "2"
         ]
        },
        {
         "hoverinfo": "skip",
         "line": {
          "color": "#1f77b4"
         },
         "mode": "lines+markers",
         "name": "Train",
         "showlegend": false,
         "type": "scattergl",
         "x": [
          "2022-01-01T00:00:00",
          "2022-02-01T00:00:00"
         ],
         "y": [
          "2",
          "2"
         ]
        },
        {
         "hoverinfo": "skip",
         "line": {
          "color": "#1f77b4"
         },
         "mode": "lines+markers",
         "name": "Train",
         "showlegend": false,
         "type": "scattergl",
         "x": [
          "2022-02-01T00:00:00",
          "2022-03-01T00:00:00"
         ],
         "y": [
          "2",
          "2"
         ]
        },
        {
         "hoverinfo": "skip",
         "line": {
          "color": "#1f77b4"
         },
         "mode": "lines+markers",
         "name": "Train",
         "showlegend": false,
         "type": "scattergl",
         "x": [
          "2022-03-01T00:00:00",
          "2022-04-01T00:00:00"
         ],
         "y": [
          "2",
          "2"
         ]
        },
        {
         "hoverinfo": "skip",
         "line": {
          "color": "#1f77b4"
         },
         "mode": "lines+markers",
         "name": "Train",
         "showlegend": false,
         "type": "scattergl",
         "x": [
          "2022-04-01T00:00:00",
          "2022-05-01T00:00:00"
         ],
         "y": [
          "2",
          "2"
         ]
        },
        {
         "hoverinfo": "skip",
         "line": {
          "color": "#1f77b4"
         },
         "mode": "lines+markers",
         "name": "Train",
         "showlegend": false,
         "type": "scattergl",
         "x": [
          "2022-05-01T00:00:00",
          "2022-06-01T00:00:00"
         ],
         "y": [
          "2",
          "2"
         ]
        },
        {
         "hoverinfo": "skip",
         "line": {
          "color": "#1f77b4"
         },
         "mode": "lines+markers",
         "name": "Train",
         "showlegend": false,
         "type": "scattergl",
         "x": [
          "2022-06-01T00:00:00",
          "2022-07-01T00:00:00"
         ],
         "y": [
          "2",
          "2"
         ]
        },
        {
         "hoverinfo": "skip",
         "line": {
          "color": "#1f77b4"
         },
         "mode": "lines+markers",
         "name": "Train",
         "showlegend": false,
         "type": "scattergl",
         "x": [
          "2022-07-01T00:00:00",
          "2022-08-01T00:00:00"
         ],
         "y": [
          "2",
          "2"
         ]
        },
        {
         "hoverinfo": "skip",
         "line": {
          "color": "#1f77b4"
         },
         "mode": "lines+markers",
         "name": "Train",
         "showlegend": false,
         "type": "scattergl",
         "x": [
          "2022-08-01T00:00:00",
          "2022-09-01T00:00:00"
         ],
         "y": [
          "2",
          "2"
         ]
        },
        {
         "hoverinfo": "skip",
         "line": {
          "color": "#1f77b4"
         },
         "mode": "lines+markers",
         "name": "Train",
         "showlegend": false,
         "type": "scattergl",
         "x": [
          "2022-09-01T00:00:00",
          "2022-10-01T00:00:00"
         ],
         "y": [
          "2",
          "2"
         ]
        },
        {
         "hoverinfo": "skip",
         "line": {
          "color": "#1f77b4"
         },
         "mode": "lines+markers",
         "name": "Train",
         "showlegend": false,
         "type": "scattergl",
         "x": [
          "2022-10-01T00:00:00",
          "2022-11-01T00:00:00"
         ],
         "y": [
          "2",
          "2"
         ]
        },
        {
         "hoverinfo": "skip",
         "line": {
          "color": "#1f77b4"
         },
         "mode": "lines+markers",
         "name": "Train",
         "showlegend": false,
         "type": "scattergl",
         "x": [
          "2022-11-01T00:00:00",
          "2022-12-01T00:00:00"
         ],
         "y": [
          "2",
          "2"
         ]
        },
        {
         "hoverinfo": "skip",
         "line": {
          "color": "#1f77b4"
         },
         "mode": "lines+markers",
         "name": "Train",
         "showlegend": false,
         "type": "scattergl",
         "x": [
          "2022-12-01T00:00:00",
          "2023-01-01T00:00:00"
         ],
         "y": [
          "2",
          "2"
         ]
        },
        {
         "hoverinfo": "skip",
         "line": {
          "color": "#1f77b4"
         },
         "mode": "lines+markers",
         "name": "Train",
         "showlegend": false,
         "type": "scattergl",
         "x": [
          "2023-01-01T00:00:00",
          "2023-02-01T00:00:00"
         ],
         "y": [
          "2",
          "2"
         ]
        },
        {
         "hoverinfo": "skip",
         "line": {
          "color": "#1f77b4"
         },
         "mode": "lines+markers",
         "name": "Train",
         "showlegend": false,
         "type": "scattergl",
         "x": [
          "2023-02-01T00:00:00",
          "2023-03-01T00:00:00"
         ],
         "y": [
          "2",
          "2"
         ]
        },
        {
         "hoverinfo": "skip",
         "line": {
          "color": "#1f77b4"
         },
         "mode": "lines+markers",
         "name": "Train",
         "showlegend": false,
         "type": "scattergl",
         "x": [
          "2023-03-01T00:00:00",
          "2023-04-01T00:00:00"
         ],
         "y": [
          "2",
          "2"
         ]
        },
        {
         "hoverinfo": "skip",
         "line": {
          "color": "#1f77b4"
         },
         "mode": "lines+markers",
         "name": "Train",
         "showlegend": false,
         "type": "scattergl",
         "x": [
          "2023-04-01T00:00:00",
          "2023-05-01T00:00:00"
         ],
         "y": [
          "2",
          "2"
         ]
        },
        {
         "hoverinfo": "skip",
         "line": {
          "color": "#1f77b4"
         },
         "mode": "lines+markers",
         "name": "Train",
         "showlegend": false,
         "type": "scattergl",
         "x": [
          "2023-05-01T00:00:00",
          "2023-06-01T00:00:00"
         ],
         "y": [
          "2",
          "2"
         ]
        },
        {
         "hoverinfo": "skip",
         "line": {
          "color": "#1f77b4"
         },
         "mode": "lines+markers",
         "name": "Train",
         "showlegend": false,
         "type": "scattergl",
         "x": [
          "2023-06-01T00:00:00",
          "2023-07-01T00:00:00"
         ],
         "y": [
          "2",
          "2"
         ]
        },
        {
         "hoverinfo": "skip",
         "line": {
          "color": "#1f77b4"
         },
         "mode": "lines+markers",
         "name": "Train",
         "showlegend": false,
         "type": "scattergl",
         "x": [
          "2023-07-01T00:00:00",
          "2023-08-01T00:00:00"
         ],
         "y": [
          "2",
          "2"
         ]
        },
        {
         "hoverinfo": "skip",
         "line": {
          "color": "#1f77b4"
         },
         "mode": "lines+markers",
         "name": "Train",
         "showlegend": false,
         "type": "scattergl",
         "x": [
          "2023-08-01T00:00:00",
          "2023-09-01T00:00:00"
         ],
         "y": [
          "2",
          "2"
         ]
        },
        {
         "hoverinfo": "skip",
         "line": {
          "color": "#1f77b4"
         },
         "mode": "lines+markers",
         "name": "Train",
         "showlegend": false,
         "type": "scattergl",
         "x": [
          "2023-09-01T00:00:00",
          "2023-10-01T00:00:00"
         ],
         "y": [
          "2",
          "2"
         ]
        },
        {
         "hoverinfo": "skip",
         "line": {
          "color": "#1f77b4"
         },
         "mode": "lines+markers",
         "name": "Train",
         "showlegend": false,
         "type": "scattergl",
         "x": [
          "2023-10-01T00:00:00",
          "2023-11-01T00:00:00"
         ],
         "y": [
          "2",
          "2"
         ]
        },
        {
         "hoverinfo": "skip",
         "line": {
          "color": "#1f77b4"
         },
         "mode": "lines+markers",
         "name": "Train",
         "showlegend": false,
         "type": "scattergl",
         "x": [
          "2023-11-01T00:00:00",
          "2023-12-01T00:00:00"
         ],
         "y": [
          "2",
          "2"
         ]
        },
        {
         "hoverinfo": "skip",
         "line": {
          "color": "#1f77b4"
         },
         "mode": "lines+markers",
         "name": "Train",
         "showlegend": false,
         "type": "scattergl",
         "x": [
          "2023-12-01T00:00:00",
          "2024-01-01T00:00:00"
         ],
         "y": [
          "2",
          "2"
         ]
        },
        {
         "hoverinfo": "skip",
         "line": {
          "color": "#DE970B"
         },
         "mode": "lines+markers",
         "name": "ForecastHorizon",
         "showlegend": false,
         "type": "scattergl",
         "x": [
          "2024-02-01T00:00:00",
          "2024-03-01T00:00:00"
         ],
         "y": [
          "2",
          "2"
         ]
        },
        {
         "hoverinfo": "skip",
         "line": {
          "color": "#DE970B"
         },
         "mode": "lines+markers",
         "name": "ForecastHorizon",
         "showlegend": false,
         "type": "scattergl",
         "x": [
          "2024-03-01T00:00:00",
          "2024-04-01T00:00:00"
         ],
         "y": [
          "2",
          "2"
         ]
        },
        {
         "hoverinfo": "skip",
         "line": {
          "color": "#DE970B"
         },
         "mode": "lines+markers",
         "name": "ForecastHorizon",
         "showlegend": false,
         "type": "scattergl",
         "x": [
          "2024-04-01T00:00:00",
          "2024-05-01T00:00:00"
         ],
         "y": [
          "2",
          "2"
         ]
        },
        {
         "hoverinfo": "skip",
         "line": {
          "color": "#C0C0C0"
         },
         "mode": "lines+markers",
         "name": "Unchanged",
         "showlegend": false,
         "type": "scattergl",
         "x": [
          "2020-01-01T00:00:00",
          "2020-02-01T00:00:00"
         ],
         "y": [
          "1",
          "1"
         ]
        },
        {
         "hoverinfo": "skip",
         "line": {
          "color": "#C0C0C0"
         },
         "mode": "lines+markers",
         "name": "Unchanged",
         "showlegend": false,
         "type": "scattergl",
         "x": [
          "2020-02-01T00:00:00",
          "2020-03-01T00:00:00"
         ],
         "y": [
          "1",
          "1"
         ]
        },
        {
         "hoverinfo": "skip",
         "line": {
          "color": "#C0C0C0"
         },
         "mode": "lines+markers",
         "name": "Unchanged",
         "showlegend": false,
         "type": "scattergl",
         "x": [
          "2020-03-01T00:00:00",
          "2020-04-01T00:00:00"
         ],
         "y": [
          "1",
          "1"
         ]
        },
        {
         "hoverinfo": "skip",
         "line": {
          "color": "#C0C0C0"
         },
         "mode": "lines+markers",
         "name": "Unchanged",
         "showlegend": false,
         "type": "scattergl",
         "x": [
          "2020-04-01T00:00:00",
          "2020-05-01T00:00:00"
         ],
         "y": [
          "1",
          "1"
         ]
        },
        {
         "hoverinfo": "skip",
         "line": {
          "color": "#C0C0C0"
         },
         "mode": "lines+markers",
         "name": "Unchanged",
         "showlegend": false,
         "type": "scattergl",
         "x": [
          "2020-05-01T00:00:00",
          "2020-06-01T00:00:00"
         ],
         "y": [
          "1",
          "1"
         ]
        },
        {
         "hoverinfo": "skip",
         "line": {
          "color": "#C0C0C0"
         },
         "mode": "lines+markers",
         "name": "Unchanged",
         "showlegend": false,
         "type": "scattergl",
         "x": [
          "2020-06-01T00:00:00",
          "2020-07-01T00:00:00"
         ],
         "y": [
          "1",
          "1"
         ]
        },
        {
         "hoverinfo": "skip",
         "line": {
          "color": "#C0C0C0"
         },
         "mode": "lines+markers",
         "name": "Unchanged",
         "showlegend": false,
         "type": "scattergl",
         "x": [
          "2020-07-01T00:00:00",
          "2020-08-01T00:00:00"
         ],
         "y": [
          "1",
          "1"
         ]
        },
        {
         "hoverinfo": "skip",
         "line": {
          "color": "#C0C0C0"
         },
         "mode": "lines+markers",
         "name": "Unchanged",
         "showlegend": false,
         "type": "scattergl",
         "x": [
          "2020-08-01T00:00:00",
          "2020-09-01T00:00:00"
         ],
         "y": [
          "1",
          "1"
         ]
        },
        {
         "hoverinfo": "skip",
         "line": {
          "color": "#C0C0C0"
         },
         "mode": "lines+markers",
         "name": "Unchanged",
         "showlegend": false,
         "type": "scattergl",
         "x": [
          "2020-09-01T00:00:00",
          "2020-10-01T00:00:00"
         ],
         "y": [
          "1",
          "1"
         ]
        },
        {
         "hoverinfo": "skip",
         "line": {
          "color": "#C0C0C0"
         },
         "mode": "lines+markers",
         "name": "Unchanged",
         "showlegend": false,
         "type": "scattergl",
         "x": [
          "2020-10-01T00:00:00",
          "2020-11-01T00:00:00"
         ],
         "y": [
          "1",
          "1"
         ]
        },
        {
         "hoverinfo": "skip",
         "line": {
          "color": "#C0C0C0"
         },
         "mode": "lines+markers",
         "name": "Unchanged",
         "showlegend": false,
         "type": "scattergl",
         "x": [
          "2020-11-01T00:00:00",
          "2020-12-01T00:00:00"
         ],
         "y": [
          "1",
          "1"
         ]
        },
        {
         "hoverinfo": "skip",
         "line": {
          "color": "#C0C0C0"
         },
         "mode": "lines+markers",
         "name": "Unchanged",
         "showlegend": false,
         "type": "scattergl",
         "x": [
          "2020-12-01T00:00:00",
          "2021-01-01T00:00:00"
         ],
         "y": [
          "1",
          "1"
         ]
        },
        {
         "hoverinfo": "skip",
         "line": {
          "color": "#C0C0C0"
         },
         "mode": "lines+markers",
         "name": "Unchanged",
         "showlegend": false,
         "type": "scattergl",
         "x": [
          "2021-01-01T00:00:00",
          "2021-02-01T00:00:00"
         ],
         "y": [
          "1",
          "1"
         ]
        },
        {
         "hoverinfo": "skip",
         "line": {
          "color": "#C0C0C0"
         },
         "mode": "lines+markers",
         "name": "Unchanged",
         "showlegend": false,
         "type": "scattergl",
         "x": [
          "2021-02-01T00:00:00",
          "2021-03-01T00:00:00"
         ],
         "y": [
          "1",
          "1"
         ]
        },
        {
         "hoverinfo": "skip",
         "line": {
          "color": "#C0C0C0"
         },
         "mode": "lines+markers",
         "name": "Unchanged",
         "showlegend": false,
         "type": "scattergl",
         "x": [
          "2021-03-01T00:00:00",
          "2021-04-01T00:00:00"
         ],
         "y": [
          "1",
          "1"
         ]
        },
        {
         "hoverinfo": "skip",
         "line": {
          "color": "#C0C0C0"
         },
         "mode": "lines+markers",
         "name": "Unchanged",
         "showlegend": false,
         "type": "scattergl",
         "x": [
          "2021-04-01T00:00:00",
          "2021-05-01T00:00:00"
         ],
         "y": [
          "1",
          "1"
         ]
        },
        {
         "hoverinfo": "skip",
         "line": {
          "color": "#C0C0C0"
         },
         "mode": "lines+markers",
         "name": "Unchanged",
         "showlegend": false,
         "type": "scattergl",
         "x": [
          "2021-05-01T00:00:00",
          "2021-06-01T00:00:00"
         ],
         "y": [
          "1",
          "1"
         ]
        },
        {
         "hoverinfo": "skip",
         "line": {
          "color": "#C0C0C0"
         },
         "mode": "lines+markers",
         "name": "Unchanged",
         "showlegend": false,
         "type": "scattergl",
         "x": [
          "2021-06-01T00:00:00",
          "2021-07-01T00:00:00"
         ],
         "y": [
          "1",
          "1"
         ]
        },
        {
         "hoverinfo": "skip",
         "line": {
          "color": "#C0C0C0"
         },
         "mode": "lines+markers",
         "name": "Unchanged",
         "showlegend": false,
         "type": "scattergl",
         "x": [
          "2021-07-01T00:00:00",
          "2021-08-01T00:00:00"
         ],
         "y": [
          "1",
          "1"
         ]
        },
        {
         "hoverinfo": "skip",
         "line": {
          "color": "#C0C0C0"
         },
         "mode": "lines+markers",
         "name": "Unchanged",
         "showlegend": false,
         "type": "scattergl",
         "x": [
          "2021-08-01T00:00:00",
          "2021-09-01T00:00:00"
         ],
         "y": [
          "1",
          "1"
         ]
        },
        {
         "hoverinfo": "skip",
         "line": {
          "color": "#C0C0C0"
         },
         "mode": "lines+markers",
         "name": "Unchanged",
         "showlegend": false,
         "type": "scattergl",
         "x": [
          "2021-09-01T00:00:00",
          "2021-10-01T00:00:00"
         ],
         "y": [
          "1",
          "1"
         ]
        },
        {
         "hoverinfo": "skip",
         "line": {
          "color": "#C0C0C0"
         },
         "mode": "lines+markers",
         "name": "Unchanged",
         "showlegend": false,
         "type": "scattergl",
         "x": [
          "2021-10-01T00:00:00",
          "2021-11-01T00:00:00"
         ],
         "y": [
          "1",
          "1"
         ]
        },
        {
         "hoverinfo": "skip",
         "line": {
          "color": "#C0C0C0"
         },
         "mode": "lines+markers",
         "name": "Unchanged",
         "showlegend": false,
         "type": "scattergl",
         "x": [
          "2021-11-01T00:00:00",
          "2021-12-01T00:00:00"
         ],
         "y": [
          "1",
          "1"
         ]
        },
        {
         "hoverinfo": "skip",
         "line": {
          "color": "#C0C0C0"
         },
         "mode": "lines+markers",
         "name": "Unchanged",
         "showlegend": false,
         "type": "scattergl",
         "x": [
          "2021-12-01T00:00:00",
          "2022-01-01T00:00:00"
         ],
         "y": [
          "1",
          "1"
         ]
        },
        {
         "hoverinfo": "skip",
         "line": {
          "color": "#C0C0C0"
         },
         "mode": "lines+markers",
         "name": "Unchanged",
         "showlegend": false,
         "type": "scattergl",
         "x": [
          "2022-01-01T00:00:00",
          "2022-02-01T00:00:00"
         ],
         "y": [
          "1",
          "1"
         ]
        },
        {
         "hoverinfo": "skip",
         "line": {
          "color": "#C0C0C0"
         },
         "mode": "lines+markers",
         "name": "Unchanged",
         "showlegend": false,
         "type": "scattergl",
         "x": [
          "2022-02-01T00:00:00",
          "2022-03-01T00:00:00"
         ],
         "y": [
          "1",
          "1"
         ]
        },
        {
         "hoverinfo": "skip",
         "line": {
          "color": "#C0C0C0"
         },
         "mode": "lines+markers",
         "name": "Unchanged",
         "showlegend": false,
         "type": "scattergl",
         "x": [
          "2022-03-01T00:00:00",
          "2022-04-01T00:00:00"
         ],
         "y": [
          "1",
          "1"
         ]
        },
        {
         "hoverinfo": "skip",
         "line": {
          "color": "#C0C0C0"
         },
         "mode": "lines+markers",
         "name": "Unchanged",
         "showlegend": false,
         "type": "scattergl",
         "x": [
          "2022-04-01T00:00:00",
          "2022-05-01T00:00:00"
         ],
         "y": [
          "1",
          "1"
         ]
        },
        {
         "hoverinfo": "skip",
         "line": {
          "color": "#C0C0C0"
         },
         "mode": "lines+markers",
         "name": "Unchanged",
         "showlegend": false,
         "type": "scattergl",
         "x": [
          "2022-05-01T00:00:00",
          "2022-06-01T00:00:00"
         ],
         "y": [
          "1",
          "1"
         ]
        },
        {
         "hoverinfo": "skip",
         "line": {
          "color": "#C0C0C0"
         },
         "mode": "lines+markers",
         "name": "Unchanged",
         "showlegend": false,
         "type": "scattergl",
         "x": [
          "2022-06-01T00:00:00",
          "2022-07-01T00:00:00"
         ],
         "y": [
          "1",
          "1"
         ]
        },
        {
         "hoverinfo": "skip",
         "line": {
          "color": "#C0C0C0"
         },
         "mode": "lines+markers",
         "name": "Unchanged",
         "showlegend": false,
         "type": "scattergl",
         "x": [
          "2022-07-01T00:00:00",
          "2022-08-01T00:00:00"
         ],
         "y": [
          "1",
          "1"
         ]
        },
        {
         "hoverinfo": "skip",
         "line": {
          "color": "#C0C0C0"
         },
         "mode": "lines+markers",
         "name": "Unchanged",
         "showlegend": false,
         "type": "scattergl",
         "x": [
          "2022-08-01T00:00:00",
          "2022-09-01T00:00:00"
         ],
         "y": [
          "1",
          "1"
         ]
        },
        {
         "hoverinfo": "skip",
         "line": {
          "color": "#C0C0C0"
         },
         "mode": "lines+markers",
         "name": "Unchanged",
         "showlegend": false,
         "type": "scattergl",
         "x": [
          "2022-09-01T00:00:00",
          "2022-10-01T00:00:00"
         ],
         "y": [
          "1",
          "1"
         ]
        },
        {
         "hoverinfo": "skip",
         "line": {
          "color": "#C0C0C0"
         },
         "mode": "lines+markers",
         "name": "Unchanged",
         "showlegend": false,
         "type": "scattergl",
         "x": [
          "2022-10-01T00:00:00",
          "2022-11-01T00:00:00"
         ],
         "y": [
          "1",
          "1"
         ]
        },
        {
         "hoverinfo": "skip",
         "line": {
          "color": "#C0C0C0"
         },
         "mode": "lines+markers",
         "name": "Unchanged",
         "showlegend": false,
         "type": "scattergl",
         "x": [
          "2022-11-01T00:00:00",
          "2022-12-01T00:00:00"
         ],
         "y": [
          "1",
          "1"
         ]
        },
        {
         "hoverinfo": "skip",
         "line": {
          "color": "#C0C0C0"
         },
         "mode": "lines+markers",
         "name": "Unchanged",
         "showlegend": false,
         "type": "scattergl",
         "x": [
          "2022-12-01T00:00:00",
          "2023-01-01T00:00:00"
         ],
         "y": [
          "1",
          "1"
         ]
        },
        {
         "hoverinfo": "skip",
         "line": {
          "color": "#C0C0C0"
         },
         "mode": "lines+markers",
         "name": "Unchanged",
         "showlegend": false,
         "type": "scattergl",
         "x": [
          "2023-01-01T00:00:00",
          "2023-02-01T00:00:00"
         ],
         "y": [
          "1",
          "1"
         ]
        },
        {
         "hoverinfo": "skip",
         "line": {
          "color": "#C0C0C0"
         },
         "mode": "lines+markers",
         "name": "Unchanged",
         "showlegend": false,
         "type": "scattergl",
         "x": [
          "2023-02-01T00:00:00",
          "2023-03-01T00:00:00"
         ],
         "y": [
          "1",
          "1"
         ]
        },
        {
         "hoverinfo": "skip",
         "line": {
          "color": "#C0C0C0"
         },
         "mode": "lines+markers",
         "name": "Unchanged",
         "showlegend": false,
         "type": "scattergl",
         "x": [
          "2023-03-01T00:00:00",
          "2023-04-01T00:00:00"
         ],
         "y": [
          "1",
          "1"
         ]
        },
        {
         "hoverinfo": "skip",
         "line": {
          "color": "#C0C0C0"
         },
         "mode": "lines+markers",
         "name": "Unchanged",
         "showlegend": false,
         "type": "scattergl",
         "x": [
          "2023-04-01T00:00:00",
          "2023-05-01T00:00:00"
         ],
         "y": [
          "1",
          "1"
         ]
        },
        {
         "hoverinfo": "skip",
         "line": {
          "color": "#C0C0C0"
         },
         "mode": "lines+markers",
         "name": "Unchanged",
         "showlegend": false,
         "type": "scattergl",
         "x": [
          "2023-05-01T00:00:00",
          "2023-06-01T00:00:00"
         ],
         "y": [
          "1",
          "1"
         ]
        },
        {
         "hoverinfo": "skip",
         "line": {
          "color": "#C0C0C0"
         },
         "mode": "lines+markers",
         "name": "Unchanged",
         "showlegend": false,
         "type": "scattergl",
         "x": [
          "2023-06-01T00:00:00",
          "2023-07-01T00:00:00"
         ],
         "y": [
          "1",
          "1"
         ]
        },
        {
         "hoverinfo": "skip",
         "line": {
          "color": "#C0C0C0"
         },
         "mode": "lines+markers",
         "name": "Unchanged",
         "showlegend": false,
         "type": "scattergl",
         "x": [
          "2023-07-01T00:00:00",
          "2023-08-01T00:00:00"
         ],
         "y": [
          "1",
          "1"
         ]
        },
        {
         "hoverinfo": "skip",
         "line": {
          "color": "#C0C0C0"
         },
         "mode": "lines+markers",
         "name": "Unchanged",
         "showlegend": false,
         "type": "scattergl",
         "x": [
          "2023-08-01T00:00:00",
          "2023-09-01T00:00:00"
         ],
         "y": [
          "1",
          "1"
         ]
        },
        {
         "hoverinfo": "skip",
         "line": {
          "color": "#C0C0C0"
         },
         "mode": "lines+markers",
         "name": "Unchanged",
         "showlegend": false,
         "type": "scattergl",
         "x": [
          "2023-09-01T00:00:00",
          "2023-10-01T00:00:00"
         ],
         "y": [
          "1",
          "1"
         ]
        },
        {
         "hoverinfo": "skip",
         "line": {
          "color": "#C0C0C0"
         },
         "mode": "lines+markers",
         "name": "Unchanged",
         "showlegend": false,
         "type": "scattergl",
         "x": [
          "2023-10-01T00:00:00",
          "2023-11-01T00:00:00"
         ],
         "y": [
          "1",
          "1"
         ]
        },
        {
         "hoverinfo": "skip",
         "line": {
          "color": "#C0C0C0"
         },
         "mode": "lines+markers",
         "name": "Unchanged",
         "showlegend": false,
         "type": "scattergl",
         "x": [
          "2023-11-01T00:00:00",
          "2023-12-01T00:00:00"
         ],
         "y": [
          "1",
          "1"
         ]
        },
        {
         "hoverinfo": "skip",
         "line": {
          "color": "#C0C0C0"
         },
         "mode": "lines+markers",
         "name": "Unchanged",
         "showlegend": false,
         "type": "scattergl",
         "x": [
          "2023-12-01T00:00:00",
          "2024-01-01T00:00:00"
         ],
         "y": [
          "1",
          "1"
         ]
        },
        {
         "hoverinfo": "skip",
         "line": {
          "color": "#C0C0C0"
         },
         "mode": "lines+markers",
         "name": "Unchanged",
         "showlegend": false,
         "type": "scattergl",
         "x": [
          "2024-01-01T00:00:00",
          "2024-02-01T00:00:00"
         ],
         "y": [
          "1",
          "1"
         ]
        },
        {
         "hoverinfo": "skip",
         "line": {
          "color": "#C0C0C0"
         },
         "mode": "lines+markers",
         "name": "Unchanged",
         "showlegend": false,
         "type": "scattergl",
         "x": [
          "2024-02-01T00:00:00",
          "2024-03-01T00:00:00"
         ],
         "y": [
          "1",
          "1"
         ]
        },
        {
         "hoverinfo": "skip",
         "line": {
          "color": "#C0C0C0"
         },
         "mode": "lines+markers",
         "name": "Unchanged",
         "showlegend": false,
         "type": "scattergl",
         "x": [
          "2024-03-01T00:00:00",
          "2024-04-01T00:00:00"
         ],
         "y": [
          "1",
          "1"
         ]
        },
        {
         "hoverinfo": "skip",
         "line": {
          "color": "#C0C0C0"
         },
         "mode": "lines+markers",
         "name": "Unchanged",
         "showlegend": false,
         "type": "scattergl",
         "x": [
          "2024-04-01T00:00:00",
          "2024-05-01T00:00:00"
         ],
         "y": [
          "1",
          "1"
         ]
        },
        {
         "hoverinfo": "skip",
         "line": {
          "color": "#1f77b4"
         },
         "mode": "lines+markers",
         "name": "Train",
         "showlegend": false,
         "type": "scattergl",
         "x": [
          "2020-01-01T00:00:00",
          "2020-02-01T00:00:00"
         ],
         "y": [
          "1",
          "1"
         ]
        },
        {
         "hoverinfo": "skip",
         "line": {
          "color": "#1f77b4"
         },
         "mode": "lines+markers",
         "name": "Train",
         "showlegend": false,
         "type": "scattergl",
         "x": [
          "2020-02-01T00:00:00",
          "2020-03-01T00:00:00"
         ],
         "y": [
          "1",
          "1"
         ]
        },
        {
         "hoverinfo": "skip",
         "line": {
          "color": "#1f77b4"
         },
         "mode": "lines+markers",
         "name": "Train",
         "showlegend": false,
         "type": "scattergl",
         "x": [
          "2020-03-01T00:00:00",
          "2020-04-01T00:00:00"
         ],
         "y": [
          "1",
          "1"
         ]
        },
        {
         "hoverinfo": "skip",
         "line": {
          "color": "#1f77b4"
         },
         "mode": "lines+markers",
         "name": "Train",
         "showlegend": false,
         "type": "scattergl",
         "x": [
          "2020-04-01T00:00:00",
          "2020-05-01T00:00:00"
         ],
         "y": [
          "1",
          "1"
         ]
        },
        {
         "hoverinfo": "skip",
         "line": {
          "color": "#1f77b4"
         },
         "mode": "lines+markers",
         "name": "Train",
         "showlegend": false,
         "type": "scattergl",
         "x": [
          "2020-05-01T00:00:00",
          "2020-06-01T00:00:00"
         ],
         "y": [
          "1",
          "1"
         ]
        },
        {
         "hoverinfo": "skip",
         "line": {
          "color": "#1f77b4"
         },
         "mode": "lines+markers",
         "name": "Train",
         "showlegend": false,
         "type": "scattergl",
         "x": [
          "2020-06-01T00:00:00",
          "2020-07-01T00:00:00"
         ],
         "y": [
          "1",
          "1"
         ]
        },
        {
         "hoverinfo": "skip",
         "line": {
          "color": "#1f77b4"
         },
         "mode": "lines+markers",
         "name": "Train",
         "showlegend": false,
         "type": "scattergl",
         "x": [
          "2020-07-01T00:00:00",
          "2020-08-01T00:00:00"
         ],
         "y": [
          "1",
          "1"
         ]
        },
        {
         "hoverinfo": "skip",
         "line": {
          "color": "#1f77b4"
         },
         "mode": "lines+markers",
         "name": "Train",
         "showlegend": false,
         "type": "scattergl",
         "x": [
          "2020-08-01T00:00:00",
          "2020-09-01T00:00:00"
         ],
         "y": [
          "1",
          "1"
         ]
        },
        {
         "hoverinfo": "skip",
         "line": {
          "color": "#1f77b4"
         },
         "mode": "lines+markers",
         "name": "Train",
         "showlegend": false,
         "type": "scattergl",
         "x": [
          "2020-09-01T00:00:00",
          "2020-10-01T00:00:00"
         ],
         "y": [
          "1",
          "1"
         ]
        },
        {
         "hoverinfo": "skip",
         "line": {
          "color": "#1f77b4"
         },
         "mode": "lines+markers",
         "name": "Train",
         "showlegend": false,
         "type": "scattergl",
         "x": [
          "2020-10-01T00:00:00",
          "2020-11-01T00:00:00"
         ],
         "y": [
          "1",
          "1"
         ]
        },
        {
         "hoverinfo": "skip",
         "line": {
          "color": "#1f77b4"
         },
         "mode": "lines+markers",
         "name": "Train",
         "showlegend": false,
         "type": "scattergl",
         "x": [
          "2020-11-01T00:00:00",
          "2020-12-01T00:00:00"
         ],
         "y": [
          "1",
          "1"
         ]
        },
        {
         "hoverinfo": "skip",
         "line": {
          "color": "#1f77b4"
         },
         "mode": "lines+markers",
         "name": "Train",
         "showlegend": false,
         "type": "scattergl",
         "x": [
          "2020-12-01T00:00:00",
          "2021-01-01T00:00:00"
         ],
         "y": [
          "1",
          "1"
         ]
        },
        {
         "hoverinfo": "skip",
         "line": {
          "color": "#1f77b4"
         },
         "mode": "lines+markers",
         "name": "Train",
         "showlegend": false,
         "type": "scattergl",
         "x": [
          "2021-01-01T00:00:00",
          "2021-02-01T00:00:00"
         ],
         "y": [
          "1",
          "1"
         ]
        },
        {
         "hoverinfo": "skip",
         "line": {
          "color": "#1f77b4"
         },
         "mode": "lines+markers",
         "name": "Train",
         "showlegend": false,
         "type": "scattergl",
         "x": [
          "2021-02-01T00:00:00",
          "2021-03-01T00:00:00"
         ],
         "y": [
          "1",
          "1"
         ]
        },
        {
         "hoverinfo": "skip",
         "line": {
          "color": "#1f77b4"
         },
         "mode": "lines+markers",
         "name": "Train",
         "showlegend": false,
         "type": "scattergl",
         "x": [
          "2021-03-01T00:00:00",
          "2021-04-01T00:00:00"
         ],
         "y": [
          "1",
          "1"
         ]
        },
        {
         "hoverinfo": "skip",
         "line": {
          "color": "#1f77b4"
         },
         "mode": "lines+markers",
         "name": "Train",
         "showlegend": false,
         "type": "scattergl",
         "x": [
          "2021-04-01T00:00:00",
          "2021-05-01T00:00:00"
         ],
         "y": [
          "1",
          "1"
         ]
        },
        {
         "hoverinfo": "skip",
         "line": {
          "color": "#1f77b4"
         },
         "mode": "lines+markers",
         "name": "Train",
         "showlegend": false,
         "type": "scattergl",
         "x": [
          "2021-05-01T00:00:00",
          "2021-06-01T00:00:00"
         ],
         "y": [
          "1",
          "1"
         ]
        },
        {
         "hoverinfo": "skip",
         "line": {
          "color": "#1f77b4"
         },
         "mode": "lines+markers",
         "name": "Train",
         "showlegend": false,
         "type": "scattergl",
         "x": [
          "2021-06-01T00:00:00",
          "2021-07-01T00:00:00"
         ],
         "y": [
          "1",
          "1"
         ]
        },
        {
         "hoverinfo": "skip",
         "line": {
          "color": "#1f77b4"
         },
         "mode": "lines+markers",
         "name": "Train",
         "showlegend": false,
         "type": "scattergl",
         "x": [
          "2021-07-01T00:00:00",
          "2021-08-01T00:00:00"
         ],
         "y": [
          "1",
          "1"
         ]
        },
        {
         "hoverinfo": "skip",
         "line": {
          "color": "#1f77b4"
         },
         "mode": "lines+markers",
         "name": "Train",
         "showlegend": false,
         "type": "scattergl",
         "x": [
          "2021-08-01T00:00:00",
          "2021-09-01T00:00:00"
         ],
         "y": [
          "1",
          "1"
         ]
        },
        {
         "hoverinfo": "skip",
         "line": {
          "color": "#1f77b4"
         },
         "mode": "lines+markers",
         "name": "Train",
         "showlegend": false,
         "type": "scattergl",
         "x": [
          "2021-09-01T00:00:00",
          "2021-10-01T00:00:00"
         ],
         "y": [
          "1",
          "1"
         ]
        },
        {
         "hoverinfo": "skip",
         "line": {
          "color": "#1f77b4"
         },
         "mode": "lines+markers",
         "name": "Train",
         "showlegend": false,
         "type": "scattergl",
         "x": [
          "2021-10-01T00:00:00",
          "2021-11-01T00:00:00"
         ],
         "y": [
          "1",
          "1"
         ]
        },
        {
         "hoverinfo": "skip",
         "line": {
          "color": "#1f77b4"
         },
         "mode": "lines+markers",
         "name": "Train",
         "showlegend": false,
         "type": "scattergl",
         "x": [
          "2021-11-01T00:00:00",
          "2021-12-01T00:00:00"
         ],
         "y": [
          "1",
          "1"
         ]
        },
        {
         "hoverinfo": "skip",
         "line": {
          "color": "#1f77b4"
         },
         "mode": "lines+markers",
         "name": "Train",
         "showlegend": false,
         "type": "scattergl",
         "x": [
          "2021-12-01T00:00:00",
          "2022-01-01T00:00:00"
         ],
         "y": [
          "1",
          "1"
         ]
        },
        {
         "hoverinfo": "skip",
         "line": {
          "color": "#1f77b4"
         },
         "mode": "lines+markers",
         "name": "Train",
         "showlegend": false,
         "type": "scattergl",
         "x": [
          "2022-01-01T00:00:00",
          "2022-02-01T00:00:00"
         ],
         "y": [
          "1",
          "1"
         ]
        },
        {
         "hoverinfo": "skip",
         "line": {
          "color": "#1f77b4"
         },
         "mode": "lines+markers",
         "name": "Train",
         "showlegend": false,
         "type": "scattergl",
         "x": [
          "2022-02-01T00:00:00",
          "2022-03-01T00:00:00"
         ],
         "y": [
          "1",
          "1"
         ]
        },
        {
         "hoverinfo": "skip",
         "line": {
          "color": "#1f77b4"
         },
         "mode": "lines+markers",
         "name": "Train",
         "showlegend": false,
         "type": "scattergl",
         "x": [
          "2022-03-01T00:00:00",
          "2022-04-01T00:00:00"
         ],
         "y": [
          "1",
          "1"
         ]
        },
        {
         "hoverinfo": "skip",
         "line": {
          "color": "#1f77b4"
         },
         "mode": "lines+markers",
         "name": "Train",
         "showlegend": false,
         "type": "scattergl",
         "x": [
          "2022-04-01T00:00:00",
          "2022-05-01T00:00:00"
         ],
         "y": [
          "1",
          "1"
         ]
        },
        {
         "hoverinfo": "skip",
         "line": {
          "color": "#1f77b4"
         },
         "mode": "lines+markers",
         "name": "Train",
         "showlegend": false,
         "type": "scattergl",
         "x": [
          "2022-05-01T00:00:00",
          "2022-06-01T00:00:00"
         ],
         "y": [
          "1",
          "1"
         ]
        },
        {
         "hoverinfo": "skip",
         "line": {
          "color": "#1f77b4"
         },
         "mode": "lines+markers",
         "name": "Train",
         "showlegend": false,
         "type": "scattergl",
         "x": [
          "2022-06-01T00:00:00",
          "2022-07-01T00:00:00"
         ],
         "y": [
          "1",
          "1"
         ]
        },
        {
         "hoverinfo": "skip",
         "line": {
          "color": "#1f77b4"
         },
         "mode": "lines+markers",
         "name": "Train",
         "showlegend": false,
         "type": "scattergl",
         "x": [
          "2022-07-01T00:00:00",
          "2022-08-01T00:00:00"
         ],
         "y": [
          "1",
          "1"
         ]
        },
        {
         "hoverinfo": "skip",
         "line": {
          "color": "#1f77b4"
         },
         "mode": "lines+markers",
         "name": "Train",
         "showlegend": false,
         "type": "scattergl",
         "x": [
          "2022-08-01T00:00:00",
          "2022-09-01T00:00:00"
         ],
         "y": [
          "1",
          "1"
         ]
        },
        {
         "hoverinfo": "skip",
         "line": {
          "color": "#1f77b4"
         },
         "mode": "lines+markers",
         "name": "Train",
         "showlegend": false,
         "type": "scattergl",
         "x": [
          "2022-09-01T00:00:00",
          "2022-10-01T00:00:00"
         ],
         "y": [
          "1",
          "1"
         ]
        },
        {
         "hoverinfo": "skip",
         "line": {
          "color": "#1f77b4"
         },
         "mode": "lines+markers",
         "name": "Train",
         "showlegend": false,
         "type": "scattergl",
         "x": [
          "2022-10-01T00:00:00",
          "2022-11-01T00:00:00"
         ],
         "y": [
          "1",
          "1"
         ]
        },
        {
         "hoverinfo": "skip",
         "line": {
          "color": "#1f77b4"
         },
         "mode": "lines+markers",
         "name": "Train",
         "showlegend": false,
         "type": "scattergl",
         "x": [
          "2022-11-01T00:00:00",
          "2022-12-01T00:00:00"
         ],
         "y": [
          "1",
          "1"
         ]
        },
        {
         "hoverinfo": "skip",
         "line": {
          "color": "#1f77b4"
         },
         "mode": "lines+markers",
         "name": "Train",
         "showlegend": false,
         "type": "scattergl",
         "x": [
          "2022-12-01T00:00:00",
          "2023-01-01T00:00:00"
         ],
         "y": [
          "1",
          "1"
         ]
        },
        {
         "hoverinfo": "skip",
         "line": {
          "color": "#1f77b4"
         },
         "mode": "lines+markers",
         "name": "Train",
         "showlegend": false,
         "type": "scattergl",
         "x": [
          "2023-01-01T00:00:00",
          "2023-02-01T00:00:00"
         ],
         "y": [
          "1",
          "1"
         ]
        },
        {
         "hoverinfo": "skip",
         "line": {
          "color": "#1f77b4"
         },
         "mode": "lines+markers",
         "name": "Train",
         "showlegend": false,
         "type": "scattergl",
         "x": [
          "2023-02-01T00:00:00",
          "2023-03-01T00:00:00"
         ],
         "y": [
          "1",
          "1"
         ]
        },
        {
         "hoverinfo": "skip",
         "line": {
          "color": "#1f77b4"
         },
         "mode": "lines+markers",
         "name": "Train",
         "showlegend": false,
         "type": "scattergl",
         "x": [
          "2023-03-01T00:00:00",
          "2023-04-01T00:00:00"
         ],
         "y": [
          "1",
          "1"
         ]
        },
        {
         "hoverinfo": "skip",
         "line": {
          "color": "#1f77b4"
         },
         "mode": "lines+markers",
         "name": "Train",
         "showlegend": false,
         "type": "scattergl",
         "x": [
          "2023-04-01T00:00:00",
          "2023-05-01T00:00:00"
         ],
         "y": [
          "1",
          "1"
         ]
        },
        {
         "hoverinfo": "skip",
         "line": {
          "color": "#1f77b4"
         },
         "mode": "lines+markers",
         "name": "Train",
         "showlegend": false,
         "type": "scattergl",
         "x": [
          "2023-05-01T00:00:00",
          "2023-06-01T00:00:00"
         ],
         "y": [
          "1",
          "1"
         ]
        },
        {
         "hoverinfo": "skip",
         "line": {
          "color": "#1f77b4"
         },
         "mode": "lines+markers",
         "name": "Train",
         "showlegend": false,
         "type": "scattergl",
         "x": [
          "2023-06-01T00:00:00",
          "2023-07-01T00:00:00"
         ],
         "y": [
          "1",
          "1"
         ]
        },
        {
         "hoverinfo": "skip",
         "line": {
          "color": "#1f77b4"
         },
         "mode": "lines+markers",
         "name": "Train",
         "showlegend": false,
         "type": "scattergl",
         "x": [
          "2023-07-01T00:00:00",
          "2023-08-01T00:00:00"
         ],
         "y": [
          "1",
          "1"
         ]
        },
        {
         "hoverinfo": "skip",
         "line": {
          "color": "#1f77b4"
         },
         "mode": "lines+markers",
         "name": "Train",
         "showlegend": false,
         "type": "scattergl",
         "x": [
          "2023-08-01T00:00:00",
          "2023-09-01T00:00:00"
         ],
         "y": [
          "1",
          "1"
         ]
        },
        {
         "hoverinfo": "skip",
         "line": {
          "color": "#DE970B"
         },
         "mode": "lines+markers",
         "name": "ForecastHorizon",
         "showlegend": false,
         "type": "scattergl",
         "x": [
          "2023-10-01T00:00:00",
          "2023-11-01T00:00:00"
         ],
         "y": [
          "1",
          "1"
         ]
        },
        {
         "hoverinfo": "skip",
         "line": {
          "color": "#DE970B"
         },
         "mode": "lines+markers",
         "name": "ForecastHorizon",
         "showlegend": false,
         "type": "scattergl",
         "x": [
          "2023-11-01T00:00:00",
          "2023-12-01T00:00:00"
         ],
         "y": [
          "1",
          "1"
         ]
        },
        {
         "hoverinfo": "skip",
         "line": {
          "color": "#DE970B"
         },
         "mode": "lines+markers",
         "name": "ForecastHorizon",
         "showlegend": false,
         "type": "scattergl",
         "x": [
          "2023-12-01T00:00:00",
          "2024-01-01T00:00:00"
         ],
         "y": [
          "1",
          "1"
         ]
        },
        {
         "hoverinfo": "skip",
         "line": {
          "color": "#C0C0C0"
         },
         "mode": "lines+markers",
         "name": "Unchanged",
         "showlegend": false,
         "type": "scattergl",
         "x": [
          "2020-01-01T00:00:00",
          "2020-02-01T00:00:00"
         ],
         "y": [
          "0",
          "0"
         ]
        },
        {
         "hoverinfo": "skip",
         "line": {
          "color": "#C0C0C0"
         },
         "mode": "lines+markers",
         "name": "Unchanged",
         "showlegend": false,
         "type": "scattergl",
         "x": [
          "2020-02-01T00:00:00",
          "2020-03-01T00:00:00"
         ],
         "y": [
          "0",
          "0"
         ]
        },
        {
         "hoverinfo": "skip",
         "line": {
          "color": "#C0C0C0"
         },
         "mode": "lines+markers",
         "name": "Unchanged",
         "showlegend": false,
         "type": "scattergl",
         "x": [
          "2020-03-01T00:00:00",
          "2020-04-01T00:00:00"
         ],
         "y": [
          "0",
          "0"
         ]
        },
        {
         "hoverinfo": "skip",
         "line": {
          "color": "#C0C0C0"
         },
         "mode": "lines+markers",
         "name": "Unchanged",
         "showlegend": false,
         "type": "scattergl",
         "x": [
          "2020-04-01T00:00:00",
          "2020-05-01T00:00:00"
         ],
         "y": [
          "0",
          "0"
         ]
        },
        {
         "hoverinfo": "skip",
         "line": {
          "color": "#C0C0C0"
         },
         "mode": "lines+markers",
         "name": "Unchanged",
         "showlegend": false,
         "type": "scattergl",
         "x": [
          "2020-05-01T00:00:00",
          "2020-06-01T00:00:00"
         ],
         "y": [
          "0",
          "0"
         ]
        },
        {
         "hoverinfo": "skip",
         "line": {
          "color": "#C0C0C0"
         },
         "mode": "lines+markers",
         "name": "Unchanged",
         "showlegend": false,
         "type": "scattergl",
         "x": [
          "2020-06-01T00:00:00",
          "2020-07-01T00:00:00"
         ],
         "y": [
          "0",
          "0"
         ]
        },
        {
         "hoverinfo": "skip",
         "line": {
          "color": "#C0C0C0"
         },
         "mode": "lines+markers",
         "name": "Unchanged",
         "showlegend": false,
         "type": "scattergl",
         "x": [
          "2020-07-01T00:00:00",
          "2020-08-01T00:00:00"
         ],
         "y": [
          "0",
          "0"
         ]
        },
        {
         "hoverinfo": "skip",
         "line": {
          "color": "#C0C0C0"
         },
         "mode": "lines+markers",
         "name": "Unchanged",
         "showlegend": false,
         "type": "scattergl",
         "x": [
          "2020-08-01T00:00:00",
          "2020-09-01T00:00:00"
         ],
         "y": [
          "0",
          "0"
         ]
        },
        {
         "hoverinfo": "skip",
         "line": {
          "color": "#C0C0C0"
         },
         "mode": "lines+markers",
         "name": "Unchanged",
         "showlegend": false,
         "type": "scattergl",
         "x": [
          "2020-09-01T00:00:00",
          "2020-10-01T00:00:00"
         ],
         "y": [
          "0",
          "0"
         ]
        },
        {
         "hoverinfo": "skip",
         "line": {
          "color": "#C0C0C0"
         },
         "mode": "lines+markers",
         "name": "Unchanged",
         "showlegend": false,
         "type": "scattergl",
         "x": [
          "2020-10-01T00:00:00",
          "2020-11-01T00:00:00"
         ],
         "y": [
          "0",
          "0"
         ]
        },
        {
         "hoverinfo": "skip",
         "line": {
          "color": "#C0C0C0"
         },
         "mode": "lines+markers",
         "name": "Unchanged",
         "showlegend": false,
         "type": "scattergl",
         "x": [
          "2020-11-01T00:00:00",
          "2020-12-01T00:00:00"
         ],
         "y": [
          "0",
          "0"
         ]
        },
        {
         "hoverinfo": "skip",
         "line": {
          "color": "#C0C0C0"
         },
         "mode": "lines+markers",
         "name": "Unchanged",
         "showlegend": false,
         "type": "scattergl",
         "x": [
          "2020-12-01T00:00:00",
          "2021-01-01T00:00:00"
         ],
         "y": [
          "0",
          "0"
         ]
        },
        {
         "hoverinfo": "skip",
         "line": {
          "color": "#C0C0C0"
         },
         "mode": "lines+markers",
         "name": "Unchanged",
         "showlegend": false,
         "type": "scattergl",
         "x": [
          "2021-01-01T00:00:00",
          "2021-02-01T00:00:00"
         ],
         "y": [
          "0",
          "0"
         ]
        },
        {
         "hoverinfo": "skip",
         "line": {
          "color": "#C0C0C0"
         },
         "mode": "lines+markers",
         "name": "Unchanged",
         "showlegend": false,
         "type": "scattergl",
         "x": [
          "2021-02-01T00:00:00",
          "2021-03-01T00:00:00"
         ],
         "y": [
          "0",
          "0"
         ]
        },
        {
         "hoverinfo": "skip",
         "line": {
          "color": "#C0C0C0"
         },
         "mode": "lines+markers",
         "name": "Unchanged",
         "showlegend": false,
         "type": "scattergl",
         "x": [
          "2021-03-01T00:00:00",
          "2021-04-01T00:00:00"
         ],
         "y": [
          "0",
          "0"
         ]
        },
        {
         "hoverinfo": "skip",
         "line": {
          "color": "#C0C0C0"
         },
         "mode": "lines+markers",
         "name": "Unchanged",
         "showlegend": false,
         "type": "scattergl",
         "x": [
          "2021-04-01T00:00:00",
          "2021-05-01T00:00:00"
         ],
         "y": [
          "0",
          "0"
         ]
        },
        {
         "hoverinfo": "skip",
         "line": {
          "color": "#C0C0C0"
         },
         "mode": "lines+markers",
         "name": "Unchanged",
         "showlegend": false,
         "type": "scattergl",
         "x": [
          "2021-05-01T00:00:00",
          "2021-06-01T00:00:00"
         ],
         "y": [
          "0",
          "0"
         ]
        },
        {
         "hoverinfo": "skip",
         "line": {
          "color": "#C0C0C0"
         },
         "mode": "lines+markers",
         "name": "Unchanged",
         "showlegend": false,
         "type": "scattergl",
         "x": [
          "2021-06-01T00:00:00",
          "2021-07-01T00:00:00"
         ],
         "y": [
          "0",
          "0"
         ]
        },
        {
         "hoverinfo": "skip",
         "line": {
          "color": "#C0C0C0"
         },
         "mode": "lines+markers",
         "name": "Unchanged",
         "showlegend": false,
         "type": "scattergl",
         "x": [
          "2021-07-01T00:00:00",
          "2021-08-01T00:00:00"
         ],
         "y": [
          "0",
          "0"
         ]
        },
        {
         "hoverinfo": "skip",
         "line": {
          "color": "#C0C0C0"
         },
         "mode": "lines+markers",
         "name": "Unchanged",
         "showlegend": false,
         "type": "scattergl",
         "x": [
          "2021-08-01T00:00:00",
          "2021-09-01T00:00:00"
         ],
         "y": [
          "0",
          "0"
         ]
        },
        {
         "hoverinfo": "skip",
         "line": {
          "color": "#C0C0C0"
         },
         "mode": "lines+markers",
         "name": "Unchanged",
         "showlegend": false,
         "type": "scattergl",
         "x": [
          "2021-09-01T00:00:00",
          "2021-10-01T00:00:00"
         ],
         "y": [
          "0",
          "0"
         ]
        },
        {
         "hoverinfo": "skip",
         "line": {
          "color": "#C0C0C0"
         },
         "mode": "lines+markers",
         "name": "Unchanged",
         "showlegend": false,
         "type": "scattergl",
         "x": [
          "2021-10-01T00:00:00",
          "2021-11-01T00:00:00"
         ],
         "y": [
          "0",
          "0"
         ]
        },
        {
         "hoverinfo": "skip",
         "line": {
          "color": "#C0C0C0"
         },
         "mode": "lines+markers",
         "name": "Unchanged",
         "showlegend": false,
         "type": "scattergl",
         "x": [
          "2021-11-01T00:00:00",
          "2021-12-01T00:00:00"
         ],
         "y": [
          "0",
          "0"
         ]
        },
        {
         "hoverinfo": "skip",
         "line": {
          "color": "#C0C0C0"
         },
         "mode": "lines+markers",
         "name": "Unchanged",
         "showlegend": false,
         "type": "scattergl",
         "x": [
          "2021-12-01T00:00:00",
          "2022-01-01T00:00:00"
         ],
         "y": [
          "0",
          "0"
         ]
        },
        {
         "hoverinfo": "skip",
         "line": {
          "color": "#C0C0C0"
         },
         "mode": "lines+markers",
         "name": "Unchanged",
         "showlegend": false,
         "type": "scattergl",
         "x": [
          "2022-01-01T00:00:00",
          "2022-02-01T00:00:00"
         ],
         "y": [
          "0",
          "0"
         ]
        },
        {
         "hoverinfo": "skip",
         "line": {
          "color": "#C0C0C0"
         },
         "mode": "lines+markers",
         "name": "Unchanged",
         "showlegend": false,
         "type": "scattergl",
         "x": [
          "2022-02-01T00:00:00",
          "2022-03-01T00:00:00"
         ],
         "y": [
          "0",
          "0"
         ]
        },
        {
         "hoverinfo": "skip",
         "line": {
          "color": "#C0C0C0"
         },
         "mode": "lines+markers",
         "name": "Unchanged",
         "showlegend": false,
         "type": "scattergl",
         "x": [
          "2022-03-01T00:00:00",
          "2022-04-01T00:00:00"
         ],
         "y": [
          "0",
          "0"
         ]
        },
        {
         "hoverinfo": "skip",
         "line": {
          "color": "#C0C0C0"
         },
         "mode": "lines+markers",
         "name": "Unchanged",
         "showlegend": false,
         "type": "scattergl",
         "x": [
          "2022-04-01T00:00:00",
          "2022-05-01T00:00:00"
         ],
         "y": [
          "0",
          "0"
         ]
        },
        {
         "hoverinfo": "skip",
         "line": {
          "color": "#C0C0C0"
         },
         "mode": "lines+markers",
         "name": "Unchanged",
         "showlegend": false,
         "type": "scattergl",
         "x": [
          "2022-05-01T00:00:00",
          "2022-06-01T00:00:00"
         ],
         "y": [
          "0",
          "0"
         ]
        },
        {
         "hoverinfo": "skip",
         "line": {
          "color": "#C0C0C0"
         },
         "mode": "lines+markers",
         "name": "Unchanged",
         "showlegend": false,
         "type": "scattergl",
         "x": [
          "2022-06-01T00:00:00",
          "2022-07-01T00:00:00"
         ],
         "y": [
          "0",
          "0"
         ]
        },
        {
         "hoverinfo": "skip",
         "line": {
          "color": "#C0C0C0"
         },
         "mode": "lines+markers",
         "name": "Unchanged",
         "showlegend": false,
         "type": "scattergl",
         "x": [
          "2022-07-01T00:00:00",
          "2022-08-01T00:00:00"
         ],
         "y": [
          "0",
          "0"
         ]
        },
        {
         "hoverinfo": "skip",
         "line": {
          "color": "#C0C0C0"
         },
         "mode": "lines+markers",
         "name": "Unchanged",
         "showlegend": false,
         "type": "scattergl",
         "x": [
          "2022-08-01T00:00:00",
          "2022-09-01T00:00:00"
         ],
         "y": [
          "0",
          "0"
         ]
        },
        {
         "hoverinfo": "skip",
         "line": {
          "color": "#C0C0C0"
         },
         "mode": "lines+markers",
         "name": "Unchanged",
         "showlegend": false,
         "type": "scattergl",
         "x": [
          "2022-09-01T00:00:00",
          "2022-10-01T00:00:00"
         ],
         "y": [
          "0",
          "0"
         ]
        },
        {
         "hoverinfo": "skip",
         "line": {
          "color": "#C0C0C0"
         },
         "mode": "lines+markers",
         "name": "Unchanged",
         "showlegend": false,
         "type": "scattergl",
         "x": [
          "2022-10-01T00:00:00",
          "2022-11-01T00:00:00"
         ],
         "y": [
          "0",
          "0"
         ]
        },
        {
         "hoverinfo": "skip",
         "line": {
          "color": "#C0C0C0"
         },
         "mode": "lines+markers",
         "name": "Unchanged",
         "showlegend": false,
         "type": "scattergl",
         "x": [
          "2022-11-01T00:00:00",
          "2022-12-01T00:00:00"
         ],
         "y": [
          "0",
          "0"
         ]
        },
        {
         "hoverinfo": "skip",
         "line": {
          "color": "#C0C0C0"
         },
         "mode": "lines+markers",
         "name": "Unchanged",
         "showlegend": false,
         "type": "scattergl",
         "x": [
          "2022-12-01T00:00:00",
          "2023-01-01T00:00:00"
         ],
         "y": [
          "0",
          "0"
         ]
        },
        {
         "hoverinfo": "skip",
         "line": {
          "color": "#C0C0C0"
         },
         "mode": "lines+markers",
         "name": "Unchanged",
         "showlegend": false,
         "type": "scattergl",
         "x": [
          "2023-01-01T00:00:00",
          "2023-02-01T00:00:00"
         ],
         "y": [
          "0",
          "0"
         ]
        },
        {
         "hoverinfo": "skip",
         "line": {
          "color": "#C0C0C0"
         },
         "mode": "lines+markers",
         "name": "Unchanged",
         "showlegend": false,
         "type": "scattergl",
         "x": [
          "2023-02-01T00:00:00",
          "2023-03-01T00:00:00"
         ],
         "y": [
          "0",
          "0"
         ]
        },
        {
         "hoverinfo": "skip",
         "line": {
          "color": "#C0C0C0"
         },
         "mode": "lines+markers",
         "name": "Unchanged",
         "showlegend": false,
         "type": "scattergl",
         "x": [
          "2023-03-01T00:00:00",
          "2023-04-01T00:00:00"
         ],
         "y": [
          "0",
          "0"
         ]
        },
        {
         "hoverinfo": "skip",
         "line": {
          "color": "#C0C0C0"
         },
         "mode": "lines+markers",
         "name": "Unchanged",
         "showlegend": false,
         "type": "scattergl",
         "x": [
          "2023-04-01T00:00:00",
          "2023-05-01T00:00:00"
         ],
         "y": [
          "0",
          "0"
         ]
        },
        {
         "hoverinfo": "skip",
         "line": {
          "color": "#C0C0C0"
         },
         "mode": "lines+markers",
         "name": "Unchanged",
         "showlegend": false,
         "type": "scattergl",
         "x": [
          "2023-05-01T00:00:00",
          "2023-06-01T00:00:00"
         ],
         "y": [
          "0",
          "0"
         ]
        },
        {
         "hoverinfo": "skip",
         "line": {
          "color": "#C0C0C0"
         },
         "mode": "lines+markers",
         "name": "Unchanged",
         "showlegend": false,
         "type": "scattergl",
         "x": [
          "2023-06-01T00:00:00",
          "2023-07-01T00:00:00"
         ],
         "y": [
          "0",
          "0"
         ]
        },
        {
         "hoverinfo": "skip",
         "line": {
          "color": "#C0C0C0"
         },
         "mode": "lines+markers",
         "name": "Unchanged",
         "showlegend": false,
         "type": "scattergl",
         "x": [
          "2023-07-01T00:00:00",
          "2023-08-01T00:00:00"
         ],
         "y": [
          "0",
          "0"
         ]
        },
        {
         "hoverinfo": "skip",
         "line": {
          "color": "#C0C0C0"
         },
         "mode": "lines+markers",
         "name": "Unchanged",
         "showlegend": false,
         "type": "scattergl",
         "x": [
          "2023-08-01T00:00:00",
          "2023-09-01T00:00:00"
         ],
         "y": [
          "0",
          "0"
         ]
        },
        {
         "hoverinfo": "skip",
         "line": {
          "color": "#C0C0C0"
         },
         "mode": "lines+markers",
         "name": "Unchanged",
         "showlegend": false,
         "type": "scattergl",
         "x": [
          "2023-09-01T00:00:00",
          "2023-10-01T00:00:00"
         ],
         "y": [
          "0",
          "0"
         ]
        },
        {
         "hoverinfo": "skip",
         "line": {
          "color": "#C0C0C0"
         },
         "mode": "lines+markers",
         "name": "Unchanged",
         "showlegend": false,
         "type": "scattergl",
         "x": [
          "2023-10-01T00:00:00",
          "2023-11-01T00:00:00"
         ],
         "y": [
          "0",
          "0"
         ]
        },
        {
         "hoverinfo": "skip",
         "line": {
          "color": "#C0C0C0"
         },
         "mode": "lines+markers",
         "name": "Unchanged",
         "showlegend": false,
         "type": "scattergl",
         "x": [
          "2023-11-01T00:00:00",
          "2023-12-01T00:00:00"
         ],
         "y": [
          "0",
          "0"
         ]
        },
        {
         "hoverinfo": "skip",
         "line": {
          "color": "#C0C0C0"
         },
         "mode": "lines+markers",
         "name": "Unchanged",
         "showlegend": false,
         "type": "scattergl",
         "x": [
          "2023-12-01T00:00:00",
          "2024-01-01T00:00:00"
         ],
         "y": [
          "0",
          "0"
         ]
        },
        {
         "hoverinfo": "skip",
         "line": {
          "color": "#C0C0C0"
         },
         "mode": "lines+markers",
         "name": "Unchanged",
         "showlegend": false,
         "type": "scattergl",
         "x": [
          "2024-01-01T00:00:00",
          "2024-02-01T00:00:00"
         ],
         "y": [
          "0",
          "0"
         ]
        },
        {
         "hoverinfo": "skip",
         "line": {
          "color": "#C0C0C0"
         },
         "mode": "lines+markers",
         "name": "Unchanged",
         "showlegend": false,
         "type": "scattergl",
         "x": [
          "2024-02-01T00:00:00",
          "2024-03-01T00:00:00"
         ],
         "y": [
          "0",
          "0"
         ]
        },
        {
         "hoverinfo": "skip",
         "line": {
          "color": "#C0C0C0"
         },
         "mode": "lines+markers",
         "name": "Unchanged",
         "showlegend": false,
         "type": "scattergl",
         "x": [
          "2024-03-01T00:00:00",
          "2024-04-01T00:00:00"
         ],
         "y": [
          "0",
          "0"
         ]
        },
        {
         "hoverinfo": "skip",
         "line": {
          "color": "#C0C0C0"
         },
         "mode": "lines+markers",
         "name": "Unchanged",
         "showlegend": false,
         "type": "scattergl",
         "x": [
          "2024-04-01T00:00:00",
          "2024-05-01T00:00:00"
         ],
         "y": [
          "0",
          "0"
         ]
        },
        {
         "hoverinfo": "skip",
         "line": {
          "color": "#1f77b4"
         },
         "mode": "lines+markers",
         "name": "Train",
         "showlegend": false,
         "type": "scattergl",
         "x": [
          "2020-01-01T00:00:00",
          "2020-02-01T00:00:00"
         ],
         "y": [
          "0",
          "0"
         ]
        },
        {
         "hoverinfo": "skip",
         "line": {
          "color": "#1f77b4"
         },
         "mode": "lines+markers",
         "name": "Train",
         "showlegend": false,
         "type": "scattergl",
         "x": [
          "2020-02-01T00:00:00",
          "2020-03-01T00:00:00"
         ],
         "y": [
          "0",
          "0"
         ]
        },
        {
         "hoverinfo": "skip",
         "line": {
          "color": "#1f77b4"
         },
         "mode": "lines+markers",
         "name": "Train",
         "showlegend": false,
         "type": "scattergl",
         "x": [
          "2020-03-01T00:00:00",
          "2020-04-01T00:00:00"
         ],
         "y": [
          "0",
          "0"
         ]
        },
        {
         "hoverinfo": "skip",
         "line": {
          "color": "#1f77b4"
         },
         "mode": "lines+markers",
         "name": "Train",
         "showlegend": false,
         "type": "scattergl",
         "x": [
          "2020-04-01T00:00:00",
          "2020-05-01T00:00:00"
         ],
         "y": [
          "0",
          "0"
         ]
        },
        {
         "hoverinfo": "skip",
         "line": {
          "color": "#1f77b4"
         },
         "mode": "lines+markers",
         "name": "Train",
         "showlegend": false,
         "type": "scattergl",
         "x": [
          "2020-05-01T00:00:00",
          "2020-06-01T00:00:00"
         ],
         "y": [
          "0",
          "0"
         ]
        },
        {
         "hoverinfo": "skip",
         "line": {
          "color": "#1f77b4"
         },
         "mode": "lines+markers",
         "name": "Train",
         "showlegend": false,
         "type": "scattergl",
         "x": [
          "2020-06-01T00:00:00",
          "2020-07-01T00:00:00"
         ],
         "y": [
          "0",
          "0"
         ]
        },
        {
         "hoverinfo": "skip",
         "line": {
          "color": "#1f77b4"
         },
         "mode": "lines+markers",
         "name": "Train",
         "showlegend": false,
         "type": "scattergl",
         "x": [
          "2020-07-01T00:00:00",
          "2020-08-01T00:00:00"
         ],
         "y": [
          "0",
          "0"
         ]
        },
        {
         "hoverinfo": "skip",
         "line": {
          "color": "#1f77b4"
         },
         "mode": "lines+markers",
         "name": "Train",
         "showlegend": false,
         "type": "scattergl",
         "x": [
          "2020-08-01T00:00:00",
          "2020-09-01T00:00:00"
         ],
         "y": [
          "0",
          "0"
         ]
        },
        {
         "hoverinfo": "skip",
         "line": {
          "color": "#1f77b4"
         },
         "mode": "lines+markers",
         "name": "Train",
         "showlegend": false,
         "type": "scattergl",
         "x": [
          "2020-09-01T00:00:00",
          "2020-10-01T00:00:00"
         ],
         "y": [
          "0",
          "0"
         ]
        },
        {
         "hoverinfo": "skip",
         "line": {
          "color": "#1f77b4"
         },
         "mode": "lines+markers",
         "name": "Train",
         "showlegend": false,
         "type": "scattergl",
         "x": [
          "2020-10-01T00:00:00",
          "2020-11-01T00:00:00"
         ],
         "y": [
          "0",
          "0"
         ]
        },
        {
         "hoverinfo": "skip",
         "line": {
          "color": "#1f77b4"
         },
         "mode": "lines+markers",
         "name": "Train",
         "showlegend": false,
         "type": "scattergl",
         "x": [
          "2020-11-01T00:00:00",
          "2020-12-01T00:00:00"
         ],
         "y": [
          "0",
          "0"
         ]
        },
        {
         "hoverinfo": "skip",
         "line": {
          "color": "#1f77b4"
         },
         "mode": "lines+markers",
         "name": "Train",
         "showlegend": false,
         "type": "scattergl",
         "x": [
          "2020-12-01T00:00:00",
          "2021-01-01T00:00:00"
         ],
         "y": [
          "0",
          "0"
         ]
        },
        {
         "hoverinfo": "skip",
         "line": {
          "color": "#1f77b4"
         },
         "mode": "lines+markers",
         "name": "Train",
         "showlegend": false,
         "type": "scattergl",
         "x": [
          "2021-01-01T00:00:00",
          "2021-02-01T00:00:00"
         ],
         "y": [
          "0",
          "0"
         ]
        },
        {
         "hoverinfo": "skip",
         "line": {
          "color": "#1f77b4"
         },
         "mode": "lines+markers",
         "name": "Train",
         "showlegend": false,
         "type": "scattergl",
         "x": [
          "2021-02-01T00:00:00",
          "2021-03-01T00:00:00"
         ],
         "y": [
          "0",
          "0"
         ]
        },
        {
         "hoverinfo": "skip",
         "line": {
          "color": "#1f77b4"
         },
         "mode": "lines+markers",
         "name": "Train",
         "showlegend": false,
         "type": "scattergl",
         "x": [
          "2021-03-01T00:00:00",
          "2021-04-01T00:00:00"
         ],
         "y": [
          "0",
          "0"
         ]
        },
        {
         "hoverinfo": "skip",
         "line": {
          "color": "#1f77b4"
         },
         "mode": "lines+markers",
         "name": "Train",
         "showlegend": false,
         "type": "scattergl",
         "x": [
          "2021-04-01T00:00:00",
          "2021-05-01T00:00:00"
         ],
         "y": [
          "0",
          "0"
         ]
        },
        {
         "hoverinfo": "skip",
         "line": {
          "color": "#1f77b4"
         },
         "mode": "lines+markers",
         "name": "Train",
         "showlegend": false,
         "type": "scattergl",
         "x": [
          "2021-05-01T00:00:00",
          "2021-06-01T00:00:00"
         ],
         "y": [
          "0",
          "0"
         ]
        },
        {
         "hoverinfo": "skip",
         "line": {
          "color": "#1f77b4"
         },
         "mode": "lines+markers",
         "name": "Train",
         "showlegend": false,
         "type": "scattergl",
         "x": [
          "2021-06-01T00:00:00",
          "2021-07-01T00:00:00"
         ],
         "y": [
          "0",
          "0"
         ]
        },
        {
         "hoverinfo": "skip",
         "line": {
          "color": "#1f77b4"
         },
         "mode": "lines+markers",
         "name": "Train",
         "showlegend": false,
         "type": "scattergl",
         "x": [
          "2021-07-01T00:00:00",
          "2021-08-01T00:00:00"
         ],
         "y": [
          "0",
          "0"
         ]
        },
        {
         "hoverinfo": "skip",
         "line": {
          "color": "#1f77b4"
         },
         "mode": "lines+markers",
         "name": "Train",
         "showlegend": false,
         "type": "scattergl",
         "x": [
          "2021-08-01T00:00:00",
          "2021-09-01T00:00:00"
         ],
         "y": [
          "0",
          "0"
         ]
        },
        {
         "hoverinfo": "skip",
         "line": {
          "color": "#1f77b4"
         },
         "mode": "lines+markers",
         "name": "Train",
         "showlegend": false,
         "type": "scattergl",
         "x": [
          "2021-09-01T00:00:00",
          "2021-10-01T00:00:00"
         ],
         "y": [
          "0",
          "0"
         ]
        },
        {
         "hoverinfo": "skip",
         "line": {
          "color": "#1f77b4"
         },
         "mode": "lines+markers",
         "name": "Train",
         "showlegend": false,
         "type": "scattergl",
         "x": [
          "2021-10-01T00:00:00",
          "2021-11-01T00:00:00"
         ],
         "y": [
          "0",
          "0"
         ]
        },
        {
         "hoverinfo": "skip",
         "line": {
          "color": "#1f77b4"
         },
         "mode": "lines+markers",
         "name": "Train",
         "showlegend": false,
         "type": "scattergl",
         "x": [
          "2021-11-01T00:00:00",
          "2021-12-01T00:00:00"
         ],
         "y": [
          "0",
          "0"
         ]
        },
        {
         "hoverinfo": "skip",
         "line": {
          "color": "#1f77b4"
         },
         "mode": "lines+markers",
         "name": "Train",
         "showlegend": false,
         "type": "scattergl",
         "x": [
          "2021-12-01T00:00:00",
          "2022-01-01T00:00:00"
         ],
         "y": [
          "0",
          "0"
         ]
        },
        {
         "hoverinfo": "skip",
         "line": {
          "color": "#1f77b4"
         },
         "mode": "lines+markers",
         "name": "Train",
         "showlegend": false,
         "type": "scattergl",
         "x": [
          "2022-01-01T00:00:00",
          "2022-02-01T00:00:00"
         ],
         "y": [
          "0",
          "0"
         ]
        },
        {
         "hoverinfo": "skip",
         "line": {
          "color": "#1f77b4"
         },
         "mode": "lines+markers",
         "name": "Train",
         "showlegend": false,
         "type": "scattergl",
         "x": [
          "2022-02-01T00:00:00",
          "2022-03-01T00:00:00"
         ],
         "y": [
          "0",
          "0"
         ]
        },
        {
         "hoverinfo": "skip",
         "line": {
          "color": "#1f77b4"
         },
         "mode": "lines+markers",
         "name": "Train",
         "showlegend": false,
         "type": "scattergl",
         "x": [
          "2022-03-01T00:00:00",
          "2022-04-01T00:00:00"
         ],
         "y": [
          "0",
          "0"
         ]
        },
        {
         "hoverinfo": "skip",
         "line": {
          "color": "#1f77b4"
         },
         "mode": "lines+markers",
         "name": "Train",
         "showlegend": false,
         "type": "scattergl",
         "x": [
          "2022-04-01T00:00:00",
          "2022-05-01T00:00:00"
         ],
         "y": [
          "0",
          "0"
         ]
        },
        {
         "hoverinfo": "skip",
         "line": {
          "color": "#1f77b4"
         },
         "mode": "lines+markers",
         "name": "Train",
         "showlegend": false,
         "type": "scattergl",
         "x": [
          "2022-05-01T00:00:00",
          "2022-06-01T00:00:00"
         ],
         "y": [
          "0",
          "0"
         ]
        },
        {
         "hoverinfo": "skip",
         "line": {
          "color": "#1f77b4"
         },
         "mode": "lines+markers",
         "name": "Train",
         "showlegend": false,
         "type": "scattergl",
         "x": [
          "2022-06-01T00:00:00",
          "2022-07-01T00:00:00"
         ],
         "y": [
          "0",
          "0"
         ]
        },
        {
         "hoverinfo": "skip",
         "line": {
          "color": "#1f77b4"
         },
         "mode": "lines+markers",
         "name": "Train",
         "showlegend": false,
         "type": "scattergl",
         "x": [
          "2022-07-01T00:00:00",
          "2022-08-01T00:00:00"
         ],
         "y": [
          "0",
          "0"
         ]
        },
        {
         "hoverinfo": "skip",
         "line": {
          "color": "#1f77b4"
         },
         "mode": "lines+markers",
         "name": "Train",
         "showlegend": false,
         "type": "scattergl",
         "x": [
          "2022-08-01T00:00:00",
          "2022-09-01T00:00:00"
         ],
         "y": [
          "0",
          "0"
         ]
        },
        {
         "hoverinfo": "skip",
         "line": {
          "color": "#1f77b4"
         },
         "mode": "lines+markers",
         "name": "Train",
         "showlegend": false,
         "type": "scattergl",
         "x": [
          "2022-09-01T00:00:00",
          "2022-10-01T00:00:00"
         ],
         "y": [
          "0",
          "0"
         ]
        },
        {
         "hoverinfo": "skip",
         "line": {
          "color": "#1f77b4"
         },
         "mode": "lines+markers",
         "name": "Train",
         "showlegend": false,
         "type": "scattergl",
         "x": [
          "2022-10-01T00:00:00",
          "2022-11-01T00:00:00"
         ],
         "y": [
          "0",
          "0"
         ]
        },
        {
         "hoverinfo": "skip",
         "line": {
          "color": "#1f77b4"
         },
         "mode": "lines+markers",
         "name": "Train",
         "showlegend": false,
         "type": "scattergl",
         "x": [
          "2022-11-01T00:00:00",
          "2022-12-01T00:00:00"
         ],
         "y": [
          "0",
          "0"
         ]
        },
        {
         "hoverinfo": "skip",
         "line": {
          "color": "#1f77b4"
         },
         "mode": "lines+markers",
         "name": "Train",
         "showlegend": false,
         "type": "scattergl",
         "x": [
          "2022-12-01T00:00:00",
          "2023-01-01T00:00:00"
         ],
         "y": [
          "0",
          "0"
         ]
        },
        {
         "hoverinfo": "skip",
         "line": {
          "color": "#1f77b4"
         },
         "mode": "lines+markers",
         "name": "Train",
         "showlegend": false,
         "type": "scattergl",
         "x": [
          "2023-01-01T00:00:00",
          "2023-02-01T00:00:00"
         ],
         "y": [
          "0",
          "0"
         ]
        },
        {
         "hoverinfo": "skip",
         "line": {
          "color": "#1f77b4"
         },
         "mode": "lines+markers",
         "name": "Train",
         "showlegend": false,
         "type": "scattergl",
         "x": [
          "2023-02-01T00:00:00",
          "2023-03-01T00:00:00"
         ],
         "y": [
          "0",
          "0"
         ]
        },
        {
         "hoverinfo": "skip",
         "line": {
          "color": "#1f77b4"
         },
         "mode": "lines+markers",
         "name": "Train",
         "showlegend": false,
         "type": "scattergl",
         "x": [
          "2023-03-01T00:00:00",
          "2023-04-01T00:00:00"
         ],
         "y": [
          "0",
          "0"
         ]
        },
        {
         "hoverinfo": "skip",
         "line": {
          "color": "#1f77b4"
         },
         "mode": "lines+markers",
         "name": "Train",
         "showlegend": false,
         "type": "scattergl",
         "x": [
          "2023-04-01T00:00:00",
          "2023-05-01T00:00:00"
         ],
         "y": [
          "0",
          "0"
         ]
        },
        {
         "hoverinfo": "skip",
         "line": {
          "color": "#DE970B"
         },
         "mode": "lines+markers",
         "name": "ForecastHorizon",
         "showlegend": false,
         "type": "scattergl",
         "x": [
          "2023-06-01T00:00:00",
          "2023-07-01T00:00:00"
         ],
         "y": [
          "0",
          "0"
         ]
        },
        {
         "hoverinfo": "skip",
         "line": {
          "color": "#DE970B"
         },
         "mode": "lines+markers",
         "name": "ForecastHorizon",
         "showlegend": false,
         "type": "scattergl",
         "x": [
          "2023-07-01T00:00:00",
          "2023-08-01T00:00:00"
         ],
         "y": [
          "0",
          "0"
         ]
        },
        {
         "hoverinfo": "skip",
         "line": {
          "color": "#DE970B"
         },
         "mode": "lines+markers",
         "name": "ForecastHorizon",
         "showlegend": false,
         "type": "scattergl",
         "x": [
          "2023-08-01T00:00:00",
          "2023-09-01T00:00:00"
         ],
         "y": [
          "0",
          "0"
         ]
        }
       ],
       "layout": {
        "showlegend": true,
        "template": {
         "data": {
          "bar": [
           {
            "error_x": {
             "color": "rgb(51,51,51)"
            },
            "error_y": {
             "color": "rgb(51,51,51)"
            },
            "marker": {
             "line": {
              "color": "rgb(237,237,237)",
              "width": 0.5
             },
             "pattern": {
              "fillmode": "overlay",
              "size": 10,
              "solidity": 0.2
             }
            },
            "type": "bar"
           }
          ],
          "barpolar": [
           {
            "marker": {
             "line": {
              "color": "rgb(237,237,237)",
              "width": 0.5
             },
             "pattern": {
              "fillmode": "overlay",
              "size": 10,
              "solidity": 0.2
             }
            },
            "type": "barpolar"
           }
          ],
          "carpet": [
           {
            "aaxis": {
             "endlinecolor": "rgb(51,51,51)",
             "gridcolor": "white",
             "linecolor": "white",
             "minorgridcolor": "white",
             "startlinecolor": "rgb(51,51,51)"
            },
            "baxis": {
             "endlinecolor": "rgb(51,51,51)",
             "gridcolor": "white",
             "linecolor": "white",
             "minorgridcolor": "white",
             "startlinecolor": "rgb(51,51,51)"
            },
            "type": "carpet"
           }
          ],
          "choropleth": [
           {
            "colorbar": {
             "outlinewidth": 0,
             "tickcolor": "rgb(237,237,237)",
             "ticklen": 6,
             "ticks": "inside"
            },
            "type": "choropleth"
           }
          ],
          "contour": [
           {
            "colorbar": {
             "outlinewidth": 0,
             "tickcolor": "rgb(237,237,237)",
             "ticklen": 6,
             "ticks": "inside"
            },
            "colorscale": [
             [
              0,
              "rgb(20,44,66)"
             ],
             [
              1,
              "rgb(90,179,244)"
             ]
            ],
            "type": "contour"
           }
          ],
          "contourcarpet": [
           {
            "colorbar": {
             "outlinewidth": 0,
             "tickcolor": "rgb(237,237,237)",
             "ticklen": 6,
             "ticks": "inside"
            },
            "type": "contourcarpet"
           }
          ],
          "heatmap": [
           {
            "colorbar": {
             "outlinewidth": 0,
             "tickcolor": "rgb(237,237,237)",
             "ticklen": 6,
             "ticks": "inside"
            },
            "colorscale": [
             [
              0,
              "rgb(20,44,66)"
             ],
             [
              1,
              "rgb(90,179,244)"
             ]
            ],
            "type": "heatmap"
           }
          ],
          "heatmapgl": [
           {
            "colorbar": {
             "outlinewidth": 0,
             "tickcolor": "rgb(237,237,237)",
             "ticklen": 6,
             "ticks": "inside"
            },
            "colorscale": [
             [
              0,
              "rgb(20,44,66)"
             ],
             [
              1,
              "rgb(90,179,244)"
             ]
            ],
            "type": "heatmapgl"
           }
          ],
          "histogram": [
           {
            "marker": {
             "pattern": {
              "fillmode": "overlay",
              "size": 10,
              "solidity": 0.2
             }
            },
            "type": "histogram"
           }
          ],
          "histogram2d": [
           {
            "colorbar": {
             "outlinewidth": 0,
             "tickcolor": "rgb(237,237,237)",
             "ticklen": 6,
             "ticks": "inside"
            },
            "colorscale": [
             [
              0,
              "rgb(20,44,66)"
             ],
             [
              1,
              "rgb(90,179,244)"
             ]
            ],
            "type": "histogram2d"
           }
          ],
          "histogram2dcontour": [
           {
            "colorbar": {
             "outlinewidth": 0,
             "tickcolor": "rgb(237,237,237)",
             "ticklen": 6,
             "ticks": "inside"
            },
            "colorscale": [
             [
              0,
              "rgb(20,44,66)"
             ],
             [
              1,
              "rgb(90,179,244)"
             ]
            ],
            "type": "histogram2dcontour"
           }
          ],
          "mesh3d": [
           {
            "colorbar": {
             "outlinewidth": 0,
             "tickcolor": "rgb(237,237,237)",
             "ticklen": 6,
             "ticks": "inside"
            },
            "type": "mesh3d"
           }
          ],
          "parcoords": [
           {
            "line": {
             "colorbar": {
              "outlinewidth": 0,
              "tickcolor": "rgb(237,237,237)",
              "ticklen": 6,
              "ticks": "inside"
             }
            },
            "type": "parcoords"
           }
          ],
          "pie": [
           {
            "automargin": true,
            "type": "pie"
           }
          ],
          "scatter": [
           {
            "fillpattern": {
             "fillmode": "overlay",
             "size": 10,
             "solidity": 0.2
            },
            "type": "scatter"
           }
          ],
          "scatter3d": [
           {
            "line": {
             "colorbar": {
              "outlinewidth": 0,
              "tickcolor": "rgb(237,237,237)",
              "ticklen": 6,
              "ticks": "inside"
             }
            },
            "marker": {
             "colorbar": {
              "outlinewidth": 0,
              "tickcolor": "rgb(237,237,237)",
              "ticklen": 6,
              "ticks": "inside"
             }
            },
            "type": "scatter3d"
           }
          ],
          "scattercarpet": [
           {
            "marker": {
             "colorbar": {
              "outlinewidth": 0,
              "tickcolor": "rgb(237,237,237)",
              "ticklen": 6,
              "ticks": "inside"
             }
            },
            "type": "scattercarpet"
           }
          ],
          "scattergeo": [
           {
            "marker": {
             "colorbar": {
              "outlinewidth": 0,
              "tickcolor": "rgb(237,237,237)",
              "ticklen": 6,
              "ticks": "inside"
             }
            },
            "type": "scattergeo"
           }
          ],
          "scattergl": [
           {
            "marker": {
             "colorbar": {
              "outlinewidth": 0,
              "tickcolor": "rgb(237,237,237)",
              "ticklen": 6,
              "ticks": "inside"
             }
            },
            "type": "scattergl"
           }
          ],
          "scattermapbox": [
           {
            "marker": {
             "colorbar": {
              "outlinewidth": 0,
              "tickcolor": "rgb(237,237,237)",
              "ticklen": 6,
              "ticks": "inside"
             }
            },
            "type": "scattermapbox"
           }
          ],
          "scatterpolar": [
           {
            "marker": {
             "colorbar": {
              "outlinewidth": 0,
              "tickcolor": "rgb(237,237,237)",
              "ticklen": 6,
              "ticks": "inside"
             }
            },
            "type": "scatterpolar"
           }
          ],
          "scatterpolargl": [
           {
            "marker": {
             "colorbar": {
              "outlinewidth": 0,
              "tickcolor": "rgb(237,237,237)",
              "ticklen": 6,
              "ticks": "inside"
             }
            },
            "type": "scatterpolargl"
           }
          ],
          "scatterternary": [
           {
            "marker": {
             "colorbar": {
              "outlinewidth": 0,
              "tickcolor": "rgb(237,237,237)",
              "ticklen": 6,
              "ticks": "inside"
             }
            },
            "type": "scatterternary"
           }
          ],
          "surface": [
           {
            "colorbar": {
             "outlinewidth": 0,
             "tickcolor": "rgb(237,237,237)",
             "ticklen": 6,
             "ticks": "inside"
            },
            "colorscale": [
             [
              0,
              "rgb(20,44,66)"
             ],
             [
              1,
              "rgb(90,179,244)"
             ]
            ],
            "type": "surface"
           }
          ],
          "table": [
           {
            "cells": {
             "fill": {
              "color": "rgb(237,237,237)"
             },
             "line": {
              "color": "white"
             }
            },
            "header": {
             "fill": {
              "color": "rgb(217,217,217)"
             },
             "line": {
              "color": "white"
             }
            },
            "type": "table"
           }
          ]
         },
         "layout": {
          "annotationdefaults": {
           "arrowhead": 0,
           "arrowwidth": 1
          },
          "autotypenumbers": "strict",
          "coloraxis": {
           "colorbar": {
            "outlinewidth": 0,
            "tickcolor": "rgb(237,237,237)",
            "ticklen": 6,
            "ticks": "inside"
           }
          },
          "colorscale": {
           "sequential": [
            [
             0,
             "rgb(20,44,66)"
            ],
            [
             1,
             "rgb(90,179,244)"
            ]
           ],
           "sequentialminus": [
            [
             0,
             "rgb(20,44,66)"
            ],
            [
             1,
             "rgb(90,179,244)"
            ]
           ]
          },
          "colorway": [
           "#F8766D",
           "#A3A500",
           "#00BF7D",
           "#00B0F6",
           "#E76BF3"
          ],
          "font": {
           "color": "rgb(51,51,51)"
          },
          "geo": {
           "bgcolor": "white",
           "lakecolor": "white",
           "landcolor": "rgb(237,237,237)",
           "showlakes": true,
           "showland": true,
           "subunitcolor": "white"
          },
          "hoverlabel": {
           "align": "left"
          },
          "hovermode": "closest",
          "paper_bgcolor": "white",
          "plot_bgcolor": "rgb(237,237,237)",
          "polar": {
           "angularaxis": {
            "gridcolor": "white",
            "linecolor": "white",
            "showgrid": true,
            "tickcolor": "rgb(51,51,51)",
            "ticks": "outside"
           },
           "bgcolor": "rgb(237,237,237)",
           "radialaxis": {
            "gridcolor": "white",
            "linecolor": "white",
            "showgrid": true,
            "tickcolor": "rgb(51,51,51)",
            "ticks": "outside"
           }
          },
          "scene": {
           "xaxis": {
            "backgroundcolor": "rgb(237,237,237)",
            "gridcolor": "white",
            "gridwidth": 2,
            "linecolor": "white",
            "showbackground": true,
            "showgrid": true,
            "tickcolor": "rgb(51,51,51)",
            "ticks": "outside",
            "zerolinecolor": "white"
           },
           "yaxis": {
            "backgroundcolor": "rgb(237,237,237)",
            "gridcolor": "white",
            "gridwidth": 2,
            "linecolor": "white",
            "showbackground": true,
            "showgrid": true,
            "tickcolor": "rgb(51,51,51)",
            "ticks": "outside",
            "zerolinecolor": "white"
           },
           "zaxis": {
            "backgroundcolor": "rgb(237,237,237)",
            "gridcolor": "white",
            "gridwidth": 2,
            "linecolor": "white",
            "showbackground": true,
            "showgrid": true,
            "tickcolor": "rgb(51,51,51)",
            "ticks": "outside",
            "zerolinecolor": "white"
           }
          },
          "shapedefaults": {
           "fillcolor": "black",
           "line": {
            "width": 0
           },
           "opacity": 0.3
          },
          "ternary": {
           "aaxis": {
            "gridcolor": "white",
            "linecolor": "white",
            "showgrid": true,
            "tickcolor": "rgb(51,51,51)",
            "ticks": "outside"
           },
           "baxis": {
            "gridcolor": "white",
            "linecolor": "white",
            "showgrid": true,
            "tickcolor": "rgb(51,51,51)",
            "ticks": "outside"
           },
           "bgcolor": "rgb(237,237,237)",
           "caxis": {
            "gridcolor": "white",
            "linecolor": "white",
            "showgrid": true,
            "tickcolor": "rgb(51,51,51)",
            "ticks": "outside"
           }
          },
          "xaxis": {
           "automargin": true,
           "gridcolor": "white",
           "linecolor": "white",
           "showgrid": true,
           "tickcolor": "rgb(51,51,51)",
           "ticks": "outside",
           "title": {
            "standoff": 15
           },
           "zerolinecolor": "white"
          },
          "yaxis": {
           "automargin": true,
           "gridcolor": "white",
           "linecolor": "white",
           "showgrid": true,
           "tickcolor": "rgb(51,51,51)",
           "ticks": "outside",
           "title": {
            "standoff": 15
           },
           "zerolinecolor": "white"
          }
         }
        },
        "title": {
         "text": "Train Cross-Validation Splits"
        },
        "xaxis": {
         "title": {
          "text": "Time"
         },
         "zeroline": false
        },
        "yaxis": {
         "title": {
          "text": "Windows"
         }
        }
       }
      }
     },
     "metadata": {},
     "output_type": "display_data"
    }
   ],
   "source": [
    "#### Check cross-validation setup  ----\n",
    "exp.plot_model(plot=\"cv\")"
   ]
  },
  {
   "cell_type": "code",
   "execution_count": 33,
   "metadata": {},
   "outputs": [
    {
     "data": {
      "application/vnd.plotly.v1+json": {
       "config": {
        "plotlyServerURL": "https://plot.ly"
       },
       "data": [
        {
         "line": {
          "color": "#3f3f3f"
         },
         "marker": {
          "size": 10
         },
         "mode": "lines",
         "name": "ACF",
         "showlegend": false,
         "type": "scattergl",
         "x": [
          0,
          0
         ],
         "xaxis": "x",
         "y": [
          0,
          1
         ],
         "yaxis": "y"
        },
        {
         "line": {
          "color": "#3f3f3f"
         },
         "marker": {
          "size": 10
         },
         "mode": "lines",
         "name": "ACF",
         "showlegend": false,
         "type": "scattergl",
         "x": [
          1,
          1
         ],
         "xaxis": "x",
         "y": [
          0,
          0.5145747070471098
         ],
         "yaxis": "y"
        },
        {
         "line": {
          "color": "#3f3f3f"
         },
         "marker": {
          "size": 10
         },
         "mode": "lines",
         "name": "ACF",
         "showlegend": false,
         "type": "scattergl",
         "x": [
          2,
          2
         ],
         "xaxis": "x",
         "y": [
          0,
          0.20395736050331037
         ],
         "yaxis": "y"
        },
        {
         "line": {
          "color": "#3f3f3f"
         },
         "marker": {
          "size": 10
         },
         "mode": "lines",
         "name": "ACF",
         "showlegend": false,
         "type": "scattergl",
         "x": [
          3,
          3
         ],
         "xaxis": "x",
         "y": [
          0,
          0.15683667649043148
         ],
         "yaxis": "y"
        },
        {
         "line": {
          "color": "#3f3f3f"
         },
         "marker": {
          "size": 10
         },
         "mode": "lines",
         "name": "ACF",
         "showlegend": false,
         "type": "scattergl",
         "x": [
          4,
          4
         ],
         "xaxis": "x",
         "y": [
          0,
          0.018210764338761034
         ],
         "yaxis": "y"
        },
        {
         "line": {
          "color": "#3f3f3f"
         },
         "marker": {
          "size": 10
         },
         "mode": "lines",
         "name": "ACF",
         "showlegend": false,
         "type": "scattergl",
         "x": [
          5,
          5
         ],
         "xaxis": "x",
         "y": [
          0,
          -0.03911045371759495
         ],
         "yaxis": "y"
        },
        {
         "line": {
          "color": "#3f3f3f"
         },
         "marker": {
          "size": 10
         },
         "mode": "lines",
         "name": "ACF",
         "showlegend": false,
         "type": "scattergl",
         "x": [
          6,
          6
         ],
         "xaxis": "x",
         "y": [
          0,
          -0.06077746585508928
         ],
         "yaxis": "y"
        },
        {
         "line": {
          "color": "#3f3f3f"
         },
         "marker": {
          "size": 10
         },
         "mode": "lines",
         "name": "ACF",
         "showlegend": false,
         "type": "scattergl",
         "x": [
          7,
          7
         ],
         "xaxis": "x",
         "y": [
          0,
          -0.04294899166024468
         ],
         "yaxis": "y"
        },
        {
         "line": {
          "color": "#3f3f3f"
         },
         "marker": {
          "size": 10
         },
         "mode": "lines",
         "name": "ACF",
         "showlegend": false,
         "type": "scattergl",
         "x": [
          8,
          8
         ],
         "xaxis": "x",
         "y": [
          0,
          0.00905694592312144
         ],
         "yaxis": "y"
        },
        {
         "line": {
          "color": "#3f3f3f"
         },
         "marker": {
          "size": 10
         },
         "mode": "lines",
         "name": "ACF",
         "showlegend": false,
         "type": "scattergl",
         "x": [
          9,
          9
         ],
         "xaxis": "x",
         "y": [
          0,
          0.014025407706186543
         ],
         "yaxis": "y"
        },
        {
         "line": {
          "color": "#3f3f3f"
         },
         "marker": {
          "size": 10
         },
         "mode": "lines",
         "name": "ACF",
         "showlegend": false,
         "type": "scattergl",
         "x": [
          10,
          10
         ],
         "xaxis": "x",
         "y": [
          0,
          0.2287873412991755
         ],
         "yaxis": "y"
        },
        {
         "line": {
          "color": "#3f3f3f"
         },
         "marker": {
          "size": 10
         },
         "mode": "lines",
         "name": "ACF",
         "showlegend": false,
         "type": "scattergl",
         "x": [
          11,
          11
         ],
         "xaxis": "x",
         "y": [
          0,
          0.31707595015062023
         ],
         "yaxis": "y"
        },
        {
         "line": {
          "color": "#3f3f3f"
         },
         "marker": {
          "size": 10
         },
         "mode": "lines",
         "name": "ACF",
         "showlegend": false,
         "type": "scattergl",
         "x": [
          12,
          12
         ],
         "xaxis": "x",
         "y": [
          0,
          0.21161634765011508
         ],
         "yaxis": "y"
        },
        {
         "line": {
          "color": "#3f3f3f"
         },
         "marker": {
          "size": 10
         },
         "mode": "lines",
         "name": "ACF",
         "showlegend": false,
         "type": "scattergl",
         "x": [
          13,
          13
         ],
         "xaxis": "x",
         "y": [
          0,
          0.18534050666285515
         ],
         "yaxis": "y"
        },
        {
         "line": {
          "color": "#3f3f3f"
         },
         "marker": {
          "size": 10
         },
         "mode": "lines",
         "name": "ACF",
         "showlegend": false,
         "type": "scattergl",
         "x": [
          14,
          14
         ],
         "xaxis": "x",
         "y": [
          0,
          0.043486642014769435
         ],
         "yaxis": "y"
        },
        {
         "line": {
          "color": "#3f3f3f"
         },
         "marker": {
          "size": 10
         },
         "mode": "lines",
         "name": "ACF",
         "showlegend": false,
         "type": "scattergl",
         "x": [
          15,
          15
         ],
         "xaxis": "x",
         "y": [
          0,
          -0.07632337081505533
         ],
         "yaxis": "y"
        },
        {
         "line": {
          "color": "#3f3f3f"
         },
         "marker": {
          "size": 10
         },
         "mode": "lines",
         "name": "ACF",
         "showlegend": false,
         "type": "scattergl",
         "x": [
          16,
          16
         ],
         "xaxis": "x",
         "y": [
          0,
          -0.13194787502634128
         ],
         "yaxis": "y"
        },
        {
         "line": {
          "color": "#3f3f3f"
         },
         "marker": {
          "size": 10
         },
         "mode": "lines",
         "name": "ACF",
         "showlegend": false,
         "type": "scattergl",
         "x": [
          17,
          17
         ],
         "xaxis": "x",
         "y": [
          0,
          -0.1693235737377586
         ],
         "yaxis": "y"
        },
        {
         "line": {
          "color": "#3f3f3f"
         },
         "marker": {
          "size": 10
         },
         "mode": "lines",
         "name": "ACF",
         "showlegend": false,
         "type": "scattergl",
         "x": [
          18,
          18
         ],
         "xaxis": "x",
         "y": [
          0,
          -0.07808642682587426
         ],
         "yaxis": "y"
        },
        {
         "line": {
          "color": "#3f3f3f"
         },
         "marker": {
          "size": 10
         },
         "mode": "lines",
         "name": "ACF",
         "showlegend": false,
         "type": "scattergl",
         "x": [
          19,
          19
         ],
         "xaxis": "x",
         "y": [
          0,
          -0.0494456927813858
         ],
         "yaxis": "y"
        },
        {
         "line": {
          "color": "#3f3f3f"
         },
         "marker": {
          "size": 10
         },
         "mode": "lines",
         "name": "ACF",
         "showlegend": false,
         "type": "scattergl",
         "x": [
          20,
          20
         ],
         "xaxis": "x",
         "y": [
          0,
          -0.0975728386425047
         ],
         "yaxis": "y"
        },
        {
         "line": {
          "color": "#3f3f3f"
         },
         "marker": {
          "size": 10
         },
         "mode": "lines",
         "name": "ACF",
         "showlegend": false,
         "type": "scattergl",
         "x": [
          21,
          21
         ],
         "xaxis": "x",
         "y": [
          0,
          -0.062045646653488815
         ],
         "yaxis": "y"
        },
        {
         "line": {
          "color": "#3f3f3f"
         },
         "marker": {
          "size": 10
         },
         "mode": "lines",
         "name": "ACF",
         "showlegend": false,
         "type": "scattergl",
         "x": [
          22,
          22
         ],
         "xaxis": "x",
         "y": [
          0,
          -0.05318577855575603
         ],
         "yaxis": "y"
        },
        {
         "line": {
          "color": "#3f3f3f"
         },
         "marker": {
          "size": 10
         },
         "mode": "lines",
         "name": "ACF",
         "showlegend": false,
         "type": "scattergl",
         "x": [
          23,
          23
         ],
         "xaxis": "x",
         "y": [
          0,
          0.05820426379500685
         ],
         "yaxis": "y"
        },
        {
         "line": {
          "color": "#3f3f3f"
         },
         "marker": {
          "size": 10
         },
         "mode": "lines",
         "name": "ACF",
         "showlegend": false,
         "type": "scattergl",
         "x": [
          24,
          24
         ],
         "xaxis": "x",
         "y": [
          0,
          0.22427362106368393
         ],
         "yaxis": "y"
        },
        {
         "line": {
          "color": "#3f3f3f"
         },
         "marker": {
          "size": 10
         },
         "mode": "lines",
         "name": "ACF",
         "showlegend": false,
         "type": "scattergl",
         "x": [
          25,
          25
         ],
         "xaxis": "x",
         "y": [
          0,
          0.12790079122603085
         ],
         "yaxis": "y"
        },
        {
         "line": {
          "color": "#3f3f3f"
         },
         "marker": {
          "size": 10
         },
         "mode": "lines",
         "name": "ACF",
         "showlegend": false,
         "type": "scattergl",
         "x": [
          26,
          26
         ],
         "xaxis": "x",
         "y": [
          0,
          0.1024731022197068
         ],
         "yaxis": "y"
        },
        {
         "line": {
          "color": "#3f3f3f"
         },
         "marker": {
          "size": 10
         },
         "mode": "lines",
         "name": "ACF",
         "showlegend": false,
         "type": "scattergl",
         "x": [
          27,
          27
         ],
         "xaxis": "x",
         "y": [
          0,
          -0.034495619232141776
         ],
         "yaxis": "y"
        },
        {
         "line": {
          "color": "#3f3f3f"
         },
         "marker": {
          "size": 10
         },
         "mode": "lines",
         "name": "ACF",
         "showlegend": false,
         "type": "scattergl",
         "x": [
          28,
          28
         ],
         "xaxis": "x",
         "y": [
          0,
          -0.083130783615438
         ],
         "yaxis": "y"
        },
        {
         "line": {
          "color": "#3f3f3f"
         },
         "marker": {
          "size": 10
         },
         "mode": "lines",
         "name": "ACF",
         "showlegend": false,
         "type": "scattergl",
         "x": [
          29,
          29
         ],
         "xaxis": "x",
         "y": [
          0,
          -0.04967057248808222
         ],
         "yaxis": "y"
        },
        {
         "line": {
          "color": "#3f3f3f"
         },
         "marker": {
          "size": 10
         },
         "mode": "lines",
         "name": "ACF",
         "showlegend": false,
         "type": "scattergl",
         "x": [
          30,
          30
         ],
         "xaxis": "x",
         "y": [
          0,
          -0.13704415175842954
         ],
         "yaxis": "y"
        },
        {
         "line": {
          "color": "#3f3f3f"
         },
         "marker": {
          "size": 10
         },
         "mode": "lines",
         "name": "ACF",
         "showlegend": false,
         "type": "scattergl",
         "x": [
          31,
          31
         ],
         "xaxis": "x",
         "y": [
          0,
          -0.13889068948713343
         ],
         "yaxis": "y"
        },
        {
         "line": {
          "color": "#3f3f3f"
         },
         "marker": {
          "size": 10
         },
         "mode": "lines",
         "name": "ACF",
         "showlegend": false,
         "type": "scattergl",
         "x": [
          32,
          32
         ],
         "xaxis": "x",
         "y": [
          0,
          -0.042452693319864405
         ],
         "yaxis": "y"
        },
        {
         "line": {
          "color": "#3f3f3f"
         },
         "marker": {
          "size": 10
         },
         "mode": "lines",
         "name": "ACF",
         "showlegend": false,
         "type": "scattergl",
         "x": [
          33,
          33
         ],
         "xaxis": "x",
         "y": [
          0,
          -0.09442690136553701
         ],
         "yaxis": "y"
        },
        {
         "line": {
          "color": "#3f3f3f"
         },
         "marker": {
          "size": 10
         },
         "mode": "lines",
         "name": "ACF",
         "showlegend": false,
         "type": "scattergl",
         "x": [
          34,
          34
         ],
         "xaxis": "x",
         "y": [
          0,
          -0.0035328429576197934
         ],
         "yaxis": "y"
        },
        {
         "line": {
          "color": "#3f3f3f"
         },
         "marker": {
          "size": 10
         },
         "mode": "lines",
         "name": "ACF",
         "showlegend": false,
         "type": "scattergl",
         "x": [
          35,
          35
         ],
         "xaxis": "x",
         "y": [
          0,
          0.042853531469338506
         ],
         "yaxis": "y"
        },
        {
         "line": {
          "color": "#3f3f3f"
         },
         "marker": {
          "size": 10
         },
         "mode": "lines",
         "name": "ACF",
         "showlegend": false,
         "type": "scattergl",
         "x": [
          36,
          36
         ],
         "xaxis": "x",
         "y": [
          0,
          0.07363540459517709
         ],
         "yaxis": "y"
        },
        {
         "line": {
          "color": "#3f3f3f"
         },
         "marker": {
          "size": 10
         },
         "mode": "lines",
         "name": "ACF",
         "showlegend": false,
         "type": "scattergl",
         "x": [
          37,
          37
         ],
         "xaxis": "x",
         "y": [
          0,
          0.021765952994036136
         ],
         "yaxis": "y"
        },
        {
         "line": {
          "color": "#3f3f3f"
         },
         "marker": {
          "size": 10
         },
         "mode": "lines",
         "name": "ACF",
         "showlegend": false,
         "type": "scattergl",
         "x": [
          38,
          38
         ],
         "xaxis": "x",
         "y": [
          0,
          -0.043632109803195235
         ],
         "yaxis": "y"
        },
        {
         "line": {
          "color": "#3f3f3f"
         },
         "marker": {
          "size": 10
         },
         "mode": "lines",
         "name": "ACF",
         "showlegend": false,
         "type": "scattergl",
         "x": [
          39,
          39
         ],
         "xaxis": "x",
         "y": [
          0,
          -0.07114351406847373
         ],
         "yaxis": "y"
        },
        {
         "line": {
          "color": "#3f3f3f"
         },
         "marker": {
          "size": 10
         },
         "mode": "lines",
         "name": "ACF",
         "showlegend": false,
         "type": "scattergl",
         "x": [
          40,
          40
         ],
         "xaxis": "x",
         "y": [
          0,
          -0.21617344687390036
         ],
         "yaxis": "y"
        },
        {
         "marker": {
          "color": "#1f77b4",
          "size": 10
         },
         "mode": "markers",
         "name": "ACF",
         "showlegend": false,
         "type": "scattergl",
         "x": [
          0,
          1,
          2,
          3,
          4,
          5,
          6,
          7,
          8,
          9,
          10,
          11,
          12,
          13,
          14,
          15,
          16,
          17,
          18,
          19,
          20,
          21,
          22,
          23,
          24,
          25,
          26,
          27,
          28,
          29,
          30,
          31,
          32,
          33,
          34,
          35,
          36,
          37,
          38,
          39,
          40
         ],
         "xaxis": "x",
         "y": [
          1,
          0.5145747070471098,
          0.20395736050331037,
          0.15683667649043148,
          0.018210764338761034,
          -0.03911045371759495,
          -0.06077746585508928,
          -0.04294899166024468,
          0.00905694592312144,
          0.014025407706186543,
          0.2287873412991755,
          0.31707595015062023,
          0.21161634765011508,
          0.18534050666285515,
          0.043486642014769435,
          -0.07632337081505533,
          -0.13194787502634128,
          -0.1693235737377586,
          -0.07808642682587426,
          -0.0494456927813858,
          -0.0975728386425047,
          -0.062045646653488815,
          -0.05318577855575603,
          0.05820426379500685,
          0.22427362106368393,
          0.12790079122603085,
          0.1024731022197068,
          -0.034495619232141776,
          -0.083130783615438,
          -0.04967057248808222,
          -0.13704415175842954,
          -0.13889068948713343,
          -0.042452693319864405,
          -0.09442690136553701,
          -0.0035328429576197934,
          0.042853531469338506,
          0.07363540459517709,
          0.021765952994036136,
          -0.043632109803195235,
          -0.07114351406847373,
          -0.21617344687390036
         ],
         "yaxis": "y"
        },
        {
         "line": {
          "color": "rgba(255,255,255,0)"
         },
         "marker": {
          "size": 10
         },
         "mode": "lines",
         "name": "UC",
         "showlegend": false,
         "type": "scatter",
         "x": [
          0,
          1,
          2,
          3,
          4,
          5,
          6,
          7,
          8,
          9,
          10,
          11,
          12,
          13,
          14,
          15,
          16,
          17,
          18,
          19,
          20,
          21,
          22,
          23,
          24,
          25,
          26,
          27,
          28,
          29,
          30,
          31,
          32,
          33,
          34,
          35,
          36,
          37,
          38,
          39,
          40
         ],
         "xaxis": "x",
         "y": [
          0,
          0.25960357162054337,
          0.32106720415600787,
          0.32968339894536824,
          0.33467390822180176,
          0.33474068300646875,
          0.3350485044695546,
          0.3357906995358997,
          0.3361607145901863,
          0.3361771593409196,
          0.336216592234108,
          0.34654998768615103,
          0.36557912869167786,
          0.3737433699225572,
          0.3798871201774109,
          0.38022246133682336,
          0.38125358359523054,
          0.38431886132096843,
          0.3893140424600708,
          0.3903681497274639,
          0.3907900106328166,
          0.39242843461041227,
          0.3930890035087491,
          0.393573682074023,
          0.39415335787290556,
          0.40266180147211916,
          0.4053905172589814,
          0.4071324662579889,
          0.4073293947070289,
          0.4084711973776664,
          0.4088780545568212,
          0.4119620502942066,
          0.41510586121546694,
          0.41539835724553476,
          0.41684244569565443,
          0.4168444635834095,
          0.4171412649779533,
          0.41801636203891057,
          0.41809273572412176,
          0.4183994979186302,
          0.41921397392356674
         ],
         "yaxis": "y"
        },
        {
         "fill": "tonexty",
         "fillcolor": "rgba(32, 146, 230,0.3)",
         "line": {
          "color": "rgba(255,255,255,0)"
         },
         "marker": {
          "size": 10
         },
         "mode": "lines",
         "name": "LC",
         "showlegend": false,
         "type": "scatter",
         "x": [
          0,
          1,
          2,
          3,
          4,
          5,
          6,
          7,
          8,
          9,
          10,
          11,
          12,
          13,
          14,
          15,
          16,
          17,
          18,
          19,
          20,
          21,
          22,
          23,
          24,
          25,
          26,
          27,
          28,
          29,
          30,
          31,
          32,
          33,
          34,
          35,
          36,
          37,
          38,
          39,
          40
         ],
         "xaxis": "x",
         "y": [
          0,
          -0.2596035716205433,
          -0.32106720415600787,
          -0.32968339894536824,
          -0.33467390822180176,
          -0.33474068300646875,
          -0.3350485044695547,
          -0.3357906995358997,
          -0.3361607145901863,
          -0.3361771593409196,
          -0.336216592234108,
          -0.34654998768615103,
          -0.36557912869167786,
          -0.37374336992255724,
          -0.3798871201774109,
          -0.38022246133682325,
          -0.38125358359523054,
          -0.3843188613209684,
          -0.3893140424600708,
          -0.3903681497274639,
          -0.3907900106328166,
          -0.39242843461041227,
          -0.3930890035087491,
          -0.393573682074023,
          -0.3941533578729055,
          -0.40266180147211905,
          -0.4053905172589814,
          -0.4071324662579889,
          -0.4073293947070289,
          -0.4084711973776664,
          -0.40887805455682114,
          -0.4119620502942066,
          -0.41510586121546694,
          -0.41539835724553476,
          -0.41684244569565443,
          -0.4168444635834095,
          -0.4171412649779533,
          -0.4180163620389107,
          -0.41809273572412176,
          -0.4183994979186302,
          -0.41921397392356674
         ],
         "yaxis": "y"
        }
       ],
       "layout": {
        "annotations": [
         {
          "font": {
           "size": 16
          },
          "showarrow": false,
          "text": "Quantity (transformed)",
          "x": 0.5,
          "xanchor": "center",
          "xref": "paper",
          "y": 1,
          "yanchor": "bottom",
          "yref": "paper"
         }
        ],
        "showlegend": false,
        "template": {
         "data": {
          "bar": [
           {
            "error_x": {
             "color": "rgb(51,51,51)"
            },
            "error_y": {
             "color": "rgb(51,51,51)"
            },
            "marker": {
             "line": {
              "color": "rgb(237,237,237)",
              "width": 0.5
             },
             "pattern": {
              "fillmode": "overlay",
              "size": 10,
              "solidity": 0.2
             }
            },
            "type": "bar"
           }
          ],
          "barpolar": [
           {
            "marker": {
             "line": {
              "color": "rgb(237,237,237)",
              "width": 0.5
             },
             "pattern": {
              "fillmode": "overlay",
              "size": 10,
              "solidity": 0.2
             }
            },
            "type": "barpolar"
           }
          ],
          "carpet": [
           {
            "aaxis": {
             "endlinecolor": "rgb(51,51,51)",
             "gridcolor": "white",
             "linecolor": "white",
             "minorgridcolor": "white",
             "startlinecolor": "rgb(51,51,51)"
            },
            "baxis": {
             "endlinecolor": "rgb(51,51,51)",
             "gridcolor": "white",
             "linecolor": "white",
             "minorgridcolor": "white",
             "startlinecolor": "rgb(51,51,51)"
            },
            "type": "carpet"
           }
          ],
          "choropleth": [
           {
            "colorbar": {
             "outlinewidth": 0,
             "tickcolor": "rgb(237,237,237)",
             "ticklen": 6,
             "ticks": "inside"
            },
            "type": "choropleth"
           }
          ],
          "contour": [
           {
            "colorbar": {
             "outlinewidth": 0,
             "tickcolor": "rgb(237,237,237)",
             "ticklen": 6,
             "ticks": "inside"
            },
            "colorscale": [
             [
              0,
              "rgb(20,44,66)"
             ],
             [
              1,
              "rgb(90,179,244)"
             ]
            ],
            "type": "contour"
           }
          ],
          "contourcarpet": [
           {
            "colorbar": {
             "outlinewidth": 0,
             "tickcolor": "rgb(237,237,237)",
             "ticklen": 6,
             "ticks": "inside"
            },
            "type": "contourcarpet"
           }
          ],
          "heatmap": [
           {
            "colorbar": {
             "outlinewidth": 0,
             "tickcolor": "rgb(237,237,237)",
             "ticklen": 6,
             "ticks": "inside"
            },
            "colorscale": [
             [
              0,
              "rgb(20,44,66)"
             ],
             [
              1,
              "rgb(90,179,244)"
             ]
            ],
            "type": "heatmap"
           }
          ],
          "heatmapgl": [
           {
            "colorbar": {
             "outlinewidth": 0,
             "tickcolor": "rgb(237,237,237)",
             "ticklen": 6,
             "ticks": "inside"
            },
            "colorscale": [
             [
              0,
              "rgb(20,44,66)"
             ],
             [
              1,
              "rgb(90,179,244)"
             ]
            ],
            "type": "heatmapgl"
           }
          ],
          "histogram": [
           {
            "marker": {
             "pattern": {
              "fillmode": "overlay",
              "size": 10,
              "solidity": 0.2
             }
            },
            "type": "histogram"
           }
          ],
          "histogram2d": [
           {
            "colorbar": {
             "outlinewidth": 0,
             "tickcolor": "rgb(237,237,237)",
             "ticklen": 6,
             "ticks": "inside"
            },
            "colorscale": [
             [
              0,
              "rgb(20,44,66)"
             ],
             [
              1,
              "rgb(90,179,244)"
             ]
            ],
            "type": "histogram2d"
           }
          ],
          "histogram2dcontour": [
           {
            "colorbar": {
             "outlinewidth": 0,
             "tickcolor": "rgb(237,237,237)",
             "ticklen": 6,
             "ticks": "inside"
            },
            "colorscale": [
             [
              0,
              "rgb(20,44,66)"
             ],
             [
              1,
              "rgb(90,179,244)"
             ]
            ],
            "type": "histogram2dcontour"
           }
          ],
          "mesh3d": [
           {
            "colorbar": {
             "outlinewidth": 0,
             "tickcolor": "rgb(237,237,237)",
             "ticklen": 6,
             "ticks": "inside"
            },
            "type": "mesh3d"
           }
          ],
          "parcoords": [
           {
            "line": {
             "colorbar": {
              "outlinewidth": 0,
              "tickcolor": "rgb(237,237,237)",
              "ticklen": 6,
              "ticks": "inside"
             }
            },
            "type": "parcoords"
           }
          ],
          "pie": [
           {
            "automargin": true,
            "type": "pie"
           }
          ],
          "scatter": [
           {
            "fillpattern": {
             "fillmode": "overlay",
             "size": 10,
             "solidity": 0.2
            },
            "type": "scatter"
           }
          ],
          "scatter3d": [
           {
            "line": {
             "colorbar": {
              "outlinewidth": 0,
              "tickcolor": "rgb(237,237,237)",
              "ticklen": 6,
              "ticks": "inside"
             }
            },
            "marker": {
             "colorbar": {
              "outlinewidth": 0,
              "tickcolor": "rgb(237,237,237)",
              "ticklen": 6,
              "ticks": "inside"
             }
            },
            "type": "scatter3d"
           }
          ],
          "scattercarpet": [
           {
            "marker": {
             "colorbar": {
              "outlinewidth": 0,
              "tickcolor": "rgb(237,237,237)",
              "ticklen": 6,
              "ticks": "inside"
             }
            },
            "type": "scattercarpet"
           }
          ],
          "scattergeo": [
           {
            "marker": {
             "colorbar": {
              "outlinewidth": 0,
              "tickcolor": "rgb(237,237,237)",
              "ticklen": 6,
              "ticks": "inside"
             }
            },
            "type": "scattergeo"
           }
          ],
          "scattergl": [
           {
            "marker": {
             "colorbar": {
              "outlinewidth": 0,
              "tickcolor": "rgb(237,237,237)",
              "ticklen": 6,
              "ticks": "inside"
             }
            },
            "type": "scattergl"
           }
          ],
          "scattermapbox": [
           {
            "marker": {
             "colorbar": {
              "outlinewidth": 0,
              "tickcolor": "rgb(237,237,237)",
              "ticklen": 6,
              "ticks": "inside"
             }
            },
            "type": "scattermapbox"
           }
          ],
          "scatterpolar": [
           {
            "marker": {
             "colorbar": {
              "outlinewidth": 0,
              "tickcolor": "rgb(237,237,237)",
              "ticklen": 6,
              "ticks": "inside"
             }
            },
            "type": "scatterpolar"
           }
          ],
          "scatterpolargl": [
           {
            "marker": {
             "colorbar": {
              "outlinewidth": 0,
              "tickcolor": "rgb(237,237,237)",
              "ticklen": 6,
              "ticks": "inside"
             }
            },
            "type": "scatterpolargl"
           }
          ],
          "scatterternary": [
           {
            "marker": {
             "colorbar": {
              "outlinewidth": 0,
              "tickcolor": "rgb(237,237,237)",
              "ticklen": 6,
              "ticks": "inside"
             }
            },
            "type": "scatterternary"
           }
          ],
          "surface": [
           {
            "colorbar": {
             "outlinewidth": 0,
             "tickcolor": "rgb(237,237,237)",
             "ticklen": 6,
             "ticks": "inside"
            },
            "colorscale": [
             [
              0,
              "rgb(20,44,66)"
             ],
             [
              1,
              "rgb(90,179,244)"
             ]
            ],
            "type": "surface"
           }
          ],
          "table": [
           {
            "cells": {
             "fill": {
              "color": "rgb(237,237,237)"
             },
             "line": {
              "color": "white"
             }
            },
            "header": {
             "fill": {
              "color": "rgb(217,217,217)"
             },
             "line": {
              "color": "white"
             }
            },
            "type": "table"
           }
          ]
         },
         "layout": {
          "annotationdefaults": {
           "arrowhead": 0,
           "arrowwidth": 1
          },
          "autotypenumbers": "strict",
          "coloraxis": {
           "colorbar": {
            "outlinewidth": 0,
            "tickcolor": "rgb(237,237,237)",
            "ticklen": 6,
            "ticks": "inside"
           }
          },
          "colorscale": {
           "sequential": [
            [
             0,
             "rgb(20,44,66)"
            ],
            [
             1,
             "rgb(90,179,244)"
            ]
           ],
           "sequentialminus": [
            [
             0,
             "rgb(20,44,66)"
            ],
            [
             1,
             "rgb(90,179,244)"
            ]
           ]
          },
          "colorway": [
           "#F8766D",
           "#A3A500",
           "#00BF7D",
           "#00B0F6",
           "#E76BF3"
          ],
          "font": {
           "color": "rgb(51,51,51)"
          },
          "geo": {
           "bgcolor": "white",
           "lakecolor": "white",
           "landcolor": "rgb(237,237,237)",
           "showlakes": true,
           "showland": true,
           "subunitcolor": "white"
          },
          "hoverlabel": {
           "align": "left"
          },
          "hovermode": "closest",
          "paper_bgcolor": "white",
          "plot_bgcolor": "rgb(237,237,237)",
          "polar": {
           "angularaxis": {
            "gridcolor": "white",
            "linecolor": "white",
            "showgrid": true,
            "tickcolor": "rgb(51,51,51)",
            "ticks": "outside"
           },
           "bgcolor": "rgb(237,237,237)",
           "radialaxis": {
            "gridcolor": "white",
            "linecolor": "white",
            "showgrid": true,
            "tickcolor": "rgb(51,51,51)",
            "ticks": "outside"
           }
          },
          "scene": {
           "xaxis": {
            "backgroundcolor": "rgb(237,237,237)",
            "gridcolor": "white",
            "gridwidth": 2,
            "linecolor": "white",
            "showbackground": true,
            "showgrid": true,
            "tickcolor": "rgb(51,51,51)",
            "ticks": "outside",
            "zerolinecolor": "white"
           },
           "yaxis": {
            "backgroundcolor": "rgb(237,237,237)",
            "gridcolor": "white",
            "gridwidth": 2,
            "linecolor": "white",
            "showbackground": true,
            "showgrid": true,
            "tickcolor": "rgb(51,51,51)",
            "ticks": "outside",
            "zerolinecolor": "white"
           },
           "zaxis": {
            "backgroundcolor": "rgb(237,237,237)",
            "gridcolor": "white",
            "gridwidth": 2,
            "linecolor": "white",
            "showbackground": true,
            "showgrid": true,
            "tickcolor": "rgb(51,51,51)",
            "ticks": "outside",
            "zerolinecolor": "white"
           }
          },
          "shapedefaults": {
           "fillcolor": "black",
           "line": {
            "width": 0
           },
           "opacity": 0.3
          },
          "ternary": {
           "aaxis": {
            "gridcolor": "white",
            "linecolor": "white",
            "showgrid": true,
            "tickcolor": "rgb(51,51,51)",
            "ticks": "outside"
           },
           "baxis": {
            "gridcolor": "white",
            "linecolor": "white",
            "showgrid": true,
            "tickcolor": "rgb(51,51,51)",
            "ticks": "outside"
           },
           "bgcolor": "rgb(237,237,237)",
           "caxis": {
            "gridcolor": "white",
            "linecolor": "white",
            "showgrid": true,
            "tickcolor": "rgb(51,51,51)",
            "ticks": "outside"
           }
          },
          "xaxis": {
           "automargin": true,
           "gridcolor": "white",
           "linecolor": "white",
           "showgrid": true,
           "tickcolor": "rgb(51,51,51)",
           "ticks": "outside",
           "title": {
            "standoff": 15
           },
           "zerolinecolor": "white"
          },
          "yaxis": {
           "automargin": true,
           "gridcolor": "white",
           "linecolor": "white",
           "showgrid": true,
           "tickcolor": "rgb(51,51,51)",
           "ticks": "outside",
           "title": {
            "standoff": 15
           },
           "zerolinecolor": "white"
          }
         }
        },
        "title": {
         "text": "Autocorrelation (ACF) | Quantity"
        },
        "xaxis": {
         "anchor": "y",
         "domain": [
          0,
          1
         ],
         "range": [
          -1,
          42
         ],
         "title": {
          "text": "Lags"
         }
        },
        "yaxis": {
         "anchor": "x",
         "domain": [
          0,
          1
         ],
         "range": [
          -1.1,
          1.1
         ],
         "title": {
          "text": "ACF"
         },
         "zerolinecolor": "#000000"
        }
       }
      }
     },
     "metadata": {},
     "output_type": "display_data"
    },
    {
     "data": {
      "application/vnd.plotly.v1+json": {
       "config": {
        "plotlyServerURL": "https://plot.ly"
       },
       "data": [
        {
         "line": {
          "color": "#3f3f3f"
         },
         "marker": {
          "size": 10
         },
         "mode": "lines",
         "name": "PACF",
         "showlegend": false,
         "type": "scattergl",
         "x": [
          0,
          0
         ],
         "xaxis": "x",
         "y": [
          0,
          1
         ],
         "yaxis": "y"
        },
        {
         "line": {
          "color": "#3f3f3f"
         },
         "marker": {
          "size": 10
         },
         "mode": "lines",
         "name": "PACF",
         "showlegend": false,
         "type": "scattergl",
         "x": [
          1,
          1
         ],
         "xaxis": "x",
         "y": [
          0,
          0.5237635411015226
         ],
         "yaxis": "y"
        },
        {
         "line": {
          "color": "#3f3f3f"
         },
         "marker": {
          "size": 10
         },
         "mode": "lines",
         "name": "PACF",
         "showlegend": false,
         "type": "scattergl",
         "x": [
          2,
          2
         ],
         "xaxis": "x",
         "y": [
          0,
          -0.08675307386776088
         ],
         "yaxis": "y"
        },
        {
         "line": {
          "color": "#3f3f3f"
         },
         "marker": {
          "size": 10
         },
         "mode": "lines",
         "name": "PACF",
         "showlegend": false,
         "type": "scattergl",
         "x": [
          3,
          3
         ],
         "xaxis": "x",
         "y": [
          0,
          0.12589864755408406
         ],
         "yaxis": "y"
        },
        {
         "line": {
          "color": "#3f3f3f"
         },
         "marker": {
          "size": 10
         },
         "mode": "lines",
         "name": "PACF",
         "showlegend": false,
         "type": "scattergl",
         "x": [
          4,
          4
         ],
         "xaxis": "x",
         "y": [
          0,
          -0.15365604471221891
         ],
         "yaxis": "y"
        },
        {
         "line": {
          "color": "#3f3f3f"
         },
         "marker": {
          "size": 10
         },
         "mode": "lines",
         "name": "PACF",
         "showlegend": false,
         "type": "scattergl",
         "x": [
          5,
          5
         ],
         "xaxis": "x",
         "y": [
          0,
          0.015416938953726164
         ],
         "yaxis": "y"
        },
        {
         "line": {
          "color": "#3f3f3f"
         },
         "marker": {
          "size": 10
         },
         "mode": "lines",
         "name": "PACF",
         "showlegend": false,
         "type": "scattergl",
         "x": [
          6,
          6
         ],
         "xaxis": "x",
         "y": [
          0,
          -0.06964996613831112
         ],
         "yaxis": "y"
        },
        {
         "line": {
          "color": "#3f3f3f"
         },
         "marker": {
          "size": 10
         },
         "mode": "lines",
         "name": "PACF",
         "showlegend": false,
         "type": "scattergl",
         "x": [
          7,
          7
         ],
         "xaxis": "x",
         "y": [
          0,
          0.04711340876823702
         ],
         "yaxis": "y"
        },
        {
         "line": {
          "color": "#3f3f3f"
         },
         "marker": {
          "size": 10
         },
         "mode": "lines",
         "name": "PACF",
         "showlegend": false,
         "type": "scattergl",
         "x": [
          8,
          8
         ],
         "xaxis": "x",
         "y": [
          0,
          0.03732907564950987
         ],
         "yaxis": "y"
        },
        {
         "line": {
          "color": "#3f3f3f"
         },
         "marker": {
          "size": 10
         },
         "mode": "lines",
         "name": "PACF",
         "showlegend": false,
         "type": "scattergl",
         "x": [
          9,
          9
         ],
         "xaxis": "x",
         "y": [
          0,
          -0.002447567068441134
         ],
         "yaxis": "y"
        },
        {
         "line": {
          "color": "#3f3f3f"
         },
         "marker": {
          "size": 10
         },
         "mode": "lines",
         "name": "PACF",
         "showlegend": false,
         "type": "scattergl",
         "x": [
          10,
          10
         ],
         "xaxis": "x",
         "y": [
          0,
          0.3822759390453101
         ],
         "yaxis": "y"
        },
        {
         "line": {
          "color": "#3f3f3f"
         },
         "marker": {
          "size": 10
         },
         "mode": "lines",
         "name": "PACF",
         "showlegend": false,
         "type": "scattergl",
         "x": [
          11,
          11
         ],
         "xaxis": "x",
         "y": [
          0,
          0.0887370051636412
         ],
         "yaxis": "y"
        },
        {
         "line": {
          "color": "#3f3f3f"
         },
         "marker": {
          "size": 10
         },
         "mode": "lines",
         "name": "PACF",
         "showlegend": false,
         "type": "scattergl",
         "x": [
          12,
          12
         ],
         "xaxis": "x",
         "y": [
          0,
          0.01686902978246109
         ],
         "yaxis": "y"
        },
        {
         "line": {
          "color": "#3f3f3f"
         },
         "marker": {
          "size": 10
         },
         "mode": "lines",
         "name": "PACF",
         "showlegend": false,
         "type": "scattergl",
         "x": [
          13,
          13
         ],
         "xaxis": "x",
         "y": [
          0,
          0.04719332082388579
         ],
         "yaxis": "y"
        },
        {
         "line": {
          "color": "#3f3f3f"
         },
         "marker": {
          "size": 10
         },
         "mode": "lines",
         "name": "PACF",
         "showlegend": false,
         "type": "scattergl",
         "x": [
          14,
          14
         ],
         "xaxis": "x",
         "y": [
          0,
          -0.2067477115411431
         ],
         "yaxis": "y"
        },
        {
         "line": {
          "color": "#3f3f3f"
         },
         "marker": {
          "size": 10
         },
         "mode": "lines",
         "name": "PACF",
         "showlegend": false,
         "type": "scattergl",
         "x": [
          15,
          15
         ],
         "xaxis": "x",
         "y": [
          0,
          -0.06799319755139953
         ],
         "yaxis": "y"
        },
        {
         "line": {
          "color": "#3f3f3f"
         },
         "marker": {
          "size": 10
         },
         "mode": "lines",
         "name": "PACF",
         "showlegend": false,
         "type": "scattergl",
         "x": [
          16,
          16
         ],
         "xaxis": "x",
         "y": [
          0,
          -0.16253465638676992
         ],
         "yaxis": "y"
        },
        {
         "line": {
          "color": "#3f3f3f"
         },
         "marker": {
          "size": 10
         },
         "mode": "lines",
         "name": "PACF",
         "showlegend": false,
         "type": "scattergl",
         "x": [
          17,
          17
         ],
         "xaxis": "x",
         "y": [
          0,
          -0.04824942131811531
         ],
         "yaxis": "y"
        },
        {
         "marker": {
          "color": "#1f77b4",
          "size": 10
         },
         "mode": "markers",
         "name": "PACF",
         "showlegend": false,
         "type": "scattergl",
         "x": [
          0,
          1,
          2,
          3,
          4,
          5,
          6,
          7,
          8,
          9,
          10,
          11,
          12,
          13,
          14,
          15,
          16,
          17
         ],
         "xaxis": "x",
         "y": [
          1,
          0.5237635411015226,
          -0.08675307386776088,
          0.12589864755408406,
          -0.15365604471221891,
          0.015416938953726164,
          -0.06964996613831112,
          0.04711340876823702,
          0.03732907564950987,
          -0.002447567068441134,
          0.3822759390453101,
          0.0887370051636412,
          0.01686902978246109,
          0.04719332082388579,
          -0.2067477115411431,
          -0.06799319755139953,
          -0.16253465638676992,
          -0.04824942131811531
         ],
         "yaxis": "y"
        },
        {
         "line": {
          "color": "rgba(255,255,255,0)"
         },
         "marker": {
          "size": 10
         },
         "mode": "lines",
         "name": "UC",
         "showlegend": false,
         "type": "scatter",
         "x": [
          0,
          1,
          2,
          3,
          4,
          5,
          6,
          7,
          8,
          9,
          10,
          11,
          12,
          13,
          14,
          15,
          16,
          17
         ],
         "xaxis": "x",
         "y": [
          0,
          0.25960357162054326,
          0.2596035716205433,
          0.25960357162054326,
          0.2596035716205433,
          0.2596035716205433,
          0.2596035716205433,
          0.2596035716205433,
          0.2596035716205433,
          0.2596035716205433,
          0.25960357162054337,
          0.2596035716205433,
          0.2596035716205433,
          0.2596035716205433,
          0.2596035716205433,
          0.2596035716205433,
          0.2596035716205433,
          0.2596035716205433
         ],
         "yaxis": "y"
        },
        {
         "fill": "tonexty",
         "fillcolor": "rgba(32, 146, 230,0.3)",
         "line": {
          "color": "rgba(255,255,255,0)"
         },
         "marker": {
          "size": 10
         },
         "mode": "lines",
         "name": "LC",
         "showlegend": false,
         "type": "scatter",
         "x": [
          0,
          1,
          2,
          3,
          4,
          5,
          6,
          7,
          8,
          9,
          10,
          11,
          12,
          13,
          14,
          15,
          16,
          17
         ],
         "xaxis": "x",
         "y": [
          0,
          -0.2596035716205433,
          -0.2596035716205433,
          -0.2596035716205433,
          -0.25960357162054326,
          -0.2596035716205433,
          -0.25960357162054337,
          -0.2596035716205433,
          -0.2596035716205433,
          -0.2596035716205433,
          -0.2596035716205433,
          -0.2596035716205433,
          -0.2596035716205433,
          -0.2596035716205433,
          -0.25960357162054326,
          -0.2596035716205433,
          -0.25960357162054337,
          -0.2596035716205433
         ],
         "yaxis": "y"
        }
       ],
       "layout": {
        "annotations": [
         {
          "font": {
           "size": 16
          },
          "showarrow": false,
          "text": "Quantity (transformed)",
          "x": 0.5,
          "xanchor": "center",
          "xref": "paper",
          "y": 1,
          "yanchor": "bottom",
          "yref": "paper"
         }
        ],
        "showlegend": false,
        "template": {
         "data": {
          "bar": [
           {
            "error_x": {
             "color": "rgb(51,51,51)"
            },
            "error_y": {
             "color": "rgb(51,51,51)"
            },
            "marker": {
             "line": {
              "color": "rgb(237,237,237)",
              "width": 0.5
             },
             "pattern": {
              "fillmode": "overlay",
              "size": 10,
              "solidity": 0.2
             }
            },
            "type": "bar"
           }
          ],
          "barpolar": [
           {
            "marker": {
             "line": {
              "color": "rgb(237,237,237)",
              "width": 0.5
             },
             "pattern": {
              "fillmode": "overlay",
              "size": 10,
              "solidity": 0.2
             }
            },
            "type": "barpolar"
           }
          ],
          "carpet": [
           {
            "aaxis": {
             "endlinecolor": "rgb(51,51,51)",
             "gridcolor": "white",
             "linecolor": "white",
             "minorgridcolor": "white",
             "startlinecolor": "rgb(51,51,51)"
            },
            "baxis": {
             "endlinecolor": "rgb(51,51,51)",
             "gridcolor": "white",
             "linecolor": "white",
             "minorgridcolor": "white",
             "startlinecolor": "rgb(51,51,51)"
            },
            "type": "carpet"
           }
          ],
          "choropleth": [
           {
            "colorbar": {
             "outlinewidth": 0,
             "tickcolor": "rgb(237,237,237)",
             "ticklen": 6,
             "ticks": "inside"
            },
            "type": "choropleth"
           }
          ],
          "contour": [
           {
            "colorbar": {
             "outlinewidth": 0,
             "tickcolor": "rgb(237,237,237)",
             "ticklen": 6,
             "ticks": "inside"
            },
            "colorscale": [
             [
              0,
              "rgb(20,44,66)"
             ],
             [
              1,
              "rgb(90,179,244)"
             ]
            ],
            "type": "contour"
           }
          ],
          "contourcarpet": [
           {
            "colorbar": {
             "outlinewidth": 0,
             "tickcolor": "rgb(237,237,237)",
             "ticklen": 6,
             "ticks": "inside"
            },
            "type": "contourcarpet"
           }
          ],
          "heatmap": [
           {
            "colorbar": {
             "outlinewidth": 0,
             "tickcolor": "rgb(237,237,237)",
             "ticklen": 6,
             "ticks": "inside"
            },
            "colorscale": [
             [
              0,
              "rgb(20,44,66)"
             ],
             [
              1,
              "rgb(90,179,244)"
             ]
            ],
            "type": "heatmap"
           }
          ],
          "heatmapgl": [
           {
            "colorbar": {
             "outlinewidth": 0,
             "tickcolor": "rgb(237,237,237)",
             "ticklen": 6,
             "ticks": "inside"
            },
            "colorscale": [
             [
              0,
              "rgb(20,44,66)"
             ],
             [
              1,
              "rgb(90,179,244)"
             ]
            ],
            "type": "heatmapgl"
           }
          ],
          "histogram": [
           {
            "marker": {
             "pattern": {
              "fillmode": "overlay",
              "size": 10,
              "solidity": 0.2
             }
            },
            "type": "histogram"
           }
          ],
          "histogram2d": [
           {
            "colorbar": {
             "outlinewidth": 0,
             "tickcolor": "rgb(237,237,237)",
             "ticklen": 6,
             "ticks": "inside"
            },
            "colorscale": [
             [
              0,
              "rgb(20,44,66)"
             ],
             [
              1,
              "rgb(90,179,244)"
             ]
            ],
            "type": "histogram2d"
           }
          ],
          "histogram2dcontour": [
           {
            "colorbar": {
             "outlinewidth": 0,
             "tickcolor": "rgb(237,237,237)",
             "ticklen": 6,
             "ticks": "inside"
            },
            "colorscale": [
             [
              0,
              "rgb(20,44,66)"
             ],
             [
              1,
              "rgb(90,179,244)"
             ]
            ],
            "type": "histogram2dcontour"
           }
          ],
          "mesh3d": [
           {
            "colorbar": {
             "outlinewidth": 0,
             "tickcolor": "rgb(237,237,237)",
             "ticklen": 6,
             "ticks": "inside"
            },
            "type": "mesh3d"
           }
          ],
          "parcoords": [
           {
            "line": {
             "colorbar": {
              "outlinewidth": 0,
              "tickcolor": "rgb(237,237,237)",
              "ticklen": 6,
              "ticks": "inside"
             }
            },
            "type": "parcoords"
           }
          ],
          "pie": [
           {
            "automargin": true,
            "type": "pie"
           }
          ],
          "scatter": [
           {
            "fillpattern": {
             "fillmode": "overlay",
             "size": 10,
             "solidity": 0.2
            },
            "type": "scatter"
           }
          ],
          "scatter3d": [
           {
            "line": {
             "colorbar": {
              "outlinewidth": 0,
              "tickcolor": "rgb(237,237,237)",
              "ticklen": 6,
              "ticks": "inside"
             }
            },
            "marker": {
             "colorbar": {
              "outlinewidth": 0,
              "tickcolor": "rgb(237,237,237)",
              "ticklen": 6,
              "ticks": "inside"
             }
            },
            "type": "scatter3d"
           }
          ],
          "scattercarpet": [
           {
            "marker": {
             "colorbar": {
              "outlinewidth": 0,
              "tickcolor": "rgb(237,237,237)",
              "ticklen": 6,
              "ticks": "inside"
             }
            },
            "type": "scattercarpet"
           }
          ],
          "scattergeo": [
           {
            "marker": {
             "colorbar": {
              "outlinewidth": 0,
              "tickcolor": "rgb(237,237,237)",
              "ticklen": 6,
              "ticks": "inside"
             }
            },
            "type": "scattergeo"
           }
          ],
          "scattergl": [
           {
            "marker": {
             "colorbar": {
              "outlinewidth": 0,
              "tickcolor": "rgb(237,237,237)",
              "ticklen": 6,
              "ticks": "inside"
             }
            },
            "type": "scattergl"
           }
          ],
          "scattermapbox": [
           {
            "marker": {
             "colorbar": {
              "outlinewidth": 0,
              "tickcolor": "rgb(237,237,237)",
              "ticklen": 6,
              "ticks": "inside"
             }
            },
            "type": "scattermapbox"
           }
          ],
          "scatterpolar": [
           {
            "marker": {
             "colorbar": {
              "outlinewidth": 0,
              "tickcolor": "rgb(237,237,237)",
              "ticklen": 6,
              "ticks": "inside"
             }
            },
            "type": "scatterpolar"
           }
          ],
          "scatterpolargl": [
           {
            "marker": {
             "colorbar": {
              "outlinewidth": 0,
              "tickcolor": "rgb(237,237,237)",
              "ticklen": 6,
              "ticks": "inside"
             }
            },
            "type": "scatterpolargl"
           }
          ],
          "scatterternary": [
           {
            "marker": {
             "colorbar": {
              "outlinewidth": 0,
              "tickcolor": "rgb(237,237,237)",
              "ticklen": 6,
              "ticks": "inside"
             }
            },
            "type": "scatterternary"
           }
          ],
          "surface": [
           {
            "colorbar": {
             "outlinewidth": 0,
             "tickcolor": "rgb(237,237,237)",
             "ticklen": 6,
             "ticks": "inside"
            },
            "colorscale": [
             [
              0,
              "rgb(20,44,66)"
             ],
             [
              1,
              "rgb(90,179,244)"
             ]
            ],
            "type": "surface"
           }
          ],
          "table": [
           {
            "cells": {
             "fill": {
              "color": "rgb(237,237,237)"
             },
             "line": {
              "color": "white"
             }
            },
            "header": {
             "fill": {
              "color": "rgb(217,217,217)"
             },
             "line": {
              "color": "white"
             }
            },
            "type": "table"
           }
          ]
         },
         "layout": {
          "annotationdefaults": {
           "arrowhead": 0,
           "arrowwidth": 1
          },
          "autotypenumbers": "strict",
          "coloraxis": {
           "colorbar": {
            "outlinewidth": 0,
            "tickcolor": "rgb(237,237,237)",
            "ticklen": 6,
            "ticks": "inside"
           }
          },
          "colorscale": {
           "sequential": [
            [
             0,
             "rgb(20,44,66)"
            ],
            [
             1,
             "rgb(90,179,244)"
            ]
           ],
           "sequentialminus": [
            [
             0,
             "rgb(20,44,66)"
            ],
            [
             1,
             "rgb(90,179,244)"
            ]
           ]
          },
          "colorway": [
           "#F8766D",
           "#A3A500",
           "#00BF7D",
           "#00B0F6",
           "#E76BF3"
          ],
          "font": {
           "color": "rgb(51,51,51)"
          },
          "geo": {
           "bgcolor": "white",
           "lakecolor": "white",
           "landcolor": "rgb(237,237,237)",
           "showlakes": true,
           "showland": true,
           "subunitcolor": "white"
          },
          "hoverlabel": {
           "align": "left"
          },
          "hovermode": "closest",
          "paper_bgcolor": "white",
          "plot_bgcolor": "rgb(237,237,237)",
          "polar": {
           "angularaxis": {
            "gridcolor": "white",
            "linecolor": "white",
            "showgrid": true,
            "tickcolor": "rgb(51,51,51)",
            "ticks": "outside"
           },
           "bgcolor": "rgb(237,237,237)",
           "radialaxis": {
            "gridcolor": "white",
            "linecolor": "white",
            "showgrid": true,
            "tickcolor": "rgb(51,51,51)",
            "ticks": "outside"
           }
          },
          "scene": {
           "xaxis": {
            "backgroundcolor": "rgb(237,237,237)",
            "gridcolor": "white",
            "gridwidth": 2,
            "linecolor": "white",
            "showbackground": true,
            "showgrid": true,
            "tickcolor": "rgb(51,51,51)",
            "ticks": "outside",
            "zerolinecolor": "white"
           },
           "yaxis": {
            "backgroundcolor": "rgb(237,237,237)",
            "gridcolor": "white",
            "gridwidth": 2,
            "linecolor": "white",
            "showbackground": true,
            "showgrid": true,
            "tickcolor": "rgb(51,51,51)",
            "ticks": "outside",
            "zerolinecolor": "white"
           },
           "zaxis": {
            "backgroundcolor": "rgb(237,237,237)",
            "gridcolor": "white",
            "gridwidth": 2,
            "linecolor": "white",
            "showbackground": true,
            "showgrid": true,
            "tickcolor": "rgb(51,51,51)",
            "ticks": "outside",
            "zerolinecolor": "white"
           }
          },
          "shapedefaults": {
           "fillcolor": "black",
           "line": {
            "width": 0
           },
           "opacity": 0.3
          },
          "ternary": {
           "aaxis": {
            "gridcolor": "white",
            "linecolor": "white",
            "showgrid": true,
            "tickcolor": "rgb(51,51,51)",
            "ticks": "outside"
           },
           "baxis": {
            "gridcolor": "white",
            "linecolor": "white",
            "showgrid": true,
            "tickcolor": "rgb(51,51,51)",
            "ticks": "outside"
           },
           "bgcolor": "rgb(237,237,237)",
           "caxis": {
            "gridcolor": "white",
            "linecolor": "white",
            "showgrid": true,
            "tickcolor": "rgb(51,51,51)",
            "ticks": "outside"
           }
          },
          "xaxis": {
           "automargin": true,
           "gridcolor": "white",
           "linecolor": "white",
           "showgrid": true,
           "tickcolor": "rgb(51,51,51)",
           "ticks": "outside",
           "title": {
            "standoff": 15
           },
           "zerolinecolor": "white"
          },
          "yaxis": {
           "automargin": true,
           "gridcolor": "white",
           "linecolor": "white",
           "showgrid": true,
           "tickcolor": "rgb(51,51,51)",
           "ticks": "outside",
           "title": {
            "standoff": 15
           },
           "zerolinecolor": "white"
          }
         }
        },
        "title": {
         "text": "Partial Autocorrelation (PACF) | Quantity"
        },
        "xaxis": {
         "anchor": "y",
         "domain": [
          0,
          1
         ],
         "range": [
          -1,
          19
         ],
         "title": {
          "text": "Lags"
         }
        },
        "yaxis": {
         "anchor": "x",
         "domain": [
          0,
          1
         ],
         "range": [
          -1.1,
          1.1
         ],
         "title": {
          "text": "PACF"
         },
         "zerolinecolor": "#000000"
        }
       }
      }
     },
     "metadata": {},
     "output_type": "display_data"
    }
   ],
   "source": [
    "exp.plot_model(plot='acf')\n",
    "exp.plot_model(plot='pacf')"
   ]
  },
  {
   "cell_type": "markdown",
   "metadata": {},
   "source": [
    "### Comparing Models"
   ]
  },
  {
   "cell_type": "code",
   "execution_count": 34,
   "metadata": {},
   "outputs": [
    {
     "data": {
      "text/html": [],
      "text/plain": [
       "<IPython.core.display.HTML object>"
      ]
     },
     "metadata": {},
     "output_type": "display_data"
    },
    {
     "data": {
      "text/html": [
       "<style type=\"text/css\">\n",
       "#T_8e9cd th {\n",
       "  text-align: left;\n",
       "}\n",
       "#T_8e9cd_row0_col0, #T_8e9cd_row0_col5, #T_8e9cd_row0_col6, #T_8e9cd_row1_col0, #T_8e9cd_row1_col1, #T_8e9cd_row1_col2, #T_8e9cd_row1_col3, #T_8e9cd_row1_col4, #T_8e9cd_row1_col5, #T_8e9cd_row1_col7, #T_8e9cd_row2_col0, #T_8e9cd_row2_col1, #T_8e9cd_row2_col2, #T_8e9cd_row2_col3, #T_8e9cd_row2_col4, #T_8e9cd_row2_col5, #T_8e9cd_row2_col6, #T_8e9cd_row2_col7, #T_8e9cd_row3_col0, #T_8e9cd_row3_col1, #T_8e9cd_row3_col2, #T_8e9cd_row3_col3, #T_8e9cd_row3_col4, #T_8e9cd_row3_col5, #T_8e9cd_row3_col6, #T_8e9cd_row3_col7, #T_8e9cd_row4_col0, #T_8e9cd_row4_col1, #T_8e9cd_row4_col2, #T_8e9cd_row4_col3, #T_8e9cd_row4_col4, #T_8e9cd_row4_col5, #T_8e9cd_row4_col6, #T_8e9cd_row4_col7, #T_8e9cd_row5_col0, #T_8e9cd_row5_col1, #T_8e9cd_row5_col2, #T_8e9cd_row5_col3, #T_8e9cd_row5_col4, #T_8e9cd_row5_col5, #T_8e9cd_row5_col6, #T_8e9cd_row5_col7, #T_8e9cd_row6_col0, #T_8e9cd_row6_col1, #T_8e9cd_row6_col2, #T_8e9cd_row6_col3, #T_8e9cd_row6_col4, #T_8e9cd_row6_col5, #T_8e9cd_row6_col6, #T_8e9cd_row6_col7, #T_8e9cd_row7_col0, #T_8e9cd_row7_col1, #T_8e9cd_row7_col2, #T_8e9cd_row7_col3, #T_8e9cd_row7_col4, #T_8e9cd_row7_col6, #T_8e9cd_row7_col7, #T_8e9cd_row8_col0, #T_8e9cd_row8_col1, #T_8e9cd_row8_col2, #T_8e9cd_row8_col3, #T_8e9cd_row8_col4, #T_8e9cd_row8_col5, #T_8e9cd_row8_col6, #T_8e9cd_row8_col7, #T_8e9cd_row9_col0, #T_8e9cd_row9_col1, #T_8e9cd_row9_col2, #T_8e9cd_row9_col3, #T_8e9cd_row9_col4, #T_8e9cd_row9_col5, #T_8e9cd_row9_col6, #T_8e9cd_row9_col7, #T_8e9cd_row10_col0, #T_8e9cd_row10_col1, #T_8e9cd_row10_col2, #T_8e9cd_row10_col3, #T_8e9cd_row10_col4, #T_8e9cd_row10_col5, #T_8e9cd_row10_col6, #T_8e9cd_row10_col7, #T_8e9cd_row11_col0, #T_8e9cd_row11_col1, #T_8e9cd_row11_col2, #T_8e9cd_row11_col3, #T_8e9cd_row11_col4, #T_8e9cd_row11_col5, #T_8e9cd_row11_col6, #T_8e9cd_row11_col7, #T_8e9cd_row12_col0, #T_8e9cd_row12_col1, #T_8e9cd_row12_col2, #T_8e9cd_row12_col3, #T_8e9cd_row12_col4, #T_8e9cd_row12_col5, #T_8e9cd_row12_col6, #T_8e9cd_row12_col7, #T_8e9cd_row13_col0, #T_8e9cd_row13_col1, #T_8e9cd_row13_col2, #T_8e9cd_row13_col3, #T_8e9cd_row13_col4, #T_8e9cd_row13_col5, #T_8e9cd_row13_col6, #T_8e9cd_row13_col7, #T_8e9cd_row14_col0, #T_8e9cd_row14_col1, #T_8e9cd_row14_col2, #T_8e9cd_row14_col3, #T_8e9cd_row14_col4, #T_8e9cd_row14_col5, #T_8e9cd_row14_col6, #T_8e9cd_row14_col7, #T_8e9cd_row15_col0, #T_8e9cd_row15_col1, #T_8e9cd_row15_col2, #T_8e9cd_row15_col3, #T_8e9cd_row15_col4, #T_8e9cd_row15_col5, #T_8e9cd_row15_col6, #T_8e9cd_row15_col7, #T_8e9cd_row16_col0, #T_8e9cd_row16_col1, #T_8e9cd_row16_col2, #T_8e9cd_row16_col3, #T_8e9cd_row16_col4, #T_8e9cd_row16_col5, #T_8e9cd_row16_col6, #T_8e9cd_row16_col7, #T_8e9cd_row17_col0, #T_8e9cd_row17_col1, #T_8e9cd_row17_col2, #T_8e9cd_row17_col3, #T_8e9cd_row17_col4, #T_8e9cd_row17_col5, #T_8e9cd_row17_col6, #T_8e9cd_row17_col7, #T_8e9cd_row18_col0, #T_8e9cd_row18_col1, #T_8e9cd_row18_col2, #T_8e9cd_row18_col3, #T_8e9cd_row18_col4, #T_8e9cd_row18_col5, #T_8e9cd_row18_col6, #T_8e9cd_row18_col7, #T_8e9cd_row19_col0, #T_8e9cd_row19_col1, #T_8e9cd_row19_col2, #T_8e9cd_row19_col3, #T_8e9cd_row19_col4, #T_8e9cd_row19_col5, #T_8e9cd_row19_col6, #T_8e9cd_row19_col7, #T_8e9cd_row20_col0, #T_8e9cd_row20_col1, #T_8e9cd_row20_col2, #T_8e9cd_row20_col3, #T_8e9cd_row20_col4, #T_8e9cd_row20_col5, #T_8e9cd_row20_col6, #T_8e9cd_row20_col7, #T_8e9cd_row21_col0, #T_8e9cd_row21_col1, #T_8e9cd_row21_col2, #T_8e9cd_row21_col3, #T_8e9cd_row21_col4, #T_8e9cd_row21_col5, #T_8e9cd_row21_col6, #T_8e9cd_row21_col7, #T_8e9cd_row22_col0, #T_8e9cd_row22_col1, #T_8e9cd_row22_col2, #T_8e9cd_row22_col3, #T_8e9cd_row22_col4, #T_8e9cd_row22_col5, #T_8e9cd_row22_col6, #T_8e9cd_row22_col7, #T_8e9cd_row23_col0, #T_8e9cd_row23_col1, #T_8e9cd_row23_col2, #T_8e9cd_row23_col3, #T_8e9cd_row23_col4, #T_8e9cd_row23_col5, #T_8e9cd_row23_col6, #T_8e9cd_row23_col7, #T_8e9cd_row24_col0, #T_8e9cd_row24_col1, #T_8e9cd_row24_col2, #T_8e9cd_row24_col3, #T_8e9cd_row24_col4, #T_8e9cd_row24_col5, #T_8e9cd_row24_col6, #T_8e9cd_row24_col7, #T_8e9cd_row25_col0, #T_8e9cd_row25_col1, #T_8e9cd_row25_col2, #T_8e9cd_row25_col3, #T_8e9cd_row25_col4, #T_8e9cd_row25_col5, #T_8e9cd_row25_col6, #T_8e9cd_row25_col7 {\n",
       "  text-align: left;\n",
       "}\n",
       "#T_8e9cd_row0_col1, #T_8e9cd_row0_col2, #T_8e9cd_row0_col3, #T_8e9cd_row0_col4, #T_8e9cd_row0_col7, #T_8e9cd_row1_col6, #T_8e9cd_row7_col5 {\n",
       "  text-align: left;\n",
       "  background-color: yellow;\n",
       "}\n",
       "#T_8e9cd_row0_col8, #T_8e9cd_row1_col8, #T_8e9cd_row2_col8, #T_8e9cd_row3_col8, #T_8e9cd_row4_col8, #T_8e9cd_row5_col8, #T_8e9cd_row6_col8, #T_8e9cd_row7_col8, #T_8e9cd_row8_col8, #T_8e9cd_row9_col8, #T_8e9cd_row10_col8, #T_8e9cd_row11_col8, #T_8e9cd_row12_col8, #T_8e9cd_row13_col8, #T_8e9cd_row14_col8, #T_8e9cd_row15_col8, #T_8e9cd_row16_col8, #T_8e9cd_row17_col8, #T_8e9cd_row18_col8, #T_8e9cd_row19_col8, #T_8e9cd_row21_col8, #T_8e9cd_row22_col8, #T_8e9cd_row23_col8, #T_8e9cd_row24_col8, #T_8e9cd_row25_col8 {\n",
       "  text-align: left;\n",
       "  background-color: lightgrey;\n",
       "}\n",
       "#T_8e9cd_row20_col8 {\n",
       "  text-align: left;\n",
       "  background-color: yellow;\n",
       "  background-color: lightgrey;\n",
       "}\n",
       "</style>\n",
       "<table id=\"T_8e9cd\">\n",
       "  <thead>\n",
       "    <tr>\n",
       "      <th class=\"blank level0\" >&nbsp;</th>\n",
       "      <th id=\"T_8e9cd_level0_col0\" class=\"col_heading level0 col0\" >Model</th>\n",
       "      <th id=\"T_8e9cd_level0_col1\" class=\"col_heading level0 col1\" >MASE</th>\n",
       "      <th id=\"T_8e9cd_level0_col2\" class=\"col_heading level0 col2\" >RMSSE</th>\n",
       "      <th id=\"T_8e9cd_level0_col3\" class=\"col_heading level0 col3\" >MAE</th>\n",
       "      <th id=\"T_8e9cd_level0_col4\" class=\"col_heading level0 col4\" >RMSE</th>\n",
       "      <th id=\"T_8e9cd_level0_col5\" class=\"col_heading level0 col5\" >MAPE</th>\n",
       "      <th id=\"T_8e9cd_level0_col6\" class=\"col_heading level0 col6\" >SMAPE</th>\n",
       "      <th id=\"T_8e9cd_level0_col7\" class=\"col_heading level0 col7\" >R2</th>\n",
       "      <th id=\"T_8e9cd_level0_col8\" class=\"col_heading level0 col8\" >TT (Sec)</th>\n",
       "    </tr>\n",
       "  </thead>\n",
       "  <tbody>\n",
       "    <tr>\n",
       "      <th id=\"T_8e9cd_level0_row0\" class=\"row_heading level0 row0\" >gbr_cds_dt</th>\n",
       "      <td id=\"T_8e9cd_row0_col0\" class=\"data row0 col0\" >Gradient Boosting w/ Cond. Deseasonalize & Detrending</td>\n",
       "      <td id=\"T_8e9cd_row0_col1\" class=\"data row0 col1\" >1.1140</td>\n",
       "      <td id=\"T_8e9cd_row0_col2\" class=\"data row0 col2\" >0.8525</td>\n",
       "      <td id=\"T_8e9cd_row0_col3\" class=\"data row0 col3\" >30699.4535</td>\n",
       "      <td id=\"T_8e9cd_row0_col4\" class=\"data row0 col4\" >34313.9629</td>\n",
       "      <td id=\"T_8e9cd_row0_col5\" class=\"data row0 col5\" >0.6666</td>\n",
       "      <td id=\"T_8e9cd_row0_col6\" class=\"data row0 col6\" >0.4387</td>\n",
       "      <td id=\"T_8e9cd_row0_col7\" class=\"data row0 col7\" >-0.7509</td>\n",
       "      <td id=\"T_8e9cd_row0_col8\" class=\"data row0 col8\" >0.0667</td>\n",
       "    </tr>\n",
       "    <tr>\n",
       "      <th id=\"T_8e9cd_level0_row1\" class=\"row_heading level0 row1\" >huber_cds_dt</th>\n",
       "      <td id=\"T_8e9cd_row1_col0\" class=\"data row1 col0\" >Huber w/ Cond. Deseasonalize & Detrending</td>\n",
       "      <td id=\"T_8e9cd_row1_col1\" class=\"data row1 col1\" >1.1807</td>\n",
       "      <td id=\"T_8e9cd_row1_col2\" class=\"data row1 col2\" >0.9847</td>\n",
       "      <td id=\"T_8e9cd_row1_col3\" class=\"data row1 col3\" >32760.8292</td>\n",
       "      <td id=\"T_8e9cd_row1_col4\" class=\"data row1 col4\" >39866.3903</td>\n",
       "      <td id=\"T_8e9cd_row1_col5\" class=\"data row1 col5\" >0.7687</td>\n",
       "      <td id=\"T_8e9cd_row1_col6\" class=\"data row1 col6\" >0.4243</td>\n",
       "      <td id=\"T_8e9cd_row1_col7\" class=\"data row1 col7\" >-1.0466</td>\n",
       "      <td id=\"T_8e9cd_row1_col8\" class=\"data row1 col8\" >0.0600</td>\n",
       "    </tr>\n",
       "    <tr>\n",
       "      <th id=\"T_8e9cd_level0_row2\" class=\"row_heading level0 row2\" >lr_cds_dt</th>\n",
       "      <td id=\"T_8e9cd_row2_col0\" class=\"data row2 col0\" >Linear w/ Cond. Deseasonalize & Detrending</td>\n",
       "      <td id=\"T_8e9cd_row2_col1\" class=\"data row2 col1\" >1.1967</td>\n",
       "      <td id=\"T_8e9cd_row2_col2\" class=\"data row2 col2\" >0.9912</td>\n",
       "      <td id=\"T_8e9cd_row2_col3\" class=\"data row2 col3\" >33237.9138</td>\n",
       "      <td id=\"T_8e9cd_row2_col4\" class=\"data row2 col4\" >40156.9107</td>\n",
       "      <td id=\"T_8e9cd_row2_col5\" class=\"data row2 col5\" >0.7722</td>\n",
       "      <td id=\"T_8e9cd_row2_col6\" class=\"data row2 col6\" >0.4301</td>\n",
       "      <td id=\"T_8e9cd_row2_col7\" class=\"data row2 col7\" >-1.0606</td>\n",
       "      <td id=\"T_8e9cd_row2_col8\" class=\"data row2 col8\" >0.3133</td>\n",
       "    </tr>\n",
       "    <tr>\n",
       "      <th id=\"T_8e9cd_level0_row3\" class=\"row_heading level0 row3\" >omp_cds_dt</th>\n",
       "      <td id=\"T_8e9cd_row3_col0\" class=\"data row3 col0\" >Orthogonal Matching Pursuit w/ Cond. Deseasonalize & Detrending</td>\n",
       "      <td id=\"T_8e9cd_row3_col1\" class=\"data row3 col1\" >1.1967</td>\n",
       "      <td id=\"T_8e9cd_row3_col2\" class=\"data row3 col2\" >0.9912</td>\n",
       "      <td id=\"T_8e9cd_row3_col3\" class=\"data row3 col3\" >33237.9138</td>\n",
       "      <td id=\"T_8e9cd_row3_col4\" class=\"data row3 col4\" >40156.9107</td>\n",
       "      <td id=\"T_8e9cd_row3_col5\" class=\"data row3 col5\" >0.7722</td>\n",
       "      <td id=\"T_8e9cd_row3_col6\" class=\"data row3 col6\" >0.4301</td>\n",
       "      <td id=\"T_8e9cd_row3_col7\" class=\"data row3 col7\" >-1.0606</td>\n",
       "      <td id=\"T_8e9cd_row3_col8\" class=\"data row3 col8\" >0.0533</td>\n",
       "    </tr>\n",
       "    <tr>\n",
       "      <th id=\"T_8e9cd_level0_row4\" class=\"row_heading level0 row4\" >br_cds_dt</th>\n",
       "      <td id=\"T_8e9cd_row4_col0\" class=\"data row4 col0\" >Bayesian Ridge w/ Cond. Deseasonalize & Detrending</td>\n",
       "      <td id=\"T_8e9cd_row4_col1\" class=\"data row4 col1\" >1.2210</td>\n",
       "      <td id=\"T_8e9cd_row4_col2\" class=\"data row4 col2\" >1.0006</td>\n",
       "      <td id=\"T_8e9cd_row4_col3\" class=\"data row4 col3\" >33856.2027</td>\n",
       "      <td id=\"T_8e9cd_row4_col4\" class=\"data row4 col4\" >40520.2501</td>\n",
       "      <td id=\"T_8e9cd_row4_col5\" class=\"data row4 col5\" >0.7833</td>\n",
       "      <td id=\"T_8e9cd_row4_col6\" class=\"data row4 col6\" >0.4340</td>\n",
       "      <td id=\"T_8e9cd_row4_col7\" class=\"data row4 col7\" >-1.1083</td>\n",
       "      <td id=\"T_8e9cd_row4_col8\" class=\"data row4 col8\" >0.1267</td>\n",
       "    </tr>\n",
       "    <tr>\n",
       "      <th id=\"T_8e9cd_level0_row5\" class=\"row_heading level0 row5\" >ridge_cds_dt</th>\n",
       "      <td id=\"T_8e9cd_row5_col0\" class=\"data row5 col0\" >Ridge w/ Cond. Deseasonalize & Detrending</td>\n",
       "      <td id=\"T_8e9cd_row5_col1\" class=\"data row5 col1\" >1.2500</td>\n",
       "      <td id=\"T_8e9cd_row5_col2\" class=\"data row5 col2\" >1.0157</td>\n",
       "      <td id=\"T_8e9cd_row5_col3\" class=\"data row5 col3\" >34629.3652</td>\n",
       "      <td id=\"T_8e9cd_row5_col4\" class=\"data row5 col4\" >41105.4973</td>\n",
       "      <td id=\"T_8e9cd_row5_col5\" class=\"data row5 col5\" >0.7863</td>\n",
       "      <td id=\"T_8e9cd_row5_col6\" class=\"data row5 col6\" >0.4430</td>\n",
       "      <td id=\"T_8e9cd_row5_col7\" class=\"data row5 col7\" >-1.1584</td>\n",
       "      <td id=\"T_8e9cd_row5_col8\" class=\"data row5 col8\" >0.1533</td>\n",
       "    </tr>\n",
       "    <tr>\n",
       "      <th id=\"T_8e9cd_level0_row6\" class=\"row_heading level0 row6\" >rf_cds_dt</th>\n",
       "      <td id=\"T_8e9cd_row6_col0\" class=\"data row6 col0\" >Random Forest w/ Cond. Deseasonalize & Detrending</td>\n",
       "      <td id=\"T_8e9cd_row6_col1\" class=\"data row6 col1\" >1.2874</td>\n",
       "      <td id=\"T_8e9cd_row6_col2\" class=\"data row6 col2\" >1.0249</td>\n",
       "      <td id=\"T_8e9cd_row6_col3\" class=\"data row6 col3\" >35866.3144</td>\n",
       "      <td id=\"T_8e9cd_row6_col4\" class=\"data row6 col4\" >41428.8617</td>\n",
       "      <td id=\"T_8e9cd_row6_col5\" class=\"data row6 col5\" >0.6259</td>\n",
       "      <td id=\"T_8e9cd_row6_col6\" class=\"data row6 col6\" >0.4962</td>\n",
       "      <td id=\"T_8e9cd_row6_col7\" class=\"data row6 col7\" >-1.0812</td>\n",
       "      <td id=\"T_8e9cd_row6_col8\" class=\"data row6 col8\" >0.1233</td>\n",
       "    </tr>\n",
       "    <tr>\n",
       "      <th id=\"T_8e9cd_level0_row7\" class=\"row_heading level0 row7\" >et_cds_dt</th>\n",
       "      <td id=\"T_8e9cd_row7_col0\" class=\"data row7 col0\" >Extra Trees w/ Cond. Deseasonalize & Detrending</td>\n",
       "      <td id=\"T_8e9cd_row7_col1\" class=\"data row7 col1\" >1.2529</td>\n",
       "      <td id=\"T_8e9cd_row7_col2\" class=\"data row7 col2\" >1.0443</td>\n",
       "      <td id=\"T_8e9cd_row7_col3\" class=\"data row7 col3\" >35059.3388</td>\n",
       "      <td id=\"T_8e9cd_row7_col4\" class=\"data row7 col4\" >42403.7178</td>\n",
       "      <td id=\"T_8e9cd_row7_col5\" class=\"data row7 col5\" >0.5757</td>\n",
       "      <td id=\"T_8e9cd_row7_col6\" class=\"data row7 col6\" >0.4583</td>\n",
       "      <td id=\"T_8e9cd_row7_col7\" class=\"data row7 col7\" >-1.0295</td>\n",
       "      <td id=\"T_8e9cd_row7_col8\" class=\"data row7 col8\" >0.1167</td>\n",
       "    </tr>\n",
       "    <tr>\n",
       "      <th id=\"T_8e9cd_level0_row8\" class=\"row_heading level0 row8\" >lightgbm_cds_dt</th>\n",
       "      <td id=\"T_8e9cd_row8_col0\" class=\"data row8 col0\" >Light Gradient Boosting w/ Cond. Deseasonalize & Detrending</td>\n",
       "      <td id=\"T_8e9cd_row8_col1\" class=\"data row8 col1\" >1.3491</td>\n",
       "      <td id=\"T_8e9cd_row8_col2\" class=\"data row8 col2\" >1.0874</td>\n",
       "      <td id=\"T_8e9cd_row8_col3\" class=\"data row8 col3\" >37467.2386</td>\n",
       "      <td id=\"T_8e9cd_row8_col4\" class=\"data row8 col4\" >43974.3816</td>\n",
       "      <td id=\"T_8e9cd_row8_col5\" class=\"data row8 col5\" >0.7160</td>\n",
       "      <td id=\"T_8e9cd_row8_col6\" class=\"data row8 col6\" >0.4913</td>\n",
       "      <td id=\"T_8e9cd_row8_col7\" class=\"data row8 col7\" >-1.3097</td>\n",
       "      <td id=\"T_8e9cd_row8_col8\" class=\"data row8 col8\" >0.1167</td>\n",
       "    </tr>\n",
       "    <tr>\n",
       "      <th id=\"T_8e9cd_level0_row9\" class=\"row_heading level0 row9\" >en_cds_dt</th>\n",
       "      <td id=\"T_8e9cd_row9_col0\" class=\"data row9 col0\" >Elastic Net w/ Cond. Deseasonalize & Detrending</td>\n",
       "      <td id=\"T_8e9cd_row9_col1\" class=\"data row9 col1\" >1.3425</td>\n",
       "      <td id=\"T_8e9cd_row9_col2\" class=\"data row9 col2\" >1.0919</td>\n",
       "      <td id=\"T_8e9cd_row9_col3\" class=\"data row9 col3\" >37075.0113</td>\n",
       "      <td id=\"T_8e9cd_row9_col4\" class=\"data row9 col4\" >44090.9000</td>\n",
       "      <td id=\"T_8e9cd_row9_col5\" class=\"data row9 col5\" >0.8472</td>\n",
       "      <td id=\"T_8e9cd_row9_col6\" class=\"data row9 col6\" >0.4663</td>\n",
       "      <td id=\"T_8e9cd_row9_col7\" class=\"data row9 col7\" >-1.5969</td>\n",
       "      <td id=\"T_8e9cd_row9_col8\" class=\"data row9 col8\" >0.1600</td>\n",
       "    </tr>\n",
       "    <tr>\n",
       "      <th id=\"T_8e9cd_level0_row10\" class=\"row_heading level0 row10\" >lasso_cds_dt</th>\n",
       "      <td id=\"T_8e9cd_row10_col0\" class=\"data row10 col0\" >Lasso w/ Cond. Deseasonalize & Detrending</td>\n",
       "      <td id=\"T_8e9cd_row10_col1\" class=\"data row10 col1\" >1.3425</td>\n",
       "      <td id=\"T_8e9cd_row10_col2\" class=\"data row10 col2\" >1.0919</td>\n",
       "      <td id=\"T_8e9cd_row10_col3\" class=\"data row10 col3\" >37075.0113</td>\n",
       "      <td id=\"T_8e9cd_row10_col4\" class=\"data row10 col4\" >44090.9000</td>\n",
       "      <td id=\"T_8e9cd_row10_col5\" class=\"data row10 col5\" >0.8472</td>\n",
       "      <td id=\"T_8e9cd_row10_col6\" class=\"data row10 col6\" >0.4663</td>\n",
       "      <td id=\"T_8e9cd_row10_col7\" class=\"data row10 col7\" >-1.5969</td>\n",
       "      <td id=\"T_8e9cd_row10_col8\" class=\"data row10 col8\" >0.1400</td>\n",
       "    </tr>\n",
       "    <tr>\n",
       "      <th id=\"T_8e9cd_level0_row11\" class=\"row_heading level0 row11\" >llar_cds_dt</th>\n",
       "      <td id=\"T_8e9cd_row11_col0\" class=\"data row11 col0\" >Lasso Least Angular Regressor w/ Cond. Deseasonalize & Detrending</td>\n",
       "      <td id=\"T_8e9cd_row11_col1\" class=\"data row11 col1\" >1.3425</td>\n",
       "      <td id=\"T_8e9cd_row11_col2\" class=\"data row11 col2\" >1.0919</td>\n",
       "      <td id=\"T_8e9cd_row11_col3\" class=\"data row11 col3\" >37075.0113</td>\n",
       "      <td id=\"T_8e9cd_row11_col4\" class=\"data row11 col4\" >44090.9000</td>\n",
       "      <td id=\"T_8e9cd_row11_col5\" class=\"data row11 col5\" >0.8472</td>\n",
       "      <td id=\"T_8e9cd_row11_col6\" class=\"data row11 col6\" >0.4663</td>\n",
       "      <td id=\"T_8e9cd_row11_col7\" class=\"data row11 col7\" >-1.5969</td>\n",
       "      <td id=\"T_8e9cd_row11_col8\" class=\"data row11 col8\" >0.1600</td>\n",
       "    </tr>\n",
       "    <tr>\n",
       "      <th id=\"T_8e9cd_level0_row12\" class=\"row_heading level0 row12\" >polytrend</th>\n",
       "      <td id=\"T_8e9cd_row12_col0\" class=\"data row12 col0\" >Polynomial Trend Forecaster</td>\n",
       "      <td id=\"T_8e9cd_row12_col1\" class=\"data row12 col1\" >1.3429</td>\n",
       "      <td id=\"T_8e9cd_row12_col2\" class=\"data row12 col2\" >1.0942</td>\n",
       "      <td id=\"T_8e9cd_row12_col3\" class=\"data row12 col3\" >37088.1828</td>\n",
       "      <td id=\"T_8e9cd_row12_col4\" class=\"data row12 col4\" >44181.9795</td>\n",
       "      <td id=\"T_8e9cd_row12_col5\" class=\"data row12 col5\" >0.8386</td>\n",
       "      <td id=\"T_8e9cd_row12_col6\" class=\"data row12 col6\" >0.4677</td>\n",
       "      <td id=\"T_8e9cd_row12_col7\" class=\"data row12 col7\" >-1.5926</td>\n",
       "      <td id=\"T_8e9cd_row12_col8\" class=\"data row12 col8\" >1.2000</td>\n",
       "    </tr>\n",
       "    <tr>\n",
       "      <th id=\"T_8e9cd_level0_row13\" class=\"row_heading level0 row13\" >exp_smooth</th>\n",
       "      <td id=\"T_8e9cd_row13_col0\" class=\"data row13 col0\" >Exponential Smoothing</td>\n",
       "      <td id=\"T_8e9cd_row13_col1\" class=\"data row13 col1\" >1.3429</td>\n",
       "      <td id=\"T_8e9cd_row13_col2\" class=\"data row13 col2\" >1.0942</td>\n",
       "      <td id=\"T_8e9cd_row13_col3\" class=\"data row13 col3\" >37088.5536</td>\n",
       "      <td id=\"T_8e9cd_row13_col4\" class=\"data row13 col4\" >44182.3168</td>\n",
       "      <td id=\"T_8e9cd_row13_col5\" class=\"data row13 col5\" >0.8386</td>\n",
       "      <td id=\"T_8e9cd_row13_col6\" class=\"data row13 col6\" >0.4677</td>\n",
       "      <td id=\"T_8e9cd_row13_col7\" class=\"data row13 col7\" >-1.5926</td>\n",
       "      <td id=\"T_8e9cd_row13_col8\" class=\"data row13 col8\" >0.9633</td>\n",
       "    </tr>\n",
       "    <tr>\n",
       "      <th id=\"T_8e9cd_level0_row14\" class=\"row_heading level0 row14\" >knn_cds_dt</th>\n",
       "      <td id=\"T_8e9cd_row14_col0\" class=\"data row14 col0\" >K Neighbors w/ Cond. Deseasonalize & Detrending</td>\n",
       "      <td id=\"T_8e9cd_row14_col1\" class=\"data row14 col1\" >1.4962</td>\n",
       "      <td id=\"T_8e9cd_row14_col2\" class=\"data row14 col2\" >1.1508</td>\n",
       "      <td id=\"T_8e9cd_row14_col3\" class=\"data row14 col3\" >41171.7353</td>\n",
       "      <td id=\"T_8e9cd_row14_col4\" class=\"data row14 col4\" >46254.3811</td>\n",
       "      <td id=\"T_8e9cd_row14_col5\" class=\"data row14 col5\" >0.6679</td>\n",
       "      <td id=\"T_8e9cd_row14_col6\" class=\"data row14 col6\" >0.5040</td>\n",
       "      <td id=\"T_8e9cd_row14_col7\" class=\"data row14 col7\" >-2.5579</td>\n",
       "      <td id=\"T_8e9cd_row14_col8\" class=\"data row14 col8\" >0.0867</td>\n",
       "    </tr>\n",
       "    <tr>\n",
       "      <th id=\"T_8e9cd_level0_row15\" class=\"row_heading level0 row15\" >bats</th>\n",
       "      <td id=\"T_8e9cd_row15_col0\" class=\"data row15 col0\" >BATS</td>\n",
       "      <td id=\"T_8e9cd_row15_col1\" class=\"data row15 col1\" >1.5216</td>\n",
       "      <td id=\"T_8e9cd_row15_col2\" class=\"data row15 col2\" >1.1598</td>\n",
       "      <td id=\"T_8e9cd_row15_col3\" class=\"data row15 col3\" >42252.7305</td>\n",
       "      <td id=\"T_8e9cd_row15_col4\" class=\"data row15 col4\" >46857.5229</td>\n",
       "      <td id=\"T_8e9cd_row15_col5\" class=\"data row15 col5\" >0.7093</td>\n",
       "      <td id=\"T_8e9cd_row15_col6\" class=\"data row15 col6\" >0.5767</td>\n",
       "      <td id=\"T_8e9cd_row15_col7\" class=\"data row15 col7\" >-1.7443</td>\n",
       "      <td id=\"T_8e9cd_row15_col8\" class=\"data row15 col8\" >2.7500</td>\n",
       "    </tr>\n",
       "    <tr>\n",
       "      <th id=\"T_8e9cd_level0_row16\" class=\"row_heading level0 row16\" >tbats</th>\n",
       "      <td id=\"T_8e9cd_row16_col0\" class=\"data row16 col0\" >TBATS</td>\n",
       "      <td id=\"T_8e9cd_row16_col1\" class=\"data row16 col1\" >1.5216</td>\n",
       "      <td id=\"T_8e9cd_row16_col2\" class=\"data row16 col2\" >1.1598</td>\n",
       "      <td id=\"T_8e9cd_row16_col3\" class=\"data row16 col3\" >42252.7305</td>\n",
       "      <td id=\"T_8e9cd_row16_col4\" class=\"data row16 col4\" >46857.5229</td>\n",
       "      <td id=\"T_8e9cd_row16_col5\" class=\"data row16 col5\" >0.7093</td>\n",
       "      <td id=\"T_8e9cd_row16_col6\" class=\"data row16 col6\" >0.5767</td>\n",
       "      <td id=\"T_8e9cd_row16_col7\" class=\"data row16 col7\" >-1.7443</td>\n",
       "      <td id=\"T_8e9cd_row16_col8\" class=\"data row16 col8\" >5.4800</td>\n",
       "    </tr>\n",
       "    <tr>\n",
       "      <th id=\"T_8e9cd_level0_row17\" class=\"row_heading level0 row17\" >arima</th>\n",
       "      <td id=\"T_8e9cd_row17_col0\" class=\"data row17 col0\" >ARIMA</td>\n",
       "      <td id=\"T_8e9cd_row17_col1\" class=\"data row17 col1\" >1.5580</td>\n",
       "      <td id=\"T_8e9cd_row17_col2\" class=\"data row17 col2\" >1.1989</td>\n",
       "      <td id=\"T_8e9cd_row17_col3\" class=\"data row17 col3\" >43304.5624</td>\n",
       "      <td id=\"T_8e9cd_row17_col4\" class=\"data row17 col4\" >48431.7040</td>\n",
       "      <td id=\"T_8e9cd_row17_col5\" class=\"data row17 col5\" >0.6167</td>\n",
       "      <td id=\"T_8e9cd_row17_col6\" class=\"data row17 col6\" >0.6042</td>\n",
       "      <td id=\"T_8e9cd_row17_col7\" class=\"data row17 col7\" >-2.0320</td>\n",
       "      <td id=\"T_8e9cd_row17_col8\" class=\"data row17 col8\" >1.1700</td>\n",
       "    </tr>\n",
       "    <tr>\n",
       "      <th id=\"T_8e9cd_level0_row18\" class=\"row_heading level0 row18\" >ada_cds_dt</th>\n",
       "      <td id=\"T_8e9cd_row18_col0\" class=\"data row18 col0\" >AdaBoost w/ Cond. Deseasonalize & Detrending</td>\n",
       "      <td id=\"T_8e9cd_row18_col1\" class=\"data row18 col1\" >1.5678</td>\n",
       "      <td id=\"T_8e9cd_row18_col2\" class=\"data row18 col2\" >1.2172</td>\n",
       "      <td id=\"T_8e9cd_row18_col3\" class=\"data row18 col3\" >43347.3543</td>\n",
       "      <td id=\"T_8e9cd_row18_col4\" class=\"data row18 col4\" >49084.9364</td>\n",
       "      <td id=\"T_8e9cd_row18_col5\" class=\"data row18 col5\" >0.7296</td>\n",
       "      <td id=\"T_8e9cd_row18_col6\" class=\"data row18 col6\" >0.5819</td>\n",
       "      <td id=\"T_8e9cd_row18_col7\" class=\"data row18 col7\" >-2.2835</td>\n",
       "      <td id=\"T_8e9cd_row18_col8\" class=\"data row18 col8\" >0.0833</td>\n",
       "    </tr>\n",
       "    <tr>\n",
       "      <th id=\"T_8e9cd_level0_row19\" class=\"row_heading level0 row19\" >theta</th>\n",
       "      <td id=\"T_8e9cd_row19_col0\" class=\"data row19 col0\" >Theta Forecaster</td>\n",
       "      <td id=\"T_8e9cd_row19_col1\" class=\"data row19 col1\" >1.5228</td>\n",
       "      <td id=\"T_8e9cd_row19_col2\" class=\"data row19 col2\" >1.2254</td>\n",
       "      <td id=\"T_8e9cd_row19_col3\" class=\"data row19 col3\" >42299.1552</td>\n",
       "      <td id=\"T_8e9cd_row19_col4\" class=\"data row19 col4\" >49569.0291</td>\n",
       "      <td id=\"T_8e9cd_row19_col5\" class=\"data row19 col5\" >0.8503</td>\n",
       "      <td id=\"T_8e9cd_row19_col6\" class=\"data row19 col6\" >0.5467</td>\n",
       "      <td id=\"T_8e9cd_row19_col7\" class=\"data row19 col7\" >-1.9419</td>\n",
       "      <td id=\"T_8e9cd_row19_col8\" class=\"data row19 col8\" >0.0367</td>\n",
       "    </tr>\n",
       "    <tr>\n",
       "      <th id=\"T_8e9cd_level0_row20\" class=\"row_heading level0 row20\" >croston</th>\n",
       "      <td id=\"T_8e9cd_row20_col0\" class=\"data row20 col0\" >Croston</td>\n",
       "      <td id=\"T_8e9cd_row20_col1\" class=\"data row20 col1\" >1.6064</td>\n",
       "      <td id=\"T_8e9cd_row20_col2\" class=\"data row20 col2\" >1.2424</td>\n",
       "      <td id=\"T_8e9cd_row20_col3\" class=\"data row20 col3\" >44362.8821</td>\n",
       "      <td id=\"T_8e9cd_row20_col4\" class=\"data row20 col4\" >50014.4450</td>\n",
       "      <td id=\"T_8e9cd_row20_col5\" class=\"data row20 col5\" >0.7046</td>\n",
       "      <td id=\"T_8e9cd_row20_col6\" class=\"data row20 col6\" >0.6029</td>\n",
       "      <td id=\"T_8e9cd_row20_col7\" class=\"data row20 col7\" >-2.7936</td>\n",
       "      <td id=\"T_8e9cd_row20_col8\" class=\"data row20 col8\" >0.0233</td>\n",
       "    </tr>\n",
       "    <tr>\n",
       "      <th id=\"T_8e9cd_level0_row21\" class=\"row_heading level0 row21\" >ets</th>\n",
       "      <td id=\"T_8e9cd_row21_col0\" class=\"data row21 col0\" >ETS</td>\n",
       "      <td id=\"T_8e9cd_row21_col1\" class=\"data row21 col1\" >1.6081</td>\n",
       "      <td id=\"T_8e9cd_row21_col2\" class=\"data row21 col2\" >1.2832</td>\n",
       "      <td id=\"T_8e9cd_row21_col3\" class=\"data row21 col3\" >44673.9989</td>\n",
       "      <td id=\"T_8e9cd_row21_col4\" class=\"data row21 col4\" >51923.6970</td>\n",
       "      <td id=\"T_8e9cd_row21_col5\" class=\"data row21 col5\" >0.9007</td>\n",
       "      <td id=\"T_8e9cd_row21_col6\" class=\"data row21 col6\" >0.5721</td>\n",
       "      <td id=\"T_8e9cd_row21_col7\" class=\"data row21 col7\" >-2.2196</td>\n",
       "      <td id=\"T_8e9cd_row21_col8\" class=\"data row21 col8\" >0.0467</td>\n",
       "    </tr>\n",
       "    <tr>\n",
       "      <th id=\"T_8e9cd_level0_row22\" class=\"row_heading level0 row22\" >grand_means</th>\n",
       "      <td id=\"T_8e9cd_row22_col0\" class=\"data row22 col0\" >Grand Means Forecaster</td>\n",
       "      <td id=\"T_8e9cd_row22_col1\" class=\"data row22 col1\" >1.7622</td>\n",
       "      <td id=\"T_8e9cd_row22_col2\" class=\"data row22 col2\" >1.3557</td>\n",
       "      <td id=\"T_8e9cd_row22_col3\" class=\"data row22 col3\" >48610.4252</td>\n",
       "      <td id=\"T_8e9cd_row22_col4\" class=\"data row22 col4\" >54476.2926</td>\n",
       "      <td id=\"T_8e9cd_row22_col5\" class=\"data row22 col5\" >0.6084</td>\n",
       "      <td id=\"T_8e9cd_row22_col6\" class=\"data row22 col6\" >0.6884</td>\n",
       "      <td id=\"T_8e9cd_row22_col7\" class=\"data row22 col7\" >-4.3421</td>\n",
       "      <td id=\"T_8e9cd_row22_col8\" class=\"data row22 col8\" >1.2167</td>\n",
       "    </tr>\n",
       "    <tr>\n",
       "      <th id=\"T_8e9cd_level0_row23\" class=\"row_heading level0 row23\" >dt_cds_dt</th>\n",
       "      <td id=\"T_8e9cd_row23_col0\" class=\"data row23 col0\" >Decision Tree w/ Cond. Deseasonalize & Detrending</td>\n",
       "      <td id=\"T_8e9cd_row23_col1\" class=\"data row23 col1\" >2.3983</td>\n",
       "      <td id=\"T_8e9cd_row23_col2\" class=\"data row23 col2\" >1.9497</td>\n",
       "      <td id=\"T_8e9cd_row23_col3\" class=\"data row23 col3\" >67232.9362</td>\n",
       "      <td id=\"T_8e9cd_row23_col4\" class=\"data row23 col4\" >79231.6429</td>\n",
       "      <td id=\"T_8e9cd_row23_col5\" class=\"data row23 col5\" >1.0855</td>\n",
       "      <td id=\"T_8e9cd_row23_col6\" class=\"data row23 col6\" >0.6065</td>\n",
       "      <td id=\"T_8e9cd_row23_col7\" class=\"data row23 col7\" >-6.1545</td>\n",
       "      <td id=\"T_8e9cd_row23_col8\" class=\"data row23 col8\" >0.0633</td>\n",
       "    </tr>\n",
       "    <tr>\n",
       "      <th id=\"T_8e9cd_level0_row24\" class=\"row_heading level0 row24\" >auto_arima</th>\n",
       "      <td id=\"T_8e9cd_row24_col0\" class=\"data row24 col0\" >Auto ARIMA</td>\n",
       "      <td id=\"T_8e9cd_row24_col1\" class=\"data row24 col1\" >2.7855</td>\n",
       "      <td id=\"T_8e9cd_row24_col2\" class=\"data row24 col2\" >2.0078</td>\n",
       "      <td id=\"T_8e9cd_row24_col3\" class=\"data row24 col3\" >75554.1596</td>\n",
       "      <td id=\"T_8e9cd_row24_col4\" class=\"data row24 col4\" >79854.2346</td>\n",
       "      <td id=\"T_8e9cd_row24_col5\" class=\"data row24 col5\" >1.1044</td>\n",
       "      <td id=\"T_8e9cd_row24_col6\" class=\"data row24 col6\" >0.7469</td>\n",
       "      <td id=\"T_8e9cd_row24_col7\" class=\"data row24 col7\" >-21.5992</td>\n",
       "      <td id=\"T_8e9cd_row24_col8\" class=\"data row24 col8\" >1.4133</td>\n",
       "    </tr>\n",
       "    <tr>\n",
       "      <th id=\"T_8e9cd_level0_row25\" class=\"row_heading level0 row25\" >naive</th>\n",
       "      <td id=\"T_8e9cd_row25_col0\" class=\"data row25 col0\" >Naive Forecaster</td>\n",
       "      <td id=\"T_8e9cd_row25_col1\" class=\"data row25 col1\" >2.8683</td>\n",
       "      <td id=\"T_8e9cd_row25_col2\" class=\"data row25 col2\" >2.0713</td>\n",
       "      <td id=\"T_8e9cd_row25_col3\" class=\"data row25 col3\" >77923.0000</td>\n",
       "      <td id=\"T_8e9cd_row25_col4\" class=\"data row25 col4\" >82455.4620</td>\n",
       "      <td id=\"T_8e9cd_row25_col5\" class=\"data row25 col5\" >1.1225</td>\n",
       "      <td id=\"T_8e9cd_row25_col6\" class=\"data row25 col6\" >0.7846</td>\n",
       "      <td id=\"T_8e9cd_row25_col7\" class=\"data row25 col7\" >-21.8557</td>\n",
       "      <td id=\"T_8e9cd_row25_col8\" class=\"data row25 col8\" >2.7133</td>\n",
       "    </tr>\n",
       "  </tbody>\n",
       "</table>\n"
      ],
      "text/plain": [
       "<pandas.io.formats.style.Styler at 0x1eb46901150>"
      ]
     },
     "metadata": {},
     "output_type": "display_data"
    },
    {
     "data": {
      "text/html": [],
      "text/plain": [
       "<IPython.core.display.HTML object>"
      ]
     },
     "metadata": {},
     "output_type": "display_data"
    }
   ],
   "source": [
    "best = exp.compare_models(sort='rmse', turbo=False)\n",
    "comparison_results = exp.pull()\n",
    "best_model_name = comparison_results.iloc[0]['Model']\n",
    "mean_rmse_compare = comparison_results.iloc[0]['RMSE']"
   ]
  },
  {
   "cell_type": "markdown",
   "metadata": {},
   "source": [
    "#### Tune Model"
   ]
  },
  {
   "cell_type": "code",
   "execution_count": 35,
   "metadata": {},
   "outputs": [
    {
     "data": {
      "text/html": [],
      "text/plain": [
       "<IPython.core.display.HTML object>"
      ]
     },
     "metadata": {},
     "output_type": "display_data"
    },
    {
     "data": {
      "text/html": [
       "<style type=\"text/css\">\n",
       "#T_820a1_row3_col0, #T_820a1_row3_col1, #T_820a1_row3_col2, #T_820a1_row3_col3, #T_820a1_row3_col4, #T_820a1_row3_col5, #T_820a1_row3_col6, #T_820a1_row3_col7 {\n",
       "  background: yellow;\n",
       "}\n",
       "</style>\n",
       "<table id=\"T_820a1\">\n",
       "  <thead>\n",
       "    <tr>\n",
       "      <th class=\"blank level0\" >&nbsp;</th>\n",
       "      <th id=\"T_820a1_level0_col0\" class=\"col_heading level0 col0\" >cutoff</th>\n",
       "      <th id=\"T_820a1_level0_col1\" class=\"col_heading level0 col1\" >MASE</th>\n",
       "      <th id=\"T_820a1_level0_col2\" class=\"col_heading level0 col2\" >RMSSE</th>\n",
       "      <th id=\"T_820a1_level0_col3\" class=\"col_heading level0 col3\" >MAE</th>\n",
       "      <th id=\"T_820a1_level0_col4\" class=\"col_heading level0 col4\" >RMSE</th>\n",
       "      <th id=\"T_820a1_level0_col5\" class=\"col_heading level0 col5\" >MAPE</th>\n",
       "      <th id=\"T_820a1_level0_col6\" class=\"col_heading level0 col6\" >SMAPE</th>\n",
       "      <th id=\"T_820a1_level0_col7\" class=\"col_heading level0 col7\" >R2</th>\n",
       "    </tr>\n",
       "  </thead>\n",
       "  <tbody>\n",
       "    <tr>\n",
       "      <th id=\"T_820a1_level0_row0\" class=\"row_heading level0 row0\" >0</th>\n",
       "      <td id=\"T_820a1_row0_col0\" class=\"data row0 col0\" >2023-05</td>\n",
       "      <td id=\"T_820a1_row0_col1\" class=\"data row0 col1\" >0.6567</td>\n",
       "      <td id=\"T_820a1_row0_col2\" class=\"data row0 col2\" >0.5504</td>\n",
       "      <td id=\"T_820a1_row0_col3\" class=\"data row0 col3\" >17298.6347</td>\n",
       "      <td id=\"T_820a1_row0_col4\" class=\"data row0 col4\" >21410.8651</td>\n",
       "      <td id=\"T_820a1_row0_col5\" class=\"data row0 col5\" >0.2063</td>\n",
       "      <td id=\"T_820a1_row0_col6\" class=\"data row0 col6\" >0.1840</td>\n",
       "      <td id=\"T_820a1_row0_col7\" class=\"data row0 col7\" >-0.8230</td>\n",
       "    </tr>\n",
       "    <tr>\n",
       "      <th id=\"T_820a1_level0_row1\" class=\"row_heading level0 row1\" >1</th>\n",
       "      <td id=\"T_820a1_row1_col0\" class=\"data row1 col0\" >2023-09</td>\n",
       "      <td id=\"T_820a1_row1_col1\" class=\"data row1 col1\" >0.8202</td>\n",
       "      <td id=\"T_820a1_row1_col2\" class=\"data row1 col2\" >0.6342</td>\n",
       "      <td id=\"T_820a1_row1_col3\" class=\"data row1 col3\" >22370.5820</td>\n",
       "      <td id=\"T_820a1_row1_col4\" class=\"data row1 col4\" >25619.7686</td>\n",
       "      <td id=\"T_820a1_row1_col5\" class=\"data row1 col5\" >0.7931</td>\n",
       "      <td id=\"T_820a1_row1_col6\" class=\"data row1 col6\" >0.5141</td>\n",
       "      <td id=\"T_820a1_row1_col7\" class=\"data row1 col7\" >0.1360</td>\n",
       "    </tr>\n",
       "    <tr>\n",
       "      <th id=\"T_820a1_level0_row2\" class=\"row_heading level0 row2\" >2</th>\n",
       "      <td id=\"T_820a1_row2_col0\" class=\"data row2 col0\" >2024-01</td>\n",
       "      <td id=\"T_820a1_row2_col1\" class=\"data row2 col1\" >1.1536</td>\n",
       "      <td id=\"T_820a1_row2_col2\" class=\"data row2 col2\" >1.0510</td>\n",
       "      <td id=\"T_820a1_row2_col3\" class=\"data row2 col3\" >32994.0670</td>\n",
       "      <td id=\"T_820a1_row2_col4\" class=\"data row2 col4\" >43033.9720</td>\n",
       "      <td id=\"T_820a1_row2_col5\" class=\"data row2 col5\" >0.2686</td>\n",
       "      <td id=\"T_820a1_row2_col6\" class=\"data row2 col6\" >0.2943</td>\n",
       "      <td id=\"T_820a1_row2_col7\" class=\"data row2 col7\" >-0.1225</td>\n",
       "    </tr>\n",
       "    <tr>\n",
       "      <th id=\"T_820a1_level0_row3\" class=\"row_heading level0 row3\" >Mean</th>\n",
       "      <td id=\"T_820a1_row3_col0\" class=\"data row3 col0\" >NaT</td>\n",
       "      <td id=\"T_820a1_row3_col1\" class=\"data row3 col1\" >0.8768</td>\n",
       "      <td id=\"T_820a1_row3_col2\" class=\"data row3 col2\" >0.7452</td>\n",
       "      <td id=\"T_820a1_row3_col3\" class=\"data row3 col3\" >24221.0945</td>\n",
       "      <td id=\"T_820a1_row3_col4\" class=\"data row3 col4\" >30021.5352</td>\n",
       "      <td id=\"T_820a1_row3_col5\" class=\"data row3 col5\" >0.4227</td>\n",
       "      <td id=\"T_820a1_row3_col6\" class=\"data row3 col6\" >0.3308</td>\n",
       "      <td id=\"T_820a1_row3_col7\" class=\"data row3 col7\" >-0.2698</td>\n",
       "    </tr>\n",
       "    <tr>\n",
       "      <th id=\"T_820a1_level0_row4\" class=\"row_heading level0 row4\" >SD</th>\n",
       "      <td id=\"T_820a1_row4_col0\" class=\"data row4 col0\" >NaT</td>\n",
       "      <td id=\"T_820a1_row4_col1\" class=\"data row4 col1\" >0.2068</td>\n",
       "      <td id=\"T_820a1_row4_col2\" class=\"data row4 col2\" >0.2189</td>\n",
       "      <td id=\"T_820a1_row4_col3\" class=\"data row4 col3\" >6539.8750</td>\n",
       "      <td id=\"T_820a1_row4_col4\" class=\"data row4 col4\" >9360.2475</td>\n",
       "      <td id=\"T_820a1_row4_col5\" class=\"data row4 col5\" >0.2631</td>\n",
       "      <td id=\"T_820a1_row4_col6\" class=\"data row4 col6\" >0.1372</td>\n",
       "      <td id=\"T_820a1_row4_col7\" class=\"data row4 col7\" >0.4051</td>\n",
       "    </tr>\n",
       "  </tbody>\n",
       "</table>\n"
      ],
      "text/plain": [
       "<pandas.io.formats.style.Styler at 0x1eb7a0f1d50>"
      ]
     },
     "metadata": {},
     "output_type": "display_data"
    },
    {
     "data": {
      "text/html": [],
      "text/plain": [
       "<IPython.core.display.HTML object>"
      ]
     },
     "metadata": {},
     "output_type": "display_data"
    },
    {
     "name": "stdout",
     "output_type": "stream",
     "text": [
      "Fitting 3 folds for each of 100 candidates, totalling 300 fits\n"
     ]
    },
    {
     "name": "stderr",
     "output_type": "stream",
     "text": [
      "[Parallel(n_jobs=-1)]: Using backend LokyBackend with 16 concurrent workers.\n",
      "[Parallel(n_jobs=-1)]: Done  18 tasks      | elapsed:    1.7s\n",
      "[Parallel(n_jobs=-1)]: Done 168 tasks      | elapsed:    7.0s\n",
      "[Parallel(n_jobs=-1)]: Done 300 out of 300 | elapsed:   10.9s finished\n"
     ]
    }
   ],
   "source": [
    "try:\n",
    "    # Tune the model\n",
    "    tuned = exp.tune_model(best, optimize='RMSE', n_iter=100, choose_better=True)\n",
    "    # Retrieve the tuning results\n",
    "    tuned_results = exp.pull()\n",
    "    # Extract the mean RMSE from the results\n",
    "    mean_rmse = tuned_results.loc['Mean', 'RMSE']\n",
    "except ValueError:\n",
    "    mean_rmse = mean_rmse_compare\n",
    "    print(\"Could Not Tune\")\n"
   ]
  },
  {
   "cell_type": "markdown",
   "metadata": {},
   "source": [
    "#### Finalizing Model"
   ]
  },
  {
   "cell_type": "code",
   "execution_count": 36,
   "metadata": {},
   "outputs": [],
   "source": [
    "try:\n",
    "    final = exp.finalize_model(tuned)\n",
    "except NameError:\n",
    "    final = exp.finalize_model(best)"
   ]
  },
  {
   "cell_type": "code",
   "execution_count": 37,
   "metadata": {},
   "outputs": [
    {
     "data": {
      "application/vnd.plotly.v1+json": {
       "config": {
        "plotlyServerURL": "https://plot.ly"
       },
       "data": [
        {
         "line": {
          "color": "rgb(31, 119, 180)",
          "width": 2
         },
         "marker": {
          "color": "rgb(31, 119, 180)",
          "size": 5
         },
         "mode": "lines+markers",
         "name": "Quantity",
         "type": "scattergl",
         "x": [
          "2020-01-01T00:00:00",
          "2020-02-01T00:00:00",
          "2020-03-01T00:00:00",
          "2020-04-01T00:00:00",
          "2020-05-01T00:00:00",
          "2020-06-01T00:00:00",
          "2020-07-01T00:00:00",
          "2020-08-01T00:00:00",
          "2020-09-01T00:00:00",
          "2020-10-01T00:00:00",
          "2020-11-01T00:00:00",
          "2020-12-01T00:00:00",
          "2021-01-01T00:00:00",
          "2021-02-01T00:00:00",
          "2021-03-01T00:00:00",
          "2021-04-01T00:00:00",
          "2021-05-01T00:00:00",
          "2021-06-01T00:00:00",
          "2021-07-01T00:00:00",
          "2021-08-01T00:00:00",
          "2021-09-01T00:00:00",
          "2021-10-01T00:00:00",
          "2021-11-01T00:00:00",
          "2021-12-01T00:00:00",
          "2022-01-01T00:00:00",
          "2022-02-01T00:00:00",
          "2022-03-01T00:00:00",
          "2022-04-01T00:00:00",
          "2022-05-01T00:00:00",
          "2022-06-01T00:00:00",
          "2022-07-01T00:00:00",
          "2022-08-01T00:00:00",
          "2022-09-01T00:00:00",
          "2022-10-01T00:00:00",
          "2022-11-01T00:00:00",
          "2022-12-01T00:00:00",
          "2023-01-01T00:00:00",
          "2023-02-01T00:00:00",
          "2023-03-01T00:00:00",
          "2023-04-01T00:00:00",
          "2023-05-01T00:00:00",
          "2023-06-01T00:00:00",
          "2023-07-01T00:00:00",
          "2023-08-01T00:00:00",
          "2023-09-01T00:00:00",
          "2023-10-01T00:00:00",
          "2023-11-01T00:00:00",
          "2023-12-01T00:00:00",
          "2024-01-01T00:00:00",
          "2024-02-01T00:00:00",
          "2024-03-01T00:00:00",
          "2024-04-01T00:00:00",
          "2024-05-01T00:00:00",
          "2024-06-01T00:00:00",
          "2024-07-01T00:00:00",
          "2024-08-01T00:00:00",
          "2024-09-01T00:00:00",
          "2024-10-01T00:00:00",
          "2024-11-01T00:00:00",
          "2024-12-01T00:00:00",
          "2025-01-01T00:00:00",
          "2025-02-01T00:00:00",
          "2025-03-01T00:00:00",
          "2025-04-01T00:00:00",
          "2025-05-01T00:00:00",
          "2025-06-01T00:00:00",
          "2025-07-01T00:00:00",
          "2025-08-01T00:00:00",
          "2025-09-01T00:00:00"
         ],
         "xaxis": "x",
         "y": [
          14977,
          30025,
          17593,
          13645,
          39061,
          44509,
          14941,
          34477,
          28825,
          13417,
          35521,
          33241,
          21925,
          20509,
          59101,
          176773,
          127129,
          57085,
          57589,
          41029,
          48037,
          31201,
          16813,
          86473,
          64825,
          81037,
          57433,
          50401,
          100801,
          106849,
          72121,
          68545,
          18145,
          36289,
          36289,
          56449,
          60073,
          44353,
          24205,
          92737,
          215905,
          112825,
          97789,
          86689,
          69397,
          16129,
          30241,
          89557,
          43561,
          68545,
          92737,
          139393,
          173305,
          149365,
          183385,
          71173,
          10093,
          null,
          null,
          null,
          null,
          null,
          null,
          null,
          null,
          null,
          null,
          null,
          null
         ],
         "yaxis": "y"
        },
        {
         "line": {
          "color": "rgb(255, 127, 14)",
          "width": 2
         },
         "marker": {
          "color": "rgb(255, 127, 14)",
          "size": 5
         },
         "mode": "lines+markers",
         "name": "GradientBoostingRegressor",
         "type": "scattergl",
         "x": [
          "2020-01-01T00:00:00",
          "2020-02-01T00:00:00",
          "2020-03-01T00:00:00",
          "2020-04-01T00:00:00",
          "2020-05-01T00:00:00",
          "2020-06-01T00:00:00",
          "2020-07-01T00:00:00",
          "2020-08-01T00:00:00",
          "2020-09-01T00:00:00",
          "2020-10-01T00:00:00",
          "2020-11-01T00:00:00",
          "2020-12-01T00:00:00",
          "2021-01-01T00:00:00",
          "2021-02-01T00:00:00",
          "2021-03-01T00:00:00",
          "2021-04-01T00:00:00",
          "2021-05-01T00:00:00",
          "2021-06-01T00:00:00",
          "2021-07-01T00:00:00",
          "2021-08-01T00:00:00",
          "2021-09-01T00:00:00",
          "2021-10-01T00:00:00",
          "2021-11-01T00:00:00",
          "2021-12-01T00:00:00",
          "2022-01-01T00:00:00",
          "2022-02-01T00:00:00",
          "2022-03-01T00:00:00",
          "2022-04-01T00:00:00",
          "2022-05-01T00:00:00",
          "2022-06-01T00:00:00",
          "2022-07-01T00:00:00",
          "2022-08-01T00:00:00",
          "2022-09-01T00:00:00",
          "2022-10-01T00:00:00",
          "2022-11-01T00:00:00",
          "2022-12-01T00:00:00",
          "2023-01-01T00:00:00",
          "2023-02-01T00:00:00",
          "2023-03-01T00:00:00",
          "2023-04-01T00:00:00",
          "2023-05-01T00:00:00",
          "2023-06-01T00:00:00",
          "2023-07-01T00:00:00",
          "2023-08-01T00:00:00",
          "2023-09-01T00:00:00",
          "2023-10-01T00:00:00",
          "2023-11-01T00:00:00",
          "2023-12-01T00:00:00",
          "2024-01-01T00:00:00",
          "2024-02-01T00:00:00",
          "2024-03-01T00:00:00",
          "2024-04-01T00:00:00",
          "2024-05-01T00:00:00",
          "2024-06-01T00:00:00",
          "2024-07-01T00:00:00",
          "2024-08-01T00:00:00",
          "2024-09-01T00:00:00",
          "2024-10-01T00:00:00",
          "2024-11-01T00:00:00",
          "2024-12-01T00:00:00",
          "2025-01-01T00:00:00",
          "2025-02-01T00:00:00",
          "2025-03-01T00:00:00",
          "2025-04-01T00:00:00",
          "2025-05-01T00:00:00",
          "2025-06-01T00:00:00",
          "2025-07-01T00:00:00",
          "2025-08-01T00:00:00",
          "2025-09-01T00:00:00"
         ],
         "xaxis": "x",
         "y": [
          null,
          null,
          null,
          null,
          null,
          null,
          null,
          null,
          null,
          null,
          null,
          null,
          null,
          null,
          null,
          null,
          null,
          null,
          null,
          null,
          null,
          null,
          null,
          null,
          null,
          null,
          null,
          null,
          null,
          null,
          null,
          null,
          null,
          null,
          null,
          null,
          null,
          null,
          null,
          null,
          null,
          null,
          null,
          null,
          null,
          null,
          null,
          null,
          null,
          null,
          null,
          null,
          null,
          null,
          null,
          null,
          null,
          28244.7113,
          76637.9031,
          42635.8642,
          22134.3897,
          92640.697,
          69903.2417,
          30796.7453,
          49225.46,
          27613.2717,
          63914.3095,
          18278.8184,
          81049.7555
         ],
         "yaxis": "y"
        }
       ],
       "layout": {
        "showlegend": true,
        "template": {
         "data": {
          "bar": [
           {
            "error_x": {
             "color": "rgb(51,51,51)"
            },
            "error_y": {
             "color": "rgb(51,51,51)"
            },
            "marker": {
             "line": {
              "color": "rgb(237,237,237)",
              "width": 0.5
             },
             "pattern": {
              "fillmode": "overlay",
              "size": 10,
              "solidity": 0.2
             }
            },
            "type": "bar"
           }
          ],
          "barpolar": [
           {
            "marker": {
             "line": {
              "color": "rgb(237,237,237)",
              "width": 0.5
             },
             "pattern": {
              "fillmode": "overlay",
              "size": 10,
              "solidity": 0.2
             }
            },
            "type": "barpolar"
           }
          ],
          "carpet": [
           {
            "aaxis": {
             "endlinecolor": "rgb(51,51,51)",
             "gridcolor": "white",
             "linecolor": "white",
             "minorgridcolor": "white",
             "startlinecolor": "rgb(51,51,51)"
            },
            "baxis": {
             "endlinecolor": "rgb(51,51,51)",
             "gridcolor": "white",
             "linecolor": "white",
             "minorgridcolor": "white",
             "startlinecolor": "rgb(51,51,51)"
            },
            "type": "carpet"
           }
          ],
          "choropleth": [
           {
            "colorbar": {
             "outlinewidth": 0,
             "tickcolor": "rgb(237,237,237)",
             "ticklen": 6,
             "ticks": "inside"
            },
            "type": "choropleth"
           }
          ],
          "contour": [
           {
            "colorbar": {
             "outlinewidth": 0,
             "tickcolor": "rgb(237,237,237)",
             "ticklen": 6,
             "ticks": "inside"
            },
            "colorscale": [
             [
              0,
              "rgb(20,44,66)"
             ],
             [
              1,
              "rgb(90,179,244)"
             ]
            ],
            "type": "contour"
           }
          ],
          "contourcarpet": [
           {
            "colorbar": {
             "outlinewidth": 0,
             "tickcolor": "rgb(237,237,237)",
             "ticklen": 6,
             "ticks": "inside"
            },
            "type": "contourcarpet"
           }
          ],
          "heatmap": [
           {
            "colorbar": {
             "outlinewidth": 0,
             "tickcolor": "rgb(237,237,237)",
             "ticklen": 6,
             "ticks": "inside"
            },
            "colorscale": [
             [
              0,
              "rgb(20,44,66)"
             ],
             [
              1,
              "rgb(90,179,244)"
             ]
            ],
            "type": "heatmap"
           }
          ],
          "heatmapgl": [
           {
            "colorbar": {
             "outlinewidth": 0,
             "tickcolor": "rgb(237,237,237)",
             "ticklen": 6,
             "ticks": "inside"
            },
            "colorscale": [
             [
              0,
              "rgb(20,44,66)"
             ],
             [
              1,
              "rgb(90,179,244)"
             ]
            ],
            "type": "heatmapgl"
           }
          ],
          "histogram": [
           {
            "marker": {
             "pattern": {
              "fillmode": "overlay",
              "size": 10,
              "solidity": 0.2
             }
            },
            "type": "histogram"
           }
          ],
          "histogram2d": [
           {
            "colorbar": {
             "outlinewidth": 0,
             "tickcolor": "rgb(237,237,237)",
             "ticklen": 6,
             "ticks": "inside"
            },
            "colorscale": [
             [
              0,
              "rgb(20,44,66)"
             ],
             [
              1,
              "rgb(90,179,244)"
             ]
            ],
            "type": "histogram2d"
           }
          ],
          "histogram2dcontour": [
           {
            "colorbar": {
             "outlinewidth": 0,
             "tickcolor": "rgb(237,237,237)",
             "ticklen": 6,
             "ticks": "inside"
            },
            "colorscale": [
             [
              0,
              "rgb(20,44,66)"
             ],
             [
              1,
              "rgb(90,179,244)"
             ]
            ],
            "type": "histogram2dcontour"
           }
          ],
          "mesh3d": [
           {
            "colorbar": {
             "outlinewidth": 0,
             "tickcolor": "rgb(237,237,237)",
             "ticklen": 6,
             "ticks": "inside"
            },
            "type": "mesh3d"
           }
          ],
          "parcoords": [
           {
            "line": {
             "colorbar": {
              "outlinewidth": 0,
              "tickcolor": "rgb(237,237,237)",
              "ticklen": 6,
              "ticks": "inside"
             }
            },
            "type": "parcoords"
           }
          ],
          "pie": [
           {
            "automargin": true,
            "type": "pie"
           }
          ],
          "scatter": [
           {
            "fillpattern": {
             "fillmode": "overlay",
             "size": 10,
             "solidity": 0.2
            },
            "type": "scatter"
           }
          ],
          "scatter3d": [
           {
            "line": {
             "colorbar": {
              "outlinewidth": 0,
              "tickcolor": "rgb(237,237,237)",
              "ticklen": 6,
              "ticks": "inside"
             }
            },
            "marker": {
             "colorbar": {
              "outlinewidth": 0,
              "tickcolor": "rgb(237,237,237)",
              "ticklen": 6,
              "ticks": "inside"
             }
            },
            "type": "scatter3d"
           }
          ],
          "scattercarpet": [
           {
            "marker": {
             "colorbar": {
              "outlinewidth": 0,
              "tickcolor": "rgb(237,237,237)",
              "ticklen": 6,
              "ticks": "inside"
             }
            },
            "type": "scattercarpet"
           }
          ],
          "scattergeo": [
           {
            "marker": {
             "colorbar": {
              "outlinewidth": 0,
              "tickcolor": "rgb(237,237,237)",
              "ticklen": 6,
              "ticks": "inside"
             }
            },
            "type": "scattergeo"
           }
          ],
          "scattergl": [
           {
            "marker": {
             "colorbar": {
              "outlinewidth": 0,
              "tickcolor": "rgb(237,237,237)",
              "ticklen": 6,
              "ticks": "inside"
             }
            },
            "type": "scattergl"
           }
          ],
          "scattermapbox": [
           {
            "marker": {
             "colorbar": {
              "outlinewidth": 0,
              "tickcolor": "rgb(237,237,237)",
              "ticklen": 6,
              "ticks": "inside"
             }
            },
            "type": "scattermapbox"
           }
          ],
          "scatterpolar": [
           {
            "marker": {
             "colorbar": {
              "outlinewidth": 0,
              "tickcolor": "rgb(237,237,237)",
              "ticklen": 6,
              "ticks": "inside"
             }
            },
            "type": "scatterpolar"
           }
          ],
          "scatterpolargl": [
           {
            "marker": {
             "colorbar": {
              "outlinewidth": 0,
              "tickcolor": "rgb(237,237,237)",
              "ticklen": 6,
              "ticks": "inside"
             }
            },
            "type": "scatterpolargl"
           }
          ],
          "scatterternary": [
           {
            "marker": {
             "colorbar": {
              "outlinewidth": 0,
              "tickcolor": "rgb(237,237,237)",
              "ticklen": 6,
              "ticks": "inside"
             }
            },
            "type": "scatterternary"
           }
          ],
          "surface": [
           {
            "colorbar": {
             "outlinewidth": 0,
             "tickcolor": "rgb(237,237,237)",
             "ticklen": 6,
             "ticks": "inside"
            },
            "colorscale": [
             [
              0,
              "rgb(20,44,66)"
             ],
             [
              1,
              "rgb(90,179,244)"
             ]
            ],
            "type": "surface"
           }
          ],
          "table": [
           {
            "cells": {
             "fill": {
              "color": "rgb(237,237,237)"
             },
             "line": {
              "color": "white"
             }
            },
            "header": {
             "fill": {
              "color": "rgb(217,217,217)"
             },
             "line": {
              "color": "white"
             }
            },
            "type": "table"
           }
          ]
         },
         "layout": {
          "annotationdefaults": {
           "arrowhead": 0,
           "arrowwidth": 1
          },
          "autotypenumbers": "strict",
          "coloraxis": {
           "colorbar": {
            "outlinewidth": 0,
            "tickcolor": "rgb(237,237,237)",
            "ticklen": 6,
            "ticks": "inside"
           }
          },
          "colorscale": {
           "sequential": [
            [
             0,
             "rgb(20,44,66)"
            ],
            [
             1,
             "rgb(90,179,244)"
            ]
           ],
           "sequentialminus": [
            [
             0,
             "rgb(20,44,66)"
            ],
            [
             1,
             "rgb(90,179,244)"
            ]
           ]
          },
          "colorway": [
           "#F8766D",
           "#A3A500",
           "#00BF7D",
           "#00B0F6",
           "#E76BF3"
          ],
          "font": {
           "color": "rgb(51,51,51)"
          },
          "geo": {
           "bgcolor": "white",
           "lakecolor": "white",
           "landcolor": "rgb(237,237,237)",
           "showlakes": true,
           "showland": true,
           "subunitcolor": "white"
          },
          "hoverlabel": {
           "align": "left"
          },
          "hovermode": "closest",
          "paper_bgcolor": "white",
          "plot_bgcolor": "rgb(237,237,237)",
          "polar": {
           "angularaxis": {
            "gridcolor": "white",
            "linecolor": "white",
            "showgrid": true,
            "tickcolor": "rgb(51,51,51)",
            "ticks": "outside"
           },
           "bgcolor": "rgb(237,237,237)",
           "radialaxis": {
            "gridcolor": "white",
            "linecolor": "white",
            "showgrid": true,
            "tickcolor": "rgb(51,51,51)",
            "ticks": "outside"
           }
          },
          "scene": {
           "xaxis": {
            "backgroundcolor": "rgb(237,237,237)",
            "gridcolor": "white",
            "gridwidth": 2,
            "linecolor": "white",
            "showbackground": true,
            "showgrid": true,
            "tickcolor": "rgb(51,51,51)",
            "ticks": "outside",
            "zerolinecolor": "white"
           },
           "yaxis": {
            "backgroundcolor": "rgb(237,237,237)",
            "gridcolor": "white",
            "gridwidth": 2,
            "linecolor": "white",
            "showbackground": true,
            "showgrid": true,
            "tickcolor": "rgb(51,51,51)",
            "ticks": "outside",
            "zerolinecolor": "white"
           },
           "zaxis": {
            "backgroundcolor": "rgb(237,237,237)",
            "gridcolor": "white",
            "gridwidth": 2,
            "linecolor": "white",
            "showbackground": true,
            "showgrid": true,
            "tickcolor": "rgb(51,51,51)",
            "ticks": "outside",
            "zerolinecolor": "white"
           }
          },
          "shapedefaults": {
           "fillcolor": "black",
           "line": {
            "width": 0
           },
           "opacity": 0.3
          },
          "ternary": {
           "aaxis": {
            "gridcolor": "white",
            "linecolor": "white",
            "showgrid": true,
            "tickcolor": "rgb(51,51,51)",
            "ticks": "outside"
           },
           "baxis": {
            "gridcolor": "white",
            "linecolor": "white",
            "showgrid": true,
            "tickcolor": "rgb(51,51,51)",
            "ticks": "outside"
           },
           "bgcolor": "rgb(237,237,237)",
           "caxis": {
            "gridcolor": "white",
            "linecolor": "white",
            "showgrid": true,
            "tickcolor": "rgb(51,51,51)",
            "ticks": "outside"
           }
          },
          "xaxis": {
           "automargin": true,
           "gridcolor": "white",
           "linecolor": "white",
           "showgrid": true,
           "tickcolor": "rgb(51,51,51)",
           "ticks": "outside",
           "title": {
            "standoff": 15
           },
           "zerolinecolor": "white"
          },
          "yaxis": {
           "automargin": true,
           "gridcolor": "white",
           "linecolor": "white",
           "showgrid": true,
           "tickcolor": "rgb(51,51,51)",
           "ticks": "outside",
           "title": {
            "standoff": 15
           },
           "zerolinecolor": "white"
          }
         }
        },
        "title": {
         "text": "Actual vs. Forecast (Out-of-Sample)"
        },
        "xaxis": {
         "anchor": "y",
         "domain": [
          0,
          1
         ]
        },
        "yaxis": {
         "anchor": "x",
         "domain": [
          0,
          1
         ]
        }
       }
      }
     },
     "metadata": {},
     "output_type": "display_data"
    }
   ],
   "source": [
    "exp.plot_model(final, plot='forecast', data_kwargs={'fh':12})"
   ]
  },
  {
   "cell_type": "code",
   "execution_count": 38,
   "metadata": {},
   "outputs": [
    {
     "data": {
      "text/html": [
       "<div>\n",
       "<style scoped>\n",
       "    .dataframe tbody tr th:only-of-type {\n",
       "        vertical-align: middle;\n",
       "    }\n",
       "\n",
       "    .dataframe tbody tr th {\n",
       "        vertical-align: top;\n",
       "    }\n",
       "\n",
       "    .dataframe thead th {\n",
       "        text-align: right;\n",
       "    }\n",
       "</style>\n",
       "<table border=\"1\" class=\"dataframe\">\n",
       "  <thead>\n",
       "    <tr style=\"text-align: right;\">\n",
       "      <th></th>\n",
       "      <th>y_pred</th>\n",
       "    </tr>\n",
       "  </thead>\n",
       "  <tbody>\n",
       "    <tr>\n",
       "      <th>2024-10</th>\n",
       "      <td>28244.7113</td>\n",
       "    </tr>\n",
       "    <tr>\n",
       "      <th>2024-11</th>\n",
       "      <td>76637.9031</td>\n",
       "    </tr>\n",
       "    <tr>\n",
       "      <th>2024-12</th>\n",
       "      <td>42635.8642</td>\n",
       "    </tr>\n",
       "    <tr>\n",
       "      <th>2025-01</th>\n",
       "      <td>22134.3897</td>\n",
       "    </tr>\n",
       "  </tbody>\n",
       "</table>\n",
       "</div>"
      ],
      "text/plain": [
       "             y_pred\n",
       "2024-10  28244.7113\n",
       "2024-11  76637.9031\n",
       "2024-12  42635.8642\n",
       "2025-01  22134.3897"
      ]
     },
     "execution_count": 38,
     "metadata": {},
     "output_type": "execute_result"
    }
   ],
   "source": [
    "unseen_predictions = exp.predict_model(final)\n",
    "#unseen_predictions = exp.predict_model(final, fh=forecast_lenth_array, X=prediction_df)\n",
    "unseen_predictions"
   ]
  },
  {
   "cell_type": "code",
   "execution_count": 39,
   "metadata": {},
   "outputs": [],
   "source": [
    "unseen_predictions['y_pred'] = unseen_predictions['y_pred'] * growth_rate"
   ]
  },
  {
   "cell_type": "code",
   "execution_count": 40,
   "metadata": {},
   "outputs": [],
   "source": [
    "# making it so we can plot the forecast\n",
    "unchanged_df.index = unchanged_df['Date']\n",
    "unchanged_df = unchanged_df.drop(columns = ['Date'])"
   ]
  },
  {
   "cell_type": "code",
   "execution_count": 41,
   "metadata": {},
   "outputs": [],
   "source": [
    "# Ensure the index is a DatetimeIndex before converting it to PeriodIndex\n",
    "if isinstance(unseen_predictions.index, pd.PeriodIndex):\n",
    "    unseen_predictions.index = unseen_predictions.index.to_timestamp()\n",
    "\n",
    "# Convert the index to show only \"YYYY-MM\"\n",
    "unseen_predictions.index = unseen_predictions.index.to_period(period).strftime('%Y-%m')\n",
    "\n",
    "# Rename the Series\n",
    "unseen_predictions.name = 'Predicted Values'"
   ]
  },
  {
   "cell_type": "markdown",
   "metadata": {},
   "source": [
    "## Visualizing Forecasts"
   ]
  },
  {
   "cell_type": "code",
   "execution_count": 42,
   "metadata": {},
   "outputs": [
    {
     "name": "stdout",
     "output_type": "stream",
     "text": [
      "Best Tuned model: Gradient Boosting w/ Cond. Deseasonalize & Detrending with RMSE 30021.54\n",
      "               y_pred\n",
      "2024-10  28527.158413\n",
      "2024-11  77404.282131\n",
      "2024-12  43062.222842\n",
      "2025-01  22355.733597\n"
     ]
    },
    {
     "data": {
      "image/png": "[encoded data removed]",
      "text/plain": [
       "<Figure size 1400x500 with 1 Axes>"
      ]
     },
     "metadata": {},
     "output_type": "display_data"
    }
   ],
   "source": [
    "# Print RMSE and model information\n",
    "try:\n",
    "    print(f\"Best Tuned model: {best_model_name} with RMSE {mean_rmse:.2f}\")\n",
    "except NameError:\n",
    "    print(f\"Best Untuned model: {best_model_name} with Mean RMSE: {mean_rmse_compare:.2f}\")\n",
    "\n",
    "print(unseen_predictions)\n",
    "\n",
    "# Plotting forecast with original data\n",
    "plt.figure(figsize=(14, 5))\n",
    "plt.plot(unchanged_df.index, unchanged_df['Quantity'], label='Original Data')\n",
    "plt.scatter(pd.to_datetime(unseen_predictions.index), unseen_predictions, color='red', label='Forecast', s=25)\n",
    "plt.plot(pd.to_datetime(unseen_predictions.index), unseen_predictions, color='red', label='Forecast')\n",
    "plt.title(f'{item} Forecasting with PyCaret', fontsize=16)\n",
    "plt.xlabel('Date', fontsize=16)\n",
    "plt.ylabel('Quantity', fontsize=16)\n",
    "plt.legend(loc='upper left')\n",
    "plt.show()"
   ]
  },
  {
   "cell_type": "code",
   "execution_count": null,
   "metadata": {},
   "outputs": [],
   "source": []
  }
 ],
 "metadata": {
  "kernelspec": {
   "display_name": ".venv",
   "language": "python",
   "name": "python3"
  },
  "language_info": {
   "codemirror_mode": {
    "name": "ipython",
    "version": 3
   },
   "file_extension": ".py",
   "mimetype": "text/x-python",
   "name": "python",
   "nbconvert_exporter": "python",
   "pygments_lexer": "ipython3",
   "version": "3.11.9"
  }
 },
 "nbformat": 4,
 "nbformat_minor": 2
}
