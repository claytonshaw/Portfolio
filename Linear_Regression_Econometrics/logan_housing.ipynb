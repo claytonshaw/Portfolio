{
 "cells": [
  {
   "cell_type": "markdown",
   "metadata": {},
   "source": [
    "## Data Cleaning and Preprocessing"
   ]
  },
  {
   "cell_type": "code",
   "execution_count": 248,
   "metadata": {},
   "outputs": [],
   "source": [
    "# importing libraries\n",
    "import pandas as pd"
   ]
  },
  {
   "cell_type": "code",
   "execution_count": 249,
   "metadata": {},
   "outputs": [
    {
     "data": {
      "text/html": [
       "<div>\n",
       "<style scoped>\n",
       "    .dataframe tbody tr th:only-of-type {\n",
       "        vertical-align: middle;\n",
       "    }\n",
       "\n",
       "    .dataframe tbody tr th {\n",
       "        vertical-align: top;\n",
       "    }\n",
       "\n",
       "    .dataframe thead th {\n",
       "        text-align: right;\n",
       "    }\n",
       "</style>\n",
       "<table border=\"1\" class=\"dataframe\">\n",
       "  <thead>\n",
       "    <tr style=\"text-align: right;\">\n",
       "      <th></th>\n",
       "      <th>Sold Price</th>\n",
       "      <th>DOM</th>\n",
       "      <th>Garage Capacity</th>\n",
       "      <th>HOA Fee</th>\n",
       "      <th>Irregular Shape</th>\n",
       "      <th>Quadrant</th>\n",
       "      <th>School District</th>\n",
       "      <th>Sold Terms</th>\n",
       "      <th>Total Bedrooms</th>\n",
       "      <th>Total Bathrooms</th>\n",
       "      <th>Total Square Feet</th>\n",
       "      <th>Year Built</th>\n",
       "      <th>Zip</th>\n",
       "      <th>year_sold</th>\n",
       "      <th>month_sold</th>\n",
       "      <th>built_after_2000</th>\n",
       "    </tr>\n",
       "  </thead>\n",
       "  <tbody>\n",
       "    <tr>\n",
       "      <th>0</th>\n",
       "      <td>176000</td>\n",
       "      <td>5</td>\n",
       "      <td>2</td>\n",
       "      <td>0</td>\n",
       "      <td>No</td>\n",
       "      <td>NW</td>\n",
       "      <td>Cache</td>\n",
       "      <td>FHA</td>\n",
       "      <td>3</td>\n",
       "      <td>1</td>\n",
       "      <td>1031</td>\n",
       "      <td>1974</td>\n",
       "      <td>84335</td>\n",
       "      <td>2018</td>\n",
       "      <td>9</td>\n",
       "      <td>0</td>\n",
       "    </tr>\n",
       "    <tr>\n",
       "      <th>1</th>\n",
       "      <td>225000</td>\n",
       "      <td>6</td>\n",
       "      <td>2</td>\n",
       "      <td>0</td>\n",
       "      <td>No</td>\n",
       "      <td>NW</td>\n",
       "      <td>Cache</td>\n",
       "      <td>Conventional</td>\n",
       "      <td>4</td>\n",
       "      <td>2</td>\n",
       "      <td>2091</td>\n",
       "      <td>1995</td>\n",
       "      <td>84335</td>\n",
       "      <td>2018</td>\n",
       "      <td>7</td>\n",
       "      <td>0</td>\n",
       "    </tr>\n",
       "    <tr>\n",
       "      <th>2</th>\n",
       "      <td>274900</td>\n",
       "      <td>14</td>\n",
       "      <td>2</td>\n",
       "      <td>0</td>\n",
       "      <td>No</td>\n",
       "      <td>NW</td>\n",
       "      <td>Cache</td>\n",
       "      <td>Conventional</td>\n",
       "      <td>3</td>\n",
       "      <td>1</td>\n",
       "      <td>2016</td>\n",
       "      <td>1980</td>\n",
       "      <td>84335</td>\n",
       "      <td>2018</td>\n",
       "      <td>11</td>\n",
       "      <td>0</td>\n",
       "    </tr>\n",
       "    <tr>\n",
       "      <th>3</th>\n",
       "      <td>175000</td>\n",
       "      <td>16</td>\n",
       "      <td>1</td>\n",
       "      <td>0</td>\n",
       "      <td>No</td>\n",
       "      <td>NW</td>\n",
       "      <td>Cache</td>\n",
       "      <td>USDA Rural Development</td>\n",
       "      <td>4</td>\n",
       "      <td>1</td>\n",
       "      <td>1920</td>\n",
       "      <td>1978</td>\n",
       "      <td>84335</td>\n",
       "      <td>2018</td>\n",
       "      <td>6</td>\n",
       "      <td>0</td>\n",
       "    </tr>\n",
       "    <tr>\n",
       "      <th>4</th>\n",
       "      <td>179000</td>\n",
       "      <td>29</td>\n",
       "      <td>0</td>\n",
       "      <td>0</td>\n",
       "      <td>No</td>\n",
       "      <td>NW</td>\n",
       "      <td>Cache</td>\n",
       "      <td>Cash</td>\n",
       "      <td>4</td>\n",
       "      <td>2</td>\n",
       "      <td>1329</td>\n",
       "      <td>1976</td>\n",
       "      <td>84335</td>\n",
       "      <td>2018</td>\n",
       "      <td>9</td>\n",
       "      <td>0</td>\n",
       "    </tr>\n",
       "  </tbody>\n",
       "</table>\n",
       "</div>"
      ],
      "text/plain": [
       "   Sold Price  DOM  Garage Capacity  HOA Fee Irregular Shape Quadrant  \\\n",
       "0      176000    5                2        0              No       NW   \n",
       "1      225000    6                2        0              No       NW   \n",
       "2      274900   14                2        0              No       NW   \n",
       "3      175000   16                1        0              No       NW   \n",
       "4      179000   29                0        0              No       NW   \n",
       "\n",
       "  School District              Sold Terms  Total Bedrooms  Total Bathrooms  \\\n",
       "0           Cache                     FHA               3                1   \n",
       "1           Cache            Conventional               4                2   \n",
       "2           Cache            Conventional               3                1   \n",
       "3           Cache  USDA Rural Development               4                1   \n",
       "4           Cache                    Cash               4                2   \n",
       "\n",
       "   Total Square Feet  Year Built    Zip  year_sold  month_sold  \\\n",
       "0               1031        1974  84335       2018           9   \n",
       "1               2091        1995  84335       2018           7   \n",
       "2               2016        1980  84335       2018          11   \n",
       "3               1920        1978  84335       2018           6   \n",
       "4               1329        1976  84335       2018           9   \n",
       "\n",
       "   built_after_2000  \n",
       "0                 0  \n",
       "1                 0  \n",
       "2                 0  \n",
       "3                 0  \n",
       "4                 0  "
      ]
     },
     "execution_count": 249,
     "metadata": {},
     "output_type": "execute_result"
    }
   ],
   "source": [
    "# importing the data\n",
    "df = pd.read_csv('Logan_housing.csv')\n",
    "\n",
    "# showing the first 5 rows\n",
    "df.head()"
   ]
  },
  {
   "cell_type": "code",
   "execution_count": 250,
   "metadata": {},
   "outputs": [],
   "source": [
    "# dropping columns we won't be using in this model\n",
    "df.drop(columns=['Garage Capacity', 'Irregular Shape', 'Sold Terms', 'Zip', 'month_sold', 'Year Built', 'year_sold'], inplace = True)"
   ]
  },
  {
   "cell_type": "code",
   "execution_count": 251,
   "metadata": {},
   "outputs": [
    {
     "data": {
      "text/plain": [
       "Sold Price           0\n",
       "DOM                  0\n",
       "HOA Fee              0\n",
       "Quadrant             0\n",
       "School District      0\n",
       "Total Bedrooms       0\n",
       "Total Bathrooms      0\n",
       "Total Square Feet    0\n",
       "built_after_2000     0\n",
       "dtype: int64"
      ]
     },
     "execution_count": 251,
     "metadata": {},
     "output_type": "execute_result"
    }
   ],
   "source": [
    "# checking the number of null values in the dataset\n",
    "df.isnull().sum()"
   ]
  },
  {
   "cell_type": "markdown",
   "metadata": {},
   "source": [
    "There are no missing values in the dataset so we are good to continue"
   ]
  },
  {
   "cell_type": "code",
   "execution_count": 252,
   "metadata": {},
   "outputs": [
    {
     "name": "stdout",
     "output_type": "stream",
     "text": [
      "<class 'pandas.core.frame.DataFrame'>\n",
      "RangeIndex: 4110 entries, 0 to 4109\n",
      "Data columns (total 9 columns):\n",
      " #   Column             Non-Null Count  Dtype \n",
      "---  ------             --------------  ----- \n",
      " 0   Sold Price         4110 non-null   int64 \n",
      " 1   DOM                4110 non-null   int64 \n",
      " 2   HOA Fee            4110 non-null   int64 \n",
      " 3   Quadrant           4110 non-null   object\n",
      " 4   School District    4110 non-null   object\n",
      " 5   Total Bedrooms     4110 non-null   int64 \n",
      " 6   Total Bathrooms    4110 non-null   int64 \n",
      " 7   Total Square Feet  4110 non-null   int64 \n",
      " 8   built_after_2000   4110 non-null   int64 \n",
      "dtypes: int64(7), object(2)\n",
      "memory usage: 289.1+ KB\n"
     ]
    }
   ],
   "source": [
    "# checking the dtype of each column\n",
    "df.info()"
   ]
  },
  {
   "cell_type": "code",
   "execution_count": 253,
   "metadata": {},
   "outputs": [
    {
     "data": {
      "text/plain": [
       "Sold Price           1217\n",
       "DOM                   248\n",
       "HOA Fee                96\n",
       "Quadrant                4\n",
       "School District         2\n",
       "Total Bedrooms          9\n",
       "Total Bathrooms         7\n",
       "Total Square Feet    2009\n",
       "built_after_2000        2\n",
       "dtype: int64"
      ]
     },
     "execution_count": 253,
     "metadata": {},
     "output_type": "execute_result"
    }
   ],
   "source": [
    "# checking to see what data types each column should be\n",
    "df.nunique()"
   ]
  },
  {
   "cell_type": "markdown",
   "metadata": {},
   "source": [
    "Based the above code the 'Quadrant', 'School District', and 'built_after_2000' only have 4 and 2 unique values which suggests they should be categorical data. "
   ]
  },
  {
   "cell_type": "code",
   "execution_count": 254,
   "metadata": {},
   "outputs": [],
   "source": [
    "# columns that we are converting\n",
    "categorical_columns = ['Quadrant','School District','built_after_2000']\n",
    "float_columns = ['Sold Price','HOA Fee']\n",
    "\n",
    "# coverting the columns to categorical data\n",
    "df[categorical_columns] = df[categorical_columns].astype('category')\n",
    "df[float_columns] = df[float_columns].astype('float32')\n"
   ]
  },
  {
   "cell_type": "code",
   "execution_count": 255,
   "metadata": {},
   "outputs": [
    {
     "name": "stdout",
     "output_type": "stream",
     "text": [
      "<class 'pandas.core.frame.DataFrame'>\n",
      "RangeIndex: 4110 entries, 0 to 4109\n",
      "Data columns (total 9 columns):\n",
      " #   Column             Non-Null Count  Dtype   \n",
      "---  ------             --------------  -----   \n",
      " 0   Sold Price         4110 non-null   float32 \n",
      " 1   DOM                4110 non-null   int64   \n",
      " 2   HOA Fee            4110 non-null   float32 \n",
      " 3   Quadrant           4110 non-null   category\n",
      " 4   School District    4110 non-null   category\n",
      " 5   Total Bedrooms     4110 non-null   int64   \n",
      " 6   Total Bathrooms    4110 non-null   int64   \n",
      " 7   Total Square Feet  4110 non-null   int64   \n",
      " 8   built_after_2000   4110 non-null   category\n",
      "dtypes: category(3), float32(2), int64(4)\n",
      "memory usage: 173.2 KB\n"
     ]
    }
   ],
   "source": [
    "# checking if the above code worked and the columns were changed\n",
    "df.info()"
   ]
  },
  {
   "cell_type": "markdown",
   "metadata": {},
   "source": [
    "It appears that the columns changed to what I wanted"
   ]
  },
  {
   "cell_type": "code",
   "execution_count": 256,
   "metadata": {},
   "outputs": [
    {
     "data": {
      "text/plain": [
       "count    4110.0\n",
       "mean       41.0\n",
       "std        52.0\n",
       "min         1.0\n",
       "25%         6.0\n",
       "50%        23.0\n",
       "75%        56.0\n",
       "max       712.0\n",
       "Name: DOM, dtype: float64"
      ]
     },
     "execution_count": 256,
     "metadata": {},
     "output_type": "execute_result"
    }
   ],
   "source": [
    "# checking out the summary statistics on the dependent variable DOM\n",
    "df['DOM'].describe().round(0)"
   ]
  },
  {
   "cell_type": "markdown",
   "metadata": {},
   "source": [
    "The number of days on the market ranges from 1 to 712 (which is almost 2 years)"
   ]
  },
  {
   "cell_type": "code",
   "execution_count": 257,
   "metadata": {},
   "outputs": [],
   "source": [
    "# importing needed libraries\n",
    "import seaborn as sns\n",
    "import matplotlib.pyplot as plt"
   ]
  },
  {
   "cell_type": "code",
   "execution_count": 258,
   "metadata": {},
   "outputs": [
    {
     "data": {
      "image/png": "[encoded data removed]",
      "text/plain": [
       "<Figure size 500x500 with 1 Axes>"
      ]
     },
     "metadata": {},
     "output_type": "display_data"
    }
   ],
   "source": [
    "sns.displot(df['DOM'], bins = 30, rug = True)\n",
    "plt.show()"
   ]
  },
  {
   "cell_type": "markdown",
   "metadata": {},
   "source": [
    "The distribution of the days on market is right skewed with the majority of data below 100 days."
   ]
  },
  {
   "cell_type": "code",
   "execution_count": 259,
   "metadata": {},
   "outputs": [],
   "source": [
    "#importing needed libraries\n",
    "import numpy as np"
   ]
  },
  {
   "cell_type": "code",
   "execution_count": 260,
   "metadata": {},
   "outputs": [
    {
     "data": {
      "image/png": "[encoded data removed]",
      "text/plain": [
       "<Figure size 500x500 with 1 Axes>"
      ]
     },
     "metadata": {},
     "output_type": "display_data"
    }
   ],
   "source": [
    "# adding a new column to the dataframe where it is the log of DOM\n",
    "df['log_DOM'] = np.log(df['DOM'])\n",
    "\n",
    "# plotting the new column\n",
    "sns.displot(df['log_DOM'], bins = 30, rug = True)\n",
    "plt.show()"
   ]
  },
  {
   "cell_type": "markdown",
   "metadata": {},
   "source": [
    "## Regression Analysis"
   ]
  },
  {
   "cell_type": "code",
   "execution_count": 261,
   "metadata": {},
   "outputs": [],
   "source": [
    "# importing needed library\n",
    "import statsmodels.formula.api as smf"
   ]
  },
  {
   "cell_type": "markdown",
   "metadata": {},
   "source": [
    "In order to use statsmodels we need to make sure all column names don't have spaces"
   ]
  },
  {
   "cell_type": "code",
   "execution_count": 262,
   "metadata": {},
   "outputs": [
    {
     "data": {
      "text/html": [
       "<div>\n",
       "<style scoped>\n",
       "    .dataframe tbody tr th:only-of-type {\n",
       "        vertical-align: middle;\n",
       "    }\n",
       "\n",
       "    .dataframe tbody tr th {\n",
       "        vertical-align: top;\n",
       "    }\n",
       "\n",
       "    .dataframe thead th {\n",
       "        text-align: right;\n",
       "    }\n",
       "</style>\n",
       "<table border=\"1\" class=\"dataframe\">\n",
       "  <thead>\n",
       "    <tr style=\"text-align: right;\">\n",
       "      <th></th>\n",
       "      <th>Sold_Price</th>\n",
       "      <th>DOM</th>\n",
       "      <th>HOA_Fee</th>\n",
       "      <th>Quadrant</th>\n",
       "      <th>School_District</th>\n",
       "      <th>Total_Bedrooms</th>\n",
       "      <th>Total_Bathrooms</th>\n",
       "      <th>Total_Square_Feet</th>\n",
       "      <th>built_after_2000</th>\n",
       "      <th>log_DOM</th>\n",
       "    </tr>\n",
       "  </thead>\n",
       "  <tbody>\n",
       "    <tr>\n",
       "      <th>0</th>\n",
       "      <td>176000.0</td>\n",
       "      <td>5</td>\n",
       "      <td>0.0</td>\n",
       "      <td>NW</td>\n",
       "      <td>Cache</td>\n",
       "      <td>3</td>\n",
       "      <td>1</td>\n",
       "      <td>1031</td>\n",
       "      <td>0</td>\n",
       "      <td>1.609438</td>\n",
       "    </tr>\n",
       "    <tr>\n",
       "      <th>1</th>\n",
       "      <td>225000.0</td>\n",
       "      <td>6</td>\n",
       "      <td>0.0</td>\n",
       "      <td>NW</td>\n",
       "      <td>Cache</td>\n",
       "      <td>4</td>\n",
       "      <td>2</td>\n",
       "      <td>2091</td>\n",
       "      <td>0</td>\n",
       "      <td>1.791759</td>\n",
       "    </tr>\n",
       "    <tr>\n",
       "      <th>2</th>\n",
       "      <td>274900.0</td>\n",
       "      <td>14</td>\n",
       "      <td>0.0</td>\n",
       "      <td>NW</td>\n",
       "      <td>Cache</td>\n",
       "      <td>3</td>\n",
       "      <td>1</td>\n",
       "      <td>2016</td>\n",
       "      <td>0</td>\n",
       "      <td>2.639057</td>\n",
       "    </tr>\n",
       "    <tr>\n",
       "      <th>3</th>\n",
       "      <td>175000.0</td>\n",
       "      <td>16</td>\n",
       "      <td>0.0</td>\n",
       "      <td>NW</td>\n",
       "      <td>Cache</td>\n",
       "      <td>4</td>\n",
       "      <td>1</td>\n",
       "      <td>1920</td>\n",
       "      <td>0</td>\n",
       "      <td>2.772589</td>\n",
       "    </tr>\n",
       "    <tr>\n",
       "      <th>4</th>\n",
       "      <td>179000.0</td>\n",
       "      <td>29</td>\n",
       "      <td>0.0</td>\n",
       "      <td>NW</td>\n",
       "      <td>Cache</td>\n",
       "      <td>4</td>\n",
       "      <td>2</td>\n",
       "      <td>1329</td>\n",
       "      <td>0</td>\n",
       "      <td>3.367296</td>\n",
       "    </tr>\n",
       "    <tr>\n",
       "      <th>...</th>\n",
       "      <td>...</td>\n",
       "      <td>...</td>\n",
       "      <td>...</td>\n",
       "      <td>...</td>\n",
       "      <td>...</td>\n",
       "      <td>...</td>\n",
       "      <td>...</td>\n",
       "      <td>...</td>\n",
       "      <td>...</td>\n",
       "      <td>...</td>\n",
       "    </tr>\n",
       "    <tr>\n",
       "      <th>4105</th>\n",
       "      <td>1225000.0</td>\n",
       "      <td>712</td>\n",
       "      <td>0.0</td>\n",
       "      <td>SW</td>\n",
       "      <td>Cache</td>\n",
       "      <td>6</td>\n",
       "      <td>5</td>\n",
       "      <td>6546</td>\n",
       "      <td>1</td>\n",
       "      <td>6.568078</td>\n",
       "    </tr>\n",
       "    <tr>\n",
       "      <th>4106</th>\n",
       "      <td>272000.0</td>\n",
       "      <td>6</td>\n",
       "      <td>0.0</td>\n",
       "      <td>SW</td>\n",
       "      <td>Cache</td>\n",
       "      <td>5</td>\n",
       "      <td>2</td>\n",
       "      <td>2250</td>\n",
       "      <td>0</td>\n",
       "      <td>1.791759</td>\n",
       "    </tr>\n",
       "    <tr>\n",
       "      <th>4107</th>\n",
       "      <td>298000.0</td>\n",
       "      <td>40</td>\n",
       "      <td>0.0</td>\n",
       "      <td>SW</td>\n",
       "      <td>Cache</td>\n",
       "      <td>4</td>\n",
       "      <td>2</td>\n",
       "      <td>2260</td>\n",
       "      <td>0</td>\n",
       "      <td>3.688879</td>\n",
       "    </tr>\n",
       "    <tr>\n",
       "      <th>4108</th>\n",
       "      <td>215000.0</td>\n",
       "      <td>49</td>\n",
       "      <td>0.0</td>\n",
       "      <td>SW</td>\n",
       "      <td>Cache</td>\n",
       "      <td>4</td>\n",
       "      <td>2</td>\n",
       "      <td>2250</td>\n",
       "      <td>0</td>\n",
       "      <td>3.891820</td>\n",
       "    </tr>\n",
       "    <tr>\n",
       "      <th>4109</th>\n",
       "      <td>450000.0</td>\n",
       "      <td>94</td>\n",
       "      <td>0.0</td>\n",
       "      <td>SW</td>\n",
       "      <td>Cache</td>\n",
       "      <td>4</td>\n",
       "      <td>3</td>\n",
       "      <td>3136</td>\n",
       "      <td>0</td>\n",
       "      <td>4.543295</td>\n",
       "    </tr>\n",
       "  </tbody>\n",
       "</table>\n",
       "<p>4110 rows × 10 columns</p>\n",
       "</div>"
      ],
      "text/plain": [
       "      Sold_Price  DOM  HOA_Fee Quadrant School_District  Total_Bedrooms  \\\n",
       "0       176000.0    5      0.0       NW           Cache               3   \n",
       "1       225000.0    6      0.0       NW           Cache               4   \n",
       "2       274900.0   14      0.0       NW           Cache               3   \n",
       "3       175000.0   16      0.0       NW           Cache               4   \n",
       "4       179000.0   29      0.0       NW           Cache               4   \n",
       "...          ...  ...      ...      ...             ...             ...   \n",
       "4105   1225000.0  712      0.0       SW           Cache               6   \n",
       "4106    272000.0    6      0.0       SW           Cache               5   \n",
       "4107    298000.0   40      0.0       SW           Cache               4   \n",
       "4108    215000.0   49      0.0       SW           Cache               4   \n",
       "4109    450000.0   94      0.0       SW           Cache               4   \n",
       "\n",
       "      Total_Bathrooms  Total_Square_Feet built_after_2000   log_DOM  \n",
       "0                   1               1031                0  1.609438  \n",
       "1                   2               2091                0  1.791759  \n",
       "2                   1               2016                0  2.639057  \n",
       "3                   1               1920                0  2.772589  \n",
       "4                   2               1329                0  3.367296  \n",
       "...               ...                ...              ...       ...  \n",
       "4105                5               6546                1  6.568078  \n",
       "4106                2               2250                0  1.791759  \n",
       "4107                2               2260                0  3.688879  \n",
       "4108                2               2250                0  3.891820  \n",
       "4109                3               3136                0  4.543295  \n",
       "\n",
       "[4110 rows x 10 columns]"
      ]
     },
     "execution_count": 262,
     "metadata": {},
     "output_type": "execute_result"
    }
   ],
   "source": [
    "# removing spaces in column names\n",
    "df.columns = df.columns.str.replace(' ','_')\n",
    "df"
   ]
  },
  {
   "cell_type": "code",
   "execution_count": 263,
   "metadata": {},
   "outputs": [
    {
     "data": {
      "text/html": [
       "<div>\n",
       "<style scoped>\n",
       "    .dataframe tbody tr th:only-of-type {\n",
       "        vertical-align: middle;\n",
       "    }\n",
       "\n",
       "    .dataframe tbody tr th {\n",
       "        vertical-align: top;\n",
       "    }\n",
       "\n",
       "    .dataframe thead th {\n",
       "        text-align: right;\n",
       "    }\n",
       "</style>\n",
       "<table border=\"1\" class=\"dataframe\">\n",
       "  <thead>\n",
       "    <tr style=\"text-align: right;\">\n",
       "      <th></th>\n",
       "      <th>Sold_Price</th>\n",
       "      <th>DOM</th>\n",
       "      <th>HOA_Fee</th>\n",
       "      <th>Total_Bedrooms</th>\n",
       "      <th>Total_Bathrooms</th>\n",
       "      <th>Total_Square_Feet</th>\n",
       "      <th>built_after_2000</th>\n",
       "      <th>log_DOM</th>\n",
       "      <th>Quadrant_NW</th>\n",
       "      <th>Quadrant_SE</th>\n",
       "      <th>Quadrant_SW</th>\n",
       "      <th>School_District_Logan</th>\n",
       "    </tr>\n",
       "  </thead>\n",
       "  <tbody>\n",
       "    <tr>\n",
       "      <th>0</th>\n",
       "      <td>176000.0</td>\n",
       "      <td>5</td>\n",
       "      <td>0.0</td>\n",
       "      <td>3</td>\n",
       "      <td>1</td>\n",
       "      <td>1031</td>\n",
       "      <td>0</td>\n",
       "      <td>1.609438</td>\n",
       "      <td>True</td>\n",
       "      <td>False</td>\n",
       "      <td>False</td>\n",
       "      <td>False</td>\n",
       "    </tr>\n",
       "    <tr>\n",
       "      <th>1</th>\n",
       "      <td>225000.0</td>\n",
       "      <td>6</td>\n",
       "      <td>0.0</td>\n",
       "      <td>4</td>\n",
       "      <td>2</td>\n",
       "      <td>2091</td>\n",
       "      <td>0</td>\n",
       "      <td>1.791759</td>\n",
       "      <td>True</td>\n",
       "      <td>False</td>\n",
       "      <td>False</td>\n",
       "      <td>False</td>\n",
       "    </tr>\n",
       "    <tr>\n",
       "      <th>2</th>\n",
       "      <td>274900.0</td>\n",
       "      <td>14</td>\n",
       "      <td>0.0</td>\n",
       "      <td>3</td>\n",
       "      <td>1</td>\n",
       "      <td>2016</td>\n",
       "      <td>0</td>\n",
       "      <td>2.639057</td>\n",
       "      <td>True</td>\n",
       "      <td>False</td>\n",
       "      <td>False</td>\n",
       "      <td>False</td>\n",
       "    </tr>\n",
       "    <tr>\n",
       "      <th>3</th>\n",
       "      <td>175000.0</td>\n",
       "      <td>16</td>\n",
       "      <td>0.0</td>\n",
       "      <td>4</td>\n",
       "      <td>1</td>\n",
       "      <td>1920</td>\n",
       "      <td>0</td>\n",
       "      <td>2.772589</td>\n",
       "      <td>True</td>\n",
       "      <td>False</td>\n",
       "      <td>False</td>\n",
       "      <td>False</td>\n",
       "    </tr>\n",
       "    <tr>\n",
       "      <th>4</th>\n",
       "      <td>179000.0</td>\n",
       "      <td>29</td>\n",
       "      <td>0.0</td>\n",
       "      <td>4</td>\n",
       "      <td>2</td>\n",
       "      <td>1329</td>\n",
       "      <td>0</td>\n",
       "      <td>3.367296</td>\n",
       "      <td>True</td>\n",
       "      <td>False</td>\n",
       "      <td>False</td>\n",
       "      <td>False</td>\n",
       "    </tr>\n",
       "    <tr>\n",
       "      <th>...</th>\n",
       "      <td>...</td>\n",
       "      <td>...</td>\n",
       "      <td>...</td>\n",
       "      <td>...</td>\n",
       "      <td>...</td>\n",
       "      <td>...</td>\n",
       "      <td>...</td>\n",
       "      <td>...</td>\n",
       "      <td>...</td>\n",
       "      <td>...</td>\n",
       "      <td>...</td>\n",
       "      <td>...</td>\n",
       "    </tr>\n",
       "    <tr>\n",
       "      <th>4105</th>\n",
       "      <td>1225000.0</td>\n",
       "      <td>712</td>\n",
       "      <td>0.0</td>\n",
       "      <td>6</td>\n",
       "      <td>5</td>\n",
       "      <td>6546</td>\n",
       "      <td>1</td>\n",
       "      <td>6.568078</td>\n",
       "      <td>False</td>\n",
       "      <td>False</td>\n",
       "      <td>True</td>\n",
       "      <td>False</td>\n",
       "    </tr>\n",
       "    <tr>\n",
       "      <th>4106</th>\n",
       "      <td>272000.0</td>\n",
       "      <td>6</td>\n",
       "      <td>0.0</td>\n",
       "      <td>5</td>\n",
       "      <td>2</td>\n",
       "      <td>2250</td>\n",
       "      <td>0</td>\n",
       "      <td>1.791759</td>\n",
       "      <td>False</td>\n",
       "      <td>False</td>\n",
       "      <td>True</td>\n",
       "      <td>False</td>\n",
       "    </tr>\n",
       "    <tr>\n",
       "      <th>4107</th>\n",
       "      <td>298000.0</td>\n",
       "      <td>40</td>\n",
       "      <td>0.0</td>\n",
       "      <td>4</td>\n",
       "      <td>2</td>\n",
       "      <td>2260</td>\n",
       "      <td>0</td>\n",
       "      <td>3.688879</td>\n",
       "      <td>False</td>\n",
       "      <td>False</td>\n",
       "      <td>True</td>\n",
       "      <td>False</td>\n",
       "    </tr>\n",
       "    <tr>\n",
       "      <th>4108</th>\n",
       "      <td>215000.0</td>\n",
       "      <td>49</td>\n",
       "      <td>0.0</td>\n",
       "      <td>4</td>\n",
       "      <td>2</td>\n",
       "      <td>2250</td>\n",
       "      <td>0</td>\n",
       "      <td>3.891820</td>\n",
       "      <td>False</td>\n",
       "      <td>False</td>\n",
       "      <td>True</td>\n",
       "      <td>False</td>\n",
       "    </tr>\n",
       "    <tr>\n",
       "      <th>4109</th>\n",
       "      <td>450000.0</td>\n",
       "      <td>94</td>\n",
       "      <td>0.0</td>\n",
       "      <td>4</td>\n",
       "      <td>3</td>\n",
       "      <td>3136</td>\n",
       "      <td>0</td>\n",
       "      <td>4.543295</td>\n",
       "      <td>False</td>\n",
       "      <td>False</td>\n",
       "      <td>True</td>\n",
       "      <td>False</td>\n",
       "    </tr>\n",
       "  </tbody>\n",
       "</table>\n",
       "<p>4110 rows × 12 columns</p>\n",
       "</div>"
      ],
      "text/plain": [
       "      Sold_Price  DOM  HOA_Fee  Total_Bedrooms  Total_Bathrooms  \\\n",
       "0       176000.0    5      0.0               3                1   \n",
       "1       225000.0    6      0.0               4                2   \n",
       "2       274900.0   14      0.0               3                1   \n",
       "3       175000.0   16      0.0               4                1   \n",
       "4       179000.0   29      0.0               4                2   \n",
       "...          ...  ...      ...             ...              ...   \n",
       "4105   1225000.0  712      0.0               6                5   \n",
       "4106    272000.0    6      0.0               5                2   \n",
       "4107    298000.0   40      0.0               4                2   \n",
       "4108    215000.0   49      0.0               4                2   \n",
       "4109    450000.0   94      0.0               4                3   \n",
       "\n",
       "      Total_Square_Feet built_after_2000   log_DOM  Quadrant_NW  Quadrant_SE  \\\n",
       "0                  1031                0  1.609438         True        False   \n",
       "1                  2091                0  1.791759         True        False   \n",
       "2                  2016                0  2.639057         True        False   \n",
       "3                  1920                0  2.772589         True        False   \n",
       "4                  1329                0  3.367296         True        False   \n",
       "...                 ...              ...       ...          ...          ...   \n",
       "4105               6546                1  6.568078        False        False   \n",
       "4106               2250                0  1.791759        False        False   \n",
       "4107               2260                0  3.688879        False        False   \n",
       "4108               2250                0  3.891820        False        False   \n",
       "4109               3136                0  4.543295        False        False   \n",
       "\n",
       "      Quadrant_SW  School_District_Logan  \n",
       "0           False                  False  \n",
       "1           False                  False  \n",
       "2           False                  False  \n",
       "3           False                  False  \n",
       "4           False                  False  \n",
       "...           ...                    ...  \n",
       "4105         True                  False  \n",
       "4106         True                  False  \n",
       "4107         True                  False  \n",
       "4108         True                  False  \n",
       "4109         True                  False  \n",
       "\n",
       "[4110 rows x 12 columns]"
      ]
     },
     "execution_count": 263,
     "metadata": {},
     "output_type": "execute_result"
    }
   ],
   "source": [
    "df = pd.get_dummies(data=df, columns=['Quadrant','School_District'], drop_first=True)\n",
    "df"
   ]
  },
  {
   "cell_type": "code",
   "execution_count": 264,
   "metadata": {},
   "outputs": [],
   "source": [
    "reg1 = smf.ols(formula='DOM ~ Sold_Price + HOA_Fee + Total_Bedrooms + Total_Bathrooms + Total_Square_Feet + built_after_2000 + Quadrant_NW + Quadrant_SE + Quadrant_SW + School_District_Logan', data=df).fit()\n",
    "reg2 = smf.ols(formula='log_DOM ~ Sold_Price + HOA_Fee + Total_Bedrooms + Total_Bathrooms + Total_Square_Feet + built_after_2000 + Quadrant_NW + Quadrant_SE + Quadrant_SW + School_District_Logan', data=df).fit()"
   ]
  },
  {
   "cell_type": "code",
   "execution_count": 265,
   "metadata": {},
   "outputs": [
    {
     "name": "stdout",
     "output_type": "stream",
     "text": [
      "                            OLS Regression Results                            \n",
      "==============================================================================\n",
      "Dep. Variable:                    DOM   R-squared:                       0.104\n",
      "Model:                            OLS   Adj. R-squared:                  0.102\n",
      "Method:                 Least Squares   F-statistic:                     47.45\n",
      "Date:                Mon, 29 Jan 2024   Prob (F-statistic):           2.73e-90\n",
      "Time:                        19:42:24   Log-Likelihood:                -21812.\n",
      "No. Observations:                4110   AIC:                         4.365e+04\n",
      "Df Residuals:                    4099   BIC:                         4.372e+04\n",
      "Df Model:                          10                                         \n",
      "Covariance Type:            nonrobust                                         \n",
      "=================================================================================================\n",
      "                                    coef    std err          t      P>|t|      [0.025      0.975]\n",
      "-------------------------------------------------------------------------------------------------\n",
      "Intercept                        17.4482      3.664      4.762      0.000      10.264      24.632\n",
      "built_after_2000[T.1]             4.9188      1.824      2.696      0.007       1.342       8.496\n",
      "Quadrant_NW[T.True]              -1.3290      2.334     -0.569      0.569      -5.905       3.247\n",
      "Quadrant_SE[T.True]              -4.0166      2.148     -1.870      0.062      -8.228       0.195\n",
      "Quadrant_SW[T.True]              -4.2135      2.151     -1.959      0.050      -8.430       0.003\n",
      "School_District_Logan[T.True]    -6.4084      1.834     -3.494      0.000     -10.004      -2.813\n",
      "Sold_Price                    -1.894e-05   1.23e-05     -1.540      0.124   -4.31e-05    5.18e-06\n",
      "HOA_Fee                           0.0586      0.012      4.780      0.000       0.035       0.083\n",
      "Total_Bedrooms                   -4.6591      0.923     -5.048      0.000      -6.468      -2.850\n",
      "Total_Bathrooms                   1.2421      1.285      0.967      0.334      -1.277       3.761\n",
      "Total_Square_Feet                 0.0181      0.002     11.644      0.000       0.015       0.021\n",
      "==============================================================================\n",
      "Omnibus:                     2550.291   Durbin-Watson:                   0.386\n",
      "Prob(Omnibus):                  0.000   Jarque-Bera (JB):            41181.563\n",
      "Skew:                           2.684   Prob(JB):                         0.00\n",
      "Kurtosis:                      17.549   Cond. No.                     1.66e+06\n",
      "==============================================================================\n",
      "\n",
      "Notes:\n",
      "[1] Standard Errors assume that the covariance matrix of the errors is correctly specified.\n",
      "[2] The condition number is large, 1.66e+06. This might indicate that there are\n",
      "strong multicollinearity or other numerical problems.\n"
     ]
    }
   ],
   "source": [
    "print(reg1.summary())"
   ]
  },
  {
   "cell_type": "markdown",
   "metadata": {},
   "source": [
    "It would appear the southwest quadrant is selling fastest. This is because it has the smallest coef. If the HOA Fee goes up by $100 it would increase the DOM by 5.86%"
   ]
  },
  {
   "cell_type": "code",
   "execution_count": 266,
   "metadata": {},
   "outputs": [
    {
     "name": "stdout",
     "output_type": "stream",
     "text": [
      "                            OLS Regression Results                            \n",
      "==============================================================================\n",
      "Dep. Variable:                log_DOM   R-squared:                       0.095\n",
      "Model:                            OLS   Adj. R-squared:                  0.093\n",
      "Method:                 Least Squares   F-statistic:                     43.11\n",
      "Date:                Mon, 29 Jan 2024   Prob (F-statistic):           6.17e-82\n",
      "Time:                        19:42:25   Log-Likelihood:                -6944.5\n",
      "No. Observations:                4110   AIC:                         1.391e+04\n",
      "Df Residuals:                    4099   BIC:                         1.398e+04\n",
      "Df Model:                          10                                         \n",
      "Covariance Type:            nonrobust                                         \n",
      "=================================================================================================\n",
      "                                    coef    std err          t      P>|t|      [0.025      0.975]\n",
      "-------------------------------------------------------------------------------------------------\n",
      "Intercept                         2.1937      0.098     22.294      0.000       2.001       2.387\n",
      "built_after_2000[T.1]             0.2310      0.049      4.715      0.000       0.135       0.327\n",
      "Quadrant_NW[T.True]              -0.0076      0.063     -0.121      0.904      -0.130       0.115\n",
      "Quadrant_SE[T.True]              -0.0176      0.058     -0.305      0.760      -0.131       0.095\n",
      "Quadrant_SW[T.True]              -0.0928      0.058     -1.606      0.108      -0.206       0.020\n",
      "School_District_Logan[T.True]    -0.1889      0.049     -3.836      0.000      -0.285      -0.092\n",
      "Sold_Price                    -1.737e-06    3.3e-07     -5.259      0.000   -2.38e-06   -1.09e-06\n",
      "HOA_Fee                           0.0013      0.000      3.823      0.000       0.001       0.002\n",
      "Total_Bedrooms                   -0.0388      0.025     -1.564      0.118      -0.087       0.010\n",
      "Total_Bathrooms                   0.0563      0.035      1.630      0.103      -0.011       0.124\n",
      "Total_Square_Feet                 0.0005   4.18e-05     11.610      0.000       0.000       0.001\n",
      "==============================================================================\n",
      "Omnibus:                      298.242   Durbin-Watson:                   0.206\n",
      "Prob(Omnibus):                  0.000   Jarque-Bera (JB):              131.352\n",
      "Skew:                          -0.233   Prob(JB):                     3.00e-29\n",
      "Kurtosis:                       2.259   Cond. No.                     1.66e+06\n",
      "==============================================================================\n",
      "\n",
      "Notes:\n",
      "[1] Standard Errors assume that the covariance matrix of the errors is correctly specified.\n",
      "[2] The condition number is large, 1.66e+06. This might indicate that there are\n",
      "strong multicollinearity or other numerical problems.\n"
     ]
    }
   ],
   "source": [
    "print(reg2.summary())"
   ]
  },
  {
   "cell_type": "markdown",
   "metadata": {},
   "source": [
    "The number of bedrooms has a negative impact on the DOM. This means that the more bedrooms the house has the fewer number of days on the market it will be. "
   ]
  },
  {
   "cell_type": "code",
   "execution_count": 267,
   "metadata": {},
   "outputs": [],
   "source": [
    "from statsmodels.tools import eval_measures"
   ]
  },
  {
   "cell_type": "code",
   "execution_count": 268,
   "metadata": {},
   "outputs": [
    {
     "data": {
      "text/plain": [
       "array([  5,   6,  14,  16,  29, 130, 463,  37,  38, 115])"
      ]
     },
     "execution_count": 268,
     "metadata": {},
     "output_type": "execute_result"
    }
   ],
   "source": [
    "predictions = reg1.predict()\n",
    "actuals = df.DOM\n",
    "np.array(actuals[0:10])"
   ]
  },
  {
   "cell_type": "code",
   "execution_count": 269,
   "metadata": {},
   "outputs": [
    {
     "data": {
      "text/plain": [
       "array([-13.72535139, -27.58020193, -20.69364712, -14.18777889,\n",
       "         8.35076871,  93.7061996 , 378.01361893, -37.25234957,\n",
       "       -27.2405666 , 100.81956813])"
      ]
     },
     "execution_count": 269,
     "metadata": {},
     "output_type": "execute_result"
    }
   ],
   "source": [
    "np.array(reg1.resid[0:10])"
   ]
  },
  {
   "cell_type": "markdown",
   "metadata": {},
   "source": [
    "#### MEAN ABSOLUTE ERROR"
   ]
  },
  {
   "cell_type": "code",
   "execution_count": 270,
   "metadata": {},
   "outputs": [
    {
     "data": {
      "text/plain": [
       "33.5698461414534"
      ]
     },
     "execution_count": 270,
     "metadata": {},
     "output_type": "execute_result"
    }
   ],
   "source": [
    "eval_measures.meanabs(actuals, predictions)"
   ]
  },
  {
   "cell_type": "markdown",
   "metadata": {},
   "source": [
    "This is saying the average error is 33 days."
   ]
  },
  {
   "cell_type": "markdown",
   "metadata": {},
   "source": [
    "#### MEAN SQUARED ERROR"
   ]
  },
  {
   "cell_type": "code",
   "execution_count": 271,
   "metadata": {},
   "outputs": [
    {
     "data": {
      "text/plain": [
       "25.661473640590565"
      ]
     },
     "execution_count": 271,
     "metadata": {},
     "output_type": "execute_result"
    }
   ],
   "source": [
    "eval_measures.medianabs(actuals, predictions)"
   ]
  },
  {
   "cell_type": "markdown",
   "metadata": {},
   "source": [
    "#### ROOT MEAN SQUARED ERROR"
   ]
  },
  {
   "cell_type": "code",
   "execution_count": 272,
   "metadata": {},
   "outputs": [
    {
     "data": {
      "text/plain": [
       "48.817291654632"
      ]
     },
     "execution_count": 272,
     "metadata": {},
     "output_type": "execute_result"
    }
   ],
   "source": [
    "eval_measures.rmse(actuals, predictions)"
   ]
  },
  {
   "cell_type": "markdown",
   "metadata": {},
   "source": [
    "#### ROOT MEAN SQUARED PERCENTAGE ERROR"
   ]
  },
  {
   "cell_type": "code",
   "execution_count": 273,
   "metadata": {},
   "outputs": [
    {
     "data": {
      "text/plain": [
       "83.16233955286049"
      ]
     },
     "execution_count": 273,
     "metadata": {},
     "output_type": "execute_result"
    }
   ],
   "source": [
    "eval_measures.rmspe(actuals, predictions)"
   ]
  },
  {
   "cell_type": "markdown",
   "metadata": {},
   "source": [
    "This means that the errors are 8316% off which can't be right. "
   ]
  },
  {
   "cell_type": "code",
   "execution_count": 274,
   "metadata": {},
   "outputs": [
    {
     "data": {
      "text/plain": [
       "8.31623395528605"
      ]
     },
     "execution_count": 274,
     "metadata": {},
     "output_type": "execute_result"
    }
   ],
   "source": [
    "np.sqrt(np.mean(((actuals-predictions)/actuals)**2))"
   ]
  },
  {
   "cell_type": "markdown",
   "metadata": {},
   "source": [
    "By doing the formula our selves the number is changed to 831.6%. This is still a large number indicating the model is not performing well. You can interpret the RMSPE as an average percentage error we can expect to get from the model. For context the days on the market could 800+ percent off the actual based on the current model. "
   ]
  },
  {
   "cell_type": "markdown",
   "metadata": {},
   "source": [
    "The MAE and RMSE are in daily units. This is showing the average number of days on the market that we are off in our predictions "
   ]
  },
  {
   "cell_type": "markdown",
   "metadata": {},
   "source": []
  }
 ],
 "metadata": {
  "kernelspec": {
   "display_name": "Python 3",
   "language": "python",
   "name": "python3"
  },
  "language_info": {
   "codemirror_mode": {
    "name": "ipython",
    "version": 3
   },
   "file_extension": ".py",
   "mimetype": "text/x-python",
   "name": "python",
   "nbconvert_exporter": "python",
   "pygments_lexer": "ipython3",
   "version": "3.12.0"
  }
 },
 "nbformat": 4,
 "nbformat_minor": 2
}
